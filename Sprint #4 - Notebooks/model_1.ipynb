{
  "nbformat": 4,
  "nbformat_minor": 0,
  "metadata": {
    "colab": {
      "name": "model 1.ipynb",
      "provenance": []
    },
    "kernelspec": {
      "name": "python3",
      "display_name": "Python 3"
    },
    "language_info": {
      "name": "python"
    }
  },
  "cells": [
    {
      "cell_type": "code",
      "metadata": {
        "id": "J2qz0UPiTOAS"
      },
      "source": [
        "import pandas as pd\n",
        "import numpy as np\n",
        "from sklearn.linear_model import LinearRegression\n",
        "from sklearn.model_selection import train_test_split"
      ],
      "execution_count": null,
      "outputs": []
    },
    {
      "cell_type": "code",
      "metadata": {
        "colab": {
          "base_uri": "https://localhost:8080/"
        },
        "id": "6XpB3CW8ZW1h",
        "outputId": "4644994b-d74f-479a-9caa-eb9bf537f3fe"
      },
      "source": [
        "df=pd.read_csv(\"company_data.csv\")\n",
        "df.columns"
      ],
      "execution_count": null,
      "outputs": [
        {
          "output_type": "execute_result",
          "data": {
            "text/plain": [
              "Index(['Year', 'Ticker', 'Environmental Disclosure Score', 'GHG Scope 1',\n",
              "       'Total Energy Consumption', 'Change_in_EDS', 'Change_in_GHG',\n",
              "       'Change_in_TEC', 'Ratio of GHG Emissions to Total Assets',\n",
              "       'Ratio of GHG Emissions to Total Sales',\n",
              "       'Ratio of Total Energy Consumption to Total Assets',\n",
              "       'Ratio of Total Energy Consumption to Total Sales', 'cusip', 'Company',\n",
              "       'Total_Assets', 'Net_Income', 'Total_Sales', 'cik', 'Change_in_Sales',\n",
              "       'Change_in_Assets', 'Change_in_NI', 'ROA', 'Profit_Margin',\n",
              "       'Annual Return', 'Logarithm_Total_Assets', 'Logarithm_Total_Sales',\n",
              "       'Profitable'],\n",
              "      dtype='object')"
            ]
          },
          "metadata": {
            "tags": []
          },
          "execution_count": 3
        }
      ]
    },
    {
      "cell_type": "code",
      "metadata": {
        "colab": {
          "base_uri": "https://localhost:8080/",
          "height": 509
        },
        "id": "LCNNdFSic5jc",
        "outputId": "d35b3e98-e11e-43c2-e258-cbf00280baae"
      },
      "source": [
        "df[['GHG Scope 1','Total_Assets','Total_Sales']].head(15)"
      ],
      "execution_count": null,
      "outputs": [
        {
          "output_type": "execute_result",
          "data": {
            "text/html": [
              "<div>\n",
              "<style scoped>\n",
              "    .dataframe tbody tr th:only-of-type {\n",
              "        vertical-align: middle;\n",
              "    }\n",
              "\n",
              "    .dataframe tbody tr th {\n",
              "        vertical-align: top;\n",
              "    }\n",
              "\n",
              "    .dataframe thead th {\n",
              "        text-align: right;\n",
              "    }\n",
              "</style>\n",
              "<table border=\"1\" class=\"dataframe\">\n",
              "  <thead>\n",
              "    <tr style=\"text-align: right;\">\n",
              "      <th></th>\n",
              "      <th>GHG Scope 1</th>\n",
              "      <th>Total_Assets</th>\n",
              "      <th>Total_Sales</th>\n",
              "    </tr>\n",
              "  </thead>\n",
              "  <tbody>\n",
              "    <tr>\n",
              "      <th>0</th>\n",
              "      <td>NaN</td>\n",
              "      <td>18162.0</td>\n",
              "      <td>6780.0</td>\n",
              "    </tr>\n",
              "    <tr>\n",
              "      <th>1</th>\n",
              "      <td>NaN</td>\n",
              "      <td>19578.0</td>\n",
              "      <td>6880.0</td>\n",
              "    </tr>\n",
              "    <tr>\n",
              "      <th>2</th>\n",
              "      <td>NaN</td>\n",
              "      <td>20728.0</td>\n",
              "      <td>7546.0</td>\n",
              "    </tr>\n",
              "    <tr>\n",
              "      <th>3</th>\n",
              "      <td>NaN</td>\n",
              "      <td>22657.0</td>\n",
              "      <td>7839.0</td>\n",
              "    </tr>\n",
              "    <tr>\n",
              "      <th>4</th>\n",
              "      <td>NaN</td>\n",
              "      <td>23790.0</td>\n",
              "      <td>7090.0</td>\n",
              "    </tr>\n",
              "    <tr>\n",
              "      <th>5</th>\n",
              "      <td>NaN</td>\n",
              "      <td>23515.0</td>\n",
              "      <td>7638.0</td>\n",
              "    </tr>\n",
              "    <tr>\n",
              "      <th>6</th>\n",
              "      <td>NaN</td>\n",
              "      <td>23645.0</td>\n",
              "      <td>7531.0</td>\n",
              "    </tr>\n",
              "    <tr>\n",
              "      <th>7</th>\n",
              "      <td>NaN</td>\n",
              "      <td>21835.0</td>\n",
              "      <td>6828.0</td>\n",
              "    </tr>\n",
              "    <tr>\n",
              "      <th>8</th>\n",
              "      <td>32978.0</td>\n",
              "      <td>21042.0</td>\n",
              "      <td>5838.0</td>\n",
              "    </tr>\n",
              "    <tr>\n",
              "      <th>9</th>\n",
              "      <td>30675.0</td>\n",
              "      <td>22676.0</td>\n",
              "      <td>6053.0</td>\n",
              "    </tr>\n",
              "    <tr>\n",
              "      <th>10</th>\n",
              "      <td>28548.2</td>\n",
              "      <td>23640.0</td>\n",
              "      <td>6098.0</td>\n",
              "    </tr>\n",
              "    <tr>\n",
              "      <th>11</th>\n",
              "      <td>26795.6</td>\n",
              "      <td>24699.0</td>\n",
              "      <td>6076.0</td>\n",
              "    </tr>\n",
              "    <tr>\n",
              "      <th>12</th>\n",
              "      <td>30200.4</td>\n",
              "      <td>25945.0</td>\n",
              "      <td>6177.0</td>\n",
              "    </tr>\n",
              "    <tr>\n",
              "      <th>13</th>\n",
              "      <td>29588.0</td>\n",
              "      <td>27215.0</td>\n",
              "      <td>6291.0</td>\n",
              "    </tr>\n",
              "    <tr>\n",
              "      <th>14</th>\n",
              "      <td>24413.7</td>\n",
              "      <td>28933.0</td>\n",
              "      <td>5910.0</td>\n",
              "    </tr>\n",
              "  </tbody>\n",
              "</table>\n",
              "</div>"
            ],
            "text/plain": [
              "    GHG Scope 1  Total_Assets  Total_Sales\n",
              "0           NaN       18162.0       6780.0\n",
              "1           NaN       19578.0       6880.0\n",
              "2           NaN       20728.0       7546.0\n",
              "3           NaN       22657.0       7839.0\n",
              "4           NaN       23790.0       7090.0\n",
              "5           NaN       23515.0       7638.0\n",
              "6           NaN       23645.0       7531.0\n",
              "7           NaN       21835.0       6828.0\n",
              "8       32978.0       21042.0       5838.0\n",
              "9       30675.0       22676.0       6053.0\n",
              "10      28548.2       23640.0       6098.0\n",
              "11      26795.6       24699.0       6076.0\n",
              "12      30200.4       25945.0       6177.0\n",
              "13      29588.0       27215.0       6291.0\n",
              "14      24413.7       28933.0       5910.0"
            ]
          },
          "metadata": {
            "tags": []
          },
          "execution_count": 4
        }
      ]
    },
    {
      "cell_type": "code",
      "metadata": {
        "id": "xwVmIqfAaQC4"
      },
      "source": [
        "da=df[['GHG Scope 1','Total_Assets','Total_Sales']]"
      ],
      "execution_count": null,
      "outputs": []
    },
    {
      "cell_type": "code",
      "metadata": {
        "colab": {
          "base_uri": "https://localhost:8080/",
          "height": 415
        },
        "id": "jlC_zRkDc-_n",
        "outputId": "258f5769-c496-4be3-a768-b53b17952271"
      },
      "source": [
        "dn=da.dropna()\n",
        "dn"
      ],
      "execution_count": null,
      "outputs": [
        {
          "output_type": "execute_result",
          "data": {
            "text/html": [
              "<div>\n",
              "<style scoped>\n",
              "    .dataframe tbody tr th:only-of-type {\n",
              "        vertical-align: middle;\n",
              "    }\n",
              "\n",
              "    .dataframe tbody tr th {\n",
              "        vertical-align: top;\n",
              "    }\n",
              "\n",
              "    .dataframe thead th {\n",
              "        text-align: right;\n",
              "    }\n",
              "</style>\n",
              "<table border=\"1\" class=\"dataframe\">\n",
              "  <thead>\n",
              "    <tr style=\"text-align: right;\">\n",
              "      <th></th>\n",
              "      <th>GHG Scope 1</th>\n",
              "      <th>Total_Assets</th>\n",
              "      <th>Total_Sales</th>\n",
              "    </tr>\n",
              "  </thead>\n",
              "  <tbody>\n",
              "    <tr>\n",
              "      <th>8</th>\n",
              "      <td>32978.0</td>\n",
              "      <td>21042.0</td>\n",
              "      <td>5838.0</td>\n",
              "    </tr>\n",
              "    <tr>\n",
              "      <th>9</th>\n",
              "      <td>30675.0</td>\n",
              "      <td>22676.0</td>\n",
              "      <td>6053.0</td>\n",
              "    </tr>\n",
              "    <tr>\n",
              "      <th>10</th>\n",
              "      <td>28548.2</td>\n",
              "      <td>23640.0</td>\n",
              "      <td>6098.0</td>\n",
              "    </tr>\n",
              "    <tr>\n",
              "      <th>11</th>\n",
              "      <td>26795.6</td>\n",
              "      <td>24699.0</td>\n",
              "      <td>6076.0</td>\n",
              "    </tr>\n",
              "    <tr>\n",
              "      <th>12</th>\n",
              "      <td>30200.4</td>\n",
              "      <td>25945.0</td>\n",
              "      <td>6177.0</td>\n",
              "    </tr>\n",
              "    <tr>\n",
              "      <th>...</th>\n",
              "      <td>...</td>\n",
              "      <td>...</td>\n",
              "      <td>...</td>\n",
              "    </tr>\n",
              "    <tr>\n",
              "      <th>775</th>\n",
              "      <td>118000.0</td>\n",
              "      <td>336758.0</td>\n",
              "      <td>236810.0</td>\n",
              "    </tr>\n",
              "    <tr>\n",
              "      <th>776</th>\n",
              "      <td>120000.0</td>\n",
              "      <td>330314.0</td>\n",
              "      <td>197518.0</td>\n",
              "    </tr>\n",
              "    <tr>\n",
              "      <th>777</th>\n",
              "      <td>117000.0</td>\n",
              "      <td>348691.0</td>\n",
              "      <td>237162.0</td>\n",
              "    </tr>\n",
              "    <tr>\n",
              "      <th>778</th>\n",
              "      <td>119000.0</td>\n",
              "      <td>346196.0</td>\n",
              "      <td>279332.0</td>\n",
              "    </tr>\n",
              "    <tr>\n",
              "      <th>779</th>\n",
              "      <td>114000.0</td>\n",
              "      <td>362597.0</td>\n",
              "      <td>255583.0</td>\n",
              "    </tr>\n",
              "  </tbody>\n",
              "</table>\n",
              "<p>398 rows × 3 columns</p>\n",
              "</div>"
            ],
            "text/plain": [
              "     GHG Scope 1  Total_Assets  Total_Sales\n",
              "8        32978.0       21042.0       5838.0\n",
              "9        30675.0       22676.0       6053.0\n",
              "10       28548.2       23640.0       6098.0\n",
              "11       26795.6       24699.0       6076.0\n",
              "12       30200.4       25945.0       6177.0\n",
              "..           ...           ...          ...\n",
              "775     118000.0      336758.0     236810.0\n",
              "776     120000.0      330314.0     197518.0\n",
              "777     117000.0      348691.0     237162.0\n",
              "778     119000.0      346196.0     279332.0\n",
              "779     114000.0      362597.0     255583.0\n",
              "\n",
              "[398 rows x 3 columns]"
            ]
          },
          "metadata": {
            "tags": []
          },
          "execution_count": 6
        }
      ]
    },
    {
      "cell_type": "code",
      "metadata": {
        "id": "bca7cLlTdsez"
      },
      "source": [
        "X = dn.iloc[:, 1:3].values\n",
        "y = dn.iloc[:, 0].values\n",
        "\n"
      ],
      "execution_count": null,
      "outputs": []
    },
    {
      "cell_type": "code",
      "metadata": {
        "id": "Wx42_2lbsrS0"
      },
      "source": [
        "X_train, X_test, y_train, y_test = train_test_split(X, y, test_size=0.2, random_state=42)"
      ],
      "execution_count": null,
      "outputs": []
    },
    {
      "cell_type": "code",
      "metadata": {
        "id": "a0SeWXKnGNij"
      },
      "source": [
        "regressor = LinearRegression()\n",
        "regressor.fit(X_train, y_train)"
      ],
      "execution_count": null,
      "outputs": []
    },
    {
      "cell_type": "code",
      "metadata": {
        "colab": {
          "base_uri": "https://localhost:8080/",
          "height": 201
        },
        "id": "e8kbrOozHLwu",
        "outputId": "e3341bbe-aede-44b3-a586-582e5a4cd991"
      },
      "source": [
        "print(regressor.intercept_)\n",
        "print(coeff_df = pd.DataFrame(regressor.coef_, X.columns, columns=['Coefficient']))\n"
      ],
      "execution_count": null,
      "outputs": [
        {
          "output_type": "stream",
          "text": [
            "8051.399968329079\n"
          ],
          "name": "stdout"
        },
        {
          "output_type": "error",
          "ename": "AttributeError",
          "evalue": "ignored",
          "traceback": [
            "\u001b[0;31m---------------------------------------------------------------------------\u001b[0m",
            "\u001b[0;31mAttributeError\u001b[0m                            Traceback (most recent call last)",
            "\u001b[0;32m<ipython-input-17-c5beb5dc2ca9>\u001b[0m in \u001b[0;36m<module>\u001b[0;34m()\u001b[0m\n\u001b[1;32m      1\u001b[0m \u001b[0mprint\u001b[0m\u001b[0;34m(\u001b[0m\u001b[0mregressor\u001b[0m\u001b[0;34m.\u001b[0m\u001b[0mintercept_\u001b[0m\u001b[0;34m)\u001b[0m\u001b[0;34m\u001b[0m\u001b[0;34m\u001b[0m\u001b[0m\n\u001b[0;32m----> 2\u001b[0;31m \u001b[0mprint\u001b[0m\u001b[0;34m(\u001b[0m\u001b[0mcoeff_df\u001b[0m \u001b[0;34m=\u001b[0m \u001b[0mpd\u001b[0m\u001b[0;34m.\u001b[0m\u001b[0mDataFrame\u001b[0m\u001b[0;34m(\u001b[0m\u001b[0mregressor\u001b[0m\u001b[0;34m.\u001b[0m\u001b[0mcoef_\u001b[0m\u001b[0;34m,\u001b[0m \u001b[0mX\u001b[0m\u001b[0;34m.\u001b[0m\u001b[0mcolumns\u001b[0m\u001b[0;34m,\u001b[0m \u001b[0mcolumns\u001b[0m\u001b[0;34m=\u001b[0m\u001b[0;34m[\u001b[0m\u001b[0;34m'Coefficient'\u001b[0m\u001b[0;34m]\u001b[0m\u001b[0;34m)\u001b[0m\u001b[0;34m)\u001b[0m\u001b[0;34m\u001b[0m\u001b[0;34m\u001b[0m\u001b[0m\n\u001b[0m",
            "\u001b[0;31mAttributeError\u001b[0m: 'numpy.ndarray' object has no attribute 'columns'"
          ]
        }
      ]
    },
    {
      "cell_type": "code",
      "metadata": {
        "colab": {
          "base_uri": "https://localhost:8080/",
          "height": 415
        },
        "id": "2xH0qzXjHWHX",
        "outputId": "bc995d26-7712-49a4-f67e-8c6d363e3896"
      },
      "source": [
        "y_pred = regressor.predict(X_test)\n",
        "df = pd.DataFrame({'Actual': y_test, 'Predicted': y_pred})\n",
        "df"
      ],
      "execution_count": null,
      "outputs": [
        {
          "output_type": "execute_result",
          "data": {
            "text/html": [
              "<div>\n",
              "<style scoped>\n",
              "    .dataframe tbody tr th:only-of-type {\n",
              "        vertical-align: middle;\n",
              "    }\n",
              "\n",
              "    .dataframe tbody tr th {\n",
              "        vertical-align: top;\n",
              "    }\n",
              "\n",
              "    .dataframe thead th {\n",
              "        text-align: right;\n",
              "    }\n",
              "</style>\n",
              "<table border=\"1\" class=\"dataframe\">\n",
              "  <thead>\n",
              "    <tr style=\"text-align: right;\">\n",
              "      <th></th>\n",
              "      <th>Actual</th>\n",
              "      <th>Predicted</th>\n",
              "    </tr>\n",
              "  </thead>\n",
              "  <tbody>\n",
              "    <tr>\n",
              "      <th>0</th>\n",
              "      <td>3577.3</td>\n",
              "      <td>15212.450226</td>\n",
              "    </tr>\n",
              "    <tr>\n",
              "      <th>1</th>\n",
              "      <td>119000.0</td>\n",
              "      <td>129202.217025</td>\n",
              "    </tr>\n",
              "    <tr>\n",
              "      <th>2</th>\n",
              "      <td>3410.0</td>\n",
              "      <td>15292.058240</td>\n",
              "    </tr>\n",
              "    <tr>\n",
              "      <th>3</th>\n",
              "      <td>14296.5</td>\n",
              "      <td>13591.750163</td>\n",
              "    </tr>\n",
              "    <tr>\n",
              "      <th>4</th>\n",
              "      <td>32000.0</td>\n",
              "      <td>18793.153300</td>\n",
              "    </tr>\n",
              "    <tr>\n",
              "      <th>...</th>\n",
              "      <td>...</td>\n",
              "      <td>...</td>\n",
              "    </tr>\n",
              "    <tr>\n",
              "      <th>75</th>\n",
              "      <td>19503.9</td>\n",
              "      <td>16332.792194</td>\n",
              "    </tr>\n",
              "    <tr>\n",
              "      <th>76</th>\n",
              "      <td>3200.0</td>\n",
              "      <td>18700.183593</td>\n",
              "    </tr>\n",
              "    <tr>\n",
              "      <th>77</th>\n",
              "      <td>31207.0</td>\n",
              "      <td>17774.777860</td>\n",
              "    </tr>\n",
              "    <tr>\n",
              "      <th>78</th>\n",
              "      <td>42354.9</td>\n",
              "      <td>22217.844498</td>\n",
              "    </tr>\n",
              "    <tr>\n",
              "      <th>79</th>\n",
              "      <td>12200.0</td>\n",
              "      <td>28305.493504</td>\n",
              "    </tr>\n",
              "  </tbody>\n",
              "</table>\n",
              "<p>80 rows × 2 columns</p>\n",
              "</div>"
            ],
            "text/plain": [
              "      Actual      Predicted\n",
              "0     3577.3   15212.450226\n",
              "1   119000.0  129202.217025\n",
              "2     3410.0   15292.058240\n",
              "3    14296.5   13591.750163\n",
              "4    32000.0   18793.153300\n",
              "..       ...            ...\n",
              "75   19503.9   16332.792194\n",
              "76    3200.0   18700.183593\n",
              "77   31207.0   17774.777860\n",
              "78   42354.9   22217.844498\n",
              "79   12200.0   28305.493504\n",
              "\n",
              "[80 rows x 2 columns]"
            ]
          },
          "metadata": {
            "tags": []
          },
          "execution_count": 14
        }
      ]
    },
    {
      "cell_type": "code",
      "metadata": {
        "colab": {
          "base_uri": "https://localhost:8080/"
        },
        "id": "LQ6AzDEGKDBl",
        "outputId": "c3f7552f-29d0-4138-b83b-742cbc8e7982"
      },
      "source": [
        "from sklearn import metrics\n",
        "print('Mean Absolute Error:', metrics.mean_absolute_error(y_test, y_pred))\n",
        "print('Mean Squared Error:', metrics.mean_squared_error(y_test, y_pred))\n",
        "print('Root Mean Squared Error:', np.sqrt(metrics.mean_squared_error(y_test, y_pred)))"
      ],
      "execution_count": null,
      "outputs": [
        {
          "output_type": "stream",
          "text": [
            "Mean Absolute Error: 18676.830253094093\n",
            "Mean Squared Error: 596373921.626923\n",
            "Root Mean Squared Error: 24420.76824399517\n"
          ],
          "name": "stdout"
        }
      ]
    },
    {
      "cell_type": "code",
      "metadata": {
        "colab": {
          "base_uri": "https://localhost:8080/"
        },
        "id": "2-ZcnvyxKtgE",
        "outputId": "d1264dec-88bf-43a8-a259-e5e7528f6292"
      },
      "source": [
        "r2 = regressor.score(X_train, y_train)\n",
        "print('R^2: {0}'.format(r2))"
      ],
      "execution_count": null,
      "outputs": [
        {
          "output_type": "stream",
          "text": [
            "R^2: 0.43150016760444276\n"
          ],
          "name": "stdout"
        }
      ]
    }
  ]
}