{
  "nbformat": 4,
  "nbformat_minor": 5,
  "metadata": {
    "kernelspec": {
      "display_name": "Python 3",
      "language": "python",
      "name": "python3"
    },
    "language_info": {
      "codemirror_mode": {
        "name": "ipython",
        "version": 3
      },
      "file_extension": ".py",
      "mimetype": "text/x-python",
      "name": "python",
      "nbconvert_exporter": "python",
      "pygments_lexer": "ipython3",
      "version": "3.8.8"
    },
    "colab": {
      "name": "Sprint4_Model Evaluation.ipynb",
      "provenance": []
    }
  },
  "cells": [
    {
      "cell_type": "markdown",
      "metadata": {
        "id": "referenced-gabriel"
      },
      "source": [
        "# Sprint 4 - Model evaluation for Missing GHG values\n",
        "\n",
        "In this notebook, we present the four predictive models we worked on. The goal of these models is to populate missing GHG values in our dataset. "
      ],
      "id": "referenced-gabriel"
    },
    {
      "cell_type": "markdown",
      "metadata": {
        "id": "metric-country"
      },
      "source": [
        "## Feauture Engineering\n",
        "\n",
        "Before coding the models, we will create two new variables in our dataset. \n",
        "\n",
        "1. Missing_GHG - Boolean indicating if the stock had a missing value in that year (1 = True / 0 = False)\n",
        "2. Utilities - Boolean indicating if it is a Utility company (1 = True / 0 = False)\n",
        "3. Time Trend - Cumulative value (0,1,2,3) for each year the stock is in the dataset.\n",
        "\n",
        "The second variable will be used in the Model #3 and #4"
      ],
      "id": "metric-country"
    },
    {
      "cell_type": "markdown",
      "metadata": {
        "id": "abandoned-latitude"
      },
      "source": [
        "#### Missing_GHG"
      ],
      "id": "abandoned-latitude"
    },
    {
      "cell_type": "code",
      "metadata": {
        "colab": {
          "base_uri": "https://localhost:8080/",
          "height": 204
        },
        "id": "PV-FA_UhBI12",
        "outputId": "39cb95c5-1b6b-448c-cb76-45175e2329fa"
      },
      "source": [
        "import pandas as pd\n",
        "import numpy as np\n",
        "import seaborn as sns\n",
        "import matplotlib.pyplot as plt\n",
        "from sklearn.linear_model import LinearRegression, Ridge, RidgeCV, Lasso, LassoCV\n",
        "from sklearn.tree import DecisionTreeClassifier\n",
        "from sklearn.model_selection import train_test_split, cross_val_score, KFold, cross_val_predict\n",
        "from sklearn import metrics\n",
        "from sklearn.preprocessing import scale \n",
        "\n",
        "stocks = company=pd.read_csv(\"company_data.csv\")\n",
        "sectors =pd.read_csv(\"52_tickers_sectors.csv\")\n",
        "\n",
        "stocks['Missing_GHG'] = np.where(stocks['GHG Scope 1'].isna(), 1, 0)\n",
        "stocks.loc[stocks['GHG Scope 1'].isna(),['GHG Scope 1','Missing_GHG']].head()"
      ],
      "id": "PV-FA_UhBI12",
      "execution_count": 102,
      "outputs": [
        {
          "output_type": "execute_result",
          "data": {
            "text/html": [
              "<div>\n",
              "<style scoped>\n",
              "    .dataframe tbody tr th:only-of-type {\n",
              "        vertical-align: middle;\n",
              "    }\n",
              "\n",
              "    .dataframe tbody tr th {\n",
              "        vertical-align: top;\n",
              "    }\n",
              "\n",
              "    .dataframe thead th {\n",
              "        text-align: right;\n",
              "    }\n",
              "</style>\n",
              "<table border=\"1\" class=\"dataframe\">\n",
              "  <thead>\n",
              "    <tr style=\"text-align: right;\">\n",
              "      <th></th>\n",
              "      <th>GHG Scope 1</th>\n",
              "      <th>Missing_GHG</th>\n",
              "    </tr>\n",
              "  </thead>\n",
              "  <tbody>\n",
              "    <tr>\n",
              "      <th>0</th>\n",
              "      <td>NaN</td>\n",
              "      <td>1</td>\n",
              "    </tr>\n",
              "    <tr>\n",
              "      <th>1</th>\n",
              "      <td>NaN</td>\n",
              "      <td>1</td>\n",
              "    </tr>\n",
              "    <tr>\n",
              "      <th>2</th>\n",
              "      <td>NaN</td>\n",
              "      <td>1</td>\n",
              "    </tr>\n",
              "    <tr>\n",
              "      <th>3</th>\n",
              "      <td>NaN</td>\n",
              "      <td>1</td>\n",
              "    </tr>\n",
              "    <tr>\n",
              "      <th>4</th>\n",
              "      <td>NaN</td>\n",
              "      <td>1</td>\n",
              "    </tr>\n",
              "  </tbody>\n",
              "</table>\n",
              "</div>"
            ],
            "text/plain": [
              "   GHG Scope 1  Missing_GHG\n",
              "0          NaN            1\n",
              "1          NaN            1\n",
              "2          NaN            1\n",
              "3          NaN            1\n",
              "4          NaN            1"
            ]
          },
          "metadata": {
            "tags": []
          },
          "execution_count": 102
        }
      ]
    },
    {
      "cell_type": "code",
      "metadata": {
        "id": "9vWwY2PF-7w3",
        "colab": {
          "base_uri": "https://localhost:8080/"
        },
        "outputId": "92cc8783-096d-4748-b666-69dc0275f14b"
      },
      "source": [
        "from google.colab import drive\n",
        "drive.mount('/content/drive')"
      ],
      "id": "9vWwY2PF-7w3",
      "execution_count": 103,
      "outputs": [
        {
          "output_type": "stream",
          "text": [
            "Drive already mounted at /content/drive; to attempt to forcibly remount, call drive.mount(\"/content/drive\", force_remount=True).\n"
          ],
          "name": "stdout"
        }
      ]
    },
    {
      "cell_type": "markdown",
      "metadata": {
        "id": "present-nurse"
      },
      "source": [
        "#### Utilities"
      ],
      "id": "present-nurse"
    },
    {
      "cell_type": "code",
      "metadata": {
        "id": "posted-blair",
        "colab": {
          "base_uri": "https://localhost:8080/",
          "height": 394
        },
        "outputId": "28b58b4a-37d9-470c-ac6e-36ecf11fa079"
      },
      "source": [
        "df = pd.merge(stocks, sectors, how='inner',on='Ticker')\n",
        "df.drop(columns='Name', inplace=True)\n",
        "stocks = df.copy()\n",
        "stocks['Utility'] = np.where(stocks.Sector == 'Utilities',1,0)\n",
        "stocks.loc[stocks.Sector == 'Utilities',].head()"
      ],
      "id": "posted-blair",
      "execution_count": 104,
      "outputs": [
        {
          "output_type": "execute_result",
          "data": {
            "text/html": [
              "<div>\n",
              "<style scoped>\n",
              "    .dataframe tbody tr th:only-of-type {\n",
              "        vertical-align: middle;\n",
              "    }\n",
              "\n",
              "    .dataframe tbody tr th {\n",
              "        vertical-align: top;\n",
              "    }\n",
              "\n",
              "    .dataframe thead th {\n",
              "        text-align: right;\n",
              "    }\n",
              "</style>\n",
              "<table border=\"1\" class=\"dataframe\">\n",
              "  <thead>\n",
              "    <tr style=\"text-align: right;\">\n",
              "      <th></th>\n",
              "      <th>Year</th>\n",
              "      <th>Ticker</th>\n",
              "      <th>Environmental Disclosure Score</th>\n",
              "      <th>GHG Scope 1</th>\n",
              "      <th>Total Energy Consumption</th>\n",
              "      <th>Change_in_EDS</th>\n",
              "      <th>Change_in_GHG</th>\n",
              "      <th>Change_in_TEC</th>\n",
              "      <th>Ratio of GHG Emissions to Total Assets</th>\n",
              "      <th>Ratio of GHG Emissions to Total Sales</th>\n",
              "      <th>Ratio of Total Energy Consumption to Total Assets</th>\n",
              "      <th>Ratio of Total Energy Consumption to Total Sales</th>\n",
              "      <th>cusip</th>\n",
              "      <th>Company</th>\n",
              "      <th>Total_Assets</th>\n",
              "      <th>Net_Income</th>\n",
              "      <th>Total_Sales</th>\n",
              "      <th>cik</th>\n",
              "      <th>Change_in_Sales</th>\n",
              "      <th>Change_in_Assets</th>\n",
              "      <th>Change_in_NI</th>\n",
              "      <th>ROA</th>\n",
              "      <th>Profit_Margin</th>\n",
              "      <th>Annual Return</th>\n",
              "      <th>Logarithm_Total_Assets</th>\n",
              "      <th>Logarithm_Total_Sales</th>\n",
              "      <th>Profitable</th>\n",
              "      <th>Missing_GHG</th>\n",
              "      <th>Sector</th>\n",
              "      <th>Utility</th>\n",
              "    </tr>\n",
              "  </thead>\n",
              "  <tbody>\n",
              "    <tr>\n",
              "      <th>0</th>\n",
              "      <td>2005</td>\n",
              "      <td>AEE</td>\n",
              "      <td>NaN</td>\n",
              "      <td>NaN</td>\n",
              "      <td>NaN</td>\n",
              "      <td>0.000000</td>\n",
              "      <td>0.0</td>\n",
              "      <td>0.0</td>\n",
              "      <td>NaN</td>\n",
              "      <td>NaN</td>\n",
              "      <td>NaN</td>\n",
              "      <td>NaN</td>\n",
              "      <td>023608102</td>\n",
              "      <td>AMEREN CORP</td>\n",
              "      <td>18162.0</td>\n",
              "      <td>619.0</td>\n",
              "      <td>6780.0</td>\n",
              "      <td>1002910.0</td>\n",
              "      <td>0.000000</td>\n",
              "      <td>0.000000</td>\n",
              "      <td>0.000000</td>\n",
              "      <td>3.408215</td>\n",
              "      <td>9.129794</td>\n",
              "      <td>NaN</td>\n",
              "      <td>9.807087</td>\n",
              "      <td>8.821732</td>\n",
              "      <td>True</td>\n",
              "      <td>1</td>\n",
              "      <td>Utilities</td>\n",
              "      <td>1</td>\n",
              "    </tr>\n",
              "    <tr>\n",
              "      <th>1</th>\n",
              "      <td>2006</td>\n",
              "      <td>AEE</td>\n",
              "      <td>NaN</td>\n",
              "      <td>NaN</td>\n",
              "      <td>NaN</td>\n",
              "      <td>0.000000</td>\n",
              "      <td>0.0</td>\n",
              "      <td>0.0</td>\n",
              "      <td>NaN</td>\n",
              "      <td>NaN</td>\n",
              "      <td>NaN</td>\n",
              "      <td>NaN</td>\n",
              "      <td>023608102</td>\n",
              "      <td>AMEREN CORP</td>\n",
              "      <td>19578.0</td>\n",
              "      <td>558.0</td>\n",
              "      <td>6880.0</td>\n",
              "      <td>1002910.0</td>\n",
              "      <td>1.474926</td>\n",
              "      <td>7.796498</td>\n",
              "      <td>-9.854604</td>\n",
              "      <td>2.850138</td>\n",
              "      <td>8.110465</td>\n",
              "      <td>NaN</td>\n",
              "      <td>9.882162</td>\n",
              "      <td>8.836374</td>\n",
              "      <td>True</td>\n",
              "      <td>1</td>\n",
              "      <td>Utilities</td>\n",
              "      <td>1</td>\n",
              "    </tr>\n",
              "    <tr>\n",
              "      <th>2</th>\n",
              "      <td>2007</td>\n",
              "      <td>AEE</td>\n",
              "      <td>9.7</td>\n",
              "      <td>NaN</td>\n",
              "      <td>NaN</td>\n",
              "      <td>0.000000</td>\n",
              "      <td>0.0</td>\n",
              "      <td>0.0</td>\n",
              "      <td>NaN</td>\n",
              "      <td>NaN</td>\n",
              "      <td>NaN</td>\n",
              "      <td>NaN</td>\n",
              "      <td>023608102</td>\n",
              "      <td>AMEREN CORP</td>\n",
              "      <td>20728.0</td>\n",
              "      <td>629.0</td>\n",
              "      <td>7546.0</td>\n",
              "      <td>1002910.0</td>\n",
              "      <td>9.680233</td>\n",
              "      <td>5.873940</td>\n",
              "      <td>12.724014</td>\n",
              "      <td>3.034543</td>\n",
              "      <td>8.335542</td>\n",
              "      <td>NaN</td>\n",
              "      <td>9.939241</td>\n",
              "      <td>8.928773</td>\n",
              "      <td>True</td>\n",
              "      <td>1</td>\n",
              "      <td>Utilities</td>\n",
              "      <td>1</td>\n",
              "    </tr>\n",
              "    <tr>\n",
              "      <th>3</th>\n",
              "      <td>2008</td>\n",
              "      <td>AEE</td>\n",
              "      <td>9.7</td>\n",
              "      <td>NaN</td>\n",
              "      <td>NaN</td>\n",
              "      <td>0.000000</td>\n",
              "      <td>0.0</td>\n",
              "      <td>0.0</td>\n",
              "      <td>NaN</td>\n",
              "      <td>NaN</td>\n",
              "      <td>NaN</td>\n",
              "      <td>NaN</td>\n",
              "      <td>023608102</td>\n",
              "      <td>AMEREN CORP</td>\n",
              "      <td>22657.0</td>\n",
              "      <td>615.0</td>\n",
              "      <td>7839.0</td>\n",
              "      <td>1002910.0</td>\n",
              "      <td>3.882852</td>\n",
              "      <td>9.306252</td>\n",
              "      <td>-2.225755</td>\n",
              "      <td>2.714393</td>\n",
              "      <td>7.845388</td>\n",
              "      <td>NaN</td>\n",
              "      <td>10.028224</td>\n",
              "      <td>8.966867</td>\n",
              "      <td>True</td>\n",
              "      <td>1</td>\n",
              "      <td>Utilities</td>\n",
              "      <td>1</td>\n",
              "    </tr>\n",
              "    <tr>\n",
              "      <th>4</th>\n",
              "      <td>2009</td>\n",
              "      <td>AEE</td>\n",
              "      <td>12.4</td>\n",
              "      <td>NaN</td>\n",
              "      <td>NaN</td>\n",
              "      <td>27.835052</td>\n",
              "      <td>0.0</td>\n",
              "      <td>0.0</td>\n",
              "      <td>NaN</td>\n",
              "      <td>NaN</td>\n",
              "      <td>NaN</td>\n",
              "      <td>NaN</td>\n",
              "      <td>023608102</td>\n",
              "      <td>AMEREN CORP</td>\n",
              "      <td>23790.0</td>\n",
              "      <td>612.0</td>\n",
              "      <td>7090.0</td>\n",
              "      <td>1002910.0</td>\n",
              "      <td>-9.554790</td>\n",
              "      <td>5.000662</td>\n",
              "      <td>-0.487805</td>\n",
              "      <td>2.572509</td>\n",
              "      <td>8.631876</td>\n",
              "      <td>NaN</td>\n",
              "      <td>10.077021</td>\n",
              "      <td>8.866441</td>\n",
              "      <td>True</td>\n",
              "      <td>1</td>\n",
              "      <td>Utilities</td>\n",
              "      <td>1</td>\n",
              "    </tr>\n",
              "  </tbody>\n",
              "</table>\n",
              "</div>"
            ],
            "text/plain": [
              "   Year Ticker  Environmental Disclosure Score  ...  Missing_GHG     Sector  Utility\n",
              "0  2005    AEE                             NaN  ...            1  Utilities        1\n",
              "1  2006    AEE                             NaN  ...            1  Utilities        1\n",
              "2  2007    AEE                             9.7  ...            1  Utilities        1\n",
              "3  2008    AEE                             9.7  ...            1  Utilities        1\n",
              "4  2009    AEE                            12.4  ...            1  Utilities        1\n",
              "\n",
              "[5 rows x 30 columns]"
            ]
          },
          "metadata": {
            "tags": []
          },
          "execution_count": 104
        }
      ]
    },
    {
      "cell_type": "markdown",
      "metadata": {
        "id": "tamil-fault"
      },
      "source": [
        "#### Time trend"
      ],
      "id": "tamil-fault"
    },
    {
      "cell_type": "code",
      "metadata": {
        "id": "moved-adapter",
        "colab": {
          "base_uri": "https://localhost:8080/",
          "height": 0
        },
        "outputId": "5108241a-132c-4250-8302-b38ac89fc425"
      },
      "source": [
        "stocks['time_trend'] = stocks.groupby('Ticker').cumcount()\n",
        "stocks.loc[stocks.Ticker == 'XOM'].groupby(['Ticker','Year']).head(20)"
      ],
      "id": "moved-adapter",
      "execution_count": 105,
      "outputs": [
        {
          "output_type": "execute_result",
          "data": {
            "text/html": [
              "<div>\n",
              "<style scoped>\n",
              "    .dataframe tbody tr th:only-of-type {\n",
              "        vertical-align: middle;\n",
              "    }\n",
              "\n",
              "    .dataframe tbody tr th {\n",
              "        vertical-align: top;\n",
              "    }\n",
              "\n",
              "    .dataframe thead th {\n",
              "        text-align: right;\n",
              "    }\n",
              "</style>\n",
              "<table border=\"1\" class=\"dataframe\">\n",
              "  <thead>\n",
              "    <tr style=\"text-align: right;\">\n",
              "      <th></th>\n",
              "      <th>Year</th>\n",
              "      <th>Ticker</th>\n",
              "      <th>Environmental Disclosure Score</th>\n",
              "      <th>GHG Scope 1</th>\n",
              "      <th>Total Energy Consumption</th>\n",
              "      <th>Change_in_EDS</th>\n",
              "      <th>Change_in_GHG</th>\n",
              "      <th>Change_in_TEC</th>\n",
              "      <th>Ratio of GHG Emissions to Total Assets</th>\n",
              "      <th>Ratio of GHG Emissions to Total Sales</th>\n",
              "      <th>Ratio of Total Energy Consumption to Total Assets</th>\n",
              "      <th>Ratio of Total Energy Consumption to Total Sales</th>\n",
              "      <th>cusip</th>\n",
              "      <th>Company</th>\n",
              "      <th>Total_Assets</th>\n",
              "      <th>Net_Income</th>\n",
              "      <th>Total_Sales</th>\n",
              "      <th>cik</th>\n",
              "      <th>Change_in_Sales</th>\n",
              "      <th>Change_in_Assets</th>\n",
              "      <th>Change_in_NI</th>\n",
              "      <th>ROA</th>\n",
              "      <th>Profit_Margin</th>\n",
              "      <th>Annual Return</th>\n",
              "      <th>Logarithm_Total_Assets</th>\n",
              "      <th>Logarithm_Total_Sales</th>\n",
              "      <th>Profitable</th>\n",
              "      <th>Missing_GHG</th>\n",
              "      <th>Sector</th>\n",
              "      <th>Utility</th>\n",
              "      <th>time_trend</th>\n",
              "    </tr>\n",
              "  </thead>\n",
              "  <tbody>\n",
              "    <tr>\n",
              "      <th>765</th>\n",
              "      <td>2005</td>\n",
              "      <td>XOM</td>\n",
              "      <td>NaN</td>\n",
              "      <td>NaN</td>\n",
              "      <td>NaN</td>\n",
              "      <td>0.000000</td>\n",
              "      <td>0.000000</td>\n",
              "      <td>0.000000</td>\n",
              "      <td>NaN</td>\n",
              "      <td>NaN</td>\n",
              "      <td>NaN</td>\n",
              "      <td>NaN</td>\n",
              "      <td>30231G102</td>\n",
              "      <td>EXXON MOBIL CORP</td>\n",
              "      <td>208335.0</td>\n",
              "      <td>36130.0</td>\n",
              "      <td>328213.0</td>\n",
              "      <td>34088.0</td>\n",
              "      <td>0.000000</td>\n",
              "      <td>0.000000</td>\n",
              "      <td>0.000000</td>\n",
              "      <td>17.342261</td>\n",
              "      <td>11.008095</td>\n",
              "      <td>NaN</td>\n",
              "      <td>12.246903</td>\n",
              "      <td>12.701418</td>\n",
              "      <td>True</td>\n",
              "      <td>1</td>\n",
              "      <td>Energy</td>\n",
              "      <td>0</td>\n",
              "      <td>0</td>\n",
              "    </tr>\n",
              "    <tr>\n",
              "      <th>766</th>\n",
              "      <td>2006</td>\n",
              "      <td>XOM</td>\n",
              "      <td>43.8</td>\n",
              "      <td>145500.0</td>\n",
              "      <td>433650.0</td>\n",
              "      <td>0.000000</td>\n",
              "      <td>0.000000</td>\n",
              "      <td>0.000000</td>\n",
              "      <td>664.338059</td>\n",
              "      <td>434.216888</td>\n",
              "      <td>1980.001370</td>\n",
              "      <td>1294.145384</td>\n",
              "      <td>30231G102</td>\n",
              "      <td>EXXON MOBIL CORP</td>\n",
              "      <td>219015.0</td>\n",
              "      <td>39500.0</td>\n",
              "      <td>335086.0</td>\n",
              "      <td>34088.0</td>\n",
              "      <td>2.094067</td>\n",
              "      <td>5.126359</td>\n",
              "      <td>9.327429</td>\n",
              "      <td>18.035294</td>\n",
              "      <td>11.788019</td>\n",
              "      <td>NaN</td>\n",
              "      <td>12.296895</td>\n",
              "      <td>12.722142</td>\n",
              "      <td>True</td>\n",
              "      <td>0</td>\n",
              "      <td>Energy</td>\n",
              "      <td>0</td>\n",
              "      <td>1</td>\n",
              "    </tr>\n",
              "    <tr>\n",
              "      <th>767</th>\n",
              "      <td>2007</td>\n",
              "      <td>XOM</td>\n",
              "      <td>46.3</td>\n",
              "      <td>141000.0</td>\n",
              "      <td>430556.0</td>\n",
              "      <td>5.707763</td>\n",
              "      <td>-3.092784</td>\n",
              "      <td>-0.713479</td>\n",
              "      <td>582.447270</td>\n",
              "      <td>393.195761</td>\n",
              "      <td>1778.554374</td>\n",
              "      <td>1200.658115</td>\n",
              "      <td>30231G102</td>\n",
              "      <td>EXXON MOBIL CORP</td>\n",
              "      <td>242082.0</td>\n",
              "      <td>40610.0</td>\n",
              "      <td>358600.0</td>\n",
              "      <td>34088.0</td>\n",
              "      <td>7.017303</td>\n",
              "      <td>10.532155</td>\n",
              "      <td>2.810127</td>\n",
              "      <td>16.775308</td>\n",
              "      <td>11.324596</td>\n",
              "      <td>NaN</td>\n",
              "      <td>12.397032</td>\n",
              "      <td>12.789963</td>\n",
              "      <td>True</td>\n",
              "      <td>0</td>\n",
              "      <td>Energy</td>\n",
              "      <td>0</td>\n",
              "      <td>2</td>\n",
              "    </tr>\n",
              "    <tr>\n",
              "      <th>768</th>\n",
              "      <td>2008</td>\n",
              "      <td>XOM</td>\n",
              "      <td>46.3</td>\n",
              "      <td>126000.0</td>\n",
              "      <td>416667.0</td>\n",
              "      <td>0.000000</td>\n",
              "      <td>-10.638298</td>\n",
              "      <td>-3.225829</td>\n",
              "      <td>552.505569</td>\n",
              "      <td>296.421068</td>\n",
              "      <td>1827.070142</td>\n",
              "      <td>980.229185</td>\n",
              "      <td>30231G102</td>\n",
              "      <td>EXXON MOBIL CORP</td>\n",
              "      <td>228052.0</td>\n",
              "      <td>45220.0</td>\n",
              "      <td>425071.0</td>\n",
              "      <td>34088.0</td>\n",
              "      <td>18.536252</td>\n",
              "      <td>-5.795557</td>\n",
              "      <td>11.351884</td>\n",
              "      <td>19.828811</td>\n",
              "      <td>10.638223</td>\n",
              "      <td>NaN</td>\n",
              "      <td>12.337329</td>\n",
              "      <td>12.960011</td>\n",
              "      <td>True</td>\n",
              "      <td>0</td>\n",
              "      <td>Energy</td>\n",
              "      <td>0</td>\n",
              "      <td>3</td>\n",
              "    </tr>\n",
              "    <tr>\n",
              "      <th>769</th>\n",
              "      <td>2009</td>\n",
              "      <td>XOM</td>\n",
              "      <td>52.9</td>\n",
              "      <td>128000.0</td>\n",
              "      <td>405639.0</td>\n",
              "      <td>14.254860</td>\n",
              "      <td>1.587302</td>\n",
              "      <td>-2.646718</td>\n",
              "      <td>548.595724</td>\n",
              "      <td>464.501894</td>\n",
              "      <td>1738.529849</td>\n",
              "      <td>1472.031905</td>\n",
              "      <td>30231G102</td>\n",
              "      <td>EXXON MOBIL CORP</td>\n",
              "      <td>233323.0</td>\n",
              "      <td>19280.0</td>\n",
              "      <td>275564.0</td>\n",
              "      <td>34088.0</td>\n",
              "      <td>-35.172242</td>\n",
              "      <td>2.311315</td>\n",
              "      <td>-57.363998</td>\n",
              "      <td>8.263223</td>\n",
              "      <td>6.996560</td>\n",
              "      <td>NaN</td>\n",
              "      <td>12.360179</td>\n",
              "      <td>12.526575</td>\n",
              "      <td>True</td>\n",
              "      <td>0</td>\n",
              "      <td>Energy</td>\n",
              "      <td>0</td>\n",
              "      <td>4</td>\n",
              "    </tr>\n",
              "    <tr>\n",
              "      <th>770</th>\n",
              "      <td>2010</td>\n",
              "      <td>XOM</td>\n",
              "      <td>54.6</td>\n",
              "      <td>132000.0</td>\n",
              "      <td>408333.0</td>\n",
              "      <td>3.213611</td>\n",
              "      <td>3.125000</td>\n",
              "      <td>0.664137</td>\n",
              "      <td>436.349212</td>\n",
              "      <td>386.441750</td>\n",
              "      <td>1349.816535</td>\n",
              "      <td>1195.431205</td>\n",
              "      <td>30231G102</td>\n",
              "      <td>EXXON MOBIL CORP</td>\n",
              "      <td>302510.0</td>\n",
              "      <td>30460.0</td>\n",
              "      <td>341578.0</td>\n",
              "      <td>34088.0</td>\n",
              "      <td>23.955959</td>\n",
              "      <td>29.652885</td>\n",
              "      <td>57.987552</td>\n",
              "      <td>10.069089</td>\n",
              "      <td>8.917436</td>\n",
              "      <td>NaN</td>\n",
              "      <td>12.619870</td>\n",
              "      <td>12.741331</td>\n",
              "      <td>True</td>\n",
              "      <td>0</td>\n",
              "      <td>Energy</td>\n",
              "      <td>0</td>\n",
              "      <td>5</td>\n",
              "    </tr>\n",
              "    <tr>\n",
              "      <th>771</th>\n",
              "      <td>2011</td>\n",
              "      <td>XOM</td>\n",
              "      <td>54.6</td>\n",
              "      <td>136000.0</td>\n",
              "      <td>430556.0</td>\n",
              "      <td>0.000000</td>\n",
              "      <td>3.030303</td>\n",
              "      <td>5.442372</td>\n",
              "      <td>410.811595</td>\n",
              "      <td>313.706675</td>\n",
              "      <td>1300.569095</td>\n",
              "      <td>993.149200</td>\n",
              "      <td>30231G102</td>\n",
              "      <td>EXXON MOBIL CORP</td>\n",
              "      <td>331052.0</td>\n",
              "      <td>41060.0</td>\n",
              "      <td>433526.0</td>\n",
              "      <td>34088.0</td>\n",
              "      <td>26.918595</td>\n",
              "      <td>9.435060</td>\n",
              "      <td>34.799737</td>\n",
              "      <td>12.402885</td>\n",
              "      <td>9.471174</td>\n",
              "      <td>NaN</td>\n",
              "      <td>12.710031</td>\n",
              "      <td>12.979707</td>\n",
              "      <td>True</td>\n",
              "      <td>0</td>\n",
              "      <td>Energy</td>\n",
              "      <td>0</td>\n",
              "      <td>6</td>\n",
              "    </tr>\n",
              "    <tr>\n",
              "      <th>772</th>\n",
              "      <td>2012</td>\n",
              "      <td>XOM</td>\n",
              "      <td>55.4</td>\n",
              "      <td>132000.0</td>\n",
              "      <td>416667.0</td>\n",
              "      <td>1.465201</td>\n",
              "      <td>-2.941176</td>\n",
              "      <td>-3.225829</td>\n",
              "      <td>395.452299</td>\n",
              "      <td>313.752335</td>\n",
              "      <td>1248.272143</td>\n",
              "      <td>990.380639</td>\n",
              "      <td>30231G102</td>\n",
              "      <td>EXXON MOBIL CORP</td>\n",
              "      <td>333795.0</td>\n",
              "      <td>44880.0</td>\n",
              "      <td>420714.0</td>\n",
              "      <td>34088.0</td>\n",
              "      <td>-2.955301</td>\n",
              "      <td>0.828571</td>\n",
              "      <td>9.303458</td>\n",
              "      <td>13.445378</td>\n",
              "      <td>10.667579</td>\n",
              "      <td>0.198270</td>\n",
              "      <td>12.718282</td>\n",
              "      <td>12.949709</td>\n",
              "      <td>True</td>\n",
              "      <td>0</td>\n",
              "      <td>Energy</td>\n",
              "      <td>0</td>\n",
              "      <td>7</td>\n",
              "    </tr>\n",
              "    <tr>\n",
              "      <th>773</th>\n",
              "      <td>2013</td>\n",
              "      <td>XOM</td>\n",
              "      <td>55.4</td>\n",
              "      <td>135000.0</td>\n",
              "      <td>416667.0</td>\n",
              "      <td>0.000000</td>\n",
              "      <td>2.272727</td>\n",
              "      <td>0.000000</td>\n",
              "      <td>389.264377</td>\n",
              "      <td>345.934754</td>\n",
              "      <td>1201.434223</td>\n",
              "      <td>1067.700713</td>\n",
              "      <td>30231G102</td>\n",
              "      <td>EXXON MOBIL CORP</td>\n",
              "      <td>346808.0</td>\n",
              "      <td>32580.0</td>\n",
              "      <td>390247.0</td>\n",
              "      <td>34088.0</td>\n",
              "      <td>-7.241737</td>\n",
              "      <td>3.898501</td>\n",
              "      <td>-27.406417</td>\n",
              "      <td>9.394247</td>\n",
              "      <td>8.348559</td>\n",
              "      <td>0.120157</td>\n",
              "      <td>12.756527</td>\n",
              "      <td>12.874535</td>\n",
              "      <td>True</td>\n",
              "      <td>0</td>\n",
              "      <td>Energy</td>\n",
              "      <td>0</td>\n",
              "      <td>8</td>\n",
              "    </tr>\n",
              "    <tr>\n",
              "      <th>774</th>\n",
              "      <td>2014</td>\n",
              "      <td>XOM</td>\n",
              "      <td>55.4</td>\n",
              "      <td>121000.0</td>\n",
              "      <td>444444.0</td>\n",
              "      <td>0.000000</td>\n",
              "      <td>-10.370370</td>\n",
              "      <td>6.666475</td>\n",
              "      <td>346.215804</td>\n",
              "      <td>331.722242</td>\n",
              "      <td>1271.682122</td>\n",
              "      <td>1218.445950</td>\n",
              "      <td>30231G102</td>\n",
              "      <td>EXXON MOBIL CORP</td>\n",
              "      <td>349493.0</td>\n",
              "      <td>32520.0</td>\n",
              "      <td>364763.0</td>\n",
              "      <td>34088.0</td>\n",
              "      <td>-6.530223</td>\n",
              "      <td>0.774204</td>\n",
              "      <td>-0.184162</td>\n",
              "      <td>9.304907</td>\n",
              "      <td>8.915378</td>\n",
              "      <td>0.352835</td>\n",
              "      <td>12.764239</td>\n",
              "      <td>12.807003</td>\n",
              "      <td>True</td>\n",
              "      <td>0</td>\n",
              "      <td>Energy</td>\n",
              "      <td>0</td>\n",
              "      <td>9</td>\n",
              "    </tr>\n",
              "    <tr>\n",
              "      <th>775</th>\n",
              "      <td>2015</td>\n",
              "      <td>XOM</td>\n",
              "      <td>55.4</td>\n",
              "      <td>118000.0</td>\n",
              "      <td>472222.0</td>\n",
              "      <td>0.000000</td>\n",
              "      <td>-2.479339</td>\n",
              "      <td>6.250056</td>\n",
              "      <td>350.399990</td>\n",
              "      <td>498.289768</td>\n",
              "      <td>1402.259189</td>\n",
              "      <td>1994.096533</td>\n",
              "      <td>30231G102</td>\n",
              "      <td>EXXON MOBIL CORP</td>\n",
              "      <td>336758.0</td>\n",
              "      <td>16150.0</td>\n",
              "      <td>236810.0</td>\n",
              "      <td>34088.0</td>\n",
              "      <td>-35.078393</td>\n",
              "      <td>-3.643850</td>\n",
              "      <td>-50.338253</td>\n",
              "      <td>4.795729</td>\n",
              "      <td>6.819813</td>\n",
              "      <td>0.025943</td>\n",
              "      <td>12.727120</td>\n",
              "      <td>12.375013</td>\n",
              "      <td>True</td>\n",
              "      <td>0</td>\n",
              "      <td>Energy</td>\n",
              "      <td>0</td>\n",
              "      <td>10</td>\n",
              "    </tr>\n",
              "    <tr>\n",
              "      <th>776</th>\n",
              "      <td>2016</td>\n",
              "      <td>XOM</td>\n",
              "      <td>53.7</td>\n",
              "      <td>120000.0</td>\n",
              "      <td>416667.0</td>\n",
              "      <td>-3.068592</td>\n",
              "      <td>1.694915</td>\n",
              "      <td>-11.764594</td>\n",
              "      <td>363.290687</td>\n",
              "      <td>607.539566</td>\n",
              "      <td>1261.427006</td>\n",
              "      <td>2109.514070</td>\n",
              "      <td>30231G102</td>\n",
              "      <td>EXXON MOBIL CORP</td>\n",
              "      <td>330314.0</td>\n",
              "      <td>7840.0</td>\n",
              "      <td>197518.0</td>\n",
              "      <td>34088.0</td>\n",
              "      <td>-16.592205</td>\n",
              "      <td>-1.913540</td>\n",
              "      <td>-51.455108</td>\n",
              "      <td>2.373499</td>\n",
              "      <td>3.969258</td>\n",
              "      <td>0.105391</td>\n",
              "      <td>12.707799</td>\n",
              "      <td>12.193585</td>\n",
              "      <td>True</td>\n",
              "      <td>0</td>\n",
              "      <td>Energy</td>\n",
              "      <td>0</td>\n",
              "      <td>11</td>\n",
              "    </tr>\n",
              "    <tr>\n",
              "      <th>777</th>\n",
              "      <td>2017</td>\n",
              "      <td>XOM</td>\n",
              "      <td>53.7</td>\n",
              "      <td>117000.0</td>\n",
              "      <td>416667.0</td>\n",
              "      <td>0.000000</td>\n",
              "      <td>-2.500000</td>\n",
              "      <td>0.000000</td>\n",
              "      <td>335.540636</td>\n",
              "      <td>493.333671</td>\n",
              "      <td>1194.946242</td>\n",
              "      <td>1756.887697</td>\n",
              "      <td>30231G102</td>\n",
              "      <td>EXXON MOBIL CORP</td>\n",
              "      <td>348691.0</td>\n",
              "      <td>19710.0</td>\n",
              "      <td>237162.0</td>\n",
              "      <td>34088.0</td>\n",
              "      <td>20.071082</td>\n",
              "      <td>5.563494</td>\n",
              "      <td>151.403061</td>\n",
              "      <td>5.652569</td>\n",
              "      <td>8.310775</td>\n",
              "      <td>0.125855</td>\n",
              "      <td>12.761941</td>\n",
              "      <td>12.376499</td>\n",
              "      <td>True</td>\n",
              "      <td>0</td>\n",
              "      <td>Energy</td>\n",
              "      <td>0</td>\n",
              "      <td>12</td>\n",
              "    </tr>\n",
              "    <tr>\n",
              "      <th>778</th>\n",
              "      <td>2018</td>\n",
              "      <td>XOM</td>\n",
              "      <td>53.7</td>\n",
              "      <td>119000.0</td>\n",
              "      <td>416667.0</td>\n",
              "      <td>0.000000</td>\n",
              "      <td>1.709402</td>\n",
              "      <td>0.000000</td>\n",
              "      <td>343.735918</td>\n",
              "      <td>426.016353</td>\n",
              "      <td>1203.558100</td>\n",
              "      <td>1491.655091</td>\n",
              "      <td>30231G102</td>\n",
              "      <td>EXXON MOBIL CORP</td>\n",
              "      <td>346196.0</td>\n",
              "      <td>20840.0</td>\n",
              "      <td>279332.0</td>\n",
              "      <td>34088.0</td>\n",
              "      <td>17.781095</td>\n",
              "      <td>-0.715533</td>\n",
              "      <td>5.733130</td>\n",
              "      <td>6.019711</td>\n",
              "      <td>7.460656</td>\n",
              "      <td>0.175170</td>\n",
              "      <td>12.754760</td>\n",
              "      <td>12.540156</td>\n",
              "      <td>True</td>\n",
              "      <td>0</td>\n",
              "      <td>Energy</td>\n",
              "      <td>0</td>\n",
              "      <td>13</td>\n",
              "    </tr>\n",
              "    <tr>\n",
              "      <th>779</th>\n",
              "      <td>2019</td>\n",
              "      <td>XOM</td>\n",
              "      <td>56.2</td>\n",
              "      <td>114000.0</td>\n",
              "      <td>416667.0</td>\n",
              "      <td>4.655493</td>\n",
              "      <td>-4.201681</td>\n",
              "      <td>0.000000</td>\n",
              "      <td>314.398630</td>\n",
              "      <td>446.039056</td>\n",
              "      <td>1149.118719</td>\n",
              "      <td>1630.261011</td>\n",
              "      <td>30231G102</td>\n",
              "      <td>EXXON MOBIL CORP</td>\n",
              "      <td>362597.0</td>\n",
              "      <td>14340.0</td>\n",
              "      <td>255583.0</td>\n",
              "      <td>34088.0</td>\n",
              "      <td>-8.502069</td>\n",
              "      <td>4.737490</td>\n",
              "      <td>-31.190019</td>\n",
              "      <td>3.954804</td>\n",
              "      <td>5.610702</td>\n",
              "      <td>0.407673</td>\n",
              "      <td>12.801047</td>\n",
              "      <td>12.451302</td>\n",
              "      <td>True</td>\n",
              "      <td>0</td>\n",
              "      <td>Energy</td>\n",
              "      <td>0</td>\n",
              "      <td>14</td>\n",
              "    </tr>\n",
              "  </tbody>\n",
              "</table>\n",
              "</div>"
            ],
            "text/plain": [
              "     Year Ticker  Environmental Disclosure Score  ...  Sector  Utility  time_trend\n",
              "765  2005    XOM                             NaN  ...  Energy        0           0\n",
              "766  2006    XOM                            43.8  ...  Energy        0           1\n",
              "767  2007    XOM                            46.3  ...  Energy        0           2\n",
              "768  2008    XOM                            46.3  ...  Energy        0           3\n",
              "769  2009    XOM                            52.9  ...  Energy        0           4\n",
              "770  2010    XOM                            54.6  ...  Energy        0           5\n",
              "771  2011    XOM                            54.6  ...  Energy        0           6\n",
              "772  2012    XOM                            55.4  ...  Energy        0           7\n",
              "773  2013    XOM                            55.4  ...  Energy        0           8\n",
              "774  2014    XOM                            55.4  ...  Energy        0           9\n",
              "775  2015    XOM                            55.4  ...  Energy        0          10\n",
              "776  2016    XOM                            53.7  ...  Energy        0          11\n",
              "777  2017    XOM                            53.7  ...  Energy        0          12\n",
              "778  2018    XOM                            53.7  ...  Energy        0          13\n",
              "779  2019    XOM                            56.2  ...  Energy        0          14\n",
              "\n",
              "[15 rows x 31 columns]"
            ]
          },
          "metadata": {
            "tags": []
          },
          "execution_count": 105
        }
      ]
    },
    {
      "cell_type": "markdown",
      "metadata": {
        "id": "chief-baghdad"
      },
      "source": [
        "## Models\n",
        "\n",
        "### Model 1 - Sales and Assets\n",
        "\n",
        "\n",
        "GHG = a + b1*Sales + b2*Assets + e     \n"
      ],
      "id": "chief-baghdad"
    },
    {
      "cell_type": "code",
      "metadata": {
        "id": "restricted-reader"
      },
      "source": [
        ""
      ],
      "id": "restricted-reader",
      "execution_count": 105,
      "outputs": []
    },
    {
      "cell_type": "code",
      "metadata": {
        "id": "reserved-samuel"
      },
      "source": [
        ""
      ],
      "id": "reserved-samuel",
      "execution_count": 105,
      "outputs": []
    },
    {
      "cell_type": "code",
      "metadata": {
        "id": "generic-surrey"
      },
      "source": [
        ""
      ],
      "id": "generic-surrey",
      "execution_count": 105,
      "outputs": []
    },
    {
      "cell_type": "code",
      "metadata": {
        "id": "integral-macro"
      },
      "source": [
        ""
      ],
      "id": "integral-macro",
      "execution_count": 105,
      "outputs": []
    },
    {
      "cell_type": "markdown",
      "metadata": {
        "id": "educated-engineering"
      },
      "source": [
        "### Model 2 - Logarithm Sales and Assets\n",
        "\n",
        "ln(GHG) = a0 + b10*ln(Sales) + b20*ln(Assets) + e"
      ],
      "id": "educated-engineering"
    },
    {
      "cell_type": "code",
      "metadata": {
        "id": "confused-reviewer"
      },
      "source": [
        ""
      ],
      "id": "confused-reviewer",
      "execution_count": 105,
      "outputs": []
    },
    {
      "cell_type": "code",
      "metadata": {
        "id": "better-regulation"
      },
      "source": [
        ""
      ],
      "id": "better-regulation",
      "execution_count": 105,
      "outputs": []
    },
    {
      "cell_type": "code",
      "metadata": {
        "id": "touched-boston"
      },
      "source": [
        ""
      ],
      "id": "touched-boston",
      "execution_count": 105,
      "outputs": []
    },
    {
      "cell_type": "code",
      "metadata": {
        "id": "recorded-thing"
      },
      "source": [
        ""
      ],
      "id": "recorded-thing",
      "execution_count": 105,
      "outputs": []
    },
    {
      "cell_type": "code",
      "metadata": {
        "id": "quarterly-mercy"
      },
      "source": [
        ""
      ],
      "id": "quarterly-mercy",
      "execution_count": 105,
      "outputs": []
    },
    {
      "cell_type": "code",
      "metadata": {
        "id": "sacred-airfare"
      },
      "source": [
        ""
      ],
      "id": "sacred-airfare",
      "execution_count": 105,
      "outputs": []
    },
    {
      "cell_type": "markdown",
      "metadata": {
        "id": "vital-blowing"
      },
      "source": [
        "### Model 3 -  GHG for Energy vs Utilities\n",
        "\n",
        "GHG = a + b1*Sales + b2*Assets + b3*Util + b5*TimeTrend + e\n",
        "\n",
        "#### Linear Regression - Validation set approach"
      ],
      "id": "vital-blowing"
    },
    {
      "cell_type": "code",
      "metadata": {
        "id": "freelance-maple",
        "colab": {
          "base_uri": "https://localhost:8080/"
        },
        "outputId": "7779c7a4-5dbc-44e1-bcb2-1b15c4d494ff"
      },
      "source": [
        "stock = stocks.copy()\n",
        "stock.dropna(inplace=True, subset = ['Total_Assets','Total_Sales','GHG Scope 1'])\n",
        "\n",
        "X = stock[['Total_Sales','Total_Assets','Utility','time_trend']]\n",
        "y = stock['GHG Scope 1']\n",
        "print(X.shape)\n",
        "print(y.shape)"
      ],
      "id": "freelance-maple",
      "execution_count": 106,
      "outputs": [
        {
          "output_type": "stream",
          "text": [
            "(398, 4)\n",
            "(398,)\n"
          ],
          "name": "stdout"
        }
      ]
    },
    {
      "cell_type": "code",
      "metadata": {
        "id": "capable-fitting"
      },
      "source": [
        "model = LinearRegression(fit_intercept=True) #Initialize model\n",
        "Xtrain, Xtest, ytrain, ytest = train_test_split(X, y, test_size=0.2, random_state=42) #Train and Test split\n",
        "model.fit(Xtrain,ytrain) #Fit the model\n",
        "y_model = model.predict(Xtest) #Make predictions"
      ],
      "id": "capable-fitting",
      "execution_count": 107,
      "outputs": []
    },
    {
      "cell_type": "code",
      "metadata": {
        "id": "eleven-chart",
        "colab": {
          "base_uri": "https://localhost:8080/"
        },
        "outputId": "79190a11-8f7c-4724-a0b8-5380df9b80e8"
      },
      "source": [
        "#The coefficients\n",
        "print('Coefficients: \\n', model.coef_)\n",
        "#Mean Squared Error\n",
        "print('Mean squared error: %.2f' % metrics.mean_squared_error(ytest,y_model))\n",
        "print(f'Root Mean Squared Error: {np.sqrt(metrics.mean_squared_error(ytest,y_model))}')\n",
        "# The coefficient of determination: 1 is perfect prediction\n",
        "print('Coefficient of determination: %.2f'\n",
        "      % metrics.r2_score(ytest, y_model))"
      ],
      "id": "eleven-chart",
      "execution_count": 108,
      "outputs": [
        {
          "output_type": "stream",
          "text": [
            "Coefficients: \n",
            " [ 1.27217988e-01  2.83677679e-01  2.23421275e+04 -5.58358640e+02]\n",
            "Mean squared error: 442891100.67\n",
            "Root Mean Squared Error: 21044.97803919079\n",
            "Coefficient of determination: 0.66\n"
          ],
          "name": "stdout"
        }
      ]
    },
    {
      "cell_type": "code",
      "metadata": {
        "id": "cardiac-check",
        "colab": {
          "base_uri": "https://localhost:8080/",
          "height": 204
        },
        "outputId": "cccb11c0-f09b-4927-bf06-037ec13c2151"
      },
      "source": [
        "#Create data frame with observed and predicted\n",
        "linear_reg = pd.DataFrame({'Observed':ytest,'Prediction':y_model})\n",
        "linear_reg.head()"
      ],
      "id": "cardiac-check",
      "execution_count": 109,
      "outputs": [
        {
          "output_type": "execute_result",
          "data": {
            "text/html": [
              "<div>\n",
              "<style scoped>\n",
              "    .dataframe tbody tr th:only-of-type {\n",
              "        vertical-align: middle;\n",
              "    }\n",
              "\n",
              "    .dataframe tbody tr th {\n",
              "        vertical-align: top;\n",
              "    }\n",
              "\n",
              "    .dataframe thead th {\n",
              "        text-align: right;\n",
              "    }\n",
              "</style>\n",
              "<table border=\"1\" class=\"dataframe\">\n",
              "  <thead>\n",
              "    <tr style=\"text-align: right;\">\n",
              "      <th></th>\n",
              "      <th>Observed</th>\n",
              "      <th>Prediction</th>\n",
              "    </tr>\n",
              "  </thead>\n",
              "  <tbody>\n",
              "    <tr>\n",
              "      <th>418</th>\n",
              "      <td>3577.3</td>\n",
              "      <td>-905.917272</td>\n",
              "    </tr>\n",
              "    <tr>\n",
              "      <th>778</th>\n",
              "      <td>119000.0</td>\n",
              "      <td>125953.752659</td>\n",
              "    </tr>\n",
              "    <tr>\n",
              "      <th>58</th>\n",
              "      <td>3410.0</td>\n",
              "      <td>-735.413566</td>\n",
              "    </tr>\n",
              "    <tr>\n",
              "      <th>464</th>\n",
              "      <td>14296.5</td>\n",
              "      <td>19195.057407</td>\n",
              "    </tr>\n",
              "    <tr>\n",
              "      <th>206</th>\n",
              "      <td>32000.0</td>\n",
              "      <td>26110.108190</td>\n",
              "    </tr>\n",
              "  </tbody>\n",
              "</table>\n",
              "</div>"
            ],
            "text/plain": [
              "     Observed     Prediction\n",
              "418    3577.3    -905.917272\n",
              "778  119000.0  125953.752659\n",
              "58     3410.0    -735.413566\n",
              "464   14296.5   19195.057407\n",
              "206   32000.0   26110.108190"
            ]
          },
          "metadata": {
            "tags": []
          },
          "execution_count": 109
        }
      ]
    },
    {
      "cell_type": "markdown",
      "metadata": {
        "id": "married-uzbekistan"
      },
      "source": [
        "#### Linear regression with k-fold cross validation"
      ],
      "id": "married-uzbekistan"
    },
    {
      "cell_type": "code",
      "metadata": {
        "id": "later-basketball"
      },
      "source": [
        "X = X.values\n",
        "y = y.values\n",
        "\n",
        "def kfold_cross_validation(n_splits, X, y, model_type):\n",
        "    data_y, data_yhat,coef = [], [],[]\n",
        "    kfold = KFold(n_splits=n_splits, random_state = 42, shuffle=True)\n",
        "    for train_ix, test_ix in kfold.split(X):\n",
        "        # get data\n",
        "        train_X, test_X = X[train_ix], X[test_ix]\n",
        "        train_y, test_y = y[train_ix], y[test_ix]\n",
        "        # fit model\n",
        "        model = model_type\n",
        "        model.fit(train_X, train_y)\n",
        "        # make predictions\n",
        "        yhat = model.predict(test_X)\n",
        "        coef.append(model.coef_)\n",
        "        # store\n",
        "        data_y.extend(test_y)\n",
        "        data_yhat.extend(yhat)\n",
        "\n",
        "    # Evaluate the model\n",
        "    print('Mean squared error: %.2f' % metrics.mean_squared_error(data_y, data_yhat))\n",
        "    print(f'Root Mean Squared Error: {np.sqrt(metrics.mean_squared_error(data_y, data_yhat))}')\n",
        "    print('Coefficient of determination: %.2f'% metrics.r2_score(data_y, data_yhat))"
      ],
      "id": "later-basketball",
      "execution_count": 110,
      "outputs": []
    },
    {
      "cell_type": "code",
      "metadata": {
        "id": "efficient-upset",
        "colab": {
          "base_uri": "https://localhost:8080/"
        },
        "outputId": "dddb1017-2406-4188-aaed-f4b936581a32"
      },
      "source": [
        "model1 = LinearRegression()\n",
        "kfold_cross_validation(10,X,y,model1)"
      ],
      "id": "efficient-upset",
      "execution_count": 111,
      "outputs": [
        {
          "output_type": "stream",
          "text": [
            "Mean squared error: 462201730.55\n",
            "Root Mean Squared Error: 21498.877425240873\n",
            "Coefficient of determination: 0.56\n"
          ],
          "name": "stdout"
        }
      ]
    },
    {
      "cell_type": "code",
      "metadata": {
        "id": "former-heart",
        "colab": {
          "base_uri": "https://localhost:8080/"
        },
        "outputId": "113e8beb-34bf-4897-cabd-9e2d6d6c07ea"
      },
      "source": [
        "kfold_cross_validation(5,X,y,model1)"
      ],
      "id": "former-heart",
      "execution_count": 112,
      "outputs": [
        {
          "output_type": "stream",
          "text": [
            "Mean squared error: 458669164.20\n",
            "Root Mean Squared Error: 21416.562847569556\n",
            "Coefficient of determination: 0.57\n"
          ],
          "name": "stdout"
        }
      ]
    },
    {
      "cell_type": "markdown",
      "metadata": {
        "id": "tender-combat"
      },
      "source": [
        "#### Ridge Regression - Validation set approach"
      ],
      "id": "tender-combat"
    },
    {
      "cell_type": "code",
      "metadata": {
        "id": "minor-boutique",
        "colab": {
          "base_uri": "https://localhost:8080/",
          "height": 299
        },
        "outputId": "3b5b9f0b-7ae9-4bfb-e22d-9b8bb4f7674b"
      },
      "source": [
        "n_alphas = 100\n",
        "alphas = np.logspace(-10, -2, n_alphas)\n",
        "\n",
        "coefs = []\n",
        "for a in alphas:\n",
        "    ridge = Ridge(alpha=a, fit_intercept=False, normalize=True)\n",
        "    Xtrain, Xtest, ytrain, ytest = train_test_split(X, y, test_size=0.2, random_state=42)\n",
        "    ridge.fit(Xtrain, ytrain)\n",
        "    coefs.append(ridge.coef_)\n",
        "\n",
        "ax = plt.gca()\n",
        "ax.plot(alphas, coefs)\n",
        "ax.plot(alphas, coefs)\n",
        "ax.set_xscale('log')\n",
        "ax.set_xlim(ax.get_xlim()[::-1])  # reverse axis\n",
        "plt.xlabel('alpha')\n",
        "plt.ylabel('weights')\n",
        "plt.title('Ridge coefficients as a function of the regularization')\n",
        "plt.axis('tight')\n",
        "plt.show()"
      ],
      "id": "minor-boutique",
      "execution_count": 113,
      "outputs": [
        {
          "output_type": "display_data",
          "data": {
            "image/png": "[encoded data removed]",
            "text/plain": [
              "<Figure size 432x288 with 1 Axes>"
            ]
          },
          "metadata": {
            "tags": [],
            "needs_background": "light"
          }
        }
      ]
    },
    {
      "cell_type": "markdown",
      "metadata": {
        "id": "heard-quality"
      },
      "source": [
        "Do we need to standarized the data? One feature is staying high.. would it look better if we normalize it? Would the logarithm work better because it distributes the data better?"
      ],
      "id": "heard-quality"
    },
    {
      "cell_type": "code",
      "metadata": {
        "id": "explicit-yield",
        "colab": {
          "base_uri": "https://localhost:8080/"
        },
        "outputId": "e30ecef4-731d-4d39-947c-b71510ff0b23"
      },
      "source": [
        "coefs[:5] #First five coefficients\n",
        "#print(f'Last 5 coefficients: {coefs[(len(coefs) - 5):len(coefs)]}')"
      ],
      "id": "explicit-yield",
      "execution_count": 114,
      "outputs": [
        {
          "output_type": "execute_result",
          "data": {
            "text/plain": [
              "[array([ 1.25671073e-01,  2.83924392e-01,  2.21708862e+04, -5.96063139e+02]),\n",
              " array([ 1.25671073e-01,  2.83924392e-01,  2.21708862e+04, -5.96063139e+02]),\n",
              " array([ 1.25671073e-01,  2.83924392e-01,  2.21708862e+04, -5.96063139e+02]),\n",
              " array([ 1.25671073e-01,  2.83924392e-01,  2.21708862e+04, -5.96063139e+02]),\n",
              " array([ 1.25671073e-01,  2.83924392e-01,  2.21708862e+04, -5.96063139e+02])]"
            ]
          },
          "metadata": {
            "tags": []
          },
          "execution_count": 114
        }
      ]
    },
    {
      "cell_type": "code",
      "metadata": {
        "id": "friendly-clinic",
        "colab": {
          "base_uri": "https://localhost:8080/"
        },
        "outputId": "4d91caa0-a376-45d7-92bd-42cd8976ac41"
      },
      "source": [
        "coefs[(len(coefs) - 5):len(coefs)] #the last 5 coefficients"
      ],
      "id": "friendly-clinic",
      "execution_count": 115,
      "outputs": [
        {
          "output_type": "execute_result",
          "data": {
            "text/plain": [
              "[array([ 1.25665134e-01,  2.83928669e-01,  2.21695471e+04, -5.95994844e+02]),\n",
              " array([ 1.25663919e-01,  2.83929543e-01,  2.21692732e+04, -5.95980878e+02]),\n",
              " array([ 1.25662457e-01,  2.83930597e-01,  2.21689434e+04, -5.95964057e+02]),\n",
              " array([ 1.25660695e-01,  2.83931866e-01,  2.21685461e+04, -5.95943797e+02]),\n",
              " array([ 1.25658573e-01,  2.83933394e-01,  2.21680676e+04, -5.95919394e+02])]"
            ]
          },
          "metadata": {
            "tags": []
          },
          "execution_count": 115
        }
      ]
    },
    {
      "cell_type": "code",
      "metadata": {
        "id": "hungarian-conjunction"
      },
      "source": [
        "# Split data into training and test sets\n",
        "X_train, X_test , y_train, y_test = train_test_split(X, y, test_size=0.2, random_state=42)"
      ],
      "id": "hungarian-conjunction",
      "execution_count": 116,
      "outputs": []
    },
    {
      "cell_type": "markdown",
      "metadata": {
        "id": "parliamentary-finance"
      },
      "source": [
        "Instead of arbitrarily choosing alpha, we used cross-validation to choose the tuning parameter alpha. "
      ],
      "id": "parliamentary-finance"
    },
    {
      "cell_type": "code",
      "metadata": {
        "id": "impressive-network",
        "colab": {
          "base_uri": "https://localhost:8080/"
        },
        "outputId": "76b18a2f-5ac7-4e0f-93f9-b9f803bf4ab9"
      },
      "source": [
        "ridgecv = RidgeCV(alphas = alphas, scoring = 'neg_mean_squared_error', normalize = True)\n",
        "ridgecv.fit(X_train, y_train)\n"
      ],
      "id": "impressive-network",
      "execution_count": 117,
      "outputs": [
        {
          "output_type": "execute_result",
          "data": {
            "text/plain": [
              "RidgeCV(alphas=array([1.00000000e-10, 1.20450354e-10, 1.45082878e-10, 1.74752840e-10,\n",
              "       2.10490414e-10, 2.53536449e-10, 3.05385551e-10, 3.67837977e-10,\n",
              "       4.43062146e-10, 5.33669923e-10, 6.42807312e-10, 7.74263683e-10,\n",
              "       9.32603347e-10, 1.12332403e-09, 1.35304777e-09, 1.62975083e-09,\n",
              "       1.96304065e-09, 2.36448941e-09, 2.84803587e-09, 3.43046929e-09,\n",
              "       4.13201240e-09, 4.97702356e-0...\n",
              "       6.13590727e-04, 7.39072203e-04, 8.90215085e-04, 1.07226722e-03,\n",
              "       1.29154967e-03, 1.55567614e-03, 1.87381742e-03, 2.25701972e-03,\n",
              "       2.71858824e-03, 3.27454916e-03, 3.94420606e-03, 4.75081016e-03,\n",
              "       5.72236766e-03, 6.89261210e-03, 8.30217568e-03, 1.00000000e-02]),\n",
              "        cv=None, fit_intercept=True, gcv_mode=None, normalize=True,\n",
              "        scoring='neg_mean_squared_error', store_cv_values=False)"
            ]
          },
          "metadata": {
            "tags": []
          },
          "execution_count": 117
        }
      ]
    },
    {
      "cell_type": "code",
      "metadata": {
        "id": "southern-kingdom",
        "colab": {
          "base_uri": "https://localhost:8080/"
        },
        "outputId": "d4966857-0b7b-49f1-c889-3974776f66c7"
      },
      "source": [
        "ridge_1 = Ridge(alpha = ridgecv.alpha_, normalize = True)\n",
        "ridge_1.fit(X_train, y_train)\n",
        "yhat_ridge = ridge_1.predict(X_test)\n",
        "\n",
        "# Evaluate the model\n",
        "print('Mean squared error: %.2f' % metrics.mean_squared_error(y_test, yhat_ridge))\n",
        "print(f'Root Mean Squared Error: {np.sqrt(metrics.mean_squared_error(y_test, yhat_ridge))}')\n",
        "print('Coefficient of determination: %.2f'% metrics.r2_score(y_test, yhat_ridge))"
      ],
      "id": "southern-kingdom",
      "execution_count": 118,
      "outputs": [
        {
          "output_type": "stream",
          "text": [
            "Mean squared error: 442044666.55\n",
            "Root Mean Squared Error: 21024.858300368476\n",
            "Coefficient of determination: 0.66\n"
          ],
          "name": "stdout"
        }
      ]
    },
    {
      "cell_type": "markdown",
      "metadata": {
        "id": "liable-season"
      },
      "source": [
        "#### Ridge Regression - Cross validation approach"
      ],
      "id": "liable-season"
    },
    {
      "cell_type": "code",
      "metadata": {
        "id": "contrary-relaxation",
        "colab": {
          "base_uri": "https://localhost:8080/"
        },
        "outputId": "22e02287-e56d-4ffa-ee0d-44782e5ed40e"
      },
      "source": [
        "kfold_cross_validation(10,X,y,ridge_1)"
      ],
      "id": "contrary-relaxation",
      "execution_count": 119,
      "outputs": [
        {
          "output_type": "stream",
          "text": [
            "Mean squared error: 462009807.83\n",
            "Root Mean Squared Error: 21494.413409662837\n",
            "Coefficient of determination: 0.56\n"
          ],
          "name": "stdout"
        }
      ]
    },
    {
      "cell_type": "code",
      "metadata": {
        "id": "portuguese-mentor",
        "colab": {
          "base_uri": "https://localhost:8080/"
        },
        "outputId": "abb8dd28-8362-4ce3-9404-2ff5b3239f0d"
      },
      "source": [
        "kfold_cross_validation(5,X,y,ridge_1)"
      ],
      "id": "portuguese-mentor",
      "execution_count": 120,
      "outputs": [
        {
          "output_type": "stream",
          "text": [
            "Mean squared error: 458487743.03\n",
            "Root Mean Squared Error: 21412.326894264337\n",
            "Coefficient of determination: 0.57\n"
          ],
          "name": "stdout"
        }
      ]
    },
    {
      "cell_type": "code",
      "metadata": {
        "id": "tropical-geography",
        "colab": {
          "base_uri": "https://localhost:8080/"
        },
        "outputId": "993ff8d0-b927-4b92-e749-a905d60168a6"
      },
      "source": [
        "kfold_cross_validation(2,X,y,ridge_1)"
      ],
      "id": "tropical-geography",
      "execution_count": 121,
      "outputs": [
        {
          "output_type": "stream",
          "text": [
            "Mean squared error: 460942033.16\n",
            "Root Mean Squared Error: 21469.56061878212\n",
            "Coefficient of determination: 0.57\n"
          ],
          "name": "stdout"
        }
      ]
    },
    {
      "cell_type": "markdown",
      "metadata": {
        "id": "removed-canal"
      },
      "source": [
        "#### Lasso - Validation set approach"
      ],
      "id": "removed-canal"
    },
    {
      "cell_type": "code",
      "metadata": {
        "id": "broke-basin",
        "colab": {
          "base_uri": "https://localhost:8080/",
          "height": 300
        },
        "outputId": "e29f2d77-a1bb-4347-9339-e9da99ba86e6"
      },
      "source": [
        "lasso = Lasso(max_iter = 10000, normalize = True)\n",
        "coefs = []\n",
        "\n",
        "for a in alphas:\n",
        "    lasso.set_params(alpha=a)\n",
        "    lasso.fit(scale(X_train), y_train)\n",
        "    coefs.append(lasso.coef_)\n",
        "    \n",
        "ax = plt.gca()\n",
        "ax.plot(alphas*2, coefs)\n",
        "ax.set_xscale('log')\n",
        "plt.axis('tight')\n",
        "plt.xlabel('alpha')\n",
        "plt.ylabel('weights')"
      ],
      "id": "broke-basin",
      "execution_count": 122,
      "outputs": [
        {
          "output_type": "execute_result",
          "data": {
            "text/plain": [
              "Text(0, 0.5, 'weights')"
            ]
          },
          "metadata": {
            "tags": []
          },
          "execution_count": 122
        },
        {
          "output_type": "display_data",
          "data": {
            "image/png": "[encoded data removed]",
            "text/plain": [
              "<Figure size 432x288 with 1 Axes>"
            ]
          },
          "metadata": {
            "tags": [],
            "needs_background": "light"
          }
        }
      ]
    },
    {
      "cell_type": "code",
      "metadata": {
        "id": "seventh-empty",
        "colab": {
          "base_uri": "https://localhost:8080/"
        },
        "outputId": "9aaff7a8-6574-495a-86af-347ae6352c79"
      },
      "source": [
        "lassocv = LassoCV(alphas = None, cv = 10, max_iter = 100000, normalize = True)\n",
        "lassocv.fit(X_train, y_train)\n",
        "\n",
        "print(f'The optimal alpha is {lassocv.alpha_}')"
      ],
      "id": "seventh-empty",
      "execution_count": 123,
      "outputs": [
        {
          "output_type": "stream",
          "text": [
            "The optimal alpha is 1.1532714502900596\n"
          ],
          "name": "stdout"
        }
      ]
    },
    {
      "cell_type": "code",
      "metadata": {
        "id": "raising-packing",
        "colab": {
          "base_uri": "https://localhost:8080/"
        },
        "outputId": "155b6b8c-7484-481e-c6b6-ebe7d239308b"
      },
      "source": [
        "lasso.set_params(alpha=lassocv.alpha_)\n",
        "lasso.fit(X_train, y_train)\n",
        "yhat_lasso = lasso.predict(X_test)\n",
        "\n",
        "# Evaluate the model\n",
        "print('Mean squared error: %.2f' % metrics.mean_squared_error(y_test, yhat_lasso))\n",
        "print(f'Root Mean Squared Error: {np.sqrt(metrics.mean_squared_error(y_test, yhat_lasso))}')\n",
        "print('Coefficient of determination: %.2f'% metrics.r2_score(y_test, yhat_lasso ))"
      ],
      "id": "raising-packing",
      "execution_count": 124,
      "outputs": [
        {
          "output_type": "stream",
          "text": [
            "Mean squared error: 442776564.91\n",
            "Root Mean Squared Error: 21042.256649553226\n",
            "Coefficient of determination: 0.66\n"
          ],
          "name": "stdout"
        }
      ]
    },
    {
      "cell_type": "markdown",
      "metadata": {
        "id": "broadband-penny"
      },
      "source": [
        "#### Lasso Regression - Cross validation approach"
      ],
      "id": "broadband-penny"
    },
    {
      "cell_type": "code",
      "metadata": {
        "id": "dense-register",
        "colab": {
          "base_uri": "https://localhost:8080/"
        },
        "outputId": "58f1cb89-0c94-4cd7-9e47-10e105ecb05b"
      },
      "source": [
        "kfold_cross_validation(10, X,y,lasso)"
      ],
      "id": "dense-register",
      "execution_count": 125,
      "outputs": [
        {
          "output_type": "stream",
          "text": [
            "Mean squared error: 462209517.45\n",
            "Root Mean Squared Error: 21499.058524807468\n",
            "Coefficient of determination: 0.56\n"
          ],
          "name": "stdout"
        }
      ]
    },
    {
      "cell_type": "code",
      "metadata": {
        "id": "effective-occasions",
        "colab": {
          "base_uri": "https://localhost:8080/"
        },
        "outputId": "cec736a0-d16f-4f22-af92-513730405744"
      },
      "source": [
        "kfold_cross_validation(5, X,y,lasso)"
      ],
      "id": "effective-occasions",
      "execution_count": 126,
      "outputs": [
        {
          "output_type": "stream",
          "text": [
            "Mean squared error: 458655027.23\n",
            "Root Mean Squared Error: 21416.23279729868\n",
            "Coefficient of determination: 0.57\n"
          ],
          "name": "stdout"
        }
      ]
    },
    {
      "cell_type": "markdown",
      "metadata": {
        "id": "suburban-client"
      },
      "source": [
        "### Model 4 -  GHG for Energy vs Utilities using natural logarithms\n",
        "\n",
        "\n",
        "ln(GHG) = a + b1*ln(Sales) + b2*ln(Assets) + b3*ln(Util) + b5*ln(TimeTrend) + e"
      ],
      "id": "suburban-client"
    },
    {
      "cell_type": "code",
      "metadata": {
        "id": "favorite-launch"
      },
      "source": [
        "X=stock[['Logarithm_Total_Sales','Logarithm_Total_Assets','Utility','time_trend']]\n",
        "y=stock['GHG Scope 1']"
      ],
      "id": "favorite-launch",
      "execution_count": 149,
      "outputs": []
    },
    {
      "cell_type": "code",
      "metadata": {
        "id": "zlj4QO1ACsWh"
      },
      "source": [
        "model = LinearRegression(fit_intercept=True) #Initialize model\n",
        "Xtrain, Xtest, ytrain, ytest = train_test_split(X, y, test_size=0.2, random_state=42) #Train and Test split\n",
        "model.fit(Xtrain,ytrain) #Fit the model\n",
        "y_model = model.predict(Xtest) #Make predictions"
      ],
      "id": "zlj4QO1ACsWh",
      "execution_count": 150,
      "outputs": []
    },
    {
      "cell_type": "code",
      "metadata": {
        "colab": {
          "base_uri": "https://localhost:8080/"
        },
        "id": "grtFHqCVC5F0",
        "outputId": "19618acb-6556-4350-b4fa-3401ddf91b92"
      },
      "source": [
        "#The coefficients\n",
        "print('Coefficients: \\n', model.coef_)\n",
        "#Mean Squared Error\n",
        "print('Mean squared error: %.2f' % metrics.mean_squared_error(ytest,y_model))\n",
        "print(f'Root Mean Squared Error: {np.sqrt(metrics.mean_squared_error(ytest,y_model))}')\n",
        "# The coefficient of determination: 1 is perfect prediction\n",
        "print('Coefficient of determination: %.2f'\n",
        "      % metrics.r2_score(ytest, y_model))"
      ],
      "id": "grtFHqCVC5F0",
      "execution_count": 151,
      "outputs": [
        {
          "output_type": "stream",
          "text": [
            "Coefficients: \n",
            " [11891.49071527 14604.97354257 26217.90450215  -632.58702587]\n",
            "Mean squared error: 554112883.07\n",
            "Root Mean Squared Error: 23539.602440878705\n",
            "Coefficient of determination: 0.58\n"
          ],
          "name": "stdout"
        }
      ]
    },
    {
      "cell_type": "code",
      "metadata": {
        "colab": {
          "base_uri": "https://localhost:8080/",
          "height": 0
        },
        "id": "ZWjno9mxC-p-",
        "outputId": "5339e445-243c-4aae-895e-f83a33838e25"
      },
      "source": [
        "#Create data frame with observed and predicted\n",
        "linear_reg4 = pd.DataFrame({'Observed':ytest,'Prediction':y_model})\n",
        "linear_reg4.head()"
      ],
      "id": "ZWjno9mxC-p-",
      "execution_count": 152,
      "outputs": [
        {
          "output_type": "execute_result",
          "data": {
            "text/html": [
              "<div>\n",
              "<style scoped>\n",
              "    .dataframe tbody tr th:only-of-type {\n",
              "        vertical-align: middle;\n",
              "    }\n",
              "\n",
              "    .dataframe tbody tr th {\n",
              "        vertical-align: top;\n",
              "    }\n",
              "\n",
              "    .dataframe thead th {\n",
              "        text-align: right;\n",
              "    }\n",
              "</style>\n",
              "<table border=\"1\" class=\"dataframe\">\n",
              "  <thead>\n",
              "    <tr style=\"text-align: right;\">\n",
              "      <th></th>\n",
              "      <th>Observed</th>\n",
              "      <th>Prediction</th>\n",
              "    </tr>\n",
              "  </thead>\n",
              "  <tbody>\n",
              "    <tr>\n",
              "      <th>418</th>\n",
              "      <td>3577.3</td>\n",
              "      <td>-10082.002711</td>\n",
              "    </tr>\n",
              "    <tr>\n",
              "      <th>778</th>\n",
              "      <td>119000.0</td>\n",
              "      <td>75597.535657</td>\n",
              "    </tr>\n",
              "    <tr>\n",
              "      <th>58</th>\n",
              "      <td>3410.0</td>\n",
              "      <td>-8221.854394</td>\n",
              "    </tr>\n",
              "    <tr>\n",
              "      <th>464</th>\n",
              "      <td>14296.5</td>\n",
              "      <td>5318.176349</td>\n",
              "    </tr>\n",
              "    <tr>\n",
              "      <th>206</th>\n",
              "      <td>32000.0</td>\n",
              "      <td>29450.977806</td>\n",
              "    </tr>\n",
              "  </tbody>\n",
              "</table>\n",
              "</div>"
            ],
            "text/plain": [
              "     Observed    Prediction\n",
              "418    3577.3 -10082.002711\n",
              "778  119000.0  75597.535657\n",
              "58     3410.0  -8221.854394\n",
              "464   14296.5   5318.176349\n",
              "206   32000.0  29450.977806"
            ]
          },
          "metadata": {
            "tags": []
          },
          "execution_count": 152
        }
      ]
    },
    {
      "cell_type": "markdown",
      "metadata": {
        "id": "ek-ET5WvDfuD"
      },
      "source": [
        "#### Linear regression with k-fold cross validation"
      ],
      "id": "ek-ET5WvDfuD"
    },
    {
      "cell_type": "code",
      "metadata": {
        "id": "wBn3-wbvDfuE"
      },
      "source": [
        "X = X.values\n",
        "y = y.values\n",
        "\n",
        "def kfold_cross_validation(n_splits, X, y, model_type):\n",
        "    data_y, data_yhat,coef = [], [],[]\n",
        "    kfold = KFold(n_splits=n_splits, random_state = 42, shuffle=True)\n",
        "    for train_ix, test_ix in kfold.split(X):\n",
        "        # get data\n",
        "        train_X, test_X = X[train_ix], X[test_ix]\n",
        "        train_y, test_y = y[train_ix], y[test_ix]\n",
        "        # fit model\n",
        "        model = model_type\n",
        "        model.fit(train_X, train_y)\n",
        "        # make predictions\n",
        "        yhat = model.predict(test_X)\n",
        "        coef.append(model.coef_)\n",
        "        # store\n",
        "        data_y.extend(test_y)\n",
        "        data_yhat.extend(yhat)\n",
        "\n",
        "    # Evaluate the model\n",
        "    print('Mean squared error: %.2f' % metrics.mean_squared_error(data_y, data_yhat))\n",
        "    print(f'Root Mean Squared Error: {np.sqrt(metrics.mean_squared_error(data_y, data_yhat))}')\n",
        "    print('Coefficient of determination: %.2f'% metrics.r2_score(data_y, data_yhat))"
      ],
      "id": "wBn3-wbvDfuE",
      "execution_count": 153,
      "outputs": []
    },
    {
      "cell_type": "code",
      "metadata": {
        "colab": {
          "base_uri": "https://localhost:8080/"
        },
        "id": "KYbPrV2_DfuE",
        "outputId": "b7ee6cfa-d107-4010-e578-bc72187f1e63"
      },
      "source": [
        "model1 = LinearRegression()\n",
        "kfold_cross_validation(10,X,y,model1)"
      ],
      "id": "KYbPrV2_DfuE",
      "execution_count": 154,
      "outputs": [
        {
          "output_type": "stream",
          "text": [
            "Mean squared error: 573588826.16\n",
            "Root Mean Squared Error: 23949.714531835572\n",
            "Coefficient of determination: 0.46\n"
          ],
          "name": "stdout"
        }
      ]
    },
    {
      "cell_type": "code",
      "metadata": {
        "colab": {
          "base_uri": "https://localhost:8080/"
        },
        "id": "nmw48BVyDfuF",
        "outputId": "2feba5fe-74cb-46db-91e1-f9f97c58faeb"
      },
      "source": [
        "kfold_cross_validation(5,X,y,model1)"
      ],
      "id": "nmw48BVyDfuF",
      "execution_count": 155,
      "outputs": [
        {
          "output_type": "stream",
          "text": [
            "Mean squared error: 569033682.28\n",
            "Root Mean Squared Error: 23854.426890567138\n",
            "Coefficient of determination: 0.46\n"
          ],
          "name": "stdout"
        }
      ]
    },
    {
      "cell_type": "markdown",
      "metadata": {
        "id": "UZ8r9R7cEAmG"
      },
      "source": [
        "#### Ridge Regression - Validation set approach"
      ],
      "id": "UZ8r9R7cEAmG"
    },
    {
      "cell_type": "code",
      "metadata": {
        "colab": {
          "base_uri": "https://localhost:8080/",
          "height": 0
        },
        "id": "63OKRhv_EAmH",
        "outputId": "84767c24-5b13-4422-9500-cb3a63ee3ba0"
      },
      "source": [
        "n_alphas = 100\n",
        "alphas = np.logspace(-10, -2, n_alphas)\n",
        "\n",
        "coefs = []\n",
        "for a in alphas:\n",
        "    ridge = Ridge(alpha=a, fit_intercept=False, normalize=True)\n",
        "    Xtrain, Xtest, ytrain, ytest = train_test_split(X, y, test_size=0.2, random_state=42)\n",
        "    ridge.fit(Xtrain, ytrain)\n",
        "    coefs.append(ridge.coef_)\n",
        "\n",
        "ax = plt.gca()\n",
        "ax.plot(alphas, coefs)\n",
        "ax.plot(alphas, coefs)\n",
        "ax.set_xscale('log')\n",
        "ax.set_xlim(ax.get_xlim()[::-1])  # reverse axis\n",
        "plt.xlabel('alpha')\n",
        "plt.ylabel('weights')\n",
        "plt.title('Ridge coefficients as a function of the regularization')\n",
        "plt.axis('tight')\n",
        "plt.show()"
      ],
      "id": "63OKRhv_EAmH",
      "execution_count": 156,
      "outputs": [
        {
          "output_type": "display_data",
          "data": {
            "image/png": "[encoded data removed]",
            "text/plain": [
              "<Figure size 432x288 with 1 Axes>"
            ]
          },
          "metadata": {
            "tags": [],
            "needs_background": "light"
          }
        }
      ]
    },
    {
      "cell_type": "markdown",
      "metadata": {
        "id": "vnItdngXEAmI"
      },
      "source": [
        "Do we need to standarized the data? One feature is staying high.. would it look better if we normalize it? Would the logarithm work better because it distributes the data better?"
      ],
      "id": "vnItdngXEAmI"
    },
    {
      "cell_type": "code",
      "metadata": {
        "colab": {
          "base_uri": "https://localhost:8080/"
        },
        "id": "sEFBf8HoEAmI",
        "outputId": "0813e1ae-099c-4448-e199-158790bbf623"
      },
      "source": [
        "coefs[:5] #First five coefficients\n",
        "#print(f'Last 5 coefficients: {coefs[(len(coefs) - 5):len(coefs)]}')"
      ],
      "id": "sEFBf8HoEAmI",
      "execution_count": 157,
      "outputs": [
        {
          "output_type": "execute_result",
          "data": {
            "text/plain": [
              "[array([11230.9303532 , -7677.62553281, 16361.82494703,  -938.61823508]),\n",
              " array([11230.93035319, -7677.6255328 , 16361.82494702,  -938.61823508]),\n",
              " array([11230.93035318, -7677.62553279, 16361.82494701,  -938.61823508]),\n",
              " array([11230.93035317, -7677.62553278, 16361.82494699,  -938.61823508]),\n",
              " array([11230.93035315, -7677.62553276, 16361.82494697,  -938.61823508])]"
            ]
          },
          "metadata": {
            "tags": []
          },
          "execution_count": 157
        }
      ]
    },
    {
      "cell_type": "code",
      "metadata": {
        "colab": {
          "base_uri": "https://localhost:8080/"
        },
        "id": "iQlnyJ_wEAmI",
        "outputId": "a6fcaeae-5d77-4918-bd54-f9b09ea6a680"
      },
      "source": [
        "coefs[(len(coefs) - 5):len(coefs)] #the last 5 coefficients"
      ],
      "id": "iQlnyJ_wEAmI",
      "execution_count": 158,
      "outputs": [
        {
          "output_type": "execute_result",
          "data": {
            "text/plain": [
              "[array([11228.97798009, -7675.64029429, 16359.16085853,  -938.69060806]),\n",
              " array([11228.57880384, -7675.23439843, 16358.61616101,  -938.70540492]),\n",
              " array([11228.09803565, -7674.74553711, 16357.9601241 ,  -938.72322614]),\n",
              " array([11227.51900814, -7674.15676236, 16357.17000249,  -938.74468946]),\n",
              " array([11226.82165373, -7673.44766878, 16356.21841014,  -938.77053862])]"
            ]
          },
          "metadata": {
            "tags": []
          },
          "execution_count": 158
        }
      ]
    },
    {
      "cell_type": "code",
      "metadata": {
        "id": "t4uYQBq0EAmJ"
      },
      "source": [
        "# Split data into training and test sets\n",
        "X_train, X_test , y_train, y_test = train_test_split(X, y, test_size=0.2, random_state=42)"
      ],
      "id": "t4uYQBq0EAmJ",
      "execution_count": 159,
      "outputs": []
    },
    {
      "cell_type": "markdown",
      "metadata": {
        "id": "TmSgenc-EAmJ"
      },
      "source": [
        "Instead of arbitrarily choosing alpha, we used cross-validation to choose the tuning parameter alpha. "
      ],
      "id": "TmSgenc-EAmJ"
    },
    {
      "cell_type": "code",
      "metadata": {
        "colab": {
          "base_uri": "https://localhost:8080/"
        },
        "id": "KkNRy60lEAmJ",
        "outputId": "60d119ef-f389-4bb9-ed5c-cc300aa4490b"
      },
      "source": [
        "ridgecv = RidgeCV(alphas = alphas, scoring = 'neg_mean_squared_error', normalize = True)\n",
        "ridgecv.fit(X_train, y_train)\n"
      ],
      "id": "KkNRy60lEAmJ",
      "execution_count": 160,
      "outputs": [
        {
          "output_type": "execute_result",
          "data": {
            "text/plain": [
              "RidgeCV(alphas=array([1.00000000e-10, 1.20450354e-10, 1.45082878e-10, 1.74752840e-10,\n",
              "       2.10490414e-10, 2.53536449e-10, 3.05385551e-10, 3.67837977e-10,\n",
              "       4.43062146e-10, 5.33669923e-10, 6.42807312e-10, 7.74263683e-10,\n",
              "       9.32603347e-10, 1.12332403e-09, 1.35304777e-09, 1.62975083e-09,\n",
              "       1.96304065e-09, 2.36448941e-09, 2.84803587e-09, 3.43046929e-09,\n",
              "       4.13201240e-09, 4.97702356e-0...\n",
              "       6.13590727e-04, 7.39072203e-04, 8.90215085e-04, 1.07226722e-03,\n",
              "       1.29154967e-03, 1.55567614e-03, 1.87381742e-03, 2.25701972e-03,\n",
              "       2.71858824e-03, 3.27454916e-03, 3.94420606e-03, 4.75081016e-03,\n",
              "       5.72236766e-03, 6.89261210e-03, 8.30217568e-03, 1.00000000e-02]),\n",
              "        cv=None, fit_intercept=True, gcv_mode=None, normalize=True,\n",
              "        scoring='neg_mean_squared_error', store_cv_values=False)"
            ]
          },
          "metadata": {
            "tags": []
          },
          "execution_count": 160
        }
      ]
    },
    {
      "cell_type": "code",
      "metadata": {
        "colab": {
          "base_uri": "https://localhost:8080/"
        },
        "id": "dHoA36aUEAmK",
        "outputId": "33a9f290-ddc7-4c6b-9baf-de7c7bc96af0"
      },
      "source": [
        "ridge_1 = Ridge(alpha = ridgecv.alpha_, normalize = True)\n",
        "ridge_1.fit(X_train, y_train)\n",
        "yhat_ridge = ridge_1.predict(X_test)\n",
        "\n",
        "# Evaluate the model\n",
        "print('Mean squared error: %.2f' % metrics.mean_squared_error(y_test, yhat_ridge))\n",
        "print(f'Root Mean Squared Error: {np.sqrt(metrics.mean_squared_error(y_test, yhat_ridge))}')\n",
        "print('Coefficient of determination: %.2f'% metrics.r2_score(y_test, yhat_ridge))"
      ],
      "id": "dHoA36aUEAmK",
      "execution_count": 161,
      "outputs": [
        {
          "output_type": "stream",
          "text": [
            "Mean squared error: 555343418.68\n",
            "Root Mean Squared Error: 23565.725507147083\n",
            "Coefficient of determination: 0.58\n"
          ],
          "name": "stdout"
        }
      ]
    },
    {
      "cell_type": "markdown",
      "metadata": {
        "id": "EC68yCjVFu20"
      },
      "source": [
        "#### Ridge Regression - Cross validation approach"
      ],
      "id": "EC68yCjVFu20"
    },
    {
      "cell_type": "code",
      "metadata": {
        "colab": {
          "base_uri": "https://localhost:8080/"
        },
        "id": "1Z0x4YTXFu21",
        "outputId": "b23de2d4-9f6b-45d5-d27d-27b6607e4178"
      },
      "source": [
        "kfold_cross_validation(10,X,y,ridge_1)"
      ],
      "id": "1Z0x4YTXFu21",
      "execution_count": 162,
      "outputs": [
        {
          "output_type": "stream",
          "text": [
            "Mean squared error: 573558933.09\n",
            "Root Mean Squared Error: 23949.090443900124\n",
            "Coefficient of determination: 0.46\n"
          ],
          "name": "stdout"
        }
      ]
    },
    {
      "cell_type": "code",
      "metadata": {
        "colab": {
          "base_uri": "https://localhost:8080/"
        },
        "id": "Bm5X0bFRFu22",
        "outputId": "2a0e6d75-574c-4e0b-ce59-bc3d22b70171"
      },
      "source": [
        "kfold_cross_validation(5,X,y,ridge_1)"
      ],
      "id": "Bm5X0bFRFu22",
      "execution_count": 163,
      "outputs": [
        {
          "output_type": "stream",
          "text": [
            "Mean squared error: 569122863.08\n",
            "Root Mean Squared Error: 23856.296088945717\n",
            "Coefficient of determination: 0.46\n"
          ],
          "name": "stdout"
        }
      ]
    },
    {
      "cell_type": "code",
      "metadata": {
        "colab": {
          "base_uri": "https://localhost:8080/"
        },
        "id": "FAnnZq_HFu22",
        "outputId": "fa1fde6c-9502-4a9d-cf8a-e6a155b4a230"
      },
      "source": [
        "kfold_cross_validation(2,X,y,ridge_1)"
      ],
      "id": "FAnnZq_HFu22",
      "execution_count": 164,
      "outputs": [
        {
          "output_type": "stream",
          "text": [
            "Mean squared error: 561973353.59\n",
            "Root Mean Squared Error: 23705.97717005797\n",
            "Coefficient of determination: 0.47\n"
          ],
          "name": "stdout"
        }
      ]
    },
    {
      "cell_type": "markdown",
      "metadata": {
        "id": "XVOkxPjiF-8j"
      },
      "source": [
        "#### Lasso - Validation set approach"
      ],
      "id": "XVOkxPjiF-8j"
    },
    {
      "cell_type": "code",
      "metadata": {
        "colab": {
          "base_uri": "https://localhost:8080/",
          "height": 0
        },
        "id": "IvWUf7D2F-8k",
        "outputId": "0075be8e-9818-4b76-b04c-1ada6e0860ce"
      },
      "source": [
        "lasso = Lasso(max_iter = 10000, normalize = True)\n",
        "coefs = []\n",
        "\n",
        "for a in alphas:\n",
        "    lasso.set_params(alpha=a)\n",
        "    lasso.fit(scale(X_train), y_train)\n",
        "    coefs.append(lasso.coef_)\n",
        "    \n",
        "ax = plt.gca()\n",
        "ax.plot(alphas*2, coefs)\n",
        "ax.set_xscale('log')\n",
        "plt.axis('tight')\n",
        "plt.xlabel('alpha')\n",
        "plt.ylabel('weights')"
      ],
      "id": "IvWUf7D2F-8k",
      "execution_count": 165,
      "outputs": [
        {
          "output_type": "execute_result",
          "data": {
            "text/plain": [
              "Text(0, 0.5, 'weights')"
            ]
          },
          "metadata": {
            "tags": []
          },
          "execution_count": 165
        },
        {
          "output_type": "display_data",
          "data": {
            "image/png": "[encoded data removed]",
            "text/plain": [
              "<Figure size 432x288 with 1 Axes>"
            ]
          },
          "metadata": {
            "tags": [],
            "needs_background": "light"
          }
        }
      ]
    },
    {
      "cell_type": "code",
      "metadata": {
        "colab": {
          "base_uri": "https://localhost:8080/"
        },
        "id": "bgjioWj4F-8n",
        "outputId": "94af4f99-ab79-42af-f3ef-4fc0bde5d443"
      },
      "source": [
        "lassocv = LassoCV(alphas = None, cv = 10, max_iter = 100000, normalize = True)\n",
        "lassocv.fit(X_train, y_train)\n",
        "\n",
        "print(f'The optimal alpha is {lassocv.alpha_}')"
      ],
      "id": "bgjioWj4F-8n",
      "execution_count": 166,
      "outputs": [
        {
          "output_type": "stream",
          "text": [
            "The optimal alpha is 0.9954718896794498\n"
          ],
          "name": "stdout"
        }
      ]
    },
    {
      "cell_type": "code",
      "metadata": {
        "colab": {
          "base_uri": "https://localhost:8080/"
        },
        "id": "Ovl17a07F-8n",
        "outputId": "90fb98a7-c2a9-4d3a-baf4-64c28694722c"
      },
      "source": [
        "lasso.set_params(alpha=lassocv.alpha_)\n",
        "lasso.fit(X_train, y_train)\n",
        "yhat_lasso = lasso.predict(X_test)\n",
        "\n",
        "# Evaluate the model\n",
        "print('Mean squared error: %.2f' % metrics.mean_squared_error(y_test, yhat_lasso))\n",
        "print(f'Root Mean Squared Error: {np.sqrt(metrics.mean_squared_error(y_test, yhat_lasso))}')\n",
        "print('Coefficient of determination: %.2f'% metrics.r2_score(y_test, yhat_lasso ))"
      ],
      "id": "Ovl17a07F-8n",
      "execution_count": 167,
      "outputs": [
        {
          "output_type": "stream",
          "text": [
            "Mean squared error: 554227879.45\n",
            "Root Mean Squared Error: 23542.044929260173\n",
            "Coefficient of determination: 0.58\n"
          ],
          "name": "stdout"
        }
      ]
    },
    {
      "cell_type": "markdown",
      "metadata": {
        "id": "AV2fr0KfGHQj"
      },
      "source": [
        "#### Lasso Regression - Cross validation approach"
      ],
      "id": "AV2fr0KfGHQj"
    },
    {
      "cell_type": "code",
      "metadata": {
        "colab": {
          "base_uri": "https://localhost:8080/"
        },
        "id": "iGzdw10sGHQj",
        "outputId": "9dd4e783-aa5b-409a-b603-bb23b3f539b6"
      },
      "source": [
        "kfold_cross_validation(10, X,y,lasso)"
      ],
      "id": "iGzdw10sGHQj",
      "execution_count": 168,
      "outputs": [
        {
          "output_type": "stream",
          "text": [
            "Mean squared error: 573604355.83\n",
            "Root Mean Squared Error: 23950.0387439047\n",
            "Coefficient of determination: 0.46\n"
          ],
          "name": "stdout"
        }
      ]
    },
    {
      "cell_type": "code",
      "metadata": {
        "colab": {
          "base_uri": "https://localhost:8080/"
        },
        "id": "WIhbwy_jGHQk",
        "outputId": "928e1608-15db-41c1-c0f8-42c8be59b5be"
      },
      "source": [
        "kfold_cross_validation(5, X,y,lasso)"
      ],
      "id": "WIhbwy_jGHQk",
      "execution_count": 169,
      "outputs": [
        {
          "output_type": "stream",
          "text": [
            "Mean squared error: 569052835.46\n",
            "Root Mean Squared Error: 23854.828346982482\n",
            "Coefficient of determination: 0.46\n"
          ],
          "name": "stdout"
        }
      ]
    },
    {
      "cell_type": "markdown",
      "metadata": {
        "id": "divine-glass"
      },
      "source": [
        "### Comparing the model performance"
      ],
      "id": "divine-glass"
    },
    {
      "cell_type": "markdown",
      "metadata": {
        "id": "recognized-avatar"
      },
      "source": [
        "| M.L techniques  |  Model 1 |  Model 2 |  Model 3 | Model 4  |\n",
        "|-----------------|----------|----------|----------|----------|\n",
        "|                 |          |          |          |          |\n",
        "|                 |          |          |          |          |\n",
        "|                 |          |          |          |          |"
      ],
      "id": "recognized-avatar"
    }
  ]
}