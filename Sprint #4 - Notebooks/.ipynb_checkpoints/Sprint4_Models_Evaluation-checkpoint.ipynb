{
 "cells": [
  {
   "cell_type": "markdown",
   "id": "combined-fiction",
   "metadata": {
    "id": "referenced-gabriel"
   },
   "source": [
    "# Sprint 4 - Model evaluation for Missing GHG values\n",
    "\n",
    "In this notebook, we present the four predictive models we worked on. The goal of these models is to populate missing GHG values in our dataset. "
   ]
  },
  {
   "cell_type": "markdown",
   "id": "absent-cheat",
   "metadata": {
    "id": "metric-country"
   },
   "source": [
    "## Feauture Engineering\n",
    "\n",
    "Before coding the models, we will create two new variables in our dataset. \n",
    "\n",
    "1. Missing_GHG - Boolean indicating if the stock had a missing value in that year (1 = True / 0 = False)\n",
    "2. Utilities - Boolean indicating if it is a Utility company (1 = True / 0 = False)\n",
    "3. Time Trend - Cumulative value (0,1,2,3) for each year the stock is in the dataset.\n",
    "\n",
    "The second variable will be used in the Model #3 and #4"
   ]
  },
  {
   "cell_type": "markdown",
   "id": "prescribed-synthesis",
   "metadata": {
    "id": "abandoned-latitude"
   },
   "source": [
    "#### Missing_GHG"
   ]
  },
  {
   "cell_type": "code",
   "execution_count": 1,
   "id": "personalized-charlotte",
   "metadata": {
    "colab": {
     "base_uri": "https://localhost:8080/",
     "height": 204
    },
    "id": "PV-FA_UhBI12",
    "outputId": "39cb95c5-1b6b-448c-cb76-45175e2329fa"
   },
   "outputs": [
    {
     "data": {
      "text/html": [
       "<div>\n",
       "<style scoped>\n",
       "    .dataframe tbody tr th:only-of-type {\n",
       "        vertical-align: middle;\n",
       "    }\n",
       "\n",
       "    .dataframe tbody tr th {\n",
       "        vertical-align: top;\n",
       "    }\n",
       "\n",
       "    .dataframe thead th {\n",
       "        text-align: right;\n",
       "    }\n",
       "</style>\n",
       "<table border=\"1\" class=\"dataframe\">\n",
       "  <thead>\n",
       "    <tr style=\"text-align: right;\">\n",
       "      <th></th>\n",
       "      <th>GHG Scope 1</th>\n",
       "      <th>Missing_GHG</th>\n",
       "    </tr>\n",
       "  </thead>\n",
       "  <tbody>\n",
       "    <tr>\n",
       "      <th>0</th>\n",
       "      <td>NaN</td>\n",
       "      <td>1</td>\n",
       "    </tr>\n",
       "    <tr>\n",
       "      <th>1</th>\n",
       "      <td>NaN</td>\n",
       "      <td>1</td>\n",
       "    </tr>\n",
       "    <tr>\n",
       "      <th>2</th>\n",
       "      <td>NaN</td>\n",
       "      <td>1</td>\n",
       "    </tr>\n",
       "    <tr>\n",
       "      <th>3</th>\n",
       "      <td>NaN</td>\n",
       "      <td>1</td>\n",
       "    </tr>\n",
       "    <tr>\n",
       "      <th>4</th>\n",
       "      <td>NaN</td>\n",
       "      <td>1</td>\n",
       "    </tr>\n",
       "  </tbody>\n",
       "</table>\n",
       "</div>"
      ],
      "text/plain": [
       "   GHG Scope 1  Missing_GHG\n",
       "0          NaN            1\n",
       "1          NaN            1\n",
       "2          NaN            1\n",
       "3          NaN            1\n",
       "4          NaN            1"
      ]
     },
     "execution_count": 1,
     "metadata": {},
     "output_type": "execute_result"
    }
   ],
   "source": [
    "import pandas as pd\n",
    "import numpy as np\n",
    "import seaborn as sns\n",
    "import matplotlib.pyplot as plt\n",
    "import missingno as msno\n",
    "from sklearn.linear_model import LinearRegression, Ridge, RidgeCV, Lasso, LassoCV\n",
    "from sklearn.tree import DecisionTreeClassifier\n",
    "from sklearn.model_selection import train_test_split, cross_val_score, KFold, cross_val_predict\n",
    "from sklearn import metrics\n",
    "from sklearn.metrics import r2_score\n",
    "from sklearn.preprocessing import scale, PolynomialFeatures\n",
    "from sklearn.feature_selection import RFE\n",
    "from datetime import datetime, date\n",
    "\n",
    "stocks = pd.read_csv(\"/Users/maralinetorres/Documents/GitHub/Predicting-Environmental-and-Social-Actions/Datasets/company_data.csv\")\n",
    "sectors = pd.read_csv(\"/Users/maralinetorres/Documents/GitHub/Predicting-Environmental-and-Social-Actions/Datasets/52_tickers_sectors.csv\")\n",
    "\n",
    "stocks['Missing_GHG'] = np.where(stocks['GHG Scope 1'].isna(), 1, 0)\n",
    "stocks.loc[stocks['GHG Scope 1'].isna(),['GHG Scope 1','Missing_GHG']].head()"
   ]
  },
  {
   "cell_type": "markdown",
   "id": "convinced-miniature",
   "metadata": {
    "id": "present-nurse"
   },
   "source": [
    "#### Utilities"
   ]
  },
  {
   "cell_type": "code",
   "execution_count": 2,
   "id": "superior-mapping",
   "metadata": {
    "colab": {
     "base_uri": "https://localhost:8080/",
     "height": 394
    },
    "id": "posted-blair",
    "outputId": "28b58b4a-37d9-470c-ac6e-36ecf11fa079"
   },
   "outputs": [
    {
     "data": {
      "text/html": [
       "<div>\n",
       "<style scoped>\n",
       "    .dataframe tbody tr th:only-of-type {\n",
       "        vertical-align: middle;\n",
       "    }\n",
       "\n",
       "    .dataframe tbody tr th {\n",
       "        vertical-align: top;\n",
       "    }\n",
       "\n",
       "    .dataframe thead th {\n",
       "        text-align: right;\n",
       "    }\n",
       "</style>\n",
       "<table border=\"1\" class=\"dataframe\">\n",
       "  <thead>\n",
       "    <tr style=\"text-align: right;\">\n",
       "      <th></th>\n",
       "      <th>Year</th>\n",
       "      <th>Ticker</th>\n",
       "      <th>Environmental Disclosure Score</th>\n",
       "      <th>GHG Scope 1</th>\n",
       "      <th>Total Energy Consumption</th>\n",
       "      <th>Change_in_EDS</th>\n",
       "      <th>Change_in_GHG</th>\n",
       "      <th>Change_in_TEC</th>\n",
       "      <th>Ratio of GHG Emissions to Total Assets</th>\n",
       "      <th>Ratio of GHG Emissions to Total Sales</th>\n",
       "      <th>...</th>\n",
       "      <th>Change_in_NI</th>\n",
       "      <th>ROA</th>\n",
       "      <th>Profit_Margin</th>\n",
       "      <th>Annual Return</th>\n",
       "      <th>Logarithm_Total_Assets</th>\n",
       "      <th>Logarithm_Total_Sales</th>\n",
       "      <th>Profitable</th>\n",
       "      <th>Missing_GHG</th>\n",
       "      <th>Sector</th>\n",
       "      <th>Utility</th>\n",
       "    </tr>\n",
       "  </thead>\n",
       "  <tbody>\n",
       "    <tr>\n",
       "      <th>0</th>\n",
       "      <td>2005</td>\n",
       "      <td>AEE</td>\n",
       "      <td>NaN</td>\n",
       "      <td>NaN</td>\n",
       "      <td>NaN</td>\n",
       "      <td>0.000000</td>\n",
       "      <td>0.0</td>\n",
       "      <td>0.0</td>\n",
       "      <td>NaN</td>\n",
       "      <td>NaN</td>\n",
       "      <td>...</td>\n",
       "      <td>0.000000</td>\n",
       "      <td>3.408215</td>\n",
       "      <td>9.129794</td>\n",
       "      <td>NaN</td>\n",
       "      <td>9.807087</td>\n",
       "      <td>8.821732</td>\n",
       "      <td>True</td>\n",
       "      <td>1</td>\n",
       "      <td>Utilities</td>\n",
       "      <td>1</td>\n",
       "    </tr>\n",
       "    <tr>\n",
       "      <th>1</th>\n",
       "      <td>2006</td>\n",
       "      <td>AEE</td>\n",
       "      <td>NaN</td>\n",
       "      <td>NaN</td>\n",
       "      <td>NaN</td>\n",
       "      <td>0.000000</td>\n",
       "      <td>0.0</td>\n",
       "      <td>0.0</td>\n",
       "      <td>NaN</td>\n",
       "      <td>NaN</td>\n",
       "      <td>...</td>\n",
       "      <td>-9.854604</td>\n",
       "      <td>2.850138</td>\n",
       "      <td>8.110465</td>\n",
       "      <td>NaN</td>\n",
       "      <td>9.882162</td>\n",
       "      <td>8.836374</td>\n",
       "      <td>True</td>\n",
       "      <td>1</td>\n",
       "      <td>Utilities</td>\n",
       "      <td>1</td>\n",
       "    </tr>\n",
       "    <tr>\n",
       "      <th>2</th>\n",
       "      <td>2007</td>\n",
       "      <td>AEE</td>\n",
       "      <td>9.7</td>\n",
       "      <td>NaN</td>\n",
       "      <td>NaN</td>\n",
       "      <td>0.000000</td>\n",
       "      <td>0.0</td>\n",
       "      <td>0.0</td>\n",
       "      <td>NaN</td>\n",
       "      <td>NaN</td>\n",
       "      <td>...</td>\n",
       "      <td>12.724014</td>\n",
       "      <td>3.034543</td>\n",
       "      <td>8.335542</td>\n",
       "      <td>NaN</td>\n",
       "      <td>9.939241</td>\n",
       "      <td>8.928773</td>\n",
       "      <td>True</td>\n",
       "      <td>1</td>\n",
       "      <td>Utilities</td>\n",
       "      <td>1</td>\n",
       "    </tr>\n",
       "    <tr>\n",
       "      <th>3</th>\n",
       "      <td>2008</td>\n",
       "      <td>AEE</td>\n",
       "      <td>9.7</td>\n",
       "      <td>NaN</td>\n",
       "      <td>NaN</td>\n",
       "      <td>0.000000</td>\n",
       "      <td>0.0</td>\n",
       "      <td>0.0</td>\n",
       "      <td>NaN</td>\n",
       "      <td>NaN</td>\n",
       "      <td>...</td>\n",
       "      <td>-2.225755</td>\n",
       "      <td>2.714393</td>\n",
       "      <td>7.845388</td>\n",
       "      <td>NaN</td>\n",
       "      <td>10.028224</td>\n",
       "      <td>8.966867</td>\n",
       "      <td>True</td>\n",
       "      <td>1</td>\n",
       "      <td>Utilities</td>\n",
       "      <td>1</td>\n",
       "    </tr>\n",
       "    <tr>\n",
       "      <th>4</th>\n",
       "      <td>2009</td>\n",
       "      <td>AEE</td>\n",
       "      <td>12.4</td>\n",
       "      <td>NaN</td>\n",
       "      <td>NaN</td>\n",
       "      <td>27.835052</td>\n",
       "      <td>0.0</td>\n",
       "      <td>0.0</td>\n",
       "      <td>NaN</td>\n",
       "      <td>NaN</td>\n",
       "      <td>...</td>\n",
       "      <td>-0.487805</td>\n",
       "      <td>2.572509</td>\n",
       "      <td>8.631876</td>\n",
       "      <td>NaN</td>\n",
       "      <td>10.077021</td>\n",
       "      <td>8.866441</td>\n",
       "      <td>True</td>\n",
       "      <td>1</td>\n",
       "      <td>Utilities</td>\n",
       "      <td>1</td>\n",
       "    </tr>\n",
       "  </tbody>\n",
       "</table>\n",
       "<p>5 rows × 30 columns</p>\n",
       "</div>"
      ],
      "text/plain": [
       "   Year Ticker  Environmental Disclosure Score  GHG Scope 1  \\\n",
       "0  2005    AEE                             NaN          NaN   \n",
       "1  2006    AEE                             NaN          NaN   \n",
       "2  2007    AEE                             9.7          NaN   \n",
       "3  2008    AEE                             9.7          NaN   \n",
       "4  2009    AEE                            12.4          NaN   \n",
       "\n",
       "   Total Energy Consumption  Change_in_EDS  Change_in_GHG  Change_in_TEC  \\\n",
       "0                       NaN       0.000000            0.0            0.0   \n",
       "1                       NaN       0.000000            0.0            0.0   \n",
       "2                       NaN       0.000000            0.0            0.0   \n",
       "3                       NaN       0.000000            0.0            0.0   \n",
       "4                       NaN      27.835052            0.0            0.0   \n",
       "\n",
       "   Ratio of GHG Emissions to Total Assets  \\\n",
       "0                                     NaN   \n",
       "1                                     NaN   \n",
       "2                                     NaN   \n",
       "3                                     NaN   \n",
       "4                                     NaN   \n",
       "\n",
       "   Ratio of GHG Emissions to Total Sales  ...  Change_in_NI       ROA  \\\n",
       "0                                    NaN  ...      0.000000  3.408215   \n",
       "1                                    NaN  ...     -9.854604  2.850138   \n",
       "2                                    NaN  ...     12.724014  3.034543   \n",
       "3                                    NaN  ...     -2.225755  2.714393   \n",
       "4                                    NaN  ...     -0.487805  2.572509   \n",
       "\n",
       "  Profit_Margin Annual Return  Logarithm_Total_Assets  Logarithm_Total_Sales  \\\n",
       "0      9.129794           NaN                9.807087               8.821732   \n",
       "1      8.110465           NaN                9.882162               8.836374   \n",
       "2      8.335542           NaN                9.939241               8.928773   \n",
       "3      7.845388           NaN               10.028224               8.966867   \n",
       "4      8.631876           NaN               10.077021               8.866441   \n",
       "\n",
       "   Profitable  Missing_GHG     Sector  Utility  \n",
       "0        True            1  Utilities        1  \n",
       "1        True            1  Utilities        1  \n",
       "2        True            1  Utilities        1  \n",
       "3        True            1  Utilities        1  \n",
       "4        True            1  Utilities        1  \n",
       "\n",
       "[5 rows x 30 columns]"
      ]
     },
     "execution_count": 2,
     "metadata": {},
     "output_type": "execute_result"
    }
   ],
   "source": [
    "df = pd.merge(stocks, sectors, how='inner',on='Ticker')\n",
    "df.drop(columns='Name', inplace=True)\n",
    "stocks = df.copy()\n",
    "stocks['Utility'] = np.where(stocks.Sector == 'Utilities',1,0)\n",
    "stocks.loc[stocks.Sector == 'Utilities',].head()"
   ]
  },
  {
   "cell_type": "markdown",
   "id": "cordless-interaction",
   "metadata": {
    "id": "tamil-fault"
   },
   "source": [
    "#### Time trend"
   ]
  },
  {
   "cell_type": "code",
   "execution_count": 3,
   "id": "collective-jesus",
   "metadata": {
    "colab": {
     "base_uri": "https://localhost:8080/"
    },
    "id": "moved-adapter",
    "outputId": "5108241a-132c-4250-8302-b38ac89fc425"
   },
   "outputs": [
    {
     "data": {
      "text/html": [
       "<div>\n",
       "<style scoped>\n",
       "    .dataframe tbody tr th:only-of-type {\n",
       "        vertical-align: middle;\n",
       "    }\n",
       "\n",
       "    .dataframe tbody tr th {\n",
       "        vertical-align: top;\n",
       "    }\n",
       "\n",
       "    .dataframe thead th {\n",
       "        text-align: right;\n",
       "    }\n",
       "</style>\n",
       "<table border=\"1\" class=\"dataframe\">\n",
       "  <thead>\n",
       "    <tr style=\"text-align: right;\">\n",
       "      <th></th>\n",
       "      <th>Year</th>\n",
       "      <th>Ticker</th>\n",
       "      <th>Environmental Disclosure Score</th>\n",
       "      <th>GHG Scope 1</th>\n",
       "      <th>Total Energy Consumption</th>\n",
       "      <th>Change_in_EDS</th>\n",
       "      <th>Change_in_GHG</th>\n",
       "      <th>Change_in_TEC</th>\n",
       "      <th>Ratio of GHG Emissions to Total Assets</th>\n",
       "      <th>Ratio of GHG Emissions to Total Sales</th>\n",
       "      <th>...</th>\n",
       "      <th>ROA</th>\n",
       "      <th>Profit_Margin</th>\n",
       "      <th>Annual Return</th>\n",
       "      <th>Logarithm_Total_Assets</th>\n",
       "      <th>Logarithm_Total_Sales</th>\n",
       "      <th>Profitable</th>\n",
       "      <th>Missing_GHG</th>\n",
       "      <th>Sector</th>\n",
       "      <th>Utility</th>\n",
       "      <th>time_trend</th>\n",
       "    </tr>\n",
       "  </thead>\n",
       "  <tbody>\n",
       "    <tr>\n",
       "      <th>765</th>\n",
       "      <td>2005</td>\n",
       "      <td>XOM</td>\n",
       "      <td>NaN</td>\n",
       "      <td>NaN</td>\n",
       "      <td>NaN</td>\n",
       "      <td>0.000000</td>\n",
       "      <td>0.000000</td>\n",
       "      <td>0.000000</td>\n",
       "      <td>NaN</td>\n",
       "      <td>NaN</td>\n",
       "      <td>...</td>\n",
       "      <td>17.342261</td>\n",
       "      <td>11.008095</td>\n",
       "      <td>NaN</td>\n",
       "      <td>12.246903</td>\n",
       "      <td>12.701418</td>\n",
       "      <td>True</td>\n",
       "      <td>1</td>\n",
       "      <td>Energy</td>\n",
       "      <td>0</td>\n",
       "      <td>0</td>\n",
       "    </tr>\n",
       "    <tr>\n",
       "      <th>766</th>\n",
       "      <td>2006</td>\n",
       "      <td>XOM</td>\n",
       "      <td>43.8</td>\n",
       "      <td>145500.0</td>\n",
       "      <td>433650.0</td>\n",
       "      <td>0.000000</td>\n",
       "      <td>0.000000</td>\n",
       "      <td>0.000000</td>\n",
       "      <td>664.338059</td>\n",
       "      <td>434.216888</td>\n",
       "      <td>...</td>\n",
       "      <td>18.035294</td>\n",
       "      <td>11.788019</td>\n",
       "      <td>NaN</td>\n",
       "      <td>12.296895</td>\n",
       "      <td>12.722142</td>\n",
       "      <td>True</td>\n",
       "      <td>0</td>\n",
       "      <td>Energy</td>\n",
       "      <td>0</td>\n",
       "      <td>1</td>\n",
       "    </tr>\n",
       "    <tr>\n",
       "      <th>767</th>\n",
       "      <td>2007</td>\n",
       "      <td>XOM</td>\n",
       "      <td>46.3</td>\n",
       "      <td>141000.0</td>\n",
       "      <td>430556.0</td>\n",
       "      <td>5.707763</td>\n",
       "      <td>-3.092784</td>\n",
       "      <td>-0.713479</td>\n",
       "      <td>582.447270</td>\n",
       "      <td>393.195761</td>\n",
       "      <td>...</td>\n",
       "      <td>16.775308</td>\n",
       "      <td>11.324596</td>\n",
       "      <td>NaN</td>\n",
       "      <td>12.397032</td>\n",
       "      <td>12.789963</td>\n",
       "      <td>True</td>\n",
       "      <td>0</td>\n",
       "      <td>Energy</td>\n",
       "      <td>0</td>\n",
       "      <td>2</td>\n",
       "    </tr>\n",
       "    <tr>\n",
       "      <th>768</th>\n",
       "      <td>2008</td>\n",
       "      <td>XOM</td>\n",
       "      <td>46.3</td>\n",
       "      <td>126000.0</td>\n",
       "      <td>416667.0</td>\n",
       "      <td>0.000000</td>\n",
       "      <td>-10.638298</td>\n",
       "      <td>-3.225829</td>\n",
       "      <td>552.505569</td>\n",
       "      <td>296.421068</td>\n",
       "      <td>...</td>\n",
       "      <td>19.828811</td>\n",
       "      <td>10.638223</td>\n",
       "      <td>NaN</td>\n",
       "      <td>12.337329</td>\n",
       "      <td>12.960011</td>\n",
       "      <td>True</td>\n",
       "      <td>0</td>\n",
       "      <td>Energy</td>\n",
       "      <td>0</td>\n",
       "      <td>3</td>\n",
       "    </tr>\n",
       "    <tr>\n",
       "      <th>769</th>\n",
       "      <td>2009</td>\n",
       "      <td>XOM</td>\n",
       "      <td>52.9</td>\n",
       "      <td>128000.0</td>\n",
       "      <td>405639.0</td>\n",
       "      <td>14.254860</td>\n",
       "      <td>1.587302</td>\n",
       "      <td>-2.646718</td>\n",
       "      <td>548.595724</td>\n",
       "      <td>464.501894</td>\n",
       "      <td>...</td>\n",
       "      <td>8.263223</td>\n",
       "      <td>6.996560</td>\n",
       "      <td>NaN</td>\n",
       "      <td>12.360179</td>\n",
       "      <td>12.526575</td>\n",
       "      <td>True</td>\n",
       "      <td>0</td>\n",
       "      <td>Energy</td>\n",
       "      <td>0</td>\n",
       "      <td>4</td>\n",
       "    </tr>\n",
       "    <tr>\n",
       "      <th>770</th>\n",
       "      <td>2010</td>\n",
       "      <td>XOM</td>\n",
       "      <td>54.6</td>\n",
       "      <td>132000.0</td>\n",
       "      <td>408333.0</td>\n",
       "      <td>3.213611</td>\n",
       "      <td>3.125000</td>\n",
       "      <td>0.664137</td>\n",
       "      <td>436.349212</td>\n",
       "      <td>386.441750</td>\n",
       "      <td>...</td>\n",
       "      <td>10.069089</td>\n",
       "      <td>8.917436</td>\n",
       "      <td>NaN</td>\n",
       "      <td>12.619870</td>\n",
       "      <td>12.741331</td>\n",
       "      <td>True</td>\n",
       "      <td>0</td>\n",
       "      <td>Energy</td>\n",
       "      <td>0</td>\n",
       "      <td>5</td>\n",
       "    </tr>\n",
       "    <tr>\n",
       "      <th>771</th>\n",
       "      <td>2011</td>\n",
       "      <td>XOM</td>\n",
       "      <td>54.6</td>\n",
       "      <td>136000.0</td>\n",
       "      <td>430556.0</td>\n",
       "      <td>0.000000</td>\n",
       "      <td>3.030303</td>\n",
       "      <td>5.442372</td>\n",
       "      <td>410.811595</td>\n",
       "      <td>313.706675</td>\n",
       "      <td>...</td>\n",
       "      <td>12.402885</td>\n",
       "      <td>9.471174</td>\n",
       "      <td>NaN</td>\n",
       "      <td>12.710031</td>\n",
       "      <td>12.979707</td>\n",
       "      <td>True</td>\n",
       "      <td>0</td>\n",
       "      <td>Energy</td>\n",
       "      <td>0</td>\n",
       "      <td>6</td>\n",
       "    </tr>\n",
       "    <tr>\n",
       "      <th>772</th>\n",
       "      <td>2012</td>\n",
       "      <td>XOM</td>\n",
       "      <td>55.4</td>\n",
       "      <td>132000.0</td>\n",
       "      <td>416667.0</td>\n",
       "      <td>1.465201</td>\n",
       "      <td>-2.941176</td>\n",
       "      <td>-3.225829</td>\n",
       "      <td>395.452299</td>\n",
       "      <td>313.752335</td>\n",
       "      <td>...</td>\n",
       "      <td>13.445378</td>\n",
       "      <td>10.667579</td>\n",
       "      <td>0.198270</td>\n",
       "      <td>12.718282</td>\n",
       "      <td>12.949709</td>\n",
       "      <td>True</td>\n",
       "      <td>0</td>\n",
       "      <td>Energy</td>\n",
       "      <td>0</td>\n",
       "      <td>7</td>\n",
       "    </tr>\n",
       "    <tr>\n",
       "      <th>773</th>\n",
       "      <td>2013</td>\n",
       "      <td>XOM</td>\n",
       "      <td>55.4</td>\n",
       "      <td>135000.0</td>\n",
       "      <td>416667.0</td>\n",
       "      <td>0.000000</td>\n",
       "      <td>2.272727</td>\n",
       "      <td>0.000000</td>\n",
       "      <td>389.264377</td>\n",
       "      <td>345.934754</td>\n",
       "      <td>...</td>\n",
       "      <td>9.394247</td>\n",
       "      <td>8.348559</td>\n",
       "      <td>0.120157</td>\n",
       "      <td>12.756527</td>\n",
       "      <td>12.874535</td>\n",
       "      <td>True</td>\n",
       "      <td>0</td>\n",
       "      <td>Energy</td>\n",
       "      <td>0</td>\n",
       "      <td>8</td>\n",
       "    </tr>\n",
       "    <tr>\n",
       "      <th>774</th>\n",
       "      <td>2014</td>\n",
       "      <td>XOM</td>\n",
       "      <td>55.4</td>\n",
       "      <td>121000.0</td>\n",
       "      <td>444444.0</td>\n",
       "      <td>0.000000</td>\n",
       "      <td>-10.370370</td>\n",
       "      <td>6.666475</td>\n",
       "      <td>346.215804</td>\n",
       "      <td>331.722242</td>\n",
       "      <td>...</td>\n",
       "      <td>9.304907</td>\n",
       "      <td>8.915378</td>\n",
       "      <td>0.352835</td>\n",
       "      <td>12.764239</td>\n",
       "      <td>12.807003</td>\n",
       "      <td>True</td>\n",
       "      <td>0</td>\n",
       "      <td>Energy</td>\n",
       "      <td>0</td>\n",
       "      <td>9</td>\n",
       "    </tr>\n",
       "    <tr>\n",
       "      <th>775</th>\n",
       "      <td>2015</td>\n",
       "      <td>XOM</td>\n",
       "      <td>55.4</td>\n",
       "      <td>118000.0</td>\n",
       "      <td>472222.0</td>\n",
       "      <td>0.000000</td>\n",
       "      <td>-2.479339</td>\n",
       "      <td>6.250056</td>\n",
       "      <td>350.399990</td>\n",
       "      <td>498.289768</td>\n",
       "      <td>...</td>\n",
       "      <td>4.795729</td>\n",
       "      <td>6.819813</td>\n",
       "      <td>0.025943</td>\n",
       "      <td>12.727120</td>\n",
       "      <td>12.375013</td>\n",
       "      <td>True</td>\n",
       "      <td>0</td>\n",
       "      <td>Energy</td>\n",
       "      <td>0</td>\n",
       "      <td>10</td>\n",
       "    </tr>\n",
       "    <tr>\n",
       "      <th>776</th>\n",
       "      <td>2016</td>\n",
       "      <td>XOM</td>\n",
       "      <td>53.7</td>\n",
       "      <td>120000.0</td>\n",
       "      <td>416667.0</td>\n",
       "      <td>-3.068592</td>\n",
       "      <td>1.694915</td>\n",
       "      <td>-11.764594</td>\n",
       "      <td>363.290687</td>\n",
       "      <td>607.539566</td>\n",
       "      <td>...</td>\n",
       "      <td>2.373499</td>\n",
       "      <td>3.969258</td>\n",
       "      <td>0.105391</td>\n",
       "      <td>12.707799</td>\n",
       "      <td>12.193585</td>\n",
       "      <td>True</td>\n",
       "      <td>0</td>\n",
       "      <td>Energy</td>\n",
       "      <td>0</td>\n",
       "      <td>11</td>\n",
       "    </tr>\n",
       "    <tr>\n",
       "      <th>777</th>\n",
       "      <td>2017</td>\n",
       "      <td>XOM</td>\n",
       "      <td>53.7</td>\n",
       "      <td>117000.0</td>\n",
       "      <td>416667.0</td>\n",
       "      <td>0.000000</td>\n",
       "      <td>-2.500000</td>\n",
       "      <td>0.000000</td>\n",
       "      <td>335.540636</td>\n",
       "      <td>493.333671</td>\n",
       "      <td>...</td>\n",
       "      <td>5.652569</td>\n",
       "      <td>8.310775</td>\n",
       "      <td>0.125855</td>\n",
       "      <td>12.761941</td>\n",
       "      <td>12.376499</td>\n",
       "      <td>True</td>\n",
       "      <td>0</td>\n",
       "      <td>Energy</td>\n",
       "      <td>0</td>\n",
       "      <td>12</td>\n",
       "    </tr>\n",
       "    <tr>\n",
       "      <th>778</th>\n",
       "      <td>2018</td>\n",
       "      <td>XOM</td>\n",
       "      <td>53.7</td>\n",
       "      <td>119000.0</td>\n",
       "      <td>416667.0</td>\n",
       "      <td>0.000000</td>\n",
       "      <td>1.709402</td>\n",
       "      <td>0.000000</td>\n",
       "      <td>343.735918</td>\n",
       "      <td>426.016353</td>\n",
       "      <td>...</td>\n",
       "      <td>6.019711</td>\n",
       "      <td>7.460656</td>\n",
       "      <td>0.175170</td>\n",
       "      <td>12.754760</td>\n",
       "      <td>12.540156</td>\n",
       "      <td>True</td>\n",
       "      <td>0</td>\n",
       "      <td>Energy</td>\n",
       "      <td>0</td>\n",
       "      <td>13</td>\n",
       "    </tr>\n",
       "    <tr>\n",
       "      <th>779</th>\n",
       "      <td>2019</td>\n",
       "      <td>XOM</td>\n",
       "      <td>56.2</td>\n",
       "      <td>114000.0</td>\n",
       "      <td>416667.0</td>\n",
       "      <td>4.655493</td>\n",
       "      <td>-4.201681</td>\n",
       "      <td>0.000000</td>\n",
       "      <td>314.398630</td>\n",
       "      <td>446.039056</td>\n",
       "      <td>...</td>\n",
       "      <td>3.954804</td>\n",
       "      <td>5.610702</td>\n",
       "      <td>0.407673</td>\n",
       "      <td>12.801047</td>\n",
       "      <td>12.451302</td>\n",
       "      <td>True</td>\n",
       "      <td>0</td>\n",
       "      <td>Energy</td>\n",
       "      <td>0</td>\n",
       "      <td>14</td>\n",
       "    </tr>\n",
       "  </tbody>\n",
       "</table>\n",
       "<p>15 rows × 31 columns</p>\n",
       "</div>"
      ],
      "text/plain": [
       "     Year Ticker  Environmental Disclosure Score  GHG Scope 1  \\\n",
       "765  2005    XOM                             NaN          NaN   \n",
       "766  2006    XOM                            43.8     145500.0   \n",
       "767  2007    XOM                            46.3     141000.0   \n",
       "768  2008    XOM                            46.3     126000.0   \n",
       "769  2009    XOM                            52.9     128000.0   \n",
       "770  2010    XOM                            54.6     132000.0   \n",
       "771  2011    XOM                            54.6     136000.0   \n",
       "772  2012    XOM                            55.4     132000.0   \n",
       "773  2013    XOM                            55.4     135000.0   \n",
       "774  2014    XOM                            55.4     121000.0   \n",
       "775  2015    XOM                            55.4     118000.0   \n",
       "776  2016    XOM                            53.7     120000.0   \n",
       "777  2017    XOM                            53.7     117000.0   \n",
       "778  2018    XOM                            53.7     119000.0   \n",
       "779  2019    XOM                            56.2     114000.0   \n",
       "\n",
       "     Total Energy Consumption  Change_in_EDS  Change_in_GHG  Change_in_TEC  \\\n",
       "765                       NaN       0.000000       0.000000       0.000000   \n",
       "766                  433650.0       0.000000       0.000000       0.000000   \n",
       "767                  430556.0       5.707763      -3.092784      -0.713479   \n",
       "768                  416667.0       0.000000     -10.638298      -3.225829   \n",
       "769                  405639.0      14.254860       1.587302      -2.646718   \n",
       "770                  408333.0       3.213611       3.125000       0.664137   \n",
       "771                  430556.0       0.000000       3.030303       5.442372   \n",
       "772                  416667.0       1.465201      -2.941176      -3.225829   \n",
       "773                  416667.0       0.000000       2.272727       0.000000   \n",
       "774                  444444.0       0.000000     -10.370370       6.666475   \n",
       "775                  472222.0       0.000000      -2.479339       6.250056   \n",
       "776                  416667.0      -3.068592       1.694915     -11.764594   \n",
       "777                  416667.0       0.000000      -2.500000       0.000000   \n",
       "778                  416667.0       0.000000       1.709402       0.000000   \n",
       "779                  416667.0       4.655493      -4.201681       0.000000   \n",
       "\n",
       "     Ratio of GHG Emissions to Total Assets  \\\n",
       "765                                     NaN   \n",
       "766                              664.338059   \n",
       "767                              582.447270   \n",
       "768                              552.505569   \n",
       "769                              548.595724   \n",
       "770                              436.349212   \n",
       "771                              410.811595   \n",
       "772                              395.452299   \n",
       "773                              389.264377   \n",
       "774                              346.215804   \n",
       "775                              350.399990   \n",
       "776                              363.290687   \n",
       "777                              335.540636   \n",
       "778                              343.735918   \n",
       "779                              314.398630   \n",
       "\n",
       "     Ratio of GHG Emissions to Total Sales  ...        ROA  Profit_Margin  \\\n",
       "765                                    NaN  ...  17.342261      11.008095   \n",
       "766                             434.216888  ...  18.035294      11.788019   \n",
       "767                             393.195761  ...  16.775308      11.324596   \n",
       "768                             296.421068  ...  19.828811      10.638223   \n",
       "769                             464.501894  ...   8.263223       6.996560   \n",
       "770                             386.441750  ...  10.069089       8.917436   \n",
       "771                             313.706675  ...  12.402885       9.471174   \n",
       "772                             313.752335  ...  13.445378      10.667579   \n",
       "773                             345.934754  ...   9.394247       8.348559   \n",
       "774                             331.722242  ...   9.304907       8.915378   \n",
       "775                             498.289768  ...   4.795729       6.819813   \n",
       "776                             607.539566  ...   2.373499       3.969258   \n",
       "777                             493.333671  ...   5.652569       8.310775   \n",
       "778                             426.016353  ...   6.019711       7.460656   \n",
       "779                             446.039056  ...   3.954804       5.610702   \n",
       "\n",
       "    Annual Return Logarithm_Total_Assets  Logarithm_Total_Sales  Profitable  \\\n",
       "765           NaN              12.246903              12.701418        True   \n",
       "766           NaN              12.296895              12.722142        True   \n",
       "767           NaN              12.397032              12.789963        True   \n",
       "768           NaN              12.337329              12.960011        True   \n",
       "769           NaN              12.360179              12.526575        True   \n",
       "770           NaN              12.619870              12.741331        True   \n",
       "771           NaN              12.710031              12.979707        True   \n",
       "772      0.198270              12.718282              12.949709        True   \n",
       "773      0.120157              12.756527              12.874535        True   \n",
       "774      0.352835              12.764239              12.807003        True   \n",
       "775      0.025943              12.727120              12.375013        True   \n",
       "776      0.105391              12.707799              12.193585        True   \n",
       "777      0.125855              12.761941              12.376499        True   \n",
       "778      0.175170              12.754760              12.540156        True   \n",
       "779      0.407673              12.801047              12.451302        True   \n",
       "\n",
       "     Missing_GHG  Sector  Utility  time_trend  \n",
       "765            1  Energy        0           0  \n",
       "766            0  Energy        0           1  \n",
       "767            0  Energy        0           2  \n",
       "768            0  Energy        0           3  \n",
       "769            0  Energy        0           4  \n",
       "770            0  Energy        0           5  \n",
       "771            0  Energy        0           6  \n",
       "772            0  Energy        0           7  \n",
       "773            0  Energy        0           8  \n",
       "774            0  Energy        0           9  \n",
       "775            0  Energy        0          10  \n",
       "776            0  Energy        0          11  \n",
       "777            0  Energy        0          12  \n",
       "778            0  Energy        0          13  \n",
       "779            0  Energy        0          14  \n",
       "\n",
       "[15 rows x 31 columns]"
      ]
     },
     "execution_count": 3,
     "metadata": {},
     "output_type": "execute_result"
    }
   ],
   "source": [
    "stocks['time_trend'] = stocks.groupby('Ticker').cumcount()\n",
    "stocks.loc[stocks.Ticker == 'XOM'].groupby(['Ticker','Year']).head(20)"
   ]
  },
  {
   "cell_type": "markdown",
   "id": "seventh-singer",
   "metadata": {
    "id": "chief-baghdad"
   },
   "source": [
    "## Models\n",
    "\n",
    "### Model 1 - Sales and Assets\n",
    "\n",
    "\n",
    "GHG = a + b1*Sales + b2*Assets + e     \n"
   ]
  },
  {
   "cell_type": "code",
   "execution_count": 4,
   "id": "alpine-referral",
   "metadata": {
    "colab": {
     "base_uri": "https://localhost:8080/"
    },
    "id": "6XpB3CW8ZW1h",
    "outputId": "4644994b-d74f-479a-9caa-eb9bf537f3fe"
   },
   "outputs": [
    {
     "data": {
      "text/plain": [
       "Index(['Year', 'Ticker', 'Environmental Disclosure Score', 'GHG Scope 1',\n",
       "       'Total Energy Consumption', 'Change_in_EDS', 'Change_in_GHG',\n",
       "       'Change_in_TEC', 'Ratio of GHG Emissions to Total Assets',\n",
       "       'Ratio of GHG Emissions to Total Sales',\n",
       "       'Ratio of Total Energy Consumption to Total Assets',\n",
       "       'Ratio of Total Energy Consumption to Total Sales', 'cusip', 'Company',\n",
       "       'Total_Assets', 'Net_Income', 'Total_Sales', 'cik', 'Change_in_Sales',\n",
       "       'Change_in_Assets', 'Change_in_NI', 'ROA', 'Profit_Margin',\n",
       "       'Annual Return', 'Logarithm_Total_Assets', 'Logarithm_Total_Sales',\n",
       "       'Profitable', 'Missing_GHG', 'Sector', 'Utility', 'time_trend'],\n",
       "      dtype='object')"
      ]
     },
     "execution_count": 4,
     "metadata": {},
     "output_type": "execute_result"
    }
   ],
   "source": [
    "df=stocks.copy()\n",
    "df.columns"
   ]
  },
  {
   "cell_type": "code",
   "execution_count": 5,
   "id": "specified-fields",
   "metadata": {
    "id": "xwVmIqfAaQC4"
   },
   "outputs": [],
   "source": [
    "da=df[['GHG Scope 1','Total_Assets','Total_Sales']]"
   ]
  },
  {
   "cell_type": "code",
   "execution_count": 6,
   "id": "included-image",
   "metadata": {
    "colab": {
     "base_uri": "https://localhost:8080/",
     "height": 415
    },
    "id": "jlC_zRkDc-_n",
    "outputId": "258f5769-c496-4be3-a768-b53b17952271"
   },
   "outputs": [
    {
     "data": {
      "text/html": [
       "<div>\n",
       "<style scoped>\n",
       "    .dataframe tbody tr th:only-of-type {\n",
       "        vertical-align: middle;\n",
       "    }\n",
       "\n",
       "    .dataframe tbody tr th {\n",
       "        vertical-align: top;\n",
       "    }\n",
       "\n",
       "    .dataframe thead th {\n",
       "        text-align: right;\n",
       "    }\n",
       "</style>\n",
       "<table border=\"1\" class=\"dataframe\">\n",
       "  <thead>\n",
       "    <tr style=\"text-align: right;\">\n",
       "      <th></th>\n",
       "      <th>GHG Scope 1</th>\n",
       "      <th>Total_Assets</th>\n",
       "      <th>Total_Sales</th>\n",
       "    </tr>\n",
       "  </thead>\n",
       "  <tbody>\n",
       "    <tr>\n",
       "      <th>8</th>\n",
       "      <td>32978.0</td>\n",
       "      <td>21042.0</td>\n",
       "      <td>5838.0</td>\n",
       "    </tr>\n",
       "    <tr>\n",
       "      <th>9</th>\n",
       "      <td>30675.0</td>\n",
       "      <td>22676.0</td>\n",
       "      <td>6053.0</td>\n",
       "    </tr>\n",
       "    <tr>\n",
       "      <th>10</th>\n",
       "      <td>28548.2</td>\n",
       "      <td>23640.0</td>\n",
       "      <td>6098.0</td>\n",
       "    </tr>\n",
       "    <tr>\n",
       "      <th>11</th>\n",
       "      <td>26795.6</td>\n",
       "      <td>24699.0</td>\n",
       "      <td>6076.0</td>\n",
       "    </tr>\n",
       "    <tr>\n",
       "      <th>12</th>\n",
       "      <td>30200.4</td>\n",
       "      <td>25945.0</td>\n",
       "      <td>6177.0</td>\n",
       "    </tr>\n",
       "    <tr>\n",
       "      <th>...</th>\n",
       "      <td>...</td>\n",
       "      <td>...</td>\n",
       "      <td>...</td>\n",
       "    </tr>\n",
       "    <tr>\n",
       "      <th>775</th>\n",
       "      <td>118000.0</td>\n",
       "      <td>336758.0</td>\n",
       "      <td>236810.0</td>\n",
       "    </tr>\n",
       "    <tr>\n",
       "      <th>776</th>\n",
       "      <td>120000.0</td>\n",
       "      <td>330314.0</td>\n",
       "      <td>197518.0</td>\n",
       "    </tr>\n",
       "    <tr>\n",
       "      <th>777</th>\n",
       "      <td>117000.0</td>\n",
       "      <td>348691.0</td>\n",
       "      <td>237162.0</td>\n",
       "    </tr>\n",
       "    <tr>\n",
       "      <th>778</th>\n",
       "      <td>119000.0</td>\n",
       "      <td>346196.0</td>\n",
       "      <td>279332.0</td>\n",
       "    </tr>\n",
       "    <tr>\n",
       "      <th>779</th>\n",
       "      <td>114000.0</td>\n",
       "      <td>362597.0</td>\n",
       "      <td>255583.0</td>\n",
       "    </tr>\n",
       "  </tbody>\n",
       "</table>\n",
       "<p>398 rows × 3 columns</p>\n",
       "</div>"
      ],
      "text/plain": [
       "     GHG Scope 1  Total_Assets  Total_Sales\n",
       "8        32978.0       21042.0       5838.0\n",
       "9        30675.0       22676.0       6053.0\n",
       "10       28548.2       23640.0       6098.0\n",
       "11       26795.6       24699.0       6076.0\n",
       "12       30200.4       25945.0       6177.0\n",
       "..           ...           ...          ...\n",
       "775     118000.0      336758.0     236810.0\n",
       "776     120000.0      330314.0     197518.0\n",
       "777     117000.0      348691.0     237162.0\n",
       "778     119000.0      346196.0     279332.0\n",
       "779     114000.0      362597.0     255583.0\n",
       "\n",
       "[398 rows x 3 columns]"
      ]
     },
     "execution_count": 6,
     "metadata": {},
     "output_type": "execute_result"
    }
   ],
   "source": [
    "dn=da.dropna()\n",
    "dn"
   ]
  },
  {
   "cell_type": "code",
   "execution_count": 7,
   "id": "other-locking",
   "metadata": {
    "id": "bca7cLlTdsez"
   },
   "outputs": [
    {
     "data": {
      "text/plain": [
       "LinearRegression()"
      ]
     },
     "execution_count": 7,
     "metadata": {},
     "output_type": "execute_result"
    }
   ],
   "source": [
    "X = dn.iloc[:, 1:3].values\n",
    "y = dn.iloc[:, 0].values\n",
    "X_train, X_test, y_train, y_test = train_test_split(X, y, test_size=0.2, random_state=42)\n",
    "regressor = LinearRegression()\n",
    "regressor.fit(X_train, y_train)"
   ]
  },
  {
   "cell_type": "code",
   "execution_count": 8,
   "id": "above-vacuum",
   "metadata": {
    "id": "generic-surrey"
   },
   "outputs": [
    {
     "name": "stdout",
     "output_type": "stream",
     "text": [
      "8051.399968329075\n"
     ]
    }
   ],
   "source": [
    "print(regressor.intercept_)"
   ]
  },
  {
   "cell_type": "code",
   "execution_count": 9,
   "id": "foster-building",
   "metadata": {
    "colab": {
     "base_uri": "https://localhost:8080/",
     "height": 415
    },
    "id": "2xH0qzXjHWHX",
    "outputId": "bc995d26-7712-49a4-f67e-8c6d363e3896"
   },
   "outputs": [
    {
     "data": {
      "text/html": [
       "<div>\n",
       "<style scoped>\n",
       "    .dataframe tbody tr th:only-of-type {\n",
       "        vertical-align: middle;\n",
       "    }\n",
       "\n",
       "    .dataframe tbody tr th {\n",
       "        vertical-align: top;\n",
       "    }\n",
       "\n",
       "    .dataframe thead th {\n",
       "        text-align: right;\n",
       "    }\n",
       "</style>\n",
       "<table border=\"1\" class=\"dataframe\">\n",
       "  <thead>\n",
       "    <tr style=\"text-align: right;\">\n",
       "      <th></th>\n",
       "      <th>Actual</th>\n",
       "      <th>Predicted</th>\n",
       "    </tr>\n",
       "  </thead>\n",
       "  <tbody>\n",
       "    <tr>\n",
       "      <th>0</th>\n",
       "      <td>3577.3</td>\n",
       "      <td>15212.450226</td>\n",
       "    </tr>\n",
       "    <tr>\n",
       "      <th>1</th>\n",
       "      <td>119000.0</td>\n",
       "      <td>129202.217025</td>\n",
       "    </tr>\n",
       "    <tr>\n",
       "      <th>2</th>\n",
       "      <td>3410.0</td>\n",
       "      <td>15292.058240</td>\n",
       "    </tr>\n",
       "    <tr>\n",
       "      <th>3</th>\n",
       "      <td>14296.5</td>\n",
       "      <td>13591.750163</td>\n",
       "    </tr>\n",
       "    <tr>\n",
       "      <th>4</th>\n",
       "      <td>32000.0</td>\n",
       "      <td>18793.153300</td>\n",
       "    </tr>\n",
       "    <tr>\n",
       "      <th>...</th>\n",
       "      <td>...</td>\n",
       "      <td>...</td>\n",
       "    </tr>\n",
       "    <tr>\n",
       "      <th>75</th>\n",
       "      <td>19503.9</td>\n",
       "      <td>16332.792194</td>\n",
       "    </tr>\n",
       "    <tr>\n",
       "      <th>76</th>\n",
       "      <td>3200.0</td>\n",
       "      <td>18700.183593</td>\n",
       "    </tr>\n",
       "    <tr>\n",
       "      <th>77</th>\n",
       "      <td>31207.0</td>\n",
       "      <td>17774.777860</td>\n",
       "    </tr>\n",
       "    <tr>\n",
       "      <th>78</th>\n",
       "      <td>42354.9</td>\n",
       "      <td>22217.844498</td>\n",
       "    </tr>\n",
       "    <tr>\n",
       "      <th>79</th>\n",
       "      <td>12200.0</td>\n",
       "      <td>28305.493504</td>\n",
       "    </tr>\n",
       "  </tbody>\n",
       "</table>\n",
       "<p>80 rows × 2 columns</p>\n",
       "</div>"
      ],
      "text/plain": [
       "      Actual      Predicted\n",
       "0     3577.3   15212.450226\n",
       "1   119000.0  129202.217025\n",
       "2     3410.0   15292.058240\n",
       "3    14296.5   13591.750163\n",
       "4    32000.0   18793.153300\n",
       "..       ...            ...\n",
       "75   19503.9   16332.792194\n",
       "76    3200.0   18700.183593\n",
       "77   31207.0   17774.777860\n",
       "78   42354.9   22217.844498\n",
       "79   12200.0   28305.493504\n",
       "\n",
       "[80 rows x 2 columns]"
      ]
     },
     "execution_count": 9,
     "metadata": {},
     "output_type": "execute_result"
    }
   ],
   "source": [
    "y_pred = regressor.predict(X_test)\n",
    "df = pd.DataFrame({'Actual': y_test, 'Predicted': y_pred})\n",
    "df"
   ]
  },
  {
   "cell_type": "code",
   "execution_count": 10,
   "id": "given-interest",
   "metadata": {
    "colab": {
     "base_uri": "https://localhost:8080/"
    },
    "id": "LQ6AzDEGKDBl",
    "outputId": "c3f7552f-29d0-4138-b83b-742cbc8e7982"
   },
   "outputs": [
    {
     "name": "stdout",
     "output_type": "stream",
     "text": [
      "Mean Absolute Error: 18676.830253094093\n",
      "Mean Squared Error: 596373921.626923\n",
      "Root Mean Squared Error: 24420.76824399517\n"
     ]
    }
   ],
   "source": [
    "print('Mean Absolute Error:', metrics.mean_absolute_error(y_test, y_pred))\n",
    "print('Mean Squared Error:', metrics.mean_squared_error(y_test, y_pred))\n",
    "print('Root Mean Squared Error:', np.sqrt(metrics.mean_squared_error(y_test, y_pred)))"
   ]
  },
  {
   "cell_type": "code",
   "execution_count": 11,
   "id": "official-sport",
   "metadata": {
    "colab": {
     "base_uri": "https://localhost:8080/"
    },
    "id": "2-ZcnvyxKtgE",
    "outputId": "d1264dec-88bf-43a8-a259-e5e7528f6292"
   },
   "outputs": [
    {
     "name": "stdout",
     "output_type": "stream",
     "text": [
      "R^2: 0.43150016760444276\n"
     ]
    }
   ],
   "source": [
    "r2 = regressor.score(X_train, y_train)\n",
    "print('R^2: {0}'.format(r2))"
   ]
  },
  {
   "cell_type": "code",
   "execution_count": 12,
   "id": "wooden-current",
   "metadata": {},
   "outputs": [
    {
     "data": {
      "text/html": [
       "<div>\n",
       "<style scoped>\n",
       "    .dataframe tbody tr th:only-of-type {\n",
       "        vertical-align: middle;\n",
       "    }\n",
       "\n",
       "    .dataframe tbody tr th {\n",
       "        vertical-align: top;\n",
       "    }\n",
       "\n",
       "    .dataframe thead th {\n",
       "        text-align: right;\n",
       "    }\n",
       "</style>\n",
       "<table border=\"1\" class=\"dataframe\">\n",
       "  <thead>\n",
       "    <tr style=\"text-align: right;\">\n",
       "      <th></th>\n",
       "      <th>Model</th>\n",
       "      <th>MSE</th>\n",
       "      <th>RMSE</th>\n",
       "      <th>R-Squared</th>\n",
       "    </tr>\n",
       "  </thead>\n",
       "  <tbody>\n",
       "    <tr>\n",
       "      <th>0</th>\n",
       "      <td>Linear (Sales + Asset)</td>\n",
       "      <td>5.963739e+08</td>\n",
       "      <td>24420.768244</td>\n",
       "      <td>0.547856</td>\n",
       "    </tr>\n",
       "  </tbody>\n",
       "</table>\n",
       "</div>"
      ],
      "text/plain": [
       "                    Model           MSE          RMSE  R-Squared\n",
       "0  Linear (Sales + Asset)  5.963739e+08  24420.768244   0.547856"
      ]
     },
     "execution_count": 12,
     "metadata": {},
     "output_type": "execute_result"
    }
   ],
   "source": [
    "df_model_eval = pd.DataFrame({'Model': 'Linear (Sales + Asset)','MSE': metrics.mean_squared_error(y_test, y_pred), 'RMSE' :np.sqrt(metrics.mean_squared_error(y_test, y_pred)), 'R-Squared' :  metrics.r2_score(y_test, y_pred)}, index=[0])\n",
    "\n",
    "df_model_eval"
   ]
  },
  {
   "cell_type": "markdown",
   "id": "specialized-valentine",
   "metadata": {
    "id": "educated-engineering"
   },
   "source": [
    "### Model 2 - Logarithm Sales and Assets\n",
    "\n",
    "ln(GHG) = a0 + b10*ln(Sales) + b20*ln(Assets) + e"
   ]
  },
  {
   "cell_type": "code",
   "execution_count": 13,
   "id": "environmental-clothing",
   "metadata": {
    "id": "better-regulation"
   },
   "outputs": [],
   "source": [
    "model_df = stocks[['Total_Sales', 'Total_Assets', 'GHG Scope 1']].copy()\n",
    "model_df.dropna(inplace = True)\n",
    "\n",
    "x = np.log(model_df[['Total_Sales', 'Total_Assets']])\n",
    "y = np.log(model_df['GHG Scope 1'])\n",
    "X_train, X_test, y_train, y_test = train_test_split(x, y, test_size=0.20, random_state=42)\n",
    "clf = LinearRegression().fit(X_train, y_train)\n",
    "# y_pred = clf.predict(X_test)\n",
    "y_pred = np.exp(clf.predict(X_test))\n",
    "y_test = np.exp(y_test)"
   ]
  },
  {
   "cell_type": "code",
   "execution_count": 14,
   "id": "relative-texas",
   "metadata": {
    "id": "touched-boston",
    "outputId": "b5762f30-e7d1-4d1a-ea3a-dc2c0b3a2583"
   },
   "outputs": [
    {
     "name": "stdout",
     "output_type": "stream",
     "text": [
      "Coefficients: \n",
      " [0.10981093 0.73993793]\n",
      "Mean squared error: 796139917.35\n",
      "Root Mean Squared Error: 28215.951469835454\n",
      "Coefficient of determination: 0.40\n"
     ]
    }
   ],
   "source": [
    "#The coefficients\n",
    "print('Coefficients: \\n', clf.coef_)\n",
    "#Mean Squared Error\n",
    "print('Mean squared error: %.2f' % metrics.mean_squared_error(y_test,y_pred))\n",
    "print(f'Root Mean Squared Error: {np.sqrt(metrics.mean_squared_error(y_test,y_pred))}')\n",
    "# The coefficient of determination: 1 is perfect prediction\n",
    "print('Coefficient of determination: %.2f'\n",
    "      % metrics.r2_score(y_test, y_pred))"
   ]
  },
  {
   "cell_type": "code",
   "execution_count": 15,
   "id": "fallen-country",
   "metadata": {},
   "outputs": [
    {
     "data": {
      "text/html": [
       "<div>\n",
       "<style scoped>\n",
       "    .dataframe tbody tr th:only-of-type {\n",
       "        vertical-align: middle;\n",
       "    }\n",
       "\n",
       "    .dataframe tbody tr th {\n",
       "        vertical-align: top;\n",
       "    }\n",
       "\n",
       "    .dataframe thead th {\n",
       "        text-align: right;\n",
       "    }\n",
       "</style>\n",
       "<table border=\"1\" class=\"dataframe\">\n",
       "  <thead>\n",
       "    <tr style=\"text-align: right;\">\n",
       "      <th></th>\n",
       "      <th>Observed</th>\n",
       "      <th>Prediction</th>\n",
       "    </tr>\n",
       "  </thead>\n",
       "  <tbody>\n",
       "    <tr>\n",
       "      <th>418</th>\n",
       "      <td>3577.3</td>\n",
       "      <td>7113.041245</td>\n",
       "    </tr>\n",
       "    <tr>\n",
       "      <th>778</th>\n",
       "      <td>119000.0</td>\n",
       "      <td>84476.890735</td>\n",
       "    </tr>\n",
       "    <tr>\n",
       "      <th>58</th>\n",
       "      <td>3410.0</td>\n",
       "      <td>7266.676969</td>\n",
       "    </tr>\n",
       "    <tr>\n",
       "      <th>464</th>\n",
       "      <td>14296.5</td>\n",
       "      <td>5567.369424</td>\n",
       "    </tr>\n",
       "    <tr>\n",
       "      <th>206</th>\n",
       "      <td>32000.0</td>\n",
       "      <td>10140.048533</td>\n",
       "    </tr>\n",
       "  </tbody>\n",
       "</table>\n",
       "</div>"
      ],
      "text/plain": [
       "     Observed    Prediction\n",
       "418    3577.3   7113.041245\n",
       "778  119000.0  84476.890735\n",
       "58     3410.0   7266.676969\n",
       "464   14296.5   5567.369424\n",
       "206   32000.0  10140.048533"
      ]
     },
     "execution_count": 15,
     "metadata": {},
     "output_type": "execute_result"
    }
   ],
   "source": [
    "log_reg = pd.DataFrame({'Observed':y_test,'Prediction':y_pred})\n",
    "log_reg.head()"
   ]
  },
  {
   "cell_type": "code",
   "execution_count": 16,
   "id": "arbitrary-heading",
   "metadata": {},
   "outputs": [],
   "source": [
    "df_model_eval.loc[len(df_model_eval.index)] = ['Logarithmic (Sales + Asset)', metrics.mean_squared_error(y_test,y_pred), np.sqrt(metrics.mean_squared_error(y_test,y_pred)), metrics.r2_score(y_test, y_pred)] "
   ]
  },
  {
   "cell_type": "markdown",
   "id": "cognitive-discretion",
   "metadata": {
    "id": "vital-blowing"
   },
   "source": [
    "### Model 3 -  GHG for Energy vs Utilities\n",
    "\n",
    "GHG = a + b1*Sales + b2*Assets + b3*Util + b5*TimeTrend + e\n",
    "\n",
    "#### Linear Regression - Validation set approach"
   ]
  },
  {
   "cell_type": "code",
   "execution_count": 17,
   "id": "complex-alliance",
   "metadata": {
    "colab": {
     "base_uri": "https://localhost:8080/"
    },
    "id": "freelance-maple",
    "outputId": "7779c7a4-5dbc-44e1-bcb2-1b15c4d494ff"
   },
   "outputs": [
    {
     "name": "stdout",
     "output_type": "stream",
     "text": [
      "(398, 4)\n",
      "(398,)\n"
     ]
    }
   ],
   "source": [
    "stock = stocks.copy()\n",
    "stock.dropna(inplace=True, subset = ['Total_Assets','Total_Sales','GHG Scope 1'])\n",
    "\n",
    "X = stock[['Total_Sales','Total_Assets','Utility','time_trend']]\n",
    "y = stock['GHG Scope 1']\n",
    "print(X.shape)\n",
    "print(y.shape)"
   ]
  },
  {
   "cell_type": "code",
   "execution_count": 18,
   "id": "sticky-signature",
   "metadata": {
    "id": "capable-fitting"
   },
   "outputs": [],
   "source": [
    "model = LinearRegression(fit_intercept=True) #Initialize model\n",
    "Xtrain, Xtest, ytrain, ytest = train_test_split(X, y, test_size=0.2, random_state=42) #Train and Test split\n",
    "model.fit(Xtrain,ytrain) #Fit the model\n",
    "y_model = model.predict(Xtest) #Make predictions"
   ]
  },
  {
   "cell_type": "code",
   "execution_count": 19,
   "id": "quarterly-radiation",
   "metadata": {
    "colab": {
     "base_uri": "https://localhost:8080/"
    },
    "id": "eleven-chart",
    "outputId": "79190a11-8f7c-4724-a0b8-5380df9b80e8"
   },
   "outputs": [
    {
     "name": "stdout",
     "output_type": "stream",
     "text": [
      "Coefficients: \n",
      " [ 1.27217988e-01  2.83677679e-01  2.23421275e+04 -5.58358640e+02]\n",
      "Mean squared error: 442891100.67\n",
      "Root Mean Squared Error: 21044.978039190788\n",
      "Coefficient of determination: 0.66\n"
     ]
    }
   ],
   "source": [
    "#The coefficients\n",
    "print('Coefficients: \\n', model.coef_)\n",
    "#Mean Squared Error\n",
    "print('Mean squared error: %.2f' % metrics.mean_squared_error(ytest,y_model))\n",
    "print(f'Root Mean Squared Error: {np.sqrt(metrics.mean_squared_error(ytest,y_model))}')\n",
    "# The coefficient of determination: 1 is perfect prediction\n",
    "print('Coefficient of determination: %.2f'\n",
    "      % metrics.r2_score(ytest, y_model))"
   ]
  },
  {
   "cell_type": "code",
   "execution_count": 20,
   "id": "mechanical-blend",
   "metadata": {
    "colab": {
     "base_uri": "https://localhost:8080/",
     "height": 204
    },
    "id": "cardiac-check",
    "outputId": "cccb11c0-f09b-4927-bf06-037ec13c2151"
   },
   "outputs": [
    {
     "data": {
      "text/html": [
       "<div>\n",
       "<style scoped>\n",
       "    .dataframe tbody tr th:only-of-type {\n",
       "        vertical-align: middle;\n",
       "    }\n",
       "\n",
       "    .dataframe tbody tr th {\n",
       "        vertical-align: top;\n",
       "    }\n",
       "\n",
       "    .dataframe thead th {\n",
       "        text-align: right;\n",
       "    }\n",
       "</style>\n",
       "<table border=\"1\" class=\"dataframe\">\n",
       "  <thead>\n",
       "    <tr style=\"text-align: right;\">\n",
       "      <th></th>\n",
       "      <th>Observed</th>\n",
       "      <th>Prediction</th>\n",
       "    </tr>\n",
       "  </thead>\n",
       "  <tbody>\n",
       "    <tr>\n",
       "      <th>418</th>\n",
       "      <td>3577.3</td>\n",
       "      <td>-905.917272</td>\n",
       "    </tr>\n",
       "    <tr>\n",
       "      <th>778</th>\n",
       "      <td>119000.0</td>\n",
       "      <td>125953.752659</td>\n",
       "    </tr>\n",
       "    <tr>\n",
       "      <th>58</th>\n",
       "      <td>3410.0</td>\n",
       "      <td>-735.413566</td>\n",
       "    </tr>\n",
       "    <tr>\n",
       "      <th>464</th>\n",
       "      <td>14296.5</td>\n",
       "      <td>19195.057407</td>\n",
       "    </tr>\n",
       "    <tr>\n",
       "      <th>206</th>\n",
       "      <td>32000.0</td>\n",
       "      <td>26110.108190</td>\n",
       "    </tr>\n",
       "  </tbody>\n",
       "</table>\n",
       "</div>"
      ],
      "text/plain": [
       "     Observed     Prediction\n",
       "418    3577.3    -905.917272\n",
       "778  119000.0  125953.752659\n",
       "58     3410.0    -735.413566\n",
       "464   14296.5   19195.057407\n",
       "206   32000.0   26110.108190"
      ]
     },
     "execution_count": 20,
     "metadata": {},
     "output_type": "execute_result"
    }
   ],
   "source": [
    "#Create data frame with observed and predicted\n",
    "linear_reg = pd.DataFrame({'Observed':ytest,'Prediction':y_model})\n",
    "linear_reg.head()"
   ]
  },
  {
   "cell_type": "code",
   "execution_count": 21,
   "id": "fourth-hungary",
   "metadata": {},
   "outputs": [],
   "source": [
    "df_model_eval.loc[len(df.index)] = ['Linear (Sales + Asset + Utilities + Timetrend)', metrics.mean_squared_error(ytest,y_model), {np.sqrt(metrics.mean_squared_error(ytest,y_model))}, metrics.r2_score(ytest, y_model)] "
   ]
  },
  {
   "cell_type": "markdown",
   "id": "sapphire-meter",
   "metadata": {
    "id": "married-uzbekistan"
   },
   "source": [
    "#### Linear regression with k-fold cross validation"
   ]
  },
  {
   "cell_type": "code",
   "execution_count": 22,
   "id": "another-acrylic",
   "metadata": {
    "id": "later-basketball"
   },
   "outputs": [],
   "source": [
    "X = X.values\n",
    "y = y.values\n",
    "\n",
    "def kfold_cross_validation(n_splits, X, y, model_type):\n",
    "    data_y, data_yhat,coef = [], [],[]\n",
    "    kfold = KFold(n_splits=n_splits, random_state = 42, shuffle=True)\n",
    "    for train_ix, test_ix in kfold.split(X):\n",
    "        # get data\n",
    "        train_X, test_X = X[train_ix], X[test_ix]\n",
    "        train_y, test_y = y[train_ix], y[test_ix]\n",
    "        # fit model\n",
    "        model = model_type\n",
    "        model.fit(train_X, train_y)\n",
    "        # make predictions\n",
    "        yhat = model.predict(test_X)\n",
    "        coef.append(model.coef_)\n",
    "        # store\n",
    "        data_y.extend(test_y)\n",
    "        data_yhat.extend(yhat)\n",
    "\n",
    "    # Evaluate the model\n",
    "    print('Mean squared error: %.2f' % metrics.mean_squared_error(data_y, data_yhat))\n",
    "    print(f'Root Mean Squared Error: {np.sqrt(metrics.mean_squared_error(data_y, data_yhat))}')\n",
    "    print('Coefficient of determination: %.2f'% metrics.r2_score(data_y, data_yhat))"
   ]
  },
  {
   "cell_type": "code",
   "execution_count": 23,
   "id": "acknowledged-surname",
   "metadata": {
    "colab": {
     "base_uri": "https://localhost:8080/"
    },
    "id": "efficient-upset",
    "outputId": "dddb1017-2406-4188-aaed-f4b936581a32"
   },
   "outputs": [
    {
     "name": "stdout",
     "output_type": "stream",
     "text": [
      "Mean squared error: 462201730.55\n",
      "Root Mean Squared Error: 21498.877425240873\n",
      "Coefficient of determination: 0.56\n"
     ]
    }
   ],
   "source": [
    "model1 = LinearRegression()\n",
    "kfold_cross_validation(10,X,y,model1)"
   ]
  },
  {
   "cell_type": "code",
   "execution_count": 24,
   "id": "hungry-evans",
   "metadata": {
    "colab": {
     "base_uri": "https://localhost:8080/"
    },
    "id": "former-heart",
    "outputId": "113e8beb-34bf-4897-cabd-9e2d6d6c07ea"
   },
   "outputs": [
    {
     "name": "stdout",
     "output_type": "stream",
     "text": [
      "Mean squared error: 458669164.20\n",
      "Root Mean Squared Error: 21416.562847569556\n",
      "Coefficient of determination: 0.57\n"
     ]
    }
   ],
   "source": [
    "kfold_cross_validation(5,X,y,model1)"
   ]
  },
  {
   "cell_type": "code",
   "execution_count": 25,
   "id": "everyday-jersey",
   "metadata": {},
   "outputs": [],
   "source": [
    "df_model_eval.loc[len(df_model_eval.index)] = ['Linear Regression CV 5K-fold (Sales + Asset + Utilities + Timetrend)', 458669164.20,  21416.56 ,0.57 ] "
   ]
  },
  {
   "cell_type": "markdown",
   "id": "dressed-share",
   "metadata": {
    "id": "tender-combat"
   },
   "source": [
    "#### Ridge Regression - Validation set approach"
   ]
  },
  {
   "cell_type": "code",
   "execution_count": 26,
   "id": "lightweight-contrast",
   "metadata": {
    "colab": {
     "base_uri": "https://localhost:8080/",
     "height": 299
    },
    "id": "minor-boutique",
    "outputId": "3b5b9f0b-7ae9-4bfb-e22d-9b8bb4f7674b"
   },
   "outputs": [
    {
     "data": {
      "image/png": "[encoded data removed]",
      "text/plain": [
       "<Figure size 432x288 with 1 Axes>"
      ]
     },
     "metadata": {
      "needs_background": "light"
     },
     "output_type": "display_data"
    }
   ],
   "source": [
    "n_alphas = 100\n",
    "alphas = np.logspace(-10, -2, n_alphas)\n",
    "\n",
    "coefs = []\n",
    "for a in alphas:\n",
    "    ridge = Ridge(alpha=a, fit_intercept=False, normalize=True)\n",
    "    Xtrain, Xtest, ytrain, ytest = train_test_split(X, y, test_size=0.2, random_state=42)\n",
    "    ridge.fit(Xtrain, ytrain)\n",
    "    coefs.append(ridge.coef_)\n",
    "\n",
    "ax = plt.gca()\n",
    "ax.plot(alphas, coefs)\n",
    "ax.plot(alphas, coefs)\n",
    "ax.set_xscale('log')\n",
    "ax.set_xlim(ax.get_xlim()[::-1])  # reverse axis\n",
    "plt.xlabel('alpha')\n",
    "plt.ylabel('weights')\n",
    "plt.title('Ridge coefficients as a function of the regularization')\n",
    "plt.axis('tight')\n",
    "plt.show()"
   ]
  },
  {
   "cell_type": "markdown",
   "id": "tracked-juice",
   "metadata": {
    "id": "heard-quality"
   },
   "source": [
    "Do we need to standarized the data? One feature is staying high.. would it look better if we normalize it? Would the logarithm work better because it distributes the data better?"
   ]
  },
  {
   "cell_type": "code",
   "execution_count": 27,
   "id": "decimal-martial",
   "metadata": {
    "colab": {
     "base_uri": "https://localhost:8080/"
    },
    "id": "explicit-yield",
    "outputId": "e30ecef4-731d-4d39-947c-b71510ff0b23"
   },
   "outputs": [
    {
     "data": {
      "text/plain": [
       "[array([ 1.25671073e-01,  2.83924392e-01,  2.21708862e+04, -5.96063139e+02]),\n",
       " array([ 1.25671073e-01,  2.83924392e-01,  2.21708862e+04, -5.96063139e+02]),\n",
       " array([ 1.25671073e-01,  2.83924392e-01,  2.21708862e+04, -5.96063139e+02]),\n",
       " array([ 1.25671073e-01,  2.83924392e-01,  2.21708862e+04, -5.96063139e+02]),\n",
       " array([ 1.25671073e-01,  2.83924392e-01,  2.21708862e+04, -5.96063139e+02])]"
      ]
     },
     "execution_count": 27,
     "metadata": {},
     "output_type": "execute_result"
    }
   ],
   "source": [
    "coefs[:5] #First five coefficients\n",
    "#print(f'Last 5 coefficients: {coefs[(len(coefs) - 5):len(coefs)]}')"
   ]
  },
  {
   "cell_type": "code",
   "execution_count": 28,
   "id": "departmental-mexican",
   "metadata": {
    "colab": {
     "base_uri": "https://localhost:8080/"
    },
    "id": "friendly-clinic",
    "outputId": "4d91caa0-a376-45d7-92bd-42cd8976ac41"
   },
   "outputs": [
    {
     "data": {
      "text/plain": [
       "[array([ 1.25665134e-01,  2.83928669e-01,  2.21695471e+04, -5.95994844e+02]),\n",
       " array([ 1.25663919e-01,  2.83929543e-01,  2.21692732e+04, -5.95980878e+02]),\n",
       " array([ 1.25662457e-01,  2.83930597e-01,  2.21689434e+04, -5.95964057e+02]),\n",
       " array([ 1.25660695e-01,  2.83931866e-01,  2.21685461e+04, -5.95943797e+02]),\n",
       " array([ 1.25658573e-01,  2.83933394e-01,  2.21680676e+04, -5.95919394e+02])]"
      ]
     },
     "execution_count": 28,
     "metadata": {},
     "output_type": "execute_result"
    }
   ],
   "source": [
    "coefs[(len(coefs) - 5):len(coefs)] #the last 5 coefficients"
   ]
  },
  {
   "cell_type": "code",
   "execution_count": 29,
   "id": "dying-racing",
   "metadata": {
    "id": "hungarian-conjunction"
   },
   "outputs": [],
   "source": [
    "# Split data into training and test sets\n",
    "X_train, X_test , y_train, y_test = train_test_split(X, y, test_size=0.2, random_state=42)"
   ]
  },
  {
   "cell_type": "markdown",
   "id": "brazilian-august",
   "metadata": {
    "id": "parliamentary-finance"
   },
   "source": [
    "Instead of arbitrarily choosing alpha, we used cross-validation to choose the tuning parameter alpha. "
   ]
  },
  {
   "cell_type": "code",
   "execution_count": 30,
   "id": "liquid-phrase",
   "metadata": {
    "colab": {
     "base_uri": "https://localhost:8080/"
    },
    "id": "impressive-network",
    "outputId": "76b18a2f-5ac7-4e0f-93f9-b9f803bf4ab9"
   },
   "outputs": [
    {
     "data": {
      "text/plain": [
       "RidgeCV(alphas=array([1.00000000e-10, 1.20450354e-10, 1.45082878e-10, 1.74752840e-10,\n",
       "       2.10490414e-10, 2.53536449e-10, 3.05385551e-10, 3.67837977e-10,\n",
       "       4.43062146e-10, 5.33669923e-10, 6.42807312e-10, 7.74263683e-10,\n",
       "       9.32603347e-10, 1.12332403e-09, 1.35304777e-09, 1.62975083e-09,\n",
       "       1.96304065e-09, 2.36448941e-09, 2.84803587e-09, 3.43046929e-09,\n",
       "       4.13201240e-09, 4.97702356e-0...\n",
       "       2.91505306e-04, 3.51119173e-04, 4.22924287e-04, 5.09413801e-04,\n",
       "       6.13590727e-04, 7.39072203e-04, 8.90215085e-04, 1.07226722e-03,\n",
       "       1.29154967e-03, 1.55567614e-03, 1.87381742e-03, 2.25701972e-03,\n",
       "       2.71858824e-03, 3.27454916e-03, 3.94420606e-03, 4.75081016e-03,\n",
       "       5.72236766e-03, 6.89261210e-03, 8.30217568e-03, 1.00000000e-02]),\n",
       "        normalize=True, scoring='neg_mean_squared_error')"
      ]
     },
     "execution_count": 30,
     "metadata": {},
     "output_type": "execute_result"
    }
   ],
   "source": [
    "ridgecv = RidgeCV(alphas = alphas, scoring = 'neg_mean_squared_error', normalize = True)\n",
    "ridgecv.fit(X_train, y_train)\n"
   ]
  },
  {
   "cell_type": "code",
   "execution_count": 31,
   "id": "pending-monaco",
   "metadata": {
    "colab": {
     "base_uri": "https://localhost:8080/"
    },
    "id": "southern-kingdom",
    "outputId": "d4966857-0b7b-49f1-c889-3974776f66c7"
   },
   "outputs": [
    {
     "name": "stdout",
     "output_type": "stream",
     "text": [
      "Mean squared error: 442044666.55\n",
      "Root Mean Squared Error: 21024.858300368476\n",
      "Coefficient of determination: 0.66\n"
     ]
    }
   ],
   "source": [
    "ridge_1 = Ridge(alpha = ridgecv.alpha_, normalize = True)\n",
    "ridge_1.fit(X_train, y_train)\n",
    "yhat_ridge = ridge_1.predict(X_test)\n",
    "\n",
    "# Evaluate the model\n",
    "print('Mean squared error: %.2f' % metrics.mean_squared_error(y_test, yhat_ridge))\n",
    "print(f'Root Mean Squared Error: {np.sqrt(metrics.mean_squared_error(y_test, yhat_ridge))}')\n",
    "print('Coefficient of determination: %.2f'% metrics.r2_score(y_test, yhat_ridge))"
   ]
  },
  {
   "cell_type": "code",
   "execution_count": 32,
   "id": "bibliographic-spine",
   "metadata": {},
   "outputs": [],
   "source": [
    "df_model_eval.loc[len(df.index)] = ['Ridge (Sales + Asset + Utilities + Timetrend)', metrics.mean_squared_error(y_test, yhat_ridge), np.sqrt(metrics.mean_squared_error(y_test, yhat_ridge)), metrics.r2_score(y_test, yhat_ridge)] "
   ]
  },
  {
   "cell_type": "markdown",
   "id": "derived-department",
   "metadata": {
    "id": "liable-season"
   },
   "source": [
    "#### Ridge Regression - Cross validation approach"
   ]
  },
  {
   "cell_type": "code",
   "execution_count": 33,
   "id": "million-diagram",
   "metadata": {
    "colab": {
     "base_uri": "https://localhost:8080/"
    },
    "id": "contrary-relaxation",
    "outputId": "22e02287-e56d-4ffa-ee0d-44782e5ed40e"
   },
   "outputs": [
    {
     "name": "stdout",
     "output_type": "stream",
     "text": [
      "Mean squared error: 462009807.83\n",
      "Root Mean Squared Error: 21494.413409662833\n",
      "Coefficient of determination: 0.56\n"
     ]
    }
   ],
   "source": [
    "kfold_cross_validation(10,X,y,ridge_1)"
   ]
  },
  {
   "cell_type": "code",
   "execution_count": 34,
   "id": "inner-extreme",
   "metadata": {
    "colab": {
     "base_uri": "https://localhost:8080/"
    },
    "id": "portuguese-mentor",
    "outputId": "abb8dd28-8362-4ce3-9404-2ff5b3239f0d"
   },
   "outputs": [
    {
     "name": "stdout",
     "output_type": "stream",
     "text": [
      "Mean squared error: 458487743.03\n",
      "Root Mean Squared Error: 21412.326894264337\n",
      "Coefficient of determination: 0.57\n"
     ]
    }
   ],
   "source": [
    "kfold_cross_validation(5,X,y,ridge_1)"
   ]
  },
  {
   "cell_type": "code",
   "execution_count": 35,
   "id": "burning-directory",
   "metadata": {
    "colab": {
     "base_uri": "https://localhost:8080/"
    },
    "id": "tropical-geography",
    "outputId": "993ff8d0-b927-4b92-e749-a905d60168a6"
   },
   "outputs": [
    {
     "name": "stdout",
     "output_type": "stream",
     "text": [
      "Mean squared error: 460942033.16\n",
      "Root Mean Squared Error: 21469.56061878212\n",
      "Coefficient of determination: 0.57\n"
     ]
    }
   ],
   "source": [
    "kfold_cross_validation(2,X,y,ridge_1)"
   ]
  },
  {
   "cell_type": "code",
   "execution_count": 36,
   "id": "heated-burning",
   "metadata": {},
   "outputs": [],
   "source": [
    "df_model_eval.loc[len(df_model_eval.index)] = ['Ridge CV 5K-fold (Sales + Asset + Utilities + Timetrend)', 458487743.03, 21412.326894264337 ,0.57 ] "
   ]
  },
  {
   "cell_type": "markdown",
   "id": "initial-entrance",
   "metadata": {
    "id": "removed-canal"
   },
   "source": [
    "#### Lasso - Validation set approach"
   ]
  },
  {
   "cell_type": "code",
   "execution_count": 37,
   "id": "defensive-tourist",
   "metadata": {
    "colab": {
     "base_uri": "https://localhost:8080/",
     "height": 300
    },
    "id": "broke-basin",
    "outputId": "e29f2d77-a1bb-4347-9339-e9da99ba86e6"
   },
   "outputs": [
    {
     "data": {
      "text/plain": [
       "Text(0, 0.5, 'weights')"
      ]
     },
     "execution_count": 37,
     "metadata": {},
     "output_type": "execute_result"
    },
    {
     "data": {
      "image/png": "[encoded data removed]",
      "text/plain": [
       "<Figure size 432x288 with 1 Axes>"
      ]
     },
     "metadata": {
      "needs_background": "light"
     },
     "output_type": "display_data"
    }
   ],
   "source": [
    "lasso = Lasso(max_iter = 10000, normalize = True)\n",
    "coefs = []\n",
    "\n",
    "for a in alphas:\n",
    "    lasso.set_params(alpha=a)\n",
    "    lasso.fit(scale(X_train), y_train)\n",
    "    coefs.append(lasso.coef_)\n",
    "    \n",
    "ax = plt.gca()\n",
    "ax.plot(alphas*2, coefs)\n",
    "ax.set_xscale('log')\n",
    "plt.axis('tight')\n",
    "plt.xlabel('alpha')\n",
    "plt.ylabel('weights')"
   ]
  },
  {
   "cell_type": "code",
   "execution_count": 38,
   "id": "crucial-monthly",
   "metadata": {
    "colab": {
     "base_uri": "https://localhost:8080/"
    },
    "id": "seventh-empty",
    "outputId": "9aaff7a8-6574-495a-86af-347ae6352c79"
   },
   "outputs": [
    {
     "name": "stdout",
     "output_type": "stream",
     "text": [
      "The optimal alpha is 1.1532714502900596\n"
     ]
    }
   ],
   "source": [
    "lassocv = LassoCV(alphas = None, cv = 10, max_iter = 100000, normalize = True)\n",
    "lassocv.fit(X_train, y_train)\n",
    "\n",
    "print(f'The optimal alpha is {lassocv.alpha_}')"
   ]
  },
  {
   "cell_type": "code",
   "execution_count": 39,
   "id": "unauthorized-morris",
   "metadata": {
    "colab": {
     "base_uri": "https://localhost:8080/"
    },
    "id": "raising-packing",
    "outputId": "155b6b8c-7484-481e-c6b6-ebe7d239308b"
   },
   "outputs": [
    {
     "name": "stdout",
     "output_type": "stream",
     "text": [
      "Mean squared error: 442776564.91\n",
      "Root Mean Squared Error: 21042.25664955323\n",
      "Coefficient of determination: 0.66\n"
     ]
    }
   ],
   "source": [
    "lasso.set_params(alpha=lassocv.alpha_)\n",
    "lasso.fit(X_train, y_train)\n",
    "yhat_lasso = lasso.predict(X_test)\n",
    "\n",
    "# Evaluate the model\n",
    "print('Mean squared error: %.2f' % metrics.mean_squared_error(y_test, yhat_lasso))\n",
    "print(f'Root Mean Squared Error: {np.sqrt(metrics.mean_squared_error(y_test, yhat_lasso))}')\n",
    "print('Coefficient of determination: %.2f'% metrics.r2_score(y_test, yhat_lasso ))"
   ]
  },
  {
   "cell_type": "code",
   "execution_count": 40,
   "id": "global-candidate",
   "metadata": {},
   "outputs": [],
   "source": [
    "df_model_eval.loc[len(df_model_eval.index)] = ['Lasso (Sales + Asset + Utilities + Timetrend)', metrics.mean_squared_error(y_test, yhat_lasso), np.sqrt(metrics.mean_squared_error(y_test, yhat_lasso)),metrics.r2_score(y_test, yhat_lasso ) ] "
   ]
  },
  {
   "cell_type": "markdown",
   "id": "focal-magic",
   "metadata": {
    "id": "broadband-penny"
   },
   "source": [
    "#### Lasso Regression - Cross validation approach"
   ]
  },
  {
   "cell_type": "code",
   "execution_count": 41,
   "id": "adapted-spank",
   "metadata": {
    "colab": {
     "base_uri": "https://localhost:8080/"
    },
    "id": "dense-register",
    "outputId": "58f1cb89-0c94-4cd7-9e47-10e105ecb05b"
   },
   "outputs": [
    {
     "name": "stdout",
     "output_type": "stream",
     "text": [
      "Mean squared error: 462209517.45\n",
      "Root Mean Squared Error: 21499.058524807468\n",
      "Coefficient of determination: 0.56\n"
     ]
    }
   ],
   "source": [
    "kfold_cross_validation(10, X,y,lasso)"
   ]
  },
  {
   "cell_type": "code",
   "execution_count": 42,
   "id": "alike-feature",
   "metadata": {
    "colab": {
     "base_uri": "https://localhost:8080/"
    },
    "id": "effective-occasions",
    "outputId": "cec736a0-d16f-4f22-af92-513730405744"
   },
   "outputs": [
    {
     "name": "stdout",
     "output_type": "stream",
     "text": [
      "Mean squared error: 458655027.23\n",
      "Root Mean Squared Error: 21416.23279729868\n",
      "Coefficient of determination: 0.57\n"
     ]
    }
   ],
   "source": [
    "kfold_cross_validation(5, X,y,lasso)"
   ]
  },
  {
   "cell_type": "code",
   "execution_count": 43,
   "id": "powered-richmond",
   "metadata": {},
   "outputs": [
    {
     "data": {
      "text/html": [
       "<div>\n",
       "<style scoped>\n",
       "    .dataframe tbody tr th:only-of-type {\n",
       "        vertical-align: middle;\n",
       "    }\n",
       "\n",
       "    .dataframe tbody tr th {\n",
       "        vertical-align: top;\n",
       "    }\n",
       "\n",
       "    .dataframe thead th {\n",
       "        text-align: right;\n",
       "    }\n",
       "</style>\n",
       "<table border=\"1\" class=\"dataframe\">\n",
       "  <thead>\n",
       "    <tr style=\"text-align: right;\">\n",
       "      <th></th>\n",
       "      <th>Model</th>\n",
       "      <th>MSE</th>\n",
       "      <th>RMSE</th>\n",
       "      <th>R-Squared</th>\n",
       "    </tr>\n",
       "  </thead>\n",
       "  <tbody>\n",
       "    <tr>\n",
       "      <th>0</th>\n",
       "      <td>Linear (Sales + Asset)</td>\n",
       "      <td>5.963739e+08</td>\n",
       "      <td>24420.768244</td>\n",
       "      <td>0.547856</td>\n",
       "    </tr>\n",
       "    <tr>\n",
       "      <th>1</th>\n",
       "      <td>Logarithmic (Sales + Asset)</td>\n",
       "      <td>7.961399e+08</td>\n",
       "      <td>28215.95147</td>\n",
       "      <td>0.396402</td>\n",
       "    </tr>\n",
       "    <tr>\n",
       "      <th>80</th>\n",
       "      <td>Ridge (Sales + Asset + Utilities + Timetrend)</td>\n",
       "      <td>4.420447e+08</td>\n",
       "      <td>21024.8583</td>\n",
       "      <td>0.664861</td>\n",
       "    </tr>\n",
       "    <tr>\n",
       "      <th>3</th>\n",
       "      <td>Linear Regression CV 5K-fold (Sales + Asset + ...</td>\n",
       "      <td>4.586692e+08</td>\n",
       "      <td>21416.56</td>\n",
       "      <td>0.570000</td>\n",
       "    </tr>\n",
       "    <tr>\n",
       "      <th>4</th>\n",
       "      <td>Ridge CV 5K-fold (Sales + Asset + Utilities + ...</td>\n",
       "      <td>4.584877e+08</td>\n",
       "      <td>21412.326894</td>\n",
       "      <td>0.570000</td>\n",
       "    </tr>\n",
       "    <tr>\n",
       "      <th>5</th>\n",
       "      <td>Lasso (Sales + Asset + Utilities + Timetrend)</td>\n",
       "      <td>4.427766e+08</td>\n",
       "      <td>21042.25665</td>\n",
       "      <td>0.664306</td>\n",
       "    </tr>\n",
       "  </tbody>\n",
       "</table>\n",
       "</div>"
      ],
      "text/plain": [
       "                                                Model           MSE  \\\n",
       "0                              Linear (Sales + Asset)  5.963739e+08   \n",
       "1                         Logarithmic (Sales + Asset)  7.961399e+08   \n",
       "80      Ridge (Sales + Asset + Utilities + Timetrend)  4.420447e+08   \n",
       "3   Linear Regression CV 5K-fold (Sales + Asset + ...  4.586692e+08   \n",
       "4   Ridge CV 5K-fold (Sales + Asset + Utilities + ...  4.584877e+08   \n",
       "5       Lasso (Sales + Asset + Utilities + Timetrend)  4.427766e+08   \n",
       "\n",
       "            RMSE  R-Squared  \n",
       "0   24420.768244   0.547856  \n",
       "1    28215.95147   0.396402  \n",
       "80    21024.8583   0.664861  \n",
       "3       21416.56   0.570000  \n",
       "4   21412.326894   0.570000  \n",
       "5    21042.25665   0.664306  "
      ]
     },
     "execution_count": 43,
     "metadata": {},
     "output_type": "execute_result"
    }
   ],
   "source": [
    "df_model_eval"
   ]
  },
  {
   "cell_type": "code",
   "execution_count": 44,
   "id": "sharp-centre",
   "metadata": {},
   "outputs": [],
   "source": [
    "df_model_eval.loc[len(df_model_eval.index)] = ['Lasso CV 5K-fold (Sales + Asset + Utilities + Timetrend)', 458655027.23, 21416.23279729868 ,0.57 ] "
   ]
  },
  {
   "cell_type": "markdown",
   "id": "flexible-sugar",
   "metadata": {
    "id": "suburban-client"
   },
   "source": [
    "### Model 4 -  GHG for Energy vs Utilities using natural logarithms\n",
    "\n",
    "\n",
    "ln(GHG) = a + b1*ln(Sales) + b2*ln(Assets) + b3*ln(Util) + b5*ln(TimeTrend) + e"
   ]
  },
  {
   "cell_type": "code",
   "execution_count": 45,
   "id": "approximate-merchandise",
   "metadata": {
    "id": "favorite-launch"
   },
   "outputs": [],
   "source": [
    "X=stock[['Logarithm_Total_Sales','Logarithm_Total_Assets','Utility','time_trend']]\n",
    "y=stock['GHG Scope 1']"
   ]
  },
  {
   "cell_type": "code",
   "execution_count": 46,
   "id": "agreed-ecology",
   "metadata": {
    "id": "zlj4QO1ACsWh"
   },
   "outputs": [],
   "source": [
    "model = LinearRegression(fit_intercept=True) #Initialize model\n",
    "Xtrain, Xtest, ytrain, ytest = train_test_split(X, y, test_size=0.2, random_state=42) #Train and Test split\n",
    "model.fit(Xtrain,ytrain) #Fit the model\n",
    "y_model = model.predict(Xtest) #Make predictions"
   ]
  },
  {
   "cell_type": "code",
   "execution_count": 47,
   "id": "qualified-tuner",
   "metadata": {
    "colab": {
     "base_uri": "https://localhost:8080/"
    },
    "id": "grtFHqCVC5F0",
    "outputId": "19618acb-6556-4350-b4fa-3401ddf91b92"
   },
   "outputs": [
    {
     "name": "stdout",
     "output_type": "stream",
     "text": [
      "Coefficients: \n",
      " [11891.49071527 14604.97354257 26217.90450215  -632.58702587]\n",
      "Mean squared error: 554112883.07\n",
      "Root Mean Squared Error: 23539.602440878713\n",
      "Coefficient of determination: 0.58\n"
     ]
    }
   ],
   "source": [
    "#The coefficients\n",
    "print('Coefficients: \\n', model.coef_)\n",
    "#Mean Squared Error\n",
    "print('Mean squared error: %.2f' % metrics.mean_squared_error(ytest,y_model))\n",
    "print(f'Root Mean Squared Error: {np.sqrt(metrics.mean_squared_error(ytest,y_model))}')\n",
    "# The coefficient of determination: 1 is perfect prediction\n",
    "print('Coefficient of determination: %.2f'\n",
    "      % metrics.r2_score(ytest, y_model))"
   ]
  },
  {
   "cell_type": "code",
   "execution_count": 48,
   "id": "allied-jumping",
   "metadata": {
    "colab": {
     "base_uri": "https://localhost:8080/"
    },
    "id": "ZWjno9mxC-p-",
    "outputId": "5339e445-243c-4aae-895e-f83a33838e25"
   },
   "outputs": [
    {
     "data": {
      "text/html": [
       "<div>\n",
       "<style scoped>\n",
       "    .dataframe tbody tr th:only-of-type {\n",
       "        vertical-align: middle;\n",
       "    }\n",
       "\n",
       "    .dataframe tbody tr th {\n",
       "        vertical-align: top;\n",
       "    }\n",
       "\n",
       "    .dataframe thead th {\n",
       "        text-align: right;\n",
       "    }\n",
       "</style>\n",
       "<table border=\"1\" class=\"dataframe\">\n",
       "  <thead>\n",
       "    <tr style=\"text-align: right;\">\n",
       "      <th></th>\n",
       "      <th>Observed</th>\n",
       "      <th>Prediction</th>\n",
       "    </tr>\n",
       "  </thead>\n",
       "  <tbody>\n",
       "    <tr>\n",
       "      <th>418</th>\n",
       "      <td>3577.3</td>\n",
       "      <td>-10082.002711</td>\n",
       "    </tr>\n",
       "    <tr>\n",
       "      <th>778</th>\n",
       "      <td>119000.0</td>\n",
       "      <td>75597.535657</td>\n",
       "    </tr>\n",
       "    <tr>\n",
       "      <th>58</th>\n",
       "      <td>3410.0</td>\n",
       "      <td>-8221.854394</td>\n",
       "    </tr>\n",
       "    <tr>\n",
       "      <th>464</th>\n",
       "      <td>14296.5</td>\n",
       "      <td>5318.176349</td>\n",
       "    </tr>\n",
       "    <tr>\n",
       "      <th>206</th>\n",
       "      <td>32000.0</td>\n",
       "      <td>29450.977806</td>\n",
       "    </tr>\n",
       "  </tbody>\n",
       "</table>\n",
       "</div>"
      ],
      "text/plain": [
       "     Observed    Prediction\n",
       "418    3577.3 -10082.002711\n",
       "778  119000.0  75597.535657\n",
       "58     3410.0  -8221.854394\n",
       "464   14296.5   5318.176349\n",
       "206   32000.0  29450.977806"
      ]
     },
     "execution_count": 48,
     "metadata": {},
     "output_type": "execute_result"
    }
   ],
   "source": [
    "#Create data frame with observed and predicted\n",
    "linear_reg4 = pd.DataFrame({'Observed':ytest,'Prediction':y_model})\n",
    "linear_reg4.head()"
   ]
  },
  {
   "cell_type": "code",
   "execution_count": 49,
   "id": "combined-anthony",
   "metadata": {},
   "outputs": [],
   "source": [
    "df_model_eval.loc[len(df_model_eval.index)] = ['Logarithm (Sales + Asset + Utilities + Timetrend)', metrics.mean_squared_error(ytest, y_model),np.sqrt(metrics.mean_squared_error(ytest, y_model)), metrics.r2_score(ytest, y_model)] "
   ]
  },
  {
   "cell_type": "markdown",
   "id": "considerable-gossip",
   "metadata": {
    "id": "ek-ET5WvDfuD"
   },
   "source": [
    "#### Linear regression with k-fold cross validation"
   ]
  },
  {
   "cell_type": "code",
   "execution_count": 50,
   "id": "integrated-communication",
   "metadata": {
    "id": "wBn3-wbvDfuE"
   },
   "outputs": [],
   "source": [
    "X = X.values\n",
    "y = y.values\n",
    "\n",
    "def kfold_cross_validation(n_splits, X, y, model_type):\n",
    "    data_y, data_yhat,coef = [], [],[]\n",
    "    kfold = KFold(n_splits=n_splits, random_state = 42, shuffle=True)\n",
    "    for train_ix, test_ix in kfold.split(X):\n",
    "        # get data\n",
    "        train_X, test_X = X[train_ix], X[test_ix]\n",
    "        train_y, test_y = y[train_ix], y[test_ix]\n",
    "        # fit model\n",
    "        model = model_type\n",
    "        model.fit(train_X, train_y)\n",
    "        # make predictions\n",
    "        yhat = model.predict(test_X)\n",
    "        coef.append(model.coef_)\n",
    "        # store\n",
    "        data_y.extend(test_y)\n",
    "        data_yhat.extend(yhat)\n",
    "\n",
    "    # Evaluate the model\n",
    "    print('Mean squared error: %.2f' % metrics.mean_squared_error(data_y, data_yhat))\n",
    "    print(f'Root Mean Squared Error: {np.sqrt(metrics.mean_squared_error(data_y, data_yhat))}')\n",
    "    print('Coefficient of determination: %.2f'% metrics.r2_score(data_y, data_yhat))"
   ]
  },
  {
   "cell_type": "code",
   "execution_count": 51,
   "id": "congressional-promotion",
   "metadata": {
    "colab": {
     "base_uri": "https://localhost:8080/"
    },
    "id": "KYbPrV2_DfuE",
    "outputId": "b7ee6cfa-d107-4010-e578-bc72187f1e63"
   },
   "outputs": [
    {
     "name": "stdout",
     "output_type": "stream",
     "text": [
      "Mean squared error: 573588826.16\n",
      "Root Mean Squared Error: 23949.71453183557\n",
      "Coefficient of determination: 0.46\n"
     ]
    }
   ],
   "source": [
    "model1 = LinearRegression()\n",
    "kfold_cross_validation(10,X,y,model1)"
   ]
  },
  {
   "cell_type": "code",
   "execution_count": 52,
   "id": "solid-arabic",
   "metadata": {
    "colab": {
     "base_uri": "https://localhost:8080/"
    },
    "id": "nmw48BVyDfuF",
    "outputId": "2feba5fe-74cb-46db-91e1-f9f97c58faeb"
   },
   "outputs": [
    {
     "name": "stdout",
     "output_type": "stream",
     "text": [
      "Mean squared error: 569033682.28\n",
      "Root Mean Squared Error: 23854.42689056714\n",
      "Coefficient of determination: 0.46\n"
     ]
    }
   ],
   "source": [
    "kfold_cross_validation(5,X,y,model1)"
   ]
  },
  {
   "cell_type": "code",
   "execution_count": 53,
   "id": "adjustable-judgment",
   "metadata": {},
   "outputs": [],
   "source": [
    "df_model_eval.loc[len(df_model_eval.index)] = ['Logarithm Linear 5-kfold (Sales + Asset + Utilities + Timetrend)', 569033682.28,23854.42689056714,0.46 ] "
   ]
  },
  {
   "cell_type": "markdown",
   "id": "identical-medication",
   "metadata": {
    "id": "UZ8r9R7cEAmG"
   },
   "source": [
    "#### Ridge Regression - Validation set approach"
   ]
  },
  {
   "cell_type": "code",
   "execution_count": 54,
   "id": "dress-mercury",
   "metadata": {
    "colab": {
     "base_uri": "https://localhost:8080/"
    },
    "id": "63OKRhv_EAmH",
    "outputId": "84767c24-5b13-4422-9500-cb3a63ee3ba0"
   },
   "outputs": [
    {
     "data": {
      "image/png": "[encoded data removed]",
      "text/plain": [
       "<Figure size 432x288 with 1 Axes>"
      ]
     },
     "metadata": {
      "needs_background": "light"
     },
     "output_type": "display_data"
    }
   ],
   "source": [
    "n_alphas = 100\n",
    "alphas = np.logspace(-10, -2, n_alphas)\n",
    "\n",
    "coefs = []\n",
    "for a in alphas:\n",
    "    ridge = Ridge(alpha=a, fit_intercept=False, normalize=True)\n",
    "    Xtrain, Xtest, ytrain, ytest = train_test_split(X, y, test_size=0.2, random_state=42)\n",
    "    ridge.fit(Xtrain, ytrain)\n",
    "    coefs.append(ridge.coef_)\n",
    "\n",
    "ax = plt.gca()\n",
    "ax.plot(alphas, coefs)\n",
    "ax.plot(alphas, coefs)\n",
    "ax.set_xscale('log')\n",
    "ax.set_xlim(ax.get_xlim()[::-1])  # reverse axis\n",
    "plt.xlabel('alpha')\n",
    "plt.ylabel('weights')\n",
    "plt.title('Ridge coefficients as a function of the regularization')\n",
    "plt.axis('tight')\n",
    "plt.show()"
   ]
  },
  {
   "cell_type": "markdown",
   "id": "separate-sharp",
   "metadata": {
    "id": "vnItdngXEAmI"
   },
   "source": [
    "Do we need to standarized the data? One feature is staying high.. would it look better if we normalize it? Would the logarithm work better because it distributes the data better?"
   ]
  },
  {
   "cell_type": "code",
   "execution_count": 55,
   "id": "hazardous-jenny",
   "metadata": {
    "colab": {
     "base_uri": "https://localhost:8080/"
    },
    "id": "sEFBf8HoEAmI",
    "outputId": "0813e1ae-099c-4448-e199-158790bbf623"
   },
   "outputs": [
    {
     "data": {
      "text/plain": [
       "[array([11230.9303532 , -7677.62553281, 16361.82494703,  -938.61823508]),\n",
       " array([11230.93035319, -7677.6255328 , 16361.82494702,  -938.61823508]),\n",
       " array([11230.93035318, -7677.62553279, 16361.82494701,  -938.61823508]),\n",
       " array([11230.93035317, -7677.62553278, 16361.82494699,  -938.61823508]),\n",
       " array([11230.93035315, -7677.62553277, 16361.82494697,  -938.61823508])]"
      ]
     },
     "execution_count": 55,
     "metadata": {},
     "output_type": "execute_result"
    }
   ],
   "source": [
    "coefs[:5] #First five coefficients\n",
    "#print(f'Last 5 coefficients: {coefs[(len(coefs) - 5):len(coefs)]}')"
   ]
  },
  {
   "cell_type": "code",
   "execution_count": 56,
   "id": "accomplished-sense",
   "metadata": {
    "colab": {
     "base_uri": "https://localhost:8080/"
    },
    "id": "iQlnyJ_wEAmI",
    "outputId": "a6fcaeae-5d77-4918-bd54-f9b09ea6a680"
   },
   "outputs": [
    {
     "data": {
      "text/plain": [
       "[array([11228.97798009, -7675.64029429, 16359.16085853,  -938.69060806]),\n",
       " array([11228.57880384, -7675.23439843, 16358.61616101,  -938.70540492]),\n",
       " array([11228.09803565, -7674.74553711, 16357.9601241 ,  -938.72322614]),\n",
       " array([11227.51900814, -7674.15676236, 16357.17000249,  -938.74468946]),\n",
       " array([11226.82165373, -7673.44766878, 16356.21841015,  -938.77053862])]"
      ]
     },
     "execution_count": 56,
     "metadata": {},
     "output_type": "execute_result"
    }
   ],
   "source": [
    "coefs[(len(coefs) - 5):len(coefs)] #the last 5 coefficients"
   ]
  },
  {
   "cell_type": "code",
   "execution_count": 57,
   "id": "mexican-hardware",
   "metadata": {
    "id": "t4uYQBq0EAmJ"
   },
   "outputs": [],
   "source": [
    "# Split data into training and test sets\n",
    "X_train, X_test , y_train, y_test = train_test_split(X, y, test_size=0.2, random_state=42)"
   ]
  },
  {
   "cell_type": "markdown",
   "id": "separated-quest",
   "metadata": {
    "id": "TmSgenc-EAmJ"
   },
   "source": [
    "Instead of arbitrarily choosing alpha, we used cross-validation to choose the tuning parameter alpha. "
   ]
  },
  {
   "cell_type": "code",
   "execution_count": 58,
   "id": "specialized-trick",
   "metadata": {
    "colab": {
     "base_uri": "https://localhost:8080/"
    },
    "id": "KkNRy60lEAmJ",
    "outputId": "60d119ef-f389-4bb9-ed5c-cc300aa4490b"
   },
   "outputs": [
    {
     "data": {
      "text/plain": [
       "RidgeCV(alphas=array([1.00000000e-10, 1.20450354e-10, 1.45082878e-10, 1.74752840e-10,\n",
       "       2.10490414e-10, 2.53536449e-10, 3.05385551e-10, 3.67837977e-10,\n",
       "       4.43062146e-10, 5.33669923e-10, 6.42807312e-10, 7.74263683e-10,\n",
       "       9.32603347e-10, 1.12332403e-09, 1.35304777e-09, 1.62975083e-09,\n",
       "       1.96304065e-09, 2.36448941e-09, 2.84803587e-09, 3.43046929e-09,\n",
       "       4.13201240e-09, 4.97702356e-0...\n",
       "       2.91505306e-04, 3.51119173e-04, 4.22924287e-04, 5.09413801e-04,\n",
       "       6.13590727e-04, 7.39072203e-04, 8.90215085e-04, 1.07226722e-03,\n",
       "       1.29154967e-03, 1.55567614e-03, 1.87381742e-03, 2.25701972e-03,\n",
       "       2.71858824e-03, 3.27454916e-03, 3.94420606e-03, 4.75081016e-03,\n",
       "       5.72236766e-03, 6.89261210e-03, 8.30217568e-03, 1.00000000e-02]),\n",
       "        normalize=True, scoring='neg_mean_squared_error')"
      ]
     },
     "execution_count": 58,
     "metadata": {},
     "output_type": "execute_result"
    }
   ],
   "source": [
    "ridgecv = RidgeCV(alphas = alphas, scoring = 'neg_mean_squared_error', normalize = True)\n",
    "ridgecv.fit(X_train, y_train)\n"
   ]
  },
  {
   "cell_type": "code",
   "execution_count": 59,
   "id": "frequent-exposure",
   "metadata": {
    "colab": {
     "base_uri": "https://localhost:8080/"
    },
    "id": "dHoA36aUEAmK",
    "outputId": "33a9f290-ddc7-4c6b-9baf-de7c7bc96af0"
   },
   "outputs": [
    {
     "name": "stdout",
     "output_type": "stream",
     "text": [
      "Mean squared error: 555343418.68\n",
      "Root Mean Squared Error: 23565.725507147083\n",
      "Coefficient of determination: 0.58\n"
     ]
    }
   ],
   "source": [
    "ridge_1 = Ridge(alpha = ridgecv.alpha_, normalize = True)\n",
    "ridge_1.fit(X_train, y_train)\n",
    "yhat_ridge = ridge_1.predict(X_test)\n",
    "\n",
    "# Evaluate the model\n",
    "print('Mean squared error: %.2f' % metrics.mean_squared_error(y_test, yhat_ridge))\n",
    "print(f'Root Mean Squared Error: {np.sqrt(metrics.mean_squared_error(y_test, yhat_ridge))}')\n",
    "print('Coefficient of determination: %.2f'% metrics.r2_score(y_test, yhat_ridge))"
   ]
  },
  {
   "cell_type": "code",
   "execution_count": 60,
   "id": "temporal-adelaide",
   "metadata": {},
   "outputs": [],
   "source": [
    "df_model_eval.loc[len(df_model_eval.index)] = ['Logarithm Ridge (Sales + Asset + Utilities + Timetrend)', metrics.mean_squared_error(y_test, yhat_ridge), np.sqrt(metrics.mean_squared_error(y_test, yhat_ridge)), metrics.r2_score(ytest, yhat_ridge)] "
   ]
  },
  {
   "cell_type": "code",
   "execution_count": 61,
   "id": "streaming-wednesday",
   "metadata": {},
   "outputs": [],
   "source": [
    "df_model_eval.reset_index(inplace = True, drop = True)"
   ]
  },
  {
   "cell_type": "markdown",
   "id": "other-benefit",
   "metadata": {
    "id": "EC68yCjVFu20"
   },
   "source": [
    "#### Ridge Regression - Cross validation approach"
   ]
  },
  {
   "cell_type": "code",
   "execution_count": 62,
   "id": "early-forth",
   "metadata": {
    "colab": {
     "base_uri": "https://localhost:8080/"
    },
    "id": "1Z0x4YTXFu21",
    "outputId": "b23de2d4-9f6b-45d5-d27d-27b6607e4178"
   },
   "outputs": [
    {
     "name": "stdout",
     "output_type": "stream",
     "text": [
      "Mean squared error: 573558933.09\n",
      "Root Mean Squared Error: 23949.090443900124\n",
      "Coefficient of determination: 0.46\n"
     ]
    }
   ],
   "source": [
    "kfold_cross_validation(10,X,y,ridge_1)"
   ]
  },
  {
   "cell_type": "code",
   "execution_count": 63,
   "id": "aggressive-moore",
   "metadata": {
    "colab": {
     "base_uri": "https://localhost:8080/"
    },
    "id": "Bm5X0bFRFu22",
    "outputId": "2a0e6d75-574c-4e0b-ce59-bc3d22b70171"
   },
   "outputs": [
    {
     "name": "stdout",
     "output_type": "stream",
     "text": [
      "Mean squared error: 569122863.08\n",
      "Root Mean Squared Error: 23856.296088945714\n",
      "Coefficient of determination: 0.46\n"
     ]
    }
   ],
   "source": [
    "kfold_cross_validation(5,X,y,ridge_1)"
   ]
  },
  {
   "cell_type": "code",
   "execution_count": 64,
   "id": "unlimited-testing",
   "metadata": {
    "colab": {
     "base_uri": "https://localhost:8080/"
    },
    "id": "FAnnZq_HFu22",
    "outputId": "fa1fde6c-9502-4a9d-cf8a-e6a155b4a230"
   },
   "outputs": [
    {
     "name": "stdout",
     "output_type": "stream",
     "text": [
      "Mean squared error: 561973353.59\n",
      "Root Mean Squared Error: 23705.97717005797\n",
      "Coefficient of determination: 0.47\n"
     ]
    }
   ],
   "source": [
    "kfold_cross_validation(2,X,y,ridge_1)"
   ]
  },
  {
   "cell_type": "code",
   "execution_count": 65,
   "id": "attended-liechtenstein",
   "metadata": {},
   "outputs": [],
   "source": [
    "df_model_eval.loc[len(df_model_eval.index)] = ['Logarithm Ridge 5-kfold (Sales + Asset + Utilities + Timetrend)', 569122863.08,23856.29,0.46 ] "
   ]
  },
  {
   "cell_type": "markdown",
   "id": "african-entertainment",
   "metadata": {
    "id": "XVOkxPjiF-8j"
   },
   "source": [
    "#### Lasso - Validation set approach"
   ]
  },
  {
   "cell_type": "code",
   "execution_count": 66,
   "id": "automotive-brook",
   "metadata": {
    "colab": {
     "base_uri": "https://localhost:8080/"
    },
    "id": "IvWUf7D2F-8k",
    "outputId": "0075be8e-9818-4b76-b04c-1ada6e0860ce"
   },
   "outputs": [
    {
     "data": {
      "text/plain": [
       "Text(0, 0.5, 'weights')"
      ]
     },
     "execution_count": 66,
     "metadata": {},
     "output_type": "execute_result"
    },
    {
     "data": {
      "image/png": "[encoded data removed]",
      "text/plain": [
       "<Figure size 432x288 with 1 Axes>"
      ]
     },
     "metadata": {
      "needs_background": "light"
     },
     "output_type": "display_data"
    }
   ],
   "source": [
    "lasso = Lasso(max_iter = 10000, normalize = True)\n",
    "coefs = []\n",
    "\n",
    "for a in alphas:\n",
    "    lasso.set_params(alpha=a)\n",
    "    lasso.fit(scale(X_train), y_train)\n",
    "    coefs.append(lasso.coef_)\n",
    "    \n",
    "ax = plt.gca()\n",
    "ax.plot(alphas*2, coefs)\n",
    "ax.set_xscale('log')\n",
    "plt.axis('tight')\n",
    "plt.xlabel('alpha')\n",
    "plt.ylabel('weights')"
   ]
  },
  {
   "cell_type": "code",
   "execution_count": 67,
   "id": "stone-payday",
   "metadata": {
    "colab": {
     "base_uri": "https://localhost:8080/"
    },
    "id": "bgjioWj4F-8n",
    "outputId": "94af4f99-ab79-42af-f3ef-4fc0bde5d443"
   },
   "outputs": [
    {
     "name": "stdout",
     "output_type": "stream",
     "text": [
      "The optimal alpha is 0.9954718896794494\n"
     ]
    }
   ],
   "source": [
    "lassocv = LassoCV(alphas = None, cv = 10, max_iter = 100000, normalize = True)\n",
    "lassocv.fit(X_train, y_train)\n",
    "\n",
    "print(f'The optimal alpha is {lassocv.alpha_}')"
   ]
  },
  {
   "cell_type": "code",
   "execution_count": 68,
   "id": "crucial-yield",
   "metadata": {
    "colab": {
     "base_uri": "https://localhost:8080/"
    },
    "id": "Ovl17a07F-8n",
    "outputId": "90fb98a7-c2a9-4d3a-baf4-64c28694722c"
   },
   "outputs": [
    {
     "name": "stdout",
     "output_type": "stream",
     "text": [
      "Mean squared error: 554227879.45\n",
      "Root Mean Squared Error: 23542.04492926017\n",
      "Coefficient of determination: 0.58\n"
     ]
    }
   ],
   "source": [
    "lasso.set_params(alpha=lassocv.alpha_)\n",
    "lasso.fit(X_train, y_train)\n",
    "yhat_lasso = lasso.predict(X_test)\n",
    "\n",
    "# Evaluate the model\n",
    "print('Mean squared error: %.2f' % metrics.mean_squared_error(y_test, yhat_lasso))\n",
    "print(f'Root Mean Squared Error: {np.sqrt(metrics.mean_squared_error(y_test, yhat_lasso))}')\n",
    "print('Coefficient of determination: %.2f'% metrics.r2_score(y_test, yhat_lasso ))"
   ]
  },
  {
   "cell_type": "markdown",
   "id": "falling-invention",
   "metadata": {
    "id": "AV2fr0KfGHQj"
   },
   "source": [
    "#### Lasso Regression - Cross validation approach"
   ]
  },
  {
   "cell_type": "code",
   "execution_count": 69,
   "id": "committed-console",
   "metadata": {
    "colab": {
     "base_uri": "https://localhost:8080/"
    },
    "id": "iGzdw10sGHQj",
    "outputId": "9dd4e783-aa5b-409a-b603-bb23b3f539b6"
   },
   "outputs": [
    {
     "name": "stdout",
     "output_type": "stream",
     "text": [
      "Mean squared error: 573604355.83\n",
      "Root Mean Squared Error: 23950.0387439047\n",
      "Coefficient of determination: 0.46\n"
     ]
    }
   ],
   "source": [
    "kfold_cross_validation(10, X,y,lasso)"
   ]
  },
  {
   "cell_type": "code",
   "execution_count": 70,
   "id": "sublime-hayes",
   "metadata": {
    "colab": {
     "base_uri": "https://localhost:8080/"
    },
    "id": "WIhbwy_jGHQk",
    "outputId": "928e1608-15db-41c1-c0f8-42c8be59b5be"
   },
   "outputs": [
    {
     "name": "stdout",
     "output_type": "stream",
     "text": [
      "Mean squared error: 569052835.46\n",
      "Root Mean Squared Error: 23854.828346982482\n",
      "Coefficient of determination: 0.46\n"
     ]
    }
   ],
   "source": [
    "kfold_cross_validation(5, X,y,lasso)"
   ]
  },
  {
   "cell_type": "code",
   "execution_count": 71,
   "id": "complex-arabic",
   "metadata": {},
   "outputs": [],
   "source": [
    "df_model_eval.loc[len(df_model_eval.index)] = ['Logarithm Lasso 5-kfold (Sales + Asset + Utilities + Timetrend)', 569052835.46,23854.83,0.46 ] "
   ]
  },
  {
   "cell_type": "markdown",
   "id": "adult-bernard",
   "metadata": {
    "id": "divine-glass"
   },
   "source": [
    "### Conclusion - Model performance\n",
    "\n",
    "All four predictive models had a big RSME when predicting the GHG Scope. Model 3 - had the lower RSME and the best R2 with 0.66.\n",
    "\n",
    "However, we need to continue with other approach to work with the model performance or consider other ways to impute the missing values for GHG Scope 1\n",
    "\n"
   ]
  },
  {
   "cell_type": "code",
   "execution_count": 72,
   "id": "infinite-diameter",
   "metadata": {},
   "outputs": [],
   "source": [
    "pd.set_option('display.float_format', lambda x: '%.3f' % x)"
   ]
  },
  {
   "cell_type": "code",
   "execution_count": 73,
   "id": "recovered-paris",
   "metadata": {},
   "outputs": [
    {
     "data": {
      "text/html": [
       "<div>\n",
       "<style scoped>\n",
       "    .dataframe tbody tr th:only-of-type {\n",
       "        vertical-align: middle;\n",
       "    }\n",
       "\n",
       "    .dataframe tbody tr th {\n",
       "        vertical-align: top;\n",
       "    }\n",
       "\n",
       "    .dataframe thead th {\n",
       "        text-align: right;\n",
       "    }\n",
       "</style>\n",
       "<table border=\"1\" class=\"dataframe\">\n",
       "  <thead>\n",
       "    <tr style=\"text-align: right;\">\n",
       "      <th></th>\n",
       "      <th>Model</th>\n",
       "      <th>MSE</th>\n",
       "      <th>RMSE</th>\n",
       "      <th>R-Squared</th>\n",
       "    </tr>\n",
       "  </thead>\n",
       "  <tbody>\n",
       "    <tr>\n",
       "      <th>0</th>\n",
       "      <td>Linear (Sales + Asset)</td>\n",
       "      <td>596373921.627</td>\n",
       "      <td>24420.768</td>\n",
       "      <td>0.548</td>\n",
       "    </tr>\n",
       "    <tr>\n",
       "      <th>1</th>\n",
       "      <td>Logarithmic (Sales + Asset)</td>\n",
       "      <td>796139917.348</td>\n",
       "      <td>28215.951</td>\n",
       "      <td>0.396</td>\n",
       "    </tr>\n",
       "    <tr>\n",
       "      <th>2</th>\n",
       "      <td>Ridge (Sales + Asset + Utilities + Timetrend)</td>\n",
       "      <td>442044666.551</td>\n",
       "      <td>21024.858</td>\n",
       "      <td>0.665</td>\n",
       "    </tr>\n",
       "    <tr>\n",
       "      <th>3</th>\n",
       "      <td>Linear Regression CV 5K-fold (Sales + Asset + ...</td>\n",
       "      <td>458669164.200</td>\n",
       "      <td>21416.56</td>\n",
       "      <td>0.570</td>\n",
       "    </tr>\n",
       "    <tr>\n",
       "      <th>4</th>\n",
       "      <td>Ridge CV 5K-fold (Sales + Asset + Utilities + ...</td>\n",
       "      <td>458487743.030</td>\n",
       "      <td>21412.327</td>\n",
       "      <td>0.570</td>\n",
       "    </tr>\n",
       "    <tr>\n",
       "      <th>5</th>\n",
       "      <td>Lasso (Sales + Asset + Utilities + Timetrend)</td>\n",
       "      <td>442776564.906</td>\n",
       "      <td>21042.257</td>\n",
       "      <td>0.664</td>\n",
       "    </tr>\n",
       "    <tr>\n",
       "      <th>6</th>\n",
       "      <td>Lasso CV 5K-fold (Sales + Asset + Utilities + ...</td>\n",
       "      <td>458655027.230</td>\n",
       "      <td>21416.233</td>\n",
       "      <td>0.570</td>\n",
       "    </tr>\n",
       "    <tr>\n",
       "      <th>7</th>\n",
       "      <td>Logarithm (Sales + Asset + Utilities + Timetrend)</td>\n",
       "      <td>554112883.075</td>\n",
       "      <td>23539.602</td>\n",
       "      <td>0.580</td>\n",
       "    </tr>\n",
       "    <tr>\n",
       "      <th>8</th>\n",
       "      <td>Logarithm Linear 5-kfold (Sales + Asset + Util...</td>\n",
       "      <td>569033682.280</td>\n",
       "      <td>23854.427</td>\n",
       "      <td>0.460</td>\n",
       "    </tr>\n",
       "    <tr>\n",
       "      <th>9</th>\n",
       "      <td>Logarithm Ridge (Sales + Asset + Utilities + T...</td>\n",
       "      <td>555343418.678</td>\n",
       "      <td>23565.726</td>\n",
       "      <td>0.579</td>\n",
       "    </tr>\n",
       "    <tr>\n",
       "      <th>10</th>\n",
       "      <td>Logarithm Ridge 5-kfold (Sales + Asset + Utili...</td>\n",
       "      <td>569122863.080</td>\n",
       "      <td>23856.29</td>\n",
       "      <td>0.460</td>\n",
       "    </tr>\n",
       "    <tr>\n",
       "      <th>11</th>\n",
       "      <td>Logarithm Lasso 5-kfold (Sales + Asset + Utili...</td>\n",
       "      <td>569052835.460</td>\n",
       "      <td>23854.83</td>\n",
       "      <td>0.460</td>\n",
       "    </tr>\n",
       "  </tbody>\n",
       "</table>\n",
       "</div>"
      ],
      "text/plain": [
       "                                                Model           MSE      RMSE  \\\n",
       "0                              Linear (Sales + Asset) 596373921.627 24420.768   \n",
       "1                         Logarithmic (Sales + Asset) 796139917.348 28215.951   \n",
       "2       Ridge (Sales + Asset + Utilities + Timetrend) 442044666.551 21024.858   \n",
       "3   Linear Regression CV 5K-fold (Sales + Asset + ... 458669164.200  21416.56   \n",
       "4   Ridge CV 5K-fold (Sales + Asset + Utilities + ... 458487743.030 21412.327   \n",
       "5       Lasso (Sales + Asset + Utilities + Timetrend) 442776564.906 21042.257   \n",
       "6   Lasso CV 5K-fold (Sales + Asset + Utilities + ... 458655027.230 21416.233   \n",
       "7   Logarithm (Sales + Asset + Utilities + Timetrend) 554112883.075 23539.602   \n",
       "8   Logarithm Linear 5-kfold (Sales + Asset + Util... 569033682.280 23854.427   \n",
       "9   Logarithm Ridge (Sales + Asset + Utilities + T... 555343418.678 23565.726   \n",
       "10  Logarithm Ridge 5-kfold (Sales + Asset + Utili... 569122863.080  23856.29   \n",
       "11  Logarithm Lasso 5-kfold (Sales + Asset + Utili... 569052835.460  23854.83   \n",
       "\n",
       "    R-Squared  \n",
       "0       0.548  \n",
       "1       0.396  \n",
       "2       0.665  \n",
       "3       0.570  \n",
       "4       0.570  \n",
       "5       0.664  \n",
       "6       0.570  \n",
       "7       0.580  \n",
       "8       0.460  \n",
       "9       0.579  \n",
       "10      0.460  \n",
       "11      0.460  "
      ]
     },
     "execution_count": 73,
     "metadata": {},
     "output_type": "execute_result"
    }
   ],
   "source": [
    "df_model_eval"
   ]
  },
  {
   "cell_type": "code",
   "execution_count": 74,
   "id": "spanish-valentine",
   "metadata": {},
   "outputs": [
    {
     "name": "stderr",
     "output_type": "stream",
     "text": [
      "/Users/maralinetorres/opt/miniconda3/envs/msba/lib/python3.8/site-packages/seaborn/_decorators.py:36: FutureWarning: Pass the following variables as keyword args: x, y. From version 0.12, the only valid positional argument will be `data`, and passing other arguments without an explicit keyword will result in an error or misinterpretation.\n",
      "  warnings.warn(\n"
     ]
    },
    {
     "data": {
      "image/png": "[encoded data removed]",
      "text/plain": [
       "<Figure size 1800x595.44 with 1 Axes>"
      ]
     },
     "metadata": {},
     "output_type": "display_data"
    }
   ],
   "source": [
    "sns.set(rc={'figure.figsize':(25,8.27)})\n",
    "g = sns.barplot('Model', 'MSE', data = df_model_eval)\n",
    "for item in g.get_xticklabels():\n",
    "    item.set_rotation(10)\n",
    "    \n",
    "g.figure.savefig('Model MSEs.png', bbox_inches='tight');"
   ]
  },
  {
   "cell_type": "code",
   "execution_count": 75,
   "id": "choice-dryer",
   "metadata": {},
   "outputs": [
    {
     "name": "stderr",
     "output_type": "stream",
     "text": [
      "/Users/maralinetorres/opt/miniconda3/envs/msba/lib/python3.8/site-packages/seaborn/_decorators.py:36: FutureWarning: Pass the following variables as keyword args: x, y. From version 0.12, the only valid positional argument will be `data`, and passing other arguments without an explicit keyword will result in an error or misinterpretation.\n",
      "  warnings.warn(\n"
     ]
    },
    {
     "data": {
      "image/png": "[encoded data removed]",
      "text/plain": [
       "<Figure size 1800x595.44 with 1 Axes>"
      ]
     },
     "metadata": {},
     "output_type": "display_data"
    }
   ],
   "source": [
    "sns.set(rc={'figure.figsize':(25,8.27)})\n",
    "g = sns.barplot('Model', 'R-Squared', data = df_model_eval)\n",
    "for item in g.get_xticklabels():\n",
    "    item.set_rotation(10)\n",
    "    \n",
    "g.figure.savefig('Model R-Squared.png', bbox_inches='tight')"
   ]
  }
 ],
 "metadata": {
  "colab": {
   "name": "Sprint4_Model_Evaluation （4 Models）.ipynb",
   "provenance": []
  },
  "kernelspec": {
   "display_name": "Python 3",
   "language": "python",
   "name": "python3"
  },
  "language_info": {
   "codemirror_mode": {
    "name": "ipython",
    "version": 3
   },
   "file_extension": ".py",
   "mimetype": "text/x-python",
   "name": "python",
   "nbconvert_exporter": "python",
   "pygments_lexer": "ipython3",
   "version": "3.8.8"
  }
 },
 "nbformat": 4,
 "nbformat_minor": 5
}
