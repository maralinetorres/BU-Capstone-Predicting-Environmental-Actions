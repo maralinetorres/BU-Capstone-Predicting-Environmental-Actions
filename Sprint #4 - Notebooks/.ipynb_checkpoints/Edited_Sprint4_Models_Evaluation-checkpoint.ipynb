{
  "nbformat": 4,
  "nbformat_minor": 5,
  "metadata": {
    "colab": {
      "name": "Edited_Sprint4_Models_Evaluation.ipynb",
      "provenance": []
    },
    "kernelspec": {
      "display_name": "Python 3",
      "language": "python",
      "name": "python3"
    },
    "language_info": {
      "codemirror_mode": {
        "name": "ipython",
        "version": 3
      },
      "file_extension": ".py",
      "mimetype": "text/x-python",
      "name": "python",
      "nbconvert_exporter": "python",
      "pygments_lexer": "ipython3",
      "version": "3.8.8"
    }
  },
  "cells": [
    {
      "cell_type": "markdown",
      "metadata": {
        "id": "connected-doubt"
      },
      "source": [
        "# Sprint 4 - Model evaluation for Missing GHG values\n",
        "\n",
        "In this notebook, we present the four predictive models we worked on. The goal of these models is to populate missing GHG values in our dataset. "
      ],
      "id": "connected-doubt"
    },
    {
      "cell_type": "markdown",
      "metadata": {
        "id": "satisfactory-terrain"
      },
      "source": [
        "## Feauture Engineering\n",
        "\n",
        "Before coding the models, we will create two new variables in our dataset. \n",
        "\n",
        "1. Missing_GHG - Boolean indicating if the stock had a missing value in that year (1 = True / 0 = False)\n",
        "2. Utilities - Boolean indicating if it is a Utility company (1 = True / 0 = False)\n",
        "3. Time Trend - Cumulative value (0,1,2,3) for each year the stock is in the dataset.\n",
        "\n",
        "The second variable will be used in the Model #3 and #4"
      ],
      "id": "satisfactory-terrain"
    },
    {
      "cell_type": "markdown",
      "metadata": {
        "id": "signal-smile"
      },
      "source": [
        "#### Missing_GHG"
      ],
      "id": "signal-smile"
    },
    {
      "cell_type": "code",
      "metadata": {
        "colab": {
          "base_uri": "https://localhost:8080/",
          "height": 204
        },
        "id": "dental-skirt",
        "outputId": "81d8cd9e-b8ca-4c3a-d3d9-4b72951f2772"
      },
      "source": [
        "import pandas as pd\n",
        "import numpy as np\n",
        "import seaborn as sns\n",
        "import matplotlib.pyplot as plt\n",
        "from sklearn.linear_model import LinearRegression, Ridge, RidgeCV, Lasso, LassoCV\n",
        "from sklearn.tree import DecisionTreeClassifier\n",
        "from sklearn.model_selection import train_test_split, cross_val_score, KFold, cross_val_predict\n",
        "from sklearn import metrics\n",
        "from sklearn.preprocessing import scale \n",
        "\n",
        "stocks = pd.read_csv(\"company_data.csv\")\n",
        "sectors = pd.read_csv(\"52_tickers_sectors.csv\")\n",
        "\n",
        "stocks['Missing_GHG'] = np.where(stocks['GHG Scope 1'].isna(), 1, 0)\n",
        "stocks.loc[stocks['GHG Scope 1'].isna(),['GHG Scope 1','Missing_GHG']].head()"
      ],
      "id": "dental-skirt",
      "execution_count": 404,
      "outputs": [
        {
          "output_type": "execute_result",
          "data": {
            "text/html": [
              "<div>\n",
              "<style scoped>\n",
              "    .dataframe tbody tr th:only-of-type {\n",
              "        vertical-align: middle;\n",
              "    }\n",
              "\n",
              "    .dataframe tbody tr th {\n",
              "        vertical-align: top;\n",
              "    }\n",
              "\n",
              "    .dataframe thead th {\n",
              "        text-align: right;\n",
              "    }\n",
              "</style>\n",
              "<table border=\"1\" class=\"dataframe\">\n",
              "  <thead>\n",
              "    <tr style=\"text-align: right;\">\n",
              "      <th></th>\n",
              "      <th>GHG Scope 1</th>\n",
              "      <th>Missing_GHG</th>\n",
              "    </tr>\n",
              "  </thead>\n",
              "  <tbody>\n",
              "    <tr>\n",
              "      <th>0</th>\n",
              "      <td>NaN</td>\n",
              "      <td>1</td>\n",
              "    </tr>\n",
              "    <tr>\n",
              "      <th>1</th>\n",
              "      <td>NaN</td>\n",
              "      <td>1</td>\n",
              "    </tr>\n",
              "    <tr>\n",
              "      <th>2</th>\n",
              "      <td>NaN</td>\n",
              "      <td>1</td>\n",
              "    </tr>\n",
              "    <tr>\n",
              "      <th>3</th>\n",
              "      <td>NaN</td>\n",
              "      <td>1</td>\n",
              "    </tr>\n",
              "    <tr>\n",
              "      <th>4</th>\n",
              "      <td>NaN</td>\n",
              "      <td>1</td>\n",
              "    </tr>\n",
              "  </tbody>\n",
              "</table>\n",
              "</div>"
            ],
            "text/plain": [
              "   GHG Scope 1  Missing_GHG\n",
              "0          NaN            1\n",
              "1          NaN            1\n",
              "2          NaN            1\n",
              "3          NaN            1\n",
              "4          NaN            1"
            ]
          },
          "metadata": {
            "tags": []
          },
          "execution_count": 404
        }
      ]
    },
    {
      "cell_type": "markdown",
      "metadata": {
        "id": "existing-interface"
      },
      "source": [
        "#### Utilities"
      ],
      "id": "existing-interface"
    },
    {
      "cell_type": "code",
      "metadata": {
        "colab": {
          "base_uri": "https://localhost:8080/",
          "height": 394
        },
        "id": "rubber-silver",
        "outputId": "98307118-bdce-40e9-bb98-e4934c993e97"
      },
      "source": [
        "df = pd.merge(stocks, sectors, how='inner',on='Ticker')\n",
        "df.drop(columns='Name', inplace=True)\n",
        "stocks = df.copy()\n",
        "stocks['Utility'] = np.where(stocks.Sector == 'Utilities',1,0)\n",
        "stocks.loc[stocks.Sector == 'Utilities',].head()"
      ],
      "id": "rubber-silver",
      "execution_count": 405,
      "outputs": [
        {
          "output_type": "execute_result",
          "data": {
            "text/html": [
              "<div>\n",
              "<style scoped>\n",
              "    .dataframe tbody tr th:only-of-type {\n",
              "        vertical-align: middle;\n",
              "    }\n",
              "\n",
              "    .dataframe tbody tr th {\n",
              "        vertical-align: top;\n",
              "    }\n",
              "\n",
              "    .dataframe thead th {\n",
              "        text-align: right;\n",
              "    }\n",
              "</style>\n",
              "<table border=\"1\" class=\"dataframe\">\n",
              "  <thead>\n",
              "    <tr style=\"text-align: right;\">\n",
              "      <th></th>\n",
              "      <th>Year</th>\n",
              "      <th>Ticker</th>\n",
              "      <th>Environmental Disclosure Score</th>\n",
              "      <th>GHG Scope 1</th>\n",
              "      <th>Total Energy Consumption</th>\n",
              "      <th>Change_in_EDS</th>\n",
              "      <th>Change_in_GHG</th>\n",
              "      <th>Change_in_TEC</th>\n",
              "      <th>Ratio of GHG Emissions to Total Assets</th>\n",
              "      <th>Ratio of GHG Emissions to Total Sales</th>\n",
              "      <th>Ratio of Total Energy Consumption to Total Assets</th>\n",
              "      <th>Ratio of Total Energy Consumption to Total Sales</th>\n",
              "      <th>cusip</th>\n",
              "      <th>Company</th>\n",
              "      <th>Total_Assets</th>\n",
              "      <th>Net_Income</th>\n",
              "      <th>Total_Sales</th>\n",
              "      <th>cik</th>\n",
              "      <th>Change_in_Sales</th>\n",
              "      <th>Change_in_Assets</th>\n",
              "      <th>Change_in_NI</th>\n",
              "      <th>ROA</th>\n",
              "      <th>Profit_Margin</th>\n",
              "      <th>Annual Return</th>\n",
              "      <th>Logarithm_Total_Assets</th>\n",
              "      <th>Logarithm_Total_Sales</th>\n",
              "      <th>Profitable</th>\n",
              "      <th>Missing_GHG</th>\n",
              "      <th>Sector</th>\n",
              "      <th>Utility</th>\n",
              "    </tr>\n",
              "  </thead>\n",
              "  <tbody>\n",
              "    <tr>\n",
              "      <th>0</th>\n",
              "      <td>2005</td>\n",
              "      <td>AEE</td>\n",
              "      <td>NaN</td>\n",
              "      <td>NaN</td>\n",
              "      <td>NaN</td>\n",
              "      <td>0.000000</td>\n",
              "      <td>0.0</td>\n",
              "      <td>0.0</td>\n",
              "      <td>NaN</td>\n",
              "      <td>NaN</td>\n",
              "      <td>NaN</td>\n",
              "      <td>NaN</td>\n",
              "      <td>023608102</td>\n",
              "      <td>AMEREN CORP</td>\n",
              "      <td>18162.0</td>\n",
              "      <td>619.0</td>\n",
              "      <td>6780.0</td>\n",
              "      <td>1002910.0</td>\n",
              "      <td>0.000000</td>\n",
              "      <td>0.000000</td>\n",
              "      <td>0.000000</td>\n",
              "      <td>3.408215</td>\n",
              "      <td>9.129794</td>\n",
              "      <td>NaN</td>\n",
              "      <td>9.807087</td>\n",
              "      <td>8.821732</td>\n",
              "      <td>True</td>\n",
              "      <td>1</td>\n",
              "      <td>Utilities</td>\n",
              "      <td>1</td>\n",
              "    </tr>\n",
              "    <tr>\n",
              "      <th>1</th>\n",
              "      <td>2006</td>\n",
              "      <td>AEE</td>\n",
              "      <td>NaN</td>\n",
              "      <td>NaN</td>\n",
              "      <td>NaN</td>\n",
              "      <td>0.000000</td>\n",
              "      <td>0.0</td>\n",
              "      <td>0.0</td>\n",
              "      <td>NaN</td>\n",
              "      <td>NaN</td>\n",
              "      <td>NaN</td>\n",
              "      <td>NaN</td>\n",
              "      <td>023608102</td>\n",
              "      <td>AMEREN CORP</td>\n",
              "      <td>19578.0</td>\n",
              "      <td>558.0</td>\n",
              "      <td>6880.0</td>\n",
              "      <td>1002910.0</td>\n",
              "      <td>1.474926</td>\n",
              "      <td>7.796498</td>\n",
              "      <td>-9.854604</td>\n",
              "      <td>2.850138</td>\n",
              "      <td>8.110465</td>\n",
              "      <td>NaN</td>\n",
              "      <td>9.882162</td>\n",
              "      <td>8.836374</td>\n",
              "      <td>True</td>\n",
              "      <td>1</td>\n",
              "      <td>Utilities</td>\n",
              "      <td>1</td>\n",
              "    </tr>\n",
              "    <tr>\n",
              "      <th>2</th>\n",
              "      <td>2007</td>\n",
              "      <td>AEE</td>\n",
              "      <td>9.7</td>\n",
              "      <td>NaN</td>\n",
              "      <td>NaN</td>\n",
              "      <td>0.000000</td>\n",
              "      <td>0.0</td>\n",
              "      <td>0.0</td>\n",
              "      <td>NaN</td>\n",
              "      <td>NaN</td>\n",
              "      <td>NaN</td>\n",
              "      <td>NaN</td>\n",
              "      <td>023608102</td>\n",
              "      <td>AMEREN CORP</td>\n",
              "      <td>20728.0</td>\n",
              "      <td>629.0</td>\n",
              "      <td>7546.0</td>\n",
              "      <td>1002910.0</td>\n",
              "      <td>9.680233</td>\n",
              "      <td>5.873940</td>\n",
              "      <td>12.724014</td>\n",
              "      <td>3.034543</td>\n",
              "      <td>8.335542</td>\n",
              "      <td>NaN</td>\n",
              "      <td>9.939241</td>\n",
              "      <td>8.928773</td>\n",
              "      <td>True</td>\n",
              "      <td>1</td>\n",
              "      <td>Utilities</td>\n",
              "      <td>1</td>\n",
              "    </tr>\n",
              "    <tr>\n",
              "      <th>3</th>\n",
              "      <td>2008</td>\n",
              "      <td>AEE</td>\n",
              "      <td>9.7</td>\n",
              "      <td>NaN</td>\n",
              "      <td>NaN</td>\n",
              "      <td>0.000000</td>\n",
              "      <td>0.0</td>\n",
              "      <td>0.0</td>\n",
              "      <td>NaN</td>\n",
              "      <td>NaN</td>\n",
              "      <td>NaN</td>\n",
              "      <td>NaN</td>\n",
              "      <td>023608102</td>\n",
              "      <td>AMEREN CORP</td>\n",
              "      <td>22657.0</td>\n",
              "      <td>615.0</td>\n",
              "      <td>7839.0</td>\n",
              "      <td>1002910.0</td>\n",
              "      <td>3.882852</td>\n",
              "      <td>9.306252</td>\n",
              "      <td>-2.225755</td>\n",
              "      <td>2.714393</td>\n",
              "      <td>7.845388</td>\n",
              "      <td>NaN</td>\n",
              "      <td>10.028224</td>\n",
              "      <td>8.966867</td>\n",
              "      <td>True</td>\n",
              "      <td>1</td>\n",
              "      <td>Utilities</td>\n",
              "      <td>1</td>\n",
              "    </tr>\n",
              "    <tr>\n",
              "      <th>4</th>\n",
              "      <td>2009</td>\n",
              "      <td>AEE</td>\n",
              "      <td>12.4</td>\n",
              "      <td>NaN</td>\n",
              "      <td>NaN</td>\n",
              "      <td>27.835052</td>\n",
              "      <td>0.0</td>\n",
              "      <td>0.0</td>\n",
              "      <td>NaN</td>\n",
              "      <td>NaN</td>\n",
              "      <td>NaN</td>\n",
              "      <td>NaN</td>\n",
              "      <td>023608102</td>\n",
              "      <td>AMEREN CORP</td>\n",
              "      <td>23790.0</td>\n",
              "      <td>612.0</td>\n",
              "      <td>7090.0</td>\n",
              "      <td>1002910.0</td>\n",
              "      <td>-9.554790</td>\n",
              "      <td>5.000662</td>\n",
              "      <td>-0.487805</td>\n",
              "      <td>2.572509</td>\n",
              "      <td>8.631876</td>\n",
              "      <td>NaN</td>\n",
              "      <td>10.077021</td>\n",
              "      <td>8.866441</td>\n",
              "      <td>True</td>\n",
              "      <td>1</td>\n",
              "      <td>Utilities</td>\n",
              "      <td>1</td>\n",
              "    </tr>\n",
              "  </tbody>\n",
              "</table>\n",
              "</div>"
            ],
            "text/plain": [
              "   Year Ticker  Environmental Disclosure Score  ...  Missing_GHG     Sector  Utility\n",
              "0  2005    AEE                             NaN  ...            1  Utilities        1\n",
              "1  2006    AEE                             NaN  ...            1  Utilities        1\n",
              "2  2007    AEE                             9.7  ...            1  Utilities        1\n",
              "3  2008    AEE                             9.7  ...            1  Utilities        1\n",
              "4  2009    AEE                            12.4  ...            1  Utilities        1\n",
              "\n",
              "[5 rows x 30 columns]"
            ]
          },
          "metadata": {
            "tags": []
          },
          "execution_count": 405
        }
      ]
    },
    {
      "cell_type": "markdown",
      "metadata": {
        "id": "typical-hospital"
      },
      "source": [
        "#### Time trend"
      ],
      "id": "typical-hospital"
    },
    {
      "cell_type": "code",
      "metadata": {
        "colab": {
          "base_uri": "https://localhost:8080/",
          "height": 1000
        },
        "id": "radio-veteran",
        "outputId": "da82343b-18e1-4e6e-90df-5a8b79b067fd"
      },
      "source": [
        "stocks['time_trend'] = stocks.groupby('Ticker').cumcount()\n",
        "stocks.loc[stocks.Ticker == 'XOM'].groupby(['Ticker','Year']).head(20)"
      ],
      "id": "radio-veteran",
      "execution_count": 406,
      "outputs": [
        {
          "output_type": "execute_result",
          "data": {
            "text/html": [
              "<div>\n",
              "<style scoped>\n",
              "    .dataframe tbody tr th:only-of-type {\n",
              "        vertical-align: middle;\n",
              "    }\n",
              "\n",
              "    .dataframe tbody tr th {\n",
              "        vertical-align: top;\n",
              "    }\n",
              "\n",
              "    .dataframe thead th {\n",
              "        text-align: right;\n",
              "    }\n",
              "</style>\n",
              "<table border=\"1\" class=\"dataframe\">\n",
              "  <thead>\n",
              "    <tr style=\"text-align: right;\">\n",
              "      <th></th>\n",
              "      <th>Year</th>\n",
              "      <th>Ticker</th>\n",
              "      <th>Environmental Disclosure Score</th>\n",
              "      <th>GHG Scope 1</th>\n",
              "      <th>Total Energy Consumption</th>\n",
              "      <th>Change_in_EDS</th>\n",
              "      <th>Change_in_GHG</th>\n",
              "      <th>Change_in_TEC</th>\n",
              "      <th>Ratio of GHG Emissions to Total Assets</th>\n",
              "      <th>Ratio of GHG Emissions to Total Sales</th>\n",
              "      <th>Ratio of Total Energy Consumption to Total Assets</th>\n",
              "      <th>Ratio of Total Energy Consumption to Total Sales</th>\n",
              "      <th>cusip</th>\n",
              "      <th>Company</th>\n",
              "      <th>Total_Assets</th>\n",
              "      <th>Net_Income</th>\n",
              "      <th>Total_Sales</th>\n",
              "      <th>cik</th>\n",
              "      <th>Change_in_Sales</th>\n",
              "      <th>Change_in_Assets</th>\n",
              "      <th>Change_in_NI</th>\n",
              "      <th>ROA</th>\n",
              "      <th>Profit_Margin</th>\n",
              "      <th>Annual Return</th>\n",
              "      <th>Logarithm_Total_Assets</th>\n",
              "      <th>Logarithm_Total_Sales</th>\n",
              "      <th>Profitable</th>\n",
              "      <th>Missing_GHG</th>\n",
              "      <th>Sector</th>\n",
              "      <th>Utility</th>\n",
              "      <th>time_trend</th>\n",
              "    </tr>\n",
              "  </thead>\n",
              "  <tbody>\n",
              "    <tr>\n",
              "      <th>765</th>\n",
              "      <td>2005</td>\n",
              "      <td>XOM</td>\n",
              "      <td>NaN</td>\n",
              "      <td>NaN</td>\n",
              "      <td>NaN</td>\n",
              "      <td>0.000000</td>\n",
              "      <td>0.000000</td>\n",
              "      <td>0.000000</td>\n",
              "      <td>NaN</td>\n",
              "      <td>NaN</td>\n",
              "      <td>NaN</td>\n",
              "      <td>NaN</td>\n",
              "      <td>30231G102</td>\n",
              "      <td>EXXON MOBIL CORP</td>\n",
              "      <td>208335.0</td>\n",
              "      <td>36130.0</td>\n",
              "      <td>328213.0</td>\n",
              "      <td>34088.0</td>\n",
              "      <td>0.000000</td>\n",
              "      <td>0.000000</td>\n",
              "      <td>0.000000</td>\n",
              "      <td>17.342261</td>\n",
              "      <td>11.008095</td>\n",
              "      <td>NaN</td>\n",
              "      <td>12.246903</td>\n",
              "      <td>12.701418</td>\n",
              "      <td>True</td>\n",
              "      <td>1</td>\n",
              "      <td>Energy</td>\n",
              "      <td>0</td>\n",
              "      <td>0</td>\n",
              "    </tr>\n",
              "    <tr>\n",
              "      <th>766</th>\n",
              "      <td>2006</td>\n",
              "      <td>XOM</td>\n",
              "      <td>43.8</td>\n",
              "      <td>145500.0</td>\n",
              "      <td>433650.0</td>\n",
              "      <td>0.000000</td>\n",
              "      <td>0.000000</td>\n",
              "      <td>0.000000</td>\n",
              "      <td>664.338059</td>\n",
              "      <td>434.216888</td>\n",
              "      <td>1980.001370</td>\n",
              "      <td>1294.145384</td>\n",
              "      <td>30231G102</td>\n",
              "      <td>EXXON MOBIL CORP</td>\n",
              "      <td>219015.0</td>\n",
              "      <td>39500.0</td>\n",
              "      <td>335086.0</td>\n",
              "      <td>34088.0</td>\n",
              "      <td>2.094067</td>\n",
              "      <td>5.126359</td>\n",
              "      <td>9.327429</td>\n",
              "      <td>18.035294</td>\n",
              "      <td>11.788019</td>\n",
              "      <td>NaN</td>\n",
              "      <td>12.296895</td>\n",
              "      <td>12.722142</td>\n",
              "      <td>True</td>\n",
              "      <td>0</td>\n",
              "      <td>Energy</td>\n",
              "      <td>0</td>\n",
              "      <td>1</td>\n",
              "    </tr>\n",
              "    <tr>\n",
              "      <th>767</th>\n",
              "      <td>2007</td>\n",
              "      <td>XOM</td>\n",
              "      <td>46.3</td>\n",
              "      <td>141000.0</td>\n",
              "      <td>430556.0</td>\n",
              "      <td>5.707763</td>\n",
              "      <td>-3.092784</td>\n",
              "      <td>-0.713479</td>\n",
              "      <td>582.447270</td>\n",
              "      <td>393.195761</td>\n",
              "      <td>1778.554374</td>\n",
              "      <td>1200.658115</td>\n",
              "      <td>30231G102</td>\n",
              "      <td>EXXON MOBIL CORP</td>\n",
              "      <td>242082.0</td>\n",
              "      <td>40610.0</td>\n",
              "      <td>358600.0</td>\n",
              "      <td>34088.0</td>\n",
              "      <td>7.017303</td>\n",
              "      <td>10.532155</td>\n",
              "      <td>2.810127</td>\n",
              "      <td>16.775308</td>\n",
              "      <td>11.324596</td>\n",
              "      <td>NaN</td>\n",
              "      <td>12.397032</td>\n",
              "      <td>12.789963</td>\n",
              "      <td>True</td>\n",
              "      <td>0</td>\n",
              "      <td>Energy</td>\n",
              "      <td>0</td>\n",
              "      <td>2</td>\n",
              "    </tr>\n",
              "    <tr>\n",
              "      <th>768</th>\n",
              "      <td>2008</td>\n",
              "      <td>XOM</td>\n",
              "      <td>46.3</td>\n",
              "      <td>126000.0</td>\n",
              "      <td>416667.0</td>\n",
              "      <td>0.000000</td>\n",
              "      <td>-10.638298</td>\n",
              "      <td>-3.225829</td>\n",
              "      <td>552.505569</td>\n",
              "      <td>296.421068</td>\n",
              "      <td>1827.070142</td>\n",
              "      <td>980.229185</td>\n",
              "      <td>30231G102</td>\n",
              "      <td>EXXON MOBIL CORP</td>\n",
              "      <td>228052.0</td>\n",
              "      <td>45220.0</td>\n",
              "      <td>425071.0</td>\n",
              "      <td>34088.0</td>\n",
              "      <td>18.536252</td>\n",
              "      <td>-5.795557</td>\n",
              "      <td>11.351884</td>\n",
              "      <td>19.828811</td>\n",
              "      <td>10.638223</td>\n",
              "      <td>NaN</td>\n",
              "      <td>12.337329</td>\n",
              "      <td>12.960011</td>\n",
              "      <td>True</td>\n",
              "      <td>0</td>\n",
              "      <td>Energy</td>\n",
              "      <td>0</td>\n",
              "      <td>3</td>\n",
              "    </tr>\n",
              "    <tr>\n",
              "      <th>769</th>\n",
              "      <td>2009</td>\n",
              "      <td>XOM</td>\n",
              "      <td>52.9</td>\n",
              "      <td>128000.0</td>\n",
              "      <td>405639.0</td>\n",
              "      <td>14.254860</td>\n",
              "      <td>1.587302</td>\n",
              "      <td>-2.646718</td>\n",
              "      <td>548.595724</td>\n",
              "      <td>464.501894</td>\n",
              "      <td>1738.529849</td>\n",
              "      <td>1472.031905</td>\n",
              "      <td>30231G102</td>\n",
              "      <td>EXXON MOBIL CORP</td>\n",
              "      <td>233323.0</td>\n",
              "      <td>19280.0</td>\n",
              "      <td>275564.0</td>\n",
              "      <td>34088.0</td>\n",
              "      <td>-35.172242</td>\n",
              "      <td>2.311315</td>\n",
              "      <td>-57.363998</td>\n",
              "      <td>8.263223</td>\n",
              "      <td>6.996560</td>\n",
              "      <td>NaN</td>\n",
              "      <td>12.360179</td>\n",
              "      <td>12.526575</td>\n",
              "      <td>True</td>\n",
              "      <td>0</td>\n",
              "      <td>Energy</td>\n",
              "      <td>0</td>\n",
              "      <td>4</td>\n",
              "    </tr>\n",
              "    <tr>\n",
              "      <th>770</th>\n",
              "      <td>2010</td>\n",
              "      <td>XOM</td>\n",
              "      <td>54.6</td>\n",
              "      <td>132000.0</td>\n",
              "      <td>408333.0</td>\n",
              "      <td>3.213611</td>\n",
              "      <td>3.125000</td>\n",
              "      <td>0.664137</td>\n",
              "      <td>436.349212</td>\n",
              "      <td>386.441750</td>\n",
              "      <td>1349.816535</td>\n",
              "      <td>1195.431205</td>\n",
              "      <td>30231G102</td>\n",
              "      <td>EXXON MOBIL CORP</td>\n",
              "      <td>302510.0</td>\n",
              "      <td>30460.0</td>\n",
              "      <td>341578.0</td>\n",
              "      <td>34088.0</td>\n",
              "      <td>23.955959</td>\n",
              "      <td>29.652885</td>\n",
              "      <td>57.987552</td>\n",
              "      <td>10.069089</td>\n",
              "      <td>8.917436</td>\n",
              "      <td>NaN</td>\n",
              "      <td>12.619870</td>\n",
              "      <td>12.741331</td>\n",
              "      <td>True</td>\n",
              "      <td>0</td>\n",
              "      <td>Energy</td>\n",
              "      <td>0</td>\n",
              "      <td>5</td>\n",
              "    </tr>\n",
              "    <tr>\n",
              "      <th>771</th>\n",
              "      <td>2011</td>\n",
              "      <td>XOM</td>\n",
              "      <td>54.6</td>\n",
              "      <td>136000.0</td>\n",
              "      <td>430556.0</td>\n",
              "      <td>0.000000</td>\n",
              "      <td>3.030303</td>\n",
              "      <td>5.442372</td>\n",
              "      <td>410.811595</td>\n",
              "      <td>313.706675</td>\n",
              "      <td>1300.569095</td>\n",
              "      <td>993.149200</td>\n",
              "      <td>30231G102</td>\n",
              "      <td>EXXON MOBIL CORP</td>\n",
              "      <td>331052.0</td>\n",
              "      <td>41060.0</td>\n",
              "      <td>433526.0</td>\n",
              "      <td>34088.0</td>\n",
              "      <td>26.918595</td>\n",
              "      <td>9.435060</td>\n",
              "      <td>34.799737</td>\n",
              "      <td>12.402885</td>\n",
              "      <td>9.471174</td>\n",
              "      <td>NaN</td>\n",
              "      <td>12.710031</td>\n",
              "      <td>12.979707</td>\n",
              "      <td>True</td>\n",
              "      <td>0</td>\n",
              "      <td>Energy</td>\n",
              "      <td>0</td>\n",
              "      <td>6</td>\n",
              "    </tr>\n",
              "    <tr>\n",
              "      <th>772</th>\n",
              "      <td>2012</td>\n",
              "      <td>XOM</td>\n",
              "      <td>55.4</td>\n",
              "      <td>132000.0</td>\n",
              "      <td>416667.0</td>\n",
              "      <td>1.465201</td>\n",
              "      <td>-2.941176</td>\n",
              "      <td>-3.225829</td>\n",
              "      <td>395.452299</td>\n",
              "      <td>313.752335</td>\n",
              "      <td>1248.272143</td>\n",
              "      <td>990.380639</td>\n",
              "      <td>30231G102</td>\n",
              "      <td>EXXON MOBIL CORP</td>\n",
              "      <td>333795.0</td>\n",
              "      <td>44880.0</td>\n",
              "      <td>420714.0</td>\n",
              "      <td>34088.0</td>\n",
              "      <td>-2.955301</td>\n",
              "      <td>0.828571</td>\n",
              "      <td>9.303458</td>\n",
              "      <td>13.445378</td>\n",
              "      <td>10.667579</td>\n",
              "      <td>0.198270</td>\n",
              "      <td>12.718282</td>\n",
              "      <td>12.949709</td>\n",
              "      <td>True</td>\n",
              "      <td>0</td>\n",
              "      <td>Energy</td>\n",
              "      <td>0</td>\n",
              "      <td>7</td>\n",
              "    </tr>\n",
              "    <tr>\n",
              "      <th>773</th>\n",
              "      <td>2013</td>\n",
              "      <td>XOM</td>\n",
              "      <td>55.4</td>\n",
              "      <td>135000.0</td>\n",
              "      <td>416667.0</td>\n",
              "      <td>0.000000</td>\n",
              "      <td>2.272727</td>\n",
              "      <td>0.000000</td>\n",
              "      <td>389.264377</td>\n",
              "      <td>345.934754</td>\n",
              "      <td>1201.434223</td>\n",
              "      <td>1067.700713</td>\n",
              "      <td>30231G102</td>\n",
              "      <td>EXXON MOBIL CORP</td>\n",
              "      <td>346808.0</td>\n",
              "      <td>32580.0</td>\n",
              "      <td>390247.0</td>\n",
              "      <td>34088.0</td>\n",
              "      <td>-7.241737</td>\n",
              "      <td>3.898501</td>\n",
              "      <td>-27.406417</td>\n",
              "      <td>9.394247</td>\n",
              "      <td>8.348559</td>\n",
              "      <td>0.120157</td>\n",
              "      <td>12.756527</td>\n",
              "      <td>12.874535</td>\n",
              "      <td>True</td>\n",
              "      <td>0</td>\n",
              "      <td>Energy</td>\n",
              "      <td>0</td>\n",
              "      <td>8</td>\n",
              "    </tr>\n",
              "    <tr>\n",
              "      <th>774</th>\n",
              "      <td>2014</td>\n",
              "      <td>XOM</td>\n",
              "      <td>55.4</td>\n",
              "      <td>121000.0</td>\n",
              "      <td>444444.0</td>\n",
              "      <td>0.000000</td>\n",
              "      <td>-10.370370</td>\n",
              "      <td>6.666475</td>\n",
              "      <td>346.215804</td>\n",
              "      <td>331.722242</td>\n",
              "      <td>1271.682122</td>\n",
              "      <td>1218.445950</td>\n",
              "      <td>30231G102</td>\n",
              "      <td>EXXON MOBIL CORP</td>\n",
              "      <td>349493.0</td>\n",
              "      <td>32520.0</td>\n",
              "      <td>364763.0</td>\n",
              "      <td>34088.0</td>\n",
              "      <td>-6.530223</td>\n",
              "      <td>0.774204</td>\n",
              "      <td>-0.184162</td>\n",
              "      <td>9.304907</td>\n",
              "      <td>8.915378</td>\n",
              "      <td>0.352835</td>\n",
              "      <td>12.764239</td>\n",
              "      <td>12.807003</td>\n",
              "      <td>True</td>\n",
              "      <td>0</td>\n",
              "      <td>Energy</td>\n",
              "      <td>0</td>\n",
              "      <td>9</td>\n",
              "    </tr>\n",
              "    <tr>\n",
              "      <th>775</th>\n",
              "      <td>2015</td>\n",
              "      <td>XOM</td>\n",
              "      <td>55.4</td>\n",
              "      <td>118000.0</td>\n",
              "      <td>472222.0</td>\n",
              "      <td>0.000000</td>\n",
              "      <td>-2.479339</td>\n",
              "      <td>6.250056</td>\n",
              "      <td>350.399990</td>\n",
              "      <td>498.289768</td>\n",
              "      <td>1402.259189</td>\n",
              "      <td>1994.096533</td>\n",
              "      <td>30231G102</td>\n",
              "      <td>EXXON MOBIL CORP</td>\n",
              "      <td>336758.0</td>\n",
              "      <td>16150.0</td>\n",
              "      <td>236810.0</td>\n",
              "      <td>34088.0</td>\n",
              "      <td>-35.078393</td>\n",
              "      <td>-3.643850</td>\n",
              "      <td>-50.338253</td>\n",
              "      <td>4.795729</td>\n",
              "      <td>6.819813</td>\n",
              "      <td>0.025943</td>\n",
              "      <td>12.727120</td>\n",
              "      <td>12.375013</td>\n",
              "      <td>True</td>\n",
              "      <td>0</td>\n",
              "      <td>Energy</td>\n",
              "      <td>0</td>\n",
              "      <td>10</td>\n",
              "    </tr>\n",
              "    <tr>\n",
              "      <th>776</th>\n",
              "      <td>2016</td>\n",
              "      <td>XOM</td>\n",
              "      <td>53.7</td>\n",
              "      <td>120000.0</td>\n",
              "      <td>416667.0</td>\n",
              "      <td>-3.068592</td>\n",
              "      <td>1.694915</td>\n",
              "      <td>-11.764594</td>\n",
              "      <td>363.290687</td>\n",
              "      <td>607.539566</td>\n",
              "      <td>1261.427006</td>\n",
              "      <td>2109.514070</td>\n",
              "      <td>30231G102</td>\n",
              "      <td>EXXON MOBIL CORP</td>\n",
              "      <td>330314.0</td>\n",
              "      <td>7840.0</td>\n",
              "      <td>197518.0</td>\n",
              "      <td>34088.0</td>\n",
              "      <td>-16.592205</td>\n",
              "      <td>-1.913540</td>\n",
              "      <td>-51.455108</td>\n",
              "      <td>2.373499</td>\n",
              "      <td>3.969258</td>\n",
              "      <td>0.105391</td>\n",
              "      <td>12.707799</td>\n",
              "      <td>12.193585</td>\n",
              "      <td>True</td>\n",
              "      <td>0</td>\n",
              "      <td>Energy</td>\n",
              "      <td>0</td>\n",
              "      <td>11</td>\n",
              "    </tr>\n",
              "    <tr>\n",
              "      <th>777</th>\n",
              "      <td>2017</td>\n",
              "      <td>XOM</td>\n",
              "      <td>53.7</td>\n",
              "      <td>117000.0</td>\n",
              "      <td>416667.0</td>\n",
              "      <td>0.000000</td>\n",
              "      <td>-2.500000</td>\n",
              "      <td>0.000000</td>\n",
              "      <td>335.540636</td>\n",
              "      <td>493.333671</td>\n",
              "      <td>1194.946242</td>\n",
              "      <td>1756.887697</td>\n",
              "      <td>30231G102</td>\n",
              "      <td>EXXON MOBIL CORP</td>\n",
              "      <td>348691.0</td>\n",
              "      <td>19710.0</td>\n",
              "      <td>237162.0</td>\n",
              "      <td>34088.0</td>\n",
              "      <td>20.071082</td>\n",
              "      <td>5.563494</td>\n",
              "      <td>151.403061</td>\n",
              "      <td>5.652569</td>\n",
              "      <td>8.310775</td>\n",
              "      <td>0.125855</td>\n",
              "      <td>12.761941</td>\n",
              "      <td>12.376499</td>\n",
              "      <td>True</td>\n",
              "      <td>0</td>\n",
              "      <td>Energy</td>\n",
              "      <td>0</td>\n",
              "      <td>12</td>\n",
              "    </tr>\n",
              "    <tr>\n",
              "      <th>778</th>\n",
              "      <td>2018</td>\n",
              "      <td>XOM</td>\n",
              "      <td>53.7</td>\n",
              "      <td>119000.0</td>\n",
              "      <td>416667.0</td>\n",
              "      <td>0.000000</td>\n",
              "      <td>1.709402</td>\n",
              "      <td>0.000000</td>\n",
              "      <td>343.735918</td>\n",
              "      <td>426.016353</td>\n",
              "      <td>1203.558100</td>\n",
              "      <td>1491.655091</td>\n",
              "      <td>30231G102</td>\n",
              "      <td>EXXON MOBIL CORP</td>\n",
              "      <td>346196.0</td>\n",
              "      <td>20840.0</td>\n",
              "      <td>279332.0</td>\n",
              "      <td>34088.0</td>\n",
              "      <td>17.781095</td>\n",
              "      <td>-0.715533</td>\n",
              "      <td>5.733130</td>\n",
              "      <td>6.019711</td>\n",
              "      <td>7.460656</td>\n",
              "      <td>0.175170</td>\n",
              "      <td>12.754760</td>\n",
              "      <td>12.540156</td>\n",
              "      <td>True</td>\n",
              "      <td>0</td>\n",
              "      <td>Energy</td>\n",
              "      <td>0</td>\n",
              "      <td>13</td>\n",
              "    </tr>\n",
              "    <tr>\n",
              "      <th>779</th>\n",
              "      <td>2019</td>\n",
              "      <td>XOM</td>\n",
              "      <td>56.2</td>\n",
              "      <td>114000.0</td>\n",
              "      <td>416667.0</td>\n",
              "      <td>4.655493</td>\n",
              "      <td>-4.201681</td>\n",
              "      <td>0.000000</td>\n",
              "      <td>314.398630</td>\n",
              "      <td>446.039056</td>\n",
              "      <td>1149.118719</td>\n",
              "      <td>1630.261011</td>\n",
              "      <td>30231G102</td>\n",
              "      <td>EXXON MOBIL CORP</td>\n",
              "      <td>362597.0</td>\n",
              "      <td>14340.0</td>\n",
              "      <td>255583.0</td>\n",
              "      <td>34088.0</td>\n",
              "      <td>-8.502069</td>\n",
              "      <td>4.737490</td>\n",
              "      <td>-31.190019</td>\n",
              "      <td>3.954804</td>\n",
              "      <td>5.610702</td>\n",
              "      <td>0.407673</td>\n",
              "      <td>12.801047</td>\n",
              "      <td>12.451302</td>\n",
              "      <td>True</td>\n",
              "      <td>0</td>\n",
              "      <td>Energy</td>\n",
              "      <td>0</td>\n",
              "      <td>14</td>\n",
              "    </tr>\n",
              "  </tbody>\n",
              "</table>\n",
              "</div>"
            ],
            "text/plain": [
              "     Year Ticker  Environmental Disclosure Score  ...  Sector  Utility  time_trend\n",
              "765  2005    XOM                             NaN  ...  Energy        0           0\n",
              "766  2006    XOM                            43.8  ...  Energy        0           1\n",
              "767  2007    XOM                            46.3  ...  Energy        0           2\n",
              "768  2008    XOM                            46.3  ...  Energy        0           3\n",
              "769  2009    XOM                            52.9  ...  Energy        0           4\n",
              "770  2010    XOM                            54.6  ...  Energy        0           5\n",
              "771  2011    XOM                            54.6  ...  Energy        0           6\n",
              "772  2012    XOM                            55.4  ...  Energy        0           7\n",
              "773  2013    XOM                            55.4  ...  Energy        0           8\n",
              "774  2014    XOM                            55.4  ...  Energy        0           9\n",
              "775  2015    XOM                            55.4  ...  Energy        0          10\n",
              "776  2016    XOM                            53.7  ...  Energy        0          11\n",
              "777  2017    XOM                            53.7  ...  Energy        0          12\n",
              "778  2018    XOM                            53.7  ...  Energy        0          13\n",
              "779  2019    XOM                            56.2  ...  Energy        0          14\n",
              "\n",
              "[15 rows x 31 columns]"
            ]
          },
          "metadata": {
            "tags": []
          },
          "execution_count": 406
        }
      ]
    },
    {
      "cell_type": "markdown",
      "metadata": {
        "id": "prescription-complaint"
      },
      "source": [
        "## Models\n",
        "\n",
        "### Model 1 - Sales and Assets\n",
        "\n",
        "\n",
        "GHG = a + b1*Sales + b2*Assets + e     \n"
      ],
      "id": "prescription-complaint"
    },
    {
      "cell_type": "code",
      "metadata": {
        "id": "agreed-generation"
      },
      "source": [
        "import pandas as pd\n",
        "import numpy as np\n",
        "from sklearn.linear_model import LinearRegression\n",
        "from sklearn.model_selection import train_test_split"
      ],
      "id": "agreed-generation",
      "execution_count": 407,
      "outputs": []
    },
    {
      "cell_type": "code",
      "metadata": {
        "id": "handed-miniature",
        "colab": {
          "base_uri": "https://localhost:8080/"
        },
        "outputId": "a3474674-0a6c-4ff8-e71f-b4ed29545f67"
      },
      "source": [
        "df=pd.read_csv(\"company_data.csv\")\n",
        "df.columns"
      ],
      "id": "handed-miniature",
      "execution_count": 408,
      "outputs": [
        {
          "output_type": "execute_result",
          "data": {
            "text/plain": [
              "Index(['Year', 'Ticker', 'Environmental Disclosure Score', 'GHG Scope 1',\n",
              "       'Total Energy Consumption', 'Change_in_EDS', 'Change_in_GHG',\n",
              "       'Change_in_TEC', 'Ratio of GHG Emissions to Total Assets',\n",
              "       'Ratio of GHG Emissions to Total Sales',\n",
              "       'Ratio of Total Energy Consumption to Total Assets',\n",
              "       'Ratio of Total Energy Consumption to Total Sales', 'cusip', 'Company',\n",
              "       'Total_Assets', 'Net_Income', 'Total_Sales', 'cik', 'Change_in_Sales',\n",
              "       'Change_in_Assets', 'Change_in_NI', 'ROA', 'Profit_Margin',\n",
              "       'Annual Return', 'Logarithm_Total_Assets', 'Logarithm_Total_Sales',\n",
              "       'Profitable'],\n",
              "      dtype='object')"
            ]
          },
          "metadata": {
            "tags": []
          },
          "execution_count": 408
        }
      ]
    },
    {
      "cell_type": "code",
      "metadata": {
        "id": "selective-roots"
      },
      "source": [
        "da=df[['GHG Scope 1','Total_Assets','Total_Sales']]"
      ],
      "id": "selective-roots",
      "execution_count": 409,
      "outputs": []
    },
    {
      "cell_type": "code",
      "metadata": {
        "id": "standard-pontiac",
        "colab": {
          "base_uri": "https://localhost:8080/",
          "height": 419
        },
        "outputId": "115a2b63-7aa0-43d7-ea5d-9b7a4ecb574f"
      },
      "source": [
        "dn=da.dropna()\n",
        "dn"
      ],
      "id": "standard-pontiac",
      "execution_count": 410,
      "outputs": [
        {
          "output_type": "execute_result",
          "data": {
            "text/html": [
              "<div>\n",
              "<style scoped>\n",
              "    .dataframe tbody tr th:only-of-type {\n",
              "        vertical-align: middle;\n",
              "    }\n",
              "\n",
              "    .dataframe tbody tr th {\n",
              "        vertical-align: top;\n",
              "    }\n",
              "\n",
              "    .dataframe thead th {\n",
              "        text-align: right;\n",
              "    }\n",
              "</style>\n",
              "<table border=\"1\" class=\"dataframe\">\n",
              "  <thead>\n",
              "    <tr style=\"text-align: right;\">\n",
              "      <th></th>\n",
              "      <th>GHG Scope 1</th>\n",
              "      <th>Total_Assets</th>\n",
              "      <th>Total_Sales</th>\n",
              "    </tr>\n",
              "  </thead>\n",
              "  <tbody>\n",
              "    <tr>\n",
              "      <th>8</th>\n",
              "      <td>32978.0</td>\n",
              "      <td>21042.0</td>\n",
              "      <td>5838.0</td>\n",
              "    </tr>\n",
              "    <tr>\n",
              "      <th>9</th>\n",
              "      <td>30675.0</td>\n",
              "      <td>22676.0</td>\n",
              "      <td>6053.0</td>\n",
              "    </tr>\n",
              "    <tr>\n",
              "      <th>10</th>\n",
              "      <td>28548.2</td>\n",
              "      <td>23640.0</td>\n",
              "      <td>6098.0</td>\n",
              "    </tr>\n",
              "    <tr>\n",
              "      <th>11</th>\n",
              "      <td>26795.6</td>\n",
              "      <td>24699.0</td>\n",
              "      <td>6076.0</td>\n",
              "    </tr>\n",
              "    <tr>\n",
              "      <th>12</th>\n",
              "      <td>30200.4</td>\n",
              "      <td>25945.0</td>\n",
              "      <td>6177.0</td>\n",
              "    </tr>\n",
              "    <tr>\n",
              "      <th>...</th>\n",
              "      <td>...</td>\n",
              "      <td>...</td>\n",
              "      <td>...</td>\n",
              "    </tr>\n",
              "    <tr>\n",
              "      <th>775</th>\n",
              "      <td>118000.0</td>\n",
              "      <td>336758.0</td>\n",
              "      <td>236810.0</td>\n",
              "    </tr>\n",
              "    <tr>\n",
              "      <th>776</th>\n",
              "      <td>120000.0</td>\n",
              "      <td>330314.0</td>\n",
              "      <td>197518.0</td>\n",
              "    </tr>\n",
              "    <tr>\n",
              "      <th>777</th>\n",
              "      <td>117000.0</td>\n",
              "      <td>348691.0</td>\n",
              "      <td>237162.0</td>\n",
              "    </tr>\n",
              "    <tr>\n",
              "      <th>778</th>\n",
              "      <td>119000.0</td>\n",
              "      <td>346196.0</td>\n",
              "      <td>279332.0</td>\n",
              "    </tr>\n",
              "    <tr>\n",
              "      <th>779</th>\n",
              "      <td>114000.0</td>\n",
              "      <td>362597.0</td>\n",
              "      <td>255583.0</td>\n",
              "    </tr>\n",
              "  </tbody>\n",
              "</table>\n",
              "<p>398 rows × 3 columns</p>\n",
              "</div>"
            ],
            "text/plain": [
              "     GHG Scope 1  Total_Assets  Total_Sales\n",
              "8        32978.0       21042.0       5838.0\n",
              "9        30675.0       22676.0       6053.0\n",
              "10       28548.2       23640.0       6098.0\n",
              "11       26795.6       24699.0       6076.0\n",
              "12       30200.4       25945.0       6177.0\n",
              "..           ...           ...          ...\n",
              "775     118000.0      336758.0     236810.0\n",
              "776     120000.0      330314.0     197518.0\n",
              "777     117000.0      348691.0     237162.0\n",
              "778     119000.0      346196.0     279332.0\n",
              "779     114000.0      362597.0     255583.0\n",
              "\n",
              "[398 rows x 3 columns]"
            ]
          },
          "metadata": {
            "tags": []
          },
          "execution_count": 410
        }
      ]
    },
    {
      "cell_type": "code",
      "metadata": {
        "id": "rising-syndrome",
        "colab": {
          "base_uri": "https://localhost:8080/"
        },
        "outputId": "42af4975-fded-45e3-e852-8761949acb9f"
      },
      "source": [
        "X = dn.iloc[:, 1:3].values\n",
        "y = dn.iloc[:, 0].values\n",
        "X_train, X_test, y_train, y_test = train_test_split(X, y, test_size=0.2, random_state=42)\n",
        "regressor = LinearRegression()\n",
        "regressor.fit(X_train, y_train)"
      ],
      "id": "rising-syndrome",
      "execution_count": 411,
      "outputs": [
        {
          "output_type": "execute_result",
          "data": {
            "text/plain": [
              "LinearRegression(copy_X=True, fit_intercept=True, n_jobs=None, normalize=False)"
            ]
          },
          "metadata": {
            "tags": []
          },
          "execution_count": 411
        }
      ]
    },
    {
      "cell_type": "code",
      "metadata": {
        "id": "considered-accent",
        "colab": {
          "base_uri": "https://localhost:8080/"
        },
        "outputId": "eac83cb9-c1f2-4788-a375-70b33572ee2e"
      },
      "source": [
        "print(regressor.intercept_)"
      ],
      "id": "considered-accent",
      "execution_count": 412,
      "outputs": [
        {
          "output_type": "stream",
          "text": [
            "8051.399968329079\n"
          ],
          "name": "stdout"
        }
      ]
    },
    {
      "cell_type": "code",
      "metadata": {
        "id": "forbidden-sierra",
        "colab": {
          "base_uri": "https://localhost:8080/",
          "height": 419
        },
        "outputId": "adbfd3e8-5b98-455a-8f8b-c67057204321"
      },
      "source": [
        "y_pred = regressor.predict(X_test)\n",
        "df = pd.DataFrame({'Actual': y_test, 'Predicted': y_pred})\n",
        "df"
      ],
      "id": "forbidden-sierra",
      "execution_count": 413,
      "outputs": [
        {
          "output_type": "execute_result",
          "data": {
            "text/html": [
              "<div>\n",
              "<style scoped>\n",
              "    .dataframe tbody tr th:only-of-type {\n",
              "        vertical-align: middle;\n",
              "    }\n",
              "\n",
              "    .dataframe tbody tr th {\n",
              "        vertical-align: top;\n",
              "    }\n",
              "\n",
              "    .dataframe thead th {\n",
              "        text-align: right;\n",
              "    }\n",
              "</style>\n",
              "<table border=\"1\" class=\"dataframe\">\n",
              "  <thead>\n",
              "    <tr style=\"text-align: right;\">\n",
              "      <th></th>\n",
              "      <th>Actual</th>\n",
              "      <th>Predicted</th>\n",
              "    </tr>\n",
              "  </thead>\n",
              "  <tbody>\n",
              "    <tr>\n",
              "      <th>0</th>\n",
              "      <td>3577.3</td>\n",
              "      <td>15212.450226</td>\n",
              "    </tr>\n",
              "    <tr>\n",
              "      <th>1</th>\n",
              "      <td>119000.0</td>\n",
              "      <td>129202.217025</td>\n",
              "    </tr>\n",
              "    <tr>\n",
              "      <th>2</th>\n",
              "      <td>3410.0</td>\n",
              "      <td>15292.058240</td>\n",
              "    </tr>\n",
              "    <tr>\n",
              "      <th>3</th>\n",
              "      <td>14296.5</td>\n",
              "      <td>13591.750163</td>\n",
              "    </tr>\n",
              "    <tr>\n",
              "      <th>4</th>\n",
              "      <td>32000.0</td>\n",
              "      <td>18793.153300</td>\n",
              "    </tr>\n",
              "    <tr>\n",
              "      <th>...</th>\n",
              "      <td>...</td>\n",
              "      <td>...</td>\n",
              "    </tr>\n",
              "    <tr>\n",
              "      <th>75</th>\n",
              "      <td>19503.9</td>\n",
              "      <td>16332.792194</td>\n",
              "    </tr>\n",
              "    <tr>\n",
              "      <th>76</th>\n",
              "      <td>3200.0</td>\n",
              "      <td>18700.183593</td>\n",
              "    </tr>\n",
              "    <tr>\n",
              "      <th>77</th>\n",
              "      <td>31207.0</td>\n",
              "      <td>17774.777860</td>\n",
              "    </tr>\n",
              "    <tr>\n",
              "      <th>78</th>\n",
              "      <td>42354.9</td>\n",
              "      <td>22217.844498</td>\n",
              "    </tr>\n",
              "    <tr>\n",
              "      <th>79</th>\n",
              "      <td>12200.0</td>\n",
              "      <td>28305.493504</td>\n",
              "    </tr>\n",
              "  </tbody>\n",
              "</table>\n",
              "<p>80 rows × 2 columns</p>\n",
              "</div>"
            ],
            "text/plain": [
              "      Actual      Predicted\n",
              "0     3577.3   15212.450226\n",
              "1   119000.0  129202.217025\n",
              "2     3410.0   15292.058240\n",
              "3    14296.5   13591.750163\n",
              "4    32000.0   18793.153300\n",
              "..       ...            ...\n",
              "75   19503.9   16332.792194\n",
              "76    3200.0   18700.183593\n",
              "77   31207.0   17774.777860\n",
              "78   42354.9   22217.844498\n",
              "79   12200.0   28305.493504\n",
              "\n",
              "[80 rows x 2 columns]"
            ]
          },
          "metadata": {
            "tags": []
          },
          "execution_count": 413
        }
      ]
    },
    {
      "cell_type": "code",
      "metadata": {
        "id": "measured-response",
        "colab": {
          "base_uri": "https://localhost:8080/"
        },
        "outputId": "a1841b62-e4c3-4376-ef13-7d0eba835f3b"
      },
      "source": [
        "from sklearn import metrics\n",
        "print('Mean Absolute Error:', metrics.mean_absolute_error(y_test, y_pred))\n",
        "print('Mean Squared Error:', metrics.mean_squared_error(y_test, y_pred))\n",
        "print('Root Mean Squared Error:', np.sqrt(metrics.mean_squared_error(y_test, y_pred)))\n"
      ],
      "id": "measured-response",
      "execution_count": 414,
      "outputs": [
        {
          "output_type": "stream",
          "text": [
            "Mean Absolute Error: 18676.830253094093\n",
            "Mean Squared Error: 596373921.626923\n",
            "Root Mean Squared Error: 24420.76824399517\n"
          ],
          "name": "stdout"
        }
      ]
    },
    {
      "cell_type": "code",
      "metadata": {
        "id": "genuine-musician",
        "colab": {
          "base_uri": "https://localhost:8080/"
        },
        "outputId": "437ccaf6-ebc3-48bb-b0ca-b5f117d6007d"
      },
      "source": [
        "r2 = regressor.score(X_train, y_train)\n",
        "print('R^2: {0}'.format(r2))"
      ],
      "id": "genuine-musician",
      "execution_count": 415,
      "outputs": [
        {
          "output_type": "stream",
          "text": [
            "R^2: 0.43150016760444276\n"
          ],
          "name": "stdout"
        }
      ]
    },
    {
      "cell_type": "markdown",
      "metadata": {
        "id": "handed-developer"
      },
      "source": [
        "### Model 2 - Logarithm Sales and Assets\n",
        "\n",
        "ln(GHG) = a0 + b10*ln(Sales) + b20*ln(Assets) + e"
      ],
      "id": "handed-developer"
    },
    {
      "cell_type": "code",
      "metadata": {
        "id": "assigned-insert"
      },
      "source": [
        "import matplotlib.pyplot as plt\n",
        "import missingno as msno\n",
        "from datetime import datetime, date\n",
        "from sklearn.feature_selection import RFE\n",
        "from sklearn.model_selection import train_test_split\n",
        "from sklearn.linear_model import LinearRegression\n",
        "from sklearn.metrics import r2_score\n",
        "from sklearn.preprocessing import PolynomialFeatures\n",
        "from sklearn import linear_model\n",
        "from sklearn import metrics\n",
        "\n"
      ],
      "id": "assigned-insert",
      "execution_count": 416,
      "outputs": []
    },
    {
      "cell_type": "code",
      "metadata": {
        "id": "bearing-sentence"
      },
      "source": [
        "model_df = stocks[['Total_Sales', 'Total_Assets', 'GHG Scope 1']].copy()\n",
        "model_df.dropna(inplace = True)\n",
        "\n",
        "x = np.log(model_df[['Total_Sales', 'Total_Assets']])\n",
        "y = np.log(model_df['GHG Scope 1'])\n",
        "X_train, X_test, y_train, y_test = train_test_split(x, y, test_size=0.20, random_state=42)\n",
        "clf = LinearRegression().fit(X_train, y_train)\n",
        "\n",
        "y_pred = np.exp(clf.predict(X_test))\n",
        "y_test = np.exp(y_test)\n"
      ],
      "id": "bearing-sentence",
      "execution_count": 417,
      "outputs": []
    },
    {
      "cell_type": "code",
      "metadata": {
        "id": "minimal-sphere",
        "colab": {
          "base_uri": "https://localhost:8080/"
        },
        "outputId": "9029760d-6f16-4036-b9c0-6bf268e82335"
      },
      "source": [
        "#The coefficients\n",
        "print('Coefficients: \\n', clf.coef_)\n",
        "#Mean Squared Error\n",
        "print('Mean squared error: %.2f' % metrics.mean_squared_error(y_test,y_pred))\n",
        "print(f'Root Mean Squared Error: {np.sqrt(metrics.mean_squared_error(y_test,y_pred))}')\n",
        "# The coefficient of determination: 1 is perfect prediction\n",
        "print('Coefficient of determination: %.2f'\n",
        "      % metrics.r2_score(y_test, y_pred))"
      ],
      "id": "minimal-sphere",
      "execution_count": 418,
      "outputs": [
        {
          "output_type": "stream",
          "text": [
            "Coefficients: \n",
            " [0.10981093 0.73993793]\n",
            "Mean squared error: 796139917.35\n",
            "Root Mean Squared Error: 28215.951469835436\n",
            "Coefficient of determination: 0.40\n"
          ],
          "name": "stdout"
        }
      ]
    },
    {
      "cell_type": "markdown",
      "metadata": {
        "id": "taken-gothic"
      },
      "source": [
        "### Model 3 -  GHG for Energy vs Utilities\n",
        "\n",
        "GHG = a + b1*Sales + b2*Assets + b3*Util + b5*TimeTrend + e\n",
        "\n",
        "#### Linear Regression - Validation set approach"
      ],
      "id": "taken-gothic"
    },
    {
      "cell_type": "code",
      "metadata": {
        "id": "roman-ladder",
        "colab": {
          "base_uri": "https://localhost:8080/"
        },
        "outputId": "c21eb32b-6093-4762-9a96-6f4ac84bc0a0"
      },
      "source": [
        "stock = stocks.copy()\n",
        "stock.dropna(inplace=True, subset = ['Total_Assets','Total_Sales','GHG Scope 1'])\n",
        "\n",
        "X = stock[['Total_Sales','Total_Assets','Utility','time_trend']]\n",
        "y = stock['GHG Scope 1']\n",
        "print(X.shape)\n",
        "print(y.shape)"
      ],
      "id": "roman-ladder",
      "execution_count": 419,
      "outputs": [
        {
          "output_type": "stream",
          "text": [
            "(398, 4)\n",
            "(398,)\n"
          ],
          "name": "stdout"
        }
      ]
    },
    {
      "cell_type": "code",
      "metadata": {
        "id": "graduate-packet"
      },
      "source": [
        "model = LinearRegression(fit_intercept=True) #Initialize model\n",
        "Xtrain, Xtest, ytrain, ytest = train_test_split(X, y, test_size=0.2, random_state=42) #Train and Test split\n",
        "model.fit(Xtrain,ytrain) #Fit the model\n",
        "y_model = model.predict(Xtest) #Make predictions"
      ],
      "id": "graduate-packet",
      "execution_count": 420,
      "outputs": []
    },
    {
      "cell_type": "code",
      "metadata": {
        "id": "variable-count",
        "colab": {
          "base_uri": "https://localhost:8080/"
        },
        "outputId": "cd70b134-1482-4e1f-e0d4-aa6240bd42ae"
      },
      "source": [
        "#The coefficients\n",
        "print('Coefficients: \\n', model.coef_)\n",
        "#Mean Squared Error\n",
        "print('Mean squared error: %.2f' % metrics.mean_squared_error(ytest,y_model))\n",
        "print(f'Root Mean Squared Error: {np.sqrt(metrics.mean_squared_error(ytest,y_model))}')\n",
        "# The coefficient of determination: 1 is perfect prediction\n",
        "print('Coefficient of determination: %.2f'\n",
        "      % metrics.r2_score(ytest, y_model))"
      ],
      "id": "variable-count",
      "execution_count": 421,
      "outputs": [
        {
          "output_type": "stream",
          "text": [
            "Coefficients: \n",
            " [ 1.27217988e-01  2.83677679e-01  2.23421275e+04 -5.58358640e+02]\n",
            "Mean squared error: 442891100.67\n",
            "Root Mean Squared Error: 21044.97803919079\n",
            "Coefficient of determination: 0.66\n"
          ],
          "name": "stdout"
        }
      ]
    },
    {
      "cell_type": "code",
      "metadata": {
        "id": "theoretical-alexander",
        "colab": {
          "base_uri": "https://localhost:8080/",
          "height": 204
        },
        "outputId": "18a52180-ae59-44ba-da31-4dc35bbdcda2"
      },
      "source": [
        "#Create data frame with observed and predicted\n",
        "linear_reg = pd.DataFrame({'Observed':ytest,'Prediction':y_model})\n",
        "linear_reg.head()"
      ],
      "id": "theoretical-alexander",
      "execution_count": 422,
      "outputs": [
        {
          "output_type": "execute_result",
          "data": {
            "text/html": [
              "<div>\n",
              "<style scoped>\n",
              "    .dataframe tbody tr th:only-of-type {\n",
              "        vertical-align: middle;\n",
              "    }\n",
              "\n",
              "    .dataframe tbody tr th {\n",
              "        vertical-align: top;\n",
              "    }\n",
              "\n",
              "    .dataframe thead th {\n",
              "        text-align: right;\n",
              "    }\n",
              "</style>\n",
              "<table border=\"1\" class=\"dataframe\">\n",
              "  <thead>\n",
              "    <tr style=\"text-align: right;\">\n",
              "      <th></th>\n",
              "      <th>Observed</th>\n",
              "      <th>Prediction</th>\n",
              "    </tr>\n",
              "  </thead>\n",
              "  <tbody>\n",
              "    <tr>\n",
              "      <th>418</th>\n",
              "      <td>3577.3</td>\n",
              "      <td>-905.917272</td>\n",
              "    </tr>\n",
              "    <tr>\n",
              "      <th>778</th>\n",
              "      <td>119000.0</td>\n",
              "      <td>125953.752659</td>\n",
              "    </tr>\n",
              "    <tr>\n",
              "      <th>58</th>\n",
              "      <td>3410.0</td>\n",
              "      <td>-735.413566</td>\n",
              "    </tr>\n",
              "    <tr>\n",
              "      <th>464</th>\n",
              "      <td>14296.5</td>\n",
              "      <td>19195.057407</td>\n",
              "    </tr>\n",
              "    <tr>\n",
              "      <th>206</th>\n",
              "      <td>32000.0</td>\n",
              "      <td>26110.108190</td>\n",
              "    </tr>\n",
              "  </tbody>\n",
              "</table>\n",
              "</div>"
            ],
            "text/plain": [
              "     Observed     Prediction\n",
              "418    3577.3    -905.917272\n",
              "778  119000.0  125953.752659\n",
              "58     3410.0    -735.413566\n",
              "464   14296.5   19195.057407\n",
              "206   32000.0   26110.108190"
            ]
          },
          "metadata": {
            "tags": []
          },
          "execution_count": 422
        }
      ]
    },
    {
      "cell_type": "markdown",
      "metadata": {
        "id": "copyrighted-surfing"
      },
      "source": [
        "#### Linear regression with k-fold cross validation"
      ],
      "id": "copyrighted-surfing"
    },
    {
      "cell_type": "code",
      "metadata": {
        "id": "legislative-rabbit"
      },
      "source": [
        "X = X.values\n",
        "y = y.values\n",
        "\n",
        "def kfold_cross_validation(n_splits, X, y, model_type):\n",
        "    data_y, data_yhat,coef = [], [],[]\n",
        "    kfold = KFold(n_splits=n_splits, random_state = 42, shuffle=True)\n",
        "    for train_ix, test_ix in kfold.split(X):\n",
        "        # get data\n",
        "        train_X, test_X = X[train_ix], X[test_ix]\n",
        "        train_y, test_y = y[train_ix], y[test_ix]\n",
        "        # fit model\n",
        "        model = model_type\n",
        "        model.fit(train_X, train_y)\n",
        "        # make predictions\n",
        "        yhat = model.predict(test_X)\n",
        "        coef.append(model.coef_)\n",
        "        # store\n",
        "        data_y.extend(test_y)\n",
        "        data_yhat.extend(yhat)\n",
        "\n",
        "    # Evaluate the model\n",
        "    print('Mean squared error: %.2f' % metrics.mean_squared_error(data_y, data_yhat))\n",
        "    print(f'Root Mean Squared Error: {np.sqrt(metrics.mean_squared_error(data_y, data_yhat))}')\n",
        "    print('Coefficient of determination: %.2f'% metrics.r2_score(data_y, data_yhat))"
      ],
      "id": "legislative-rabbit",
      "execution_count": 423,
      "outputs": []
    },
    {
      "cell_type": "code",
      "metadata": {
        "id": "sharing-permit",
        "colab": {
          "base_uri": "https://localhost:8080/"
        },
        "outputId": "e6561f33-d331-4709-9c94-2eec5a34e085"
      },
      "source": [
        "model1 = LinearRegression()\n",
        "kfold_cross_validation(10,X,y,model1)"
      ],
      "id": "sharing-permit",
      "execution_count": 424,
      "outputs": [
        {
          "output_type": "stream",
          "text": [
            "Mean squared error: 462201730.55\n",
            "Root Mean Squared Error: 21498.877425240873\n",
            "Coefficient of determination: 0.56\n"
          ],
          "name": "stdout"
        }
      ]
    },
    {
      "cell_type": "code",
      "metadata": {
        "id": "talented-group",
        "colab": {
          "base_uri": "https://localhost:8080/"
        },
        "outputId": "edec5aec-ca18-4914-ab04-c0cde593bf22"
      },
      "source": [
        "kfold_cross_validation(5,X,y,model1)"
      ],
      "id": "talented-group",
      "execution_count": 425,
      "outputs": [
        {
          "output_type": "stream",
          "text": [
            "Mean squared error: 458669164.20\n",
            "Root Mean Squared Error: 21416.562847569556\n",
            "Coefficient of determination: 0.57\n"
          ],
          "name": "stdout"
        }
      ]
    },
    {
      "cell_type": "markdown",
      "metadata": {
        "id": "original-research"
      },
      "source": [
        "#### Ridge Regression - Validation set approach"
      ],
      "id": "original-research"
    },
    {
      "cell_type": "code",
      "metadata": {
        "id": "continuous-owner",
        "colab": {
          "base_uri": "https://localhost:8080/",
          "height": 0
        },
        "outputId": "ded6e379-427b-4869-e5b9-4026bd1d1f06"
      },
      "source": [
        "n_alphas = 100\n",
        "alphas = np.logspace(-10, -2, n_alphas)\n",
        "\n",
        "coefs = []\n",
        "for a in alphas:\n",
        "    ridge = Ridge(alpha=a, fit_intercept=False, normalize=True)\n",
        "    Xtrain, Xtest, ytrain, ytest = train_test_split(X, y, test_size=0.2, random_state=42)\n",
        "    ridge.fit(Xtrain, ytrain)\n",
        "    coefs.append(ridge.coef_)\n",
        "\n",
        "ax = plt.gca()\n",
        "ax.plot(alphas, coefs)\n",
        "ax.plot(alphas, coefs)\n",
        "ax.set_xscale('log')\n",
        "ax.set_xlim(ax.get_xlim()[::-1])  # reverse axis\n",
        "plt.xlabel('alpha')\n",
        "plt.ylabel('weights')\n",
        "plt.title('Ridge coefficients as a function of the regularization')\n",
        "plt.axis('tight')\n",
        "plt.show()"
      ],
      "id": "continuous-owner",
      "execution_count": 426,
      "outputs": [
        {
          "output_type": "display_data",
          "data": {
            "image/png": "[encoded data removed]",
            "text/plain": [
              "<Figure size 432x288 with 1 Axes>"
            ]
          },
          "metadata": {
            "tags": [],
            "needs_background": "light"
          }
        }
      ]
    },
    {
      "cell_type": "markdown",
      "metadata": {
        "id": "representative-violence"
      },
      "source": [
        "Do we need to standarized the data? One feature is staying high.. would it look better if we normalize it? Would the logarithm work better because it distributes the data better?"
      ],
      "id": "representative-violence"
    },
    {
      "cell_type": "code",
      "metadata": {
        "id": "radical-chosen",
        "colab": {
          "base_uri": "https://localhost:8080/"
        },
        "outputId": "ace68c88-48bc-40f5-8bfd-e151e6f8da3b"
      },
      "source": [
        "coefs[:5] #First five coefficients\n",
        "#print(f'Last 5 coefficients: {coefs[(len(coefs) - 5):len(coefs)]}')"
      ],
      "id": "radical-chosen",
      "execution_count": 427,
      "outputs": [
        {
          "output_type": "execute_result",
          "data": {
            "text/plain": [
              "[array([ 1.25671073e-01,  2.83924392e-01,  2.21708862e+04, -5.96063139e+02]),\n",
              " array([ 1.25671073e-01,  2.83924392e-01,  2.21708862e+04, -5.96063139e+02]),\n",
              " array([ 1.25671073e-01,  2.83924392e-01,  2.21708862e+04, -5.96063139e+02]),\n",
              " array([ 1.25671073e-01,  2.83924392e-01,  2.21708862e+04, -5.96063139e+02]),\n",
              " array([ 1.25671073e-01,  2.83924392e-01,  2.21708862e+04, -5.96063139e+02])]"
            ]
          },
          "metadata": {
            "tags": []
          },
          "execution_count": 427
        }
      ]
    },
    {
      "cell_type": "code",
      "metadata": {
        "id": "still-halifax",
        "colab": {
          "base_uri": "https://localhost:8080/"
        },
        "outputId": "5b7d1ab1-8877-4e86-8f70-0bda225c7fc7"
      },
      "source": [
        "coefs[(len(coefs) - 5):len(coefs)] #the last 5 coefficients"
      ],
      "id": "still-halifax",
      "execution_count": 428,
      "outputs": [
        {
          "output_type": "execute_result",
          "data": {
            "text/plain": [
              "[array([ 1.25665134e-01,  2.83928669e-01,  2.21695471e+04, -5.95994844e+02]),\n",
              " array([ 1.25663919e-01,  2.83929543e-01,  2.21692732e+04, -5.95980878e+02]),\n",
              " array([ 1.25662457e-01,  2.83930597e-01,  2.21689434e+04, -5.95964057e+02]),\n",
              " array([ 1.25660695e-01,  2.83931866e-01,  2.21685461e+04, -5.95943797e+02]),\n",
              " array([ 1.25658573e-01,  2.83933394e-01,  2.21680676e+04, -5.95919394e+02])]"
            ]
          },
          "metadata": {
            "tags": []
          },
          "execution_count": 428
        }
      ]
    },
    {
      "cell_type": "code",
      "metadata": {
        "id": "stuffed-russian"
      },
      "source": [
        "# Split data into training and test sets\n",
        "X_train, X_test , y_train, y_test = train_test_split(X, y, test_size=0.2, random_state=42)"
      ],
      "id": "stuffed-russian",
      "execution_count": 429,
      "outputs": []
    },
    {
      "cell_type": "markdown",
      "metadata": {
        "id": "fleet-maximum"
      },
      "source": [
        "Instead of arbitrarily choosing alpha, we used cross-validation to choose the tuning parameter alpha. "
      ],
      "id": "fleet-maximum"
    },
    {
      "cell_type": "code",
      "metadata": {
        "id": "changing-creativity",
        "colab": {
          "base_uri": "https://localhost:8080/"
        },
        "outputId": "6ed7bd7d-93be-48c3-9fe8-fe34efb5fa71"
      },
      "source": [
        "ridgecv = RidgeCV(alphas = alphas, scoring = 'neg_mean_squared_error', normalize = True)\n",
        "ridgecv.fit(X_train, y_train)\n"
      ],
      "id": "changing-creativity",
      "execution_count": 430,
      "outputs": [
        {
          "output_type": "execute_result",
          "data": {
            "text/plain": [
              "RidgeCV(alphas=array([1.00000000e-10, 1.20450354e-10, 1.45082878e-10, 1.74752840e-10,\n",
              "       2.10490414e-10, 2.53536449e-10, 3.05385551e-10, 3.67837977e-10,\n",
              "       4.43062146e-10, 5.33669923e-10, 6.42807312e-10, 7.74263683e-10,\n",
              "       9.32603347e-10, 1.12332403e-09, 1.35304777e-09, 1.62975083e-09,\n",
              "       1.96304065e-09, 2.36448941e-09, 2.84803587e-09, 3.43046929e-09,\n",
              "       4.13201240e-09, 4.97702356e-0...\n",
              "       6.13590727e-04, 7.39072203e-04, 8.90215085e-04, 1.07226722e-03,\n",
              "       1.29154967e-03, 1.55567614e-03, 1.87381742e-03, 2.25701972e-03,\n",
              "       2.71858824e-03, 3.27454916e-03, 3.94420606e-03, 4.75081016e-03,\n",
              "       5.72236766e-03, 6.89261210e-03, 8.30217568e-03, 1.00000000e-02]),\n",
              "        cv=None, fit_intercept=True, gcv_mode=None, normalize=True,\n",
              "        scoring='neg_mean_squared_error', store_cv_values=False)"
            ]
          },
          "metadata": {
            "tags": []
          },
          "execution_count": 430
        }
      ]
    },
    {
      "cell_type": "code",
      "metadata": {
        "id": "living-share",
        "colab": {
          "base_uri": "https://localhost:8080/"
        },
        "outputId": "7afc00b5-e970-42e8-b97a-d408367ef272"
      },
      "source": [
        "ridge_1 = Ridge(alpha = ridgecv.alpha_, normalize = True)\n",
        "ridge_1.fit(X_train, y_train)\n",
        "yhat_ridge = ridge_1.predict(X_test)\n",
        "\n",
        "# Evaluate the model\n",
        "print('Mean squared error: %.2f' % metrics.mean_squared_error(y_test, yhat_ridge))\n",
        "print(f'Root Mean Squared Error: {np.sqrt(metrics.mean_squared_error(y_test, yhat_ridge))}')\n",
        "print('Coefficient of determination: %.2f'% metrics.r2_score(y_test, yhat_ridge))"
      ],
      "id": "living-share",
      "execution_count": 431,
      "outputs": [
        {
          "output_type": "stream",
          "text": [
            "Mean squared error: 442044666.55\n",
            "Root Mean Squared Error: 21024.858300368476\n",
            "Coefficient of determination: 0.66\n"
          ],
          "name": "stdout"
        }
      ]
    },
    {
      "cell_type": "markdown",
      "metadata": {
        "id": "still-shepherd"
      },
      "source": [
        "#### Ridge Regression - Cross validation approach"
      ],
      "id": "still-shepherd"
    },
    {
      "cell_type": "code",
      "metadata": {
        "id": "spiritual-independence",
        "colab": {
          "base_uri": "https://localhost:8080/"
        },
        "outputId": "79e1b915-080b-4ce0-c3b2-b62fdbd1cefe"
      },
      "source": [
        "kfold_cross_validation(10,X,y,ridge_1)"
      ],
      "id": "spiritual-independence",
      "execution_count": 432,
      "outputs": [
        {
          "output_type": "stream",
          "text": [
            "Mean squared error: 462009807.83\n",
            "Root Mean Squared Error: 21494.413409662837\n",
            "Coefficient of determination: 0.56\n"
          ],
          "name": "stdout"
        }
      ]
    },
    {
      "cell_type": "code",
      "metadata": {
        "id": "ranging-removal",
        "colab": {
          "base_uri": "https://localhost:8080/"
        },
        "outputId": "13bbd91d-e2ea-4932-8f21-1ac523a4c55b"
      },
      "source": [
        "kfold_cross_validation(5,X,y,ridge_1)"
      ],
      "id": "ranging-removal",
      "execution_count": 433,
      "outputs": [
        {
          "output_type": "stream",
          "text": [
            "Mean squared error: 458487743.03\n",
            "Root Mean Squared Error: 21412.326894264337\n",
            "Coefficient of determination: 0.57\n"
          ],
          "name": "stdout"
        }
      ]
    },
    {
      "cell_type": "code",
      "metadata": {
        "id": "advanced-stockholm",
        "colab": {
          "base_uri": "https://localhost:8080/"
        },
        "outputId": "6b7c695f-40ed-45cd-80b0-0e95535ad395"
      },
      "source": [
        "kfold_cross_validation(2,X,y,ridge_1)"
      ],
      "id": "advanced-stockholm",
      "execution_count": 434,
      "outputs": [
        {
          "output_type": "stream",
          "text": [
            "Mean squared error: 460942033.16\n",
            "Root Mean Squared Error: 21469.56061878212\n",
            "Coefficient of determination: 0.57\n"
          ],
          "name": "stdout"
        }
      ]
    },
    {
      "cell_type": "markdown",
      "metadata": {
        "id": "yellow-alliance"
      },
      "source": [
        "#### Lasso - Validation set approach"
      ],
      "id": "yellow-alliance"
    },
    {
      "cell_type": "code",
      "metadata": {
        "id": "paperback-visit",
        "colab": {
          "base_uri": "https://localhost:8080/",
          "height": 0
        },
        "outputId": "c2ac57da-6483-4707-8909-6849432d2ae2"
      },
      "source": [
        "lasso = Lasso(max_iter = 10000, normalize = True)\n",
        "coefs = []\n",
        "\n",
        "for a in alphas:\n",
        "    lasso.set_params(alpha=a)\n",
        "    lasso.fit(scale(X_train), y_train)\n",
        "    coefs.append(lasso.coef_)\n",
        "    \n",
        "ax = plt.gca()\n",
        "ax.plot(alphas*2, coefs)\n",
        "ax.set_xscale('log')\n",
        "plt.axis('tight')\n",
        "plt.xlabel('alpha')\n",
        "plt.ylabel('weights')"
      ],
      "id": "paperback-visit",
      "execution_count": 435,
      "outputs": [
        {
          "output_type": "execute_result",
          "data": {
            "text/plain": [
              "Text(0, 0.5, 'weights')"
            ]
          },
          "metadata": {
            "tags": []
          },
          "execution_count": 435
        },
        {
          "output_type": "display_data",
          "data": {
            "image/png": "[encoded data removed]",
            "text/plain": [
              "<Figure size 432x288 with 1 Axes>"
            ]
          },
          "metadata": {
            "tags": [],
            "needs_background": "light"
          }
        }
      ]
    },
    {
      "cell_type": "code",
      "metadata": {
        "id": "physical-pastor",
        "colab": {
          "base_uri": "https://localhost:8080/"
        },
        "outputId": "88d771cc-8e0b-431c-ebef-842c3a8cb919"
      },
      "source": [
        "lassocv = LassoCV(alphas = None, cv = 10, max_iter = 100000, normalize = True)\n",
        "lassocv.fit(X_train, y_train)\n",
        "\n",
        "print(f'The optimal alpha is {lassocv.alpha_}')"
      ],
      "id": "physical-pastor",
      "execution_count": 436,
      "outputs": [
        {
          "output_type": "stream",
          "text": [
            "The optimal alpha is 1.1532714502900596\n"
          ],
          "name": "stdout"
        }
      ]
    },
    {
      "cell_type": "code",
      "metadata": {
        "id": "british-sampling",
        "colab": {
          "base_uri": "https://localhost:8080/"
        },
        "outputId": "f1a7854b-e635-4dc6-84e0-a0f7d12774c2"
      },
      "source": [
        "lasso.set_params(alpha=lassocv.alpha_)\n",
        "lasso.fit(X_train, y_train)\n",
        "yhat_lasso = lasso.predict(X_test)\n",
        "\n",
        "# Evaluate the model\n",
        "print('Mean squared error: %.2f' % metrics.mean_squared_error(y_test, yhat_lasso))\n",
        "print(f'Root Mean Squared Error: {np.sqrt(metrics.mean_squared_error(y_test, yhat_lasso))}')\n",
        "print('Coefficient of determination: %.2f'% metrics.r2_score(y_test, yhat_lasso ))"
      ],
      "id": "british-sampling",
      "execution_count": 437,
      "outputs": [
        {
          "output_type": "stream",
          "text": [
            "Mean squared error: 442776564.91\n",
            "Root Mean Squared Error: 21042.256649553226\n",
            "Coefficient of determination: 0.66\n"
          ],
          "name": "stdout"
        }
      ]
    },
    {
      "cell_type": "markdown",
      "metadata": {
        "id": "tough-middle"
      },
      "source": [
        "#### Lasso Regression - Cross validation approach"
      ],
      "id": "tough-middle"
    },
    {
      "cell_type": "code",
      "metadata": {
        "id": "nearby-slave",
        "colab": {
          "base_uri": "https://localhost:8080/"
        },
        "outputId": "a8a92a49-eda6-4462-c899-9d337e2fd1f6"
      },
      "source": [
        "kfold_cross_validation(10, X,y,lasso)"
      ],
      "id": "nearby-slave",
      "execution_count": 438,
      "outputs": [
        {
          "output_type": "stream",
          "text": [
            "Mean squared error: 462209517.45\n",
            "Root Mean Squared Error: 21499.058524807468\n",
            "Coefficient of determination: 0.56\n"
          ],
          "name": "stdout"
        }
      ]
    },
    {
      "cell_type": "code",
      "metadata": {
        "id": "unsigned-english",
        "colab": {
          "base_uri": "https://localhost:8080/"
        },
        "outputId": "b81e8026-1cef-4c4b-df79-2cf911fdad57"
      },
      "source": [
        "kfold_cross_validation(5, X,y,lasso)"
      ],
      "id": "unsigned-english",
      "execution_count": 439,
      "outputs": [
        {
          "output_type": "stream",
          "text": [
            "Mean squared error: 458655027.23\n",
            "Root Mean Squared Error: 21416.23279729868\n",
            "Coefficient of determination: 0.57\n"
          ],
          "name": "stdout"
        }
      ]
    },
    {
      "cell_type": "markdown",
      "metadata": {
        "id": "specific-dress"
      },
      "source": [
        "### Model 4 -  GHG for Energy vs Utilities using natural logarithms\n",
        "\n",
        "\n",
        "ln(GHG) = a + b1*ln(Sales) + b2*ln(Assets) + b3*ln(Util) + b5*ln(TimeTrend) + e"
      ],
      "id": "specific-dress"
    },
    {
      "cell_type": "code",
      "metadata": {
        "id": "quick-director"
      },
      "source": [
        "model4 = stocks[['Logarithm_Total_Sales', 'Logarithm_Total_Assets', 'Utility','time_trend','GHG Scope 1']].copy()\n",
        "model4.dropna(inplace = True)\n",
        "X=model4[['Logarithm_Total_Sales','Logarithm_Total_Assets','Utility','time_trend']]\n",
        "y=np.log(model4['GHG Scope 1'])\n",
        "X_train, X_test, y_train, y_test = train_test_split(X, y, test_size=0.20, random_state=42)\n",
        "clf4 = LinearRegression().fit(X_train, y_train)\n",
        "y_pred = np.exp(clf4.predict(X_test))\n",
        "y_test = np.exp(y_test)\n"
      ],
      "id": "quick-director",
      "execution_count": 440,
      "outputs": []
    },
    {
      "cell_type": "code",
      "metadata": {
        "colab": {
          "base_uri": "https://localhost:8080/"
        },
        "id": "5ieSi46TvnxZ",
        "outputId": "0c258500-aed2-401f-ff2f-9a2f983deb34"
      },
      "source": [
        "#The coefficients\n",
        "print('Coefficients: \\n', clf4.coef_)\n",
        "#Mean Squared Error\n",
        "print('Mean squared error: %.2f' % metrics.mean_squared_error(y_test,y_pred))\n",
        "print(f'Root Mean Squared Error: {np.sqrt(metrics.mean_squared_error(y_test,y_pred))}')\n",
        "# The coefficient of determination: 1 is perfect prediction\n",
        "print('Coefficient of determination: %.2f'\n",
        "      % metrics.r2_score(y_test, y_pred))"
      ],
      "id": "5ieSi46TvnxZ",
      "execution_count": 441,
      "outputs": [
        {
          "output_type": "stream",
          "text": [
            "Coefficients: \n",
            " [ 0.71130833  0.28437637  1.408172   -0.0221714 ]\n",
            "Mean squared error: 636276252.04\n",
            "Root Mean Squared Error: 25224.516884235072\n",
            "Coefficient of determination: 0.52\n"
          ],
          "name": "stdout"
        }
      ]
    },
    {
      "cell_type": "code",
      "metadata": {
        "id": "irish-steal",
        "colab": {
          "base_uri": "https://localhost:8080/",
          "height": 204
        },
        "outputId": "45e11024-b887-47b8-b097-102803673cf8"
      },
      "source": [
        "#Create data frame with observed and predicted\n",
        "linear_reg4 = pd.DataFrame({'Observed':ytest,'Prediction':y_model})\n",
        "linear_reg4.head()"
      ],
      "id": "irish-steal",
      "execution_count": 442,
      "outputs": [
        {
          "output_type": "execute_result",
          "data": {
            "text/html": [
              "<div>\n",
              "<style scoped>\n",
              "    .dataframe tbody tr th:only-of-type {\n",
              "        vertical-align: middle;\n",
              "    }\n",
              "\n",
              "    .dataframe tbody tr th {\n",
              "        vertical-align: top;\n",
              "    }\n",
              "\n",
              "    .dataframe thead th {\n",
              "        text-align: right;\n",
              "    }\n",
              "</style>\n",
              "<table border=\"1\" class=\"dataframe\">\n",
              "  <thead>\n",
              "    <tr style=\"text-align: right;\">\n",
              "      <th></th>\n",
              "      <th>Observed</th>\n",
              "      <th>Prediction</th>\n",
              "    </tr>\n",
              "  </thead>\n",
              "  <tbody>\n",
              "    <tr>\n",
              "      <th>0</th>\n",
              "      <td>3577.3</td>\n",
              "      <td>-905.917272</td>\n",
              "    </tr>\n",
              "    <tr>\n",
              "      <th>1</th>\n",
              "      <td>119000.0</td>\n",
              "      <td>125953.752659</td>\n",
              "    </tr>\n",
              "    <tr>\n",
              "      <th>2</th>\n",
              "      <td>3410.0</td>\n",
              "      <td>-735.413566</td>\n",
              "    </tr>\n",
              "    <tr>\n",
              "      <th>3</th>\n",
              "      <td>14296.5</td>\n",
              "      <td>19195.057407</td>\n",
              "    </tr>\n",
              "    <tr>\n",
              "      <th>4</th>\n",
              "      <td>32000.0</td>\n",
              "      <td>26110.108190</td>\n",
              "    </tr>\n",
              "  </tbody>\n",
              "</table>\n",
              "</div>"
            ],
            "text/plain": [
              "   Observed     Prediction\n",
              "0    3577.3    -905.917272\n",
              "1  119000.0  125953.752659\n",
              "2    3410.0    -735.413566\n",
              "3   14296.5   19195.057407\n",
              "4   32000.0   26110.108190"
            ]
          },
          "metadata": {
            "tags": []
          },
          "execution_count": 442
        }
      ]
    },
    {
      "cell_type": "markdown",
      "metadata": {
        "id": "emotional-assault"
      },
      "source": [
        "### Model performance\n",
        "\n",
        "\n",
        "All four predictive models had a big RSME when predicting the GHG Scope. Model 3 - had the lower RSME and the best R2 with 0.66.\n",
        "\n"
      ],
      "id": "emotional-assault"
    },
    {
      "cell_type": "markdown",
      "metadata": {
        "id": "dependent-monaco"
      },
      "source": [
        ""
      ],
      "id": "dependent-monaco"
    }
  ]
}