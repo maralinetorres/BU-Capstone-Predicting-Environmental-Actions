{
 "cells": [
  {
   "cell_type": "markdown",
   "id": "referenced-gabriel",
   "metadata": {},
   "source": [
    "# Sprint 4 - Model evaluation for Missing GHG values\n",
    "\n",
    "In this notebook, we present the four predictive models we worked on. The goal of these models is to populate missing GHG values in our dataset. "
   ]
  },
  {
   "cell_type": "markdown",
   "id": "metric-country",
   "metadata": {},
   "source": [
    "## Feauture Engineering\n",
    "\n",
    "Before coding the models, we will create two new variables in our dataset. \n",
    "\n",
    "1. Missing_GHG - Boolean indicating if the stock had a missing value in that year (1 = True / 0 = False)\n",
    "2. Utilities - Boolean indicating if it is a Utility company (1 = True / 0 = False)\n",
    "3. Time Trend - Cumulative value (0,1,2,3) for each year the stock is in the dataset.\n",
    "\n",
    "The second variable will be used in the Model #3 and #4"
   ]
  },
  {
   "cell_type": "markdown",
   "id": "abandoned-latitude",
   "metadata": {},
   "source": [
    "#### Missing_GHG"
   ]
  },
  {
   "cell_type": "code",
   "execution_count": 1,
   "id": "individual-myrtle",
   "metadata": {},
   "outputs": [
    {
     "data": {
      "text/html": [
       "<div>\n",
       "<style scoped>\n",
       "    .dataframe tbody tr th:only-of-type {\n",
       "        vertical-align: middle;\n",
       "    }\n",
       "\n",
       "    .dataframe tbody tr th {\n",
       "        vertical-align: top;\n",
       "    }\n",
       "\n",
       "    .dataframe thead th {\n",
       "        text-align: right;\n",
       "    }\n",
       "</style>\n",
       "<table border=\"1\" class=\"dataframe\">\n",
       "  <thead>\n",
       "    <tr style=\"text-align: right;\">\n",
       "      <th></th>\n",
       "      <th>GHG Scope 1</th>\n",
       "      <th>Missing_GHG</th>\n",
       "    </tr>\n",
       "  </thead>\n",
       "  <tbody>\n",
       "    <tr>\n",
       "      <th>0</th>\n",
       "      <td>NaN</td>\n",
       "      <td>1</td>\n",
       "    </tr>\n",
       "    <tr>\n",
       "      <th>1</th>\n",
       "      <td>NaN</td>\n",
       "      <td>1</td>\n",
       "    </tr>\n",
       "    <tr>\n",
       "      <th>2</th>\n",
       "      <td>NaN</td>\n",
       "      <td>1</td>\n",
       "    </tr>\n",
       "    <tr>\n",
       "      <th>3</th>\n",
       "      <td>NaN</td>\n",
       "      <td>1</td>\n",
       "    </tr>\n",
       "    <tr>\n",
       "      <th>4</th>\n",
       "      <td>NaN</td>\n",
       "      <td>1</td>\n",
       "    </tr>\n",
       "  </tbody>\n",
       "</table>\n",
       "</div>"
      ],
      "text/plain": [
       "   GHG Scope 1  Missing_GHG\n",
       "0          NaN            1\n",
       "1          NaN            1\n",
       "2          NaN            1\n",
       "3          NaN            1\n",
       "4          NaN            1"
      ]
     },
     "execution_count": 1,
     "metadata": {},
     "output_type": "execute_result"
    }
   ],
   "source": [
    "import pandas as pd\n",
    "import numpy as np\n",
    "import seaborn as sns\n",
    "import matplotlib.pyplot as plt\n",
    "from sklearn.linear_model import LinearRegression, Ridge, RidgeCV, Lasso, LassoCV\n",
    "from sklearn.tree import DecisionTreeClassifier\n",
    "from sklearn.model_selection import train_test_split, cross_val_score, KFold, cross_val_predict\n",
    "from sklearn import metrics\n",
    "from sklearn.preprocessing import scale \n",
    "\n",
    "stocks = pd.read_csv('/Users/maralinetorres/Documents/GitHub/Predicting-Environmental-and-Social-Actions/Datasets/company_data.csv')\n",
    "sectors = pd.read_csv('/Users/maralinetorres/Documents/GitHub/Predicting-Environmental-and-Social-Actions/Datasets//52_tickers_sectors.csv')\n",
    "\n",
    "stocks['Missing_GHG'] = np.where(stocks['GHG Scope 1'].isna(), 1, 0)\n",
    "stocks.loc[stocks['GHG Scope 1'].isna(),['GHG Scope 1','Missing_GHG']].head()"
   ]
  },
  {
   "cell_type": "markdown",
   "id": "present-nurse",
   "metadata": {},
   "source": [
    "#### Utilities"
   ]
  },
  {
   "cell_type": "code",
   "execution_count": 2,
   "id": "posted-blair",
   "metadata": {},
   "outputs": [
    {
     "data": {
      "text/html": [
       "<div>\n",
       "<style scoped>\n",
       "    .dataframe tbody tr th:only-of-type {\n",
       "        vertical-align: middle;\n",
       "    }\n",
       "\n",
       "    .dataframe tbody tr th {\n",
       "        vertical-align: top;\n",
       "    }\n",
       "\n",
       "    .dataframe thead th {\n",
       "        text-align: right;\n",
       "    }\n",
       "</style>\n",
       "<table border=\"1\" class=\"dataframe\">\n",
       "  <thead>\n",
       "    <tr style=\"text-align: right;\">\n",
       "      <th></th>\n",
       "      <th>Year</th>\n",
       "      <th>Ticker</th>\n",
       "      <th>Environmental Disclosure Score</th>\n",
       "      <th>GHG Scope 1</th>\n",
       "      <th>Total Energy Consumption</th>\n",
       "      <th>Change_in_EDS</th>\n",
       "      <th>Change_in_GHG</th>\n",
       "      <th>Change_in_TEC</th>\n",
       "      <th>Ratio of GHG Emissions to Total Assets</th>\n",
       "      <th>Ratio of GHG Emissions to Total Sales</th>\n",
       "      <th>...</th>\n",
       "      <th>Change_in_NI</th>\n",
       "      <th>ROA</th>\n",
       "      <th>Profit_Margin</th>\n",
       "      <th>Annual Return</th>\n",
       "      <th>Logarithm_Total_Assets</th>\n",
       "      <th>Logarithm_Total_Sales</th>\n",
       "      <th>Profitable</th>\n",
       "      <th>Missing_GHG</th>\n",
       "      <th>Sector</th>\n",
       "      <th>Utility</th>\n",
       "    </tr>\n",
       "  </thead>\n",
       "  <tbody>\n",
       "    <tr>\n",
       "      <th>0</th>\n",
       "      <td>2005</td>\n",
       "      <td>AEE</td>\n",
       "      <td>NaN</td>\n",
       "      <td>NaN</td>\n",
       "      <td>NaN</td>\n",
       "      <td>0.000000</td>\n",
       "      <td>0.0</td>\n",
       "      <td>0.0</td>\n",
       "      <td>NaN</td>\n",
       "      <td>NaN</td>\n",
       "      <td>...</td>\n",
       "      <td>0.000000</td>\n",
       "      <td>3.408215</td>\n",
       "      <td>9.129794</td>\n",
       "      <td>NaN</td>\n",
       "      <td>9.807087</td>\n",
       "      <td>8.821732</td>\n",
       "      <td>True</td>\n",
       "      <td>1</td>\n",
       "      <td>Utilities</td>\n",
       "      <td>1</td>\n",
       "    </tr>\n",
       "    <tr>\n",
       "      <th>1</th>\n",
       "      <td>2006</td>\n",
       "      <td>AEE</td>\n",
       "      <td>NaN</td>\n",
       "      <td>NaN</td>\n",
       "      <td>NaN</td>\n",
       "      <td>0.000000</td>\n",
       "      <td>0.0</td>\n",
       "      <td>0.0</td>\n",
       "      <td>NaN</td>\n",
       "      <td>NaN</td>\n",
       "      <td>...</td>\n",
       "      <td>-9.854604</td>\n",
       "      <td>2.850138</td>\n",
       "      <td>8.110465</td>\n",
       "      <td>NaN</td>\n",
       "      <td>9.882162</td>\n",
       "      <td>8.836374</td>\n",
       "      <td>True</td>\n",
       "      <td>1</td>\n",
       "      <td>Utilities</td>\n",
       "      <td>1</td>\n",
       "    </tr>\n",
       "    <tr>\n",
       "      <th>2</th>\n",
       "      <td>2007</td>\n",
       "      <td>AEE</td>\n",
       "      <td>9.7</td>\n",
       "      <td>NaN</td>\n",
       "      <td>NaN</td>\n",
       "      <td>0.000000</td>\n",
       "      <td>0.0</td>\n",
       "      <td>0.0</td>\n",
       "      <td>NaN</td>\n",
       "      <td>NaN</td>\n",
       "      <td>...</td>\n",
       "      <td>12.724014</td>\n",
       "      <td>3.034543</td>\n",
       "      <td>8.335542</td>\n",
       "      <td>NaN</td>\n",
       "      <td>9.939241</td>\n",
       "      <td>8.928773</td>\n",
       "      <td>True</td>\n",
       "      <td>1</td>\n",
       "      <td>Utilities</td>\n",
       "      <td>1</td>\n",
       "    </tr>\n",
       "    <tr>\n",
       "      <th>3</th>\n",
       "      <td>2008</td>\n",
       "      <td>AEE</td>\n",
       "      <td>9.7</td>\n",
       "      <td>NaN</td>\n",
       "      <td>NaN</td>\n",
       "      <td>0.000000</td>\n",
       "      <td>0.0</td>\n",
       "      <td>0.0</td>\n",
       "      <td>NaN</td>\n",
       "      <td>NaN</td>\n",
       "      <td>...</td>\n",
       "      <td>-2.225755</td>\n",
       "      <td>2.714393</td>\n",
       "      <td>7.845388</td>\n",
       "      <td>NaN</td>\n",
       "      <td>10.028224</td>\n",
       "      <td>8.966867</td>\n",
       "      <td>True</td>\n",
       "      <td>1</td>\n",
       "      <td>Utilities</td>\n",
       "      <td>1</td>\n",
       "    </tr>\n",
       "    <tr>\n",
       "      <th>4</th>\n",
       "      <td>2009</td>\n",
       "      <td>AEE</td>\n",
       "      <td>12.4</td>\n",
       "      <td>NaN</td>\n",
       "      <td>NaN</td>\n",
       "      <td>27.835052</td>\n",
       "      <td>0.0</td>\n",
       "      <td>0.0</td>\n",
       "      <td>NaN</td>\n",
       "      <td>NaN</td>\n",
       "      <td>...</td>\n",
       "      <td>-0.487805</td>\n",
       "      <td>2.572509</td>\n",
       "      <td>8.631876</td>\n",
       "      <td>NaN</td>\n",
       "      <td>10.077021</td>\n",
       "      <td>8.866441</td>\n",
       "      <td>True</td>\n",
       "      <td>1</td>\n",
       "      <td>Utilities</td>\n",
       "      <td>1</td>\n",
       "    </tr>\n",
       "  </tbody>\n",
       "</table>\n",
       "<p>5 rows × 30 columns</p>\n",
       "</div>"
      ],
      "text/plain": [
       "   Year Ticker  Environmental Disclosure Score  GHG Scope 1  \\\n",
       "0  2005    AEE                             NaN          NaN   \n",
       "1  2006    AEE                             NaN          NaN   \n",
       "2  2007    AEE                             9.7          NaN   \n",
       "3  2008    AEE                             9.7          NaN   \n",
       "4  2009    AEE                            12.4          NaN   \n",
       "\n",
       "   Total Energy Consumption  Change_in_EDS  Change_in_GHG  Change_in_TEC  \\\n",
       "0                       NaN       0.000000            0.0            0.0   \n",
       "1                       NaN       0.000000            0.0            0.0   \n",
       "2                       NaN       0.000000            0.0            0.0   \n",
       "3                       NaN       0.000000            0.0            0.0   \n",
       "4                       NaN      27.835052            0.0            0.0   \n",
       "\n",
       "   Ratio of GHG Emissions to Total Assets  \\\n",
       "0                                     NaN   \n",
       "1                                     NaN   \n",
       "2                                     NaN   \n",
       "3                                     NaN   \n",
       "4                                     NaN   \n",
       "\n",
       "   Ratio of GHG Emissions to Total Sales  ...  Change_in_NI       ROA  \\\n",
       "0                                    NaN  ...      0.000000  3.408215   \n",
       "1                                    NaN  ...     -9.854604  2.850138   \n",
       "2                                    NaN  ...     12.724014  3.034543   \n",
       "3                                    NaN  ...     -2.225755  2.714393   \n",
       "4                                    NaN  ...     -0.487805  2.572509   \n",
       "\n",
       "  Profit_Margin Annual Return  Logarithm_Total_Assets  Logarithm_Total_Sales  \\\n",
       "0      9.129794           NaN                9.807087               8.821732   \n",
       "1      8.110465           NaN                9.882162               8.836374   \n",
       "2      8.335542           NaN                9.939241               8.928773   \n",
       "3      7.845388           NaN               10.028224               8.966867   \n",
       "4      8.631876           NaN               10.077021               8.866441   \n",
       "\n",
       "   Profitable  Missing_GHG     Sector  Utility  \n",
       "0        True            1  Utilities        1  \n",
       "1        True            1  Utilities        1  \n",
       "2        True            1  Utilities        1  \n",
       "3        True            1  Utilities        1  \n",
       "4        True            1  Utilities        1  \n",
       "\n",
       "[5 rows x 30 columns]"
      ]
     },
     "execution_count": 2,
     "metadata": {},
     "output_type": "execute_result"
    }
   ],
   "source": [
    "df = pd.merge(stocks, sectors, how='inner',on='Ticker')\n",
    "df.drop(columns='Name', inplace=True)\n",
    "stocks = df.copy()\n",
    "stocks['Utility'] = np.where(stocks.Sector == 'Utilities',1,0)\n",
    "stocks.loc[stocks.Sector == 'Utilities',].head()"
   ]
  },
  {
   "cell_type": "markdown",
   "id": "tamil-fault",
   "metadata": {},
   "source": [
    "#### Time trend"
   ]
  },
  {
   "cell_type": "code",
   "execution_count": 3,
   "id": "moved-adapter",
   "metadata": {},
   "outputs": [
    {
     "data": {
      "text/html": [
       "<div>\n",
       "<style scoped>\n",
       "    .dataframe tbody tr th:only-of-type {\n",
       "        vertical-align: middle;\n",
       "    }\n",
       "\n",
       "    .dataframe tbody tr th {\n",
       "        vertical-align: top;\n",
       "    }\n",
       "\n",
       "    .dataframe thead th {\n",
       "        text-align: right;\n",
       "    }\n",
       "</style>\n",
       "<table border=\"1\" class=\"dataframe\">\n",
       "  <thead>\n",
       "    <tr style=\"text-align: right;\">\n",
       "      <th></th>\n",
       "      <th>Year</th>\n",
       "      <th>Ticker</th>\n",
       "      <th>Environmental Disclosure Score</th>\n",
       "      <th>GHG Scope 1</th>\n",
       "      <th>Total Energy Consumption</th>\n",
       "      <th>Change_in_EDS</th>\n",
       "      <th>Change_in_GHG</th>\n",
       "      <th>Change_in_TEC</th>\n",
       "      <th>Ratio of GHG Emissions to Total Assets</th>\n",
       "      <th>Ratio of GHG Emissions to Total Sales</th>\n",
       "      <th>...</th>\n",
       "      <th>ROA</th>\n",
       "      <th>Profit_Margin</th>\n",
       "      <th>Annual Return</th>\n",
       "      <th>Logarithm_Total_Assets</th>\n",
       "      <th>Logarithm_Total_Sales</th>\n",
       "      <th>Profitable</th>\n",
       "      <th>Missing_GHG</th>\n",
       "      <th>Sector</th>\n",
       "      <th>Utility</th>\n",
       "      <th>time_trend</th>\n",
       "    </tr>\n",
       "  </thead>\n",
       "  <tbody>\n",
       "    <tr>\n",
       "      <th>765</th>\n",
       "      <td>2005</td>\n",
       "      <td>XOM</td>\n",
       "      <td>NaN</td>\n",
       "      <td>NaN</td>\n",
       "      <td>NaN</td>\n",
       "      <td>0.000000</td>\n",
       "      <td>0.000000</td>\n",
       "      <td>0.000000</td>\n",
       "      <td>NaN</td>\n",
       "      <td>NaN</td>\n",
       "      <td>...</td>\n",
       "      <td>17.342261</td>\n",
       "      <td>11.008095</td>\n",
       "      <td>NaN</td>\n",
       "      <td>12.246903</td>\n",
       "      <td>12.701418</td>\n",
       "      <td>True</td>\n",
       "      <td>1</td>\n",
       "      <td>Energy</td>\n",
       "      <td>0</td>\n",
       "      <td>0</td>\n",
       "    </tr>\n",
       "    <tr>\n",
       "      <th>766</th>\n",
       "      <td>2006</td>\n",
       "      <td>XOM</td>\n",
       "      <td>43.8</td>\n",
       "      <td>145500.0</td>\n",
       "      <td>433650.0</td>\n",
       "      <td>0.000000</td>\n",
       "      <td>0.000000</td>\n",
       "      <td>0.000000</td>\n",
       "      <td>664.338059</td>\n",
       "      <td>434.216888</td>\n",
       "      <td>...</td>\n",
       "      <td>18.035294</td>\n",
       "      <td>11.788019</td>\n",
       "      <td>NaN</td>\n",
       "      <td>12.296895</td>\n",
       "      <td>12.722142</td>\n",
       "      <td>True</td>\n",
       "      <td>0</td>\n",
       "      <td>Energy</td>\n",
       "      <td>0</td>\n",
       "      <td>1</td>\n",
       "    </tr>\n",
       "    <tr>\n",
       "      <th>767</th>\n",
       "      <td>2007</td>\n",
       "      <td>XOM</td>\n",
       "      <td>46.3</td>\n",
       "      <td>141000.0</td>\n",
       "      <td>430556.0</td>\n",
       "      <td>5.707763</td>\n",
       "      <td>-3.092784</td>\n",
       "      <td>-0.713479</td>\n",
       "      <td>582.447270</td>\n",
       "      <td>393.195761</td>\n",
       "      <td>...</td>\n",
       "      <td>16.775308</td>\n",
       "      <td>11.324596</td>\n",
       "      <td>NaN</td>\n",
       "      <td>12.397032</td>\n",
       "      <td>12.789963</td>\n",
       "      <td>True</td>\n",
       "      <td>0</td>\n",
       "      <td>Energy</td>\n",
       "      <td>0</td>\n",
       "      <td>2</td>\n",
       "    </tr>\n",
       "    <tr>\n",
       "      <th>768</th>\n",
       "      <td>2008</td>\n",
       "      <td>XOM</td>\n",
       "      <td>46.3</td>\n",
       "      <td>126000.0</td>\n",
       "      <td>416667.0</td>\n",
       "      <td>0.000000</td>\n",
       "      <td>-10.638298</td>\n",
       "      <td>-3.225829</td>\n",
       "      <td>552.505569</td>\n",
       "      <td>296.421068</td>\n",
       "      <td>...</td>\n",
       "      <td>19.828811</td>\n",
       "      <td>10.638223</td>\n",
       "      <td>NaN</td>\n",
       "      <td>12.337329</td>\n",
       "      <td>12.960011</td>\n",
       "      <td>True</td>\n",
       "      <td>0</td>\n",
       "      <td>Energy</td>\n",
       "      <td>0</td>\n",
       "      <td>3</td>\n",
       "    </tr>\n",
       "    <tr>\n",
       "      <th>769</th>\n",
       "      <td>2009</td>\n",
       "      <td>XOM</td>\n",
       "      <td>52.9</td>\n",
       "      <td>128000.0</td>\n",
       "      <td>405639.0</td>\n",
       "      <td>14.254860</td>\n",
       "      <td>1.587302</td>\n",
       "      <td>-2.646718</td>\n",
       "      <td>548.595724</td>\n",
       "      <td>464.501894</td>\n",
       "      <td>...</td>\n",
       "      <td>8.263223</td>\n",
       "      <td>6.996560</td>\n",
       "      <td>NaN</td>\n",
       "      <td>12.360179</td>\n",
       "      <td>12.526575</td>\n",
       "      <td>True</td>\n",
       "      <td>0</td>\n",
       "      <td>Energy</td>\n",
       "      <td>0</td>\n",
       "      <td>4</td>\n",
       "    </tr>\n",
       "    <tr>\n",
       "      <th>770</th>\n",
       "      <td>2010</td>\n",
       "      <td>XOM</td>\n",
       "      <td>54.6</td>\n",
       "      <td>132000.0</td>\n",
       "      <td>408333.0</td>\n",
       "      <td>3.213611</td>\n",
       "      <td>3.125000</td>\n",
       "      <td>0.664137</td>\n",
       "      <td>436.349212</td>\n",
       "      <td>386.441750</td>\n",
       "      <td>...</td>\n",
       "      <td>10.069089</td>\n",
       "      <td>8.917436</td>\n",
       "      <td>NaN</td>\n",
       "      <td>12.619870</td>\n",
       "      <td>12.741331</td>\n",
       "      <td>True</td>\n",
       "      <td>0</td>\n",
       "      <td>Energy</td>\n",
       "      <td>0</td>\n",
       "      <td>5</td>\n",
       "    </tr>\n",
       "    <tr>\n",
       "      <th>771</th>\n",
       "      <td>2011</td>\n",
       "      <td>XOM</td>\n",
       "      <td>54.6</td>\n",
       "      <td>136000.0</td>\n",
       "      <td>430556.0</td>\n",
       "      <td>0.000000</td>\n",
       "      <td>3.030303</td>\n",
       "      <td>5.442372</td>\n",
       "      <td>410.811595</td>\n",
       "      <td>313.706675</td>\n",
       "      <td>...</td>\n",
       "      <td>12.402885</td>\n",
       "      <td>9.471174</td>\n",
       "      <td>NaN</td>\n",
       "      <td>12.710031</td>\n",
       "      <td>12.979707</td>\n",
       "      <td>True</td>\n",
       "      <td>0</td>\n",
       "      <td>Energy</td>\n",
       "      <td>0</td>\n",
       "      <td>6</td>\n",
       "    </tr>\n",
       "    <tr>\n",
       "      <th>772</th>\n",
       "      <td>2012</td>\n",
       "      <td>XOM</td>\n",
       "      <td>55.4</td>\n",
       "      <td>132000.0</td>\n",
       "      <td>416667.0</td>\n",
       "      <td>1.465201</td>\n",
       "      <td>-2.941176</td>\n",
       "      <td>-3.225829</td>\n",
       "      <td>395.452299</td>\n",
       "      <td>313.752335</td>\n",
       "      <td>...</td>\n",
       "      <td>13.445378</td>\n",
       "      <td>10.667579</td>\n",
       "      <td>0.198270</td>\n",
       "      <td>12.718282</td>\n",
       "      <td>12.949709</td>\n",
       "      <td>True</td>\n",
       "      <td>0</td>\n",
       "      <td>Energy</td>\n",
       "      <td>0</td>\n",
       "      <td>7</td>\n",
       "    </tr>\n",
       "    <tr>\n",
       "      <th>773</th>\n",
       "      <td>2013</td>\n",
       "      <td>XOM</td>\n",
       "      <td>55.4</td>\n",
       "      <td>135000.0</td>\n",
       "      <td>416667.0</td>\n",
       "      <td>0.000000</td>\n",
       "      <td>2.272727</td>\n",
       "      <td>0.000000</td>\n",
       "      <td>389.264377</td>\n",
       "      <td>345.934754</td>\n",
       "      <td>...</td>\n",
       "      <td>9.394247</td>\n",
       "      <td>8.348559</td>\n",
       "      <td>0.120157</td>\n",
       "      <td>12.756527</td>\n",
       "      <td>12.874535</td>\n",
       "      <td>True</td>\n",
       "      <td>0</td>\n",
       "      <td>Energy</td>\n",
       "      <td>0</td>\n",
       "      <td>8</td>\n",
       "    </tr>\n",
       "    <tr>\n",
       "      <th>774</th>\n",
       "      <td>2014</td>\n",
       "      <td>XOM</td>\n",
       "      <td>55.4</td>\n",
       "      <td>121000.0</td>\n",
       "      <td>444444.0</td>\n",
       "      <td>0.000000</td>\n",
       "      <td>-10.370370</td>\n",
       "      <td>6.666475</td>\n",
       "      <td>346.215804</td>\n",
       "      <td>331.722242</td>\n",
       "      <td>...</td>\n",
       "      <td>9.304907</td>\n",
       "      <td>8.915378</td>\n",
       "      <td>0.352835</td>\n",
       "      <td>12.764239</td>\n",
       "      <td>12.807003</td>\n",
       "      <td>True</td>\n",
       "      <td>0</td>\n",
       "      <td>Energy</td>\n",
       "      <td>0</td>\n",
       "      <td>9</td>\n",
       "    </tr>\n",
       "    <tr>\n",
       "      <th>775</th>\n",
       "      <td>2015</td>\n",
       "      <td>XOM</td>\n",
       "      <td>55.4</td>\n",
       "      <td>118000.0</td>\n",
       "      <td>472222.0</td>\n",
       "      <td>0.000000</td>\n",
       "      <td>-2.479339</td>\n",
       "      <td>6.250056</td>\n",
       "      <td>350.399990</td>\n",
       "      <td>498.289768</td>\n",
       "      <td>...</td>\n",
       "      <td>4.795729</td>\n",
       "      <td>6.819813</td>\n",
       "      <td>0.025943</td>\n",
       "      <td>12.727120</td>\n",
       "      <td>12.375013</td>\n",
       "      <td>True</td>\n",
       "      <td>0</td>\n",
       "      <td>Energy</td>\n",
       "      <td>0</td>\n",
       "      <td>10</td>\n",
       "    </tr>\n",
       "    <tr>\n",
       "      <th>776</th>\n",
       "      <td>2016</td>\n",
       "      <td>XOM</td>\n",
       "      <td>53.7</td>\n",
       "      <td>120000.0</td>\n",
       "      <td>416667.0</td>\n",
       "      <td>-3.068592</td>\n",
       "      <td>1.694915</td>\n",
       "      <td>-11.764594</td>\n",
       "      <td>363.290687</td>\n",
       "      <td>607.539566</td>\n",
       "      <td>...</td>\n",
       "      <td>2.373499</td>\n",
       "      <td>3.969258</td>\n",
       "      <td>0.105391</td>\n",
       "      <td>12.707799</td>\n",
       "      <td>12.193585</td>\n",
       "      <td>True</td>\n",
       "      <td>0</td>\n",
       "      <td>Energy</td>\n",
       "      <td>0</td>\n",
       "      <td>11</td>\n",
       "    </tr>\n",
       "    <tr>\n",
       "      <th>777</th>\n",
       "      <td>2017</td>\n",
       "      <td>XOM</td>\n",
       "      <td>53.7</td>\n",
       "      <td>117000.0</td>\n",
       "      <td>416667.0</td>\n",
       "      <td>0.000000</td>\n",
       "      <td>-2.500000</td>\n",
       "      <td>0.000000</td>\n",
       "      <td>335.540636</td>\n",
       "      <td>493.333671</td>\n",
       "      <td>...</td>\n",
       "      <td>5.652569</td>\n",
       "      <td>8.310775</td>\n",
       "      <td>0.125855</td>\n",
       "      <td>12.761941</td>\n",
       "      <td>12.376499</td>\n",
       "      <td>True</td>\n",
       "      <td>0</td>\n",
       "      <td>Energy</td>\n",
       "      <td>0</td>\n",
       "      <td>12</td>\n",
       "    </tr>\n",
       "    <tr>\n",
       "      <th>778</th>\n",
       "      <td>2018</td>\n",
       "      <td>XOM</td>\n",
       "      <td>53.7</td>\n",
       "      <td>119000.0</td>\n",
       "      <td>416667.0</td>\n",
       "      <td>0.000000</td>\n",
       "      <td>1.709402</td>\n",
       "      <td>0.000000</td>\n",
       "      <td>343.735918</td>\n",
       "      <td>426.016353</td>\n",
       "      <td>...</td>\n",
       "      <td>6.019711</td>\n",
       "      <td>7.460656</td>\n",
       "      <td>0.175170</td>\n",
       "      <td>12.754760</td>\n",
       "      <td>12.540156</td>\n",
       "      <td>True</td>\n",
       "      <td>0</td>\n",
       "      <td>Energy</td>\n",
       "      <td>0</td>\n",
       "      <td>13</td>\n",
       "    </tr>\n",
       "    <tr>\n",
       "      <th>779</th>\n",
       "      <td>2019</td>\n",
       "      <td>XOM</td>\n",
       "      <td>56.2</td>\n",
       "      <td>114000.0</td>\n",
       "      <td>416667.0</td>\n",
       "      <td>4.655493</td>\n",
       "      <td>-4.201681</td>\n",
       "      <td>0.000000</td>\n",
       "      <td>314.398630</td>\n",
       "      <td>446.039056</td>\n",
       "      <td>...</td>\n",
       "      <td>3.954804</td>\n",
       "      <td>5.610702</td>\n",
       "      <td>0.407673</td>\n",
       "      <td>12.801047</td>\n",
       "      <td>12.451302</td>\n",
       "      <td>True</td>\n",
       "      <td>0</td>\n",
       "      <td>Energy</td>\n",
       "      <td>0</td>\n",
       "      <td>14</td>\n",
       "    </tr>\n",
       "  </tbody>\n",
       "</table>\n",
       "<p>15 rows × 31 columns</p>\n",
       "</div>"
      ],
      "text/plain": [
       "     Year Ticker  Environmental Disclosure Score  GHG Scope 1  \\\n",
       "765  2005    XOM                             NaN          NaN   \n",
       "766  2006    XOM                            43.8     145500.0   \n",
       "767  2007    XOM                            46.3     141000.0   \n",
       "768  2008    XOM                            46.3     126000.0   \n",
       "769  2009    XOM                            52.9     128000.0   \n",
       "770  2010    XOM                            54.6     132000.0   \n",
       "771  2011    XOM                            54.6     136000.0   \n",
       "772  2012    XOM                            55.4     132000.0   \n",
       "773  2013    XOM                            55.4     135000.0   \n",
       "774  2014    XOM                            55.4     121000.0   \n",
       "775  2015    XOM                            55.4     118000.0   \n",
       "776  2016    XOM                            53.7     120000.0   \n",
       "777  2017    XOM                            53.7     117000.0   \n",
       "778  2018    XOM                            53.7     119000.0   \n",
       "779  2019    XOM                            56.2     114000.0   \n",
       "\n",
       "     Total Energy Consumption  Change_in_EDS  Change_in_GHG  Change_in_TEC  \\\n",
       "765                       NaN       0.000000       0.000000       0.000000   \n",
       "766                  433650.0       0.000000       0.000000       0.000000   \n",
       "767                  430556.0       5.707763      -3.092784      -0.713479   \n",
       "768                  416667.0       0.000000     -10.638298      -3.225829   \n",
       "769                  405639.0      14.254860       1.587302      -2.646718   \n",
       "770                  408333.0       3.213611       3.125000       0.664137   \n",
       "771                  430556.0       0.000000       3.030303       5.442372   \n",
       "772                  416667.0       1.465201      -2.941176      -3.225829   \n",
       "773                  416667.0       0.000000       2.272727       0.000000   \n",
       "774                  444444.0       0.000000     -10.370370       6.666475   \n",
       "775                  472222.0       0.000000      -2.479339       6.250056   \n",
       "776                  416667.0      -3.068592       1.694915     -11.764594   \n",
       "777                  416667.0       0.000000      -2.500000       0.000000   \n",
       "778                  416667.0       0.000000       1.709402       0.000000   \n",
       "779                  416667.0       4.655493      -4.201681       0.000000   \n",
       "\n",
       "     Ratio of GHG Emissions to Total Assets  \\\n",
       "765                                     NaN   \n",
       "766                              664.338059   \n",
       "767                              582.447270   \n",
       "768                              552.505569   \n",
       "769                              548.595724   \n",
       "770                              436.349212   \n",
       "771                              410.811595   \n",
       "772                              395.452299   \n",
       "773                              389.264377   \n",
       "774                              346.215804   \n",
       "775                              350.399990   \n",
       "776                              363.290687   \n",
       "777                              335.540636   \n",
       "778                              343.735918   \n",
       "779                              314.398630   \n",
       "\n",
       "     Ratio of GHG Emissions to Total Sales  ...        ROA  Profit_Margin  \\\n",
       "765                                    NaN  ...  17.342261      11.008095   \n",
       "766                             434.216888  ...  18.035294      11.788019   \n",
       "767                             393.195761  ...  16.775308      11.324596   \n",
       "768                             296.421068  ...  19.828811      10.638223   \n",
       "769                             464.501894  ...   8.263223       6.996560   \n",
       "770                             386.441750  ...  10.069089       8.917436   \n",
       "771                             313.706675  ...  12.402885       9.471174   \n",
       "772                             313.752335  ...  13.445378      10.667579   \n",
       "773                             345.934754  ...   9.394247       8.348559   \n",
       "774                             331.722242  ...   9.304907       8.915378   \n",
       "775                             498.289768  ...   4.795729       6.819813   \n",
       "776                             607.539566  ...   2.373499       3.969258   \n",
       "777                             493.333671  ...   5.652569       8.310775   \n",
       "778                             426.016353  ...   6.019711       7.460656   \n",
       "779                             446.039056  ...   3.954804       5.610702   \n",
       "\n",
       "    Annual Return Logarithm_Total_Assets  Logarithm_Total_Sales  Profitable  \\\n",
       "765           NaN              12.246903              12.701418        True   \n",
       "766           NaN              12.296895              12.722142        True   \n",
       "767           NaN              12.397032              12.789963        True   \n",
       "768           NaN              12.337329              12.960011        True   \n",
       "769           NaN              12.360179              12.526575        True   \n",
       "770           NaN              12.619870              12.741331        True   \n",
       "771           NaN              12.710031              12.979707        True   \n",
       "772      0.198270              12.718282              12.949709        True   \n",
       "773      0.120157              12.756527              12.874535        True   \n",
       "774      0.352835              12.764239              12.807003        True   \n",
       "775      0.025943              12.727120              12.375013        True   \n",
       "776      0.105391              12.707799              12.193585        True   \n",
       "777      0.125855              12.761941              12.376499        True   \n",
       "778      0.175170              12.754760              12.540156        True   \n",
       "779      0.407673              12.801047              12.451302        True   \n",
       "\n",
       "     Missing_GHG  Sector  Utility  time_trend  \n",
       "765            1  Energy        0           0  \n",
       "766            0  Energy        0           1  \n",
       "767            0  Energy        0           2  \n",
       "768            0  Energy        0           3  \n",
       "769            0  Energy        0           4  \n",
       "770            0  Energy        0           5  \n",
       "771            0  Energy        0           6  \n",
       "772            0  Energy        0           7  \n",
       "773            0  Energy        0           8  \n",
       "774            0  Energy        0           9  \n",
       "775            0  Energy        0          10  \n",
       "776            0  Energy        0          11  \n",
       "777            0  Energy        0          12  \n",
       "778            0  Energy        0          13  \n",
       "779            0  Energy        0          14  \n",
       "\n",
       "[15 rows x 31 columns]"
      ]
     },
     "execution_count": 3,
     "metadata": {},
     "output_type": "execute_result"
    }
   ],
   "source": [
    "stocks['time_trend'] = stocks.groupby('Ticker').cumcount()\n",
    "stocks.loc[stocks.Ticker == 'XOM'].groupby(['Ticker','Year']).head(20)"
   ]
  },
  {
   "cell_type": "markdown",
   "id": "chief-baghdad",
   "metadata": {},
   "source": [
    "## Models\n",
    "\n",
    "### Model 1 - Sales and Assets\n",
    "\n",
    "\n",
    "GHG = a + b1*Sales + b2*Assets + e     \n"
   ]
  },
  {
   "cell_type": "code",
   "execution_count": null,
   "id": "restricted-reader",
   "metadata": {},
   "outputs": [],
   "source": []
  },
  {
   "cell_type": "code",
   "execution_count": null,
   "id": "reserved-samuel",
   "metadata": {},
   "outputs": [],
   "source": []
  },
  {
   "cell_type": "code",
   "execution_count": null,
   "id": "generic-surrey",
   "metadata": {},
   "outputs": [],
   "source": []
  },
  {
   "cell_type": "code",
   "execution_count": null,
   "id": "integral-macro",
   "metadata": {},
   "outputs": [],
   "source": []
  },
  {
   "cell_type": "markdown",
   "id": "educated-engineering",
   "metadata": {},
   "source": [
    "### Model 2 - Logarithm Sales and Assets\n",
    "\n",
    "ln(GHG) = a0 + b10*ln(Sales) + b20*ln(Assets) + e"
   ]
  },
  {
   "cell_type": "code",
   "execution_count": null,
   "id": "confused-reviewer",
   "metadata": {},
   "outputs": [],
   "source": []
  },
  {
   "cell_type": "code",
   "execution_count": null,
   "id": "better-regulation",
   "metadata": {},
   "outputs": [],
   "source": []
  },
  {
   "cell_type": "code",
   "execution_count": null,
   "id": "touched-boston",
   "metadata": {},
   "outputs": [],
   "source": []
  },
  {
   "cell_type": "code",
   "execution_count": null,
   "id": "recorded-thing",
   "metadata": {},
   "outputs": [],
   "source": []
  },
  {
   "cell_type": "code",
   "execution_count": null,
   "id": "quarterly-mercy",
   "metadata": {},
   "outputs": [],
   "source": []
  },
  {
   "cell_type": "code",
   "execution_count": null,
   "id": "sacred-airfare",
   "metadata": {},
   "outputs": [],
   "source": []
  },
  {
   "cell_type": "markdown",
   "id": "vital-blowing",
   "metadata": {},
   "source": [
    "### Model 3 -  GHG for Energy vs Utilities\n",
    "\n",
    "GHG = a + b1*Sales + b2*Assets + b3*Util + b5*TimeTrend + e\n",
    "\n",
    "#### Linear Regression - Validation set approach"
   ]
  },
  {
   "cell_type": "code",
   "execution_count": 4,
   "id": "freelance-maple",
   "metadata": {},
   "outputs": [
    {
     "name": "stdout",
     "output_type": "stream",
     "text": [
      "(398, 4)\n",
      "(398,)\n"
     ]
    }
   ],
   "source": [
    "stock = stocks.copy()\n",
    "stock.dropna(inplace=True, subset = ['Total_Assets','Total_Sales','GHG Scope 1'])\n",
    "\n",
    "X = stock[['Total_Sales','Total_Assets','Utility','time_trend']]\n",
    "y = stock['GHG Scope 1']\n",
    "print(X.shape)\n",
    "print(y.shape)"
   ]
  },
  {
   "cell_type": "code",
   "execution_count": 5,
   "id": "capable-fitting",
   "metadata": {},
   "outputs": [],
   "source": [
    "model = LinearRegression(fit_intercept=True) #Initialize model\n",
    "Xtrain, Xtest, ytrain, ytest = train_test_split(X, y, test_size=0.2, random_state=42) #Train and Test split\n",
    "model.fit(Xtrain,ytrain) #Fit the model\n",
    "y_model = model.predict(Xtest) #Make predictions"
   ]
  },
  {
   "cell_type": "code",
   "execution_count": 6,
   "id": "eleven-chart",
   "metadata": {},
   "outputs": [
    {
     "name": "stdout",
     "output_type": "stream",
     "text": [
      "Coefficients: \n",
      " [ 1.27217988e-01  2.83677679e-01  2.23421275e+04 -5.58358640e+02]\n",
      "Mean squared error: 442891100.67\n",
      "Root Mean Squared Error: 21044.978039190788\n",
      "Coefficient of determination: 0.66\n"
     ]
    }
   ],
   "source": [
    "#The coefficients\n",
    "print('Coefficients: \\n', model.coef_)\n",
    "#Mean Squared Error\n",
    "print('Mean squared error: %.2f' % metrics.mean_squared_error(ytest,y_model))\n",
    "print(f'Root Mean Squared Error: {np.sqrt(metrics.mean_squared_error(ytest,y_model))}')\n",
    "# The coefficient of determination: 1 is perfect prediction\n",
    "print('Coefficient of determination: %.2f'\n",
    "      % metrics.r2_score(ytest, y_model))"
   ]
  },
  {
   "cell_type": "code",
   "execution_count": 7,
   "id": "cardiac-check",
   "metadata": {},
   "outputs": [
    {
     "data": {
      "text/html": [
       "<div>\n",
       "<style scoped>\n",
       "    .dataframe tbody tr th:only-of-type {\n",
       "        vertical-align: middle;\n",
       "    }\n",
       "\n",
       "    .dataframe tbody tr th {\n",
       "        vertical-align: top;\n",
       "    }\n",
       "\n",
       "    .dataframe thead th {\n",
       "        text-align: right;\n",
       "    }\n",
       "</style>\n",
       "<table border=\"1\" class=\"dataframe\">\n",
       "  <thead>\n",
       "    <tr style=\"text-align: right;\">\n",
       "      <th></th>\n",
       "      <th>Observed</th>\n",
       "      <th>Prediction</th>\n",
       "    </tr>\n",
       "  </thead>\n",
       "  <tbody>\n",
       "    <tr>\n",
       "      <th>418</th>\n",
       "      <td>3577.3</td>\n",
       "      <td>-905.917272</td>\n",
       "    </tr>\n",
       "    <tr>\n",
       "      <th>778</th>\n",
       "      <td>119000.0</td>\n",
       "      <td>125953.752659</td>\n",
       "    </tr>\n",
       "    <tr>\n",
       "      <th>58</th>\n",
       "      <td>3410.0</td>\n",
       "      <td>-735.413566</td>\n",
       "    </tr>\n",
       "    <tr>\n",
       "      <th>464</th>\n",
       "      <td>14296.5</td>\n",
       "      <td>19195.057407</td>\n",
       "    </tr>\n",
       "    <tr>\n",
       "      <th>206</th>\n",
       "      <td>32000.0</td>\n",
       "      <td>26110.108190</td>\n",
       "    </tr>\n",
       "  </tbody>\n",
       "</table>\n",
       "</div>"
      ],
      "text/plain": [
       "     Observed     Prediction\n",
       "418    3577.3    -905.917272\n",
       "778  119000.0  125953.752659\n",
       "58     3410.0    -735.413566\n",
       "464   14296.5   19195.057407\n",
       "206   32000.0   26110.108190"
      ]
     },
     "execution_count": 7,
     "metadata": {},
     "output_type": "execute_result"
    }
   ],
   "source": [
    "#Create data frame with observed and predicted\n",
    "linear_reg = pd.DataFrame({'Observed':ytest,'Prediction':y_model})\n",
    "linear_reg.head()"
   ]
  },
  {
   "cell_type": "markdown",
   "id": "married-uzbekistan",
   "metadata": {},
   "source": [
    "#### Linear regression with k-fold cross validation"
   ]
  },
  {
   "cell_type": "code",
   "execution_count": 8,
   "id": "later-basketball",
   "metadata": {},
   "outputs": [],
   "source": [
    "X = X.values\n",
    "y = y.values\n",
    "\n",
    "def kfold_cross_validation(n_splits, X, y, model_type):\n",
    "    data_y, data_yhat,coef = [], [],[]\n",
    "    kfold = KFold(n_splits=n_splits, random_state = 42, shuffle=True)\n",
    "    for train_ix, test_ix in kfold.split(X):\n",
    "        # get data\n",
    "        train_X, test_X = X[train_ix], X[test_ix]\n",
    "        train_y, test_y = y[train_ix], y[test_ix]\n",
    "        # fit model\n",
    "        model = model_type\n",
    "        model.fit(train_X, train_y)\n",
    "        # make predictions\n",
    "        yhat = model.predict(test_X)\n",
    "        coef.append(model.coef_)\n",
    "        # store\n",
    "        data_y.extend(test_y)\n",
    "        data_yhat.extend(yhat)\n",
    "\n",
    "    # Evaluate the model\n",
    "    print('Mean squared error: %.2f' % metrics.mean_squared_error(data_y, data_yhat))\n",
    "    print(f'Root Mean Squared Error: {np.sqrt(metrics.mean_squared_error(data_y, data_yhat))}')\n",
    "    print('Coefficient of determination: %.2f'% metrics.r2_score(data_y, data_yhat))"
   ]
  },
  {
   "cell_type": "code",
   "execution_count": 9,
   "id": "efficient-upset",
   "metadata": {},
   "outputs": [
    {
     "name": "stdout",
     "output_type": "stream",
     "text": [
      "Mean squared error: 462201730.55\n",
      "Root Mean Squared Error: 21498.877425240873\n",
      "Coefficient of determination: 0.56\n"
     ]
    }
   ],
   "source": [
    "model1 = LinearRegression()\n",
    "kfold_cross_validation(10,X,y,model1)"
   ]
  },
  {
   "cell_type": "code",
   "execution_count": 10,
   "id": "former-heart",
   "metadata": {},
   "outputs": [
    {
     "name": "stdout",
     "output_type": "stream",
     "text": [
      "Mean squared error: 458669164.20\n",
      "Root Mean Squared Error: 21416.562847569556\n",
      "Coefficient of determination: 0.57\n"
     ]
    }
   ],
   "source": [
    "kfold_cross_validation(5,X,y,model1)"
   ]
  },
  {
   "cell_type": "markdown",
   "id": "tender-combat",
   "metadata": {},
   "source": [
    "#### Ridge Regression - Validation set approach"
   ]
  },
  {
   "cell_type": "code",
   "execution_count": 11,
   "id": "minor-boutique",
   "metadata": {},
   "outputs": [
    {
     "data": {
      "image/png": "[encoded data removed]",
      "text/plain": [
       "<Figure size 432x288 with 1 Axes>"
      ]
     },
     "metadata": {
      "needs_background": "light"
     },
     "output_type": "display_data"
    }
   ],
   "source": [
    "n_alphas = 100\n",
    "alphas = np.logspace(-10, -2, n_alphas)\n",
    "\n",
    "coefs = []\n",
    "for a in alphas:\n",
    "    ridge = Ridge(alpha=a, fit_intercept=False, normalize=True)\n",
    "    Xtrain, Xtest, ytrain, ytest = train_test_split(X, y, test_size=0.2, random_state=42)\n",
    "    ridge.fit(Xtrain, ytrain)\n",
    "    coefs.append(ridge.coef_)\n",
    "\n",
    "ax = plt.gca()\n",
    "ax.plot(alphas, coefs)\n",
    "ax.plot(alphas, coefs)\n",
    "ax.set_xscale('log')\n",
    "ax.set_xlim(ax.get_xlim()[::-1])  # reverse axis\n",
    "plt.xlabel('alpha')\n",
    "plt.ylabel('weights')\n",
    "plt.title('Ridge coefficients as a function of the regularization')\n",
    "plt.axis('tight')\n",
    "plt.show()"
   ]
  },
  {
   "cell_type": "markdown",
   "id": "heard-quality",
   "metadata": {},
   "source": [
    "Do we need to standarized the data? One feature is staying high.. would it look better if we normalize it? Would the logarithm work better because it distributes the data better?"
   ]
  },
  {
   "cell_type": "code",
   "execution_count": 12,
   "id": "explicit-yield",
   "metadata": {},
   "outputs": [
    {
     "data": {
      "text/plain": [
       "[array([ 1.25671073e-01,  2.83924392e-01,  2.21708862e+04, -5.96063139e+02]),\n",
       " array([ 1.25671073e-01,  2.83924392e-01,  2.21708862e+04, -5.96063139e+02]),\n",
       " array([ 1.25671073e-01,  2.83924392e-01,  2.21708862e+04, -5.96063139e+02]),\n",
       " array([ 1.25671073e-01,  2.83924392e-01,  2.21708862e+04, -5.96063139e+02]),\n",
       " array([ 1.25671073e-01,  2.83924392e-01,  2.21708862e+04, -5.96063139e+02])]"
      ]
     },
     "execution_count": 12,
     "metadata": {},
     "output_type": "execute_result"
    }
   ],
   "source": [
    "coefs[:5] #First five coefficients\n",
    "#print(f'Last 5 coefficients: {coefs[(len(coefs) - 5):len(coefs)]}')"
   ]
  },
  {
   "cell_type": "code",
   "execution_count": 13,
   "id": "friendly-clinic",
   "metadata": {},
   "outputs": [
    {
     "data": {
      "text/plain": [
       "[array([ 1.25665134e-01,  2.83928669e-01,  2.21695471e+04, -5.95994844e+02]),\n",
       " array([ 1.25663919e-01,  2.83929543e-01,  2.21692732e+04, -5.95980878e+02]),\n",
       " array([ 1.25662457e-01,  2.83930597e-01,  2.21689434e+04, -5.95964057e+02]),\n",
       " array([ 1.25660695e-01,  2.83931866e-01,  2.21685461e+04, -5.95943797e+02]),\n",
       " array([ 1.25658573e-01,  2.83933394e-01,  2.21680676e+04, -5.95919394e+02])]"
      ]
     },
     "execution_count": 13,
     "metadata": {},
     "output_type": "execute_result"
    }
   ],
   "source": [
    "coefs[(len(coefs) - 5):len(coefs)] #the last 5 coefficients"
   ]
  },
  {
   "cell_type": "code",
   "execution_count": 14,
   "id": "hungarian-conjunction",
   "metadata": {},
   "outputs": [],
   "source": [
    "# Split data into training and test sets\n",
    "X_train, X_test , y_train, y_test = train_test_split(X, y, test_size=0.2, random_state=42)"
   ]
  },
  {
   "cell_type": "markdown",
   "id": "parliamentary-finance",
   "metadata": {},
   "source": [
    "Instead of arbitrarily choosing alpha, we used cross-validation to choose the tuning parameter alpha. "
   ]
  },
  {
   "cell_type": "code",
   "execution_count": 15,
   "id": "impressive-network",
   "metadata": {},
   "outputs": [
    {
     "name": "stdout",
     "output_type": "stream",
     "text": [
      "The optimal alpha is 0.01\n"
     ]
    }
   ],
   "source": [
    "ridgecv = RidgeCV(alphas = alphas, scoring = 'neg_mean_squared_error', normalize = True)\n",
    "ridgecv.fit(X_train, y_train)\n"
   ]
  },
  {
   "cell_type": "code",
   "execution_count": 23,
   "id": "southern-kingdom",
   "metadata": {},
   "outputs": [
    {
     "name": "stdout",
     "output_type": "stream",
     "text": [
      "Mean squared error: 442044666.55\n",
      "Root Mean Squared Error: 21024.858300368476\n",
      "Coefficient of determination: 0.66\n"
     ]
    }
   ],
   "source": [
    "ridge_1 = Ridge(alpha = ridgecv.alpha_, normalize = True)\n",
    "ridge_1.fit(X_train, y_train)\n",
    "yhat_ridge = ridge_1.predict(X_test)\n",
    "\n",
    "# Evaluate the model\n",
    "print('Mean squared error: %.2f' % metrics.mean_squared_error(y_test, yhat_ridge))\n",
    "print(f'Root Mean Squared Error: {np.sqrt(metrics.mean_squared_error(y_test, yhat_ridge))}')\n",
    "print('Coefficient of determination: %.2f'% metrics.r2_score(y_test, yhat_ridge))"
   ]
  },
  {
   "cell_type": "markdown",
   "id": "liable-season",
   "metadata": {},
   "source": [
    "#### Ridge Regression - Cross validation approach"
   ]
  },
  {
   "cell_type": "code",
   "execution_count": 17,
   "id": "contrary-relaxation",
   "metadata": {},
   "outputs": [
    {
     "name": "stdout",
     "output_type": "stream",
     "text": [
      "Mean squared error: 462009807.83\n",
      "Root Mean Squared Error: 21494.413409662833\n",
      "Coefficient of determination: 0.56\n"
     ]
    }
   ],
   "source": [
    "kfold_cross_validation(10,X,y,ridge_1)"
   ]
  },
  {
   "cell_type": "code",
   "execution_count": 18,
   "id": "portuguese-mentor",
   "metadata": {},
   "outputs": [
    {
     "name": "stdout",
     "output_type": "stream",
     "text": [
      "Mean squared error: 458487743.03\n",
      "Root Mean Squared Error: 21412.326894264337\n",
      "Coefficient of determination: 0.57\n"
     ]
    }
   ],
   "source": [
    "kfold_cross_validation(5,X,y,ridge_1)"
   ]
  },
  {
   "cell_type": "code",
   "execution_count": 19,
   "id": "tropical-geography",
   "metadata": {},
   "outputs": [
    {
     "name": "stdout",
     "output_type": "stream",
     "text": [
      "Mean squared error: 460942033.16\n",
      "Root Mean Squared Error: 21469.56061878212\n",
      "Coefficient of determination: 0.57\n"
     ]
    }
   ],
   "source": [
    "kfold_cross_validation(2,X,y,ridge_1)"
   ]
  },
  {
   "cell_type": "markdown",
   "id": "removed-canal",
   "metadata": {},
   "source": [
    "#### Lasso - Validation set approach"
   ]
  },
  {
   "cell_type": "code",
   "execution_count": 20,
   "id": "broke-basin",
   "metadata": {},
   "outputs": [
    {
     "data": {
      "text/plain": [
       "Text(0, 0.5, 'weights')"
      ]
     },
     "execution_count": 20,
     "metadata": {},
     "output_type": "execute_result"
    },
    {
     "data": {
      "image/png": "[encoded data removed]",
      "text/plain": [
       "<Figure size 432x288 with 1 Axes>"
      ]
     },
     "metadata": {
      "needs_background": "light"
     },
     "output_type": "display_data"
    }
   ],
   "source": [
    "lasso = Lasso(max_iter = 10000, normalize = True)\n",
    "coefs = []\n",
    "\n",
    "for a in alphas:\n",
    "    lasso.set_params(alpha=a)\n",
    "    lasso.fit(scale(X_train), y_train)\n",
    "    coefs.append(lasso.coef_)\n",
    "    \n",
    "ax = plt.gca()\n",
    "ax.plot(alphas*2, coefs)\n",
    "ax.set_xscale('log')\n",
    "plt.axis('tight')\n",
    "plt.xlabel('alpha')\n",
    "plt.ylabel('weights')"
   ]
  },
  {
   "cell_type": "code",
   "execution_count": 21,
   "id": "seventh-empty",
   "metadata": {},
   "outputs": [
    {
     "name": "stdout",
     "output_type": "stream",
     "text": [
      "The optimal alpha is 1.1532714502900596\n"
     ]
    }
   ],
   "source": [
    "lassocv = LassoCV(alphas = None, cv = 10, max_iter = 100000, normalize = True)\n",
    "lassocv.fit(X_train, y_train)\n",
    "\n",
    "print(f'The optimal alpha is {lassocv.alpha_}')"
   ]
  },
  {
   "cell_type": "code",
   "execution_count": 22,
   "id": "raising-packing",
   "metadata": {},
   "outputs": [
    {
     "name": "stdout",
     "output_type": "stream",
     "text": [
      "Mean squared error: 442776564.91\n",
      "Root Mean Squared Error: 21042.25664955323\n",
      "Coefficient of determination: 0.66\n"
     ]
    }
   ],
   "source": [
    "lasso.set_params(alpha=lassocv.alpha_)\n",
    "lasso.fit(X_train, y_train)\n",
    "yhat_lasso = lasso.predict(X_test)\n",
    "\n",
    "# Evaluate the model\n",
    "print('Mean squared error: %.2f' % metrics.mean_squared_error(y_test, yhat_lasso))\n",
    "print(f'Root Mean Squared Error: {np.sqrt(metrics.mean_squared_error(y_test, yhat_lasso))}')\n",
    "print('Coefficient of determination: %.2f'% metrics.r2_score(y_test, yhat_lasso ))"
   ]
  },
  {
   "cell_type": "markdown",
   "id": "broadband-penny",
   "metadata": {},
   "source": [
    "#### Lasso Regression - Cross validation approach"
   ]
  },
  {
   "cell_type": "code",
   "execution_count": 24,
   "id": "dense-register",
   "metadata": {},
   "outputs": [
    {
     "name": "stdout",
     "output_type": "stream",
     "text": [
      "Mean squared error: 462209517.45\n",
      "Root Mean Squared Error: 21499.058524807468\n",
      "Coefficient of determination: 0.56\n"
     ]
    }
   ],
   "source": [
    "kfold_cross_validation(10, X,y,lasso)"
   ]
  },
  {
   "cell_type": "code",
   "execution_count": 25,
   "id": "effective-occasions",
   "metadata": {},
   "outputs": [
    {
     "name": "stdout",
     "output_type": "stream",
     "text": [
      "Mean squared error: 458655027.23\n",
      "Root Mean Squared Error: 21416.23279729868\n",
      "Coefficient of determination: 0.57\n"
     ]
    }
   ],
   "source": [
    "kfold_cross_validation(5, X,y,lasso)"
   ]
  },
  {
   "cell_type": "markdown",
   "id": "suburban-client",
   "metadata": {},
   "source": [
    "### Model 4 -  GHG for Energy vs Utilities using natural logarithms\n",
    "\n",
    "\n",
    "ln(GHG) = a + b1*ln(Sales) + b2*ln(Assets) + b3*ln(Util) + b5*ln(TimeTrend) + e"
   ]
  },
  {
   "cell_type": "code",
   "execution_count": null,
   "id": "favorite-launch",
   "metadata": {},
   "outputs": [],
   "source": []
  },
  {
   "cell_type": "code",
   "execution_count": null,
   "id": "magnetic-legend",
   "metadata": {},
   "outputs": [],
   "source": []
  },
  {
   "cell_type": "code",
   "execution_count": null,
   "id": "mathematical-oakland",
   "metadata": {},
   "outputs": [],
   "source": []
  },
  {
   "cell_type": "code",
   "execution_count": null,
   "id": "theoretical-capture",
   "metadata": {},
   "outputs": [],
   "source": []
  },
  {
   "cell_type": "code",
   "execution_count": null,
   "id": "valuable-separate",
   "metadata": {},
   "outputs": [],
   "source": []
  },
  {
   "cell_type": "markdown",
   "id": "divine-glass",
   "metadata": {},
   "source": [
    "### Comparing the model performance"
   ]
  },
  {
   "cell_type": "markdown",
   "id": "recognized-avatar",
   "metadata": {},
   "source": [
    "| M.L techniques  |  Model 1 |  Model 2 |  Model 3 | Model 4  |\n",
    "|-----------------|----------|----------|----------|----------|\n",
    "|                 |          |          |          |          |\n",
    "|                 |          |          |          |          |\n",
    "|                 |          |          |          |          |"
   ]
  }
 ],
 "metadata": {
  "kernelspec": {
   "display_name": "Python 3",
   "language": "python",
   "name": "python3"
  },
  "language_info": {
   "codemirror_mode": {
    "name": "ipython",
    "version": 3
   },
   "file_extension": ".py",
   "mimetype": "text/x-python",
   "name": "python",
   "nbconvert_exporter": "python",
   "pygments_lexer": "ipython3",
   "version": "3.8.8"
  }
 },
 "nbformat": 4,
 "nbformat_minor": 5
}
