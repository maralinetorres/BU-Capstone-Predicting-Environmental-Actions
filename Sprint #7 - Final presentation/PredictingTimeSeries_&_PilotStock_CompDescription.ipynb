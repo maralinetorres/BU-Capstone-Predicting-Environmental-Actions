{
 "cells": [
  {
   "cell_type": "markdown",
   "id": "painted-offset",
   "metadata": {
    "id": "persistent-following"
   },
   "source": [
    "# Predicting future environmental intensity (Time Series) and Collect Pilot Stocks Companies Descriptions\n",
    "\n",
    "In this notebook, we will predict future environmental intensity for all the companies in the 'Excel data'. We will be using data from previous years to predict the future environmental intesity. \n",
    "\n",
    "First, we will create the following columns:\n",
    "\n",
    "1) Industry Indicator\n",
    "- 1 if above the industry average in current year\n",
    "- 0 if at industry average in current yeat\n",
    "- (-1) if below the industry average in current year\n",
    "2) Environmental Intensity Growth : ((Environmental Intensity in Current Year / Environmental Intensity Last Year) - 1) * 100\n",
    "\n",
    "\n",
    "At the end, we collected, directly from Yahoo Finance website, each company description. For this, we use the pilot stocks which have the Ticker identifier. "
   ]
  },
  {
   "cell_type": "code",
   "execution_count": 1,
   "id": "quick-mattress",
   "metadata": {
    "id": "wound-assurance"
   },
   "outputs": [],
   "source": [
    "import pandas as pd\n",
    "import numpy as np\n",
    "import seaborn as sns\n",
    "import matplotlib.pyplot as plt\n",
    "import missingno as msno\n",
    "import warnings\n",
    "from sklearn import linear_model\n",
    "from sklearn import metrics\n",
    "from sklearn.linear_model import LinearRegression\n",
    "from sklearn.model_selection import train_test_split\n",
    "import requests\n",
    "from bs4 import BeautifulSoup\n",
    "warnings.filterwarnings('ignore')"
   ]
  },
  {
   "cell_type": "code",
   "execution_count": 2,
   "id": "permanent-feeling",
   "metadata": {
    "colab": {
      "name": "PredictingTimeSeries_&_PilotStock_CompDescription.ipynb",
      "provenance": [],
      "toc_visible": true
    },
    "kernelspec": {
      "display_name": "Python 3",
      "language": "python",
      "name": "python3"
    },
    "language_info": {
      "codemirror_mode": {
        "name": "ipython",
        "version": 3
      },
      "file_extension": ".py",
      "mimetype": "text/x-python",
      "name": "python",
      "nbconvert_exporter": "python",
      "pygments_lexer": "ipython3",
      "version": "3.8.8"
    }
  },
  "cells": [
    {
     "name": "stdout",
     "output_type": "stream",
     "text": [
      "The dataset has 14515 rows and 39 columns\n"
     ]
    },
    {
     "data": {
      "text/html": [
       "<div>\n",
       "<style scoped>\n",
       "    .dataframe tbody tr th:only-of-type {\n",
       "        vertical-align: middle;\n",
       "    }\n",
       "\n",
       "    .dataframe tbody tr th {\n",
       "        vertical-align: top;\n",
       "    }\n",
       "\n",
       "    .dataframe thead th {\n",
       "        text-align: right;\n",
       "    }\n",
       "</style>\n",
       "<table border=\"1\" class=\"dataframe\">\n",
       "  <thead>\n",
       "    <tr style=\"text-align: right;\">\n",
       "      <th></th>\n",
       "      <th>ISIN</th>\n",
       "      <th>Year</th>\n",
       "      <th>CompanyName</th>\n",
       "      <th>Country</th>\n",
       "      <th>Industry(Exiobase)</th>\n",
       "      <th>EnvironmentalIntensity(Sales)</th>\n",
       "      <th>EnvironmentalIntensity(OpInc)</th>\n",
       "      <th>TotalEnvironmentalCost</th>\n",
       "      <th>WorkingCapacity</th>\n",
       "      <th>FishProductionCapacity</th>\n",
       "      <th>...</th>\n",
       "      <th>SDG14.c</th>\n",
       "      <th>SDG15.1</th>\n",
       "      <th>SDG15.2</th>\n",
       "      <th>SDG15.5</th>\n",
       "      <th>%Imputed</th>\n",
       "      <th>Env_intensity</th>\n",
       "      <th>industry_avg</th>\n",
       "      <th>industry_avg_year</th>\n",
       "      <th>Industry_indicator_year</th>\n",
       "      <th>Environmental_Growth</th>\n",
       "    </tr>\n",
       "  </thead>\n",
       "  <tbody>\n",
       "    <tr>\n",
       "      <th>0</th>\n",
       "      <td>DE0005545503</td>\n",
       "      <td>2016</td>\n",
       "      <td>1&amp;1 DRILLISCH AG</td>\n",
       "      <td>Germany</td>\n",
       "      <td>Post and telecommunications (64)</td>\n",
       "      <td>-0.07%</td>\n",
       "      <td>-0.82%</td>\n",
       "      <td>-539,318</td>\n",
       "      <td>-525,027</td>\n",
       "      <td>-169</td>\n",
       "      <td>...</td>\n",
       "      <td>-6</td>\n",
       "      <td>67</td>\n",
       "      <td>67</td>\n",
       "      <td>-22</td>\n",
       "      <td>23%</td>\n",
       "      <td>-0.0007</td>\n",
       "      <td>-0.020506</td>\n",
       "      <td>-0.020740</td>\n",
       "      <td>1</td>\n",
       "      <td>NaN</td>\n",
       "    </tr>\n",
       "    <tr>\n",
       "      <th>1</th>\n",
       "      <td>GB00B1YW4409</td>\n",
       "      <td>2010</td>\n",
       "      <td>3I GROUP PLC</td>\n",
       "      <td>United Kingdom</td>\n",
       "      <td>Financial intermediation, except insurance and...</td>\n",
       "      <td>-0.12%</td>\n",
       "      <td>-0.11%</td>\n",
       "      <td>-1,055,812</td>\n",
       "      <td>-1,032,103</td>\n",
       "      <td>-277</td>\n",
       "      <td>...</td>\n",
       "      <td>-4</td>\n",
       "      <td>51</td>\n",
       "      <td>51</td>\n",
       "      <td>-43</td>\n",
       "      <td>10%</td>\n",
       "      <td>-0.0012</td>\n",
       "      <td>-0.028537</td>\n",
       "      <td>-0.006402</td>\n",
       "      <td>1</td>\n",
       "      <td>NaN</td>\n",
       "    </tr>\n",
       "    <tr>\n",
       "      <th>2</th>\n",
       "      <td>GB00B1YW4409</td>\n",
       "      <td>2011</td>\n",
       "      <td>3I GROUP PLC</td>\n",
       "      <td>United Kingdom</td>\n",
       "      <td>Financial intermediation, except insurance and...</td>\n",
       "      <td>-0.16%</td>\n",
       "      <td>-0.16%</td>\n",
       "      <td>-961,875</td>\n",
       "      <td>-940,402</td>\n",
       "      <td>-246</td>\n",
       "      <td>...</td>\n",
       "      <td>-3</td>\n",
       "      <td>38</td>\n",
       "      <td>38</td>\n",
       "      <td>-39</td>\n",
       "      <td>9%</td>\n",
       "      <td>-0.0016</td>\n",
       "      <td>-0.028537</td>\n",
       "      <td>-0.009838</td>\n",
       "      <td>1</td>\n",
       "      <td>33.333333</td>\n",
       "    </tr>\n",
       "  </tbody>\n",
       "</table>\n",
       "<p>3 rows × 39 columns</p>\n",
       "</div>"
      ],
      "text/plain": [
       "           ISIN  Year       CompanyName         Country  \\\n",
       "0  DE0005545503  2016  1&1 DRILLISCH AG         Germany   \n",
       "1  GB00B1YW4409  2010      3I GROUP PLC  United Kingdom   \n",
       "2  GB00B1YW4409  2011      3I GROUP PLC  United Kingdom   \n",
       "\n",
       "                                  Industry(Exiobase)  \\\n",
       "0                   Post and telecommunications (64)   \n",
       "1  Financial intermediation, except insurance and...   \n",
       "2  Financial intermediation, except insurance and...   \n",
       "\n",
       "  EnvironmentalIntensity(Sales) EnvironmentalIntensity(OpInc)  \\\n",
       "0                        -0.07%                        -0.82%   \n",
       "1                        -0.12%                        -0.11%   \n",
       "2                        -0.16%                        -0.16%   \n",
       "\n",
       "  TotalEnvironmentalCost WorkingCapacity FishProductionCapacity  ... SDG14.c  \\\n",
       "0               -539,318        -525,027                   -169  ...      -6   \n",
       "1             -1,055,812      -1,032,103                   -277  ...      -4   \n",
       "2               -961,875        -940,402                   -246  ...      -3   \n",
       "\n",
       "  SDG15.1 SDG15.2 SDG15.5 %Imputed Env_intensity industry_avg  \\\n",
       "0      67      67     -22      23%       -0.0007    -0.020506   \n",
       "1      51      51     -43      10%       -0.0012    -0.028537   \n",
       "2      38      38     -39       9%       -0.0016    -0.028537   \n",
       "\n",
       "  industry_avg_year Industry_indicator_year Environmental_Growth  \n",
       "0         -0.020740                       1                  NaN  \n",
       "1         -0.006402                       1                  NaN  \n",
       "2         -0.009838                       1            33.333333  \n",
       "\n",
       "[3 rows x 39 columns]"
      ]
     },
     "execution_count": 2,
     "metadata": {},
     "output_type": "execute_result"
    }
   ],
   "source": [
    "df = pd.read_csv('/Users/maralinetorres/Documents/GitHub/Predicting-Environmental-and-Social-Actions/Datasets/Environmental_impact_cleaned.csv')\n",
    "print(f'The dataset has {df.shape[0]} rows and {df.shape[1]} columns')\n",
    "df.head(3)"
   ]
  },
  {
   "cell_type": "markdown",
   "id": "million-associate",
   "metadata": {},
   "source": [
    "Now, we are going to subset for the columns that we are interested in. As discussed in the notebook 'Environmental-Impact-Data Cleaning', we transformed the EnvironmentalIntensity(Sales) to decimals and removed spaces in columns CompanyName and Country. "
   ]
  },
  {
   "cell_type": "code",
   "execution_count": 3,
   "id": "legitimate-working",
   "metadata": {
    "colab": {
     "base_uri": "https://localhost:8080/",
     "height": 204
    },
    {
     "data": {
      "text/html": [
       "<div>\n",
       "<style scoped>\n",
       "    .dataframe tbody tr th:only-of-type {\n",
       "        vertical-align: middle;\n",
       "    }\n",
       "\n",
       "    .dataframe tbody tr th {\n",
       "        vertical-align: top;\n",
       "    }\n",
       "\n",
       "    .dataframe thead th {\n",
       "        text-align: right;\n",
       "    }\n",
       "</style>\n",
       "<table border=\"1\" class=\"dataframe\">\n",
       "  <thead>\n",
       "    <tr style=\"text-align: right;\">\n",
       "      <th></th>\n",
       "      <th>ISIN</th>\n",
       "      <th>Year</th>\n",
       "      <th>CompanyName</th>\n",
       "      <th>Country</th>\n",
       "      <th>Industry(Exiobase)</th>\n",
       "      <th>EnvironmentalIntensity(Sales)</th>\n",
       "      <th>Env_intensity</th>\n",
       "    </tr>\n",
       "  </thead>\n",
       "  <tbody>\n",
       "    <tr>\n",
       "      <th>0</th>\n",
       "      <td>DE0005545503</td>\n",
       "      <td>2016</td>\n",
       "      <td>1&amp;1 DRILLISCH AG</td>\n",
       "      <td>Germany</td>\n",
       "      <td>Post and telecommunications (64)</td>\n",
       "      <td>-0.07%</td>\n",
       "      <td>-0.0007</td>\n",
       "    </tr>\n",
       "    <tr>\n",
       "      <th>1</th>\n",
       "      <td>GB00B1YW4409</td>\n",
       "      <td>2010</td>\n",
       "      <td>3I GROUP PLC</td>\n",
       "      <td>United Kingdom</td>\n",
       "      <td>Financial intermediation, except insurance and...</td>\n",
       "      <td>-0.12%</td>\n",
       "      <td>-0.0012</td>\n",
       "    </tr>\n",
       "    <tr>\n",
       "      <th>2</th>\n",
       "      <td>GB00B1YW4409</td>\n",
       "      <td>2011</td>\n",
       "      <td>3I GROUP PLC</td>\n",
       "      <td>United Kingdom</td>\n",
       "      <td>Financial intermediation, except insurance and...</td>\n",
       "      <td>-0.16%</td>\n",
       "      <td>-0.0016</td>\n",
       "    </tr>\n",
       "    <tr>\n",
       "      <th>3</th>\n",
       "      <td>GB00B1YW4409</td>\n",
       "      <td>2012</td>\n",
       "      <td>3I GROUP PLC</td>\n",
       "      <td>United Kingdom</td>\n",
       "      <td>Financial intermediation, except insurance and...</td>\n",
       "      <td>-0.15%</td>\n",
       "      <td>-0.0015</td>\n",
       "    </tr>\n",
       "    <tr>\n",
       "      <th>4</th>\n",
       "      <td>US88579Y1010</td>\n",
       "      <td>2010</td>\n",
       "      <td>3M COMPANY</td>\n",
       "      <td>United States</td>\n",
       "      <td>Activities of membership organisation n.e.c. (91)</td>\n",
       "      <td>-7.90%</td>\n",
       "      <td>-0.0790</td>\n",
       "    </tr>\n",
       "  </tbody>\n",
       "</table>\n",
       "</div>"
      ],
      "text/plain": [
       "           ISIN  Year       CompanyName         Country  \\\n",
       "0  DE0005545503  2016  1&1 DRILLISCH AG         Germany   \n",
       "1  GB00B1YW4409  2010      3I GROUP PLC  United Kingdom   \n",
       "2  GB00B1YW4409  2011      3I GROUP PLC  United Kingdom   \n",
       "3  GB00B1YW4409  2012      3I GROUP PLC  United Kingdom   \n",
       "4  US88579Y1010  2010        3M COMPANY   United States   \n",
       "\n",
       "                                  Industry(Exiobase)  \\\n",
       "0                   Post and telecommunications (64)   \n",
       "1  Financial intermediation, except insurance and...   \n",
       "2  Financial intermediation, except insurance and...   \n",
       "3  Financial intermediation, except insurance and...   \n",
       "4  Activities of membership organisation n.e.c. (91)   \n",
       "\n",
       "  EnvironmentalIntensity(Sales)  Env_intensity  \n",
       "0                        -0.07%        -0.0007  \n",
       "1                        -0.12%        -0.0012  \n",
       "2                        -0.16%        -0.0016  \n",
       "3                        -0.15%        -0.0015  \n",
       "4                        -7.90%        -0.0790  "
      ]
     },
     "execution_count": 3,
     "metadata": {},
     "output_type": "execute_result"
    }
   ],
   "source": [
    "df = df.loc[:,['ISIN','Year','CompanyName','Country','Industry(Exiobase)','EnvironmentalIntensity(Sales)','Env_intensity']]\n",
    "df.head()"
   ]
  },
  {
   "cell_type": "markdown",
   "id": "younger-criminal",
   "metadata": {
    "id": "celtic-wound"
   },
   "source": [
    "### Creating industry indicator"
   ]
  },
  {
   "cell_type": "code",
   "execution_count": 4,
   "id": "proved-folder",
   "metadata": {
    "id": "awful-remark"
   },
   "outputs": [],
   "source": [
    "industry_avg = df.groupby('Industry(Exiobase)')[['Env_intensity']].mean().reset_index()\n",
    "df['industry_avg'] = df['Env_intensity'].groupby(df['Industry(Exiobase)']).transform('mean')"
   ]
  },
  {
   "cell_type": "code",
   "execution_count": 5,
   "id": "aggregate-field",
   "metadata": {
    "colab": {
     "base_uri": "https://localhost:8080/",
     "height": 0
    },
    {
     "data": {
      "text/html": [
       "<div>\n",
       "<style scoped>\n",
       "    .dataframe tbody tr th:only-of-type {\n",
       "        vertical-align: middle;\n",
       "    }\n",
       "\n",
       "    .dataframe tbody tr th {\n",
       "        vertical-align: top;\n",
       "    }\n",
       "\n",
       "    .dataframe thead th {\n",
       "        text-align: right;\n",
       "    }\n",
       "</style>\n",
       "<table border=\"1\" class=\"dataframe\">\n",
       "  <thead>\n",
       "    <tr style=\"text-align: right;\">\n",
       "      <th></th>\n",
       "      <th>ISIN</th>\n",
       "      <th>Year</th>\n",
       "      <th>CompanyName</th>\n",
       "      <th>Country</th>\n",
       "      <th>Industry(Exiobase)</th>\n",
       "      <th>EnvironmentalIntensity(Sales)</th>\n",
       "      <th>Env_intensity</th>\n",
       "      <th>industry_avg</th>\n",
       "      <th>Industry_indicator</th>\n",
       "    </tr>\n",
       "  </thead>\n",
       "  <tbody>\n",
       "    <tr>\n",
       "      <th>0</th>\n",
       "      <td>DE0005545503</td>\n",
       "      <td>2016</td>\n",
       "      <td>1&amp;1 DRILLISCH AG</td>\n",
       "      <td>Germany</td>\n",
       "      <td>Post and telecommunications (64)</td>\n",
       "      <td>-0.07%</td>\n",
       "      <td>-0.0007</td>\n",
       "      <td>-0.020506</td>\n",
       "      <td>1</td>\n",
       "    </tr>\n",
       "    <tr>\n",
       "      <th>1</th>\n",
       "      <td>GB00B1YW4409</td>\n",
       "      <td>2010</td>\n",
       "      <td>3I GROUP PLC</td>\n",
       "      <td>United Kingdom</td>\n",
       "      <td>Financial intermediation, except insurance and...</td>\n",
       "      <td>-0.12%</td>\n",
       "      <td>-0.0012</td>\n",
       "      <td>-0.028537</td>\n",
       "      <td>1</td>\n",
       "    </tr>\n",
       "    <tr>\n",
       "      <th>2</th>\n",
       "      <td>GB00B1YW4409</td>\n",
       "      <td>2011</td>\n",
       "      <td>3I GROUP PLC</td>\n",
       "      <td>United Kingdom</td>\n",
       "      <td>Financial intermediation, except insurance and...</td>\n",
       "      <td>-0.16%</td>\n",
       "      <td>-0.0016</td>\n",
       "      <td>-0.028537</td>\n",
       "      <td>1</td>\n",
       "    </tr>\n",
       "    <tr>\n",
       "      <th>3</th>\n",
       "      <td>GB00B1YW4409</td>\n",
       "      <td>2012</td>\n",
       "      <td>3I GROUP PLC</td>\n",
       "      <td>United Kingdom</td>\n",
       "      <td>Financial intermediation, except insurance and...</td>\n",
       "      <td>-0.15%</td>\n",
       "      <td>-0.0015</td>\n",
       "      <td>-0.028537</td>\n",
       "      <td>1</td>\n",
       "    </tr>\n",
       "    <tr>\n",
       "      <th>4</th>\n",
       "      <td>US88579Y1010</td>\n",
       "      <td>2010</td>\n",
       "      <td>3M COMPANY</td>\n",
       "      <td>United States</td>\n",
       "      <td>Activities of membership organisation n.e.c. (91)</td>\n",
       "      <td>-7.90%</td>\n",
       "      <td>-0.0790</td>\n",
       "      <td>-0.175838</td>\n",
       "      <td>1</td>\n",
       "    </tr>\n",
       "  </tbody>\n",
       "</table>\n",
       "</div>"
      ],
      "text/plain": [
       "           ISIN  Year       CompanyName         Country  \\\n",
       "0  DE0005545503  2016  1&1 DRILLISCH AG         Germany   \n",
       "1  GB00B1YW4409  2010      3I GROUP PLC  United Kingdom   \n",
       "2  GB00B1YW4409  2011      3I GROUP PLC  United Kingdom   \n",
       "3  GB00B1YW4409  2012      3I GROUP PLC  United Kingdom   \n",
       "4  US88579Y1010  2010        3M COMPANY   United States   \n",
       "\n",
       "                                  Industry(Exiobase)  \\\n",
       "0                   Post and telecommunications (64)   \n",
       "1  Financial intermediation, except insurance and...   \n",
       "2  Financial intermediation, except insurance and...   \n",
       "3  Financial intermediation, except insurance and...   \n",
       "4  Activities of membership organisation n.e.c. (91)   \n",
       "\n",
       "  EnvironmentalIntensity(Sales)  Env_intensity  industry_avg  \\\n",
       "0                        -0.07%        -0.0007     -0.020506   \n",
       "1                        -0.12%        -0.0012     -0.028537   \n",
       "2                        -0.16%        -0.0016     -0.028537   \n",
       "3                        -0.15%        -0.0015     -0.028537   \n",
       "4                        -7.90%        -0.0790     -0.175838   \n",
       "\n",
       "   Industry_indicator  \n",
       "0                   1  \n",
       "1                   1  \n",
       "2                   1  \n",
       "3                   1  \n",
       "4                   1  "
      ]
     },
     "execution_count": 5,
     "metadata": {},
     "output_type": "execute_result"
    }
   ],
   "source": [
    "def create_ind(df):\n",
    "    if(df['Env_intensity'] > df['industry_avg']):\n",
    "        return 1\n",
    "    elif (df['Env_intensity'] == df['industry_avg']):\n",
    "        return 0\n",
    "    elif (df['Env_intensity'] < df['industry_avg']):\n",
    "        return -1\n",
    "\n",
    "df['Industry_indicator'] = df.apply(create_ind, axis = 1)\n",
    "df.head()"
   ]
  },
  {
   "cell_type": "code",
   "execution_count": 6,
   "id": "characteristic-intelligence",
   "metadata": {
    "colab": {
     "base_uri": "https://localhost:8080/",
     "height": 0
    },
    {
     "data": {
      "text/html": [
       "<div>\n",
       "<style scoped>\n",
       "    .dataframe tbody tr th:only-of-type {\n",
       "        vertical-align: middle;\n",
       "    }\n",
       "\n",
       "    .dataframe tbody tr th {\n",
       "        vertical-align: top;\n",
       "    }\n",
       "\n",
       "    .dataframe thead th {\n",
       "        text-align: right;\n",
       "    }\n",
       "</style>\n",
       "<table border=\"1\" class=\"dataframe\">\n",
       "  <thead>\n",
       "    <tr style=\"text-align: right;\">\n",
       "      <th></th>\n",
       "      <th>ISIN</th>\n",
       "      <th>Year</th>\n",
       "      <th>CompanyName</th>\n",
       "      <th>Country</th>\n",
       "      <th>Industry(Exiobase)</th>\n",
       "      <th>EnvironmentalIntensity(Sales)</th>\n",
       "      <th>Env_intensity</th>\n",
       "      <th>industry_avg</th>\n",
       "      <th>Industry_indicator</th>\n",
       "      <th>industry_avg_year</th>\n",
       "      <th>Industry_indicator_year</th>\n",
       "    </tr>\n",
       "  </thead>\n",
       "  <tbody>\n",
       "    <tr>\n",
       "      <th>0</th>\n",
       "      <td>DE0005545503</td>\n",
       "      <td>2016</td>\n",
       "      <td>1&amp;1 DRILLISCH AG</td>\n",
       "      <td>Germany</td>\n",
       "      <td>Post and telecommunications (64)</td>\n",
       "      <td>-0.07%</td>\n",
       "      <td>-0.0007</td>\n",
       "      <td>-0.020506</td>\n",
       "      <td>1</td>\n",
       "      <td>-0.020740</td>\n",
       "      <td>1</td>\n",
       "    </tr>\n",
       "    <tr>\n",
       "      <th>1</th>\n",
       "      <td>GB00B1YW4409</td>\n",
       "      <td>2010</td>\n",
       "      <td>3I GROUP PLC</td>\n",
       "      <td>United Kingdom</td>\n",
       "      <td>Financial intermediation, except insurance and...</td>\n",
       "      <td>-0.12%</td>\n",
       "      <td>-0.0012</td>\n",
       "      <td>-0.028537</td>\n",
       "      <td>1</td>\n",
       "      <td>-0.006402</td>\n",
       "      <td>1</td>\n",
       "    </tr>\n",
       "    <tr>\n",
       "      <th>2</th>\n",
       "      <td>GB00B1YW4409</td>\n",
       "      <td>2011</td>\n",
       "      <td>3I GROUP PLC</td>\n",
       "      <td>United Kingdom</td>\n",
       "      <td>Financial intermediation, except insurance and...</td>\n",
       "      <td>-0.16%</td>\n",
       "      <td>-0.0016</td>\n",
       "      <td>-0.028537</td>\n",
       "      <td>1</td>\n",
       "      <td>-0.009838</td>\n",
       "      <td>1</td>\n",
       "    </tr>\n",
       "    <tr>\n",
       "      <th>3</th>\n",
       "      <td>GB00B1YW4409</td>\n",
       "      <td>2012</td>\n",
       "      <td>3I GROUP PLC</td>\n",
       "      <td>United Kingdom</td>\n",
       "      <td>Financial intermediation, except insurance and...</td>\n",
       "      <td>-0.15%</td>\n",
       "      <td>-0.0015</td>\n",
       "      <td>-0.028537</td>\n",
       "      <td>1</td>\n",
       "      <td>-0.024437</td>\n",
       "      <td>1</td>\n",
       "    </tr>\n",
       "    <tr>\n",
       "      <th>4</th>\n",
       "      <td>US88579Y1010</td>\n",
       "      <td>2010</td>\n",
       "      <td>3M COMPANY</td>\n",
       "      <td>United States</td>\n",
       "      <td>Activities of membership organisation n.e.c. (91)</td>\n",
       "      <td>-7.90%</td>\n",
       "      <td>-0.0790</td>\n",
       "      <td>-0.175838</td>\n",
       "      <td>1</td>\n",
       "      <td>-0.084583</td>\n",
       "      <td>1</td>\n",
       "    </tr>\n",
       "  </tbody>\n",
       "</table>\n",
       "</div>"
      ],
      "text/plain": [
       "           ISIN  Year       CompanyName         Country  \\\n",
       "0  DE0005545503  2016  1&1 DRILLISCH AG         Germany   \n",
       "1  GB00B1YW4409  2010      3I GROUP PLC  United Kingdom   \n",
       "2  GB00B1YW4409  2011      3I GROUP PLC  United Kingdom   \n",
       "3  GB00B1YW4409  2012      3I GROUP PLC  United Kingdom   \n",
       "4  US88579Y1010  2010        3M COMPANY   United States   \n",
       "\n",
       "                                  Industry(Exiobase)  \\\n",
       "0                   Post and telecommunications (64)   \n",
       "1  Financial intermediation, except insurance and...   \n",
       "2  Financial intermediation, except insurance and...   \n",
       "3  Financial intermediation, except insurance and...   \n",
       "4  Activities of membership organisation n.e.c. (91)   \n",
       "\n",
       "  EnvironmentalIntensity(Sales)  Env_intensity  industry_avg  \\\n",
       "0                        -0.07%        -0.0007     -0.020506   \n",
       "1                        -0.12%        -0.0012     -0.028537   \n",
       "2                        -0.16%        -0.0016     -0.028537   \n",
       "3                        -0.15%        -0.0015     -0.028537   \n",
       "4                        -7.90%        -0.0790     -0.175838   \n",
       "\n",
       "   Industry_indicator  industry_avg_year  Industry_indicator_year  \n",
       "0                   1          -0.020740                        1  \n",
       "1                   1          -0.006402                        1  \n",
       "2                   1          -0.009838                        1  \n",
       "3                   1          -0.024437                        1  \n",
       "4                   1          -0.084583                        1  "
      ]
     },
     "execution_count": 6,
     "metadata": {},
     "output_type": "execute_result"
    }
   ],
   "source": [
    "def create_ind_year(df):\n",
    "    if(df['Env_intensity'] > df['industry_avg_year']):\n",
    "        return 1\n",
    "    elif (df['Env_intensity'] == df['industry_avg_year']):\n",
    "        return 0\n",
    "    elif (df['Env_intensity'] < df['industry_avg_year']):\n",
    "        return -1\n",
    "\n",
    "df['industry_avg_year'] = df.groupby(['Industry(Exiobase)','Year']).transform('mean')[['Env_intensity']]\n",
    "\n",
    "df['Industry_indicator_year'] = df.apply(create_ind_year, axis = 1)\n",
    "df.head()"
   ]
  },
  {
   "cell_type": "code",
   "execution_count": 7,
   "id": "mediterranean-league",
   "metadata": {
    "colab": {
     "base_uri": "https://localhost:8080/",
     "height": 0
    },
    {
     "data": {
      "text/html": [
       "<div>\n",
       "<style scoped>\n",
       "    .dataframe tbody tr th:only-of-type {\n",
       "        vertical-align: middle;\n",
       "    }\n",
       "\n",
       "    .dataframe tbody tr th {\n",
       "        vertical-align: top;\n",
       "    }\n",
       "\n",
       "    .dataframe thead th {\n",
       "        text-align: right;\n",
       "    }\n",
       "</style>\n",
       "<table border=\"1\" class=\"dataframe\">\n",
       "  <thead>\n",
       "    <tr style=\"text-align: right;\">\n",
       "      <th></th>\n",
       "      <th>ISIN</th>\n",
       "      <th>Year</th>\n",
       "      <th>CompanyName</th>\n",
       "      <th>Country</th>\n",
       "      <th>Industry(Exiobase)</th>\n",
       "      <th>EnvironmentalIntensity(Sales)</th>\n",
       "      <th>Env_intensity</th>\n",
       "      <th>industry_avg</th>\n",
       "      <th>Industry_indicator</th>\n",
       "      <th>industry_avg_year</th>\n",
       "      <th>Industry_indicator_year</th>\n",
       "    </tr>\n",
       "  </thead>\n",
       "  <tbody>\n",
       "    <tr>\n",
       "      <th>190</th>\n",
       "      <td>CH0012138605</td>\n",
       "      <td>2010</td>\n",
       "      <td>ADECCO GROUP AG</td>\n",
       "      <td>Switzerland</td>\n",
       "      <td>Activities auxiliary to financial intermediati...</td>\n",
       "      <td>-0.14%</td>\n",
       "      <td>-0.0014</td>\n",
       "      <td>-0.00491</td>\n",
       "      <td>1</td>\n",
       "      <td>-0.004490</td>\n",
       "      <td>1</td>\n",
       "    </tr>\n",
       "    <tr>\n",
       "      <th>2052</th>\n",
       "      <td>GB00B23K0M20</td>\n",
       "      <td>2010</td>\n",
       "      <td>CAPITA PLC</td>\n",
       "      <td>United Kingdom</td>\n",
       "      <td>Activities auxiliary to financial intermediati...</td>\n",
       "      <td>-0.40%</td>\n",
       "      <td>-0.0040</td>\n",
       "      <td>-0.00491</td>\n",
       "      <td>1</td>\n",
       "      <td>-0.004490</td>\n",
       "      <td>1</td>\n",
       "    </tr>\n",
       "    <tr>\n",
       "      <th>1919</th>\n",
       "      <td>FR0006174348</td>\n",
       "      <td>2010</td>\n",
       "      <td>BUREAU VERITAS SA</td>\n",
       "      <td>France</td>\n",
       "      <td>Activities auxiliary to financial intermediati...</td>\n",
       "      <td>-0.52%</td>\n",
       "      <td>-0.0052</td>\n",
       "      <td>-0.00491</td>\n",
       "      <td>-1</td>\n",
       "      <td>-0.004490</td>\n",
       "      <td>-1</td>\n",
       "    </tr>\n",
       "    <tr>\n",
       "      <th>3524</th>\n",
       "      <td>DE0005810055</td>\n",
       "      <td>2010</td>\n",
       "      <td>DEUTSCHE BOERSE AG</td>\n",
       "      <td>Germany</td>\n",
       "      <td>Activities auxiliary to financial intermediati...</td>\n",
       "      <td>-0.28%</td>\n",
       "      <td>-0.0028</td>\n",
       "      <td>-0.00491</td>\n",
       "      <td>1</td>\n",
       "      <td>-0.004490</td>\n",
       "      <td>1</td>\n",
       "    </tr>\n",
       "    <tr>\n",
       "      <th>1718</th>\n",
       "      <td>ES0115056139</td>\n",
       "      <td>2010</td>\n",
       "      <td>BOLSAS Y MERCADOS ESPANOLES SHMSF SA</td>\n",
       "      <td>Spain</td>\n",
       "      <td>Activities auxiliary to financial intermediati...</td>\n",
       "      <td>-0.26%</td>\n",
       "      <td>-0.0026</td>\n",
       "      <td>-0.00491</td>\n",
       "      <td>1</td>\n",
       "      <td>-0.004490</td>\n",
       "      <td>1</td>\n",
       "    </tr>\n",
       "    <tr>\n",
       "      <th>...</th>\n",
       "      <td>...</td>\n",
       "      <td>...</td>\n",
       "      <td>...</td>\n",
       "      <td>...</td>\n",
       "      <td>...</td>\n",
       "      <td>...</td>\n",
       "      <td>...</td>\n",
       "      <td>...</td>\n",
       "      <td>...</td>\n",
       "      <td>...</td>\n",
       "      <td>...</td>\n",
       "    </tr>\n",
       "    <tr>\n",
       "      <th>4428</th>\n",
       "      <td>GB00B19NLV48</td>\n",
       "      <td>2019</td>\n",
       "      <td>EXPERIAN PLC</td>\n",
       "      <td>United Kingdom</td>\n",
       "      <td>Activities auxiliary to financial intermediati...</td>\n",
       "      <td>-0.20%</td>\n",
       "      <td>-0.0020</td>\n",
       "      <td>-0.00491</td>\n",
       "      <td>1</td>\n",
       "      <td>0.002943</td>\n",
       "      <td>-1</td>\n",
       "    </tr>\n",
       "    <tr>\n",
       "      <th>979</th>\n",
       "      <td>FR0000074148</td>\n",
       "      <td>2019</td>\n",
       "      <td>ASSYSTEM SA</td>\n",
       "      <td>France</td>\n",
       "      <td>Activities auxiliary to financial intermediati...</td>\n",
       "      <td>-0.31%</td>\n",
       "      <td>-0.0031</td>\n",
       "      <td>-0.00491</td>\n",
       "      <td>1</td>\n",
       "      <td>0.002943</td>\n",
       "      <td>-1</td>\n",
       "    </tr>\n",
       "    <tr>\n",
       "      <th>3529</th>\n",
       "      <td>DE0005810055</td>\n",
       "      <td>2019</td>\n",
       "      <td>DEUTSCHE BOERSE AG</td>\n",
       "      <td>Germany</td>\n",
       "      <td>Activities auxiliary to financial intermediati...</td>\n",
       "      <td>1.88%</td>\n",
       "      <td>0.0188</td>\n",
       "      <td>-0.00491</td>\n",
       "      <td>1</td>\n",
       "      <td>0.002943</td>\n",
       "      <td>1</td>\n",
       "    </tr>\n",
       "    <tr>\n",
       "      <th>9793</th>\n",
       "      <td>GB0030232317</td>\n",
       "      <td>2019</td>\n",
       "      <td>PAGEGROUP PLC</td>\n",
       "      <td>United Kingdom</td>\n",
       "      <td>Activities auxiliary to financial intermediati...</td>\n",
       "      <td>-0.08%</td>\n",
       "      <td>-0.0008</td>\n",
       "      <td>-0.00491</td>\n",
       "      <td>1</td>\n",
       "      <td>0.002943</td>\n",
       "      <td>-1</td>\n",
       "    </tr>\n",
       "    <tr>\n",
       "      <th>1925</th>\n",
       "      <td>FR0006174348</td>\n",
       "      <td>2019</td>\n",
       "      <td>BUREAU VERITAS SA</td>\n",
       "      <td>France</td>\n",
       "      <td>Activities auxiliary to financial intermediati...</td>\n",
       "      <td>-0.70%</td>\n",
       "      <td>-0.0070</td>\n",
       "      <td>-0.00491</td>\n",
       "      <td>-1</td>\n",
       "      <td>0.002943</td>\n",
       "      <td>-1</td>\n",
       "    </tr>\n",
       "  </tbody>\n",
       "</table>\n",
       "<p>263 rows × 11 columns</p>\n",
       "</div>"
      ],
      "text/plain": [
       "              ISIN  Year                           CompanyName  \\\n",
       "190   CH0012138605  2010                       ADECCO GROUP AG   \n",
       "2052  GB00B23K0M20  2010                            CAPITA PLC   \n",
       "1919  FR0006174348  2010                     BUREAU VERITAS SA   \n",
       "3524  DE0005810055  2010                    DEUTSCHE BOERSE AG   \n",
       "1718  ES0115056139  2010  BOLSAS Y MERCADOS ESPANOLES SHMSF SA   \n",
       "...            ...   ...                                   ...   \n",
       "4428  GB00B19NLV48  2019                          EXPERIAN PLC   \n",
       "979   FR0000074148  2019                           ASSYSTEM SA   \n",
       "3529  DE0005810055  2019                    DEUTSCHE BOERSE AG   \n",
       "9793  GB0030232317  2019                         PAGEGROUP PLC   \n",
       "1925  FR0006174348  2019                     BUREAU VERITAS SA   \n",
       "\n",
       "             Country                                 Industry(Exiobase)  \\\n",
       "190      Switzerland  Activities auxiliary to financial intermediati...   \n",
       "2052  United Kingdom  Activities auxiliary to financial intermediati...   \n",
       "1919          France  Activities auxiliary to financial intermediati...   \n",
       "3524         Germany  Activities auxiliary to financial intermediati...   \n",
       "1718           Spain  Activities auxiliary to financial intermediati...   \n",
       "...              ...                                                ...   \n",
       "4428  United Kingdom  Activities auxiliary to financial intermediati...   \n",
       "979           France  Activities auxiliary to financial intermediati...   \n",
       "3529         Germany  Activities auxiliary to financial intermediati...   \n",
       "9793  United Kingdom  Activities auxiliary to financial intermediati...   \n",
       "1925          France  Activities auxiliary to financial intermediati...   \n",
       "\n",
       "     EnvironmentalIntensity(Sales)  Env_intensity  industry_avg  \\\n",
       "190                         -0.14%        -0.0014      -0.00491   \n",
       "2052                        -0.40%        -0.0040      -0.00491   \n",
       "1919                        -0.52%        -0.0052      -0.00491   \n",
       "3524                        -0.28%        -0.0028      -0.00491   \n",
       "1718                        -0.26%        -0.0026      -0.00491   \n",
       "...                            ...            ...           ...   \n",
       "4428                        -0.20%        -0.0020      -0.00491   \n",
       "979                         -0.31%        -0.0031      -0.00491   \n",
       "3529                         1.88%         0.0188      -0.00491   \n",
       "9793                        -0.08%        -0.0008      -0.00491   \n",
       "1925                        -0.70%        -0.0070      -0.00491   \n",
       "\n",
       "      Industry_indicator  industry_avg_year  Industry_indicator_year  \n",
       "190                    1          -0.004490                        1  \n",
       "2052                   1          -0.004490                        1  \n",
       "1919                  -1          -0.004490                       -1  \n",
       "3524                   1          -0.004490                        1  \n",
       "1718                   1          -0.004490                        1  \n",
       "...                  ...                ...                      ...  \n",
       "4428                   1           0.002943                       -1  \n",
       "979                    1           0.002943                       -1  \n",
       "3529                   1           0.002943                        1  \n",
       "9793                   1           0.002943                       -1  \n",
       "1925                  -1           0.002943                       -1  \n",
       "\n",
       "[263 rows x 11 columns]"
      ]
     },
     "execution_count": 7,
     "metadata": {},
     "output_type": "execute_result"
    }
   ],
   "source": [
    "df.loc[(df['Industry(Exiobase)'] == 'Activities auxiliary to financial intermediation (67)'),:].sort_values(by='Year')"
   ]
  },
  {
   "cell_type": "markdown",
   "id": "suffering-lambda",
   "metadata": {
    "id": "directed-workplace"
   },
   "source": [
    "### Creating Environmental growth\n",
    "\n",
    "Environmental Intensity Growth : ((Environmental Intensity in Current Year / Environmental Intensity Last Year) - 1) * 100"
   ]
  },
  {
   "cell_type": "code",
   "execution_count": 8,
   "id": "south-swiss",
   "metadata": {
    "colab": {
     "base_uri": "https://localhost:8080/",
     "height": 0
    },
    {
     "data": {
      "text/html": [
       "<div>\n",
       "<style scoped>\n",
       "    .dataframe tbody tr th:only-of-type {\n",
       "        vertical-align: middle;\n",
       "    }\n",
       "\n",
       "    .dataframe tbody tr th {\n",
       "        vertical-align: top;\n",
       "    }\n",
       "\n",
       "    .dataframe thead th {\n",
       "        text-align: right;\n",
       "    }\n",
       "</style>\n",
       "<table border=\"1\" class=\"dataframe\">\n",
       "  <thead>\n",
       "    <tr style=\"text-align: right;\">\n",
       "      <th></th>\n",
       "      <th>ISIN</th>\n",
       "      <th>Year</th>\n",
       "      <th>CompanyName</th>\n",
       "      <th>Country</th>\n",
       "      <th>Industry(Exiobase)</th>\n",
       "      <th>EnvironmentalIntensity(Sales)</th>\n",
       "      <th>Env_intensity</th>\n",
       "      <th>industry_avg</th>\n",
       "      <th>Industry_indicator</th>\n",
       "      <th>industry_avg_year</th>\n",
       "      <th>Industry_indicator_year</th>\n",
       "    </tr>\n",
       "  </thead>\n",
       "  <tbody>\n",
       "    <tr>\n",
       "      <th>0</th>\n",
       "      <td>DE0005545503</td>\n",
       "      <td>2016</td>\n",
       "      <td>1&amp;1 DRILLISCH AG</td>\n",
       "      <td>Germany</td>\n",
       "      <td>Post and telecommunications (64)</td>\n",
       "      <td>-0.07%</td>\n",
       "      <td>-0.0007</td>\n",
       "      <td>-0.020506</td>\n",
       "      <td>1</td>\n",
       "      <td>-0.020740</td>\n",
       "      <td>1</td>\n",
       "    </tr>\n",
       "    <tr>\n",
       "      <th>1</th>\n",
       "      <td>GB00B1YW4409</td>\n",
       "      <td>2010</td>\n",
       "      <td>3I GROUP PLC</td>\n",
       "      <td>United Kingdom</td>\n",
       "      <td>Financial intermediation, except insurance and...</td>\n",
       "      <td>-0.12%</td>\n",
       "      <td>-0.0012</td>\n",
       "      <td>-0.028537</td>\n",
       "      <td>1</td>\n",
       "      <td>-0.006402</td>\n",
       "      <td>1</td>\n",
       "    </tr>\n",
       "    <tr>\n",
       "      <th>2</th>\n",
       "      <td>GB00B1YW4409</td>\n",
       "      <td>2011</td>\n",
       "      <td>3I GROUP PLC</td>\n",
       "      <td>United Kingdom</td>\n",
       "      <td>Financial intermediation, except insurance and...</td>\n",
       "      <td>-0.16%</td>\n",
       "      <td>-0.0016</td>\n",
       "      <td>-0.028537</td>\n",
       "      <td>1</td>\n",
       "      <td>-0.009838</td>\n",
       "      <td>1</td>\n",
       "    </tr>\n",
       "    <tr>\n",
       "      <th>3</th>\n",
       "      <td>GB00B1YW4409</td>\n",
       "      <td>2012</td>\n",
       "      <td>3I GROUP PLC</td>\n",
       "      <td>United Kingdom</td>\n",
       "      <td>Financial intermediation, except insurance and...</td>\n",
       "      <td>-0.15%</td>\n",
       "      <td>-0.0015</td>\n",
       "      <td>-0.028537</td>\n",
       "      <td>1</td>\n",
       "      <td>-0.024437</td>\n",
       "      <td>1</td>\n",
       "    </tr>\n",
       "    <tr>\n",
       "      <th>4</th>\n",
       "      <td>US88579Y1010</td>\n",
       "      <td>2010</td>\n",
       "      <td>3M COMPANY</td>\n",
       "      <td>United States</td>\n",
       "      <td>Activities of membership organisation n.e.c. (91)</td>\n",
       "      <td>-7.90%</td>\n",
       "      <td>-0.0790</td>\n",
       "      <td>-0.175838</td>\n",
       "      <td>1</td>\n",
       "      <td>-0.084583</td>\n",
       "      <td>1</td>\n",
       "    </tr>\n",
       "  </tbody>\n",
       "</table>\n",
       "</div>"
      ],
      "text/plain": [
       "           ISIN  Year       CompanyName         Country  \\\n",
       "0  DE0005545503  2016  1&1 DRILLISCH AG         Germany   \n",
       "1  GB00B1YW4409  2010      3I GROUP PLC  United Kingdom   \n",
       "2  GB00B1YW4409  2011      3I GROUP PLC  United Kingdom   \n",
       "3  GB00B1YW4409  2012      3I GROUP PLC  United Kingdom   \n",
       "4  US88579Y1010  2010        3M COMPANY   United States   \n",
       "\n",
       "                                  Industry(Exiobase)  \\\n",
       "0                   Post and telecommunications (64)   \n",
       "1  Financial intermediation, except insurance and...   \n",
       "2  Financial intermediation, except insurance and...   \n",
       "3  Financial intermediation, except insurance and...   \n",
       "4  Activities of membership organisation n.e.c. (91)   \n",
       "\n",
       "  EnvironmentalIntensity(Sales)  Env_intensity  industry_avg  \\\n",
       "0                        -0.07%        -0.0007     -0.020506   \n",
       "1                        -0.12%        -0.0012     -0.028537   \n",
       "2                        -0.16%        -0.0016     -0.028537   \n",
       "3                        -0.15%        -0.0015     -0.028537   \n",
       "4                        -7.90%        -0.0790     -0.175838   \n",
       "\n",
       "   Industry_indicator  industry_avg_year  Industry_indicator_year  \n",
       "0                   1          -0.020740                        1  \n",
       "1                   1          -0.006402                        1  \n",
       "2                   1          -0.009838                        1  \n",
       "3                   1          -0.024437                        1  \n",
       "4                   1          -0.084583                        1  "
      ]
     },
     "execution_count": 8,
     "metadata": {},
     "output_type": "execute_result"
    }
   ],
   "source": [
    "df = df.sort_values(by=['CompanyName','Year'], ascending = True)\n",
    "df.head()"
   ]
  },
  {
   "cell_type": "code",
   "execution_count": 9,
   "id": "advised-celebrity",
   "metadata": {
    "colab": {
     "base_uri": "https://localhost:8080/",
     "height": 0
    },
    {
     "data": {
      "text/html": [
       "<div>\n",
       "<style scoped>\n",
       "    .dataframe tbody tr th:only-of-type {\n",
       "        vertical-align: middle;\n",
       "    }\n",
       "\n",
       "    .dataframe tbody tr th {\n",
       "        vertical-align: top;\n",
       "    }\n",
       "\n",
       "    .dataframe thead th {\n",
       "        text-align: right;\n",
       "    }\n",
       "</style>\n",
       "<table border=\"1\" class=\"dataframe\">\n",
       "  <thead>\n",
       "    <tr style=\"text-align: right;\">\n",
       "      <th></th>\n",
       "      <th>ISIN</th>\n",
       "      <th>Year</th>\n",
       "      <th>CompanyName</th>\n",
       "      <th>Country</th>\n",
       "      <th>Industry(Exiobase)</th>\n",
       "      <th>EnvironmentalIntensity(Sales)</th>\n",
       "      <th>Env_intensity</th>\n",
       "      <th>industry_avg</th>\n",
       "      <th>Industry_indicator</th>\n",
       "      <th>industry_avg_year</th>\n",
       "      <th>Industry_indicator_year</th>\n",
       "      <th>Environmental_Growth</th>\n",
       "    </tr>\n",
       "  </thead>\n",
       "  <tbody>\n",
       "    <tr>\n",
       "      <th>0</th>\n",
       "      <td>DE0005545503</td>\n",
       "      <td>2016</td>\n",
       "      <td>1&amp;1 DRILLISCH AG</td>\n",
       "      <td>Germany</td>\n",
       "      <td>Post and telecommunications (64)</td>\n",
       "      <td>-0.07%</td>\n",
       "      <td>-0.0007</td>\n",
       "      <td>-0.020506</td>\n",
       "      <td>1</td>\n",
       "      <td>-0.020740</td>\n",
       "      <td>1</td>\n",
       "      <td>NaN</td>\n",
       "    </tr>\n",
       "    <tr>\n",
       "      <th>1</th>\n",
       "      <td>GB00B1YW4409</td>\n",
       "      <td>2010</td>\n",
       "      <td>3I GROUP PLC</td>\n",
       "      <td>United Kingdom</td>\n",
       "      <td>Financial intermediation, except insurance and...</td>\n",
       "      <td>-0.12%</td>\n",
       "      <td>-0.0012</td>\n",
       "      <td>-0.028537</td>\n",
       "      <td>1</td>\n",
       "      <td>-0.006402</td>\n",
       "      <td>1</td>\n",
       "      <td>NaN</td>\n",
       "    </tr>\n",
       "    <tr>\n",
       "      <th>2</th>\n",
       "      <td>GB00B1YW4409</td>\n",
       "      <td>2011</td>\n",
       "      <td>3I GROUP PLC</td>\n",
       "      <td>United Kingdom</td>\n",
       "      <td>Financial intermediation, except insurance and...</td>\n",
       "      <td>-0.16%</td>\n",
       "      <td>-0.0016</td>\n",
       "      <td>-0.028537</td>\n",
       "      <td>1</td>\n",
       "      <td>-0.009838</td>\n",
       "      <td>1</td>\n",
       "      <td>33.333333</td>\n",
       "    </tr>\n",
       "    <tr>\n",
       "      <th>3</th>\n",
       "      <td>GB00B1YW4409</td>\n",
       "      <td>2012</td>\n",
       "      <td>3I GROUP PLC</td>\n",
       "      <td>United Kingdom</td>\n",
       "      <td>Financial intermediation, except insurance and...</td>\n",
       "      <td>-0.15%</td>\n",
       "      <td>-0.0015</td>\n",
       "      <td>-0.028537</td>\n",
       "      <td>1</td>\n",
       "      <td>-0.024437</td>\n",
       "      <td>1</td>\n",
       "      <td>-6.250000</td>\n",
       "    </tr>\n",
       "    <tr>\n",
       "      <th>4</th>\n",
       "      <td>US88579Y1010</td>\n",
       "      <td>2010</td>\n",
       "      <td>3M COMPANY</td>\n",
       "      <td>United States</td>\n",
       "      <td>Activities of membership organisation n.e.c. (91)</td>\n",
       "      <td>-7.90%</td>\n",
       "      <td>-0.0790</td>\n",
       "      <td>-0.175838</td>\n",
       "      <td>1</td>\n",
       "      <td>-0.084583</td>\n",
       "      <td>1</td>\n",
       "      <td>NaN</td>\n",
       "    </tr>\n",
       "  </tbody>\n",
       "</table>\n",
       "</div>"
      ],
      "text/plain": [
       "           ISIN  Year       CompanyName         Country  \\\n",
       "0  DE0005545503  2016  1&1 DRILLISCH AG         Germany   \n",
       "1  GB00B1YW4409  2010      3I GROUP PLC  United Kingdom   \n",
       "2  GB00B1YW4409  2011      3I GROUP PLC  United Kingdom   \n",
       "3  GB00B1YW4409  2012      3I GROUP PLC  United Kingdom   \n",
       "4  US88579Y1010  2010        3M COMPANY   United States   \n",
       "\n",
       "                                  Industry(Exiobase)  \\\n",
       "0                   Post and telecommunications (64)   \n",
       "1  Financial intermediation, except insurance and...   \n",
       "2  Financial intermediation, except insurance and...   \n",
       "3  Financial intermediation, except insurance and...   \n",
       "4  Activities of membership organisation n.e.c. (91)   \n",
       "\n",
       "  EnvironmentalIntensity(Sales)  Env_intensity  industry_avg  \\\n",
       "0                        -0.07%        -0.0007     -0.020506   \n",
       "1                        -0.12%        -0.0012     -0.028537   \n",
       "2                        -0.16%        -0.0016     -0.028537   \n",
       "3                        -0.15%        -0.0015     -0.028537   \n",
       "4                        -7.90%        -0.0790     -0.175838   \n",
       "\n",
       "   Industry_indicator  industry_avg_year  Industry_indicator_year  \\\n",
       "0                   1          -0.020740                        1   \n",
       "1                   1          -0.006402                        1   \n",
       "2                   1          -0.009838                        1   \n",
       "3                   1          -0.024437                        1   \n",
       "4                   1          -0.084583                        1   \n",
       "\n",
       "   Environmental_Growth  \n",
       "0                   NaN  \n",
       "1                   NaN  \n",
       "2             33.333333  \n",
       "3             -6.250000  \n",
       "4                   NaN  "
      ]
     },
     "execution_count": 9,
     "metadata": {},
     "output_type": "execute_result"
    }
   ],
   "source": [
    "df['Environmental_Growth'] = df.groupby(['CompanyName'])['Env_intensity'].apply(lambda x: x.pct_change()).to_numpy() * 100\n",
    "df.head()"
   ]
  },
  {
   "cell_type": "markdown",
   "id": "scheduled-communications",
   "metadata": {
    "id": "Teqthpuxe8MC"
   },
   "source": [
    "### Model 1 - Past years Environmental Intensity"
   ]
  },
  {
   "cell_type": "code",
   "execution_count": 10,
   "id": "thrown-masters",
   "metadata": {
    "id": "9f_QPBEQe8MC"
   },
   "outputs": [],
   "source": [
    "df1 = df.copy()"
   ]
  },
  {
   "cell_type": "code",
   "execution_count": 11,
   "id": "continued-groove",
   "metadata": {},
   "outputs": [],
   "source": [
    "def p2f(x):\n",
    "    return float(x.strip('%'))/100\n",
    "df1['EnvironmentalIntensity(Sales)'] = df1['EnvironmentalIntensity(Sales)'].apply(p2f)"
   ]
  },
  {
   "cell_type": "code",
   "execution_count": 12,
   "id": "eligible-emperor",
   "metadata": {
    "colab": {
     "base_uri": "https://localhost:8080/"
    },
    {
     "name": "stdout",
     "output_type": "stream",
     "text": [
      "R2 score: 0.8535746128153976\n",
      "MSE:  0.015251450150102281\n"
     ]
    }
   ],
   "source": [
    "companies_2018 = list(df1[df1['Year'] == 2018]['CompanyName'])\n",
    "companies_2019 = list(df1[(df1['Year'] == 2019) & (df1['CompanyName'].isin(companies_2018))]['CompanyName'])\n",
    "\n",
    "#Getting companies that are in both years\n",
    "list2018_as_set = set(companies_2018)\n",
    "intersection = list2018_as_set.intersection(companies_2019)\n",
    "\n",
    "X = df1[(df1['Year'] == 2018) & (df1['CompanyName'].isin(intersection))][['Env_intensity']]\n",
    "y = df1[(df1['Year'] == 2019) & (df1['CompanyName'].isin(intersection))][['Env_intensity']]\n",
    "\n",
    "X_train, X_test, y_train, y_test = train_test_split(\n",
    "    X, y, test_size=0.2, random_state=42)\n",
    "\n",
    "\n",
    "reg = LinearRegression().fit(X_train, y_train)\n",
    "\n",
    "y_pred = reg.predict(X_test)\n",
    "\n",
    "print('R2 score:', metrics.r2_score(y_test, y_pred))\n",
    "print('MSE: ', metrics.mean_squared_error(y_test, y_pred))\n"
   ]
  },
  {
   "cell_type": "code",
   "execution_count": 13,
   "id": "fatty-council",
   "metadata": {},
   "outputs": [
    {
     "data": {
      "image/png": "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\n",
      "text/plain": [
       "<Figure size 864x576 with 1 Axes>"
      ]
     },
     "metadata": {
      "needs_background": "light"
     },
     "output_type": "display_data"
    }
   ],
   "source": [
    "fig, ax = plt.subplots(figsize=(12,8))\n",
    "ax.scatter(y_test, y_pred, c='green')\n",
    "ax.plot([y_test.min(), y_test.max()], [y.min(), y.max()], 'k--', lw=4)\n",
    "ax.set_xlabel('Observed 2019 Environmental Intesity')\n",
    "ax.set_ylabel('Predicted 2019 Environmental Intesity')\n",
    "ax.set_title('Linear Regression- Predicting 2019 Environmental intensity using 2018');"
   ]
  },
  {
   "cell_type": "markdown",
   "id": "virtual-display",
   "metadata": {},
   "source": [
    "### Including Multiple Years"
   ]
  },
  {
   "cell_type": "markdown",
   "id": "american-papua",
   "metadata": {},
   "source": [
    "Starting with 2017 & 2018 to predict values in 2019"
   ]
  },
  {
   "cell_type": "code",
   "execution_count": 14,
   "id": "severe-dress",
   "metadata": {},
   "outputs": [
    {
     "name": "stdout",
     "output_type": "stream",
     "text": [
      "R2 score: 0.9640133945498272\n",
      "MSE:  0.0028344652171312934\n",
      "Adjusted R2:  0.8370169966442953\n"
     ]
    }
   ],
   "source": [
    "companies_2017 = list(df1[df1['Year'] == 2017]['CompanyName'])\n",
    "list2017_as_set = set(companies_2017)\n",
    "intersection2= list2017_as_set.intersection(intersection)\n",
    "\n",
    "X = df1[(df1['Year'].isin([2017, 2018])) & (df1['CompanyName'].isin(intersection2))][['CompanyName','EnvironmentalIntensity(Sales)']]\n",
    "X = X.groupby('CompanyName').mean()[['EnvironmentalIntensity(Sales)']]\n",
    "\n",
    "y = df1[(df1['Year'] == 2019) & (df1['CompanyName'].isin(intersection2))][['EnvironmentalIntensity(Sales)']]\n",
    "\n",
    "X_train, X_test, y_train, y_test = train_test_split(\n",
    "    X, y, test_size=0.2, random_state=42)\n",
    "\n",
    "\n",
    "reg = LinearRegression().fit(X_train, y_train)\n",
    "\n",
    "y_pred = reg.predict(X_test)\n",
    "\n",
    "\n",
    "print('R2 score:', metrics.r2_score(y_test, y_pred))\n",
    "print('MSE: ', metrics.mean_squared_error(y_test, y_pred))\n",
    "print('Adjusted R2: ', 1-(1-.83729)*(len(intersection2)-1)/(len(intersection2)-2-1))"
   ]
  },
  {
   "cell_type": "code",
   "execution_count": 15,
   "id": "adverse-aggregate",
   "metadata": {},
   "outputs": [
    {
     "data": {
      "image/png": "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\n",
      "text/plain": [
       "<Figure size 864x576 with 1 Axes>"
      ]
     },
     "metadata": {
      "needs_background": "light"
     },
     "output_type": "display_data"
    }
   ],
   "source": [
    "fig, ax = plt.subplots(figsize=(12,8))\n",
    "ax.scatter(y_test, y_pred, c='green')\n",
    "ax.plot([y_test.min(), y_test.max()], [y.min(), y.max()], 'k--', lw=4)\n",
    "ax.set_xlabel('Observed 2019 Environmental Intesity')\n",
    "ax.set_ylabel('Predicted 2019 Environmental Intesity')\n",
    "ax.set_title('Linear Regression- Predicting 2019 Environmental intensity using 2017 and 2018');"
   ]
  },
  {
   "cell_type": "markdown",
   "id": "round-contamination",
   "metadata": {},
   "source": [
    "We see that the results of this model are worse than our first model which predicted 2019 numbers with 2018. We go on to include 2017."
   ]
  },
  {
   "cell_type": "code",
   "execution_count": 16,
   "id": "straight-transportation",
   "metadata": {},
   "outputs": [
    {
     "name": "stdout",
     "output_type": "stream",
     "text": [
      "R2 score: 0.916454447105587\n",
      "MSE:  0.00421395537780839\n",
      "Adjusted R2:  0.9272047502356268\n"
     ]
    }
   ],
   "source": [
    "companies_2016 = list(df1[df1['Year'] == 2016]['CompanyName'])\n",
    "list2016_as_set = set(companies_2016)\n",
    "intersection3= list2016_as_set.intersection(intersection2)\n",
    "\n",
    "X = df1[(df1['Year'].isin([2016, 2017, 2018])) & (df1['CompanyName'].isin(intersection3))][['CompanyName','EnvironmentalIntensity(Sales)']]\n",
    "X = X.groupby('CompanyName').mean()[['EnvironmentalIntensity(Sales)']]\n",
    "\n",
    "y = df1[(df1['Year'] == 2019) & (df1['CompanyName'].isin(intersection3))][['EnvironmentalIntensity(Sales)']]\n",
    "\n",
    "X_train, X_test, y_train, y_test = train_test_split(\n",
    "    X, y, test_size=0.2, random_state=42)\n",
    "\n",
    "\n",
    "reg = LinearRegression().fit(X_train, y_train)\n",
    "\n",
    "y_pred = reg.predict(X_test)\n",
    "\n",
    "print('R2 score:', metrics.r2_score(y_test, y_pred))\n",
    "print('MSE: ', metrics.mean_squared_error(y_test, y_pred))\n",
    "print('Adjusted R2: ', 1-(1-.92741)*(len(intersection3)-1)/(len(intersection3)-3-1))"
   ]
  },
  {
   "cell_type": "markdown",
   "id": "loved-consumer",
   "metadata": {},
   "source": [
    "When we include 2016 both our R score and MSE improved."
   ]
  },
  {
   "cell_type": "code",
   "execution_count": 17,
   "id": "fifteen-heating",
   "metadata": {},
   "outputs": [
    {
     "data": {
      "image/png": "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\n",
      "text/plain": [
       "<Figure size 864x576 with 1 Axes>"
      ]
     },
     "metadata": {
      "needs_background": "light"
     },
     "output_type": "display_data"
    }
   ],
   "source": [
    "fig, ax = plt.subplots(figsize=(12,8))\n",
    "ax.scatter(y_test, y_pred, c='green')\n",
    "ax.plot([y_test.min(), y_test.max()], [y.min(), y.max()], 'k--', lw=4)\n",
    "ax.set_xlabel('Observed 2019 Environmental Intesity')\n",
    "ax.set_ylabel('Predicted 2019 Environmental Intesity')\n",
    "ax.set_title('Linear Regression- Predicting 2019 Environmental intensity using 2016 to 2018');"
   ]
  },
  {
   "cell_type": "markdown",
   "id": "continued-fiction",
   "metadata": {
    "id": "n67fJF-se8ME"
   },
   "source": [
    "### Model 2 - Past years average environmental intensity\n",
    "\n",
    "In this section, we will use the average environmental intensity of 2016-2018 to predict 2019 environmental intensity"
   ]
  },
  {
   "cell_type": "code",
   "execution_count": 18,
   "id": "british-solid",
   "metadata": {
    "id": "HCKgjKyDe8ME"
   },
   "outputs": [],
   "source": [
    "df2 = df.copy()\n",
    "EI_2016 = df2[df2['Year'] == 2016]\n",
    "EI_2017 = df2[df2['Year'] == 2017]\n",
    "EI_2018 = df2[df2['Year'] == 2018]\n",
    "EI_2019 = df2[df2['Year'] == 2019]"
   ]
  },
  {
   "cell_type": "code",
   "execution_count": 19,
   "id": "minor-twist",
   "metadata": {
    "id": "s5HULOeue8MF"
   },
   "outputs": [],
   "source": [
    "df_mod2 = EI_2016.merge(EI_2017, how='inner', on='CompanyName', suffixes=('_2016', '_2017'))\n",
    "df_mod2 = df_mod2.merge(EI_2018, how='inner', on='CompanyName')\n",
    "df_mod2 = df_mod2.merge(EI_2019, how='inner', on='CompanyName', suffixes=('_2018', '_2019'))"
   ]
  },
  {
   "cell_type": "code",
   "execution_count": 20,
   "id": "resident-hours",
   "metadata": {
    "id": "etVVWoUAe8MF"
   },
   "outputs": [],
   "source": [
    "df_mod2 = df_mod2[['CompanyName','Year_2016','Env_intensity_2016','Year_2017','Env_intensity_2017','Year_2018','Env_intensity_2018','Year_2019','Env_intensity_2019']]"
   ]
  },
  {
   "cell_type": "code",
   "execution_count": 21,
   "id": "intensive-packet",
   "metadata": {
    "colab": {
     "base_uri": "https://localhost:8080/",
     "height": 0
    },
    {
      "cell_type": "markdown",
      "metadata": {
        "id": "guided-skill"
      },
      "source": [
        "When we include 2016 both our R score and MSE improved."
      ],
      "id": "guided-skill"
    },
    {
      "cell_type": "code",
      "metadata": {
        "id": "collect-processing",
        "outputId": "60ae69ae-6721-41a4-ce3d-f73939db39b1"
      },
      "source": [
        "fig, ax = plt.subplots(figsize=(12,8))\n",
        "ax.scatter(y_test, y_pred, c='green')\n",
        "ax.plot([y_test.min(), y_test.max()], [y.min(), y.max()], 'k--', lw=4)\n",
        "ax.set_xlabel('Observed 2019 Environmental Intesity')\n",
        "ax.set_ylabel('Predicted 2019 Environmental Intesity')\n",
        "ax.set_title('Linear Regression- Predicting 2019 Environmental intensity using 2016 to 2018');"
      ],
      "id": "collect-processing",
      "execution_count": null,
      "outputs": [
        {
          "output_type": "display_data",
          "data": {
            "image/png": "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\n",
            "text/plain": [
              "<Figure size 864x576 with 1 Axes>"
            ]
          },
          "metadata": {
            "tags": [],
            "needs_background": "light"
          }
        }
      ]
     },
     "execution_count": 21,
     "metadata": {},
     "output_type": "execute_result"
    }
   ],
   "source": [
    "df_mod2.head()"
   ]
  },
  {
   "cell_type": "code",
   "execution_count": 22,
   "id": "deadly-kernel",
   "metadata": {
    "id": "9ijrBlmDe8MF"
   },
   "outputs": [],
   "source": [
    "df_melt2 = pd.melt(df_mod2, id_vars=['CompanyName'], value_vars=['Env_intensity_2016','Env_intensity_2016','Env_intensity_2017'],\n",
    "        var_name='myVarname', value_name='Environmental_intenrsity')"
   ]
  },
  {
   "cell_type": "code",
   "execution_count": 23,
   "id": "distinct-parcel",
   "metadata": {
    "colab": {
     "base_uri": "https://localhost:8080/",
     "height": 0
    },
    {
      "cell_type": "markdown",
      "metadata": {
        "id": "convertible-cocktail"
      },
      "source": [
        "### Model 2 - Past years average environmental intensity\n",
        "\n",
        "In this section, we will use the average environmental intensity of 2016-2018 to predict 2019 environmental intensity"
      ],
      "id": "convertible-cocktail"
    },
    {
      "cell_type": "code",
      "metadata": {
        "id": "dramatic-suite"
      },
      "source": [
        "df2 = df.copy()\n",
        "EI_2016 = df2[df2['Year'] == 2016]\n",
        "EI_2017 = df2[df2['Year'] == 2017]\n",
        "EI_2018 = df2[df2['Year'] == 2018]\n",
        "EI_2019 = df2[df2['Year'] == 2019]"
      ],
      "id": "dramatic-suite",
      "execution_count": null,
      "outputs": []
    },
    {
      "cell_type": "code",
      "metadata": {
        "id": "occupied-calculator"
      },
      "source": [
        "df_mod2 = EI_2016.merge(EI_2017, how='inner', on='CompanyName', suffixes=('_2016', '_2017'))\n",
        "df_mod2 = df_mod2.merge(EI_2018, how='inner', on='CompanyName')\n",
        "df_mod2 = df_mod2.merge(EI_2019, how='inner', on='CompanyName', suffixes=('_2018', '_2019'))"
      ],
      "id": "occupied-calculator",
      "execution_count": null,
      "outputs": []
    },
    {
      "cell_type": "code",
      "metadata": {
        "id": "macro-objective"
      },
      "source": [
        "df_mod2 = df_mod2[['CompanyName','Year_2016','Env_intensity_2016','Year_2017','Env_intensity_2017','Year_2018','Env_intensity_2018','Year_2019','Env_intensity_2019']]"
      ],
      "id": "macro-objective",
      "execution_count": null,
      "outputs": []
    },
    {
      "cell_type": "code",
      "metadata": {
        "colab": {
          "base_uri": "https://localhost:8080/"
        },
        "id": "fantastic-decimal",
        "outputId": "cbdecc1f-8097-452b-e5c3-2388ef6f05fb"
      },
      "source": [
        "df_mod2.head()"
      ],
      "id": "fantastic-decimal",
      "execution_count": null,
      "outputs": [
        {
          "output_type": "execute_result",
          "data": {
            "text/html": [
              "<div>\n",
              "<style scoped>\n",
              "    .dataframe tbody tr th:only-of-type {\n",
              "        vertical-align: middle;\n",
              "    }\n",
              "\n",
              "    .dataframe tbody tr th {\n",
              "        vertical-align: top;\n",
              "    }\n",
              "\n",
              "    .dataframe thead th {\n",
              "        text-align: right;\n",
              "    }\n",
              "</style>\n",
              "<table border=\"1\" class=\"dataframe\">\n",
              "  <thead>\n",
              "    <tr style=\"text-align: right;\">\n",
              "      <th></th>\n",
              "      <th>CompanyName</th>\n",
              "      <th>Year_2016</th>\n",
              "      <th>Env_intensity_2016</th>\n",
              "      <th>Year_2017</th>\n",
              "      <th>Env_intensity_2017</th>\n",
              "      <th>Year_2018</th>\n",
              "      <th>Env_intensity_2018</th>\n",
              "      <th>Year_2019</th>\n",
              "      <th>Env_intensity_2019</th>\n",
              "    </tr>\n",
              "  </thead>\n",
              "  <tbody>\n",
              "    <tr>\n",
              "      <th>0</th>\n",
              "      <td>3M COMPANY</td>\n",
              "      <td>2016</td>\n",
              "      <td>-0.0705</td>\n",
              "      <td>2017</td>\n",
              "      <td>-0.0660</td>\n",
              "      <td>2018</td>\n",
              "      <td>-0.0710</td>\n",
              "      <td>2019</td>\n",
              "      <td>-0.0641</td>\n",
              "    </tr>\n",
              "    <tr>\n",
              "      <th>1</th>\n",
              "      <td>A.G.V. PRODUCTS CORP</td>\n",
              "      <td>2016</td>\n",
              "      <td>-0.0170</td>\n",
              "      <td>2017</td>\n",
              "      <td>-0.0190</td>\n",
              "      <td>2018</td>\n",
              "      <td>-0.0140</td>\n",
              "      <td>2019</td>\n",
              "      <td>-0.0172</td>\n",
              "    </tr>\n",
              "    <tr>\n",
              "      <th>2</th>\n",
              "      <td>AA PLC</td>\n",
              "      <td>2016</td>\n",
              "      <td>-0.0130</td>\n",
              "      <td>2017</td>\n",
              "      <td>-0.0124</td>\n",
              "      <td>2018</td>\n",
              "      <td>-0.0117</td>\n",
              "      <td>2019</td>\n",
              "      <td>-0.0070</td>\n",
              "    </tr>\n",
              "    <tr>\n",
              "      <th>3</th>\n",
              "      <td>AAC TECHNOLOGIES HOLDINGS INCORPORATION</td>\n",
              "      <td>2016</td>\n",
              "      <td>-0.0389</td>\n",
              "      <td>2017</td>\n",
              "      <td>-0.0591</td>\n",
              "      <td>2018</td>\n",
              "      <td>-0.0802</td>\n",
              "      <td>2019</td>\n",
              "      <td>-0.1080</td>\n",
              "    </tr>\n",
              "    <tr>\n",
              "      <th>4</th>\n",
              "      <td>AAREAL BANK AG</td>\n",
              "      <td>2016</td>\n",
              "      <td>-0.0024</td>\n",
              "      <td>2017</td>\n",
              "      <td>-0.0021</td>\n",
              "      <td>2018</td>\n",
              "      <td>-0.0019</td>\n",
              "      <td>2019</td>\n",
              "      <td>-0.0015</td>\n",
              "    </tr>\n",
              "  </tbody>\n",
              "</table>\n",
              "</div>"
            ],
            "text/plain": [
              "                               CompanyName  Year_2016  Env_intensity_2016  \\\n",
              "0                               3M COMPANY       2016             -0.0705   \n",
              "1                     A.G.V. PRODUCTS CORP       2016             -0.0170   \n",
              "2                                   AA PLC       2016             -0.0130   \n",
              "3  AAC TECHNOLOGIES HOLDINGS INCORPORATION       2016             -0.0389   \n",
              "4                           AAREAL BANK AG       2016             -0.0024   \n",
              "\n",
              "   Year_2017  Env_intensity_2017  Year_2018  Env_intensity_2018  Year_2019  \\\n",
              "0       2017             -0.0660       2018             -0.0710       2019   \n",
              "1       2017             -0.0190       2018             -0.0140       2019   \n",
              "2       2017             -0.0124       2018             -0.0117       2019   \n",
              "3       2017             -0.0591       2018             -0.0802       2019   \n",
              "4       2017             -0.0021       2018             -0.0019       2019   \n",
              "\n",
              "   Env_intensity_2019  \n",
              "0             -0.0641  \n",
              "1             -0.0172  \n",
              "2             -0.0070  \n",
              "3             -0.1080  \n",
              "4             -0.0015  "
            ]
          },
          "metadata": {
            "tags": []
          },
          "execution_count": 21
        }
      ]
     },
     "execution_count": 23,
     "metadata": {},
     "output_type": "execute_result"
    }
   ],
   "source": [
    "df_melt2.head()"
   ]
  },
  {
   "cell_type": "code",
   "execution_count": 24,
   "id": "graduate-industry",
   "metadata": {
    "colab": {
     "base_uri": "https://localhost:8080/"
    },
    {
     "name": "stdout",
     "output_type": "stream",
     "text": [
      "(1065, 1)\n",
      "(1065, 1)\n"
     ]
    }
   ],
   "source": [
    "ei_avg = df_melt2.groupby('CompanyName').mean().reset_index()\n",
    "X = ei_avg[['Environmental_intenrsity']]\n",
    "y = df_mod2[['Env_intensity_2019']]\n",
    "\n",
    "print(X.shape)\n",
    "print(y.shape)"
   ]
  },
  {
   "cell_type": "code",
   "execution_count": 25,
   "id": "intellectual-necklace",
   "metadata": {
    "colab": {
     "base_uri": "https://localhost:8080/"
    },
    {
     "name": "stdout",
     "output_type": "stream",
     "text": [
      "0.006269966737857914\n"
     ]
    }
   ],
   "source": [
    "x_train, x_test, y_train, y_test = train_test_split(X ,y, test_size = 0.2, random_state = 42)\n",
    "# train Linear Regression\n",
    "LRtrainer = LinearRegression()\n",
    "LRtrainer.fit(x_train,y_train)\n",
    "\n",
    "# mse for linear regression\n",
    "y_pred_lr = LRtrainer.predict(x_test)\n",
    "print(metrics.mean_squared_error(y_pred_lr, y_test))"
   ]
  },
  {
   "cell_type": "code",
   "execution_count": 26,
   "id": "dying-jacob",
   "metadata": {
    "colab": {
     "base_uri": "https://localhost:8080/"
    },
    {
     "name": "stdout",
     "output_type": "stream",
     "text": [
      "Model intercept:  [-0.0051724]\n",
      "Model coefficients:  [[0.80432622]]\n"
     ]
    }
   ],
   "source": [
    "# display the parameters\n",
    "print('Model intercept: ', LRtrainer.intercept_)\n",
    "print('Model coefficients: ', LRtrainer.coef_)"
   ]
  },
  {
   "cell_type": "code",
   "execution_count": 27,
   "id": "sorted-screw",
   "metadata": {
    "colab": {
     "base_uri": "https://localhost:8080/"
    },
    {
     "name": "stdout",
     "output_type": "stream",
     "text": [
      "R2 score: 0.8756921251462437\n"
     ]
    }
   ],
   "source": [
    "print('R2 score:', metrics.r2_score(y_test, y_pred_lr))"
   ]
  },
  {
   "cell_type": "code",
   "execution_count": 28,
   "id": "unlimited-medline",
   "metadata": {},
   "outputs": [
    {
      "cell_type": "code",
      "metadata": {
        "colab": {
          "base_uri": "https://localhost:8080/"
        },
        "id": "weird-crystal",
        "outputId": "defc0d4c-2364-4333-d7b4-5eb672a44b1d"
      },
      "source": [
        "# display the parameters\n",
        "print('Model intercept: ', LRtrainer.intercept_)\n",
        "print('Model coefficients: ', LRtrainer.coef_)"
      ],
      "id": "weird-crystal",
      "execution_count": null,
      "outputs": [
        {
          "output_type": "stream",
          "text": [
            "Model intercept:  [-0.0051724]\n",
            "Model coefficients:  [[0.80432622]]\n"
          ],
          "name": "stdout"
        }
      ]
     },
     "metadata": {
      "needs_background": "light"
     },
     "output_type": "display_data"
    }
   ],
   "source": [
    "fig, ax = plt.subplots(figsize=(12,8))\n",
    "ax.scatter(y_test, y_pred_lr, c='green')\n",
    "ax.plot([y_test.min(), y_test.max()], [y.min(), y.max()], 'k--', lw=4)\n",
    "ax.set_xlabel('Observed 2019 Environmental Intesity')\n",
    "ax.set_ylabel('Predicted 2019 Environmental Intesity')\n",
    "ax.set_title('Linear Regression- Predicting 2019 Environmental intensity using the companies average environmental intensity from past years (2016-2018)');"
   ]
  },
  {
   "cell_type": "markdown",
   "id": "desirable-proposal",
   "metadata": {
    "id": "EWMa_YonOz5P"
   },
   "source": [
    "### Model 3 - Yearly Industry Average\n",
    "\n",
    "For this model, the predictor will be the industry average for the respective year. \n",
    "There is no data for 2020, so we plan to predict 2019 environmental intensity.  Accordingly, we used 2018 and 2017 Industry data (past data) to predict 2019 evronmental intensity. "
   ]
  },
  {
   "cell_type": "code",
   "execution_count": 29,
   "id": "flexible-seventh",
   "metadata": {
    "colab": {
     "base_uri": "https://localhost:8080/",
     "height": 296
    },
    {
      "cell_type": "code",
      "metadata": {
        "colab": {
          "base_uri": "https://localhost:8080/"
        },
        "id": "adjusted-demonstration",
        "outputId": "463c674a-cc9f-4e5c-b4bd-099246ee16dc"
      },
      "source": [
        "print('R2 score:', metrics.r2_score(y_test, y_pred_lr))"
      ],
      "id": "adjusted-demonstration",
      "execution_count": null,
      "outputs": [
        {
          "output_type": "stream",
          "text": [
            "R2 score: 0.8756921251462437\n"
          ],
          "name": "stdout"
        }
      ]
    },
    {
      "cell_type": "code",
      "metadata": {
        "id": "loose-lithuania",
        "outputId": "7313ddde-d5cf-4667-bac8-1fa05d375444"
      },
      "source": [
        "fig, ax = plt.subplots(figsize=(12,8))\n",
        "ax.scatter(y_test, y_pred_lr, c='green')\n",
        "ax.plot([y_test.min(), y_test.max()], [y.min(), y.max()], 'k--', lw=4)\n",
        "ax.set_xlabel('Observed 2019 Environmental Intesity')\n",
        "ax.set_ylabel('Predicted 2019 Environmental Intesity')\n",
        "ax.set_title('Linear Regression- Predicting 2019 Environmental intensity using the companies average environmental intensity from past years (2016-2018)');"
      ],
      "id": "loose-lithuania",
      "execution_count": null,
      "outputs": [
        {
          "output_type": "display_data",
          "data": {
            "image/png": "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\n",
            "text/plain": [
              "<Figure size 864x576 with 1 Axes>"
            ]
          },
          "metadata": {
            "tags": [],
            "needs_background": "light"
          }
        }
      ]
     },
     "metadata": {
      "needs_background": "light"
     },
     "output_type": "display_data"
    }
   ],
   "source": [
    "sns.countplot(x='Year', data = df)"
   ]
  },
  {
   "cell_type": "markdown",
   "id": "engaged-official",
   "metadata": {
    "id": "ShjWYuXLe8MI"
   },
   "source": [
    "The dataset does not contain consistent records throught out the years. Therefore, it could be possible we have data for one company in 2019 but not data from that company in 2018, 2017, etc. \n",
    "\n",
    "We will start by only using 2018 industry average as a feature to predict 2019 environmental intensity. First, we will subset the companies that we have 2018 data and get their 2019 environmental intensity. Also, we will keep the industries that have more than 3 companies assigned to them. "
   ]
  },
  {
   "cell_type": "code",
   "execution_count": 30,
   "id": "organized-incident",
   "metadata": {},
   "outputs": [],
   "source": [
    "df_industry = df.groupby('Industry(Exiobase)').count()['CompanyName'].reset_index()\n",
    "\n",
    "industries = df_industry[df_industry['CompanyName'] > 3]['Industry(Exiobase)']"
   ]
  },
  {
   "cell_type": "code",
   "execution_count": 31,
   "id": "familiar-yemen",
   "metadata": {},
   "outputs": [
    {
      "cell_type": "markdown",
      "metadata": {
        "id": "geological-steam"
      },
      "source": [
        "### Model 3 - Yearly Industry Average\n",
        "\n",
        "For this model, the predictor will be the industry average for the respective year. \n",
        "There is no data for 2020, so we plan to predict 2019 environmental intensity.  Accordingly, we used 2018 and 2017 Industry data (past data) to predict 2019 evronmental intensity. "
      ],
      "id": "geological-steam"
    },
    {
      "cell_type": "code",
      "metadata": {
        "colab": {
          "base_uri": "https://localhost:8080/",
          "height": 296
        },
        "id": "aware-frank",
        "outputId": "d0318855-b124-4dcb-ec7c-727f52d3368a"
      },
      "source": [
        "sns.countplot(x='Year', data = df)"
      ],
      "id": "aware-frank",
      "execution_count": null,
      "outputs": [
        {
          "output_type": "execute_result",
          "data": {
            "text/plain": [
              "<AxesSubplot:xlabel='Year', ylabel='count'>"
            ]
          },
          "metadata": {
            "tags": []
          },
          "execution_count": 29
        },
        {
          "output_type": "display_data",
          "data": {
            "image/png": "iVBORw0KGgoAAAANSUhEUgAAAYsAAAEGCAYAAACUzrmNAAAAOXRFWHRTb2Z0d2FyZQBNYXRwbG90bGliIHZlcnNpb24zLjMuNCwgaHR0cHM6Ly9tYXRwbG90bGliLm9yZy8QVMy6AAAACXBIWXMAAAsTAAALEwEAmpwYAAAWcklEQVR4nO3df7RdZX3n8ffHBBDxByBXigQadKIWGQ2SoUxVypRWgamAjDKwRkFrG10Fl07b6cJxrUpxsdbUSp2qLV1YouIPLIoIdaiA1AXTThFuMEACUoKgJBOSFKxYrSjwnT/OvsMx3pt9bnLOPifc92utvc4+z97n2d+c3ORz97Ofs0+qCkmStudp4y5AkjT5DAtJUivDQpLUyrCQJLUyLCRJrRaPu4BR2W+//Wrp0qXjLkOSdhmrV6/+p6qamm3bUzYsli5dyvT09LjLkKRdRpJvz7XNYShJUivDQpLUamRhkWRVki1J1va1/VWSNc1yf5I1TfvSJP/at+0v+l5zRJI7kqxP8uEkGVXNkqTZjfKaxSeAjwKXzDRU1X+eWU9yAfC9vv3vrarls/RzIfBbwNeBq4HjgL8ZfrmSpLmM7Myiqm4EHp5tW3N2cCpw6fb6SHIA8Oyquql6N7G6BDh5yKVKklqM65rFq4HNVXVPX9shSb6R5IYkr27aDgQ29O2zoWmbVZKVSaaTTG/dunX4VUvSAjWusDidnz6r2AQcXFWHA78DfDbJs+fbaVVdVFUrqmrF1NSsU4UlSTug889ZJFkMnAIcMdNWVY8Cjzbrq5PcC7wI2Ags6Xv5kqZNktShcZxZ/Crwzar6/8NLSaaSLGrWXwAsA75VVZuAR5Ic1VznOAO4cgw1S9KCNrIziySXAscA+yXZALyvqi4GTuNnL2wfDZyX5CfAE8A7qmrm4vhv05tZtSe9WVDOhJKegs4999yn5LF2xMu/cE1nx7rtDa8daL+RhUVVnT5H+1tmabscuHyO/aeBw4ZanCRpXvwEtySplWEhSWplWEiSWj1lb1EuSTviss8f2dmxTn3jzZ0da2d5ZiFJauWZhSTuOv9vOzvWL7z3Vzo7lobHMwtJUivDQpLUyrCQJLUyLCRJrQwLSVIrw0KS1MqwkCS1MiwkSa0MC0lSK8NCktTKsJAktTIsJEmtDAtJUivDQpLUyrCQJLUaWVgkWZVkS5K1fW3nJtmYZE2znNC37T1J1ie5O8lr+9qPa9rWJzlnVPVKkuY2yjOLTwDHzdL+oapa3ixXAyQ5FDgNeGnzmj9PsijJIuDPgOOBQ4HTm30lSR0a2TflVdWNSZYOuPtJwOeq6lHgviTrgZkvwl1fVd8CSPK5Zt87h12vNA7nv+kNnR3rvZ/+QmfH0lPPOK5ZnJ3k9maYap+m7UDggb59NjRtc7VLkjrUdVhcCLwQWA5sAi4YZudJViaZTjK9devWYXYtSQtap2FRVZur6vGqegL4GE8ONW0EDurbdUnTNlf7XP1fVFUrqmrF1NTUcIuXpAWs07BIckDf09cDMzOlrgJOS7JHkkOAZcDNwC3AsiSHJNmd3kXwq7qsWZI0wgvcSS4FjgH2S7IBeB9wTJLlQAH3A28HqKp1SS6jd+H6MeCsqnq86eds4BpgEbCqqtaNqmZJ0uxGORvq9FmaL97O/ucD58/SfjVw9RBLkyTN08jCQpp0H/3dv+7sWGdf8LrOjiWNgrf7kCS1MiwkSa0MC0lSK8NCktTKsJAktTIsJEmtDAtJUivDQpLUyrCQJLXyE9zq3A1H/3Jnx/rlG2/o7FjSU5lnFpKkVoaFJKmVYSFJamVYSJJaGRaSpFaGhSSplWEhSWplWEiSWhkWkqRWhoUkqdXIwiLJqiRbkqzta/vjJN9McnuSK5Ls3bQvTfKvSdY0y1/0veaIJHckWZ/kw0kyqpolSbMb5ZnFJ4Djtmm7Djisql4G/CPwnr5t91bV8mZ5R1/7hcBvAcuaZds+JUkjNrKwqKobgYe3abu2qh5rnt4ELNleH0kOAJ5dVTdVVQGXACePoFxJ0naM85rFbwB/0/f8kCTfSHJDklc3bQcCG/r22dC0SZI6NJZblCd5L/AY8JmmaRNwcFU9lOQI4EtJXroD/a4EVgIcfPDBwyr3KeWVH3llZ8f6+3f+fWfHkjRanZ9ZJHkL8OvAf2mGlqiqR6vqoWZ9NXAv8CJgIz89VLWkaZtVVV1UVSuqasXU1NSI/gSStPB0GhZJjgN+Hzixqn7Y1z6VZFGz/gJ6F7K/VVWbgEeSHNXMgjoDuLLLmiVJIxyGSnIpcAywX5INwPvozX7aA7iumQF7UzPz6WjgvCQ/AZ4A3lFVMxfHf5vezKo96V3j6L/OIUnqwMjCoqpOn6X54jn2vRy4fI5t08BhQyxNkjRPfoJbktTKsJAktTIsJEmtDAtJUivDQpLUyrCQJLUyLCRJrQwLSVIrw0KS1MqwkCS1MiwkSa0MC0lSK8NCktRqLN+UtxB957x/29mxDv6DOzo7lqSFwTMLSVIrw0KS1MqwkCS1MiwkSa0MC0lSK8NCktRqQUydPeK/XdLZsVb/8RmdHUuSujLSM4skq5JsSbK2r23fJNcluad53KdpT5IPJ1mf5PYkr+h7zZnN/vckOXOUNUuSftaoh6E+ARy3Tds5wPVVtQy4vnkOcDywrFlWAhdCL1yA9wG/CBwJvG8mYCRJ3RhpWFTVjcDD2zSfBHyyWf8kcHJf+yXVcxOwd5IDgNcC11XVw1X1XeA6fjaAJEkjNI4L3PtX1aZm/UFg/2b9QOCBvv02NG1ztUuSOjJQWCS5fpC2+aqqAmpn+5mRZGWS6STTW7duHVa3krTgbTcskjy9uWawX5J9movT+yZZyo7/dr+5GV6iedzStG8EDurbb0nTNlf7z6iqi6pqRVWtmJqa2sHyJEnbajuzeDuwGnhJ8zizXAl8dAePeRUwM6PpzKavmfYzmllRRwHfa4arrgFe04TVPsBrmjZJUke2+zmLqvpT4E+TvLOqPjLfzpNcChxD78xkA71ZTf8DuCzJ24BvA6c2u18NnACsB34IvLWp4eEk7wduafY7r6q2vWguSRqhgT6UV1UfSfJLwNL+11TVdj/tVlWnz7Hp2Fn2LeCsOfpZBawapFZJ0vANFBZJPgW8EFgDPN40F9DdR6MlSWMz6O0+VgCHNr/9S5IWmEE/Z7EW+LlRFiJJmlyDnlnsB9yZ5Gbg0ZnGqjpxJFVJkibKoGFx7iiLkCRNtkFnQ90w6kIkSZNr0NlQ3+fJ23LsDuwG/KCqnj2qwiRJk2PQM4tnzawnCb07xB41qqIkSZNl3nedbW4h/iV6tw6XJC0Agw5DndL39Gn0Pnfxo5FUJEmaOIPOhnpd3/pjwP30hqIkSQvAoNcs3jrqQiRJk2vQLz9akuSKJFua5fIkS0ZdnCRpMgx6gfvj9L5v4vnN8tdNmyRpARg0LKaq6uNV9VizfALwq+gkaYEYNCweSvKmJIua5U3AQ6MsTJI0OQYNi9+g9412DwKbgDcAbxlRTZKkCTPo1NnzgDOr6rsASfYFPkgvRCRJT3GDnlm8bCYooPe92MDhoylJkjRpBg2LpyXZZ+ZJc2Yx6FmJJGkXN+h/+BcA/5Dk883zNwLnj6YkSdKkGejMoqouAU4BNjfLKVX1qR05YJIXJ1nTtzyS5N1Jzk2ysa/9hL7XvCfJ+iR3J/EGhpLUsYGHkqrqTuDOnT1gVd0NLAdIsgjYCFwBvBX4UFV9sH//JIcCpwEvpfeBwK8meVFVPb6ztUiSBjPvW5QP2bHAvVX17e3scxLwuap6tKruA9YDR3ZSnSQJGH9YnAZc2vf87CS3J1nVd0H9QOCBvn02NG2SpI6MLSyS7A6cCMxcNL8QeCG9IapN9C6qz7fPlUmmk0xv3bp1WKVK0oI3zjOL44Fbq2ozQFVtrqrHq+oJ4GM8OdS0ETio73VLmrafUVUXVdWKqloxNeWtqyRpWMYZFqfTNwSV5IC+ba8H1jbrVwGnJdkjySHAMuDmzqqUJI3ng3VJ9gJ+DXh7X/MHkiwHit438b0doKrWJbmM3kysx4CznAklSd0aS1hU1Q+A527T9ubt7H8+fghQksZm3LOhJEm7AMNCktTKsJAktTIsJEmtDAtJUivDQpLUyrCQJLUyLCRJrQwLSVIrw0KS1MqwkCS1MiwkSa0MC0lSK8NCktTKsJAktTIsJEmtDAtJUivDQpLUyrCQJLUyLCRJrQwLSVIrw0KS1GpsYZHk/iR3JFmTZLpp2zfJdUnuaR73adqT5MNJ1ie5PckrxlW3JC1E4z6z+A9VtbyqVjTPzwGur6plwPXNc4DjgWXNshK4sPNKJWkBG3dYbOsk4JPN+ieBk/vaL6mem4C9kxwwhvokaUEaZ1gUcG2S1UlWNm37V9WmZv1BYP9m/UDggb7XbmjafkqSlUmmk0xv3bp1VHVL0oKzeIzHflVVbUzyPOC6JN/s31hVlaTm02FVXQRcBLBixYp5vVaSNLexnVlU1cbmcQtwBXAksHlmeKl53NLsvhE4qO/lS5o2SVIHxhIWSfZK8qyZdeA1wFrgKuDMZrczgSub9auAM5pZUUcB3+sbrpIkjdi4hqH2B65IMlPDZ6vqK0luAS5L8jbg28Cpzf5XAycA64EfAm/tvmRJWrjGEhZV9S3g5bO0PwQcO0t7AWd1UJokaRaTNnVWkjSBDAtJUivDQpLUyrCQJLUyLCRJrQwLSVIrw0KS1MqwkCS1MiwkSa0MC0lSK8NCktTKsJAktTIsJEmtDAtJUivDQpLUyrCQJLUyLCRJrQwLSVIrw0KS1MqwkCS1MiwkSa06D4skByX5WpI7k6xL8q6m/dwkG5OsaZYT+l7zniTrk9yd5LVd1yxJC93iMRzzMeB3q+rWJM8CVie5rtn2oar6YP/OSQ4FTgNeCjwf+GqSF1XV451WLUkLWOdnFlW1qapubda/D9wFHLidl5wEfK6qHq2q+4D1wJGjr1SSNGOs1yySLAUOB77eNJ2d5PYkq5Ls07QdCDzQ97INzBEuSVYmmU4yvXXr1lGVLUkLztjCIskzgcuBd1fVI8CFwAuB5cAm4IL59llVF1XViqpaMTU1NcxyJWlBG0tYJNmNXlB8pqq+CFBVm6vq8ap6AvgYTw41bQQO6nv5kqZNktSRccyGCnAxcFdV/Ulf+wF9u70eWNusXwWclmSPJIcAy4Cbu6pXkjSe2VCvBN4M3JFkTdP234HTkywHCrgfeDtAVa1LchlwJ72ZVGc5E0qSutV5WFTV3wGZZdPV23nN+cD5IytKkrRdfoJbktTKsJAktTIsJEmtDAtJUivDQpLUyrCQJLUyLCRJrQwLSVIrw0KS1MqwkCS1MiwkSa0MC0lSK8NCktTKsJAktTIsJEmtDAtJUivDQpLUyrCQJLUyLCRJrQwLSVIrw0KS1GqXCYskxyW5O8n6JOeMux5JWkh2ibBIsgj4M+B44FDg9CSHjrcqSVo4domwAI4E1lfVt6rqx8DngJPGXJMkLRipqnHX0CrJG4Djquo3m+dvBn6xqs7eZr+VwMrm6YuBu3fisPsB/7QTrx+WSahjEmqAyahjEmqAyahjEmqAyahjEmqAna/j56tqarYNi3ei04lTVRcBFw2jryTTVbViGH3t6nVMQg2TUsck1DApdUxCDZNSxyTUMOo6dpVhqI3AQX3PlzRtkqQO7CphcQuwLMkhSXYHTgOuGnNNkrRg7BLDUFX1WJKzgWuARcCqqlo34sMOZThrCCahjkmoASajjkmoASajjkmoASajjkmoAUZYxy5xgVuSNF67yjCUJGmMDAtJUqsFExZJDkrytSR3JlmX5F1N+75JrktyT/O4T9P+kiT/kOTRJL+3TV87fOuRIdexKsmWJGvHUcNc/YyhjqcnuTnJbU0/f9h1DX39LUryjSRfHsd70Wy7P8kdSdYkmR5TDXsn+UKSbya5K8m/77qOJC9u3oOZ5ZEk7x7De/Ffmz7WJrk0ydO7fi+abe9qalg36PvwU6pqQSzAAcArmvVnAf9I79YhHwDOadrPAf6oWX8e8O+A84Hf6+tnEXAv8AJgd+A24NCu62i2HQ28Alg7pvdi1n7GUEeAZzbruwFfB47q+u+j2f47wGeBL4/j76TZdj+w37j+jTTbPgn8ZrO+O7D3OOrY5t/tg/Q+dNblz+aBwH3Ans3zy4C3jOHfyGHAWuAZ9CY2fRX4N/P5+VgwZxZVtamqbm3Wvw/cRe8v8iR6P9g0jyc3+2ypqluAn2zT1U7demSIdVBVNwIPD3rsYdewnX66rqOq6l+ap7s1y0AzN4b595FkCfAfgb8c5NijqmNHDauGJM+h94vMxc1+P66qf+66jm0cC9xbVd8eQw2LgT2TLKb3n/X/HaSGIdfxC8DXq+qHVfUYcANwyqB1wAIahuqXZClwOL3fQPevqk3NpgeB/VtefiDwQN/zDczjP8gh1jEUw6phm346r6MZ/lkDbAGuq6p51zGE9+J/Ar8PPDHfYw+5jgKuTbI6vVvgdF3DIcBW4OPNkNxfJtlrDHX0Ow24tOsaqmoj8EHgO8Am4HtVdW3XddA7q3h1kucmeQZwAj/9QedWCy4skjwTuBx4d1U90r+teudrncwlnoQ6hlXD9vrpqo6qeryqltP7dP+RSQ7rsoYkvw5sqarV8znusOtovKqqXkHvLs1nJTm64xoW0xsevbCqDgd+QG+oZF6G+PO5O3Ai8Pmua2iuJZxEL0CfD+yV5E1d11FVdwF/BFwLfAVYAzw+nxoWVFgk2Y3eG/6Zqvpi07w5yQHN9gPo/Wa6PTt965Eh1bFThlXDHP10XseMZrjja8BxHdfwSuDEJPfTG5r8lSSfHrSGIdYx89ssVbUFuILe0GmXNWwANvSd3X2BXngMbMg/F8cDt1bV5jHU8KvAfVW1tap+AnwR+KUx1EFVXVxVR1TV0cB36V3/GNiCCYskoTeGeldV/UnfpquAM5v1M4ErW7raqVuPDLGOHTasGrbTT9d1TCXZu1nfE/g14Jtd1lBV76mqJVW1lN7PxN9W1cC/QQ7xvdgrybNm1oHX0BuC6KyGqnoQeCDJi5umY4E7B6lhmHX0OZ15DkENsYbvAEcleUbT57H0rjt0XQdJntc8HkzvesVnB60DWFCzoV5F71TtdnqnYGvojds9F7geuIfeDIF9m/1/jt5vSI8A/9ysP7vZdgK9VL4XeO8Y67iU3jjoT5r2t3VZw1z9dP1eAC8DvtH0sxb4g3H8ffT1eQzznw01rPfiBfRm6N0GrGMeP5/DfC+A5cB009eXgH3GVMdewEPAc8b47/QP6f3yshb4FLDHmOr43/RC+zbg2Pn+H+rtPiRJrRbMMJQkaccZFpKkVoaFJKmVYSFJamVYSJJaGRbSEKTn75Ic39f2xiRfGWdd0rA4dVYakuYWI5+nd/+exfQ++3FcVd27A30trt4N36SJYFhIQ5TkA/TuhbRX8/jz9G4PvRtwblVd2dwQ7lPNPgBnV9X/SXIM8H56t2J4SVW9qNvqpbkZFtIQNbfYuBX4MfBlYF1Vfbq5HcnN9M46Cniiqn6UZBlwaVWtaMLifwGHVdV946hfmsvicRcgPZVU1Q+S/BXwL8CpwOvy5DeWPR04mN73GXw0yXJ6d/7sP4O42aDQJDIspOF7olkC/Kequrt/Y5Jzgc3Ay+lNMvlR3+YfdFSjNC/OhpJG5xrgnc2dQ0lyeNP+HGBTVT0BvJneV35KE82wkEbn/fQubN+eZF3zHODPgTOT3Aa8BM8mtAvwArckqZVnFpKkVoaFJKmVYSFJamVYSJJaGRaSpFaGhSSplWEhSWr1/wCU0LIIHDhI4gAAAABJRU5ErkJggg==\n",
            "text/plain": [
              "<Figure size 432x288 with 1 Axes>"
            ]
          },
          "metadata": {
            "tags": [],
            "needs_background": "light"
          }
        }
      ]
     },
     "execution_count": 31,
     "metadata": {},
     "output_type": "execute_result"
    }
   ],
   "source": [
    "df_industry_count4 = df[df['Industry(Exiobase)'].isin(industries)]\n",
    "\n",
    "\n",
    "df_2018 = df_industry_count4.loc[df.Year == 2018, ]\n",
    "df_2019 = df_industry_count4.loc[df.Year == 2019, ]\n",
    "df_mod3 = pd.merge(df_2018, df_2019, on='CompanyName',how='inner')\n",
    "df_mod3 = df_mod3[['Year_x','CompanyName','industry_avg_year_x','Year_y','Env_intensity_y']]\n",
    "df_mod3.head()"
   ]
  },
  {
   "cell_type": "code",
   "execution_count": 32,
   "id": "eight-creek",
   "metadata": {
    "colab": {
     "base_uri": "https://localhost:8080/"
    },
    {
     "name": "stdout",
     "output_type": "stream",
     "text": [
      "(1336, 1)\n",
      "(1336,)\n"
     ]
    }
   ],
   "source": [
    "X = df_mod3[['industry_avg_year_x']]\n",
    "y = df_mod3.iloc[:,4]\n",
    "print(X.shape)\n",
    "print(y.shape)"
   ]
  },
  {
   "cell_type": "code",
   "execution_count": 33,
   "id": "false-desire",
   "metadata": {
    "colab": {
     "base_uri": "https://localhost:8080/"
    },
    {
     "name": "stdout",
     "output_type": "stream",
     "text": [
      "0.06598743409385226\n"
     ]
    }
   ],
   "source": [
    "x_train, x_test, y_train, y_test = train_test_split(X ,y, test_size = 0.2, random_state = 42)\n",
    "# train Linear Regression\n",
    "LRtrainer = LinearRegression()\n",
    "LRtrainer.fit(x_train,y_train)\n",
    "\n",
    "# mse for linear regression\n",
    "y_pred_lr = LRtrainer.predict(x_test)\n",
    "print(metrics.mean_squared_error(y_pred_lr, y_test))"
   ]
  },
  {
   "cell_type": "code",
   "execution_count": 34,
   "id": "bulgarian-there",
   "metadata": {
    "colab": {
     "base_uri": "https://localhost:8080/"
    },
    {
     "name": "stdout",
     "output_type": "stream",
     "text": [
      "Model intercept:  0.0002669631900767966\n",
      "Model coefficients:  [0.91303819]\n"
     ]
    }
   ],
   "source": [
    "# display the parameters\n",
    "print('Model intercept: ', LRtrainer.intercept_)\n",
    "print('Model coefficients: ', LRtrainer.coef_)"
   ]
  },
  {
   "cell_type": "code",
   "execution_count": 35,
   "id": "bizarre-columbus",
   "metadata": {
    "colab": {
     "base_uri": "https://localhost:8080/"
    },
    {
     "name": "stdout",
     "output_type": "stream",
     "text": [
      "R2 score: 0.36647102462935643\n"
     ]
    }
   ],
   "source": [
    "print('R2 score:', metrics.r2_score(y_test, y_pred_lr))"
   ]
  },
  {
   "cell_type": "code",
   "execution_count": 36,
   "id": "surprising-negotiation",
   "metadata": {},
   "outputs": [
    {
      "cell_type": "code",
      "metadata": {
        "colab": {
          "base_uri": "https://localhost:8080/"
        },
        "id": "domestic-reynolds",
        "outputId": "ffb95f7b-58f5-4d54-a492-d375d3a36f5a"
      },
      "source": [
        "x_train, x_test, y_train, y_test = train_test_split(X ,y, test_size = 0.2, random_state = 42)\n",
        "# train Linear Regression\n",
        "LRtrainer = LinearRegression()\n",
        "LRtrainer.fit(x_train,y_train)\n",
        "\n",
        "# mse for linear regression\n",
        "y_pred_lr = LRtrainer.predict(x_test)\n",
        "print(metrics.mean_squared_error(y_pred_lr, y_test))"
      ],
      "id": "domestic-reynolds",
      "execution_count": null,
      "outputs": [
        {
          "output_type": "stream",
          "text": [
            "0.06598743409385226\n"
          ],
          "name": "stdout"
        }
      ]
     },
     "metadata": {
      "needs_background": "light"
     },
     "output_type": "display_data"
    }
   ],
   "source": [
    "fig, ax = plt.subplots(figsize=(12,8))\n",
    "ax.scatter(y_test, y_pred_lr, c='green')\n",
    "ax.plot([y_test.min(), y_test.max()], [y.min(), y.max()], 'k--', lw=4)\n",
    "ax.set_xlabel('Observed 2019 Environmental Intesity')\n",
    "ax.set_ylabel('Predicted 2019 Environmental Intesity')\n",
    "ax.set_title('Linear Regression- Predicting 2019 Environmental intensity using 2018 industry average environmental intensity');"
   ]
  },
  {
   "cell_type": "markdown",
   "id": "optimum-sacramento",
   "metadata": {
    "id": "fofCYGRne8MK"
   },
   "source": [
    "Now, we are going to consider 2017 - 2018 to predict 2019"
   ]
  },
  {
   "cell_type": "code",
   "execution_count": 37,
   "id": "starting-administration",
   "metadata": {},
   "outputs": [],
   "source": [
    "df_2019=df_industry_count4[df_industry_count4['Year'] == 2019]\n",
    "df_2018=df_industry_count4[df_industry_count4['Year'] == 2018]\n",
    "df_2017=df_industry_count4[df_industry_count4['Year'] == 2017]"
   ]
  },
  {
   "cell_type": "code",
   "execution_count": 38,
   "id": "continent-manhattan",
   "metadata": {
    "colab": {
     "base_uri": "https://localhost:8080/",
     "height": 419
    },
    {
      "cell_type": "code",
      "metadata": {
        "colab": {
          "base_uri": "https://localhost:8080/"
        },
        "id": "variable-employment",
        "outputId": "f722958b-cf83-4534-d8b4-ef75ea2a4339"
      },
      "source": [
        "# display the parameters\n",
        "print('Model intercept: ', LRtrainer.intercept_)\n",
        "print('Model coefficients: ', LRtrainer.coef_)"
      ],
      "id": "variable-employment",
      "execution_count": null,
      "outputs": [
        {
          "output_type": "stream",
          "text": [
            "Model intercept:  0.0002669631900767966\n",
            "Model coefficients:  [0.91303819]\n"
          ],
          "name": "stdout"
        }
      ]
     },
     "execution_count": 38,
     "metadata": {},
     "output_type": "execute_result"
    }
   ],
   "source": [
    "df2019=df_2019[['Year','CompanyName','Env_intensity']] \n",
    "df2019.rename(columns={'Env_intensity': 'Env_intensity2019'}, inplace=True) \n",
    "df2018=df_2018[['CompanyName','industry_avg_year']]\n",
    "df2018.rename(columns={'industry_avg_year': 'Ind_Yearavg2018'}, inplace=True) \n",
    "df2017=df_2017[['CompanyName','industry_avg_year']]\n",
    "df2017.rename(columns={'industry_avg_year': 'Ind_Yearavg2017'}, inplace=True) \n",
    "mdl = pd.merge(df2019, df2018, on=[\"CompanyName\"])\n",
    "mdl1= pd.merge(mdl, df2017, on=[\"CompanyName\"])\n",
    "mdl1"
   ]
  },
  {
   "cell_type": "code",
   "execution_count": 39,
   "id": "sonic-replacement",
   "metadata": {
    "colab": {
     "base_uri": "https://localhost:8080/"
    },
    {
     "name": "stdout",
     "output_type": "stream",
     "text": [
      "(1195, 2)\n",
      "(1195,)\n"
     ]
    }
   ],
   "source": [
    "X=mdl1[['Ind_Yearavg2018','Ind_Yearavg2017']]\n",
    "y=mdl1['Env_intensity2019']\n",
    "print(X.shape)\n",
    "print(y.shape)"
   ]
  },
  {
   "cell_type": "code",
   "execution_count": 40,
   "id": "tracked-spouse",
   "metadata": {
    "id": "J-uzv_GTe8ML"
   },
   "outputs": [],
   "source": [
    "regr = linear_model.LinearRegression()\n",
    "X_train, X_test, y_train, y_test = train_test_split(X,y,test_size=0.2,random_state=42)\n",
    "regr.fit(X_train, y_train)\n",
    "y_train_pred = np.exp(regr.predict(X_train))\n",
    "y_pred = np.exp(regr.predict(X_test))\n",
    "y_test = np.exp(y_test)"
   ]
  },
  {
   "cell_type": "code",
   "execution_count": 41,
   "id": "senior-telescope",
   "metadata": {
    "colab": {
     "base_uri": "https://localhost:8080/"
    },
    {
     "name": "stdout",
     "output_type": "stream",
     "text": [
      "MSE train: 1.064, test: 0.038\n"
     ]
    }
   ],
   "source": [
    "print('MSE train: %.3f, test: %.3f' % (metrics.mean_squared_error(y_train, y_train_pred),\n",
    "                metrics.mean_squared_error(y_test, y_pred)))"
   ]
  },
  {
   "cell_type": "code",
   "execution_count": 42,
   "id": "duplicate-marshall",
   "metadata": {
    "colab": {
     "base_uri": "https://localhost:8080/"
    },
    {
     "name": "stdout",
     "output_type": "stream",
     "text": [
      "Model intercept:  0.0005763983280114432\n",
      "Model coefficients:  [ 0.94555899 -0.06948928]\n"
     ]
    }
   ],
   "source": [
    "# display the parameters\n",
    "print('Model intercept: ', regr.intercept_)\n",
    "print('Model coefficients: ', regr.coef_)"
   ]
  },
  {
   "cell_type": "code",
   "execution_count": 43,
   "id": "placed-cargo",
   "metadata": {
    "colab": {
     "base_uri": "https://localhost:8080/"
    },
    {
     "name": "stdout",
     "output_type": "stream",
     "text": [
      "R2 score: 0.26873239153605133\n"
     ]
    }
   ],
   "source": [
    "print('R2 score:', metrics.r2_score(y_test, y_pred))"
   ]
  },
  {
   "cell_type": "code",
   "execution_count": 44,
   "id": "unnecessary-trouble",
   "metadata": {},
   "outputs": [
    {
      "cell_type": "code",
      "metadata": {
        "colab": {
          "base_uri": "https://localhost:8080/",
          "height": 419
        },
        "id": "studied-campus",
        "outputId": "a60d4a69-620f-4127-f321-b5e910ccb29e"
      },
      "source": [
        "df2019=df_2019[['Year','CompanyName','Env_intensity']] \n",
        "df2019.rename(columns={'Env_intensity': 'Env_intensity2019'}, inplace=True) \n",
        "df2018=df_2018[['CompanyName','industry_avg_year']]\n",
        "df2018.rename(columns={'industry_avg_year': 'Ind_Yearavg2018'}, inplace=True) \n",
        "df2017=df_2017[['CompanyName','industry_avg_year']]\n",
        "df2017.rename(columns={'industry_avg_year': 'Ind_Yearavg2017'}, inplace=True) \n",
        "mdl = pd.merge(df2019, df2018, on=[\"CompanyName\"])\n",
        "mdl1= pd.merge(mdl, df2017, on=[\"CompanyName\"])\n",
        "mdl1"
      ],
      "id": "studied-campus",
      "execution_count": null,
      "outputs": [
        {
          "output_type": "execute_result",
          "data": {
            "text/html": [
              "<div>\n",
              "<style scoped>\n",
              "    .dataframe tbody tr th:only-of-type {\n",
              "        vertical-align: middle;\n",
              "    }\n",
              "\n",
              "    .dataframe tbody tr th {\n",
              "        vertical-align: top;\n",
              "    }\n",
              "\n",
              "    .dataframe thead th {\n",
              "        text-align: right;\n",
              "    }\n",
              "</style>\n",
              "<table border=\"1\" class=\"dataframe\">\n",
              "  <thead>\n",
              "    <tr style=\"text-align: right;\">\n",
              "      <th></th>\n",
              "      <th>Year</th>\n",
              "      <th>CompanyName</th>\n",
              "      <th>Env_intensity2019</th>\n",
              "      <th>Ind_Yearavg2018</th>\n",
              "      <th>Ind_Yearavg2017</th>\n",
              "    </tr>\n",
              "  </thead>\n",
              "  <tbody>\n",
              "    <tr>\n",
              "      <th>0</th>\n",
              "      <td>2019</td>\n",
              "      <td>3M COMPANY</td>\n",
              "      <td>-0.0641</td>\n",
              "      <td>-0.229308</td>\n",
              "      <td>-0.225496</td>\n",
              "    </tr>\n",
              "    <tr>\n",
              "      <th>1</th>\n",
              "      <td>2019</td>\n",
              "      <td>3SBIO INC</td>\n",
              "      <td>-0.0340</td>\n",
              "      <td>-0.027793</td>\n",
              "      <td>-0.031771</td>\n",
              "    </tr>\n",
              "    <tr>\n",
              "      <th>2</th>\n",
              "      <td>2019</td>\n",
              "      <td>A.G.V. PRODUCTS CORP</td>\n",
              "      <td>-0.0172</td>\n",
              "      <td>-0.072254</td>\n",
              "      <td>-0.063618</td>\n",
              "    </tr>\n",
              "    <tr>\n",
              "      <th>3</th>\n",
              "      <td>2019</td>\n",
              "      <td>AA PLC</td>\n",
              "      <td>-0.0070</td>\n",
              "      <td>-0.073777</td>\n",
              "      <td>-0.096157</td>\n",
              "    </tr>\n",
              "    <tr>\n",
              "      <th>4</th>\n",
              "      <td>2019</td>\n",
              "      <td>AAC TECHNOLOGIES HOLDINGS INCORPORATION</td>\n",
              "      <td>-0.1080</td>\n",
              "      <td>-0.023555</td>\n",
              "      <td>-0.027254</td>\n",
              "    </tr>\n",
              "    <tr>\n",
              "      <th>...</th>\n",
              "      <td>...</td>\n",
              "      <td>...</td>\n",
              "      <td>...</td>\n",
              "      <td>...</td>\n",
              "      <td>...</td>\n",
              "    </tr>\n",
              "    <tr>\n",
              "      <th>1190</th>\n",
              "      <td>2019</td>\n",
              "      <td>ZEON CORPORATION</td>\n",
              "      <td>-0.0730</td>\n",
              "      <td>-0.218707</td>\n",
              "      <td>-0.275385</td>\n",
              "    </tr>\n",
              "    <tr>\n",
              "      <th>1191</th>\n",
              "      <td>2019</td>\n",
              "      <td>ZHEN DING TECHNOLOGY HOLDING LIMITED</td>\n",
              "      <td>-0.0602</td>\n",
              "      <td>-0.076812</td>\n",
              "      <td>-0.068294</td>\n",
              "    </tr>\n",
              "    <tr>\n",
              "      <th>1192</th>\n",
              "      <td>2019</td>\n",
              "      <td>ZIG SHENG INDUSTRIAL COMPANY LIMITED</td>\n",
              "      <td>-0.1615</td>\n",
              "      <td>-0.124750</td>\n",
              "      <td>-0.117456</td>\n",
              "    </tr>\n",
              "    <tr>\n",
              "      <th>1193</th>\n",
              "      <td>2019</td>\n",
              "      <td>ZORLU ENERJI AS</td>\n",
              "      <td>-0.3430</td>\n",
              "      <td>-1.012140</td>\n",
              "      <td>-0.578986</td>\n",
              "    </tr>\n",
              "    <tr>\n",
              "      <th>1194</th>\n",
              "      <td>2019</td>\n",
              "      <td>ZUMTOBEL AG</td>\n",
              "      <td>-0.0051</td>\n",
              "      <td>-0.020683</td>\n",
              "      <td>-0.036006</td>\n",
              "    </tr>\n",
              "  </tbody>\n",
              "</table>\n",
              "<p>1195 rows × 5 columns</p>\n",
              "</div>"
            ],
            "text/plain": [
              "      Year                              CompanyName  Env_intensity2019  \\\n",
              "0     2019                               3M COMPANY            -0.0641   \n",
              "1     2019                                3SBIO INC            -0.0340   \n",
              "2     2019                     A.G.V. PRODUCTS CORP            -0.0172   \n",
              "3     2019                                   AA PLC            -0.0070   \n",
              "4     2019  AAC TECHNOLOGIES HOLDINGS INCORPORATION            -0.1080   \n",
              "...    ...                                      ...                ...   \n",
              "1190  2019                         ZEON CORPORATION            -0.0730   \n",
              "1191  2019     ZHEN DING TECHNOLOGY HOLDING LIMITED            -0.0602   \n",
              "1192  2019     ZIG SHENG INDUSTRIAL COMPANY LIMITED            -0.1615   \n",
              "1193  2019                          ZORLU ENERJI AS            -0.3430   \n",
              "1194  2019                              ZUMTOBEL AG            -0.0051   \n",
              "\n",
              "      Ind_Yearavg2018  Ind_Yearavg2017  \n",
              "0           -0.229308        -0.225496  \n",
              "1           -0.027793        -0.031771  \n",
              "2           -0.072254        -0.063618  \n",
              "3           -0.073777        -0.096157  \n",
              "4           -0.023555        -0.027254  \n",
              "...               ...              ...  \n",
              "1190        -0.218707        -0.275385  \n",
              "1191        -0.076812        -0.068294  \n",
              "1192        -0.124750        -0.117456  \n",
              "1193        -1.012140        -0.578986  \n",
              "1194        -0.020683        -0.036006  \n",
              "\n",
              "[1195 rows x 5 columns]"
            ]
          },
          "metadata": {
            "tags": []
          },
          "execution_count": 38
        }
      ]
     },
     "metadata": {
      "needs_background": "light"
     },
     "output_type": "display_data"
    }
   ],
   "source": [
    "fig, ax = plt.subplots(figsize=(12,8))\n",
    "ax.scatter(y_test, y_pred, c='green')\n",
    "ax.plot([y_test.min(), y_test.max()], [y.min(), y.max()], 'k--', lw=4)\n",
    "ax.set_xlabel('Observed 2019 Environmental Intesity')\n",
    "ax.set_ylabel('Predicted 2019 Environmental Intesity')\n",
    "ax.set_title('Linear Regression- Predicting 2019 Environmental intensity using 2017- 2018 industry average environmental intensity');"
   ]
  },
  {
   "cell_type": "markdown",
   "id": "advisory-victory",
   "metadata": {
    "id": "o9Qz0XUue8ML"
   },
   "source": [
    "Using the industry environmental average for 2017 and 2018 only explained 27% of the variation in the dataset. Let's see what happens including 2016-2018 to predict 2019"
   ]
  },
  {
   "cell_type": "code",
   "execution_count": 45,
   "id": "necessary-separate",
   "metadata": {},
   "outputs": [],
   "source": [
    "df_2016 = df_industry_count4.loc[df_industry_count4.Year == 2016, ]\n",
    "df_2017 = df_industry_count4.loc[df_industry_count4.Year == 2017, ]\n",
    "df1 = df_2016.merge(df_2017, how='inner', on='CompanyName', suffixes=('_2016', '_2017'))\n",
    "df1 = df1.merge(df_2018, how='inner', on='CompanyName')\n",
    "df1 = df1.merge(df_2019, how='inner', on='CompanyName', suffixes=('_2018', '_2019'))\n",
    "df1 = df1[['Year_2016','industry_avg_year_2016','Year_2017','industry_avg_year_2017','Year_2018','industry_avg_year_2018','Year_2019','Env_intensity_2019']]"
   ]
  },
  {
   "cell_type": "code",
   "execution_count": 46,
   "id": "religious-delivery",
   "metadata": {
    "colab": {
     "base_uri": "https://localhost:8080/"
    },
    {
     "name": "stdout",
     "output_type": "stream",
     "text": [
      "(1065, 3)\n",
      "(1065,)\n"
     ]
    }
   ],
   "source": [
    "X = df1[['industry_avg_year_2016','industry_avg_year_2017','industry_avg_year_2018']]\n",
    "y = df1.iloc[:,7]\n",
    "print(X.shape)\n",
    "print(y.shape)"
   ]
  },
  {
   "cell_type": "code",
   "execution_count": 47,
   "id": "duplicate-restaurant",
   "metadata": {
    "id": "McApUnC09uuq"
   },
   "outputs": [],
   "source": [
    "regr = linear_model.LinearRegression()\n",
    "X_train, X_test, y_train, y_test = train_test_split(X,y,test_size=0.2,random_state=42)\n",
    "regr.fit(X_train, y_train)\n",
    "y_train_pred = regr.predict(X_train)\n",
    "y_pred = regr.predict(X_test)"
   ]
  },
  {
   "cell_type": "code",
   "execution_count": 48,
   "id": "pregnant-embassy",
   "metadata": {
    "colab": {
     "base_uri": "https://localhost:8080/"
    },
    {
     "name": "stdout",
     "output_type": "stream",
     "text": [
      "MSE train: 0.033, test: 0.036\n"
     ]
    }
   ],
   "source": [
    "print('MSE train: %.3f, test: %.3f' % (metrics.mean_squared_error(y_train, y_train_pred),\n",
    "                metrics.mean_squared_error(y_test, y_pred)))"
   ]
  },
  {
   "cell_type": "code",
   "execution_count": 49,
   "id": "protecting-sacramento",
   "metadata": {
    "colab": {
     "base_uri": "https://localhost:8080/"
    },
    {
     "name": "stdout",
     "output_type": "stream",
     "text": [
      "Model intercept:  0.00568972196188465\n",
      "Model coefficients:  [-0.22207005  0.34928786  0.78027233]\n"
     ]
    }
   ],
   "source": [
    "# display the parameters\n",
    "print('Model intercept: ', regr.intercept_)\n",
    "print('Model coefficients: ', regr.coef_)"
   ]
  },
  {
   "cell_type": "code",
   "execution_count": 50,
   "id": "premium-technique",
   "metadata": {
    "colab": {
     "base_uri": "https://localhost:8080/"
    },
    {
     "name": "stdout",
     "output_type": "stream",
     "text": [
      "R2 score: 0.28683072335691706\n"
     ]
    }
   ],
   "source": [
    "print('R2 score:', metrics.r2_score(y_test, y_pred))"
   ]
  },
  {
   "cell_type": "code",
   "execution_count": 51,
   "id": "colored-maple",
   "metadata": {},
   "outputs": [
    {
     "data": {
      "image/png": "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\n",
      "text/plain": [
       "<Figure size 864x576 with 1 Axes>"
      ]
     },
     "metadata": {
      "needs_background": "light"
     },
     "output_type": "display_data"
    }
   ],
   "source": [
    "fig, ax = plt.subplots(figsize=(12,8))\n",
    "ax.scatter(y_test, y_pred, c='green')\n",
    "ax.plot([y_test.min(), y_test.max()], [y.min(), y.max()], 'k--', lw=4)\n",
    "ax.set_xlabel('Observed 2019 Environmental Intesity')\n",
    "ax.set_ylabel('Predicted 2019 Environmental Intesity')\n",
    "ax.set_title('Linear Regression- Predicting 2019 Environmental intensity using 2016-2018 industry average environmental intensity');"
   ]
  },
  {
   "cell_type": "markdown",
   "id": "fewer-empty",
   "metadata": {
    "id": "Ah20qAC3_Smc"
   },
   "source": [
    "### Model 4 -Yearly Industry Indicator\n",
    "\n",
    "For this model, we will consider the yearly industry indicator from past years to predict the company 2019 environmental intensity. \n",
    "\n",
    "We are going to start from 2017-2018 to predict 2019. "
   ]
  },
  {
   "cell_type": "code",
   "execution_count": 52,
   "id": "adjustable-likelihood",
   "metadata": {},
   "outputs": [
    {
      "cell_type": "code",
      "metadata": {
        "id": "warming-multiple",
        "outputId": "2bc898f3-e6ee-4e46-9ffc-b73c4bf6ae08"
      },
      "source": [
        "fig, ax = plt.subplots(figsize=(12,8))\n",
        "ax.scatter(y_test, y_pred, c='green')\n",
        "ax.plot([y_test.min(), y_test.max()], [y.min(), y.max()], 'k--', lw=4)\n",
        "ax.set_xlabel('Observed 2019 Environmental Intesity')\n",
        "ax.set_ylabel('Predicted 2019 Environmental Intesity')\n",
        "ax.set_title('Linear Regression- Predicting 2019 Environmental intensity using 2017- 2018 industry average environmental intensity');"
      ],
      "id": "warming-multiple",
      "execution_count": null,
      "outputs": [
        {
          "output_type": "display_data",
          "data": {
            "image/png": "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\n",
            "text/plain": [
              "<Figure size 864x576 with 1 Axes>"
            ]
          },
          "metadata": {
            "tags": [],
            "needs_background": "light"
          }
        }
      ]
     },
     "execution_count": 52,
     "metadata": {},
     "output_type": "execute_result"
    }
   ],
   "source": [
    "df_2019=df_industry_count4[df_industry_count4['Year'] == 2019]\n",
    "df_2018=df_industry_count4[df_industry_count4['Year'] == 2018]\n",
    "df_2017=df_industry_count4[df_industry_count4['Year'] == 2017]\n",
    "\n",
    "df2019=df_2019[['Year','CompanyName','Env_intensity']] \n",
    "df2019.rename(columns={'Env_intensity': 'Env_intensity2019'}, inplace=True) \n",
    "df2018=df_2018[['CompanyName','Industry_indicator_year']]\n",
    "df2018.rename(columns={'Industry_indicator_year': 'Ind_Indicator_2018'}, inplace=True) \n",
    "df2017=df_2017[['CompanyName','Industry_indicator_year']]\n",
    "df2017.rename(columns={'Industry_indicator_year': 'Ind_Indicator_2017'}, inplace=True) \n",
    "mdl4 = pd.merge(df2019, df2018, on=[\"CompanyName\"])\n",
    "mdl4= pd.merge(mdl4, df2017, on=[\"CompanyName\"])\n",
    "mdl4"
   ]
  },
  {
   "cell_type": "code",
   "execution_count": 53,
   "id": "uniform-effects",
   "metadata": {
    "colab": {
     "base_uri": "https://localhost:8080/"
    },
    {
     "name": "stdout",
     "output_type": "stream",
     "text": [
      "(1195, 2)\n",
      "(1195,)\n"
     ]
    }
   ],
   "source": [
    "X=mdl4[['Ind_Indicator_2017','Ind_Indicator_2018']]\n",
    "y=mdl4['Env_intensity2019']\n",
    "print(X.shape)\n",
    "print(y.shape)"
   ]
  },
  {
   "cell_type": "code",
   "execution_count": 54,
   "id": "united-sally",
   "metadata": {
    "id": "9Q83jyJz_Smj"
   },
   "outputs": [],
   "source": [
    "regr = linear_model.LinearRegression()\n",
    "X_train, X_test, y_train, y_test = train_test_split(X,y,test_size=0.2,random_state=42)\n",
    "regr.fit(X_train, y_train)\n",
    "y_train_pred = regr.predict(X_train)\n",
    "y_pred = regr.predict(X_test)"
   ]
  },
  {
   "cell_type": "code",
   "execution_count": 55,
   "id": "motivated-spice",
   "metadata": {
    "colab": {
     "base_uri": "https://localhost:8080/"
    },
    {
     "name": "stdout",
     "output_type": "stream",
     "text": [
      "MSE train: 0.048, test: 0.062\n"
     ]
    }
   ],
   "source": [
    "print('MSE train: %.3f, test: %.3f' % (metrics.mean_squared_error(y_train, y_train_pred),\n",
    "                metrics.mean_squared_error(y_test, y_pred)))"
   ]
  },
  {
   "cell_type": "code",
   "execution_count": 56,
   "id": "promising-richardson",
   "metadata": {
    "colab": {
     "base_uri": "https://localhost:8080/"
    },
    {
     "name": "stdout",
     "output_type": "stream",
     "text": [
      "Model intercept:  -0.15356410683376787\n",
      "Model coefficients:  [0.03709691 0.07830873]\n"
     ]
    }
   ],
   "source": [
    "# display the parameters\n",
    "print('Model intercept: ', regr.intercept_)\n",
    "print('Model coefficients: ', regr.coef_)"
   ]
  },
  {
   "cell_type": "code",
   "execution_count": 57,
   "id": "annoying-justice",
   "metadata": {
    "colab": {
     "base_uri": "https://localhost:8080/"
    },
    {
     "name": "stdout",
     "output_type": "stream",
     "text": [
      "R2 score: 0.21186363020947374\n"
     ]
    }
   ],
   "source": [
    "print('R2 score:', metrics.r2_score(y_test, y_pred))"
   ]
  },
  {
   "cell_type": "code",
   "execution_count": 58,
   "id": "fourth-jersey",
   "metadata": {},
   "outputs": [
    {
      "cell_type": "code",
      "metadata": {
        "colab": {
          "base_uri": "https://localhost:8080/"
        },
        "id": "unsigned-trainer",
        "outputId": "6e91dfe4-da0f-4cd1-a910-80601a20b80b"
      },
      "source": [
        "print('MSE train: %.3f, test: %.3f' % (metrics.mean_squared_error(y_train, y_train_pred),\n",
        "                metrics.mean_squared_error(y_test, y_pred)))"
      ],
      "id": "unsigned-trainer",
      "execution_count": null,
      "outputs": [
        {
          "output_type": "stream",
          "text": [
            "MSE train: 0.033, test: 0.031\n"
          ],
          "name": "stdout"
        }
      ]
     },
     "metadata": {
      "needs_background": "light"
     },
     "output_type": "display_data"
    }
   ],
   "source": [
    "fig, ax = plt.subplots(figsize=(12,8))\n",
    "ax.scatter(y_test, y_pred, c='green')\n",
    "ax.plot([y_test.min(), y_test.max()], [y.min(), y.max()], 'k--', lw=4)\n",
    "ax.set_xlabel('Observed 2019 Environmental Intesity')\n",
    "ax.set_ylabel('Predicted 2019 Environmental Intesity')\n",
    "ax.set_title('Linear Regression- Predicting 2019 Environmental intensity using 2017- 2018 industry indicator');"
   ]
  },
  {
   "cell_type": "markdown",
   "id": "preliminary-disaster",
   "metadata": {
    "id": "rIs2crAVe8MP"
   },
   "source": [
    "The industry indicator isn't a good predictor for environmental intensity. \n",
    "\n",
    "Let's try including 2016-2018 to predict 2019 environmental intensity. "
   ]
  },
  {
   "cell_type": "code",
   "execution_count": 59,
   "id": "finished-large",
   "metadata": {
    "colab": {
     "base_uri": "https://localhost:8080/",
     "height": 204
    },
    {
      "cell_type": "code",
      "metadata": {
        "colab": {
          "base_uri": "https://localhost:8080/"
        },
        "id": "headed-cholesterol",
        "outputId": "80169297-278a-491f-f767-e62ba16444a5"
      },
      "source": [
        "# display the parameters\n",
        "print('Model intercept: ', regr.intercept_)\n",
        "print('Model coefficients: ', regr.coef_)"
      ],
      "id": "headed-cholesterol",
      "execution_count": null,
      "outputs": [
        {
          "output_type": "stream",
          "text": [
            "Model intercept:  0.003048078320956618\n",
            "Model coefficients:  [0.30694139 0.28498824 0.26816881]\n"
          ],
          "name": "stdout"
        }
      ]
     },
     "execution_count": 59,
     "metadata": {},
     "output_type": "execute_result"
    }
   ],
   "source": [
    "df_2016=df_industry_count4[df_industry_count4['Year'] == 2016]\n",
    "df2016=df_2016[['CompanyName','Industry_indicator_year']]\n",
    "df2016.rename(columns={'Industry_indicator_year': 'Ind_Indicator_2016'}, inplace=True) \n",
    "\n",
    "mdl4 = pd.merge(df2019, df2018, on=[\"CompanyName\"])\n",
    "mdl4= pd.merge(mdl4, df2017, on=[\"CompanyName\"])\n",
    "mdl4= pd.merge(mdl4, df2016, on=[\"CompanyName\"])\n",
    "mdl4.head()"
   ]
  },
  {
   "cell_type": "code",
   "execution_count": 60,
   "id": "sublime-microphone",
   "metadata": {
    "colab": {
     "base_uri": "https://localhost:8080/"
    },
    {
     "name": "stdout",
     "output_type": "stream",
     "text": [
      "(1065, 3)\n",
      "(1065,)\n"
     ]
    }
   ],
   "source": [
    "X = mdl4[['Ind_Indicator_2016','Ind_Indicator_2017','Ind_Indicator_2018']]\n",
    "y = mdl4['Env_intensity2019']\n",
    "print(X.shape)\n",
    "print(y.shape)"
   ]
  },
  {
   "cell_type": "code",
   "execution_count": 61,
   "id": "necessary-first",
   "metadata": {
    "colab": {
     "base_uri": "https://localhost:8080/"
    },
    {
     "name": "stdout",
     "output_type": "stream",
     "text": [
      "MSE train: 0.047, test: 0.039\n"
     ]
    }
   ],
   "source": [
    "regr = linear_model.LinearRegression()\n",
    "X_train, X_test, y_train, y_test = train_test_split(X,y,test_size=0.2,random_state=42)\n",
    "regr.fit(X_train, y_train)\n",
    "y_train_pred = regr.predict(X_train)\n",
    "y_pred = regr.predict(X_test)\n",
    "\n",
    "print('MSE train: %.3f, test: %.3f' % (metrics.mean_squared_error(y_train, y_train_pred),\n",
    "                metrics.mean_squared_error(y_test, y_pred)))"
   ]
  },
  {
   "cell_type": "code",
   "execution_count": 62,
   "id": "entertaining-stockholm",
   "metadata": {
    "colab": {
     "base_uri": "https://localhost:8080/"
    },
    {
     "name": "stdout",
     "output_type": "stream",
     "text": [
      "Model intercept:  -0.14924959083044503\n",
      "Model coefficients:  [0.02269159 0.01672383 0.07522696]\n"
     ]
    }
   ],
   "source": [
    "# display the parameters\n",
    "print('Model intercept: ', regr.intercept_)\n",
    "print('Model coefficients: ', regr.coef_)"
   ]
  },
  {
   "cell_type": "code",
   "execution_count": 63,
   "id": "analyzed-leeds",
   "metadata": {
    "colab": {
     "base_uri": "https://localhost:8080/"
    },
    {
     "name": "stdout",
     "output_type": "stream",
     "text": [
      "R2 score: 0.22699240460633197\n"
     ]
    }
   ],
   "source": [
    "print('R2 score:', metrics.r2_score(y_test, y_pred))"
   ]
  },
  {
   "cell_type": "code",
   "execution_count": 64,
   "id": "greater-panic",
   "metadata": {},
   "outputs": [
    {
     "data": {
      "image/png": "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\n",
      "text/plain": [
       "<Figure size 864x576 with 1 Axes>"
      ]
     },
     "metadata": {
      "needs_background": "light"
     },
     "output_type": "display_data"
    }
   ],
   "source": [
    "fig, ax = plt.subplots(figsize=(12,8))\n",
    "ax.scatter(y_test, y_pred, c='green')\n",
    "ax.plot([y_test.min(), y_test.max()], [y.min(), y.max()], 'k--', lw=4)\n",
    "ax.set_xlabel('Observed 2019 Environmental Intesity')\n",
    "ax.set_ylabel('Predicted 2019 Environmental Intesity')\n",
    "ax.set_title('Linear Regression- Predicting 2019 Environmental intensity using 2016- 2018 industry average environmental intensity');"
   ]
  },
  {
   "cell_type": "markdown",
   "id": "atomic-delicious",
   "metadata": {
    "id": "8rCtCNrTBbLN"
   },
   "source": [
    "### Model 5 -Growth Rate\n",
    "\n",
    "For this model, we will consider the growth rate from past years to predict the company 2019 environmental intensity.\n",
    "\n",
    "We are going to start from 2017-2018 to predict 2019."
   ]
  },
  {
   "cell_type": "code",
   "execution_count": 65,
   "id": "laden-constitutional",
   "metadata": {
    "colab": {
     "base_uri": "https://localhost:8080/",
     "height": 419
    },
    {
      "cell_type": "code",
      "metadata": {
        "id": "quantitative-journalism"
      },
      "source": [
        "regr = linear_model.LinearRegression()\n",
        "X_train, X_test, y_train, y_test = train_test_split(X,y,test_size=0.2,random_state=42)\n",
        "regr.fit(X_train, y_train)\n",
        "y_train_pred = regr.predict(X_train)\n",
        "y_pred = regr.predict(X_test)"
      ],
      "id": "quantitative-journalism",
      "execution_count": null,
      "outputs": []
    },
    {
      "cell_type": "code",
      "metadata": {
        "colab": {
          "base_uri": "https://localhost:8080/"
        },
        "id": "powered-albuquerque",
        "outputId": "1b4d3190-3789-4c63-e725-738c38256870"
      },
      "source": [
        "print('MSE train: %.3f, test: %.3f' % (metrics.mean_squared_error(y_train, y_train_pred),\n",
        "                metrics.mean_squared_error(y_test, y_pred)))"
      ],
      "id": "powered-albuquerque",
      "execution_count": null,
      "outputs": [
        {
          "output_type": "stream",
          "text": [
            "MSE train: 0.048, test: 0.062\n"
          ],
          "name": "stdout"
        }
      ]
     },
     "execution_count": 65,
     "metadata": {},
     "output_type": "execute_result"
    }
   ],
   "source": [
    "df_2019=df[df['Year'] == 2019]\n",
    "df_2018=df[df['Year'] == 2018]\n",
    "df_2017=df[df['Year'] == 2017]\n",
    "\n",
    "df2019=df_2019[['Year','CompanyName','Env_intensity']] \n",
    "df2019.rename(columns={'Env_intensity': 'Env_intensity2019'}, inplace=True) \n",
    "df2018=df_2018[['CompanyName','Environmental_Growth']]\n",
    "df2018.rename(columns={'Environmental_Growth': 'Environmental_Growth_2018'}, inplace=True) \n",
    "df2017=df_2017[['CompanyName','Environmental_Growth']]\n",
    "df2017.rename(columns={'Environmental_Growth': 'Environmental_Growth_2017'}, inplace=True) \n",
    "mdl5 = pd.merge(df2019, df2018, on=[\"CompanyName\"])\n",
    "mdl5= pd.merge(mdl5, df2017, on=[\"CompanyName\"])\n",
    "mdl5"
   ]
  },
  {
   "cell_type": "code",
   "execution_count": 66,
   "id": "through-corporation",
   "metadata": {
    "colab": {
     "base_uri": "https://localhost:8080/"
    },
    {
      "cell_type": "code",
      "metadata": {
        "colab": {
          "base_uri": "https://localhost:8080/"
        },
        "id": "beautiful-defense",
        "outputId": "7d76141d-ea3b-44de-8b6c-c5b6a1826cba"
      },
      "source": [
        "# display the parameters\n",
        "print('Model intercept: ', regr.intercept_)\n",
        "print('Model coefficients: ', regr.coef_)"
      ],
      "id": "beautiful-defense",
      "execution_count": null,
      "outputs": [
        {
          "output_type": "stream",
          "text": [
            "Model intercept:  -0.15356410683376787\n",
            "Model coefficients:  [0.03709691 0.07830873]\n"
          ],
          "name": "stdout"
        }
      ]
     },
     "execution_count": 66,
     "metadata": {},
     "output_type": "execute_result"
    }
   ],
   "source": [
    "mdl5.dropna(inplace = True)#delete rows with missing values\n",
    "mdl5.shape"
   ]
  },
  {
   "cell_type": "code",
   "execution_count": 67,
   "id": "balanced-michael",
   "metadata": {
    "colab": {
     "base_uri": "https://localhost:8080/"
    },
    {
     "name": "stdout",
     "output_type": "stream",
     "text": [
      "(1094, 2)\n",
      "(1094,)\n"
     ]
    }
   ],
   "source": [
    "X=mdl5[['Environmental_Growth_2017','Environmental_Growth_2018']]\n",
    "y=mdl5['Env_intensity2019']\n",
    "print(X.shape)\n",
    "print(y.shape)"
   ]
  },
  {
   "cell_type": "code",
   "execution_count": 68,
   "id": "athletic-packaging",
   "metadata": {
    "id": "9V0HjSpLh2_i"
   },
   "outputs": [],
   "source": [
    "regr = linear_model.LinearRegression()\n",
    "X_train, X_test, y_train, y_test = train_test_split(X,y,test_size=0.2,random_state=42)\n",
    "regr.fit(X_train, y_train)\n",
    "y_train_pred = regr.predict(X_train)\n",
    "y_pred = regr.predict(X_test)"
   ]
  },
  {
   "cell_type": "code",
   "execution_count": 69,
   "id": "environmental-charlotte",
   "metadata": {
    "colab": {
     "base_uri": "https://localhost:8080/"
    },
    {
     "name": "stdout",
     "output_type": "stream",
     "text": [
      "MSE train: 0.053, test: 0.083\n"
     ]
    }
   ],
   "source": [
    "print('MSE train: %.3f, test: %.3f' % (metrics.mean_squared_error(y_train, y_train_pred),\n",
    "                metrics.mean_squared_error(y_test, y_pred)))"
   ]
  },
  {
   "cell_type": "code",
   "execution_count": 70,
   "id": "internal-accommodation",
   "metadata": {
    "colab": {
     "base_uri": "https://localhost:8080/"
    },
    {
     "name": "stdout",
     "output_type": "stream",
     "text": [
      "Model intercept:  -0.10344845492642087\n",
      "Model coefficients:  [-1.28035334e-04 -8.51885195e-05]\n"
     ]
    }
   ],
   "source": [
    "# display the parameters\n",
    "print('Model intercept: ', regr.intercept_)\n",
    "print('Model coefficients: ', regr.coef_)"
   ]
  },
  {
   "cell_type": "code",
   "execution_count": 71,
   "id": "trying-longitude",
   "metadata": {
    "colab": {
     "base_uri": "https://localhost:8080/"
    },
    {
     "name": "stdout",
     "output_type": "stream",
     "text": [
      "R2 score: 0.015827756484296907\n"
     ]
    }
   ],
   "source": [
    "print('R2 score:', metrics.r2_score(y_test, y_pred))"
   ]
  },
  {
   "cell_type": "code",
   "execution_count": 72,
   "id": "confidential-superior",
   "metadata": {},
   "outputs": [
    {
      "cell_type": "code",
      "metadata": {
        "colab": {
          "base_uri": "https://localhost:8080/"
        },
        "id": "multiple-covering",
        "outputId": "bd522c07-a266-4eb5-ed19-8bc439bb08bc"
      },
      "source": [
        "X = mdl4[['Ind_Indicator_2016','Ind_Indicator_2017','Ind_Indicator_2018']]\n",
        "y = mdl4['Env_intensity2019']\n",
        "print(X.shape)\n",
        "print(y.shape)"
      ],
      "id": "multiple-covering",
      "execution_count": null,
      "outputs": [
        {
          "output_type": "stream",
          "text": [
            "(1065, 3)\n",
            "(1065,)\n"
          ],
          "name": "stdout"
        }
      ]
     },
     "metadata": {
      "needs_background": "light"
     },
     "output_type": "display_data"
    }
   ],
   "source": [
    "fig, ax = plt.subplots(figsize=(12,8))\n",
    "ax.scatter(y_test, y_pred, c='green')\n",
    "ax.plot([y_test.min(), y_test.max()], [y.min(), y.max()], 'k--', lw=4)\n",
    "ax.set_xlabel('Observed 2019 Environmental Intesity')\n",
    "ax.set_ylabel('Predicted 2019 Environmental Intesity')\n",
    "ax.set_title('Linear Regression- Predicting 2019 Environmental intensity using 2017- 2018 growth rate');"
   ]
  },
  {
   "cell_type": "markdown",
   "id": "amber-ballet",
   "metadata": {
    "id": "ATYLOa_DjLzQ"
   },
   "source": [
    "The growth rate isn't a good predictor for environmental intensity. Let's try including 2016-2018 to predict 2019 environmental intensity."
   ]
  },
  {
   "cell_type": "code",
   "execution_count": 73,
   "id": "regular-campbell",
   "metadata": {
    "colab": {
     "base_uri": "https://localhost:8080/"
    },
    {
     "name": "stdout",
     "output_type": "stream",
     "text": [
      "<class 'pandas.core.frame.DataFrame'>\n",
      "Int64Index: 1666 entries, 0 to 14505\n",
      "Data columns (total 12 columns):\n",
      " #   Column                         Non-Null Count  Dtype  \n",
      "---  ------                         --------------  -----  \n",
      " 0   ISIN                           1666 non-null   object \n",
      " 1   Year                           1666 non-null   int64  \n",
      " 2   CompanyName                    1666 non-null   object \n",
      " 3   Country                        1666 non-null   object \n",
      " 4   Industry(Exiobase)             1666 non-null   object \n",
      " 5   EnvironmentalIntensity(Sales)  1666 non-null   object \n",
      " 6   Env_intensity                  1666 non-null   float64\n",
      " 7   industry_avg                   1666 non-null   float64\n",
      " 8   Industry_indicator             1666 non-null   int64  \n",
      " 9   industry_avg_year              1666 non-null   float64\n",
      " 10  Industry_indicator_year        1666 non-null   int64  \n",
      " 11  Environmental_Growth           1534 non-null   float64\n",
      "dtypes: float64(4), int64(3), object(5)\n",
      "memory usage: 169.2+ KB\n"
     ]
    }
   ],
   "source": [
    "df_2016=df[df['Year'] == 2016]\n",
    "df_2016.info()"
   ]
  },
  {
   "cell_type": "code",
   "execution_count": 74,
   "id": "brilliant-magazine",
   "metadata": {
    "colab": {
     "base_uri": "https://localhost:8080/"
    },
    {
      "cell_type": "code",
      "metadata": {
        "colab": {
          "base_uri": "https://localhost:8080/"
        },
        "id": "divine-yield",
        "outputId": "2d4eacb6-9d6b-4ee6-f860-c43909026fc9"
      },
      "source": [
        "# display the parameters\n",
        "print('Model intercept: ', regr.intercept_)\n",
        "print('Model coefficients: ', regr.coef_)"
      ],
      "id": "divine-yield",
      "execution_count": null,
      "outputs": [
        {
          "output_type": "stream",
          "text": [
            "Model intercept:  -0.1499492823809977\n",
            "Model coefficients:  [0.01093564 0.02429224 0.07880817]\n"
          ],
          "name": "stdout"
        }
      ]
     },
     "execution_count": 74,
     "metadata": {},
     "output_type": "execute_result"
    }
   ],
   "source": [
    "df_2016=df[df['Year'] == 2016]\n",
    "df2016=df_2016[['CompanyName','Environmental_Growth']]\n",
    "df2016.rename(columns={'Environmental_Growth': 'Environmental_Growth_2016'}, inplace=True) \n",
    "\n",
    "mdl5 = pd.merge(df2016, df2017, on=[\"CompanyName\"])\n",
    "mdl5= pd.merge(mdl5, df2018, on=[\"CompanyName\"])\n",
    "mdl5= pd.merge(mdl5, df2019, on=[\"CompanyName\"])\n",
    "mdl5.dropna(inplace=True)\n",
    "mdl5.head()"
   ]
  },
  {
   "cell_type": "code",
   "execution_count": 75,
   "id": "informational-warehouse",
   "metadata": {},
   "outputs": [
    {
     "name": "stdout",
     "output_type": "stream",
     "text": [
      "(1010, 3)\n",
      "(1010,)\n"
     ]
    }
   ],
   "source": [
    "X=mdl5[['Environmental_Growth_2016','Environmental_Growth_2017','Environmental_Growth_2018']]\n",
    "y=mdl5['Env_intensity2019']\n",
    "print(X.shape)\n",
    "print(y.shape)"
   ]
  },
  {
   "cell_type": "code",
   "execution_count": 76,
   "id": "burning-collection",
   "metadata": {
    "id": "a7SQliM0lbrB"
   },
   "outputs": [
    {
     "name": "stdout",
     "output_type": "stream",
     "text": [
      "MSE train: 0.050, test: 0.057\n"
     ]
    }
   ],
   "source": [
    "regr = linear_model.LinearRegression()\n",
    "X_train, X_test, y_train, y_test = train_test_split(X,y,test_size=0.2,random_state=42)\n",
    "regr.fit(X_train, y_train)\n",
    "y_train_pred = regr.predict(X_train)\n",
    "y_pred = regr.predict(X_test)\n",
    "\n",
    "print('MSE train: %.3f, test: %.3f' % (metrics.mean_squared_error(y_train, y_train_pred),\n",
    "                metrics.mean_squared_error(y_test, y_pred)))"
   ]
  },
  {
   "cell_type": "code",
   "execution_count": 77,
   "id": "motivated-federation",
   "metadata": {},
   "outputs": [
    {
     "name": "stdout",
     "output_type": "stream",
     "text": [
      "Model intercept:  -0.09843465299284881\n",
      "Model coefficients:  [ 0.0001935  -0.00012326 -0.000327  ]\n"
     ]
    }
   ],
   "source": [
    "# display the parameters\n",
    "print('Model intercept: ', regr.intercept_)\n",
    "print('Model coefficients: ', regr.coef_)"
   ]
  },
  {
   "cell_type": "code",
   "execution_count": 78,
   "id": "flexible-montgomery",
   "metadata": {},
   "outputs": [
    {
     "name": "stdout",
     "output_type": "stream",
     "text": [
      "R2 score: -0.018655694802211853\n"
     ]
    }
   ],
   "source": [
    "print('R2 score:', metrics.r2_score(y_test, y_pred))"
   ]
  },
  {
   "cell_type": "code",
   "execution_count": 79,
   "id": "rational-advocate",
   "metadata": {},
   "outputs": [
    {
      "cell_type": "code",
      "metadata": {
        "colab": {
          "base_uri": "https://localhost:8080/"
        },
        "id": "dramatic-alias",
        "outputId": "d291bee0-2b13-47c1-dc0e-702fdfdd4f70"
      },
      "source": [
        "mdl5.dropna(inplace = True)#delete rows with missing values\n",
        "mdl5.shape"
      ],
      "id": "dramatic-alias",
      "execution_count": null,
      "outputs": [
        {
          "output_type": "execute_result",
          "data": {
            "text/plain": [
              "(1094, 5)"
            ]
          },
          "metadata": {
            "tags": []
          },
          "execution_count": 66
        }
      ]
     },
     "metadata": {
      "needs_background": "light"
     },
     "output_type": "display_data"
    }
   ],
   "source": [
    "fig, ax = plt.subplots(figsize=(12,8))\n",
    "ax.scatter(y_test, y_pred, c='green')\n",
    "ax.plot([y_test.min(), y_test.max()], [y.min(), y.max()], 'k--', lw=4)\n",
    "ax.set_xlabel('Observed 2019 Environmental Intesity')\n",
    "ax.set_ylabel('Predicted 2019 Environmental Intesity')\n",
    "ax.set_title('Linear Regression- Predicting 2019 Environmental intensity using 2016- 2018 growth rate');"
   ]
  },
  {
   "cell_type": "markdown",
   "id": "impressive-macro",
   "metadata": {
    "id": "otRewEhUe8MR"
   },
   "source": [
    "Again, we see that each coefficient is negative which could be interpret that an increase in environmental growth decreases the environmental intensity for 2019. R1 score is also negative (is worse that a horizontal line) which mean we can discard this regression.\n",
    "\n",
    "## Individual model conclusions\n",
    "\n",
    "As expected, using Environmental intensity from previous years had better accuracy to predict the next year Environmental intensity. We proved that in Model 1 and Model 2 were the regression was able to explain 88% of the variance.\n",
    "\n",
    "When using the industry average for each year, the model was able to explain around 30-34% of the variance. Moreover, by running these regressions, we concluded that the envirionmental growth from previous years isn't a good predictor.\n",
    "\n",
    "However, maybe the industry indicator and growth rate would help explain the future environmental intensity better if we combine this features with previous models. For example, predicting 2019 environmental intensity using last years environmental intensity, industry indicator, average industry and growth rate. \n",
    "\n",
    "Let's see what happens!\n",
    "\n",
    "## Building new predictive models by combinig features \n",
    "\n",
    "In this section, we will create a function to calculate the desired future environmental intensity using different features.\n",
    " "
   ]
  },
  {
   "cell_type": "code",
   "execution_count": 80,
   "id": "separated-monster",
   "metadata": {},
   "outputs": [],
   "source": [
    "years = [2016, 2017, 2018]\n",
    "df_c = df_industry_count4.copy()\n",
    "def predictiveModel(outcomeYear, pastYears, df_c):\n",
    "    years.sort()\n",
    "    for year in years:\n",
    "        data = df_c[df_c['Year'] == year]\n",
    "        data = data.loc[:,['CompanyName','Env_intensity','industry_avg_year']]\n",
    "        data.rename(columns={'Env_intensity': f'Env_intensity_{year}','industry_avg_year':f'industry_avg_year_{year}'}, inplace=True) \n",
    "        if(year == min(years)):\n",
    "            data1 = pd.DataFrame(data)\n",
    "        else:\n",
    "            data2 = pd.merge(data1, data, on=[\"CompanyName\"])\n",
    "            data1 = data2.copy()\n",
    "    data3 = df_c[df_c['Year'] == outcomeYear]\n",
    "    data3 = data3[['CompanyName','Env_intensity','industry_avg_year']]\n",
    "    data3.rename(columns={'Env_intensity': f'Env_intensity_{outcomeYear}','industry_avg_year':f'industry_avg_year_{outcomeYear}'}, inplace=True) \n",
    "    data3 = pd.merge(data3, data2, on=[\"CompanyName\"])\n",
    "    \n",
    "    filter_col = [col for col in data3 if ((col.startswith('Env_intensity') and not(col.endswith(f'{outcomeYear}')))) or ((col.startswith('industry_avg_year') and not(col.endswith(f'{outcomeYear}'))))]\n",
    "    outcome_col = [col for col in data3 if (col.startswith('Env_intensity') and col.endswith(f'{outcomeYear}'))]\n",
    "    X=data3[filter_col]\n",
    "    y=data3[outcome_col]\n",
    "    \n",
    "    regr = linear_model.LinearRegression()\n",
    "    X_train, X_test, y_train, y_test = train_test_split(X,y,test_size=0.2,random_state=42)\n",
    "    regr.fit(X_train, y_train)\n",
    "    y_train_pred = regr.predict(X_train)\n",
    "    y_pred = regr.predict(X_test)\n",
    "\n",
    "    print('MSE train: %.3f, test: %.3f' % (metrics.mean_squared_error(y_train, y_train_pred),\n",
    "                    metrics.mean_squared_error(y_test, y_pred)))\n",
    "    \n",
    "    # display the parameters\n",
    "    print('Model intercept: ', regr.intercept_)\n",
    "    print('Model coefficients: ', regr.coef_)\n",
    "    \n",
    "    print('R2 score:', metrics.r2_score(y_test, y_pred))\n",
    "    \n",
    "    fig, ax = plt.subplots(figsize=(12,8))\n",
    "    ax.scatter(y_test, y_pred, c='green')\n",
    "    ax.plot([y_test.min(), y_test.max()], [y.min(), y.max()], 'k--', lw=4)\n",
    "    ax.set_xlabel(f'Observed {outcomeYear} Environmental Intesity')\n",
    "    ax.set_ylabel(f'Predicted {outcomeYear} Environmental Intesity')\n",
    "    ax.set_title(f'Predicting {outcomeYear} Environmental intensity using {years} environmental intensity and industry average');"
   ]
  },
  {
   "cell_type": "code",
   "execution_count": 81,
   "id": "tropical-sight",
   "metadata": {},
   "outputs": [
    {
     "name": "stdout",
     "output_type": "stream",
     "text": [
      "MSE train: 0.007, test: 0.003\n",
      "Model intercept:  [-0.00057703]\n",
      "Model coefficients:  [[-0.01184595 -0.15828118 -0.1777978  -0.09734991  1.08688792  0.29898607]]\n",
      "R2 score: 0.9458906332169734\n"
     ]
    },
    {
     "data": {
      "image/png": "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\n",
      "text/plain": [
       "<Figure size 864x576 with 1 Axes>"
      ]
     },
     "metadata": {
      "needs_background": "light"
     },
     "output_type": "display_data"
    }
   ],
   "source": [
    "predictiveModel(2019, years, df_c)"
   ]
  },
  {
   "cell_type": "markdown",
   "id": "noticed-there",
   "metadata": {},
   "source": [
    "Now, we are going to create another function that will create a predictive model using environmental intensity, industry average and industry indicator."
   ]
  },
  {
   "cell_type": "code",
   "execution_count": 82,
   "id": "bigger-following",
   "metadata": {},
   "outputs": [],
   "source": [
    "def predictiveModel1(outcomeYear, pastYears, df_c):\n",
    "    years.sort()\n",
    "    for year in years:\n",
    "        data = df_c[df_c['Year'] == year]\n",
    "        data = data.loc[:,['CompanyName','Env_intensity','industry_avg_year','Industry_indicator_year']]\n",
    "        data.rename(columns={'Env_intensity': f'Env_intensity_{year}','industry_avg_year':f'industry_avg_year_{year}', 'Industry_indicator_year' : f'Industry_indicator_year_{year}'}, inplace=True) \n",
    "        if(year == min(years)):\n",
    "            data1 = pd.DataFrame(data)\n",
    "        else:\n",
    "            data2 = pd.merge(data1, data, on=[\"CompanyName\"])\n",
    "            data1 = data2.copy()\n",
    "    data3 = df_c[df_c['Year'] == outcomeYear]\n",
    "    data3 = data3[['CompanyName','Env_intensity']]\n",
    "    data3.rename(columns={'Env_intensity': f'Env_intensity_{outcomeYear}'}, inplace=True) \n",
    "    data3 = pd.merge(data3, data2, on=[\"CompanyName\"])\n",
    "    \n",
    "    filter_col = [col for col in data3 if ((col.startswith('Env_intensity') and not(col.endswith(f'{outcomeYear}')))) or ((col.startswith('industry_avg_year') and not(col.endswith(f'{outcomeYear}')))) or ((col.startswith('Industry_indicator_year_') and not(col.endswith(f'{outcomeYear}'))))]            \n",
    "    outcome_col = [col for col in data3 if (col.startswith('Env_intensity') and col.endswith(f'{outcomeYear}'))]\n",
    "    X=data3[filter_col]\n",
    "    y=data3[outcome_col]\n",
    "    \n",
    "    regr = linear_model.LinearRegression()\n",
    "    X_train, X_test, y_train, y_test = train_test_split(X,y,test_size=0.2,random_state=42)\n",
    "    regr.fit(X_train, y_train)\n",
    "    y_train_pred = regr.predict(X_train)\n",
    "    y_pred = regr.predict(X_test)\n",
    "\n",
    "    print('MSE train: %.3f, test: %.3f' % (metrics.mean_squared_error(y_train, y_train_pred),\n",
    "                    metrics.mean_squared_error(y_test, y_pred)))\n",
    "    \n",
    "    # display the parameters\n",
    "    print('Model intercept: ', regr.intercept_)\n",
    "    print('Model coefficients: ', regr.coef_)\n",
    "    \n",
    "    print('R2 score:', metrics.r2_score(y_test, y_pred))\n",
    "    \n",
    "    fig, ax = plt.subplots(figsize=(12,8))\n",
    "    ax.scatter(y_test, y_pred, c='red')\n",
    "    ax.plot([y_test.min(), y_test.max()], [y.min(), y.max()], 'k--', lw=4)\n",
    "    ax.set_xlabel(f'Observed {outcomeYear} Environmental Intesity')\n",
    "    ax.set_ylabel(f'Predicted {outcomeYear} Environmental Intesity')\n",
    "    ax.set_title(f'Predicting {outcomeYear} Environmental intensity using {years} environmental intensity, industry average and industry indicator');"
   ]
  },
  {
   "cell_type": "code",
   "execution_count": 83,
   "id": "informal-developer",
   "metadata": {},
   "outputs": [
    {
     "name": "stdout",
     "output_type": "stream",
     "text": [
      "MSE train: 0.007, test: 0.003\n",
      "Model intercept:  [-0.00054624]\n",
      "Model coefficients:  [[-0.01778571 -0.14500433  0.00410858 -0.18026925 -0.09273773  0.00114723\n",
      "   1.09366632  0.28265093 -0.00444881]]\n",
      "R2 score: 0.9465508192299915\n"
     ]
    },
    {
     "data": {
      "image/png": "iVBORw0KGgoAAAANSUhEUgAAAycAAAHwCAYAAAC8DRAXAAAAOXRFWHRTb2Z0d2FyZQBNYXRwbG90bGliIHZlcnNpb24zLjMuNCwgaHR0cHM6Ly9tYXRwbG90bGliLm9yZy8QVMy6AAAACXBIWXMAAAsTAAALEwEAmpwYAAByHklEQVR4nO3dd3wU1frH8c+TUAQFUUARpdg1IJZfLMi1I4oVLxYUKwFExMbFil2xYEVFpMQee2/X3rFgQKQE21VBrIj0TvL8/pgJbrKbBtnZTfJ9v1772t05s3Oe2TI7z5xzZszdERERERERSbWMVAcgIiIiIiICSk5ERERERCRNKDkREREREZG0oORERERERETSgpITERERERFJC0pOREREREQkLaQ0OTGzB83s+vDxPmb2zVou5z4zu6J6o6sb6up7F/vdS1DW28zejDqm8qzL76MaY2hrZovNLDMJy37fzJab2YfVvWxJLjPrGn4visysa8R1a/sVX1antl/rsr5m1t7M3MzqVXdcklxmtr+ZzS6nfLGZbbWWy37fzPqufXTJsS7bOzM73cw+jnm+1u9PFCpMTszsJzNbFq7IH+FGcYPqDsTdP3L37SsRT4k3OHztAHe/rrpjMrPtzOxFM5tjZn+b2Rtmtn2peS4ws9/NbKGZ3W9mDWPKrjOzqWa22syuLvU6M7OhZjYrfO0TZta0nFhiP4fi2z3ruo7Jeu+iFr4/1bJj5O557t6tkvXGfR+TofTvozrXtwoxzHL3Ddy9MElVDHL3fQHMrKGZ5ZrZTDNbZGaTzax77MxmdpCZfW1mS83sPTNrF1N2vJl9Epa9X7oiM8s0s+vN7Ndw+V+aWbOKAkxmXOEO3OJSNzeznqmMKyw/0MwmhduqH8ysf3GZu7/t7hsAsyqKs7pp+xWvrm2/qrK+yZKuO7N1Wfhf9UOq6k/Gb6s6t3fV8f5YOQdJ1lVlW06ODP98dgOygctLz2C188hDM+AlYHtgU2AC8GJxoZkdAlwCHAS0A7YCrol5/ffARcCrCZZ9KnAK0AVoDTQC7q4gniPDL1TxbdBarFOl1dLPVGqGesDPwH7AhgTbnKfMrD2AmbUAngOuADYG8oEnY17/N3AncFMZy78G2BvoDDQl+C0uT2Vc4Q7cmt83cASwGHg9lXGZWX3geWB0uOwTgNvNbOdKxJUy2n5JukjX72K6xlVXWBJ6IdQk5a6/u5d7A34CusY8vwV4JXzswNnAd8CP4bQjgMnAfOAToFPMa3cFJgGLCP4YnwCuD8v2B2bHzNuG4M90DjAXuAfYkWAHopDgT3t+OO+DpZcD/Af4E/gNOCNmuc2Bl4GFwBfA9cDHFb0P4Ws3Dte5efj8MeCGmPKDgN8TvO5R4OpS054BLox5vne4bo0r8zmUKjsd+Bi4FZgH/Ah0D8tOAPJLzX8B8FI5793FwO/AI0BDgp2WX8PbnUDDSr7XDwL3Av8NP6/xQKtwGfOAr4FdY+ZvDTwbfuY/AufGlF0NPAU8HH5/pgPZYdkjQBGwLKznonD60+F6LAA+BDqUiu368t7PmOcODCD4ns8HRgJG2d/HhuFnMQv4A7gPaFTJ9+wwoCBcx1+AIaV/H4nWlyABPqfUekwBjkmwfmuWlej7BexBsPO6MIz/9nB6+/C9qBc+fx+4LvxcFwFvAi1ilnkqMJPg93sF5X+H3wf6VvD7mwL0DB/3Bz6JKVs/fD92KPWavsD7paZtFL5vW1fmd1+J7UK1xJVguQ8AD6Q6LoIDM07Mtolg23liWd+hBLFsCOSG3/dfCLa7mbG/N7T90vYr/vsbt/1a2/UNyzLDdfsL+IFg/yV2m/YTJfd3rgYeDR+vR/BfPjdc7hcEv41h4Xu4PFyfe2LiWLN/FMZxW6nYXwIuKGO9RhAccFgITAT2ifmeLQM2jpl313Cd6ofP+wAzCL6nbwDtSr0/pffbEtYVljUCHgqXNSP8vGL31cr83idYp8OBL8N6fiZmv4h//l9OI/ju/QUMLRXHg2EcBcCFlPofK1WXA9vE/F5GEnzPFgGfE7P9Bw4m+D0vINjX/IDw/yj2O1AqzuLvzOkE36VF4fr3pvx91VHAa8CScB3+INwWhvP8G/iqjHV6kKrt674UvtcTCP6rS/9Otol5b28j+L9eQLA9Lv7NJ9wOEfynrAJWhuv4cjh9R4L/8/kE27mjSsUfu/4J/y/cvWpjTsysDcHG58uYyT2APYEsM9sVuB84M3xjRgMvhV0OGgAvEGyYNg5XOGF3hTCbeiV8o9oDmwNPuPsMgo3Opx4cXWxWRqitCP4MNwdygJFmtlFYNjJ8U1oR/AhOq8JbsC9B8jE3fN4B+Cqm/CtgUzNrXsnlWanHDYFtqxBPrD2Bb4AWwHAg18yMIBHb3sxil3sSQWKVSCuCz6cdwZdvKLAXsAuwM8GO6+Wl5i/rvQY4Ppy/BbAC+JQgQW1BkKDdDmBmGWGsX4XLOgg4P2ydKnYUQULbjOBHdw+Au59CsDErblkaHs7/X4L3c5Owzrwy1rkyjgB2BzqF63RIOd/Hm4DtCN6zbcL1uTJmWeW9Z7nAme7eBOgIvFs6kDLW9yHg5OJ5wqPam5O41a4iI4AR7t4U2Jpgp6osJwFnELzHDYAhYf1ZBDt2vYHNYtZ3rZjZpgTv6fRwUonfnrsvAf4XTq/ITsBq4FgLumR+a2Znp0FcsctdHziW4HNNaVzu/gfwOHBG2B2uM8H2oSpdFh4keM+3IdiR6kaQCBXT9kvbr+rafiVc33B6v7BsV4JeIMdWYZmnEax3G4L9mwHAMncfCnxE0C21dI+GHoT7RwTreGL4XSluzexK2d/lLwg+g43DeZ42s/Xc/VeC72Hs/tNJwDPuvsrMjgYuI9jJbRnG9nipZcfGVWZdYdlVBPthWxHsxMd+TpX53sdaQnDQqhlBonKWmfUoNc+/CHqrHARcaWY7xsSxdXg7hKrtuwH0Imgx34igV8uwcB2KW5WLf+f/I+jRUqFwO30XwcGUJgQHmSdXsK96Ulh3E4LeMnMJtofFTiE4iFEZFe3rLif4/+0T3spyK/B/YfwbEySgRWFZwu2Qu48JHw8P1/HIsJX9ZYIDlZsA5wB5VnI4ROz6l/0fUomjEj8RZn4EycK9/JNROXBgzLyjgOtKvf4bgq4G+xIcubKYsk9I0HJC0NViDmFmWmp5p1OqpYP4bHJZ7GsJssq9CI6arAK2jymrVMsJsAXBkaATY6b9Dzg05nn98D1pX+q1iVpO+gLfEvzoNyT4s3KgcyU+h+Jbv5j35PuYeRuHy2oVU/+V4eNtCTL8xmW8dyuB9Uqt42Exzw8BfqrovY5Z9tiYsnOAGTHPd+KfIwp7ArNKrfOlhEeOCY5evB1TlkXwx1DhUduwvFn4nmxYer0r+o6Fr/tXzPOngEvKmNcINsCxR2U6888Rqores1kEyX3TUjHtT8mjVSXWl+Co3jxg2/D5rcC9ZaxfiWWVXh7B0ZFriGkFCae3J77l5PKY8oHA6+HjK4HHS30nV5b1GVFOywnB7+ptYHTMtFzgplLzjQdOT/A7e7/UtJPC9cglOGLUiWB7c3BF24FkxlWq/BSCo3BWlZiSFRdwJMERvtXhrV+CeUp8J2Omb0qwY98oZtqJwHsxvyFtv7T9qtT2ax3X911gQExZNyrfctKHUr1BYuZ7n1LbL0rtH4XTZhBuZ4BBwGtV+F3PA3aO+Z2+G/OZ/QzsGz7/L5AT87oMYClh60miuCqo6weCZDZ2G1G8r1bu974S63QncEf4uH0Y2xYx5ROAXjFxxO5v9adqLSfjYsoOA74OH58KfFbqNzCbSrScELRAzydIFBuVqr/E9zImjodLTbsYyAsfbxx+VpuVsU4PUrV93R1iym4gQctJ+P1YVvx5V/B5NaOc7RCwD0ErS0bMtMcJ938TrX9Zt8q2nPRw92bu3s7dB7r7spiyn2MetwP+Y2bzi28ERxlah7dfPIwwNLOM+toAM919dSXjK21uqdcuBTYgOIpQ3Dc7UfwJmVlLgkzwXnePPQKxmKC/erHix4sqEeP9BB/a+wRHN98Lp5d59gn++RyKb2Njyn4vfuDuS8OHxScueIxgZwCCHbMXYuYpbY67x/a9b03Jz2lmOK1YWe91sT9iHi9L8Lx43nZA61LfncsIdmyK/R7zeCmwXll9ZsMjvDeZ2f/MbCHBnw4ER0bWRum6yzopREuCnauJMevxeji9WHnvWU+CDedMM/sgPEpdofAzexI4OTyadSJBK+XayCE4cvq1mX1hZkeUM29Z70trYn5b4fdtLlUUrssjBDudsUckS//2CJ9X5rdXvP261t2XufsUgiPah6U4rlinEWzEvcI5kxyXme1A8P6cStA61gG4yMwOr2RY7QgSpt9ifhOjCY6sFdP2K4a2X+u0/YJKbpcoex8kkUcIukg9YcGJNIaHR4rLU3r/IraF6GTKWUczG2JmM8xsQfg5bMg/n/+zQGcz24zgwG8RQQsJBN/FETGf398EO9yxLdcl4qqgrtLvWel9voq+97H17GnByTjmmNkCgtaF0t/pZHx2lV5uuM2tcL8wnHcJQdfTAQTbt1fD7WV5Si/7UeDIsBXmeOAjd/+tMvVTtX3dst6vFgQHB/5XumAttkOtgZ/dvShm2kzK+e6VpTpOJRz75/kzMKzUDnTjcIf+N2DzsKm+WNsylvkz0LaMDXeV/qxLmUNw1G+LmGltyntB2ET2JkEf52GliqcTdBUotjPwh//T7atM7l7k7le5e3t33yJc1i/hrbq9BbQ0s10INvplNSND/Pv7K8EGqFjbcFp1+5ng6Fzsd6eJu1d2h7F03CcBRxM0m29IcLQDSnalqw6l6/2LYKelQ8x6bOjBAOeKF+b+hbsfTbDj9gJld6lK9Dt4iKAb1UHAUnf/tIzXLiHYAQHWdKNcs/Ph7t+5+4lhDDcDz4Qbzqr4jZjfmZk1IugKUWnhtiKX4I+up7uviiku8dsL49uaf7oxlWdKeB/7HlZ6u5LEuIpf04bgqFhlm/aTHVdH4Ft3fyPcbn1D0N2mewWvK/YzQctJi5jfRFN3r2xXN22/tP2qLr9R8j+/9D5IiW0jQbcZANx9lbtf4+5ZBN1fjiBI2KHs7Ufp6Y8CR4fd1nYkeI/imNk+BF1rjgc28qBb0ALCz9/d5xHsl5xA8F15IuZAxs8EXetiv4uN3P2TRHFVVBeltuWUfP+q+r1/jKCXSBt335BgPFNlv9MVfXZrq8Ryw+1obD1lficAwu3iwQTdp74Gig8aV+o74e6/EHTT+zdBi/m6JOXFivd1K/N+/UXQ/WvrBGUVbYcSbW/bFHddjKk3dr+2Uv+11X2dk7HAgDA7NjNb38wON7MmBG/+auBcM6tvZv8m6P+byASCL8xN4TLWM7PiPoB/AFtYMIalSjw4BepzwNVm1jjMcE8ta34LTu37BjDe3S9JMMvDQI6ZZVlwGtLLCZqtil9f34J+mxlAvXA9MsOyjc1s6/B9yiLou3xtqYyzWoQ7KU8TnMxgY4I/+8p6HLjczFpa0DfzSoINbHWbACwys4vNrFGYsXc0s90r+fo/CPrEFmtCsEM0l2DDckP1hlui3jXfx/DzGwvcYWabAJjZ5lZ2H9w1zKyBBefs3zD8zBbyT7/PRPWWOEd5+GdeRDCwrbwN3LcER20PD4/8XU4w3qk4jpPNrGW4LvPDyVX9Xj5DcDRo7/C9uZqq71iNIvgDP7JUay0EZ4/qaGY9w9/YlcAUd/86XIfMcHo9ICP87dUHcPf/ERxlHGrBeLgdCfojvxK+dn8zK28DmpS4YpxCMHi9xJGsFMb1JbCtBacTNjPbmmDHbAqVEB4FfBO4zcyamllGuO3br5Kv1/arjm+/LDhV79VVWrPEniLYB9kiPPBY+n99MtAr/O8uMSbFzA4ws53C//CFBN1mitcvbn0ScffZBOM7HgGeTfA7LdaEYH9pDsG+w5XEt3w+RrD/ciwlE/b7gEvNrEMY94Zmdlw5YVVU11Ph8jYys80p2SJb1e99E+Bvd19uZnsQ7PxWVmwcWxB0s6wOrwIdzOzfFhwQP5eSCchkYF8LrvO1IUG3NSAY22dmR1twsGcFQQt17HeisvuqDxMkiDsR7KOukwT7ulmUMUYn/M3fT3AGxtbhZ9jZgstiVLQdKv29/5yg9eai8De0P0GX4Cequg7Vmpy4ez7BgLN7CPosfk/Q7w53X0mQGZ5O0Mx4AmV8COEbeyRBf7hZBF2dTgiL3yU42ve7mf21FmEOIsgAi8/m8jjBm5/IMQSD6s6wktceaBvG+TrB4M33wjhnEgzaKjaW4CjUiQQDM5cR7HhA0CxWfMaC/wL3ezDAqDwvl4rj+Sqs92ME2e/TXrXuctcTnLlpCjCVYEBUtZ/XOvzMjyAYlPcjQTY/juCzqowbCXZC5pvZEIIf+0yCjL0A+Ky6Yw4l+j5eTPDd/8yCptC3CQb4VcYpwE/h6wYQHElMpPT6FnuYYANX5g6Yuy8gGB8yjuD9WULJ7oSHAtPNbDHB4Phe5fyJllXHdII/jycIDjQsJugPW9ZvrQQLrsFxJsH34feY73zvcPlzCLqQDCPY1uxJkGAUO4Xg9zaKoB/sMv45ogXBb7IdwUb3VeAKd38nLGtD0Lc8FXFBsMORaCB8SuIKk6Q+BAM/FxKcyeZZgu9PZRV3CSsI63+G4EhjZWn7lRw1ZfvVhmCM1LoaS3DA8SuC70LpfZArCI4gzyMYdxe709+K4Hu7kGDsyAf8k0SNIDjBxjwzu6uCGB4iWMfyDiC9QdCd7luC78Fy4rvDvEQwBut3d4892cXzBC3eT4SfwzTKb+WsqK5rCf4ffiT4LjxDuB1fi+/9QOBaM1tEcKCgvJOtlHZNGN+PBAc7qqOFAXf/CziO4EQQcwne0/Ex5W8RdDmcQnAms1diXp4BDCZoMfibYHz1WWFZVfZVnyf4P3rey+6yWlWDCLp4/U5w0PyBcuYdQrB9/IJgPW4mWLeKtkO5BCfDmm9mL4T7+UcSfN/+IhijfmrxQbCqKD69Xp1lZjcTDLxMmFWK1CRmdirQ393/lepYYllw4db5BANef0xQ/ibBwNt8dz8g4vBKxzKOYCf4jVTGUVoax3UQQbLSkGDw+XsVvEQkoUTbr/Ao+VPuvnfqIqs+ZrYvQfLVzmvgDpiZnUVwwKpSLZ9SOWb2P4LueG+nOpZ0UOeSEwu6cjUgyBJ3J2i96OvuL6QyLpF1ZWaNCY7W3OvuVRqvkKR4jgTeIejOdRvB0frdauIfsogkV7ptv5Ih7Cr5BMF1LK5NdTyVYcGg+60IuuZvS9DSfI+735nKuGoTM+tJ0FqxXTK69tdE1T3mpCZoQtCUu4Sgqe42Yq76LlIThX3C5xD0AS1vwHCUjuafi99tS3C0TYmJiJSQptuvamXB2Lb5BN0Z70xpMFXTgODseosIkscXCbrrSDUws/cJutOercTkH3Wu5URERERERNJTjW45MbP7zexPM5tWRvn+Fpy3e3J4uzLRfCIiIiIiknoJLwBVgzxIcGaw8vqnfuTu5V1ETkRERERE0kCNTk7c/UMza1/dy23RooW3b1/tixURERERKWHixIl/uXvLiuesG2p0clJJnc3sK4JBuUPC6y+Uq3379uTn5yc/MhERERGp08xsZqpjSCe1PTmZRHAu8cVmdhjwAsFZg+KYWX+gP0Dbtm0jC1BERERERAI1ekB8Rdx9obsvDh+/BtQ3sxZlzDvG3bPdPbtlS7WsiYiIiIhErVYnJ2bWyswsfLwHwfrOTW1UIiIiIiKSSI3u1mVmjwP7Ay3MbDZwFVAfwN3vA44FzjKz1cAydBE4EREREZG0VaOTE3c/sYLyewhONSwiIiIiImmuVnfrEhERERGRmkPJiYiIiIiIpAUlJyIiIiIikhaUnIiIiIiISFpQciIiIiIiImlByYmIiIiIiKQFJSciIiIiIpIWlJyIiIiIiEhaUHIiIiIiIiJpQcmJiIiIiIikBSUnIiIiIiKSFpSciIiIiEidM3/+fPr378+oUaNSHYrEqJfqAEREREREovTSSy9x1lln8euvv7LBBhtw2GGH0a5du1SHJajlRERERETqiFWrVtGrVy+OPvpofv31VwAWL17MgAEDcPcURyeg5ERERERE6oj69euTkRG/+/vTTz8xZ86cFEQkpSk5EREREZE6Y8SIEbRo0QKAzMxMhg4dypdffskmm2yS4sgElJyIiIiISB3SsmVL7rrrLnbddVfy8/O5/vrrWW+99VIdloSUnIiIiIhIrfLdd99x3XXXlVneq1cvJkyYwC677BJdUFIpSk5EREREpFZYvXo1w4cPp1OnTlx55ZU8++yzCeczM+rV00lr05GSExERERGp8b766iv22msvLr74YpYvXw7A2Wefzbx581IcmVSFkhMRERERqbFWrFjBFVdcQXZ2NhMnTixR9scff/DAAw+kKDJZG2rPEhEREZEa6dNPPyUnJ4cZM2bElW288cbceeednHzyySmITNaWWk5EREREpEZZvHgx559/Pl26dEmYmBx//PEUFBRwyimnYGYpiFDWllpORERERKTGeOutt+jfvz8//fRTXFmrVq0YNWoUPXr0iDwuqR5qORERERGRtDdv3jxycnLo1q1bwsQkJyeHgoICJSY1nFpORERERCTt9enThxdeeCFu+pZbbsnYsWM56KCDog9Kqp1aTkREREQk7Q0bNowGDRqseW5mnH/++UydOlWJSS2i5ERERERE0l5WVhZXXHHFmseffPIJd9xxB+uvv36KI5PqpG5dIiIiIpI2Fi1aRJMmTRKWXXzxxTRt2pQzzzyThg0bRhyZREEtJyIiIiKSckVFRdxzzz20adOG/Pz8hPPUr1+fc889t/oSk7w8aN8eMjKC+7y86lmurDUlJyIiIiKSUt988w377rsv55xzDgsWLCAnJ4dVq1Ylt9K8POjfH2bOBPfgvn9/JSgppuRERERERFJi1apV3Hjjjey8886MHz9+zfQpU6YwfPjw5FY+dCgsXVpy2tKlwXRJGY05EREREZHIffnll+Tk5PDll1/GlTVp0oRWrVolN4BZs6o2XSKhlhMRERERiczy5cu57LLL2H333RMmJocffjgFBQXk5OQkN5C2bas2XSKh5EREREREIjF+/Hh22WUXbrzxRgoLC0uUNW/enLy8PF5++WW22GKL5AczbBg0blxyWuPGwXRJGSUnIiIiIpJUixYt4pxzzmGfffbhm2++iSvv1asXM2bM4KSTTsLMogmqd28YMwbatQOz4H7MmGC6pIzGnIiIiIhI0rz//vucdtppzEowlqN169aMGjWKo446KgWRESQiSkbSilpORERERCRpVq5cmTAx6d+/PwUFBalLTCQtKTkRERERkaTp1q0bZ5xxxprnW2+9Ne+++y6jR49mww03TGFkko6UnIiIiIhIUt12221svvnm/Oc//2HKlCkccMABqQ5J0pTGnIiIiIjIOnF3HnroIbp27ZrwTFsbbbQRX3/9NRtssEEKopOaRC0nIiIiIrLWfvrpJw455BDOOOMMBgwYgLsnnE+JiVSGkhMRERERqbLCwkLuuusuOnbsyFtvvQXAq6++yuOPP57iyKQmU3IiIiIiIlUyY8YM9tlnH8477zyWLFlSouySSy5h1apVKYpMajolJyIiIiJSKatWrWLYsGHssssufPrpp3HlBxxwAO+99x7169dPQXRSG2hAvIiIiIhUaOLEifTp04cpU6bElTVt2pRbb72Vvn37RneFd6mV1HIiIiIiImVatmwZl1xyCXvuuWfCxOTII4+koKCAfv36KTGRdaaWExERERFJ6MMPP6Rv37589913cWUtW7bk7rvv5vjjj1dSItVGyYmIiIiIxPnoo4/Yb7/9Epb17t2bO++8kxYtWkQcldR26tYlIiIiInG6dOkSl5xsscUWvPLKKzz66KNKTCQplJyIiIiISJyMjAzGjh3LeuutB8CAAQOYPn06hx9+eIojk9pM3bpERERE6jB3p7CwkHr14ncLt912W+6991622mqrMrt4iVSnGt1yYmb3m9mfZjatjHIzs7vM7Hszm2Jmu0Udo4iIiEi6+vXXX+nRowdDhgwpc54zzjhDiYlEpkYnJ8CDwKHllHcHtg1v/YFREcQkIiIiktbcnXHjxpGVlcVLL73EXXfdxSeffJLqsERqdnLi7h8Cf5czy9HAwx74DGhmZptFE52IiIhI+vnhhx/o2rUr/fr1Y8GCBUCQrOTk5LB8+fIURyd1XY1OTiphc+DnmOezw2lxzKy/meWbWf6cOXMiCU5EREQkKoWFhdxxxx107NiRd999N668WbNm/P13ecd8RZKvticnlebuY9w9292zW7ZsmepwRERERKrN9OnT6dKlC4MHD2bZsmUlyho3bsydd97Jxx9/TOvWrVMUoUigtp+t6xegTczzLcJpIiIiIrXeypUruemmm7j++utZtWpVXHnXrl0ZM2YMW265ZQqiE4lX21tOXgJODc/atRewwN1/S3VQIiIiIsn2xRdfkJ2dzVVXXRWXmGy44Ybk5uby5ptvKjGRtFKjW07M7HFgf6CFmc0GrgLqA7j7fcBrwGHA98BS4IzURCoiIiISjWXLlnHllVdy++23U1RUFFfeo0cPRo4cqS5ckpZqdHLi7idWUO7A2RGFIyIiIpIWXnjhhbjEZJNNNuGee+7h2GOPxcxSFJlI+Wp7ty4RERGROqVRo0aMGzeuxLRTTz2VgoICjjvuOCUmktaUnIiIiIjUMvvttx8DBgygTZs2vPbaazz00EM0b9481WGJVMiCnk8SKzs72/Pz81MdhoiIiEiZ5syZw6RJkzjkkEMSli9atAiAJk2aRBmWVJGZTXT37FTHkS7UciIiIiJSg7g7jz/+OFlZWfz73//mxx9/TDhfkyZNlJhIjaPkRERERKSGmD17NkcddRQnnXQSf/31F0uXLqV///6oJ4zUFkpORERERNJcUVERo0ePJisri1deeaVE2dtvv80zzzyToshEqleNPpWwiIiISG33/fff069fP95///24sgYNGnDVVVfRo0ePyOMSSQYlJyIiIiJpaPXq1dx5551cccUVLF++PK587733Jjc3lx122CEF0Ykkh5ITERERkTQzdepUcnJy+OKLL+LK1l9/fW666SYGDhxIRoZ66EvtouREREREJE2sWLGCG264gRtuuIHVq1fHlXfr1o3Ro0fTvn376IMTiYCSExEREZE04O4cfPDBfPTRR3FlG220EXfccQennnqqrvAutZraAkVERETSgJnRp0+fuOk9e/akoKCA0047TYmJ1HpKTkRERETSxGmnnUa3bt0A2HTTTXnmmWd45plnaNWqVYojE4mGkhMRERGRiJV10UQzY/To0fTv35+CggJ69uwZcWQiqaXkRERERCRCL774InvttRcLFixIWN6+fXtGjx7NxhtvHHFkIqmn5EREREQkAn/88QcnnHACPXr0YMKECVx88cWpDkkk7Sg5EREREUkid+fRRx8lKyuLp556as300aNHJ7zqu0hdpuREREREJElmzZrF4YcfzimnnMLff/9doqxevXpMnTo1RZGJpCdd50RERESkmhUVFTF69GguuugiFi9eHFe+2267kZubyy677BJ9cCJpTC0nIiIiItXo22+/Zf/992fgwIFxiUnDhg256aab+Pzzz5WYiCSglhMRERGRarB69Wpuv/12rrrqKpYvXx5Xvs8++zBu3Di22267FEQnUjMoORERERFZR1999RV9+vRh0qRJcWUbbLABN998MwMGDCAjQ51WRMqj5ERERERkHT377LMJE5NDDz2U0aNH07Zt2xREJVLzKH0XERERWUdDhw4lKytrzfONN96Yhx9+mNdee02JiUgVKDkRERERWUcNGzYkNzcXM+P444+noKCAU045BTNLdWgiNYq6dYmIiIhU0kcffUTnzp2pVy9+F2qvvfZiypQpdOzYMQWRidQOajkRERERqcC8efPo06cP++67L7fffnuZ8ykxEVk3Sk5EREREyvHcc8+RlZXFAw88AMBVV13Ft99+m+KoRGonJSciIiIiCfz+++8ce+yx9OzZk99//33N9OXLlzNgwADcPYXRidROSk5EREREYrg7Dz30EFlZWTz77LNx5VlZWdxwww0a7C6SBEpOREREREIzZ86ke/funH766cybN69EWb169bjyyiuZNGkSe+21V4oiFKnddLYuERERqfOKioq49957ueSSS1iyZElceXZ2Nrm5uXTq1CkF0YnUHUpOREREpE77+uuv6du3L+PHj48rW2+99bjuuus4//zzE54+WESql35lIiIiUme9/PLLHHfccaxYsSKubL/99mPcuHFss802KYhMpG7SmBMRERGps/baay+aNGlSYlqTJk247777ePfdd5WYiERMyYmIiIjUWS1btuTuu+9e8/zwww+noKCAM888k4wM7SaJRE3dukRERKROO+GEE3jzzTfp2rUrJ554ok4RLJJCSk5ERESkVlu0aBGXXnopBxxwAD179owrNzPuv//+FEQmIqWpvVJERERqrddff52OHTsycuRIzj77bP7+++9UhyQi5VByIiIiIrXO3LlzOe200+jevTuzZs0C4I8//mDw4MEpjkxEyqPkRERERGoNd+eZZ54hKyuLhx9+OK78448/ZsGCBSmITEQqQ8mJiIiI1Aq//fYbPXv25LjjjuPPP/8sUZaRkcGQIUOYMmUKG264YYoiFJGKaEC8iIiI1GjuzoMPPsjgwYOZP39+XHnHjh3Jzc1ljz32iD44EakStZyIiIhIjfXjjz/SrVs3+vTpE5eY1K9fn2uuuYaJEycqMRGpIdRyIiIiIjVOYWEhI0eO5NJLL2Xp0qVx5XvuuSe5ubl06NAhBdGJyNpSy4mIiIjUOD/++CMXXnhhXGLSqFEjbr/9dsaPH6/ERKQGUnIiIiIiNc4222zDlVdeWWLagQceyLRp07jgggvIzMxMUWQisi6UnIiIiEiNdNFFF9GpUyeaNm3K2LFjefvtt9lqq61SHZaIrAONOREREZG0tWzZMn7//Xe23HLLuLL69evzxBNP0LRpUzbffPMURCci1U0tJyIiIpKWPvjgA3beeWeOPvpoVq5cmXCeHXfcUYmJSC2i5ERERETSysKFCznrrLPYf//9+e6775g6dSo333xzqsMSkQjU+OTEzA41s2/M7HszuyRB+elmNsfMJoe3vqmIU0RERCr22muv0aFDB+67774S06+77jqmT5+eoqhEJCo1esyJmWUCI4GDgdnAF2b2krsXlJr1SXcfFHmAIiIiUil//fUX559/Pnl5eQnL+/btS5s2bSKOSkSiVqOTE2AP4Ht3/wHAzJ4AjgZKJyciIiKShtydp556inPOOYc5c+bElW+77baMGzeOfffdNwXRiUjUIunWZWbNk7TozYGfY57PDqeV1tPMppjZM2amwy4iIiJp4Ndff6VHjx706tUrLjHJyMjgoosu4quvvlJiIlKHRDXm5DMze9rMDjMzi6jOYi8D7d29E/AW8FCimcysv5nlm1l+oiM3IiIiUj3cnXHjxpGVlcVLL70UV96pUyc+//xzbr75Zho1apSCCEUkVaJKTrYDxgCnAN+Z2Q1mtl01LPcXILYlZItw2hruPtfdV4RPxwH/l2hB7j7G3bPdPbtly5bVEJqIiIiUtnLlSrp27Uq/fv1YsGBBibIGDRpw/fXXk5+fT3Z2dooiFJFUiiQ58cBb7n4i0A84DZhgZh+YWed1WPQXwLZmtqWZNQB6ASUOwZjZZjFPjwJmrEN9IiIisg4aNGhA+/bt46Z37tyZyZMnM3ToUOrXrx99YCKSFiIbc2Jm55lZPjAEOAdoAfwHeGxtl+vuq4FBwBsEScdT7j7dzK41s6PC2c41s+lm9hVwLnD6OqyKiIiIrKNbb72VVq1aAdC4cWNGjBjBRx99xI477pjiyEQk1czdk1+J2bfAI8AD7j67VNnF7p5WV1bKzs72/Pz8VIchIiJSaz3//PPce++9jBkzhi233DLV4YikjJlNdHf1YwxFNebkcne/LjYxMbPjANItMREREZF1N2HCBC644ALKOgh6zDHH8OabbyoxEZESokpO4q7cDlwaUd0iIiISkaVLlzJkyBA6d+7MnXfeyWOPld17O/oTeIpIukvqRRjNrDtwGLC5md0VU9QUWJ3MukVERCRa7733Hn379uWHH35YM+28887j4IMPZpNNNklhZCJSUyS75eRXIB9YDkyMub0EHJLkukVERCQCCxYs4Mwzz+TAAw8skZgAzJ07l+effz5FkYlITZPUlhN3/wr4yszywjNriYiISC3y8ssvM2DAAH799de4srZt2zJmzBgOOUTHI0WkcpLdrespdz8e+NLMYkfEGcHlTzols34RERFJjjlz5nDeeefx+OOPJywfNGgQN9xwA02aNIk4MhGpyZKanADnhfdHJLkeERERiYC78/jjj3Puuecyd+7cuPLtt9+ecePG8a9//SsF0YlITZfUMSfu/lv48C/gZ3efCTQEdiYYjyIiIiI1xOzZsznqqKPo3bt3XGKSmZnJpZdeyuTJkyuXmOTlQfv2kJER3OflJSVmEalZkt1yUuxDYB8z2wh4E/gCOAHoHVH9IiIiso7OPvtsXnnllbjpu+yyC/fffz+77rpr5RaUlwf9+8PSpcHzmTOD5wC9tWsgUpdFdZ0Tc/elwL+Be939OKBDRHWLiIhINbjtttto1KjRmucNGzbkhhtuYMKECZVPTACGDv0nMSm2dGkwXUTqtMiSEzPrTNBS8mo4LTOiukVERKQabLPNNlx33XUAdOnShcmTJ3PppZdSv379qi1o1qyqTReROiOqbl3nE1wR/nl3n25mWwHvRVS3iIiIVMHvv/9Oq1atEpadd955bLbZZvTq1YuMjLU8xtm2bdCVK9F0EanTImk5cfcP3P0o4O7w+Q/ufm4UdYuIiEjlrFixgiuvvJL27dszfvz4hPPUq1ePk046ae0TE4Bhw6Bx45LTGjcOpotInRZJcmJmnc2sAPg6fL6zmd0bRd0iIiJSsc8++4zddtuN6667jhUrVtC3b1+WL1+enMp694YxY6BdOzAL7seM0WB4EYlszMmdwCHAXFhz5fh9I6pbREREyrBkyRIuuOAC9t57bwoKCtZM//rrr7n++uuTV3Hv3vDTT1BUFNwrMRERohtzgrv/bGaxkwqjqltERETivfPOO/Tr148ff/wxrqxVq1ZkZ2enICoRqcuiajn52cz2BtzM6pvZEGBGRHWLiIhIjPnz59O3b1+6du2aMDE544wzKCgooEePHtEHJyJ1WlQtJwOAEcDmwC8EF2IcGFHdIiIiEnrxxRc566yz+O233+LK2rdvz5gxYzj44INTEJmISHQtJ9u7e29339TdN3H3k4EdI6pbRESkzvvjjz844YQT6NGjR1xiYmacd955TJ06VYmJiKRUVC0ndwO7VWKaiIiIVLMXX3yRPn368Pfff8eV7bjjjuTm5tK5c+cURCYiUlJSk5PwqvB7Ay3NbHBMUVN0hXgREZFIbLTRRnGJSb169bjkkku4/PLLadiwYYoiExEpKdnduhoAGxAkQU1ibguBY5Nct4iIiAD77rsvZ5111prn//d//0d+fj7XXXedEhMRSSvm7smvxKydu89MekXVJDs72/Pz81MdhoiISLVZuHAhu+++Ozk5OQwePJh69SK7moCIlMPMJrq7ztsdimrL1NDMxgDtY+t09wMjql9ERKRWW716NbfffjvHHnssW221VVx506ZNmTZtGvXr109BdCIilRNVcvI0cB8wDl18UUREpFpNnjyZnJwcJk2axJtvvslbb71FqQsfAygxEZG0F9WphFe7+yh3n+DuE4tvEdUtIiJSKy1fvpyhQ4eSnZ3NpEmTgOCq7/fff3+KIxMRWTtRJScvm9lAM9vMzDYuvkVUt4iISK3zySefsOuuu3LDDTdQWFiyU8KNN97I6tWrUxSZiMjaiyo5OQ24EPgEmBjeNOJcRESkihYvXsy5557Lv/71L77++uu48hNOOIFPPvlEA95FpEaKZMvl7ltGUY+IiEht9uabb9K/f39mzow/AeZmm23GqFGjOProo1MQmYhI9Uj2RRj/XV65uz+XzPpFRERqg3nz5jF48GAefPDBhOV9+/bllltuoVmzZpHGJSJS3ZLdcnJkOWUOKDkREREpx3PPPcfZZ5/N77//Hle21VZbMWbMGA466KAURCYiUv2Smpy4+xnJXL6IiEht9t5779GzZ8+46RkZGZx//vlce+21rL/++imITEQkOaIaEC8iIiJVtP/++3PIIYeUmJaVlcUnn3zCbbfdpsRERGodJSciIiJpyswYPXo066+/PvXq1eOqq65i0qRJ7LnnnqkOTUQkKXSeQRERkRQrKipixYoVNGrUKK6sXbt2PPjgg2y//fbstNNOKYhORCQ6OluXiIhICn399df07duXrKwsxowZk3CeY489NuKoRERSQ2frEhERSYFVq1Zxyy23cM0117By5UrGjx9Pr169OPDAA1MdmohIyuhsXSIiIhGbNGkSOTk5TJ48ucT0fv36MXXqVBo3bpyawEREUiyyMSdmdjjQAViveJq7XxtV/SIiIqm2bNkyrr32Wm655RYKCwvjyrOysliyZImSExGpsyJJTszsPqAxcAAwDjgWmBBF3SIiIung448/Jicnh2+//TaurEWLFtx111306tULM0tBdCIi6SGqUwnv7e6nAvPc/RqgM7BdRHWLiIikzKJFixg0aBD77LNPwsTkpJNOoqCggBNPPFGJiYjUeVF161oW3i81s9bAXGCziOoWERFJif/+97+ceeaZ/Pzzz3Flm2++Offddx9HHHFECiITEUlPUbWcvGJmzYBbgEnAT8DjEdUtIiISqYULF3Lqqady2GGHJUxMzjzzTKZPn67ERESklKhaToa7+wrgWTN7hWBQ/PKI6hYREYlUw4YNmTRpUtz0rbfemnHjxrH//vtHH5SISA0QVcvJp8UP3H2Fuy+InSYiIlKbNGzYkNzc3DVjSDIyMhgyZAhTpkxRYiIiUo5kXyG+FbA50MjMdgWKR/o1JTh7l4iISK205557cv755/P222+Tm5vL7rvvnuqQRETSnrl78hZudhpwOpAN5McULQIedPe0vEJ8dna25+fnVzyjiIjUaT/++CP5+fkcd9xxCcuXLVtGZmYmDRo0iDgyEakpzGyiu2enOo50kewrxD8EPGRmPd392WTWJSIiEpXCwkLuueceLrvsMgoLC9l5553Zbrv4M+Q3atQoBdGJiNRcUQ2If8XMTgLax9apK8SLiEhNU1BQQN++ffn003+GTubk5PDBBx+QkRHVUE4Rkdopqq3oi8DRwGpgScxNRESkRli1ahXXX389u+66a4nEBIKrvz///PMpikxEpPaIquVkC3c/NKK6REREqlV+fj45OTlMmTIlrmzDDTfktttu49///ncKIhMRqV2iajn5xMx2iqguERGRarFs2TIuuugi9txzz4SJydGNGlGwYAE5112HPfZYCiIUEaldokpO/gVMNLNvzGyKmU01s/it/Fows0PD5X5vZpckKG9oZk+G5Z+bWfvqqFdERGq3Dz74gE6dOnHLLbdQVFRUoqxl06Y82aABzy9bRmuAmTOhf3/IywtmyMuD9u0hIyO4L54uIiLlSuqphNdUYtYu0XR3n7mOy80EvgUOBmYDXwAnuntBzDwDgU7uPsDMegHHuPsJ5S1XpxIWEam7Fi5cyMUXX8x9992XsPyUU07hjvfeo/ns2fGF7drBNtvAO+8kXngE/7kiUrPoVMIlRTLmxN1nmtm/gG3d/QEzawlsUA2L3gP43t1/ADCzJwgG3hfEzHM0cHX4+BngHjMzjyIrExGRGsXdOfDAA5k4cWJcWZs2bRg9ejTdu3cPWkQSmTkzuJXFTAmKiEg5IunWZWZXARcDl4aT6gOPVsOiNwd+jnk+O5yWcB53Xw0sAJpXQ90iIlLLmBkXXXRR3PSBAwcybdo0ur/8MtSrpwRDRCRJohpzcgxwFOHpg939V6BJRHVXipn1N7N8M8ufM2dOqsMREZEUOe644zj66KMB2Hbbbfnggw8YOXIkTS+5BEaNgsLCFEcoIlJ7RXUq4ZXu7mbmAGa2fjUt9xegTczzLcJpieaZbWb1gA2BuaUX5O5jgDEQjDmppvhERCRNFRYWkpmZGTfdzLj33nvp2LEjQ4cO/ecq76NHRxyhiEjdE1XLyVNmNhpoZmb9gLeBsdWw3C+Abc1sSzNrAPQCXio1z0vAaeHjY4F3Nd5ERKTucnfGjRtHVlYWc+fGHasCoHXr1lx//fX/JCZdu0KpM3aJiEj1iyQ5cfdbCQajPwtsD1zp7ndXw3JXA4OAN4AZwFPuPt3MrjWzo8LZcoHmZvY9MBiIO92wiIjUDf/73//o2rUr/fr149tvv2Xw4MFlz1x8OmCzss++VVU6NiYiUq5ITiW8pjKzpsR0JXP3vyOrvAp0KmERkdqlsLCQESNGcPnll7Ns2bISZf+98EIOfeopmDUL2raFYcOCgj59YOXK6gtCiYmIJKBTCZcUyZgTMzsTuAZYDhQBBjiwVRT1i4hI3TVt2jRycnKYMGFCXNn6wJ+33PLPhJkz4eSTqzeArCyYPr16lykiUktFNeZkCNDR3du7+1buvqW7KzERkZpFV/1OD5X8HFauXMk111zDbrvtljAxORiYBpyazFgffVSJiYhIFUR1tq7/AUsjqktEpPrl5UH//rA03JTNnBk8B+jdO3Vx1TWV/BwmTJhATk4O06ZNi1tEM+AOgjOlWLLibN4cRozQd0NEpIoiGXNiZrsCDwCfAyuKp7v7uUmvfC1ozImIxGnfPvGVv9u1g59+ijqauquCz2Hp0qVcceyx3Pnf/5Lo3Fr/BkYCraornsxM2GKLkuNVlJCISBVozElJUbWcjAbeBaZCwv8LEZH0NmtW1aZL9cjLg6FD/9n5T5SYAMyaxXvvvUffXr344c8/44o3JUhKelZ3fA89pGRERKQaRZWc1Hf3cs7XKCKS5sraMW7bNvpY6opEXbjMEp/1qm1bPvvss4SJyWnA7cDG1R1f8+ZKTEREqllUA+L/a2b9zWwzM9u4+BZR3SIi627YMGjcuOS0xo3/Oe2sVL+hQ/9JTIq5BwlKrPBzGPLTT+wSM7kt8DrwIElITBo3DsaUiIhItYoqOTkRuBT4BJgY3jSoQ0Rqjt69YcyYYGyDWXA/ZoyOnCdTWV3m3BN+DvXHjOF+oD7B1XmnAYeUt/wNNohPdMqz/vrlf/Y6m5uIyDqL9CKMNYUGxIuIpIEEg98deLFlSw6bPZsGDRr8MyYlZr6fgTaVWb47tGgBc+fGl8V2H6vMmbdKd0GDoHVFCayIVEAD4kuKLDkxs72B9pS8QvzDkVReRUpORETSQKkd/p+BszIyeLWoiKuvvpqrttkmPiGorMxMWL06aOVI9D9oBkVVOH+LzuYmImtJyUlJUZ1K+BFga2AyUBhOdp1KWEREypWXR9FllzF21iwuNGNR+J9VH5gEdFyXZbtXX1JRXUmOiNQ5Sk5KiupsXdlAlqsPmYiIVMF3e+xBvy235INZs0rs/K8CzgY+WNsFN28e3A8blrg7VlVPdKCzuYmIVIuoBsRPoxqveSUiImlsXQeG5+Wxul07bjGj0/bb88EH8SnIv4Ax6xLjwoVBXNV1ogOdzU1EpFpE1a3rPWAXYAIlrxB/VNIrXwvq1iUispbWdWB4Xh5T+vYlZ/nyhKd03AC4CTiLaji6Vt3jQUpfMFJXixeRSlC3rpKiSk72SzTd3de6RT6ZlJyIiKyldRjDsWLFCoZtuik3LljA6gTlhwL3Ae3WPcqAxoOISBpQclJSJN26wiTka6BJeJuRromJiIisg7KuTVLW9NBnn33GbrvtxnUJEpONgYeB11iLxCQzM7ieSSIaDyIiknYiSU7M7HiCLl3HAccDn5vZsVHULSIiESprh7+cROCpp55i7733pqCgIK7sOKAAOAUocbnEzMzgPtHV4h99NBg87x6cLvi++zQeRESkhohqQPxQYHd3P83dTwX2AK6IqG4REaluZQ16X4uB4d26daPVhhuWmNYKeA54Cti09AsaN4aHHgqSj0ceqXgwe3UNehcRkaSL6lTCGe7+Z8zzuUSXGImISHUqPeh95szgOfyzw1+FgeHNXn2VUYsW0SN83ge4FdiorBfEJha9e1cuyajsfCIiklJRDYi/BegEPB5OOgGY4u4XJ73ytaAB8SIi5ajsoPcEZ6/yk07CSnfFCpf3H6A70LW8unXFdRGpZTQgvqSkt5xY8C90F7A7wanpAca4+/PJrltERJKgMoPeS7Wu/DFzJueedhpHfvwxJ48aVXK+MNG5raJ6NU5ERKTWS3py4u5uZq+5+04EXYhFRKQmq8zV0IcOhaVLceBR4Hzg78JC3h4zhoN32olNhw8PllG6FaW0zMzgdL+6boiISJ0Q1biPSWa2e0R1iYhIMlVm0PusWcwCDgdOBf4OJ/9dVMS55577T3JTXtfiBg2Cge9FRUFXLiUmIiK1XlTJyZ7Ap2b2PzObYmZTzWxKRHWLiEh1a9Ton8fNm5cYpF5UVMS9G21EB+C/CV76Q2EhiypafvPmcP/9SkhEROqYqM7WdUhE9YiISDKVPlMXwLJlax5+88039OvXj4/+/jvupesB1wIXUMGfjwa9i4jUWUltOTGzpuHDRWXcRESkJgnHkpSwdCmrL7uMm266iZ133pmPPvoo7mX7NmzIlFtv5cJ27cpPTDToXUSkTkt2y8ljwBHARMApeYFfB7ZKcv0iIlKdEpypazKQM2sWky69NK6sSZMmDB8+nP79+5ORkQGtWsW3vJgFY0/atdOgdxGROi6pyYm7HxHeb5nMekREJCIxZ+paDlwH3AwUJpj1sMMO47777qNNmzb/TFyLizSKiEjdEcmAeDN7ycxONLPGFc8tIiJpK+ZMXb8BdxCfmDRv3pxHH32UV155pWRiUqx372BMic7CJSIipUR1tq7bgH2AGWb2jJkda2brRVS3iIisq7y84Erup5wSnKmreXO2NGPYRhuVmK1Xr14UFBTQu3fv+CvBi4iIVCCS5MTdP3D3gQRjTEYDxwN/RlG3iIhUUXEikpER3A8cGIwTmTkzGBsyd25whq5HHuHcOXPYY489aN26NS+++CKPP/44m2yySarXQEREaqioWk4ws0ZAT2AAsDvwUFR1i4jUeaUTjry8sueLTURmzmTeqFEUJDhDF0OHkpmZyZNPPsn06dM56qijkr0WIiJSy0VynRMzewrYA3gduAf4wN2LoqhbRKTOK31tkpkzg+cQP96j1KmCnwXOBjYEviK4Vska4Zm72rdvn5SwRUSk7omq5SQX2NrdB7j7e0pMREQiVMa1SRg6NH7eMOH4HTg2vP0BfAtcU3retm2rO1IREanjImk5cfc3zGxvM2sfW6e7PxxF/SIidVqCa5OUNd3btOGhWbMYDMwrVXYL0AvYGXSxRBERSYqoTiX8CHAr8C+C8Sa7A9lR1C0iUmtVdhxJWS0cpab/9NNPHLrhhpxBfGJSH7gc2BGCiyWOGaNTAIuISLWLpOWEIBHJcnePqD4RkdqtKuNIhg2Lvyp7TMtHUVERI0eO5NJLL2XJkiVxVe1O0Dd3JwgSk59+quaVERERCUQ15mQa0CqiukREar+qjCPp3Tto6WjXDsxKtHzMmDGDffbZh3PPPTcuMWlEcJGqTwkTEyi7i5iIiEg1iKrlpAVQYGYTgBXFE91d550UEVkbVRhHAgQJSkyLyqpVq7jlhhu45pprWLlyZdzsBzRsyNgVK9i6dIEGwYuISBJFlZxcHVE9IiJ1Q9u2QVeuRNMrsGLFCvbee28mTZoUV9a0aVNuvfVW+jZqhJ15ZpldwURERJIhqd26zGwHCK4QD3wWXin+g/D5ivJfLSIiZRo2LEgWYlUyeWjYsCF777133PQjjzySgoIC+vXrh518cpldwURERJLFkjlG3cwmuftupR8nep5OsrOzPT8/P9VhiIiULy8vGGMya1bQYjJsWKWTh0WLFtGxY0dmzZpFixYtuPvuuznhhBMwsyQHLSIiscxsorvrLLahZHfrsjIeJ3ouIiJVUWocSVU0adKE0aNH88gjjzBixAhatGhRzcGJiIhUXbLP1uVlPE70XEREqtF///tfTj/9dMpqIT/00EPJy8tTYiIiImkj2S0nW5jZXQStJMWPCZ9vnuS6RUTqpLlz53LBBRfwyCOPALDPPvuQk5OT4qhEREQqluzk5MKYx6UHcWhQh4hINXJ3nn76aQYNGsScOXPWTP/Pf/5D9+7dad26dQqjExERqVhSkxN3fyiZyxcRkcCvv/7K2WefzQsvvBBXtmjRIt555x1OOeWU6AMTERGpgqiuEC8iIkng7uTm5pKVlZUwMdlpp5347LPPlJiIiEiNoORERKSG+uGHHzj44IPp27cvCxYsKFFWv359rr32WvLz89l9991TFKGIiEjVRHWFeBERqSaFhYXcfffdDB06lKWxV3AP7bnnnuTm5tKhQ4cURCciIrL2kt5yYmYHmNk9ZvaimT1nZjeZ2TbJrldEpMbLy4P27SEjI7jPy2P69Ol06dKFCy64IC4xady4MXfccQfjx49XYiIiIjVSUltOzOxGoBXwTnj/I/A/4Gkzu8Hdn05m/SIiNdbAgXDffVB8jZKZM6F/f4buuCOfT5wYN/tBBx3EmDFj2GqrrSIOVEREpPoku+XkCHc/w90fBXoBe7v7WOBA4Kp1WbCZbWxmb5nZd+H9RmXMV2hmk8PbS+tSp4hIJPLySiYmxZYu5a7ff2eDDTZYM2nDDTdk3LhxvPXWW2UnJglaYERERNJRspOTIjPbOHzcGsgEcPd5BBdiXBeXAO+4+7YELTOXlDHfMnffJbwdtY51iogk39Ch8YlJqO2vv3LzzTcDcPTRR1NQUEBOTg5mZWxS8/Kgf/+g5cV9TQuMEhQREUlH5mX8AVbLws1OAIYD3wLbA2e5+6tm1hIY4e4nrcOyvwH2d/ffzGwz4H133z7BfIvdfYP4JZQtOzvb8/N1jUgRSZGMDL51Z7tEZe3aUfTDD7z99tscfPDBZSclxdq3DxKSBMvhp5/WPVYREVknZjbR3bNTHUe6SGpyAkH3K2Ar4Ht3n1+Ny53v7s3CxwbMK35ear7VwGRgNXCTu79QxvL6A/0B2rZt+38zE/2Zi4gk2cKFC7l4880ZvXgxbwEHxRaawSOPQO/elV9gRkbiVhgzKCpax2hFRGRdKTkpKeln63L3v909v3RiYmY7VPRaM3vbzKYluB1dqg4Hysqy2oUf+EnAnWa2dRlxjnH3bHfPbtmyZaXWTUSkOr366qt06NCB+xYvxoF+wJLiQjMYMKBqiQlA27ZVmy4iIpJCqbwI45sVzeDuXd29Y4Lbi8AfYXcuwvs/y1jGL+H9D8D7wK7VtgYiItXgr7/+4uSTT+aII45g9uzZa6b/CFwOQResRx6BLl2qPrB92DBo3LjktMaNg+kiIiJpJtmnEr6rrCKg2Tou/iXgNOCm8P7FBPVvBCx19xVm1gLoQjAGRkQk5dydJ598knPOOYe//vorrnzbbbflmHHjYN99/xnYXnxtk+KB7VB+a0px2dChMGtW0GIybFjVW2BEREQikOwB8YuA/wArEhTf5u4t1mHZzYGngLbATOB4d//bzLKBAe7e18z2BkYDRQStRHe6e25Fy9aAeBFJtl9++YWzzjqLl19+Oa4sMzOTIUOGcNVVV9GoUaNgoga2i4jUShpzUlJSW06AL4Bp7v5J6QIzu3pdFuzucyk1VjScng/0DR9/Auy0LvWIiFQnd2fcuHEMGTKEhQsXxpXvvPPO5Obm8n//938lC2bNSrzAsqaLiIjUQMkec3IswZmy4rj7lkmuW0Rqs5pyYcGYOP+3+eYc1LEj/fv3j0tMGjRowLBhw/jiiy/iExPQwHYREakTktpy4u5/Fz8uvhhj7DQRkbWytuMvohYTZx7Q79dfWfbrr3Gzde7cmdzcXHbccceylzVsWMl1Bg1sFxGRWiepLSdm1tbMnjCzOcDnwAQz+zOc1j6ZdYtILTZ0aMmddAieDx2amnjKEhPntsQPvlt//fW56667+Oijj8pPTCBIusaMCcaYmAX3Y8akVzImIiKyjpI9IP5T4E7gGXcvDKdlAscB57v7XkmrfB1oQLxImqspFxYsFecQ4Lbw8cEHH8yYMWNo3759KiITEZE0oQHxJSV7zEkLd3+yODEBcPdCd38CaJ7kukWktqop4y9KxXMtkA080Lw5b7zxhhITERGRUpKdnEw0s3vNbE8zax3e9jSze4Evk1y3iNRWaXphwaVLl3LhhRfyzTffBBNKxdkYmNCoEaePGIGZpSZIERGRNJbs5ORUYCpwDfBGeLsamAackuS6RaS2SsPxF++++y477bQTt956K3379qWoqChhnDZ2rMaJiIiIlCGpY05qKo05EUkTeXlpf2Xz+fPnc+GFFzJu3LgS0++55x7OPvvsFEUlIiI1hcaclJTslhPM7BAzyzGzdqWm90l23SJSgxWfhnfmzGBQefHpgtPoeiYvvfQSHTp0iEtMAEaNGkVhYWGCV4mIiEhZkn0q4RuAoQRXaX/XzM6JKR6UzLpFpIZL49MF//nnn/Tq1Yujjz6aX0tdt8TMGDRoEJ9++imZmZkpilBERKRmSupFGIEjgV3dfbWZXQ08ZmZbufsFgEaDikjZZs2q2vQIuDuPPfYY5513HnPnzo0r33777cnNzaVLly4piE5ERKTmS3a3rnruvhrA3ecTJCtNzexpoEGS6xaRmizNThf8888/c8QRR3DyySfHJSaZmZlcdtllTJ48WYmJiIjIOkh2cvI/M9uv+El4jZMc4Buggsshi0idlianCy4qKmLUqFF06NCB1157La581113JT8/n2HDhrHeeutFGpuIiEhtk+zk5DhgQumJ7n450CbJdYtITZYmpwt+9913GThwIIsWLSoxvWHDhtx44418/vnn7LLLLpHGJCIiUlvpVMIJ6FTCIlLM3enZsyfPP//8mmn/+te/GDduHNtvv30KIxMRkdpApxIuKemnEhYRqcnMjJEjR7LhhhuywQYbMHLkSD744AMlJiIiIkmQ7LN1iYjUCCtWrGDFihU0bdo0rmyzzTbjqaeeYvvtt6ddu3YJXi0iIiLVIdnXOdm4vFsy6xYRqaxPP/2UXXfdtdwrunfr1k2JiYiISJIlu1vXRCA/vJ8DfAt8Fz6emOS6RUTKtWTJEs4//3y6dOnCjBkzePTRRxOekUtERESikdTkxN23dPetgLeBI929hbs3B44A3kxm3SIi5Xn77bfp2LEjI0aMIPbEIAMGDGDhwoUpjExERKTuimpA/F7uvuZwpLv/F9g7orpFRNaYP38+OTk5HHzwwfz0009x5QcffDA6i6GIiEhqRDUg/lczuxx4NHzeG/g1orpFRAB44YUXGDhwIL/99ltcWfv27Rk7dixdu3ZNQWQiIiIC0bWcnAi0BJ4HngsfnxhR3SJSx/3xxx8cf/zxHHPMMXGJiZlx/vnnM3XqVCUmIiIiKRZJy4m7/w2cZ2bru/uSKOoUEXF3HnnkEc4//3zmzZsXV77jjjuSm5tL586dUxCdiIiIlBZJy4mZ7W1mBcCM8PnOZnZvFHWLSN30999/c9hhh3HaaafFJSb16tXjiiuu4Msvv1RiIiIikkaiGnNyB3AI8BKAu39lZvtGVLeI1EFNmjThjz/+iJv+f//3f9x///106tQpBVGJiIhIeaIac4K7/1xqUmFUdYtI3VO/fn1yc3PJzMwEYL311mP48OF89tlnSkxERETSVFQtJz+b2d6Am1l94DzCLl4iIsmy6667cvHFFzN+/HjGjh3Ltttum+qQREREpBxRJScDgBHA5sAvBBdgHBhR3SJSi02ePJmJEyeSk5OTsPzqq68mMzOTjIzIGopFRERkLUWVnGzv7r1jJ5hZF2B8RPWLSC2zfPlyrrvuOm6++WYyMjLYY4892GmnneLmq1+/fgqiExERkbUR1aHEuys5TUSkQuPHj2eXXXbhhhtuoLCwkFWrVpGTk0NhoYayiYiI1GRJbTkxs87A3kBLMxscU9QUyExm3SJS+yxevJjLLruMe+65B3cvUfbFF1/w2muvceSRR6YoOhEREVlXye7W1QDYIKynScz0hcCxSa5bRGqRN998k/79+zNz5sy4statWzNq1CglJiIiIjVcUpMTd/8A+MDMHnT3+D0KEZEK/P333/znP//hwQcfTFjer18/hg8fTrNmzSKNS0RERKpfVGNOxplZs+InZraRmb0RUd0iUkM9++yzZGVlJUxMttpqK9555x3GjBmjxERERKSWiCo5aeHu84ufuPs8YJOI6haRGua3336jZ8+eHHvssXFXec/IyGDw4MFMnTqVAw88MEURioiISDJEdSrhIjNr6+6zAMysHeAVvEZE6iB3p1u3bkybNi2urEOHDuTm5rLnnnumIDIRERFJtqhaToYCH5vZI2b2KPAhcGlEdYtIDWJmDBs2rMS0+vXrc/XVVzNp0iQlJiIiIrVYJMmJu78O7AY8CTwB/J+7a8yJiCR01FFH0atXLwD22GMPJk2axFVXXUWDBg1SHJmIiIgkU7Kvc7KDu39tZruFk34N79uG3bwmJbN+EUlvy5Yto1GjRgnL7rrrLvbaay8GDRpEZqYuiyQiIlIXWOkLmVXrws3Guns/M3svQbG7e1qOZs3Ozvb8/PxUhyFSa61atYrhw4czcuRIvvzySzbddNNUhyQiIpISZjbR3bNTHUe6SGq3LnfvF94fkOCWlomJ1HF5edC+PWRkBPd5eamOqNaZNGkSu+++O5dffjm//fYb55xzTqpDEhERkTSR7G5d/y6v3N2fS2b9IlWSlwf9+8PSpcHzmTOD5wC9e6curlpi2bJlXHPNNdx6660UFhaumf7000/z/PPPc8wxx6QwOhEREUkHyT6V8JHh/SbA3sC74fMDgE8AJSeSPoYO/ScxKbZ0aTBdyck6+eijj+jbty/ffvttXFmLFi0wsxREJSIiIukmqcmJu58BYGZvAlnu/lv4fDPgwWTWLVJls2ZVbbpUaOHChVx66aXce++9CctPOukkRowYQYsWLSKOTERERNJRVBdhbFOcmIT+ANpGVLdI5bRtG3TlSjRdquy///0vZ555Jj///HNc2eabb859993HEUcckYLIREREJF1FdRHGd8zsDTM73cxOB14F3o6obpHKGTYMGjcuOa1x42C6VNrcuXM59dRTOeywwxImJgMGDKCgoECJiYiIiMSJpOXE3QeZ2THAvuGkMe7+fBR1i1Ra8biSoUODrlxt2waJicabVNpzzz3HgAEDmDNnTlzZNttsw7hx49hvv/1SEJmIiIjUBFF16wKYBCxy97fNrLGZNXH3RRHWL1Kx3r2VjKyDmTNnxiUmGRkZ/Oc//+Hqq6+mcemWKREREZEYkXTrMrN+wDPA6HDS5sALUdQtItE599xz2XPPPdc832mnnfj8888ZPny4EhMRERGpUFRjTs4GugALAdz9O4LTC4tILZKZmUlubi5NmjThuuuuIz8/n+xsXfRWREREKieqbl0r3H1l8bUMzKwe4BHVLSLVqLCwkPvvv5+TTz6ZRo0axZV36NCBWbNm0axZs+iDExERkRotqpaTD8zsMqCRmR0MPA28vC4LNLPjzGy6mRWZWZmHZs3sUDP7xsy+N7NL1qVOkbpu+vTpdOnShf79+3PttdeWOZ8SExEREVkbUSUnFwNzgKnAmcBrwOXruMxpwL+BD8uawcwygZFAdyALONHMstaxXpE6Z+XKlVx33XXsuuuufP755wDccsstTJo0KcWRiYiISG2S9G5dYYIw3d13AMZW13LdfUa4/PJm2wP43t1/COd9AjgaKKiuOERquy+++IKcnBymTp1aYnphYSGDBw/m/fffT01gIiIiUuskveXE3QuBb8wsFZfZ3hyIvQrc7HBaHDPrb2b5Zpaf6BoNIlWSlwft20NGRnCfl5fqiKps6dKlXHjhhey1115xiQlAjx49eOyxx1IQmYiIiNRWUQ2I3wiYbmYTgCXFE939qPJeZGZvA60SFA119xerM0B3HwOMAcjOztZgfVl7eXnQvz8sXRo8nzkzeA415hoq77//Pv369eP777+PK9tkk0245557OPbYYytquRQRERGpkqiSkyvW5kXu3nUd6/0FaBPzfItwmkjyDB36T2JSbOnSYHqaJycLFizg4osvZvTo0QnLTz31VG6//XaaN28ecWQiIiJSFyQ1OTGz9YABwDYEg+Fz3X11Muss5QtgWzPbkiAp6QWcFGH9UhfNmlW16Wni1Vdf5cwzz+SXX+Lz9zZt2jB69Gi6d++egshERESkrkj2mJOHgGyCxKQ7cFt1LdjMjjGz2UBn4FUzeyOc3trMXgMIE6FBwBvADOApd59eXTGIJNS2jOFVZU1PAw8//DBHHHFEwsTk7LPPZvr06UpMREREJOnMPXnDK8xsqrvvFD6uB0xw992SVmE1yc7O9vz8/FSHITVV6TEnAI0bw5gxaduta/HixWsunlhsu+22Y9y4ceyzzz4pjExERKR2M7OJ7l7mNfvqmmS3nKwqfhBxdy6R1OndO0hE2rUDs+A+jRMTgA022ICxY4MzfWdmZnLJJZfw1VdfKTERERGRSCW75aSQf87OZUAjYGn42N29adIqXwdqOZHaqvj3XtZZtoYNG0b37t3Zbbe0b+AUERGpFdRyUlJSW07cPdPdm4a3Ju5eL+ZxWiYmIrXV999/z4EHHsi4cePKnGfo0KFKTERERCRlkn4RRhFJrcLCQm677TY6derE+++/z5AhQ5g9e3aqwxIRERGJo+REpBabNm0anTt3ZsiQISxbtgyAhQsXctZZZ5HMLp0iIiIia0PJiVQsLw/at4eMjOA+Ly/VEUkFVqxYwdVXX81uu+3GF198kbB8aekLRYqIiIikWFRXiJeaqvRpcWfODJ5DWp99qi77/PPPycnJYfr0+Ev6NGvWjDvuuIPTTjutzEHxIiIiIqmilhMp39ChJa/XAcHzoUNTE4+UacmSJQwePJjOnTsnTEx69uzJjBkzOP3005WYiIiISFpSy4mUL+aifJWaLinx7rvv0q9fP3744Ye4sk033ZSRI0fSs2fPFEQmIiIiUnlqOZHytW1btekSqQULFtCvXz8OOuighInJ6aefTkFBgRITERERqRGUnEj5hg2Dxo1LTmvcOJguKbdw4UKeeOKJuOnt2rXjjTfe4IEHHmDjjTdOQWQiIiIiVafkRMrXuzeMGQPt2oFZcD9mjAbDp4k2bdowfPjwNc/NjHPPPZdp06bRrVu3FEYmIiIiUnWmax3Ey87O9vz8/FSHIVIpRUVFHHDAAfz555/k5uay9957pzokERERqSQzm+ju2amOI11oQLxIDfDzzz/zxx9/kJ0dv+3KyMjgySefpFmzZqy33nopiE5ERESkeqhbl0gaKyoqYtSoUXTo0IHjjz+eJUuWJJyvVatWSkxERESkxlNyIpKmvvvuOw444AAGDhzIokWL+PHHH7n88stTHZaIiIhI0ig5EUkzq1evZvjw4XTq1IkPP/ywRNmIESOYPHlyagITERERSTIlJ5JaeXnQvj1kZAT3eXmpjiilvvrqK/bcc08uvvhili9fXqJsgw024J577qFTp04pik5EREQkuZScpIO6uoOelwf9+8PMmeAe3PfvX3fWP8aKFSu44ooryM7OZtKkSXHlhx56KNOnT2fgwIFkZOhnKyIiIrWTTiWcQKSnEi7eQV+69J9pjRvXjWuJtG8fJCSltWsHP/0UdTQp8+mnn5KTk8OMGTPiyjbeeGPuvPNOTj75ZMwsBdGJiIhIMulUwiXpEGyqDR1aMjGB4PnQoamJJ0qzZlVtei2zePFizj//fLp06ZIwMTn++OMpKCjglFNOUWIiIiIidYKuc5JqdXkHvW3bxC0nbdtGH0vEli1bxq677sr3338fV7bZZptx77330qNHj+gDExEREUkhtZykWlk74nVgB51hw4IubLEaNw6m13KNGjVKmHzk5ORQUFCgxERERETqJCUnqVaHd9Dp3TsYW9OuHZgF93VhrE3ommuuYZtttgFgyy235O2332bcuHE0a9YstYGJiIiIpIgGxCcQ6YB4CAbFDx0adOVq2zZITOrIDnpd98EHH/DCCy9w/fXXs/7666c6HBEREYmYBsSXpOQkgciTE6mV3J1HHnmEp59+mhdeeIHMzMxUhyQiIiJpRslJSerWJZIEM2fOpHv37px22mm88sor3HvvvakOSURERCTtKTkRqUZFRUWMHDmSjh078sYbb6yZfumll/JTHbp2i4iIiMjaUHIiUk2++eYb9ttvPwYNGsTixYtLlBUWFjJx4sQURSYiIiJSMyg5EVlHq1at4sYbb2TnnXfm448/jivfd999mTJlCj179kxBdCIiIiI1hy7CKLIOvvzyS3Jycvjyyy/jypo0acLw4cPp378/GRk6DiAiIiJSEe0xiayF5cuXc9lll7H77rsnTEwOO+wwpk+fzoABA5SYiIiIiFSSWk5Eqmj8+PHk5OTwzTffxJU1b96cu+66ixNPPBEzS0F0IiIiIjWXkhORKrr99tsTJia9evXirrvuomXLlimISkRERKTmU38TkSq65557aNas2ZrnrVu35sUXX+Txxx9XYiIiIiKyDpSciFTRZpttxu233w5Av379KCgo4KijjkpxVCIiIiI1n7p1iZTh888/Z88990xYdvrpp7PTTjuRnZ0dcVQiIiIitZdaTkRK+e233+jZsyd77bUXr776asJ5zEyJiYiIiEg1U3IiEnJ3HnjgAbKysnjuuecAGDBgAAsXLkxxZCIiIiJ1g5ITEeDHH3+kW7du9OnTh/nz56+ZPnv2bC699NLUBSYiIiJShyg5kTqtsLCQu+66i44dO/L222/Hle+xxx6cddZZKYhMREREpO7RgHips2bMmEFOTg6ffvppXFmjRo24/vrrOe+888jMzExBdCIiIiJ1j5ITqXNWrVrF8OHDufbaa1m5cmVc+QEHHMDYsWPZeuutUxCdiIiISN2l5ETqlIkTJ9KnTx+mTJkSV9a0aVNuu+02cnJyMLMURCciIiJStyk5kTrjvvvuY9CgQRQWFsaVHXnkkYwaNYrNN988BZGJiIiICGhAvNQhnTt3jmsRadmyJU888QQvvviiEhMRERGRFFNyInXGzjvvzCWXXLLmee/evSkoKOCEE05QNy4RERGRNKBuXVKnXH755UyYMIFzzz2Xww8/PNXhiIiIiEgMtZxIrfLXX39x+umnJxzwDtCwYUPeeOMNJSYiIiIiaUgtJ1IruDtPP/00gwYNYs6cOUybNo3PPvuMevX0FRcRERGpKdRyIjXer7/+yjHHHMMJJ5zAnDlzgOCUwXfccUeKIxMRERGRqqixyYmZHWdm082syMyyy5nvJzObamaTzSw/yhgludydcePGkZWVxYsvvhhX/uyzz1JUVJSCyERERERkbdTY5ASYBvwb+LAS8x7g7ru4e5lJjNQsP/zwA127dqVfv34sWLCgRFmDBg247rrr+PDDD8nIqMlfcREREZG6pcZ2yHf3GYBOAVvHFBYWctdddzF06FCWLVsWV77XXnuRm5tLVlZWCqITERERkXVRFw4rO/CmmU00s/6pDkbW3vTp0+nSpQuDBw+OS0waN27MnXfeyccff6zERERERKSGSuuWEzN7G2iVoGiou8cPMkjsX+7+i5ltArxlZl+7e1xXsDBx6Q/Qtm3btY5Zqt/KlSu56aabuP7661m1alVcedeuXRkzZgxbbrllCqITERERkeqS1smJu3ethmX8Et7/aWbPA3uQYJyKu48BxgBkZ2f7utYr1eeDDz7gqquuipu+4YYbcvvtt3PGGWeoe5+IiIhILVCru3WZ2fpm1qT4MdCNYCC91CAHH3wwJ554YolpPXr0oKCggD59+igxEREREaklamxyYmbHmNlsoDPwqpm9EU5vbWavhbNtCnxsZl8BE4BX3f311EQs62LEiBE0b96cTTbZhKeeeornnnuO1q1bpzosEREREalG5q4eTKVlZ2d7fr4uiRK1BQsWsGrVKlq0aJGwfPz48eywww40b9484shEREREksPMJupyF/+osS0nUru8/PLLdOjQgQEDBpQ5T5cuXZSYiIiIiNRiSk4kpebMmcNJJ53EUUcdxS+//MKzzz7Ls88+m+qwRERERCQFlJxISrg7jz32GDvuuCOPP/54ibKzzz6befPmpSgyEREREUmVtD6VsNROs2fP5qyzzuKVV16JK8vMzOSMM85gvfXWS0FkIiIiIpJKSk4kMkVFRYwdO5YLL7yQRYsWxZXvsssu5Obmsttuu6UgOhERERFJNXXrkkh8//33HHTQQQwYMCAuMWnYsCE33HADEyZMUGIiIiIiUoep5USSavXq1dx5551cccUVLF++PK587733Jjc3lx122CEF0YmIiIhIOlFyIknz559/csQRR/DFF1/Ela2//vrcdNNNDBw4kIwMNeCJiIiIiJITSaLmzZtTr178V6xbt26MHj2a9u3bRx+UiIiIiKQtHbKWpMnMzCQ3N5cGDRoAsNFGG/Hggw/y+uuvKzERERERkThqOZGk2nHHHbnyyiv58ssvueeee2jVqlWqQxIRERGRNKXkRNbZu+++y+TJkxk8eHDC8ksvvVTjSkRERESkQkpOZK3Nnz+fCy+8kHHjxpGRkcG+++5LdnZ23HxKTERERESkMrTXKGvlxRdfJCsri3HjxgHBBRZzcnJYtWpViiMTERERkZpKyYlUyZ9//kmvXr3o0aMHv/32W4myqVOn8u6776YoMhERERGp6ZScSKW4O48++ig77rgjTz75ZFz5DjvswMcff8whhxySguhEREREpDZQciIVmjVrFocffjinnHIKf//9d4myevXqMXToUL788kv23nvvFEUoIiIiIrWBBsRLmYqKihg9ejQXXXQRixcvjivfbbfdyM3NZZdddok+OBERERGpddRyIgl9++237L///gwcODAuMWnYsCE33XQTn3/+uRITEREREak2ajmROEVFRfTo0YMZM2bEle2zzz6MGzeO7bbbLgWRiYiIiEhtppYTiZORkcGdd95ZYtoGG2zAyJEjef/995WYiIiIiEhSKDmRhLp168YZZ5wBwKGHHsr06dMZOHCgLqgoIiIiIkmjbl113Ny5c2nevHnCsttuu42uXbty4oknYmYRRyYiIiIidY0Og9dRixcv5txzz2Xrrbdm9uzZCefZaKONOOmkk5SYiIiIiEgklJzUQW+++SYdO3bk7rvvZsGCBQwYMAB3T3VYIiIiIlLHKTmpQ+bNm8cZZ5zBIYccwsyZM9dMf/XVV3n88cdTGJmIiIiIiMac1BnPPfccZ599Nr///ntc2ZZbbslmm22WgqhERERERP6hlpNa7vfff+fYY4+lZ8+ecYmJmXHBBRcwdepUDjjggBRFKCIiIiISUMtJLeXuPPzww1xwwQXMmzcvrjwrK4vc3Fz22muvFEQnIiIiIhJPLSe10MyZM+nevTunn356XGJSr149rrzySiZNmqTERERERETSilpOapnc3FzOO+88lixZEleWnZ1Nbm4unTp1SkFkIiIiIiLlU8tJLbN69eq4xGS99dbjlltu4dNPP1ViIiIiIiJpS8lJLdOvXz/222+/Nc/3228/pk6dypAhQ6hXTw1lIiIiIpK+lJzUMhkZGYwdO5ZNN92U0aNH8+6777LNNtukOiwRERERkQopOamBli9fzo033sjixYsTlm+77bb89NNP9O/fn4wMfcQiIiIiUjOon08N8/HHH5OTk8O3337L77//zogRIxLOt95660UcmYiIiIjIutFh9Rpi0aJFDBo0iH322Ydvv/0WgLvvvptPPvkkxZGJiIiIiFQPJSc1wOuvv07Hjh0ZOXJkienuzlVXXZWiqEREREREqpeSkzQ2d+5cTjvtNLp3786sWbPiys8880yeeeaZFEQmIiIiIlL9NOYkDbk7zz77LGeffTZ//vlnXPnWW2/N2LFjOeCAA1IQnYiIiIhIcqjlJM389ttv9OzZk+OOOy4uMcnIyGDIkCFMmTJFiYmIiIiI1DpqOUkT7s6DDz7I4MGDmT9/flx5x44dyc3NZY899og+OBERERGRCKjlJE2MHTuWPn36xCUm9evX55prrmHixIlKTERERESkVlNykiZOOeWUuCu577HHHkyaNIkrr7ySBg0apCgyEREREZFoKDlJE40aNWLcuHFrHt9+++188skndOzYMcWRiYiIiIhEQ2NO0sh+++3H3XffTffu3dl6661THY6IiIiISKSUnKSZQYMGpToEEREREZGUULcuERERERFJC0pOREREREQkLSg5ERERERGRtKDkRERERERE0oKSExERERERSQs1Njkxs1vM7Gszm2Jmz5tZszLmO9TMvjGz783skojDFBERERGRSqqxyQnwFtDR3TsB3wKXlp7BzDKBkUB3IAs40cyyIo1SREREREQqpcYmJ+7+pruvDp9+BmyRYLY9gO/d/Qd3Xwk8ARwdVYwiIiIiIlJ5NTY5KaUP8N8E0zcHfo55PjucJiIiIiIiaSatrxBvZm8DrRIUDXX3F8N5hgKrgbx1rKs/0B+gbdu267IoERERERFZC2mdnLh71/LKzex04AjgIHf3BLP8ArSJeb5FOC1RXWOAMQDZ2dmJliUiIiIiIklUY7t1mdmhwEXAUe6+tIzZvgC2NbMtzawB0At4KaoYRURERESk8mpscgLcAzQB3jKzyWZ2H4CZtTaz1wDCAfODgDeAGcBT7j49VQGLiIiIiEjZ0rpbV3ncfZsypv8KHBbz/DXgtajiEhERERGRtVOTW05ERERERKQWUXIiIiIiIiJpQcmJiIiIiIikBUt8Bt66zczmADOTXE0L4K8k1yHpSZ993aTPve7SZ1936bOvm6r6ubdz95bJCqamUXKSImaW7+7ZqY5DoqfPvm7S51536bOvu/TZ10363NeNunWJiIiIiEhaUHIiIiIiIiJpQclJ6oxJdQCSMvrs6yZ97nWXPvu6S5993aTPfR1ozImIiIiIiKQFtZyIiIiIiEhaUHISETM7zsymm1mRmZV5Bgcz+8nMpprZZDPLjzJGSY4qfPaHmtk3Zva9mV0SZYxS/cxsYzN7y8y+C+83KmO+wvD3PtnMXoo6Tqk+Ff2GzayhmT0Zln9uZu1TEKZUs0p87qeb2ZyY33nfVMQp1c/M7jezP81sWhnlZmZ3hd+NKWa2W9Qx1kRKTqIzDfg38GEl5j3A3XfRaehqjQo/ezPLBEYC3YEs4EQzy4omPEmSS4B33H1b4J3weSLLwt/7Lu5+VHThSXWq5G84B5jn7tsAdwA3RxulVLcqbLufjPmdj4s0SEmmB4FDyynvDmwb3voDoyKIqcZTchIRd5/h7t+kOg6JXiU/+z2A7939B3dfCTwBHJ386CSJjgYeCh8/BPRIXSgSgcr8hmO/E88AB5mZRRijVD9tu+swd/8Q+LucWY4GHvbAZ0AzM9ssmuhqLiUn6ceBN81sopn1T3UwEpnNgZ9jns8Op0nNtam7/xY+/h3YtIz51jOzfDP7zMx6RBOaJEFlfsNr5nH31cACoHkk0UmyVHbb3TPs1vOMmbWJJjRJA/pvXwv1Uh1AbWJmbwOtEhQNdfcXK7mYf7n7L2a2CfCWmX0dZuaSxqrps5caprzPPfaJu7uZlXVqxHbhb34r4F0zm+ru/6vuWEUkZV4GHnf3FWZ2JkHr2YEpjkkkbSk5qUbu3rUalvFLeP+nmT1P0GSs5CTNVcNn/wsQezRti3CapLHyPncz+8PMNnP338Jm/D/LWEbxb/4HM3sf2BVQclLzVOY3XDzPbDOrB2wIzI0mPEmSCj93d4/9jMcBwyOIS9KD/tvXgrp1pREzW9/MmhQ/BroRDKaW2u8LYFsz29LMGgC9AJ25qWZ7CTgtfHwaENeCZmYbmVnD8HELoAtQEFmEUp0q8xuO/U4cC7zruthYTVfh515qjMFRwIwI45PUegk4NTxr117AgpjuvlIGJScRMbNjzGw20Bl41czeCKe3NrPXwtk2BT42s6+ACcCr7v56aiKW6lKZzz7sfz4IeIPgj+spd5+eqpilWtwEHGxm3wFdw+eYWbaZFZ+tZ0cgP/zNvwfc5O5KTmqgsn7DZnatmRWfhS0XaG5m3wODKfsMblJDVPJzPzc8nfxXwLnA6amJVqqbmT0OfApsb2azzSzHzAaY2YBwlteAH4DvgbHAwBSFWqPoCvEiIiIiIpIW1HIiIiIiIiJpQcmJiIiIiIikBSUnIiIiIiKSFpSciIiIiIhIWlByIiIiIiIiaUHJiYjUKma2hZm9aGbfmdn/zGxEeP0BzOx0M7sn1TGWZmaLE0xrY2bvmVlBeBrS82LKNjazt8J1fMvMNgqn72Bmn5rZCjMbUmp555nZtHBZ55cRx9Vm9ouZTY65NVvLdfpkbV4XJTM738waV2K+980su7LTS83Tw8yy1jK+bDO7K3y8v5ntvTbLERGpSZSciEitYWYGPAe84O7bAtsBGwDDklhnvSQtejXwH3fPAvYCzo7Zyb0EeCdcx3f453oZfxNcR+HWUjF2BPoBewA7A0eY2TZl1HuHu+8Sc5u/NsG7e9yOdBLfq7V1PlBhcrKOegBrlZy4e767nxs+3R9QciIitZ6SExGpTQ4Elrv7AwDuXghcAPSJOULeJjzi/Z2ZXQVgZuub2atm9lXYunBCOP3/zOwDM5toZm8UX+k5fP2dZpYPDDWzmWaWEbOsn82svpltbWavh6//yMx2COfZMmzhmGpm1ydaEXf/zd0nhY8XEVzgbfOw+GjgofDxQwQ7wLj7n+7+BbCq1OJ2BD5396XhReM+AP5d2Tc1bHF6LlyX78xseDh9gJndUmq+e8LHi8P7/cN1fwkoMLP1zOyBcN2/NLMDyqujeFlmdkvY6vO2me0RfgY/FF/ozswyw3m+MLMpZnZmTP3vm9kzZva1meVZ4FygNfCemb0XzjvKzPLDeq6p7PsTE+Ow8Dv0mZltGrZ0HAXcErZCbV3Od+K48Lv3lZl9GBP7K2bWHhgAXBAuZx8z+9HM6ofzNY19LiJSkyk5EZHapAMwMXaCuy8EZgHFLQV7AD2BTsBxFnTLORT41d13dveOwOvhjt7dwLHu/n/A/ZRsgWng7tnufg0wGdgvnH4E8Ia7rwLGAOeErx8C3BvOMwIY5e47Ab9VtFLhzumuwOfhpE3dvfh1vwObVrCIacA+ZtY8TNIOA9qUMW/xDvDk4p320C7ACcBOwAlm1gZ4FjgmZp4TgCcSLHM34Dx33w44G/Bw3U8EHjKz9cqpA2B94F137wAsAq4HDg7rvjacJwdY4O67A7sD/cxsy7BsV4JWkixgK6CLu98F/Aoc4O4HhPMNdfdsgu/GfmbWqYz3KJH1gc/cfWfgQ6Cfu38CvARcGLZC/Y+yvxNXAoeErz8qdsHu/hNwH/+0an0EvA8cHs7SC3gu/M6JiNRo6dbELiKSbG+5+1wAM3sO+BfwGnCbmd0MvOLuH1nQFaoj8JaZAWRSMpF4stTjE4D3CHYU7zWzDQi64Twdvh6gYXjfhSBBAngEuLmsYMPlPAucHyZaJbi7m5mXt8LuPiNctzeBJQTJVGEZs9/h7rcmmP6Ouy8IYyoA2rn7x2HrxV7Ad8AOwPgEr53g7j+Gj/9FkPTh7l+b2UyC7ncJ6wB+BlYCr4fzTAVWuPsqM5sKtA+ndwM6mdmx4fMNgW3D105w99nhcieHr/k4QZzHm1l/gv/GzQiSmSkJ36V4K4FXwscTCZKnEir4TowHHjSzpwi6JlZkHHAR8AJwBkG3PRGRGk/JiYjUJgXAsbETzKwp0Bb4nuAIfukdeXf3b81sN4IWhevN7B3geWC6u3cuo64lMY9fAm4ws42B/wPeJTiSPt/ddynj9eUmFGHs9QkSkzx3j91h/cPMNnP33yzoavZnRcty91wgN1zuDcDsil5TyoqYx4X88//xBHA88DXwvLsnWq8lCaZVpY5VMcstKp7P3Yvsn3EsRtAi8UbsAs1s/3KWGzvflgQtGbu7+zwzexBYr/R85YiNMWEdBL0VEn4n3H2Ame1J0Boy0cz+r7zK3H28mbUP1y/T3adVIVYRkbSlbl0iUpu8AzQ2s1MhGIcA3AY86O5Lw3kOtuBsV40IxmqMN7PWwFJ3fxS4hSCJ+QZoaWadw2XVN7MOiSp198XAFwTdtV5x98KwleNHMzsufL2Z2c7hS8YTtLAA9E60TAsOrecCM9z99lLFLwGnhY9PA16s6I0xs03C+7YE400eq+g1lfQ8wRiYE0ncpau0jwjX2cy2I0gcv6mGON4AzooZh7Gdma1fwWsWAU3Cx00JkqgFZrYp0L0aYipRR3nfCTPb2t0/d/crgTnEd7uLjbXYwwSf4wPVFKuISMopORGRWiM8cn0MwViS74BvgeXAZTGzTSBojZgCPOvu+QRjHCaEXX6uAq5395UErTA3m9lXBF2hyjtb0pPAyZTs7tUbyAlfP51gJx7gPIKzb03ln0HupXUBTgEOjBkDclhYdhNBkvUd0DV8jpm1MrPZwGDgcjObHbYcATwbdpV6GTi7nLNwxY45mRyOdymTu88jGKzfzt0nlDdv6F4gI1z3J4HT3X1FBa+pjHEELWeTzGwaMJqKeweMIRhf9J67fwV8SdAC9BiJu6etjSeACy0Y/L81ZX8nbrHgJAHTgE+Ar0ot52XgmOIB8eG0PGAj4PFqilVEJOUscQu8iIiIpLNwfM3R7n5KqmMREakuGnMiIiJSw5jZ3QRdzw6raF4RkZpELSciIiIiIpIWNOZERERERETSgpITERERERFJC0pOREREREQkLSg5ERERERGRtKDkRERERERE0oKSExERERERSQv/D76G7NF8ytS4AAAAAElFTkSuQmCC\n",
      "text/plain": [
       "<Figure size 864x576 with 1 Axes>"
      ]
     },
     "metadata": {
      "needs_background": "light"
     },
     "output_type": "display_data"
    }
   ],
   "source": [
    "predictiveModel1(2019, years, df_c)"
   ]
  },
  {
   "cell_type": "markdown",
   "id": "subsequent-saturn",
   "metadata": {},
   "source": [
    "Now, we are going to create a third function that will create a predictive model using past years environmental intensity, industry average, industry indicator and environmental growth. "
   ]
  },
  {
   "cell_type": "code",
   "execution_count": 84,
   "id": "healthy-thanks",
   "metadata": {},
   "outputs": [],
   "source": [
    "def predictiveModel3(outcomeYear, pastYears, df_c):\n",
    "    years.sort()\n",
    "    for year in years:\n",
    "        data = df_c[df_c['Year'] == year]\n",
    "        data = data.loc[:,['CompanyName','Env_intensity','industry_avg_year','Industry_indicator_year','Environmental_Growth']]\n",
    "        data.rename(columns={'Env_intensity': f'Env_intensity_{year}','industry_avg_year':f'industry_avg_year_{year}', 'Industry_indicator_year' : f'Industry_indicator_year_{year}', 'Environmental_Growth': f'Environmental_Growth_{year}'}, inplace=True) \n",
    "        if(year == min(years)):\n",
    "            data1 = pd.DataFrame(data)\n",
    "        else:\n",
    "            data2 = pd.merge(data1, data, on=[\"CompanyName\"])\n",
    "            data1 = data2.copy()\n",
    "    data2.dropna(inplace=True)\n",
    "    data3 = df_c[df_c['Year'] == outcomeYear]\n",
    "    data3 = data3[['CompanyName','Env_intensity']]\n",
    "    data3.rename(columns={'Env_intensity': f'Env_intensity_{outcomeYear}'}, inplace=True) \n",
    "    data3 = pd.merge(data3, data2, on=[\"CompanyName\"])\n",
    "    \n",
    "    filter_col = [col for col in data3 if ((col.startswith('Env_intensity') and not(col.endswith(f'{outcomeYear}')))) or ((col.startswith('industry_avg_year') and not(col.endswith(f'{outcomeYear}')))) or ((col.startswith('Industry_indicator_year_') and not(col.endswith(f'{outcomeYear}')))) or ((col.startswith('Environmental_Growth_') and not(col.endswith(f'{outcomeYear}'))))]            \n",
    "    outcome_col = [col for col in data3 if (col.startswith('Env_intensity') and col.endswith(f'{outcomeYear}'))]\n",
    "    X=data3[filter_col]\n",
    "    y=data3[outcome_col]\n",
    "    \n",
    "    regr = linear_model.LinearRegression()\n",
    "    X_train, X_test, y_train, y_test = train_test_split(X,y,test_size=0.2,random_state=42)\n",
    "    regr.fit(X_train, y_train)\n",
    "    y_train_pred = regr.predict(X_train)\n",
    "    y_pred = regr.predict(X_test)\n",
    "\n",
    "    print('MSE train: %.3f, test: %.3f' % (metrics.mean_squared_error(y_train, y_train_pred),\n",
    "                    metrics.mean_squared_error(y_test, y_pred)))\n",
    "    \n",
    "    # display the parameters\n",
    "    print('Model intercept: ', regr.intercept_)\n",
    "    print('Model coefficients: ', regr.coef_)\n",
    "    \n",
    "    print('R2 score:', metrics.r2_score(y_test, y_pred))\n",
    "    \n",
    "    fig, ax = plt.subplots(figsize=(12,8))\n",
    "    ax.scatter(y_test, y_pred, c='blue')\n",
    "    ax.plot([y_test.min(), y_test.max()], [y.min(), y.max()], 'k--', lw=4)\n",
    "    ax.set_xlabel(f'Observed {outcomeYear} Environmental Intesity')\n",
    "    ax.set_ylabel(f'Predicted {outcomeYear} Environmental Intesity')\n",
    "    ax.set_title(f'Predicting {outcomeYear} Environmental intensity using {years} environmental intensity, industry average, industry indicator and environmental growth');\n",
    "    \n",
    "    \n",
    "    "
   ]
  },
  {
   "cell_type": "code",
   "execution_count": 85,
   "id": "complimentary-dance",
   "metadata": {},
   "outputs": [
    {
     "name": "stdout",
     "output_type": "stream",
     "text": [
      "MSE train: 0.007, test: 0.006\n",
      "Model intercept:  [0.00042707]\n",
      "Model coefficients:  [[-3.57050028e-02 -3.78767304e-01  7.82484846e-03  2.45351332e-04\n",
      "  -3.35314980e-01  1.42406825e-01  5.22876608e-03 -1.84557134e-05\n",
      "   1.22949797e+00  3.53350072e-01 -8.44622269e-03  1.62779214e-04]]\n",
      "R2 score: 0.8928299824780621\n"
     ]
    },
    {
     "data": {
      "image/png": "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\n",
      "text/plain": [
       "<Figure size 864x576 with 1 Axes>"
      ]
     },
     "metadata": {
      "needs_background": "light"
     },
     "output_type": "display_data"
    }
   ],
   "source": [
    "predictiveModel3(2019, years, df_c)"
   ]
  },
  {
   "cell_type": "markdown",
   "id": "romantic-plaza",
   "metadata": {},
   "source": [
    "## Conclusion - Predictive models\n",
    "\n",
    "Awesome results! By combining the predictors from the individual models, we were able to yield a lowers MSE and a higher R2 Score. When using past years environmental intensity and indsutry average, the linear model is able to explain 94.5% of the variance in the dataset. By including the industry indicator, it explains 94.6% and lastly, by including all four, it explains 90% of the variance. Even the lowest R2 Score (90%) was able to explain more than when considering the models with only one predictor. \n",
    "\n",
    "## Collect the Company Description\n",
    "\n",
    "In this section, we will grab the company description directly from the Yahoo Finance website. We started with the pilot stocks but plan to see the possibility of mapping the ISIN with their corresponding ticker and be able to grab the company description"
   ]
  },
  {
   "cell_type": "code",
   "execution_count": 86,
   "id": "toxic-arkansas",
   "metadata": {
    "id": "y2jk8L-9e8MR"
   },
   "outputs": [],
   "source": [
    "tickers_df = pd.read_csv('/Users/maralinetorres/Documents/GitHub/Predicting-Environmental-and-Social-Actions/Datasets/52_tickers_sectors.csv')"
   ]
  },
  {
   "cell_type": "code",
   "execution_count": 87,
   "id": "located-perfume",
   "metadata": {
    "id": "rVUJ6qFce8MR"
   },
   "outputs": [],
   "source": [
    "tickers = tickers_df.Ticker"
   ]
  },
  {
   "cell_type": "code",
   "execution_count": 88,
   "id": "latest-interaction",
   "metadata": {
    "id": "MlMORJFte8MR"
   },
   "outputs": [],
   "source": [
    "# Create a loop to store URLs of all stocks' description page\n",
    "URL = [] \n",
    "DES = [] \n",
    "comp_desc = {}\n",
    "for i in tickers: \n",
    "  url ='https://finance.yahoo.com/quote/'+i+'/profile' \n",
    "  URL.append(url)\n",
    "  page = requests.get(url) # visits the URL \n",
    "  htmldata = BeautifulSoup(page.content, 'html.parser')\n",
    "  Business_Description = htmldata.find('p',{'class':'Mt(15px) Lh(1.6)'}) # finds the business description part in the HTML code\n",
    "  DES.append(Business_Description)\n",
    "  comp_desc[i] = [Business_Description]"
   ]
  },
  {
   "cell_type": "code",
   "execution_count": 89,
   "id": "ready-observation",
   "metadata": {},
   "outputs": [
    {
      "cell_type": "code",
      "metadata": {
        "colab": {
          "base_uri": "https://localhost:8080/"
        },
        "id": "laden-mission",
        "outputId": "68171d7b-6e16-4d46-d8fd-53ebdcb5e945"
      },
      "source": [
        "df_2016=df[df['Year'] == 2016]\n",
        "df2016=df_2016[['CompanyName','Environmental_Growth']]\n",
        "df2016.rename(columns={'Environmental_Growth': 'Environmental_Growth_2016'}, inplace=True) \n",
        "\n",
        "mdl5 = pd.merge(df2016, df2017, on=[\"CompanyName\"])\n",
        "mdl5= pd.merge(mdl5, df2018, on=[\"CompanyName\"])\n",
        "mdl5= pd.merge(mdl5, df2019, on=[\"CompanyName\"])\n",
        "mdl5.dropna(inplace=True)\n",
        "mdl5.head()"
      ],
      "id": "laden-mission",
      "execution_count": null,
      "outputs": [
        {
          "output_type": "execute_result",
          "data": {
            "text/html": [
              "<div>\n",
              "<style scoped>\n",
              "    .dataframe tbody tr th:only-of-type {\n",
              "        vertical-align: middle;\n",
              "    }\n",
              "\n",
              "    .dataframe tbody tr th {\n",
              "        vertical-align: top;\n",
              "    }\n",
              "\n",
              "    .dataframe thead th {\n",
              "        text-align: right;\n",
              "    }\n",
              "</style>\n",
              "<table border=\"1\" class=\"dataframe\">\n",
              "  <thead>\n",
              "    <tr style=\"text-align: right;\">\n",
              "      <th></th>\n",
              "      <th>CompanyName</th>\n",
              "      <th>Environmental_Growth_2016</th>\n",
              "      <th>Environmental_Growth_2017</th>\n",
              "      <th>Environmental_Growth_2018</th>\n",
              "      <th>Year</th>\n",
              "      <th>Env_intensity2019</th>\n",
              "    </tr>\n",
              "  </thead>\n",
              "  <tbody>\n",
              "    <tr>\n",
              "      <th>0</th>\n",
              "      <td>3M COMPANY</td>\n",
              "      <td>8.964451</td>\n",
              "      <td>-6.382979</td>\n",
              "      <td>7.575758</td>\n",
              "      <td>2019</td>\n",
              "      <td>-0.0641</td>\n",
              "    </tr>\n",
              "    <tr>\n",
              "      <th>1</th>\n",
              "      <td>A.G.V. PRODUCTS CORP</td>\n",
              "      <td>-13.265306</td>\n",
              "      <td>11.764706</td>\n",
              "      <td>-26.315789</td>\n",
              "      <td>2019</td>\n",
              "      <td>-0.0172</td>\n",
              "    </tr>\n",
              "    <tr>\n",
              "      <th>2</th>\n",
              "      <td>AA PLC</td>\n",
              "      <td>41.304348</td>\n",
              "      <td>-4.615385</td>\n",
              "      <td>-5.645161</td>\n",
              "      <td>2019</td>\n",
              "      <td>-0.0070</td>\n",
              "    </tr>\n",
              "    <tr>\n",
              "      <th>3</th>\n",
              "      <td>AAC TECHNOLOGIES HOLDINGS INCORPORATION</td>\n",
              "      <td>-7.159905</td>\n",
              "      <td>51.928021</td>\n",
              "      <td>35.702200</td>\n",
              "      <td>2019</td>\n",
              "      <td>-0.1080</td>\n",
              "    </tr>\n",
              "    <tr>\n",
              "      <th>4</th>\n",
              "      <td>AAREAL BANK AG</td>\n",
              "      <td>9.090909</td>\n",
              "      <td>-12.500000</td>\n",
              "      <td>-9.523810</td>\n",
              "      <td>2019</td>\n",
              "      <td>-0.0015</td>\n",
              "    </tr>\n",
              "  </tbody>\n",
              "</table>\n",
              "</div>"
            ],
            "text/plain": [
              "                               CompanyName  Environmental_Growth_2016  \\\n",
              "0                               3M COMPANY                   8.964451   \n",
              "1                     A.G.V. PRODUCTS CORP                 -13.265306   \n",
              "2                                   AA PLC                  41.304348   \n",
              "3  AAC TECHNOLOGIES HOLDINGS INCORPORATION                  -7.159905   \n",
              "4                           AAREAL BANK AG                   9.090909   \n",
              "\n",
              "   Environmental_Growth_2017  Environmental_Growth_2018  Year  \\\n",
              "0                  -6.382979                   7.575758  2019   \n",
              "1                  11.764706                 -26.315789  2019   \n",
              "2                  -4.615385                  -5.645161  2019   \n",
              "3                  51.928021                  35.702200  2019   \n",
              "4                 -12.500000                  -9.523810  2019   \n",
              "\n",
              "   Env_intensity2019  \n",
              "0            -0.0641  \n",
              "1            -0.0172  \n",
              "2            -0.0070  \n",
              "3            -0.1080  \n",
              "4            -0.0015  "
            ]
          },
          "metadata": {
            "tags": []
          },
          "execution_count": 74
        }
      ]
    },
    {
      "cell_type": "code",
      "metadata": {
        "id": "logical-samoa",
        "outputId": "78965330-7b97-4b21-ef16-ef74a63a288d"
      },
      "source": [
        "X=mdl5[['Environmental_Growth_2016','Environmental_Growth_2017','Environmental_Growth_2018']]\n",
        "y=mdl5['Env_intensity2019']\n",
        "print(X.shape)\n",
        "print(y.shape)"
      ],
      "id": "logical-samoa",
      "execution_count": null,
      "outputs": [
        {
          "output_type": "stream",
          "text": [
            "(1010, 3)\n",
            "(1010,)\n"
          ],
          "name": "stdout"
        }
      ]
    },
    {
      "cell_type": "code",
      "metadata": {
        "id": "split-karaoke",
        "outputId": "a11cd316-cc26-43c9-9d15-99d9a654c84d"
      },
      "source": [
        "regr = linear_model.LinearRegression()\n",
        "X_train, X_test, y_train, y_test = train_test_split(X,y,test_size=0.2,random_state=42)\n",
        "regr.fit(X_train, y_train)\n",
        "y_train_pred = regr.predict(X_train)\n",
        "y_pred = regr.predict(X_test)\n",
        "\n",
        "print('MSE train: %.3f, test: %.3f' % (metrics.mean_squared_error(y_train, y_train_pred),\n",
        "                metrics.mean_squared_error(y_test, y_pred)))"
      ],
      "id": "split-karaoke",
      "execution_count": null,
      "outputs": [
        {
          "output_type": "stream",
          "text": [
            "MSE train: 0.050, test: 0.057\n"
          ],
          "name": "stdout"
        }
      ]
    },
    {
      "cell_type": "code",
      "metadata": {
        "id": "nonprofit-terrorist",
        "outputId": "74549a1c-d3f1-4775-817d-080a5e375b2c"
      },
      "source": [
        "# display the parameters\n",
        "print('Model intercept: ', regr.intercept_)\n",
        "print('Model coefficients: ', regr.coef_)"
      ],
      "id": "nonprofit-terrorist",
      "execution_count": null,
      "outputs": [
        {
          "output_type": "stream",
          "text": [
            "Model intercept:  -0.09843465299284881\n",
            "Model coefficients:  [ 0.0001935  -0.00012326 -0.000327  ]\n"
          ],
          "name": "stdout"
        }
      ]
    },
    {
      "cell_type": "code",
      "metadata": {
        "id": "rural-nation",
        "outputId": "c6cee345-eb48-41ba-c17b-8dcfa580ce22"
      },
      "source": [
        "print('R2 score:', metrics.r2_score(y_test, y_pred))"
      ],
      "id": "rural-nation",
      "execution_count": null,
      "outputs": [
        {
          "output_type": "stream",
          "text": [
            "R2 score: -0.018655694802211853\n"
          ],
          "name": "stdout"
        }
      ]
    },
    {
      "cell_type": "code",
      "metadata": {
        "id": "opened-haiti",
        "outputId": "b4c915bb-f61e-49ac-d2bc-0f62d6871a9f"
      },
      "source": [
        "fig, ax = plt.subplots(figsize=(12,8))\n",
        "ax.scatter(y_test, y_pred, c='green')\n",
        "ax.plot([y_test.min(), y_test.max()], [y.min(), y.max()], 'k--', lw=4)\n",
        "ax.set_xlabel('Observed 2019 Environmental Intesity')\n",
        "ax.set_ylabel('Predicted 2019 Environmental Intesity')\n",
        "ax.set_title('Linear Regression- Predicting 2019 Environmental intensity using 2016- 2018 growth rate');"
      ],
      "id": "opened-haiti",
      "execution_count": null,
      "outputs": [
        {
          "output_type": "display_data",
          "data": {
            "image/png": "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\n",
            "text/plain": [
              "<Figure size 864x576 with 1 Axes>"
            ]
          },
          "metadata": {
            "tags": [],
            "needs_background": "light"
          }
        }
      ]
    },
    {
      "cell_type": "markdown",
      "metadata": {
        "id": "activated-bikini"
      },
      "source": [
        "Again, we see that each coefficient is negative which could be interpret that an increase in environmental growth decreases the environmental intensity for 2019. R1 score is also negative (is worse that a horizontal line) which mean we can discard this regression.\n",
        "\n",
        "## Individual model conclusions\n",
        "\n",
        "As expected, using Environmental intensity from previous years had better accuracy to predict the next year Environmental intensity. We proved that in Model 1 and Model 2 were the regression was able to explain 88% of the variance.\n",
        "\n",
        "When using the industry average for each year, the model was able to explain around 30-34% of the variance. Moreover, by running these regressions, we concluded that the envirionmental growth from previous years isn't a good predictor.\n",
        "\n",
        "However, maybe the industry indicator and growth rate would help explain the future environmental intensity better if we combine this features with previous models. For example, predicting 2019 environmental intensity using last years environmental intensity, industry indicator, average industry and growth rate. \n",
        "\n",
        "Let's see what happens!\n",
        "\n",
        "## Building new predictive models by combinig features \n",
        "\n",
        "In this section, we will create a function to calculate the desired future environmental intensity using different features.\n",
        " "
      ],
      "id": "activated-bikini"
    },
    {
      "cell_type": "code",
      "metadata": {
        "id": "unlike-cincinnati"
      },
      "source": [
        "years = [2016, 2017, 2018]\n",
        "df_c = df_industry_count4.copy()\n",
        "def predictiveModel(outcomeYear, pastYears, df_c):\n",
        "    years.sort()\n",
        "    for year in years:\n",
        "        data = df_c[df_c['Year'] == year]\n",
        "        data = data.loc[:,['CompanyName','Env_intensity','industry_avg_year']]\n",
        "        data.rename(columns={'Env_intensity': f'Env_intensity_{year}','industry_avg_year':f'industry_avg_year_{year}'}, inplace=True) \n",
        "        if(year == min(years)):\n",
        "            data1 = pd.DataFrame(data)\n",
        "        else:\n",
        "            data2 = pd.merge(data1, data, on=[\"CompanyName\"])\n",
        "            data1 = data2.copy()\n",
        "    data3 = df_c[df_c['Year'] == outcomeYear]\n",
        "    data3 = data3[['CompanyName','Env_intensity','industry_avg_year']]\n",
        "    data3.rename(columns={'Env_intensity': f'Env_intensity_{outcomeYear}','industry_avg_year':f'industry_avg_year_{outcomeYear}'}, inplace=True) \n",
        "    data3 = pd.merge(data3, data2, on=[\"CompanyName\"])\n",
        "    \n",
        "    filter_col = [col for col in data3 if ((col.startswith('Env_intensity') and not(col.endswith(f'{outcomeYear}')))) or ((col.startswith('industry_avg_year') and not(col.endswith(f'{outcomeYear}'))))]\n",
        "    outcome_col = [col for col in data3 if (col.startswith('Env_intensity') and col.endswith(f'{outcomeYear}'))]\n",
        "    X=data3[filter_col]\n",
        "    y=data3[outcome_col]\n",
        "    \n",
        "    regr = linear_model.LinearRegression()\n",
        "    X_train, X_test, y_train, y_test = train_test_split(X,y,test_size=0.2,random_state=42)\n",
        "    regr.fit(X_train, y_train)\n",
        "    y_train_pred = regr.predict(X_train)\n",
        "    y_pred = regr.predict(X_test)\n",
        "\n",
        "    print('MSE train: %.3f, test: %.3f' % (metrics.mean_squared_error(y_train, y_train_pred),\n",
        "                    metrics.mean_squared_error(y_test, y_pred)))\n",
        "    \n",
        "    # display the parameters\n",
        "    print('Model intercept: ', regr.intercept_)\n",
        "    print('Model coefficients: ', regr.coef_)\n",
        "    \n",
        "    print('R2 score:', metrics.r2_score(y_test, y_pred))\n",
        "    \n",
        "    fig, ax = plt.subplots(figsize=(12,8))\n",
        "    ax.scatter(y_test, y_pred, c='green')\n",
        "    ax.plot([y_test.min(), y_test.max()], [y.min(), y.max()], 'k--', lw=4)\n",
        "    ax.set_xlabel(f'Observed {outcomeYear} Environmental Intesity')\n",
        "    ax.set_ylabel(f'Predicted {outcomeYear} Environmental Intesity')\n",
        "    ax.set_title(f'Predicting {outcomeYear} Environmental intensity using {years} environmental intensity and industry average');"
      ],
      "id": "unlike-cincinnati",
      "execution_count": null,
      "outputs": []
    },
    {
      "cell_type": "code",
      "metadata": {
        "id": "noted-involvement",
        "outputId": "8ce17a3e-fdd4-4bdc-9cf5-8670d40f4e64"
      },
      "source": [
        "predictiveModel(2019, years, df_c)"
      ],
      "id": "noted-involvement",
      "execution_count": null,
      "outputs": [
        {
          "output_type": "stream",
          "text": [
            "MSE train: 0.007, test: 0.003\n",
            "Model intercept:  [-0.00039425]\n",
            "Model coefficients:  [[-1.65025673e-04 -1.31236658e-01 -1.79669467e-01 -1.03358634e-01\n",
            "   1.08460860e+00  2.73584324e-01]]\n",
            "R2 score: 0.9456819404490042\n"
          ],
          "name": "stdout"
        },
        {
          "output_type": "display_data",
          "data": {
            "image/png": "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\n",
            "text/plain": [
              "<Figure size 864x576 with 1 Axes>"
            ]
          },
          "metadata": {
            "tags": [],
            "needs_background": "light"
          }
        }
      ]
    },
    {
      "cell_type": "markdown",
      "metadata": {
        "id": "competent-occasions"
      },
      "source": [
        "Now, we are going to create another function that will create a predictive model using environmental intensity, industry average and industry indicator."
      ],
      "id": "competent-occasions"
    },
    {
      "cell_type": "code",
      "metadata": {
        "id": "raising-birthday"
      },
      "source": [
        "def predictiveModel1(outcomeYear, pastYears, df_c):\n",
        "    years.sort()\n",
        "    for year in years:\n",
        "        data = df_c[df_c['Year'] == year]\n",
        "        data = data.loc[:,['CompanyName','Env_intensity','industry_avg_year','Industry_indicator_year']]\n",
        "        data.rename(columns={'Env_intensity': f'Env_intensity_{year}','industry_avg_year':f'industry_avg_year_{year}', 'Industry_indicator_year' : f'Industry_indicator_year_{year}'}, inplace=True) \n",
        "        if(year == min(years)):\n",
        "            data1 = pd.DataFrame(data)\n",
        "        else:\n",
        "            data2 = pd.merge(data1, data, on=[\"CompanyName\"])\n",
        "            data1 = data2.copy()\n",
        "    data3 = df_c[df_c['Year'] == outcomeYear]\n",
        "    data3 = data3[['CompanyName','Env_intensity']]\n",
        "    data3.rename(columns={'Env_intensity': f'Env_intensity_{outcomeYear}'}, inplace=True) \n",
        "    data3 = pd.merge(data3, data2, on=[\"CompanyName\"])\n",
        "    \n",
        "    filter_col = [col for col in data3 if ((col.startswith('Env_intensity') and not(col.endswith(f'{outcomeYear}')))) or ((col.startswith('industry_avg_year') and not(col.endswith(f'{outcomeYear}')))) or ((col.startswith('Industry_indicator_year_') and not(col.endswith(f'{outcomeYear}'))))]            \n",
        "    outcome_col = [col for col in data3 if (col.startswith('Env_intensity') and col.endswith(f'{outcomeYear}'))]\n",
        "    X=data3[filter_col]\n",
        "    y=data3[outcome_col]\n",
        "    \n",
        "    regr = linear_model.LinearRegression()\n",
        "    X_train, X_test, y_train, y_test = train_test_split(X,y,test_size=0.2,random_state=42)\n",
        "    regr.fit(X_train, y_train)\n",
        "    y_train_pred = regr.predict(X_train)\n",
        "    y_pred = regr.predict(X_test)\n",
        "\n",
        "    print('MSE train: %.3f, test: %.3f' % (metrics.mean_squared_error(y_train, y_train_pred),\n",
        "                    metrics.mean_squared_error(y_test, y_pred)))\n",
        "    \n",
        "    # display the parameters\n",
        "    print('Model intercept: ', regr.intercept_)\n",
        "    print('Model coefficients: ', regr.coef_)\n",
        "    \n",
        "    print('R2 score:', metrics.r2_score(y_test, y_pred))\n",
        "    \n",
        "    fig, ax = plt.subplots(figsize=(12,8))\n",
        "    ax.scatter(y_test, y_pred, c='red')\n",
        "    ax.plot([y_test.min(), y_test.max()], [y.min(), y.max()], 'k--', lw=4)\n",
        "    ax.set_xlabel(f'Observed {outcomeYear} Environmental Intesity')\n",
        "    ax.set_ylabel(f'Predicted {outcomeYear} Environmental Intesity')\n",
        "    ax.set_title(f'Predicting {outcomeYear} Environmental intensity using {years} environmental intensity, industry average and industry indicator');"
      ],
      "id": "raising-birthday",
      "execution_count": null,
      "outputs": []
    },
    {
      "cell_type": "code",
      "metadata": {
        "id": "enclosed-fence",
        "outputId": "db12f035-ac18-4304-deb2-69a309bcdb51"
      },
      "source": [
        "predictiveModel1(2019, years, df_c)"
      ],
      "id": "enclosed-fence",
      "execution_count": null,
      "outputs": [
        {
          "output_type": "stream",
          "text": [
            "MSE train: 0.007, test: 0.003\n",
            "Model intercept:  [-0.00026901]\n",
            "Model coefficients:  [[ 0.00375992 -0.13900723 -0.00249598 -0.18654459 -0.09227611  0.00462519\n",
            "   1.0887461   0.26965729 -0.00254445]]\n",
            "R2 score: 0.9460221011896222\n"
          ],
          "name": "stdout"
        },
        {
          "output_type": "display_data",
          "data": {
            "image/png": "iVBORw0KGgoAAAANSUhEUgAAAycAAAHwCAYAAAC8DRAXAAAAOXRFWHRTb2Z0d2FyZQBNYXRwbG90bGliIHZlcnNpb24zLjMuNCwgaHR0cHM6Ly9tYXRwbG90bGliLm9yZy8QVMy6AAAACXBIWXMAAAsTAAALEwEAmpwYAAByEElEQVR4nO3dd3wU1frH8c8TOgoioCJKsUtEbLGg147YBS8WlGsjNAEV+dmxC/aKlRJ7bNferhUr1oDUYFcQFUWkd5Ln98dMcJPdNMjObpLv+/Xa1+7OmZ3zzJbZeeacM2PujoiIiIiISKplpDoAERERERERUHIiIiIiIiJpQsmJiIiIiIikBSUnIiIiIiKSFpSciIiIiIhIWlByIiIiIiIiaSGlyYmZPWxmw8PH+5vZN+u4nAfM7Iqqja52qK3vXex3L0FZLzN7K+qYyrI+v48qjKGtmS0xszpJWPb7ZrbCzD6s6mVLcplZl/B7UWhmXSKuW9uv+LJatf1an/U1s/Zm5mZWt6rjkuQys4PMbHYZ5UvMbOt1XPb7ZtZn3aNLjvXZ3pnZmWb2cczzdX5/olBucmJmP5vZ8nBF/gg3ihtWdSDu/pG771CBeIq9weFrB7j7dVUdk5ltb2YvmdlcM/vbzN40sx1KzHO+mc0xs0Vm9qCZNYgpu87MpprZGjO7usTrzMyGmdms8LVPmVnTMmKJ/RyKbves7zom672LWvj+VMmOkbvnunvXCtYb931MhpK/j6pc30rEMMvdN3T3giRVMdjdDwAwswZmlmNmM81ssZlNMrMjY2c2s0PN7GszW2Zm75lZu5iyk8zsk7Ds/ZIVmVkdMxtuZr+Fy//KzJqVF2Ay4wp34JaUuLmZ9UhlXGH5IWY2MdxW/Whm/YrK3P0dd98QmFVenFVN2694tW37VZn1TZZ03ZmtzcL/qh9TVX8yfltVub2rivfHyjhIsr4q2nJybPjnszuQBVxecgarmUcemgEvAzsAmwFfAC8VFZrZ4cAlwKFAO2Br4JqY138PXAS8lmDZpwOnAfsBrYFGwN3lxHNs+IUqug1eh3WqsBr6mUr1UBf4BTgQ2Ihgm/OMmbUHMLOWwPPAFUBzIA94Oub1fwN3AjeWsvxrgH2BzkBTgt/iilTGFe7Arf19A8cAS4A3UhmXmdUDXgBGhcs+GbjdzHapQFwpo+2XpIt0/S6ma1y1hSWhF0J1Uub6u3uZN+BnoEvM81uAV8PHDgwCvgN+CqcdA0wCFgCfAJ1iXrsbMBFYTPDH+BQwPCw7CJgdM28bgj/TucA84B6gA8EORAHBn/aCcN6HSy4H+D/gT+B34KyY5bYAXgEWAV8Cw4GPy3sfwtc2D9e5Rfj8CeD6mPJDgTkJXvc4cHWJac8CF8Y83zdct8YV+RxKlJ0JfAzcCswHfgKODMtOBvJKzH8+8HIZ793FwBzgMaABwU7Lb+HtTqBBBd/rh4H7gP+Fn9d4oFW4jPnA18BuMfO3Bp4LP/OfgHNjyq4GngEeDb8/04GssOwxoBBYHtZzUTj9v+F6LAQ+BHYqEdvwst7PmOcODCD4ni8A7gWM0r+PDcLPYhbwB/AA0KiC79lRQH64jr8CF5T8fSRaX4IE+JwS6zEFOD7B+q1dVqLvF7AXwc7rojD+28Pp7cP3om74/H3guvBzXQy8BbSMWebpwEyC3+8VlP0dfh/oU87vbwrQI3zcD/gkpmyD8P3YscRr+gDvl5i2cfi+bVOR330FtgtVEleC5T4EPJTquAgOzDgx2yaCbecppX2HEsSyEZATft9/Jdju1on9vaHtl7Zf8d/fuO3Xuq5vWFYnXLe/gB8J9l9it2k/U3x/52rg8fBxQ4L/8nnhcr8k+G2MCN/DFeH63BMTx9r9ozCO20rE/jJwfinrdRfBAYdFwARg/5jv2XKgecy8u4XrVC983huYQfA9fRNoV+L9KbnflrCusKwR8Ei4rBnh5xW7r1bq9z7BOh0NfBXW8wsx+0X88/9yBsF37y9gWIk4Hg7jyAcupMT/WIm6HNg25vdyL8H3bDHwOTHbf+Awgt/zQoJ9zQ8I/49ivwMl4iz6zpxJ8F1aHK5/L8reV70feB1YGq7DH4TbwnCefwOTS1mnh6ncvu7L4Xv9BcF/dcnfybYx7+1tBP/XCwm2x0W/+YTbIYL/lNXAqnAdXwmndyD4P19AsJ07rkT8seuf8P/C3Ss35sTM2hBsfL6Kmdwd2BvINLPdgAeB/uEbMwp4OexyUB94kWDD1Dxc4YTdFcJs6tXwjWoPbAE85e4zCDY6n3pwdLFZKaG2Ivgz3ALIBu41s43DsnvDN6UVwY/gjEq8BQcQJB/zwuc7AZNjyicDm5lZiwouz0o8bgBsV4l4Yu0NfAO0BG4GcszMCBKxHcwsdrmnEiRWibQi+HzaEXz5hgH7ALsCuxDsuF5eYv7S3muAk8L5WwIrgU8JEtSWBAna7QBmlhHGOjlc1qHAkLB1qshxBAltM4If3T0A7n4awcasqGXp5nD+/xG8n5uGdeaWss4VcQywJ9ApXKfDy/g+3ghsT/CebRuuz5UxyyrrPcsB+rt7E6AjMK5kIKWs7yPAf4rmCY9qb0HiVrvy3AXc5e5NgW0IdqpKcypwFsF7XB+4IKw/k2DHrhewecz6rhMz24zgPZ0eTir223P3pcAP4fTy7AysAU6woEvmt2Y2KA3iil3uBsAJBJ9rSuNy9z+AJ4Gzwu5wnQm2D5XpsvAwwXu+LcGOVFeCRKiItl/aflXV9ivh+obT+4ZluxH0AjmhEss8g2C92xDs3wwAlrv7MOAjgm6pJXs0dCfcPyJYx1PC70pRa2YXSv8uf0nwGTQP5/mvmTV0998Ivoex+0+nAs+6+2oz6wZcRrCTu0kY25Mllh0bV6l1hWVXEeyHbU2wEx/7OVXkex9rKcFBq2YEicrZZta9xDz/IuitcihwpZl1iIljm/B2OJXbdwPoSdBivjFBr5YR4ToUtSoX/c5/IOjRUq5wOz2S4GBKE4KDzJPK2Vc9Nay7CUFvmXkE28MipxEcxKiI8vZ1VxD8//YOb6W5FdgjjL85QQJaGJYl3A65++jw8c3hOh4btrK/QnCgclPgHCDXig+HiF3/0v9DKnBU4mfCzI8gWbiPfzIqBw6Jmfd+4LoSr/+GoKvBAQRHriym7BMStJwQdLWYS5iZlljemZRo6SA+m1we+1qCrHIfgqMmq4EdYsoq1HICbElwJOiUmGk/AEfEPK8XviftS7w2UctJH+Bbgh/9RgR/Vg50rsDnUHTrG/OefB8zb+NwWa1i6r8yfLwdQYbfuJT3bhXQsMQ6HhXz/HDg5/Le65hlj4kpOweYEfN8Z/45orA3MKvEOl9KeOSY4OjFOzFlmQR/DOUetQ3Lm4XvyUYl17u871j4un/FPH8GuKSUeY1gAxx7VKYz/xyhKu89m0WQ3DctEdNBFD9aVWx9CY7qzQe2C5/fCtxXyvoVW1bJ5REcHbmGmFaQcHp74ltOLo8pHwi8ET6+EniyxHdyVWmfEWW0nBD8rt4BRsVMywFuLDHfeODMBL+z90tMOzVcjxyCI0adCLY3h5W3HUhmXCXKTyM4CmeViSlZcQHHEhzhWxPe+iaYp9h3Mmb6ZgQ79o1ipp0CvBfzG9L2S9uvCm2/1nN9xwEDYsq6UvGWk96U6A0SM9/7lNh+UWL/KJw2g3A7AwwGXq/E73o+sEvM73RczGf2C3BA+Px/QHbM6zKAZYStJ4niKqeuHwmS2dhtRNG+Wpnf+wqs053AHeHj9mFsW8aUfwH0jIkjdn+rH5VrORkbU3YU8HX4+HTgsxK/gdlUoOWEoAV6AUGi2KhE/cW+lzFxPFpi2sVAbvi4efhZbV7KOj1M5fZ1d4wpu54ELSfh92N50eddzufVjDK2Q8D+BK0sGTHTniTc/020/qXdKtpy0t3dm7l7O3cf6O7LY8p+iXncDvg/M1tQdCM4ytA6vP3qYYShmaXU1waY6e5rKhhfSfNKvHYZsCHBUYSivtmJ4k/IzDYhyATvc/fYIxBLCPqrFyl6vLgCMT5I8KG9T3B0871weqlnn+Cfz6HoNiambE7RA3dfFj4sOnHBEwQ7AxDsmL0YM09Jc909tu99a4p/TjPDaUVKe6+L/BHzeHmC50XztgNal/juXEawY1NkTszjZUDD0vrMhkd4bzSzH8xsEcGfDgRHRtZFybpLOynEJgQ7VxNi1uONcHqRst6zHgQbzplm9kF4lLpc4Wf2NPCf8GjWKQStlOsim+DI6ddm9qWZHVPGvKW9L62J+W2F37d5VFK4Lo8R7HTGHpEs+dsjfF6R317R9utad1/u7lMIjmgfleK4Yp1BsBH3cudMclxmtiPB+3M6QevYTsBFZnZ0BcNqR5Aw/R7zmxhFcGStiLZfMbT9Wq/tF1Rwu0Tp+yCJPEbQReopC06kcXN4pLgsJfcvYluI/kMZ62hmF5jZDDNbGH4OG/HP5/8c0NnMNic48FtI0EICwXfxrpjP72+CHe7YluticZVTV8n3rOQ+X3nf+9h69rbgZBxzzWwhQetCye90Mj67Ci833OaWu18YzruUoOvpAILt22vh9rIsJZf9OHBs2ApzEvCRu/9ekfqp3L5uae9XS4KDAz+ULFiH7VBr4Bd3L4yZNpMyvnulqYpTCcf+ef4CjCixA9043KH/HdgibKov0raUZf4CtC1lw12pP+sS5hIc9dsyZlqbsl4QNpG9RdDHeUSJ4ukEXQWK7AL84f90+yqVuxe6+1Xu3t7dtwyX9Wt4q2pvA5uY2a4EG/3SmpEh/v39jWADVKRtOK2q/UJwdC72u9PE3Su6w1gy7lOBbgTN5hsRHO2A4l3pqkLJev8i2GnZKWY9NvJggHP5C3P/0t27Eey4vUjpXaoS/Q4eIehGdSiwzN0/LeW1Swl2QIC13SjX7ny4+3fufkoYw03As+GGszJ+J+Z3ZmaNCLpCVFi4rcgh+KPr4e6rY4qL/fbC+Lbhn25MZZkS3se+hxXeriQxrqLXtCE4KlbRpv1kx9UR+Nbd3wy3W98QdLc5spzXFfmFoOWkZcxvoqm7V7Srm7Zf2n5Vld8p/p9fch+k2LaRoNsMAO6+2t2vcfdMgu4vxxAk7FD69qPk9MeBbmG3tQ4E71EcM9ufoGvNScDGHnQLWkj4+bv7fIL9kpMJvitPxRzI+IWga13sd7GRu3+SKK7y6qLEtpzi719lv/dPEPQSaePuGxGMZ6rod7q8z25dFVtuuB2NrafU7wRAuF08jKD71NdA0UHjCn0n3P1Xgm56/yZoMV+fpLxI0b5uRd6vvwi6f22ToKy87VCi7W2boq6LMfXG7tdW6L+2qq9zMgYYEGbHZmYbmNnRZtaE4M1fA5xrZvXM7N8E/X8T+YLgC3NjuIyGZlbUB/APYEsLxrBUigenQH0euNrMGocZ7umlzW/BqX3fBMa7+yUJZnkUyDazTAtOQ3o5QbNV0evrWdBvMwOoG65HnbCsuZltE75PmQR9l68tkXFWiXAn5b8EJzNoTvBnX1FPApeb2SYW9M28kmADW9W+ABab2cVm1ijM2Dua2Z4VfP0fBH1iizQh2CGaR7Bhub5qwy1W79rvY/j5jQHuMLNNAcxsCyu9D+5aZlbfgnP2bxR+Zov4p99nonqLnaM8/DMvJBjYVtYG7luCo7ZHh0f+LicY71QUx3/MbJNwXRaEkyv7vXyW4GjQvuF7czWV37G6n+AP/NgSrbUQnD2qo5n1CH9jVwJT3P3rcB3qhNPrAhnhb68egLv/QHCUcZgF4+E6EPRHfjV87UFmVtYGNClxxTiNYPB6sSNZKYzrK2A7C04nbGa2DcGO2RQqIDwK+BZwm5k1NbOMcNt3YAVfr+1XLd9+WXCq3qsrtWaJPUOwD7JleOCx5P/6JKBn+N9dbEyKmR1sZjuH/+GLCLrNFK1f3Pok4u6zCcZ3PAY8l+B3WqQJwf7SXIJ9hyuJb/l8gmD/5QSKJ+wPAJea2U5h3BuZ2YllhFVeXc+Ey9vYzLageItsZb/3TYC/3X2Fme1FsPNbUbFxbEnQzbIqvAbsZGb/tuCA+LkUT0AmAQdYcJ2vjQi6rQHB2D4z62bBwZ6VBC3Usd+Jiu6rPkqQIO5MsI+6XhLs62ZSyhid8Df/IMEZGFuHn2FnCy6LUd52qOT3/nOC1puLwt/QQQRdgp+q7DpUaXLi7nkEA87uIeiz+D1BvzvcfRVBZngmQTPjyZTyIYRv7LEE/eFmEXR1OjksHkdwtG+Omf21DmEOJsgAi87m8iTBm5/I8QSD6s6y4tceaBvG+QbB4M33wjhnEgzaKjKG4CjUKQQDM5cT7HhA0CxWdMaC/wEPejDAqCyvlIjjhUqs9xME2e9/vXLd5YYTnLlpCjCVYEBUlZ/XOvzMjyEYlPcTQTY/luCzqogbCHZCFpjZBQQ/9pkEGXs+8FlVxxxK9H28mOC7/5kFTaHvEAzwq4jTgJ/D1w0gOJKYSMn1LfIowQau1B0wd19IMD5kLMH7s5Ti3QmPAKab2RKCwfE9y/gTLa2O6QR/Hk8RHGhYQtAftrTfWjEWXIOjP8H3YU7Md75XuPy5BF1IRhBsa/YmSDCKnEbwe7ufoB/scv45ogXBb7IdwUb3NeAKd383LGtD0Lc8FXFBsMORaCB8SuIKk6TeBAM/FxGcyeY5gu9PRRV1CcsP63+W4EhjRWn7lRzVZfvVhmCM1PoaQ3DAcTLBd6HkPsgVBEeQ5xOMu4vd6W9F8L1dRDB25AP+SaLuIjjBxnwzG1lODI8QrGNZB5DeJOhO9y3B92AF8d1hXiYYgzXH3WNPdvECQYv3U+HnMI2yWznLq+tagv+Hnwi+C88SbsfX4Xs/ELjWzBYTHCgo62QrJV0TxvcTwcGOqmhhwN3/Ak4kOBHEPIL3dHxM+dsEXQ6nEJzJ7NWYl2cAQwlaDP4mGF99dlhWmX3VFwj+j17w0rusVtZggi5ecwgOmj9UxrwXEGwfvyRYj5sI1q287VAOwcmwFpjZi+F+/rEE37e/CMaon150EKwyik6vV2uZ2U0EAy8TZpUi1YmZnQ70c/d/pTqWWBZcuHUBwYDXnxKUv0Uw8DbP3Q+OOLySsYwl2Al+M5VxlJTGcR1KkKw0IBh8/l45LxFJKNH2KzxK/oy775u6yKqOmR1AkHy182q4A2ZmZxMcsKpQy6dUjJn9QNAd751Ux5IOal1yYkFXrvoEWeKeBK0Xfdz9xVTGJbK+zKwxwdGa+9y9UuMVkhTPscC7BN25biM4Wr97dfxDFpHkSrftVzKEXSWfIriOxbWpjqciLBh0vzVB1/ztCFqa73H3O1MZV01iZj0IWiu2T0bX/uqoqsecVAdNCJpylxI01d1GzFXfRaqjsE/4XII+oGUNGI5SN/65+N12BEfblJiISDFpuv2qUhaMbVtA0J3xzpQGUzn1Cc6ut5ggeXyJoLuOVAEze5+gO+0gJSb/qHUtJyIiIiIikp6qdcuJmT1oZn+a2bRSyg+y4Lzdk8LblYnmExERERGR1Et4Aahq5GGCM4OV1T/1I3cv6yJyIiIiIiKSBqp1cuLuH5pZ+6pebsuWLb19+ypfrIiIiIhIMRMmTPjL3Tcpf87aoVonJxXU2cwmEwzKvSC8/kKZ2rdvT15eXvIjExEREZFazcxmpjqGdFLTk5OJBOcSX2JmRwEvEpw1KI6Z9QP6AbRt2zayAEVEREREJFCtB8SXx90XufuS8PHrQD0za1nKvKPdPcvdszbZRC1rIiIiIiJRq9HJiZm1MjMLH+9FsL7zUhuViIiIiIgkUq27dZnZk8BBQEszmw1cBdQDcPcHgBOAs81sDbAcXQRORERERCRtVevkxN1PKaf8HoJTDYuIiIiISJqr0d26RERERESk+lByIiIiIiIiaUHJiYiIiIiIpAUlJyIiIiIikhaUnIiIiIiISFpQciIiIiIiImlByYmIiIiIiKQFJSciIiIiIpIWlJyIiIiIiEhaUHIiIiIiIiJpQcmJiIiIiIikBSUnIiIiIlLrLFiwgH79+nH//fenOhSJUTfVAYiIiIiIROnll1/m7LPP5rfffmPDDTfkqKOOol27dqkOS1DLiYiIiIjUEqtXr6Znz55069aN3377DYAlS5YwYMAA3D3F0QkoORERERGRWqJevXpkZMTv/v7888/MnTs3BRFJSUpORERERKTWuOuuu2jZsiUAderUYdiwYXz11VdsuummKY5MQMmJiIiIiNQim2yyCSNHjmS33XYjLy+P4cOH07Bhw1SHJSElJyIiIiJSo3z33Xdcd911pZb37NmTL774gl133TW6oKRClJyIiIiISI2wZs0abr75Zjp16sSVV17Jc889l3A+M6NuXZ20Nh0pORERERGRam/y5Mnss88+XHzxxaxYsQKAQYMGMX/+/BRHJpWh5EREREREqq2VK1dyxRVXkJWVxYQJE4qV/fHHHzz00EMpikzWhdqzRERERKRa+vTTT8nOzmbGjBlxZc2bN+fOO+/kP//5Twoik3WllhMRERERqVaWLFnCkCFD2G+//RImJieddBL5+fmcdtppmFkKIpR1pZYTEREREak23n77bfr168fPP/8cV9aqVSvuv/9+unfvHnlcUjXUciIiIiIiaW/+/PlkZ2fTtWvXhIlJdnY2+fn5SkyqObWciIiIiEja6927Ny+++GLc9K222ooxY8Zw6KGHRh+UVDm1nIiIiIhI2hsxYgT169df+9zMGDJkCFOnTlViUoMoORERERGRtJeZmckVV1yx9vEnn3zCHXfcwQYbbJDiyKQqqVuXiIiIiKSNxYsX06RJk4RlF198MU2bNqV///40aNAg4sgkCmo5EREREZGUKyws5J577qFNmzbk5eUlnKdevXqce+65SkxqMCUnIiIiIpJS33zzDQcccADnnHMOCxcuJDs7m9WrV6c6LEkBJSciIiIikhKrV6/mhhtuYJdddmH8+PFrp0+ZMoWbb745hZFJqig5EREREZHIffXVV+y9995cdtllrFy5slhZkyZNaNWqVfKDyM2F9u0hIyO4z81Nfp1SJg2IFxEREZHIrFixgmuvvZabb76ZgoKCuPKjjz6aBx54gC233DK5geTmQr9+sGxZ8HzmzOA5QK9eya1bSqWWExERERGJxPjx49l111254YYb4hKTFi1akJubyyuvvJL8xARg2LB/EpMiy5YF0yVllJyIiIiISFItXryYc845h/33359vvvkmrrxnz57MmDGDU089FTOLJqhZsyo3XSKhbl0iIiIikjTvv/8+Z5xxBrMS7PS3bt2a+++/n+OOOy76wNq2DbpyJZouKaOWExERERFJmlWrViVMTPr160d+fn5qEhOAESOgcePi0xo3DqZLyig5EREREZGk6dq1K2edddba59tssw3jxo1j1KhRbLTRRqkLrFcvGD0a2rUDs+B+9GgNhk8xc/dUx5B2srKyvLQrk4qIiIhI5cyfP5+dd96Znj17cu2119K4ZItFLWZmE9w9K9VxpAuNORERERGR9eLuPPLII3Tp0iXhmbY23nhjvv76azbccMMURCfVibp1iYiIiMg6+/nnnzn88MM566yzGDBgAKX1ylFiIhWh5EREREREKq2goICRI0fSsWNH3n77bQBee+01nnzyyRRHJtWZkhMRERERqZQZM2aw//77c95557F06dJiZZdccgmrV69OUWRS3Sk5EREREZEKWb16NSNGjGDXXXfl008/jSs/+OCDee+996hXr14KopOaQAPiRURERKRcEyZMoHfv3kyZMiWurGnTptx666306dMnuiu8S42klhMRERERKdXy5cu55JJL2HvvvRMmJsceeyz5+fn07dtXiYmsN7WciIiIiEhCH374IX369OG7776LK9tkk024++67Oemkk5SUSJVRciIiIiIicT766CMOPPDAhGW9evXizjvvpGXLlhFHJTWdunWJiIiISJz99tsvLjnZcsstefXVV3n88ceVmEhSKDkRERERkTgZGRmMGTOGhg0bAjBgwACmT5/O0UcfneLIpCZTty4RERGRWszdKSgooG7d+N3C7bbbjvvuu4+tt9661C5eIlWpWrecmNmDZvanmU0rpdzMbKSZfW9mU8xs96hjFBEREUlXv/32G927d+eCCy4odZ6zzjpLiYlEplonJ8DDwBFllB8JbBfe+gH3RxCTiIiISFpzd8aOHUtmZiYvv/wyI0eO5JNPPkl1WCLVOzlx9w+Bv8uYpRvwqAc+A5qZ2ebRRCciIiKSfn788Ue6dOlC3759WbhwIRAkK9nZ2axYsSLF0UltV62TkwrYAvgl5vnscFocM+tnZnlmljd37txIghMRERGJSkFBAXfccQcdO3Zk3LhxceXNmjXj77/LOuYrknw1PTmpMHcf7e5Z7p61ySabpDocERERkSozffp09ttvP4YOHcry5cuLlTVu3Jg777yTjz/+mNatW6coQpFATT9b169Am5jnW4bTRERERGq8VatWceONNzJ8+HBWr14dV96lSxdGjx7NVlttlYLoROLV9JaTl4HTw7N27QMsdPffUx2UiIiISLJ9+eWXZGVlcdVVV8UlJhtttBE5OTm89dZbSkwkrVTrlhMzexI4CGhpZrOBq4B6AO7+APA6cBTwPbAMOCs1kYqIiIhEY/ny5Vx55ZXcfvvtFBYWxpV3796de++9V124JC1V6+TE3U8pp9yBQRGFIyIiIpIWXnzxxbjEZNNNN+Wee+7hhBNOwMxSFJlI2Wp6ty4RERGRWqVRo0aMHTu22LTTTz+d/Px8TjzxRCUmktaUnIiIiIjUMAceeCADBgygTZs2vP766zzyyCO0aNEi1WGJlMuCnk8SKysry/Py8lIdhoiIiEip5s6dy8SJEzn88MMTli9evBiAJk2aRBmWVJKZTXD3rFTHkS7UciIiIiJSjbg7Tz75JJmZmfz73//mp59+SjhfkyZNlJhItaPkRERERKSamD17Nscddxynnnoqf/31F8uWLaNfv36oJ4zUFEpORERERNJcYWEho0aNIjMzk1dffbVY2TvvvMOzzz6boshEqla1PpWwiIiISE33/fff07dvX95///24svr163PVVVfRvXv3yOMSSQYlJyIiIiJpaM2aNdx5551cccUVrFixIq583333JScnhx133DEF0Ykkh5ITERERkTQzdepUsrOz+fLLL+PKNthgA2688UYGDhxIRoZ66EvNouREREREJE2sXLmS66+/nuuvv541a9bElXft2pVRo0bRvn376IMTiYCSExEREZE04O4cdthhfPTRR3FlG2+8MXfccQenn366rvAuNZraAkVERETSgJnRu3fvuOk9evQgPz+fM844Q4mJ1HhKTkRERETSxBlnnEHXrl0B2GyzzXj22Wd59tlnadWqVYojE4mGkhMRERGRiJV20UQzY9SoUfTr14/8/Hx69OgRcWQiqaXkRERERCRCL730Evvssw8LFy5MWN6+fXtGjRpF8+bNI45MJPWUnIiIiIhE4I8//uDkk0+me/fufPHFF1x88cWpDkkk7Sg5EREREUkid+fxxx8nMzOTZ555Zu30UaNGJbzqu0htpuREREREJElmzZrF0UcfzWmnncbff/9drKxu3bpMnTo1RZGJpCdd50RERESkihUWFjJq1CguuugilixZEle+++67k5OTw6677hp9cCJpTC0nIiIiIlXo22+/5aCDDmLgwIFxiUmDBg248cYb+fzzz5WYiCSglhMRERGRKrBmzRpuv/12rrrqKlasWBFXvv/++zN27Fi23377FEQnUj0oORERERFZT5MnT6Z3795MnDgxrmzDDTfkpptuYsCAAWRkqNOKSFmUnIiIiIisp+eeey5hYnLEEUcwatQo2rZtm4KoRKofpe8iIiIi62nYsGFkZmaufd68eXMeffRRXn/9dSUmIpWg5ERERERkPTVo0ICcnBzMjJNOOon8/HxOO+00zCzVoYlUK+rWJSIiIlJBH330EZ07d6Zu3fhdqH322YcpU6bQsWPHFEQmUjOo5URERESkHPPnz6d3794ccMAB3H777aXOp8REZP0oOREREREpw/PPP09mZiYPPfQQAFdddRXffvttiqMSqZmUnIiIiIgkMGfOHE444QR69OjBnDlz1k5fsWIFAwYMwN1TGJ1IzaTkRERERCSGu/PII4+QmZnJc889F1eemZnJ9ddfr8HuIkmg5EREREQkNHPmTI488kjOPPNM5s+fX6ysbt26XHnllUycOJF99tknRRGK1Gw6W5eIiIjUeoWFhdx3331ccsklLF26NK48KyuLnJwcOnXqlILoRGoPJSciIiJSq3399df06dOH8ePHx5U1bNiQ6667jiFDhiQ8fbCIVC39ykRERKTWeuWVVzjxxBNZuXJlXNmBBx7I2LFj2XbbbVMQmUjtpDEnIiIiUmvts88+NGnSpNi0Jk2a8MADDzBu3DglJiIRU3IiIiIitdYmm2zC3Xffvfb50UcfTX5+Pv379ycjQ7tJIlFTty4RERGp1U4++WTeeustunTpwimnnKJTBIukkJITERERqdEWL17MpZdeysEHH0yPHj3iys2MBx98MAWRiUhJaq8UERGRGuuNN96gY8eO3HvvvQwaNIi///471SGJSBmUnIiIiEiNM2/ePM444wyOPPJIZs2aBcAff/zB0KFDUxyZiJRFyYmIiIjUGO7Os88+S2ZmJo8++mhc+ccff8zChQtTEJmIVISSExEREakRfv/9d3r06MGJJ57In3/+WawsIyODCy64gClTprDRRhulKEIRKY8GxIuIiEi15u48/PDDDB06lAULFsSVd+zYkZycHPbaa6/ogxORSlHLiYiIiFRbP/30E127dqV3795xiUm9evW45pprmDBhghITkWpCLSciIiJS7RQUFHDvvfdy6aWXsmzZsrjyvffem5ycHHbaaacURCci60otJyIiIlLt/PTTT1x44YVxiUmjRo24/fbbGT9+vBITkWpIyYmIiIhUO9tuuy1XXnllsWmHHHII06ZN4/zzz6dOnTopikxE1oeSExEREamWLrroIjp16kTTpk0ZM2YM77zzDltvvXWqwxKR9aAxJyIiIpK2li9fzpw5c9hqq63iyurVq8dTTz1F06ZN2WKLLVIQnYhUNbWciIiISFr64IMP2GWXXejWrRurVq1KOE+HDh2UmIjUIEpOREREJK0sWrSIs88+m4MOOojvvvuOqVOnctNNN6U6LBGJQLVPTszsCDP7xsy+N7NLEpSfaWZzzWxSeOuTijhFRESkfK+//jo77bQTDzzwQLHp1113HdOnT09RVCISlWo95sTM6gD3AocBs4Evzexld88vMevT7j448gBFRESkQv766y+GDBlCbm5uwvI+ffrQpk2biKMSkahV6+QE2Av43t1/BDCzp4BuQMnkRERERNKQu/PMM89wzjnnMHfu3Ljy7bbbjrFjx3LAAQekIDoRiVok3brMrEWSFr0F8EvM89nhtJJ6mNkUM3vWzHTYRUREJA389ttvdO/enZ49e8YlJhkZGVx00UVMnjxZiYlILRLVmJPPzOy/ZnaUmVlEdRZ5BWjv7p2At4FHEs1kZv3MLM/M8hIduREREZGq4e6MHTuWzMxMXn755bjyTp068fnnn3PTTTfRqFGjFEQoIqkSVXKyPTAaOA34zsyuN7Ptq2C5vwKxLSFbhtPWcvd57r4yfDoW2CPRgtx9tLtnuXvWJptsUgWhiYiISEmrVq2iS5cu9O3bl4ULFxYrq1+/PsOHDycvL4+srKwURSgiqRRJcuKBt939FKAvcAbwhZl9YGad12PRXwLbmdlWZlYf6AkUOwRjZpvHPD0OmLEe9YmIiMh6qF+/Pu3bt4+b3rlzZyZNmsSwYcOoV69e9IGJSFqIbMyJmZ1nZnnABcA5QEvg/4An1nW57r4GGAy8SZB0POPu083sWjM7LpztXDObbmaTgXOBM9djVURERGQ93XrrrbRq1QqAxo0bc9ddd/HRRx/RoUOHFEcmIqlm7p78Ssy+BR4DHnL32SXKLnb3tLqyUlZWlufl5aU6DBERkRrrhRde4L777mP06NFstdVWqQ5HJGXMbIK7qx9jKKoxJ5e7+3WxiYmZnQiQbomJiIiIrL8vvviC888/n9IOgh5//PG89dZbSkxEpJiokpO4K7cDl0ZUt4iIiERk2bJlXHDBBXTu3Jk777yTJ54ovfd29CfwFJF0l9SLMJrZkcBRwBZmNjKmqCmwJpl1i4iISLTee+89+vTpw48//rh22nnnncdhhx3GpptumsLIRKS6SHbLyW9AHrACmBBzexk4PMl1i4iISAQWLlxI//79OeSQQ4olJgDz5s3jhRdeSFFkIlLdJLXlxN0nA5PNLDc8s5aIiIjUIK+88goDBgzgt99+iytr27Yto0eP5vDDdTxSRCom2d26nnH3k4CvzCx2RJwRXP6kUzLrFxERkeSYO3cu5513Hk8++WTC8sGDB3P99dfTpEmTiCMTkeos2d26zgvvjwGOjbkVPRcREZFqxN154okn6NChQ8LEZIcdduCjjz7i7rvvLjsxyc2F9u0hIyO4z81NWswiUn0kNTlx99/Dh38Bv7j7TKABsAvBeBQRERGpJmbPns1xxx1Hr169mDdvXrGyOnXqcOmllzJp0iT+9a9/lb2g3Fzo1w9mzgT34L5fPyUoIhLZRRgnAPsDGwPjgS+BVe7eK+mVrwNdhFFERCRet27dePnll+Om77rrrjz44IPstttuFVtQ+/ZBQlJSu3bw88/rFaNIdaOLMBYX1XVOzN2XAf8G7nP3E4GdIqpbREREqsBtt91Go0aN1j5v0KAB119/PV988UXFExOAWbMqN11Eao3IkhMz6wz0Al4Lp9WJqG4RERGpAttuuy3XXXcdAPvttx+TJk3i0ksvpV69epVbUNu2lZsuIrVGVMnJEIIrwr/g7tPNbGvgvYjqFhERkUqYM2dOqWXnnXceubm5fPjhh+y4447rVsGIEdC4cfFpjRsH00WkVoskOXH3D9z9OODu8PmP7n5uFHWLiIhIxaxcuZIrr7yS9u3bM378+ITz1K1bl1NPPZWMjPXYhejVC0aPDsaYmAX3o0cH00WkVotqQHxnIAfY0N3bmtkuQH93H5j0yteBBsSLiEht89lnn5GdnU1+fj4AO+64I1999RUNGzZMcWQiNZsGxBcXVbeuO4HDgXmw9srxB0RUt4iIiJRi6dKlnH/++ey7775rExOAr7/+muHDh6cwMhGpjZJ6hfhY7v6LmcVOKoiqbhEREYn37rvv0rdvX3766ae4slatWpGVpYO5IhKtqFpOfjGzfQE3s3pmdgEwI6K6RUREJMaCBQvo06cPXbp0SZiYnHXWWeTn59O9e/fogxORWi2qlpMBwF3AFsCvwFtAWo43ERERqcleeuklzj77bH7//fe4svbt2zN69GgOO+ywFEQmIhJdy8kO7t7L3Tdz903d/T9Ah4jqFhERqfX++OMPTj75ZLp37x6XmJgZ5513HlOnTlViIiIpFVXLyd3A7hWYJiIiIlXspZdeonfv3vz9999xZR06dCAnJ4fOnTunIDIRkeKSmpyEpxDeF9jEzIbGFDVFV4gXERGJxMYbbxyXmNStW5dLLrmEyy+/nAYNGqQoMhGR4pLdras+sCFBEtQk5rYIOCHJdYuIiAhwwAEHcPbZZ699vscee5CXl8d1112nxERE0kpUF2Fs5+4zk15RFdFFGEVEpKZZtGgRe+65J9nZ2QwdOpS6dSO7moCIlEEXYSwuqi1TAzMbDbSPrdPdD4mofhERkRptzZo13H777ZxwwglsvfXWceVNmzZl2rRp1KtXLwXRiYhUTFTJyX+BB4Cx6OKLIiIiVWrSpElkZ2czceJE3nrrLd5++21KXPgYQImJiKS9qE4lvMbd73f3L9x9QtEtorpFRERqpBUrVjBs2DCysrKYOHEiEFz1/cEHH0xxZCIi6yaq5OQVMxtoZpubWfOiW0R1i4iI1DiffPIJu+22G9dffz0FBcU7Jdxwww2sWbMmRZGJiKy7qJKTM4ALgU+ACeFNI85FREQqacmSJZx77rn861//4uuvv44rP/nkk/nkk0804F1EqqVItlzuvlUU9YiIiNRkb731Fv369WPmzPgTYG6++ebcf//9dOvWLQWRiYhUjWRfhPHfZZW7+/PJrF9ERKQmmD9/PkOHDuXhhx9OWN6nTx9uueUWmjVrFmlcIiJVLdktJ8eWUeaAkhMREZEyPP/88wwaNIg5c+bElW299daMHj2aQw89NAWRiYhUvaQmJ+5+VjKXLyIiUpO999579OjRI256RkYGQ4YM4dprr2WDDTZIQWQiIskR1YB4ERERqaSDDjqIww8/vNi0zMxMPvnkE2677TYlJiJS4yg5ERERSVNmxqhRo9hggw2oW7cuV111FRMnTmTvvfdOdWgiIkmh8wyKiIikWGFhIStXrqRRo0ZxZe3atePhhx9mhx12YOedd05BdCIi0dHZukRERFLo66+/pk+fPmRmZjJ69OiE85xwwgkRRyUikho6W5eIiEgKrF69mltuuYVrrrmGVatWMX78eHr27MkhhxyS6tBERFJGZ+sSERGJ2MSJE8nOzmbSpEnFpvft25epU6fSuHHj1AQmIpJikY05MbOjgZ2AhkXT3P3aqOoXERFJteXLl3Pttddyyy23UFBQEFeemZnJ0qVLlZyISK0VSXJiZg8AjYGDgbHACcAXUdQtIiKSDj7++GOys7P59ttv48patmzJyJEj6dmzJ2aWguhERNJDVKcS3tfdTwfmu/s1QGdg+4jqFhERSZnFixczePBg9t9//4SJyamnnkp+fj6nnHKKEhMRqfWi6ta1PLxfZmatgXnA5hHVLSIikhL/+9//6N+/P7/88ktc2RZbbMEDDzzAMccck4LIRETSU1QtJ6+aWTPgFmAi8DPwZER1i4iIRGrRokWcfvrpHHXUUQkTk/79+zN9+nQlJiIiJUTVcnKzu68EnjOzVwkGxa+IqG4REZFINWjQgIkTJ8ZN32abbRg7diwHHXRQ9EGJiFQDUbWcfFr0wN1XuvvC2GkiIiI1SYMGDcjJyVk7hiQjI4MLLriAKVOmKDERESlDsq8Q3wrYAmhkZrsBRSP9mhKcvUtERKRG2nvvvRkyZAjvvPMOOTk57LnnnqkOSUQk7Zm7J2/hZmcAZwJZQF5M0WLgYXdPyyvEZ2VleV5eXvkziohIrfbTTz+Rl5fHiSeemLB8+fLl1KlTh/r160ccmYhUF2Y2wd2zUh1Hukj2FeIfAR4xsx7u/lwy6xIREYlKQUEB99xzD5dddhkFBQXssssubL99/BnyGzVqlILoRESqr6gGxL9qZqcC7WPr1BXiRUSkusnPz6dPnz58+uk/Qyezs7P54IMPyMiIaiiniEjNFNVW9CWgG7AGWBpzExERqRZWr17N8OHD2W233YolJhBc/f2FF15IUWQiIjVHVC0nW7r7ERHVJSIiUqXy8vLIzs5mypQpcWUbAbc1b86/ly+Pf6GIiFRKVC0nn5jZzhHVJSIiUiWWL1/ORRddxN57750wMekG5APZf/+N9e8PubmRxygiUpNElZz8C5hgZt+Y2RQzm2pm8Vv5dWBmR4TL/d7MLklQ3sDMng7LPzez9lVRr4iI1GwffPABnTp14pZbbqGwsLBY2SYZGTwNvAC0Lpq4bBkMGxYkKO3bQ0ZGcK+ERUSkwpJ6KuG1lZi1SzTd3Weu53LrAN8ChwGzgS+BU9w9P2aegUAndx9gZj2B49395LKWq1MJi4jUXosWLeLiiy/mgQceSFh+2mmnccdjj9GitAXUrw+rViUui+A/V0SqF51KuLhIWk7CJKQNcEj4eFkV1b0X8L27/+juq4CnCFrZY3UDHgkfPwscakWX7BUREYnh7hxyyCEJE5M2bdrw+uuv8+ijj9KiXcJjboHSEhMA/f2IiJQpkuTEzK4CLgYuDSfVAx6vgkVvAfwS83x2OC3hPO6+BlgIpR/wEhGR2svMuOiii+KmDxw4kGnTpnHk338HXbVmrlfDv4iIlCKqMSfHA8cRnj7Y3X8DmkRUd4WYWT8zyzOzvLlz56Y6HBERSZETTzyRbt2CRvjtttuODz74gHvvvZemr7wCvXsrMRERSaKoTiW8yt3dzBzAzDaoouX+StBdrMiW4bRE88w2s7oEZ32cV3JB7j4aGA3BmJMqik9ERNJUQUEBderUiZtuZtx333107NiRYcOG/XOV9wEDyu6yJSIi6y2qlpNnzGwU0MzM+gLvAGOqYLlfAtuZ2VZmVh/oCbxcYp6XgTPCxycA4zyKswCIiEhacnfGjh1LZmYm8+bFHasCoHXr1gwfPvyfxKRLF1iyJMIoRURqp6gGxN9KMBj9OWAH4Ep3v7sKlrsGGAy8CcwAnnH36WZ2rZkdF86WA7Qws++BoUDc6YZFRKQGKeNUvj/88ANdunShb9++fPvttwwdOrT8ZdWtC+++WzWx6diYiEiZIjmV8NrKzJoS05XM3f+OrPJK0KmERUSqqdxc6NcvuOZIkcaNKXjgAe6aO5fLL7+c5SWu5P4/4Ig6daCgANq1gxEjoFevoLWkqpISUGIiIgnpVMLFRXW2rv5mNgeYAuQBE8J7EZHqQxfXSw9lfQ7DhhVPTIBpy5axb58+/N///V9cYrIB8CcEiQkEg93/85/glL9VlZgceqgSExGRCopqQPwFQEd3/yui+kREqlbJI/IzZwbPITjKLtEo73OYNWvtrKuAG4ARwOoEA9kPIzgLSvtkxvv44/p+iIhUQlQD4n8guPCiiEj1lOCIPMuWBdMlOuV9Dm3bAvAFsAdwNbC6xCKaAQ8RDFZsn6w4W7RQYiIisg6iajm5FPjEzD4HVhZNdPdzI6pfRGT9xByRr9B0SY5yPodlV17JFf37c+eaNRQmmO3fwL1Aq2TE1qIF3HWXEhIRkfUQVXIyChgHTIWE/xciIumtbdvEF98Lj9RLkuTmBq0is2YF73Xz5pDo9L/uvNeqFX3c+XHNmrjizQiSkh5VGZsZPPaYkhERkSoUVXJSz93LOV+jiEgaGzEi4VmgGDEidTHVdInGl9SvD/XqweqSnbXgsz/+4McEizkDuB1oXpWxNW4Mo0crMRERqWJRjTn5n5n1M7PNzax50S2iukVE1l+vXsHOaLt2wRHzdu20c5psicaXrFoFTZsG738JFwC7xjxvC7wBPEwVJyb67EVEkiaS65yY2U8JJru7b530yteBrnMiIpIGMjISn4LXDAoLE5Z/BewN9AeuB5qUtfwNN4Tly/85jXBZGjaEsWOVkIhIldN1ToqL6grxWyW4pWViIiIiaSLBeB4HXmzZklWrViUs343g9JB3U05iArB4cdBtzKz49IyM4AZQpw6cfXaQxCgxERFJuqi6dWFm+5rZqWZ2etEtqrpFRKQaGjEiGNsR+gU4NiOD4+fO5YYbbogrL9KmIssu6hb2+uvxrTOFhdCmTTB9zRq47751XgUREamcSAbEm9ljwDbAJKCo/dyBR6OoX0REqqGwpaLwsssYM2sWF5qxuDA44eOIq6+mB9CxRQto1CjxGbzKctRRwb1OES0iklaiOltXFpDpUQxwERGRGuO7vfai71Zb8cGsWcVaOFYDg4AP5s2L75ZVEc88E7SI6BTRIiJpJapuXdNI0jWvRESkhsnNZU27dtxiRqcdduCDDz6Im+VfwOiiJ+ty3GvevOBUxYm6hukU0SIiKRNVctISyDezN83s5aJbRHWLiEiUcnOhfftgUHn79sHzSrx2Sp8+dJ41i4uAFSUSjw2Be4APgB3WN85hw3SKaBGRNBPVqYQPTDTd3eMPh6UBnUpYRGQdlbxwIlT4goUrV65kxGabccPChcRf4x2OAB4A4q9wso6KTkksIpJCOpVwcVGdSvgD4GuCMzs2AWaka2IiIiLrIdGFE5ctC6aX4bPPPmP33XfnugSJSXOCs6e8TgUTkw02CE4BDP+cEjiRqh5Xsj4tRiIiAkSUnJjZScAXwInAScDnZnZCFHWLiEiE1uHsV8888wz77rsv+fn5cWUnAvnAaUCxYe9FyUfJwfCNG8OoUcEpgN2DCyw+/njyx5UUtRjNnBnUO3Nm8FwJiohIpUQ15mQYsKe7n+HupwN7AVdEVLeIiESltNaIMlopunbtSquNNio2rRXwPPAMsFnJFzRuDI88EiQBjz1W/niRKMaVrGOLkYiIFBfVmJOp7r5zzPMMYHLstHSiMSciIutoXcac5Oby0hln0L0guAxWb+BWYONE89apEyQm6TZgPSMj8VnDNK5FRMqhMSfFRdVy8kZ4pq4zzexM4DWC7sMiIlIdlTa+opxWioQHxIYNo1tBAUOBt4EcSklMilpM0i0xgXVqMRIRkXhJT07MzICRwCigU3gb7e4XJ7tuERFJgvLGV/TqBT//HHS5AjjtNP5o04aT99mH3JJjMHJz114E8TagS6L6qsMpfnW9FBGRKpGSbl3pTt26RETK0L594quqt2sXJCWwNoHxZct4HBgC/A0033BD8r//ns022yxxF7CylpnucnODMSazZgUtJiNGpG8yJSJpQ926iosqOXkEuMfdv0x6ZVVAyYmISBkqMr6ifXtmzZzJAOB/JWY7ae+9eXrOnMQJTqz69eHBB7WDLyI1mpKT4qIac7I38KmZ/WBmU8xsqplNiahuERGpSuWMrygsLOS+mTPZifjEBODHL79kcXmJSYsWSkxERGqhuhHVc3hE9YiISLKNGJH4jFwjRvDNN9/Qt29fPkrwsobAtWacX1hY9p9PderKJSIiVSqpyYmZNXX3RcDiZNYjIiIRa9Ton+SkRQvW3H47t/7yC1dnZ7Ny5cq42Q8AxjZsyHYrVpS9XA0iFxGp1ZLdcvIEcAwwAXCKX+DXga2TXL+IiFSlBIPYJy1dSvZVVzExQWtHEzNudqdf27ZkXH99MGC8tC5d7dppELmISC2X1OTE3Y8J77dKZj0iIhKRmCuhrwCuA25asYKCBInJUUcdxQMPPECbNm2KF1T2Io0iIlJrRDIg3sxeNrNTzKxx+XOLiEjaKbroYkyrx+/AHUBBiVlbtGjB448/zquvvhqfmJRzkUYREandojpb123A/sAMM3vWzE4ws4YR1S0iIusj9qKLMbYCSo4O6dmzJ/n5+fTq1YvgGrwJFF2ksbAwuFdiIiIioUiSE3f/wN0HEowxGQWcBPwZRd0iIlJJRa0kGRnB/XnnlXqhxHOBvTIyaL3xxrz00ks8+eSTbLrpplFGKyIiNUhULSeYWSOgBzAA2BN4JKq6RURqvZIJR25u6fMVtZK4w8yZzJ83j/xSFlunXTuevu02pv/4I8cdd1ySghcRkdoikuucmNkzwF7AG8A9wAfuXhhF3SIitV7JM2zNnBk8h/guVTED3gGeAwYBGwGTCa5VslZ4PZL2yYpbRERqnahaTnKAbdx9gLu/p8RERCRCJRIOIHg+bFj8vLNmATAHOCG8/QF8C1wTO5+uRyIiIkkQScuJu79pZvuaWfvYOt390SjqFxGp1cKEoyLTvU0bHpk1i6HA/BJltwA9gV10PRIREUmSqE4l/BhwK/AvgvEmewJZUdQtIlJjVXQcSdu2FZr+888/c8RGG3EW8YlJPeDyunXp8PDDOsOWiIgkTSQtJwSJSKa7e0T1iYjUbJUZRzJiROILH4bdsgoLC7n33nu59NJLWbp0aVxVexL0zd15zRq46io444yqXx8RERGiG3MyDWgVUV0iIjVfZcaRlHHhwxkzZrD//vtz7rnnxiUmjQguUvUpsHPRxNK6iImIiFSBqFpOWgL5ZvYFsLJoorvrvJMiIuuiEuNIgCBBiWlRWb16Nbdcfz3XXHMNq1atipv94AYNGLNyJduULCiti5iIiEgViCo5uTqiekREaoe2beOu2L52ejlWrlzJvvvuy8SJE+PKmjZtyq233kqfRo2w/v1L7QomIiKSDEnt1mVmO0JwhXjgs/BK8R+Ez1eW/WoRESnViBFBshCrgslDgwYN2HfffeOmH3vsseTn59O3b1/sP/8ptSuYiIhIslgyx6ib2UR3373k40TP00lWVpbn5eWlOgwRkbLl5gZjTGbNClpMKnF638WLF9OxY0dmzZpFy5Ytufvuuzn55JMxsyQHLSIiscxsgrvrLLahZHfrslIeJ3ouIiKVUWIcSWU0adKEUaNG8dhjj3HXXXfRsmXLKg5ORESk8pJ9ti4v5XGi5yIiUoX+97//ceaZZ1JaC/kRRxxBbm6uEhMREUkbyW452dLMRhK0khQ9Jny+RZLrFhGplebNm8f555/PY489BsD+++9PdnZ2iqMSEREpX7KTkwtjHpccxKFBHSIiVcjd+e9//8vgwYOZO3fu2un/93//x5FHHknr1q1TGJ2IiEj5kpqcuPsjyVy+iIgEfvvtNwYNGsSLL74YV7Z48WLeffddTjvttOgDExERqYSorhAvIiJJ4O7k5OSQmZmZMDHZeeed+eyzz5SYiIhItaDkRESkmvrxxx857LDD6NOnDwsXLixWVq9ePa699lry8vLYc889UxShiIhI5UR1hXgREakiBQUF3H333QwbNoxlsVdwD+29997k5OSw0047pSA6ERGRdZf05MTMDgZ6AG2AAuBbYKy7f5/sukVEaprp06eTnZ3N559/HlfWuHFjRowYwTnnnEOdOnVSEJ2IiMj6SWq3LjO7ATgd+AxYDfwQ3v5rZicms24RkWovNxfat4eMjOA+N5dhw4YlTEwOPfRQpk6dypAhQ5SYiIhItZXsMSfHuPtZ7v440BPY193HAIcAV63Pgs2suZm9bWbfhfcblzJfgZlNCm8vr0+dIiKRGTgQTjsNZs4E9+C+Xz9GHnwwG2644drZNtpoI8aOHcvbb7/N1ltvncKARURE1l+yk5NCM2sePm4N1AFw9/kEF2JcH5cA77r7dsC74fNElrv7ruHtuPWsU0Qk+XJz4YEHgqQk1rJltL3jDm666SYAunXrRn5+PtnZ2ZiVsUlN0AIjIiKSjpI95uR64Csz+xbYATgbwMw2ASav57K7AQeFjx8B3gcuXs9lioik3rBhfOvO9onKZs1iwIABbLvtthx22GFlJyUQJCL9+kHRwPmwBQaAXr2qMmoREZH1Zl7yyFxVVxC0nGwNfO/uC6pwuQvcvVn42ID5Rc9LzLcGmASsAW509xdLWV4/oB9A27Zt95g5c2ZVhSoiUmGLFi3i4o02YhTwNnBoyRnatYOff674Atu3DxKS9V2OiIgkhZlNcPesVMeRLpJ+ti53/xv4u+R0M9vR3b8u67Vm9g7QKkHRsBJ1uJmVlmW1c/dfzWxrYJyZTXX3HxLEORoYDZCVlZXcjE1EJIHXXnuNAQMGMDt83heYCmxQNIMZjBhRuYXOmlW56SIiIimUyuucvAW0LWsGd+9SWpmZ/WFmm7v772a2OfBnKcv4Nbz/0czeB3YjOGOYiEha+OuvvxgyZAi5JcaC/ARcDtwBQWIyYEDlu2K1bZu45aRtmZtfERGRlEhqcmJmI0srApqt5+JfBs4AbgzvX0pQ/8bAMndfaWYtgf2Am9ezXhGRKuHuPP3005xzzjn89ddfceXb1a3L8WvWBF2wilpM2rcPWj3atg2mlZesjBhRfMwJQOPGlW+BERERiUCyz9Z1FjANmFDilgesWs9l3wgcZmbfAV3C55hZlpmNDefpAOSZ2WTgPYIxJ/nrWa+IyHr79ddf6datG6ecckpcYlKnTh0uvvhiJi9axAHu/4wN6dcv7tTC5Z55q1cvGD06SHDMgvvRozUYXkRE0lJSB8Sb2Tjgcnf/JEHZT+6+VdIqXw9ZWVmel5eX6jBEpAZyd8aOHcsFF1zAokWL4sp32WUXcnJy2GOPPYoXaGC7iEiNpAHxxSV7zMkJwIpEBemamIiIJMsPP/xA3759ee+99+LK6tevz1VXXcWFF15IvXr14l+sge0iIlILJLVbl7v/7e7LYO0V3ZuX9xoRkQqpLhcWDOPMNWPn7bZLmJh07tyZSZMmcdlllyVOTKD0Aewa2C4iIjVIUpMTM2trZk+Z2Vzgc+ALM/sznNY+mXWLSA1WdGHByo6/iFpMnNsBK0t0o91ggw0YOXIkH330ER06dCh7WSNGBAPZY2lgu4iI1DDJHhD/NPAC0Mrdt3P3bYHNgReBp5Jct4jUVMOGFT/7FATPhw1LPH+qxMS5F3B+TNFhhx3GtGnTOOecc6hTp075y9LAdhERqQWSPSD+O3ffrrJlqaYB8SJpLiMjaDEpyQwKC6OPpzQl4lwGHAgMAs4oLMTMUhWZiIikCQ2ILy7ZLScTzOw+M9vbzFqHt73N7D7gqyTXLSI1VZqOv1i2bBkXXngh33zzTcJ4GgNfAGe2a6fEREREJIFkJyenA1OBa4A3w9vVBNc+OS3JdYtITZWG4y/GjRvHzjvvzK233kqfPn0oLCxMGKdpnIiIiEipkn22rlXufr+7H+HuO4e3I939Pndfmcy6RaQGS6PxFwsWLKBv374ceuih/PjjjwB8/PHH3H///WkVp4iISHWQ1DEnAGZ2OLAl8I67z4yZ3tvdH0xq5etIY05E0kRubjCofNasoIvUiBFptWP/8ssvc/bZZ/Pbb7/Fle20005Mnjy5YoPdRUSk1tKYk+KSfSrh64FhwM7AODM7J6Z4cDLrFpFqLo1PF/znn3/Ss2dPunXrFpeYmBmDBw/m008/VWIiIiJSSckec3IscIi7DwH2AI40szvCMo0GFZHSpeHpgt2d3NxcMjMzefrpp+PKd9hhBz766CPuvvtumjRpkoIIRUREqrdkJyd13X0NgLsvIEhWmprZf4H6Sa5bRKqzWbMqNz3JfvnlF4455hj+85//MG/evGJlderU4bLLLmPSpEnst99+KYlPRESkJkh2cvKDmR1Y9MTdC9w9G/gGKOdyyCJSq6XJ6YILCwu5//772WmnnXj99dfjynfbbTfy8vIYMWIEDRs2jDQ2ERGRmibZycmJBKf1L8bdLwfaJLluEanO0uR0wePGjWPgwIEsXry42PQGDRpwww038Pnnn7PrrrtGGpOIiEhNlexTCS939+WllP2azLpFpJpLk9PwHnrooRx//PHFpv3rX/9i8uTJXHLJJdSrVy/SeERERGqypJ9KuDrSqYRFJNbvv/9Ohw4dKCgo4KabbmLAgAFkZCS74VlERGoDnUq4uLqpDkBEJB2sXLmSlStX0rRp07iyzTffnGeeeYYddtiBdu3apSA6ERGR2iHZ1zlpXtYtmXWLiFTUp59+ym677cagQYNKnadr165KTERERJIs2f0SJgB54f1c4Fvgu/DxhCTXLSJSpqVLlzJkyBD2228/ZsyYweOPP57wjFwiIiISjWQPiN/K3bcG3gGOdfeW7t4COAZ4K5l1i4iU5Z133qFjx47cddddxI69GzBgAIsWLUphZCIiIrVXVCM693H3tYcj3f1/wL4R1S0istaCBQvIzs7msMMO4+eff44rP+yww9CJQkRERFIjqgHxv5nZ5cDj4fNewG8R1S0iAsCLL77IwIED+f333+PK2rdvz5gxY+jSpUsKIhMRERGIruXkFGAT4AXg+fDxKRHVLSK13B9//MFJJ53E8ccfH5eYmBlDhgxh6tSpSkxERERSLJKWE3f/GzjPzDZw96VR1Cki4u489thjDBkyhPnz58eVd+jQgZycHDp37pyC6ERERKSkSFpOzGxfM8sHZoTPdzGz+6KoW0Rqp7///pujjjqKM844Iy4xqVu3LldccQVfffWVEhMREZE0EtWYkzuAw4GXAdx9spkdEFHdIlILNWnShD/++CNu+h577MGDDz5Ip06dUhCViIiIlCWqMSe4+y8lJhVEVbeI1D716tUjJyeHOnXqANCwYUNuvvlmPvvsMyUmIiIiaSqqlpNfzGxfwM2sHnAeYRcvEZFk2W233bj44osZP348Y8aMYbvttkt1SCIiIlKGqJKTAcBdwBbArwQXYBwYUd0iUoNNmjSJCRMmkJ2dnbD86quvpk6dOmRkRNZQLCIiIusoquRkB3fvFTvBzPYDxkdUv4jUMCtWrOC6667jpptuIiMjg7322oudd945br569eqlIDoRERFZF1EdSry7gtNERMo1fvx4dt11V66//noKCgpYvXo12dnZFBRoKJuIiEh1ltSWEzPrDOwLbGJmQ2OKmgJ1klm3iNQ8S5Ys4bLLLuOee+7B3YuVffnll7z++usce+yxKYpORERE1leyu3XVBzYM62kSM30RcEKS6xaRGuStt96iX79+zJw5M66sdevW3H///UpMREREqrmkJifu/gHwgZk97O7xexQiIuX4+++/+b//+z8efvjhhOV9+/bl5ptvplmzZpHGJSIiIlUvqjEnY82sWdETM9vYzN6MqG4Rqaaee+45MjMzEyYmW2+9Ne+++y6jR49WYiIiIlJDRJWctHT3BUVP3H0+sGlEdYtINfP777/To0cPTjjhhLirvGdkZDB06FCmTp3KIYcckqIIRUREJBmiOpVwoZm1dfdZAGbWDvByXiMitZC707VrV6ZNmxZXttNOO5GTk8Pee++dgshEREQk2aJqORkGfGxmj5nZ48CHwKUR1S0i1YiZMWLEiGLT6tWrx9VXX83EiROVmIiIiNRgkSQn7v4GsDvwNPAUsIe7a8yJiCR03HHH0bNnTwD22msvJk6cyFVXXUX9+vVTHJmIiIgkU7Kvc7Kju39tZruHk34L79uG3bwmJrN+EUlvy5cvp1GjRgnLRo4cyT777MPgwYOpU0eXRRIREakNrOSFzKp04WZj3L2vmb2XoNjdPS1Hs2ZlZXleXl6qwxCpsVavXs3NN9/Mvffey1dffcVmm22W6pBERERSwswmuHtWquNIF8m+zknf8P7gZNYjItXHxIkT6d27N5MnTwbgnHPO4ZlnnklxVCIiIpIOkjrmxMz+XdYtmXWLrJPcXGjfHjIygvvc3FRHVGMsX76cSy65hL322mttYgLw3//+lxdeeCGFkYmIiEi6SPaphI8N7zcF9gXGhc8PBj4Bnk9y/SIVl5sL/frBsmXB85kzg+cAvXqlLq4a4KOPPqJPnz58++23cWUtW7bEzFIQlYiIiKSbpLacuPtZ7n4WUA/IdPce7t4D2CmcJpI+hg37JzEpsmxZMF3WyaJFixg0aBAHHHBAwsTk1FNPZcaMGXTv3j364ERERCTtRHURxjbu/nvM8z+AthHVLVIxs2ZVbrqU6X//+x/9+/fnl19+iSvbYosteOCBBzjmmGNSEJmIiIikq6guwviumb1pZmea2ZnAa8A7EdUtUjFtS8mXS5suCc2bN4/TTz+do446KmFiMmDAAPLz85WYiIiISJyoLsI4GHgA2CW8jXb3c6KoW6TCRoyAxo2LT2vcOJguFfL888/ToUMHHnvssbiybbfdlvfff5/777+fpk2bpiA6ERERSXdRtZwATARec/fzgTfNrEmEdYuUr1cvGD0a2rUDs+B+9GgNhq+EmTNnMnfu3GLTMjIyuPDCC5k8eTIHHnhgiiITERGR6iCpF2FcW4lZX6Af0NzdtzGz7YAH3P3QpFe+DnQRRpF1U1BQwH777cfnn38OwM4778yDDz5IVpauLSUiIpKILsJYXFQtJ4OA/YBFAO7+HcHphUWkBqlTpw45OTk0adKE6667jry8PCUmIiIiUmFRna1rpbuvKrqWgZnVBZLfZCMiVa6goIAHH3yQ//znPzRq1CiufKeddmLWrFk0a9Ys+uBERESkWouq5eQDM7sMaGRmhwH/BV5ZnwWa2YlmNt3MCs2s1EOzZnaEmX1jZt+b2SXrU6dIbTd9+nT2228/+vXrx7XXXlvqfEpMREREZF1ElZxcDMwFpgL9gdeBy9dzmdOAfwMfljaDmdUB7gWOBDKBU8wscz3rFal1Vq1axXXXXcduu+22djzJLbfcwsSJE1McmYiIiNQkSe/WFSYI0919R2BMVS3X3WeEyy9rtr2A7939x3Dep4BuQH5VxSFS03355ZdkZ2czderUYtMLCgoYOnQo77//fmoCExERkRon6S0n7l4AfGNmqbiS3RZA7FXgZofT4phZPzPLM7O8kqdCFamNli1bxoUXXsg+++wTl5gAdO/enSeeeCIFkYmIiEhNFVW3ro2B6Wb2rpm9XHQr70Vm9o6ZTUtw61bVAbr7aHfPcvesTTbZpKoXL7VNbi60bw8ZGcF9bm6qI6qU999/n1122YVbb72VwsLCYmWbbropzzzzDM8//zytW7dOUYQiIiJSE0V1tq4r1uVF7t5lPev9FWgT83zLcJpI8uTmQr9+sGxZ8HzmzOA5pP0FHRcuXMjFF1/MqFGjEpaffvrp3H777bRo0SLiyERERKQ2SGpyYmYNgQHAtgSD4XPcfU0y6yzhS2A7M9uKICnpCZwaYf1SGw0b9k9iUmTZsmB6Gicnr732Gv379+fXX+Pz9zZt2jBq1CiOPPLIFEQmIiIitUWyu3U9AmQRJCZHArdV1YLN7Hgzmw10Bl4zszfD6a3N7HWAMBEaDLwJzACecffpVRWDSEKzZlVuehp49NFHOeaYYxImJoMGDWL69OlKTERERCTpzD1510I0s6nuvnP4uC7whbvvnrQKq0hWVpbn5eWlOgyprtq3D7pyldSuHfz8c9TRVMiSJUvWXjyxyPbbb8/YsWPZf//9UxiZiIhIzWZmE9y91Gv21TbJbjlZXfQg4u5cIqkzYgQ0blx8WuPGwfQ0teGGGzJmTHCm7zp16nDJJZcwefJkJSYiIiISqWQPiN/FzBaFj43gCvGLwsfu7k2TXL9I9IrGlQwbFnTlats2SEzSYLxJUUtpousDde3aleHDh3PkkUey++5p38ApIiIiNVBSu3VVV+rWJTXR999/T9++fTn11FPp27dvqsMRERER1K2rpKiucyIiKVJQUMBtt91Gp06deP/997nggguYPXt2qsMSERERiaPkRKQGmzZtGp07d+aCCy5g+fLlACxatIizzz4btZqKiIhIulFyIlIDrVy5kquvvprdd9+dL7/8MmH5spLXYhERERFJMSUnUr7c3OD0uBkZwX1ubqojkjJ8/vnn7LHHHlxzzTWsXr26WFmzZs146KGHePPNN9lggw1SFKGIiIhIYkpOpGy5udCvX3DdDvfgvl8/JShpaOnSpQwdOpTOnTszfXr8tUZ79OjBjBkzOPPMMxOerUtEREQk1ZScSNmGDYOS3X+WLQumS9oYN24cnTp14o477ogbS7LZZpvx7LPP8uyzz9KqVasURSgiIiJSPiUnUraYK4ZXaLpEauHChfTt25dDDz2UH3/8Ma78zDPPJD8/nx49eqQgOhEREZHKUXIiZWvbtnLTJVKLFi3iqaeeipverl073nzzTR566CGaN2+egshEREREKk/JiZRtxAho3Lj4tMaNg+mScm3atOHmm29e+9zMOPfcc5k2bRpdu3ZNYWQiIiIilafkRMrWqxeMHg3t2oFZcD96dDBd0kL//v054IAD2HHHHfn444+566672HDDDVMdloiIiEilmS7EFi8rK8vz8vJSHYbIWr/88gt//PEHWVlZCcvnzJlDs2bNaNiwYcSRiYiIyPowswnunvgPvhZSy4lIGissLOT+++9np5124qSTTmLp0qUJ52vVqpUSExEREan2lJyIpKnvvvuOgw8+mIEDB7J48WJ++uknLr/88lSHJSIiIpI0Sk5E0syaNWu4+eab6dSpEx9++GGxsrvuuotJkyalJjARERGRJKub6gBE5B+TJ0+md+/eTJw4Ma5sww035KabbqJTp04piExEREQk+dRyIpIGVq5cyRVXXEFWVlbCxOSII45g+vTpDBw4kIwM/WxFRESkZtJeTjrIzYX27SEjI7jPzU11RNGpzese+vTTT9ltt90YPnw4a9asKVbWvHlzHn30UV5//XXa6sKXIiIiUsOpW1eq5eZCv36wbFnwfObM4DnU/GuJ1OZ1B5YsWcLll1/OyJEjSXRK75NOOomRI0ey2WabpSA6ERERkejpOicJRHqdk/btg53yktq1g59/jiaGVKnF6758+XI6derE999/H1e2+eabc99999G9e/foAxMREZFI6TonxalbV6rNmlW56TVJLV73Ro0aJUw+srOzyc/PV2IiIiIitZKSk1QrbRxBbRhfUJvXHbjmmmvYdtttAdhqq6145513GDt2LM2aNUttYCIiIiIpouQk1UaMgMaNi09r3DiYXtPV5nUHGjduzNixYxkyZAhTp07l0EMPTXVIIiIiIiml5CTVevWC0aODcRZmwf3o0bViQHhNX3d359FHH+XYY4+loKAg4TwHHnggd9xxBxtssEHE0YmIiIikHw2ITyDSAfFSI82cOZP+/fvz5ptvAjBy5EjOOeecFEclIiIi6UYD4otTy4lIFSosLOTee++lY8eOaxMTgEsvvZSfa/gZyERERETWl5ITkSryzTffcOCBBzJ48GCWLFlSrKygoIAJEyakKDIRERGR6kHJich6Wr16NTfccAO77LILH3/8cVz5AQccwJQpU+jRo0cKohMRERGpPnSFeJH18NVXX5Gdnc1XX30VV9akSRNuvvlm+vXrR0aGjgOIiIiIlEd7TCLrYMWKFVx22WXsueeeCROTo446iunTpzNgwAAlJiIiIiIVpJYTkUoaP3482dnZfPPNN3FlLVq0YOTIkZxyyimYWQqiExEREam+lJyIVNLtt9+eMDHp2bMnI0eOZJNNNklBVCIiIiLVn/qbiFTSPffcQ7NmzdY+b926NS+99BJPPvmkEhMRERGR9aDkRKSSNt98c26//XYA+vbtS35+Pscdd1yKoxIRERGp/tStS6QUn3/+OXvvvXfCsjPPPJOdd96ZrCxd0FVERESkqqjlRKSE33//nR49erDPPvvw2muvJZzHzJSYiIiIiFQxJSciIXfnoYceIjMzk+effx6AAQMGsGjRohRHJiIiIlI7KDkRAX766Se6du1K7969WbBgwdrps2fP5tJLL01dYCIiIiK1iJITqdUKCgoYOXIkHTt25J133okr32uvvTj77LNTEJmIiIhI7aMB8VJrzZgxg+zsbD799NO4skaNGjF8+HDOO+886tSpk4LoRERERGofJSdS66xevZqbb76Za6+9llWrVsWVH3zwwYwZM4ZtttkmBdGJiIiI1F5KTqRWmTBhAr1792bKlClxZU2bNuW2224jOzsbM0tBdCIiIiK1m5ITqTUeeOABBg8eTEFBQVzZsccey/33388WW2yRgshEREREBDQgXmqRzp07x7WIbLLJJjz11FO89NJLSkxEREREUkzJidQau+yyC5dccsna57169SI/P5+TTz5Z3bhERERE0oC6dUmtcvnll/PFF19w7rnncvTRR6c6HBERERGJoZYTqVH++usvzjzzzIQD3gEaNGjAm2++qcREREREJA2p5URqBHfnv//9L4MHD2bu3LlMmzaNzz77jLp19RUXERERqS7UciLV3m+//cbxxx/PySefzNy5c4HglMF33HFHiiMTERERkcqotsmJmZ1oZtPNrNDMssqY72czm2pmk8wsL8oYJbncnbFjx5KZmclLL70UV/7cc89RWFiYgshEREREZF1U2+QEmAb8G/iwAvMe7O67unupSYxULz/++CNdunShb9++LFy4sFhZ/fr1ue666/jwww/JyKjOX3ERERGR2qXadsh39xmATgFbyxQUFDBy5EiGDRvG8uXL48r32WcfcnJyyMzMTEF0IiIiIrI+asNhZQfeMrMJZtYv1cHIups+fTr77bcfQ4cOjUtMGjduzJ133snHH3+sxERERESkmkrrlhMzewdolaBomLvHDzJI7F/u/quZbQq8bWZfu3tcV7AwcekH0LZt23WOWareqlWruPHGGxk+fDirV6+OK+/SpQujR49mq622SkF0IiIiIlJV0jo5cfcuVbCMX8P7P83sBWAvEoxTcffRwGiArKwsX996pep88MEHXHXVVXHTN9poI26//XbOOussde8TERERqQFqdLcuM9vAzJoUPQa6Egykl2rksMMO45RTTik2rXv37uTn59O7d28lJiIiIiI1RLVNTszseDObDXQGXjOzN8Pprc3s9XC2zYCPzWwy8AXwmru/kZqIZX3cddddtGjRgk033ZRnnnmG559/ntatW6c6LBERERGpQuauHkwlZWVleV6eLokStYULF7J69WpatmyZsHz8+PHsuOOOtGjRIuLIRERERJLDzCbochf/qLYtJ1KzvPLKK+y0004MGDCg1Hn2228/JSYiIiIiNZiSE0mpuXPncuqpp3Lcccfx66+/8txzz/Hcc8+lOiwRERERSQElJ5IS7s4TTzxBhw4dePLJJ4uVDRo0iPnz56coMhERERFJlbQ+lbDUTLNnz+bss8/m1VdfjSurU6cOZ511Fg0bNkxBZCIiIiKSSkpOJDKFhYWMGTOGCy+8kMWLF8eV77rrruTk5LD77runIDoRERERSTV165JIfP/99xx66KEMGDAgLjFp0KAB119/PV988YUSExEREZFaTC0nklRr1qzhzjvv5IorrmDFihVx5fvuuy85OTnsuOOOKYhORERERNKJkhNJmj///JNjjjmGL7/8Mq5sgw024MYbb2TgwIFkZKgBT0RERESUnEgStWjRgrp1479iXbt2ZdSoUbRv3z76oEREREQkbemQtSRNnTp1yMnJoX79+gBsvPHGPPzww7zxxhtKTEREREQkjlpOJKk6dOjAlVdeyVdffcU999xDq1atUh2SiIiIiKQpJSey3saNG8ekSZMYOnRowvJLL71U40pEREREpFxKTmSdLViwgAsvvJCxY8eSkZHBAQccQFZWVtx8SkxEREREpCK01yjr5KWXXiIzM5OxY8cCwQUWs7OzWb16dYojExEREZHqSsmJVMqff/5Jz5496d69O7///nuxsqlTpzJu3LgURSYiIiIi1Z2SE6kQd+fxxx+nQ4cOPP3003HlO+64Ix9//DGHH354CqITERERkZpAyYmUa9asWRx99NGcdtpp/P3338XK6taty7Bhw/jqq6/Yd999UxShiIiIiNQEGhAvpSosLGTUqFFcdNFFLFmyJK589913Jycnh1133TX64ERERESkxlHLiST07bffctBBBzFw4MC4xKRBgwbceOONfP7550pMRERERKTKqOVE4hQWFtK9e3dmzJgRV7b//vszduxYtt9++xREJiIiIiI1mVpOJE5GRgZ33nlnsWkbbrgh9957L++//74SExERERFJCiUnklDXrl0566yzADjiiCOYPn06AwcO1AUVRURERCRp1K2rlps3bx4tWrRIWHbbbbfRpUsXTjnlFMws4shEREREpLbRYfBaasmSJZx77rlss802zJ49O+E8G2+8MaeeeqoSExERERGJhJKTWuitt96iY8eO3H333SxcuJABAwbg7qkOS0RERERqOSUntcj8+fM566yzOPzww5k5c+ba6a+99hpPPvlkCiMTEREREdGYk1rj+eefZ9CgQcyZMyeubKuttmLzzTdPQVQiIiIiIv9Qy0kNN2fOHE444QR69OgRl5iYGeeffz5Tp07l4IMPTlGEIiIiIiIBtZzUUO7Oo48+yvnnn8/8+fPjyjMzM8nJyWGfffZJQXQiIiIiIvHUclIDzZw5kyOPPJIzzzwzLjGpW7cuV155JRMnTlRiIiIiIiJpRS0nNUxOTg7nnXceS5cujSvLysoiJyeHTp06pSAyEREREZGyqeWkhlmzZk1cYtKwYUNuueUWPv30UyUmIiIiIpK2lJzUMH379uXAAw9c+/zAAw9k6tSpXHDBBdStq4YyEREREUlfSk5qmIyMDMaMGcNmm23GqFGjGDduHNtuu22qwxIRERERKZeSk2poxYoV3HDDDSxZsiRh+XbbbcfPP/9Mv379yMjQRywiIiIi1YP6+VQzH3/8MdnZ2Xz77bfMmTOHu+66K+F8DRs2jDgyEREREZH1o8Pq1cTixYsZPHgw+++/P99++y0Ad999N5988kmKIxMRERERqRpKTqqBN954g44dO3LvvfcWm+7uXHXVVSmKSkRERESkaik5SWPz5s3jjDPO4Mgjj2TWrFlx5f379+fZZ59NQWQiIiIiIlVPY07SkLvz3HPPMWjQIP7888+48m222YYxY8Zw8MEHpyA6EREREZHkUMtJmvn999/p0aMHJ554YlxikpGRwQUXXMCUKVOUmIiIiIhIjaOWkzTh7jz88MMMHTqUBQsWxJV37NiRnJwc9tprr+iDExERERGJgFpO0sSYMWPo3bt3XGJSr149rrnmGiZMmKDERERERERqNCUnaeK0006Lu5L7XnvtxcSJE7nyyiupX79+iiITEREREYmGkpM00ahRI8aOHbv28e23384nn3xCx44dUxyZiIiIiEg0NOYkjRx44IHcfffdHHnkkWyzzTapDkdEREREJFJKTtLM4MGDUx2CiIiIiEhKqFuXiIiIiIikBSUnIiIiIiKSFpSciIiIiIhIWlByIiIiIiIiaUHJiYiIiIiIpIVqm5yY2S1m9rWZTTGzF8ysWSnzHWFm35jZ92Z2ScRhioiIiIhIBVXb5AR4G+jo7p2Ab4FLS85gZnWAe4EjgUzgFDPLjDRKERERERGpkGqbnLj7W+6+Jnz6GbBlgtn2Ar539x/dfRXwFNAtqhhFRERERKTiqm1yUkJv4H8Jpm8B/BLzfHY4TURERERE0kxaXyHezN4BWiUoGubuL4XzDAPWALnrWVc/oB9A27Zt12dRIiIiIiKyDtI6OXH3LmWVm9mZwDHAoe7uCWb5FWgT83zLcFqiukYDowGysrISLUtERERERJKo2nbrMrMjgIuA49x9WSmzfQlsZ2ZbmVl9oCfwclQxioiIiIhIxVXb5AS4B2gCvG1mk8zsAQAza21mrwOEA+YHA28CM4Bn3H16qgIWEREREZHSpXW3rrK4+7alTP8NOCrm+evA61HFJSIiIiIi66Y6t5yIiIiIiEgNouRERERERETSgpITERERERFJC5b4DLy1m5nNBWYmuZqWwF9JrkPSkz772kmfe+2lz7720mdfO1X2c2/n7pskK5jqRslJiphZnrtnpToOiZ4++9pJn3vtpc++9tJnXzvpc18/6tYlIiIiIiJpQcmJiIiIiIikBSUnqTM61QFIyuizr530udde+uxrL332tZM+9/WgMSciIiIiIpIW1HIiIiIiIiJpQclJRMzsRDObbmaFZlbqGRzM7Gczm2pmk8wsL8oYJTkq8dkfYWbfmNn3ZnZJlDFK1TOz5mb2tpl9F95vXMp8BeHvfZKZvRx1nFJ1yvsNm1kDM3s6LP/czNqnIEypYhX43M80s7kxv/M+qYhTqp6ZPWhmf5rZtFLKzcxGht+NKWa2e9QxVkdKTqIzDfg38GEF5j3Y3XfVaehqjHI/ezOrA9wLHAlkAqeYWWY04UmSXAK86+7bAe+GzxNZHv7ed3X346ILT6pSBX/D2cB8d98WuAO4KdoopapVYtv9dMzvfGykQUoyPQwcUUb5kcB24a0fcH8EMVV7Sk4i4u4z3P2bVMch0avgZ78X8L27/+juq4CngG7Jj06SqBvwSPj4EaB76kKRCFTkNxz7nXgWONTMLMIYpepp212LufuHwN9lzNINeNQDnwHNzGzzaKKrvpScpB8H3jKzCWbWL9XBSGS2AH6JeT47nCbV12bu/nv4eA6wWSnzNTSzPDP7zMy6RxOaJEFFfsNr53H3NcBCoEUk0UmyVHTb3SPs1vOsmbWJJjRJA/pvXwd1Ux1ATWJm7wCtEhQNc/eXKriYf7n7r2a2KfC2mX0dZuaSxqros5dqpqzPPfaJu7uZlXZqxHbhb35rYJyZTXX3H6o6VhFJmVeAJ919pZn1J2g9OyTFMYmkLSUnVcjdu1TBMn4N7/80sxcImoyVnKS5KvjsfwVij6ZtGU6TNFbW525mf5jZ5u7+e9iM/2cpyyj6zf9oZu8DuwFKTqqfivyGi+aZbWZ1gY2AedGEJ0lS7ufu7rGf8Vjg5gjikvSg//Z1oG5dacTMNjCzJkWPga4Eg6ml5vsS2M7MtjKz+kBPQGduqt5eBs4IH58BxLWgmdnGZtYgfNwS2A/IjyxCqUoV+Q3HfidOAMa5LjZW3ZX7uZcYY3AcMCPC+CS1XgZOD8/atQ+wMKa7r5RCyUlEzOx4M5sNdAZeM7M3w+mtzez1cLbNgI/NbDLwBfCau7+RmoilqlTksw/7nw8G3iT443rG3aenKmapEjcCh5nZd0CX8DlmlmVmRWfr6QDkhb/594Ab3V3JSTVU2m/YzK41s6KzsOUALczse2AopZ/BTaqJCn7u54ank58MnAucmZpopaqZ2ZPAp8AOZjbbzLLNbICZDQhneR34EfgeGAMMTFGo1YquEC8iIiIiImlBLSciIiIiIpIWlJyIiIiIiEhaUHIiIiIiIiJpQcmJiIiIiIikBSUnIiIiIiKSFpSciEiNYmZbmtlLZvadmf1gZneF1x/AzM40s3tSHWNJZrYkwbQ2ZvaemeWHpyE9L6asuZm9Ha7j22a2cTh9RzP71MxWmtkFJZZ3nplNC5c1pJQ4rjazX81sUsyt2Tqu0yfr8roomdkQM2tcgfneN7Osik4vMU93M8tcx/iyzGxk+PggM9t3XZYjIlKdKDkRkRrDzAx4HnjR3bcDtgc2BEYksc66SVr0GuD/3D0T2AcYFLOTewnwbriO7/LP9TL+JriOwq0lYuwI9AX2AnYBjjGzbUup9w533zXmtmBdgnf3uB3pJL5X62oIUG5ysp66A+uUnLh7nrufGz49CFByIiI1npITEalJDgFWuPtDAO5eAJwP9I45Qt4mPOL9nZldBWBmG5jZa2Y2OWxdODmcvoeZfWBmE8zszaIrPYevv9PM8oBhZjbTzDJilvWLmdUzs23M7I3w9R+Z2Y7hPFuFLRxTzWx4ohVx99/dfWL4eDHBBd62CIu7AY+Ejx8h2AHG3f909y+B1SUW1wH43N2XhReN+wD4d0Xf1LDF6flwXb4zs5vD6QPM7JYS890TPl4S3h8UrvvLQL6ZNTSzh8J1/8rMDi6rjqJlmdktYavPO2a2V/gZ/Fh0oTszqxPO86WZTTGz/jH1v29mz5rZ12aWa4FzgdbAe2b2Xjjv/WaWF9ZzTUXfn5gYR4Tfoc/MbLOwpeM44JawFWqbMr4TJ4bfvclm9mFM7K+aWXtgAHB+uJz9zewnM6sXztc09rmISHWm5EREapKdgAmxE9x9ETALKGop2AvoAXQCTrSgW84RwG/uvou7dwTeCHf07gZOcPc9gAcp3gJT392z3P0aYBJwYDj9GOBNd18NjAbOCV9/AXBfOM9dwP3uvjPwe3krFe6c7gZ8Hk7azN2LXjcH2KycRUwD9jezFmGSdhTQppR5i3aAJxXttId2BU4GdgZONrM2wHPA8THznAw8lWCZuwPnufv2wCDAw3U/BXjEzBqWUQfABsA4d98JWAwMBw4L6742nCcbWOjuewJ7An3NbKuwbDeCVpJMYGtgP3cfCfwGHOzuB4fzDXP3LILvxoFm1qmU9yiRDYDP3H0X4EOgr7t/ArwMXBi2Qv1A6d+JK4HDw9cfF7tgd/8ZeIB/WrU+At4Hjg5n6Qk8H37nRESqtXRrYhcRSba33X0egJk9D/wLeB24zcxuAl51948s6ArVEXjbzADqUDyReLrE45OB9wh2FO8zsw0JuuH8N3w9QIPwfj+CBAngMeCm0oINl/McMCRMtIpxdzczL2uF3X1GuG5vAUsJkqmCUma/w91vTTD9XXdfGMaUD7Rz94/D1ot9gO+AHYHxCV77hbv/FD7+F0HSh7t/bWYzCbrfJawD+AVYBbwRzjMVWOnuq81sKtA+nN4V6GRmJ4TPNwK2C1/7hbvPDpc7KXzNxwniPMnM+hH8N25OkMxMSfguxVsFvBo+nkCQPBVTzndiPPCwmT1D0DWxPGOBi4AXgbMIuu2JiFR7Sk5EpCbJB06InWBmTYG2wPcER/BL7si7u39rZrsTtCgMN7N3gReA6e7euZS6lsY8fhm43syaA3sA4wiOpC9w911LeX2ZCUUYez2CxCTX3WN3WP8ws83d/XcLupr9Wd6y3D0HyAmXez0wu7zXlLAy5nEB//x/PAWcBHwNvODuidZraYJplaljdcxyC4vmc/dC+2ccixG0SLwZu0AzO6iM5cbOtxVBS8ae7j7fzB4GGpacrwyxMSasg6C3QsLvhLsPMLO9CVpDJpjZHmVV5u7jzax9uH513H1aJWIVEUlb6tYlIjXJu0BjMzsdgnEIwG3Aw+6+LJznMAvOdtWIYKzGeDNrDSxz98eBWwiSmG+ATcysc7isema2U6JK3X0J8CVBd61X3b0gbOX4ycxODF9vZrZL+JLxBC0sAL0SLdOCQ+s5wAx3v71E8cvAGeHjM4CXyntjzGzT8L4twXiTJ8p7TQW9QDAG5hQSd+kq6SPCdTaz7QkSx2+qII43gbNjxmFsb2YblPOaxUCT8HFTgiRqoZltBhxZBTEVq6Os74SZbePun7v7lcBc4rvdxcZa5FGCz/GhKopVRCTllJyISI0RHrk+nmAsyXfAt8AK4LKY2b4gaI2YAjzn7nkEYxy+CLv8XAUMd/dVBK0wN5nZZIKuUGWdLelp4D8U7+7VC8gOXz+dYCce4DyCs29N5Z9B7iXtB5wGHBIzBuSosOxGgiTrO6BL+Bwza2Vms4GhwOVmNjtsOQJ4Luwq9QowqIyzcMWOOZkUjncplbvPJxis387dvyhr3tB9QEa47k8DZ7r7ynJeUxFjCVrOJprZNGAU5fcOGE0wvug9d58MfEXQAvQEibunrYungAstGPy/DaV/J26x4CQB04BPgMkllvMKcHzRgPhwWi6wMfBkFcUqIpJylrgFXkRERNJZOL6mm7uflupYRESqisaciIiIVDNmdjdB17OjyptXRKQ6UcuJiIiIiIikBY05ERERERGRtKDkRERERERE0oKSExERERERSQtKTkREREREJC0oORERERERkbSg5ERERERERNLC/wOqptkIX/S3gAAAAABJRU5ErkJggg==\n",
            "text/plain": [
              "<Figure size 864x576 with 1 Axes>"
            ]
          },
          "metadata": {
            "tags": [],
            "needs_background": "light"
          }
        }
      ]
    },
    {
      "cell_type": "markdown",
      "metadata": {
        "id": "respected-removal"
      },
      "source": [
        "Now, we are going to create a third function that will create a predictive model using past years environmental intensity, industry average, industry indicator and environmental growth. "
      ],
      "id": "respected-removal"
    },
    {
      "cell_type": "code",
      "metadata": {
        "id": "alternative-reading"
      },
      "source": [
        "def predictiveModel3(outcomeYear, pastYears, df_c):\n",
        "    years.sort()\n",
        "    for year in years:\n",
        "        data = df_c[df_c['Year'] == year]\n",
        "        data = data.loc[:,['CompanyName','Env_intensity','industry_avg_year','Industry_indicator_year','Environmental_Growth']]\n",
        "        data.rename(columns={'Env_intensity': f'Env_intensity_{year}','industry_avg_year':f'industry_avg_year_{year}', 'Industry_indicator_year' : f'Industry_indicator_year_{year}', 'Environmental_Growth': f'Environmental_Growth_{year}'}, inplace=True) \n",
        "        if(year == min(years)):\n",
        "            data1 = pd.DataFrame(data)\n",
        "        else:\n",
        "            data2 = pd.merge(data1, data, on=[\"CompanyName\"])\n",
        "            data1 = data2.copy()\n",
        "    data2.dropna(inplace=True)\n",
        "    data3 = df_c[df_c['Year'] == outcomeYear]\n",
        "    data3 = data3[['CompanyName','Env_intensity']]\n",
        "    data3.rename(columns={'Env_intensity': f'Env_intensity_{outcomeYear}'}, inplace=True) \n",
        "    data3 = pd.merge(data3, data2, on=[\"CompanyName\"])\n",
        "    \n",
        "    filter_col = [col for col in data3 if ((col.startswith('Env_intensity') and not(col.endswith(f'{outcomeYear}')))) or ((col.startswith('industry_avg_year') and not(col.endswith(f'{outcomeYear}')))) or ((col.startswith('Industry_indicator_year_') and not(col.endswith(f'{outcomeYear}')))) or ((col.startswith('Environmental_Growth_') and not(col.endswith(f'{outcomeYear}'))))]            \n",
        "    outcome_col = [col for col in data3 if (col.startswith('Env_intensity') and col.endswith(f'{outcomeYear}'))]\n",
        "    X=data3[filter_col]\n",
        "    y=data3[outcome_col]\n",
        "    \n",
        "    regr = linear_model.LinearRegression()\n",
        "    X_train, X_test, y_train, y_test = train_test_split(X,y,test_size=0.2,random_state=42)\n",
        "    regr.fit(X_train, y_train)\n",
        "    y_train_pred = regr.predict(X_train)\n",
        "    y_pred = regr.predict(X_test)\n",
        "\n",
        "    print('MSE train: %.3f, test: %.3f' % (metrics.mean_squared_error(y_train, y_train_pred),\n",
        "                    metrics.mean_squared_error(y_test, y_pred)))\n",
        "    \n",
        "    # display the parameters\n",
        "    print('Model intercept: ', regr.intercept_)\n",
        "    print('Model coefficients: ', regr.coef_)\n",
        "    \n",
        "    print('R2 score:', metrics.r2_score(y_test, y_pred))\n",
        "    \n",
        "    fig, ax = plt.subplots(figsize=(12,8))\n",
        "    ax.scatter(y_test, y_pred, c='blue')\n",
        "    ax.plot([y_test.min(), y_test.max()], [y.min(), y.max()], 'k--', lw=4)\n",
        "    ax.set_xlabel(f'Observed {outcomeYear} Environmental Intesity')\n",
        "    ax.set_ylabel(f'Predicted {outcomeYear} Environmental Intesity')\n",
        "    ax.set_title(f'Predicting {outcomeYear} Environmental intensity using {years} environmental intensity, industry average, industry indicator and environmental growth');\n",
        "    \n",
        "    \n",
        "    "
      ],
      "id": "alternative-reading",
      "execution_count": null,
      "outputs": []
    },
    {
      "cell_type": "code",
      "metadata": {
        "id": "environmental-yellow",
        "outputId": "a32839c7-35bb-4f60-b4c2-cdae0019de70"
      },
      "source": [
        "predictiveModel3(2019, years, df_c)"
      ],
      "id": "environmental-yellow",
      "execution_count": null,
      "outputs": [
        {
          "output_type": "stream",
          "text": [
            "MSE train: 0.007, test: 0.006\n",
            "Model intercept:  [0.00024616]\n",
            "Model coefficients:  [[-1.13250065e-02 -2.51084560e-01 -2.19278683e-03  2.41028007e-04\n",
            "  -3.21422504e-01  7.83780236e-02  9.47445318e-03 -1.89989129e-05\n",
            "   1.20981402e+00  2.61016419e-01 -4.80409092e-03  1.56402945e-04]]\n",
            "R2 score: 0.8958407814492751\n"
          ],
          "name": "stdout"
        },
        {
          "output_type": "display_data",
          "data": {
            "image/png": "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\n",
            "text/plain": [
              "<Figure size 864x576 with 1 Axes>"
            ]
          },
          "metadata": {
            "tags": [],
            "needs_background": "light"
          }
        }
      ]
    },
    {
      "cell_type": "markdown",
      "metadata": {
        "id": "packed-chuck"
      },
      "source": [
        "## Conclusion - Predictive models\n",
        "\n",
        "Awesome results! By combining the predictors from the individual models, we were able to yield a lowers MSE and a higher R2 Score. When using past years environmental intensity and indsutry average, the linear model is able to explain 95% of the variance in the dataset. By including the indsutry indicator, it explains 94% and lastly, by including all four, it explains 90% of the variance. It decreases once we keep adding more features. However, even the lowest R2 Score (90%) was able to explain more than when considering the models with only one predictor. \n",
        "\n",
        "## Collect the Company Description\n",
        "\n",
        "In this section, we will grab the company description directly from the Yahoo Finance website. We started with the pilot stocks but plan to see the possibility of mapping the ISIN with their corresponding ticker and be able to grab the company description"
      ],
      "id": "packed-chuck"
    },
    {
      "cell_type": "code",
      "metadata": {
        "id": "apart-conversion"
      },
      "source": [
        "tickers_df = pd.read_csv('/Users/maralinetorres/Documents/GitHub/Predicting-Environmental-and-Social-Actions/Datasets/52_tickers_sectors.csv')"
      ],
      "id": "apart-conversion",
      "execution_count": null,
      "outputs": []
    },
    {
      "cell_type": "code",
      "metadata": {
        "id": "binding-mauritius"
      },
      "source": [
        "tickers = tickers_df.Ticker"
      ],
      "id": "binding-mauritius",
      "execution_count": null,
      "outputs": []
    },
    {
      "cell_type": "code",
      "metadata": {
        "id": "architectural-olive"
      },
      "source": [
        "# Create a loop to store URLs of all stocks' description page\n",
        "URL = [] \n",
        "DES = [] \n",
        "comp_desc = {}\n",
        "for i in tickers: \n",
        "  url ='https://finance.yahoo.com/quote/'+i+'/profile' \n",
        "  URL.append(url)\n",
        "  page = requests.get(url) # visits the URL \n",
        "  htmldata = BeautifulSoup(page.content, 'html.parser')\n",
        "  Business_Description = htmldata.find('p',{'class':'Mt(15px) Lh(1.6)'}) # finds the business description part in the HTML code\n",
        "  DES.append(Business_Description)\n",
        "  comp_desc[i] = [Business_Description]"
      ],
      "id": "architectural-olive",
      "execution_count": null,
      "outputs": []
    },
    {
      "cell_type": "code",
      "metadata": {
        "id": "alternative-duncan",
        "outputId": "815e3f3e-8eb4-4ca5-a3a3-bae46da5fa19"
      },
      "source": [
        "df_comp_desc = pd.DataFrame.from_dict(comp_desc, orient='index', columns = ['Description'])\n",
        "df_comp_desc.reset_index(inplace = True)\n",
        "df_comp_desc.rename(columns = {'index':'Ticker'}, inplace=True)\n",
        "df_comp_desc.head()"
      ],
      "id": "alternative-duncan",
      "execution_count": null,
      "outputs": [
        {
          "output_type": "execute_result",
          "data": {
            "text/html": [
              "<div>\n",
              "<style scoped>\n",
              "    .dataframe tbody tr th:only-of-type {\n",
              "        vertical-align: middle;\n",
              "    }\n",
              "\n",
              "    .dataframe tbody tr th {\n",
              "        vertical-align: top;\n",
              "    }\n",
              "\n",
              "    .dataframe thead th {\n",
              "        text-align: right;\n",
              "    }\n",
              "</style>\n",
              "<table border=\"1\" class=\"dataframe\">\n",
              "  <thead>\n",
              "    <tr style=\"text-align: right;\">\n",
              "      <th></th>\n",
              "      <th>Ticker</th>\n",
              "      <th>Description</th>\n",
              "    </tr>\n",
              "  </thead>\n",
              "  <tbody>\n",
              "    <tr>\n",
              "      <th>0</th>\n",
              "      <td>AEE</td>\n",
              "      <td>None</td>\n",
              "    </tr>\n",
              "    <tr>\n",
              "      <th>1</th>\n",
              "      <td>AEP</td>\n",
              "      <td>None</td>\n",
              "    </tr>\n",
              "    <tr>\n",
              "      <th>2</th>\n",
              "      <td>AES</td>\n",
              "      <td>None</td>\n",
              "    </tr>\n",
              "    <tr>\n",
              "      <th>3</th>\n",
              "      <td>APA</td>\n",
              "      <td>None</td>\n",
              "    </tr>\n",
              "    <tr>\n",
              "      <th>4</th>\n",
              "      <td>ATO</td>\n",
              "      <td>None</td>\n",
              "    </tr>\n",
              "  </tbody>\n",
              "</table>\n",
              "</div>"
            ],
            "text/plain": [
              "  Ticker Description\n",
              "0    AEE        None\n",
              "1    AEP        None\n",
              "2    AES        None\n",
              "3    APA        None\n",
              "4    ATO        None"
            ]
          },
          "metadata": {
            "tags": []
          },
          "execution_count": 89
        }
      ]
    },
    {
      "cell_type": "code",
      "metadata": {
        "id": "sweet-blocking"
      },
      "source": [
        "df_comp_desc.to_csv('52ticker_companydescription.csv',index=False)"
      ],
      "id": "sweet-blocking",
      "execution_count": null,
      "outputs": []
    },
    {
      "cell_type": "markdown",
      "metadata": {
        "id": "parliamentary-basic"
      },
      "source": [
        "In the next sprint, we plan to do some text analysis to the company descriptions (tokenizations, sentiment, etc) and maybe consider adding the company description to the Sprint #4 models to better predict the GHG Scope 1. "
      ],
      "id": "parliamentary-basic"
    }
   ],
   "source": [
    "df_comp_desc = pd.DataFrame.from_dict(comp_desc, orient='index', columns = ['Description'])\n",
    "df_comp_desc.reset_index(inplace = True)\n",
    "df_comp_desc.rename(columns = {'index':'Ticker'}, inplace=True)\n",
    "df_comp_desc.head()"
   ]
  },
  {
   "cell_type": "code",
   "execution_count": 90,
   "id": "through-lunch",
   "metadata": {},
   "outputs": [],
   "source": [
    "df_comp_desc.to_csv('52ticker_companydescription.csv',index=False)"
   ]
  },
  {
   "cell_type": "markdown",
   "id": "changing-times",
   "metadata": {
    "id": "3DEKQVp4e8MS"
   },
   "source": [
    "In the next sprint, we plan to do some text analysis to the company descriptions (tokenizations, sentiment, etc) and maybe consider adding the company description to the Sprint #4 models to better predict the GHG Scope 1. "
   ]
  }
 ],
 "metadata": {
  "colab": {
   "name": "Sprint6_PredictingTimeSeries1.ipynb",
   "provenance": []
  },
  "kernelspec": {
   "display_name": "Python 3",
   "language": "python",
   "name": "python3"
  },
  "language_info": {
   "codemirror_mode": {
    "name": "ipython",
    "version": 3
   },
   "file_extension": ".py",
   "mimetype": "text/x-python",
   "name": "python",
   "nbconvert_exporter": "python",
   "pygments_lexer": "ipython3",
   "version": "3.8.8"
  }
 },
 "nbformat": 4,
 "nbformat_minor": 5
}
