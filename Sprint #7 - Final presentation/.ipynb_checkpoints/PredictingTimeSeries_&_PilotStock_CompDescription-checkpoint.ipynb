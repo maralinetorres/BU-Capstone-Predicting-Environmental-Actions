{
 "cells": [
  {
   "cell_type": "markdown",
   "id": "preceding-circumstances",
   "metadata": {
    "id": "persistent-following"
   },
   "source": [
    "# Predicting future environmental intensity (Time Series) and Collect Pilot Stocks Companies Descriptions\n",
    "\n",
    "In this notebook, we will predict future environmental intensity for all the companies in the 'Excel data'. We will be using data from previous years to predict the future environmental intesity. \n",
    "\n",
    "First, we will create the following columns:\n",
    "\n",
    "1) Industry Indicator\n",
    "- 1 if above the industry average in current year\n",
    "- 0 if at industry average in current yeat\n",
    "- (-1) if below the industry average in current year\n",
    "2) Environmental Intensity Growth : ((Environmental Intensity in Current Year / Environmental Intensity Last Year) - 1) * 100\n",
    "\n",
    "\n",
    "At the end, we collected, directly from Yahoo Finance website, each company description. For this, we use the pilot stocks which have the Ticker identifier. "
   ]
  },
  {
   "cell_type": "code",
   "execution_count": 1,
   "id": "honest-cathedral",
   "metadata": {
    "id": "wound-assurance"
   },
   "outputs": [],
   "source": [
    "import pandas as pd\n",
    "import numpy as np\n",
    "import seaborn as sns\n",
    "import matplotlib.pyplot as plt\n",
    "import missingno as msno\n",
    "import warnings\n",
    "from sklearn import linear_model\n",
    "from sklearn import metrics\n",
    "from sklearn.linear_model import LinearRegression\n",
    "from sklearn.model_selection import train_test_split\n",
    "import requests\n",
    "from bs4 import BeautifulSoup\n",
    "warnings.filterwarnings('ignore')"
   ]
  },
  {
   "cell_type": "code",
   "execution_count": 2,
   "id": "efficient-worse",
   "metadata": {
    "colab": {
     "base_uri": "https://localhost:8080/",
     "height": 281
    },
    "id": "mental-excellence",
    "outputId": "a7628443-5329-4315-e077-1dcb1d71bcce"
   },
   "outputs": [
    {
     "name": "stdout",
     "output_type": "stream",
     "text": [
      "The dataset has 14515 rows and 39 columns\n"
     ]
    },
    {
     "data": {
      "text/html": [
       "<div>\n",
       "<style scoped>\n",
       "    .dataframe tbody tr th:only-of-type {\n",
       "        vertical-align: middle;\n",
       "    }\n",
       "\n",
       "    .dataframe tbody tr th {\n",
       "        vertical-align: top;\n",
       "    }\n",
       "\n",
       "    .dataframe thead th {\n",
       "        text-align: right;\n",
       "    }\n",
       "</style>\n",
       "<table border=\"1\" class=\"dataframe\">\n",
       "  <thead>\n",
       "    <tr style=\"text-align: right;\">\n",
       "      <th></th>\n",
       "      <th>ISIN</th>\n",
       "      <th>Year</th>\n",
       "      <th>CompanyName</th>\n",
       "      <th>Country</th>\n",
       "      <th>Industry(Exiobase)</th>\n",
       "      <th>EnvironmentalIntensity(Sales)</th>\n",
       "      <th>EnvironmentalIntensity(OpInc)</th>\n",
       "      <th>TotalEnvironmentalCost</th>\n",
       "      <th>WorkingCapacity</th>\n",
       "      <th>FishProductionCapacity</th>\n",
       "      <th>...</th>\n",
       "      <th>SDG14.c</th>\n",
       "      <th>SDG15.1</th>\n",
       "      <th>SDG15.2</th>\n",
       "      <th>SDG15.5</th>\n",
       "      <th>%Imputed</th>\n",
       "      <th>Env_intensity</th>\n",
       "      <th>industry_avg</th>\n",
       "      <th>industry_avg_year</th>\n",
       "      <th>Industry_indicator_year</th>\n",
       "      <th>Environmental_Growth</th>\n",
       "    </tr>\n",
       "  </thead>\n",
       "  <tbody>\n",
       "    <tr>\n",
       "      <th>0</th>\n",
       "      <td>DE0005545503</td>\n",
       "      <td>2016</td>\n",
       "      <td>1&amp;1 DRILLISCH AG</td>\n",
       "      <td>Germany</td>\n",
       "      <td>Post and telecommunications (64)</td>\n",
       "      <td>-0.07%</td>\n",
       "      <td>-0.82%</td>\n",
       "      <td>-539,318</td>\n",
       "      <td>-525,027</td>\n",
       "      <td>-169</td>\n",
       "      <td>...</td>\n",
       "      <td>-6</td>\n",
       "      <td>67</td>\n",
       "      <td>67</td>\n",
       "      <td>-22</td>\n",
       "      <td>23%</td>\n",
       "      <td>-0.0007</td>\n",
       "      <td>-0.020506</td>\n",
       "      <td>-0.020740</td>\n",
       "      <td>1</td>\n",
       "      <td>NaN</td>\n",
       "    </tr>\n",
       "    <tr>\n",
       "      <th>1</th>\n",
       "      <td>GB00B1YW4409</td>\n",
       "      <td>2010</td>\n",
       "      <td>3I GROUP PLC</td>\n",
       "      <td>United Kingdom</td>\n",
       "      <td>Financial intermediation, except insurance and...</td>\n",
       "      <td>-0.12%</td>\n",
       "      <td>-0.11%</td>\n",
       "      <td>-1,055,812</td>\n",
       "      <td>-1,032,103</td>\n",
       "      <td>-277</td>\n",
       "      <td>...</td>\n",
       "      <td>-4</td>\n",
       "      <td>51</td>\n",
       "      <td>51</td>\n",
       "      <td>-43</td>\n",
       "      <td>10%</td>\n",
       "      <td>-0.0012</td>\n",
       "      <td>-0.028537</td>\n",
       "      <td>-0.006402</td>\n",
       "      <td>1</td>\n",
       "      <td>NaN</td>\n",
       "    </tr>\n",
       "    <tr>\n",
       "      <th>2</th>\n",
       "      <td>GB00B1YW4409</td>\n",
       "      <td>2011</td>\n",
       "      <td>3I GROUP PLC</td>\n",
       "      <td>United Kingdom</td>\n",
       "      <td>Financial intermediation, except insurance and...</td>\n",
       "      <td>-0.16%</td>\n",
       "      <td>-0.16%</td>\n",
       "      <td>-961,875</td>\n",
       "      <td>-940,402</td>\n",
       "      <td>-246</td>\n",
       "      <td>...</td>\n",
       "      <td>-3</td>\n",
       "      <td>38</td>\n",
       "      <td>38</td>\n",
       "      <td>-39</td>\n",
       "      <td>9%</td>\n",
       "      <td>-0.0016</td>\n",
       "      <td>-0.028537</td>\n",
       "      <td>-0.009838</td>\n",
       "      <td>1</td>\n",
       "      <td>33.333333</td>\n",
       "    </tr>\n",
       "  </tbody>\n",
       "</table>\n",
       "<p>3 rows × 39 columns</p>\n",
       "</div>"
      ],
      "text/plain": [
       "           ISIN  Year       CompanyName         Country  \\\n",
       "0  DE0005545503  2016  1&1 DRILLISCH AG         Germany   \n",
       "1  GB00B1YW4409  2010      3I GROUP PLC  United Kingdom   \n",
       "2  GB00B1YW4409  2011      3I GROUP PLC  United Kingdom   \n",
       "\n",
       "                                  Industry(Exiobase)  \\\n",
       "0                   Post and telecommunications (64)   \n",
       "1  Financial intermediation, except insurance and...   \n",
       "2  Financial intermediation, except insurance and...   \n",
       "\n",
       "  EnvironmentalIntensity(Sales) EnvironmentalIntensity(OpInc)  \\\n",
       "0                        -0.07%                        -0.82%   \n",
       "1                        -0.12%                        -0.11%   \n",
       "2                        -0.16%                        -0.16%   \n",
       "\n",
       "  TotalEnvironmentalCost WorkingCapacity FishProductionCapacity  ... SDG14.c  \\\n",
       "0               -539,318        -525,027                   -169  ...      -6   \n",
       "1             -1,055,812      -1,032,103                   -277  ...      -4   \n",
       "2               -961,875        -940,402                   -246  ...      -3   \n",
       "\n",
       "  SDG15.1 SDG15.2 SDG15.5 %Imputed Env_intensity industry_avg  \\\n",
       "0      67      67     -22      23%       -0.0007    -0.020506   \n",
       "1      51      51     -43      10%       -0.0012    -0.028537   \n",
       "2      38      38     -39       9%       -0.0016    -0.028537   \n",
       "\n",
       "  industry_avg_year Industry_indicator_year Environmental_Growth  \n",
       "0         -0.020740                       1                  NaN  \n",
       "1         -0.006402                       1                  NaN  \n",
       "2         -0.009838                       1            33.333333  \n",
       "\n",
       "[3 rows x 39 columns]"
      ]
     },
     "execution_count": 2,
     "metadata": {},
     "output_type": "execute_result"
    }
   ],
   "source": [
    "df = pd.read_csv('/Users/maralinetorres/Documents/GitHub/Predicting-Environmental-and-Social-Actions/Datasets/Environmental_impact_cleaned.csv')\n",
    "print(f'The dataset has {df.shape[0]} rows and {df.shape[1]} columns')\n",
    "df.head(3)"
   ]
  },
  {
   "cell_type": "markdown",
   "id": "urban-restoration",
   "metadata": {},
   "source": [
    "Now, we are going to subset for the columns that we are interested in. As discussed in the notebook 'Environmental-Impact-Data Cleaning', we transformed the EnvironmentalIntensity(Sales) to decimals and removed spaces in columns CompanyName and Country. "
   ]
  },
  {
   "cell_type": "code",
   "execution_count": 3,
   "id": "occupied-projector",
   "metadata": {
    "colab": {
     "base_uri": "https://localhost:8080/",
     "height": 204
    },
    "id": "future-cornell",
    "outputId": "9695eda6-a19d-4bcc-ca72-4d1f594d749d"
   },
   "outputs": [
    {
     "data": {
      "text/html": [
       "<div>\n",
       "<style scoped>\n",
       "    .dataframe tbody tr th:only-of-type {\n",
       "        vertical-align: middle;\n",
       "    }\n",
       "\n",
       "    .dataframe tbody tr th {\n",
       "        vertical-align: top;\n",
       "    }\n",
       "\n",
       "    .dataframe thead th {\n",
       "        text-align: right;\n",
       "    }\n",
       "</style>\n",
       "<table border=\"1\" class=\"dataframe\">\n",
       "  <thead>\n",
       "    <tr style=\"text-align: right;\">\n",
       "      <th></th>\n",
       "      <th>ISIN</th>\n",
       "      <th>Year</th>\n",
       "      <th>CompanyName</th>\n",
       "      <th>Country</th>\n",
       "      <th>Industry(Exiobase)</th>\n",
       "      <th>EnvironmentalIntensity(Sales)</th>\n",
       "      <th>Env_intensity</th>\n",
       "    </tr>\n",
       "  </thead>\n",
       "  <tbody>\n",
       "    <tr>\n",
       "      <th>0</th>\n",
       "      <td>DE0005545503</td>\n",
       "      <td>2016</td>\n",
       "      <td>1&amp;1 DRILLISCH AG</td>\n",
       "      <td>Germany</td>\n",
       "      <td>Post and telecommunications (64)</td>\n",
       "      <td>-0.07%</td>\n",
       "      <td>-0.0007</td>\n",
       "    </tr>\n",
       "    <tr>\n",
       "      <th>1</th>\n",
       "      <td>GB00B1YW4409</td>\n",
       "      <td>2010</td>\n",
       "      <td>3I GROUP PLC</td>\n",
       "      <td>United Kingdom</td>\n",
       "      <td>Financial intermediation, except insurance and...</td>\n",
       "      <td>-0.12%</td>\n",
       "      <td>-0.0012</td>\n",
       "    </tr>\n",
       "    <tr>\n",
       "      <th>2</th>\n",
       "      <td>GB00B1YW4409</td>\n",
       "      <td>2011</td>\n",
       "      <td>3I GROUP PLC</td>\n",
       "      <td>United Kingdom</td>\n",
       "      <td>Financial intermediation, except insurance and...</td>\n",
       "      <td>-0.16%</td>\n",
       "      <td>-0.0016</td>\n",
       "    </tr>\n",
       "    <tr>\n",
       "      <th>3</th>\n",
       "      <td>GB00B1YW4409</td>\n",
       "      <td>2012</td>\n",
       "      <td>3I GROUP PLC</td>\n",
       "      <td>United Kingdom</td>\n",
       "      <td>Financial intermediation, except insurance and...</td>\n",
       "      <td>-0.15%</td>\n",
       "      <td>-0.0015</td>\n",
       "    </tr>\n",
       "    <tr>\n",
       "      <th>4</th>\n",
       "      <td>US88579Y1010</td>\n",
       "      <td>2010</td>\n",
       "      <td>3M COMPANY</td>\n",
       "      <td>United States</td>\n",
       "      <td>Activities of membership organisation n.e.c. (91)</td>\n",
       "      <td>-7.90%</td>\n",
       "      <td>-0.0790</td>\n",
       "    </tr>\n",
       "  </tbody>\n",
       "</table>\n",
       "</div>"
      ],
      "text/plain": [
       "           ISIN  Year       CompanyName         Country  \\\n",
       "0  DE0005545503  2016  1&1 DRILLISCH AG         Germany   \n",
       "1  GB00B1YW4409  2010      3I GROUP PLC  United Kingdom   \n",
       "2  GB00B1YW4409  2011      3I GROUP PLC  United Kingdom   \n",
       "3  GB00B1YW4409  2012      3I GROUP PLC  United Kingdom   \n",
       "4  US88579Y1010  2010        3M COMPANY   United States   \n",
       "\n",
       "                                  Industry(Exiobase)  \\\n",
       "0                   Post and telecommunications (64)   \n",
       "1  Financial intermediation, except insurance and...   \n",
       "2  Financial intermediation, except insurance and...   \n",
       "3  Financial intermediation, except insurance and...   \n",
       "4  Activities of membership organisation n.e.c. (91)   \n",
       "\n",
       "  EnvironmentalIntensity(Sales)  Env_intensity  \n",
       "0                        -0.07%        -0.0007  \n",
       "1                        -0.12%        -0.0012  \n",
       "2                        -0.16%        -0.0016  \n",
       "3                        -0.15%        -0.0015  \n",
       "4                        -7.90%        -0.0790  "
      ]
     },
     "execution_count": 3,
     "metadata": {},
     "output_type": "execute_result"
    }
   ],
   "source": [
    "df = df.loc[:,['ISIN','Year','CompanyName','Country','Industry(Exiobase)','EnvironmentalIntensity(Sales)','Env_intensity']]\n",
    "df.head()"
   ]
  },
  {
   "cell_type": "markdown",
   "id": "centered-church",
   "metadata": {
    "id": "celtic-wound"
   },
   "source": [
    "### Creating industry indicator"
   ]
  },
  {
   "cell_type": "code",
   "execution_count": 4,
   "id": "abandoned-outline",
   "metadata": {
    "id": "awful-remark"
   },
   "outputs": [],
   "source": [
    "industry_avg = df.groupby('Industry(Exiobase)')[['Env_intensity']].mean().reset_index()\n",
    "df['industry_avg'] = df['Env_intensity'].groupby(df['Industry(Exiobase)']).transform('mean')"
   ]
  },
  {
   "cell_type": "code",
   "execution_count": 5,
   "id": "heated-period",
   "metadata": {
    "colab": {
     "base_uri": "https://localhost:8080/",
     "height": 0
    },
    "id": "august-toddler",
    "outputId": "edc72ff4-3483-42c8-f93c-99b7ea73b6ee"
   },
   "outputs": [
    {
     "data": {
      "text/html": [
       "<div>\n",
       "<style scoped>\n",
       "    .dataframe tbody tr th:only-of-type {\n",
       "        vertical-align: middle;\n",
       "    }\n",
       "\n",
       "    .dataframe tbody tr th {\n",
       "        vertical-align: top;\n",
       "    }\n",
       "\n",
       "    .dataframe thead th {\n",
       "        text-align: right;\n",
       "    }\n",
       "</style>\n",
       "<table border=\"1\" class=\"dataframe\">\n",
       "  <thead>\n",
       "    <tr style=\"text-align: right;\">\n",
       "      <th></th>\n",
       "      <th>ISIN</th>\n",
       "      <th>Year</th>\n",
       "      <th>CompanyName</th>\n",
       "      <th>Country</th>\n",
       "      <th>Industry(Exiobase)</th>\n",
       "      <th>EnvironmentalIntensity(Sales)</th>\n",
       "      <th>Env_intensity</th>\n",
       "      <th>industry_avg</th>\n",
       "      <th>Industry_indicator</th>\n",
       "    </tr>\n",
       "  </thead>\n",
       "  <tbody>\n",
       "    <tr>\n",
       "      <th>0</th>\n",
       "      <td>DE0005545503</td>\n",
       "      <td>2016</td>\n",
       "      <td>1&amp;1 DRILLISCH AG</td>\n",
       "      <td>Germany</td>\n",
       "      <td>Post and telecommunications (64)</td>\n",
       "      <td>-0.07%</td>\n",
       "      <td>-0.0007</td>\n",
       "      <td>-0.020506</td>\n",
       "      <td>1</td>\n",
       "    </tr>\n",
       "    <tr>\n",
       "      <th>1</th>\n",
       "      <td>GB00B1YW4409</td>\n",
       "      <td>2010</td>\n",
       "      <td>3I GROUP PLC</td>\n",
       "      <td>United Kingdom</td>\n",
       "      <td>Financial intermediation, except insurance and...</td>\n",
       "      <td>-0.12%</td>\n",
       "      <td>-0.0012</td>\n",
       "      <td>-0.028537</td>\n",
       "      <td>1</td>\n",
       "    </tr>\n",
       "    <tr>\n",
       "      <th>2</th>\n",
       "      <td>GB00B1YW4409</td>\n",
       "      <td>2011</td>\n",
       "      <td>3I GROUP PLC</td>\n",
       "      <td>United Kingdom</td>\n",
       "      <td>Financial intermediation, except insurance and...</td>\n",
       "      <td>-0.16%</td>\n",
       "      <td>-0.0016</td>\n",
       "      <td>-0.028537</td>\n",
       "      <td>1</td>\n",
       "    </tr>\n",
       "    <tr>\n",
       "      <th>3</th>\n",
       "      <td>GB00B1YW4409</td>\n",
       "      <td>2012</td>\n",
       "      <td>3I GROUP PLC</td>\n",
       "      <td>United Kingdom</td>\n",
       "      <td>Financial intermediation, except insurance and...</td>\n",
       "      <td>-0.15%</td>\n",
       "      <td>-0.0015</td>\n",
       "      <td>-0.028537</td>\n",
       "      <td>1</td>\n",
       "    </tr>\n",
       "    <tr>\n",
       "      <th>4</th>\n",
       "      <td>US88579Y1010</td>\n",
       "      <td>2010</td>\n",
       "      <td>3M COMPANY</td>\n",
       "      <td>United States</td>\n",
       "      <td>Activities of membership organisation n.e.c. (91)</td>\n",
       "      <td>-7.90%</td>\n",
       "      <td>-0.0790</td>\n",
       "      <td>-0.175838</td>\n",
       "      <td>1</td>\n",
       "    </tr>\n",
       "  </tbody>\n",
       "</table>\n",
       "</div>"
      ],
      "text/plain": [
       "           ISIN  Year       CompanyName         Country  \\\n",
       "0  DE0005545503  2016  1&1 DRILLISCH AG         Germany   \n",
       "1  GB00B1YW4409  2010      3I GROUP PLC  United Kingdom   \n",
       "2  GB00B1YW4409  2011      3I GROUP PLC  United Kingdom   \n",
       "3  GB00B1YW4409  2012      3I GROUP PLC  United Kingdom   \n",
       "4  US88579Y1010  2010        3M COMPANY   United States   \n",
       "\n",
       "                                  Industry(Exiobase)  \\\n",
       "0                   Post and telecommunications (64)   \n",
       "1  Financial intermediation, except insurance and...   \n",
       "2  Financial intermediation, except insurance and...   \n",
       "3  Financial intermediation, except insurance and...   \n",
       "4  Activities of membership organisation n.e.c. (91)   \n",
       "\n",
       "  EnvironmentalIntensity(Sales)  Env_intensity  industry_avg  \\\n",
       "0                        -0.07%        -0.0007     -0.020506   \n",
       "1                        -0.12%        -0.0012     -0.028537   \n",
       "2                        -0.16%        -0.0016     -0.028537   \n",
       "3                        -0.15%        -0.0015     -0.028537   \n",
       "4                        -7.90%        -0.0790     -0.175838   \n",
       "\n",
       "   Industry_indicator  \n",
       "0                   1  \n",
       "1                   1  \n",
       "2                   1  \n",
       "3                   1  \n",
       "4                   1  "
      ]
     },
     "execution_count": 5,
     "metadata": {},
     "output_type": "execute_result"
    }
   ],
   "source": [
    "def create_ind(df):\n",
    "    if(df['Env_intensity'] > df['industry_avg']):\n",
    "        return 1\n",
    "    elif (df['Env_intensity'] == df['industry_avg']):\n",
    "        return 0\n",
    "    elif (df['Env_intensity'] < df['industry_avg']):\n",
    "        return -1\n",
    "\n",
    "df['Industry_indicator'] = df.apply(create_ind, axis = 1)\n",
    "df.head()"
   ]
  },
  {
   "cell_type": "code",
   "execution_count": 6,
   "id": "bigger-tulsa",
   "metadata": {
    "colab": {
     "base_uri": "https://localhost:8080/",
     "height": 0
    },
    "id": "pacific-forty",
    "outputId": "2738a8d7-ff68-4948-9ff1-9fa262bd7dcf"
   },
   "outputs": [
    {
     "data": {
      "text/html": [
       "<div>\n",
       "<style scoped>\n",
       "    .dataframe tbody tr th:only-of-type {\n",
       "        vertical-align: middle;\n",
       "    }\n",
       "\n",
       "    .dataframe tbody tr th {\n",
       "        vertical-align: top;\n",
       "    }\n",
       "\n",
       "    .dataframe thead th {\n",
       "        text-align: right;\n",
       "    }\n",
       "</style>\n",
       "<table border=\"1\" class=\"dataframe\">\n",
       "  <thead>\n",
       "    <tr style=\"text-align: right;\">\n",
       "      <th></th>\n",
       "      <th>ISIN</th>\n",
       "      <th>Year</th>\n",
       "      <th>CompanyName</th>\n",
       "      <th>Country</th>\n",
       "      <th>Industry(Exiobase)</th>\n",
       "      <th>EnvironmentalIntensity(Sales)</th>\n",
       "      <th>Env_intensity</th>\n",
       "      <th>industry_avg</th>\n",
       "      <th>Industry_indicator</th>\n",
       "      <th>industry_avg_year</th>\n",
       "      <th>Industry_indicator_year</th>\n",
       "    </tr>\n",
       "  </thead>\n",
       "  <tbody>\n",
       "    <tr>\n",
       "      <th>0</th>\n",
       "      <td>DE0005545503</td>\n",
       "      <td>2016</td>\n",
       "      <td>1&amp;1 DRILLISCH AG</td>\n",
       "      <td>Germany</td>\n",
       "      <td>Post and telecommunications (64)</td>\n",
       "      <td>-0.07%</td>\n",
       "      <td>-0.0007</td>\n",
       "      <td>-0.020506</td>\n",
       "      <td>1</td>\n",
       "      <td>-0.020740</td>\n",
       "      <td>1</td>\n",
       "    </tr>\n",
       "    <tr>\n",
       "      <th>1</th>\n",
       "      <td>GB00B1YW4409</td>\n",
       "      <td>2010</td>\n",
       "      <td>3I GROUP PLC</td>\n",
       "      <td>United Kingdom</td>\n",
       "      <td>Financial intermediation, except insurance and...</td>\n",
       "      <td>-0.12%</td>\n",
       "      <td>-0.0012</td>\n",
       "      <td>-0.028537</td>\n",
       "      <td>1</td>\n",
       "      <td>-0.006402</td>\n",
       "      <td>1</td>\n",
       "    </tr>\n",
       "    <tr>\n",
       "      <th>2</th>\n",
       "      <td>GB00B1YW4409</td>\n",
       "      <td>2011</td>\n",
       "      <td>3I GROUP PLC</td>\n",
       "      <td>United Kingdom</td>\n",
       "      <td>Financial intermediation, except insurance and...</td>\n",
       "      <td>-0.16%</td>\n",
       "      <td>-0.0016</td>\n",
       "      <td>-0.028537</td>\n",
       "      <td>1</td>\n",
       "      <td>-0.009838</td>\n",
       "      <td>1</td>\n",
       "    </tr>\n",
       "    <tr>\n",
       "      <th>3</th>\n",
       "      <td>GB00B1YW4409</td>\n",
       "      <td>2012</td>\n",
       "      <td>3I GROUP PLC</td>\n",
       "      <td>United Kingdom</td>\n",
       "      <td>Financial intermediation, except insurance and...</td>\n",
       "      <td>-0.15%</td>\n",
       "      <td>-0.0015</td>\n",
       "      <td>-0.028537</td>\n",
       "      <td>1</td>\n",
       "      <td>-0.024437</td>\n",
       "      <td>1</td>\n",
       "    </tr>\n",
       "    <tr>\n",
       "      <th>4</th>\n",
       "      <td>US88579Y1010</td>\n",
       "      <td>2010</td>\n",
       "      <td>3M COMPANY</td>\n",
       "      <td>United States</td>\n",
       "      <td>Activities of membership organisation n.e.c. (91)</td>\n",
       "      <td>-7.90%</td>\n",
       "      <td>-0.0790</td>\n",
       "      <td>-0.175838</td>\n",
       "      <td>1</td>\n",
       "      <td>-0.084583</td>\n",
       "      <td>1</td>\n",
       "    </tr>\n",
       "  </tbody>\n",
       "</table>\n",
       "</div>"
      ],
      "text/plain": [
       "           ISIN  Year       CompanyName         Country  \\\n",
       "0  DE0005545503  2016  1&1 DRILLISCH AG         Germany   \n",
       "1  GB00B1YW4409  2010      3I GROUP PLC  United Kingdom   \n",
       "2  GB00B1YW4409  2011      3I GROUP PLC  United Kingdom   \n",
       "3  GB00B1YW4409  2012      3I GROUP PLC  United Kingdom   \n",
       "4  US88579Y1010  2010        3M COMPANY   United States   \n",
       "\n",
       "                                  Industry(Exiobase)  \\\n",
       "0                   Post and telecommunications (64)   \n",
       "1  Financial intermediation, except insurance and...   \n",
       "2  Financial intermediation, except insurance and...   \n",
       "3  Financial intermediation, except insurance and...   \n",
       "4  Activities of membership organisation n.e.c. (91)   \n",
       "\n",
       "  EnvironmentalIntensity(Sales)  Env_intensity  industry_avg  \\\n",
       "0                        -0.07%        -0.0007     -0.020506   \n",
       "1                        -0.12%        -0.0012     -0.028537   \n",
       "2                        -0.16%        -0.0016     -0.028537   \n",
       "3                        -0.15%        -0.0015     -0.028537   \n",
       "4                        -7.90%        -0.0790     -0.175838   \n",
       "\n",
       "   Industry_indicator  industry_avg_year  Industry_indicator_year  \n",
       "0                   1          -0.020740                        1  \n",
       "1                   1          -0.006402                        1  \n",
       "2                   1          -0.009838                        1  \n",
       "3                   1          -0.024437                        1  \n",
       "4                   1          -0.084583                        1  "
      ]
     },
     "execution_count": 6,
     "metadata": {},
     "output_type": "execute_result"
    }
   ],
   "source": [
    "def create_ind_year(df):\n",
    "    if(df['Env_intensity'] > df['industry_avg_year']):\n",
    "        return 1\n",
    "    elif (df['Env_intensity'] == df['industry_avg_year']):\n",
    "        return 0\n",
    "    elif (df['Env_intensity'] < df['industry_avg_year']):\n",
    "        return -1\n",
    "\n",
    "df['industry_avg_year'] = df.groupby(['Industry(Exiobase)','Year']).transform('mean')[['Env_intensity']]\n",
    "\n",
    "df['Industry_indicator_year'] = df.apply(create_ind_year, axis = 1)\n",
    "df.head()"
   ]
  },
  {
   "cell_type": "code",
   "execution_count": 7,
   "id": "dependent-metro",
   "metadata": {
    "colab": {
     "base_uri": "https://localhost:8080/",
     "height": 0
    },
    "id": "behind-format",
    "outputId": "dcc3e34a-e751-4955-a250-6262bb21eda8"
   },
   "outputs": [
    {
     "data": {
      "text/html": [
       "<div>\n",
       "<style scoped>\n",
       "    .dataframe tbody tr th:only-of-type {\n",
       "        vertical-align: middle;\n",
       "    }\n",
       "\n",
       "    .dataframe tbody tr th {\n",
       "        vertical-align: top;\n",
       "    }\n",
       "\n",
       "    .dataframe thead th {\n",
       "        text-align: right;\n",
       "    }\n",
       "</style>\n",
       "<table border=\"1\" class=\"dataframe\">\n",
       "  <thead>\n",
       "    <tr style=\"text-align: right;\">\n",
       "      <th></th>\n",
       "      <th>ISIN</th>\n",
       "      <th>Year</th>\n",
       "      <th>CompanyName</th>\n",
       "      <th>Country</th>\n",
       "      <th>Industry(Exiobase)</th>\n",
       "      <th>EnvironmentalIntensity(Sales)</th>\n",
       "      <th>Env_intensity</th>\n",
       "      <th>industry_avg</th>\n",
       "      <th>Industry_indicator</th>\n",
       "      <th>industry_avg_year</th>\n",
       "      <th>Industry_indicator_year</th>\n",
       "    </tr>\n",
       "  </thead>\n",
       "  <tbody>\n",
       "    <tr>\n",
       "      <th>190</th>\n",
       "      <td>CH0012138605</td>\n",
       "      <td>2010</td>\n",
       "      <td>ADECCO GROUP AG</td>\n",
       "      <td>Switzerland</td>\n",
       "      <td>Activities auxiliary to financial intermediati...</td>\n",
       "      <td>-0.14%</td>\n",
       "      <td>-0.0014</td>\n",
       "      <td>-0.00491</td>\n",
       "      <td>1</td>\n",
       "      <td>-0.004490</td>\n",
       "      <td>1</td>\n",
       "    </tr>\n",
       "    <tr>\n",
       "      <th>2052</th>\n",
       "      <td>GB00B23K0M20</td>\n",
       "      <td>2010</td>\n",
       "      <td>CAPITA PLC</td>\n",
       "      <td>United Kingdom</td>\n",
       "      <td>Activities auxiliary to financial intermediati...</td>\n",
       "      <td>-0.40%</td>\n",
       "      <td>-0.0040</td>\n",
       "      <td>-0.00491</td>\n",
       "      <td>1</td>\n",
       "      <td>-0.004490</td>\n",
       "      <td>1</td>\n",
       "    </tr>\n",
       "    <tr>\n",
       "      <th>1919</th>\n",
       "      <td>FR0006174348</td>\n",
       "      <td>2010</td>\n",
       "      <td>BUREAU VERITAS SA</td>\n",
       "      <td>France</td>\n",
       "      <td>Activities auxiliary to financial intermediati...</td>\n",
       "      <td>-0.52%</td>\n",
       "      <td>-0.0052</td>\n",
       "      <td>-0.00491</td>\n",
       "      <td>-1</td>\n",
       "      <td>-0.004490</td>\n",
       "      <td>-1</td>\n",
       "    </tr>\n",
       "    <tr>\n",
       "      <th>3524</th>\n",
       "      <td>DE0005810055</td>\n",
       "      <td>2010</td>\n",
       "      <td>DEUTSCHE BOERSE AG</td>\n",
       "      <td>Germany</td>\n",
       "      <td>Activities auxiliary to financial intermediati...</td>\n",
       "      <td>-0.28%</td>\n",
       "      <td>-0.0028</td>\n",
       "      <td>-0.00491</td>\n",
       "      <td>1</td>\n",
       "      <td>-0.004490</td>\n",
       "      <td>1</td>\n",
       "    </tr>\n",
       "    <tr>\n",
       "      <th>1718</th>\n",
       "      <td>ES0115056139</td>\n",
       "      <td>2010</td>\n",
       "      <td>BOLSAS Y MERCADOS ESPANOLES SHMSF SA</td>\n",
       "      <td>Spain</td>\n",
       "      <td>Activities auxiliary to financial intermediati...</td>\n",
       "      <td>-0.26%</td>\n",
       "      <td>-0.0026</td>\n",
       "      <td>-0.00491</td>\n",
       "      <td>1</td>\n",
       "      <td>-0.004490</td>\n",
       "      <td>1</td>\n",
       "    </tr>\n",
       "    <tr>\n",
       "      <th>...</th>\n",
       "      <td>...</td>\n",
       "      <td>...</td>\n",
       "      <td>...</td>\n",
       "      <td>...</td>\n",
       "      <td>...</td>\n",
       "      <td>...</td>\n",
       "      <td>...</td>\n",
       "      <td>...</td>\n",
       "      <td>...</td>\n",
       "      <td>...</td>\n",
       "      <td>...</td>\n",
       "    </tr>\n",
       "    <tr>\n",
       "      <th>4428</th>\n",
       "      <td>GB00B19NLV48</td>\n",
       "      <td>2019</td>\n",
       "      <td>EXPERIAN PLC</td>\n",
       "      <td>United Kingdom</td>\n",
       "      <td>Activities auxiliary to financial intermediati...</td>\n",
       "      <td>-0.20%</td>\n",
       "      <td>-0.0020</td>\n",
       "      <td>-0.00491</td>\n",
       "      <td>1</td>\n",
       "      <td>0.002943</td>\n",
       "      <td>-1</td>\n",
       "    </tr>\n",
       "    <tr>\n",
       "      <th>979</th>\n",
       "      <td>FR0000074148</td>\n",
       "      <td>2019</td>\n",
       "      <td>ASSYSTEM SA</td>\n",
       "      <td>France</td>\n",
       "      <td>Activities auxiliary to financial intermediati...</td>\n",
       "      <td>-0.31%</td>\n",
       "      <td>-0.0031</td>\n",
       "      <td>-0.00491</td>\n",
       "      <td>1</td>\n",
       "      <td>0.002943</td>\n",
       "      <td>-1</td>\n",
       "    </tr>\n",
       "    <tr>\n",
       "      <th>3529</th>\n",
       "      <td>DE0005810055</td>\n",
       "      <td>2019</td>\n",
       "      <td>DEUTSCHE BOERSE AG</td>\n",
       "      <td>Germany</td>\n",
       "      <td>Activities auxiliary to financial intermediati...</td>\n",
       "      <td>1.88%</td>\n",
       "      <td>0.0188</td>\n",
       "      <td>-0.00491</td>\n",
       "      <td>1</td>\n",
       "      <td>0.002943</td>\n",
       "      <td>1</td>\n",
       "    </tr>\n",
       "    <tr>\n",
       "      <th>9793</th>\n",
       "      <td>GB0030232317</td>\n",
       "      <td>2019</td>\n",
       "      <td>PAGEGROUP PLC</td>\n",
       "      <td>United Kingdom</td>\n",
       "      <td>Activities auxiliary to financial intermediati...</td>\n",
       "      <td>-0.08%</td>\n",
       "      <td>-0.0008</td>\n",
       "      <td>-0.00491</td>\n",
       "      <td>1</td>\n",
       "      <td>0.002943</td>\n",
       "      <td>-1</td>\n",
       "    </tr>\n",
       "    <tr>\n",
       "      <th>1925</th>\n",
       "      <td>FR0006174348</td>\n",
       "      <td>2019</td>\n",
       "      <td>BUREAU VERITAS SA</td>\n",
       "      <td>France</td>\n",
       "      <td>Activities auxiliary to financial intermediati...</td>\n",
       "      <td>-0.70%</td>\n",
       "      <td>-0.0070</td>\n",
       "      <td>-0.00491</td>\n",
       "      <td>-1</td>\n",
       "      <td>0.002943</td>\n",
       "      <td>-1</td>\n",
       "    </tr>\n",
       "  </tbody>\n",
       "</table>\n",
       "<p>263 rows × 11 columns</p>\n",
       "</div>"
      ],
      "text/plain": [
       "              ISIN  Year                           CompanyName  \\\n",
       "190   CH0012138605  2010                       ADECCO GROUP AG   \n",
       "2052  GB00B23K0M20  2010                            CAPITA PLC   \n",
       "1919  FR0006174348  2010                     BUREAU VERITAS SA   \n",
       "3524  DE0005810055  2010                    DEUTSCHE BOERSE AG   \n",
       "1718  ES0115056139  2010  BOLSAS Y MERCADOS ESPANOLES SHMSF SA   \n",
       "...            ...   ...                                   ...   \n",
       "4428  GB00B19NLV48  2019                          EXPERIAN PLC   \n",
       "979   FR0000074148  2019                           ASSYSTEM SA   \n",
       "3529  DE0005810055  2019                    DEUTSCHE BOERSE AG   \n",
       "9793  GB0030232317  2019                         PAGEGROUP PLC   \n",
       "1925  FR0006174348  2019                     BUREAU VERITAS SA   \n",
       "\n",
       "             Country                                 Industry(Exiobase)  \\\n",
       "190      Switzerland  Activities auxiliary to financial intermediati...   \n",
       "2052  United Kingdom  Activities auxiliary to financial intermediati...   \n",
       "1919          France  Activities auxiliary to financial intermediati...   \n",
       "3524         Germany  Activities auxiliary to financial intermediati...   \n",
       "1718           Spain  Activities auxiliary to financial intermediati...   \n",
       "...              ...                                                ...   \n",
       "4428  United Kingdom  Activities auxiliary to financial intermediati...   \n",
       "979           France  Activities auxiliary to financial intermediati...   \n",
       "3529         Germany  Activities auxiliary to financial intermediati...   \n",
       "9793  United Kingdom  Activities auxiliary to financial intermediati...   \n",
       "1925          France  Activities auxiliary to financial intermediati...   \n",
       "\n",
       "     EnvironmentalIntensity(Sales)  Env_intensity  industry_avg  \\\n",
       "190                         -0.14%        -0.0014      -0.00491   \n",
       "2052                        -0.40%        -0.0040      -0.00491   \n",
       "1919                        -0.52%        -0.0052      -0.00491   \n",
       "3524                        -0.28%        -0.0028      -0.00491   \n",
       "1718                        -0.26%        -0.0026      -0.00491   \n",
       "...                            ...            ...           ...   \n",
       "4428                        -0.20%        -0.0020      -0.00491   \n",
       "979                         -0.31%        -0.0031      -0.00491   \n",
       "3529                         1.88%         0.0188      -0.00491   \n",
       "9793                        -0.08%        -0.0008      -0.00491   \n",
       "1925                        -0.70%        -0.0070      -0.00491   \n",
       "\n",
       "      Industry_indicator  industry_avg_year  Industry_indicator_year  \n",
       "190                    1          -0.004490                        1  \n",
       "2052                   1          -0.004490                        1  \n",
       "1919                  -1          -0.004490                       -1  \n",
       "3524                   1          -0.004490                        1  \n",
       "1718                   1          -0.004490                        1  \n",
       "...                  ...                ...                      ...  \n",
       "4428                   1           0.002943                       -1  \n",
       "979                    1           0.002943                       -1  \n",
       "3529                   1           0.002943                        1  \n",
       "9793                   1           0.002943                       -1  \n",
       "1925                  -1           0.002943                       -1  \n",
       "\n",
       "[263 rows x 11 columns]"
      ]
     },
     "execution_count": 7,
     "metadata": {},
     "output_type": "execute_result"
    }
   ],
   "source": [
    "df.loc[(df['Industry(Exiobase)'] == 'Activities auxiliary to financial intermediation (67)'),:].sort_values(by='Year')"
   ]
  },
  {
   "cell_type": "markdown",
   "id": "civil-projection",
   "metadata": {
    "id": "directed-workplace"
   },
   "source": [
    "### Creating Environmental growth\n",
    "\n",
    "Environmental Intensity Growth : ((Environmental Intensity in Current Year / Environmental Intensity Last Year) - 1) * 100"
   ]
  },
  {
   "cell_type": "code",
   "execution_count": 8,
   "id": "automatic-footage",
   "metadata": {
    "colab": {
     "base_uri": "https://localhost:8080/",
     "height": 0
    },
    "id": "loaded-pitch",
    "outputId": "36f9001b-8a82-492e-b2f2-dab2d6907c3e"
   },
   "outputs": [
    {
     "data": {
      "text/html": [
       "<div>\n",
       "<style scoped>\n",
       "    .dataframe tbody tr th:only-of-type {\n",
       "        vertical-align: middle;\n",
       "    }\n",
       "\n",
       "    .dataframe tbody tr th {\n",
       "        vertical-align: top;\n",
       "    }\n",
       "\n",
       "    .dataframe thead th {\n",
       "        text-align: right;\n",
       "    }\n",
       "</style>\n",
       "<table border=\"1\" class=\"dataframe\">\n",
       "  <thead>\n",
       "    <tr style=\"text-align: right;\">\n",
       "      <th></th>\n",
       "      <th>ISIN</th>\n",
       "      <th>Year</th>\n",
       "      <th>CompanyName</th>\n",
       "      <th>Country</th>\n",
       "      <th>Industry(Exiobase)</th>\n",
       "      <th>EnvironmentalIntensity(Sales)</th>\n",
       "      <th>Env_intensity</th>\n",
       "      <th>industry_avg</th>\n",
       "      <th>Industry_indicator</th>\n",
       "      <th>industry_avg_year</th>\n",
       "      <th>Industry_indicator_year</th>\n",
       "    </tr>\n",
       "  </thead>\n",
       "  <tbody>\n",
       "    <tr>\n",
       "      <th>0</th>\n",
       "      <td>DE0005545503</td>\n",
       "      <td>2016</td>\n",
       "      <td>1&amp;1 DRILLISCH AG</td>\n",
       "      <td>Germany</td>\n",
       "      <td>Post and telecommunications (64)</td>\n",
       "      <td>-0.07%</td>\n",
       "      <td>-0.0007</td>\n",
       "      <td>-0.020506</td>\n",
       "      <td>1</td>\n",
       "      <td>-0.020740</td>\n",
       "      <td>1</td>\n",
       "    </tr>\n",
       "    <tr>\n",
       "      <th>1</th>\n",
       "      <td>GB00B1YW4409</td>\n",
       "      <td>2010</td>\n",
       "      <td>3I GROUP PLC</td>\n",
       "      <td>United Kingdom</td>\n",
       "      <td>Financial intermediation, except insurance and...</td>\n",
       "      <td>-0.12%</td>\n",
       "      <td>-0.0012</td>\n",
       "      <td>-0.028537</td>\n",
       "      <td>1</td>\n",
       "      <td>-0.006402</td>\n",
       "      <td>1</td>\n",
       "    </tr>\n",
       "    <tr>\n",
       "      <th>2</th>\n",
       "      <td>GB00B1YW4409</td>\n",
       "      <td>2011</td>\n",
       "      <td>3I GROUP PLC</td>\n",
       "      <td>United Kingdom</td>\n",
       "      <td>Financial intermediation, except insurance and...</td>\n",
       "      <td>-0.16%</td>\n",
       "      <td>-0.0016</td>\n",
       "      <td>-0.028537</td>\n",
       "      <td>1</td>\n",
       "      <td>-0.009838</td>\n",
       "      <td>1</td>\n",
       "    </tr>\n",
       "    <tr>\n",
       "      <th>3</th>\n",
       "      <td>GB00B1YW4409</td>\n",
       "      <td>2012</td>\n",
       "      <td>3I GROUP PLC</td>\n",
       "      <td>United Kingdom</td>\n",
       "      <td>Financial intermediation, except insurance and...</td>\n",
       "      <td>-0.15%</td>\n",
       "      <td>-0.0015</td>\n",
       "      <td>-0.028537</td>\n",
       "      <td>1</td>\n",
       "      <td>-0.024437</td>\n",
       "      <td>1</td>\n",
       "    </tr>\n",
       "    <tr>\n",
       "      <th>4</th>\n",
       "      <td>US88579Y1010</td>\n",
       "      <td>2010</td>\n",
       "      <td>3M COMPANY</td>\n",
       "      <td>United States</td>\n",
       "      <td>Activities of membership organisation n.e.c. (91)</td>\n",
       "      <td>-7.90%</td>\n",
       "      <td>-0.0790</td>\n",
       "      <td>-0.175838</td>\n",
       "      <td>1</td>\n",
       "      <td>-0.084583</td>\n",
       "      <td>1</td>\n",
       "    </tr>\n",
       "  </tbody>\n",
       "</table>\n",
       "</div>"
      ],
      "text/plain": [
       "           ISIN  Year       CompanyName         Country  \\\n",
       "0  DE0005545503  2016  1&1 DRILLISCH AG         Germany   \n",
       "1  GB00B1YW4409  2010      3I GROUP PLC  United Kingdom   \n",
       "2  GB00B1YW4409  2011      3I GROUP PLC  United Kingdom   \n",
       "3  GB00B1YW4409  2012      3I GROUP PLC  United Kingdom   \n",
       "4  US88579Y1010  2010        3M COMPANY   United States   \n",
       "\n",
       "                                  Industry(Exiobase)  \\\n",
       "0                   Post and telecommunications (64)   \n",
       "1  Financial intermediation, except insurance and...   \n",
       "2  Financial intermediation, except insurance and...   \n",
       "3  Financial intermediation, except insurance and...   \n",
       "4  Activities of membership organisation n.e.c. (91)   \n",
       "\n",
       "  EnvironmentalIntensity(Sales)  Env_intensity  industry_avg  \\\n",
       "0                        -0.07%        -0.0007     -0.020506   \n",
       "1                        -0.12%        -0.0012     -0.028537   \n",
       "2                        -0.16%        -0.0016     -0.028537   \n",
       "3                        -0.15%        -0.0015     -0.028537   \n",
       "4                        -7.90%        -0.0790     -0.175838   \n",
       "\n",
       "   Industry_indicator  industry_avg_year  Industry_indicator_year  \n",
       "0                   1          -0.020740                        1  \n",
       "1                   1          -0.006402                        1  \n",
       "2                   1          -0.009838                        1  \n",
       "3                   1          -0.024437                        1  \n",
       "4                   1          -0.084583                        1  "
      ]
     },
     "execution_count": 8,
     "metadata": {},
     "output_type": "execute_result"
    }
   ],
   "source": [
    "df = df.sort_values(by=['CompanyName','Year'], ascending = True)\n",
    "df.head()"
   ]
  },
  {
   "cell_type": "code",
   "execution_count": 9,
   "id": "amazing-renaissance",
   "metadata": {
    "colab": {
     "base_uri": "https://localhost:8080/",
     "height": 0
    },
    "id": "southeast-killing",
    "outputId": "7baf6a83-8327-42f0-a600-114806c0227c"
   },
   "outputs": [
    {
     "data": {
      "text/html": [
       "<div>\n",
       "<style scoped>\n",
       "    .dataframe tbody tr th:only-of-type {\n",
       "        vertical-align: middle;\n",
       "    }\n",
       "\n",
       "    .dataframe tbody tr th {\n",
       "        vertical-align: top;\n",
       "    }\n",
       "\n",
       "    .dataframe thead th {\n",
       "        text-align: right;\n",
       "    }\n",
       "</style>\n",
       "<table border=\"1\" class=\"dataframe\">\n",
       "  <thead>\n",
       "    <tr style=\"text-align: right;\">\n",
       "      <th></th>\n",
       "      <th>ISIN</th>\n",
       "      <th>Year</th>\n",
       "      <th>CompanyName</th>\n",
       "      <th>Country</th>\n",
       "      <th>Industry(Exiobase)</th>\n",
       "      <th>EnvironmentalIntensity(Sales)</th>\n",
       "      <th>Env_intensity</th>\n",
       "      <th>industry_avg</th>\n",
       "      <th>Industry_indicator</th>\n",
       "      <th>industry_avg_year</th>\n",
       "      <th>Industry_indicator_year</th>\n",
       "      <th>Environmental_Growth</th>\n",
       "    </tr>\n",
       "  </thead>\n",
       "  <tbody>\n",
       "    <tr>\n",
       "      <th>0</th>\n",
       "      <td>DE0005545503</td>\n",
       "      <td>2016</td>\n",
       "      <td>1&amp;1 DRILLISCH AG</td>\n",
       "      <td>Germany</td>\n",
       "      <td>Post and telecommunications (64)</td>\n",
       "      <td>-0.07%</td>\n",
       "      <td>-0.0007</td>\n",
       "      <td>-0.020506</td>\n",
       "      <td>1</td>\n",
       "      <td>-0.020740</td>\n",
       "      <td>1</td>\n",
       "      <td>NaN</td>\n",
       "    </tr>\n",
       "    <tr>\n",
       "      <th>1</th>\n",
       "      <td>GB00B1YW4409</td>\n",
       "      <td>2010</td>\n",
       "      <td>3I GROUP PLC</td>\n",
       "      <td>United Kingdom</td>\n",
       "      <td>Financial intermediation, except insurance and...</td>\n",
       "      <td>-0.12%</td>\n",
       "      <td>-0.0012</td>\n",
       "      <td>-0.028537</td>\n",
       "      <td>1</td>\n",
       "      <td>-0.006402</td>\n",
       "      <td>1</td>\n",
       "      <td>NaN</td>\n",
       "    </tr>\n",
       "    <tr>\n",
       "      <th>2</th>\n",
       "      <td>GB00B1YW4409</td>\n",
       "      <td>2011</td>\n",
       "      <td>3I GROUP PLC</td>\n",
       "      <td>United Kingdom</td>\n",
       "      <td>Financial intermediation, except insurance and...</td>\n",
       "      <td>-0.16%</td>\n",
       "      <td>-0.0016</td>\n",
       "      <td>-0.028537</td>\n",
       "      <td>1</td>\n",
       "      <td>-0.009838</td>\n",
       "      <td>1</td>\n",
       "      <td>33.333333</td>\n",
       "    </tr>\n",
       "    <tr>\n",
       "      <th>3</th>\n",
       "      <td>GB00B1YW4409</td>\n",
       "      <td>2012</td>\n",
       "      <td>3I GROUP PLC</td>\n",
       "      <td>United Kingdom</td>\n",
       "      <td>Financial intermediation, except insurance and...</td>\n",
       "      <td>-0.15%</td>\n",
       "      <td>-0.0015</td>\n",
       "      <td>-0.028537</td>\n",
       "      <td>1</td>\n",
       "      <td>-0.024437</td>\n",
       "      <td>1</td>\n",
       "      <td>-6.250000</td>\n",
       "    </tr>\n",
       "    <tr>\n",
       "      <th>4</th>\n",
       "      <td>US88579Y1010</td>\n",
       "      <td>2010</td>\n",
       "      <td>3M COMPANY</td>\n",
       "      <td>United States</td>\n",
       "      <td>Activities of membership organisation n.e.c. (91)</td>\n",
       "      <td>-7.90%</td>\n",
       "      <td>-0.0790</td>\n",
       "      <td>-0.175838</td>\n",
       "      <td>1</td>\n",
       "      <td>-0.084583</td>\n",
       "      <td>1</td>\n",
       "      <td>NaN</td>\n",
       "    </tr>\n",
       "  </tbody>\n",
       "</table>\n",
       "</div>"
      ],
      "text/plain": [
       "           ISIN  Year       CompanyName         Country  \\\n",
       "0  DE0005545503  2016  1&1 DRILLISCH AG         Germany   \n",
       "1  GB00B1YW4409  2010      3I GROUP PLC  United Kingdom   \n",
       "2  GB00B1YW4409  2011      3I GROUP PLC  United Kingdom   \n",
       "3  GB00B1YW4409  2012      3I GROUP PLC  United Kingdom   \n",
       "4  US88579Y1010  2010        3M COMPANY   United States   \n",
       "\n",
       "                                  Industry(Exiobase)  \\\n",
       "0                   Post and telecommunications (64)   \n",
       "1  Financial intermediation, except insurance and...   \n",
       "2  Financial intermediation, except insurance and...   \n",
       "3  Financial intermediation, except insurance and...   \n",
       "4  Activities of membership organisation n.e.c. (91)   \n",
       "\n",
       "  EnvironmentalIntensity(Sales)  Env_intensity  industry_avg  \\\n",
       "0                        -0.07%        -0.0007     -0.020506   \n",
       "1                        -0.12%        -0.0012     -0.028537   \n",
       "2                        -0.16%        -0.0016     -0.028537   \n",
       "3                        -0.15%        -0.0015     -0.028537   \n",
       "4                        -7.90%        -0.0790     -0.175838   \n",
       "\n",
       "   Industry_indicator  industry_avg_year  Industry_indicator_year  \\\n",
       "0                   1          -0.020740                        1   \n",
       "1                   1          -0.006402                        1   \n",
       "2                   1          -0.009838                        1   \n",
       "3                   1          -0.024437                        1   \n",
       "4                   1          -0.084583                        1   \n",
       "\n",
       "   Environmental_Growth  \n",
       "0                   NaN  \n",
       "1                   NaN  \n",
       "2             33.333333  \n",
       "3             -6.250000  \n",
       "4                   NaN  "
      ]
     },
     "execution_count": 9,
     "metadata": {},
     "output_type": "execute_result"
    }
   ],
   "source": [
    "df['Environmental_Growth'] = df.groupby(['CompanyName'])['Env_intensity'].apply(lambda x: x.pct_change()).to_numpy() * 100\n",
    "df.head()"
   ]
  },
  {
   "cell_type": "markdown",
   "id": "described-therapy",
   "metadata": {
    "id": "Teqthpuxe8MC"
   },
   "source": [
    "### Model 1 - Past years Environmental Intensity"
   ]
  },
  {
   "cell_type": "code",
   "execution_count": 10,
   "id": "employed-company",
   "metadata": {
    "id": "9f_QPBEQe8MC"
   },
   "outputs": [],
   "source": [
    "df1 = df.copy()"
   ]
  },
  {
   "cell_type": "code",
   "execution_count": 11,
   "id": "phantom-field",
   "metadata": {},
   "outputs": [],
   "source": [
    "def p2f(x):\n",
    "    return float(x.strip('%'))/100\n",
    "df1['EnvironmentalIntensity(Sales)'] = df1['EnvironmentalIntensity(Sales)'].apply(p2f)"
   ]
  },
  {
   "cell_type": "code",
   "execution_count": 12,
   "id": "lonely-mason",
   "metadata": {
    "colab": {
     "base_uri": "https://localhost:8080/"
    },
    "id": "sexual-cricket",
    "outputId": "5fa9864e-8ef8-4886-9c4b-1b5095bb44fb"
   },
   "outputs": [
    {
     "name": "stdout",
     "output_type": "stream",
     "text": [
      "R2 score: 0.8535746128153976\n",
      "MSE:  0.015251450150102281\n"
     ]
    }
   ],
   "source": [
    "companies_2018 = list(df1[df1['Year'] == 2018]['CompanyName'])\n",
    "companies_2019 = list(df1[(df1['Year'] == 2019) & (df1['CompanyName'].isin(companies_2018))]['CompanyName'])\n",
    "\n",
    "#Getting companies that are in both years\n",
    "list2018_as_set = set(companies_2018)\n",
    "intersection = list2018_as_set.intersection(companies_2019)\n",
    "\n",
    "X = df1[(df1['Year'] == 2018) & (df1['CompanyName'].isin(intersection))][['Env_intensity']]\n",
    "y = df1[(df1['Year'] == 2019) & (df1['CompanyName'].isin(intersection))][['Env_intensity']]\n",
    "\n",
    "X_train, X_test, y_train, y_test = train_test_split(\n",
    "    X, y, test_size=0.2, random_state=42)\n",
    "\n",
    "\n",
    "reg = LinearRegression().fit(X_train, y_train)\n",
    "\n",
    "y_pred = reg.predict(X_test)\n",
    "\n",
    "print('R2 score:', metrics.r2_score(y_test, y_pred))\n",
    "print('MSE: ', metrics.mean_squared_error(y_test, y_pred))\n"
   ]
  },
  {
   "cell_type": "code",
   "execution_count": 13,
   "id": "wicked-pantyhose",
   "metadata": {},
   "outputs": [
    {
     "data": {
      "image/png": "[encoded data removed]",
      "text/plain": [
       "<Figure size 864x576 with 1 Axes>"
      ]
     },
     "metadata": {
      "needs_background": "light"
     },
     "output_type": "display_data"
    }
   ],
   "source": [
    "fig, ax = plt.subplots(figsize=(12,8))\n",
    "ax.scatter(y_test, y_pred, c='green')\n",
    "ax.plot([y_test.min(), y_test.max()], [y.min(), y.max()], 'k--', lw=4)\n",
    "ax.set_xlabel('Observed 2019 Environmental Intesity')\n",
    "ax.set_ylabel('Predicted 2019 Environmental Intesity')\n",
    "ax.set_title('Linear Regression- Predicting 2019 Environmental intensity using 2018');"
   ]
  },
  {
   "cell_type": "markdown",
   "id": "central-progress",
   "metadata": {},
   "source": [
    "### Including Multiple Years"
   ]
  },
  {
   "cell_type": "markdown",
   "id": "split-thought",
   "metadata": {},
   "source": [
    "Starting with 2017 & 2018 to predict values in 2019"
   ]
  },
  {
   "cell_type": "code",
   "execution_count": 14,
   "id": "authorized-inspection",
   "metadata": {},
   "outputs": [
    {
     "name": "stdout",
     "output_type": "stream",
     "text": [
      "R2 score: 0.9640133945498272\n",
      "MSE:  0.0028344652171312934\n",
      "Adjusted R2:  0.8370169966442953\n"
     ]
    }
   ],
   "source": [
    "companies_2017 = list(df1[df1['Year'] == 2017]['CompanyName'])\n",
    "list2017_as_set = set(companies_2017)\n",
    "intersection2= list2017_as_set.intersection(intersection)\n",
    "\n",
    "X = df1[(df1['Year'].isin([2017, 2018])) & (df1['CompanyName'].isin(intersection2))][['CompanyName','EnvironmentalIntensity(Sales)']]\n",
    "X = X.groupby('CompanyName').mean()[['EnvironmentalIntensity(Sales)']]\n",
    "\n",
    "y = df1[(df1['Year'] == 2019) & (df1['CompanyName'].isin(intersection2))][['EnvironmentalIntensity(Sales)']]\n",
    "\n",
    "X_train, X_test, y_train, y_test = train_test_split(\n",
    "    X, y, test_size=0.2, random_state=42)\n",
    "\n",
    "\n",
    "reg = LinearRegression().fit(X_train, y_train)\n",
    "\n",
    "y_pred = reg.predict(X_test)\n",
    "\n",
    "\n",
    "print('R2 score:', metrics.r2_score(y_test, y_pred))\n",
    "print('MSE: ', metrics.mean_squared_error(y_test, y_pred))\n",
    "print('Adjusted R2: ', 1-(1-.83729)*(len(intersection2)-1)/(len(intersection2)-2-1))"
   ]
  },
  {
   "cell_type": "code",
   "execution_count": 15,
   "id": "dutch-planet",
   "metadata": {},
   "outputs": [
    {
     "data": {
      "image/png": "[encoded data removed]",
      "text/plain": [
       "<Figure size 864x576 with 1 Axes>"
      ]
     },
     "metadata": {
      "needs_background": "light"
     },
     "output_type": "display_data"
    }
   ],
   "source": [
    "fig, ax = plt.subplots(figsize=(12,8))\n",
    "ax.scatter(y_test, y_pred, c='green')\n",
    "ax.plot([y_test.min(), y_test.max()], [y.min(), y.max()], 'k--', lw=4)\n",
    "ax.set_xlabel('Observed 2019 Environmental Intesity')\n",
    "ax.set_ylabel('Predicted 2019 Environmental Intesity')\n",
    "ax.set_title('Linear Regression- Predicting 2019 Environmental intensity using 2017 and 2018');"
   ]
  },
  {
   "cell_type": "markdown",
   "id": "constitutional-saint",
   "metadata": {},
   "source": [
    "We see that the results of this model are worse than our first model which predicted 2019 numbers with 2018. We go on to include 2017."
   ]
  },
  {
   "cell_type": "code",
   "execution_count": 16,
   "id": "charitable-dimension",
   "metadata": {},
   "outputs": [
    {
     "name": "stdout",
     "output_type": "stream",
     "text": [
      "R2 score: 0.916454447105587\n",
      "MSE:  0.00421395537780839\n",
      "Adjusted R2:  0.9272047502356268\n"
     ]
    }
   ],
   "source": [
    "companies_2016 = list(df1[df1['Year'] == 2016]['CompanyName'])\n",
    "list2016_as_set = set(companies_2016)\n",
    "intersection3= list2016_as_set.intersection(intersection2)\n",
    "\n",
    "X = df1[(df1['Year'].isin([2016, 2017, 2018])) & (df1['CompanyName'].isin(intersection3))][['CompanyName','EnvironmentalIntensity(Sales)']]\n",
    "X = X.groupby('CompanyName').mean()[['EnvironmentalIntensity(Sales)']]\n",
    "\n",
    "y = df1[(df1['Year'] == 2019) & (df1['CompanyName'].isin(intersection3))][['EnvironmentalIntensity(Sales)']]\n",
    "\n",
    "X_train, X_test, y_train, y_test = train_test_split(\n",
    "    X, y, test_size=0.2, random_state=42)\n",
    "\n",
    "\n",
    "reg = LinearRegression().fit(X_train, y_train)\n",
    "\n",
    "y_pred = reg.predict(X_test)\n",
    "\n",
    "print('R2 score:', metrics.r2_score(y_test, y_pred))\n",
    "print('MSE: ', metrics.mean_squared_error(y_test, y_pred))\n",
    "print('Adjusted R2: ', 1-(1-.92741)*(len(intersection3)-1)/(len(intersection3)-3-1))"
   ]
  },
  {
   "cell_type": "markdown",
   "id": "acquired-charleston",
   "metadata": {},
   "source": [
    "When we include 2016 both our R score and MSE improved."
   ]
  },
  {
   "cell_type": "code",
   "execution_count": 17,
   "id": "mineral-alignment",
   "metadata": {},
   "outputs": [
    {
     "data": {
      "image/png": "[encoded data removed]",
      "text/plain": [
       "<Figure size 864x576 with 1 Axes>"
      ]
     },
     "metadata": {
      "needs_background": "light"
     },
     "output_type": "display_data"
    }
   ],
   "source": [
    "fig, ax = plt.subplots(figsize=(12,8))\n",
    "ax.scatter(y_test, y_pred, c='green')\n",
    "ax.plot([y_test.min(), y_test.max()], [y.min(), y.max()], 'k--', lw=4)\n",
    "ax.set_xlabel('Observed 2019 Environmental Intesity')\n",
    "ax.set_ylabel('Predicted 2019 Environmental Intesity')\n",
    "ax.set_title('Linear Regression- Predicting 2019 Environmental intensity using 2016 to 2018');"
   ]
  },
  {
   "cell_type": "markdown",
   "id": "republican-determination",
   "metadata": {
    "id": "n67fJF-se8ME"
   },
   "source": [
    "### Model 2 - Past years average environmental intensity\n",
    "\n",
    "In this section, we will use the average environmental intensity of 2016-2018 to predict 2019 environmental intensity"
   ]
  },
  {
   "cell_type": "code",
   "execution_count": 18,
   "id": "driven-delaware",
   "metadata": {
    "id": "HCKgjKyDe8ME"
   },
   "outputs": [],
   "source": [
    "df2 = df.copy()\n",
    "EI_2016 = df2[df2['Year'] == 2016]\n",
    "EI_2017 = df2[df2['Year'] == 2017]\n",
    "EI_2018 = df2[df2['Year'] == 2018]\n",
    "EI_2019 = df2[df2['Year'] == 2019]"
   ]
  },
  {
   "cell_type": "code",
   "execution_count": 19,
   "id": "occupational-hobby",
   "metadata": {
    "id": "s5HULOeue8MF"
   },
   "outputs": [],
   "source": [
    "df_mod2 = EI_2016.merge(EI_2017, how='inner', on='CompanyName', suffixes=('_2016', '_2017'))\n",
    "df_mod2 = df_mod2.merge(EI_2018, how='inner', on='CompanyName')\n",
    "df_mod2 = df_mod2.merge(EI_2019, how='inner', on='CompanyName', suffixes=('_2018', '_2019'))"
   ]
  },
  {
   "cell_type": "code",
   "execution_count": 20,
   "id": "different-chance",
   "metadata": {
    "id": "etVVWoUAe8MF"
   },
   "outputs": [],
   "source": [
    "df_mod2 = df_mod2[['CompanyName','Year_2016','Env_intensity_2016','Year_2017','Env_intensity_2017','Year_2018','Env_intensity_2018','Year_2019','Env_intensity_2019']]"
   ]
  },
  {
   "cell_type": "code",
   "execution_count": 21,
   "id": "becoming-vampire",
   "metadata": {
    "colab": {
     "base_uri": "https://localhost:8080/",
     "height": 0
    },
    "id": "lqhvtMkce8MF",
    "outputId": "cbdecc1f-8097-452b-e5c3-2388ef6f05fb"
   },
   "outputs": [
    {
     "data": {
      "text/html": [
       "<div>\n",
       "<style scoped>\n",
       "    .dataframe tbody tr th:only-of-type {\n",
       "        vertical-align: middle;\n",
       "    }\n",
       "\n",
       "    .dataframe tbody tr th {\n",
       "        vertical-align: top;\n",
       "    }\n",
       "\n",
       "    .dataframe thead th {\n",
       "        text-align: right;\n",
       "    }\n",
       "</style>\n",
       "<table border=\"1\" class=\"dataframe\">\n",
       "  <thead>\n",
       "    <tr style=\"text-align: right;\">\n",
       "      <th></th>\n",
       "      <th>CompanyName</th>\n",
       "      <th>Year_2016</th>\n",
       "      <th>Env_intensity_2016</th>\n",
       "      <th>Year_2017</th>\n",
       "      <th>Env_intensity_2017</th>\n",
       "      <th>Year_2018</th>\n",
       "      <th>Env_intensity_2018</th>\n",
       "      <th>Year_2019</th>\n",
       "      <th>Env_intensity_2019</th>\n",
       "    </tr>\n",
       "  </thead>\n",
       "  <tbody>\n",
       "    <tr>\n",
       "      <th>0</th>\n",
       "      <td>3M COMPANY</td>\n",
       "      <td>2016</td>\n",
       "      <td>-0.0705</td>\n",
       "      <td>2017</td>\n",
       "      <td>-0.0660</td>\n",
       "      <td>2018</td>\n",
       "      <td>-0.0710</td>\n",
       "      <td>2019</td>\n",
       "      <td>-0.0641</td>\n",
       "    </tr>\n",
       "    <tr>\n",
       "      <th>1</th>\n",
       "      <td>A.G.V. PRODUCTS CORP</td>\n",
       "      <td>2016</td>\n",
       "      <td>-0.0170</td>\n",
       "      <td>2017</td>\n",
       "      <td>-0.0190</td>\n",
       "      <td>2018</td>\n",
       "      <td>-0.0140</td>\n",
       "      <td>2019</td>\n",
       "      <td>-0.0172</td>\n",
       "    </tr>\n",
       "    <tr>\n",
       "      <th>2</th>\n",
       "      <td>AA PLC</td>\n",
       "      <td>2016</td>\n",
       "      <td>-0.0130</td>\n",
       "      <td>2017</td>\n",
       "      <td>-0.0124</td>\n",
       "      <td>2018</td>\n",
       "      <td>-0.0117</td>\n",
       "      <td>2019</td>\n",
       "      <td>-0.0070</td>\n",
       "    </tr>\n",
       "    <tr>\n",
       "      <th>3</th>\n",
       "      <td>AAC TECHNOLOGIES HOLDINGS INCORPORATION</td>\n",
       "      <td>2016</td>\n",
       "      <td>-0.0389</td>\n",
       "      <td>2017</td>\n",
       "      <td>-0.0591</td>\n",
       "      <td>2018</td>\n",
       "      <td>-0.0802</td>\n",
       "      <td>2019</td>\n",
       "      <td>-0.1080</td>\n",
       "    </tr>\n",
       "    <tr>\n",
       "      <th>4</th>\n",
       "      <td>AAREAL BANK AG</td>\n",
       "      <td>2016</td>\n",
       "      <td>-0.0024</td>\n",
       "      <td>2017</td>\n",
       "      <td>-0.0021</td>\n",
       "      <td>2018</td>\n",
       "      <td>-0.0019</td>\n",
       "      <td>2019</td>\n",
       "      <td>-0.0015</td>\n",
       "    </tr>\n",
       "  </tbody>\n",
       "</table>\n",
       "</div>"
      ],
      "text/plain": [
       "                               CompanyName  Year_2016  Env_intensity_2016  \\\n",
       "0                               3M COMPANY       2016             -0.0705   \n",
       "1                     A.G.V. PRODUCTS CORP       2016             -0.0170   \n",
       "2                                   AA PLC       2016             -0.0130   \n",
       "3  AAC TECHNOLOGIES HOLDINGS INCORPORATION       2016             -0.0389   \n",
       "4                           AAREAL BANK AG       2016             -0.0024   \n",
       "\n",
       "   Year_2017  Env_intensity_2017  Year_2018  Env_intensity_2018  Year_2019  \\\n",
       "0       2017             -0.0660       2018             -0.0710       2019   \n",
       "1       2017             -0.0190       2018             -0.0140       2019   \n",
       "2       2017             -0.0124       2018             -0.0117       2019   \n",
       "3       2017             -0.0591       2018             -0.0802       2019   \n",
       "4       2017             -0.0021       2018             -0.0019       2019   \n",
       "\n",
       "   Env_intensity_2019  \n",
       "0             -0.0641  \n",
       "1             -0.0172  \n",
       "2             -0.0070  \n",
       "3             -0.1080  \n",
       "4             -0.0015  "
      ]
     },
     "execution_count": 21,
     "metadata": {},
     "output_type": "execute_result"
    }
   ],
   "source": [
    "df_mod2.head()"
   ]
  },
  {
   "cell_type": "code",
   "execution_count": 22,
   "id": "imperial-cholesterol",
   "metadata": {
    "id": "9ijrBlmDe8MF"
   },
   "outputs": [],
   "source": [
    "df_melt2 = pd.melt(df_mod2, id_vars=['CompanyName'], value_vars=['Env_intensity_2016','Env_intensity_2016','Env_intensity_2017'],\n",
    "        var_name='myVarname', value_name='Environmental_intenrsity')"
   ]
  },
  {
   "cell_type": "code",
   "execution_count": null,
   "id": "cultural-improvement",
   "metadata": {
    "colab": {
     "base_uri": "https://localhost:8080/",
     "height": 0
    },
    "id": "lW4BEQ7he8MG",
    "outputId": "5e606a9b-5ce2-485d-e67e-5f063539f322"
   },
   "outputs": [],
   "source": [
    "df_melt2.head()"
   ]
  },
  {
   "cell_type": "code",
   "execution_count": null,
   "id": "wound-circus",
   "metadata": {
    "colab": {
     "base_uri": "https://localhost:8080/"
    },
    "id": "6lHVG_CIe8MG",
    "outputId": "54bc2a1b-9cdb-426d-9d33-756946d3cc00"
   },
   "outputs": [],
   "source": [
    "ei_avg = df_melt2.groupby('CompanyName').mean().reset_index()\n",
    "X = ei_avg[['Environmental_intenrsity']]\n",
    "y = df_mod2[['Env_intensity_2019']]\n",
    "\n",
    "print(X.shape)\n",
    "print(y.shape)"
   ]
  },
  {
   "cell_type": "code",
   "execution_count": null,
   "id": "acoustic-restoration",
   "metadata": {
    "colab": {
     "base_uri": "https://localhost:8080/"
    },
    "id": "8KSeGKnwe8MG",
    "outputId": "9ecb532e-5e99-41ef-eeeb-aba611c066e8"
   },
   "outputs": [],
   "source": [
    "x_train, x_test, y_train, y_test = train_test_split(X ,y, test_size = 0.2, random_state = 42)\n",
    "# train Linear Regression\n",
    "LRtrainer = LinearRegression()\n",
    "LRtrainer.fit(x_train,y_train)\n",
    "\n",
    "# mse for linear regression\n",
    "y_pred_lr = LRtrainer.predict(x_test)\n",
    "print(metrics.mean_squared_error(y_pred_lr, y_test))"
   ]
  },
  {
   "cell_type": "code",
   "execution_count": null,
   "id": "marine-portland",
   "metadata": {
    "colab": {
     "base_uri": "https://localhost:8080/"
    },
    "id": "fhRMZGw8e8MH",
    "outputId": "defc0d4c-2364-4333-d7b4-5eb672a44b1d"
   },
   "outputs": [],
   "source": [
    "# display the parameters\n",
    "print('Model intercept: ', LRtrainer.intercept_)\n",
    "print('Model coefficients: ', LRtrainer.coef_)"
   ]
  },
  {
   "cell_type": "code",
   "execution_count": null,
   "id": "expired-swaziland",
   "metadata": {
    "colab": {
     "base_uri": "https://localhost:8080/"
    },
    "id": "X1b-ZGI1e8MH",
    "outputId": "463c674a-cc9f-4e5c-b4bd-099246ee16dc"
   },
   "outputs": [],
   "source": [
    "print('R2 score:', metrics.r2_score(y_test, y_pred_lr))"
   ]
  },
  {
   "cell_type": "code",
   "execution_count": null,
   "id": "golden-christianity",
   "metadata": {},
   "outputs": [],
   "source": [
    "fig, ax = plt.subplots(figsize=(12,8))\n",
    "ax.scatter(y_test, y_pred_lr, c='green')\n",
    "ax.plot([y_test.min(), y_test.max()], [y.min(), y.max()], 'k--', lw=4)\n",
    "ax.set_xlabel('Observed 2019 Environmental Intesity')\n",
    "ax.set_ylabel('Predicted 2019 Environmental Intesity')\n",
    "ax.set_title('Linear Regression- Predicting 2019 Environmental intensity using the companies average environmental intensity from past years (2016-2018)');"
   ]
  },
  {
   "cell_type": "markdown",
   "id": "correct-medline",
   "metadata": {
    "id": "EWMa_YonOz5P"
   },
   "source": [
    "### Model 3 - Yearly Industry Average\n",
    "\n",
    "For this model, the predictor will be the industry average for the respective year. \n",
    "There is no data for 2020, so we plan to predict 2019 environmental intensity.  Accordingly, we used 2018 and 2017 Industry data (past data) to predict 2019 evronmental intensity. "
   ]
  },
  {
   "cell_type": "code",
   "execution_count": null,
   "id": "communist-protection",
   "metadata": {
    "colab": {
     "base_uri": "https://localhost:8080/",
     "height": 296
    },
    "id": "wNfyK_qDe8MI",
    "outputId": "d0318855-b124-4dcb-ec7c-727f52d3368a"
   },
   "outputs": [],
   "source": [
    "sns.countplot(x='Year', data = df)"
   ]
  },
  {
   "cell_type": "markdown",
   "id": "trained-bones",
   "metadata": {
    "id": "ShjWYuXLe8MI"
   },
   "source": [
    "The dataset does not contain consistent records throught out the years. Therefore, it could be possible we have data for one company in 2019 but not data from that company in 2018, 2017, etc. \n",
    "\n",
    "We will start by only using 2018 industry average as a feature to predict 2019 environmental intensity. First, we will subset the companies that we have 2018 data and get their 2019 environmental intensity. Also, we will keep the industries that have more than 3 companies assigned to them. "
   ]
  },
  {
   "cell_type": "code",
   "execution_count": null,
   "id": "suitable-deposit",
   "metadata": {},
   "outputs": [],
   "source": [
    "df_industry = df.groupby('Industry(Exiobase)').count()['CompanyName'].reset_index()\n",
    "\n",
    "industries = df_industry[df_industry['CompanyName'] > 3]['Industry(Exiobase)']"
   ]
  },
  {
   "cell_type": "code",
   "execution_count": null,
   "id": "focal-series",
   "metadata": {},
   "outputs": [],
   "source": [
    "df_industry_count4 = df[df['Industry(Exiobase)'].isin(industries)]\n",
    "\n",
    "\n",
    "df_2018 = df_industry_count4.loc[df.Year == 2018, ]\n",
    "df_2019 = df_industry_count4.loc[df.Year == 2019, ]\n",
    "df_mod3 = pd.merge(df_2018, df_2019, on='CompanyName',how='inner')\n",
    "df_mod3 = df_mod3[['Year_x','CompanyName','industry_avg_year_x','Year_y','Env_intensity_y']]\n",
    "df_mod3.head()"
   ]
  },
  {
   "cell_type": "code",
   "execution_count": null,
   "id": "molecular-dragon",
   "metadata": {
    "colab": {
     "base_uri": "https://localhost:8080/"
    },
    "id": "FtTXj-O-e8MJ",
    "outputId": "c5e39084-8c75-4169-c5cc-6efabc3a07b6"
   },
   "outputs": [],
   "source": [
    "X = df_mod3[['industry_avg_year_x']]\n",
    "y = df_mod3.iloc[:,4]\n",
    "print(X.shape)\n",
    "print(y.shape)"
   ]
  },
  {
   "cell_type": "code",
   "execution_count": null,
   "id": "choice-checkout",
   "metadata": {
    "colab": {
     "base_uri": "https://localhost:8080/"
    },
    "id": "fzoscwJ0e8MJ",
    "outputId": "ffb95f7b-58f5-4d54-a492-d375d3a36f5a"
   },
   "outputs": [],
   "source": [
    "x_train, x_test, y_train, y_test = train_test_split(X ,y, test_size = 0.2, random_state = 42)\n",
    "# train Linear Regression\n",
    "LRtrainer = LinearRegression()\n",
    "LRtrainer.fit(x_train,y_train)\n",
    "\n",
    "# mse for linear regression\n",
    "y_pred_lr = LRtrainer.predict(x_test)\n",
    "print(metrics.mean_squared_error(y_pred_lr, y_test))"
   ]
  },
  {
   "cell_type": "code",
   "execution_count": null,
   "id": "fewer-inspection",
   "metadata": {
    "colab": {
     "base_uri": "https://localhost:8080/"
    },
    "id": "jdz4eDj5e8MJ",
    "outputId": "f722958b-cf83-4534-d8b4-ef75ea2a4339"
   },
   "outputs": [],
   "source": [
    "# display the parameters\n",
    "print('Model intercept: ', LRtrainer.intercept_)\n",
    "print('Model coefficients: ', LRtrainer.coef_)"
   ]
  },
  {
   "cell_type": "code",
   "execution_count": null,
   "id": "revised-police",
   "metadata": {
    "colab": {
     "base_uri": "https://localhost:8080/"
    },
    "id": "NKhRZBdTe8MJ",
    "outputId": "08254269-a4c4-4103-c1b9-1cb367e35165"
   },
   "outputs": [],
   "source": [
    "print('R2 score:', metrics.r2_score(y_test, y_pred_lr))"
   ]
  },
  {
   "cell_type": "code",
   "execution_count": null,
   "id": "north-extent",
   "metadata": {},
   "outputs": [],
   "source": [
    "fig, ax = plt.subplots(figsize=(12,8))\n",
    "ax.scatter(y_test, y_pred_lr, c='green')\n",
    "ax.plot([y_test.min(), y_test.max()], [y.min(), y.max()], 'k--', lw=4)\n",
    "ax.set_xlabel('Observed 2019 Environmental Intesity')\n",
    "ax.set_ylabel('Predicted 2019 Environmental Intesity')\n",
    "ax.set_title('Linear Regression- Predicting 2019 Environmental intensity using 2018 industry average environmental intensity');"
   ]
  },
  {
   "cell_type": "markdown",
   "id": "conceptual-impossible",
   "metadata": {
    "id": "fofCYGRne8MK"
   },
   "source": [
    "Now, we are going to consider 2017 - 2018 to predict 2019"
   ]
  },
  {
   "cell_type": "code",
   "execution_count": null,
   "id": "reliable-container",
   "metadata": {},
   "outputs": [],
   "source": [
    "df_2019=df_industry_count4[df_industry_count4['Year'] == 2019]\n",
    "df_2018=df_industry_count4[df_industry_count4['Year'] == 2018]\n",
    "df_2017=df_industry_count4[df_industry_count4['Year'] == 2017]"
   ]
  },
  {
   "cell_type": "code",
   "execution_count": null,
   "id": "impossible-mirror",
   "metadata": {
    "colab": {
     "base_uri": "https://localhost:8080/",
     "height": 419
    },
    "id": "sKzSdu7Fe8MK",
    "outputId": "a60d4a69-620f-4127-f321-b5e910ccb29e"
   },
   "outputs": [],
   "source": [
    "df2019=df_2019[['Year','CompanyName','Env_intensity']] \n",
    "df2019.rename(columns={'Env_intensity': 'Env_intensity2019'}, inplace=True) \n",
    "df2018=df_2018[['CompanyName','industry_avg_year']]\n",
    "df2018.rename(columns={'industry_avg_year': 'Ind_Yearavg2018'}, inplace=True) \n",
    "df2017=df_2017[['CompanyName','industry_avg_year']]\n",
    "df2017.rename(columns={'industry_avg_year': 'Ind_Yearavg2017'}, inplace=True) \n",
    "mdl = pd.merge(df2019, df2018, on=[\"CompanyName\"])\n",
    "mdl1= pd.merge(mdl, df2017, on=[\"CompanyName\"])\n",
    "mdl1"
   ]
  },
  {
   "cell_type": "code",
   "execution_count": null,
   "id": "parliamentary-bookmark",
   "metadata": {
    "colab": {
     "base_uri": "https://localhost:8080/"
    },
    "id": "EeCICVPZe8MK",
    "outputId": "e6f7028f-1ba8-4a2c-9974-feef5994d0bb"
   },
   "outputs": [],
   "source": [
    "X=mdl1[['Ind_Yearavg2018','Ind_Yearavg2017']]\n",
    "y=mdl1['Env_intensity2019']\n",
    "print(X.shape)\n",
    "print(y.shape)"
   ]
  },
  {
   "cell_type": "code",
   "execution_count": null,
   "id": "operating-virus",
   "metadata": {
    "id": "J-uzv_GTe8ML"
   },
   "outputs": [],
   "source": [
    "regr = linear_model.LinearRegression()\n",
    "X_train, X_test, y_train, y_test = train_test_split(X,y,test_size=0.2,random_state=42)\n",
    "regr.fit(X_train, y_train)\n",
    "y_train_pred = np.exp(regr.predict(X_train))\n",
    "y_pred = np.exp(regr.predict(X_test))\n",
    "y_test = np.exp(y_test)"
   ]
  },
  {
   "cell_type": "code",
   "execution_count": null,
   "id": "conceptual-kidney",
   "metadata": {
    "colab": {
     "base_uri": "https://localhost:8080/"
    },
    "id": "sWsjL_IPe8ML",
    "outputId": "ab8b4de9-41c4-478f-bc91-013747200475"
   },
   "outputs": [],
   "source": [
    "print('MSE train: %.3f, test: %.3f' % (metrics.mean_squared_error(y_train, y_train_pred),\n",
    "                metrics.mean_squared_error(y_test, y_pred)))"
   ]
  },
  {
   "cell_type": "code",
   "execution_count": null,
   "id": "actual-fetish",
   "metadata": {
    "colab": {
     "base_uri": "https://localhost:8080/"
    },
    "id": "gBTcXGdHe8ML",
    "outputId": "a40905b3-40fb-499e-8d7a-d52fcc32375e"
   },
   "outputs": [],
   "source": [
    "# display the parameters\n",
    "print('Model intercept: ', regr.intercept_)\n",
    "print('Model coefficients: ', regr.coef_)"
   ]
  },
  {
   "cell_type": "code",
   "execution_count": null,
   "id": "appreciated-quality",
   "metadata": {
    "colab": {
     "base_uri": "https://localhost:8080/"
    },
    "id": "q0V2lg5Oe8ML",
    "outputId": "6ef74970-d7cd-4da3-d5ff-49cd152d29f1"
   },
   "outputs": [],
   "source": [
    "print('R2 score:', metrics.r2_score(y_test, y_pred))"
   ]
  },
  {
   "cell_type": "code",
   "execution_count": null,
   "id": "public-travel",
   "metadata": {},
   "outputs": [],
   "source": [
    "fig, ax = plt.subplots(figsize=(12,8))\n",
    "ax.scatter(y_test, y_pred, c='green')\n",
    "ax.plot([y_test.min(), y_test.max()], [y.min(), y.max()], 'k--', lw=4)\n",
    "ax.set_xlabel('Observed 2019 Environmental Intesity')\n",
    "ax.set_ylabel('Predicted 2019 Environmental Intesity')\n",
    "ax.set_title('Linear Regression- Predicting 2019 Environmental intensity using 2017- 2018 industry average environmental intensity');"
   ]
  },
  {
   "cell_type": "markdown",
   "id": "skilled-imagination",
   "metadata": {
    "id": "o9Qz0XUue8ML"
   },
   "source": [
    "Using the industry environmental average for 2017 and 2018 only explained 27% of the variation in the dataset. Let's see what happens including 2016-2018 to predict 2019"
   ]
  },
  {
   "cell_type": "code",
   "execution_count": null,
   "id": "wireless-nepal",
   "metadata": {},
   "outputs": [],
   "source": [
    "df_2016 = df_industry_count4.loc[df_industry_count4.Year == 2016, ]\n",
    "df_2017 = df_industry_count4.loc[df_industry_count4.Year == 2017, ]\n",
    "df1 = df_2016.merge(df_2017, how='inner', on='CompanyName', suffixes=('_2016', '_2017'))\n",
    "df1 = df1.merge(df_2018, how='inner', on='CompanyName')\n",
    "df1 = df1.merge(df_2019, how='inner', on='CompanyName', suffixes=('_2018', '_2019'))\n",
    "df1 = df1[['Year_2016','industry_avg_year_2016','Year_2017','industry_avg_year_2017','Year_2018','industry_avg_year_2018','Year_2019','Env_intensity_2019']]"
   ]
  },
  {
   "cell_type": "code",
   "execution_count": null,
   "id": "grave-dollar",
   "metadata": {
    "colab": {
     "base_uri": "https://localhost:8080/"
    },
    "id": "kuul1T8Pe8MM",
    "outputId": "63ed718d-ed7a-442a-d075-7bd233c9a8da"
   },
   "outputs": [],
   "source": [
    "X = df1[['industry_avg_year_2016','industry_avg_year_2017','industry_avg_year_2018']]\n",
    "y = df1.iloc[:,7]\n",
    "print(X.shape)\n",
    "print(y.shape)"
   ]
  },
  {
   "cell_type": "code",
   "execution_count": null,
   "id": "cathedral-strain",
   "metadata": {
    "id": "McApUnC09uuq"
   },
   "outputs": [],
   "source": [
    "regr = linear_model.LinearRegression()\n",
    "X_train, X_test, y_train, y_test = train_test_split(X,y,test_size=0.2,random_state=42)\n",
    "regr.fit(X_train, y_train)\n",
    "y_train_pred = regr.predict(X_train)\n",
    "y_pred = regr.predict(X_test)"
   ]
  },
  {
   "cell_type": "code",
   "execution_count": null,
   "id": "noticed-corruption",
   "metadata": {
    "colab": {
     "base_uri": "https://localhost:8080/"
    },
    "id": "Zdkb0Jff-2EL",
    "outputId": "6e91dfe4-da0f-4cd1-a910-80601a20b80b"
   },
   "outputs": [],
   "source": [
    "print('MSE train: %.3f, test: %.3f' % (metrics.mean_squared_error(y_train, y_train_pred),\n",
    "                metrics.mean_squared_error(y_test, y_pred)))"
   ]
  },
  {
   "cell_type": "code",
   "execution_count": null,
   "id": "velvet-soldier",
   "metadata": {
    "colab": {
     "base_uri": "https://localhost:8080/"
    },
    "id": "qxtqOycLe8MN",
    "outputId": "80169297-278a-491f-f767-e62ba16444a5"
   },
   "outputs": [],
   "source": [
    "# display the parameters\n",
    "print('Model intercept: ', regr.intercept_)\n",
    "print('Model coefficients: ', regr.coef_)"
   ]
  },
  {
   "cell_type": "code",
   "execution_count": null,
   "id": "raised-exhibition",
   "metadata": {
    "colab": {
     "base_uri": "https://localhost:8080/"
    },
    "id": "Ogrxx1dbe8MN",
    "outputId": "35a0bf3e-55b3-4b26-9db8-1ee883321db8"
   },
   "outputs": [],
   "source": [
    "print('R2 score:', metrics.r2_score(y_test, y_pred))"
   ]
  },
  {
   "cell_type": "code",
   "execution_count": null,
   "id": "surprised-telling",
   "metadata": {},
   "outputs": [],
   "source": [
    "fig, ax = plt.subplots(figsize=(12,8))\n",
    "ax.scatter(y_test, y_pred, c='green')\n",
    "ax.plot([y_test.min(), y_test.max()], [y.min(), y.max()], 'k--', lw=4)\n",
    "ax.set_xlabel('Observed 2019 Environmental Intesity')\n",
    "ax.set_ylabel('Predicted 2019 Environmental Intesity')\n",
    "ax.set_title('Linear Regression- Predicting 2019 Environmental intensity using 2016-2018 industry average environmental intensity');"
   ]
  },
  {
   "cell_type": "markdown",
   "id": "tested-moore",
   "metadata": {
    "id": "Ah20qAC3_Smc"
   },
   "source": [
    "### Model 4 -Yearly Industry Indicator\n",
    "\n",
    "For this model, we will consider the yearly industry indicator from past years to predict the company 2019 environmental intensity. \n",
    "\n",
    "We are going to start from 2017-2018 to predict 2019. "
   ]
  },
  {
   "cell_type": "code",
   "execution_count": null,
   "id": "spectacular-latino",
   "metadata": {},
   "outputs": [],
   "source": [
    "df_2019=df_industry_count4[df_industry_count4['Year'] == 2019]\n",
    "df_2018=df_industry_count4[df_industry_count4['Year'] == 2018]\n",
    "df_2017=df_industry_count4[df_industry_count4['Year'] == 2017]\n",
    "\n",
    "df2019=df_2019[['Year','CompanyName','Env_intensity']] \n",
    "df2019.rename(columns={'Env_intensity': 'Env_intensity2019'}, inplace=True) \n",
    "df2018=df_2018[['CompanyName','Industry_indicator_year']]\n",
    "df2018.rename(columns={'Industry_indicator_year': 'Ind_Indicator_2018'}, inplace=True) \n",
    "df2017=df_2017[['CompanyName','Industry_indicator_year']]\n",
    "df2017.rename(columns={'Industry_indicator_year': 'Ind_Indicator_2017'}, inplace=True) \n",
    "mdl4 = pd.merge(df2019, df2018, on=[\"CompanyName\"])\n",
    "mdl4= pd.merge(mdl4, df2017, on=[\"CompanyName\"])\n",
    "mdl4"
   ]
  },
  {
   "cell_type": "code",
   "execution_count": null,
   "id": "unavailable-beach",
   "metadata": {
    "colab": {
     "base_uri": "https://localhost:8080/"
    },
    "id": "GZFdh9yRASsa",
    "outputId": "5873c539-a816-45fd-b71f-b4eb1a1249b4"
   },
   "outputs": [],
   "source": [
    "X=mdl4[['Ind_Indicator_2017','Ind_Indicator_2018']]\n",
    "y=mdl4['Env_intensity2019']\n",
    "print(X.shape)\n",
    "print(y.shape)"
   ]
  },
  {
   "cell_type": "code",
   "execution_count": null,
   "id": "needed-healing",
   "metadata": {
    "id": "9Q83jyJz_Smj"
   },
   "outputs": [],
   "source": [
    "regr = linear_model.LinearRegression()\n",
    "X_train, X_test, y_train, y_test = train_test_split(X,y,test_size=0.2,random_state=42)\n",
    "regr.fit(X_train, y_train)\n",
    "y_train_pred = regr.predict(X_train)\n",
    "y_pred = regr.predict(X_test)"
   ]
  },
  {
   "cell_type": "code",
   "execution_count": null,
   "id": "extra-today",
   "metadata": {
    "colab": {
     "base_uri": "https://localhost:8080/"
    },
    "id": "r9LByzk-_Smk",
    "outputId": "1b4d3190-3789-4c63-e725-738c38256870"
   },
   "outputs": [],
   "source": [
    "print('MSE train: %.3f, test: %.3f' % (metrics.mean_squared_error(y_train, y_train_pred),\n",
    "                metrics.mean_squared_error(y_test, y_pred)))"
   ]
  },
  {
   "cell_type": "code",
   "execution_count": null,
   "id": "smaller-engineering",
   "metadata": {
    "colab": {
     "base_uri": "https://localhost:8080/"
    },
    "id": "nnqv1GCie8MO",
    "outputId": "7d76141d-ea3b-44de-8b6c-c5b6a1826cba"
   },
   "outputs": [],
   "source": [
    "# display the parameters\n",
    "print('Model intercept: ', regr.intercept_)\n",
    "print('Model coefficients: ', regr.coef_)"
   ]
  },
  {
   "cell_type": "code",
   "execution_count": null,
   "id": "indian-eagle",
   "metadata": {
    "colab": {
     "base_uri": "https://localhost:8080/"
    },
    "id": "EWpkxjYbe8MP",
    "outputId": "24016df6-285f-4f76-eeb9-5c4e772773cb"
   },
   "outputs": [],
   "source": [
    "print('R2 score:', metrics.r2_score(y_test, y_pred))"
   ]
  },
  {
   "cell_type": "code",
   "execution_count": null,
   "id": "played-lafayette",
   "metadata": {},
   "outputs": [],
   "source": [
    "fig, ax = plt.subplots(figsize=(12,8))\n",
    "ax.scatter(y_test, y_pred, c='green')\n",
    "ax.plot([y_test.min(), y_test.max()], [y.min(), y.max()], 'k--', lw=4)\n",
    "ax.set_xlabel('Observed 2019 Environmental Intesity')\n",
    "ax.set_ylabel('Predicted 2019 Environmental Intesity')\n",
    "ax.set_title('Linear Regression- Predicting 2019 Environmental intensity using 2017- 2018 industry indicator');"
   ]
  },
  {
   "cell_type": "markdown",
   "id": "operational-context",
   "metadata": {
    "id": "rIs2crAVe8MP"
   },
   "source": [
    "The industry indicator isn't a good predictor for environmental intensity. \n",
    "\n",
    "Let's try including 2016-2018 to predict 2019 environmental intensity. "
   ]
  },
  {
   "cell_type": "code",
   "execution_count": null,
   "id": "nominated-dragon",
   "metadata": {
    "colab": {
     "base_uri": "https://localhost:8080/",
     "height": 204
    },
    "id": "IP1_Vbp0e8MP",
    "outputId": "1e6cd1cd-c3c4-431f-e177-34db3169d43b"
   },
   "outputs": [],
   "source": [
    "df_2016=df_industry_count4[df_industry_count4['Year'] == 2016]\n",
    "df2016=df_2016[['CompanyName','Industry_indicator_year']]\n",
    "df2016.rename(columns={'Industry_indicator_year': 'Ind_Indicator_2016'}, inplace=True) \n",
    "\n",
    "mdl4 = pd.merge(df2019, df2018, on=[\"CompanyName\"])\n",
    "mdl4= pd.merge(mdl4, df2017, on=[\"CompanyName\"])\n",
    "mdl4= pd.merge(mdl4, df2016, on=[\"CompanyName\"])\n",
    "mdl4.head()"
   ]
  },
  {
   "cell_type": "code",
   "execution_count": null,
   "id": "uniform-third",
   "metadata": {
    "colab": {
     "base_uri": "https://localhost:8080/"
    },
    "id": "r7YqZBI3e8MP",
    "outputId": "bd522c07-a266-4eb5-ed19-8bc439bb08bc"
   },
   "outputs": [],
   "source": [
    "X = mdl4[['Ind_Indicator_2016','Ind_Indicator_2017','Ind_Indicator_2018']]\n",
    "y = mdl4['Env_intensity2019']\n",
    "print(X.shape)\n",
    "print(y.shape)"
   ]
  },
  {
   "cell_type": "code",
   "execution_count": null,
   "id": "sensitive-harbor",
   "metadata": {
    "colab": {
     "base_uri": "https://localhost:8080/"
    },
    "id": "QqJ-Tatde8MP",
    "outputId": "1c9cae08-5461-445a-c9f1-6101bb54134d"
   },
   "outputs": [],
   "source": [
    "regr = linear_model.LinearRegression()\n",
    "X_train, X_test, y_train, y_test = train_test_split(X,y,test_size=0.2,random_state=42)\n",
    "regr.fit(X_train, y_train)\n",
    "y_train_pred = regr.predict(X_train)\n",
    "y_pred = regr.predict(X_test)\n",
    "\n",
    "print('MSE train: %.3f, test: %.3f' % (metrics.mean_squared_error(y_train, y_train_pred),\n",
    "                metrics.mean_squared_error(y_test, y_pred)))"
   ]
  },
  {
   "cell_type": "code",
   "execution_count": null,
   "id": "important-familiar",
   "metadata": {
    "colab": {
     "base_uri": "https://localhost:8080/"
    },
    "id": "xiysqbUDe8MQ",
    "outputId": "2d4eacb6-9d6b-4ee6-f860-c43909026fc9"
   },
   "outputs": [],
   "source": [
    "# display the parameters\n",
    "print('Model intercept: ', regr.intercept_)\n",
    "print('Model coefficients: ', regr.coef_)"
   ]
  },
  {
   "cell_type": "code",
   "execution_count": null,
   "id": "according-celebration",
   "metadata": {
    "colab": {
     "base_uri": "https://localhost:8080/"
    },
    "id": "lnwcxbhme8MQ",
    "outputId": "fd2512c2-ea0a-485a-cda9-3c2b7691bfe1"
   },
   "outputs": [],
   "source": [
    "print('R2 score:', metrics.r2_score(y_test, y_pred))"
   ]
  },
  {
   "cell_type": "code",
   "execution_count": null,
   "id": "billion-token",
   "metadata": {},
   "outputs": [],
   "source": [
    "fig, ax = plt.subplots(figsize=(12,8))\n",
    "ax.scatter(y_test, y_pred, c='green')\n",
    "ax.plot([y_test.min(), y_test.max()], [y.min(), y.max()], 'k--', lw=4)\n",
    "ax.set_xlabel('Observed 2019 Environmental Intesity')\n",
    "ax.set_ylabel('Predicted 2019 Environmental Intesity')\n",
    "ax.set_title('Linear Regression- Predicting 2019 Environmental intensity using 2016- 2018 industry average environmental intensity');"
   ]
  },
  {
   "cell_type": "markdown",
   "id": "sunrise-particular",
   "metadata": {
    "id": "8rCtCNrTBbLN"
   },
   "source": [
    "### Model 5 -Growth Rate\n",
    "\n",
    "For this model, we will consider the growth rate from past years to predict the company 2019 environmental intensity.\n",
    "\n",
    "We are going to start from 2017-2018 to predict 2019."
   ]
  },
  {
   "cell_type": "code",
   "execution_count": null,
   "id": "reverse-samba",
   "metadata": {
    "colab": {
     "base_uri": "https://localhost:8080/",
     "height": 419
    },
    "id": "hmCjj9nze8MQ",
    "outputId": "13f93a77-2dd3-411a-e977-235686f168a2"
   },
   "outputs": [],
   "source": [
    "df_2019=df[df['Year'] == 2019]\n",
    "df_2018=df[df['Year'] == 2018]\n",
    "df_2017=df[df['Year'] == 2017]\n",
    "\n",
    "df2019=df_2019[['Year','CompanyName','Env_intensity']] \n",
    "df2019.rename(columns={'Env_intensity': 'Env_intensity2019'}, inplace=True) \n",
    "df2018=df_2018[['CompanyName','Environmental_Growth']]\n",
    "df2018.rename(columns={'Environmental_Growth': 'Environmental_Growth_2018'}, inplace=True) \n",
    "df2017=df_2017[['CompanyName','Environmental_Growth']]\n",
    "df2017.rename(columns={'Environmental_Growth': 'Environmental_Growth_2017'}, inplace=True) \n",
    "mdl5 = pd.merge(df2019, df2018, on=[\"CompanyName\"])\n",
    "mdl5= pd.merge(mdl5, df2017, on=[\"CompanyName\"])\n",
    "mdl5"
   ]
  },
  {
   "cell_type": "code",
   "execution_count": null,
   "id": "classified-addiction",
   "metadata": {
    "colab": {
     "base_uri": "https://localhost:8080/"
    },
    "id": "_jic-gX9hvkb",
    "outputId": "d291bee0-2b13-47c1-dc0e-702fdfdd4f70"
   },
   "outputs": [],
   "source": [
    "mdl5.dropna(inplace = True)#delete rows with missing values\n",
    "mdl5.shape"
   ]
  },
  {
   "cell_type": "code",
   "execution_count": null,
   "id": "entertaining-director",
   "metadata": {
    "colab": {
     "base_uri": "https://localhost:8080/"
    },
    "id": "x87qj419iLBd",
    "outputId": "ed26dc8e-4207-4416-ffcb-4f67f3067494"
   },
   "outputs": [],
   "source": [
    "X=mdl5[['Environmental_Growth_2017','Environmental_Growth_2018']]\n",
    "y=mdl5['Env_intensity2019']\n",
    "print(X.shape)\n",
    "print(y.shape)"
   ]
  },
  {
   "cell_type": "code",
   "execution_count": null,
   "id": "pharmaceutical-eclipse",
   "metadata": {
    "id": "9V0HjSpLh2_i"
   },
   "outputs": [],
   "source": [
    "regr = linear_model.LinearRegression()\n",
    "X_train, X_test, y_train, y_test = train_test_split(X,y,test_size=0.2,random_state=42)\n",
    "regr.fit(X_train, y_train)\n",
    "y_train_pred = regr.predict(X_train)\n",
    "y_pred = regr.predict(X_test)"
   ]
  },
  {
   "cell_type": "code",
   "execution_count": null,
   "id": "expressed-guest",
   "metadata": {
    "colab": {
     "base_uri": "https://localhost:8080/"
    },
    "id": "ojXEXIyLiWRc",
    "outputId": "13074443-ece7-4a35-b0db-7f0ea96a9d4e"
   },
   "outputs": [],
   "source": [
    "print('MSE train: %.3f, test: %.3f' % (metrics.mean_squared_error(y_train, y_train_pred),\n",
    "                metrics.mean_squared_error(y_test, y_pred)))"
   ]
  },
  {
   "cell_type": "code",
   "execution_count": null,
   "id": "expanded-wallpaper",
   "metadata": {
    "colab": {
     "base_uri": "https://localhost:8080/"
    },
    "id": "bbKxgMMgiY7j",
    "outputId": "a9eafbb2-59a6-4b9d-f55b-25a6f746f4c0"
   },
   "outputs": [],
   "source": [
    "# display the parameters\n",
    "print('Model intercept: ', regr.intercept_)\n",
    "print('Model coefficients: ', regr.coef_)"
   ]
  },
  {
   "cell_type": "code",
   "execution_count": null,
   "id": "strategic-economy",
   "metadata": {
    "colab": {
     "base_uri": "https://localhost:8080/"
    },
    "id": "I9-v46Liiba2",
    "outputId": "e13a6ec6-1290-4e56-8994-23b92b5648ff"
   },
   "outputs": [],
   "source": [
    "print('R2 score:', metrics.r2_score(y_test, y_pred))"
   ]
  },
  {
   "cell_type": "code",
   "execution_count": null,
   "id": "adverse-carroll",
   "metadata": {},
   "outputs": [],
   "source": [
    "fig, ax = plt.subplots(figsize=(12,8))\n",
    "ax.scatter(y_test, y_pred, c='green')\n",
    "ax.plot([y_test.min(), y_test.max()], [y.min(), y.max()], 'k--', lw=4)\n",
    "ax.set_xlabel('Observed 2019 Environmental Intesity')\n",
    "ax.set_ylabel('Predicted 2019 Environmental Intesity')\n",
    "ax.set_title('Linear Regression- Predicting 2019 Environmental intensity using 2017- 2018 growth rate');"
   ]
  },
  {
   "cell_type": "markdown",
   "id": "brilliant-alexandria",
   "metadata": {
    "id": "ATYLOa_DjLzQ"
   },
   "source": [
    "The growth rate isn't a good predictor for environmental intensity. Let's try including 2016-2018 to predict 2019 environmental intensity."
   ]
  },
  {
   "cell_type": "code",
   "execution_count": null,
   "id": "approximate-drain",
   "metadata": {
    "colab": {
     "base_uri": "https://localhost:8080/"
    },
    "id": "ELQK1t6GkxfQ",
    "outputId": "d2130491-36a2-420e-be15-13379bbd1781"
   },
   "outputs": [],
   "source": [
    "df_2016=df[df['Year'] == 2016]\n",
    "df_2016.info()"
   ]
  },
  {
   "cell_type": "code",
   "execution_count": null,
   "id": "fifteen-joshua",
   "metadata": {
    "colab": {
     "base_uri": "https://localhost:8080/"
    },
    "id": "jvtrj_iNjtcU",
    "outputId": "68171d7b-6e16-4d46-d8fd-53ebdcb5e945"
   },
   "outputs": [],
   "source": [
    "df_2016=df[df['Year'] == 2016]\n",
    "df2016=df_2016[['CompanyName','Environmental_Growth']]\n",
    "df2016.rename(columns={'Environmental_Growth': 'Environmental_Growth_2016'}, inplace=True) \n",
    "\n",
    "mdl5 = pd.merge(df2016, df2017, on=[\"CompanyName\"])\n",
    "mdl5= pd.merge(mdl5, df2018, on=[\"CompanyName\"])\n",
    "mdl5= pd.merge(mdl5, df2019, on=[\"CompanyName\"])\n",
    "mdl5.dropna(inplace=True)\n",
    "mdl5.head()"
   ]
  },
  {
   "cell_type": "code",
   "execution_count": null,
   "id": "facial-qualification",
   "metadata": {},
   "outputs": [],
   "source": [
    "X=mdl5[['Environmental_Growth_2016','Environmental_Growth_2017','Environmental_Growth_2018']]\n",
    "y=mdl5['Env_intensity2019']\n",
    "print(X.shape)\n",
    "print(y.shape)"
   ]
  },
  {
   "cell_type": "code",
   "execution_count": null,
   "id": "aquatic-pathology",
   "metadata": {
    "id": "a7SQliM0lbrB"
   },
   "outputs": [],
   "source": [
    "regr = linear_model.LinearRegression()\n",
    "X_train, X_test, y_train, y_test = train_test_split(X,y,test_size=0.2,random_state=42)\n",
    "regr.fit(X_train, y_train)\n",
    "y_train_pred = regr.predict(X_train)\n",
    "y_pred = regr.predict(X_test)\n",
    "\n",
    "print('MSE train: %.3f, test: %.3f' % (metrics.mean_squared_error(y_train, y_train_pred),\n",
    "                metrics.mean_squared_error(y_test, y_pred)))"
   ]
  },
  {
   "cell_type": "code",
   "execution_count": null,
   "id": "dominican-barbados",
   "metadata": {},
   "outputs": [],
   "source": [
    "# display the parameters\n",
    "print('Model intercept: ', regr.intercept_)\n",
    "print('Model coefficients: ', regr.coef_)"
   ]
  },
  {
   "cell_type": "code",
   "execution_count": null,
   "id": "union-picking",
   "metadata": {},
   "outputs": [],
   "source": [
    "print('R2 score:', metrics.r2_score(y_test, y_pred))"
   ]
  },
  {
   "cell_type": "code",
   "execution_count": null,
   "id": "fluid-rating",
   "metadata": {},
   "outputs": [],
   "source": [
    "fig, ax = plt.subplots(figsize=(12,8))\n",
    "ax.scatter(y_test, y_pred, c='green')\n",
    "ax.plot([y_test.min(), y_test.max()], [y.min(), y.max()], 'k--', lw=4)\n",
    "ax.set_xlabel('Observed 2019 Environmental Intesity')\n",
    "ax.set_ylabel('Predicted 2019 Environmental Intesity')\n",
    "ax.set_title('Linear Regression- Predicting 2019 Environmental intensity using 2016- 2018 growth rate');"
   ]
  },
  {
   "cell_type": "markdown",
   "id": "sealed-airline",
   "metadata": {
    "id": "otRewEhUe8MR"
   },
   "source": [
    "Again, we see that each coefficient is negative which could be interpret that an increase in environmental growth decreases the environmental intensity for 2019. R1 score is also negative (is worse that a horizontal line) which mean we can discard this regression.\n",
    "\n",
    "## Individual model conclusions\n",
    "\n",
    "As expected, using Environmental intensity from previous years had better accuracy to predict the next year Environmental intensity. We proved that in Model 1 and Model 2 were the regression was able to explain 88% of the variance.\n",
    "\n",
    "When using the industry average for each year, the model was able to explain around 30-34% of the variance. Moreover, by running these regressions, we concluded that the envirionmental growth from previous years isn't a good predictor.\n",
    "\n",
    "However, maybe the industry indicator and growth rate would help explain the future environmental intensity better if we combine this features with previous models. For example, predicting 2019 environmental intensity using last years environmental intensity, industry indicator, average industry and growth rate. \n",
    "\n",
    "Let's see what happens!\n",
    "\n",
    "## Building new predictive models by combinig features \n",
    "\n",
    "In this section, we will create a function to calculate the desired future environmental intensity using different features.\n",
    " "
   ]
  },
  {
   "cell_type": "code",
   "execution_count": null,
   "id": "vocal-jackson",
   "metadata": {},
   "outputs": [],
   "source": [
    "years = [2016, 2017, 2018]\n",
    "df_c = df_industry_count4.copy()\n",
    "def predictiveModel(outcomeYear, pastYears, df_c):\n",
    "    years.sort()\n",
    "    for year in years:\n",
    "        data = df_c[df_c['Year'] == year]\n",
    "        data = data.loc[:,['CompanyName','Env_intensity','industry_avg_year']]\n",
    "        data.rename(columns={'Env_intensity': f'Env_intensity_{year}','industry_avg_year':f'industry_avg_year_{year}'}, inplace=True) \n",
    "        if(year == min(years)):\n",
    "            data1 = pd.DataFrame(data)\n",
    "        else:\n",
    "            data2 = pd.merge(data1, data, on=[\"CompanyName\"])\n",
    "            data1 = data2.copy()\n",
    "    data3 = df_c[df_c['Year'] == outcomeYear]\n",
    "    data3 = data3[['CompanyName','Env_intensity','industry_avg_year']]\n",
    "    data3.rename(columns={'Env_intensity': f'Env_intensity_{outcomeYear}','industry_avg_year':f'industry_avg_year_{outcomeYear}'}, inplace=True) \n",
    "    data3 = pd.merge(data3, data2, on=[\"CompanyName\"])\n",
    "    \n",
    "    filter_col = [col for col in data3 if ((col.startswith('Env_intensity') and not(col.endswith(f'{outcomeYear}')))) or ((col.startswith('industry_avg_year') and not(col.endswith(f'{outcomeYear}'))))]\n",
    "    outcome_col = [col for col in data3 if (col.startswith('Env_intensity') and col.endswith(f'{outcomeYear}'))]\n",
    "    X=data3[filter_col]\n",
    "    y=data3[outcome_col]\n",
    "    \n",
    "    regr = linear_model.LinearRegression()\n",
    "    X_train, X_test, y_train, y_test = train_test_split(X,y,test_size=0.2,random_state=42)\n",
    "    regr.fit(X_train, y_train)\n",
    "    y_train_pred = regr.predict(X_train)\n",
    "    y_pred = regr.predict(X_test)\n",
    "\n",
    "    print('MSE train: %.3f, test: %.3f' % (metrics.mean_squared_error(y_train, y_train_pred),\n",
    "                    metrics.mean_squared_error(y_test, y_pred)))\n",
    "    \n",
    "    # display the parameters\n",
    "    print('Model intercept: ', regr.intercept_)\n",
    "    print('Model coefficients: ', regr.coef_)\n",
    "    \n",
    "    print('R2 score:', metrics.r2_score(y_test, y_pred))\n",
    "    \n",
    "    fig, ax = plt.subplots(figsize=(12,8))\n",
    "    ax.scatter(y_test, y_pred, c='green')\n",
    "    ax.plot([y_test.min(), y_test.max()], [y.min(), y.max()], 'k--', lw=4)\n",
    "    ax.set_xlabel(f'Observed {outcomeYear} Environmental Intesity')\n",
    "    ax.set_ylabel(f'Predicted {outcomeYear} Environmental Intesity')\n",
    "    ax.set_title(f'Predicting {outcomeYear} Environmental intensity using {years} environmental intensity and industry average');"
   ]
  },
  {
   "cell_type": "code",
   "execution_count": null,
   "id": "chicken-crossing",
   "metadata": {},
   "outputs": [],
   "source": [
    "predictiveModel(2019, years, df_c)"
   ]
  },
  {
   "cell_type": "markdown",
   "id": "valuable-percentage",
   "metadata": {},
   "source": [
    "Now, we are going to create another function that will create a predictive model using environmental intensity, industry average and industry indicator."
   ]
  },
  {
   "cell_type": "code",
   "execution_count": null,
   "id": "academic-coalition",
   "metadata": {},
   "outputs": [],
   "source": [
    "def predictiveModel1(outcomeYear, pastYears, df_c):\n",
    "    years.sort()\n",
    "    for year in years:\n",
    "        data = df_c[df_c['Year'] == year]\n",
    "        data = data.loc[:,['CompanyName','Env_intensity','industry_avg_year','Industry_indicator_year']]\n",
    "        data.rename(columns={'Env_intensity': f'Env_intensity_{year}','industry_avg_year':f'industry_avg_year_{year}', 'Industry_indicator_year' : f'Industry_indicator_year_{year}'}, inplace=True) \n",
    "        if(year == min(years)):\n",
    "            data1 = pd.DataFrame(data)\n",
    "        else:\n",
    "            data2 = pd.merge(data1, data, on=[\"CompanyName\"])\n",
    "            data1 = data2.copy()\n",
    "    data3 = df_c[df_c['Year'] == outcomeYear]\n",
    "    data3 = data3[['CompanyName','Env_intensity']]\n",
    "    data3.rename(columns={'Env_intensity': f'Env_intensity_{outcomeYear}'}, inplace=True) \n",
    "    data3 = pd.merge(data3, data2, on=[\"CompanyName\"])\n",
    "    \n",
    "    filter_col = [col for col in data3 if ((col.startswith('Env_intensity') and not(col.endswith(f'{outcomeYear}')))) or ((col.startswith('industry_avg_year') and not(col.endswith(f'{outcomeYear}')))) or ((col.startswith('Industry_indicator_year_') and not(col.endswith(f'{outcomeYear}'))))]            \n",
    "    outcome_col = [col for col in data3 if (col.startswith('Env_intensity') and col.endswith(f'{outcomeYear}'))]\n",
    "    X=data3[filter_col]\n",
    "    y=data3[outcome_col]\n",
    "    \n",
    "    regr = linear_model.LinearRegression()\n",
    "    X_train, X_test, y_train, y_test = train_test_split(X,y,test_size=0.2,random_state=42)\n",
    "    regr.fit(X_train, y_train)\n",
    "    y_train_pred = regr.predict(X_train)\n",
    "    y_pred = regr.predict(X_test)\n",
    "\n",
    "    print('MSE train: %.3f, test: %.3f' % (metrics.mean_squared_error(y_train, y_train_pred),\n",
    "                    metrics.mean_squared_error(y_test, y_pred)))\n",
    "    \n",
    "    # display the parameters\n",
    "    print('Model intercept: ', regr.intercept_)\n",
    "    print('Model coefficients: ', regr.coef_)\n",
    "    \n",
    "    print('R2 score:', metrics.r2_score(y_test, y_pred))\n",
    "    \n",
    "    fig, ax = plt.subplots(figsize=(12,8))\n",
    "    ax.scatter(y_test, y_pred, c='red')\n",
    "    ax.plot([y_test.min(), y_test.max()], [y.min(), y.max()], 'k--', lw=4)\n",
    "    ax.set_xlabel(f'Observed {outcomeYear} Environmental Intesity')\n",
    "    ax.set_ylabel(f'Predicted {outcomeYear} Environmental Intesity')\n",
    "    ax.set_title(f'Predicting {outcomeYear} Environmental intensity using {years} environmental intensity, industry average and industry indicator');"
   ]
  },
  {
   "cell_type": "code",
   "execution_count": null,
   "id": "jewish-empty",
   "metadata": {},
   "outputs": [],
   "source": [
    "predictiveModel1(2019, years, df_c)"
   ]
  },
  {
   "cell_type": "markdown",
   "id": "altered-consequence",
   "metadata": {},
   "source": [
    "Now, we are going to create a third function that will create a predictive model using past years environmental intensity, industry average, industry indicator and environmental growth. "
   ]
  },
  {
   "cell_type": "code",
   "execution_count": null,
   "id": "certain-potato",
   "metadata": {},
   "outputs": [],
   "source": [
    "def predictiveModel3(outcomeYear, pastYears, df_c):\n",
    "    years.sort()\n",
    "    for year in years:\n",
    "        data = df_c[df_c['Year'] == year]\n",
    "        data = data.loc[:,['CompanyName','Env_intensity','industry_avg_year','Industry_indicator_year','Environmental_Growth']]\n",
    "        data.rename(columns={'Env_intensity': f'Env_intensity_{year}','industry_avg_year':f'industry_avg_year_{year}', 'Industry_indicator_year' : f'Industry_indicator_year_{year}', 'Environmental_Growth': f'Environmental_Growth_{year}'}, inplace=True) \n",
    "        if(year == min(years)):\n",
    "            data1 = pd.DataFrame(data)\n",
    "        else:\n",
    "            data2 = pd.merge(data1, data, on=[\"CompanyName\"])\n",
    "            data1 = data2.copy()\n",
    "    data2.dropna(inplace=True)\n",
    "    data3 = df_c[df_c['Year'] == outcomeYear]\n",
    "    data3 = data3[['CompanyName','Env_intensity']]\n",
    "    data3.rename(columns={'Env_intensity': f'Env_intensity_{outcomeYear}'}, inplace=True) \n",
    "    data3 = pd.merge(data3, data2, on=[\"CompanyName\"])\n",
    "    \n",
    "    filter_col = [col for col in data3 if ((col.startswith('Env_intensity') and not(col.endswith(f'{outcomeYear}')))) or ((col.startswith('industry_avg_year') and not(col.endswith(f'{outcomeYear}')))) or ((col.startswith('Industry_indicator_year_') and not(col.endswith(f'{outcomeYear}')))) or ((col.startswith('Environmental_Growth_') and not(col.endswith(f'{outcomeYear}'))))]            \n",
    "    outcome_col = [col for col in data3 if (col.startswith('Env_intensity') and col.endswith(f'{outcomeYear}'))]\n",
    "    X=data3[filter_col]\n",
    "    y=data3[outcome_col]\n",
    "    \n",
    "    regr = linear_model.LinearRegression()\n",
    "    X_train, X_test, y_train, y_test = train_test_split(X,y,test_size=0.2,random_state=42)\n",
    "    regr.fit(X_train, y_train)\n",
    "    y_train_pred = regr.predict(X_train)\n",
    "    y_pred = regr.predict(X_test)\n",
    "\n",
    "    print('MSE train: %.3f, test: %.3f' % (metrics.mean_squared_error(y_train, y_train_pred),\n",
    "                    metrics.mean_squared_error(y_test, y_pred)))\n",
    "    \n",
    "    # display the parameters\n",
    "    print('Model intercept: ', regr.intercept_)\n",
    "    print('Model coefficients: ', regr.coef_)\n",
    "    \n",
    "    print('R2 score:', metrics.r2_score(y_test, y_pred))\n",
    "    \n",
    "    fig, ax = plt.subplots(figsize=(12,8))\n",
    "    ax.scatter(y_test, y_pred, c='blue')\n",
    "    ax.plot([y_test.min(), y_test.max()], [y.min(), y.max()], 'k--', lw=4)\n",
    "    ax.set_xlabel(f'Observed {outcomeYear} Environmental Intesity')\n",
    "    ax.set_ylabel(f'Predicted {outcomeYear} Environmental Intesity')\n",
    "    ax.set_title(f'Predicting {outcomeYear} Environmental intensity using {years} environmental intensity, industry average, industry indicator and environmental growth');\n",
    "    \n",
    "    \n",
    "    "
   ]
  },
  {
   "cell_type": "code",
   "execution_count": null,
   "id": "union-reproduction",
   "metadata": {},
   "outputs": [],
   "source": [
    "predictiveModel3(2019, years, df_c)"
   ]
  },
  {
   "cell_type": "markdown",
   "id": "warming-complex",
   "metadata": {},
   "source": [
    "## Conclusion - Predictive models\n",
    "\n",
    "Awesome results! By combining the predictors from the individual models, we were able to yield a lowers MSE and a higher R2 Score. When using past years environmental intensity and indsutry average, the linear model is able to explain 94.5% of the variance in the dataset. By including the industry indicator, it explains 94.6% and lastly, by including all four, it explains 90% of the variance. Even the lowest R2 Score (90%) was able to explain more than when considering the models with only one predictor. \n",
    "\n",
    "## Collect the Company Description\n",
    "\n",
    "In this section, we will grab the company description directly from the Yahoo Finance website. We started with the pilot stocks but plan to see the possibility of mapping the ISIN with their corresponding ticker and be able to grab the company description"
   ]
  },
  {
   "cell_type": "code",
   "execution_count": null,
   "id": "material-machinery",
   "metadata": {
    "id": "y2jk8L-9e8MR"
   },
   "outputs": [],
   "source": [
    "tickers_df = pd.read_csv('/Users/maralinetorres/Documents/GitHub/Predicting-Environmental-and-Social-Actions/Datasets/52_tickers_sectors.csv')"
   ]
  },
  {
   "cell_type": "code",
   "execution_count": null,
   "id": "literary-piano",
   "metadata": {
    "id": "rVUJ6qFce8MR"
   },
   "outputs": [],
   "source": [
    "tickers = tickers_df.Ticker"
   ]
  },
  {
   "cell_type": "code",
   "execution_count": null,
   "id": "smoking-completion",
   "metadata": {
    "id": "MlMORJFte8MR"
   },
   "outputs": [],
   "source": [
    "# Create a loop to store URLs of all stocks' description page\n",
    "URL = [] \n",
    "DES = [] \n",
    "comp_desc = {}\n",
    "for i in tickers: \n",
    "  url ='https://finance.yahoo.com/quote/'+i+'/profile' \n",
    "  URL.append(url)\n",
    "  page = requests.get(url) # visits the URL \n",
    "  htmldata = BeautifulSoup(page.content, 'html.parser')\n",
    "  Business_Description = htmldata.find('p',{'class':'Mt(15px) Lh(1.6)'}) # finds the business description part in the HTML code\n",
    "  DES.append(Business_Description)\n",
    "  comp_desc[i] = [Business_Description]"
   ]
  },
  {
   "cell_type": "code",
   "execution_count": null,
   "id": "minute-forge",
   "metadata": {},
   "outputs": [],
   "source": [
    "df_comp_desc = pd.DataFrame.from_dict(comp_desc, orient='index', columns = ['Description'])\n",
    "df_comp_desc.reset_index(inplace = True)\n",
    "df_comp_desc.rename(columns = {'index':'Ticker'}, inplace=True)\n",
    "df_comp_desc.head()"
   ]
  },
  {
   "cell_type": "code",
   "execution_count": null,
   "id": "changed-summary",
   "metadata": {},
   "outputs": [],
   "source": [
    "df_comp_desc.to_csv('52ticker_companydescription.csv',index=False)"
   ]
  },
  {
   "cell_type": "markdown",
   "id": "beginning-fiction",
   "metadata": {
    "id": "3DEKQVp4e8MS"
   },
   "source": [
    "In the next sprint, we plan to do some text analysis to the company descriptions (tokenizations, sentiment, etc) and maybe consider adding the company description to the Sprint #4 models to better predict the GHG Scope 1. "
   ]
  }
 ],
 "metadata": {
  "colab": {
   "name": "Sprint6_PredictingTimeSeries1.ipynb",
   "provenance": []
  },
  "kernelspec": {
   "display_name": "Python 3",
   "language": "python",
   "name": "python3"
  },
  "language_info": {
   "codemirror_mode": {
    "name": "ipython",
    "version": 3
   },
   "file_extension": ".py",
   "mimetype": "text/x-python",
   "name": "python",
   "nbconvert_exporter": "python",
   "pygments_lexer": "ipython3",
   "version": "3.8.8"
  }
 },
 "nbformat": 4,
 "nbformat_minor": 5
}
