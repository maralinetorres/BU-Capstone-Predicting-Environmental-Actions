{
  "nbformat": 4,
  "nbformat_minor": 0,
  "metadata": {
    "colab": {
      "name": "DistBert and level regressions.ipynb",
      "provenance": []
    },
    "kernelspec": {
      "name": "python3",
      "display_name": "Python 3"
    },
    "language_info": {
      "name": "python"
    }
  },
  "cells": [
    {
      "cell_type": "markdown",
      "metadata": {
        "id": "IQQr3EKJvBDs"
      },
      "source": [
        "Load necessary libraries. "
      ]
    },
    {
      "cell_type": "code",
      "metadata": {
        "id": "jqp-edRPpo7A"
      },
      "source": [
        "import requests\n",
        "from bs4 import BeautifulSoup\n",
        "import numpy as np\n",
        "import pandas as pd\n",
        "import os"
      ],
      "execution_count": 2,
      "outputs": []
    },
    {
      "cell_type": "markdown",
      "metadata": {
        "id": "ZkImhmlxvD8h"
      },
      "source": [
        "Load the tickers data. "
      ]
    },
    {
      "cell_type": "code",
      "metadata": {
        "id": "2pkErZUQp1MM",
        "colab": {
          "base_uri": "https://localhost:8080/",
          "height": 423
        },
        "outputId": "2ca9d22d-9a55-4bfe-aa70-ed8256c55085"
      },
      "source": [
        "tickers = pd.read_csv('Companydescription.csv') # load tickers.csv \n",
        "tickers"
      ],
      "execution_count": 5,
      "outputs": [
        {
          "output_type": "execute_result",
          "data": {
            "text/html": [
              "<div>\n",
              "<style scoped>\n",
              "    .dataframe tbody tr th:only-of-type {\n",
              "        vertical-align: middle;\n",
              "    }\n",
              "\n",
              "    .dataframe tbody tr th {\n",
              "        vertical-align: top;\n",
              "    }\n",
              "\n",
              "    .dataframe thead th {\n",
              "        text-align: right;\n",
              "    }\n",
              "</style>\n",
              "<table border=\"1\" class=\"dataframe\">\n",
              "  <thead>\n",
              "    <tr style=\"text-align: right;\">\n",
              "      <th></th>\n",
              "      <th>Ticker</th>\n",
              "      <th>Description</th>\n",
              "    </tr>\n",
              "  </thead>\n",
              "  <tbody>\n",
              "    <tr>\n",
              "      <th>0</th>\n",
              "      <td>1COV</td>\n",
              "      <td>NaN</td>\n",
              "    </tr>\n",
              "    <tr>\n",
              "      <th>1</th>\n",
              "      <td>A</td>\n",
              "      <td>NaN</td>\n",
              "    </tr>\n",
              "    <tr>\n",
              "      <th>2</th>\n",
              "      <td>AAL</td>\n",
              "      <td>NaN</td>\n",
              "    </tr>\n",
              "    <tr>\n",
              "      <th>3</th>\n",
              "      <td>AAL.L</td>\n",
              "      <td>NaN</td>\n",
              "    </tr>\n",
              "    <tr>\n",
              "      <th>4</th>\n",
              "      <td>AAP</td>\n",
              "      <td>NaN</td>\n",
              "    </tr>\n",
              "    <tr>\n",
              "      <th>...</th>\n",
              "      <td>...</td>\n",
              "      <td>...</td>\n",
              "    </tr>\n",
              "    <tr>\n",
              "      <th>863</th>\n",
              "      <td>ZBH</td>\n",
              "      <td>NaN</td>\n",
              "    </tr>\n",
              "    <tr>\n",
              "      <th>864</th>\n",
              "      <td>ZBRA</td>\n",
              "      <td>NaN</td>\n",
              "    </tr>\n",
              "    <tr>\n",
              "      <th>865</th>\n",
              "      <td>ZION</td>\n",
              "      <td>NaN</td>\n",
              "    </tr>\n",
              "    <tr>\n",
              "      <th>866</th>\n",
              "      <td>ZTS</td>\n",
              "      <td>NaN</td>\n",
              "    </tr>\n",
              "    <tr>\n",
              "      <th>867</th>\n",
              "      <td>ZURN</td>\n",
              "      <td>NaN</td>\n",
              "    </tr>\n",
              "  </tbody>\n",
              "</table>\n",
              "<p>868 rows × 2 columns</p>\n",
              "</div>"
            ],
            "text/plain": [
              "    Ticker  Description\n",
              "0     1COV          NaN\n",
              "1        A          NaN\n",
              "2      AAL          NaN\n",
              "3    AAL.L          NaN\n",
              "4      AAP          NaN\n",
              "..     ...          ...\n",
              "863    ZBH          NaN\n",
              "864   ZBRA          NaN\n",
              "865   ZION          NaN\n",
              "866    ZTS          NaN\n",
              "867   ZURN          NaN\n",
              "\n",
              "[868 rows x 2 columns]"
            ]
          },
          "metadata": {
            "tags": []
          },
          "execution_count": 5
        }
      ]
    },
    {
      "cell_type": "code",
      "metadata": {
        "colab": {
          "base_uri": "https://localhost:8080/"
        },
        "id": "4opa5WVG7PDU",
        "outputId": "c3cc8ea5-c3dd-4281-c047-f4a106e22b68"
      },
      "source": [
        "boolean = tickers['Ticker'].duplicated().any() \n",
        "boolean"
      ],
      "execution_count": 8,
      "outputs": [
        {
          "output_type": "execute_result",
          "data": {
            "text/plain": [
              "False"
            ]
          },
          "metadata": {
            "tags": []
          },
          "execution_count": 8
        }
      ]
    },
    {
      "cell_type": "code",
      "metadata": {
        "id": "cFynv5AjRuA3"
      },
      "source": [
        ""
      ],
      "execution_count": null,
      "outputs": []
    },
    {
      "cell_type": "markdown",
      "metadata": {
        "id": "quJukL_avGJE"
      },
      "source": [
        "Loop through the tickers and get for each ticker a respective URL and business description. Note that for example purposes `ticker` variable is limited to the first 5 (`[:5]`) items, remove it if you want to run the loop for the whole sample. The loop for all observations might take 30+ minutes."
      ]
    },
    {
      "cell_type": "code",
      "metadata": {
        "id": "62Pq8qwSpthC"
      },
      "source": [
        "# Create a loop to store URLs of all stocks' description page\n",
        "URL = [] # empty list for URLs\n",
        "DES = [] # empty list for descriptions \n",
        "ticker = tickers['Ticker'] .head()\n",
        "for i in ticker: \n",
        "  url ='https://finance.yahoo.com/quote/'+i+'/profile' \n",
        "  URL.append(url)\n",
        "  page = requests.get(url) # visits the URL \n",
        "  htmldata = BeautifulSoup(page.content, 'html.parser')\n",
        "  Business_Description = htmldata.find('p',{'class':'Mt(15px) Lh(1.6)'}) # finds the business description part in the HTML code\n",
        "  DES.append(Business_Description)"
      ],
      "execution_count": 9,
      "outputs": []
    },
    {
      "cell_type": "code",
      "metadata": {
        "id": "pQo20wBuqGNr",
        "colab": {
          "base_uri": "https://localhost:8080/"
        },
        "outputId": "3231f0fe-6590-4ae4-e2f7-bb0483855cbd"
      },
      "source": [
        "# print(URL)\n",
        "print(DES) # check the descriptions"
      ],
      "execution_count": 10,
      "outputs": [
        {
          "output_type": "stream",
          "text": [
            "[None, None, None, None, None]\n"
          ],
          "name": "stdout"
        }
      ]
    },
    {
      "cell_type": "markdown",
      "metadata": {
        "id": "_NHX62EgwCSr"
      },
      "source": [
        "Convert the results to pandas dataframe. "
      ]
    },
    {
      "cell_type": "code",
      "metadata": {
        "colab": {
          "base_uri": "https://localhost:8080/",
          "height": 206
        },
        "id": "17IMPVv8qVj6",
        "outputId": "33909790-fd2d-4f05-bec5-a640ce424627"
      },
      "source": [
        "# Create new data frame that stores ticker, description of corresponding tickers \n",
        "company_des = pd.DataFrame({'ticker':ticker,'description':DES})\n",
        "company_des.head()"
      ],
      "execution_count": 11,
      "outputs": [
        {
          "output_type": "execute_result",
          "data": {
            "text/html": [
              "<div>\n",
              "<style scoped>\n",
              "    .dataframe tbody tr th:only-of-type {\n",
              "        vertical-align: middle;\n",
              "    }\n",
              "\n",
              "    .dataframe tbody tr th {\n",
              "        vertical-align: top;\n",
              "    }\n",
              "\n",
              "    .dataframe thead th {\n",
              "        text-align: right;\n",
              "    }\n",
              "</style>\n",
              "<table border=\"1\" class=\"dataframe\">\n",
              "  <thead>\n",
              "    <tr style=\"text-align: right;\">\n",
              "      <th></th>\n",
              "      <th>ticker</th>\n",
              "      <th>description</th>\n",
              "    </tr>\n",
              "  </thead>\n",
              "  <tbody>\n",
              "    <tr>\n",
              "      <th>0</th>\n",
              "      <td>1COV</td>\n",
              "      <td>None</td>\n",
              "    </tr>\n",
              "    <tr>\n",
              "      <th>1</th>\n",
              "      <td>A</td>\n",
              "      <td>None</td>\n",
              "    </tr>\n",
              "    <tr>\n",
              "      <th>2</th>\n",
              "      <td>AAL</td>\n",
              "      <td>None</td>\n",
              "    </tr>\n",
              "    <tr>\n",
              "      <th>3</th>\n",
              "      <td>AAL.L</td>\n",
              "      <td>None</td>\n",
              "    </tr>\n",
              "    <tr>\n",
              "      <th>4</th>\n",
              "      <td>AAP</td>\n",
              "      <td>None</td>\n",
              "    </tr>\n",
              "  </tbody>\n",
              "</table>\n",
              "</div>"
            ],
            "text/plain": [
              "  ticker description\n",
              "0   1COV        None\n",
              "1      A        None\n",
              "2    AAL        None\n",
              "3  AAL.L        None\n",
              "4    AAP        None"
            ]
          },
          "metadata": {
            "tags": []
          },
          "execution_count": 11
        }
      ]
    },
    {
      "cell_type": "markdown",
      "metadata": {
        "id": "UcraVqVowIlr"
      },
      "source": [
        "Drop tickers with no descriptions. Convert the `description` variable to string. "
      ]
    },
    {
      "cell_type": "markdown",
      "metadata": {
        "id": "lb6N7zSXwVBB"
      },
      "source": [
        "Clean the data: remove NAs, convert to string and remove HTML code attributes. "
      ]
    },
    {
      "cell_type": "code",
      "metadata": {
        "id": "pyp4QRsUqt2J"
      },
      "source": [
        "# Drop the stocks that do not have Yahoo Finance company profiles \n",
        "company_des.dropna(inplace=True)\n",
        "company_des['description'] = company_des['description'].astype(str)\n",
        "\n",
        "# Remove regex text from description using loop \n",
        "a = np.arange(1,300)\n",
        "a = a.astype(str)\n",
        "for i in a:\n",
        "  company_des['description']=company_des['description'].str.replace('<p class=\"Mt(15px) Lh(1.6)\" data-reactid=\"'+i+'\">','',regex=False)\n",
        "\n",
        "company_des['description']=company_des['description'].str.replace('</p>','',regex=False)"
      ],
      "execution_count": null,
      "outputs": []
    },
    {
      "cell_type": "code",
      "metadata": {
        "id": "WfUGfKC8q1OT"
      },
      "source": [
        "# company_des.head()"
      ],
      "execution_count": null,
      "outputs": []
    },
    {
      "cell_type": "markdown",
      "metadata": {
        "id": "yQoOTLcDU-FS"
      },
      "source": [
        "Export the data"
      ]
    },
    {
      "cell_type": "code",
      "metadata": {
        "id": "gTPalGPWq1in"
      },
      "source": [
        "# Export company_des into a csv file\n",
        "company_des.to_csv(r'154stock_des.csv', index = False, header=True)"
      ],
      "execution_count": null,
      "outputs": []
    },
    {
      "cell_type": "code",
      "metadata": {
        "id": "a9zVdFe4Bvjg"
      },
      "source": [
        ""
      ],
      "execution_count": null,
      "outputs": []
    },
    {
      "cell_type": "markdown",
      "metadata": {
        "id": "ARfYc-twQUb_"
      },
      "source": [
        "Define the function to transform the percentage into number in EI"
      ]
    },
    {
      "cell_type": "code",
      "metadata": {
        "id": "9MU12nnWBvgg"
      },
      "source": [
        "def p2f(x):\n",
        "    return float(x.strip('%'))/100"
      ],
      "execution_count": 13,
      "outputs": []
    },
    {
      "cell_type": "code",
      "metadata": {
        "id": "USuFWoxmBveH"
      },
      "source": [
        "ind=pd.read_csv('Environmental_impact_cleaned.csv')\n",
        "ind['EnvironmentalIntensity(Sales)'] = ind['EnvironmentalIntensity(Sales)'].apply(p2f)\n",
        "y2018=list(ind[ind['Year'] == 2018]['EnvironmentalIntensity(Sales)'])\n",
        "y2018=pd.Series(y2018)"
      ],
      "execution_count": 14,
      "outputs": []
    },
    {
      "cell_type": "code",
      "metadata": {
        "colab": {
          "base_uri": "https://localhost:8080/"
        },
        "id": "9V0kmvh5BvYj",
        "outputId": "949ae054-9290-405a-9cb8-552600e720fc"
      },
      "source": [
        "from statsmodels.tsa.stattools import adfuller\n",
        "X = y2018.values\n",
        "result = adfuller(X)\n",
        "split = round(len(X) / 2)\n",
        "X1, X2 = X[0:split], X[split:]\n",
        "mean1, mean2 = X1.mean(), X2.mean()\n",
        "var1, var2 = X1.var(), X2.var()\n",
        "print('mean1=%f, mean2=%f' % (mean1, mean2))\n",
        "print('variance1=%f, variance2=%f' % (var1, var2))\n",
        "print('ADF Statistic: %f' % result[0])\n",
        "print('p-value: %f' % result[1])\n",
        "print('Critical Values:')\n",
        "for key, value in result[4].items():\n",
        "\tprint('\\t%s: %.3f' % (key, value))\n"
      ],
      "execution_count": 26,
      "outputs": [
        {
          "output_type": "stream",
          "text": [
            "mean1=-0.129262, mean2=-0.101468\n",
            "variance1=0.094017, variance2=0.052920\n",
            "ADF Statistic: -24.980342\n",
            "p-value: 0.000000\n",
            "Critical Values:\n",
            "\t1%: -3.434\n",
            "\t5%: -2.863\n",
            "\t10%: -2.568\n"
          ],
          "name": "stdout"
        }
      ]
    },
    {
      "cell_type": "code",
      "metadata": {
        "colab": {
          "base_uri": "https://localhost:8080/"
        },
        "id": "wOUQAOPHKD7V",
        "outputId": "c9c1fe65-af5f-4854-d913-d16c51704da8"
      },
      "source": [
        "y2017=list(ind[ind['Year'] == 2017]['EnvironmentalIntensity(Sales)'])\n",
        "y2017=pd.Series(y2017)\n",
        "from statsmodels.tsa.stattools import adfuller\n",
        "X = y2017.values\n",
        "result = adfuller(X)\n",
        "split = round(len(X) / 2)\n",
        "X1, X2 = X[0:split], X[split:]\n",
        "mean1, mean2 = X1.mean(), X2.mean()\n",
        "var1, var2 = X1.var(), X2.var()\n",
        "print('mean1=%f, mean2=%f' % (mean1, mean2))\n",
        "print('variance1=%f, variance2=%f' % (var1, var2))\n",
        "print('ADF Statistic: %f' % result[0])\n",
        "print('p-value: %f' % result[1])\n",
        "print('Critical Values:')\n",
        "for key, value in result[4].items():\n",
        "\tprint('\\t%s: %.3f' % (key, value))"
      ],
      "execution_count": 25,
      "outputs": [
        {
          "output_type": "stream",
          "text": [
            "mean1=-0.123985, mean2=-0.108138\n",
            "variance1=0.089221, variance2=0.063000\n",
            "ADF Statistic: -26.071015\n",
            "p-value: 0.000000\n",
            "Critical Values:\n",
            "\t1%: -3.434\n",
            "\t5%: -2.863\n",
            "\t10%: -2.568\n"
          ],
          "name": "stdout"
        }
      ]
    },
    {
      "cell_type": "code",
      "metadata": {
        "colab": {
          "base_uri": "https://localhost:8080/"
        },
        "id": "BLbF6tUVTyY0",
        "outputId": "add4d269-31f4-4a70-897d-02952abb22d9"
      },
      "source": [
        "y2016=list(ind[ind['Year'] == 2016]['EnvironmentalIntensity(Sales)'])\n",
        "y2016=pd.Series(y2016)\n",
        "from statsmodels.tsa.stattools import adfuller\n",
        "X = y2016.values\n",
        "result = adfuller(X)\n",
        "split = round(len(X) / 2)\n",
        "X1, X2 = X[0:split], X[split:]\n",
        "mean1, mean2 = X1.mean(), X2.mean()\n",
        "var1, var2 = X1.var(), X2.var()\n",
        "print('ADF Statistic: %f' % result[0])\n",
        "print('p-value: %f' % result[1])\n",
        "print('Critical Values:')\n",
        "print('mean1=%f, mean2=%f' % (mean1, mean2))\n",
        "print('variance1=%f, variance2=%f' % (var1, var2))\n",
        "for key, value in result[4].items():\n",
        "\tprint('\\t%s: %.3f' % (key, value))"
      ],
      "execution_count": 19,
      "outputs": [
        {
          "output_type": "stream",
          "text": [
            "ADF Statistic: -38.998411\n",
            "p-value: 0.000000\n",
            "Critical Values:\n",
            "mean1=-0.128953, mean2=-0.113759\n",
            "variance1=0.084427, variance2=0.066553\n",
            "\t1%: -3.434\n",
            "\t5%: -2.863\n",
            "\t10%: -2.568\n"
          ],
          "name": "stdout"
        }
      ]
    },
    {
      "cell_type": "code",
      "metadata": {
        "colab": {
          "base_uri": "https://localhost:8080/"
        },
        "id": "zjiDtZHJT7XC",
        "outputId": "d2a2de33-cdc0-4a07-d5cf-04616ce56f62"
      },
      "source": [
        "y2015=list(ind[ind['Year'] == 2015]['EnvironmentalIntensity(Sales)'])\n",
        "y2015=pd.Series(y2015)\n",
        "from statsmodels.tsa.stattools import adfuller\n",
        "X = y2015.values\n",
        "result = adfuller(X)\n",
        "split = round(len(X) / 2)\n",
        "X1, X2 = X[0:split], X[split:]\n",
        "mean1, mean2 = X1.mean(), X2.mean()\n",
        "var1, var2 = X1.var(), X2.var()\n",
        "print('mean1=%f, mean2=%f' % (mean1, mean2))\n",
        "print('variance1=%f, variance2=%f' % (var1, var2))\n",
        "print('ADF Statistic: %f' % result[0])\n",
        "print('p-value: %f' % result[1])\n",
        "print('Critical Values:')\n",
        "for key, value in result[4].items():\n",
        "\tprint('\\t%s: %.3f' % (key, value))"
      ],
      "execution_count": 24,
      "outputs": [
        {
          "output_type": "stream",
          "text": [
            "mean1=-0.128073, mean2=-0.112539\n",
            "variance1=0.072975, variance2=0.066954\n",
            "ADF Statistic: -25.147693\n",
            "p-value: 0.000000\n",
            "Critical Values:\n",
            "\t1%: -3.435\n",
            "\t5%: -2.863\n",
            "\t10%: -2.568\n"
          ],
          "name": "stdout"
        }
      ]
    },
    {
      "cell_type": "code",
      "metadata": {
        "colab": {
          "base_uri": "https://localhost:8080/"
        },
        "id": "UlxDYIctUHGM",
        "outputId": "46aec805-1bdd-4908-9282-2f73ead46690"
      },
      "source": [
        "y2014=list(ind[ind['Year'] == 2014]['EnvironmentalIntensity(Sales)'])\n",
        "y2014=pd.Series(y2014)\n",
        "from statsmodels.tsa.stattools import adfuller\n",
        "X = y2014.values\n",
        "result = adfuller(X)\n",
        "split = round(len(X) / 2)\n",
        "X1, X2 = X[0:split], X[split:]\n",
        "mean1, mean2 = X1.mean(), X2.mean()\n",
        "var1, var2 = X1.var(), X2.var()\n",
        "print('mean1=%f, mean2=%f' % (mean1, mean2))\n",
        "print('variance1=%f, variance2=%f' % (var1, var2))\n",
        "print('ADF Statistic: %f' % result[0])\n",
        "print('p-value: %f' % result[1])\n",
        "print('Critical Values:')\n",
        "for key, value in result[4].items():\n",
        "\tprint('\\t%s: %.3f' % (key, value))"
      ],
      "execution_count": 23,
      "outputs": [
        {
          "output_type": "stream",
          "text": [
            "mean1=-0.113915, mean2=-0.100781\n",
            "variance1=0.062142, variance2=0.055520\n",
            "ADF Statistic: -15.509563\n",
            "p-value: 0.000000\n",
            "Critical Values:\n",
            "\t1%: -3.435\n",
            "\t5%: -2.864\n",
            "\t10%: -2.568\n"
          ],
          "name": "stdout"
        }
      ]
    },
    {
      "cell_type": "code",
      "metadata": {
        "colab": {
          "base_uri": "https://localhost:8080/"
        },
        "id": "471p6vSpeHkq",
        "outputId": "63984e3c-6811-45fe-b77c-e56a09f5f087"
      },
      "source": [
        "ind.info()"
      ],
      "execution_count": 27,
      "outputs": [
        {
          "output_type": "stream",
          "text": [
            "<class 'pandas.core.frame.DataFrame'>\n",
            "RangeIndex: 14515 entries, 0 to 14514\n",
            "Data columns (total 39 columns):\n",
            " #   Column                                                  Non-Null Count  Dtype  \n",
            "---  ------                                                  --------------  -----  \n",
            " 0   ISIN                                                    14515 non-null  object \n",
            " 1   Year                                                    14515 non-null  int64  \n",
            " 2   CompanyName                                             14515 non-null  object \n",
            " 3   Country                                                 14515 non-null  object \n",
            " 4   Industry(Exiobase)                                      14515 non-null  object \n",
            " 5   EnvironmentalIntensity(Sales)                           14515 non-null  float64\n",
            " 6   EnvironmentalIntensity(OpInc)                           13700 non-null  object \n",
            " 7   TotalEnvironmentalCost                                  14515 non-null  object \n",
            " 8   WorkingCapacity                                         14515 non-null  object \n",
            " 9   FishProductionCapacity                                  14515 non-null  object \n",
            " 10  CropProductionCapacity                                  14515 non-null  object \n",
            " 11  MeatProductionCapacity                                  14515 non-null  object \n",
            " 12  Biodiversity                                            14515 non-null  object \n",
            " 13  AbioticResources                                        14515 non-null  object \n",
            " 14  Waterproductioncapacity(Drinkingwater&IrrigationWater)  14515 non-null  object \n",
            " 15  WoodProductionCapacity                                  14515 non-null  object \n",
            " 16  SDG1.5                                                  14515 non-null  object \n",
            " 17  SDG2.1                                                  14515 non-null  object \n",
            " 18  SDG2.2                                                  14515 non-null  object \n",
            " 19  SDG2.3                                                  14515 non-null  object \n",
            " 20  SDG2.4                                                  14515 non-null  object \n",
            " 21  SDG3.3                                                  14515 non-null  object \n",
            " 22  SDG3.4                                                  14515 non-null  object \n",
            " 23  SDG3.9                                                  14515 non-null  object \n",
            " 24  SDG6                                                    14515 non-null  object \n",
            " 25  SDG12.2                                                 14515 non-null  object \n",
            " 26  SDG14.1                                                 14515 non-null  object \n",
            " 27  SDG14.2                                                 14515 non-null  object \n",
            " 28  SDG14.3                                                 14515 non-null  object \n",
            " 29  SDG14.c                                                 14515 non-null  object \n",
            " 30  SDG15.1                                                 14515 non-null  object \n",
            " 31  SDG15.2                                                 14515 non-null  object \n",
            " 32  SDG15.5                                                 14515 non-null  object \n",
            " 33  %Imputed                                                14515 non-null  object \n",
            " 34  Env_intensity                                           14515 non-null  float64\n",
            " 35  industry_avg                                            14515 non-null  float64\n",
            " 36  industry_avg_year                                       14515 non-null  float64\n",
            " 37  Industry_indicator_year                                 14515 non-null  int64  \n",
            " 38  Environmental_Growth                                    11924 non-null  float64\n",
            "dtypes: float64(5), int64(2), object(32)\n",
            "memory usage: 4.3+ MB\n"
          ],
          "name": "stdout"
        }
      ]
    },
    {
      "cell_type": "code",
      "metadata": {
        "colab": {
          "base_uri": "https://localhost:8080/",
          "height": 417
        },
        "id": "_gE6rgnyeQfv",
        "outputId": "34dfb146-b11a-4c6b-facd-d15674edd3b7"
      },
      "source": [
        "ind.head()"
      ],
      "execution_count": 28,
      "outputs": [
        {
          "output_type": "execute_result",
          "data": {
            "text/html": [
              "<div>\n",
              "<style scoped>\n",
              "    .dataframe tbody tr th:only-of-type {\n",
              "        vertical-align: middle;\n",
              "    }\n",
              "\n",
              "    .dataframe tbody tr th {\n",
              "        vertical-align: top;\n",
              "    }\n",
              "\n",
              "    .dataframe thead th {\n",
              "        text-align: right;\n",
              "    }\n",
              "</style>\n",
              "<table border=\"1\" class=\"dataframe\">\n",
              "  <thead>\n",
              "    <tr style=\"text-align: right;\">\n",
              "      <th></th>\n",
              "      <th>ISIN</th>\n",
              "      <th>Year</th>\n",
              "      <th>CompanyName</th>\n",
              "      <th>Country</th>\n",
              "      <th>Industry(Exiobase)</th>\n",
              "      <th>EnvironmentalIntensity(Sales)</th>\n",
              "      <th>EnvironmentalIntensity(OpInc)</th>\n",
              "      <th>TotalEnvironmentalCost</th>\n",
              "      <th>WorkingCapacity</th>\n",
              "      <th>FishProductionCapacity</th>\n",
              "      <th>CropProductionCapacity</th>\n",
              "      <th>MeatProductionCapacity</th>\n",
              "      <th>Biodiversity</th>\n",
              "      <th>AbioticResources</th>\n",
              "      <th>Waterproductioncapacity(Drinkingwater&amp;IrrigationWater)</th>\n",
              "      <th>WoodProductionCapacity</th>\n",
              "      <th>SDG1.5</th>\n",
              "      <th>SDG2.1</th>\n",
              "      <th>SDG2.2</th>\n",
              "      <th>SDG2.3</th>\n",
              "      <th>SDG2.4</th>\n",
              "      <th>SDG3.3</th>\n",
              "      <th>SDG3.4</th>\n",
              "      <th>SDG3.9</th>\n",
              "      <th>SDG6</th>\n",
              "      <th>SDG12.2</th>\n",
              "      <th>SDG14.1</th>\n",
              "      <th>SDG14.2</th>\n",
              "      <th>SDG14.3</th>\n",
              "      <th>SDG14.c</th>\n",
              "      <th>SDG15.1</th>\n",
              "      <th>SDG15.2</th>\n",
              "      <th>SDG15.5</th>\n",
              "      <th>%Imputed</th>\n",
              "      <th>Env_intensity</th>\n",
              "      <th>industry_avg</th>\n",
              "      <th>industry_avg_year</th>\n",
              "      <th>Industry_indicator_year</th>\n",
              "      <th>Environmental_Growth</th>\n",
              "    </tr>\n",
              "  </thead>\n",
              "  <tbody>\n",
              "    <tr>\n",
              "      <th>0</th>\n",
              "      <td>DE0005545503</td>\n",
              "      <td>2016</td>\n",
              "      <td>1&amp;1 DRILLISCH AG</td>\n",
              "      <td>Germany</td>\n",
              "      <td>Post and telecommunications (64)</td>\n",
              "      <td>-0.0007</td>\n",
              "      <td>-0.82%</td>\n",
              "      <td>-539,318</td>\n",
              "      <td>-525,027</td>\n",
              "      <td>-169</td>\n",
              "      <td>-7,009</td>\n",
              "      <td>-1,630</td>\n",
              "      <td>-27</td>\n",
              "      <td>-878</td>\n",
              "      <td>-4,714</td>\n",
              "      <td>135</td>\n",
              "      <td>-234,989</td>\n",
              "      <td>-166,914</td>\n",
              "      <td>-166,795</td>\n",
              "      <td>-1,752</td>\n",
              "      <td>-1,752</td>\n",
              "      <td>-27,366</td>\n",
              "      <td>65,960</td>\n",
              "      <td>-142</td>\n",
              "      <td>-4,714</td>\n",
              "      <td>-878</td>\n",
              "      <td>-5</td>\n",
              "      <td>-1</td>\n",
              "      <td>-77</td>\n",
              "      <td>-6</td>\n",
              "      <td>67</td>\n",
              "      <td>67</td>\n",
              "      <td>-22</td>\n",
              "      <td>23%</td>\n",
              "      <td>-0.0007</td>\n",
              "      <td>-0.020506</td>\n",
              "      <td>-0.020740</td>\n",
              "      <td>1</td>\n",
              "      <td>NaN</td>\n",
              "    </tr>\n",
              "    <tr>\n",
              "      <th>1</th>\n",
              "      <td>GB00B1YW4409</td>\n",
              "      <td>2010</td>\n",
              "      <td>3I GROUP PLC</td>\n",
              "      <td>United Kingdom</td>\n",
              "      <td>Financial intermediation, except insurance and...</td>\n",
              "      <td>-0.0012</td>\n",
              "      <td>-0.11%</td>\n",
              "      <td>-1,055,812</td>\n",
              "      <td>-1,032,103</td>\n",
              "      <td>-277</td>\n",
              "      <td>-13,751</td>\n",
              "      <td>-3,221</td>\n",
              "      <td>-47</td>\n",
              "      <td>-562</td>\n",
              "      <td>-5,953</td>\n",
              "      <td>102</td>\n",
              "      <td>-463,300</td>\n",
              "      <td>-295,103</td>\n",
              "      <td>-294,949</td>\n",
              "      <td>-3,438</td>\n",
              "      <td>-3,438</td>\n",
              "      <td>-47,957</td>\n",
              "      <td>59,044</td>\n",
              "      <td>-74</td>\n",
              "      <td>-5,953</td>\n",
              "      <td>-562</td>\n",
              "      <td>-4</td>\n",
              "      <td>0</td>\n",
              "      <td>-133</td>\n",
              "      <td>-4</td>\n",
              "      <td>51</td>\n",
              "      <td>51</td>\n",
              "      <td>-43</td>\n",
              "      <td>10%</td>\n",
              "      <td>-0.0012</td>\n",
              "      <td>-0.028537</td>\n",
              "      <td>-0.006402</td>\n",
              "      <td>1</td>\n",
              "      <td>NaN</td>\n",
              "    </tr>\n",
              "    <tr>\n",
              "      <th>2</th>\n",
              "      <td>GB00B1YW4409</td>\n",
              "      <td>2011</td>\n",
              "      <td>3I GROUP PLC</td>\n",
              "      <td>United Kingdom</td>\n",
              "      <td>Financial intermediation, except insurance and...</td>\n",
              "      <td>-0.0016</td>\n",
              "      <td>-0.16%</td>\n",
              "      <td>-961,875</td>\n",
              "      <td>-940,402</td>\n",
              "      <td>-246</td>\n",
              "      <td>-12,525</td>\n",
              "      <td>-2,935</td>\n",
              "      <td>-42</td>\n",
              "      <td>-424</td>\n",
              "      <td>-5,378</td>\n",
              "      <td>77</td>\n",
              "      <td>-421,928</td>\n",
              "      <td>-264,714</td>\n",
              "      <td>-264,579</td>\n",
              "      <td>-3,131</td>\n",
              "      <td>-3,131</td>\n",
              "      <td>-42,961</td>\n",
              "      <td>44,515</td>\n",
              "      <td>-56</td>\n",
              "      <td>-5,378</td>\n",
              "      <td>-424</td>\n",
              "      <td>-3</td>\n",
              "      <td>0</td>\n",
              "      <td>-119</td>\n",
              "      <td>-3</td>\n",
              "      <td>38</td>\n",
              "      <td>38</td>\n",
              "      <td>-39</td>\n",
              "      <td>9%</td>\n",
              "      <td>-0.0016</td>\n",
              "      <td>-0.028537</td>\n",
              "      <td>-0.009838</td>\n",
              "      <td>1</td>\n",
              "      <td>33.333333</td>\n",
              "    </tr>\n",
              "    <tr>\n",
              "      <th>3</th>\n",
              "      <td>GB00B1YW4409</td>\n",
              "      <td>2012</td>\n",
              "      <td>3I GROUP PLC</td>\n",
              "      <td>United Kingdom</td>\n",
              "      <td>Financial intermediation, except insurance and...</td>\n",
              "      <td>-0.0015</td>\n",
              "      <td>NaN</td>\n",
              "      <td>-722,999</td>\n",
              "      <td>-706,893</td>\n",
              "      <td>-183</td>\n",
              "      <td>-9,414</td>\n",
              "      <td>-2,206</td>\n",
              "      <td>-32</td>\n",
              "      <td>-295</td>\n",
              "      <td>-4,030</td>\n",
              "      <td>54</td>\n",
              "      <td>-317,104</td>\n",
              "      <td>-197,859</td>\n",
              "      <td>-197,760</td>\n",
              "      <td>-2,354</td>\n",
              "      <td>-2,354</td>\n",
              "      <td>-32,095</td>\n",
              "      <td>30,960</td>\n",
              "      <td>-39</td>\n",
              "      <td>-4,030</td>\n",
              "      <td>-295</td>\n",
              "      <td>-2</td>\n",
              "      <td>0</td>\n",
              "      <td>-89</td>\n",
              "      <td>-2</td>\n",
              "      <td>27</td>\n",
              "      <td>27</td>\n",
              "      <td>-30</td>\n",
              "      <td>8%</td>\n",
              "      <td>-0.0015</td>\n",
              "      <td>-0.028537</td>\n",
              "      <td>-0.024437</td>\n",
              "      <td>1</td>\n",
              "      <td>-6.250000</td>\n",
              "    </tr>\n",
              "    <tr>\n",
              "      <th>4</th>\n",
              "      <td>US88579Y1010</td>\n",
              "      <td>2010</td>\n",
              "      <td>3M COMPANY</td>\n",
              "      <td>United States</td>\n",
              "      <td>Activities of membership organisation n.e.c. (91)</td>\n",
              "      <td>-0.0790</td>\n",
              "      <td>-35.45%</td>\n",
              "      <td>-2,105,919,763</td>\n",
              "      <td>-1,924,672,080</td>\n",
              "      <td>-439,506</td>\n",
              "      <td>-25,698,273</td>\n",
              "      <td>-5,971,786</td>\n",
              "      <td>-80,081</td>\n",
              "      <td>-24,605</td>\n",
              "      <td>-149,040,978</td>\n",
              "      <td>7,545</td>\n",
              "      <td>-857,263,302</td>\n",
              "      <td>-498,663,505</td>\n",
              "      <td>-498,158,998</td>\n",
              "      <td>-6,424,568</td>\n",
              "      <td>-6,424,568</td>\n",
              "      <td>-80,328,786</td>\n",
              "      <td>-9,295,475</td>\n",
              "      <td>-2,771</td>\n",
              "      <td>-149,040,978</td>\n",
              "      <td>-24,605</td>\n",
              "      <td>-355</td>\n",
              "      <td>-164</td>\n",
              "      <td>-219,089</td>\n",
              "      <td>-423</td>\n",
              "      <td>3,772</td>\n",
              "      <td>3,772</td>\n",
              "      <td>-79,722</td>\n",
              "      <td>1%</td>\n",
              "      <td>-0.0790</td>\n",
              "      <td>-0.175838</td>\n",
              "      <td>-0.084583</td>\n",
              "      <td>1</td>\n",
              "      <td>NaN</td>\n",
              "    </tr>\n",
              "  </tbody>\n",
              "</table>\n",
              "</div>"
            ],
            "text/plain": [
              "           ISIN  Year  ... Industry_indicator_year Environmental_Growth\n",
              "0  DE0005545503  2016  ...                       1                  NaN\n",
              "1  GB00B1YW4409  2010  ...                       1                  NaN\n",
              "2  GB00B1YW4409  2011  ...                       1            33.333333\n",
              "3  GB00B1YW4409  2012  ...                       1            -6.250000\n",
              "4  US88579Y1010  2010  ...                       1                  NaN\n",
              "\n",
              "[5 rows x 39 columns]"
            ]
          },
          "metadata": {
            "tags": []
          },
          "execution_count": 28
        }
      ]
    },
    {
      "cell_type": "code",
      "metadata": {
        "colab": {
          "base_uri": "https://localhost:8080/",
          "height": 375
        },
        "id": "-bWaCotbs9mS",
        "outputId": "95d8f98e-895f-43df-c033-b4789724b50e"
      },
      "source": [
        "y2018=list(ind[ind['Year'] == 2018][['industry_avg','Env_intensity']])\n",
        "y2018=pd.Series(y2018)\n",
        "from statsmodels.tsa.stattools import adfuller\n",
        "X = y2018.values\n",
        "result = adfuller(X)\n",
        "split = round(len(X) / 2)\n",
        "X1, X2 = X[0:split], X[split:]\n",
        "mean1, mean2 = X1.mean(), X2.mean()\n",
        "var1, var2 = X1.var(), X2.var()\n",
        "print('mean1=%f, mean2=%f' % (mean1, mean2))\n",
        "print('variance1=%f, variance2=%f' % (var1, var2))\n",
        "print('ADF Statistic: %f' % result[0])\n",
        "print('p-value: %f' % result[1])\n",
        "print('Critical Values:')\n",
        "for key, value in result[4].items():\n",
        "\tprint('\\t%s: %.3f' % (key, value))"
      ],
      "execution_count": 34,
      "outputs": [
        {
          "output_type": "error",
          "ename": "ValueError",
          "evalue": "ignored",
          "traceback": [
            "\u001b[0;31m---------------------------------------------------------------------------\u001b[0m",
            "\u001b[0;31mValueError\u001b[0m                                Traceback (most recent call last)",
            "\u001b[0;32m<ipython-input-34-d38c37d75f6a>\u001b[0m in \u001b[0;36m<module>\u001b[0;34m()\u001b[0m\n\u001b[1;32m      3\u001b[0m \u001b[0;32mfrom\u001b[0m \u001b[0mstatsmodels\u001b[0m\u001b[0;34m.\u001b[0m\u001b[0mtsa\u001b[0m\u001b[0;34m.\u001b[0m\u001b[0mstattools\u001b[0m \u001b[0;32mimport\u001b[0m \u001b[0madfuller\u001b[0m\u001b[0;34m\u001b[0m\u001b[0;34m\u001b[0m\u001b[0m\n\u001b[1;32m      4\u001b[0m \u001b[0mX\u001b[0m \u001b[0;34m=\u001b[0m \u001b[0my2018\u001b[0m\u001b[0;34m.\u001b[0m\u001b[0mvalues\u001b[0m\u001b[0;34m\u001b[0m\u001b[0;34m\u001b[0m\u001b[0m\n\u001b[0;32m----> 5\u001b[0;31m \u001b[0mresult\u001b[0m \u001b[0;34m=\u001b[0m \u001b[0madfuller\u001b[0m\u001b[0;34m(\u001b[0m\u001b[0mX\u001b[0m\u001b[0;34m)\u001b[0m\u001b[0;34m\u001b[0m\u001b[0;34m\u001b[0m\u001b[0m\n\u001b[0m\u001b[1;32m      6\u001b[0m \u001b[0msplit\u001b[0m \u001b[0;34m=\u001b[0m \u001b[0mround\u001b[0m\u001b[0;34m(\u001b[0m\u001b[0mlen\u001b[0m\u001b[0;34m(\u001b[0m\u001b[0mX\u001b[0m\u001b[0;34m)\u001b[0m \u001b[0;34m/\u001b[0m \u001b[0;36m2\u001b[0m\u001b[0;34m)\u001b[0m\u001b[0;34m\u001b[0m\u001b[0;34m\u001b[0m\u001b[0m\n\u001b[1;32m      7\u001b[0m \u001b[0mX1\u001b[0m\u001b[0;34m,\u001b[0m \u001b[0mX2\u001b[0m \u001b[0;34m=\u001b[0m \u001b[0mX\u001b[0m\u001b[0;34m[\u001b[0m\u001b[0;36m0\u001b[0m\u001b[0;34m:\u001b[0m\u001b[0msplit\u001b[0m\u001b[0;34m]\u001b[0m\u001b[0;34m,\u001b[0m \u001b[0mX\u001b[0m\u001b[0;34m[\u001b[0m\u001b[0msplit\u001b[0m\u001b[0;34m:\u001b[0m\u001b[0;34m]\u001b[0m\u001b[0;34m\u001b[0m\u001b[0;34m\u001b[0m\u001b[0m\n",
            "\u001b[0;32m/usr/local/lib/python3.7/dist-packages/statsmodels/tsa/stattools.py\u001b[0m in \u001b[0;36madfuller\u001b[0;34m(x, maxlag, regression, autolag, store, regresults)\u001b[0m\n\u001b[1;32m    227\u001b[0m         \u001b[0mmaxlag\u001b[0m \u001b[0;34m=\u001b[0m \u001b[0mmin\u001b[0m\u001b[0;34m(\u001b[0m\u001b[0mnobs\u001b[0m \u001b[0;34m//\u001b[0m \u001b[0;36m2\u001b[0m \u001b[0;34m-\u001b[0m \u001b[0mntrend\u001b[0m \u001b[0;34m-\u001b[0m \u001b[0;36m1\u001b[0m\u001b[0;34m,\u001b[0m \u001b[0mmaxlag\u001b[0m\u001b[0;34m)\u001b[0m\u001b[0;34m\u001b[0m\u001b[0;34m\u001b[0m\u001b[0m\n\u001b[1;32m    228\u001b[0m         \u001b[0;32mif\u001b[0m \u001b[0mmaxlag\u001b[0m \u001b[0;34m<\u001b[0m \u001b[0;36m0\u001b[0m\u001b[0;34m:\u001b[0m\u001b[0;34m\u001b[0m\u001b[0;34m\u001b[0m\u001b[0m\n\u001b[0;32m--> 229\u001b[0;31m             raise ValueError('sample size is too short to use selected '\n\u001b[0m\u001b[1;32m    230\u001b[0m                              'regression component')\n\u001b[1;32m    231\u001b[0m     \u001b[0;32melif\u001b[0m \u001b[0mmaxlag\u001b[0m \u001b[0;34m>\u001b[0m \u001b[0mnobs\u001b[0m \u001b[0;34m//\u001b[0m \u001b[0;36m2\u001b[0m \u001b[0;34m-\u001b[0m \u001b[0mntrend\u001b[0m \u001b[0;34m-\u001b[0m \u001b[0;36m1\u001b[0m\u001b[0;34m:\u001b[0m\u001b[0;34m\u001b[0m\u001b[0;34m\u001b[0m\u001b[0m\n",
            "\u001b[0;31mValueError\u001b[0m: sample size is too short to use selected regression component"
          ]
        }
      ]
    },
    {
      "cell_type": "code",
      "metadata": {
        "colab": {
          "base_uri": "https://localhost:8080/"
        },
        "id": "uC1TEoWBa8I8",
        "outputId": "aa6784d2-d3af-4e9b-aec1-821cf50db86e"
      },
      "source": [
        "ind.groupby('Industry(Exiobase)')['EnvironmentalIntensity(Sales)'].count().sort_values()"
      ],
      "execution_count": 31,
      "outputs": [
        {
          "output_type": "execute_result",
          "data": {
            "text/plain": [
              "Industry(Exiobase)\n",
              "Cultivation of cereal grains nec                                                                                          1\n",
              "Forestry, logging and related service activities (02)                                                                     5\n",
              "Sea and coastal water transport                                                                                           6\n",
              "Education (80)                                                                                                            6\n",
              "Production of electricity by petroleum and other oil derivatives                                                         12\n",
              "Mining of coal and lignite; extraction of peat (10)                                                                      15\n",
              "Manufacture of tobacco products (16)                                                                                     22\n",
              "Copper production                                                                                                        22\n",
              "Manufacture of furniture; manufacturing n.e.c. (36)                                                                      22\n",
              "Publishing, printing and reproduction of recorded media (22)                                                             32\n",
              "Wholesale trade and commission trade, except of motor vehicles and motorcycles (51)                                      37\n",
              "Transport via pipelines                                                                                                  39\n",
              "Production of electricity by solar photovoltaic                                                                          41\n",
              "N-fertiliser                                                                                                             42\n",
              "Manufacture of basic iron and steel and of ferro-alloys and first products thereof                                       45\n",
              "Manufacture of wearing apparel; dressing and dyeing of fur (18)                                                          47\n",
              "Transport via railways                                                                                                   48\n",
              "Manufacture of textiles (17)                                                                                             51\n",
              "Health and social work (85)                                                                                              51\n",
              "Collection, purification and distribution of water (41)                                                                  53\n",
              "Sale, maintenance, repair of motor vehicles, motor vehicles parts, motorcycles, motor cycles parts and accessoiries      62\n",
              "Production of electricity by hydro                                                                                       71\n",
              "Extraction of natural gas and services related to natural gas extraction, excluding surveying                            91\n",
              "Other land transport                                                                                                    117\n",
              "Manufacture of rubber and plastic products (25)                                                                         123\n",
              "Insurance and pension funding, except compulsory social security (66)                                                   140\n",
              "Research and development (73)                                                                                           147\n",
              "Renting of machinery and equipment without operator and of personal and household goods (71)                            147\n",
              "Petroleum Refinery                                                                                                      192\n",
              "Paper                                                                                                                   196\n",
              "Air transport (62)                                                                                                      200\n",
              "Mining of other non-ferrous metal ores and concentrates                                                                 233\n",
              "Activities of membership organisation n.e.c. (91)                                                                       235\n",
              "Manufacture of beverages                                                                                                258\n",
              "Activities auxiliary to financial intermediation (67)                                                                   263\n",
              "Recreational, cultural and sporting activities (92)                                                                     272\n",
              "Manufacture of radio, television and communication equipment and apparatus (32)                                         274\n",
              "Mining of chemical and fertilizer minerals, production of salt, other mining and quarrying n.e.c.                       303\n",
              "Manufacture of motor vehicles, trailers and semi-trailers (34)                                                          341\n",
              "Manufacture of machinery and equipment n.e.c. (29)                                                                      364\n",
              "Chemicals nec                                                                                                           414\n",
              "Manufacture of office machinery and computers (30)                                                                      423\n",
              "Manufacture of fabricated metal products, except machinery and equipment (28)                                           433\n",
              "Production of electricity nec                                                                                           444\n",
              "Quarrying of sand and clay                                                                                              481\n",
              "Extraction of crude petroleum and services related to crude oil extraction, excluding surveying                         496\n",
              "Computer and related activities (72)                                                                                    507\n",
              "Processing of Food products nec                                                                                         531\n",
              "Other service activities (93)                                                                                           558\n",
              "Post and telecommunications (64)                                                                                        599\n",
              "Manufacture of medical, precision and optical instruments, watches and clocks (33)                                      601\n",
              "Retail trade, except of motor vehicles and motorcycles; repair of personal and household goods (52)                     682\n",
              "Real estate activities (70)                                                                                             697\n",
              "Construction (45)                                                                                                       729\n",
              "Manufacture of electrical machinery and apparatus n.e.c. (31)                                                           765\n",
              "Financial intermediation, except insurance and pension funding (65)                                                    1529\n",
              "Name: EnvironmentalIntensity(Sales), dtype: int64"
            ]
          },
          "metadata": {
            "tags": []
          },
          "execution_count": 31
        }
      ]
    },
    {
      "cell_type": "markdown",
      "metadata": {
        "id": "QDmhTfaGpT9L"
      },
      "source": [
        "Top five industries:"
      ]
    },
    {
      "cell_type": "markdown",
      "metadata": {
        "id": "vUATXadLpHG3"
      },
      "source": [
        "Retail trade, except of motor vehicles and motorcycles; repair of personal and household goods (52)                    \n",
        "Real estate activities(70)                                                                                    \n",
        "Construction (45)                                                 \n",
        "Manufacture of electrical machinery and apparatus n.e.c. (31)                                                 \n",
        "Financial intermediation, except insurance and pension funding (65) "
      ]
    }
  ]
}