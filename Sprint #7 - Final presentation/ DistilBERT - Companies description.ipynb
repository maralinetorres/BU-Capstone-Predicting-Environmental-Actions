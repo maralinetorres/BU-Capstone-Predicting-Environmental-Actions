{
 "cells": [
  {
   "cell_type": "markdown",
   "id": "prescribed-polyester",
   "metadata": {},
   "source": [
    "## Text Analysis - Companies description \n",
    "\n",
    "In this notebook, we will do some text analysis for the companies existing in the WRDS and Harvard Business School, Impact-Weighted Accounts Project report.\n",
    "\n",
    "We will apply some Nature Language Processing (NLP) using the pre-trained DistilBERT. First, we need to merge the datasets and obtain the companies description from Yahoo Finance. "
   ]
  },
  {
   "cell_type": "code",
   "execution_count": 1,
   "id": "described-hammer",
   "metadata": {},
   "outputs": [],
   "source": [
    "import pandas as pd\n",
    "import numpy as np\n",
    "import seaborn as sns\n",
    "import matplotlib.pyplot as plt\n",
    "import missingno as msno\n",
    "import warnings\n",
    "from sklearn import linear_model\n",
    "from sklearn import metrics\n",
    "from sklearn.linear_model import LinearRegression\n",
    "from sklearn.model_selection import train_test_split\n",
    "import requests\n",
    "from bs4 import BeautifulSoup\n",
    "warnings.filterwarnings('ignore')"
   ]
  },
  {
   "cell_type": "code",
   "execution_count": 2,
   "id": "maritime-director",
   "metadata": {},
   "outputs": [],
   "source": [
    "df_ishares = pd.read_csv('/Users/maralinetorres/Documents/GitHub/Predicting-Environmental-and-Social-Actions/Datasets/iShares-merged.csv')\n",
    "df_ei = pd.read_csv('/Users/maralinetorres/Documents/GitHub/Predicting-Environmental-and-Social-Actions/Datasets/Environmental_impact_cleaned.csv')\n",
    "stocks = pd.read_csv(\"/Users/maralinetorres/Documents/GitHub/Predicting-Environmental-and-Social-Actions/Datasets/pilot_stocks.csv\")"
   ]
  },
  {
   "cell_type": "markdown",
   "id": "artificial-penguin",
   "metadata": {},
   "source": [
    "For the ishares, we don't need the tickers in the sector 'Cash and devirates' and we are also going to filter by the necessary columns"
   ]
  },
  {
   "cell_type": "code",
   "execution_count": 3,
   "id": "contemporary-republic",
   "metadata": {},
   "outputs": [
    {
     "data": {
      "text/html": [
       "<div>\n",
       "<style scoped>\n",
       "    .dataframe tbody tr th:only-of-type {\n",
       "        vertical-align: middle;\n",
       "    }\n",
       "\n",
       "    .dataframe tbody tr th {\n",
       "        vertical-align: top;\n",
       "    }\n",
       "\n",
       "    .dataframe thead th {\n",
       "        text-align: right;\n",
       "    }\n",
       "</style>\n",
       "<table border=\"1\" class=\"dataframe\">\n",
       "  <thead>\n",
       "    <tr style=\"text-align: right;\">\n",
       "      <th></th>\n",
       "      <th>Ticker</th>\n",
       "      <th>Name</th>\n",
       "      <th>Sector</th>\n",
       "      <th>CUSIP</th>\n",
       "      <th>ISIN</th>\n",
       "      <th>Location</th>\n",
       "    </tr>\n",
       "  </thead>\n",
       "  <tbody>\n",
       "    <tr>\n",
       "      <th>0</th>\n",
       "      <td>AAPL</td>\n",
       "      <td>APPLE INC</td>\n",
       "      <td>Information Technology</td>\n",
       "      <td>37833100</td>\n",
       "      <td>US0378331005</td>\n",
       "      <td>United States</td>\n",
       "    </tr>\n",
       "    <tr>\n",
       "      <th>1</th>\n",
       "      <td>MSFT</td>\n",
       "      <td>MICROSOFT CORP</td>\n",
       "      <td>Information Technology</td>\n",
       "      <td>594918104</td>\n",
       "      <td>US5949181045</td>\n",
       "      <td>United States</td>\n",
       "    </tr>\n",
       "    <tr>\n",
       "      <th>2</th>\n",
       "      <td>AMZN</td>\n",
       "      <td>AMAZON COM INC</td>\n",
       "      <td>Consumer Discretionary</td>\n",
       "      <td>23135106</td>\n",
       "      <td>US0231351067</td>\n",
       "      <td>United States</td>\n",
       "    </tr>\n",
       "    <tr>\n",
       "      <th>3</th>\n",
       "      <td>TSLA</td>\n",
       "      <td>TESLA INC</td>\n",
       "      <td>Consumer Discretionary</td>\n",
       "      <td>88160R101</td>\n",
       "      <td>US88160R1014</td>\n",
       "      <td>United States</td>\n",
       "    </tr>\n",
       "    <tr>\n",
       "      <th>4</th>\n",
       "      <td>FB</td>\n",
       "      <td>FACEBOOK CLASS A INC</td>\n",
       "      <td>Communication</td>\n",
       "      <td>30303M102</td>\n",
       "      <td>US30303M1027</td>\n",
       "      <td>United States</td>\n",
       "    </tr>\n",
       "  </tbody>\n",
       "</table>\n",
       "</div>"
      ],
      "text/plain": [
       "  Ticker                  Name                  Sector      CUSIP  \\\n",
       "0   AAPL             APPLE INC  Information Technology   37833100   \n",
       "1   MSFT        MICROSOFT CORP  Information Technology  594918104   \n",
       "2   AMZN        AMAZON COM INC  Consumer Discretionary   23135106   \n",
       "3   TSLA             TESLA INC  Consumer Discretionary  88160R101   \n",
       "4     FB  FACEBOOK CLASS A INC           Communication  30303M102   \n",
       "\n",
       "           ISIN       Location  \n",
       "0  US0378331005  United States  \n",
       "1  US5949181045  United States  \n",
       "2  US0231351067  United States  \n",
       "3  US88160R1014  United States  \n",
       "4  US30303M1027  United States  "
      ]
     },
     "execution_count": 3,
     "metadata": {},
     "output_type": "execute_result"
    }
   ],
   "source": [
    "df_ishares = df_ishares.loc[df_ishares.Sector != 'Cash and/or Derivatives',['Ticker','Name','Sector','CUSIP','ISIN','Location']]\n",
    "df_ishares.drop_duplicates(inplace=True)\n",
    "df_ishares.head()"
   ]
  },
  {
   "cell_type": "code",
   "execution_count": 4,
   "id": "federal-sender",
   "metadata": {},
   "outputs": [
    {
     "data": {
      "text/plain": [
       "855"
      ]
     },
     "execution_count": 4,
     "metadata": {},
     "output_type": "execute_result"
    }
   ],
   "source": [
    "len(df_ishares.Ticker.unique())"
   ]
  },
  {
   "cell_type": "code",
   "execution_count": 5,
   "id": "hundred-apartment",
   "metadata": {},
   "outputs": [
    {
     "data": {
      "text/html": [
       "<div>\n",
       "<style scoped>\n",
       "    .dataframe tbody tr th:only-of-type {\n",
       "        vertical-align: middle;\n",
       "    }\n",
       "\n",
       "    .dataframe tbody tr th {\n",
       "        vertical-align: top;\n",
       "    }\n",
       "\n",
       "    .dataframe thead th {\n",
       "        text-align: right;\n",
       "    }\n",
       "</style>\n",
       "<table border=\"1\" class=\"dataframe\">\n",
       "  <thead>\n",
       "    <tr style=\"text-align: right;\">\n",
       "      <th></th>\n",
       "      <th>ISIN</th>\n",
       "      <th>CompanyName</th>\n",
       "      <th>Country</th>\n",
       "    </tr>\n",
       "  </thead>\n",
       "  <tbody>\n",
       "    <tr>\n",
       "      <th>0</th>\n",
       "      <td>GB00BMX64W89</td>\n",
       "      <td>Saga plc</td>\n",
       "      <td>United Kingdom</td>\n",
       "    </tr>\n",
       "    <tr>\n",
       "      <th>1</th>\n",
       "      <td>MYL1818OO003</td>\n",
       "      <td>BURSA MALAYSIA BHD</td>\n",
       "      <td>Malaysia</td>\n",
       "    </tr>\n",
       "    <tr>\n",
       "      <th>2</th>\n",
       "      <td>GB0031638363</td>\n",
       "      <td>INTERTEK GROUP PLC</td>\n",
       "      <td>United Kingdom</td>\n",
       "    </tr>\n",
       "    <tr>\n",
       "      <th>3</th>\n",
       "      <td>ZAE000079711</td>\n",
       "      <td>JSE LIMITED</td>\n",
       "      <td>South Africa</td>\n",
       "    </tr>\n",
       "    <tr>\n",
       "      <th>4</th>\n",
       "      <td>FR0006174348</td>\n",
       "      <td>BUREAU VERITAS SA</td>\n",
       "      <td>France</td>\n",
       "    </tr>\n",
       "  </tbody>\n",
       "</table>\n",
       "</div>"
      ],
      "text/plain": [
       "           ISIN         CompanyName         Country\n",
       "0  GB00BMX64W89            Saga plc  United Kingdom\n",
       "1  MYL1818OO003  BURSA MALAYSIA BHD        Malaysia\n",
       "2  GB0031638363  INTERTEK GROUP PLC  United Kingdom\n",
       "3  ZAE000079711         JSE LIMITED    South Africa\n",
       "4  FR0006174348   BUREAU VERITAS SA          France"
      ]
     },
     "execution_count": 5,
     "metadata": {},
     "output_type": "execute_result"
    }
   ],
   "source": [
    "df_ei2 = df_ei.copy()\n",
    "df_ei2 = df_ei2.loc[:,['ISIN','CompanyName','Country']]\n",
    "df_ei2.drop_duplicates(inplace=True)\n",
    "df_ei2.head()"
   ]
  },
  {
   "cell_type": "code",
   "execution_count": 6,
   "id": "piano-gentleman",
   "metadata": {},
   "outputs": [
    {
     "data": {
      "text/plain": [
       "2628"
      ]
     },
     "execution_count": 6,
     "metadata": {},
     "output_type": "execute_result"
    }
   ],
   "source": [
    "len(df_ei2.ISIN.unique())"
   ]
  },
  {
   "cell_type": "code",
   "execution_count": 7,
   "id": "impressive-truth",
   "metadata": {},
   "outputs": [
    {
     "data": {
      "text/html": [
       "<div>\n",
       "<style scoped>\n",
       "    .dataframe tbody tr th:only-of-type {\n",
       "        vertical-align: middle;\n",
       "    }\n",
       "\n",
       "    .dataframe tbody tr th {\n",
       "        vertical-align: top;\n",
       "    }\n",
       "\n",
       "    .dataframe thead th {\n",
       "        text-align: right;\n",
       "    }\n",
       "</style>\n",
       "<table border=\"1\" class=\"dataframe\">\n",
       "  <thead>\n",
       "    <tr style=\"text-align: right;\">\n",
       "      <th></th>\n",
       "      <th>Year</th>\n",
       "      <th>Ticker</th>\n",
       "    </tr>\n",
       "  </thead>\n",
       "  <tbody>\n",
       "    <tr>\n",
       "      <th>0</th>\n",
       "      <td>2005</td>\n",
       "      <td>AEE</td>\n",
       "    </tr>\n",
       "    <tr>\n",
       "      <th>1</th>\n",
       "      <td>2006</td>\n",
       "      <td>AEE</td>\n",
       "    </tr>\n",
       "    <tr>\n",
       "      <th>2</th>\n",
       "      <td>2007</td>\n",
       "      <td>AEE</td>\n",
       "    </tr>\n",
       "    <tr>\n",
       "      <th>3</th>\n",
       "      <td>2008</td>\n",
       "      <td>AEE</td>\n",
       "    </tr>\n",
       "    <tr>\n",
       "      <th>4</th>\n",
       "      <td>2009</td>\n",
       "      <td>AEE</td>\n",
       "    </tr>\n",
       "  </tbody>\n",
       "</table>\n",
       "</div>"
      ],
      "text/plain": [
       "   Year Ticker\n",
       "0  2005    AEE\n",
       "1  2006    AEE\n",
       "2  2007    AEE\n",
       "3  2008    AEE\n",
       "4  2009    AEE"
      ]
     },
     "execution_count": 7,
     "metadata": {},
     "output_type": "execute_result"
    }
   ],
   "source": [
    "stocks = stocks.iloc[:,0:2]\n",
    "stocks.head()"
   ]
  },
  {
   "cell_type": "markdown",
   "id": "bacterial-niagara",
   "metadata": {},
   "source": [
    "Let's start merging the datasets. First, we are going to merge iShares and Environmental impact by ISIN. "
   ]
  },
  {
   "cell_type": "code",
   "execution_count": 8,
   "id": "invalid-language",
   "metadata": {},
   "outputs": [
    {
     "data": {
      "text/html": [
       "<div>\n",
       "<style scoped>\n",
       "    .dataframe tbody tr th:only-of-type {\n",
       "        vertical-align: middle;\n",
       "    }\n",
       "\n",
       "    .dataframe tbody tr th {\n",
       "        vertical-align: top;\n",
       "    }\n",
       "\n",
       "    .dataframe thead th {\n",
       "        text-align: right;\n",
       "    }\n",
       "</style>\n",
       "<table border=\"1\" class=\"dataframe\">\n",
       "  <thead>\n",
       "    <tr style=\"text-align: right;\">\n",
       "      <th></th>\n",
       "      <th>Ticker</th>\n",
       "      <th>Name</th>\n",
       "      <th>Sector</th>\n",
       "      <th>CUSIP</th>\n",
       "      <th>ISIN</th>\n",
       "      <th>Location</th>\n",
       "      <th>CompanyName</th>\n",
       "      <th>Country</th>\n",
       "    </tr>\n",
       "  </thead>\n",
       "  <tbody>\n",
       "    <tr>\n",
       "      <th>0</th>\n",
       "      <td>AAPL</td>\n",
       "      <td>APPLE INC</td>\n",
       "      <td>Information Technology</td>\n",
       "      <td>37833100</td>\n",
       "      <td>US0378331005</td>\n",
       "      <td>United States</td>\n",
       "      <td>NaN</td>\n",
       "      <td>NaN</td>\n",
       "    </tr>\n",
       "    <tr>\n",
       "      <th>1</th>\n",
       "      <td>MSFT</td>\n",
       "      <td>MICROSOFT CORP</td>\n",
       "      <td>Information Technology</td>\n",
       "      <td>594918104</td>\n",
       "      <td>US5949181045</td>\n",
       "      <td>United States</td>\n",
       "      <td>MICROSOFT CORPORATION</td>\n",
       "      <td>United States</td>\n",
       "    </tr>\n",
       "    <tr>\n",
       "      <th>2</th>\n",
       "      <td>AMZN</td>\n",
       "      <td>AMAZON COM INC</td>\n",
       "      <td>Consumer Discretionary</td>\n",
       "      <td>23135106</td>\n",
       "      <td>US0231351067</td>\n",
       "      <td>United States</td>\n",
       "      <td>AMAZON.COM, INC.</td>\n",
       "      <td>United States</td>\n",
       "    </tr>\n",
       "    <tr>\n",
       "      <th>3</th>\n",
       "      <td>TSLA</td>\n",
       "      <td>TESLA INC</td>\n",
       "      <td>Consumer Discretionary</td>\n",
       "      <td>88160R101</td>\n",
       "      <td>US88160R1014</td>\n",
       "      <td>United States</td>\n",
       "      <td>NaN</td>\n",
       "      <td>NaN</td>\n",
       "    </tr>\n",
       "    <tr>\n",
       "      <th>4</th>\n",
       "      <td>FB</td>\n",
       "      <td>FACEBOOK CLASS A INC</td>\n",
       "      <td>Communication</td>\n",
       "      <td>30303M102</td>\n",
       "      <td>US30303M1027</td>\n",
       "      <td>United States</td>\n",
       "      <td>FACEBOOK INCORPORATION</td>\n",
       "      <td>United States</td>\n",
       "    </tr>\n",
       "  </tbody>\n",
       "</table>\n",
       "</div>"
      ],
      "text/plain": [
       "  Ticker                  Name                  Sector      CUSIP  \\\n",
       "0   AAPL             APPLE INC  Information Technology   37833100   \n",
       "1   MSFT        MICROSOFT CORP  Information Technology  594918104   \n",
       "2   AMZN        AMAZON COM INC  Consumer Discretionary   23135106   \n",
       "3   TSLA             TESLA INC  Consumer Discretionary  88160R101   \n",
       "4     FB  FACEBOOK CLASS A INC           Communication  30303M102   \n",
       "\n",
       "           ISIN       Location             CompanyName        Country  \n",
       "0  US0378331005  United States                     NaN            NaN  \n",
       "1  US5949181045  United States   MICROSOFT CORPORATION  United States  \n",
       "2  US0231351067  United States        AMAZON.COM, INC.  United States  \n",
       "3  US88160R1014  United States                     NaN            NaN  \n",
       "4  US30303M1027  United States  FACEBOOK INCORPORATION  United States  "
      ]
     },
     "execution_count": 8,
     "metadata": {},
     "output_type": "execute_result"
    }
   ],
   "source": [
    "df = pd.merge(df_ishares, df_ei2, on='ISIN', how='outer')\n",
    "df.head()"
   ]
  },
  {
   "cell_type": "code",
   "execution_count": 9,
   "id": "recognized-creator",
   "metadata": {},
   "outputs": [
    {
     "name": "stdout",
     "output_type": "stream",
     "text": [
      "(3005, 8)\n",
      "856\n"
     ]
    }
   ],
   "source": [
    "print(df.shape)\n",
    "print(len(df.Ticker.unique()))"
   ]
  },
  {
   "cell_type": "code",
   "execution_count": 10,
   "id": "acceptable-draft",
   "metadata": {},
   "outputs": [
    {
     "name": "stdout",
     "output_type": "stream",
     "text": [
      "We are unable to match 2136 ISIN\n"
     ]
    },
    {
     "data": {
      "text/html": [
       "<div>\n",
       "<style scoped>\n",
       "    .dataframe tbody tr th:only-of-type {\n",
       "        vertical-align: middle;\n",
       "    }\n",
       "\n",
       "    .dataframe tbody tr th {\n",
       "        vertical-align: top;\n",
       "    }\n",
       "\n",
       "    .dataframe thead th {\n",
       "        text-align: right;\n",
       "    }\n",
       "</style>\n",
       "<table border=\"1\" class=\"dataframe\">\n",
       "  <thead>\n",
       "    <tr style=\"text-align: right;\">\n",
       "      <th></th>\n",
       "      <th>ISIN</th>\n",
       "      <th>CompanyName</th>\n",
       "      <th>Country</th>\n",
       "    </tr>\n",
       "  </thead>\n",
       "  <tbody>\n",
       "    <tr>\n",
       "      <th>0</th>\n",
       "      <td>GB00BMX64W89</td>\n",
       "      <td>Saga plc</td>\n",
       "      <td>United Kingdom</td>\n",
       "    </tr>\n",
       "    <tr>\n",
       "      <th>1</th>\n",
       "      <td>MYL1818OO003</td>\n",
       "      <td>BURSA MALAYSIA BHD</td>\n",
       "      <td>Malaysia</td>\n",
       "    </tr>\n",
       "    <tr>\n",
       "      <th>3</th>\n",
       "      <td>ZAE000079711</td>\n",
       "      <td>JSE LIMITED</td>\n",
       "      <td>South Africa</td>\n",
       "    </tr>\n",
       "    <tr>\n",
       "      <th>5</th>\n",
       "      <td>GB0007370074</td>\n",
       "      <td>RICARDO PLC</td>\n",
       "      <td>United Kingdom</td>\n",
       "    </tr>\n",
       "    <tr>\n",
       "      <th>6</th>\n",
       "      <td>AU000000ASX7</td>\n",
       "      <td>ASX LIMITED</td>\n",
       "      <td>Australia</td>\n",
       "    </tr>\n",
       "  </tbody>\n",
       "</table>\n",
       "</div>"
      ],
      "text/plain": [
       "           ISIN         CompanyName         Country\n",
       "0  GB00BMX64W89            Saga plc  United Kingdom\n",
       "1  MYL1818OO003  BURSA MALAYSIA BHD        Malaysia\n",
       "3  ZAE000079711         JSE LIMITED    South Africa\n",
       "5  GB0007370074         RICARDO PLC  United Kingdom\n",
       "6  AU000000ASX7         ASX LIMITED       Australia"
      ]
     },
     "execution_count": 10,
     "metadata": {},
     "output_type": "execute_result"
    }
   ],
   "source": [
    "mising_Ticker = df.loc[df.Ticker.isna(),'ISIN']\n",
    "df_missing = df_ei.loc[df_ei.ISIN.isin(mising_Ticker), ['ISIN','CompanyName','Country']]\n",
    "df_missing.drop_duplicates(inplace=True)\n",
    "print(f'We are unable to match {df_missing.shape[0]} ISIN')\n",
    "df_missing.head()"
   ]
  },
  {
   "cell_type": "markdown",
   "id": "parallel-biology",
   "metadata": {},
   "source": [
    "With this merge, we were able to find a 492 tickers for the 2,628 companies in the Environmental Impact dataset. We need to figure out how to map their ISIN to a Ticker."
   ]
  },
  {
   "cell_type": "code",
   "execution_count": 11,
   "id": "catholic-function",
   "metadata": {},
   "outputs": [],
   "source": [
    "df_missing.to_csv('Companies_missing_Tickers.csv', index=False)"
   ]
  },
  {
   "cell_type": "markdown",
   "id": "mexican-benjamin",
   "metadata": {},
   "source": [
    "In the meantime, we are going to export the companies that we were unable to match and continue working with the ones that have the Ticker.\n",
    "\n",
    "From the pilot stocks, we have 52 unique tickers. Let's see if all these tickers appear in the merged dataframe. "
   ]
  },
  {
   "cell_type": "code",
   "execution_count": 12,
   "id": "warming-memory",
   "metadata": {},
   "outputs": [
    {
     "name": "stdout",
     "output_type": "stream",
     "text": [
      "(55, 1)\n",
      "52 Tickers\n"
     ]
    },
    {
     "data": {
      "text/html": [
       "<div>\n",
       "<style scoped>\n",
       "    .dataframe tbody tr th:only-of-type {\n",
       "        vertical-align: middle;\n",
       "    }\n",
       "\n",
       "    .dataframe tbody tr th {\n",
       "        vertical-align: top;\n",
       "    }\n",
       "\n",
       "    .dataframe thead th {\n",
       "        text-align: right;\n",
       "    }\n",
       "</style>\n",
       "<table border=\"1\" class=\"dataframe\">\n",
       "  <thead>\n",
       "    <tr style=\"text-align: right;\">\n",
       "      <th></th>\n",
       "      <th>Ticker</th>\n",
       "    </tr>\n",
       "  </thead>\n",
       "  <tbody>\n",
       "    <tr>\n",
       "      <th>540</th>\n",
       "      <td>DTE</td>\n",
       "    </tr>\n",
       "    <tr>\n",
       "      <th>726</th>\n",
       "      <td>MRO</td>\n",
       "    </tr>\n",
       "    <tr>\n",
       "      <th>802</th>\n",
       "      <td>ATO</td>\n",
       "    </tr>\n",
       "  </tbody>\n",
       "</table>\n",
       "</div>"
      ],
      "text/plain": [
       "    Ticker\n",
       "540    DTE\n",
       "726    MRO\n",
       "802    ATO"
      ]
     },
     "execution_count": 12,
     "metadata": {},
     "output_type": "execute_result"
    }
   ],
   "source": [
    "tickers = stocks.Ticker.unique()\n",
    "x = df.loc[(df.Ticker.isin(tickers)), ['Ticker']]\n",
    "print(x.shape)\n",
    "print(f'{len(x.Ticker.unique())} Tickers')\n",
    "x[x.duplicated()]"
   ]
  },
  {
   "cell_type": "markdown",
   "id": "hairy-billion",
   "metadata": {},
   "source": [
    "We noticed that these three tickers are duplicated. Let's see why?"
   ]
  },
  {
   "cell_type": "code",
   "execution_count": 13,
   "id": "elect-community",
   "metadata": {},
   "outputs": [
    {
     "data": {
      "text/html": [
       "<div>\n",
       "<style scoped>\n",
       "    .dataframe tbody tr th:only-of-type {\n",
       "        vertical-align: middle;\n",
       "    }\n",
       "\n",
       "    .dataframe tbody tr th {\n",
       "        vertical-align: top;\n",
       "    }\n",
       "\n",
       "    .dataframe thead th {\n",
       "        text-align: right;\n",
       "    }\n",
       "</style>\n",
       "<table border=\"1\" class=\"dataframe\">\n",
       "  <thead>\n",
       "    <tr style=\"text-align: right;\">\n",
       "      <th></th>\n",
       "      <th>Ticker</th>\n",
       "      <th>Name</th>\n",
       "      <th>Sector</th>\n",
       "      <th>CUSIP</th>\n",
       "      <th>ISIN</th>\n",
       "      <th>Location</th>\n",
       "    </tr>\n",
       "  </thead>\n",
       "  <tbody>\n",
       "    <tr>\n",
       "      <th>417</th>\n",
       "      <td>ATO</td>\n",
       "      <td>ATMOS ENERGY CORP</td>\n",
       "      <td>Utilities</td>\n",
       "      <td>49560105</td>\n",
       "      <td>US0495601058</td>\n",
       "      <td>United States</td>\n",
       "    </tr>\n",
       "    <tr>\n",
       "      <th>809</th>\n",
       "      <td>ATO</td>\n",
       "      <td>ATOS</td>\n",
       "      <td>Information Technology</td>\n",
       "      <td>S56547813</td>\n",
       "      <td>FR0000051732</td>\n",
       "      <td>France</td>\n",
       "    </tr>\n",
       "  </tbody>\n",
       "</table>\n",
       "</div>"
      ],
      "text/plain": [
       "    Ticker               Name                  Sector      CUSIP  \\\n",
       "417    ATO  ATMOS ENERGY CORP               Utilities   49560105   \n",
       "809    ATO               ATOS  Information Technology  S56547813   \n",
       "\n",
       "             ISIN       Location  \n",
       "417  US0495601058  United States  \n",
       "809  FR0000051732         France  "
      ]
     },
     "execution_count": 13,
     "metadata": {},
     "output_type": "execute_result"
    }
   ],
   "source": [
    "df_ishares[df_ishares.Ticker == 'ATO']"
   ]
  },
  {
   "cell_type": "markdown",
   "id": "infectious-protein",
   "metadata": {},
   "source": [
    "It seems the ticker is not globally unique. We are going to filter by United States because our pilot stocks belongs to the SP500 US Stocks. "
   ]
  },
  {
   "cell_type": "code",
   "execution_count": 14,
   "id": "adequate-renewal",
   "metadata": {},
   "outputs": [
    {
     "name": "stdout",
     "output_type": "stream",
     "text": [
      "Now, we have 52 tickers.\n"
     ]
    }
   ],
   "source": [
    "df_us = df.loc[(df.Ticker.isin(tickers)) & (df.Location == 'United States'), ['Ticker']]\n",
    "print(f'Now, we have {len(df_us.Ticker.unique())} tickers.')"
   ]
  },
  {
   "cell_type": "markdown",
   "id": "local-karen",
   "metadata": {},
   "source": [
    "We know that we weren't able to match the ISIN for all the companies in the Environmental Intensity dataset. However, let's see the ones that we were able too and validate they matched correctly. "
   ]
  },
  {
   "cell_type": "code",
   "execution_count": 15,
   "id": "catholic-publisher",
   "metadata": {},
   "outputs": [
    {
     "name": "stdout",
     "output_type": "stream",
     "text": [
      "487\n",
      "(495, 8)\n"
     ]
    }
   ],
   "source": [
    "found = df.loc[(df.Ticker.notna()) & (df.CompanyName.notna()),]\n",
    "print(len(found.Ticker.unique()))\n",
    "print(found.shape)"
   ]
  },
  {
   "cell_type": "markdown",
   "id": "suburban-office",
   "metadata": {},
   "source": [
    "Could it be possible to have duplicate values? Let's subset for the records that have the same ticker."
   ]
  },
  {
   "cell_type": "code",
   "execution_count": 16,
   "id": "prostate-macro",
   "metadata": {},
   "outputs": [
    {
     "data": {
      "text/html": [
       "<div>\n",
       "<style scoped>\n",
       "    .dataframe tbody tr th:only-of-type {\n",
       "        vertical-align: middle;\n",
       "    }\n",
       "\n",
       "    .dataframe tbody tr th {\n",
       "        vertical-align: top;\n",
       "    }\n",
       "\n",
       "    .dataframe thead th {\n",
       "        text-align: right;\n",
       "    }\n",
       "</style>\n",
       "<table border=\"1\" class=\"dataframe\">\n",
       "  <thead>\n",
       "    <tr style=\"text-align: right;\">\n",
       "      <th></th>\n",
       "      <th>Ticker</th>\n",
       "      <th>Name</th>\n",
       "      <th>Sector</th>\n",
       "      <th>CUSIP</th>\n",
       "      <th>ISIN</th>\n",
       "      <th>Location</th>\n",
       "      <th>CompanyName</th>\n",
       "      <th>Country</th>\n",
       "    </tr>\n",
       "  </thead>\n",
       "  <tbody>\n",
       "    <tr>\n",
       "      <th>428</th>\n",
       "      <td>AAL</td>\n",
       "      <td>AMERICAN AIRLINES GROUP INC</td>\n",
       "      <td>Industrials</td>\n",
       "      <td>02376R102</td>\n",
       "      <td>US02376R1023</td>\n",
       "      <td>United States</td>\n",
       "      <td>AMERICAN AIRLINES GROUP INC</td>\n",
       "      <td>United States</td>\n",
       "    </tr>\n",
       "    <tr>\n",
       "      <th>557</th>\n",
       "      <td>AAL</td>\n",
       "      <td>ANGLO AMERICAN PLC</td>\n",
       "      <td>Materials</td>\n",
       "      <td>-</td>\n",
       "      <td>GB00B1XZS820</td>\n",
       "      <td>United Kingdom</td>\n",
       "      <td>ANGLO AMERICAN PLC</td>\n",
       "      <td>United Kingdom</td>\n",
       "    </tr>\n",
       "    <tr>\n",
       "      <th>99</th>\n",
       "      <td>ADP</td>\n",
       "      <td>AUTOMATIC DATA PROCESSING INC</td>\n",
       "      <td>Information Technology</td>\n",
       "      <td>53015103</td>\n",
       "      <td>US0530151036</td>\n",
       "      <td>United States</td>\n",
       "      <td>AUTOMATIC DATA PROCESSING, INC.</td>\n",
       "      <td>United States</td>\n",
       "    </tr>\n",
       "    <tr>\n",
       "      <th>866</th>\n",
       "      <td>ADP</td>\n",
       "      <td>AEROPORTS DE PARIS SA</td>\n",
       "      <td>Industrials</td>\n",
       "      <td>-</td>\n",
       "      <td>FR0010340141</td>\n",
       "      <td>France</td>\n",
       "      <td>AEROPORTS DE PARIS</td>\n",
       "      <td>France</td>\n",
       "    </tr>\n",
       "    <tr>\n",
       "      <th>271</th>\n",
       "      <td>DTE</td>\n",
       "      <td>DTE ENERGY</td>\n",
       "      <td>Utilities</td>\n",
       "      <td>233331107</td>\n",
       "      <td>US2333311072</td>\n",
       "      <td>United States</td>\n",
       "      <td>DTE ENERGY COMPANY</td>\n",
       "      <td>United States</td>\n",
       "    </tr>\n",
       "    <tr>\n",
       "      <th>540</th>\n",
       "      <td>DTE</td>\n",
       "      <td>DEUTSCHE TELEKOM N AG</td>\n",
       "      <td>Communication</td>\n",
       "      <td>S58423591</td>\n",
       "      <td>DE0005557508</td>\n",
       "      <td>Germany</td>\n",
       "      <td>DEUTSCHE TELEKOM AG</td>\n",
       "      <td>Germany</td>\n",
       "    </tr>\n",
       "  </tbody>\n",
       "</table>\n",
       "</div>"
      ],
      "text/plain": [
       "    Ticker                           Name                  Sector      CUSIP  \\\n",
       "428    AAL    AMERICAN AIRLINES GROUP INC             Industrials  02376R102   \n",
       "557    AAL             ANGLO AMERICAN PLC               Materials          -   \n",
       "99     ADP  AUTOMATIC DATA PROCESSING INC  Information Technology   53015103   \n",
       "866    ADP          AEROPORTS DE PARIS SA             Industrials          -   \n",
       "271    DTE                     DTE ENERGY               Utilities  233331107   \n",
       "540    DTE          DEUTSCHE TELEKOM N AG           Communication  S58423591   \n",
       "\n",
       "             ISIN        Location                      CompanyName  \\\n",
       "428  US02376R1023   United States      AMERICAN AIRLINES GROUP INC   \n",
       "557  GB00B1XZS820  United Kingdom               ANGLO AMERICAN PLC   \n",
       "99   US0530151036   United States  AUTOMATIC DATA PROCESSING, INC.   \n",
       "866  FR0010340141          France               AEROPORTS DE PARIS   \n",
       "271  US2333311072   United States               DTE ENERGY COMPANY   \n",
       "540  DE0005557508         Germany              DEUTSCHE TELEKOM AG   \n",
       "\n",
       "            Country  \n",
       "428   United States  \n",
       "557  United Kingdom  \n",
       "99    United States  \n",
       "866          France  \n",
       "271   United States  \n",
       "540         Germany  "
      ]
     },
     "execution_count": 16,
     "metadata": {},
     "output_type": "execute_result"
    }
   ],
   "source": [
    "ticker_agg = found.groupby('Ticker')[['Name']].count().sort_values(by='Name', ascending=False).reset_index()\n",
    "tickers2 = ticker_agg[ticker_agg.Name >= 2]['Ticker']\n",
    "df3 = found[found.Ticker.isin(tickers2)].sort_values(by='Ticker')\n",
    "df3.head(6)"
   ]
  },
  {
   "cell_type": "markdown",
   "id": "labeled-japanese",
   "metadata": {},
   "source": [
    "It happened the same thing as before, it seems the Ticker is not globally unique. However, it seems it matches correctly by ISIN. We did a little research and found that AAL in UK actually is AAL.L in Yahoo Finance. \n",
    "\n",
    "Another example,  DTE- DEUTSCHE TELEKOM ticker in Yahoo Finance is DTE.DE.  We decided to re-format the Ticker for the companies that are not from US. To some of them, we need to add '.' + 'the first two letters from the ISIN' to the current ticker. \n",
    "\n",
    "Let's see. "
   ]
  },
  {
   "cell_type": "code",
   "execution_count": 17,
   "id": "associate-polls",
   "metadata": {},
   "outputs": [
    {
     "data": {
      "text/html": [
       "<div>\n",
       "<style scoped>\n",
       "    .dataframe tbody tr th:only-of-type {\n",
       "        vertical-align: middle;\n",
       "    }\n",
       "\n",
       "    .dataframe tbody tr th {\n",
       "        vertical-align: top;\n",
       "    }\n",
       "\n",
       "    .dataframe thead th {\n",
       "        text-align: right;\n",
       "    }\n",
       "</style>\n",
       "<table border=\"1\" class=\"dataframe\">\n",
       "  <thead>\n",
       "    <tr style=\"text-align: right;\">\n",
       "      <th></th>\n",
       "      <th>Ticker</th>\n",
       "      <th>Name</th>\n",
       "      <th>Sector</th>\n",
       "      <th>CUSIP</th>\n",
       "      <th>ISIN</th>\n",
       "      <th>Location</th>\n",
       "      <th>CompanyName</th>\n",
       "      <th>Country</th>\n",
       "    </tr>\n",
       "  </thead>\n",
       "  <tbody>\n",
       "    <tr>\n",
       "      <th>428</th>\n",
       "      <td>AAL</td>\n",
       "      <td>AMERICAN AIRLINES GROUP INC</td>\n",
       "      <td>Industrials</td>\n",
       "      <td>02376R102</td>\n",
       "      <td>US02376R1023</td>\n",
       "      <td>United States</td>\n",
       "      <td>AMERICAN AIRLINES GROUP INC</td>\n",
       "      <td>United States</td>\n",
       "    </tr>\n",
       "    <tr>\n",
       "      <th>557</th>\n",
       "      <td>AAL</td>\n",
       "      <td>ANGLO AMERICAN PLC</td>\n",
       "      <td>Materials</td>\n",
       "      <td>-</td>\n",
       "      <td>GB00B1XZS820</td>\n",
       "      <td>United Kingdom</td>\n",
       "      <td>ANGLO AMERICAN PLC</td>\n",
       "      <td>United Kingdom</td>\n",
       "    </tr>\n",
       "    <tr>\n",
       "      <th>735</th>\n",
       "      <td>ADM</td>\n",
       "      <td>ADMIRAL GROUP PLC</td>\n",
       "      <td>Financials</td>\n",
       "      <td>-</td>\n",
       "      <td>GB00B02J6398</td>\n",
       "      <td>United Kingdom</td>\n",
       "      <td>ADMIRAL GROUP PLC</td>\n",
       "      <td>United Kingdom</td>\n",
       "    </tr>\n",
       "    <tr>\n",
       "      <th>234</th>\n",
       "      <td>ADM</td>\n",
       "      <td>ARCHER DANIELS MIDLAND</td>\n",
       "      <td>Consumer Staples</td>\n",
       "      <td>39483102</td>\n",
       "      <td>US0394831020</td>\n",
       "      <td>United States</td>\n",
       "      <td>NaN</td>\n",
       "      <td>NaN</td>\n",
       "    </tr>\n",
       "    <tr>\n",
       "      <th>866</th>\n",
       "      <td>ADP</td>\n",
       "      <td>AEROPORTS DE PARIS SA</td>\n",
       "      <td>Industrials</td>\n",
       "      <td>-</td>\n",
       "      <td>FR0010340141</td>\n",
       "      <td>France</td>\n",
       "      <td>AEROPORTS DE PARIS</td>\n",
       "      <td>France</td>\n",
       "    </tr>\n",
       "    <tr>\n",
       "      <th>99</th>\n",
       "      <td>ADP</td>\n",
       "      <td>AUTOMATIC DATA PROCESSING INC</td>\n",
       "      <td>Information Technology</td>\n",
       "      <td>53015103</td>\n",
       "      <td>US0530151036</td>\n",
       "      <td>United States</td>\n",
       "      <td>AUTOMATIC DATA PROCESSING, INC.</td>\n",
       "      <td>United States</td>\n",
       "    </tr>\n",
       "  </tbody>\n",
       "</table>\n",
       "</div>"
      ],
      "text/plain": [
       "    Ticker                           Name                  Sector      CUSIP  \\\n",
       "428    AAL    AMERICAN AIRLINES GROUP INC             Industrials  02376R102   \n",
       "557    AAL             ANGLO AMERICAN PLC               Materials          -   \n",
       "735    ADM              ADMIRAL GROUP PLC              Financials          -   \n",
       "234    ADM         ARCHER DANIELS MIDLAND        Consumer Staples   39483102   \n",
       "866    ADP          AEROPORTS DE PARIS SA             Industrials          -   \n",
       "99     ADP  AUTOMATIC DATA PROCESSING INC  Information Technology   53015103   \n",
       "\n",
       "             ISIN        Location                      CompanyName  \\\n",
       "428  US02376R1023   United States      AMERICAN AIRLINES GROUP INC   \n",
       "557  GB00B1XZS820  United Kingdom               ANGLO AMERICAN PLC   \n",
       "735  GB00B02J6398  United Kingdom                ADMIRAL GROUP PLC   \n",
       "234  US0394831020   United States                              NaN   \n",
       "866  FR0010340141          France               AEROPORTS DE PARIS   \n",
       "99   US0530151036   United States  AUTOMATIC DATA PROCESSING, INC.   \n",
       "\n",
       "            Country  \n",
       "428   United States  \n",
       "557  United Kingdom  \n",
       "735  United Kingdom  \n",
       "234             NaN  \n",
       "866          France  \n",
       "99    United States  "
      ]
     },
     "execution_count": 17,
     "metadata": {},
     "output_type": "execute_result"
    }
   ],
   "source": [
    "ticker_agg = df.groupby('Ticker')[['Name']].count().sort_values(by='Name', ascending=False).reset_index()\n",
    "tickers2 = ticker_agg[ticker_agg.Name >= 2]['Ticker']\n",
    "df3 = df[df.Ticker.isin(tickers2)].sort_values(by='Ticker')\n",
    "df3.head(6)"
   ]
  },
  {
   "cell_type": "code",
   "execution_count": 18,
   "id": "further-reasoning",
   "metadata": {},
   "outputs": [
    {
     "data": {
      "text/html": [
       "<div>\n",
       "<style scoped>\n",
       "    .dataframe tbody tr th:only-of-type {\n",
       "        vertical-align: middle;\n",
       "    }\n",
       "\n",
       "    .dataframe tbody tr th {\n",
       "        vertical-align: top;\n",
       "    }\n",
       "\n",
       "    .dataframe thead th {\n",
       "        text-align: right;\n",
       "    }\n",
       "</style>\n",
       "<table border=\"1\" class=\"dataframe\">\n",
       "  <thead>\n",
       "    <tr style=\"text-align: right;\">\n",
       "      <th></th>\n",
       "      <th>Ticker</th>\n",
       "      <th>Name</th>\n",
       "      <th>Sector</th>\n",
       "      <th>CUSIP</th>\n",
       "      <th>ISIN</th>\n",
       "      <th>Location</th>\n",
       "      <th>CompanyName</th>\n",
       "      <th>Country</th>\n",
       "    </tr>\n",
       "  </thead>\n",
       "  <tbody>\n",
       "    <tr>\n",
       "      <th>557</th>\n",
       "      <td>AAL</td>\n",
       "      <td>ANGLO AMERICAN PLC</td>\n",
       "      <td>Materials</td>\n",
       "      <td>-</td>\n",
       "      <td>GB00B1XZS820</td>\n",
       "      <td>United Kingdom</td>\n",
       "      <td>ANGLO AMERICAN PLC</td>\n",
       "      <td>United Kingdom</td>\n",
       "    </tr>\n",
       "    <tr>\n",
       "      <th>735</th>\n",
       "      <td>ADM</td>\n",
       "      <td>ADMIRAL GROUP PLC</td>\n",
       "      <td>Financials</td>\n",
       "      <td>-</td>\n",
       "      <td>GB00B02J6398</td>\n",
       "      <td>United Kingdom</td>\n",
       "      <td>ADMIRAL GROUP PLC</td>\n",
       "      <td>United Kingdom</td>\n",
       "    </tr>\n",
       "    <tr>\n",
       "      <th>866</th>\n",
       "      <td>ADP</td>\n",
       "      <td>AEROPORTS DE PARIS SA</td>\n",
       "      <td>Industrials</td>\n",
       "      <td>-</td>\n",
       "      <td>FR0010340141</td>\n",
       "      <td>France</td>\n",
       "      <td>AEROPORTS DE PARIS</td>\n",
       "      <td>France</td>\n",
       "    </tr>\n",
       "    <tr>\n",
       "      <th>802</th>\n",
       "      <td>ATO</td>\n",
       "      <td>ATOS</td>\n",
       "      <td>Information Technology</td>\n",
       "      <td>S56547813</td>\n",
       "      <td>FR0000051732</td>\n",
       "      <td>France</td>\n",
       "      <td>ATOS SE</td>\n",
       "      <td>France</td>\n",
       "    </tr>\n",
       "    <tr>\n",
       "      <th>553</th>\n",
       "      <td>DG</td>\n",
       "      <td>VINCI SA</td>\n",
       "      <td>Industrials</td>\n",
       "      <td>-</td>\n",
       "      <td>FR0000125486</td>\n",
       "      <td>France</td>\n",
       "      <td>VINCI</td>\n",
       "      <td>France</td>\n",
       "    </tr>\n",
       "    <tr>\n",
       "      <th>540</th>\n",
       "      <td>DTE</td>\n",
       "      <td>DEUTSCHE TELEKOM N AG</td>\n",
       "      <td>Communication</td>\n",
       "      <td>S58423591</td>\n",
       "      <td>DE0005557508</td>\n",
       "      <td>Germany</td>\n",
       "      <td>DEUTSCHE TELEKOM AG</td>\n",
       "      <td>Germany</td>\n",
       "    </tr>\n",
       "    <tr>\n",
       "      <th>560</th>\n",
       "      <td>EL</td>\n",
       "      <td>ESSILORLUXOTTICA SA</td>\n",
       "      <td>Consumer Discretionary</td>\n",
       "      <td>S72124779</td>\n",
       "      <td>FR0000121667</td>\n",
       "      <td>France</td>\n",
       "      <td>ESSILORLUXOTTICA SA</td>\n",
       "      <td>France</td>\n",
       "    </tr>\n",
       "    <tr>\n",
       "      <th>731</th>\n",
       "      <td>LEG</td>\n",
       "      <td>LEG IMMOBILIEN N AG</td>\n",
       "      <td>Real Estate</td>\n",
       "      <td>-</td>\n",
       "      <td>DE000LEG1110</td>\n",
       "      <td>Germany</td>\n",
       "      <td>LEG IMMOBILIEN AG</td>\n",
       "      <td>Germany</td>\n",
       "    </tr>\n",
       "    <tr>\n",
       "      <th>631</th>\n",
       "      <td>MRK</td>\n",
       "      <td>MERCK</td>\n",
       "      <td>Health Care</td>\n",
       "      <td>S47418447</td>\n",
       "      <td>DE0006599905</td>\n",
       "      <td>Germany</td>\n",
       "      <td>MERCK KGAA</td>\n",
       "      <td>Germany</td>\n",
       "    </tr>\n",
       "    <tr>\n",
       "      <th>726</th>\n",
       "      <td>MRO</td>\n",
       "      <td>MELROSE INDUSTRIES PLC</td>\n",
       "      <td>Industrials</td>\n",
       "      <td>-</td>\n",
       "      <td>GB00BZ1G4322</td>\n",
       "      <td>United Kingdom</td>\n",
       "      <td>MELROSE INDUSTRIES PLC</td>\n",
       "      <td>United Kingdom</td>\n",
       "    </tr>\n",
       "    <tr>\n",
       "      <th>563</th>\n",
       "      <td>PRU</td>\n",
       "      <td>PRUDENTIAL PLC</td>\n",
       "      <td>Financials</td>\n",
       "      <td>S07099542</td>\n",
       "      <td>GB0007099541</td>\n",
       "      <td>United Kingdom</td>\n",
       "      <td>PRUDENTIAL PLC</td>\n",
       "      <td>United Kingdom</td>\n",
       "    </tr>\n",
       "    <tr>\n",
       "      <th>547</th>\n",
       "      <td>SAN</td>\n",
       "      <td>BANCO SANTANDER SA</td>\n",
       "      <td>Financials</td>\n",
       "      <td>S57059461</td>\n",
       "      <td>ES0113900J37</td>\n",
       "      <td>Spain</td>\n",
       "      <td>BANCO SANTANDER SA</td>\n",
       "      <td>Spain</td>\n",
       "    </tr>\n",
       "    <tr>\n",
       "      <th>516</th>\n",
       "      <td>SAN</td>\n",
       "      <td>SANOFI SA</td>\n",
       "      <td>Health Care</td>\n",
       "      <td>S56717358</td>\n",
       "      <td>FR0000120578</td>\n",
       "      <td>France</td>\n",
       "      <td>SANOFI S.A.</td>\n",
       "      <td>France</td>\n",
       "    </tr>\n",
       "    <tr>\n",
       "      <th>739</th>\n",
       "      <td>TEL</td>\n",
       "      <td>TELENOR</td>\n",
       "      <td>Communication</td>\n",
       "      <td>S47324959</td>\n",
       "      <td>NO0010063308</td>\n",
       "      <td>Norway</td>\n",
       "      <td>TELENOR GROUP ASA</td>\n",
       "      <td>Norway</td>\n",
       "    </tr>\n",
       "    <tr>\n",
       "      <th>586</th>\n",
       "      <td>TSCO</td>\n",
       "      <td>TESCO PLC</td>\n",
       "      <td>Consumer Staples</td>\n",
       "      <td>S08847097</td>\n",
       "      <td>GB0008847096</td>\n",
       "      <td>United Kingdom</td>\n",
       "      <td>TESCO PLC</td>\n",
       "      <td>United Kingdom</td>\n",
       "    </tr>\n",
       "  </tbody>\n",
       "</table>\n",
       "</div>"
      ],
      "text/plain": [
       "    Ticker                    Name                  Sector      CUSIP  \\\n",
       "557    AAL      ANGLO AMERICAN PLC               Materials          -   \n",
       "735    ADM       ADMIRAL GROUP PLC              Financials          -   \n",
       "866    ADP   AEROPORTS DE PARIS SA             Industrials          -   \n",
       "802    ATO                    ATOS  Information Technology  S56547813   \n",
       "553     DG                VINCI SA             Industrials          -   \n",
       "540    DTE   DEUTSCHE TELEKOM N AG           Communication  S58423591   \n",
       "560     EL     ESSILORLUXOTTICA SA  Consumer Discretionary  S72124779   \n",
       "731    LEG     LEG IMMOBILIEN N AG             Real Estate          -   \n",
       "631    MRK                   MERCK             Health Care  S47418447   \n",
       "726    MRO  MELROSE INDUSTRIES PLC             Industrials          -   \n",
       "563    PRU          PRUDENTIAL PLC              Financials  S07099542   \n",
       "547    SAN      BANCO SANTANDER SA              Financials  S57059461   \n",
       "516    SAN               SANOFI SA             Health Care  S56717358   \n",
       "739    TEL                 TELENOR           Communication  S47324959   \n",
       "586   TSCO               TESCO PLC        Consumer Staples  S08847097   \n",
       "\n",
       "             ISIN        Location             CompanyName         Country  \n",
       "557  GB00B1XZS820  United Kingdom      ANGLO AMERICAN PLC  United Kingdom  \n",
       "735  GB00B02J6398  United Kingdom       ADMIRAL GROUP PLC  United Kingdom  \n",
       "866  FR0010340141          France      AEROPORTS DE PARIS          France  \n",
       "802  FR0000051732          France                 ATOS SE          France  \n",
       "553  FR0000125486          France                   VINCI          France  \n",
       "540  DE0005557508         Germany     DEUTSCHE TELEKOM AG         Germany  \n",
       "560  FR0000121667          France     ESSILORLUXOTTICA SA          France  \n",
       "731  DE000LEG1110         Germany       LEG IMMOBILIEN AG         Germany  \n",
       "631  DE0006599905         Germany              MERCK KGAA         Germany  \n",
       "726  GB00BZ1G4322  United Kingdom  MELROSE INDUSTRIES PLC  United Kingdom  \n",
       "563  GB0007099541  United Kingdom          PRUDENTIAL PLC  United Kingdom  \n",
       "547  ES0113900J37           Spain      BANCO SANTANDER SA           Spain  \n",
       "516  FR0000120578          France             SANOFI S.A.          France  \n",
       "739  NO0010063308          Norway       TELENOR GROUP ASA          Norway  \n",
       "586  GB0008847096  United Kingdom               TESCO PLC  United Kingdom  "
      ]
     },
     "execution_count": 18,
     "metadata": {},
     "output_type": "execute_result"
    }
   ],
   "source": [
    "df4 = df3[df3.Location != 'United States']\n",
    "df4"
   ]
  },
  {
   "cell_type": "code",
   "execution_count": 19,
   "id": "romance-messenger",
   "metadata": {},
   "outputs": [],
   "source": [
    "ticker = df4.Ticker.tolist()\n",
    "yahoo_ticker = ['AAL.L','ADM.L','ADP.PA','ATO.PA','DG.PA','DTE.DE','EL.PA','LEG.DE','MRK.DE','MRO.L','PRU.L','SAN.PA','SAN.MC','TEL.OL','TSCO.L']"
   ]
  },
  {
   "cell_type": "code",
   "execution_count": 20,
   "id": "norwegian-kazakhstan",
   "metadata": {},
   "outputs": [
    {
     "data": {
      "text/html": [
       "<div>\n",
       "<style scoped>\n",
       "    .dataframe tbody tr th:only-of-type {\n",
       "        vertical-align: middle;\n",
       "    }\n",
       "\n",
       "    .dataframe tbody tr th {\n",
       "        vertical-align: top;\n",
       "    }\n",
       "\n",
       "    .dataframe thead th {\n",
       "        text-align: right;\n",
       "    }\n",
       "</style>\n",
       "<table border=\"1\" class=\"dataframe\">\n",
       "  <thead>\n",
       "    <tr style=\"text-align: right;\">\n",
       "      <th></th>\n",
       "      <th>Ticker</th>\n",
       "      <th>Name</th>\n",
       "      <th>Sector</th>\n",
       "      <th>CUSIP</th>\n",
       "      <th>ISIN</th>\n",
       "      <th>Location</th>\n",
       "      <th>CompanyName</th>\n",
       "      <th>Country</th>\n",
       "    </tr>\n",
       "  </thead>\n",
       "  <tbody>\n",
       "    <tr>\n",
       "      <th>867</th>\n",
       "      <td>-</td>\n",
       "      <td>IBERDROLA SA</td>\n",
       "      <td>Utilities</td>\n",
       "      <td>-</td>\n",
       "      <td>ES0144583236</td>\n",
       "      <td>Spain</td>\n",
       "      <td>NaN</td>\n",
       "      <td>NaN</td>\n",
       "    </tr>\n",
       "    <tr>\n",
       "      <th>711</th>\n",
       "      <td>1COV</td>\n",
       "      <td>COVESTRO AG</td>\n",
       "      <td>Materials</td>\n",
       "      <td>-</td>\n",
       "      <td>DE0006062144</td>\n",
       "      <td>Germany</td>\n",
       "      <td>COVESTRO AG</td>\n",
       "      <td>Germany</td>\n",
       "    </tr>\n",
       "    <tr>\n",
       "      <th>170</th>\n",
       "      <td>A</td>\n",
       "      <td>AGILENT TECHNOLOGIES INC</td>\n",
       "      <td>Health Care</td>\n",
       "      <td>00846U101</td>\n",
       "      <td>US00846U1016</td>\n",
       "      <td>United States</td>\n",
       "      <td>AGILENT TECHNOLOGIES, INC.</td>\n",
       "      <td>United States</td>\n",
       "    </tr>\n",
       "    <tr>\n",
       "      <th>428</th>\n",
       "      <td>AAL</td>\n",
       "      <td>AMERICAN AIRLINES GROUP INC</td>\n",
       "      <td>Industrials</td>\n",
       "      <td>02376R102</td>\n",
       "      <td>US02376R1023</td>\n",
       "      <td>United States</td>\n",
       "      <td>AMERICAN AIRLINES GROUP INC</td>\n",
       "      <td>United States</td>\n",
       "    </tr>\n",
       "    <tr>\n",
       "      <th>557</th>\n",
       "      <td>AAL.L</td>\n",
       "      <td>ANGLO AMERICAN PLC</td>\n",
       "      <td>Materials</td>\n",
       "      <td>-</td>\n",
       "      <td>GB00B1XZS820</td>\n",
       "      <td>United Kingdom</td>\n",
       "      <td>ANGLO AMERICAN PLC</td>\n",
       "      <td>United Kingdom</td>\n",
       "    </tr>\n",
       "  </tbody>\n",
       "</table>\n",
       "</div>"
      ],
      "text/plain": [
       "    Ticker                         Name       Sector      CUSIP          ISIN  \\\n",
       "867      -                 IBERDROLA SA    Utilities          -  ES0144583236   \n",
       "711   1COV                  COVESTRO AG    Materials          -  DE0006062144   \n",
       "170      A     AGILENT TECHNOLOGIES INC  Health Care  00846U101  US00846U1016   \n",
       "428    AAL  AMERICAN AIRLINES GROUP INC  Industrials  02376R102  US02376R1023   \n",
       "557  AAL.L           ANGLO AMERICAN PLC    Materials          -  GB00B1XZS820   \n",
       "\n",
       "           Location                  CompanyName         Country  \n",
       "867           Spain                          NaN             NaN  \n",
       "711         Germany                  COVESTRO AG         Germany  \n",
       "170   United States   AGILENT TECHNOLOGIES, INC.   United States  \n",
       "428   United States  AMERICAN AIRLINES GROUP INC   United States  \n",
       "557  United Kingdom           ANGLO AMERICAN PLC  United Kingdom  "
      ]
     },
     "execution_count": 20,
     "metadata": {},
     "output_type": "execute_result"
    }
   ],
   "source": [
    "df = df.sort_values(by='Ticker')\n",
    "df.loc[(df.Ticker.isin(ticker)) & (df.Location != 'United States'), 'Ticker'] = yahoo_ticker\n",
    "df.head()"
   ]
  },
  {
   "cell_type": "code",
   "execution_count": 21,
   "id": "comic-mathematics",
   "metadata": {},
   "outputs": [
    {
     "name": "stdout",
     "output_type": "stream",
     "text": [
      "870\n"
     ]
    }
   ],
   "source": [
    "print(len(df.Ticker.unique()))"
   ]
  },
  {
   "cell_type": "markdown",
   "id": "mysterious-custom",
   "metadata": {},
   "source": [
    "Now, we have 870 unique tickers that we can send to yahoo finance and get the company description. Below, we will create a tickers list. Also, we want to export the merged dataset to do some analysis onwards. "
   ]
  },
  {
   "cell_type": "code",
   "execution_count": 22,
   "id": "assigned-jordan",
   "metadata": {},
   "outputs": [],
   "source": [
    "tickers = df.Ticker.unique().tolist()"
   ]
  },
  {
   "cell_type": "code",
   "execution_count": 23,
   "id": "alleged-differential",
   "metadata": {},
   "outputs": [],
   "source": [
    "df.to_csv('df_merged.csv', index=False)"
   ]
  },
  {
   "cell_type": "markdown",
   "id": "roman-ticket",
   "metadata": {},
   "source": [
    "### Collecting companies data in Reuters website\n",
    "\n",
    "Reuters, the news and media division of Thomson Reuters, is the world's largest multimedia news provider, reaching billions of people worldwide every day.\n",
    "\n",
    "First, we are going to add '.OQ' to each ticker. T"
   ]
  },
  {
   "cell_type": "code",
   "execution_count": 137,
   "id": "ambient-happening",
   "metadata": {},
   "outputs": [],
   "source": [
    "tickers_US = df.loc[(df.Location == 'United States') & (df.Ticker.notna()),'Ticker'].unique().tolist()\n",
    "tickers_nonUS = df.loc[(df.Location != 'United States') & (df.Ticker.notna()),'Ticker'].unique().tolist()"
   ]
  },
  {
   "cell_type": "code",
   "execution_count": 139,
   "id": "normal-format",
   "metadata": {},
   "outputs": [
    {
     "data": {
      "text/plain": [
       "['-.S', '1COV.G', 'AAL.L.U', 'ABBN.S', 'ABF.U']"
      ]
     },
     "execution_count": 139,
     "metadata": {},
     "output_type": "execute_result"
    }
   ],
   "source": [
    "# reuter_ticker_nonUS = []\n",
    "# for ticker in tickers_nonUS:\n",
    "#     data = df.loc[df.Ticker == ticker, 'Location'].tolist()\n",
    "#     new_ticker = str(ticker) + '.' + str(data[0][0])\n",
    "#     reuter_ticker_nonUS.append(new_ticker)\n",
    "# reuter_ticker_nonUS[:5]"
   ]
  },
  {
   "cell_type": "code",
   "execution_count": 143,
   "id": "dependent-origin",
   "metadata": {},
   "outputs": [],
   "source": [
    "reuter_ticker = []\n",
    "for ticket in tickers_US:\n",
    "    ticket = str(ticket) + '.OQ'\n",
    "    reuter_ticker.append(ticket)"
   ]
  },
  {
   "cell_type": "code",
   "execution_count": 144,
   "id": "joined-injury",
   "metadata": {},
   "outputs": [],
   "source": [
    "# Create a loop to store URLs of all stocks' description page\n",
    "URL = [] \n",
    "DES = [] \n",
    "comp_desc = {}\n",
    "for i in reuter_ticker:\n",
    "    url ='https://www.reuters.com/companies/'+i \n",
    "    URL.append(url)\n",
    "    page = requests.get(url) # visits the URL\n",
    "    htmldata = BeautifulSoup(page.content, 'html.parser')\n",
    "    Business_Description = htmldata.find('p',{'class':'TextLabel__text-label___3oCVw TextLabel__black___2FN-Z TextLabel__serif___3lOpX Profile-body-2Aarn'}) # finds the business description part in the HTML code\n",
    "    if Business_Description is not None:\n",
    "        DES.append(Business_Description.text)\n",
    "        comp_desc[i] = [Business_Description.text]\n",
    "    else:\n",
    "        comp_desc[i] = 'Not exists'  "
   ]
  },
  {
   "cell_type": "code",
   "execution_count": 147,
   "id": "restricted-replacement",
   "metadata": {},
   "outputs": [
    {
     "name": "stdout",
     "output_type": "stream",
     "text": [
      "362\n",
      "143\n"
     ]
    }
   ],
   "source": [
    "exists = 0 \n",
    "do_not = 0\n",
    "for val in comp_desc.values():\n",
    "    if val == 'Not exists':\n",
    "        do_not+=1\n",
    "    else:\n",
    "        exists+=1\n",
    "\n",
    "print(do_not)\n",
    "print(exists)"
   ]
  },
  {
   "cell_type": "markdown",
   "id": "reverse-lunch",
   "metadata": {},
   "source": [
    "### Collect companies descriptions from Yahoo Finance\n",
    "\n",
    "In this section, we will grab the company description directly from the Yahoo Finance website for the 870 companies"
   ]
  },
  {
   "cell_type": "code",
   "execution_count": 25,
   "id": "sublime-trailer",
   "metadata": {},
   "outputs": [
    {
     "ename": "AttributeError",
     "evalue": "'NoneType' object has no attribute 'text'",
     "output_type": "error",
     "traceback": [
      "\u001b[0;31m---------------------------------------------------------------------------\u001b[0m",
      "\u001b[0;31mAttributeError\u001b[0m                            Traceback (most recent call last)",
      "\u001b[0;32m<ipython-input-25-98273b27ca0c>\u001b[0m in \u001b[0;36m<module>\u001b[0;34m\u001b[0m\n\u001b[1;32m     10\u001b[0m     \u001b[0mhtmldata\u001b[0m \u001b[0;34m=\u001b[0m \u001b[0mBeautifulSoup\u001b[0m\u001b[0;34m(\u001b[0m\u001b[0mpage\u001b[0m\u001b[0;34m.\u001b[0m\u001b[0mcontent\u001b[0m\u001b[0;34m,\u001b[0m \u001b[0;34m'html.parser'\u001b[0m\u001b[0;34m)\u001b[0m\u001b[0;34m\u001b[0m\u001b[0;34m\u001b[0m\u001b[0m\n\u001b[1;32m     11\u001b[0m     \u001b[0mBusiness_Description\u001b[0m \u001b[0;34m=\u001b[0m \u001b[0mhtmldata\u001b[0m\u001b[0;34m.\u001b[0m\u001b[0mfind\u001b[0m\u001b[0;34m(\u001b[0m\u001b[0;34m'p'\u001b[0m\u001b[0;34m,\u001b[0m\u001b[0;34m{\u001b[0m\u001b[0;34m'class'\u001b[0m\u001b[0;34m:\u001b[0m\u001b[0;34m'Mt(15px) Lh(1.6)'\u001b[0m\u001b[0;34m}\u001b[0m\u001b[0;34m)\u001b[0m \u001b[0;31m# finds the business description part in the HTML code\u001b[0m\u001b[0;34m\u001b[0m\u001b[0;34m\u001b[0m\u001b[0m\n\u001b[0;32m---> 12\u001b[0;31m     \u001b[0mDES\u001b[0m\u001b[0;34m.\u001b[0m\u001b[0mappend\u001b[0m\u001b[0;34m(\u001b[0m\u001b[0mBusiness_Description\u001b[0m\u001b[0;34m.\u001b[0m\u001b[0mtext\u001b[0m\u001b[0;34m)\u001b[0m\u001b[0;34m\u001b[0m\u001b[0;34m\u001b[0m\u001b[0m\n\u001b[0m\u001b[1;32m     13\u001b[0m     \u001b[0mcomp_desc\u001b[0m\u001b[0;34m[\u001b[0m\u001b[0mi\u001b[0m\u001b[0;34m]\u001b[0m \u001b[0;34m=\u001b[0m \u001b[0;34m[\u001b[0m\u001b[0mBusiness_Description\u001b[0m\u001b[0;34m.\u001b[0m\u001b[0mtext\u001b[0m\u001b[0;34m]\u001b[0m\u001b[0;34m\u001b[0m\u001b[0;34m\u001b[0m\u001b[0m\n",
      "\u001b[0;31mAttributeError\u001b[0m: 'NoneType' object has no attribute 'text'"
     ]
    }
   ],
   "source": [
    "# Create a loop to store URLs of all stocks' description page\n",
    "URL = [] \n",
    "DES = [] \n",
    "comp_desc = {}\n",
    "for i in tickers[:2]: \n",
    "    i = str(i)\n",
    "    url ='https://finance.yahoo.com/quote/'+i+'/profile' \n",
    "    URL.append(url)\n",
    "    page = requests.get(url) # visits the URL \n",
    "    htmldata = BeautifulSoup(page.content, 'html.parser')\n",
    "    Business_Description = htmldata.find('p',{'class':'Mt(15px) Lh(1.6)'}) # finds the business description part in the HTML code\n",
    "    DES.append(Business_Description.text)\n",
    "    comp_desc[i] = [Business_Description.text]"
   ]
  },
  {
   "cell_type": "code",
   "execution_count": 51,
   "id": "dominant-merchant",
   "metadata": {},
   "outputs": [
    {
     "data": {
      "text/html": [
       "<div>\n",
       "<style scoped>\n",
       "    .dataframe tbody tr th:only-of-type {\n",
       "        vertical-align: middle;\n",
       "    }\n",
       "\n",
       "    .dataframe tbody tr th {\n",
       "        vertical-align: top;\n",
       "    }\n",
       "\n",
       "    .dataframe thead th {\n",
       "        text-align: right;\n",
       "    }\n",
       "</style>\n",
       "<table border=\"1\" class=\"dataframe\">\n",
       "  <thead>\n",
       "    <tr style=\"text-align: right;\">\n",
       "      <th></th>\n",
       "      <th>Ticker</th>\n",
       "      <th>Description</th>\n",
       "    </tr>\n",
       "  </thead>\n",
       "  <tbody>\n",
       "    <tr>\n",
       "      <th>0</th>\n",
       "      <td>-</td>\n",
       "      <td>None</td>\n",
       "    </tr>\n",
       "    <tr>\n",
       "      <th>1</th>\n",
       "      <td>1COV</td>\n",
       "      <td>None</td>\n",
       "    </tr>\n",
       "    <tr>\n",
       "      <th>2</th>\n",
       "      <td>A</td>\n",
       "      <td>None</td>\n",
       "    </tr>\n",
       "    <tr>\n",
       "      <th>3</th>\n",
       "      <td>AAL</td>\n",
       "      <td>None</td>\n",
       "    </tr>\n",
       "    <tr>\n",
       "      <th>4</th>\n",
       "      <td>AAL.L</td>\n",
       "      <td>None</td>\n",
       "    </tr>\n",
       "  </tbody>\n",
       "</table>\n",
       "</div>"
      ],
      "text/plain": [
       "  Ticker Description\n",
       "0      -        None\n",
       "1   1COV        None\n",
       "2      A        None\n",
       "3    AAL        None\n",
       "4  AAL.L        None"
      ]
     },
     "execution_count": 51,
     "metadata": {},
     "output_type": "execute_result"
    }
   ],
   "source": [
    "df_comp_desc = pd.DataFrame.from_dict(comp_desc, orient='index', columns = ['Description'])\n",
    "df_comp_desc.reset_index(inplace = True)\n",
    "df_comp_desc.rename(columns = {'index':'Ticker'}, inplace=True)\n",
    "df_comp_desc.head()"
   ]
  },
  {
   "cell_type": "code",
   "execution_count": 52,
   "id": "introductory-directive",
   "metadata": {},
   "outputs": [],
   "source": [
    "df_comp_desc.to_csv('Companydescription.csv',index=False)"
   ]
  },
  {
   "cell_type": "markdown",
   "id": "outer-filling",
   "metadata": {},
   "source": [
    "### Start working with the DistilBERT\n",
    "\n",
    "If you don't have the package install, you might need to run: !pip install transformers\n",
    "\n",
    "If you do, only import the packcage and continue working. "
   ]
  },
  {
   "cell_type": "code",
   "execution_count": null,
   "id": "exterior-lobby",
   "metadata": {},
   "outputs": [],
   "source": []
  }
 ],
 "metadata": {
  "kernelspec": {
   "display_name": "Python 3",
   "language": "python",
   "name": "python3"
  },
  "language_info": {
   "codemirror_mode": {
    "name": "ipython",
    "version": 3
   },
   "file_extension": ".py",
   "mimetype": "text/x-python",
   "name": "python",
   "nbconvert_exporter": "python",
   "pygments_lexer": "ipython3",
   "version": "3.8.8"
  }
 },
 "nbformat": 4,
 "nbformat_minor": 5
}
