{
  "nbformat": 4,
  "nbformat_minor": 0,
  "metadata": {
    "colab": {
      "name": "EnvironmentalIntensity_ average2017,2018,2019.ipynb",
      "provenance": [],
      "collapsed_sections": []
    },
    "kernelspec": {
      "name": "python3",
      "display_name": "Python 3"
    },
    "language_info": {
      "name": "python"
    }
  },
  "cells": [
    {
      "cell_type": "code",
      "metadata": {
        "colab": {
          "base_uri": "https://localhost:8080/"
        },
        "id": "_YGP4UMRv-Vt",
        "outputId": "39138ca3-74ff-460a-e74a-9729541b811d"
      },
      "source": [
        "import pandas as pd\n",
        "import numpy as np\n",
        "import seaborn as sns\n",
        "import matplotlib.pyplot as plt\n",
        "import statsmodels.api as sm\n",
        "from sklearn.preprocessing import StandardScaler\n",
        "from sklearn.metrics import mean_squared_error\n",
        "from sklearn.model_selection import train_test_split\n",
        "from sklearn.linear_model import LinearRegression, Lasso"
      ],
      "execution_count": null,
      "outputs": [
        {
          "output_type": "stream",
          "text": [
            "/usr/local/lib/python3.7/dist-packages/statsmodels/tools/_testing.py:19: FutureWarning: pandas.util.testing is deprecated. Use the functions in the public API at pandas.testing instead.\n",
            "  import pandas.util.testing as tm\n"
          ],
          "name": "stderr"
        }
      ]
    },
    {
      "cell_type": "code",
      "metadata": {
        "colab": {
          "base_uri": "https://localhost:8080/",
          "height": 378
        },
        "id": "BZIe0Y92wQgf",
        "outputId": "40c4a4e9-8756-4a64-ac15-eb7f7cbe5f91"
      },
      "source": [
        "df=pd.read_csv('EE-ISIN_merged.csv')\n",
        "df.head()"
      ],
      "execution_count": null,
      "outputs": [
        {
          "output_type": "execute_result",
          "data": {
            "text/html": [
              "<div>\n",
              "<style scoped>\n",
              "    .dataframe tbody tr th:only-of-type {\n",
              "        vertical-align: middle;\n",
              "    }\n",
              "\n",
              "    .dataframe tbody tr th {\n",
              "        vertical-align: top;\n",
              "    }\n",
              "\n",
              "    .dataframe thead th {\n",
              "        text-align: right;\n",
              "    }\n",
              "</style>\n",
              "<table border=\"1\" class=\"dataframe\">\n",
              "  <thead>\n",
              "    <tr style=\"text-align: right;\">\n",
              "      <th></th>\n",
              "      <th>Unnamed: 0</th>\n",
              "      <th>ISIN</th>\n",
              "      <th>Year</th>\n",
              "      <th>CompanyName</th>\n",
              "      <th>Country</th>\n",
              "      <th>Industry(Exiobase)</th>\n",
              "      <th>EnvironmentalIntensity(Sales)</th>\n",
              "      <th>EnvironmentalIntensity(OpInc)</th>\n",
              "      <th>TotalEnvironmentalCost</th>\n",
              "      <th>WorkingCapacity</th>\n",
              "      <th>FishProductionCapacity</th>\n",
              "      <th>CropProductionCapacity</th>\n",
              "      <th>MeatProductionCapacity</th>\n",
              "      <th>Biodiversity</th>\n",
              "      <th>AbioticResources</th>\n",
              "      <th>Waterproductioncapacity(Drinkingwater&amp;IrrigationWater)</th>\n",
              "      <th>WoodProductionCapacity</th>\n",
              "      <th>SDG1.5</th>\n",
              "      <th>SDG2.1</th>\n",
              "      <th>SDG2.2</th>\n",
              "      <th>SDG2.3</th>\n",
              "      <th>SDG2.4</th>\n",
              "      <th>SDG3.3</th>\n",
              "      <th>SDG3.4</th>\n",
              "      <th>SDG3.9</th>\n",
              "      <th>SDG6</th>\n",
              "      <th>SDG12.2</th>\n",
              "      <th>SDG14.1</th>\n",
              "      <th>SDG14.2</th>\n",
              "      <th>SDG14.3</th>\n",
              "      <th>SDG14.c</th>\n",
              "      <th>SDG15.1</th>\n",
              "      <th>SDG15.2</th>\n",
              "      <th>SDG15.5</th>\n",
              "      <th>%Imputed</th>\n",
              "      <th>gvkey</th>\n",
              "      <th>fyear</th>\n",
              "      <th>datadate</th>\n",
              "      <th>at</th>\n",
              "      <th>isin</th>\n",
              "      <th>conm</th>\n",
              "      <th>fic</th>\n",
              "      <th>sic</th>\n",
              "    </tr>\n",
              "  </thead>\n",
              "  <tbody>\n",
              "    <tr>\n",
              "      <th>0</th>\n",
              "      <td>0</td>\n",
              "      <td>MYL1818OO003</td>\n",
              "      <td>2019</td>\n",
              "      <td>BURSA MALAYSIA BHD</td>\n",
              "      <td>Malaysia</td>\n",
              "      <td>Activities auxiliary to financial intermediati...</td>\n",
              "      <td>-1.68%</td>\n",
              "      <td>-3.47%</td>\n",
              "      <td>(1,968,379)</td>\n",
              "      <td>(1,924,910)</td>\n",
              "      <td>(451)</td>\n",
              "      <td>(25,349)</td>\n",
              "      <td>(5,938)</td>\n",
              "      <td>(81)</td>\n",
              "      <td>(168)</td>\n",
              "      <td>(11,502)</td>\n",
              "      <td>20</td>\n",
              "      <td>(852,646)</td>\n",
              "      <td>(502,708)</td>\n",
              "      <td>(502,460)</td>\n",
              "      <td>(6,337)</td>\n",
              "      <td>(6,337)</td>\n",
              "      <td>(81,118)</td>\n",
              "      <td>(4,791)</td>\n",
              "      <td>(27)</td>\n",
              "      <td>(11,502)</td>\n",
              "      <td>(168)</td>\n",
              "      <td>(1)</td>\n",
              "      <td>(1)</td>\n",
              "      <td>(222)</td>\n",
              "      <td>(2)</td>\n",
              "      <td>10</td>\n",
              "      <td>10</td>\n",
              "      <td>(79)</td>\n",
              "      <td>4%</td>\n",
              "      <td>272691</td>\n",
              "      <td>2019</td>\n",
              "      <td>20191231</td>\n",
              "      <td>2321.040</td>\n",
              "      <td>MYL1818OO003</td>\n",
              "      <td>BURSA MALAYSIA BHD</td>\n",
              "      <td>MYS</td>\n",
              "      <td>6200.0</td>\n",
              "    </tr>\n",
              "    <tr>\n",
              "      <th>1</th>\n",
              "      <td>1</td>\n",
              "      <td>GB0031638363</td>\n",
              "      <td>2019</td>\n",
              "      <td>INTERTEK GROUP PLC</td>\n",
              "      <td>United Kingdom</td>\n",
              "      <td>Activities auxiliary to financial intermediati...</td>\n",
              "      <td>-1.53%</td>\n",
              "      <td>-9.49%</td>\n",
              "      <td>(60,599,272)</td>\n",
              "      <td>(59,281,663)</td>\n",
              "      <td>(13,774)</td>\n",
              "      <td>(788,289)</td>\n",
              "      <td>(184,802)</td>\n",
              "      <td>(2,487)</td>\n",
              "      <td>(3,804)</td>\n",
              "      <td>(324,960)</td>\n",
              "      <td>508</td>\n",
              "      <td>(26,533,166)</td>\n",
              "      <td>(15,557,810)</td>\n",
              "      <td>(15,550,827)</td>\n",
              "      <td>(197,072)</td>\n",
              "      <td>(197,072)</td>\n",
              "      <td>(2,509,207)</td>\n",
              "      <td>284,215</td>\n",
              "      <td>(703)</td>\n",
              "      <td>(324,960)</td>\n",
              "      <td>(3,804)</td>\n",
              "      <td>(17)</td>\n",
              "      <td>(4)</td>\n",
              "      <td>(6,861)</td>\n",
              "      <td>(20)</td>\n",
              "      <td>254</td>\n",
              "      <td>254</td>\n",
              "      <td>(2,470)</td>\n",
              "      <td>1%</td>\n",
              "      <td>252384</td>\n",
              "      <td>2019</td>\n",
              "      <td>20191231</td>\n",
              "      <td>2818.400</td>\n",
              "      <td>GB0031638363</td>\n",
              "      <td>INTERTEK GROUP PLC</td>\n",
              "      <td>GBR</td>\n",
              "      <td>8700.0</td>\n",
              "    </tr>\n",
              "    <tr>\n",
              "      <th>2</th>\n",
              "      <td>2</td>\n",
              "      <td>ZAE000079711</td>\n",
              "      <td>2019</td>\n",
              "      <td>JSE LIMITED</td>\n",
              "      <td>South Africa</td>\n",
              "      <td>Activities auxiliary to financial intermediati...</td>\n",
              "      <td>-1.46%</td>\n",
              "      <td>NaN</td>\n",
              "      <td>(2,290,124)</td>\n",
              "      <td>(2,239,814)</td>\n",
              "      <td>(510)</td>\n",
              "      <td>(29,662)</td>\n",
              "      <td>(6,938)</td>\n",
              "      <td>(93)</td>\n",
              "      <td>(901)</td>\n",
              "      <td>(12,200)</td>\n",
              "      <td>(6)</td>\n",
              "      <td>(995,881)</td>\n",
              "      <td>(576,811)</td>\n",
              "      <td>(576,488)</td>\n",
              "      <td>(7,415)</td>\n",
              "      <td>(7,415)</td>\n",
              "      <td>(92,910)</td>\n",
              "      <td>(19,470)</td>\n",
              "      <td>(277)</td>\n",
              "      <td>(12,200)</td>\n",
              "      <td>(901)</td>\n",
              "      <td>(0)</td>\n",
              "      <td>(1)</td>\n",
              "      <td>(253)</td>\n",
              "      <td>(0)</td>\n",
              "      <td>(3)</td>\n",
              "      <td>(3)</td>\n",
              "      <td>(93)</td>\n",
              "      <td>2%</td>\n",
              "      <td>278391</td>\n",
              "      <td>2019</td>\n",
              "      <td>20191231</td>\n",
              "      <td>40227.215</td>\n",
              "      <td>ZAE000079711</td>\n",
              "      <td>JSE LIMITED</td>\n",
              "      <td>ZAF</td>\n",
              "      <td>6211.0</td>\n",
              "    </tr>\n",
              "    <tr>\n",
              "      <th>3</th>\n",
              "      <td>3</td>\n",
              "      <td>FR0006174348</td>\n",
              "      <td>2019</td>\n",
              "      <td>BUREAU VERITAS SA</td>\n",
              "      <td>France</td>\n",
              "      <td>Activities auxiliary to financial intermediati...</td>\n",
              "      <td>-0.70%</td>\n",
              "      <td>-5.10%</td>\n",
              "      <td>(39,978,650)</td>\n",
              "      <td>(39,107,612)</td>\n",
              "      <td>(9,330)</td>\n",
              "      <td>(520,701)</td>\n",
              "      <td>(121,953)</td>\n",
              "      <td>(1,671)</td>\n",
              "      <td>(4,116)</td>\n",
              "      <td>(214,438)</td>\n",
              "      <td>1,172</td>\n",
              "      <td>(17,514,837)</td>\n",
              "      <td>(10,430,409)</td>\n",
              "      <td>(10,425,281)</td>\n",
              "      <td>(130,175)</td>\n",
              "      <td>(130,175)</td>\n",
              "      <td>(1,684,676)</td>\n",
              "      <td>561,195</td>\n",
              "      <td>(577)</td>\n",
              "      <td>(214,438)</td>\n",
              "      <td>(4,116)</td>\n",
              "      <td>(38)</td>\n",
              "      <td>(9)</td>\n",
              "      <td>(4,607)</td>\n",
              "      <td>(45)</td>\n",
              "      <td>586</td>\n",
              "      <td>586</td>\n",
              "      <td>(1,633)</td>\n",
              "      <td>3%</td>\n",
              "      <td>286961</td>\n",
              "      <td>2019</td>\n",
              "      <td>20191231</td>\n",
              "      <td>7049.100</td>\n",
              "      <td>FR0006174348</td>\n",
              "      <td>BUREAU VERITAS SA</td>\n",
              "      <td>FRA</td>\n",
              "      <td>8700.0</td>\n",
              "    </tr>\n",
              "    <tr>\n",
              "      <th>4</th>\n",
              "      <td>4</td>\n",
              "      <td>GB0007370074</td>\n",
              "      <td>2019</td>\n",
              "      <td>RICARDO PLC</td>\n",
              "      <td>United Kingdom</td>\n",
              "      <td>Activities auxiliary to financial intermediati...</td>\n",
              "      <td>-0.67%</td>\n",
              "      <td>-7.27%</td>\n",
              "      <td>(3,247,235)</td>\n",
              "      <td>(3,176,408)</td>\n",
              "      <td>(753)</td>\n",
              "      <td>(42,228)</td>\n",
              "      <td>(9,899)</td>\n",
              "      <td>(135)</td>\n",
              "      <td>(468)</td>\n",
              "      <td>(17,406)</td>\n",
              "      <td>63</td>\n",
              "      <td>(1,421,576)</td>\n",
              "      <td>(842,731)</td>\n",
              "      <td>(842,343)</td>\n",
              "      <td>(10,557)</td>\n",
              "      <td>(10,557)</td>\n",
              "      <td>(136,060)</td>\n",
              "      <td>34,998</td>\n",
              "      <td>(87)</td>\n",
              "      <td>(17,406)</td>\n",
              "      <td>(468)</td>\n",
              "      <td>(2)</td>\n",
              "      <td>(0)</td>\n",
              "      <td>(373)</td>\n",
              "      <td>(2)</td>\n",
              "      <td>31</td>\n",
              "      <td>31</td>\n",
              "      <td>(133)</td>\n",
              "      <td>3%</td>\n",
              "      <td>221859</td>\n",
              "      <td>2019</td>\n",
              "      <td>20190630</td>\n",
              "      <td>371.900</td>\n",
              "      <td>GB0007370074</td>\n",
              "      <td>RICARDO PLC</td>\n",
              "      <td>GBR</td>\n",
              "      <td>8711.0</td>\n",
              "    </tr>\n",
              "  </tbody>\n",
              "</table>\n",
              "</div>"
            ],
            "text/plain": [
              "   Unnamed: 0          ISIN  Year  ...                conm  fic     sic\n",
              "0           0  MYL1818OO003  2019  ...  BURSA MALAYSIA BHD  MYS  6200.0\n",
              "1           1  GB0031638363  2019  ...  INTERTEK GROUP PLC  GBR  8700.0\n",
              "2           2  ZAE000079711  2019  ...         JSE LIMITED  ZAF  6211.0\n",
              "3           3  FR0006174348  2019  ...   BUREAU VERITAS SA  FRA  8700.0\n",
              "4           4  GB0007370074  2019  ...         RICARDO PLC  GBR  8711.0\n",
              "\n",
              "[5 rows x 43 columns]"
            ]
          },
          "metadata": {
            "tags": []
          },
          "execution_count": 2
        }
      ]
    },
    {
      "cell_type": "code",
      "metadata": {
        "id": "duiTSV2mwdCg"
      },
      "source": [
        "EI_2019 = df[df['Year'] == 2019]\n",
        "EI_2019.head()\n",
        "df1=list(EI_2019['EnvironmentalIntensity(Sales)'])\n",
        "def p2f(x):\n",
        "    return float(x.strip('%'))/100\n",
        "for i in range(0, len(df1)):\n",
        "    df1[i] = p2f(df1[i])\n",
        "df1"
      ],
      "execution_count": null,
      "outputs": []
    },
    {
      "cell_type": "markdown",
      "metadata": {
        "id": "xxyHrxbb2g4i"
      },
      "source": [
        "Get the average of Environmental Intensity of 2019"
      ]
    },
    {
      "cell_type": "code",
      "metadata": {
        "colab": {
          "base_uri": "https://localhost:8080/"
        },
        "id": "bQpOS_Iv2gHI",
        "outputId": "2d4639db-1f81-49f4-de62-71c6dda79862"
      },
      "source": [
        "def Average(lst):\n",
        "    return sum(lst) / len(lst)\n",
        "df['average2019']=Average(df1)\n",
        "print(df['average2019'])"
      ],
      "execution_count": null,
      "outputs": [
        {
          "output_type": "stream",
          "text": [
            "0       -0.128738\n",
            "1       -0.128738\n",
            "2       -0.128738\n",
            "3       -0.128738\n",
            "4       -0.128738\n",
            "           ...   \n",
            "10991   -0.128738\n",
            "10992   -0.128738\n",
            "10993   -0.128738\n",
            "10994   -0.128738\n",
            "10995   -0.128738\n",
            "Name: average2019, Length: 10996, dtype: float64\n"
          ],
          "name": "stdout"
        }
      ]
    },
    {
      "cell_type": "markdown",
      "metadata": {
        "id": "__6Dfs-97Ru1"
      },
      "source": [
        "Get the average of Enviornmental Intensity of 2018 and 2017"
      ]
    },
    {
      "cell_type": "code",
      "metadata": {
        "id": "AKIQT5857iTf"
      },
      "source": [
        "EI_2018 = df[df['Year'] == 2018]\n",
        "df2=list(EI_2018['EnvironmentalIntensity(Sales)'])\n",
        "EI_2017 = df[df['Year'] == 2017]\n",
        "df3=list(EI_2017['EnvironmentalIntensity(Sales)'])"
      ],
      "execution_count": null,
      "outputs": []
    },
    {
      "cell_type": "code",
      "metadata": {
        "id": "lLEoH3_47oMz"
      },
      "source": [
        "for i in range(0, len(df2)):\n",
        "    df2[i] = p2f(df2[i])"
      ],
      "execution_count": null,
      "outputs": []
    },
    {
      "cell_type": "code",
      "metadata": {
        "id": "knOb4axQ7ipQ"
      },
      "source": [
        "for i in range(0, len(df3)):\n",
        "    df3[i] = p2f(df3[i])"
      ],
      "execution_count": null,
      "outputs": []
    },
    {
      "cell_type": "code",
      "metadata": {
        "colab": {
          "base_uri": "https://localhost:8080/"
        },
        "id": "4_mTZIgG8emD",
        "outputId": "f6d1387c-fc7e-49c8-be7d-a7134cb42178"
      },
      "source": [
        "df['average2018']=Average(df2)\n",
        "print(df['average2018'])\n",
        "df['average2017']=Average(df3)\n",
        "print(df['average2017'])"
      ],
      "execution_count": null,
      "outputs": [
        {
          "output_type": "stream",
          "text": [
            "0       -0.103059\n",
            "1       -0.103059\n",
            "2       -0.103059\n",
            "3       -0.103059\n",
            "4       -0.103059\n",
            "           ...   \n",
            "10991   -0.103059\n",
            "10992   -0.103059\n",
            "10993   -0.103059\n",
            "10994   -0.103059\n",
            "10995   -0.103059\n",
            "Name: average2018, Length: 10996, dtype: float64\n",
            "0       -0.104129\n",
            "1       -0.104129\n",
            "2       -0.104129\n",
            "3       -0.104129\n",
            "4       -0.104129\n",
            "           ...   \n",
            "10991   -0.104129\n",
            "10992   -0.104129\n",
            "10993   -0.104129\n",
            "10994   -0.104129\n",
            "10995   -0.104129\n",
            "Name: average2017, Length: 10996, dtype: float64\n"
          ],
          "name": "stdout"
        }
      ]
    },
    {
      "cell_type": "code",
      "metadata": {
        "colab": {
          "base_uri": "https://localhost:8080/",
          "height": 415
        },
        "id": "in_nsSSq-OJk",
        "outputId": "d5ef0c2d-a667-40e3-d1c1-dae02934883c"
      },
      "source": [
        "df[['average2019','average2018','average2017']]"
      ],
      "execution_count": null,
      "outputs": [
        {
          "output_type": "execute_result",
          "data": {
            "text/html": [
              "<div>\n",
              "<style scoped>\n",
              "    .dataframe tbody tr th:only-of-type {\n",
              "        vertical-align: middle;\n",
              "    }\n",
              "\n",
              "    .dataframe tbody tr th {\n",
              "        vertical-align: top;\n",
              "    }\n",
              "\n",
              "    .dataframe thead th {\n",
              "        text-align: right;\n",
              "    }\n",
              "</style>\n",
              "<table border=\"1\" class=\"dataframe\">\n",
              "  <thead>\n",
              "    <tr style=\"text-align: right;\">\n",
              "      <th></th>\n",
              "      <th>average2019</th>\n",
              "      <th>average2018</th>\n",
              "      <th>average2017</th>\n",
              "    </tr>\n",
              "  </thead>\n",
              "  <tbody>\n",
              "    <tr>\n",
              "      <th>0</th>\n",
              "      <td>-0.128738</td>\n",
              "      <td>-0.103059</td>\n",
              "      <td>-0.104129</td>\n",
              "    </tr>\n",
              "    <tr>\n",
              "      <th>1</th>\n",
              "      <td>-0.128738</td>\n",
              "      <td>-0.103059</td>\n",
              "      <td>-0.104129</td>\n",
              "    </tr>\n",
              "    <tr>\n",
              "      <th>2</th>\n",
              "      <td>-0.128738</td>\n",
              "      <td>-0.103059</td>\n",
              "      <td>-0.104129</td>\n",
              "    </tr>\n",
              "    <tr>\n",
              "      <th>3</th>\n",
              "      <td>-0.128738</td>\n",
              "      <td>-0.103059</td>\n",
              "      <td>-0.104129</td>\n",
              "    </tr>\n",
              "    <tr>\n",
              "      <th>4</th>\n",
              "      <td>-0.128738</td>\n",
              "      <td>-0.103059</td>\n",
              "      <td>-0.104129</td>\n",
              "    </tr>\n",
              "    <tr>\n",
              "      <th>...</th>\n",
              "      <td>...</td>\n",
              "      <td>...</td>\n",
              "      <td>...</td>\n",
              "    </tr>\n",
              "    <tr>\n",
              "      <th>10991</th>\n",
              "      <td>-0.128738</td>\n",
              "      <td>-0.103059</td>\n",
              "      <td>-0.104129</td>\n",
              "    </tr>\n",
              "    <tr>\n",
              "      <th>10992</th>\n",
              "      <td>-0.128738</td>\n",
              "      <td>-0.103059</td>\n",
              "      <td>-0.104129</td>\n",
              "    </tr>\n",
              "    <tr>\n",
              "      <th>10993</th>\n",
              "      <td>-0.128738</td>\n",
              "      <td>-0.103059</td>\n",
              "      <td>-0.104129</td>\n",
              "    </tr>\n",
              "    <tr>\n",
              "      <th>10994</th>\n",
              "      <td>-0.128738</td>\n",
              "      <td>-0.103059</td>\n",
              "      <td>-0.104129</td>\n",
              "    </tr>\n",
              "    <tr>\n",
              "      <th>10995</th>\n",
              "      <td>-0.128738</td>\n",
              "      <td>-0.103059</td>\n",
              "      <td>-0.104129</td>\n",
              "    </tr>\n",
              "  </tbody>\n",
              "</table>\n",
              "<p>10996 rows × 3 columns</p>\n",
              "</div>"
            ],
            "text/plain": [
              "       average2019  average2018  average2017\n",
              "0        -0.128738    -0.103059    -0.104129\n",
              "1        -0.128738    -0.103059    -0.104129\n",
              "2        -0.128738    -0.103059    -0.104129\n",
              "3        -0.128738    -0.103059    -0.104129\n",
              "4        -0.128738    -0.103059    -0.104129\n",
              "...            ...          ...          ...\n",
              "10991    -0.128738    -0.103059    -0.104129\n",
              "10992    -0.128738    -0.103059    -0.104129\n",
              "10993    -0.128738    -0.103059    -0.104129\n",
              "10994    -0.128738    -0.103059    -0.104129\n",
              "10995    -0.128738    -0.103059    -0.104129\n",
              "\n",
              "[10996 rows x 3 columns]"
            ]
          },
          "metadata": {
            "tags": []
          },
          "execution_count": 41
        }
      ]
    },
    {
      "cell_type": "code",
      "metadata": {
        "colab": {
          "base_uri": "https://localhost:8080/"
        },
        "id": "WcOIj39s8huR",
        "outputId": "c4bd6da2-5537-4670-859e-d34a320a96c9"
      },
      "source": [
        "for i in range(0, len(df)):\n",
        "    df['EnvironmentalIntensity(Sales)'][i] = p2f(df['EnvironmentalIntensity(Sales)'][i])\n",
        "y = df['EnvironmentalIntensity(Sales)']\n",
        "X= df[['average2019','average2018','average2017']]\n",
        "x_train, x_test, y_train, y_test = train_test_split(X ,y, test_size = 0.2, random_state = 42)"
      ],
      "execution_count": null,
      "outputs": [
        {
          "output_type": "stream",
          "text": [
            "/usr/local/lib/python3.7/dist-packages/ipykernel_launcher.py:2: SettingWithCopyWarning: \n",
            "A value is trying to be set on a copy of a slice from a DataFrame\n",
            "\n",
            "See the caveats in the documentation: https://pandas.pydata.org/pandas-docs/stable/user_guide/indexing.html#returning-a-view-versus-a-copy\n",
            "  \n"
          ],
          "name": "stderr"
        }
      ]
    },
    {
      "cell_type": "code",
      "metadata": {
        "colab": {
          "base_uri": "https://localhost:8080/"
        },
        "id": "qyV48YfT_mO4",
        "outputId": "d61fdc54-0db2-4393-b058-9da705934870"
      },
      "source": [
        "df['EnvironmentalIntensity(Sales)']"
      ],
      "execution_count": null,
      "outputs": [
        {
          "output_type": "execute_result",
          "data": {
            "text/plain": [
              "0       -0.0168\n",
              "1       -0.0153\n",
              "2       -0.0146\n",
              "3        -0.007\n",
              "4       -0.0067\n",
              "          ...  \n",
              "10991   -0.0275\n",
              "10992   -0.0224\n",
              "10993   -0.0171\n",
              "10994   -0.0139\n",
              "10995   -0.0042\n",
              "Name: EnvironmentalIntensity(Sales), Length: 10996, dtype: object"
            ]
          },
          "metadata": {
            "tags": []
          },
          "execution_count": 48
        }
      ]
    },
    {
      "cell_type": "code",
      "metadata": {
        "colab": {
          "base_uri": "https://localhost:8080/"
        },
        "id": "cE-SMlrk-gvM",
        "outputId": "aaafcd3e-a4a9-4e8f-b971-02119ba2b82f"
      },
      "source": [
        "# train Linear Regression\n",
        "LRtrainer = LinearRegression()\n",
        "LRtrainer.fit(x_train,y_train)"
      ],
      "execution_count": null,
      "outputs": [
        {
          "output_type": "execute_result",
          "data": {
            "text/plain": [
              "LinearRegression(copy_X=True, fit_intercept=True, n_jobs=None, normalize=False)"
            ]
          },
          "metadata": {
            "tags": []
          },
          "execution_count": 45
        }
      ]
    },
    {
      "cell_type": "code",
      "metadata": {
        "colab": {
          "base_uri": "https://localhost:8080/"
        },
        "id": "bJqvZ6bs-lW9",
        "outputId": "1196cc3e-fb3f-47e3-c0c0-33aeb978723b"
      },
      "source": [
        "# mse for linear regression\n",
        "y_pred_lr = LRtrainer.predict(x_test)\n",
        "print(mean_squared_error(y_pred_lr, y_test))"
      ],
      "execution_count": null,
      "outputs": [
        {
          "output_type": "stream",
          "text": [
            "4.722366482856857e+21\n"
          ],
          "name": "stdout"
        }
      ]
    },
    {
      "cell_type": "code",
      "metadata": {
        "colab": {
          "base_uri": "https://localhost:8080/"
        },
        "id": "Dp014ChZ_U3D",
        "outputId": "529c3745-cc61-4871-ea60-02c56834939b"
      },
      "source": [
        "# display the parameters\n",
        "print('Model intercept: ', LRtrainer.intercept_)\n",
        "print('Model coefficients: ', LRtrainer.coef_)"
      ],
      "execution_count": null,
      "outputs": [
        {
          "output_type": "stream",
          "text": [
            "Model intercept:  -5.6528982896919604e+26\n",
            "Model coefficients:  [ 7.45547427e+26 -8.91760891e+27  2.47550468e+27]\n"
          ],
          "name": "stdout"
        }
      ]
    }
  ]
}