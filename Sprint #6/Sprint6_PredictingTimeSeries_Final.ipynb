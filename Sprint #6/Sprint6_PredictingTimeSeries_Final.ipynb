{
 "cells": [
  {
   "cell_type": "markdown",
   "metadata": {
    "id": "persistent-following"
   },
   "source": [
    "# Sprint 6 - Predicting future environmental intensity (Time Series) and Collect Companies Descriptions\n",
    "\n",
    "In this notebook, we will predict future environmental intensity for all the companies in the 'Excel data'. We will be using data from previous years to predict the future environmental intesity. \n",
    "\n",
    "First, we will create the following columns:\n",
    "\n",
    "1) Industry Indicator\n",
    "- 1 if above the industry average in current year\n",
    "- 0 if at industry average in current yeat\n",
    "- (-1) if below the industry average in current year\n",
    "2) Environmental Intensity Growth : ((Environmental Intensity in Current Year / Environmental Intensity Last Year) - 1) * 100\n",
    "\n",
    "\n",
    "At the end, we collected, directly from Yahoo Finance website, each company description. For this, we use the pilot stocks which have the Ticker identifier. "
   ]
  },
  {
   "cell_type": "code",
   "execution_count": 1,
   "metadata": {
    "id": "wound-assurance"
   },
   "outputs": [],
   "source": [
    "import pandas as pd\n",
    "import numpy as np\n",
    "import seaborn as sns\n",
    "import matplotlib.pyplot as plt\n",
    "import missingno as msno\n",
    "import warnings\n",
    "from sklearn import linear_model\n",
    "from sklearn import metrics\n",
    "from sklearn.linear_model import LinearRegression\n",
    "from sklearn.model_selection import train_test_split\n",
    "import requests\n",
    "from bs4 import BeautifulSoup\n",
    "warnings.filterwarnings('ignore')"
   ]
  },
  {
   "cell_type": "code",
   "execution_count": 2,
   "metadata": {
    "colab": {
     "base_uri": "https://localhost:8080/",
     "height": 281
    },
    "id": "mental-excellence",
    "outputId": "a7628443-5329-4315-e077-1dcb1d71bcce"
   },
   "outputs": [
    {
     "name": "stdout",
     "output_type": "stream",
     "text": [
      "The dataset has 14515 rows and 11 columns\n"
     ]
    },
    {
     "data": {
      "text/html": [
       "<div>\n",
       "<style scoped>\n",
       "    .dataframe tbody tr th:only-of-type {\n",
       "        vertical-align: middle;\n",
       "    }\n",
       "\n",
       "    .dataframe tbody tr th {\n",
       "        vertical-align: top;\n",
       "    }\n",
       "\n",
       "    .dataframe thead th {\n",
       "        text-align: right;\n",
       "    }\n",
       "</style>\n",
       "<table border=\"1\" class=\"dataframe\">\n",
       "  <thead>\n",
       "    <tr style=\"text-align: right;\">\n",
       "      <th></th>\n",
       "      <th>Year</th>\n",
       "      <th>CompanyName</th>\n",
       "      <th>Country</th>\n",
       "      <th>Industry(Exiobase)</th>\n",
       "      <th>EnvironmentalIntensity(Sales)</th>\n",
       "      <th>Env_intensity</th>\n",
       "      <th>industry_avg</th>\n",
       "      <th>Industry_indicator</th>\n",
       "      <th>industry_avg_year</th>\n",
       "      <th>Industry_indicator_year</th>\n",
       "      <th>Environmental_Growth</th>\n",
       "    </tr>\n",
       "  </thead>\n",
       "  <tbody>\n",
       "    <tr>\n",
       "      <th>0</th>\n",
       "      <td>2016</td>\n",
       "      <td>1&amp;1 DRILLISCH AG</td>\n",
       "      <td>Germany</td>\n",
       "      <td>Post and telecommunications (64)</td>\n",
       "      <td>-0.07%</td>\n",
       "      <td>-0.0007</td>\n",
       "      <td>-0.018382</td>\n",
       "      <td>1</td>\n",
       "      <td>-0.011640</td>\n",
       "      <td>1</td>\n",
       "      <td>NaN</td>\n",
       "    </tr>\n",
       "    <tr>\n",
       "      <th>1</th>\n",
       "      <td>2010</td>\n",
       "      <td>3I GROUP PLC</td>\n",
       "      <td>United Kingdom</td>\n",
       "      <td>Financial intermediation, except insurance an...</td>\n",
       "      <td>-0.12%</td>\n",
       "      <td>-0.0012</td>\n",
       "      <td>-0.020072</td>\n",
       "      <td>1</td>\n",
       "      <td>-0.006402</td>\n",
       "      <td>1</td>\n",
       "      <td>NaN</td>\n",
       "    </tr>\n",
       "    <tr>\n",
       "      <th>2</th>\n",
       "      <td>2011</td>\n",
       "      <td>3I GROUP PLC</td>\n",
       "      <td>United Kingdom</td>\n",
       "      <td>Financial intermediation, except insurance an...</td>\n",
       "      <td>-0.16%</td>\n",
       "      <td>-0.0016</td>\n",
       "      <td>-0.020072</td>\n",
       "      <td>1</td>\n",
       "      <td>-0.009838</td>\n",
       "      <td>1</td>\n",
       "      <td>33.333333</td>\n",
       "    </tr>\n",
       "  </tbody>\n",
       "</table>\n",
       "</div>"
      ],
      "text/plain": [
       "   Year         CompanyName           Country  \\\n",
       "0  2016   1&1 DRILLISCH AG           Germany    \n",
       "1  2010       3I GROUP PLC    United Kingdom    \n",
       "2  2011       3I GROUP PLC    United Kingdom    \n",
       "\n",
       "                                  Industry(Exiobase)  \\\n",
       "0                  Post and telecommunications (64)    \n",
       "1   Financial intermediation, except insurance an...   \n",
       "2   Financial intermediation, except insurance an...   \n",
       "\n",
       "  EnvironmentalIntensity(Sales)  Env_intensity  industry_avg  \\\n",
       "0                        -0.07%        -0.0007     -0.018382   \n",
       "1                        -0.12%        -0.0012     -0.020072   \n",
       "2                        -0.16%        -0.0016     -0.020072   \n",
       "\n",
       "   Industry_indicator  industry_avg_year  Industry_indicator_year  \\\n",
       "0                   1          -0.011640                        1   \n",
       "1                   1          -0.006402                        1   \n",
       "2                   1          -0.009838                        1   \n",
       "\n",
       "   Environmental_Growth  \n",
       "0                   NaN  \n",
       "1                   NaN  \n",
       "2             33.333333  "
      ]
     },
     "execution_count": 2,
     "metadata": {},
     "output_type": "execute_result"
    }
   ],
   "source": [
    "df = pd.read_csv('Environmental_Impact_dataset.csv')\n",
    "column_list = []\n",
    "for column in df.columns:\n",
    "    column_list.append(column.replace(' ', ''))\n",
    "df.columns = column_list\n",
    "print(f'The dataset has {df.shape[0]} rows and {df.shape[1]} columns')\n",
    "df.head(3)"
   ]
  },
  {
   "cell_type": "code",
   "execution_count": 3,
   "metadata": {
    "colab": {
     "base_uri": "https://localhost:8080/",
     "height": 204
    },
    "id": "future-cornell",
    "outputId": "9695eda6-a19d-4bcc-ca72-4d1f594d749d"
   },
   "outputs": [
    {
     "data": {
      "text/html": [
       "<div>\n",
       "<style scoped>\n",
       "    .dataframe tbody tr th:only-of-type {\n",
       "        vertical-align: middle;\n",
       "    }\n",
       "\n",
       "    .dataframe tbody tr th {\n",
       "        vertical-align: top;\n",
       "    }\n",
       "\n",
       "    .dataframe thead th {\n",
       "        text-align: right;\n",
       "    }\n",
       "</style>\n",
       "<table border=\"1\" class=\"dataframe\">\n",
       "  <thead>\n",
       "    <tr style=\"text-align: right;\">\n",
       "      <th></th>\n",
       "      <th>Year</th>\n",
       "      <th>CompanyName</th>\n",
       "      <th>Country</th>\n",
       "      <th>Industry(Exiobase)</th>\n",
       "      <th>EnvironmentalIntensity(Sales)</th>\n",
       "      <th>Env_intensity</th>\n",
       "    </tr>\n",
       "  </thead>\n",
       "  <tbody>\n",
       "    <tr>\n",
       "      <th>0</th>\n",
       "      <td>2016</td>\n",
       "      <td>1&amp;1 DRILLISCH AG</td>\n",
       "      <td>Germany</td>\n",
       "      <td>Post and telecommunications (64)</td>\n",
       "      <td>-0.07%</td>\n",
       "      <td>-0.0007</td>\n",
       "    </tr>\n",
       "    <tr>\n",
       "      <th>1</th>\n",
       "      <td>2010</td>\n",
       "      <td>3I GROUP PLC</td>\n",
       "      <td>United Kingdom</td>\n",
       "      <td>Financial intermediation, except insurance an...</td>\n",
       "      <td>-0.12%</td>\n",
       "      <td>-0.0012</td>\n",
       "    </tr>\n",
       "    <tr>\n",
       "      <th>2</th>\n",
       "      <td>2011</td>\n",
       "      <td>3I GROUP PLC</td>\n",
       "      <td>United Kingdom</td>\n",
       "      <td>Financial intermediation, except insurance an...</td>\n",
       "      <td>-0.16%</td>\n",
       "      <td>-0.0016</td>\n",
       "    </tr>\n",
       "    <tr>\n",
       "      <th>3</th>\n",
       "      <td>2012</td>\n",
       "      <td>3I GROUP PLC</td>\n",
       "      <td>United Kingdom</td>\n",
       "      <td>Financial intermediation, except insurance an...</td>\n",
       "      <td>-0.15%</td>\n",
       "      <td>-0.0015</td>\n",
       "    </tr>\n",
       "    <tr>\n",
       "      <th>4</th>\n",
       "      <td>2010</td>\n",
       "      <td>3M COMPANY</td>\n",
       "      <td>United States</td>\n",
       "      <td>Activities of membership organisation n.e.c. ...</td>\n",
       "      <td>-7.90%</td>\n",
       "      <td>-0.0790</td>\n",
       "    </tr>\n",
       "  </tbody>\n",
       "</table>\n",
       "</div>"
      ],
      "text/plain": [
       "   Year         CompanyName           Country  \\\n",
       "0  2016   1&1 DRILLISCH AG           Germany    \n",
       "1  2010       3I GROUP PLC    United Kingdom    \n",
       "2  2011       3I GROUP PLC    United Kingdom    \n",
       "3  2012       3I GROUP PLC    United Kingdom    \n",
       "4  2010         3M COMPANY     United States    \n",
       "\n",
       "                                  Industry(Exiobase)  \\\n",
       "0                  Post and telecommunications (64)    \n",
       "1   Financial intermediation, except insurance an...   \n",
       "2   Financial intermediation, except insurance an...   \n",
       "3   Financial intermediation, except insurance an...   \n",
       "4   Activities of membership organisation n.e.c. ...   \n",
       "\n",
       "  EnvironmentalIntensity(Sales)  Env_intensity  \n",
       "0                        -0.07%        -0.0007  \n",
       "1                        -0.12%        -0.0012  \n",
       "2                        -0.16%        -0.0016  \n",
       "3                        -0.15%        -0.0015  \n",
       "4                        -7.90%        -0.0790  "
      ]
     },
     "execution_count": 3,
     "metadata": {},
     "output_type": "execute_result"
    }
   ],
   "source": [
    "df = df.iloc[:,0:6]\n",
    "df.head()"
   ]
  },
  {
   "cell_type": "markdown",
   "metadata": {},
   "source": [
    "Noticed the company name values have spaces at the beginning and end. We will fix that in the next cells. Also, we will format the environmental intensity to decimals."
   ]
  },
  {
   "cell_type": "code",
   "execution_count": 4,
   "metadata": {},
   "outputs": [],
   "source": [
    "companies = df.CompanyName.tolist()\n",
    "com = []\n",
    "\n",
    "for c in companies:\n",
    "    com.append(c.lstrip().rstrip())\n",
    "    \n",
    "df['CompanyName'] = com"
   ]
  },
  {
   "cell_type": "code",
   "execution_count": 5,
   "metadata": {
    "id": "national-avenue",
    "tags": []
   },
   "outputs": [],
   "source": [
    "def percent_to_float(s):\n",
    "    return float(s.strip('%')) / 100.0\n",
    "\n",
    "replace_dict = {'(':'',')':'', ' ' : '', ',' : ''}\n",
    "def paranthesis_to_minus(value):\n",
    "    for i, j in replace_dict.items():\n",
    "        value = value.replace(i, j)\n",
    "    value = int(f'-{value}')\n",
    "    return value\n",
    "\n",
    "df['Env_intensity'] = df['EnvironmentalIntensity(Sales)'].apply(percent_to_float)"
   ]
  },
  {
   "cell_type": "code",
   "execution_count": 6,
   "metadata": {
    "colab": {
     "base_uri": "https://localhost:8080/",
     "height": 204
    },
    "id": "first-surgery",
    "outputId": "2c1f104d-8bc3-4244-ba8b-ed157a7d1b26"
   },
   "outputs": [
    {
     "data": {
      "text/html": [
       "<div>\n",
       "<style scoped>\n",
       "    .dataframe tbody tr th:only-of-type {\n",
       "        vertical-align: middle;\n",
       "    }\n",
       "\n",
       "    .dataframe tbody tr th {\n",
       "        vertical-align: top;\n",
       "    }\n",
       "\n",
       "    .dataframe thead th {\n",
       "        text-align: right;\n",
       "    }\n",
       "</style>\n",
       "<table border=\"1\" class=\"dataframe\">\n",
       "  <thead>\n",
       "    <tr style=\"text-align: right;\">\n",
       "      <th></th>\n",
       "      <th>Year</th>\n",
       "      <th>CompanyName</th>\n",
       "      <th>Country</th>\n",
       "      <th>Industry(Exiobase)</th>\n",
       "      <th>EnvironmentalIntensity(Sales)</th>\n",
       "      <th>Env_intensity</th>\n",
       "    </tr>\n",
       "  </thead>\n",
       "  <tbody>\n",
       "    <tr>\n",
       "      <th>0</th>\n",
       "      <td>2016</td>\n",
       "      <td>1&amp;1 DRILLISCH AG</td>\n",
       "      <td>Germany</td>\n",
       "      <td>Post and telecommunications (64)</td>\n",
       "      <td>-0.07%</td>\n",
       "      <td>-0.0007</td>\n",
       "    </tr>\n",
       "    <tr>\n",
       "      <th>1</th>\n",
       "      <td>2010</td>\n",
       "      <td>3I GROUP PLC</td>\n",
       "      <td>United Kingdom</td>\n",
       "      <td>Financial intermediation, except insurance an...</td>\n",
       "      <td>-0.12%</td>\n",
       "      <td>-0.0012</td>\n",
       "    </tr>\n",
       "    <tr>\n",
       "      <th>2</th>\n",
       "      <td>2011</td>\n",
       "      <td>3I GROUP PLC</td>\n",
       "      <td>United Kingdom</td>\n",
       "      <td>Financial intermediation, except insurance an...</td>\n",
       "      <td>-0.16%</td>\n",
       "      <td>-0.0016</td>\n",
       "    </tr>\n",
       "    <tr>\n",
       "      <th>3</th>\n",
       "      <td>2012</td>\n",
       "      <td>3I GROUP PLC</td>\n",
       "      <td>United Kingdom</td>\n",
       "      <td>Financial intermediation, except insurance an...</td>\n",
       "      <td>-0.15%</td>\n",
       "      <td>-0.0015</td>\n",
       "    </tr>\n",
       "    <tr>\n",
       "      <th>4</th>\n",
       "      <td>2010</td>\n",
       "      <td>3M COMPANY</td>\n",
       "      <td>United States</td>\n",
       "      <td>Activities of membership organisation n.e.c. ...</td>\n",
       "      <td>-7.90%</td>\n",
       "      <td>-0.0790</td>\n",
       "    </tr>\n",
       "  </tbody>\n",
       "</table>\n",
       "</div>"
      ],
      "text/plain": [
       "   Year       CompanyName           Country  \\\n",
       "0  2016  1&1 DRILLISCH AG          Germany    \n",
       "1  2010      3I GROUP PLC   United Kingdom    \n",
       "2  2011      3I GROUP PLC   United Kingdom    \n",
       "3  2012      3I GROUP PLC   United Kingdom    \n",
       "4  2010        3M COMPANY    United States    \n",
       "\n",
       "                                  Industry(Exiobase)  \\\n",
       "0                  Post and telecommunications (64)    \n",
       "1   Financial intermediation, except insurance an...   \n",
       "2   Financial intermediation, except insurance an...   \n",
       "3   Financial intermediation, except insurance an...   \n",
       "4   Activities of membership organisation n.e.c. ...   \n",
       "\n",
       "  EnvironmentalIntensity(Sales)  Env_intensity  \n",
       "0                        -0.07%        -0.0007  \n",
       "1                        -0.12%        -0.0012  \n",
       "2                        -0.16%        -0.0016  \n",
       "3                        -0.15%        -0.0015  \n",
       "4                        -7.90%        -0.0790  "
      ]
     },
     "execution_count": 6,
     "metadata": {},
     "output_type": "execute_result"
    }
   ],
   "source": [
    "df.head()"
   ]
  },
  {
   "cell_type": "markdown",
   "metadata": {
    "id": "celtic-wound"
   },
   "source": [
    "### Creating industry indicator"
   ]
  },
  {
   "cell_type": "code",
   "execution_count": 7,
   "metadata": {
    "id": "awful-remark"
   },
   "outputs": [],
   "source": [
    "industry_avg = df.groupby('Industry(Exiobase)')[['Env_intensity']].mean().reset_index()\n",
    "df['industry_avg'] = df['Env_intensity'].groupby(df['Industry(Exiobase)']).transform('mean')"
   ]
  },
  {
   "cell_type": "code",
   "execution_count": 8,
   "metadata": {
    "colab": {
     "base_uri": "https://localhost:8080/",
     "height": 0
    },
    "id": "august-toddler",
    "outputId": "edc72ff4-3483-42c8-f93c-99b7ea73b6ee"
   },
   "outputs": [
    {
     "data": {
      "text/html": [
       "<div>\n",
       "<style scoped>\n",
       "    .dataframe tbody tr th:only-of-type {\n",
       "        vertical-align: middle;\n",
       "    }\n",
       "\n",
       "    .dataframe tbody tr th {\n",
       "        vertical-align: top;\n",
       "    }\n",
       "\n",
       "    .dataframe thead th {\n",
       "        text-align: right;\n",
       "    }\n",
       "</style>\n",
       "<table border=\"1\" class=\"dataframe\">\n",
       "  <thead>\n",
       "    <tr style=\"text-align: right;\">\n",
       "      <th></th>\n",
       "      <th>Year</th>\n",
       "      <th>CompanyName</th>\n",
       "      <th>Country</th>\n",
       "      <th>Industry(Exiobase)</th>\n",
       "      <th>EnvironmentalIntensity(Sales)</th>\n",
       "      <th>Env_intensity</th>\n",
       "      <th>industry_avg</th>\n",
       "      <th>Industry_indicator</th>\n",
       "    </tr>\n",
       "  </thead>\n",
       "  <tbody>\n",
       "    <tr>\n",
       "      <th>0</th>\n",
       "      <td>2016</td>\n",
       "      <td>1&amp;1 DRILLISCH AG</td>\n",
       "      <td>Germany</td>\n",
       "      <td>Post and telecommunications (64)</td>\n",
       "      <td>-0.07%</td>\n",
       "      <td>-0.0007</td>\n",
       "      <td>-0.018382</td>\n",
       "      <td>1</td>\n",
       "    </tr>\n",
       "    <tr>\n",
       "      <th>1</th>\n",
       "      <td>2010</td>\n",
       "      <td>3I GROUP PLC</td>\n",
       "      <td>United Kingdom</td>\n",
       "      <td>Financial intermediation, except insurance an...</td>\n",
       "      <td>-0.12%</td>\n",
       "      <td>-0.0012</td>\n",
       "      <td>-0.020072</td>\n",
       "      <td>1</td>\n",
       "    </tr>\n",
       "    <tr>\n",
       "      <th>2</th>\n",
       "      <td>2011</td>\n",
       "      <td>3I GROUP PLC</td>\n",
       "      <td>United Kingdom</td>\n",
       "      <td>Financial intermediation, except insurance an...</td>\n",
       "      <td>-0.16%</td>\n",
       "      <td>-0.0016</td>\n",
       "      <td>-0.020072</td>\n",
       "      <td>1</td>\n",
       "    </tr>\n",
       "    <tr>\n",
       "      <th>3</th>\n",
       "      <td>2012</td>\n",
       "      <td>3I GROUP PLC</td>\n",
       "      <td>United Kingdom</td>\n",
       "      <td>Financial intermediation, except insurance an...</td>\n",
       "      <td>-0.15%</td>\n",
       "      <td>-0.0015</td>\n",
       "      <td>-0.020072</td>\n",
       "      <td>1</td>\n",
       "    </tr>\n",
       "    <tr>\n",
       "      <th>4</th>\n",
       "      <td>2010</td>\n",
       "      <td>3M COMPANY</td>\n",
       "      <td>United States</td>\n",
       "      <td>Activities of membership organisation n.e.c. ...</td>\n",
       "      <td>-7.90%</td>\n",
       "      <td>-0.0790</td>\n",
       "      <td>-0.117561</td>\n",
       "      <td>1</td>\n",
       "    </tr>\n",
       "  </tbody>\n",
       "</table>\n",
       "</div>"
      ],
      "text/plain": [
       "   Year       CompanyName           Country  \\\n",
       "0  2016  1&1 DRILLISCH AG          Germany    \n",
       "1  2010      3I GROUP PLC   United Kingdom    \n",
       "2  2011      3I GROUP PLC   United Kingdom    \n",
       "3  2012      3I GROUP PLC   United Kingdom    \n",
       "4  2010        3M COMPANY    United States    \n",
       "\n",
       "                                  Industry(Exiobase)  \\\n",
       "0                  Post and telecommunications (64)    \n",
       "1   Financial intermediation, except insurance an...   \n",
       "2   Financial intermediation, except insurance an...   \n",
       "3   Financial intermediation, except insurance an...   \n",
       "4   Activities of membership organisation n.e.c. ...   \n",
       "\n",
       "  EnvironmentalIntensity(Sales)  Env_intensity  industry_avg  \\\n",
       "0                        -0.07%        -0.0007     -0.018382   \n",
       "1                        -0.12%        -0.0012     -0.020072   \n",
       "2                        -0.16%        -0.0016     -0.020072   \n",
       "3                        -0.15%        -0.0015     -0.020072   \n",
       "4                        -7.90%        -0.0790     -0.117561   \n",
       "\n",
       "   Industry_indicator  \n",
       "0                   1  \n",
       "1                   1  \n",
       "2                   1  \n",
       "3                   1  \n",
       "4                   1  "
      ]
     },
     "execution_count": 8,
     "metadata": {},
     "output_type": "execute_result"
    }
   ],
   "source": [
    "def create_ind(df):\n",
    "    if(df['Env_intensity'] > df['industry_avg']):\n",
    "        return 1\n",
    "    elif (df['Env_intensity'] == df['industry_avg']):\n",
    "        return 0\n",
    "    elif (df['Env_intensity'] < df['industry_avg']):\n",
    "        return -1\n",
    "\n",
    "df['Industry_indicator'] = df.apply(create_ind, axis = 1)\n",
    "df.head()"
   ]
  },
  {
   "cell_type": "code",
   "execution_count": 9,
   "metadata": {
    "colab": {
     "base_uri": "https://localhost:8080/",
     "height": 0
    },
    "id": "pacific-forty",
    "outputId": "2738a8d7-ff68-4948-9ff1-9fa262bd7dcf"
   },
   "outputs": [
    {
     "data": {
      "text/html": [
       "<div>\n",
       "<style scoped>\n",
       "    .dataframe tbody tr th:only-of-type {\n",
       "        vertical-align: middle;\n",
       "    }\n",
       "\n",
       "    .dataframe tbody tr th {\n",
       "        vertical-align: top;\n",
       "    }\n",
       "\n",
       "    .dataframe thead th {\n",
       "        text-align: right;\n",
       "    }\n",
       "</style>\n",
       "<table border=\"1\" class=\"dataframe\">\n",
       "  <thead>\n",
       "    <tr style=\"text-align: right;\">\n",
       "      <th></th>\n",
       "      <th>Year</th>\n",
       "      <th>CompanyName</th>\n",
       "      <th>Country</th>\n",
       "      <th>Industry(Exiobase)</th>\n",
       "      <th>EnvironmentalIntensity(Sales)</th>\n",
       "      <th>Env_intensity</th>\n",
       "      <th>industry_avg</th>\n",
       "      <th>Industry_indicator</th>\n",
       "      <th>industry_avg_year</th>\n",
       "      <th>Industry_indicator_year</th>\n",
       "    </tr>\n",
       "  </thead>\n",
       "  <tbody>\n",
       "    <tr>\n",
       "      <th>0</th>\n",
       "      <td>2016</td>\n",
       "      <td>1&amp;1 DRILLISCH AG</td>\n",
       "      <td>Germany</td>\n",
       "      <td>Post and telecommunications (64)</td>\n",
       "      <td>-0.07%</td>\n",
       "      <td>-0.0007</td>\n",
       "      <td>-0.018382</td>\n",
       "      <td>1</td>\n",
       "      <td>-0.011640</td>\n",
       "      <td>1</td>\n",
       "    </tr>\n",
       "    <tr>\n",
       "      <th>1</th>\n",
       "      <td>2010</td>\n",
       "      <td>3I GROUP PLC</td>\n",
       "      <td>United Kingdom</td>\n",
       "      <td>Financial intermediation, except insurance an...</td>\n",
       "      <td>-0.12%</td>\n",
       "      <td>-0.0012</td>\n",
       "      <td>-0.020072</td>\n",
       "      <td>1</td>\n",
       "      <td>-0.006402</td>\n",
       "      <td>1</td>\n",
       "    </tr>\n",
       "    <tr>\n",
       "      <th>2</th>\n",
       "      <td>2011</td>\n",
       "      <td>3I GROUP PLC</td>\n",
       "      <td>United Kingdom</td>\n",
       "      <td>Financial intermediation, except insurance an...</td>\n",
       "      <td>-0.16%</td>\n",
       "      <td>-0.0016</td>\n",
       "      <td>-0.020072</td>\n",
       "      <td>1</td>\n",
       "      <td>-0.009838</td>\n",
       "      <td>1</td>\n",
       "    </tr>\n",
       "    <tr>\n",
       "      <th>3</th>\n",
       "      <td>2012</td>\n",
       "      <td>3I GROUP PLC</td>\n",
       "      <td>United Kingdom</td>\n",
       "      <td>Financial intermediation, except insurance an...</td>\n",
       "      <td>-0.15%</td>\n",
       "      <td>-0.0015</td>\n",
       "      <td>-0.020072</td>\n",
       "      <td>1</td>\n",
       "      <td>-0.024437</td>\n",
       "      <td>1</td>\n",
       "    </tr>\n",
       "    <tr>\n",
       "      <th>4</th>\n",
       "      <td>2010</td>\n",
       "      <td>3M COMPANY</td>\n",
       "      <td>United States</td>\n",
       "      <td>Activities of membership organisation n.e.c. ...</td>\n",
       "      <td>-7.90%</td>\n",
       "      <td>-0.0790</td>\n",
       "      <td>-0.117561</td>\n",
       "      <td>1</td>\n",
       "      <td>-0.084583</td>\n",
       "      <td>1</td>\n",
       "    </tr>\n",
       "  </tbody>\n",
       "</table>\n",
       "</div>"
      ],
      "text/plain": [
       "   Year       CompanyName           Country  \\\n",
       "0  2016  1&1 DRILLISCH AG          Germany    \n",
       "1  2010      3I GROUP PLC   United Kingdom    \n",
       "2  2011      3I GROUP PLC   United Kingdom    \n",
       "3  2012      3I GROUP PLC   United Kingdom    \n",
       "4  2010        3M COMPANY    United States    \n",
       "\n",
       "                                  Industry(Exiobase)  \\\n",
       "0                  Post and telecommunications (64)    \n",
       "1   Financial intermediation, except insurance an...   \n",
       "2   Financial intermediation, except insurance an...   \n",
       "3   Financial intermediation, except insurance an...   \n",
       "4   Activities of membership organisation n.e.c. ...   \n",
       "\n",
       "  EnvironmentalIntensity(Sales)  Env_intensity  industry_avg  \\\n",
       "0                        -0.07%        -0.0007     -0.018382   \n",
       "1                        -0.12%        -0.0012     -0.020072   \n",
       "2                        -0.16%        -0.0016     -0.020072   \n",
       "3                        -0.15%        -0.0015     -0.020072   \n",
       "4                        -7.90%        -0.0790     -0.117561   \n",
       "\n",
       "   Industry_indicator  industry_avg_year  Industry_indicator_year  \n",
       "0                   1          -0.011640                        1  \n",
       "1                   1          -0.006402                        1  \n",
       "2                   1          -0.009838                        1  \n",
       "3                   1          -0.024437                        1  \n",
       "4                   1          -0.084583                        1  "
      ]
     },
     "execution_count": 9,
     "metadata": {},
     "output_type": "execute_result"
    }
   ],
   "source": [
    "def create_ind_year(df):\n",
    "    if(df['Env_intensity'] > df['industry_avg_year']):\n",
    "        return 1\n",
    "    elif (df['Env_intensity'] == df['industry_avg_year']):\n",
    "        return 0\n",
    "    elif (df['Env_intensity'] < df['industry_avg_year']):\n",
    "        return -1\n",
    "\n",
    "df['industry_avg_year'] = df.groupby(['Industry(Exiobase)','Year']).transform('mean')[['Env_intensity']]\n",
    "\n",
    "df['Industry_indicator_year'] = df.apply(create_ind_year, axis = 1)\n",
    "df.head()"
   ]
  },
  {
   "cell_type": "code",
   "execution_count": 10,
   "metadata": {
    "colab": {
     "base_uri": "https://localhost:8080/",
     "height": 0
    },
    "id": "behind-format",
    "outputId": "dcc3e34a-e751-4955-a250-6262bb21eda8"
   },
   "outputs": [
    {
     "data": {
      "text/html": [
       "<div>\n",
       "<style scoped>\n",
       "    .dataframe tbody tr th:only-of-type {\n",
       "        vertical-align: middle;\n",
       "    }\n",
       "\n",
       "    .dataframe tbody tr th {\n",
       "        vertical-align: top;\n",
       "    }\n",
       "\n",
       "    .dataframe thead th {\n",
       "        text-align: right;\n",
       "    }\n",
       "</style>\n",
       "<table border=\"1\" class=\"dataframe\">\n",
       "  <thead>\n",
       "    <tr style=\"text-align: right;\">\n",
       "      <th></th>\n",
       "      <th>Year</th>\n",
       "      <th>CompanyName</th>\n",
       "      <th>Country</th>\n",
       "      <th>Industry(Exiobase)</th>\n",
       "      <th>EnvironmentalIntensity(Sales)</th>\n",
       "      <th>Env_intensity</th>\n",
       "      <th>industry_avg</th>\n",
       "      <th>Industry_indicator</th>\n",
       "      <th>industry_avg_year</th>\n",
       "      <th>Industry_indicator_year</th>\n",
       "    </tr>\n",
       "  </thead>\n",
       "  <tbody>\n",
       "    <tr>\n",
       "      <th>8166</th>\n",
       "      <td>2016</td>\n",
       "      <td>ADECCO GROUP AG</td>\n",
       "      <td>Switzerland</td>\n",
       "      <td>Activities auxiliary to financial intermediati...</td>\n",
       "      <td>-0.10%</td>\n",
       "      <td>-0.0010</td>\n",
       "      <td>-0.004417</td>\n",
       "      <td>1</td>\n",
       "      <td>-0.007880</td>\n",
       "      <td>1</td>\n",
       "    </tr>\n",
       "    <tr>\n",
       "      <th>14368</th>\n",
       "      <td>2016</td>\n",
       "      <td>WOLTERS KLUWER NV</td>\n",
       "      <td>Netherlands</td>\n",
       "      <td>Activities auxiliary to financial intermediati...</td>\n",
       "      <td>-0.20%</td>\n",
       "      <td>-0.0020</td>\n",
       "      <td>-0.004417</td>\n",
       "      <td>1</td>\n",
       "      <td>-0.007880</td>\n",
       "      <td>1</td>\n",
       "    </tr>\n",
       "    <tr>\n",
       "      <th>14123</th>\n",
       "      <td>2016</td>\n",
       "      <td>VERISK ANALYTICS INCORPORATION</td>\n",
       "      <td>United States</td>\n",
       "      <td>Activities auxiliary to financial intermediati...</td>\n",
       "      <td>-0.21%</td>\n",
       "      <td>-0.0021</td>\n",
       "      <td>-0.004417</td>\n",
       "      <td>1</td>\n",
       "      <td>-0.007880</td>\n",
       "      <td>1</td>\n",
       "    </tr>\n",
       "    <tr>\n",
       "      <th>13738</th>\n",
       "      <td>2016</td>\n",
       "      <td>TELEPERFORMANCE SE</td>\n",
       "      <td>France</td>\n",
       "      <td>Activities auxiliary to financial intermediati...</td>\n",
       "      <td>-1.10%</td>\n",
       "      <td>-0.0110</td>\n",
       "      <td>-0.004417</td>\n",
       "      <td>-1</td>\n",
       "      <td>-0.007880</td>\n",
       "      <td>-1</td>\n",
       "    </tr>\n",
       "    <tr>\n",
       "      <th>12891</th>\n",
       "      <td>2016</td>\n",
       "      <td>SAGA PLC</td>\n",
       "      <td>United Kingdom</td>\n",
       "      <td>Activities auxiliary to financial intermediati...</td>\n",
       "      <td>-2.82%</td>\n",
       "      <td>-0.0282</td>\n",
       "      <td>-0.004417</td>\n",
       "      <td>-1</td>\n",
       "      <td>-0.007880</td>\n",
       "      <td>-1</td>\n",
       "    </tr>\n",
       "    <tr>\n",
       "      <th>...</th>\n",
       "      <td>...</td>\n",
       "      <td>...</td>\n",
       "      <td>...</td>\n",
       "      <td>...</td>\n",
       "      <td>...</td>\n",
       "      <td>...</td>\n",
       "      <td>...</td>\n",
       "      <td>...</td>\n",
       "      <td>...</td>\n",
       "      <td>...</td>\n",
       "    </tr>\n",
       "    <tr>\n",
       "      <th>9736</th>\n",
       "      <td>2019</td>\n",
       "      <td>DKSH HOLDING AG</td>\n",
       "      <td>Switzerland</td>\n",
       "      <td>Activities auxiliary to financial intermediati...</td>\n",
       "      <td>-0.17%</td>\n",
       "      <td>-0.0017</td>\n",
       "      <td>-0.004417</td>\n",
       "      <td>1</td>\n",
       "      <td>0.002943</td>\n",
       "      <td>-1</td>\n",
       "    </tr>\n",
       "    <tr>\n",
       "      <th>10721</th>\n",
       "      <td>2019</td>\n",
       "      <td>HONG KONG EXCHANGES AND CLEARING LIMITED</td>\n",
       "      <td>Hong Kong</td>\n",
       "      <td>Activities auxiliary to financial intermediati...</td>\n",
       "      <td>-0.34%</td>\n",
       "      <td>-0.0034</td>\n",
       "      <td>-0.004417</td>\n",
       "      <td>1</td>\n",
       "      <td>0.002943</td>\n",
       "      <td>-1</td>\n",
       "    </tr>\n",
       "    <tr>\n",
       "      <th>10077</th>\n",
       "      <td>2019</td>\n",
       "      <td>EXPERIAN PLC</td>\n",
       "      <td>United Kingdom</td>\n",
       "      <td>Activities auxiliary to financial intermediati...</td>\n",
       "      <td>-0.20%</td>\n",
       "      <td>-0.0020</td>\n",
       "      <td>-0.004417</td>\n",
       "      <td>1</td>\n",
       "      <td>0.002943</td>\n",
       "      <td>-1</td>\n",
       "    </tr>\n",
       "    <tr>\n",
       "      <th>11536</th>\n",
       "      <td>2019</td>\n",
       "      <td>LONDON STOCK EXCHANGE GROUP PLC</td>\n",
       "      <td>United Kingdom</td>\n",
       "      <td>Activities auxiliary to financial intermediati...</td>\n",
       "      <td>-0.19%</td>\n",
       "      <td>-0.0019</td>\n",
       "      <td>-0.004417</td>\n",
       "      <td>1</td>\n",
       "      <td>0.002943</td>\n",
       "      <td>-1</td>\n",
       "    </tr>\n",
       "    <tr>\n",
       "      <th>9666</th>\n",
       "      <td>2019</td>\n",
       "      <td>DEUTSCHE BOERSE AG</td>\n",
       "      <td>Germany</td>\n",
       "      <td>Activities auxiliary to financial intermediati...</td>\n",
       "      <td>1.88%</td>\n",
       "      <td>0.0188</td>\n",
       "      <td>-0.004417</td>\n",
       "      <td>1</td>\n",
       "      <td>0.002943</td>\n",
       "      <td>1</td>\n",
       "    </tr>\n",
       "  </tbody>\n",
       "</table>\n",
       "<p>93 rows × 10 columns</p>\n",
       "</div>"
      ],
      "text/plain": [
       "       Year                               CompanyName         Country  \\\n",
       "8166   2016                           ADECCO GROUP AG     Switzerland   \n",
       "14368  2016                         WOLTERS KLUWER NV     Netherlands   \n",
       "14123  2016            VERISK ANALYTICS INCORPORATION   United States   \n",
       "13738  2016                        TELEPERFORMANCE SE          France   \n",
       "12891  2016                                  SAGA PLC  United Kingdom   \n",
       "...     ...                                       ...             ...   \n",
       "9736   2019                           DKSH HOLDING AG     Switzerland   \n",
       "10721  2019  HONG KONG EXCHANGES AND CLEARING LIMITED       Hong Kong   \n",
       "10077  2019                              EXPERIAN PLC  United Kingdom   \n",
       "11536  2019           LONDON STOCK EXCHANGE GROUP PLC  United Kingdom   \n",
       "9666   2019                        DEUTSCHE BOERSE AG         Germany   \n",
       "\n",
       "                                      Industry(Exiobase)  \\\n",
       "8166   Activities auxiliary to financial intermediati...   \n",
       "14368  Activities auxiliary to financial intermediati...   \n",
       "14123  Activities auxiliary to financial intermediati...   \n",
       "13738  Activities auxiliary to financial intermediati...   \n",
       "12891  Activities auxiliary to financial intermediati...   \n",
       "...                                                  ...   \n",
       "9736   Activities auxiliary to financial intermediati...   \n",
       "10721  Activities auxiliary to financial intermediati...   \n",
       "10077  Activities auxiliary to financial intermediati...   \n",
       "11536  Activities auxiliary to financial intermediati...   \n",
       "9666   Activities auxiliary to financial intermediati...   \n",
       "\n",
       "      EnvironmentalIntensity(Sales)  Env_intensity  industry_avg  \\\n",
       "8166                         -0.10%        -0.0010     -0.004417   \n",
       "14368                        -0.20%        -0.0020     -0.004417   \n",
       "14123                        -0.21%        -0.0021     -0.004417   \n",
       "13738                        -1.10%        -0.0110     -0.004417   \n",
       "12891                        -2.82%        -0.0282     -0.004417   \n",
       "...                             ...            ...           ...   \n",
       "9736                         -0.17%        -0.0017     -0.004417   \n",
       "10721                        -0.34%        -0.0034     -0.004417   \n",
       "10077                        -0.20%        -0.0020     -0.004417   \n",
       "11536                        -0.19%        -0.0019     -0.004417   \n",
       "9666                          1.88%         0.0188     -0.004417   \n",
       "\n",
       "       Industry_indicator  industry_avg_year  Industry_indicator_year  \n",
       "8166                    1          -0.007880                        1  \n",
       "14368                   1          -0.007880                        1  \n",
       "14123                   1          -0.007880                        1  \n",
       "13738                  -1          -0.007880                       -1  \n",
       "12891                  -1          -0.007880                       -1  \n",
       "...                   ...                ...                      ...  \n",
       "9736                    1           0.002943                       -1  \n",
       "10721                   1           0.002943                       -1  \n",
       "10077                   1           0.002943                       -1  \n",
       "11536                   1           0.002943                       -1  \n",
       "9666                    1           0.002943                        1  \n",
       "\n",
       "[93 rows x 10 columns]"
      ]
     },
     "execution_count": 10,
     "metadata": {},
     "output_type": "execute_result"
    }
   ],
   "source": [
    "df.loc[(df['Industry(Exiobase)'] == 'Activities auxiliary to financial intermediation (67)'),:].sort_values(by='Year')"
   ]
  },
  {
   "cell_type": "markdown",
   "metadata": {
    "id": "directed-workplace"
   },
   "source": [
    "### Creating Environmental growth\n",
    "\n",
    "Environmental Intensity Growth : ((Environmental Intensity in Current Year / Environmental Intensity Last Year) - 1) * 100"
   ]
  },
  {
   "cell_type": "code",
   "execution_count": 11,
   "metadata": {
    "colab": {
     "base_uri": "https://localhost:8080/",
     "height": 0
    },
    "id": "loaded-pitch",
    "outputId": "36f9001b-8a82-492e-b2f2-dab2d6907c3e"
   },
   "outputs": [
    {
     "data": {
      "text/html": [
       "<div>\n",
       "<style scoped>\n",
       "    .dataframe tbody tr th:only-of-type {\n",
       "        vertical-align: middle;\n",
       "    }\n",
       "\n",
       "    .dataframe tbody tr th {\n",
       "        vertical-align: top;\n",
       "    }\n",
       "\n",
       "    .dataframe thead th {\n",
       "        text-align: right;\n",
       "    }\n",
       "</style>\n",
       "<table border=\"1\" class=\"dataframe\">\n",
       "  <thead>\n",
       "    <tr style=\"text-align: right;\">\n",
       "      <th></th>\n",
       "      <th>Year</th>\n",
       "      <th>CompanyName</th>\n",
       "      <th>Country</th>\n",
       "      <th>Industry(Exiobase)</th>\n",
       "      <th>EnvironmentalIntensity(Sales)</th>\n",
       "      <th>Env_intensity</th>\n",
       "      <th>industry_avg</th>\n",
       "      <th>Industry_indicator</th>\n",
       "      <th>industry_avg_year</th>\n",
       "      <th>Industry_indicator_year</th>\n",
       "    </tr>\n",
       "  </thead>\n",
       "  <tbody>\n",
       "    <tr>\n",
       "      <th>0</th>\n",
       "      <td>2016</td>\n",
       "      <td>1&amp;1 DRILLISCH AG</td>\n",
       "      <td>Germany</td>\n",
       "      <td>Post and telecommunications (64)</td>\n",
       "      <td>-0.07%</td>\n",
       "      <td>-0.0007</td>\n",
       "      <td>-0.018382</td>\n",
       "      <td>1</td>\n",
       "      <td>-0.011640</td>\n",
       "      <td>1</td>\n",
       "    </tr>\n",
       "    <tr>\n",
       "      <th>1</th>\n",
       "      <td>2010</td>\n",
       "      <td>3I GROUP PLC</td>\n",
       "      <td>United Kingdom</td>\n",
       "      <td>Financial intermediation, except insurance an...</td>\n",
       "      <td>-0.12%</td>\n",
       "      <td>-0.0012</td>\n",
       "      <td>-0.020072</td>\n",
       "      <td>1</td>\n",
       "      <td>-0.006402</td>\n",
       "      <td>1</td>\n",
       "    </tr>\n",
       "    <tr>\n",
       "      <th>2</th>\n",
       "      <td>2011</td>\n",
       "      <td>3I GROUP PLC</td>\n",
       "      <td>United Kingdom</td>\n",
       "      <td>Financial intermediation, except insurance an...</td>\n",
       "      <td>-0.16%</td>\n",
       "      <td>-0.0016</td>\n",
       "      <td>-0.020072</td>\n",
       "      <td>1</td>\n",
       "      <td>-0.009838</td>\n",
       "      <td>1</td>\n",
       "    </tr>\n",
       "    <tr>\n",
       "      <th>3</th>\n",
       "      <td>2012</td>\n",
       "      <td>3I GROUP PLC</td>\n",
       "      <td>United Kingdom</td>\n",
       "      <td>Financial intermediation, except insurance an...</td>\n",
       "      <td>-0.15%</td>\n",
       "      <td>-0.0015</td>\n",
       "      <td>-0.020072</td>\n",
       "      <td>1</td>\n",
       "      <td>-0.024437</td>\n",
       "      <td>1</td>\n",
       "    </tr>\n",
       "    <tr>\n",
       "      <th>4</th>\n",
       "      <td>2010</td>\n",
       "      <td>3M COMPANY</td>\n",
       "      <td>United States</td>\n",
       "      <td>Activities of membership organisation n.e.c. ...</td>\n",
       "      <td>-7.90%</td>\n",
       "      <td>-0.0790</td>\n",
       "      <td>-0.117561</td>\n",
       "      <td>1</td>\n",
       "      <td>-0.084583</td>\n",
       "      <td>1</td>\n",
       "    </tr>\n",
       "  </tbody>\n",
       "</table>\n",
       "</div>"
      ],
      "text/plain": [
       "   Year       CompanyName           Country  \\\n",
       "0  2016  1&1 DRILLISCH AG          Germany    \n",
       "1  2010      3I GROUP PLC   United Kingdom    \n",
       "2  2011      3I GROUP PLC   United Kingdom    \n",
       "3  2012      3I GROUP PLC   United Kingdom    \n",
       "4  2010        3M COMPANY    United States    \n",
       "\n",
       "                                  Industry(Exiobase)  \\\n",
       "0                  Post and telecommunications (64)    \n",
       "1   Financial intermediation, except insurance an...   \n",
       "2   Financial intermediation, except insurance an...   \n",
       "3   Financial intermediation, except insurance an...   \n",
       "4   Activities of membership organisation n.e.c. ...   \n",
       "\n",
       "  EnvironmentalIntensity(Sales)  Env_intensity  industry_avg  \\\n",
       "0                        -0.07%        -0.0007     -0.018382   \n",
       "1                        -0.12%        -0.0012     -0.020072   \n",
       "2                        -0.16%        -0.0016     -0.020072   \n",
       "3                        -0.15%        -0.0015     -0.020072   \n",
       "4                        -7.90%        -0.0790     -0.117561   \n",
       "\n",
       "   Industry_indicator  industry_avg_year  Industry_indicator_year  \n",
       "0                   1          -0.011640                        1  \n",
       "1                   1          -0.006402                        1  \n",
       "2                   1          -0.009838                        1  \n",
       "3                   1          -0.024437                        1  \n",
       "4                   1          -0.084583                        1  "
      ]
     },
     "execution_count": 11,
     "metadata": {},
     "output_type": "execute_result"
    }
   ],
   "source": [
    "df = df.sort_values(by=['CompanyName','Year'], ascending = True)\n",
    "df.head()"
   ]
  },
  {
   "cell_type": "code",
   "execution_count": 12,
   "metadata": {
    "colab": {
     "base_uri": "https://localhost:8080/",
     "height": 0
    },
    "id": "southeast-killing",
    "outputId": "7baf6a83-8327-42f0-a600-114806c0227c"
   },
   "outputs": [
    {
     "data": {
      "text/html": [
       "<div>\n",
       "<style scoped>\n",
       "    .dataframe tbody tr th:only-of-type {\n",
       "        vertical-align: middle;\n",
       "    }\n",
       "\n",
       "    .dataframe tbody tr th {\n",
       "        vertical-align: top;\n",
       "    }\n",
       "\n",
       "    .dataframe thead th {\n",
       "        text-align: right;\n",
       "    }\n",
       "</style>\n",
       "<table border=\"1\" class=\"dataframe\">\n",
       "  <thead>\n",
       "    <tr style=\"text-align: right;\">\n",
       "      <th></th>\n",
       "      <th>Year</th>\n",
       "      <th>CompanyName</th>\n",
       "      <th>Country</th>\n",
       "      <th>Industry(Exiobase)</th>\n",
       "      <th>EnvironmentalIntensity(Sales)</th>\n",
       "      <th>Env_intensity</th>\n",
       "      <th>industry_avg</th>\n",
       "      <th>Industry_indicator</th>\n",
       "      <th>industry_avg_year</th>\n",
       "      <th>Industry_indicator_year</th>\n",
       "      <th>Environmental_Growth</th>\n",
       "    </tr>\n",
       "  </thead>\n",
       "  <tbody>\n",
       "    <tr>\n",
       "      <th>0</th>\n",
       "      <td>2016</td>\n",
       "      <td>1&amp;1 DRILLISCH AG</td>\n",
       "      <td>Germany</td>\n",
       "      <td>Post and telecommunications (64)</td>\n",
       "      <td>-0.07%</td>\n",
       "      <td>-0.0007</td>\n",
       "      <td>-0.018382</td>\n",
       "      <td>1</td>\n",
       "      <td>-0.011640</td>\n",
       "      <td>1</td>\n",
       "      <td>NaN</td>\n",
       "    </tr>\n",
       "    <tr>\n",
       "      <th>1</th>\n",
       "      <td>2010</td>\n",
       "      <td>3I GROUP PLC</td>\n",
       "      <td>United Kingdom</td>\n",
       "      <td>Financial intermediation, except insurance an...</td>\n",
       "      <td>-0.12%</td>\n",
       "      <td>-0.0012</td>\n",
       "      <td>-0.020072</td>\n",
       "      <td>1</td>\n",
       "      <td>-0.006402</td>\n",
       "      <td>1</td>\n",
       "      <td>NaN</td>\n",
       "    </tr>\n",
       "    <tr>\n",
       "      <th>2</th>\n",
       "      <td>2011</td>\n",
       "      <td>3I GROUP PLC</td>\n",
       "      <td>United Kingdom</td>\n",
       "      <td>Financial intermediation, except insurance an...</td>\n",
       "      <td>-0.16%</td>\n",
       "      <td>-0.0016</td>\n",
       "      <td>-0.020072</td>\n",
       "      <td>1</td>\n",
       "      <td>-0.009838</td>\n",
       "      <td>1</td>\n",
       "      <td>33.333333</td>\n",
       "    </tr>\n",
       "    <tr>\n",
       "      <th>3</th>\n",
       "      <td>2012</td>\n",
       "      <td>3I GROUP PLC</td>\n",
       "      <td>United Kingdom</td>\n",
       "      <td>Financial intermediation, except insurance an...</td>\n",
       "      <td>-0.15%</td>\n",
       "      <td>-0.0015</td>\n",
       "      <td>-0.020072</td>\n",
       "      <td>1</td>\n",
       "      <td>-0.024437</td>\n",
       "      <td>1</td>\n",
       "      <td>-6.250000</td>\n",
       "    </tr>\n",
       "    <tr>\n",
       "      <th>4</th>\n",
       "      <td>2010</td>\n",
       "      <td>3M COMPANY</td>\n",
       "      <td>United States</td>\n",
       "      <td>Activities of membership organisation n.e.c. ...</td>\n",
       "      <td>-7.90%</td>\n",
       "      <td>-0.0790</td>\n",
       "      <td>-0.117561</td>\n",
       "      <td>1</td>\n",
       "      <td>-0.084583</td>\n",
       "      <td>1</td>\n",
       "      <td>NaN</td>\n",
       "    </tr>\n",
       "  </tbody>\n",
       "</table>\n",
       "</div>"
      ],
      "text/plain": [
       "   Year       CompanyName           Country  \\\n",
       "0  2016  1&1 DRILLISCH AG          Germany    \n",
       "1  2010      3I GROUP PLC   United Kingdom    \n",
       "2  2011      3I GROUP PLC   United Kingdom    \n",
       "3  2012      3I GROUP PLC   United Kingdom    \n",
       "4  2010        3M COMPANY    United States    \n",
       "\n",
       "                                  Industry(Exiobase)  \\\n",
       "0                  Post and telecommunications (64)    \n",
       "1   Financial intermediation, except insurance an...   \n",
       "2   Financial intermediation, except insurance an...   \n",
       "3   Financial intermediation, except insurance an...   \n",
       "4   Activities of membership organisation n.e.c. ...   \n",
       "\n",
       "  EnvironmentalIntensity(Sales)  Env_intensity  industry_avg  \\\n",
       "0                        -0.07%        -0.0007     -0.018382   \n",
       "1                        -0.12%        -0.0012     -0.020072   \n",
       "2                        -0.16%        -0.0016     -0.020072   \n",
       "3                        -0.15%        -0.0015     -0.020072   \n",
       "4                        -7.90%        -0.0790     -0.117561   \n",
       "\n",
       "   Industry_indicator  industry_avg_year  Industry_indicator_year  \\\n",
       "0                   1          -0.011640                        1   \n",
       "1                   1          -0.006402                        1   \n",
       "2                   1          -0.009838                        1   \n",
       "3                   1          -0.024437                        1   \n",
       "4                   1          -0.084583                        1   \n",
       "\n",
       "   Environmental_Growth  \n",
       "0                   NaN  \n",
       "1                   NaN  \n",
       "2             33.333333  \n",
       "3             -6.250000  \n",
       "4                   NaN  "
      ]
     },
     "execution_count": 12,
     "metadata": {},
     "output_type": "execute_result"
    }
   ],
   "source": [
    "df['Environmental_Growth'] = df.groupby(['CompanyName'])['Env_intensity'].apply(lambda x: x.pct_change()).to_numpy() * 100\n",
    "df.head()"
   ]
  },
  {
   "cell_type": "markdown",
   "metadata": {
    "id": "Teqthpuxe8MC"
   },
   "source": [
    "### Model 1 - Past years Environmental Intensity"
   ]
  },
  {
   "cell_type": "code",
   "execution_count": 13,
   "metadata": {
    "id": "9f_QPBEQe8MC"
   },
   "outputs": [],
   "source": [
    "df1 = df.copy()"
   ]
  },
  {
   "cell_type": "code",
   "execution_count": 14,
   "metadata": {
    "colab": {
     "base_uri": "https://localhost:8080/"
    },
    "id": "sexual-cricket",
    "outputId": "5fa9864e-8ef8-4886-9c4b-1b5095bb44fb"
   },
   "outputs": [
    {
     "name": "stdout",
     "output_type": "stream",
     "text": [
      "R2 score: 0.8825319170790614\n",
      "MSE:  0.010786739663931547\n"
     ]
    }
   ],
   "source": [
    "companies_2018 = list(df1[df1['Year'] == 2018]['CompanyName'])\n",
    "companies_2019 = list(df1[(df1['Year'] == 2019) & (df1['CompanyName'].isin(companies_2018))]['CompanyName'])\n",
    "\n",
    "#Getting companies that are in both years\n",
    "list2018_as_set = set(companies_2018)\n",
    "intersection = list2018_as_set.intersection(companies_2019)\n",
    "\n",
    "X = df1[(df1['Year'] == 2018) & (df1['CompanyName'].isin(intersection))][['Env_intensity']]\n",
    "y = df1[(df1['Year'] == 2019) & (df1['CompanyName'].isin(intersection))][['Env_intensity']]\n",
    "\n",
    "X_train, X_test, y_train, y_test = train_test_split(\n",
    "    X, y, test_size=0.33, random_state=42)\n",
    "\n",
    "\n",
    "reg = LinearRegression().fit(X_train, y_train)\n",
    "\n",
    "y_pred = reg.predict(X_test)\n",
    "\n",
    "print('R2 score:', metrics.r2_score(y_test, y_pred))\n",
    "print('MSE: ', metrics.mean_squared_error(y_test, y_pred))\n"
   ]
  },
  {
   "cell_type": "markdown",
   "metadata": {},
   "source": [
    "# Including Multiple Years"
   ]
  },
  {
   "cell_type": "markdown",
   "metadata": {},
   "source": [
    "Starting with 2017 & 2018 to predict values in 2019"
   ]
  },
  {
   "cell_type": "code",
   "execution_count": 15,
   "metadata": {},
   "outputs": [
    {
     "name": "stdout",
     "output_type": "stream",
     "text": [
      "R2 score: 0.8372979198261119\n",
      "MSE:  0.010708634183402689\n",
      "Adjusted R2:  0.8370169966442953\n"
     ]
    }
   ],
   "source": [
    "companies_2017 = list(df1[df1['Year'] == 2017]['CompanyName'])\n",
    "list2017_as_set = set(companies_2017)\n",
    "intersection2= list2017_as_set.intersection(intersection)\n",
    "\n",
    "X = df1[(df1['Year'].isin([2017, 2018])) & (df1['CompanyName'].isin(intersection2))][['CompanyName','EnvironmentalIntensity(Sales)']]\n",
    "X = X.groupby('CompanyName').mean()[['EnvironmentalIntensity(Sales)']]\n",
    "\n",
    "y = df1[(df1['Year'] == 2019) & (df1['CompanyName'].isin(intersection2))][['EnvironmentalIntensity(Sales)']]\n",
    "\n",
    "X_train, X_test, y_train, y_test = train_test_split(\n",
    "    X, y, test_size=0.33, random_state=42)\n",
    "\n",
    "\n",
    "reg = LinearRegression().fit(X_train, y_train)\n",
    "\n",
    "y_pred = reg.predict(X_test)\n",
    "\n",
    "\n",
    "print('R2 score:', metrics.r2_score(y_test, y_pred))\n",
    "print('MSE: ', metrics.mean_squared_error(y_test, y_pred))\n",
    "print('Adjusted R2: ', 1-(1-.83729)*(len(intersection2)-1)/(len(intersection2)-2-1))"
   ]
  },
  {
   "cell_type": "markdown",
   "metadata": {},
   "source": [
    "We see that the results of this model are worse than our first model which predicted 2019 numbers with 2018. We go on to include 2017."
   ]
  },
  {
   "cell_type": "code",
   "execution_count": 16,
   "metadata": {},
   "outputs": [
    {
     "name": "stdout",
     "output_type": "stream",
     "text": [
      "R2 score: 0.9274168032810293\n",
      "MSE:  0.0033082710197779135\n",
      "Adjusted R2:  0.9271473100120626\n"
     ]
    }
   ],
   "source": [
    "companies_2016 = list(df1[df1['Year'] == 2016]['CompanyName'])\n",
    "list2016_as_set = set(companies_2016)\n",
    "intersection3= list2016_as_set.intersection(intersection2)\n",
    "\n",
    "X = df1[(df1['Year'].isin([2016, 2017, 2018])) & (df1['CompanyName'].isin(intersection3))][['CompanyName','EnvironmentalIntensity(Sales)']]\n",
    "X = X.groupby('CompanyName').mean()[['EnvironmentalIntensity(Sales)']]\n",
    "\n",
    "y = df1[(df1['Year'] == 2019) & (df1['CompanyName'].isin(intersection3))][['EnvironmentalIntensity(Sales)']]\n",
    "\n",
    "X_train, X_test, y_train, y_test = train_test_split(\n",
    "    X, y, test_size=0.33, random_state=42)\n",
    "\n",
    "\n",
    "reg = LinearRegression().fit(X_train, y_train)\n",
    "\n",
    "y_pred = reg.predict(X_test)\n",
    "\n",
    "print('R2 score:', metrics.r2_score(y_test, y_pred))\n",
    "print('MSE: ', metrics.mean_squared_error(y_test, y_pred))\n",
    "print('Adjusted R2: ', 1-(1-.92741)*(len(intersection3)-1)/(len(intersection3)-3-1))"
   ]
  },
  {
   "cell_type": "markdown",
   "metadata": {},
   "source": [
    "When we include 2016 both our R score and MSE improved."
   ]
  },
  {
   "cell_type": "markdown",
   "metadata": {
    "id": "n67fJF-se8ME"
   },
   "source": [
    "### Model 2 - Past years average environmental intensity\n",
    "\n",
    "In this section, we will use the average environmental intensity of 2016-2018 to predict 2019 environmental intensity"
   ]
  },
  {
   "cell_type": "code",
   "execution_count": 15,
   "metadata": {
    "id": "HCKgjKyDe8ME"
   },
   "outputs": [],
   "source": [
    "df2 = df.copy()\n",
    "EI_2016 = df2[df2['Year'] == 2016]\n",
    "EI_2017 = df2[df2['Year'] == 2017]\n",
    "EI_2018 = df2[df2['Year'] == 2018]\n",
    "EI_2019 = df2[df2['Year'] == 2019]"
   ]
  },
  {
   "cell_type": "code",
   "execution_count": 16,
   "metadata": {
    "id": "s5HULOeue8MF"
   },
   "outputs": [],
   "source": [
    "df_mod2 = EI_2016.merge(EI_2017, how='inner', on='CompanyName', suffixes=('_2016', '_2017'))\n",
    "df_mod2 = df_mod2.merge(EI_2018, how='inner', on='CompanyName')\n",
    "df_mod2 = df_mod2.merge(EI_2019, how='inner', on='CompanyName', suffixes=('_2018', '_2019'))"
   ]
  },
  {
   "cell_type": "code",
   "execution_count": 17,
   "metadata": {
    "id": "etVVWoUAe8MF"
   },
   "outputs": [],
   "source": [
    "df_mod2 = df_mod2[['CompanyName','Year_2016','Env_intensity_2016','Year_2017','Env_intensity_2017','Year_2018','Env_intensity_2018','Year_2019','Env_intensity_2019']]"
   ]
  },
  {
   "cell_type": "code",
   "execution_count": 18,
   "metadata": {
    "colab": {
     "base_uri": "https://localhost:8080/",
     "height": 0
    },
    "id": "lqhvtMkce8MF",
    "outputId": "cbdecc1f-8097-452b-e5c3-2388ef6f05fb"
   },
   "outputs": [
    {
     "data": {
      "text/html": [
       "<div>\n",
       "<style scoped>\n",
       "    .dataframe tbody tr th:only-of-type {\n",
       "        vertical-align: middle;\n",
       "    }\n",
       "\n",
       "    .dataframe tbody tr th {\n",
       "        vertical-align: top;\n",
       "    }\n",
       "\n",
       "    .dataframe thead th {\n",
       "        text-align: right;\n",
       "    }\n",
       "</style>\n",
       "<table border=\"1\" class=\"dataframe\">\n",
       "  <thead>\n",
       "    <tr style=\"text-align: right;\">\n",
       "      <th></th>\n",
       "      <th>CompanyName</th>\n",
       "      <th>Year_2016</th>\n",
       "      <th>Env_intensity_2016</th>\n",
       "      <th>Year_2017</th>\n",
       "      <th>Env_intensity_2017</th>\n",
       "      <th>Year_2018</th>\n",
       "      <th>Env_intensity_2018</th>\n",
       "      <th>Year_2019</th>\n",
       "      <th>Env_intensity_2019</th>\n",
       "    </tr>\n",
       "  </thead>\n",
       "  <tbody>\n",
       "    <tr>\n",
       "      <th>0</th>\n",
       "      <td>3M COMPANY</td>\n",
       "      <td>2016</td>\n",
       "      <td>-0.0705</td>\n",
       "      <td>2017</td>\n",
       "      <td>-0.0660</td>\n",
       "      <td>2018</td>\n",
       "      <td>-0.0710</td>\n",
       "      <td>2019</td>\n",
       "      <td>-0.0641</td>\n",
       "    </tr>\n",
       "    <tr>\n",
       "      <th>1</th>\n",
       "      <td>A.G.V. PRODUCTS CORP</td>\n",
       "      <td>2016</td>\n",
       "      <td>-0.0170</td>\n",
       "      <td>2017</td>\n",
       "      <td>-0.0190</td>\n",
       "      <td>2018</td>\n",
       "      <td>-0.0140</td>\n",
       "      <td>2019</td>\n",
       "      <td>-0.0172</td>\n",
       "    </tr>\n",
       "    <tr>\n",
       "      <th>2</th>\n",
       "      <td>AA PLC</td>\n",
       "      <td>2016</td>\n",
       "      <td>-0.0130</td>\n",
       "      <td>2017</td>\n",
       "      <td>-0.0124</td>\n",
       "      <td>2018</td>\n",
       "      <td>-0.0117</td>\n",
       "      <td>2019</td>\n",
       "      <td>-0.0070</td>\n",
       "    </tr>\n",
       "    <tr>\n",
       "      <th>3</th>\n",
       "      <td>AAC TECHNOLOGIES HOLDINGS INCORPORATION</td>\n",
       "      <td>2016</td>\n",
       "      <td>-0.0389</td>\n",
       "      <td>2017</td>\n",
       "      <td>-0.0591</td>\n",
       "      <td>2018</td>\n",
       "      <td>-0.0802</td>\n",
       "      <td>2019</td>\n",
       "      <td>-0.1080</td>\n",
       "    </tr>\n",
       "    <tr>\n",
       "      <th>4</th>\n",
       "      <td>AAREAL BANK AG</td>\n",
       "      <td>2016</td>\n",
       "      <td>-0.0024</td>\n",
       "      <td>2017</td>\n",
       "      <td>-0.0021</td>\n",
       "      <td>2018</td>\n",
       "      <td>-0.0019</td>\n",
       "      <td>2019</td>\n",
       "      <td>-0.0015</td>\n",
       "    </tr>\n",
       "  </tbody>\n",
       "</table>\n",
       "</div>"
      ],
      "text/plain": [
       "                               CompanyName  Year_2016  Env_intensity_2016  \\\n",
       "0                               3M COMPANY       2016             -0.0705   \n",
       "1                     A.G.V. PRODUCTS CORP       2016             -0.0170   \n",
       "2                                   AA PLC       2016             -0.0130   \n",
       "3  AAC TECHNOLOGIES HOLDINGS INCORPORATION       2016             -0.0389   \n",
       "4                           AAREAL BANK AG       2016             -0.0024   \n",
       "\n",
       "   Year_2017  Env_intensity_2017  Year_2018  Env_intensity_2018  Year_2019  \\\n",
       "0       2017             -0.0660       2018             -0.0710       2019   \n",
       "1       2017             -0.0190       2018             -0.0140       2019   \n",
       "2       2017             -0.0124       2018             -0.0117       2019   \n",
       "3       2017             -0.0591       2018             -0.0802       2019   \n",
       "4       2017             -0.0021       2018             -0.0019       2019   \n",
       "\n",
       "   Env_intensity_2019  \n",
       "0             -0.0641  \n",
       "1             -0.0172  \n",
       "2             -0.0070  \n",
       "3             -0.1080  \n",
       "4             -0.0015  "
      ]
     },
     "execution_count": 18,
     "metadata": {},
     "output_type": "execute_result"
    }
   ],
   "source": [
    "df_mod2.head()"
   ]
  },
  {
   "cell_type": "code",
   "execution_count": 19,
   "metadata": {
    "id": "9ijrBlmDe8MF"
   },
   "outputs": [],
   "source": [
    "df_melt2 = pd.melt(df_mod2, id_vars=['CompanyName'], value_vars=['Env_intensity_2016','Env_intensity_2016','Env_intensity_2017'],\n",
    "        var_name='myVarname', value_name='Environmental_intenrsity')"
   ]
  },
  {
   "cell_type": "code",
   "execution_count": 20,
   "metadata": {
    "colab": {
     "base_uri": "https://localhost:8080/",
     "height": 0
    },
    "id": "lW4BEQ7he8MG",
    "outputId": "5e606a9b-5ce2-485d-e67e-5f063539f322"
   },
   "outputs": [
    {
     "data": {
      "text/html": [
       "<div>\n",
       "<style scoped>\n",
       "    .dataframe tbody tr th:only-of-type {\n",
       "        vertical-align: middle;\n",
       "    }\n",
       "\n",
       "    .dataframe tbody tr th {\n",
       "        vertical-align: top;\n",
       "    }\n",
       "\n",
       "    .dataframe thead th {\n",
       "        text-align: right;\n",
       "    }\n",
       "</style>\n",
       "<table border=\"1\" class=\"dataframe\">\n",
       "  <thead>\n",
       "    <tr style=\"text-align: right;\">\n",
       "      <th></th>\n",
       "      <th>CompanyName</th>\n",
       "      <th>myVarname</th>\n",
       "      <th>Environmental_intenrsity</th>\n",
       "    </tr>\n",
       "  </thead>\n",
       "  <tbody>\n",
       "    <tr>\n",
       "      <th>0</th>\n",
       "      <td>3M COMPANY</td>\n",
       "      <td>Env_intensity_2016</td>\n",
       "      <td>-0.0705</td>\n",
       "    </tr>\n",
       "    <tr>\n",
       "      <th>1</th>\n",
       "      <td>A.G.V. PRODUCTS CORP</td>\n",
       "      <td>Env_intensity_2016</td>\n",
       "      <td>-0.0170</td>\n",
       "    </tr>\n",
       "    <tr>\n",
       "      <th>2</th>\n",
       "      <td>AA PLC</td>\n",
       "      <td>Env_intensity_2016</td>\n",
       "      <td>-0.0130</td>\n",
       "    </tr>\n",
       "    <tr>\n",
       "      <th>3</th>\n",
       "      <td>AAC TECHNOLOGIES HOLDINGS INCORPORATION</td>\n",
       "      <td>Env_intensity_2016</td>\n",
       "      <td>-0.0389</td>\n",
       "    </tr>\n",
       "    <tr>\n",
       "      <th>4</th>\n",
       "      <td>AAREAL BANK AG</td>\n",
       "      <td>Env_intensity_2016</td>\n",
       "      <td>-0.0024</td>\n",
       "    </tr>\n",
       "  </tbody>\n",
       "</table>\n",
       "</div>"
      ],
      "text/plain": [
       "                               CompanyName           myVarname  \\\n",
       "0                               3M COMPANY  Env_intensity_2016   \n",
       "1                     A.G.V. PRODUCTS CORP  Env_intensity_2016   \n",
       "2                                   AA PLC  Env_intensity_2016   \n",
       "3  AAC TECHNOLOGIES HOLDINGS INCORPORATION  Env_intensity_2016   \n",
       "4                           AAREAL BANK AG  Env_intensity_2016   \n",
       "\n",
       "   Environmental_intenrsity  \n",
       "0                   -0.0705  \n",
       "1                   -0.0170  \n",
       "2                   -0.0130  \n",
       "3                   -0.0389  \n",
       "4                   -0.0024  "
      ]
     },
     "execution_count": 20,
     "metadata": {},
     "output_type": "execute_result"
    }
   ],
   "source": [
    "df_melt2.head()"
   ]
  },
  {
   "cell_type": "code",
   "execution_count": 21,
   "metadata": {
    "colab": {
     "base_uri": "https://localhost:8080/"
    },
    "id": "6lHVG_CIe8MG",
    "outputId": "54bc2a1b-9cdb-426d-9d33-756946d3cc00"
   },
   "outputs": [
    {
     "name": "stdout",
     "output_type": "stream",
     "text": [
      "(1065, 1)\n",
      "(1065, 1)\n"
     ]
    }
   ],
   "source": [
    "ei_avg = df_melt2.groupby('CompanyName').mean().reset_index()\n",
    "X = ei_avg[['Environmental_intenrsity']]\n",
    "y = df_mod2[['Env_intensity_2019']]\n",
    "\n",
    "print(X.shape)\n",
    "print(y.shape)"
   ]
  },
  {
   "cell_type": "code",
   "execution_count": 22,
   "metadata": {
    "colab": {
     "base_uri": "https://localhost:8080/"
    },
    "id": "8KSeGKnwe8MG",
    "outputId": "9ecb532e-5e99-41ef-eeeb-aba611c066e8"
   },
   "outputs": [
    {
     "name": "stdout",
     "output_type": "stream",
     "text": [
      "0.006269966737857913\n"
     ]
    }
   ],
   "source": [
    "x_train, x_test, y_train, y_test = train_test_split(X ,y, test_size = 0.2, random_state = 42)\n",
    "# train Linear Regression\n",
    "LRtrainer = LinearRegression()\n",
    "LRtrainer.fit(x_train,y_train)\n",
    "\n",
    "# mse for linear regression\n",
    "y_pred_lr = LRtrainer.predict(x_test)\n",
    "print(metrics.mean_squared_error(y_pred_lr, y_test))"
   ]
  },
  {
   "cell_type": "code",
   "execution_count": 23,
   "metadata": {
    "colab": {
     "base_uri": "https://localhost:8080/"
    },
    "id": "fhRMZGw8e8MH",
    "outputId": "defc0d4c-2364-4333-d7b4-5eb672a44b1d"
   },
   "outputs": [
    {
     "name": "stdout",
     "output_type": "stream",
     "text": [
      "Model intercept:  [-0.0051724]\n",
      "Model coefficients:  [[0.80432622]]\n"
     ]
    }
   ],
   "source": [
    "# display the parameters\n",
    "print('Model intercept: ', LRtrainer.intercept_)\n",
    "print('Model coefficients: ', LRtrainer.coef_)"
   ]
  },
  {
   "cell_type": "code",
   "execution_count": 24,
   "metadata": {
    "colab": {
     "base_uri": "https://localhost:8080/"
    },
    "id": "X1b-ZGI1e8MH",
    "outputId": "463c674a-cc9f-4e5c-b4bd-099246ee16dc"
   },
   "outputs": [
    {
     "name": "stdout",
     "output_type": "stream",
     "text": [
      "R2 score: 0.8756921251462437\n"
     ]
    }
   ],
   "source": [
    "print('R2 score:', metrics.r2_score(y_test, y_pred_lr))"
   ]
  },
  {
   "cell_type": "markdown",
   "metadata": {
    "id": "EWMa_YonOz5P"
   },
   "source": [
    "### Model 3 - Yearly Industry Average\n",
    "\n",
    "For this model, the predictor will be the industry average for the respective year. \n",
    "There is no data for 2020, so we plan to predict 2019 environmental intensity.  Accordingly, we used 2018 and 2017 Industry data (past data) to predict 2019 evronmental intensity. "
   ]
  },
  {
   "cell_type": "code",
   "execution_count": 25,
   "metadata": {
    "colab": {
     "base_uri": "https://localhost:8080/",
     "height": 296
    },
    "id": "wNfyK_qDe8MI",
    "outputId": "d0318855-b124-4dcb-ec7c-727f52d3368a"
   },
   "outputs": [
    {
     "data": {
      "text/plain": [
       "<matplotlib.axes._subplots.AxesSubplot at 0x1a7f317af88>"
      ]
     },
     "execution_count": 25,
     "metadata": {},
     "output_type": "execute_result"
    },
    {
     "data": {
      "image/png": "[encoded data removed]",
      "text/plain": [
       "<Figure size 432x288 with 1 Axes>"
      ]
     },
     "metadata": {
      "needs_background": "light"
     },
     "output_type": "display_data"
    }
   ],
   "source": [
    "sns.countplot(x='Year', data = df)"
   ]
  },
  {
   "cell_type": "markdown",
   "metadata": {
    "id": "ShjWYuXLe8MI"
   },
   "source": [
    "The dataset does not contain consistent records throught out the years. Therefore, it could be possible we have data for one company in 2019 but not data from that company in 2018, 2017, etc. \n",
    "\n",
    "We will start by only using 2018 industry average as a feature to predict 2019 environmental intensity. First, we will subset the companies that we have 2018 data and get their 2019 environmental intensity."
   ]
  },
  {
   "cell_type": "code",
   "execution_count": 26,
   "metadata": {},
   "outputs": [],
   "source": [
    "df_industry = df.groupby('Industry(Exiobase)').count()['CompanyName'].reset_index()\n",
    "\n",
    "industries = df_industry[df_industry['CompanyName'] > 3]['Industry(Exiobase)']"
   ]
  },
  {
   "cell_type": "markdown",
   "metadata": {},
   "source": [
    "We keep the industries that have more than 3 companies assigned to them"
   ]
  },
  {
   "cell_type": "code",
   "execution_count": 27,
   "metadata": {},
   "outputs": [
    {
     "data": {
      "text/html": [
       "<div>\n",
       "<style scoped>\n",
       "    .dataframe tbody tr th:only-of-type {\n",
       "        vertical-align: middle;\n",
       "    }\n",
       "\n",
       "    .dataframe tbody tr th {\n",
       "        vertical-align: top;\n",
       "    }\n",
       "\n",
       "    .dataframe thead th {\n",
       "        text-align: right;\n",
       "    }\n",
       "</style>\n",
       "<table border=\"1\" class=\"dataframe\">\n",
       "  <thead>\n",
       "    <tr style=\"text-align: right;\">\n",
       "      <th></th>\n",
       "      <th>Year_x</th>\n",
       "      <th>CompanyName</th>\n",
       "      <th>industry_avg_year_x</th>\n",
       "      <th>Year_y</th>\n",
       "      <th>Env_intensity_y</th>\n",
       "    </tr>\n",
       "  </thead>\n",
       "  <tbody>\n",
       "    <tr>\n",
       "      <th>0</th>\n",
       "      <td>2018</td>\n",
       "      <td>3M COMPANY</td>\n",
       "      <td>-0.229308</td>\n",
       "      <td>2019</td>\n",
       "      <td>-0.0641</td>\n",
       "    </tr>\n",
       "    <tr>\n",
       "      <th>1</th>\n",
       "      <td>2018</td>\n",
       "      <td>3SBIO INC</td>\n",
       "      <td>-0.027793</td>\n",
       "      <td>2019</td>\n",
       "      <td>-0.0340</td>\n",
       "    </tr>\n",
       "    <tr>\n",
       "      <th>2</th>\n",
       "      <td>2018</td>\n",
       "      <td>A.G.V. PRODUCTS CORP</td>\n",
       "      <td>-0.072254</td>\n",
       "      <td>2019</td>\n",
       "      <td>-0.0172</td>\n",
       "    </tr>\n",
       "    <tr>\n",
       "      <th>3</th>\n",
       "      <td>2018</td>\n",
       "      <td>AA PLC</td>\n",
       "      <td>-0.073777</td>\n",
       "      <td>2019</td>\n",
       "      <td>-0.0070</td>\n",
       "    </tr>\n",
       "    <tr>\n",
       "      <th>4</th>\n",
       "      <td>2018</td>\n",
       "      <td>AAC TECHNOLOGIES HOLDINGS INCORPORATION</td>\n",
       "      <td>-0.023555</td>\n",
       "      <td>2019</td>\n",
       "      <td>-0.1080</td>\n",
       "    </tr>\n",
       "  </tbody>\n",
       "</table>\n",
       "</div>"
      ],
      "text/plain": [
       "   Year_x                              CompanyName  industry_avg_year_x  \\\n",
       "0    2018                               3M COMPANY            -0.229308   \n",
       "1    2018                                3SBIO INC            -0.027793   \n",
       "2    2018                     A.G.V. PRODUCTS CORP            -0.072254   \n",
       "3    2018                                   AA PLC            -0.073777   \n",
       "4    2018  AAC TECHNOLOGIES HOLDINGS INCORPORATION            -0.023555   \n",
       "\n",
       "   Year_y  Env_intensity_y  \n",
       "0    2019          -0.0641  \n",
       "1    2019          -0.0340  \n",
       "2    2019          -0.0172  \n",
       "3    2019          -0.0070  \n",
       "4    2019          -0.1080  "
      ]
     },
     "execution_count": 27,
     "metadata": {},
     "output_type": "execute_result"
    }
   ],
   "source": [
    "df_industry_count4 = df[df['Industry(Exiobase)'].isin(industries)]\n",
    "\n",
    "\n",
    "df_2018 = df_industry_count4.loc[df.Year == 2018, ]\n",
    "df_2019 = df_industry_count4.loc[df.Year == 2019, ]\n",
    "df_mod3 = pd.merge(df_2018, df_2019, on='CompanyName',how='inner')\n",
    "df_mod3 = df_mod3[['Year_x','CompanyName','industry_avg_year_x','Year_y','Env_intensity_y']]\n",
    "df_mod3.head()"
   ]
  },
  {
   "cell_type": "code",
   "execution_count": 28,
   "metadata": {
    "colab": {
     "base_uri": "https://localhost:8080/"
    },
    "id": "FtTXj-O-e8MJ",
    "outputId": "c5e39084-8c75-4169-c5cc-6efabc3a07b6"
   },
   "outputs": [
    {
     "name": "stdout",
     "output_type": "stream",
     "text": [
      "(1336, 1)\n",
      "(1336,)\n"
     ]
    }
   ],
   "source": [
    "X = df_mod3[['industry_avg_year_x']]\n",
    "y = df_mod3.iloc[:,4]\n",
    "print(X.shape)\n",
    "print(y.shape)"
   ]
  },
  {
   "cell_type": "code",
   "execution_count": 29,
   "metadata": {
    "colab": {
     "base_uri": "https://localhost:8080/"
    },
    "id": "fzoscwJ0e8MJ",
    "outputId": "ffb95f7b-58f5-4d54-a492-d375d3a36f5a"
   },
   "outputs": [
    {
     "name": "stdout",
     "output_type": "stream",
     "text": [
      "0.06598743409385226\n"
     ]
    }
   ],
   "source": [
    "x_train, x_test, y_train, y_test = train_test_split(X ,y, test_size = 0.2, random_state = 42)\n",
    "# train Linear Regression\n",
    "LRtrainer = LinearRegression()\n",
    "LRtrainer.fit(x_train,y_train)\n",
    "\n",
    "# mse for linear regression\n",
    "y_pred_lr = LRtrainer.predict(x_test)\n",
    "print(metrics.mean_squared_error(y_pred_lr, y_test))"
   ]
  },
  {
   "cell_type": "code",
   "execution_count": 30,
   "metadata": {
    "colab": {
     "base_uri": "https://localhost:8080/"
    },
    "id": "jdz4eDj5e8MJ",
    "outputId": "f722958b-cf83-4534-d8b4-ef75ea2a4339"
   },
   "outputs": [
    {
     "name": "stdout",
     "output_type": "stream",
     "text": [
      "Model intercept:  0.0002669631900767411\n",
      "Model coefficients:  [0.91303819]\n"
     ]
    }
   ],
   "source": [
    "# display the parameters\n",
    "print('Model intercept: ', LRtrainer.intercept_)\n",
    "print('Model coefficients: ', LRtrainer.coef_)"
   ]
  },
  {
   "cell_type": "code",
   "execution_count": 31,
   "metadata": {
    "colab": {
     "base_uri": "https://localhost:8080/"
    },
    "id": "NKhRZBdTe8MJ",
    "outputId": "08254269-a4c4-4103-c1b9-1cb367e35165"
   },
   "outputs": [
    {
     "name": "stdout",
     "output_type": "stream",
     "text": [
      "R2 score: 0.36647102462935643\n"
     ]
    }
   ],
   "source": [
    "print('R2 score:', metrics.r2_score(y_test, y_pred_lr))"
   ]
  },
  {
   "cell_type": "markdown",
   "metadata": {
    "id": "fofCYGRne8MK"
   },
   "source": [
    "Now, we are going to consider 2017 - 2018 to predict 2019"
   ]
  },
  {
   "cell_type": "code",
   "execution_count": 32,
   "metadata": {},
   "outputs": [],
   "source": [
    "df_2019=df_industry_count4[df_industry_count4['Year'] == 2019]\n",
    "df_2018=df_industry_count4[df_industry_count4['Year'] == 2018]\n",
    "df_2017=df_industry_count4[df_industry_count4['Year'] == 2017]"
   ]
  },
  {
   "cell_type": "code",
   "execution_count": 33,
   "metadata": {
    "colab": {
     "base_uri": "https://localhost:8080/",
     "height": 419
    },
    "id": "sKzSdu7Fe8MK",
    "outputId": "a60d4a69-620f-4127-f321-b5e910ccb29e"
   },
   "outputs": [
    {
     "data": {
      "text/html": [
       "<div>\n",
       "<style scoped>\n",
       "    .dataframe tbody tr th:only-of-type {\n",
       "        vertical-align: middle;\n",
       "    }\n",
       "\n",
       "    .dataframe tbody tr th {\n",
       "        vertical-align: top;\n",
       "    }\n",
       "\n",
       "    .dataframe thead th {\n",
       "        text-align: right;\n",
       "    }\n",
       "</style>\n",
       "<table border=\"1\" class=\"dataframe\">\n",
       "  <thead>\n",
       "    <tr style=\"text-align: right;\">\n",
       "      <th></th>\n",
       "      <th>Year</th>\n",
       "      <th>CompanyName</th>\n",
       "      <th>Env_intensity2019</th>\n",
       "      <th>Ind_Yearavg2018</th>\n",
       "      <th>Ind_Yearavg2017</th>\n",
       "    </tr>\n",
       "  </thead>\n",
       "  <tbody>\n",
       "    <tr>\n",
       "      <th>0</th>\n",
       "      <td>2019</td>\n",
       "      <td>3M COMPANY</td>\n",
       "      <td>-0.0641</td>\n",
       "      <td>-0.229308</td>\n",
       "      <td>-0.225496</td>\n",
       "    </tr>\n",
       "    <tr>\n",
       "      <th>1</th>\n",
       "      <td>2019</td>\n",
       "      <td>3SBIO INC</td>\n",
       "      <td>-0.0340</td>\n",
       "      <td>-0.027793</td>\n",
       "      <td>-0.031771</td>\n",
       "    </tr>\n",
       "    <tr>\n",
       "      <th>2</th>\n",
       "      <td>2019</td>\n",
       "      <td>A.G.V. PRODUCTS CORP</td>\n",
       "      <td>-0.0172</td>\n",
       "      <td>-0.072254</td>\n",
       "      <td>-0.063618</td>\n",
       "    </tr>\n",
       "    <tr>\n",
       "      <th>3</th>\n",
       "      <td>2019</td>\n",
       "      <td>AA PLC</td>\n",
       "      <td>-0.0070</td>\n",
       "      <td>-0.073777</td>\n",
       "      <td>-0.096157</td>\n",
       "    </tr>\n",
       "    <tr>\n",
       "      <th>4</th>\n",
       "      <td>2019</td>\n",
       "      <td>AAC TECHNOLOGIES HOLDINGS INCORPORATION</td>\n",
       "      <td>-0.1080</td>\n",
       "      <td>-0.023555</td>\n",
       "      <td>-0.027254</td>\n",
       "    </tr>\n",
       "    <tr>\n",
       "      <th>...</th>\n",
       "      <td>...</td>\n",
       "      <td>...</td>\n",
       "      <td>...</td>\n",
       "      <td>...</td>\n",
       "      <td>...</td>\n",
       "    </tr>\n",
       "    <tr>\n",
       "      <th>1190</th>\n",
       "      <td>2019</td>\n",
       "      <td>ZEON CORPORATION</td>\n",
       "      <td>-0.0730</td>\n",
       "      <td>-0.218707</td>\n",
       "      <td>-0.275385</td>\n",
       "    </tr>\n",
       "    <tr>\n",
       "      <th>1191</th>\n",
       "      <td>2019</td>\n",
       "      <td>ZHEN DING TECHNOLOGY HOLDING LIMITED</td>\n",
       "      <td>-0.0602</td>\n",
       "      <td>-0.076812</td>\n",
       "      <td>-0.068294</td>\n",
       "    </tr>\n",
       "    <tr>\n",
       "      <th>1192</th>\n",
       "      <td>2019</td>\n",
       "      <td>ZIG SHENG INDUSTRIAL COMPANY LIMITED</td>\n",
       "      <td>-0.1615</td>\n",
       "      <td>-0.124750</td>\n",
       "      <td>-0.117456</td>\n",
       "    </tr>\n",
       "    <tr>\n",
       "      <th>1193</th>\n",
       "      <td>2019</td>\n",
       "      <td>ZORLU ENERJI AS</td>\n",
       "      <td>-0.3430</td>\n",
       "      <td>-1.012140</td>\n",
       "      <td>-0.578986</td>\n",
       "    </tr>\n",
       "    <tr>\n",
       "      <th>1194</th>\n",
       "      <td>2019</td>\n",
       "      <td>ZUMTOBEL AG</td>\n",
       "      <td>-0.0051</td>\n",
       "      <td>-0.020683</td>\n",
       "      <td>-0.036006</td>\n",
       "    </tr>\n",
       "  </tbody>\n",
       "</table>\n",
       "<p>1195 rows × 5 columns</p>\n",
       "</div>"
      ],
      "text/plain": [
       "      Year                              CompanyName  Env_intensity2019  \\\n",
       "0     2019                               3M COMPANY            -0.0641   \n",
       "1     2019                                3SBIO INC            -0.0340   \n",
       "2     2019                     A.G.V. PRODUCTS CORP            -0.0172   \n",
       "3     2019                                   AA PLC            -0.0070   \n",
       "4     2019  AAC TECHNOLOGIES HOLDINGS INCORPORATION            -0.1080   \n",
       "...    ...                                      ...                ...   \n",
       "1190  2019                         ZEON CORPORATION            -0.0730   \n",
       "1191  2019     ZHEN DING TECHNOLOGY HOLDING LIMITED            -0.0602   \n",
       "1192  2019     ZIG SHENG INDUSTRIAL COMPANY LIMITED            -0.1615   \n",
       "1193  2019                          ZORLU ENERJI AS            -0.3430   \n",
       "1194  2019                              ZUMTOBEL AG            -0.0051   \n",
       "\n",
       "      Ind_Yearavg2018  Ind_Yearavg2017  \n",
       "0           -0.229308        -0.225496  \n",
       "1           -0.027793        -0.031771  \n",
       "2           -0.072254        -0.063618  \n",
       "3           -0.073777        -0.096157  \n",
       "4           -0.023555        -0.027254  \n",
       "...               ...              ...  \n",
       "1190        -0.218707        -0.275385  \n",
       "1191        -0.076812        -0.068294  \n",
       "1192        -0.124750        -0.117456  \n",
       "1193        -1.012140        -0.578986  \n",
       "1194        -0.020683        -0.036006  \n",
       "\n",
       "[1195 rows x 5 columns]"
      ]
     },
     "execution_count": 33,
     "metadata": {},
     "output_type": "execute_result"
    }
   ],
   "source": [
    "df2019=df_2019[['Year','CompanyName','Env_intensity']] \n",
    "df2019.rename(columns={'Env_intensity': 'Env_intensity2019'}, inplace=True) \n",
    "df2018=df_2018[['CompanyName','industry_avg_year']]\n",
    "df2018.rename(columns={'industry_avg_year': 'Ind_Yearavg2018'}, inplace=True) \n",
    "df2017=df_2017[['CompanyName','industry_avg_year']]\n",
    "df2017.rename(columns={'industry_avg_year': 'Ind_Yearavg2017'}, inplace=True) \n",
    "mdl = pd.merge(df2019, df2018, on=[\"CompanyName\"])\n",
    "mdl1= pd.merge(mdl, df2017, on=[\"CompanyName\"])\n",
    "mdl1"
   ]
  },
  {
   "cell_type": "code",
   "execution_count": 34,
   "metadata": {
    "colab": {
     "base_uri": "https://localhost:8080/"
    },
    "id": "EeCICVPZe8MK",
    "outputId": "e6f7028f-1ba8-4a2c-9974-feef5994d0bb"
   },
   "outputs": [
    {
     "name": "stdout",
     "output_type": "stream",
     "text": [
      "(1195, 2)\n",
      "(1195,)\n"
     ]
    }
   ],
   "source": [
    "X=mdl1[['Ind_Yearavg2018','Ind_Yearavg2017']]\n",
    "y=mdl1['Env_intensity2019']\n",
    "print(X.shape)\n",
    "print(y.shape)"
   ]
  },
  {
   "cell_type": "code",
   "execution_count": 35,
   "metadata": {
    "id": "J-uzv_GTe8ML"
   },
   "outputs": [],
   "source": [
    "regr = linear_model.LinearRegression()\n",
    "X_train, X_test, y_train, y_test = train_test_split(X,y,test_size=0.2,random_state=42)\n",
    "regr.fit(X_train, y_train)\n",
    "y_train_pred = np.exp(regr.predict(X_train))\n",
    "y_pred = np.exp(regr.predict(X_test))\n",
    "y_test = np.exp(y_test)"
   ]
  },
  {
   "cell_type": "code",
   "execution_count": 36,
   "metadata": {
    "colab": {
     "base_uri": "https://localhost:8080/"
    },
    "id": "sWsjL_IPe8ML",
    "outputId": "ab8b4de9-41c4-478f-bc91-013747200475"
   },
   "outputs": [
    {
     "name": "stdout",
     "output_type": "stream",
     "text": [
      "MSE train: 1.064, test: 0.038\n"
     ]
    }
   ],
   "source": [
    "print('MSE train: %.3f, test: %.3f' % (metrics.mean_squared_error(y_train, y_train_pred),\n",
    "                metrics.mean_squared_error(y_test, y_pred)))"
   ]
  },
  {
   "cell_type": "code",
   "execution_count": 37,
   "metadata": {
    "colab": {
     "base_uri": "https://localhost:8080/"
    },
    "id": "gBTcXGdHe8ML",
    "outputId": "a40905b3-40fb-499e-8d7a-d52fcc32375e"
   },
   "outputs": [
    {
     "name": "stdout",
     "output_type": "stream",
     "text": [
      "Model intercept:  0.0005763983280113599\n",
      "Model coefficients:  [ 0.94555899 -0.06948928]\n"
     ]
    }
   ],
   "source": [
    "# display the parameters\n",
    "print('Model intercept: ', regr.intercept_)\n",
    "print('Model coefficients: ', regr.coef_)"
   ]
  },
  {
   "cell_type": "code",
   "execution_count": 38,
   "metadata": {
    "colab": {
     "base_uri": "https://localhost:8080/"
    },
    "id": "q0V2lg5Oe8ML",
    "outputId": "6ef74970-d7cd-4da3-d5ff-49cd152d29f1"
   },
   "outputs": [
    {
     "name": "stdout",
     "output_type": "stream",
     "text": [
      "R2 score: 0.2687323915360512\n"
     ]
    }
   ],
   "source": [
    "print('R2 score:', metrics.r2_score(y_test, y_pred))"
   ]
  },
  {
   "cell_type": "markdown",
   "metadata": {
    "id": "o9Qz0XUue8ML"
   },
   "source": [
    "Using the industry environmental average for 2017 and 2018 only explained 27% of the variation in the dataset. Let's see what happens including 2016-2018 to predict 2019"
   ]
  },
  {
   "cell_type": "code",
   "execution_count": 39,
   "metadata": {},
   "outputs": [],
   "source": [
    "df_2016 = df_industry_count4.loc[df_industry_count4.Year == 2016, ]\n",
    "df_2017 = df_industry_count4.loc[df_industry_count4.Year == 2017, ]\n",
    "df1 = df_2016.merge(df_2017, how='inner', on='CompanyName', suffixes=('_2016', '_2017'))\n",
    "df1 = df1.merge(df_2018, how='inner', on='CompanyName')\n",
    "df1 = df1.merge(df_2019, how='inner', on='CompanyName', suffixes=('_2018', '_2019'))\n",
    "df1 = df1[['Year_2016','industry_avg_year_2016','Year_2017','industry_avg_year_2017','Year_2018','industry_avg_year_2018','Year_2019','Env_intensity_2019']]"
   ]
  },
  {
   "cell_type": "code",
   "execution_count": 40,
   "metadata": {
    "colab": {
     "base_uri": "https://localhost:8080/"
    },
    "id": "kuul1T8Pe8MM",
    "outputId": "63ed718d-ed7a-442a-d075-7bd233c9a8da"
   },
   "outputs": [
    {
     "name": "stdout",
     "output_type": "stream",
     "text": [
      "(1065, 3)\n",
      "(1065,)\n"
     ]
    }
   ],
   "source": [
    "X = df1[['industry_avg_year_2016','industry_avg_year_2017','industry_avg_year_2018']]\n",
    "y = df1.iloc[:,7]\n",
    "print(X.shape)\n",
    "print(y.shape)"
   ]
  },
  {
   "cell_type": "code",
   "execution_count": 41,
   "metadata": {
    "id": "McApUnC09uuq"
   },
   "outputs": [],
   "source": [
    "regr = linear_model.LinearRegression()\n",
    "X_train, X_test, y_train, y_test = train_test_split(X,y,test_size=0.2,random_state=42)\n",
    "regr.fit(X_train, y_train)\n",
    "y_train_pred = regr.predict(X_train)\n",
    "y_pred = regr.predict(X_test)"
   ]
  },
  {
   "cell_type": "code",
   "execution_count": 42,
   "metadata": {
    "colab": {
     "base_uri": "https://localhost:8080/"
    },
    "id": "Zdkb0Jff-2EL",
    "outputId": "6e91dfe4-da0f-4cd1-a910-80601a20b80b"
   },
   "outputs": [
    {
     "name": "stdout",
     "output_type": "stream",
     "text": [
      "MSE train: 0.033, test: 0.031\n"
     ]
    }
   ],
   "source": [
    "print('MSE train: %.3f, test: %.3f' % (metrics.mean_squared_error(y_train, y_train_pred),\n",
    "                metrics.mean_squared_error(y_test, y_pred)))"
   ]
  },
  {
   "cell_type": "code",
   "execution_count": 43,
   "metadata": {
    "colab": {
     "base_uri": "https://localhost:8080/"
    },
    "id": "qxtqOycLe8MN",
    "outputId": "80169297-278a-491f-f767-e62ba16444a5"
   },
   "outputs": [
    {
     "name": "stdout",
     "output_type": "stream",
     "text": [
      "Model intercept:  0.0030480783209565765\n",
      "Model coefficients:  [0.30694139 0.28498824 0.26816881]\n"
     ]
    }
   ],
   "source": [
    "# display the parameters\n",
    "print('Model intercept: ', regr.intercept_)\n",
    "print('Model coefficients: ', regr.coef_)"
   ]
  },
  {
   "cell_type": "code",
   "execution_count": 44,
   "metadata": {
    "colab": {
     "base_uri": "https://localhost:8080/"
    },
    "id": "Ogrxx1dbe8MN",
    "outputId": "35a0bf3e-55b3-4b26-9db8-1ee883321db8"
   },
   "outputs": [
    {
     "name": "stdout",
     "output_type": "stream",
     "text": [
      "R2 score: 0.39520621546916435\n"
     ]
    }
   ],
   "source": [
    "print('R2 score:', metrics.r2_score(y_test, y_pred))"
   ]
  },
  {
   "cell_type": "markdown",
   "metadata": {
    "id": "Ah20qAC3_Smc"
   },
   "source": [
    "### Model 4 -Yearly Industry Indicator\n",
    "\n",
    "For this model, we will consider the yearly industry indicator from past years to predict the company 2019 environmental intensity. \n",
    "\n",
    "We are going to start from 2017-2018 to predict 2019. "
   ]
  },
  {
   "cell_type": "code",
   "execution_count": 45,
   "metadata": {},
   "outputs": [
    {
     "data": {
      "text/html": [
       "<div>\n",
       "<style scoped>\n",
       "    .dataframe tbody tr th:only-of-type {\n",
       "        vertical-align: middle;\n",
       "    }\n",
       "\n",
       "    .dataframe tbody tr th {\n",
       "        vertical-align: top;\n",
       "    }\n",
       "\n",
       "    .dataframe thead th {\n",
       "        text-align: right;\n",
       "    }\n",
       "</style>\n",
       "<table border=\"1\" class=\"dataframe\">\n",
       "  <thead>\n",
       "    <tr style=\"text-align: right;\">\n",
       "      <th></th>\n",
       "      <th>Year</th>\n",
       "      <th>CompanyName</th>\n",
       "      <th>Env_intensity2019</th>\n",
       "      <th>Ind_Indicator_2018</th>\n",
       "      <th>Ind_Indicator_2017</th>\n",
       "    </tr>\n",
       "  </thead>\n",
       "  <tbody>\n",
       "    <tr>\n",
       "      <th>0</th>\n",
       "      <td>2019</td>\n",
       "      <td>3M COMPANY</td>\n",
       "      <td>-0.0641</td>\n",
       "      <td>1</td>\n",
       "      <td>1</td>\n",
       "    </tr>\n",
       "    <tr>\n",
       "      <th>1</th>\n",
       "      <td>2019</td>\n",
       "      <td>3SBIO INC</td>\n",
       "      <td>-0.0340</td>\n",
       "      <td>-1</td>\n",
       "      <td>1</td>\n",
       "    </tr>\n",
       "    <tr>\n",
       "      <th>2</th>\n",
       "      <td>2019</td>\n",
       "      <td>A.G.V. PRODUCTS CORP</td>\n",
       "      <td>-0.0172</td>\n",
       "      <td>1</td>\n",
       "      <td>1</td>\n",
       "    </tr>\n",
       "    <tr>\n",
       "      <th>3</th>\n",
       "      <td>2019</td>\n",
       "      <td>AA PLC</td>\n",
       "      <td>-0.0070</td>\n",
       "      <td>1</td>\n",
       "      <td>1</td>\n",
       "    </tr>\n",
       "    <tr>\n",
       "      <th>4</th>\n",
       "      <td>2019</td>\n",
       "      <td>AAC TECHNOLOGIES HOLDINGS INCORPORATION</td>\n",
       "      <td>-0.1080</td>\n",
       "      <td>-1</td>\n",
       "      <td>-1</td>\n",
       "    </tr>\n",
       "    <tr>\n",
       "      <th>...</th>\n",
       "      <td>...</td>\n",
       "      <td>...</td>\n",
       "      <td>...</td>\n",
       "      <td>...</td>\n",
       "      <td>...</td>\n",
       "    </tr>\n",
       "    <tr>\n",
       "      <th>1190</th>\n",
       "      <td>2019</td>\n",
       "      <td>ZEON CORPORATION</td>\n",
       "      <td>-0.0730</td>\n",
       "      <td>1</td>\n",
       "      <td>1</td>\n",
       "    </tr>\n",
       "    <tr>\n",
       "      <th>1191</th>\n",
       "      <td>2019</td>\n",
       "      <td>ZHEN DING TECHNOLOGY HOLDING LIMITED</td>\n",
       "      <td>-0.0602</td>\n",
       "      <td>1</td>\n",
       "      <td>1</td>\n",
       "    </tr>\n",
       "    <tr>\n",
       "      <th>1192</th>\n",
       "      <td>2019</td>\n",
       "      <td>ZIG SHENG INDUSTRIAL COMPANY LIMITED</td>\n",
       "      <td>-0.1615</td>\n",
       "      <td>-1</td>\n",
       "      <td>-1</td>\n",
       "    </tr>\n",
       "    <tr>\n",
       "      <th>1193</th>\n",
       "      <td>2019</td>\n",
       "      <td>ZORLU ENERJI AS</td>\n",
       "      <td>-0.3430</td>\n",
       "      <td>1</td>\n",
       "      <td>1</td>\n",
       "    </tr>\n",
       "    <tr>\n",
       "      <th>1194</th>\n",
       "      <td>2019</td>\n",
       "      <td>ZUMTOBEL AG</td>\n",
       "      <td>-0.0051</td>\n",
       "      <td>1</td>\n",
       "      <td>1</td>\n",
       "    </tr>\n",
       "  </tbody>\n",
       "</table>\n",
       "<p>1195 rows × 5 columns</p>\n",
       "</div>"
      ],
      "text/plain": [
       "      Year                              CompanyName  Env_intensity2019  \\\n",
       "0     2019                               3M COMPANY            -0.0641   \n",
       "1     2019                                3SBIO INC            -0.0340   \n",
       "2     2019                     A.G.V. PRODUCTS CORP            -0.0172   \n",
       "3     2019                                   AA PLC            -0.0070   \n",
       "4     2019  AAC TECHNOLOGIES HOLDINGS INCORPORATION            -0.1080   \n",
       "...    ...                                      ...                ...   \n",
       "1190  2019                         ZEON CORPORATION            -0.0730   \n",
       "1191  2019     ZHEN DING TECHNOLOGY HOLDING LIMITED            -0.0602   \n",
       "1192  2019     ZIG SHENG INDUSTRIAL COMPANY LIMITED            -0.1615   \n",
       "1193  2019                          ZORLU ENERJI AS            -0.3430   \n",
       "1194  2019                              ZUMTOBEL AG            -0.0051   \n",
       "\n",
       "      Ind_Indicator_2018  Ind_Indicator_2017  \n",
       "0                      1                   1  \n",
       "1                     -1                   1  \n",
       "2                      1                   1  \n",
       "3                      1                   1  \n",
       "4                     -1                  -1  \n",
       "...                  ...                 ...  \n",
       "1190                   1                   1  \n",
       "1191                   1                   1  \n",
       "1192                  -1                  -1  \n",
       "1193                   1                   1  \n",
       "1194                   1                   1  \n",
       "\n",
       "[1195 rows x 5 columns]"
      ]
     },
     "execution_count": 45,
     "metadata": {},
     "output_type": "execute_result"
    }
   ],
   "source": [
    "df_2019=df_industry_count4[df_industry_count4['Year'] == 2019]\n",
    "df_2018=df_industry_count4[df_industry_count4['Year'] == 2018]\n",
    "df_2017=df_industry_count4[df_industry_count4['Year'] == 2017]\n",
    "\n",
    "df2019=df_2019[['Year','CompanyName','Env_intensity']] \n",
    "df2019.rename(columns={'Env_intensity': 'Env_intensity2019'}, inplace=True) \n",
    "df2018=df_2018[['CompanyName','Industry_indicator_year']]\n",
    "df2018.rename(columns={'Industry_indicator_year': 'Ind_Indicator_2018'}, inplace=True) \n",
    "df2017=df_2017[['CompanyName','Industry_indicator_year']]\n",
    "df2017.rename(columns={'Industry_indicator_year': 'Ind_Indicator_2017'}, inplace=True) \n",
    "mdl4 = pd.merge(df2019, df2018, on=[\"CompanyName\"])\n",
    "mdl4= pd.merge(mdl4, df2017, on=[\"CompanyName\"])\n",
    "mdl4"
   ]
  },
  {
   "cell_type": "code",
   "execution_count": 46,
   "metadata": {
    "colab": {
     "base_uri": "https://localhost:8080/"
    },
    "id": "GZFdh9yRASsa",
    "outputId": "5873c539-a816-45fd-b71f-b4eb1a1249b4"
   },
   "outputs": [
    {
     "name": "stdout",
     "output_type": "stream",
     "text": [
      "(1195, 2)\n",
      "(1195,)\n"
     ]
    }
   ],
   "source": [
    "X=mdl4[['Ind_Indicator_2017','Ind_Indicator_2018']]\n",
    "y=mdl4['Env_intensity2019']\n",
    "print(X.shape)\n",
    "print(y.shape)"
   ]
  },
  {
   "cell_type": "code",
   "execution_count": 47,
   "metadata": {
    "id": "9Q83jyJz_Smj"
   },
   "outputs": [],
   "source": [
    "regr = linear_model.LinearRegression()\n",
    "X_train, X_test, y_train, y_test = train_test_split(X,y,test_size=0.2,random_state=42)\n",
    "regr.fit(X_train, y_train)\n",
    "y_train_pred = regr.predict(X_train)\n",
    "y_pred = regr.predict(X_test)"
   ]
  },
  {
   "cell_type": "code",
   "execution_count": 48,
   "metadata": {
    "colab": {
     "base_uri": "https://localhost:8080/"
    },
    "id": "r9LByzk-_Smk",
    "outputId": "1b4d3190-3789-4c63-e725-738c38256870"
   },
   "outputs": [
    {
     "name": "stdout",
     "output_type": "stream",
     "text": [
      "MSE train: 0.048, test: 0.062\n"
     ]
    }
   ],
   "source": [
    "print('MSE train: %.3f, test: %.3f' % (metrics.mean_squared_error(y_train, y_train_pred),\n",
    "                metrics.mean_squared_error(y_test, y_pred)))"
   ]
  },
  {
   "cell_type": "code",
   "execution_count": 49,
   "metadata": {
    "colab": {
     "base_uri": "https://localhost:8080/"
    },
    "id": "nnqv1GCie8MO",
    "outputId": "7d76141d-ea3b-44de-8b6c-c5b6a1826cba"
   },
   "outputs": [
    {
     "name": "stdout",
     "output_type": "stream",
     "text": [
      "Model intercept:  -0.15356410683376787\n",
      "Model coefficients:  [0.03709691 0.07830873]\n"
     ]
    }
   ],
   "source": [
    "# display the parameters\n",
    "print('Model intercept: ', regr.intercept_)\n",
    "print('Model coefficients: ', regr.coef_)"
   ]
  },
  {
   "cell_type": "code",
   "execution_count": 50,
   "metadata": {
    "colab": {
     "base_uri": "https://localhost:8080/"
    },
    "id": "EWpkxjYbe8MP",
    "outputId": "24016df6-285f-4f76-eeb9-5c4e772773cb"
   },
   "outputs": [
    {
     "name": "stdout",
     "output_type": "stream",
     "text": [
      "R2 score: 0.21186363020947374\n"
     ]
    }
   ],
   "source": [
    "print('R2 score:', metrics.r2_score(y_test, y_pred))"
   ]
  },
  {
   "cell_type": "markdown",
   "metadata": {
    "id": "rIs2crAVe8MP"
   },
   "source": [
    "The industry indicator isn't a good predictor for environmental intensity. \n",
    "\n",
    "Let's try including 2016-2018 to predict 2019 environmental intensity. "
   ]
  },
  {
   "cell_type": "code",
   "execution_count": 51,
   "metadata": {
    "colab": {
     "base_uri": "https://localhost:8080/",
     "height": 204
    },
    "id": "IP1_Vbp0e8MP",
    "outputId": "1e6cd1cd-c3c4-431f-e177-34db3169d43b"
   },
   "outputs": [
    {
     "data": {
      "text/html": [
       "<div>\n",
       "<style scoped>\n",
       "    .dataframe tbody tr th:only-of-type {\n",
       "        vertical-align: middle;\n",
       "    }\n",
       "\n",
       "    .dataframe tbody tr th {\n",
       "        vertical-align: top;\n",
       "    }\n",
       "\n",
       "    .dataframe thead th {\n",
       "        text-align: right;\n",
       "    }\n",
       "</style>\n",
       "<table border=\"1\" class=\"dataframe\">\n",
       "  <thead>\n",
       "    <tr style=\"text-align: right;\">\n",
       "      <th></th>\n",
       "      <th>Year</th>\n",
       "      <th>CompanyName</th>\n",
       "      <th>Env_intensity2019</th>\n",
       "      <th>Ind_Indicator_2018</th>\n",
       "      <th>Ind_Indicator_2017</th>\n",
       "      <th>Ind_Indicator_2016</th>\n",
       "    </tr>\n",
       "  </thead>\n",
       "  <tbody>\n",
       "    <tr>\n",
       "      <th>0</th>\n",
       "      <td>2019</td>\n",
       "      <td>3M COMPANY</td>\n",
       "      <td>-0.0641</td>\n",
       "      <td>1</td>\n",
       "      <td>1</td>\n",
       "      <td>1</td>\n",
       "    </tr>\n",
       "    <tr>\n",
       "      <th>1</th>\n",
       "      <td>2019</td>\n",
       "      <td>A.G.V. PRODUCTS CORP</td>\n",
       "      <td>-0.0172</td>\n",
       "      <td>1</td>\n",
       "      <td>1</td>\n",
       "      <td>1</td>\n",
       "    </tr>\n",
       "    <tr>\n",
       "      <th>2</th>\n",
       "      <td>2019</td>\n",
       "      <td>AA PLC</td>\n",
       "      <td>-0.0070</td>\n",
       "      <td>1</td>\n",
       "      <td>1</td>\n",
       "      <td>1</td>\n",
       "    </tr>\n",
       "    <tr>\n",
       "      <th>3</th>\n",
       "      <td>2019</td>\n",
       "      <td>AAC TECHNOLOGIES HOLDINGS INCORPORATION</td>\n",
       "      <td>-0.1080</td>\n",
       "      <td>-1</td>\n",
       "      <td>-1</td>\n",
       "      <td>-1</td>\n",
       "    </tr>\n",
       "    <tr>\n",
       "      <th>4</th>\n",
       "      <td>2019</td>\n",
       "      <td>AAREAL BANK AG</td>\n",
       "      <td>-0.0015</td>\n",
       "      <td>1</td>\n",
       "      <td>1</td>\n",
       "      <td>1</td>\n",
       "    </tr>\n",
       "  </tbody>\n",
       "</table>\n",
       "</div>"
      ],
      "text/plain": [
       "   Year                              CompanyName  Env_intensity2019  \\\n",
       "0  2019                               3M COMPANY            -0.0641   \n",
       "1  2019                     A.G.V. PRODUCTS CORP            -0.0172   \n",
       "2  2019                                   AA PLC            -0.0070   \n",
       "3  2019  AAC TECHNOLOGIES HOLDINGS INCORPORATION            -0.1080   \n",
       "4  2019                           AAREAL BANK AG            -0.0015   \n",
       "\n",
       "   Ind_Indicator_2018  Ind_Indicator_2017  Ind_Indicator_2016  \n",
       "0                   1                   1                   1  \n",
       "1                   1                   1                   1  \n",
       "2                   1                   1                   1  \n",
       "3                  -1                  -1                  -1  \n",
       "4                   1                   1                   1  "
      ]
     },
     "execution_count": 51,
     "metadata": {},
     "output_type": "execute_result"
    }
   ],
   "source": [
    "df_2016=df_industry_count4[df_industry_count4['Year'] == 2016]\n",
    "df2016=df_2016[['CompanyName','Industry_indicator_year']]\n",
    "df2016.rename(columns={'Industry_indicator_year': 'Ind_Indicator_2016'}, inplace=True) \n",
    "\n",
    "mdl4 = pd.merge(df2019, df2018, on=[\"CompanyName\"])\n",
    "mdl4= pd.merge(mdl4, df2017, on=[\"CompanyName\"])\n",
    "mdl4= pd.merge(mdl4, df2016, on=[\"CompanyName\"])\n",
    "mdl4.head()"
   ]
  },
  {
   "cell_type": "code",
   "execution_count": 52,
   "metadata": {
    "colab": {
     "base_uri": "https://localhost:8080/"
    },
    "id": "r7YqZBI3e8MP",
    "outputId": "bd522c07-a266-4eb5-ed19-8bc439bb08bc"
   },
   "outputs": [
    {
     "name": "stdout",
     "output_type": "stream",
     "text": [
      "(1065, 3)\n",
      "(1065,)\n"
     ]
    }
   ],
   "source": [
    "X = mdl4[['Ind_Indicator_2016','Ind_Indicator_2017','Ind_Indicator_2018']]\n",
    "y = mdl4['Env_intensity2019']\n",
    "print(X.shape)\n",
    "print(y.shape)"
   ]
  },
  {
   "cell_type": "code",
   "execution_count": 53,
   "metadata": {
    "colab": {
     "base_uri": "https://localhost:8080/"
    },
    "id": "QqJ-Tatde8MP",
    "outputId": "1c9cae08-5461-445a-c9f1-6101bb54134d"
   },
   "outputs": [
    {
     "name": "stdout",
     "output_type": "stream",
     "text": [
      "MSE train: 0.047, test: 0.039\n"
     ]
    }
   ],
   "source": [
    "regr = linear_model.LinearRegression()\n",
    "X_train, X_test, y_train, y_test = train_test_split(X,y,test_size=0.2,random_state=42)\n",
    "regr.fit(X_train, y_train)\n",
    "y_train_pred = regr.predict(X_train)\n",
    "y_pred = regr.predict(X_test)\n",
    "\n",
    "print('MSE train: %.3f, test: %.3f' % (metrics.mean_squared_error(y_train, y_train_pred),\n",
    "                metrics.mean_squared_error(y_test, y_pred)))"
   ]
  },
  {
   "cell_type": "code",
   "execution_count": 54,
   "metadata": {
    "colab": {
     "base_uri": "https://localhost:8080/"
    },
    "id": "xiysqbUDe8MQ",
    "outputId": "2d4eacb6-9d6b-4ee6-f860-c43909026fc9"
   },
   "outputs": [
    {
     "name": "stdout",
     "output_type": "stream",
     "text": [
      "Model intercept:  -0.1499492823809977\n",
      "Model coefficients:  [0.01093564 0.02429224 0.07880817]\n"
     ]
    }
   ],
   "source": [
    "# display the parameters\n",
    "print('Model intercept: ', regr.intercept_)\n",
    "print('Model coefficients: ', regr.coef_)"
   ]
  },
  {
   "cell_type": "code",
   "execution_count": 55,
   "metadata": {
    "colab": {
     "base_uri": "https://localhost:8080/"
    },
    "id": "lnwcxbhme8MQ",
    "outputId": "fd2512c2-ea0a-485a-cda9-3c2b7691bfe1"
   },
   "outputs": [
    {
     "name": "stdout",
     "output_type": "stream",
     "text": [
      "R2 score: 0.22649691904576252\n"
     ]
    }
   ],
   "source": [
    "print('R2 score:', metrics.r2_score(y_test, y_pred))"
   ]
  },
  {
   "cell_type": "markdown",
   "metadata": {
    "id": "8rCtCNrTBbLN"
   },
   "source": [
    "### Model 5 -Growth Rate\n",
    "\n",
    "For this model, we will consider the growth rate from past years to predict the company 2019 environmental intensity.\n",
    "\n",
    "We are going to start from 2017-2018 to predict 2019."
   ]
  },
  {
   "cell_type": "code",
   "execution_count": 56,
   "metadata": {
    "colab": {
     "base_uri": "https://localhost:8080/",
     "height": 419
    },
    "id": "hmCjj9nze8MQ",
    "outputId": "13f93a77-2dd3-411a-e977-235686f168a2"
   },
   "outputs": [
    {
     "data": {
      "text/html": [
       "<div>\n",
       "<style scoped>\n",
       "    .dataframe tbody tr th:only-of-type {\n",
       "        vertical-align: middle;\n",
       "    }\n",
       "\n",
       "    .dataframe tbody tr th {\n",
       "        vertical-align: top;\n",
       "    }\n",
       "\n",
       "    .dataframe thead th {\n",
       "        text-align: right;\n",
       "    }\n",
       "</style>\n",
       "<table border=\"1\" class=\"dataframe\">\n",
       "  <thead>\n",
       "    <tr style=\"text-align: right;\">\n",
       "      <th></th>\n",
       "      <th>Year</th>\n",
       "      <th>CompanyName</th>\n",
       "      <th>Env_intensity2019</th>\n",
       "      <th>Environmental_Growth_2018</th>\n",
       "      <th>Environmental_Growth_2017</th>\n",
       "    </tr>\n",
       "  </thead>\n",
       "  <tbody>\n",
       "    <tr>\n",
       "      <th>0</th>\n",
       "      <td>2019</td>\n",
       "      <td>3M COMPANY</td>\n",
       "      <td>-0.0641</td>\n",
       "      <td>7.575758</td>\n",
       "      <td>-6.382979</td>\n",
       "    </tr>\n",
       "    <tr>\n",
       "      <th>1</th>\n",
       "      <td>2019</td>\n",
       "      <td>3SBIO INC</td>\n",
       "      <td>-0.0340</td>\n",
       "      <td>50.672646</td>\n",
       "      <td>NaN</td>\n",
       "    </tr>\n",
       "    <tr>\n",
       "      <th>2</th>\n",
       "      <td>2019</td>\n",
       "      <td>A.G.V. PRODUCTS CORP</td>\n",
       "      <td>-0.0172</td>\n",
       "      <td>-26.315789</td>\n",
       "      <td>11.764706</td>\n",
       "    </tr>\n",
       "    <tr>\n",
       "      <th>3</th>\n",
       "      <td>2019</td>\n",
       "      <td>AA PLC</td>\n",
       "      <td>-0.0070</td>\n",
       "      <td>-5.645161</td>\n",
       "      <td>-4.615385</td>\n",
       "    </tr>\n",
       "    <tr>\n",
       "      <th>4</th>\n",
       "      <td>2019</td>\n",
       "      <td>AAC TECHNOLOGIES HOLDINGS INCORPORATION</td>\n",
       "      <td>-0.1080</td>\n",
       "      <td>35.702200</td>\n",
       "      <td>51.928021</td>\n",
       "    </tr>\n",
       "    <tr>\n",
       "      <th>...</th>\n",
       "      <td>...</td>\n",
       "      <td>...</td>\n",
       "      <td>...</td>\n",
       "      <td>...</td>\n",
       "      <td>...</td>\n",
       "    </tr>\n",
       "    <tr>\n",
       "      <th>1190</th>\n",
       "      <td>2019</td>\n",
       "      <td>ZEON CORPORATION</td>\n",
       "      <td>-0.0730</td>\n",
       "      <td>-1.272265</td>\n",
       "      <td>-10.273973</td>\n",
       "    </tr>\n",
       "    <tr>\n",
       "      <th>1191</th>\n",
       "      <td>2019</td>\n",
       "      <td>ZHEN DING TECHNOLOGY HOLDING LIMITED</td>\n",
       "      <td>-0.0602</td>\n",
       "      <td>1.990050</td>\n",
       "      <td>-30.927835</td>\n",
       "    </tr>\n",
       "    <tr>\n",
       "      <th>1192</th>\n",
       "      <td>2019</td>\n",
       "      <td>ZIG SHENG INDUSTRIAL COMPANY LIMITED</td>\n",
       "      <td>-0.1615</td>\n",
       "      <td>-4.232425</td>\n",
       "      <td>-20.251716</td>\n",
       "    </tr>\n",
       "    <tr>\n",
       "      <th>1193</th>\n",
       "      <td>2019</td>\n",
       "      <td>ZORLU ENERJI AS</td>\n",
       "      <td>-0.3430</td>\n",
       "      <td>48.046057</td>\n",
       "      <td>-81.144737</td>\n",
       "    </tr>\n",
       "    <tr>\n",
       "      <th>1194</th>\n",
       "      <td>2019</td>\n",
       "      <td>ZUMTOBEL AG</td>\n",
       "      <td>-0.0051</td>\n",
       "      <td>2.380952</td>\n",
       "      <td>-19.230769</td>\n",
       "    </tr>\n",
       "  </tbody>\n",
       "</table>\n",
       "<p>1195 rows × 5 columns</p>\n",
       "</div>"
      ],
      "text/plain": [
       "      Year                              CompanyName  Env_intensity2019  \\\n",
       "0     2019                               3M COMPANY            -0.0641   \n",
       "1     2019                                3SBIO INC            -0.0340   \n",
       "2     2019                     A.G.V. PRODUCTS CORP            -0.0172   \n",
       "3     2019                                   AA PLC            -0.0070   \n",
       "4     2019  AAC TECHNOLOGIES HOLDINGS INCORPORATION            -0.1080   \n",
       "...    ...                                      ...                ...   \n",
       "1190  2019                         ZEON CORPORATION            -0.0730   \n",
       "1191  2019     ZHEN DING TECHNOLOGY HOLDING LIMITED            -0.0602   \n",
       "1192  2019     ZIG SHENG INDUSTRIAL COMPANY LIMITED            -0.1615   \n",
       "1193  2019                          ZORLU ENERJI AS            -0.3430   \n",
       "1194  2019                              ZUMTOBEL AG            -0.0051   \n",
       "\n",
       "      Environmental_Growth_2018  Environmental_Growth_2017  \n",
       "0                      7.575758                  -6.382979  \n",
       "1                     50.672646                        NaN  \n",
       "2                    -26.315789                  11.764706  \n",
       "3                     -5.645161                  -4.615385  \n",
       "4                     35.702200                  51.928021  \n",
       "...                         ...                        ...  \n",
       "1190                  -1.272265                 -10.273973  \n",
       "1191                   1.990050                 -30.927835  \n",
       "1192                  -4.232425                 -20.251716  \n",
       "1193                  48.046057                 -81.144737  \n",
       "1194                   2.380952                 -19.230769  \n",
       "\n",
       "[1195 rows x 5 columns]"
      ]
     },
     "execution_count": 56,
     "metadata": {},
     "output_type": "execute_result"
    }
   ],
   "source": [
    "df_2019=df[df['Year'] == 2019]\n",
    "df_2018=df[df['Year'] == 2018]\n",
    "df_2017=df[df['Year'] == 2017]\n",
    "\n",
    "df2019=df_2019[['Year','CompanyName','Env_intensity']] \n",
    "df2019.rename(columns={'Env_intensity': 'Env_intensity2019'}, inplace=True) \n",
    "df2018=df_2018[['CompanyName','Environmental_Growth']]\n",
    "df2018.rename(columns={'Environmental_Growth': 'Environmental_Growth_2018'}, inplace=True) \n",
    "df2017=df_2017[['CompanyName','Environmental_Growth']]\n",
    "df2017.rename(columns={'Environmental_Growth': 'Environmental_Growth_2017'}, inplace=True) \n",
    "mdl5 = pd.merge(df2019, df2018, on=[\"CompanyName\"])\n",
    "mdl5= pd.merge(mdl5, df2017, on=[\"CompanyName\"])\n",
    "mdl5"
   ]
  },
  {
   "cell_type": "code",
   "execution_count": 57,
   "metadata": {
    "colab": {
     "base_uri": "https://localhost:8080/"
    },
    "id": "_jic-gX9hvkb",
    "outputId": "d291bee0-2b13-47c1-dc0e-702fdfdd4f70"
   },
   "outputs": [
    {
     "data": {
      "text/plain": [
       "(1094, 5)"
      ]
     },
     "execution_count": 57,
     "metadata": {},
     "output_type": "execute_result"
    }
   ],
   "source": [
    "mdl5.dropna(inplace = True)#delete rows with missing values\n",
    "mdl5.shape"
   ]
  },
  {
   "cell_type": "code",
   "execution_count": 58,
   "metadata": {
    "colab": {
     "base_uri": "https://localhost:8080/"
    },
    "id": "x87qj419iLBd",
    "outputId": "ed26dc8e-4207-4416-ffcb-4f67f3067494"
   },
   "outputs": [
    {
     "name": "stdout",
     "output_type": "stream",
     "text": [
      "(1094, 2)\n",
      "(1094,)\n"
     ]
    }
   ],
   "source": [
    "X=mdl5[['Environmental_Growth_2017','Environmental_Growth_2018']]\n",
    "y=mdl5['Env_intensity2019']\n",
    "print(X.shape)\n",
    "print(y.shape)"
   ]
  },
  {
   "cell_type": "code",
   "execution_count": 59,
   "metadata": {
    "id": "9V0HjSpLh2_i"
   },
   "outputs": [],
   "source": [
    "regr = linear_model.LinearRegression()\n",
    "X_train, X_test, y_train, y_test = train_test_split(X,y,test_size=0.2,random_state=42)\n",
    "regr.fit(X_train, y_train)\n",
    "y_train_pred = regr.predict(X_train)\n",
    "y_pred = regr.predict(X_test)"
   ]
  },
  {
   "cell_type": "code",
   "execution_count": 60,
   "metadata": {
    "colab": {
     "base_uri": "https://localhost:8080/"
    },
    "id": "ojXEXIyLiWRc",
    "outputId": "13074443-ece7-4a35-b0db-7f0ea96a9d4e"
   },
   "outputs": [
    {
     "name": "stdout",
     "output_type": "stream",
     "text": [
      "MSE train: 0.053, test: 0.083\n"
     ]
    }
   ],
   "source": [
    "print('MSE train: %.3f, test: %.3f' % (metrics.mean_squared_error(y_train, y_train_pred),\n",
    "                metrics.mean_squared_error(y_test, y_pred)))"
   ]
  },
  {
   "cell_type": "code",
   "execution_count": 61,
   "metadata": {
    "colab": {
     "base_uri": "https://localhost:8080/"
    },
    "id": "bbKxgMMgiY7j",
    "outputId": "a9eafbb2-59a6-4b9d-f55b-25a6f746f4c0"
   },
   "outputs": [
    {
     "name": "stdout",
     "output_type": "stream",
     "text": [
      "Model intercept:  -0.10344845492642088\n",
      "Model coefficients:  [-1.28035334e-04 -8.51885195e-05]\n"
     ]
    }
   ],
   "source": [
    "# display the parameters\n",
    "print('Model intercept: ', regr.intercept_)\n",
    "print('Model coefficients: ', regr.coef_)"
   ]
  },
  {
   "cell_type": "code",
   "execution_count": 62,
   "metadata": {
    "colab": {
     "base_uri": "https://localhost:8080/"
    },
    "id": "I9-v46Liiba2",
    "outputId": "e13a6ec6-1290-4e56-8994-23b92b5648ff"
   },
   "outputs": [
    {
     "name": "stdout",
     "output_type": "stream",
     "text": [
      "R2 score: 0.015827756484296907\n"
     ]
    }
   ],
   "source": [
    "print('R2 score:', metrics.r2_score(y_test, y_pred))"
   ]
  },
  {
   "cell_type": "markdown",
   "metadata": {
    "id": "ATYLOa_DjLzQ"
   },
   "source": [
    "The growth rate isn't a good predictor for environmental intensity. Let's try including 2016-2018 to predict 2019 environmental intensity."
   ]
  },
  {
   "cell_type": "code",
   "execution_count": 63,
   "metadata": {
    "colab": {
     "base_uri": "https://localhost:8080/"
    },
    "id": "ELQK1t6GkxfQ",
    "outputId": "d2130491-36a2-420e-be15-13379bbd1781"
   },
   "outputs": [
    {
     "name": "stdout",
     "output_type": "stream",
     "text": [
      "<class 'pandas.core.frame.DataFrame'>\n",
      "Int64Index: 1666 entries, 0 to 14508\n",
      "Data columns (total 11 columns):\n",
      " #   Column                         Non-Null Count  Dtype  \n",
      "---  ------                         --------------  -----  \n",
      " 0   Year                           1666 non-null   int64  \n",
      " 1   CompanyName                    1666 non-null   object \n",
      " 2   Country                        1666 non-null   object \n",
      " 3   Industry(Exiobase)             1666 non-null   object \n",
      " 4   EnvironmentalIntensity(Sales)  1666 non-null   object \n",
      " 5   Env_intensity                  1666 non-null   float64\n",
      " 6   industry_avg                   1666 non-null   float64\n",
      " 7   Industry_indicator             1666 non-null   int64  \n",
      " 8   industry_avg_year              1666 non-null   float64\n",
      " 9   Industry_indicator_year        1666 non-null   int64  \n",
      " 10  Environmental_Growth           1534 non-null   float64\n",
      "dtypes: float64(4), int64(3), object(4)\n",
      "memory usage: 156.2+ KB\n"
     ]
    }
   ],
   "source": [
    "df_2016=df[df['Year'] == 2016]\n",
    "df_2016.info()"
   ]
  },
  {
   "cell_type": "code",
   "execution_count": 64,
   "metadata": {
    "colab": {
     "base_uri": "https://localhost:8080/"
    },
    "id": "jvtrj_iNjtcU",
    "outputId": "68171d7b-6e16-4d46-d8fd-53ebdcb5e945"
   },
   "outputs": [
    {
     "data": {
      "text/html": [
       "<div>\n",
       "<style scoped>\n",
       "    .dataframe tbody tr th:only-of-type {\n",
       "        vertical-align: middle;\n",
       "    }\n",
       "\n",
       "    .dataframe tbody tr th {\n",
       "        vertical-align: top;\n",
       "    }\n",
       "\n",
       "    .dataframe thead th {\n",
       "        text-align: right;\n",
       "    }\n",
       "</style>\n",
       "<table border=\"1\" class=\"dataframe\">\n",
       "  <thead>\n",
       "    <tr style=\"text-align: right;\">\n",
       "      <th></th>\n",
       "      <th>CompanyName</th>\n",
       "      <th>Environmental_Growth_2016</th>\n",
       "      <th>Environmental_Growth_2017</th>\n",
       "      <th>Environmental_Growth_2018</th>\n",
       "      <th>Year</th>\n",
       "      <th>Env_intensity2019</th>\n",
       "    </tr>\n",
       "  </thead>\n",
       "  <tbody>\n",
       "    <tr>\n",
       "      <th>0</th>\n",
       "      <td>3M COMPANY</td>\n",
       "      <td>8.964451</td>\n",
       "      <td>-6.382979</td>\n",
       "      <td>7.575758</td>\n",
       "      <td>2019</td>\n",
       "      <td>-0.0641</td>\n",
       "    </tr>\n",
       "    <tr>\n",
       "      <th>1</th>\n",
       "      <td>A.G.V. PRODUCTS CORP</td>\n",
       "      <td>-13.265306</td>\n",
       "      <td>11.764706</td>\n",
       "      <td>-26.315789</td>\n",
       "      <td>2019</td>\n",
       "      <td>-0.0172</td>\n",
       "    </tr>\n",
       "    <tr>\n",
       "      <th>2</th>\n",
       "      <td>AA PLC</td>\n",
       "      <td>41.304348</td>\n",
       "      <td>-4.615385</td>\n",
       "      <td>-5.645161</td>\n",
       "      <td>2019</td>\n",
       "      <td>-0.0070</td>\n",
       "    </tr>\n",
       "    <tr>\n",
       "      <th>3</th>\n",
       "      <td>AAC TECHNOLOGIES HOLDINGS INCORPORATION</td>\n",
       "      <td>-7.159905</td>\n",
       "      <td>51.928021</td>\n",
       "      <td>35.702200</td>\n",
       "      <td>2019</td>\n",
       "      <td>-0.1080</td>\n",
       "    </tr>\n",
       "    <tr>\n",
       "      <th>4</th>\n",
       "      <td>AAREAL BANK AG</td>\n",
       "      <td>9.090909</td>\n",
       "      <td>-12.500000</td>\n",
       "      <td>-9.523810</td>\n",
       "      <td>2019</td>\n",
       "      <td>-0.0015</td>\n",
       "    </tr>\n",
       "  </tbody>\n",
       "</table>\n",
       "</div>"
      ],
      "text/plain": [
       "                               CompanyName  Environmental_Growth_2016  \\\n",
       "0                               3M COMPANY                   8.964451   \n",
       "1                     A.G.V. PRODUCTS CORP                 -13.265306   \n",
       "2                                   AA PLC                  41.304348   \n",
       "3  AAC TECHNOLOGIES HOLDINGS INCORPORATION                  -7.159905   \n",
       "4                           AAREAL BANK AG                   9.090909   \n",
       "\n",
       "   Environmental_Growth_2017  Environmental_Growth_2018  Year  \\\n",
       "0                  -6.382979                   7.575758  2019   \n",
       "1                  11.764706                 -26.315789  2019   \n",
       "2                  -4.615385                  -5.645161  2019   \n",
       "3                  51.928021                  35.702200  2019   \n",
       "4                 -12.500000                  -9.523810  2019   \n",
       "\n",
       "   Env_intensity2019  \n",
       "0            -0.0641  \n",
       "1            -0.0172  \n",
       "2            -0.0070  \n",
       "3            -0.1080  \n",
       "4            -0.0015  "
      ]
     },
     "execution_count": 64,
     "metadata": {},
     "output_type": "execute_result"
    }
   ],
   "source": [
    "df_2016=df[df['Year'] == 2016]\n",
    "df2016=df_2016[['CompanyName','Environmental_Growth']]\n",
    "df2016.rename(columns={'Environmental_Growth': 'Environmental_Growth_2016'}, inplace=True) \n",
    "\n",
    "mdl5 = pd.merge(df2016, df2017, on=[\"CompanyName\"])\n",
    "mdl5= pd.merge(mdl5, df2018, on=[\"CompanyName\"])\n",
    "mdl5= pd.merge(mdl5, df2019, on=[\"CompanyName\"])\n",
    "mdl5.head()"
   ]
  },
  {
   "cell_type": "code",
   "execution_count": 65,
   "metadata": {},
   "outputs": [
    {
     "name": "stdout",
     "output_type": "stream",
     "text": [
      "(1065, 3)\n",
      "(1065,)\n"
     ]
    }
   ],
   "source": [
    "X=mdl5[['Environmental_Growth_2017','Environmental_Growth_2017','Environmental_Growth_2018']]\n",
    "y=mdl5['Env_intensity2019']\n",
    "print(X.shape)\n",
    "print(y.shape)"
   ]
  },
  {
   "cell_type": "code",
   "execution_count": 66,
   "metadata": {
    "id": "a7SQliM0lbrB"
   },
   "outputs": [
    {
     "name": "stdout",
     "output_type": "stream",
     "text": [
      "MSE train: 0.054, test: 0.051\n"
     ]
    }
   ],
   "source": [
    "regr = linear_model.LinearRegression()\n",
    "X_train, X_test, y_train, y_test = train_test_split(X,y,test_size=0.2,random_state=42)\n",
    "regr.fit(X_train, y_train)\n",
    "y_train_pred = regr.predict(X_train)\n",
    "y_pred = regr.predict(X_test)\n",
    "\n",
    "print('MSE train: %.3f, test: %.3f' % (metrics.mean_squared_error(y_train, y_train_pred),\n",
    "                metrics.mean_squared_error(y_test, y_pred)))"
   ]
  },
  {
   "cell_type": "code",
   "execution_count": 67,
   "metadata": {},
   "outputs": [
    {
     "name": "stdout",
     "output_type": "stream",
     "text": [
      "Model intercept:  -0.10337271411636555\n",
      "Model coefficients:  [-2.41966830e+10  2.41966830e+10 -1.99756107e-04]\n"
     ]
    }
   ],
   "source": [
    "# display the parameters\n",
    "print('Model intercept: ', regr.intercept_)\n",
    "print('Model coefficients: ', regr.coef_)"
   ]
  },
  {
   "cell_type": "code",
   "execution_count": 68,
   "metadata": {},
   "outputs": [
    {
     "name": "stdout",
     "output_type": "stream",
     "text": [
      "R2 score: -0.019223781996833056\n"
     ]
    }
   ],
   "source": [
    "print('R2 score:', metrics.r2_score(y_test, y_pred))"
   ]
  },
  {
   "cell_type": "markdown",
   "metadata": {
    "id": "otRewEhUe8MR"
   },
   "source": [
    "Again, we see that each coefficient is negative which could be interpret that an increase in environmental growth decreases the environmental intensity for 2019. R1 score is also negative (is worse that a horizontal line) which mean we can discard this regression.\n",
    "\n",
    "## Model conclusion\n",
    "\n",
    "As expected, using Environmental intensity from previous years had better accuracy to predict the next year Environmental intensity. We proved that in Model 1 and Model 2 were the regression was able to explain 88% of the variance.\n",
    "\n",
    "When using the industry average for each year, the model was able to explain around 30-34% of the variance. Moreover, by running these regressions, we concluded that the envirionmental growth from previous years isn't a good predictor.\n",
    "\n",
    "## Collect the Company Description\n",
    "\n",
    "In this section, we will grab the company description directly from the Yahoo Finance website. We started with the pilot stocks but plan to see the possibility of mapping the ISIN with their corresponding ticker and be able to grab the company description. "
   ]
  },
  {
   "cell_type": "code",
   "execution_count": 69,
   "metadata": {
    "id": "y2jk8L-9e8MR"
   },
   "outputs": [
    {
     "ename": "FileNotFoundError",
     "evalue": "[Errno 2] No such file or directory: '/Users/maralinetorres/Documents/GitHub/Predicting-Environmental-and-Social-Actions/Datasets/52_tickers_sectors.csv'",
     "output_type": "error",
     "traceback": [
      "\u001b[1;31m---------------------------------------------------------------------------\u001b[0m",
      "\u001b[1;31mFileNotFoundError\u001b[0m                         Traceback (most recent call last)",
      "\u001b[1;32m<ipython-input-69-46a176e91c61>\u001b[0m in \u001b[0;36m<module>\u001b[1;34m\u001b[0m\n\u001b[1;32m----> 1\u001b[1;33m \u001b[0mtickers_df\u001b[0m \u001b[1;33m=\u001b[0m \u001b[0mpd\u001b[0m\u001b[1;33m.\u001b[0m\u001b[0mread_csv\u001b[0m\u001b[1;33m(\u001b[0m\u001b[1;34m'/Users/maralinetorres/Documents/GitHub/Predicting-Environmental-and-Social-Actions/Datasets/52_tickers_sectors.csv'\u001b[0m\u001b[1;33m)\u001b[0m\u001b[1;33m\u001b[0m\u001b[1;33m\u001b[0m\u001b[0m\n\u001b[0m",
      "\u001b[1;32m~\\Anaconda3\\lib\\site-packages\\pandas\\io\\parsers.py\u001b[0m in \u001b[0;36mread_csv\u001b[1;34m(filepath_or_buffer, sep, delimiter, header, names, index_col, usecols, squeeze, prefix, mangle_dupe_cols, dtype, engine, converters, true_values, false_values, skipinitialspace, skiprows, skipfooter, nrows, na_values, keep_default_na, na_filter, verbose, skip_blank_lines, parse_dates, infer_datetime_format, keep_date_col, date_parser, dayfirst, cache_dates, iterator, chunksize, compression, thousands, decimal, lineterminator, quotechar, quoting, doublequote, escapechar, comment, encoding, dialect, error_bad_lines, warn_bad_lines, delim_whitespace, low_memory, memory_map, float_precision)\u001b[0m\n\u001b[0;32m    686\u001b[0m     )\n\u001b[0;32m    687\u001b[0m \u001b[1;33m\u001b[0m\u001b[0m\n\u001b[1;32m--> 688\u001b[1;33m     \u001b[1;32mreturn\u001b[0m \u001b[0m_read\u001b[0m\u001b[1;33m(\u001b[0m\u001b[0mfilepath_or_buffer\u001b[0m\u001b[1;33m,\u001b[0m \u001b[0mkwds\u001b[0m\u001b[1;33m)\u001b[0m\u001b[1;33m\u001b[0m\u001b[1;33m\u001b[0m\u001b[0m\n\u001b[0m\u001b[0;32m    689\u001b[0m \u001b[1;33m\u001b[0m\u001b[0m\n\u001b[0;32m    690\u001b[0m \u001b[1;33m\u001b[0m\u001b[0m\n",
      "\u001b[1;32m~\\Anaconda3\\lib\\site-packages\\pandas\\io\\parsers.py\u001b[0m in \u001b[0;36m_read\u001b[1;34m(filepath_or_buffer, kwds)\u001b[0m\n\u001b[0;32m    452\u001b[0m \u001b[1;33m\u001b[0m\u001b[0m\n\u001b[0;32m    453\u001b[0m     \u001b[1;31m# Create the parser.\u001b[0m\u001b[1;33m\u001b[0m\u001b[1;33m\u001b[0m\u001b[1;33m\u001b[0m\u001b[0m\n\u001b[1;32m--> 454\u001b[1;33m     \u001b[0mparser\u001b[0m \u001b[1;33m=\u001b[0m \u001b[0mTextFileReader\u001b[0m\u001b[1;33m(\u001b[0m\u001b[0mfp_or_buf\u001b[0m\u001b[1;33m,\u001b[0m \u001b[1;33m**\u001b[0m\u001b[0mkwds\u001b[0m\u001b[1;33m)\u001b[0m\u001b[1;33m\u001b[0m\u001b[1;33m\u001b[0m\u001b[0m\n\u001b[0m\u001b[0;32m    455\u001b[0m \u001b[1;33m\u001b[0m\u001b[0m\n\u001b[0;32m    456\u001b[0m     \u001b[1;32mif\u001b[0m \u001b[0mchunksize\u001b[0m \u001b[1;32mor\u001b[0m \u001b[0miterator\u001b[0m\u001b[1;33m:\u001b[0m\u001b[1;33m\u001b[0m\u001b[1;33m\u001b[0m\u001b[0m\n",
      "\u001b[1;32m~\\Anaconda3\\lib\\site-packages\\pandas\\io\\parsers.py\u001b[0m in \u001b[0;36m__init__\u001b[1;34m(self, f, engine, **kwds)\u001b[0m\n\u001b[0;32m    946\u001b[0m             \u001b[0mself\u001b[0m\u001b[1;33m.\u001b[0m\u001b[0moptions\u001b[0m\u001b[1;33m[\u001b[0m\u001b[1;34m\"has_index_names\"\u001b[0m\u001b[1;33m]\u001b[0m \u001b[1;33m=\u001b[0m \u001b[0mkwds\u001b[0m\u001b[1;33m[\u001b[0m\u001b[1;34m\"has_index_names\"\u001b[0m\u001b[1;33m]\u001b[0m\u001b[1;33m\u001b[0m\u001b[1;33m\u001b[0m\u001b[0m\n\u001b[0;32m    947\u001b[0m \u001b[1;33m\u001b[0m\u001b[0m\n\u001b[1;32m--> 948\u001b[1;33m         \u001b[0mself\u001b[0m\u001b[1;33m.\u001b[0m\u001b[0m_make_engine\u001b[0m\u001b[1;33m(\u001b[0m\u001b[0mself\u001b[0m\u001b[1;33m.\u001b[0m\u001b[0mengine\u001b[0m\u001b[1;33m)\u001b[0m\u001b[1;33m\u001b[0m\u001b[1;33m\u001b[0m\u001b[0m\n\u001b[0m\u001b[0;32m    949\u001b[0m \u001b[1;33m\u001b[0m\u001b[0m\n\u001b[0;32m    950\u001b[0m     \u001b[1;32mdef\u001b[0m \u001b[0mclose\u001b[0m\u001b[1;33m(\u001b[0m\u001b[0mself\u001b[0m\u001b[1;33m)\u001b[0m\u001b[1;33m:\u001b[0m\u001b[1;33m\u001b[0m\u001b[1;33m\u001b[0m\u001b[0m\n",
      "\u001b[1;32m~\\Anaconda3\\lib\\site-packages\\pandas\\io\\parsers.py\u001b[0m in \u001b[0;36m_make_engine\u001b[1;34m(self, engine)\u001b[0m\n\u001b[0;32m   1178\u001b[0m     \u001b[1;32mdef\u001b[0m \u001b[0m_make_engine\u001b[0m\u001b[1;33m(\u001b[0m\u001b[0mself\u001b[0m\u001b[1;33m,\u001b[0m \u001b[0mengine\u001b[0m\u001b[1;33m=\u001b[0m\u001b[1;34m\"c\"\u001b[0m\u001b[1;33m)\u001b[0m\u001b[1;33m:\u001b[0m\u001b[1;33m\u001b[0m\u001b[1;33m\u001b[0m\u001b[0m\n\u001b[0;32m   1179\u001b[0m         \u001b[1;32mif\u001b[0m \u001b[0mengine\u001b[0m \u001b[1;33m==\u001b[0m \u001b[1;34m\"c\"\u001b[0m\u001b[1;33m:\u001b[0m\u001b[1;33m\u001b[0m\u001b[1;33m\u001b[0m\u001b[0m\n\u001b[1;32m-> 1180\u001b[1;33m             \u001b[0mself\u001b[0m\u001b[1;33m.\u001b[0m\u001b[0m_engine\u001b[0m \u001b[1;33m=\u001b[0m \u001b[0mCParserWrapper\u001b[0m\u001b[1;33m(\u001b[0m\u001b[0mself\u001b[0m\u001b[1;33m.\u001b[0m\u001b[0mf\u001b[0m\u001b[1;33m,\u001b[0m \u001b[1;33m**\u001b[0m\u001b[0mself\u001b[0m\u001b[1;33m.\u001b[0m\u001b[0moptions\u001b[0m\u001b[1;33m)\u001b[0m\u001b[1;33m\u001b[0m\u001b[1;33m\u001b[0m\u001b[0m\n\u001b[0m\u001b[0;32m   1181\u001b[0m         \u001b[1;32melse\u001b[0m\u001b[1;33m:\u001b[0m\u001b[1;33m\u001b[0m\u001b[1;33m\u001b[0m\u001b[0m\n\u001b[0;32m   1182\u001b[0m             \u001b[1;32mif\u001b[0m \u001b[0mengine\u001b[0m \u001b[1;33m==\u001b[0m \u001b[1;34m\"python\"\u001b[0m\u001b[1;33m:\u001b[0m\u001b[1;33m\u001b[0m\u001b[1;33m\u001b[0m\u001b[0m\n",
      "\u001b[1;32m~\\Anaconda3\\lib\\site-packages\\pandas\\io\\parsers.py\u001b[0m in \u001b[0;36m__init__\u001b[1;34m(self, src, **kwds)\u001b[0m\n\u001b[0;32m   2008\u001b[0m         \u001b[0mkwds\u001b[0m\u001b[1;33m[\u001b[0m\u001b[1;34m\"usecols\"\u001b[0m\u001b[1;33m]\u001b[0m \u001b[1;33m=\u001b[0m \u001b[0mself\u001b[0m\u001b[1;33m.\u001b[0m\u001b[0musecols\u001b[0m\u001b[1;33m\u001b[0m\u001b[1;33m\u001b[0m\u001b[0m\n\u001b[0;32m   2009\u001b[0m \u001b[1;33m\u001b[0m\u001b[0m\n\u001b[1;32m-> 2010\u001b[1;33m         \u001b[0mself\u001b[0m\u001b[1;33m.\u001b[0m\u001b[0m_reader\u001b[0m \u001b[1;33m=\u001b[0m \u001b[0mparsers\u001b[0m\u001b[1;33m.\u001b[0m\u001b[0mTextReader\u001b[0m\u001b[1;33m(\u001b[0m\u001b[0msrc\u001b[0m\u001b[1;33m,\u001b[0m \u001b[1;33m**\u001b[0m\u001b[0mkwds\u001b[0m\u001b[1;33m)\u001b[0m\u001b[1;33m\u001b[0m\u001b[1;33m\u001b[0m\u001b[0m\n\u001b[0m\u001b[0;32m   2011\u001b[0m         \u001b[0mself\u001b[0m\u001b[1;33m.\u001b[0m\u001b[0munnamed_cols\u001b[0m \u001b[1;33m=\u001b[0m \u001b[0mself\u001b[0m\u001b[1;33m.\u001b[0m\u001b[0m_reader\u001b[0m\u001b[1;33m.\u001b[0m\u001b[0munnamed_cols\u001b[0m\u001b[1;33m\u001b[0m\u001b[1;33m\u001b[0m\u001b[0m\n\u001b[0;32m   2012\u001b[0m \u001b[1;33m\u001b[0m\u001b[0m\n",
      "\u001b[1;32mpandas\\_libs\\parsers.pyx\u001b[0m in \u001b[0;36mpandas._libs.parsers.TextReader.__cinit__\u001b[1;34m()\u001b[0m\n",
      "\u001b[1;32mpandas\\_libs\\parsers.pyx\u001b[0m in \u001b[0;36mpandas._libs.parsers.TextReader._setup_parser_source\u001b[1;34m()\u001b[0m\n",
      "\u001b[1;31mFileNotFoundError\u001b[0m: [Errno 2] No such file or directory: '/Users/maralinetorres/Documents/GitHub/Predicting-Environmental-and-Social-Actions/Datasets/52_tickers_sectors.csv'"
     ]
    }
   ],
   "source": [
    "tickers_df = pd.read_csv('/Users/maralinetorres/Documents/GitHub/Predicting-Environmental-and-Social-Actions/Datasets/52_tickers_sectors.csv')"
   ]
  },
  {
   "cell_type": "code",
   "execution_count": null,
   "metadata": {
    "id": "rVUJ6qFce8MR"
   },
   "outputs": [],
   "source": [
    "tickers = tickers_df.Ticker"
   ]
  },
  {
   "cell_type": "code",
   "execution_count": null,
   "metadata": {
    "id": "MlMORJFte8MR"
   },
   "outputs": [],
   "source": [
    "# Create a loop to store URLs of all stocks' description page\n",
    "URL = [] \n",
    "DES = [] \n",
    "comp_desc = {}\n",
    "for i in tickers: \n",
    "  url ='https://finance.yahoo.com/quote/'+i+'/profile' \n",
    "  URL.append(url)\n",
    "  page = requests.get(url) # visits the URL \n",
    "  htmldata = BeautifulSoup(page.content, 'html.parser')\n",
    "  Business_Description = htmldata.find('p',{'class':'Mt(15px) Lh(1.6)'}) # finds the business description part in the HTML code\n",
    "  DES.append(Business_Description.text)\n",
    "  comp_desc[i] = [Business_Description.text]"
   ]
  },
  {
   "cell_type": "code",
   "execution_count": null,
   "metadata": {},
   "outputs": [],
   "source": [
    "df_comp_desc = pd.DataFrame.from_dict(comp_desc, orient='index', columns = ['Description'])\n",
    "df_comp_desc.reset_index(inplace = True)\n",
    "df_comp_desc.rename(columns = {'index':'Ticker'}, inplace=True)\n",
    "df_comp_desc.head()"
   ]
  },
  {
   "cell_type": "code",
   "execution_count": null,
   "metadata": {},
   "outputs": [],
   "source": [
    "df_comp_desc.to_csv('52ticker_companydescription.csv',index=False)"
   ]
  },
  {
   "cell_type": "markdown",
   "metadata": {
    "id": "3DEKQVp4e8MS"
   },
   "source": [
    "In the next sprint, we plan to do some text analysis to the company descriptions (tokenizations, sentiment, etc) and maybe consider adding the company description to the Sprint #4 models to better predict the GHG Scope 1. "
   ]
  }
 ],
 "metadata": {
  "colab": {
   "name": "Sprint6_PredictingTimeSeries1.ipynb",
   "provenance": []
  },
  "kernelspec": {
   "display_name": "Python 3",
   "language": "python",
   "name": "python3"
  },
  "language_info": {
   "codemirror_mode": {
    "name": "ipython",
    "version": 3
   },
   "file_extension": ".py",
   "mimetype": "text/x-python",
   "name": "python",
   "nbconvert_exporter": "python",
   "pygments_lexer": "ipython3",
   "version": "3.7.4"
  }
 },
 "nbformat": 4,
 "nbformat_minor": 5
}
