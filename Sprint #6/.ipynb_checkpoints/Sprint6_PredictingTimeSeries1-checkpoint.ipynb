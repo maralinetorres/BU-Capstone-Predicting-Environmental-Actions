{
 "cells": [
  {
   "cell_type": "markdown",
   "id": "interstate-leonard",
   "metadata": {
    "id": "persistent-following"
   },
   "source": [
    "# Sprint 6 - Predicting future environmental intensity (Time Series)\n",
    "\n",
    "In this notebook, we will predict future environmental intensity for all the companies in the 'Excel data'. We will be using data from previous years to predict the future environmental intesity. \n",
    "\n",
    "First, we will create the following columns:\n",
    "\n",
    "1) Industry Indicator\n",
    "- 1 if above the industry average in current year\n",
    "- 0 if at industry average in current yeat\n",
    "- (-1) if below the industry average in current year\n",
    "2) Environmental Intensity Growth : ((Environmental Intensity in Current Year / Environmental Intensity Last Year) - 1) * 100"
   ]
  },
  {
   "cell_type": "code",
   "execution_count": 1,
   "id": "boolean-wrist",
   "metadata": {
    "id": "wound-assurance"
   },
   "outputs": [],
   "source": [
    "import pandas as pd\n",
    "import numpy as np\n",
    "import seaborn as sns\n",
    "import matplotlib.pyplot as plt\n",
    "import missingno as msno\n",
    "import warnings\n",
    "from sklearn import linear_model\n",
    "from sklearn import metrics\n",
    "from sklearn.linear_model import LinearRegression\n",
    "from sklearn.model_selection import train_test_split\n",
    "import requests\n",
    "from bs4 import BeautifulSoup\n",
    "warnings.filterwarnings('ignore')"
   ]
  },
  {
   "cell_type": "code",
   "execution_count": 2,
   "id": "liquid-court",
   "metadata": {
    "colab": {
     "base_uri": "https://localhost:8080/",
     "height": 247
    },
    "id": "mental-excellence",
    "outputId": "d5357b43-2e16-4fa6-bea1-a7037313d5d4"
   },
   "outputs": [
    {
     "name": "stdout",
     "output_type": "stream",
     "text": [
      "The dataset has 14515 rows and 11 columns\n"
     ]
    },
    {
     "data": {
      "text/html": [
       "<div>\n",
       "<style scoped>\n",
       "    .dataframe tbody tr th:only-of-type {\n",
       "        vertical-align: middle;\n",
       "    }\n",
       "\n",
       "    .dataframe tbody tr th {\n",
       "        vertical-align: top;\n",
       "    }\n",
       "\n",
       "    .dataframe thead th {\n",
       "        text-align: right;\n",
       "    }\n",
       "</style>\n",
       "<table border=\"1\" class=\"dataframe\">\n",
       "  <thead>\n",
       "    <tr style=\"text-align: right;\">\n",
       "      <th></th>\n",
       "      <th>Year</th>\n",
       "      <th>CompanyName</th>\n",
       "      <th>Country</th>\n",
       "      <th>Industry(Exiobase)</th>\n",
       "      <th>EnvironmentalIntensity(Sales)</th>\n",
       "      <th>Env_intensity</th>\n",
       "      <th>industry_avg</th>\n",
       "      <th>Industry_indicator</th>\n",
       "      <th>industry_avg_year</th>\n",
       "      <th>Industry_indicator_year</th>\n",
       "      <th>Environmental_Growth</th>\n",
       "    </tr>\n",
       "  </thead>\n",
       "  <tbody>\n",
       "    <tr>\n",
       "      <th>0</th>\n",
       "      <td>2016</td>\n",
       "      <td>1&amp;1 DRILLISCH AG</td>\n",
       "      <td>Germany</td>\n",
       "      <td>Post and telecommunications (64)</td>\n",
       "      <td>-0.07%</td>\n",
       "      <td>-0.0007</td>\n",
       "      <td>-0.018382</td>\n",
       "      <td>1</td>\n",
       "      <td>-0.011640</td>\n",
       "      <td>1</td>\n",
       "      <td>NaN</td>\n",
       "    </tr>\n",
       "    <tr>\n",
       "      <th>1</th>\n",
       "      <td>2010</td>\n",
       "      <td>3I GROUP PLC</td>\n",
       "      <td>United Kingdom</td>\n",
       "      <td>Financial intermediation, except insurance an...</td>\n",
       "      <td>-0.12%</td>\n",
       "      <td>-0.0012</td>\n",
       "      <td>-0.020072</td>\n",
       "      <td>1</td>\n",
       "      <td>-0.006402</td>\n",
       "      <td>1</td>\n",
       "      <td>NaN</td>\n",
       "    </tr>\n",
       "    <tr>\n",
       "      <th>2</th>\n",
       "      <td>2011</td>\n",
       "      <td>3I GROUP PLC</td>\n",
       "      <td>United Kingdom</td>\n",
       "      <td>Financial intermediation, except insurance an...</td>\n",
       "      <td>-0.16%</td>\n",
       "      <td>-0.0016</td>\n",
       "      <td>-0.020072</td>\n",
       "      <td>1</td>\n",
       "      <td>-0.009838</td>\n",
       "      <td>1</td>\n",
       "      <td>33.333333</td>\n",
       "    </tr>\n",
       "  </tbody>\n",
       "</table>\n",
       "</div>"
      ],
      "text/plain": [
       "   Year         CompanyName           Country  \\\n",
       "0  2016   1&1 DRILLISCH AG           Germany    \n",
       "1  2010       3I GROUP PLC    United Kingdom    \n",
       "2  2011       3I GROUP PLC    United Kingdom    \n",
       "\n",
       "                                  Industry(Exiobase)  \\\n",
       "0                  Post and telecommunications (64)    \n",
       "1   Financial intermediation, except insurance an...   \n",
       "2   Financial intermediation, except insurance an...   \n",
       "\n",
       "  EnvironmentalIntensity(Sales)  Env_intensity  industry_avg  \\\n",
       "0                        -0.07%        -0.0007     -0.018382   \n",
       "1                        -0.12%        -0.0012     -0.020072   \n",
       "2                        -0.16%        -0.0016     -0.020072   \n",
       "\n",
       "   Industry_indicator  industry_avg_year  Industry_indicator_year  \\\n",
       "0                   1          -0.011640                        1   \n",
       "1                   1          -0.006402                        1   \n",
       "2                   1          -0.009838                        1   \n",
       "\n",
       "   Environmental_Growth  \n",
       "0                   NaN  \n",
       "1                   NaN  \n",
       "2             33.333333  "
      ]
     },
     "execution_count": 2,
     "metadata": {},
     "output_type": "execute_result"
    }
   ],
   "source": [
    "df = pd.read_csv('Environmental_Impact_dataset.csv')\n",
    "column_list = []\n",
    "for column in df.columns:\n",
    "    column_list.append(column.replace(' ', ''))\n",
    "df.columns = column_list\n",
    "print(f'The dataset has {df.shape[0]} rows and {df.shape[1]} columns')\n",
    "df.head(3)"
   ]
  },
  {
   "cell_type": "code",
   "execution_count": 3,
   "id": "removed-circumstances",
   "metadata": {
    "colab": {
     "base_uri": "https://localhost:8080/",
     "height": 289
    },
    "id": "future-cornell",
    "outputId": "d6dab181-fe86-47af-99a6-4516d19fa3af"
   },
   "outputs": [
    {
     "data": {
      "text/html": [
       "<div>\n",
       "<style scoped>\n",
       "    .dataframe tbody tr th:only-of-type {\n",
       "        vertical-align: middle;\n",
       "    }\n",
       "\n",
       "    .dataframe tbody tr th {\n",
       "        vertical-align: top;\n",
       "    }\n",
       "\n",
       "    .dataframe thead th {\n",
       "        text-align: right;\n",
       "    }\n",
       "</style>\n",
       "<table border=\"1\" class=\"dataframe\">\n",
       "  <thead>\n",
       "    <tr style=\"text-align: right;\">\n",
       "      <th></th>\n",
       "      <th>Year</th>\n",
       "      <th>CompanyName</th>\n",
       "      <th>Country</th>\n",
       "      <th>Industry(Exiobase)</th>\n",
       "      <th>EnvironmentalIntensity(Sales)</th>\n",
       "      <th>Env_intensity</th>\n",
       "    </tr>\n",
       "  </thead>\n",
       "  <tbody>\n",
       "    <tr>\n",
       "      <th>0</th>\n",
       "      <td>2016</td>\n",
       "      <td>1&amp;1 DRILLISCH AG</td>\n",
       "      <td>Germany</td>\n",
       "      <td>Post and telecommunications (64)</td>\n",
       "      <td>-0.07%</td>\n",
       "      <td>-0.0007</td>\n",
       "    </tr>\n",
       "    <tr>\n",
       "      <th>1</th>\n",
       "      <td>2010</td>\n",
       "      <td>3I GROUP PLC</td>\n",
       "      <td>United Kingdom</td>\n",
       "      <td>Financial intermediation, except insurance an...</td>\n",
       "      <td>-0.12%</td>\n",
       "      <td>-0.0012</td>\n",
       "    </tr>\n",
       "    <tr>\n",
       "      <th>2</th>\n",
       "      <td>2011</td>\n",
       "      <td>3I GROUP PLC</td>\n",
       "      <td>United Kingdom</td>\n",
       "      <td>Financial intermediation, except insurance an...</td>\n",
       "      <td>-0.16%</td>\n",
       "      <td>-0.0016</td>\n",
       "    </tr>\n",
       "    <tr>\n",
       "      <th>3</th>\n",
       "      <td>2012</td>\n",
       "      <td>3I GROUP PLC</td>\n",
       "      <td>United Kingdom</td>\n",
       "      <td>Financial intermediation, except insurance an...</td>\n",
       "      <td>-0.15%</td>\n",
       "      <td>-0.0015</td>\n",
       "    </tr>\n",
       "    <tr>\n",
       "      <th>4</th>\n",
       "      <td>2010</td>\n",
       "      <td>3M COMPANY</td>\n",
       "      <td>United States</td>\n",
       "      <td>Activities of membership organisation n.e.c. ...</td>\n",
       "      <td>-7.90%</td>\n",
       "      <td>-0.0790</td>\n",
       "    </tr>\n",
       "  </tbody>\n",
       "</table>\n",
       "</div>"
      ],
      "text/plain": [
       "   Year         CompanyName           Country  \\\n",
       "0  2016   1&1 DRILLISCH AG           Germany    \n",
       "1  2010       3I GROUP PLC    United Kingdom    \n",
       "2  2011       3I GROUP PLC    United Kingdom    \n",
       "3  2012       3I GROUP PLC    United Kingdom    \n",
       "4  2010         3M COMPANY     United States    \n",
       "\n",
       "                                  Industry(Exiobase)  \\\n",
       "0                  Post and telecommunications (64)    \n",
       "1   Financial intermediation, except insurance an...   \n",
       "2   Financial intermediation, except insurance an...   \n",
       "3   Financial intermediation, except insurance an...   \n",
       "4   Activities of membership organisation n.e.c. ...   \n",
       "\n",
       "  EnvironmentalIntensity(Sales)  Env_intensity  \n",
       "0                        -0.07%        -0.0007  \n",
       "1                        -0.12%        -0.0012  \n",
       "2                        -0.16%        -0.0016  \n",
       "3                        -0.15%        -0.0015  \n",
       "4                        -7.90%        -0.0790  "
      ]
     },
     "execution_count": 3,
     "metadata": {},
     "output_type": "execute_result"
    }
   ],
   "source": [
    "df = df.iloc[:,0:6]\n",
    "df.head()"
   ]
  },
  {
   "cell_type": "code",
   "execution_count": 4,
   "id": "disabled-gilbert",
   "metadata": {
    "id": "national-avenue",
    "tags": []
   },
   "outputs": [],
   "source": [
    "def percent_to_float(s):\n",
    "    return float(s.strip('%')) / 100.0\n",
    "\n",
    "replace_dict = {'(':'',')':'', ' ' : '', ',' : ''}\n",
    "def paranthesis_to_minus(value):\n",
    "    for i, j in replace_dict.items():\n",
    "        value = value.replace(i, j)\n",
    "    value = int(f'-{value}')\n",
    "    return value\n",
    "\n",
    "df['Env_intensity'] = df['EnvironmentalIntensity(Sales)'].apply(percent_to_float)"
   ]
  },
  {
   "cell_type": "code",
   "execution_count": 5,
   "id": "expanded-divorce",
   "metadata": {
    "colab": {
     "base_uri": "https://localhost:8080/",
     "height": 289
    },
    "id": "first-surgery",
    "outputId": "f1e6927f-2061-4f60-b54b-b4e3d007263a"
   },
   "outputs": [
    {
     "data": {
      "text/html": [
       "<div>\n",
       "<style scoped>\n",
       "    .dataframe tbody tr th:only-of-type {\n",
       "        vertical-align: middle;\n",
       "    }\n",
       "\n",
       "    .dataframe tbody tr th {\n",
       "        vertical-align: top;\n",
       "    }\n",
       "\n",
       "    .dataframe thead th {\n",
       "        text-align: right;\n",
       "    }\n",
       "</style>\n",
       "<table border=\"1\" class=\"dataframe\">\n",
       "  <thead>\n",
       "    <tr style=\"text-align: right;\">\n",
       "      <th></th>\n",
       "      <th>Year</th>\n",
       "      <th>CompanyName</th>\n",
       "      <th>Country</th>\n",
       "      <th>Industry(Exiobase)</th>\n",
       "      <th>EnvironmentalIntensity(Sales)</th>\n",
       "      <th>Env_intensity</th>\n",
       "    </tr>\n",
       "  </thead>\n",
       "  <tbody>\n",
       "    <tr>\n",
       "      <th>0</th>\n",
       "      <td>2016</td>\n",
       "      <td>1&amp;1 DRILLISCH AG</td>\n",
       "      <td>Germany</td>\n",
       "      <td>Post and telecommunications (64)</td>\n",
       "      <td>-0.07%</td>\n",
       "      <td>-0.0007</td>\n",
       "    </tr>\n",
       "    <tr>\n",
       "      <th>1</th>\n",
       "      <td>2010</td>\n",
       "      <td>3I GROUP PLC</td>\n",
       "      <td>United Kingdom</td>\n",
       "      <td>Financial intermediation, except insurance an...</td>\n",
       "      <td>-0.12%</td>\n",
       "      <td>-0.0012</td>\n",
       "    </tr>\n",
       "    <tr>\n",
       "      <th>2</th>\n",
       "      <td>2011</td>\n",
       "      <td>3I GROUP PLC</td>\n",
       "      <td>United Kingdom</td>\n",
       "      <td>Financial intermediation, except insurance an...</td>\n",
       "      <td>-0.16%</td>\n",
       "      <td>-0.0016</td>\n",
       "    </tr>\n",
       "    <tr>\n",
       "      <th>3</th>\n",
       "      <td>2012</td>\n",
       "      <td>3I GROUP PLC</td>\n",
       "      <td>United Kingdom</td>\n",
       "      <td>Financial intermediation, except insurance an...</td>\n",
       "      <td>-0.15%</td>\n",
       "      <td>-0.0015</td>\n",
       "    </tr>\n",
       "    <tr>\n",
       "      <th>4</th>\n",
       "      <td>2010</td>\n",
       "      <td>3M COMPANY</td>\n",
       "      <td>United States</td>\n",
       "      <td>Activities of membership organisation n.e.c. ...</td>\n",
       "      <td>-7.90%</td>\n",
       "      <td>-0.0790</td>\n",
       "    </tr>\n",
       "  </tbody>\n",
       "</table>\n",
       "</div>"
      ],
      "text/plain": [
       "   Year         CompanyName           Country  \\\n",
       "0  2016   1&1 DRILLISCH AG           Germany    \n",
       "1  2010       3I GROUP PLC    United Kingdom    \n",
       "2  2011       3I GROUP PLC    United Kingdom    \n",
       "3  2012       3I GROUP PLC    United Kingdom    \n",
       "4  2010         3M COMPANY     United States    \n",
       "\n",
       "                                  Industry(Exiobase)  \\\n",
       "0                  Post and telecommunications (64)    \n",
       "1   Financial intermediation, except insurance an...   \n",
       "2   Financial intermediation, except insurance an...   \n",
       "3   Financial intermediation, except insurance an...   \n",
       "4   Activities of membership organisation n.e.c. ...   \n",
       "\n",
       "  EnvironmentalIntensity(Sales)  Env_intensity  \n",
       "0                        -0.07%        -0.0007  \n",
       "1                        -0.12%        -0.0012  \n",
       "2                        -0.16%        -0.0016  \n",
       "3                        -0.15%        -0.0015  \n",
       "4                        -7.90%        -0.0790  "
      ]
     },
     "execution_count": 5,
     "metadata": {},
     "output_type": "execute_result"
    }
   ],
   "source": [
    "df.head()"
   ]
  },
  {
   "cell_type": "markdown",
   "id": "handled-myrtle",
   "metadata": {
    "id": "celtic-wound"
   },
   "source": [
    "### Creating industry indicator"
   ]
  },
  {
   "cell_type": "code",
   "execution_count": 6,
   "id": "vocational-camel",
   "metadata": {
    "id": "awful-remark"
   },
   "outputs": [],
   "source": [
    "industry_avg = df.groupby('Industry(Exiobase)')[['Env_intensity']].mean().reset_index()\n",
    "df['industry_avg'] = df['Env_intensity'].groupby(df['Industry(Exiobase)']).transform('mean')"
   ]
  },
  {
   "cell_type": "code",
   "execution_count": 7,
   "id": "encouraging-diameter",
   "metadata": {
    "colab": {
     "base_uri": "https://localhost:8080/",
     "height": 326
    },
    "id": "august-toddler",
    "outputId": "e86789cd-670d-4e91-87c2-fd36af125684"
   },
   "outputs": [
    {
     "data": {
      "text/html": [
       "<div>\n",
       "<style scoped>\n",
       "    .dataframe tbody tr th:only-of-type {\n",
       "        vertical-align: middle;\n",
       "    }\n",
       "\n",
       "    .dataframe tbody tr th {\n",
       "        vertical-align: top;\n",
       "    }\n",
       "\n",
       "    .dataframe thead th {\n",
       "        text-align: right;\n",
       "    }\n",
       "</style>\n",
       "<table border=\"1\" class=\"dataframe\">\n",
       "  <thead>\n",
       "    <tr style=\"text-align: right;\">\n",
       "      <th></th>\n",
       "      <th>Year</th>\n",
       "      <th>CompanyName</th>\n",
       "      <th>Country</th>\n",
       "      <th>Industry(Exiobase)</th>\n",
       "      <th>EnvironmentalIntensity(Sales)</th>\n",
       "      <th>Env_intensity</th>\n",
       "      <th>industry_avg</th>\n",
       "      <th>Industry_indicator</th>\n",
       "    </tr>\n",
       "  </thead>\n",
       "  <tbody>\n",
       "    <tr>\n",
       "      <th>0</th>\n",
       "      <td>2016</td>\n",
       "      <td>1&amp;1 DRILLISCH AG</td>\n",
       "      <td>Germany</td>\n",
       "      <td>Post and telecommunications (64)</td>\n",
       "      <td>-0.07%</td>\n",
       "      <td>-0.0007</td>\n",
       "      <td>-0.018382</td>\n",
       "      <td>1</td>\n",
       "    </tr>\n",
       "    <tr>\n",
       "      <th>1</th>\n",
       "      <td>2010</td>\n",
       "      <td>3I GROUP PLC</td>\n",
       "      <td>United Kingdom</td>\n",
       "      <td>Financial intermediation, except insurance an...</td>\n",
       "      <td>-0.12%</td>\n",
       "      <td>-0.0012</td>\n",
       "      <td>-0.020072</td>\n",
       "      <td>1</td>\n",
       "    </tr>\n",
       "    <tr>\n",
       "      <th>2</th>\n",
       "      <td>2011</td>\n",
       "      <td>3I GROUP PLC</td>\n",
       "      <td>United Kingdom</td>\n",
       "      <td>Financial intermediation, except insurance an...</td>\n",
       "      <td>-0.16%</td>\n",
       "      <td>-0.0016</td>\n",
       "      <td>-0.020072</td>\n",
       "      <td>1</td>\n",
       "    </tr>\n",
       "    <tr>\n",
       "      <th>3</th>\n",
       "      <td>2012</td>\n",
       "      <td>3I GROUP PLC</td>\n",
       "      <td>United Kingdom</td>\n",
       "      <td>Financial intermediation, except insurance an...</td>\n",
       "      <td>-0.15%</td>\n",
       "      <td>-0.0015</td>\n",
       "      <td>-0.020072</td>\n",
       "      <td>1</td>\n",
       "    </tr>\n",
       "    <tr>\n",
       "      <th>4</th>\n",
       "      <td>2010</td>\n",
       "      <td>3M COMPANY</td>\n",
       "      <td>United States</td>\n",
       "      <td>Activities of membership organisation n.e.c. ...</td>\n",
       "      <td>-7.90%</td>\n",
       "      <td>-0.0790</td>\n",
       "      <td>-0.117561</td>\n",
       "      <td>1</td>\n",
       "    </tr>\n",
       "  </tbody>\n",
       "</table>\n",
       "</div>"
      ],
      "text/plain": [
       "   Year         CompanyName           Country  \\\n",
       "0  2016   1&1 DRILLISCH AG           Germany    \n",
       "1  2010       3I GROUP PLC    United Kingdom    \n",
       "2  2011       3I GROUP PLC    United Kingdom    \n",
       "3  2012       3I GROUP PLC    United Kingdom    \n",
       "4  2010         3M COMPANY     United States    \n",
       "\n",
       "                                  Industry(Exiobase)  \\\n",
       "0                  Post and telecommunications (64)    \n",
       "1   Financial intermediation, except insurance an...   \n",
       "2   Financial intermediation, except insurance an...   \n",
       "3   Financial intermediation, except insurance an...   \n",
       "4   Activities of membership organisation n.e.c. ...   \n",
       "\n",
       "  EnvironmentalIntensity(Sales)  Env_intensity  industry_avg  \\\n",
       "0                        -0.07%        -0.0007     -0.018382   \n",
       "1                        -0.12%        -0.0012     -0.020072   \n",
       "2                        -0.16%        -0.0016     -0.020072   \n",
       "3                        -0.15%        -0.0015     -0.020072   \n",
       "4                        -7.90%        -0.0790     -0.117561   \n",
       "\n",
       "   Industry_indicator  \n",
       "0                   1  \n",
       "1                   1  \n",
       "2                   1  \n",
       "3                   1  \n",
       "4                   1  "
      ]
     },
     "execution_count": 7,
     "metadata": {},
     "output_type": "execute_result"
    }
   ],
   "source": [
    "def create_ind(df):\n",
    "    if(df['Env_intensity'] > df['industry_avg']):\n",
    "        return 1\n",
    "    elif (df['Env_intensity'] == df['industry_avg']):\n",
    "        return 0\n",
    "    elif (df['Env_intensity'] < df['industry_avg']):\n",
    "        return -1\n",
    "\n",
    "df['Industry_indicator'] = df.apply(create_ind, axis = 1)\n",
    "df.head()"
   ]
  },
  {
   "cell_type": "code",
   "execution_count": 8,
   "id": "intended-accident",
   "metadata": {
    "colab": {
     "base_uri": "https://localhost:8080/",
     "height": 326
    },
    "id": "pacific-forty",
    "outputId": "d8d35ad2-7a41-489c-81f2-fc437020d276"
   },
   "outputs": [
    {
     "data": {
      "text/html": [
       "<div>\n",
       "<style scoped>\n",
       "    .dataframe tbody tr th:only-of-type {\n",
       "        vertical-align: middle;\n",
       "    }\n",
       "\n",
       "    .dataframe tbody tr th {\n",
       "        vertical-align: top;\n",
       "    }\n",
       "\n",
       "    .dataframe thead th {\n",
       "        text-align: right;\n",
       "    }\n",
       "</style>\n",
       "<table border=\"1\" class=\"dataframe\">\n",
       "  <thead>\n",
       "    <tr style=\"text-align: right;\">\n",
       "      <th></th>\n",
       "      <th>Year</th>\n",
       "      <th>CompanyName</th>\n",
       "      <th>Country</th>\n",
       "      <th>Industry(Exiobase)</th>\n",
       "      <th>EnvironmentalIntensity(Sales)</th>\n",
       "      <th>Env_intensity</th>\n",
       "      <th>industry_avg</th>\n",
       "      <th>Industry_indicator</th>\n",
       "      <th>industry_avg_year</th>\n",
       "      <th>Industry_indicator_year</th>\n",
       "    </tr>\n",
       "  </thead>\n",
       "  <tbody>\n",
       "    <tr>\n",
       "      <th>0</th>\n",
       "      <td>2016</td>\n",
       "      <td>1&amp;1 DRILLISCH AG</td>\n",
       "      <td>Germany</td>\n",
       "      <td>Post and telecommunications (64)</td>\n",
       "      <td>-0.07%</td>\n",
       "      <td>-0.0007</td>\n",
       "      <td>-0.018382</td>\n",
       "      <td>1</td>\n",
       "      <td>-0.011640</td>\n",
       "      <td>1</td>\n",
       "    </tr>\n",
       "    <tr>\n",
       "      <th>1</th>\n",
       "      <td>2010</td>\n",
       "      <td>3I GROUP PLC</td>\n",
       "      <td>United Kingdom</td>\n",
       "      <td>Financial intermediation, except insurance an...</td>\n",
       "      <td>-0.12%</td>\n",
       "      <td>-0.0012</td>\n",
       "      <td>-0.020072</td>\n",
       "      <td>1</td>\n",
       "      <td>-0.006402</td>\n",
       "      <td>1</td>\n",
       "    </tr>\n",
       "    <tr>\n",
       "      <th>2</th>\n",
       "      <td>2011</td>\n",
       "      <td>3I GROUP PLC</td>\n",
       "      <td>United Kingdom</td>\n",
       "      <td>Financial intermediation, except insurance an...</td>\n",
       "      <td>-0.16%</td>\n",
       "      <td>-0.0016</td>\n",
       "      <td>-0.020072</td>\n",
       "      <td>1</td>\n",
       "      <td>-0.009838</td>\n",
       "      <td>1</td>\n",
       "    </tr>\n",
       "    <tr>\n",
       "      <th>3</th>\n",
       "      <td>2012</td>\n",
       "      <td>3I GROUP PLC</td>\n",
       "      <td>United Kingdom</td>\n",
       "      <td>Financial intermediation, except insurance an...</td>\n",
       "      <td>-0.15%</td>\n",
       "      <td>-0.0015</td>\n",
       "      <td>-0.020072</td>\n",
       "      <td>1</td>\n",
       "      <td>-0.024437</td>\n",
       "      <td>1</td>\n",
       "    </tr>\n",
       "    <tr>\n",
       "      <th>4</th>\n",
       "      <td>2010</td>\n",
       "      <td>3M COMPANY</td>\n",
       "      <td>United States</td>\n",
       "      <td>Activities of membership organisation n.e.c. ...</td>\n",
       "      <td>-7.90%</td>\n",
       "      <td>-0.0790</td>\n",
       "      <td>-0.117561</td>\n",
       "      <td>1</td>\n",
       "      <td>-0.084583</td>\n",
       "      <td>1</td>\n",
       "    </tr>\n",
       "  </tbody>\n",
       "</table>\n",
       "</div>"
      ],
      "text/plain": [
       "   Year         CompanyName           Country  \\\n",
       "0  2016   1&1 DRILLISCH AG           Germany    \n",
       "1  2010       3I GROUP PLC    United Kingdom    \n",
       "2  2011       3I GROUP PLC    United Kingdom    \n",
       "3  2012       3I GROUP PLC    United Kingdom    \n",
       "4  2010         3M COMPANY     United States    \n",
       "\n",
       "                                  Industry(Exiobase)  \\\n",
       "0                  Post and telecommunications (64)    \n",
       "1   Financial intermediation, except insurance an...   \n",
       "2   Financial intermediation, except insurance an...   \n",
       "3   Financial intermediation, except insurance an...   \n",
       "4   Activities of membership organisation n.e.c. ...   \n",
       "\n",
       "  EnvironmentalIntensity(Sales)  Env_intensity  industry_avg  \\\n",
       "0                        -0.07%        -0.0007     -0.018382   \n",
       "1                        -0.12%        -0.0012     -0.020072   \n",
       "2                        -0.16%        -0.0016     -0.020072   \n",
       "3                        -0.15%        -0.0015     -0.020072   \n",
       "4                        -7.90%        -0.0790     -0.117561   \n",
       "\n",
       "   Industry_indicator  industry_avg_year  Industry_indicator_year  \n",
       "0                   1          -0.011640                        1  \n",
       "1                   1          -0.006402                        1  \n",
       "2                   1          -0.009838                        1  \n",
       "3                   1          -0.024437                        1  \n",
       "4                   1          -0.084583                        1  "
      ]
     },
     "execution_count": 8,
     "metadata": {},
     "output_type": "execute_result"
    }
   ],
   "source": [
    "def create_ind_year(df):\n",
    "    if(df['Env_intensity'] > df['industry_avg_year']):\n",
    "        return 1\n",
    "    elif (df['Env_intensity'] == df['industry_avg_year']):\n",
    "        return 0\n",
    "    elif (df['Env_intensity'] < df['industry_avg_year']):\n",
    "        return -1\n",
    "\n",
    "df['industry_avg_year'] = df.groupby(['Industry(Exiobase)','Year']).transform('mean')[['Env_intensity']]\n",
    "\n",
    "df['Industry_indicator_year'] = df.apply(create_ind_year, axis = 1)\n",
    "df.head()"
   ]
  },
  {
   "cell_type": "code",
   "execution_count": 9,
   "id": "painted-scottish",
   "metadata": {
    "colab": {
     "base_uri": "https://localhost:8080/",
     "height": 643
    },
    "id": "behind-format",
    "outputId": "521df61f-a46b-47b0-a5e7-851aedccfa5b"
   },
   "outputs": [
    {
     "data": {
      "text/html": [
       "<div>\n",
       "<style scoped>\n",
       "    .dataframe tbody tr th:only-of-type {\n",
       "        vertical-align: middle;\n",
       "    }\n",
       "\n",
       "    .dataframe tbody tr th {\n",
       "        vertical-align: top;\n",
       "    }\n",
       "\n",
       "    .dataframe thead th {\n",
       "        text-align: right;\n",
       "    }\n",
       "</style>\n",
       "<table border=\"1\" class=\"dataframe\">\n",
       "  <thead>\n",
       "    <tr style=\"text-align: right;\">\n",
       "      <th></th>\n",
       "      <th>Year</th>\n",
       "      <th>CompanyName</th>\n",
       "      <th>Country</th>\n",
       "      <th>Industry(Exiobase)</th>\n",
       "      <th>EnvironmentalIntensity(Sales)</th>\n",
       "      <th>Env_intensity</th>\n",
       "      <th>industry_avg</th>\n",
       "      <th>Industry_indicator</th>\n",
       "      <th>industry_avg_year</th>\n",
       "      <th>Industry_indicator_year</th>\n",
       "    </tr>\n",
       "  </thead>\n",
       "  <tbody>\n",
       "    <tr>\n",
       "      <th>8166</th>\n",
       "      <td>2016</td>\n",
       "      <td>ADECCO GROUP AG</td>\n",
       "      <td>Switzerland</td>\n",
       "      <td>Activities auxiliary to financial intermediati...</td>\n",
       "      <td>-0.10%</td>\n",
       "      <td>-0.0010</td>\n",
       "      <td>-0.004417</td>\n",
       "      <td>1</td>\n",
       "      <td>-0.007880</td>\n",
       "      <td>1</td>\n",
       "    </tr>\n",
       "    <tr>\n",
       "      <th>14368</th>\n",
       "      <td>2016</td>\n",
       "      <td>WOLTERS KLUWER NV</td>\n",
       "      <td>Netherlands</td>\n",
       "      <td>Activities auxiliary to financial intermediati...</td>\n",
       "      <td>-0.20%</td>\n",
       "      <td>-0.0020</td>\n",
       "      <td>-0.004417</td>\n",
       "      <td>1</td>\n",
       "      <td>-0.007880</td>\n",
       "      <td>1</td>\n",
       "    </tr>\n",
       "    <tr>\n",
       "      <th>14123</th>\n",
       "      <td>2016</td>\n",
       "      <td>VERISK ANALYTICS INCORPORATION</td>\n",
       "      <td>United States</td>\n",
       "      <td>Activities auxiliary to financial intermediati...</td>\n",
       "      <td>-0.21%</td>\n",
       "      <td>-0.0021</td>\n",
       "      <td>-0.004417</td>\n",
       "      <td>1</td>\n",
       "      <td>-0.007880</td>\n",
       "      <td>1</td>\n",
       "    </tr>\n",
       "    <tr>\n",
       "      <th>13738</th>\n",
       "      <td>2016</td>\n",
       "      <td>TELEPERFORMANCE SE</td>\n",
       "      <td>France</td>\n",
       "      <td>Activities auxiliary to financial intermediati...</td>\n",
       "      <td>-1.10%</td>\n",
       "      <td>-0.0110</td>\n",
       "      <td>-0.004417</td>\n",
       "      <td>-1</td>\n",
       "      <td>-0.007880</td>\n",
       "      <td>-1</td>\n",
       "    </tr>\n",
       "    <tr>\n",
       "      <th>12891</th>\n",
       "      <td>2016</td>\n",
       "      <td>SAGA PLC</td>\n",
       "      <td>United Kingdom</td>\n",
       "      <td>Activities auxiliary to financial intermediati...</td>\n",
       "      <td>-2.82%</td>\n",
       "      <td>-0.0282</td>\n",
       "      <td>-0.004417</td>\n",
       "      <td>-1</td>\n",
       "      <td>-0.007880</td>\n",
       "      <td>-1</td>\n",
       "    </tr>\n",
       "    <tr>\n",
       "      <th>...</th>\n",
       "      <td>...</td>\n",
       "      <td>...</td>\n",
       "      <td>...</td>\n",
       "      <td>...</td>\n",
       "      <td>...</td>\n",
       "      <td>...</td>\n",
       "      <td>...</td>\n",
       "      <td>...</td>\n",
       "      <td>...</td>\n",
       "      <td>...</td>\n",
       "    </tr>\n",
       "    <tr>\n",
       "      <th>9736</th>\n",
       "      <td>2019</td>\n",
       "      <td>DKSH HOLDING AG</td>\n",
       "      <td>Switzerland</td>\n",
       "      <td>Activities auxiliary to financial intermediati...</td>\n",
       "      <td>-0.17%</td>\n",
       "      <td>-0.0017</td>\n",
       "      <td>-0.004417</td>\n",
       "      <td>1</td>\n",
       "      <td>0.002943</td>\n",
       "      <td>-1</td>\n",
       "    </tr>\n",
       "    <tr>\n",
       "      <th>10721</th>\n",
       "      <td>2019</td>\n",
       "      <td>HONG KONG EXCHANGES AND CLEARING LIMITED</td>\n",
       "      <td>Hong Kong</td>\n",
       "      <td>Activities auxiliary to financial intermediati...</td>\n",
       "      <td>-0.34%</td>\n",
       "      <td>-0.0034</td>\n",
       "      <td>-0.004417</td>\n",
       "      <td>1</td>\n",
       "      <td>0.002943</td>\n",
       "      <td>-1</td>\n",
       "    </tr>\n",
       "    <tr>\n",
       "      <th>10077</th>\n",
       "      <td>2019</td>\n",
       "      <td>EXPERIAN PLC</td>\n",
       "      <td>United Kingdom</td>\n",
       "      <td>Activities auxiliary to financial intermediati...</td>\n",
       "      <td>-0.20%</td>\n",
       "      <td>-0.0020</td>\n",
       "      <td>-0.004417</td>\n",
       "      <td>1</td>\n",
       "      <td>0.002943</td>\n",
       "      <td>-1</td>\n",
       "    </tr>\n",
       "    <tr>\n",
       "      <th>11536</th>\n",
       "      <td>2019</td>\n",
       "      <td>LONDON STOCK EXCHANGE GROUP PLC</td>\n",
       "      <td>United Kingdom</td>\n",
       "      <td>Activities auxiliary to financial intermediati...</td>\n",
       "      <td>-0.19%</td>\n",
       "      <td>-0.0019</td>\n",
       "      <td>-0.004417</td>\n",
       "      <td>1</td>\n",
       "      <td>0.002943</td>\n",
       "      <td>-1</td>\n",
       "    </tr>\n",
       "    <tr>\n",
       "      <th>9666</th>\n",
       "      <td>2019</td>\n",
       "      <td>DEUTSCHE BOERSE AG</td>\n",
       "      <td>Germany</td>\n",
       "      <td>Activities auxiliary to financial intermediati...</td>\n",
       "      <td>1.88%</td>\n",
       "      <td>0.0188</td>\n",
       "      <td>-0.004417</td>\n",
       "      <td>1</td>\n",
       "      <td>0.002943</td>\n",
       "      <td>1</td>\n",
       "    </tr>\n",
       "  </tbody>\n",
       "</table>\n",
       "<p>93 rows × 10 columns</p>\n",
       "</div>"
      ],
      "text/plain": [
       "       Year                               CompanyName         Country  \\\n",
       "8166   2016                           ADECCO GROUP AG     Switzerland   \n",
       "14368  2016                         WOLTERS KLUWER NV     Netherlands   \n",
       "14123  2016            VERISK ANALYTICS INCORPORATION   United States   \n",
       "13738  2016                        TELEPERFORMANCE SE          France   \n",
       "12891  2016                                  SAGA PLC  United Kingdom   \n",
       "...     ...                                       ...             ...   \n",
       "9736   2019                           DKSH HOLDING AG     Switzerland   \n",
       "10721  2019  HONG KONG EXCHANGES AND CLEARING LIMITED       Hong Kong   \n",
       "10077  2019                              EXPERIAN PLC  United Kingdom   \n",
       "11536  2019           LONDON STOCK EXCHANGE GROUP PLC  United Kingdom   \n",
       "9666   2019                        DEUTSCHE BOERSE AG         Germany   \n",
       "\n",
       "                                      Industry(Exiobase)  \\\n",
       "8166   Activities auxiliary to financial intermediati...   \n",
       "14368  Activities auxiliary to financial intermediati...   \n",
       "14123  Activities auxiliary to financial intermediati...   \n",
       "13738  Activities auxiliary to financial intermediati...   \n",
       "12891  Activities auxiliary to financial intermediati...   \n",
       "...                                                  ...   \n",
       "9736   Activities auxiliary to financial intermediati...   \n",
       "10721  Activities auxiliary to financial intermediati...   \n",
       "10077  Activities auxiliary to financial intermediati...   \n",
       "11536  Activities auxiliary to financial intermediati...   \n",
       "9666   Activities auxiliary to financial intermediati...   \n",
       "\n",
       "      EnvironmentalIntensity(Sales)  Env_intensity  industry_avg  \\\n",
       "8166                         -0.10%        -0.0010     -0.004417   \n",
       "14368                        -0.20%        -0.0020     -0.004417   \n",
       "14123                        -0.21%        -0.0021     -0.004417   \n",
       "13738                        -1.10%        -0.0110     -0.004417   \n",
       "12891                        -2.82%        -0.0282     -0.004417   \n",
       "...                             ...            ...           ...   \n",
       "9736                         -0.17%        -0.0017     -0.004417   \n",
       "10721                        -0.34%        -0.0034     -0.004417   \n",
       "10077                        -0.20%        -0.0020     -0.004417   \n",
       "11536                        -0.19%        -0.0019     -0.004417   \n",
       "9666                          1.88%         0.0188     -0.004417   \n",
       "\n",
       "       Industry_indicator  industry_avg_year  Industry_indicator_year  \n",
       "8166                    1          -0.007880                        1  \n",
       "14368                   1          -0.007880                        1  \n",
       "14123                   1          -0.007880                        1  \n",
       "13738                  -1          -0.007880                       -1  \n",
       "12891                  -1          -0.007880                       -1  \n",
       "...                   ...                ...                      ...  \n",
       "9736                    1           0.002943                       -1  \n",
       "10721                   1           0.002943                       -1  \n",
       "10077                   1           0.002943                       -1  \n",
       "11536                   1           0.002943                       -1  \n",
       "9666                    1           0.002943                        1  \n",
       "\n",
       "[93 rows x 10 columns]"
      ]
     },
     "execution_count": 9,
     "metadata": {},
     "output_type": "execute_result"
    }
   ],
   "source": [
    "df.loc[(df['Industry(Exiobase)'] == 'Activities auxiliary to financial intermediation (67)'),:].sort_values(by='Year')"
   ]
  },
  {
   "cell_type": "markdown",
   "id": "suburban-pipeline",
   "metadata": {
    "id": "directed-workplace"
   },
   "source": [
    "### Creating Environmental growth\n",
    "\n",
    "Environmental Intensity Growth : ((Environmental Intensity in Current Year / Environmental Intensity Last Year) - 1) * 100"
   ]
  },
  {
   "cell_type": "code",
   "execution_count": 10,
   "id": "front-pierre",
   "metadata": {
    "colab": {
     "base_uri": "https://localhost:8080/",
     "height": 326
    },
    "id": "loaded-pitch",
    "outputId": "429dc802-919e-4543-8841-81fb34385e04"
   },
   "outputs": [
    {
     "data": {
      "text/html": [
       "<div>\n",
       "<style scoped>\n",
       "    .dataframe tbody tr th:only-of-type {\n",
       "        vertical-align: middle;\n",
       "    }\n",
       "\n",
       "    .dataframe tbody tr th {\n",
       "        vertical-align: top;\n",
       "    }\n",
       "\n",
       "    .dataframe thead th {\n",
       "        text-align: right;\n",
       "    }\n",
       "</style>\n",
       "<table border=\"1\" class=\"dataframe\">\n",
       "  <thead>\n",
       "    <tr style=\"text-align: right;\">\n",
       "      <th></th>\n",
       "      <th>Year</th>\n",
       "      <th>CompanyName</th>\n",
       "      <th>Country</th>\n",
       "      <th>Industry(Exiobase)</th>\n",
       "      <th>EnvironmentalIntensity(Sales)</th>\n",
       "      <th>Env_intensity</th>\n",
       "      <th>industry_avg</th>\n",
       "      <th>Industry_indicator</th>\n",
       "      <th>industry_avg_year</th>\n",
       "      <th>Industry_indicator_year</th>\n",
       "    </tr>\n",
       "  </thead>\n",
       "  <tbody>\n",
       "    <tr>\n",
       "      <th>0</th>\n",
       "      <td>2016</td>\n",
       "      <td>1&amp;1 DRILLISCH AG</td>\n",
       "      <td>Germany</td>\n",
       "      <td>Post and telecommunications (64)</td>\n",
       "      <td>-0.07%</td>\n",
       "      <td>-0.0007</td>\n",
       "      <td>-0.018382</td>\n",
       "      <td>1</td>\n",
       "      <td>-0.011640</td>\n",
       "      <td>1</td>\n",
       "    </tr>\n",
       "    <tr>\n",
       "      <th>1</th>\n",
       "      <td>2010</td>\n",
       "      <td>3I GROUP PLC</td>\n",
       "      <td>United Kingdom</td>\n",
       "      <td>Financial intermediation, except insurance an...</td>\n",
       "      <td>-0.12%</td>\n",
       "      <td>-0.0012</td>\n",
       "      <td>-0.020072</td>\n",
       "      <td>1</td>\n",
       "      <td>-0.006402</td>\n",
       "      <td>1</td>\n",
       "    </tr>\n",
       "    <tr>\n",
       "      <th>2</th>\n",
       "      <td>2011</td>\n",
       "      <td>3I GROUP PLC</td>\n",
       "      <td>United Kingdom</td>\n",
       "      <td>Financial intermediation, except insurance an...</td>\n",
       "      <td>-0.16%</td>\n",
       "      <td>-0.0016</td>\n",
       "      <td>-0.020072</td>\n",
       "      <td>1</td>\n",
       "      <td>-0.009838</td>\n",
       "      <td>1</td>\n",
       "    </tr>\n",
       "    <tr>\n",
       "      <th>3</th>\n",
       "      <td>2012</td>\n",
       "      <td>3I GROUP PLC</td>\n",
       "      <td>United Kingdom</td>\n",
       "      <td>Financial intermediation, except insurance an...</td>\n",
       "      <td>-0.15%</td>\n",
       "      <td>-0.0015</td>\n",
       "      <td>-0.020072</td>\n",
       "      <td>1</td>\n",
       "      <td>-0.024437</td>\n",
       "      <td>1</td>\n",
       "    </tr>\n",
       "    <tr>\n",
       "      <th>4</th>\n",
       "      <td>2010</td>\n",
       "      <td>3M COMPANY</td>\n",
       "      <td>United States</td>\n",
       "      <td>Activities of membership organisation n.e.c. ...</td>\n",
       "      <td>-7.90%</td>\n",
       "      <td>-0.0790</td>\n",
       "      <td>-0.117561</td>\n",
       "      <td>1</td>\n",
       "      <td>-0.084583</td>\n",
       "      <td>1</td>\n",
       "    </tr>\n",
       "  </tbody>\n",
       "</table>\n",
       "</div>"
      ],
      "text/plain": [
       "   Year         CompanyName           Country  \\\n",
       "0  2016   1&1 DRILLISCH AG           Germany    \n",
       "1  2010       3I GROUP PLC    United Kingdom    \n",
       "2  2011       3I GROUP PLC    United Kingdom    \n",
       "3  2012       3I GROUP PLC    United Kingdom    \n",
       "4  2010         3M COMPANY     United States    \n",
       "\n",
       "                                  Industry(Exiobase)  \\\n",
       "0                  Post and telecommunications (64)    \n",
       "1   Financial intermediation, except insurance an...   \n",
       "2   Financial intermediation, except insurance an...   \n",
       "3   Financial intermediation, except insurance an...   \n",
       "4   Activities of membership organisation n.e.c. ...   \n",
       "\n",
       "  EnvironmentalIntensity(Sales)  Env_intensity  industry_avg  \\\n",
       "0                        -0.07%        -0.0007     -0.018382   \n",
       "1                        -0.12%        -0.0012     -0.020072   \n",
       "2                        -0.16%        -0.0016     -0.020072   \n",
       "3                        -0.15%        -0.0015     -0.020072   \n",
       "4                        -7.90%        -0.0790     -0.117561   \n",
       "\n",
       "   Industry_indicator  industry_avg_year  Industry_indicator_year  \n",
       "0                   1          -0.011640                        1  \n",
       "1                   1          -0.006402                        1  \n",
       "2                   1          -0.009838                        1  \n",
       "3                   1          -0.024437                        1  \n",
       "4                   1          -0.084583                        1  "
      ]
     },
     "execution_count": 10,
     "metadata": {},
     "output_type": "execute_result"
    }
   ],
   "source": [
    "df = df.sort_values(by=['CompanyName','Year'], ascending = True)\n",
    "df.head()"
   ]
  },
  {
   "cell_type": "code",
   "execution_count": 11,
   "id": "acute-opinion",
   "metadata": {
    "colab": {
     "base_uri": "https://localhost:8080/",
     "height": 326
    },
    "id": "southeast-killing",
    "outputId": "d5c6276d-0b1b-4e36-c820-1d2ef9718295"
   },
   "outputs": [
    {
     "data": {
      "text/html": [
       "<div>\n",
       "<style scoped>\n",
       "    .dataframe tbody tr th:only-of-type {\n",
       "        vertical-align: middle;\n",
       "    }\n",
       "\n",
       "    .dataframe tbody tr th {\n",
       "        vertical-align: top;\n",
       "    }\n",
       "\n",
       "    .dataframe thead th {\n",
       "        text-align: right;\n",
       "    }\n",
       "</style>\n",
       "<table border=\"1\" class=\"dataframe\">\n",
       "  <thead>\n",
       "    <tr style=\"text-align: right;\">\n",
       "      <th></th>\n",
       "      <th>Year</th>\n",
       "      <th>CompanyName</th>\n",
       "      <th>Country</th>\n",
       "      <th>Industry(Exiobase)</th>\n",
       "      <th>EnvironmentalIntensity(Sales)</th>\n",
       "      <th>Env_intensity</th>\n",
       "      <th>industry_avg</th>\n",
       "      <th>Industry_indicator</th>\n",
       "      <th>industry_avg_year</th>\n",
       "      <th>Industry_indicator_year</th>\n",
       "      <th>Environmental_Growth</th>\n",
       "    </tr>\n",
       "  </thead>\n",
       "  <tbody>\n",
       "    <tr>\n",
       "      <th>0</th>\n",
       "      <td>2016</td>\n",
       "      <td>1&amp;1 DRILLISCH AG</td>\n",
       "      <td>Germany</td>\n",
       "      <td>Post and telecommunications (64)</td>\n",
       "      <td>-0.07%</td>\n",
       "      <td>-0.0007</td>\n",
       "      <td>-0.018382</td>\n",
       "      <td>1</td>\n",
       "      <td>-0.011640</td>\n",
       "      <td>1</td>\n",
       "      <td>NaN</td>\n",
       "    </tr>\n",
       "    <tr>\n",
       "      <th>1</th>\n",
       "      <td>2010</td>\n",
       "      <td>3I GROUP PLC</td>\n",
       "      <td>United Kingdom</td>\n",
       "      <td>Financial intermediation, except insurance an...</td>\n",
       "      <td>-0.12%</td>\n",
       "      <td>-0.0012</td>\n",
       "      <td>-0.020072</td>\n",
       "      <td>1</td>\n",
       "      <td>-0.006402</td>\n",
       "      <td>1</td>\n",
       "      <td>NaN</td>\n",
       "    </tr>\n",
       "    <tr>\n",
       "      <th>2</th>\n",
       "      <td>2011</td>\n",
       "      <td>3I GROUP PLC</td>\n",
       "      <td>United Kingdom</td>\n",
       "      <td>Financial intermediation, except insurance an...</td>\n",
       "      <td>-0.16%</td>\n",
       "      <td>-0.0016</td>\n",
       "      <td>-0.020072</td>\n",
       "      <td>1</td>\n",
       "      <td>-0.009838</td>\n",
       "      <td>1</td>\n",
       "      <td>33.333333</td>\n",
       "    </tr>\n",
       "    <tr>\n",
       "      <th>3</th>\n",
       "      <td>2012</td>\n",
       "      <td>3I GROUP PLC</td>\n",
       "      <td>United Kingdom</td>\n",
       "      <td>Financial intermediation, except insurance an...</td>\n",
       "      <td>-0.15%</td>\n",
       "      <td>-0.0015</td>\n",
       "      <td>-0.020072</td>\n",
       "      <td>1</td>\n",
       "      <td>-0.024437</td>\n",
       "      <td>1</td>\n",
       "      <td>-6.250000</td>\n",
       "    </tr>\n",
       "    <tr>\n",
       "      <th>4</th>\n",
       "      <td>2010</td>\n",
       "      <td>3M COMPANY</td>\n",
       "      <td>United States</td>\n",
       "      <td>Activities of membership organisation n.e.c. ...</td>\n",
       "      <td>-7.90%</td>\n",
       "      <td>-0.0790</td>\n",
       "      <td>-0.117561</td>\n",
       "      <td>1</td>\n",
       "      <td>-0.084583</td>\n",
       "      <td>1</td>\n",
       "      <td>NaN</td>\n",
       "    </tr>\n",
       "  </tbody>\n",
       "</table>\n",
       "</div>"
      ],
      "text/plain": [
       "   Year         CompanyName           Country  \\\n",
       "0  2016   1&1 DRILLISCH AG           Germany    \n",
       "1  2010       3I GROUP PLC    United Kingdom    \n",
       "2  2011       3I GROUP PLC    United Kingdom    \n",
       "3  2012       3I GROUP PLC    United Kingdom    \n",
       "4  2010         3M COMPANY     United States    \n",
       "\n",
       "                                  Industry(Exiobase)  \\\n",
       "0                  Post and telecommunications (64)    \n",
       "1   Financial intermediation, except insurance an...   \n",
       "2   Financial intermediation, except insurance an...   \n",
       "3   Financial intermediation, except insurance an...   \n",
       "4   Activities of membership organisation n.e.c. ...   \n",
       "\n",
       "  EnvironmentalIntensity(Sales)  Env_intensity  industry_avg  \\\n",
       "0                        -0.07%        -0.0007     -0.018382   \n",
       "1                        -0.12%        -0.0012     -0.020072   \n",
       "2                        -0.16%        -0.0016     -0.020072   \n",
       "3                        -0.15%        -0.0015     -0.020072   \n",
       "4                        -7.90%        -0.0790     -0.117561   \n",
       "\n",
       "   Industry_indicator  industry_avg_year  Industry_indicator_year  \\\n",
       "0                   1          -0.011640                        1   \n",
       "1                   1          -0.006402                        1   \n",
       "2                   1          -0.009838                        1   \n",
       "3                   1          -0.024437                        1   \n",
       "4                   1          -0.084583                        1   \n",
       "\n",
       "   Environmental_Growth  \n",
       "0                   NaN  \n",
       "1                   NaN  \n",
       "2             33.333333  \n",
       "3             -6.250000  \n",
       "4                   NaN  "
      ]
     },
     "execution_count": 11,
     "metadata": {},
     "output_type": "execute_result"
    }
   ],
   "source": [
    "df['Environmental_Growth'] = df.groupby(['CompanyName'])['Env_intensity'].apply(lambda x: x.pct_change()).to_numpy() * 100\n",
    "df.head()"
   ]
  },
  {
   "cell_type": "markdown",
   "id": "cardiac-cricket",
   "metadata": {},
   "source": [
    "### Model 1 - Past years Environmental Intensity"
   ]
  },
  {
   "cell_type": "code",
   "execution_count": 12,
   "id": "vocal-compression",
   "metadata": {},
   "outputs": [],
   "source": [
    "df1 = pd.read_csv('Environmental_Impact_dataset.csv')\n"
   ]
  },
  {
   "cell_type": "code",
   "execution_count": 13,
   "id": "engaging-perspective",
   "metadata": {},
   "outputs": [],
   "source": [
    "def p2f(x):\n",
    "    return float(x.strip('%'))/100\n",
    "df1['EnvironmentalIntensity(Sales)'] = df1['EnvironmentalIntensity(Sales)'].apply(p2f)"
   ]
  },
  {
   "cell_type": "code",
   "execution_count": 14,
   "id": "checked-fundamental",
   "metadata": {
    "id": "sexual-cricket"
   },
   "outputs": [
    {
     "name": "stdout",
     "output_type": "stream",
     "text": [
      "R2 score: 0.8825319170790614\n",
      "MSE:  0.010786739663931545\n"
     ]
    }
   ],
   "source": [
    "companies_2018 = list(df1[df1['Year'] == 2018]['CompanyName'])\n",
    "companies_2019 = list(df1[(df1['Year'] == 2019) & (df1['CompanyName'].isin(companies_2018))]['CompanyName'])\n",
    "\n",
    "#Getting companies that are in both years\n",
    "list2018_as_set = set(companies_2018)\n",
    "intersection = list2018_as_set.intersection(companies_2019)\n",
    "\n",
    "X = df1[(df1['Year'] == 2018) & (df1['CompanyName'].isin(intersection))][['EnvironmentalIntensity(Sales)']]\n",
    "y = df1[(df1['Year'] == 2019) & (df1['CompanyName'].isin(intersection))][['EnvironmentalIntensity(Sales)']]\n",
    "\n",
    "X_train, X_test, y_train, y_test = train_test_split(\n",
    "    X, y, test_size=0.33, random_state=42)\n",
    "\n",
    "\n",
    "reg = LinearRegression().fit(X_train, y_train)\n",
    "\n",
    "y_pred = reg.predict(X_test)\n",
    "\n",
    "print('R2 score:', metrics.r2_score(y_test, y_pred))\n",
    "print('MSE: ', metrics.mean_squared_error(y_test, y_pred))\n"
   ]
  },
  {
   "cell_type": "markdown",
   "id": "amended-marketplace",
   "metadata": {},
   "source": [
    "### Model 2 - Past years average environmental intensity\n",
    "\n",
    "In this section, we will use the average environmental intensity of 2016-2018 to predict 2019 environmental intensity"
   ]
  },
  {
   "cell_type": "code",
   "execution_count": 15,
   "id": "single-insurance",
   "metadata": {},
   "outputs": [],
   "source": [
    "df2 = df.copy()\n",
    "EI_2016 = df2[df2['Year'] == 2016]\n",
    "EI_2017 = df2[df2['Year'] == 2017]\n",
    "EI_2018 = df2[df2['Year'] == 2018]\n",
    "EI_2019 = df2[df2['Year'] == 2019]"
   ]
  },
  {
   "cell_type": "code",
   "execution_count": 16,
   "id": "buried-brazilian",
   "metadata": {},
   "outputs": [],
   "source": [
    "df_mod2 = EI_2016.merge(EI_2017, how='inner', on='CompanyName', suffixes=('_2016', '_2017'))\n",
    "df_mod2 = df_mod2.merge(EI_2018, how='inner', on='CompanyName')\n",
    "df_mod2 = df_mod2.merge(EI_2019, how='inner', on='CompanyName', suffixes=('_2018', '_2019'))"
   ]
  },
  {
   "cell_type": "code",
   "execution_count": 17,
   "id": "controversial-electron",
   "metadata": {},
   "outputs": [],
   "source": [
    "df_mod2 = df_mod2[['CompanyName','Year_2016','Env_intensity_2016','Year_2017','Env_intensity_2017','Year_2018','Env_intensity_2018','Year_2019','Env_intensity_2019']]"
   ]
  },
  {
   "cell_type": "code",
   "execution_count": 18,
   "id": "guilty-difference",
   "metadata": {},
   "outputs": [
    {
     "data": {
      "text/html": [
       "<div>\n",
       "<style scoped>\n",
       "    .dataframe tbody tr th:only-of-type {\n",
       "        vertical-align: middle;\n",
       "    }\n",
       "\n",
       "    .dataframe tbody tr th {\n",
       "        vertical-align: top;\n",
       "    }\n",
       "\n",
       "    .dataframe thead th {\n",
       "        text-align: right;\n",
       "    }\n",
       "</style>\n",
       "<table border=\"1\" class=\"dataframe\">\n",
       "  <thead>\n",
       "    <tr style=\"text-align: right;\">\n",
       "      <th></th>\n",
       "      <th>CompanyName</th>\n",
       "      <th>Year_2016</th>\n",
       "      <th>Env_intensity_2016</th>\n",
       "      <th>Year_2017</th>\n",
       "      <th>Env_intensity_2017</th>\n",
       "      <th>Year_2018</th>\n",
       "      <th>Env_intensity_2018</th>\n",
       "      <th>Year_2019</th>\n",
       "      <th>Env_intensity_2019</th>\n",
       "    </tr>\n",
       "  </thead>\n",
       "  <tbody>\n",
       "    <tr>\n",
       "      <th>0</th>\n",
       "      <td>3M COMPANY</td>\n",
       "      <td>2016</td>\n",
       "      <td>-0.0705</td>\n",
       "      <td>2017</td>\n",
       "      <td>-0.0660</td>\n",
       "      <td>2018</td>\n",
       "      <td>-0.0710</td>\n",
       "      <td>2019</td>\n",
       "      <td>-0.0641</td>\n",
       "    </tr>\n",
       "    <tr>\n",
       "      <th>1</th>\n",
       "      <td>AA PLC</td>\n",
       "      <td>2016</td>\n",
       "      <td>-0.0130</td>\n",
       "      <td>2017</td>\n",
       "      <td>-0.0124</td>\n",
       "      <td>2018</td>\n",
       "      <td>-0.0117</td>\n",
       "      <td>2019</td>\n",
       "      <td>-0.0070</td>\n",
       "    </tr>\n",
       "    <tr>\n",
       "      <th>2</th>\n",
       "      <td>AAC TECHNOLOGIES HOLDINGS INCORPORATION</td>\n",
       "      <td>2016</td>\n",
       "      <td>-0.0389</td>\n",
       "      <td>2017</td>\n",
       "      <td>-0.0591</td>\n",
       "      <td>2018</td>\n",
       "      <td>-0.0802</td>\n",
       "      <td>2019</td>\n",
       "      <td>-0.1080</td>\n",
       "    </tr>\n",
       "    <tr>\n",
       "      <th>3</th>\n",
       "      <td>AAREAL BANK AG</td>\n",
       "      <td>2016</td>\n",
       "      <td>-0.0024</td>\n",
       "      <td>2017</td>\n",
       "      <td>-0.0021</td>\n",
       "      <td>2018</td>\n",
       "      <td>-0.0019</td>\n",
       "      <td>2019</td>\n",
       "      <td>-0.0015</td>\n",
       "    </tr>\n",
       "    <tr>\n",
       "      <th>4</th>\n",
       "      <td>AB SKF</td>\n",
       "      <td>2016</td>\n",
       "      <td>-0.0215</td>\n",
       "      <td>2017</td>\n",
       "      <td>-0.0226</td>\n",
       "      <td>2018</td>\n",
       "      <td>-0.0212</td>\n",
       "      <td>2019</td>\n",
       "      <td>-0.0200</td>\n",
       "    </tr>\n",
       "  </tbody>\n",
       "</table>\n",
       "</div>"
      ],
      "text/plain": [
       "                               CompanyName  Year_2016  Env_intensity_2016  \\\n",
       "0                               3M COMPANY       2016             -0.0705   \n",
       "1                                   AA PLC       2016             -0.0130   \n",
       "2  AAC TECHNOLOGIES HOLDINGS INCORPORATION       2016             -0.0389   \n",
       "3                           AAREAL BANK AG       2016             -0.0024   \n",
       "4                                   AB SKF       2016             -0.0215   \n",
       "\n",
       "   Year_2017  Env_intensity_2017  Year_2018  Env_intensity_2018  Year_2019  \\\n",
       "0       2017             -0.0660       2018             -0.0710       2019   \n",
       "1       2017             -0.0124       2018             -0.0117       2019   \n",
       "2       2017             -0.0591       2018             -0.0802       2019   \n",
       "3       2017             -0.0021       2018             -0.0019       2019   \n",
       "4       2017             -0.0226       2018             -0.0212       2019   \n",
       "\n",
       "   Env_intensity_2019  \n",
       "0             -0.0641  \n",
       "1             -0.0070  \n",
       "2             -0.1080  \n",
       "3             -0.0015  \n",
       "4             -0.0200  "
      ]
     },
     "execution_count": 18,
     "metadata": {},
     "output_type": "execute_result"
    }
   ],
   "source": [
    "df_mod2.head()"
   ]
  },
  {
   "cell_type": "code",
   "execution_count": 19,
   "id": "committed-investor",
   "metadata": {},
   "outputs": [],
   "source": [
    "df_melt2 = pd.melt(df_mod2, id_vars=['CompanyName'], value_vars=['Env_intensity_2016','Env_intensity_2016','Env_intensity_2017'],\n",
    "        var_name='myVarname', value_name='Environmental_intenrsity')"
   ]
  },
  {
   "cell_type": "code",
   "execution_count": 20,
   "id": "blank-there",
   "metadata": {},
   "outputs": [
    {
     "data": {
      "text/html": [
       "<div>\n",
       "<style scoped>\n",
       "    .dataframe tbody tr th:only-of-type {\n",
       "        vertical-align: middle;\n",
       "    }\n",
       "\n",
       "    .dataframe tbody tr th {\n",
       "        vertical-align: top;\n",
       "    }\n",
       "\n",
       "    .dataframe thead th {\n",
       "        text-align: right;\n",
       "    }\n",
       "</style>\n",
       "<table border=\"1\" class=\"dataframe\">\n",
       "  <thead>\n",
       "    <tr style=\"text-align: right;\">\n",
       "      <th></th>\n",
       "      <th>CompanyName</th>\n",
       "      <th>myVarname</th>\n",
       "      <th>Environmental_intenrsity</th>\n",
       "    </tr>\n",
       "  </thead>\n",
       "  <tbody>\n",
       "    <tr>\n",
       "      <th>0</th>\n",
       "      <td>3M COMPANY</td>\n",
       "      <td>Env_intensity_2016</td>\n",
       "      <td>-0.0705</td>\n",
       "    </tr>\n",
       "    <tr>\n",
       "      <th>1</th>\n",
       "      <td>AA PLC</td>\n",
       "      <td>Env_intensity_2016</td>\n",
       "      <td>-0.0130</td>\n",
       "    </tr>\n",
       "    <tr>\n",
       "      <th>2</th>\n",
       "      <td>AAC TECHNOLOGIES HOLDINGS INCORPORATION</td>\n",
       "      <td>Env_intensity_2016</td>\n",
       "      <td>-0.0389</td>\n",
       "    </tr>\n",
       "    <tr>\n",
       "      <th>3</th>\n",
       "      <td>AAREAL BANK AG</td>\n",
       "      <td>Env_intensity_2016</td>\n",
       "      <td>-0.0024</td>\n",
       "    </tr>\n",
       "    <tr>\n",
       "      <th>4</th>\n",
       "      <td>AB SKF</td>\n",
       "      <td>Env_intensity_2016</td>\n",
       "      <td>-0.0215</td>\n",
       "    </tr>\n",
       "  </tbody>\n",
       "</table>\n",
       "</div>"
      ],
      "text/plain": [
       "                               CompanyName           myVarname  \\\n",
       "0                               3M COMPANY  Env_intensity_2016   \n",
       "1                                   AA PLC  Env_intensity_2016   \n",
       "2  AAC TECHNOLOGIES HOLDINGS INCORPORATION  Env_intensity_2016   \n",
       "3                           AAREAL BANK AG  Env_intensity_2016   \n",
       "4                                   AB SKF  Env_intensity_2016   \n",
       "\n",
       "   Environmental_intenrsity  \n",
       "0                   -0.0705  \n",
       "1                   -0.0130  \n",
       "2                   -0.0389  \n",
       "3                   -0.0024  \n",
       "4                   -0.0215  "
      ]
     },
     "execution_count": 20,
     "metadata": {},
     "output_type": "execute_result"
    }
   ],
   "source": [
    "df_melt2.head()"
   ]
  },
  {
   "cell_type": "code",
   "execution_count": 21,
   "id": "juvenile-adult",
   "metadata": {},
   "outputs": [
    {
     "name": "stdout",
     "output_type": "stream",
     "text": [
      "(833, 1)\n",
      "(833, 1)\n"
     ]
    }
   ],
   "source": [
    "ei_avg = df_melt2.groupby('CompanyName').mean().reset_index()\n",
    "X = ei_avg[['Environmental_intenrsity']]\n",
    "y = df_mod2[['Env_intensity_2019']]\n",
    "\n",
    "print(X.shape)\n",
    "print(y.shape)"
   ]
  },
  {
   "cell_type": "code",
   "execution_count": 22,
   "id": "hybrid-indiana",
   "metadata": {},
   "outputs": [
    {
     "name": "stdout",
     "output_type": "stream",
     "text": [
      "0.003850897612554996\n"
     ]
    }
   ],
   "source": [
    "x_train, x_test, y_train, y_test = train_test_split(X ,y, test_size = 0.2, random_state = 42)\n",
    "# train Linear Regression\n",
    "LRtrainer = LinearRegression()\n",
    "LRtrainer.fit(x_train,y_train)\n",
    "\n",
    "# mse for linear regression\n",
    "y_pred_lr = LRtrainer.predict(x_test)\n",
    "print(metrics.mean_squared_error(y_pred_lr, y_test))"
   ]
  },
  {
   "cell_type": "code",
   "execution_count": 23,
   "id": "funny-division",
   "metadata": {},
   "outputs": [
    {
     "name": "stdout",
     "output_type": "stream",
     "text": [
      "Model intercept:  [0.00319838]\n",
      "Model coefficients:  [[0.88787286]]\n"
     ]
    }
   ],
   "source": [
    "# display the parameters\n",
    "print('Model intercept: ', LRtrainer.intercept_)\n",
    "print('Model coefficients: ', LRtrainer.coef_)"
   ]
  },
  {
   "cell_type": "code",
   "execution_count": 24,
   "id": "continent-thinking",
   "metadata": {},
   "outputs": [
    {
     "name": "stdout",
     "output_type": "stream",
     "text": [
      "R2 score: 0.8949412998576045\n"
     ]
    }
   ],
   "source": [
    "print('R2 score:', metrics.r2_score(y_test, y_pred_lr))"
   ]
  },
  {
   "cell_type": "markdown",
   "id": "third-overall",
   "metadata": {
    "id": "EWMa_YonOz5P"
   },
   "source": [
    "### Model 3 - Yearly Industry Average\n",
    "\n",
    "For this model, the predictor will be the industry average for the respective year. \n",
    "There is no data for 2020, so we plan to predict 2019 environmental intensity.  Accordingly, we used 2018 and 2017 Industry data (past data) to predict 2019 evronmental intensity. "
   ]
  },
  {
   "cell_type": "code",
   "execution_count": 25,
   "id": "adapted-letter",
   "metadata": {},
   "outputs": [
    {
     "data": {
      "text/plain": [
       "<AxesSubplot:xlabel='Year', ylabel='count'>"
      ]
     },
     "execution_count": 25,
     "metadata": {},
     "output_type": "execute_result"
    },
    {
     "data": {
      "image/png": "[encoded data removed]",
      "text/plain": [
       "<Figure size 432x288 with 1 Axes>"
      ]
     },
     "metadata": {
      "needs_background": "light"
     },
     "output_type": "display_data"
    }
   ],
   "source": [
    "sns.countplot(x='Year', data = df)"
   ]
  },
  {
   "cell_type": "markdown",
   "id": "blond-insurance",
   "metadata": {},
   "source": [
    "The dataset does not contain consistent records throught out the years. Therefore, it could be possible we have data for one company in 2019 but not data from that company in 2018, 2017, etc. \n",
    "\n",
    "We will start by only using 2018 industry average as a feature to predict 2019 environmental intensity. First, we will subset the companies that we have 2018 data and get their 2019 environmental intensity."
   ]
  },
  {
   "cell_type": "code",
   "execution_count": 26,
   "id": "armed-anxiety",
   "metadata": {},
   "outputs": [
    {
     "data": {
      "text/html": [
       "<div>\n",
       "<style scoped>\n",
       "    .dataframe tbody tr th:only-of-type {\n",
       "        vertical-align: middle;\n",
       "    }\n",
       "\n",
       "    .dataframe tbody tr th {\n",
       "        vertical-align: top;\n",
       "    }\n",
       "\n",
       "    .dataframe thead th {\n",
       "        text-align: right;\n",
       "    }\n",
       "</style>\n",
       "<table border=\"1\" class=\"dataframe\">\n",
       "  <thead>\n",
       "    <tr style=\"text-align: right;\">\n",
       "      <th></th>\n",
       "      <th>Year_x</th>\n",
       "      <th>CompanyName</th>\n",
       "      <th>industry_avg_year_x</th>\n",
       "      <th>Year_y</th>\n",
       "      <th>Env_intensity_y</th>\n",
       "    </tr>\n",
       "  </thead>\n",
       "  <tbody>\n",
       "    <tr>\n",
       "      <th>0</th>\n",
       "      <td>2018</td>\n",
       "      <td>3M COMPANY</td>\n",
       "      <td>-0.229308</td>\n",
       "      <td>2019</td>\n",
       "      <td>-0.0641</td>\n",
       "    </tr>\n",
       "    <tr>\n",
       "      <th>1</th>\n",
       "      <td>2018</td>\n",
       "      <td>3SBIO INC</td>\n",
       "      <td>-0.027793</td>\n",
       "      <td>2019</td>\n",
       "      <td>-0.0340</td>\n",
       "    </tr>\n",
       "    <tr>\n",
       "      <th>2</th>\n",
       "      <td>2018</td>\n",
       "      <td>A.G.V. PRODUCTS CORP</td>\n",
       "      <td>-0.072254</td>\n",
       "      <td>2019</td>\n",
       "      <td>-0.0172</td>\n",
       "    </tr>\n",
       "    <tr>\n",
       "      <th>3</th>\n",
       "      <td>2018</td>\n",
       "      <td>AA PLC</td>\n",
       "      <td>-0.073777</td>\n",
       "      <td>2019</td>\n",
       "      <td>-0.0070</td>\n",
       "    </tr>\n",
       "    <tr>\n",
       "      <th>4</th>\n",
       "      <td>2018</td>\n",
       "      <td>AAC TECHNOLOGIES HOLDINGS INCORPORATION</td>\n",
       "      <td>-0.023555</td>\n",
       "      <td>2019</td>\n",
       "      <td>-0.1080</td>\n",
       "    </tr>\n",
       "  </tbody>\n",
       "</table>\n",
       "</div>"
      ],
      "text/plain": [
       "   Year_x                              CompanyName  industry_avg_year_x  \\\n",
       "0    2018                               3M COMPANY            -0.229308   \n",
       "1    2018                                3SBIO INC            -0.027793   \n",
       "2    2018                     A.G.V. PRODUCTS CORP            -0.072254   \n",
       "3    2018                                   AA PLC            -0.073777   \n",
       "4    2018  AAC TECHNOLOGIES HOLDINGS INCORPORATION            -0.023555   \n",
       "\n",
       "   Year_y  Env_intensity_y  \n",
       "0    2019          -0.0641  \n",
       "1    2019          -0.0340  \n",
       "2    2019          -0.0172  \n",
       "3    2019          -0.0070  \n",
       "4    2019          -0.1080  "
      ]
     },
     "execution_count": 26,
     "metadata": {},
     "output_type": "execute_result"
    }
   ],
   "source": [
    "df_2018 = df.loc[df.Year == 2018, ]\n",
    "df_2019 = df.loc[df.Year == 2019, ]\n",
    "df_mod3 = pd.merge(df_2018, df_2019, on='CompanyName',how='inner')\n",
    "df_mod3 = df_mod3[['Year_x','CompanyName','industry_avg_year_x','Year_y','Env_intensity_y']]\n",
    "df_mod3.head()"
   ]
  },
  {
   "cell_type": "code",
   "execution_count": 27,
   "id": "qualified-lemon",
   "metadata": {},
   "outputs": [
    {
     "name": "stdout",
     "output_type": "stream",
     "text": [
      "(1336, 1)\n",
      "(1336,)\n"
     ]
    }
   ],
   "source": [
    "X = df_mod3[['industry_avg_year_x']]\n",
    "y = df_mod3.iloc[:,4]\n",
    "print(X.shape)\n",
    "print(y.shape)"
   ]
  },
  {
   "cell_type": "code",
   "execution_count": 28,
   "id": "conservative-diversity",
   "metadata": {},
   "outputs": [
    {
     "name": "stdout",
     "output_type": "stream",
     "text": [
      "0.06598743409385224\n"
     ]
    }
   ],
   "source": [
    "x_train, x_test, y_train, y_test = train_test_split(X ,y, test_size = 0.2, random_state = 42)\n",
    "# train Linear Regression\n",
    "LRtrainer = LinearRegression()\n",
    "LRtrainer.fit(x_train,y_train)\n",
    "\n",
    "# mse for linear regression\n",
    "y_pred_lr = LRtrainer.predict(x_test)\n",
    "print(metrics.mean_squared_error(y_pred_lr, y_test))"
   ]
  },
  {
   "cell_type": "code",
   "execution_count": 29,
   "id": "piano-watershed",
   "metadata": {},
   "outputs": [
    {
     "name": "stdout",
     "output_type": "stream",
     "text": [
      "Model intercept:  0.0002669631900768382\n",
      "Model coefficients:  [0.91303819]\n"
     ]
    }
   ],
   "source": [
    "# display the parameters\n",
    "print('Model intercept: ', LRtrainer.intercept_)\n",
    "print('Model coefficients: ', LRtrainer.coef_)"
   ]
  },
  {
   "cell_type": "code",
   "execution_count": 30,
   "id": "young-research",
   "metadata": {},
   "outputs": [
    {
     "name": "stdout",
     "output_type": "stream",
     "text": [
      "R2 score: 0.36647102462935655\n"
     ]
    }
   ],
   "source": [
    "print('R2 score:', metrics.r2_score(y_test, y_pred_lr))"
   ]
  },
  {
   "cell_type": "markdown",
   "id": "equipped-psychology",
   "metadata": {},
   "source": [
    "Now, we are going to consider 2017 - 2018 to predict 2019"
   ]
  },
  {
   "cell_type": "code",
   "execution_count": 31,
   "id": "incomplete-portland",
   "metadata": {},
   "outputs": [],
   "source": [
    "df_2019=df[df['Year'] == 2019]\n",
    "df_2018=df[df['Year'] == 2018]\n",
    "df_2017=df[df['Year'] == 2017]"
   ]
  },
  {
   "cell_type": "code",
   "execution_count": 32,
   "id": "ideal-bible",
   "metadata": {},
   "outputs": [
    {
     "data": {
      "text/html": [
       "<div>\n",
       "<style scoped>\n",
       "    .dataframe tbody tr th:only-of-type {\n",
       "        vertical-align: middle;\n",
       "    }\n",
       "\n",
       "    .dataframe tbody tr th {\n",
       "        vertical-align: top;\n",
       "    }\n",
       "\n",
       "    .dataframe thead th {\n",
       "        text-align: right;\n",
       "    }\n",
       "</style>\n",
       "<table border=\"1\" class=\"dataframe\">\n",
       "  <thead>\n",
       "    <tr style=\"text-align: right;\">\n",
       "      <th></th>\n",
       "      <th>Year</th>\n",
       "      <th>CompanyName</th>\n",
       "      <th>Env_intensity2019</th>\n",
       "      <th>Ind_Yearavg2018</th>\n",
       "      <th>Ind_Yearavg2017</th>\n",
       "    </tr>\n",
       "  </thead>\n",
       "  <tbody>\n",
       "    <tr>\n",
       "      <th>0</th>\n",
       "      <td>2019</td>\n",
       "      <td>3M COMPANY</td>\n",
       "      <td>-0.0641</td>\n",
       "      <td>-0.229308</td>\n",
       "      <td>-0.225496</td>\n",
       "    </tr>\n",
       "    <tr>\n",
       "      <th>1</th>\n",
       "      <td>2019</td>\n",
       "      <td>3SBIO INC</td>\n",
       "      <td>-0.0340</td>\n",
       "      <td>-0.027793</td>\n",
       "      <td>-0.031771</td>\n",
       "    </tr>\n",
       "    <tr>\n",
       "      <th>2</th>\n",
       "      <td>2019</td>\n",
       "      <td>A.G.V. PRODUCTS CORP</td>\n",
       "      <td>-0.0172</td>\n",
       "      <td>-0.072254</td>\n",
       "      <td>-0.063618</td>\n",
       "    </tr>\n",
       "    <tr>\n",
       "      <th>3</th>\n",
       "      <td>2019</td>\n",
       "      <td>AA PLC</td>\n",
       "      <td>-0.0070</td>\n",
       "      <td>-0.073777</td>\n",
       "      <td>-0.096157</td>\n",
       "    </tr>\n",
       "    <tr>\n",
       "      <th>4</th>\n",
       "      <td>2019</td>\n",
       "      <td>AAC TECHNOLOGIES HOLDINGS INCORPORATION</td>\n",
       "      <td>-0.1080</td>\n",
       "      <td>-0.023555</td>\n",
       "      <td>-0.027254</td>\n",
       "    </tr>\n",
       "    <tr>\n",
       "      <th>...</th>\n",
       "      <td>...</td>\n",
       "      <td>...</td>\n",
       "      <td>...</td>\n",
       "      <td>...</td>\n",
       "      <td>...</td>\n",
       "    </tr>\n",
       "    <tr>\n",
       "      <th>1190</th>\n",
       "      <td>2019</td>\n",
       "      <td>ZEON CORPORATION</td>\n",
       "      <td>-0.0730</td>\n",
       "      <td>-0.218707</td>\n",
       "      <td>-0.275385</td>\n",
       "    </tr>\n",
       "    <tr>\n",
       "      <th>1191</th>\n",
       "      <td>2019</td>\n",
       "      <td>ZHEN DING TECHNOLOGY HOLDING LIMITED</td>\n",
       "      <td>-0.0602</td>\n",
       "      <td>-0.076812</td>\n",
       "      <td>-0.068294</td>\n",
       "    </tr>\n",
       "    <tr>\n",
       "      <th>1192</th>\n",
       "      <td>2019</td>\n",
       "      <td>ZIG SHENG INDUSTRIAL COMPANY LIMITED</td>\n",
       "      <td>-0.1615</td>\n",
       "      <td>-0.124750</td>\n",
       "      <td>-0.117456</td>\n",
       "    </tr>\n",
       "    <tr>\n",
       "      <th>1193</th>\n",
       "      <td>2019</td>\n",
       "      <td>ZORLU ENERJI AS</td>\n",
       "      <td>-0.3430</td>\n",
       "      <td>-1.012140</td>\n",
       "      <td>-0.578986</td>\n",
       "    </tr>\n",
       "    <tr>\n",
       "      <th>1194</th>\n",
       "      <td>2019</td>\n",
       "      <td>ZUMTOBEL AG</td>\n",
       "      <td>-0.0051</td>\n",
       "      <td>-0.020683</td>\n",
       "      <td>-0.036006</td>\n",
       "    </tr>\n",
       "  </tbody>\n",
       "</table>\n",
       "<p>1195 rows × 5 columns</p>\n",
       "</div>"
      ],
      "text/plain": [
       "      Year                              CompanyName  Env_intensity2019  \\\n",
       "0     2019                               3M COMPANY            -0.0641   \n",
       "1     2019                                3SBIO INC            -0.0340   \n",
       "2     2019                     A.G.V. PRODUCTS CORP            -0.0172   \n",
       "3     2019                                   AA PLC            -0.0070   \n",
       "4     2019  AAC TECHNOLOGIES HOLDINGS INCORPORATION            -0.1080   \n",
       "...    ...                                      ...                ...   \n",
       "1190  2019                         ZEON CORPORATION            -0.0730   \n",
       "1191  2019     ZHEN DING TECHNOLOGY HOLDING LIMITED            -0.0602   \n",
       "1192  2019     ZIG SHENG INDUSTRIAL COMPANY LIMITED            -0.1615   \n",
       "1193  2019                          ZORLU ENERJI AS            -0.3430   \n",
       "1194  2019                              ZUMTOBEL AG            -0.0051   \n",
       "\n",
       "      Ind_Yearavg2018  Ind_Yearavg2017  \n",
       "0           -0.229308        -0.225496  \n",
       "1           -0.027793        -0.031771  \n",
       "2           -0.072254        -0.063618  \n",
       "3           -0.073777        -0.096157  \n",
       "4           -0.023555        -0.027254  \n",
       "...               ...              ...  \n",
       "1190        -0.218707        -0.275385  \n",
       "1191        -0.076812        -0.068294  \n",
       "1192        -0.124750        -0.117456  \n",
       "1193        -1.012140        -0.578986  \n",
       "1194        -0.020683        -0.036006  \n",
       "\n",
       "[1195 rows x 5 columns]"
      ]
     },
     "execution_count": 32,
     "metadata": {},
     "output_type": "execute_result"
    }
   ],
   "source": [
    "df2019=df_2019[['Year','CompanyName','Env_intensity']] \n",
    "df2019.rename(columns={'Env_intensity': 'Env_intensity2019'}, inplace=True) \n",
    "df2018=df_2018[['CompanyName','industry_avg_year']]\n",
    "df2018.rename(columns={'industry_avg_year': 'Ind_Yearavg2018'}, inplace=True) \n",
    "df2017=df_2017[['CompanyName','industry_avg_year']]\n",
    "df2017.rename(columns={'industry_avg_year': 'Ind_Yearavg2017'}, inplace=True) \n",
    "mdl = pd.merge(df2019, df2018, on=[\"CompanyName\"])\n",
    "mdl1= pd.merge(mdl, df2017, on=[\"CompanyName\"])\n",
    "mdl1"
   ]
  },
  {
   "cell_type": "code",
   "execution_count": 33,
   "id": "classified-kenya",
   "metadata": {},
   "outputs": [
    {
     "name": "stdout",
     "output_type": "stream",
     "text": [
      "(1195, 2)\n",
      "(1195,)\n"
     ]
    }
   ],
   "source": [
    "X=mdl1[['Ind_Yearavg2018','Ind_Yearavg2017']]\n",
    "y=mdl1['Env_intensity2019']\n",
    "print(X.shape)\n",
    "print(y.shape)"
   ]
  },
  {
   "cell_type": "code",
   "execution_count": 34,
   "id": "portable-hacker",
   "metadata": {},
   "outputs": [],
   "source": [
    "regr = linear_model.LinearRegression()\n",
    "X_train, X_test, y_train, y_test = train_test_split(X,y,test_size=0.2,random_state=42)\n",
    "regr.fit(X_train, y_train)\n",
    "y_train_pred = np.exp(regr.predict(X_train))\n",
    "y_pred = np.exp(regr.predict(X_test))\n",
    "y_test = np.exp(y_test)"
   ]
  },
  {
   "cell_type": "code",
   "execution_count": 35,
   "id": "happy-blood",
   "metadata": {},
   "outputs": [
    {
     "name": "stdout",
     "output_type": "stream",
     "text": [
      "MSE train: 1.064, test: 0.038\n"
     ]
    }
   ],
   "source": [
    "print('MSE train: %.3f, test: %.3f' % (metrics.mean_squared_error(y_train, y_train_pred),\n",
    "                metrics.mean_squared_error(y_test, y_pred)))"
   ]
  },
  {
   "cell_type": "code",
   "execution_count": 36,
   "id": "hawaiian-dependence",
   "metadata": {},
   "outputs": [
    {
     "name": "stdout",
     "output_type": "stream",
     "text": [
      "Model intercept:  0.0005763983280114432\n",
      "Model coefficients:  [ 0.94555899 -0.06948928]\n"
     ]
    }
   ],
   "source": [
    "# display the parameters\n",
    "print('Model intercept: ', regr.intercept_)\n",
    "print('Model coefficients: ', regr.coef_)"
   ]
  },
  {
   "cell_type": "code",
   "execution_count": 37,
   "id": "disabled-sussex",
   "metadata": {},
   "outputs": [
    {
     "name": "stdout",
     "output_type": "stream",
     "text": [
      "R2 score: 0.26873239153605133\n"
     ]
    }
   ],
   "source": [
    "print('R2 score:', metrics.r2_score(y_test, y_pred))"
   ]
  },
  {
   "cell_type": "markdown",
   "id": "freelance-cookie",
   "metadata": {},
   "source": [
    "Using the industry environmental average for 2017 and 2018 only explained 27% of the variation in the dataset. Let's see what happens including 2016-2018 to predict 2019"
   ]
  },
  {
   "cell_type": "code",
   "execution_count": 38,
   "id": "spoken-industry",
   "metadata": {},
   "outputs": [],
   "source": [
    "df_2016 = df.loc[df.Year == 2016, ]\n",
    "df_2017 = df.loc[df.Year == 2017, ]\n",
    "df1 = df_2016.merge(df_2017, how='inner', on='CompanyName', suffixes=('_2016', '_2017'))\n",
    "df1 = df1.merge(df_2018, how='inner', on='CompanyName')\n",
    "df1 = df1.merge(df_2019, how='inner', on='CompanyName', suffixes=('_2018', '_2019'))\n",
    "df1 = df1[['Year_2016','industry_avg_year_2016','Year_2017','industry_avg_year_2017','Year_2018','industry_avg_year_2018','Year_2019','Env_intensity_2019']]"
   ]
  },
  {
   "cell_type": "code",
   "execution_count": 39,
   "id": "recognized-think",
   "metadata": {},
   "outputs": [
    {
     "name": "stdout",
     "output_type": "stream",
     "text": [
      "(833, 3)\n",
      "(833,)\n"
     ]
    }
   ],
   "source": [
    "X = df1[['industry_avg_year_2016','industry_avg_year_2017','industry_avg_year_2018']]\n",
    "y = df1.iloc[:,7]\n",
    "print(X.shape)\n",
    "print(y.shape)"
   ]
  },
  {
   "cell_type": "code",
   "execution_count": 40,
   "id": "suspected-cancer",
   "metadata": {
    "id": "McApUnC09uuq"
   },
   "outputs": [],
   "source": [
    "regr = linear_model.LinearRegression()\n",
    "X_train, X_test, y_train, y_test = train_test_split(X,y,test_size=0.2,random_state=42)\n",
    "regr.fit(X_train, y_train)\n",
    "y_train_pred = regr.predict(X_train)\n",
    "y_pred = regr.predict(X_test)"
   ]
  },
  {
   "cell_type": "code",
   "execution_count": 41,
   "id": "distributed-chambers",
   "metadata": {
    "colab": {
     "base_uri": "https://localhost:8080/"
    },
    "id": "Zdkb0Jff-2EL",
    "outputId": "bfdbdd7f-21ca-46f2-db47-e818ce95e6bb"
   },
   "outputs": [
    {
     "name": "stdout",
     "output_type": "stream",
     "text": [
      "MSE train: 0.034, test: 0.019\n"
     ]
    }
   ],
   "source": [
    "print('MSE train: %.3f, test: %.3f' % (metrics.mean_squared_error(y_train, y_train_pred),\n",
    "                metrics.mean_squared_error(y_test, y_pred)))"
   ]
  },
  {
   "cell_type": "code",
   "execution_count": 42,
   "id": "intellectual-gazette",
   "metadata": {},
   "outputs": [
    {
     "name": "stdout",
     "output_type": "stream",
     "text": [
      "Model intercept:  0.0007731215443031597\n",
      "Model coefficients:  [ 0.63837237  0.20819909 -0.05038564]\n"
     ]
    }
   ],
   "source": [
    "# display the parameters\n",
    "print('Model intercept: ', regr.intercept_)\n",
    "print('Model coefficients: ', regr.coef_)"
   ]
  },
  {
   "cell_type": "code",
   "execution_count": 43,
   "id": "subtle-optimum",
   "metadata": {},
   "outputs": [
    {
     "name": "stdout",
     "output_type": "stream",
     "text": [
      "R2 score: 0.47785720627820294\n"
     ]
    }
   ],
   "source": [
    "print('R2 score:', metrics.r2_score(y_test, y_pred))"
   ]
  },
  {
   "cell_type": "markdown",
   "id": "sized-syria",
   "metadata": {
    "id": "Ah20qAC3_Smc"
   },
   "source": [
    "### Model 4 -Yearly Industry Indicator\n",
    "\n",
    "For this model, we will consider the yearly industry indicator from past years to predict the company 2019 environmental intensity. \n",
    "\n",
    "We are going to start from 2017-2018 to predict 2019. "
   ]
  },
  {
   "cell_type": "code",
   "execution_count": 44,
   "id": "reasonable-active",
   "metadata": {},
   "outputs": [
    {
     "data": {
      "text/html": [
       "<div>\n",
       "<style scoped>\n",
       "    .dataframe tbody tr th:only-of-type {\n",
       "        vertical-align: middle;\n",
       "    }\n",
       "\n",
       "    .dataframe tbody tr th {\n",
       "        vertical-align: top;\n",
       "    }\n",
       "\n",
       "    .dataframe thead th {\n",
       "        text-align: right;\n",
       "    }\n",
       "</style>\n",
       "<table border=\"1\" class=\"dataframe\">\n",
       "  <thead>\n",
       "    <tr style=\"text-align: right;\">\n",
       "      <th></th>\n",
       "      <th>Year</th>\n",
       "      <th>CompanyName</th>\n",
       "      <th>Env_intensity2019</th>\n",
       "      <th>Ind_Indicator_2018</th>\n",
       "      <th>Ind_Indicator_2017</th>\n",
       "    </tr>\n",
       "  </thead>\n",
       "  <tbody>\n",
       "    <tr>\n",
       "      <th>0</th>\n",
       "      <td>2019</td>\n",
       "      <td>3M COMPANY</td>\n",
       "      <td>-0.0641</td>\n",
       "      <td>1</td>\n",
       "      <td>1</td>\n",
       "    </tr>\n",
       "    <tr>\n",
       "      <th>1</th>\n",
       "      <td>2019</td>\n",
       "      <td>3SBIO INC</td>\n",
       "      <td>-0.0340</td>\n",
       "      <td>-1</td>\n",
       "      <td>1</td>\n",
       "    </tr>\n",
       "    <tr>\n",
       "      <th>2</th>\n",
       "      <td>2019</td>\n",
       "      <td>A.G.V. PRODUCTS CORP</td>\n",
       "      <td>-0.0172</td>\n",
       "      <td>1</td>\n",
       "      <td>1</td>\n",
       "    </tr>\n",
       "    <tr>\n",
       "      <th>3</th>\n",
       "      <td>2019</td>\n",
       "      <td>AA PLC</td>\n",
       "      <td>-0.0070</td>\n",
       "      <td>1</td>\n",
       "      <td>1</td>\n",
       "    </tr>\n",
       "    <tr>\n",
       "      <th>4</th>\n",
       "      <td>2019</td>\n",
       "      <td>AAC TECHNOLOGIES HOLDINGS INCORPORATION</td>\n",
       "      <td>-0.1080</td>\n",
       "      <td>-1</td>\n",
       "      <td>-1</td>\n",
       "    </tr>\n",
       "    <tr>\n",
       "      <th>...</th>\n",
       "      <td>...</td>\n",
       "      <td>...</td>\n",
       "      <td>...</td>\n",
       "      <td>...</td>\n",
       "      <td>...</td>\n",
       "    </tr>\n",
       "    <tr>\n",
       "      <th>1190</th>\n",
       "      <td>2019</td>\n",
       "      <td>ZEON CORPORATION</td>\n",
       "      <td>-0.0730</td>\n",
       "      <td>1</td>\n",
       "      <td>1</td>\n",
       "    </tr>\n",
       "    <tr>\n",
       "      <th>1191</th>\n",
       "      <td>2019</td>\n",
       "      <td>ZHEN DING TECHNOLOGY HOLDING LIMITED</td>\n",
       "      <td>-0.0602</td>\n",
       "      <td>1</td>\n",
       "      <td>1</td>\n",
       "    </tr>\n",
       "    <tr>\n",
       "      <th>1192</th>\n",
       "      <td>2019</td>\n",
       "      <td>ZIG SHENG INDUSTRIAL COMPANY LIMITED</td>\n",
       "      <td>-0.1615</td>\n",
       "      <td>-1</td>\n",
       "      <td>-1</td>\n",
       "    </tr>\n",
       "    <tr>\n",
       "      <th>1193</th>\n",
       "      <td>2019</td>\n",
       "      <td>ZORLU ENERJI AS</td>\n",
       "      <td>-0.3430</td>\n",
       "      <td>1</td>\n",
       "      <td>1</td>\n",
       "    </tr>\n",
       "    <tr>\n",
       "      <th>1194</th>\n",
       "      <td>2019</td>\n",
       "      <td>ZUMTOBEL AG</td>\n",
       "      <td>-0.0051</td>\n",
       "      <td>1</td>\n",
       "      <td>1</td>\n",
       "    </tr>\n",
       "  </tbody>\n",
       "</table>\n",
       "<p>1195 rows × 5 columns</p>\n",
       "</div>"
      ],
      "text/plain": [
       "      Year                              CompanyName  Env_intensity2019  \\\n",
       "0     2019                               3M COMPANY            -0.0641   \n",
       "1     2019                                3SBIO INC            -0.0340   \n",
       "2     2019                     A.G.V. PRODUCTS CORP            -0.0172   \n",
       "3     2019                                   AA PLC            -0.0070   \n",
       "4     2019  AAC TECHNOLOGIES HOLDINGS INCORPORATION            -0.1080   \n",
       "...    ...                                      ...                ...   \n",
       "1190  2019                         ZEON CORPORATION            -0.0730   \n",
       "1191  2019     ZHEN DING TECHNOLOGY HOLDING LIMITED            -0.0602   \n",
       "1192  2019     ZIG SHENG INDUSTRIAL COMPANY LIMITED            -0.1615   \n",
       "1193  2019                          ZORLU ENERJI AS            -0.3430   \n",
       "1194  2019                              ZUMTOBEL AG            -0.0051   \n",
       "\n",
       "      Ind_Indicator_2018  Ind_Indicator_2017  \n",
       "0                      1                   1  \n",
       "1                     -1                   1  \n",
       "2                      1                   1  \n",
       "3                      1                   1  \n",
       "4                     -1                  -1  \n",
       "...                  ...                 ...  \n",
       "1190                   1                   1  \n",
       "1191                   1                   1  \n",
       "1192                  -1                  -1  \n",
       "1193                   1                   1  \n",
       "1194                   1                   1  \n",
       "\n",
       "[1195 rows x 5 columns]"
      ]
     },
     "execution_count": 44,
     "metadata": {},
     "output_type": "execute_result"
    }
   ],
   "source": [
    "df_2019=df[df['Year'] == 2019]\n",
    "df_2018=df[df['Year'] == 2018]\n",
    "df_2017=df[df['Year'] == 2017]\n",
    "\n",
    "df2019=df_2019[['Year','CompanyName','Env_intensity']] \n",
    "df2019.rename(columns={'Env_intensity': 'Env_intensity2019'}, inplace=True) \n",
    "df2018=df_2018[['CompanyName','Industry_indicator_year']]\n",
    "df2018.rename(columns={'Industry_indicator_year': 'Ind_Indicator_2018'}, inplace=True) \n",
    "df2017=df_2017[['CompanyName','Industry_indicator_year']]\n",
    "df2017.rename(columns={'Industry_indicator_year': 'Ind_Indicator_2017'}, inplace=True) \n",
    "mdl4 = pd.merge(df2019, df2018, on=[\"CompanyName\"])\n",
    "mdl4= pd.merge(mdl4, df2017, on=[\"CompanyName\"])\n",
    "mdl4"
   ]
  },
  {
   "cell_type": "code",
   "execution_count": 45,
   "id": "premier-artwork",
   "metadata": {
    "id": "GZFdh9yRASsa"
   },
   "outputs": [
    {
     "name": "stdout",
     "output_type": "stream",
     "text": [
      "(1195, 2)\n",
      "(1195,)\n"
     ]
    }
   ],
   "source": [
    "X=mdl4[['Ind_Indicator_2017','Ind_Indicator_2018']]\n",
    "y=mdl4['Env_intensity2019']\n",
    "print(X.shape)\n",
    "print(y.shape)"
   ]
  },
  {
   "cell_type": "code",
   "execution_count": 46,
   "id": "functional-circulation",
   "metadata": {
    "id": "9Q83jyJz_Smj"
   },
   "outputs": [],
   "source": [
    "regr = linear_model.LinearRegression()\n",
    "X_train, X_test, y_train, y_test = train_test_split(X,y,test_size=0.2,random_state=42)\n",
    "regr.fit(X_train, y_train)\n",
    "y_train_pred = regr.predict(X_train)\n",
    "y_pred = regr.predict(X_test)"
   ]
  },
  {
   "cell_type": "code",
   "execution_count": 47,
   "id": "drawn-equality",
   "metadata": {
    "colab": {
     "base_uri": "https://localhost:8080/"
    },
    "id": "r9LByzk-_Smk",
    "outputId": "c83f6f92-66d4-4c3f-a2ef-91a6767739a0"
   },
   "outputs": [
    {
     "name": "stdout",
     "output_type": "stream",
     "text": [
      "MSE train: 0.048, test: 0.062\n"
     ]
    }
   ],
   "source": [
    "print('MSE train: %.3f, test: %.3f' % (metrics.mean_squared_error(y_train, y_train_pred),\n",
    "                metrics.mean_squared_error(y_test, y_pred)))"
   ]
  },
  {
   "cell_type": "code",
   "execution_count": 48,
   "id": "premium-energy",
   "metadata": {},
   "outputs": [
    {
     "name": "stdout",
     "output_type": "stream",
     "text": [
      "Model intercept:  -0.15356410683376787\n",
      "Model coefficients:  [0.03709691 0.07830873]\n"
     ]
    }
   ],
   "source": [
    "# display the parameters\n",
    "print('Model intercept: ', regr.intercept_)\n",
    "print('Model coefficients: ', regr.coef_)"
   ]
  },
  {
   "cell_type": "code",
   "execution_count": 49,
   "id": "traditional-cocktail",
   "metadata": {},
   "outputs": [
    {
     "name": "stdout",
     "output_type": "stream",
     "text": [
      "R2 score: 0.21186363020947374\n"
     ]
    }
   ],
   "source": [
    "print('R2 score:', metrics.r2_score(y_test, y_pred))"
   ]
  },
  {
   "cell_type": "markdown",
   "id": "motivated-syria",
   "metadata": {},
   "source": [
    "The industry indicator isn't a good predictor for environmental intensity. \n",
    "\n",
    "Let's try including 2016-2018 to predict 2019 environmental intensity. "
   ]
  },
  {
   "cell_type": "code",
   "execution_count": 50,
   "id": "liable-oxford",
   "metadata": {},
   "outputs": [
    {
     "data": {
      "text/html": [
       "<div>\n",
       "<style scoped>\n",
       "    .dataframe tbody tr th:only-of-type {\n",
       "        vertical-align: middle;\n",
       "    }\n",
       "\n",
       "    .dataframe tbody tr th {\n",
       "        vertical-align: top;\n",
       "    }\n",
       "\n",
       "    .dataframe thead th {\n",
       "        text-align: right;\n",
       "    }\n",
       "</style>\n",
       "<table border=\"1\" class=\"dataframe\">\n",
       "  <thead>\n",
       "    <tr style=\"text-align: right;\">\n",
       "      <th></th>\n",
       "      <th>Year</th>\n",
       "      <th>CompanyName</th>\n",
       "      <th>Env_intensity2019</th>\n",
       "      <th>Ind_Indicator_2018</th>\n",
       "      <th>Ind_Indicator_2017</th>\n",
       "      <th>Ind_Indicator_2016</th>\n",
       "    </tr>\n",
       "  </thead>\n",
       "  <tbody>\n",
       "    <tr>\n",
       "      <th>0</th>\n",
       "      <td>2019</td>\n",
       "      <td>3M COMPANY</td>\n",
       "      <td>-0.0641</td>\n",
       "      <td>1</td>\n",
       "      <td>1</td>\n",
       "      <td>1</td>\n",
       "    </tr>\n",
       "    <tr>\n",
       "      <th>1</th>\n",
       "      <td>2019</td>\n",
       "      <td>AA PLC</td>\n",
       "      <td>-0.0070</td>\n",
       "      <td>1</td>\n",
       "      <td>1</td>\n",
       "      <td>1</td>\n",
       "    </tr>\n",
       "    <tr>\n",
       "      <th>2</th>\n",
       "      <td>2019</td>\n",
       "      <td>AAC TECHNOLOGIES HOLDINGS INCORPORATION</td>\n",
       "      <td>-0.1080</td>\n",
       "      <td>-1</td>\n",
       "      <td>-1</td>\n",
       "      <td>-1</td>\n",
       "    </tr>\n",
       "    <tr>\n",
       "      <th>3</th>\n",
       "      <td>2019</td>\n",
       "      <td>AAREAL BANK AG</td>\n",
       "      <td>-0.0015</td>\n",
       "      <td>1</td>\n",
       "      <td>1</td>\n",
       "      <td>1</td>\n",
       "    </tr>\n",
       "    <tr>\n",
       "      <th>4</th>\n",
       "      <td>2019</td>\n",
       "      <td>AB SKF</td>\n",
       "      <td>-0.0200</td>\n",
       "      <td>1</td>\n",
       "      <td>1</td>\n",
       "      <td>1</td>\n",
       "    </tr>\n",
       "  </tbody>\n",
       "</table>\n",
       "</div>"
      ],
      "text/plain": [
       "   Year                              CompanyName  Env_intensity2019  \\\n",
       "0  2019                               3M COMPANY            -0.0641   \n",
       "1  2019                                   AA PLC            -0.0070   \n",
       "2  2019  AAC TECHNOLOGIES HOLDINGS INCORPORATION            -0.1080   \n",
       "3  2019                           AAREAL BANK AG            -0.0015   \n",
       "4  2019                                   AB SKF            -0.0200   \n",
       "\n",
       "   Ind_Indicator_2018  Ind_Indicator_2017  Ind_Indicator_2016  \n",
       "0                   1                   1                   1  \n",
       "1                   1                   1                   1  \n",
       "2                  -1                  -1                  -1  \n",
       "3                   1                   1                   1  \n",
       "4                   1                   1                   1  "
      ]
     },
     "execution_count": 50,
     "metadata": {},
     "output_type": "execute_result"
    }
   ],
   "source": [
    "df_2016=df[df['Year'] == 2016]\n",
    "df2016=df_2016[['CompanyName','Industry_indicator_year']]\n",
    "df2016.rename(columns={'Industry_indicator_year': 'Ind_Indicator_2016'}, inplace=True) \n",
    "\n",
    "mdl4 = pd.merge(df2019, df2018, on=[\"CompanyName\"])\n",
    "mdl4= pd.merge(mdl4, df2017, on=[\"CompanyName\"])\n",
    "mdl4= pd.merge(mdl4, df2016, on=[\"CompanyName\"])\n",
    "mdl4.head()"
   ]
  },
  {
   "cell_type": "code",
   "execution_count": 51,
   "id": "located-onion",
   "metadata": {},
   "outputs": [
    {
     "name": "stdout",
     "output_type": "stream",
     "text": [
      "(833, 3)\n",
      "(833,)\n"
     ]
    }
   ],
   "source": [
    "X = mdl4[['Ind_Indicator_2016','Ind_Indicator_2017','Ind_Indicator_2018']]\n",
    "y = mdl4['Env_intensity2019']\n",
    "print(X.shape)\n",
    "print(y.shape)"
   ]
  },
  {
   "cell_type": "code",
   "execution_count": 52,
   "id": "naughty-mirror",
   "metadata": {},
   "outputs": [
    {
     "name": "stdout",
     "output_type": "stream",
     "text": [
      "MSE train: 0.045, test: 0.029\n"
     ]
    }
   ],
   "source": [
    "regr = linear_model.LinearRegression()\n",
    "X_train, X_test, y_train, y_test = train_test_split(X,y,test_size=0.2,random_state=42)\n",
    "regr.fit(X_train, y_train)\n",
    "y_train_pred = regr.predict(X_train)\n",
    "y_pred = regr.predict(X_test)\n",
    "\n",
    "print('MSE train: %.3f, test: %.3f' % (metrics.mean_squared_error(y_train, y_train_pred),\n",
    "                metrics.mean_squared_error(y_test, y_pred)))"
   ]
  },
  {
   "cell_type": "code",
   "execution_count": 53,
   "id": "russian-input",
   "metadata": {},
   "outputs": [
    {
     "name": "stdout",
     "output_type": "stream",
     "text": [
      "Model intercept:  -0.14239259821278621\n",
      "Model coefficients:  [0.03012061 0.0131589  0.0676593 ]\n"
     ]
    }
   ],
   "source": [
    "# display the parameters\n",
    "print('Model intercept: ', regr.intercept_)\n",
    "print('Model coefficients: ', regr.coef_)"
   ]
  },
  {
   "cell_type": "code",
   "execution_count": 54,
   "id": "local-rehabilitation",
   "metadata": {},
   "outputs": [
    {
     "name": "stdout",
     "output_type": "stream",
     "text": [
      "R2 score: 0.21924492824372865\n"
     ]
    }
   ],
   "source": [
    "print('R2 score:', metrics.r2_score(y_test, y_pred))"
   ]
  },
  {
   "cell_type": "markdown",
   "id": "sweet-future",
   "metadata": {
    "id": "8rCtCNrTBbLN"
   },
   "source": [
    "### Model 5 -Growth Rate"
   ]
  },
  {
   "cell_type": "code",
   "execution_count": 55,
   "id": "alone-flour",
   "metadata": {},
   "outputs": [
    {
     "data": {
      "text/html": [
       "<div>\n",
       "<style scoped>\n",
       "    .dataframe tbody tr th:only-of-type {\n",
       "        vertical-align: middle;\n",
       "    }\n",
       "\n",
       "    .dataframe tbody tr th {\n",
       "        vertical-align: top;\n",
       "    }\n",
       "\n",
       "    .dataframe thead th {\n",
       "        text-align: right;\n",
       "    }\n",
       "</style>\n",
       "<table border=\"1\" class=\"dataframe\">\n",
       "  <thead>\n",
       "    <tr style=\"text-align: right;\">\n",
       "      <th></th>\n",
       "      <th>Year</th>\n",
       "      <th>CompanyName</th>\n",
       "      <th>Env_intensity2019</th>\n",
       "      <th>Environmental_Growth_2018</th>\n",
       "      <th>Environmental_Growth_2017</th>\n",
       "    </tr>\n",
       "  </thead>\n",
       "  <tbody>\n",
       "    <tr>\n",
       "      <th>0</th>\n",
       "      <td>2019</td>\n",
       "      <td>3M COMPANY</td>\n",
       "      <td>-0.0641</td>\n",
       "      <td>7.575758</td>\n",
       "      <td>-6.382979</td>\n",
       "    </tr>\n",
       "    <tr>\n",
       "      <th>1</th>\n",
       "      <td>2019</td>\n",
       "      <td>3SBIO INC</td>\n",
       "      <td>-0.0340</td>\n",
       "      <td>50.672646</td>\n",
       "      <td>NaN</td>\n",
       "    </tr>\n",
       "    <tr>\n",
       "      <th>2</th>\n",
       "      <td>2019</td>\n",
       "      <td>A.G.V. PRODUCTS CORP</td>\n",
       "      <td>-0.0172</td>\n",
       "      <td>-26.315789</td>\n",
       "      <td>NaN</td>\n",
       "    </tr>\n",
       "    <tr>\n",
       "      <th>3</th>\n",
       "      <td>2019</td>\n",
       "      <td>AA PLC</td>\n",
       "      <td>-0.0070</td>\n",
       "      <td>-5.645161</td>\n",
       "      <td>-4.615385</td>\n",
       "    </tr>\n",
       "    <tr>\n",
       "      <th>4</th>\n",
       "      <td>2019</td>\n",
       "      <td>AAC TECHNOLOGIES HOLDINGS INCORPORATION</td>\n",
       "      <td>-0.1080</td>\n",
       "      <td>35.702200</td>\n",
       "      <td>51.928021</td>\n",
       "    </tr>\n",
       "    <tr>\n",
       "      <th>...</th>\n",
       "      <td>...</td>\n",
       "      <td>...</td>\n",
       "      <td>...</td>\n",
       "      <td>...</td>\n",
       "      <td>...</td>\n",
       "    </tr>\n",
       "    <tr>\n",
       "      <th>1190</th>\n",
       "      <td>2019</td>\n",
       "      <td>ZEON CORPORATION</td>\n",
       "      <td>-0.0730</td>\n",
       "      <td>-1.272265</td>\n",
       "      <td>NaN</td>\n",
       "    </tr>\n",
       "    <tr>\n",
       "      <th>1191</th>\n",
       "      <td>2019</td>\n",
       "      <td>ZHEN DING TECHNOLOGY HOLDING LIMITED</td>\n",
       "      <td>-0.0602</td>\n",
       "      <td>1.990050</td>\n",
       "      <td>NaN</td>\n",
       "    </tr>\n",
       "    <tr>\n",
       "      <th>1192</th>\n",
       "      <td>2019</td>\n",
       "      <td>ZIG SHENG INDUSTRIAL COMPANY LIMITED</td>\n",
       "      <td>-0.1615</td>\n",
       "      <td>-4.232425</td>\n",
       "      <td>-20.251716</td>\n",
       "    </tr>\n",
       "    <tr>\n",
       "      <th>1193</th>\n",
       "      <td>2019</td>\n",
       "      <td>ZORLU ENERJI AS</td>\n",
       "      <td>-0.3430</td>\n",
       "      <td>48.046057</td>\n",
       "      <td>-81.144737</td>\n",
       "    </tr>\n",
       "    <tr>\n",
       "      <th>1194</th>\n",
       "      <td>2019</td>\n",
       "      <td>ZUMTOBEL AG</td>\n",
       "      <td>-0.0051</td>\n",
       "      <td>2.380952</td>\n",
       "      <td>-19.230769</td>\n",
       "    </tr>\n",
       "  </tbody>\n",
       "</table>\n",
       "<p>1195 rows × 5 columns</p>\n",
       "</div>"
      ],
      "text/plain": [
       "      Year                              CompanyName  Env_intensity2019  \\\n",
       "0     2019                               3M COMPANY            -0.0641   \n",
       "1     2019                                3SBIO INC            -0.0340   \n",
       "2     2019                     A.G.V. PRODUCTS CORP            -0.0172   \n",
       "3     2019                                   AA PLC            -0.0070   \n",
       "4     2019  AAC TECHNOLOGIES HOLDINGS INCORPORATION            -0.1080   \n",
       "...    ...                                      ...                ...   \n",
       "1190  2019                         ZEON CORPORATION            -0.0730   \n",
       "1191  2019     ZHEN DING TECHNOLOGY HOLDING LIMITED            -0.0602   \n",
       "1192  2019     ZIG SHENG INDUSTRIAL COMPANY LIMITED            -0.1615   \n",
       "1193  2019                          ZORLU ENERJI AS            -0.3430   \n",
       "1194  2019                              ZUMTOBEL AG            -0.0051   \n",
       "\n",
       "      Environmental_Growth_2018  Environmental_Growth_2017  \n",
       "0                      7.575758                  -6.382979  \n",
       "1                     50.672646                        NaN  \n",
       "2                    -26.315789                        NaN  \n",
       "3                     -5.645161                  -4.615385  \n",
       "4                     35.702200                  51.928021  \n",
       "...                         ...                        ...  \n",
       "1190                  -1.272265                        NaN  \n",
       "1191                   1.990050                        NaN  \n",
       "1192                  -4.232425                 -20.251716  \n",
       "1193                  48.046057                 -81.144737  \n",
       "1194                   2.380952                 -19.230769  \n",
       "\n",
       "[1195 rows x 5 columns]"
      ]
     },
     "execution_count": 55,
     "metadata": {},
     "output_type": "execute_result"
    }
   ],
   "source": [
    "df_2019=df[df['Year'] == 2019]\n",
    "df_2018=df[df['Year'] == 2018]\n",
    "df_2017=df[df['Year'] == 2017]\n",
    "\n",
    "df2019=df_2019[['Year','CompanyName','Env_intensity']] \n",
    "df2019.rename(columns={'Env_intensity': 'Env_intensity2019'}, inplace=True) \n",
    "df2018=df_2018[['CompanyName','Environmental_Growth']]\n",
    "df2018.rename(columns={'Environmental_Growth': 'Environmental_Growth_2018'}, inplace=True) \n",
    "df2017=df_2017[['CompanyName','Environmental_Growth']]\n",
    "df2017.rename(columns={'Environmental_Growth': 'Environmental_Growth_2017'}, inplace=True) \n",
    "mdl5 = pd.merge(df2019, df2018, on=[\"CompanyName\"])\n",
    "mdl5= pd.merge(mdl5, df2017, on=[\"CompanyName\"])\n",
    "mdl5"
   ]
  },
  {
   "cell_type": "code",
   "execution_count": 56,
   "id": "hybrid-smart",
   "metadata": {
    "id": "Ih02zVmpBbLY"
   },
   "outputs": [
    {
     "name": "stdout",
     "output_type": "stream",
     "text": [
      "(1195, 2)\n",
      "(1195,)\n"
     ]
    }
   ],
   "source": [
    "X=mdl5[['Environmental_Growth_2017','Environmental_Growth_2018']]\n",
    "y=mdl5['Env_intensity2019']\n",
    "print(X.shape)\n",
    "print(y.shape)"
   ]
  },
  {
   "cell_type": "code",
   "execution_count": 57,
   "id": "falling-greek",
   "metadata": {
    "id": "9cWFYPvJBuaC"
   },
   "outputs": [],
   "source": [
    "# X_train, X_test, y_train, y_test = train_test_split(X, y, test_size=0.20, random_state=42)\n",
    "# reg = LinearRegression().fit(X_train, y_train)\n",
    "\n",
    "# y_train_pred = reg.predict(X_train)\n",
    "# y_pred = reg.predict(X_test)"
   ]
  },
  {
   "cell_type": "code",
   "execution_count": 58,
   "id": "talented-membership",
   "metadata": {
    "colab": {
     "base_uri": "https://localhost:8080/"
    },
    "id": "2AGmOUaZBbLZ",
    "outputId": "1dcf7cf3-454e-41b3-9895-e9a8fb009022"
   },
   "outputs": [],
   "source": [
    "# print('MSE train: %.3f, test: %.3f' % (metrics.mean_squared_error(y_train, y_train_pred),\n",
    "#                 metrics.mean_squared_error(y_test, y_pred)))"
   ]
  },
  {
   "cell_type": "code",
   "execution_count": 66,
   "id": "confident-cannon",
   "metadata": {},
   "outputs": [
    {
     "data": {
      "text/plain": [
       "['3M COMPANY',\n",
       " '3SBIO INC',\n",
       " '888 HOLDINGS PLC',\n",
       " 'A Brown Company, Inc.',\n",
       " 'A.G.V. PRODUCTS CORP']"
      ]
     },
     "execution_count": 66,
     "metadata": {},
     "output_type": "execute_result"
    }
   ],
   "source": [
    "com = df2019.CompanyName.unique().tolist()\n",
    "com[:5]"
   ]
  },
  {
   "cell_type": "code",
   "execution_count": 69,
   "id": "musical-edgar",
   "metadata": {},
   "outputs": [
    {
     "name": "stdout",
     "output_type": "stream",
     "text": [
      "<class 'pandas.core.frame.DataFrame'>\n",
      "Int64Index: 14515 entries, 0 to 14514\n",
      "Data columns (total 11 columns):\n",
      " #   Column                         Non-Null Count  Dtype  \n",
      "---  ------                         --------------  -----  \n",
      " 0   Year                           14515 non-null  int64  \n",
      " 1   CompanyName                    14515 non-null  object \n",
      " 2   Country                        14515 non-null  object \n",
      " 3   Industry(Exiobase)             14515 non-null  object \n",
      " 4   EnvironmentalIntensity(Sales)  14515 non-null  object \n",
      " 5   Env_intensity                  14515 non-null  float64\n",
      " 6   industry_avg                   14515 non-null  float64\n",
      " 7   Industry_indicator             14515 non-null  int64  \n",
      " 8   industry_avg_year              14515 non-null  float64\n",
      " 9   Industry_indicator_year        14515 non-null  int64  \n",
      " 10  Environmental_Growth           10245 non-null  float64\n",
      "dtypes: float64(4), int64(3), object(4)\n",
      "memory usage: 1.8+ MB\n"
     ]
    }
   ],
   "source": [
    "df.info()"
   ]
  },
  {
   "cell_type": "code",
   "execution_count": 68,
   "id": "interior-lambda",
   "metadata": {},
   "outputs": [
    {
     "data": {
      "text/html": [
       "<div>\n",
       "<style scoped>\n",
       "    .dataframe tbody tr th:only-of-type {\n",
       "        vertical-align: middle;\n",
       "    }\n",
       "\n",
       "    .dataframe tbody tr th {\n",
       "        vertical-align: top;\n",
       "    }\n",
       "\n",
       "    .dataframe thead th {\n",
       "        text-align: right;\n",
       "    }\n",
       "</style>\n",
       "<table border=\"1\" class=\"dataframe\">\n",
       "  <thead>\n",
       "    <tr style=\"text-align: right;\">\n",
       "      <th></th>\n",
       "      <th>Year</th>\n",
       "      <th>CompanyName</th>\n",
       "      <th>Country</th>\n",
       "      <th>Industry(Exiobase)</th>\n",
       "      <th>EnvironmentalIntensity(Sales)</th>\n",
       "      <th>Env_intensity</th>\n",
       "      <th>industry_avg</th>\n",
       "      <th>Industry_indicator</th>\n",
       "      <th>industry_avg_year</th>\n",
       "      <th>Industry_indicator_year</th>\n",
       "      <th>Environmental_Growth</th>\n",
       "    </tr>\n",
       "  </thead>\n",
       "  <tbody>\n",
       "    <tr>\n",
       "      <th>0</th>\n",
       "      <td>2016</td>\n",
       "      <td>1&amp;1 DRILLISCH AG</td>\n",
       "      <td>Germany</td>\n",
       "      <td>Post and telecommunications (64)</td>\n",
       "      <td>-0.07%</td>\n",
       "      <td>-0.0007</td>\n",
       "      <td>-0.018382</td>\n",
       "      <td>1</td>\n",
       "      <td>-0.011640</td>\n",
       "      <td>1</td>\n",
       "      <td>NaN</td>\n",
       "    </tr>\n",
       "    <tr>\n",
       "      <th>1</th>\n",
       "      <td>2010</td>\n",
       "      <td>3I GROUP PLC</td>\n",
       "      <td>United Kingdom</td>\n",
       "      <td>Financial intermediation, except insurance an...</td>\n",
       "      <td>-0.12%</td>\n",
       "      <td>-0.0012</td>\n",
       "      <td>-0.020072</td>\n",
       "      <td>1</td>\n",
       "      <td>-0.006402</td>\n",
       "      <td>1</td>\n",
       "      <td>NaN</td>\n",
       "    </tr>\n",
       "    <tr>\n",
       "      <th>4</th>\n",
       "      <td>2010</td>\n",
       "      <td>3M COMPANY</td>\n",
       "      <td>United States</td>\n",
       "      <td>Activities of membership organisation n.e.c. ...</td>\n",
       "      <td>-7.90%</td>\n",
       "      <td>-0.0790</td>\n",
       "      <td>-0.117561</td>\n",
       "      <td>1</td>\n",
       "      <td>-0.084583</td>\n",
       "      <td>1</td>\n",
       "      <td>NaN</td>\n",
       "    </tr>\n",
       "    <tr>\n",
       "      <th>10</th>\n",
       "      <td>2013</td>\n",
       "      <td>888 HOLDINGS PLC</td>\n",
       "      <td>Gibraltar</td>\n",
       "      <td>Recreational, cultural and sporting activitie...</td>\n",
       "      <td>-0.69%</td>\n",
       "      <td>-0.0069</td>\n",
       "      <td>-0.023353</td>\n",
       "      <td>1</td>\n",
       "      <td>-0.021929</td>\n",
       "      <td>1</td>\n",
       "      <td>NaN</td>\n",
       "    </tr>\n",
       "    <tr>\n",
       "      <th>12</th>\n",
       "      <td>2013</td>\n",
       "      <td>A.G. BARR P.L.C.</td>\n",
       "      <td>United Kingdom</td>\n",
       "      <td>Manufacture of beverages</td>\n",
       "      <td>-1.11%</td>\n",
       "      <td>-0.0111</td>\n",
       "      <td>-0.042845</td>\n",
       "      <td>1</td>\n",
       "      <td>-0.051004</td>\n",
       "      <td>1</td>\n",
       "      <td>NaN</td>\n",
       "    </tr>\n",
       "    <tr>\n",
       "      <th>...</th>\n",
       "      <td>...</td>\n",
       "      <td>...</td>\n",
       "      <td>...</td>\n",
       "      <td>...</td>\n",
       "      <td>...</td>\n",
       "      <td>...</td>\n",
       "      <td>...</td>\n",
       "      <td>...</td>\n",
       "      <td>...</td>\n",
       "      <td>...</td>\n",
       "      <td>...</td>\n",
       "    </tr>\n",
       "    <tr>\n",
       "      <th>14507</th>\n",
       "      <td>2019</td>\n",
       "      <td>ZTE Corporation</td>\n",
       "      <td>China</td>\n",
       "      <td>Manufacture of radio, television and communica...</td>\n",
       "      <td>-0.83%</td>\n",
       "      <td>-0.0083</td>\n",
       "      <td>-0.028164</td>\n",
       "      <td>1</td>\n",
       "      <td>-0.021273</td>\n",
       "      <td>1</td>\n",
       "      <td>NaN</td>\n",
       "    </tr>\n",
       "    <tr>\n",
       "      <th>14508</th>\n",
       "      <td>2016</td>\n",
       "      <td>ZUMTOBEL AG</td>\n",
       "      <td>Austria</td>\n",
       "      <td>Manufacture of radio, television and communica...</td>\n",
       "      <td>-0.52%</td>\n",
       "      <td>-0.0052</td>\n",
       "      <td>-0.028164</td>\n",
       "      <td>1</td>\n",
       "      <td>-0.035588</td>\n",
       "      <td>1</td>\n",
       "      <td>NaN</td>\n",
       "    </tr>\n",
       "    <tr>\n",
       "      <th>14512</th>\n",
       "      <td>2019</td>\n",
       "      <td>Zhejiang Dahua Technology Co., Ltd.</td>\n",
       "      <td>China</td>\n",
       "      <td>Manufacture of medical, precision and optical ...</td>\n",
       "      <td>-9.38%</td>\n",
       "      <td>-0.0938</td>\n",
       "      <td>-0.032649</td>\n",
       "      <td>-1</td>\n",
       "      <td>-0.044110</td>\n",
       "      <td>-1</td>\n",
       "      <td>NaN</td>\n",
       "    </tr>\n",
       "    <tr>\n",
       "      <th>14513</th>\n",
       "      <td>2019</td>\n",
       "      <td>Zoomlion Heavy Industry Science and Technology...</td>\n",
       "      <td>China</td>\n",
       "      <td>Manufacture of motor vehicles, trailers and se...</td>\n",
       "      <td>-1.28%</td>\n",
       "      <td>-0.0128</td>\n",
       "      <td>-0.009397</td>\n",
       "      <td>-1</td>\n",
       "      <td>-0.010587</td>\n",
       "      <td>-1</td>\n",
       "      <td>NaN</td>\n",
       "    </tr>\n",
       "    <tr>\n",
       "      <th>14514</th>\n",
       "      <td>2019</td>\n",
       "      <td>nmcn plc</td>\n",
       "      <td>United Kingdom</td>\n",
       "      <td>Construction (45)</td>\n",
       "      <td>-0.56%</td>\n",
       "      <td>-0.0056</td>\n",
       "      <td>-0.034515</td>\n",
       "      <td>1</td>\n",
       "      <td>-0.041932</td>\n",
       "      <td>1</td>\n",
       "      <td>NaN</td>\n",
       "    </tr>\n",
       "  </tbody>\n",
       "</table>\n",
       "<p>4270 rows × 11 columns</p>\n",
       "</div>"
      ],
      "text/plain": [
       "       Year                                        CompanyName  \\\n",
       "0      2016                                  1&1 DRILLISCH AG    \n",
       "1      2010                                      3I GROUP PLC    \n",
       "4      2010                                        3M COMPANY    \n",
       "10     2013                                  888 HOLDINGS PLC    \n",
       "12     2013                                  A.G. BARR P.L.C.    \n",
       "...     ...                                                ...   \n",
       "14507  2019                                    ZTE Corporation   \n",
       "14508  2016                                        ZUMTOBEL AG   \n",
       "14512  2019                Zhejiang Dahua Technology Co., Ltd.   \n",
       "14513  2019  Zoomlion Heavy Industry Science and Technology...   \n",
       "14514  2019                                           nmcn plc   \n",
       "\n",
       "                Country                                 Industry(Exiobase)  \\\n",
       "0              Germany                   Post and telecommunications (64)    \n",
       "1       United Kingdom    Financial intermediation, except insurance an...   \n",
       "4        United States    Activities of membership organisation n.e.c. ...   \n",
       "10           Gibraltar    Recreational, cultural and sporting activitie...   \n",
       "12      United Kingdom                           Manufacture of beverages    \n",
       "...                 ...                                                ...   \n",
       "14507             China  Manufacture of radio, television and communica...   \n",
       "14508           Austria  Manufacture of radio, television and communica...   \n",
       "14512             China  Manufacture of medical, precision and optical ...   \n",
       "14513             China  Manufacture of motor vehicles, trailers and se...   \n",
       "14514    United Kingdom                                  Construction (45)   \n",
       "\n",
       "      EnvironmentalIntensity(Sales)  Env_intensity  industry_avg  \\\n",
       "0                            -0.07%        -0.0007     -0.018382   \n",
       "1                            -0.12%        -0.0012     -0.020072   \n",
       "4                            -7.90%        -0.0790     -0.117561   \n",
       "10                           -0.69%        -0.0069     -0.023353   \n",
       "12                           -1.11%        -0.0111     -0.042845   \n",
       "...                             ...            ...           ...   \n",
       "14507                        -0.83%        -0.0083     -0.028164   \n",
       "14508                        -0.52%        -0.0052     -0.028164   \n",
       "14512                        -9.38%        -0.0938     -0.032649   \n",
       "14513                        -1.28%        -0.0128     -0.009397   \n",
       "14514                        -0.56%        -0.0056     -0.034515   \n",
       "\n",
       "       Industry_indicator  industry_avg_year  Industry_indicator_year  \\\n",
       "0                       1          -0.011640                        1   \n",
       "1                       1          -0.006402                        1   \n",
       "4                       1          -0.084583                        1   \n",
       "10                      1          -0.021929                        1   \n",
       "12                      1          -0.051004                        1   \n",
       "...                   ...                ...                      ...   \n",
       "14507                   1          -0.021273                        1   \n",
       "14508                   1          -0.035588                        1   \n",
       "14512                  -1          -0.044110                       -1   \n",
       "14513                  -1          -0.010587                       -1   \n",
       "14514                   1          -0.041932                        1   \n",
       "\n",
       "       Environmental_Growth  \n",
       "0                       NaN  \n",
       "1                       NaN  \n",
       "4                       NaN  \n",
       "10                      NaN  \n",
       "12                      NaN  \n",
       "...                     ...  \n",
       "14507                   NaN  \n",
       "14508                   NaN  \n",
       "14512                   NaN  \n",
       "14513                   NaN  \n",
       "14514                   NaN  \n",
       "\n",
       "[4270 rows x 11 columns]"
      ]
     },
     "execution_count": 68,
     "metadata": {},
     "output_type": "execute_result"
    }
   ],
   "source": [
    "df.loc[df.Environmental_Growth.isna()]"
   ]
  },
  {
   "cell_type": "code",
   "execution_count": 67,
   "id": "economic-manufacturer",
   "metadata": {},
   "outputs": [
    {
     "data": {
      "text/html": [
       "<div>\n",
       "<style scoped>\n",
       "    .dataframe tbody tr th:only-of-type {\n",
       "        vertical-align: middle;\n",
       "    }\n",
       "\n",
       "    .dataframe tbody tr th {\n",
       "        vertical-align: top;\n",
       "    }\n",
       "\n",
       "    .dataframe thead th {\n",
       "        text-align: right;\n",
       "    }\n",
       "</style>\n",
       "<table border=\"1\" class=\"dataframe\">\n",
       "  <thead>\n",
       "    <tr style=\"text-align: right;\">\n",
       "      <th></th>\n",
       "      <th>Environmental_Growth</th>\n",
       "    </tr>\n",
       "  </thead>\n",
       "  <tbody>\n",
       "    <tr>\n",
       "      <th>8089</th>\n",
       "      <td>NaN</td>\n",
       "    </tr>\n",
       "    <tr>\n",
       "      <th>8102</th>\n",
       "      <td>NaN</td>\n",
       "    </tr>\n",
       "    <tr>\n",
       "      <th>8106</th>\n",
       "      <td>NaN</td>\n",
       "    </tr>\n",
       "    <tr>\n",
       "      <th>8116</th>\n",
       "      <td>NaN</td>\n",
       "    </tr>\n",
       "    <tr>\n",
       "      <th>8120</th>\n",
       "      <td>NaN</td>\n",
       "    </tr>\n",
       "    <tr>\n",
       "      <th>...</th>\n",
       "      <td>...</td>\n",
       "    </tr>\n",
       "    <tr>\n",
       "      <th>14470</th>\n",
       "      <td>NaN</td>\n",
       "    </tr>\n",
       "    <tr>\n",
       "      <th>14478</th>\n",
       "      <td>NaN</td>\n",
       "    </tr>\n",
       "    <tr>\n",
       "      <th>14498</th>\n",
       "      <td>NaN</td>\n",
       "    </tr>\n",
       "    <tr>\n",
       "      <th>14503</th>\n",
       "      <td>NaN</td>\n",
       "    </tr>\n",
       "    <tr>\n",
       "      <th>14508</th>\n",
       "      <td>NaN</td>\n",
       "    </tr>\n",
       "  </tbody>\n",
       "</table>\n",
       "<p>940 rows × 1 columns</p>\n",
       "</div>"
      ],
      "text/plain": [
       "       Environmental_Growth\n",
       "8089                    NaN\n",
       "8102                    NaN\n",
       "8106                    NaN\n",
       "8116                    NaN\n",
       "8120                    NaN\n",
       "...                     ...\n",
       "14470                   NaN\n",
       "14478                   NaN\n",
       "14498                   NaN\n",
       "14503                   NaN\n",
       "14508                   NaN\n",
       "\n",
       "[940 rows x 1 columns]"
      ]
     },
     "execution_count": 67,
     "metadata": {},
     "output_type": "execute_result"
    }
   ],
   "source": [
    "df.loc[(df.Year == 2016) & (df.CompanyName.isin(com)), ['Environmental_Growth'] ]"
   ]
  },
  {
   "cell_type": "markdown",
   "id": "compressed-prototype",
   "metadata": {},
   "source": [
    "# Predicting Industry Based on Company Description"
   ]
  },
  {
   "cell_type": "code",
   "execution_count": 60,
   "id": "alive-episode",
   "metadata": {},
   "outputs": [
    {
     "ename": "FileNotFoundError",
     "evalue": "[Errno 2] No such file or directory: '52_tickers_sectors.csv'",
     "output_type": "error",
     "traceback": [
      "\u001b[0;31m---------------------------------------------------------------------------\u001b[0m",
      "\u001b[0;31mFileNotFoundError\u001b[0m                         Traceback (most recent call last)",
      "\u001b[0;32m<ipython-input-60-bac332edc559>\u001b[0m in \u001b[0;36m<module>\u001b[0;34m\u001b[0m\n\u001b[0;32m----> 1\u001b[0;31m \u001b[0mtickers_df\u001b[0m \u001b[0;34m=\u001b[0m \u001b[0mpd\u001b[0m\u001b[0;34m.\u001b[0m\u001b[0mread_csv\u001b[0m\u001b[0;34m(\u001b[0m\u001b[0;34m'52_tickers_sectors.csv'\u001b[0m\u001b[0;34m)\u001b[0m\u001b[0;34m\u001b[0m\u001b[0;34m\u001b[0m\u001b[0m\n\u001b[0m",
      "\u001b[0;32m~/opt/miniconda3/envs/msba/lib/python3.8/site-packages/pandas/io/parsers.py\u001b[0m in \u001b[0;36mread_csv\u001b[0;34m(filepath_or_buffer, sep, delimiter, header, names, index_col, usecols, squeeze, prefix, mangle_dupe_cols, dtype, engine, converters, true_values, false_values, skipinitialspace, skiprows, skipfooter, nrows, na_values, keep_default_na, na_filter, verbose, skip_blank_lines, parse_dates, infer_datetime_format, keep_date_col, date_parser, dayfirst, cache_dates, iterator, chunksize, compression, thousands, decimal, lineterminator, quotechar, quoting, doublequote, escapechar, comment, encoding, dialect, error_bad_lines, warn_bad_lines, delim_whitespace, low_memory, memory_map, float_precision, storage_options)\u001b[0m\n\u001b[1;32m    608\u001b[0m     \u001b[0mkwds\u001b[0m\u001b[0;34m.\u001b[0m\u001b[0mupdate\u001b[0m\u001b[0;34m(\u001b[0m\u001b[0mkwds_defaults\u001b[0m\u001b[0;34m)\u001b[0m\u001b[0;34m\u001b[0m\u001b[0;34m\u001b[0m\u001b[0m\n\u001b[1;32m    609\u001b[0m \u001b[0;34m\u001b[0m\u001b[0m\n\u001b[0;32m--> 610\u001b[0;31m     \u001b[0;32mreturn\u001b[0m \u001b[0m_read\u001b[0m\u001b[0;34m(\u001b[0m\u001b[0mfilepath_or_buffer\u001b[0m\u001b[0;34m,\u001b[0m \u001b[0mkwds\u001b[0m\u001b[0;34m)\u001b[0m\u001b[0;34m\u001b[0m\u001b[0;34m\u001b[0m\u001b[0m\n\u001b[0m\u001b[1;32m    611\u001b[0m \u001b[0;34m\u001b[0m\u001b[0m\n\u001b[1;32m    612\u001b[0m \u001b[0;34m\u001b[0m\u001b[0m\n",
      "\u001b[0;32m~/opt/miniconda3/envs/msba/lib/python3.8/site-packages/pandas/io/parsers.py\u001b[0m in \u001b[0;36m_read\u001b[0;34m(filepath_or_buffer, kwds)\u001b[0m\n\u001b[1;32m    460\u001b[0m \u001b[0;34m\u001b[0m\u001b[0m\n\u001b[1;32m    461\u001b[0m     \u001b[0;31m# Create the parser.\u001b[0m\u001b[0;34m\u001b[0m\u001b[0;34m\u001b[0m\u001b[0;34m\u001b[0m\u001b[0m\n\u001b[0;32m--> 462\u001b[0;31m     \u001b[0mparser\u001b[0m \u001b[0;34m=\u001b[0m \u001b[0mTextFileReader\u001b[0m\u001b[0;34m(\u001b[0m\u001b[0mfilepath_or_buffer\u001b[0m\u001b[0;34m,\u001b[0m \u001b[0;34m**\u001b[0m\u001b[0mkwds\u001b[0m\u001b[0;34m)\u001b[0m\u001b[0;34m\u001b[0m\u001b[0;34m\u001b[0m\u001b[0m\n\u001b[0m\u001b[1;32m    463\u001b[0m \u001b[0;34m\u001b[0m\u001b[0m\n\u001b[1;32m    464\u001b[0m     \u001b[0;32mif\u001b[0m \u001b[0mchunksize\u001b[0m \u001b[0;32mor\u001b[0m \u001b[0miterator\u001b[0m\u001b[0;34m:\u001b[0m\u001b[0;34m\u001b[0m\u001b[0;34m\u001b[0m\u001b[0m\n",
      "\u001b[0;32m~/opt/miniconda3/envs/msba/lib/python3.8/site-packages/pandas/io/parsers.py\u001b[0m in \u001b[0;36m__init__\u001b[0;34m(self, f, engine, **kwds)\u001b[0m\n\u001b[1;32m    817\u001b[0m             \u001b[0mself\u001b[0m\u001b[0;34m.\u001b[0m\u001b[0moptions\u001b[0m\u001b[0;34m[\u001b[0m\u001b[0;34m\"has_index_names\"\u001b[0m\u001b[0;34m]\u001b[0m \u001b[0;34m=\u001b[0m \u001b[0mkwds\u001b[0m\u001b[0;34m[\u001b[0m\u001b[0;34m\"has_index_names\"\u001b[0m\u001b[0;34m]\u001b[0m\u001b[0;34m\u001b[0m\u001b[0;34m\u001b[0m\u001b[0m\n\u001b[1;32m    818\u001b[0m \u001b[0;34m\u001b[0m\u001b[0m\n\u001b[0;32m--> 819\u001b[0;31m         \u001b[0mself\u001b[0m\u001b[0;34m.\u001b[0m\u001b[0m_engine\u001b[0m \u001b[0;34m=\u001b[0m \u001b[0mself\u001b[0m\u001b[0;34m.\u001b[0m\u001b[0m_make_engine\u001b[0m\u001b[0;34m(\u001b[0m\u001b[0mself\u001b[0m\u001b[0;34m.\u001b[0m\u001b[0mengine\u001b[0m\u001b[0;34m)\u001b[0m\u001b[0;34m\u001b[0m\u001b[0;34m\u001b[0m\u001b[0m\n\u001b[0m\u001b[1;32m    820\u001b[0m \u001b[0;34m\u001b[0m\u001b[0m\n\u001b[1;32m    821\u001b[0m     \u001b[0;32mdef\u001b[0m \u001b[0mclose\u001b[0m\u001b[0;34m(\u001b[0m\u001b[0mself\u001b[0m\u001b[0;34m)\u001b[0m\u001b[0;34m:\u001b[0m\u001b[0;34m\u001b[0m\u001b[0;34m\u001b[0m\u001b[0m\n",
      "\u001b[0;32m~/opt/miniconda3/envs/msba/lib/python3.8/site-packages/pandas/io/parsers.py\u001b[0m in \u001b[0;36m_make_engine\u001b[0;34m(self, engine)\u001b[0m\n\u001b[1;32m   1048\u001b[0m             )\n\u001b[1;32m   1049\u001b[0m         \u001b[0;31m# error: Too many arguments for \"ParserBase\"\u001b[0m\u001b[0;34m\u001b[0m\u001b[0;34m\u001b[0m\u001b[0;34m\u001b[0m\u001b[0m\n\u001b[0;32m-> 1050\u001b[0;31m         \u001b[0;32mreturn\u001b[0m \u001b[0mmapping\u001b[0m\u001b[0;34m[\u001b[0m\u001b[0mengine\u001b[0m\u001b[0;34m]\u001b[0m\u001b[0;34m(\u001b[0m\u001b[0mself\u001b[0m\u001b[0;34m.\u001b[0m\u001b[0mf\u001b[0m\u001b[0;34m,\u001b[0m \u001b[0;34m**\u001b[0m\u001b[0mself\u001b[0m\u001b[0;34m.\u001b[0m\u001b[0moptions\u001b[0m\u001b[0;34m)\u001b[0m  \u001b[0;31m# type: ignore[call-arg]\u001b[0m\u001b[0;34m\u001b[0m\u001b[0;34m\u001b[0m\u001b[0m\n\u001b[0m\u001b[1;32m   1051\u001b[0m \u001b[0;34m\u001b[0m\u001b[0m\n\u001b[1;32m   1052\u001b[0m     \u001b[0;32mdef\u001b[0m \u001b[0m_failover_to_python\u001b[0m\u001b[0;34m(\u001b[0m\u001b[0mself\u001b[0m\u001b[0;34m)\u001b[0m\u001b[0;34m:\u001b[0m\u001b[0;34m\u001b[0m\u001b[0;34m\u001b[0m\u001b[0m\n",
      "\u001b[0;32m~/opt/miniconda3/envs/msba/lib/python3.8/site-packages/pandas/io/parsers.py\u001b[0m in \u001b[0;36m__init__\u001b[0;34m(self, src, **kwds)\u001b[0m\n\u001b[1;32m   1865\u001b[0m \u001b[0;34m\u001b[0m\u001b[0m\n\u001b[1;32m   1866\u001b[0m         \u001b[0;31m# open handles\u001b[0m\u001b[0;34m\u001b[0m\u001b[0;34m\u001b[0m\u001b[0;34m\u001b[0m\u001b[0m\n\u001b[0;32m-> 1867\u001b[0;31m         \u001b[0mself\u001b[0m\u001b[0;34m.\u001b[0m\u001b[0m_open_handles\u001b[0m\u001b[0;34m(\u001b[0m\u001b[0msrc\u001b[0m\u001b[0;34m,\u001b[0m \u001b[0mkwds\u001b[0m\u001b[0;34m)\u001b[0m\u001b[0;34m\u001b[0m\u001b[0;34m\u001b[0m\u001b[0m\n\u001b[0m\u001b[1;32m   1868\u001b[0m         \u001b[0;32massert\u001b[0m \u001b[0mself\u001b[0m\u001b[0;34m.\u001b[0m\u001b[0mhandles\u001b[0m \u001b[0;32mis\u001b[0m \u001b[0;32mnot\u001b[0m \u001b[0;32mNone\u001b[0m\u001b[0;34m\u001b[0m\u001b[0;34m\u001b[0m\u001b[0m\n\u001b[1;32m   1869\u001b[0m         \u001b[0;32mfor\u001b[0m \u001b[0mkey\u001b[0m \u001b[0;32min\u001b[0m \u001b[0;34m(\u001b[0m\u001b[0;34m\"storage_options\"\u001b[0m\u001b[0;34m,\u001b[0m \u001b[0;34m\"encoding\"\u001b[0m\u001b[0;34m,\u001b[0m \u001b[0;34m\"memory_map\"\u001b[0m\u001b[0;34m,\u001b[0m \u001b[0;34m\"compression\"\u001b[0m\u001b[0;34m)\u001b[0m\u001b[0;34m:\u001b[0m\u001b[0;34m\u001b[0m\u001b[0;34m\u001b[0m\u001b[0m\n",
      "\u001b[0;32m~/opt/miniconda3/envs/msba/lib/python3.8/site-packages/pandas/io/parsers.py\u001b[0m in \u001b[0;36m_open_handles\u001b[0;34m(self, src, kwds)\u001b[0m\n\u001b[1;32m   1360\u001b[0m         \u001b[0mLet\u001b[0m \u001b[0mthe\u001b[0m \u001b[0mreaders\u001b[0m \u001b[0mopen\u001b[0m \u001b[0mIOHanldes\u001b[0m \u001b[0mafter\u001b[0m \u001b[0mthey\u001b[0m \u001b[0mare\u001b[0m \u001b[0mdone\u001b[0m \u001b[0;32mwith\u001b[0m \u001b[0mtheir\u001b[0m \u001b[0mpotential\u001b[0m \u001b[0mraises\u001b[0m\u001b[0;34m.\u001b[0m\u001b[0;34m\u001b[0m\u001b[0;34m\u001b[0m\u001b[0m\n\u001b[1;32m   1361\u001b[0m         \"\"\"\n\u001b[0;32m-> 1362\u001b[0;31m         self.handles = get_handle(\n\u001b[0m\u001b[1;32m   1363\u001b[0m             \u001b[0msrc\u001b[0m\u001b[0;34m,\u001b[0m\u001b[0;34m\u001b[0m\u001b[0;34m\u001b[0m\u001b[0m\n\u001b[1;32m   1364\u001b[0m             \u001b[0;34m\"r\"\u001b[0m\u001b[0;34m,\u001b[0m\u001b[0;34m\u001b[0m\u001b[0;34m\u001b[0m\u001b[0m\n",
      "\u001b[0;32m~/opt/miniconda3/envs/msba/lib/python3.8/site-packages/pandas/io/common.py\u001b[0m in \u001b[0;36mget_handle\u001b[0;34m(path_or_buf, mode, encoding, compression, memory_map, is_text, errors, storage_options)\u001b[0m\n\u001b[1;32m    640\u001b[0m                 \u001b[0merrors\u001b[0m \u001b[0;34m=\u001b[0m \u001b[0;34m\"replace\"\u001b[0m\u001b[0;34m\u001b[0m\u001b[0;34m\u001b[0m\u001b[0m\n\u001b[1;32m    641\u001b[0m             \u001b[0;31m# Encoding\u001b[0m\u001b[0;34m\u001b[0m\u001b[0;34m\u001b[0m\u001b[0;34m\u001b[0m\u001b[0m\n\u001b[0;32m--> 642\u001b[0;31m             handle = open(\n\u001b[0m\u001b[1;32m    643\u001b[0m                 \u001b[0mhandle\u001b[0m\u001b[0;34m,\u001b[0m\u001b[0;34m\u001b[0m\u001b[0;34m\u001b[0m\u001b[0m\n\u001b[1;32m    644\u001b[0m                 \u001b[0mioargs\u001b[0m\u001b[0;34m.\u001b[0m\u001b[0mmode\u001b[0m\u001b[0;34m,\u001b[0m\u001b[0;34m\u001b[0m\u001b[0;34m\u001b[0m\u001b[0m\n",
      "\u001b[0;31mFileNotFoundError\u001b[0m: [Errno 2] No such file or directory: '52_tickers_sectors.csv'"
     ]
    }
   ],
   "source": [
    "tickers_df = pd.read_csv('52_tickers_sectors.csv')"
   ]
  },
  {
   "cell_type": "code",
   "execution_count": null,
   "id": "accompanied-genealogy",
   "metadata": {},
   "outputs": [],
   "source": [
    "tickers = tickers_df.Ticker"
   ]
  },
  {
   "cell_type": "code",
   "execution_count": null,
   "id": "major-client",
   "metadata": {},
   "outputs": [],
   "source": [
    "# Create a loop to store URLs of all stocks' description page\n",
    "URL = [] \n",
    "DES = [] \n",
    "\n",
    "for i in tickers: \n",
    "  url ='https://finance.yahoo.com/quote/'+i+'/profile' \n",
    "  URL.append(url)\n",
    "  page = requests.get(url) # visits the URL \n",
    "  htmldata = BeautifulSoup(page.content, 'html.parser')\n",
    "  Business_Description = htmldata.find('p',{'class':'Mt(15px) Lh(1.6)'}) # finds the business description part in the HTML code\n",
    "  DES.append(Business_Description.text)"
   ]
  },
  {
   "cell_type": "markdown",
   "id": "resident-monster",
   "metadata": {},
   "source": [
    "We will continue building a model in the next sprint!"
   ]
  }
 ],
 "metadata": {
  "colab": {
   "name": "Sprint6_PredictingTimeSeries.ipynb",
   "provenance": []
  },
  "kernelspec": {
   "display_name": "Python 3",
   "language": "python",
   "name": "python3"
  },
  "language_info": {
   "codemirror_mode": {
    "name": "ipython",
    "version": 3
   },
   "file_extension": ".py",
   "mimetype": "text/x-python",
   "name": "python",
   "nbconvert_exporter": "python",
   "pygments_lexer": "ipython3",
   "version": "3.8.8"
  }
 },
 "nbformat": 4,
 "nbformat_minor": 5
}
