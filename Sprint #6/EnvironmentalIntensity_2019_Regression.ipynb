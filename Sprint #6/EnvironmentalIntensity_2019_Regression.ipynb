{
 "cells": [
  {
   "cell_type": "code",
   "execution_count": 45,
   "metadata": {},
   "outputs": [],
   "source": [
    "import pandas as pd\n",
    "import numpy as np\n",
    "import seaborn as sns\n",
    "import matplotlib.pyplot as plt\n",
    "import missingno as msno\n",
    "from sklearn.linear_model import LinearRegression\n",
    "from sklearn.model_selection import train_test_split\n",
    "from sklearn.metrics import r2_score, mean_squared_error"
   ]
  },
  {
   "cell_type": "code",
   "execution_count": 2,
   "metadata": {},
   "outputs": [],
   "source": [
    "df = pd.read_csv('Environmental_Impact_dataset.csv')\n",
    "\n",
    "def p2f(x):\n",
    "    return float(x.strip('%'))/100\n",
    "df['EnvironmentalIntensity(Sales)'] = df['EnvironmentalIntensity(Sales)'].apply(p2f)"
   ]
  },
  {
   "cell_type": "code",
   "execution_count": 4,
   "metadata": {},
   "outputs": [
    {
     "data": {
      "text/plain": [
       "0                                        1&1 DRILLISCH AG \n",
       "1                                            3I GROUP PLC \n",
       "2                                            3I GROUP PLC \n",
       "3                                            3I GROUP PLC \n",
       "4                                              3M COMPANY \n",
       "                               ...                        \n",
       "14510                                          ZUMTOBEL AG\n",
       "14511                                          ZUMTOBEL AG\n",
       "14512                  Zhejiang Dahua Technology Co., Ltd.\n",
       "14513    Zoomlion Heavy Industry Science and Technology...\n",
       "14514                                             nmcn plc\n",
       "Name: CompanyName, Length: 14515, dtype: category\n",
       "Categories (4270, object): [' 1&1 DRILLISCH AG ', ' 3I GROUP PLC ', ' 3M COMPANY ', ' 888 HOLDINGS PLC ', ..., 'ZUMTOBEL AG', 'Zhejiang Dahua Technology Co., Ltd.', 'Zoomlion Heavy Industry Science and Technolog..., 'nmcn plc']"
      ]
     },
     "execution_count": 4,
     "metadata": {},
     "output_type": "execute_result"
    }
   ],
   "source": [
    "df['CompanyName'].astype('category')"
   ]
  },
  {
   "cell_type": "code",
   "execution_count": 52,
   "metadata": {},
   "outputs": [
    {
     "name": "stdout",
     "output_type": "stream",
     "text": [
      "R2 score: 0.8825319170790614\n",
      "MSE:  0.010786739663931547\n"
     ]
    }
   ],
   "source": [
    "companies_2018 = list(df[df['Year'] == 2018]['CompanyName'])\n",
    "companies_2019 = list(df[(df['Year'] == 2019) & (df['CompanyName'].isin(companies_2018))]['CompanyName'])\n",
    "\n",
    "#Getting companies that are in both years\n",
    "list2018_as_set = set(companies_2018)\n",
    "intersection = list2018_as_set.intersection(companies_2019)\n",
    "\n",
    "X = df[(df['Year'] == 2018) & (df['CompanyName'].isin(intersection))][['EnvironmentalIntensity(Sales)']]\n",
    "y = df[(df['Year'] == 2019) & (df['CompanyName'].isin(intersection))][['EnvironmentalIntensity(Sales)']]\n",
    "\n",
    "X_train, X_test, y_train, y_test = train_test_split(\n",
    "    X, y, test_size=0.33, random_state=42)\n",
    "\n",
    "\n",
    "reg = LinearRegression().fit(X_train, y_train)\n",
    "\n",
    "y_pred = reg.predict(X_test)\n",
    "\n",
    "print('R2 score:', r2_score(y_test, y_pred))\n",
    "print('MSE: ', mean_squared_error(y_test, y_pred))\n"
   ]
  }
 ],
 "metadata": {
  "kernelspec": {
   "display_name": "Python 3",
   "language": "python",
   "name": "python3"
  },
  "language_info": {
   "codemirror_mode": {
    "name": "ipython",
    "version": 3
   },
   "file_extension": ".py",
   "mimetype": "text/x-python",
   "name": "python",
   "nbconvert_exporter": "python",
   "pygments_lexer": "ipython3",
   "version": "3.7.4"
  }
 },
 "nbformat": 4,
 "nbformat_minor": 4
}
