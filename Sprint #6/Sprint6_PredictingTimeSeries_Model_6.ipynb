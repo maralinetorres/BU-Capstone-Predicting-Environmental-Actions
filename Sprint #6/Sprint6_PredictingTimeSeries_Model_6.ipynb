{
  "nbformat": 4,
  "nbformat_minor": 5,
  "metadata": {
    "colab": {
      "name": "Sprint6_PredictingTimeSeries_Model 6.ipynb",
      "provenance": [],
      "collapsed_sections": [
        "impressive-buffer",
        "romance-perfume",
        "compatible-statement",
        "encouraging-orlando",
        "operating-livestock"
      ]
    },
    "kernelspec": {
      "display_name": "Python 3",
      "language": "python",
      "name": "python3"
    },
    "language_info": {
      "codemirror_mode": {
        "name": "ipython",
        "version": 3
      },
      "file_extension": ".py",
      "mimetype": "text/x-python",
      "name": "python",
      "nbconvert_exporter": "python",
      "pygments_lexer": "ipython3",
      "version": "3.8.8"
    }
  },
  "cells": [
    {
      "cell_type": "markdown",
      "metadata": {
        "id": "tight-archives"
      },
      "source": [
        "# Sprint 6 - Predicting future environmental intensity (Time Series) and Collect Companies Descriptions\n",
        "\n",
        "In this notebook, we will predict future environmental intensity for all the companies in the 'Excel data'. We will be using data from previous years to predict the future environmental intesity. \n",
        "\n",
        "First, we will create the following columns:\n",
        "\n",
        "1) Industry Indicator\n",
        "- 1 if above the industry average in current year\n",
        "- 0 if at industry average in current yeat\n",
        "- (-1) if below the industry average in current year\n",
        "2) Environmental Intensity Growth : ((Environmental Intensity in Current Year / Environmental Intensity Last Year) - 1) * 100\n",
        "\n",
        "\n",
        "At the end, we collected, directly from Yahoo Finance website, each company description. For this, we use the pilot stocks which have the Ticker identifier. "
      ],
      "id": "tight-archives"
    },
    {
      "cell_type": "code",
      "metadata": {
        "id": "talented-expert"
      },
      "source": [
        "import pandas as pd\n",
        "import numpy as np\n",
        "import seaborn as sns\n",
        "import matplotlib.pyplot as plt\n",
        "import missingno as msno\n",
        "import warnings\n",
        "from sklearn import linear_model\n",
        "from sklearn import metrics\n",
        "from math import sqrt\n",
        "from sklearn.linear_model import LinearRegression\n",
        "from sklearn.model_selection import train_test_split\n",
        "import requests\n",
        "from bs4 import BeautifulSoup\n",
        "warnings.filterwarnings('ignore')"
      ],
      "id": "talented-expert",
      "execution_count": 197,
      "outputs": []
    },
    {
      "cell_type": "code",
      "metadata": {
        "colab": {
          "base_uri": "https://localhost:8080/",
          "height": 281
        },
        "id": "presidential-israeli",
        "outputId": "0e5f73eb-946c-4184-df10-5c689b546dbc"
      },
      "source": [
        "df = pd.read_csv('Environmental_Impact_dataset.csv')\n",
        "column_list = []\n",
        "for column in df.columns:\n",
        "    column_list.append(column.replace(' ', ''))\n",
        "df.columns = column_list\n",
        "print(f'The dataset has {df.shape[0]} rows and {df.shape[1]} columns')\n",
        "df.head(3)"
      ],
      "id": "presidential-israeli",
      "execution_count": 198,
      "outputs": [
        {
          "output_type": "stream",
          "text": [
            "The dataset has 14515 rows and 11 columns\n"
          ],
          "name": "stdout"
        },
        {
          "output_type": "execute_result",
          "data": {
            "text/html": [
              "<div>\n",
              "<style scoped>\n",
              "    .dataframe tbody tr th:only-of-type {\n",
              "        vertical-align: middle;\n",
              "    }\n",
              "\n",
              "    .dataframe tbody tr th {\n",
              "        vertical-align: top;\n",
              "    }\n",
              "\n",
              "    .dataframe thead th {\n",
              "        text-align: right;\n",
              "    }\n",
              "</style>\n",
              "<table border=\"1\" class=\"dataframe\">\n",
              "  <thead>\n",
              "    <tr style=\"text-align: right;\">\n",
              "      <th></th>\n",
              "      <th>Year</th>\n",
              "      <th>CompanyName</th>\n",
              "      <th>Country</th>\n",
              "      <th>Industry(Exiobase)</th>\n",
              "      <th>EnvironmentalIntensity(Sales)</th>\n",
              "      <th>Env_intensity</th>\n",
              "      <th>industry_avg</th>\n",
              "      <th>Industry_indicator</th>\n",
              "      <th>industry_avg_year</th>\n",
              "      <th>Industry_indicator_year</th>\n",
              "      <th>Environmental_Growth</th>\n",
              "    </tr>\n",
              "  </thead>\n",
              "  <tbody>\n",
              "    <tr>\n",
              "      <th>0</th>\n",
              "      <td>2016</td>\n",
              "      <td>1&amp;1 DRILLISCH AG</td>\n",
              "      <td>Germany</td>\n",
              "      <td>Post and telecommunications (64)</td>\n",
              "      <td>-0.07%</td>\n",
              "      <td>-0.0007</td>\n",
              "      <td>-0.018382</td>\n",
              "      <td>1</td>\n",
              "      <td>-0.011640</td>\n",
              "      <td>1</td>\n",
              "      <td>NaN</td>\n",
              "    </tr>\n",
              "    <tr>\n",
              "      <th>1</th>\n",
              "      <td>2010</td>\n",
              "      <td>3I GROUP PLC</td>\n",
              "      <td>United Kingdom</td>\n",
              "      <td>Financial intermediation, except insurance an...</td>\n",
              "      <td>-0.12%</td>\n",
              "      <td>-0.0012</td>\n",
              "      <td>-0.020072</td>\n",
              "      <td>1</td>\n",
              "      <td>-0.006402</td>\n",
              "      <td>1</td>\n",
              "      <td>NaN</td>\n",
              "    </tr>\n",
              "    <tr>\n",
              "      <th>2</th>\n",
              "      <td>2011</td>\n",
              "      <td>3I GROUP PLC</td>\n",
              "      <td>United Kingdom</td>\n",
              "      <td>Financial intermediation, except insurance an...</td>\n",
              "      <td>-0.16%</td>\n",
              "      <td>-0.0016</td>\n",
              "      <td>-0.020072</td>\n",
              "      <td>1</td>\n",
              "      <td>-0.009838</td>\n",
              "      <td>1</td>\n",
              "      <td>33.333333</td>\n",
              "    </tr>\n",
              "  </tbody>\n",
              "</table>\n",
              "</div>"
            ],
            "text/plain": [
              "   Year         CompanyName  ... Industry_indicator_year Environmental_Growth\n",
              "0  2016   1&1 DRILLISCH AG   ...                       1                  NaN\n",
              "1  2010       3I GROUP PLC   ...                       1                  NaN\n",
              "2  2011       3I GROUP PLC   ...                       1            33.333333\n",
              "\n",
              "[3 rows x 11 columns]"
            ]
          },
          "metadata": {
            "tags": []
          },
          "execution_count": 198
        }
      ]
    },
    {
      "cell_type": "code",
      "metadata": {
        "colab": {
          "base_uri": "https://localhost:8080/",
          "height": 289
        },
        "id": "musical-halifax",
        "outputId": "6de336a5-a848-4ff3-81a1-a2733f13dee8"
      },
      "source": [
        "df = df.iloc[:,0:6]\n",
        "df.head()"
      ],
      "id": "musical-halifax",
      "execution_count": 199,
      "outputs": [
        {
          "output_type": "execute_result",
          "data": {
            "text/html": [
              "<div>\n",
              "<style scoped>\n",
              "    .dataframe tbody tr th:only-of-type {\n",
              "        vertical-align: middle;\n",
              "    }\n",
              "\n",
              "    .dataframe tbody tr th {\n",
              "        vertical-align: top;\n",
              "    }\n",
              "\n",
              "    .dataframe thead th {\n",
              "        text-align: right;\n",
              "    }\n",
              "</style>\n",
              "<table border=\"1\" class=\"dataframe\">\n",
              "  <thead>\n",
              "    <tr style=\"text-align: right;\">\n",
              "      <th></th>\n",
              "      <th>Year</th>\n",
              "      <th>CompanyName</th>\n",
              "      <th>Country</th>\n",
              "      <th>Industry(Exiobase)</th>\n",
              "      <th>EnvironmentalIntensity(Sales)</th>\n",
              "      <th>Env_intensity</th>\n",
              "    </tr>\n",
              "  </thead>\n",
              "  <tbody>\n",
              "    <tr>\n",
              "      <th>0</th>\n",
              "      <td>2016</td>\n",
              "      <td>1&amp;1 DRILLISCH AG</td>\n",
              "      <td>Germany</td>\n",
              "      <td>Post and telecommunications (64)</td>\n",
              "      <td>-0.07%</td>\n",
              "      <td>-0.0007</td>\n",
              "    </tr>\n",
              "    <tr>\n",
              "      <th>1</th>\n",
              "      <td>2010</td>\n",
              "      <td>3I GROUP PLC</td>\n",
              "      <td>United Kingdom</td>\n",
              "      <td>Financial intermediation, except insurance an...</td>\n",
              "      <td>-0.12%</td>\n",
              "      <td>-0.0012</td>\n",
              "    </tr>\n",
              "    <tr>\n",
              "      <th>2</th>\n",
              "      <td>2011</td>\n",
              "      <td>3I GROUP PLC</td>\n",
              "      <td>United Kingdom</td>\n",
              "      <td>Financial intermediation, except insurance an...</td>\n",
              "      <td>-0.16%</td>\n",
              "      <td>-0.0016</td>\n",
              "    </tr>\n",
              "    <tr>\n",
              "      <th>3</th>\n",
              "      <td>2012</td>\n",
              "      <td>3I GROUP PLC</td>\n",
              "      <td>United Kingdom</td>\n",
              "      <td>Financial intermediation, except insurance an...</td>\n",
              "      <td>-0.15%</td>\n",
              "      <td>-0.0015</td>\n",
              "    </tr>\n",
              "    <tr>\n",
              "      <th>4</th>\n",
              "      <td>2010</td>\n",
              "      <td>3M COMPANY</td>\n",
              "      <td>United States</td>\n",
              "      <td>Activities of membership organisation n.e.c. ...</td>\n",
              "      <td>-7.90%</td>\n",
              "      <td>-0.0790</td>\n",
              "    </tr>\n",
              "  </tbody>\n",
              "</table>\n",
              "</div>"
            ],
            "text/plain": [
              "   Year         CompanyName  ... EnvironmentalIntensity(Sales) Env_intensity\n",
              "0  2016   1&1 DRILLISCH AG   ...                        -0.07%       -0.0007\n",
              "1  2010       3I GROUP PLC   ...                        -0.12%       -0.0012\n",
              "2  2011       3I GROUP PLC   ...                        -0.16%       -0.0016\n",
              "3  2012       3I GROUP PLC   ...                        -0.15%       -0.0015\n",
              "4  2010         3M COMPANY   ...                        -7.90%       -0.0790\n",
              "\n",
              "[5 rows x 6 columns]"
            ]
          },
          "metadata": {
            "tags": []
          },
          "execution_count": 199
        }
      ]
    },
    {
      "cell_type": "markdown",
      "metadata": {
        "id": "twelve-convention"
      },
      "source": [
        "Noticed the company name values have spaces at the beginning and end. We will fix that in the next cells. Also, we will format the environmental intensity to decimals."
      ],
      "id": "twelve-convention"
    },
    {
      "cell_type": "code",
      "metadata": {
        "id": "tough-alexandria"
      },
      "source": [
        "companies = df.CompanyName.tolist()\n",
        "com = []\n",
        "\n",
        "for c in companies:\n",
        "    com.append(c.lstrip().rstrip())\n",
        "    \n",
        "df['CompanyName'] = com"
      ],
      "id": "tough-alexandria",
      "execution_count": 200,
      "outputs": []
    },
    {
      "cell_type": "code",
      "metadata": {
        "id": "nasty-liechtenstein",
        "tags": []
      },
      "source": [
        "def percent_to_float(s):\n",
        "    return float(s.strip('%')) / 100.0\n",
        "\n",
        "replace_dict = {'(':'',')':'', ' ' : '', ',' : ''}\n",
        "def paranthesis_to_minus(value):\n",
        "    for i, j in replace_dict.items():\n",
        "        value = value.replace(i, j)\n",
        "    value = int(f'-{value}')\n",
        "    return value\n",
        "\n",
        "df['Env_intensity'] = df['EnvironmentalIntensity(Sales)'].apply(percent_to_float)"
      ],
      "id": "nasty-liechtenstein",
      "execution_count": 201,
      "outputs": []
    },
    {
      "cell_type": "code",
      "metadata": {
        "colab": {
          "base_uri": "https://localhost:8080/",
          "height": 289
        },
        "id": "looking-lindsay",
        "outputId": "9b49e062-846d-47b6-99f6-0f446f737423"
      },
      "source": [
        "df.head()"
      ],
      "id": "looking-lindsay",
      "execution_count": 202,
      "outputs": [
        {
          "output_type": "execute_result",
          "data": {
            "text/html": [
              "<div>\n",
              "<style scoped>\n",
              "    .dataframe tbody tr th:only-of-type {\n",
              "        vertical-align: middle;\n",
              "    }\n",
              "\n",
              "    .dataframe tbody tr th {\n",
              "        vertical-align: top;\n",
              "    }\n",
              "\n",
              "    .dataframe thead th {\n",
              "        text-align: right;\n",
              "    }\n",
              "</style>\n",
              "<table border=\"1\" class=\"dataframe\">\n",
              "  <thead>\n",
              "    <tr style=\"text-align: right;\">\n",
              "      <th></th>\n",
              "      <th>Year</th>\n",
              "      <th>CompanyName</th>\n",
              "      <th>Country</th>\n",
              "      <th>Industry(Exiobase)</th>\n",
              "      <th>EnvironmentalIntensity(Sales)</th>\n",
              "      <th>Env_intensity</th>\n",
              "    </tr>\n",
              "  </thead>\n",
              "  <tbody>\n",
              "    <tr>\n",
              "      <th>0</th>\n",
              "      <td>2016</td>\n",
              "      <td>1&amp;1 DRILLISCH AG</td>\n",
              "      <td>Germany</td>\n",
              "      <td>Post and telecommunications (64)</td>\n",
              "      <td>-0.07%</td>\n",
              "      <td>-0.0007</td>\n",
              "    </tr>\n",
              "    <tr>\n",
              "      <th>1</th>\n",
              "      <td>2010</td>\n",
              "      <td>3I GROUP PLC</td>\n",
              "      <td>United Kingdom</td>\n",
              "      <td>Financial intermediation, except insurance an...</td>\n",
              "      <td>-0.12%</td>\n",
              "      <td>-0.0012</td>\n",
              "    </tr>\n",
              "    <tr>\n",
              "      <th>2</th>\n",
              "      <td>2011</td>\n",
              "      <td>3I GROUP PLC</td>\n",
              "      <td>United Kingdom</td>\n",
              "      <td>Financial intermediation, except insurance an...</td>\n",
              "      <td>-0.16%</td>\n",
              "      <td>-0.0016</td>\n",
              "    </tr>\n",
              "    <tr>\n",
              "      <th>3</th>\n",
              "      <td>2012</td>\n",
              "      <td>3I GROUP PLC</td>\n",
              "      <td>United Kingdom</td>\n",
              "      <td>Financial intermediation, except insurance an...</td>\n",
              "      <td>-0.15%</td>\n",
              "      <td>-0.0015</td>\n",
              "    </tr>\n",
              "    <tr>\n",
              "      <th>4</th>\n",
              "      <td>2010</td>\n",
              "      <td>3M COMPANY</td>\n",
              "      <td>United States</td>\n",
              "      <td>Activities of membership organisation n.e.c. ...</td>\n",
              "      <td>-7.90%</td>\n",
              "      <td>-0.0790</td>\n",
              "    </tr>\n",
              "  </tbody>\n",
              "</table>\n",
              "</div>"
            ],
            "text/plain": [
              "   Year       CompanyName  ... EnvironmentalIntensity(Sales) Env_intensity\n",
              "0  2016  1&1 DRILLISCH AG  ...                        -0.07%       -0.0007\n",
              "1  2010      3I GROUP PLC  ...                        -0.12%       -0.0012\n",
              "2  2011      3I GROUP PLC  ...                        -0.16%       -0.0016\n",
              "3  2012      3I GROUP PLC  ...                        -0.15%       -0.0015\n",
              "4  2010        3M COMPANY  ...                        -7.90%       -0.0790\n",
              "\n",
              "[5 rows x 6 columns]"
            ]
          },
          "metadata": {
            "tags": []
          },
          "execution_count": 202
        }
      ]
    },
    {
      "cell_type": "markdown",
      "metadata": {
        "id": "desperate-tradition"
      },
      "source": [
        "### Creating industry indicator"
      ],
      "id": "desperate-tradition"
    },
    {
      "cell_type": "code",
      "metadata": {
        "id": "accomplished-science"
      },
      "source": [
        "industry_avg = df.groupby('Industry(Exiobase)')[['Env_intensity']].mean().reset_index()\n",
        "df['industry_avg'] = df['Env_intensity'].groupby(df['Industry(Exiobase)']).transform('mean')"
      ],
      "id": "accomplished-science",
      "execution_count": 203,
      "outputs": []
    },
    {
      "cell_type": "code",
      "metadata": {
        "colab": {
          "base_uri": "https://localhost:8080/",
          "height": 394
        },
        "id": "athletic-shelf",
        "outputId": "123c46ad-f0d4-48b9-d3d1-0ce3ae6ecb6c"
      },
      "source": [
        "def create_ind(df):\n",
        "    if(df['Env_intensity'] > df['industry_avg']):\n",
        "        return 1\n",
        "    elif (df['Env_intensity'] == df['industry_avg']):\n",
        "        return 0\n",
        "    elif (df['Env_intensity'] < df['industry_avg']):\n",
        "        return -1\n",
        "\n",
        "df['Industry_indicator'] = df.apply(create_ind, axis = 1)\n",
        "df.head()"
      ],
      "id": "athletic-shelf",
      "execution_count": 204,
      "outputs": [
        {
          "output_type": "execute_result",
          "data": {
            "text/html": [
              "<div>\n",
              "<style scoped>\n",
              "    .dataframe tbody tr th:only-of-type {\n",
              "        vertical-align: middle;\n",
              "    }\n",
              "\n",
              "    .dataframe tbody tr th {\n",
              "        vertical-align: top;\n",
              "    }\n",
              "\n",
              "    .dataframe thead th {\n",
              "        text-align: right;\n",
              "    }\n",
              "</style>\n",
              "<table border=\"1\" class=\"dataframe\">\n",
              "  <thead>\n",
              "    <tr style=\"text-align: right;\">\n",
              "      <th></th>\n",
              "      <th>Year</th>\n",
              "      <th>CompanyName</th>\n",
              "      <th>Country</th>\n",
              "      <th>Industry(Exiobase)</th>\n",
              "      <th>EnvironmentalIntensity(Sales)</th>\n",
              "      <th>Env_intensity</th>\n",
              "      <th>industry_avg</th>\n",
              "      <th>Industry_indicator</th>\n",
              "    </tr>\n",
              "  </thead>\n",
              "  <tbody>\n",
              "    <tr>\n",
              "      <th>0</th>\n",
              "      <td>2016</td>\n",
              "      <td>1&amp;1 DRILLISCH AG</td>\n",
              "      <td>Germany</td>\n",
              "      <td>Post and telecommunications (64)</td>\n",
              "      <td>-0.07%</td>\n",
              "      <td>-0.0007</td>\n",
              "      <td>-0.018382</td>\n",
              "      <td>1</td>\n",
              "    </tr>\n",
              "    <tr>\n",
              "      <th>1</th>\n",
              "      <td>2010</td>\n",
              "      <td>3I GROUP PLC</td>\n",
              "      <td>United Kingdom</td>\n",
              "      <td>Financial intermediation, except insurance an...</td>\n",
              "      <td>-0.12%</td>\n",
              "      <td>-0.0012</td>\n",
              "      <td>-0.020072</td>\n",
              "      <td>1</td>\n",
              "    </tr>\n",
              "    <tr>\n",
              "      <th>2</th>\n",
              "      <td>2011</td>\n",
              "      <td>3I GROUP PLC</td>\n",
              "      <td>United Kingdom</td>\n",
              "      <td>Financial intermediation, except insurance an...</td>\n",
              "      <td>-0.16%</td>\n",
              "      <td>-0.0016</td>\n",
              "      <td>-0.020072</td>\n",
              "      <td>1</td>\n",
              "    </tr>\n",
              "    <tr>\n",
              "      <th>3</th>\n",
              "      <td>2012</td>\n",
              "      <td>3I GROUP PLC</td>\n",
              "      <td>United Kingdom</td>\n",
              "      <td>Financial intermediation, except insurance an...</td>\n",
              "      <td>-0.15%</td>\n",
              "      <td>-0.0015</td>\n",
              "      <td>-0.020072</td>\n",
              "      <td>1</td>\n",
              "    </tr>\n",
              "    <tr>\n",
              "      <th>4</th>\n",
              "      <td>2010</td>\n",
              "      <td>3M COMPANY</td>\n",
              "      <td>United States</td>\n",
              "      <td>Activities of membership organisation n.e.c. ...</td>\n",
              "      <td>-7.90%</td>\n",
              "      <td>-0.0790</td>\n",
              "      <td>-0.117561</td>\n",
              "      <td>1</td>\n",
              "    </tr>\n",
              "  </tbody>\n",
              "</table>\n",
              "</div>"
            ],
            "text/plain": [
              "   Year       CompanyName  ... industry_avg Industry_indicator\n",
              "0  2016  1&1 DRILLISCH AG  ...    -0.018382                  1\n",
              "1  2010      3I GROUP PLC  ...    -0.020072                  1\n",
              "2  2011      3I GROUP PLC  ...    -0.020072                  1\n",
              "3  2012      3I GROUP PLC  ...    -0.020072                  1\n",
              "4  2010        3M COMPANY  ...    -0.117561                  1\n",
              "\n",
              "[5 rows x 8 columns]"
            ]
          },
          "metadata": {
            "tags": []
          },
          "execution_count": 204
        }
      ]
    },
    {
      "cell_type": "code",
      "metadata": {
        "colab": {
          "base_uri": "https://localhost:8080/",
          "height": 394
        },
        "id": "compound-detroit",
        "outputId": "ea4b940e-008c-4d41-bdb5-3ea5be6113f2"
      },
      "source": [
        "def create_ind_year(df):\n",
        "    if(df['Env_intensity'] > df['industry_avg_year']):\n",
        "        return 1\n",
        "    elif (df['Env_intensity'] == df['industry_avg_year']):\n",
        "        return 0\n",
        "    elif (df['Env_intensity'] < df['industry_avg_year']):\n",
        "        return -1\n",
        "\n",
        "df['industry_avg_year'] = df.groupby(['Industry(Exiobase)','Year']).transform('mean')[['Env_intensity']]\n",
        "\n",
        "df['Industry_indicator_year'] = df.apply(create_ind_year, axis = 1)\n",
        "df.head()"
      ],
      "id": "compound-detroit",
      "execution_count": 205,
      "outputs": [
        {
          "output_type": "execute_result",
          "data": {
            "text/html": [
              "<div>\n",
              "<style scoped>\n",
              "    .dataframe tbody tr th:only-of-type {\n",
              "        vertical-align: middle;\n",
              "    }\n",
              "\n",
              "    .dataframe tbody tr th {\n",
              "        vertical-align: top;\n",
              "    }\n",
              "\n",
              "    .dataframe thead th {\n",
              "        text-align: right;\n",
              "    }\n",
              "</style>\n",
              "<table border=\"1\" class=\"dataframe\">\n",
              "  <thead>\n",
              "    <tr style=\"text-align: right;\">\n",
              "      <th></th>\n",
              "      <th>Year</th>\n",
              "      <th>CompanyName</th>\n",
              "      <th>Country</th>\n",
              "      <th>Industry(Exiobase)</th>\n",
              "      <th>EnvironmentalIntensity(Sales)</th>\n",
              "      <th>Env_intensity</th>\n",
              "      <th>industry_avg</th>\n",
              "      <th>Industry_indicator</th>\n",
              "      <th>industry_avg_year</th>\n",
              "      <th>Industry_indicator_year</th>\n",
              "    </tr>\n",
              "  </thead>\n",
              "  <tbody>\n",
              "    <tr>\n",
              "      <th>0</th>\n",
              "      <td>2016</td>\n",
              "      <td>1&amp;1 DRILLISCH AG</td>\n",
              "      <td>Germany</td>\n",
              "      <td>Post and telecommunications (64)</td>\n",
              "      <td>-0.07%</td>\n",
              "      <td>-0.0007</td>\n",
              "      <td>-0.018382</td>\n",
              "      <td>1</td>\n",
              "      <td>-0.011640</td>\n",
              "      <td>1</td>\n",
              "    </tr>\n",
              "    <tr>\n",
              "      <th>1</th>\n",
              "      <td>2010</td>\n",
              "      <td>3I GROUP PLC</td>\n",
              "      <td>United Kingdom</td>\n",
              "      <td>Financial intermediation, except insurance an...</td>\n",
              "      <td>-0.12%</td>\n",
              "      <td>-0.0012</td>\n",
              "      <td>-0.020072</td>\n",
              "      <td>1</td>\n",
              "      <td>-0.006402</td>\n",
              "      <td>1</td>\n",
              "    </tr>\n",
              "    <tr>\n",
              "      <th>2</th>\n",
              "      <td>2011</td>\n",
              "      <td>3I GROUP PLC</td>\n",
              "      <td>United Kingdom</td>\n",
              "      <td>Financial intermediation, except insurance an...</td>\n",
              "      <td>-0.16%</td>\n",
              "      <td>-0.0016</td>\n",
              "      <td>-0.020072</td>\n",
              "      <td>1</td>\n",
              "      <td>-0.009838</td>\n",
              "      <td>1</td>\n",
              "    </tr>\n",
              "    <tr>\n",
              "      <th>3</th>\n",
              "      <td>2012</td>\n",
              "      <td>3I GROUP PLC</td>\n",
              "      <td>United Kingdom</td>\n",
              "      <td>Financial intermediation, except insurance an...</td>\n",
              "      <td>-0.15%</td>\n",
              "      <td>-0.0015</td>\n",
              "      <td>-0.020072</td>\n",
              "      <td>1</td>\n",
              "      <td>-0.024437</td>\n",
              "      <td>1</td>\n",
              "    </tr>\n",
              "    <tr>\n",
              "      <th>4</th>\n",
              "      <td>2010</td>\n",
              "      <td>3M COMPANY</td>\n",
              "      <td>United States</td>\n",
              "      <td>Activities of membership organisation n.e.c. ...</td>\n",
              "      <td>-7.90%</td>\n",
              "      <td>-0.0790</td>\n",
              "      <td>-0.117561</td>\n",
              "      <td>1</td>\n",
              "      <td>-0.084583</td>\n",
              "      <td>1</td>\n",
              "    </tr>\n",
              "  </tbody>\n",
              "</table>\n",
              "</div>"
            ],
            "text/plain": [
              "   Year       CompanyName  ... industry_avg_year Industry_indicator_year\n",
              "0  2016  1&1 DRILLISCH AG  ...         -0.011640                       1\n",
              "1  2010      3I GROUP PLC  ...         -0.006402                       1\n",
              "2  2011      3I GROUP PLC  ...         -0.009838                       1\n",
              "3  2012      3I GROUP PLC  ...         -0.024437                       1\n",
              "4  2010        3M COMPANY  ...         -0.084583                       1\n",
              "\n",
              "[5 rows x 10 columns]"
            ]
          },
          "metadata": {
            "tags": []
          },
          "execution_count": 205
        }
      ]
    },
    {
      "cell_type": "code",
      "metadata": {
        "colab": {
          "base_uri": "https://localhost:8080/",
          "height": 643
        },
        "id": "korean-crest",
        "outputId": "d3afd4f9-5acb-4f1a-b9d4-01cc5122e130"
      },
      "source": [
        "df.loc[(df['Industry(Exiobase)'] == 'Activities auxiliary to financial intermediation (67)'),:].sort_values(by='Year')"
      ],
      "id": "korean-crest",
      "execution_count": 206,
      "outputs": [
        {
          "output_type": "execute_result",
          "data": {
            "text/html": [
              "<div>\n",
              "<style scoped>\n",
              "    .dataframe tbody tr th:only-of-type {\n",
              "        vertical-align: middle;\n",
              "    }\n",
              "\n",
              "    .dataframe tbody tr th {\n",
              "        vertical-align: top;\n",
              "    }\n",
              "\n",
              "    .dataframe thead th {\n",
              "        text-align: right;\n",
              "    }\n",
              "</style>\n",
              "<table border=\"1\" class=\"dataframe\">\n",
              "  <thead>\n",
              "    <tr style=\"text-align: right;\">\n",
              "      <th></th>\n",
              "      <th>Year</th>\n",
              "      <th>CompanyName</th>\n",
              "      <th>Country</th>\n",
              "      <th>Industry(Exiobase)</th>\n",
              "      <th>EnvironmentalIntensity(Sales)</th>\n",
              "      <th>Env_intensity</th>\n",
              "      <th>industry_avg</th>\n",
              "      <th>Industry_indicator</th>\n",
              "      <th>industry_avg_year</th>\n",
              "      <th>Industry_indicator_year</th>\n",
              "    </tr>\n",
              "  </thead>\n",
              "  <tbody>\n",
              "    <tr>\n",
              "      <th>8166</th>\n",
              "      <td>2016</td>\n",
              "      <td>ADECCO GROUP AG</td>\n",
              "      <td>Switzerland</td>\n",
              "      <td>Activities auxiliary to financial intermediati...</td>\n",
              "      <td>-0.10%</td>\n",
              "      <td>-0.0010</td>\n",
              "      <td>-0.004417</td>\n",
              "      <td>1</td>\n",
              "      <td>-0.007880</td>\n",
              "      <td>1</td>\n",
              "    </tr>\n",
              "    <tr>\n",
              "      <th>14368</th>\n",
              "      <td>2016</td>\n",
              "      <td>WOLTERS KLUWER NV</td>\n",
              "      <td>Netherlands</td>\n",
              "      <td>Activities auxiliary to financial intermediati...</td>\n",
              "      <td>-0.20%</td>\n",
              "      <td>-0.0020</td>\n",
              "      <td>-0.004417</td>\n",
              "      <td>1</td>\n",
              "      <td>-0.007880</td>\n",
              "      <td>1</td>\n",
              "    </tr>\n",
              "    <tr>\n",
              "      <th>14123</th>\n",
              "      <td>2016</td>\n",
              "      <td>VERISK ANALYTICS INCORPORATION</td>\n",
              "      <td>United States</td>\n",
              "      <td>Activities auxiliary to financial intermediati...</td>\n",
              "      <td>-0.21%</td>\n",
              "      <td>-0.0021</td>\n",
              "      <td>-0.004417</td>\n",
              "      <td>1</td>\n",
              "      <td>-0.007880</td>\n",
              "      <td>1</td>\n",
              "    </tr>\n",
              "    <tr>\n",
              "      <th>13738</th>\n",
              "      <td>2016</td>\n",
              "      <td>TELEPERFORMANCE SE</td>\n",
              "      <td>France</td>\n",
              "      <td>Activities auxiliary to financial intermediati...</td>\n",
              "      <td>-1.10%</td>\n",
              "      <td>-0.0110</td>\n",
              "      <td>-0.004417</td>\n",
              "      <td>-1</td>\n",
              "      <td>-0.007880</td>\n",
              "      <td>-1</td>\n",
              "    </tr>\n",
              "    <tr>\n",
              "      <th>12891</th>\n",
              "      <td>2016</td>\n",
              "      <td>SAGA PLC</td>\n",
              "      <td>United Kingdom</td>\n",
              "      <td>Activities auxiliary to financial intermediati...</td>\n",
              "      <td>-2.82%</td>\n",
              "      <td>-0.0282</td>\n",
              "      <td>-0.004417</td>\n",
              "      <td>-1</td>\n",
              "      <td>-0.007880</td>\n",
              "      <td>-1</td>\n",
              "    </tr>\n",
              "    <tr>\n",
              "      <th>...</th>\n",
              "      <td>...</td>\n",
              "      <td>...</td>\n",
              "      <td>...</td>\n",
              "      <td>...</td>\n",
              "      <td>...</td>\n",
              "      <td>...</td>\n",
              "      <td>...</td>\n",
              "      <td>...</td>\n",
              "      <td>...</td>\n",
              "      <td>...</td>\n",
              "    </tr>\n",
              "    <tr>\n",
              "      <th>9736</th>\n",
              "      <td>2019</td>\n",
              "      <td>DKSH HOLDING AG</td>\n",
              "      <td>Switzerland</td>\n",
              "      <td>Activities auxiliary to financial intermediati...</td>\n",
              "      <td>-0.17%</td>\n",
              "      <td>-0.0017</td>\n",
              "      <td>-0.004417</td>\n",
              "      <td>1</td>\n",
              "      <td>0.002943</td>\n",
              "      <td>-1</td>\n",
              "    </tr>\n",
              "    <tr>\n",
              "      <th>10721</th>\n",
              "      <td>2019</td>\n",
              "      <td>HONG KONG EXCHANGES AND CLEARING LIMITED</td>\n",
              "      <td>Hong Kong</td>\n",
              "      <td>Activities auxiliary to financial intermediati...</td>\n",
              "      <td>-0.34%</td>\n",
              "      <td>-0.0034</td>\n",
              "      <td>-0.004417</td>\n",
              "      <td>1</td>\n",
              "      <td>0.002943</td>\n",
              "      <td>-1</td>\n",
              "    </tr>\n",
              "    <tr>\n",
              "      <th>10077</th>\n",
              "      <td>2019</td>\n",
              "      <td>EXPERIAN PLC</td>\n",
              "      <td>United Kingdom</td>\n",
              "      <td>Activities auxiliary to financial intermediati...</td>\n",
              "      <td>-0.20%</td>\n",
              "      <td>-0.0020</td>\n",
              "      <td>-0.004417</td>\n",
              "      <td>1</td>\n",
              "      <td>0.002943</td>\n",
              "      <td>-1</td>\n",
              "    </tr>\n",
              "    <tr>\n",
              "      <th>11536</th>\n",
              "      <td>2019</td>\n",
              "      <td>LONDON STOCK EXCHANGE GROUP PLC</td>\n",
              "      <td>United Kingdom</td>\n",
              "      <td>Activities auxiliary to financial intermediati...</td>\n",
              "      <td>-0.19%</td>\n",
              "      <td>-0.0019</td>\n",
              "      <td>-0.004417</td>\n",
              "      <td>1</td>\n",
              "      <td>0.002943</td>\n",
              "      <td>-1</td>\n",
              "    </tr>\n",
              "    <tr>\n",
              "      <th>9666</th>\n",
              "      <td>2019</td>\n",
              "      <td>DEUTSCHE BOERSE AG</td>\n",
              "      <td>Germany</td>\n",
              "      <td>Activities auxiliary to financial intermediati...</td>\n",
              "      <td>1.88%</td>\n",
              "      <td>0.0188</td>\n",
              "      <td>-0.004417</td>\n",
              "      <td>1</td>\n",
              "      <td>0.002943</td>\n",
              "      <td>1</td>\n",
              "    </tr>\n",
              "  </tbody>\n",
              "</table>\n",
              "<p>93 rows × 10 columns</p>\n",
              "</div>"
            ],
            "text/plain": [
              "       Year  ... Industry_indicator_year\n",
              "8166   2016  ...                       1\n",
              "14368  2016  ...                       1\n",
              "14123  2016  ...                       1\n",
              "13738  2016  ...                      -1\n",
              "12891  2016  ...                      -1\n",
              "...     ...  ...                     ...\n",
              "9736   2019  ...                      -1\n",
              "10721  2019  ...                      -1\n",
              "10077  2019  ...                      -1\n",
              "11536  2019  ...                      -1\n",
              "9666   2019  ...                       1\n",
              "\n",
              "[93 rows x 10 columns]"
            ]
          },
          "metadata": {
            "tags": []
          },
          "execution_count": 206
        }
      ]
    },
    {
      "cell_type": "markdown",
      "metadata": {
        "id": "impressive-buffer"
      },
      "source": [
        "### Creating Environmental growth\n",
        "\n",
        "Environmental Intensity Growth : ((Environmental Intensity in Current Year / Environmental Intensity Last Year) - 1) * 100"
      ],
      "id": "impressive-buffer"
    },
    {
      "cell_type": "code",
      "metadata": {
        "colab": {
          "base_uri": "https://localhost:8080/",
          "height": 0
        },
        "id": "eligible-mouth",
        "outputId": "87aa1add-bdf5-4342-82b9-5fed7cdbb9bf"
      },
      "source": [
        "df = df.sort_values(by=['CompanyName','Year'], ascending = True)\n",
        "df.head()"
      ],
      "id": "eligible-mouth",
      "execution_count": 207,
      "outputs": [
        {
          "output_type": "execute_result",
          "data": {
            "text/html": [
              "<div>\n",
              "<style scoped>\n",
              "    .dataframe tbody tr th:only-of-type {\n",
              "        vertical-align: middle;\n",
              "    }\n",
              "\n",
              "    .dataframe tbody tr th {\n",
              "        vertical-align: top;\n",
              "    }\n",
              "\n",
              "    .dataframe thead th {\n",
              "        text-align: right;\n",
              "    }\n",
              "</style>\n",
              "<table border=\"1\" class=\"dataframe\">\n",
              "  <thead>\n",
              "    <tr style=\"text-align: right;\">\n",
              "      <th></th>\n",
              "      <th>Year</th>\n",
              "      <th>CompanyName</th>\n",
              "      <th>Country</th>\n",
              "      <th>Industry(Exiobase)</th>\n",
              "      <th>EnvironmentalIntensity(Sales)</th>\n",
              "      <th>Env_intensity</th>\n",
              "      <th>industry_avg</th>\n",
              "      <th>Industry_indicator</th>\n",
              "      <th>industry_avg_year</th>\n",
              "      <th>Industry_indicator_year</th>\n",
              "    </tr>\n",
              "  </thead>\n",
              "  <tbody>\n",
              "    <tr>\n",
              "      <th>0</th>\n",
              "      <td>2016</td>\n",
              "      <td>1&amp;1 DRILLISCH AG</td>\n",
              "      <td>Germany</td>\n",
              "      <td>Post and telecommunications (64)</td>\n",
              "      <td>-0.07%</td>\n",
              "      <td>-0.0007</td>\n",
              "      <td>-0.018382</td>\n",
              "      <td>1</td>\n",
              "      <td>-0.011640</td>\n",
              "      <td>1</td>\n",
              "    </tr>\n",
              "    <tr>\n",
              "      <th>1</th>\n",
              "      <td>2010</td>\n",
              "      <td>3I GROUP PLC</td>\n",
              "      <td>United Kingdom</td>\n",
              "      <td>Financial intermediation, except insurance an...</td>\n",
              "      <td>-0.12%</td>\n",
              "      <td>-0.0012</td>\n",
              "      <td>-0.020072</td>\n",
              "      <td>1</td>\n",
              "      <td>-0.006402</td>\n",
              "      <td>1</td>\n",
              "    </tr>\n",
              "    <tr>\n",
              "      <th>2</th>\n",
              "      <td>2011</td>\n",
              "      <td>3I GROUP PLC</td>\n",
              "      <td>United Kingdom</td>\n",
              "      <td>Financial intermediation, except insurance an...</td>\n",
              "      <td>-0.16%</td>\n",
              "      <td>-0.0016</td>\n",
              "      <td>-0.020072</td>\n",
              "      <td>1</td>\n",
              "      <td>-0.009838</td>\n",
              "      <td>1</td>\n",
              "    </tr>\n",
              "    <tr>\n",
              "      <th>3</th>\n",
              "      <td>2012</td>\n",
              "      <td>3I GROUP PLC</td>\n",
              "      <td>United Kingdom</td>\n",
              "      <td>Financial intermediation, except insurance an...</td>\n",
              "      <td>-0.15%</td>\n",
              "      <td>-0.0015</td>\n",
              "      <td>-0.020072</td>\n",
              "      <td>1</td>\n",
              "      <td>-0.024437</td>\n",
              "      <td>1</td>\n",
              "    </tr>\n",
              "    <tr>\n",
              "      <th>4</th>\n",
              "      <td>2010</td>\n",
              "      <td>3M COMPANY</td>\n",
              "      <td>United States</td>\n",
              "      <td>Activities of membership organisation n.e.c. ...</td>\n",
              "      <td>-7.90%</td>\n",
              "      <td>-0.0790</td>\n",
              "      <td>-0.117561</td>\n",
              "      <td>1</td>\n",
              "      <td>-0.084583</td>\n",
              "      <td>1</td>\n",
              "    </tr>\n",
              "  </tbody>\n",
              "</table>\n",
              "</div>"
            ],
            "text/plain": [
              "   Year       CompanyName  ... industry_avg_year Industry_indicator_year\n",
              "0  2016  1&1 DRILLISCH AG  ...         -0.011640                       1\n",
              "1  2010      3I GROUP PLC  ...         -0.006402                       1\n",
              "2  2011      3I GROUP PLC  ...         -0.009838                       1\n",
              "3  2012      3I GROUP PLC  ...         -0.024437                       1\n",
              "4  2010        3M COMPANY  ...         -0.084583                       1\n",
              "\n",
              "[5 rows x 10 columns]"
            ]
          },
          "metadata": {
            "tags": []
          },
          "execution_count": 207
        }
      ]
    },
    {
      "cell_type": "code",
      "metadata": {
        "colab": {
          "base_uri": "https://localhost:8080/",
          "height": 0
        },
        "id": "forced-speed",
        "outputId": "2943b864-fc67-4408-bb39-ef6e7838c2ed"
      },
      "source": [
        "df['Environmental_Growth'] = df.groupby(['CompanyName'])['Env_intensity'].apply(lambda x: x.pct_change()).to_numpy() * 100\n",
        "df.head()"
      ],
      "id": "forced-speed",
      "execution_count": 208,
      "outputs": [
        {
          "output_type": "execute_result",
          "data": {
            "text/html": [
              "<div>\n",
              "<style scoped>\n",
              "    .dataframe tbody tr th:only-of-type {\n",
              "        vertical-align: middle;\n",
              "    }\n",
              "\n",
              "    .dataframe tbody tr th {\n",
              "        vertical-align: top;\n",
              "    }\n",
              "\n",
              "    .dataframe thead th {\n",
              "        text-align: right;\n",
              "    }\n",
              "</style>\n",
              "<table border=\"1\" class=\"dataframe\">\n",
              "  <thead>\n",
              "    <tr style=\"text-align: right;\">\n",
              "      <th></th>\n",
              "      <th>Year</th>\n",
              "      <th>CompanyName</th>\n",
              "      <th>Country</th>\n",
              "      <th>Industry(Exiobase)</th>\n",
              "      <th>EnvironmentalIntensity(Sales)</th>\n",
              "      <th>Env_intensity</th>\n",
              "      <th>industry_avg</th>\n",
              "      <th>Industry_indicator</th>\n",
              "      <th>industry_avg_year</th>\n",
              "      <th>Industry_indicator_year</th>\n",
              "      <th>Environmental_Growth</th>\n",
              "    </tr>\n",
              "  </thead>\n",
              "  <tbody>\n",
              "    <tr>\n",
              "      <th>0</th>\n",
              "      <td>2016</td>\n",
              "      <td>1&amp;1 DRILLISCH AG</td>\n",
              "      <td>Germany</td>\n",
              "      <td>Post and telecommunications (64)</td>\n",
              "      <td>-0.07%</td>\n",
              "      <td>-0.0007</td>\n",
              "      <td>-0.018382</td>\n",
              "      <td>1</td>\n",
              "      <td>-0.011640</td>\n",
              "      <td>1</td>\n",
              "      <td>NaN</td>\n",
              "    </tr>\n",
              "    <tr>\n",
              "      <th>1</th>\n",
              "      <td>2010</td>\n",
              "      <td>3I GROUP PLC</td>\n",
              "      <td>United Kingdom</td>\n",
              "      <td>Financial intermediation, except insurance an...</td>\n",
              "      <td>-0.12%</td>\n",
              "      <td>-0.0012</td>\n",
              "      <td>-0.020072</td>\n",
              "      <td>1</td>\n",
              "      <td>-0.006402</td>\n",
              "      <td>1</td>\n",
              "      <td>NaN</td>\n",
              "    </tr>\n",
              "    <tr>\n",
              "      <th>2</th>\n",
              "      <td>2011</td>\n",
              "      <td>3I GROUP PLC</td>\n",
              "      <td>United Kingdom</td>\n",
              "      <td>Financial intermediation, except insurance an...</td>\n",
              "      <td>-0.16%</td>\n",
              "      <td>-0.0016</td>\n",
              "      <td>-0.020072</td>\n",
              "      <td>1</td>\n",
              "      <td>-0.009838</td>\n",
              "      <td>1</td>\n",
              "      <td>33.333333</td>\n",
              "    </tr>\n",
              "    <tr>\n",
              "      <th>3</th>\n",
              "      <td>2012</td>\n",
              "      <td>3I GROUP PLC</td>\n",
              "      <td>United Kingdom</td>\n",
              "      <td>Financial intermediation, except insurance an...</td>\n",
              "      <td>-0.15%</td>\n",
              "      <td>-0.0015</td>\n",
              "      <td>-0.020072</td>\n",
              "      <td>1</td>\n",
              "      <td>-0.024437</td>\n",
              "      <td>1</td>\n",
              "      <td>-6.250000</td>\n",
              "    </tr>\n",
              "    <tr>\n",
              "      <th>4</th>\n",
              "      <td>2010</td>\n",
              "      <td>3M COMPANY</td>\n",
              "      <td>United States</td>\n",
              "      <td>Activities of membership organisation n.e.c. ...</td>\n",
              "      <td>-7.90%</td>\n",
              "      <td>-0.0790</td>\n",
              "      <td>-0.117561</td>\n",
              "      <td>1</td>\n",
              "      <td>-0.084583</td>\n",
              "      <td>1</td>\n",
              "      <td>NaN</td>\n",
              "    </tr>\n",
              "  </tbody>\n",
              "</table>\n",
              "</div>"
            ],
            "text/plain": [
              "   Year       CompanyName  ... Industry_indicator_year Environmental_Growth\n",
              "0  2016  1&1 DRILLISCH AG  ...                       1                  NaN\n",
              "1  2010      3I GROUP PLC  ...                       1                  NaN\n",
              "2  2011      3I GROUP PLC  ...                       1            33.333333\n",
              "3  2012      3I GROUP PLC  ...                       1            -6.250000\n",
              "4  2010        3M COMPANY  ...                       1                  NaN\n",
              "\n",
              "[5 rows x 11 columns]"
            ]
          },
          "metadata": {
            "tags": []
          },
          "execution_count": 208
        }
      ]
    },
    {
      "cell_type": "markdown",
      "metadata": {
        "id": "romance-perfume"
      },
      "source": [
        "### Model 1 - Past years Environmental Intensity"
      ],
      "id": "romance-perfume"
    },
    {
      "cell_type": "code",
      "metadata": {
        "id": "lonely-bleeding"
      },
      "source": [
        "df1 = df.copy()"
      ],
      "id": "lonely-bleeding",
      "execution_count": 209,
      "outputs": []
    },
    {
      "cell_type": "code",
      "metadata": {
        "colab": {
          "base_uri": "https://localhost:8080/"
        },
        "id": "taken-departure",
        "outputId": "eac508bd-1981-4bc8-f715-b105aaeaf7b3"
      },
      "source": [
        "companies_2018 = list(df1[df1['Year'] == 2018]['CompanyName'])\n",
        "companies_2019 = list(df1[(df1['Year'] == 2019) & (df1['CompanyName'].isin(companies_2018))]['CompanyName'])\n",
        "\n",
        "#Getting companies that are in both years\n",
        "list2018_as_set = set(companies_2018)\n",
        "intersection = list2018_as_set.intersection(companies_2019)\n",
        "\n",
        "X = df1[(df1['Year'] == 2018) & (df1['CompanyName'].isin(intersection))][['Env_intensity']]\n",
        "y = df1[(df1['Year'] == 2019) & (df1['CompanyName'].isin(intersection))][['Env_intensity']]\n",
        "\n",
        "X_train, X_test, y_train, y_test = train_test_split(\n",
        "    X, y, test_size=0.33, random_state=42)\n",
        "\n",
        "\n",
        "reg = LinearRegression().fit(X_train, y_train)\n",
        "\n",
        "y_pred = reg.predict(X_test)\n",
        "\n",
        "print('R2 score:', metrics.r2_score(y_test, y_pred))\n",
        "print('MSE: ', metrics.mean_squared_error(y_test, y_pred))\n"
      ],
      "id": "taken-departure",
      "execution_count": 210,
      "outputs": [
        {
          "output_type": "stream",
          "text": [
            "R2 score: 0.8825319170790614\n",
            "MSE:  0.010786739663931545\n"
          ],
          "name": "stdout"
        }
      ]
    },
    {
      "cell_type": "markdown",
      "metadata": {
        "id": "compatible-statement"
      },
      "source": [
        "### Model 2 - Past years average environmental intensity\n",
        "\n",
        "In this section, we will use the average environmental intensity of 2016-2018 to predict 2019 environmental intensity"
      ],
      "id": "compatible-statement"
    },
    {
      "cell_type": "code",
      "metadata": {
        "id": "alien-dragon"
      },
      "source": [
        "df2 = df.copy()\n",
        "EI_2016 = df2[df2['Year'] == 2016]\n",
        "EI_2017 = df2[df2['Year'] == 2017]\n",
        "EI_2018 = df2[df2['Year'] == 2018]\n",
        "EI_2019 = df2[df2['Year'] == 2019]"
      ],
      "id": "alien-dragon",
      "execution_count": 211,
      "outputs": []
    },
    {
      "cell_type": "code",
      "metadata": {
        "id": "organizational-headset"
      },
      "source": [
        "df_mod2 = EI_2016.merge(EI_2017, how='inner', on='CompanyName', suffixes=('_2016', '_2017'))\n",
        "df_mod2 = df_mod2.merge(EI_2018, how='inner', on='CompanyName')\n",
        "df_mod2 = df_mod2.merge(EI_2019, how='inner', on='CompanyName', suffixes=('_2018', '_2019'))"
      ],
      "id": "organizational-headset",
      "execution_count": 212,
      "outputs": []
    },
    {
      "cell_type": "code",
      "metadata": {
        "id": "nutritional-eagle"
      },
      "source": [
        "df_mod2 = df_mod2[['CompanyName','Year_2016','Env_intensity_2016','Year_2017','Env_intensity_2017','Year_2018','Env_intensity_2018','Year_2019','Env_intensity_2019']]"
      ],
      "id": "nutritional-eagle",
      "execution_count": 213,
      "outputs": []
    },
    {
      "cell_type": "code",
      "metadata": {
        "colab": {
          "base_uri": "https://localhost:8080/",
          "height": 326
        },
        "id": "nasty-medium",
        "outputId": "6362feb3-1b62-4f2f-d1da-e8bfa570bebb"
      },
      "source": [
        "df_mod2.head()"
      ],
      "id": "nasty-medium",
      "execution_count": 214,
      "outputs": [
        {
          "output_type": "execute_result",
          "data": {
            "text/html": [
              "<div>\n",
              "<style scoped>\n",
              "    .dataframe tbody tr th:only-of-type {\n",
              "        vertical-align: middle;\n",
              "    }\n",
              "\n",
              "    .dataframe tbody tr th {\n",
              "        vertical-align: top;\n",
              "    }\n",
              "\n",
              "    .dataframe thead th {\n",
              "        text-align: right;\n",
              "    }\n",
              "</style>\n",
              "<table border=\"1\" class=\"dataframe\">\n",
              "  <thead>\n",
              "    <tr style=\"text-align: right;\">\n",
              "      <th></th>\n",
              "      <th>CompanyName</th>\n",
              "      <th>Year_2016</th>\n",
              "      <th>Env_intensity_2016</th>\n",
              "      <th>Year_2017</th>\n",
              "      <th>Env_intensity_2017</th>\n",
              "      <th>Year_2018</th>\n",
              "      <th>Env_intensity_2018</th>\n",
              "      <th>Year_2019</th>\n",
              "      <th>Env_intensity_2019</th>\n",
              "    </tr>\n",
              "  </thead>\n",
              "  <tbody>\n",
              "    <tr>\n",
              "      <th>0</th>\n",
              "      <td>3M COMPANY</td>\n",
              "      <td>2016</td>\n",
              "      <td>-0.0705</td>\n",
              "      <td>2017</td>\n",
              "      <td>-0.0660</td>\n",
              "      <td>2018</td>\n",
              "      <td>-0.0710</td>\n",
              "      <td>2019</td>\n",
              "      <td>-0.0641</td>\n",
              "    </tr>\n",
              "    <tr>\n",
              "      <th>1</th>\n",
              "      <td>A.G.V. PRODUCTS CORP</td>\n",
              "      <td>2016</td>\n",
              "      <td>-0.0170</td>\n",
              "      <td>2017</td>\n",
              "      <td>-0.0190</td>\n",
              "      <td>2018</td>\n",
              "      <td>-0.0140</td>\n",
              "      <td>2019</td>\n",
              "      <td>-0.0172</td>\n",
              "    </tr>\n",
              "    <tr>\n",
              "      <th>2</th>\n",
              "      <td>AA PLC</td>\n",
              "      <td>2016</td>\n",
              "      <td>-0.0130</td>\n",
              "      <td>2017</td>\n",
              "      <td>-0.0124</td>\n",
              "      <td>2018</td>\n",
              "      <td>-0.0117</td>\n",
              "      <td>2019</td>\n",
              "      <td>-0.0070</td>\n",
              "    </tr>\n",
              "    <tr>\n",
              "      <th>3</th>\n",
              "      <td>AAC TECHNOLOGIES HOLDINGS INCORPORATION</td>\n",
              "      <td>2016</td>\n",
              "      <td>-0.0389</td>\n",
              "      <td>2017</td>\n",
              "      <td>-0.0591</td>\n",
              "      <td>2018</td>\n",
              "      <td>-0.0802</td>\n",
              "      <td>2019</td>\n",
              "      <td>-0.1080</td>\n",
              "    </tr>\n",
              "    <tr>\n",
              "      <th>4</th>\n",
              "      <td>AAREAL BANK AG</td>\n",
              "      <td>2016</td>\n",
              "      <td>-0.0024</td>\n",
              "      <td>2017</td>\n",
              "      <td>-0.0021</td>\n",
              "      <td>2018</td>\n",
              "      <td>-0.0019</td>\n",
              "      <td>2019</td>\n",
              "      <td>-0.0015</td>\n",
              "    </tr>\n",
              "  </tbody>\n",
              "</table>\n",
              "</div>"
            ],
            "text/plain": [
              "                               CompanyName  ...  Env_intensity_2019\n",
              "0                               3M COMPANY  ...             -0.0641\n",
              "1                     A.G.V. PRODUCTS CORP  ...             -0.0172\n",
              "2                                   AA PLC  ...             -0.0070\n",
              "3  AAC TECHNOLOGIES HOLDINGS INCORPORATION  ...             -0.1080\n",
              "4                           AAREAL BANK AG  ...             -0.0015\n",
              "\n",
              "[5 rows x 9 columns]"
            ]
          },
          "metadata": {
            "tags": []
          },
          "execution_count": 214
        }
      ]
    },
    {
      "cell_type": "code",
      "metadata": {
        "id": "preceding-clinic"
      },
      "source": [
        "df_melt2 = pd.melt(df_mod2, id_vars=['CompanyName'], value_vars=['Env_intensity_2016','Env_intensity_2016','Env_intensity_2017'],\n",
        "        var_name='myVarname', value_name='Environmental_intenrsity')"
      ],
      "id": "preceding-clinic",
      "execution_count": 215,
      "outputs": []
    },
    {
      "cell_type": "code",
      "metadata": {
        "colab": {
          "base_uri": "https://localhost:8080/",
          "height": 204
        },
        "id": "fatal-insider",
        "outputId": "6ef3f97d-82b9-4ef6-fc09-53ef7660ebbc"
      },
      "source": [
        "df_melt2.head()"
      ],
      "id": "fatal-insider",
      "execution_count": 216,
      "outputs": [
        {
          "output_type": "execute_result",
          "data": {
            "text/html": [
              "<div>\n",
              "<style scoped>\n",
              "    .dataframe tbody tr th:only-of-type {\n",
              "        vertical-align: middle;\n",
              "    }\n",
              "\n",
              "    .dataframe tbody tr th {\n",
              "        vertical-align: top;\n",
              "    }\n",
              "\n",
              "    .dataframe thead th {\n",
              "        text-align: right;\n",
              "    }\n",
              "</style>\n",
              "<table border=\"1\" class=\"dataframe\">\n",
              "  <thead>\n",
              "    <tr style=\"text-align: right;\">\n",
              "      <th></th>\n",
              "      <th>CompanyName</th>\n",
              "      <th>myVarname</th>\n",
              "      <th>Environmental_intenrsity</th>\n",
              "    </tr>\n",
              "  </thead>\n",
              "  <tbody>\n",
              "    <tr>\n",
              "      <th>0</th>\n",
              "      <td>3M COMPANY</td>\n",
              "      <td>Env_intensity_2016</td>\n",
              "      <td>-0.0705</td>\n",
              "    </tr>\n",
              "    <tr>\n",
              "      <th>1</th>\n",
              "      <td>A.G.V. PRODUCTS CORP</td>\n",
              "      <td>Env_intensity_2016</td>\n",
              "      <td>-0.0170</td>\n",
              "    </tr>\n",
              "    <tr>\n",
              "      <th>2</th>\n",
              "      <td>AA PLC</td>\n",
              "      <td>Env_intensity_2016</td>\n",
              "      <td>-0.0130</td>\n",
              "    </tr>\n",
              "    <tr>\n",
              "      <th>3</th>\n",
              "      <td>AAC TECHNOLOGIES HOLDINGS INCORPORATION</td>\n",
              "      <td>Env_intensity_2016</td>\n",
              "      <td>-0.0389</td>\n",
              "    </tr>\n",
              "    <tr>\n",
              "      <th>4</th>\n",
              "      <td>AAREAL BANK AG</td>\n",
              "      <td>Env_intensity_2016</td>\n",
              "      <td>-0.0024</td>\n",
              "    </tr>\n",
              "  </tbody>\n",
              "</table>\n",
              "</div>"
            ],
            "text/plain": [
              "                               CompanyName  ... Environmental_intenrsity\n",
              "0                               3M COMPANY  ...                  -0.0705\n",
              "1                     A.G.V. PRODUCTS CORP  ...                  -0.0170\n",
              "2                                   AA PLC  ...                  -0.0130\n",
              "3  AAC TECHNOLOGIES HOLDINGS INCORPORATION  ...                  -0.0389\n",
              "4                           AAREAL BANK AG  ...                  -0.0024\n",
              "\n",
              "[5 rows x 3 columns]"
            ]
          },
          "metadata": {
            "tags": []
          },
          "execution_count": 216
        }
      ]
    },
    {
      "cell_type": "code",
      "metadata": {
        "colab": {
          "base_uri": "https://localhost:8080/"
        },
        "id": "environmental-pleasure",
        "outputId": "5587b15d-d0b5-408f-ff20-d27c9a540107"
      },
      "source": [
        "ei_avg = df_melt2.groupby('CompanyName').mean().reset_index()\n",
        "X = ei_avg[['Environmental_intenrsity']]\n",
        "y = df_mod2[['Env_intensity_2019']]\n",
        "\n",
        "print(X.shape)\n",
        "print(y.shape)"
      ],
      "id": "environmental-pleasure",
      "execution_count": 217,
      "outputs": [
        {
          "output_type": "stream",
          "text": [
            "(1065, 1)\n",
            "(1065, 1)\n"
          ],
          "name": "stdout"
        }
      ]
    },
    {
      "cell_type": "code",
      "metadata": {
        "colab": {
          "base_uri": "https://localhost:8080/"
        },
        "id": "pressed-veteran",
        "outputId": "33a3d7b7-27fb-428d-a96b-ef954281a442"
      },
      "source": [
        "x_train, x_test, y_train, y_test = train_test_split(X ,y, test_size = 0.2, random_state = 42)\n",
        "# train Linear Regression\n",
        "LRtrainer = LinearRegression()\n",
        "LRtrainer.fit(x_train,y_train)\n",
        "\n",
        "# mse for linear regression\n",
        "y_pred_lr = LRtrainer.predict(x_test)\n",
        "print(metrics.mean_squared_error(y_pred_lr, y_test))"
      ],
      "id": "pressed-veteran",
      "execution_count": 218,
      "outputs": [
        {
          "output_type": "stream",
          "text": [
            "0.006269966737857913\n"
          ],
          "name": "stdout"
        }
      ]
    },
    {
      "cell_type": "code",
      "metadata": {
        "colab": {
          "base_uri": "https://localhost:8080/"
        },
        "id": "productive-cattle",
        "outputId": "fe5a2028-f1b0-4099-8deb-d3c074b0e2d2"
      },
      "source": [
        "# display the parameters\n",
        "print('Model intercept: ', LRtrainer.intercept_)\n",
        "print('Model coefficients: ', LRtrainer.coef_)"
      ],
      "id": "productive-cattle",
      "execution_count": 219,
      "outputs": [
        {
          "output_type": "stream",
          "text": [
            "Model intercept:  [-0.0051724]\n",
            "Model coefficients:  [[0.80432622]]\n"
          ],
          "name": "stdout"
        }
      ]
    },
    {
      "cell_type": "code",
      "metadata": {
        "colab": {
          "base_uri": "https://localhost:8080/"
        },
        "id": "binary-property",
        "outputId": "dc6df8a4-dc4c-4f10-f1b5-0d8b586dbc4f"
      },
      "source": [
        "print('R2 score:', metrics.r2_score(y_test, y_pred_lr))"
      ],
      "id": "binary-property",
      "execution_count": 220,
      "outputs": [
        {
          "output_type": "stream",
          "text": [
            "R2 score: 0.8756921251462437\n"
          ],
          "name": "stdout"
        }
      ]
    },
    {
      "cell_type": "markdown",
      "metadata": {
        "id": "encouraging-orlando"
      },
      "source": [
        "### Model 3 - Yearly Industry Average\n",
        "\n",
        "For this model, the predictor will be the industry average for the respective year. \n",
        "There is no data for 2020, so we plan to predict 2019 environmental intensity.  Accordingly, we used 2018 and 2017 Industry data (past data) to predict 2019 evronmental intensity. "
      ],
      "id": "encouraging-orlando"
    },
    {
      "cell_type": "code",
      "metadata": {
        "colab": {
          "base_uri": "https://localhost:8080/",
          "height": 0
        },
        "id": "internal-cleveland",
        "outputId": "ca8bc272-aa76-4ede-ef15-71cc9ec9d871"
      },
      "source": [
        "sns.countplot(x='Year', data = df)"
      ],
      "id": "internal-cleveland",
      "execution_count": 221,
      "outputs": [
        {
          "output_type": "execute_result",
          "data": {
            "text/plain": [
              "<matplotlib.axes._subplots.AxesSubplot at 0x7fb96f41b810>"
            ]
          },
          "metadata": {
            "tags": []
          },
          "execution_count": 221
        },
        {
          "output_type": "display_data",
          "data": {
            "image/png": "[encoded data removed]",
            "text/plain": [
              "<Figure size 432x288 with 1 Axes>"
            ]
          },
          "metadata": {
            "tags": [],
            "needs_background": "light"
          }
        }
      ]
    },
    {
      "cell_type": "markdown",
      "metadata": {
        "id": "young-routine"
      },
      "source": [
        "The dataset does not contain consistent records throught out the years. Therefore, it could be possible we have data for one company in 2019 but not data from that company in 2018, 2017, etc. \n",
        "\n",
        "We will start by only using 2018 industry average as a feature to predict 2019 environmental intensity. First, we will subset the companies that we have 2018 data and get their 2019 environmental intensity."
      ],
      "id": "young-routine"
    },
    {
      "cell_type": "code",
      "metadata": {
        "colab": {
          "base_uri": "https://localhost:8080/",
          "height": 0
        },
        "id": "ecological-austin",
        "outputId": "1647c365-6642-4c88-a548-ab333d3ba701"
      },
      "source": [
        "df_2018 = df.loc[df.Year == 2018, ]\n",
        "df_2019 = df.loc[df.Year == 2019, ]\n",
        "df_mod3 = pd.merge(df_2018, df_2019, on='CompanyName',how='inner')\n",
        "df_mod3 = df_mod3[['Year_x','CompanyName','industry_avg_year_x','Year_y','Env_intensity_y']]\n",
        "df_mod3.head()"
      ],
      "id": "ecological-austin",
      "execution_count": 222,
      "outputs": [
        {
          "output_type": "execute_result",
          "data": {
            "text/html": [
              "<div>\n",
              "<style scoped>\n",
              "    .dataframe tbody tr th:only-of-type {\n",
              "        vertical-align: middle;\n",
              "    }\n",
              "\n",
              "    .dataframe tbody tr th {\n",
              "        vertical-align: top;\n",
              "    }\n",
              "\n",
              "    .dataframe thead th {\n",
              "        text-align: right;\n",
              "    }\n",
              "</style>\n",
              "<table border=\"1\" class=\"dataframe\">\n",
              "  <thead>\n",
              "    <tr style=\"text-align: right;\">\n",
              "      <th></th>\n",
              "      <th>Year_x</th>\n",
              "      <th>CompanyName</th>\n",
              "      <th>industry_avg_year_x</th>\n",
              "      <th>Year_y</th>\n",
              "      <th>Env_intensity_y</th>\n",
              "    </tr>\n",
              "  </thead>\n",
              "  <tbody>\n",
              "    <tr>\n",
              "      <th>0</th>\n",
              "      <td>2018</td>\n",
              "      <td>3M COMPANY</td>\n",
              "      <td>-0.229308</td>\n",
              "      <td>2019</td>\n",
              "      <td>-0.0641</td>\n",
              "    </tr>\n",
              "    <tr>\n",
              "      <th>1</th>\n",
              "      <td>2018</td>\n",
              "      <td>3SBIO INC</td>\n",
              "      <td>-0.027793</td>\n",
              "      <td>2019</td>\n",
              "      <td>-0.0340</td>\n",
              "    </tr>\n",
              "    <tr>\n",
              "      <th>2</th>\n",
              "      <td>2018</td>\n",
              "      <td>A.G.V. PRODUCTS CORP</td>\n",
              "      <td>-0.072254</td>\n",
              "      <td>2019</td>\n",
              "      <td>-0.0172</td>\n",
              "    </tr>\n",
              "    <tr>\n",
              "      <th>3</th>\n",
              "      <td>2018</td>\n",
              "      <td>AA PLC</td>\n",
              "      <td>-0.073777</td>\n",
              "      <td>2019</td>\n",
              "      <td>-0.0070</td>\n",
              "    </tr>\n",
              "    <tr>\n",
              "      <th>4</th>\n",
              "      <td>2018</td>\n",
              "      <td>AAC TECHNOLOGIES HOLDINGS INCORPORATION</td>\n",
              "      <td>-0.023555</td>\n",
              "      <td>2019</td>\n",
              "      <td>-0.1080</td>\n",
              "    </tr>\n",
              "  </tbody>\n",
              "</table>\n",
              "</div>"
            ],
            "text/plain": [
              "   Year_x                              CompanyName  ...  Year_y  Env_intensity_y\n",
              "0    2018                               3M COMPANY  ...    2019          -0.0641\n",
              "1    2018                                3SBIO INC  ...    2019          -0.0340\n",
              "2    2018                     A.G.V. PRODUCTS CORP  ...    2019          -0.0172\n",
              "3    2018                                   AA PLC  ...    2019          -0.0070\n",
              "4    2018  AAC TECHNOLOGIES HOLDINGS INCORPORATION  ...    2019          -0.1080\n",
              "\n",
              "[5 rows x 5 columns]"
            ]
          },
          "metadata": {
            "tags": []
          },
          "execution_count": 222
        }
      ]
    },
    {
      "cell_type": "code",
      "metadata": {
        "colab": {
          "base_uri": "https://localhost:8080/"
        },
        "id": "colonial-village",
        "outputId": "9a90b8d7-d19f-4e6a-d364-a5acbfc09189"
      },
      "source": [
        "X = df_mod3[['industry_avg_year_x']]\n",
        "y = df_mod3.iloc[:,4]\n",
        "print(X.shape)\n",
        "print(y.shape)"
      ],
      "id": "colonial-village",
      "execution_count": 223,
      "outputs": [
        {
          "output_type": "stream",
          "text": [
            "(1336, 1)\n",
            "(1336,)\n"
          ],
          "name": "stdout"
        }
      ]
    },
    {
      "cell_type": "code",
      "metadata": {
        "colab": {
          "base_uri": "https://localhost:8080/"
        },
        "id": "quality-finnish",
        "outputId": "e9fb8987-856e-4306-d0a6-9d55861c0639"
      },
      "source": [
        "x_train, x_test, y_train, y_test = train_test_split(X ,y, test_size = 0.2, random_state = 42)\n",
        "# train Linear Regression\n",
        "LRtrainer = LinearRegression()\n",
        "LRtrainer.fit(x_train,y_train)\n",
        "\n",
        "# mse for linear regression\n",
        "y_pred_lr = LRtrainer.predict(x_test)\n",
        "print(metrics.mean_squared_error(y_pred_lr, y_test))"
      ],
      "id": "quality-finnish",
      "execution_count": 224,
      "outputs": [
        {
          "output_type": "stream",
          "text": [
            "0.06598743409385226\n"
          ],
          "name": "stdout"
        }
      ]
    },
    {
      "cell_type": "code",
      "metadata": {
        "colab": {
          "base_uri": "https://localhost:8080/"
        },
        "id": "grave-supervision",
        "outputId": "2ee80d50-f314-44ef-8081-aac825c7a4b0"
      },
      "source": [
        "# display the parameters\n",
        "print('Model intercept: ', LRtrainer.intercept_)\n",
        "print('Model coefficients: ', LRtrainer.coef_)"
      ],
      "id": "grave-supervision",
      "execution_count": 225,
      "outputs": [
        {
          "output_type": "stream",
          "text": [
            "Model intercept:  0.0002669631900767411\n",
            "Model coefficients:  [0.91303819]\n"
          ],
          "name": "stdout"
        }
      ]
    },
    {
      "cell_type": "code",
      "metadata": {
        "colab": {
          "base_uri": "https://localhost:8080/"
        },
        "id": "baking-shield",
        "outputId": "d1446d5a-448f-490d-d345-2c934f0eb0df"
      },
      "source": [
        "print('R2 score:', metrics.r2_score(y_test, y_pred_lr))"
      ],
      "id": "baking-shield",
      "execution_count": 226,
      "outputs": [
        {
          "output_type": "stream",
          "text": [
            "R2 score: 0.36647102462935643\n"
          ],
          "name": "stdout"
        }
      ]
    },
    {
      "cell_type": "markdown",
      "metadata": {
        "id": "periodic-above"
      },
      "source": [
        "Now, we are going to consider 2017 - 2018 to predict 2019"
      ],
      "id": "periodic-above"
    },
    {
      "cell_type": "code",
      "metadata": {
        "id": "continent-acrobat"
      },
      "source": [
        "df_2019=df[df['Year'] == 2019]\n",
        "df_2018=df[df['Year'] == 2018]\n",
        "df_2017=df[df['Year'] == 2017]"
      ],
      "id": "continent-acrobat",
      "execution_count": 227,
      "outputs": []
    },
    {
      "cell_type": "code",
      "metadata": {
        "colab": {
          "base_uri": "https://localhost:8080/",
          "height": 0
        },
        "id": "appointed-breed",
        "outputId": "ab923547-d737-4086-f316-bc05a13d4b01"
      },
      "source": [
        "df2019=df_2019[['Year','CompanyName','Env_intensity']] \n",
        "df2019.rename(columns={'Env_intensity': 'Env_intensity2019'}, inplace=True) \n",
        "df2018=df_2018[['CompanyName','industry_avg_year']]\n",
        "df2018.rename(columns={'industry_avg_year': 'Ind_Yearavg2018'}, inplace=True) \n",
        "df2017=df_2017[['CompanyName','industry_avg_year']]\n",
        "df2017.rename(columns={'industry_avg_year': 'Ind_Yearavg2017'}, inplace=True) \n",
        "mdl = pd.merge(df2019, df2018, on=[\"CompanyName\"])\n",
        "mdl1= pd.merge(mdl, df2017, on=[\"CompanyName\"])\n",
        "mdl1"
      ],
      "id": "appointed-breed",
      "execution_count": 228,
      "outputs": [
        {
          "output_type": "execute_result",
          "data": {
            "text/html": [
              "<div>\n",
              "<style scoped>\n",
              "    .dataframe tbody tr th:only-of-type {\n",
              "        vertical-align: middle;\n",
              "    }\n",
              "\n",
              "    .dataframe tbody tr th {\n",
              "        vertical-align: top;\n",
              "    }\n",
              "\n",
              "    .dataframe thead th {\n",
              "        text-align: right;\n",
              "    }\n",
              "</style>\n",
              "<table border=\"1\" class=\"dataframe\">\n",
              "  <thead>\n",
              "    <tr style=\"text-align: right;\">\n",
              "      <th></th>\n",
              "      <th>Year</th>\n",
              "      <th>CompanyName</th>\n",
              "      <th>Env_intensity2019</th>\n",
              "      <th>Ind_Yearavg2018</th>\n",
              "      <th>Ind_Yearavg2017</th>\n",
              "    </tr>\n",
              "  </thead>\n",
              "  <tbody>\n",
              "    <tr>\n",
              "      <th>0</th>\n",
              "      <td>2019</td>\n",
              "      <td>3M COMPANY</td>\n",
              "      <td>-0.0641</td>\n",
              "      <td>-0.229308</td>\n",
              "      <td>-0.225496</td>\n",
              "    </tr>\n",
              "    <tr>\n",
              "      <th>1</th>\n",
              "      <td>2019</td>\n",
              "      <td>3SBIO INC</td>\n",
              "      <td>-0.0340</td>\n",
              "      <td>-0.027793</td>\n",
              "      <td>-0.031771</td>\n",
              "    </tr>\n",
              "    <tr>\n",
              "      <th>2</th>\n",
              "      <td>2019</td>\n",
              "      <td>A.G.V. PRODUCTS CORP</td>\n",
              "      <td>-0.0172</td>\n",
              "      <td>-0.072254</td>\n",
              "      <td>-0.063618</td>\n",
              "    </tr>\n",
              "    <tr>\n",
              "      <th>3</th>\n",
              "      <td>2019</td>\n",
              "      <td>AA PLC</td>\n",
              "      <td>-0.0070</td>\n",
              "      <td>-0.073777</td>\n",
              "      <td>-0.096157</td>\n",
              "    </tr>\n",
              "    <tr>\n",
              "      <th>4</th>\n",
              "      <td>2019</td>\n",
              "      <td>AAC TECHNOLOGIES HOLDINGS INCORPORATION</td>\n",
              "      <td>-0.1080</td>\n",
              "      <td>-0.023555</td>\n",
              "      <td>-0.027254</td>\n",
              "    </tr>\n",
              "    <tr>\n",
              "      <th>...</th>\n",
              "      <td>...</td>\n",
              "      <td>...</td>\n",
              "      <td>...</td>\n",
              "      <td>...</td>\n",
              "      <td>...</td>\n",
              "    </tr>\n",
              "    <tr>\n",
              "      <th>1190</th>\n",
              "      <td>2019</td>\n",
              "      <td>ZEON CORPORATION</td>\n",
              "      <td>-0.0730</td>\n",
              "      <td>-0.218707</td>\n",
              "      <td>-0.275385</td>\n",
              "    </tr>\n",
              "    <tr>\n",
              "      <th>1191</th>\n",
              "      <td>2019</td>\n",
              "      <td>ZHEN DING TECHNOLOGY HOLDING LIMITED</td>\n",
              "      <td>-0.0602</td>\n",
              "      <td>-0.076812</td>\n",
              "      <td>-0.068294</td>\n",
              "    </tr>\n",
              "    <tr>\n",
              "      <th>1192</th>\n",
              "      <td>2019</td>\n",
              "      <td>ZIG SHENG INDUSTRIAL COMPANY LIMITED</td>\n",
              "      <td>-0.1615</td>\n",
              "      <td>-0.124750</td>\n",
              "      <td>-0.117456</td>\n",
              "    </tr>\n",
              "    <tr>\n",
              "      <th>1193</th>\n",
              "      <td>2019</td>\n",
              "      <td>ZORLU ENERJI AS</td>\n",
              "      <td>-0.3430</td>\n",
              "      <td>-1.012140</td>\n",
              "      <td>-0.578986</td>\n",
              "    </tr>\n",
              "    <tr>\n",
              "      <th>1194</th>\n",
              "      <td>2019</td>\n",
              "      <td>ZUMTOBEL AG</td>\n",
              "      <td>-0.0051</td>\n",
              "      <td>-0.020683</td>\n",
              "      <td>-0.036006</td>\n",
              "    </tr>\n",
              "  </tbody>\n",
              "</table>\n",
              "<p>1195 rows × 5 columns</p>\n",
              "</div>"
            ],
            "text/plain": [
              "      Year  ... Ind_Yearavg2017\n",
              "0     2019  ...       -0.225496\n",
              "1     2019  ...       -0.031771\n",
              "2     2019  ...       -0.063618\n",
              "3     2019  ...       -0.096157\n",
              "4     2019  ...       -0.027254\n",
              "...    ...  ...             ...\n",
              "1190  2019  ...       -0.275385\n",
              "1191  2019  ...       -0.068294\n",
              "1192  2019  ...       -0.117456\n",
              "1193  2019  ...       -0.578986\n",
              "1194  2019  ...       -0.036006\n",
              "\n",
              "[1195 rows x 5 columns]"
            ]
          },
          "metadata": {
            "tags": []
          },
          "execution_count": 228
        }
      ]
    },
    {
      "cell_type": "code",
      "metadata": {
        "colab": {
          "base_uri": "https://localhost:8080/"
        },
        "id": "linear-moisture",
        "outputId": "8cb05f68-e143-4c24-9e47-82b2e75828a3"
      },
      "source": [
        "X=mdl1[['Ind_Yearavg2018','Ind_Yearavg2017']]\n",
        "y=mdl1['Env_intensity2019']\n",
        "print(X.shape)\n",
        "print(y.shape)"
      ],
      "id": "linear-moisture",
      "execution_count": 229,
      "outputs": [
        {
          "output_type": "stream",
          "text": [
            "(1195, 2)\n",
            "(1195,)\n"
          ],
          "name": "stdout"
        }
      ]
    },
    {
      "cell_type": "code",
      "metadata": {
        "id": "stunning-nightmare"
      },
      "source": [
        "regr = linear_model.LinearRegression()\n",
        "X_train, X_test, y_train, y_test = train_test_split(X,y,test_size=0.2,random_state=42)\n",
        "regr.fit(X_train, y_train)\n",
        "y_train_pred = np.exp(regr.predict(X_train))\n",
        "y_pred = np.exp(regr.predict(X_test))\n",
        "y_test = np.exp(y_test)"
      ],
      "id": "stunning-nightmare",
      "execution_count": 230,
      "outputs": []
    },
    {
      "cell_type": "code",
      "metadata": {
        "colab": {
          "base_uri": "https://localhost:8080/"
        },
        "id": "dated-frequency",
        "outputId": "f5e79783-37a6-4f5c-8b7b-53d3b3bbecaa"
      },
      "source": [
        "print('MSE train: %.3f, test: %.3f' % (metrics.mean_squared_error(y_train, y_train_pred),\n",
        "                metrics.mean_squared_error(y_test, y_pred)))"
      ],
      "id": "dated-frequency",
      "execution_count": 231,
      "outputs": [
        {
          "output_type": "stream",
          "text": [
            "MSE train: 1.064, test: 0.038\n"
          ],
          "name": "stdout"
        }
      ]
    },
    {
      "cell_type": "code",
      "metadata": {
        "colab": {
          "base_uri": "https://localhost:8080/"
        },
        "id": "noted-cooling",
        "outputId": "408285ee-2836-4a99-aea2-852cd830e97b"
      },
      "source": [
        "# display the parameters\n",
        "print('Model intercept: ', regr.intercept_)\n",
        "print('Model coefficients: ', regr.coef_)"
      ],
      "id": "noted-cooling",
      "execution_count": 232,
      "outputs": [
        {
          "output_type": "stream",
          "text": [
            "Model intercept:  0.000576398328011471\n",
            "Model coefficients:  [ 0.94555899 -0.06948928]\n"
          ],
          "name": "stdout"
        }
      ]
    },
    {
      "cell_type": "code",
      "metadata": {
        "colab": {
          "base_uri": "https://localhost:8080/"
        },
        "id": "entitled-champagne",
        "outputId": "21157c91-b0e7-43f0-bc20-1e96813cbeca"
      },
      "source": [
        "print('R2 score:', metrics.r2_score(y_test, y_pred))"
      ],
      "id": "entitled-champagne",
      "execution_count": 233,
      "outputs": [
        {
          "output_type": "stream",
          "text": [
            "R2 score: 0.26873239153605155\n"
          ],
          "name": "stdout"
        }
      ]
    },
    {
      "cell_type": "markdown",
      "metadata": {
        "id": "extended-remark"
      },
      "source": [
        "Using the industry environmental average for 2017 and 2018 only explained 27% of the variation in the dataset. Let's see what happens including 2016-2018 to predict 2019"
      ],
      "id": "extended-remark"
    },
    {
      "cell_type": "code",
      "metadata": {
        "id": "reflected-ethnic"
      },
      "source": [
        "df_2016 = df.loc[df.Year == 2016, ]\n",
        "df_2017 = df.loc[df.Year == 2017, ]\n",
        "df1 = df_2016.merge(df_2017, how='inner', on='CompanyName', suffixes=('_2016', '_2017'))\n",
        "df1 = df1.merge(df_2018, how='inner', on='CompanyName')\n",
        "df1 = df1.merge(df_2019, how='inner', on='CompanyName', suffixes=('_2018', '_2019'))\n",
        "df1 = df1[['Year_2016','industry_avg_year_2016','Year_2017','industry_avg_year_2017','Year_2018','industry_avg_year_2018','Year_2019','Env_intensity_2019']]"
      ],
      "id": "reflected-ethnic",
      "execution_count": 234,
      "outputs": []
    },
    {
      "cell_type": "code",
      "metadata": {
        "colab": {
          "base_uri": "https://localhost:8080/"
        },
        "id": "accepting-amplifier",
        "outputId": "cc59d859-4fc8-497a-c9ab-f6ab47c241f7"
      },
      "source": [
        "X = df1[['industry_avg_year_2016','industry_avg_year_2017','industry_avg_year_2018']]\n",
        "y = df1.iloc[:,7]\n",
        "print(X.shape)\n",
        "print(y.shape)"
      ],
      "id": "accepting-amplifier",
      "execution_count": 235,
      "outputs": [
        {
          "output_type": "stream",
          "text": [
            "(1065, 3)\n",
            "(1065,)\n"
          ],
          "name": "stdout"
        }
      ]
    },
    {
      "cell_type": "code",
      "metadata": {
        "id": "universal-biodiversity"
      },
      "source": [
        "regr = linear_model.LinearRegression()\n",
        "X_train, X_test, y_train, y_test = train_test_split(X,y,test_size=0.2,random_state=42)\n",
        "regr.fit(X_train, y_train)\n",
        "y_train_pred = regr.predict(X_train)\n",
        "y_pred = regr.predict(X_test)"
      ],
      "id": "universal-biodiversity",
      "execution_count": 236,
      "outputs": []
    },
    {
      "cell_type": "code",
      "metadata": {
        "colab": {
          "base_uri": "https://localhost:8080/"
        },
        "id": "ignored-broadcasting",
        "outputId": "eac71702-ee87-4d80-85cc-ffc84624378c"
      },
      "source": [
        "print('MSE train: %.3f, test: %.3f' % (metrics.mean_squared_error(y_train, y_train_pred),\n",
        "                metrics.mean_squared_error(y_test, y_pred)))"
      ],
      "id": "ignored-broadcasting",
      "execution_count": 237,
      "outputs": [
        {
          "output_type": "stream",
          "text": [
            "MSE train: 0.033, test: 0.031\n"
          ],
          "name": "stdout"
        }
      ]
    },
    {
      "cell_type": "code",
      "metadata": {
        "colab": {
          "base_uri": "https://localhost:8080/"
        },
        "id": "unauthorized-isolation",
        "outputId": "d1242c6b-3e26-4f9d-a254-9eab935d0fec"
      },
      "source": [
        "# display the parameters\n",
        "print('Model intercept: ', regr.intercept_)\n",
        "print('Model coefficients: ', regr.coef_)"
      ],
      "id": "unauthorized-isolation",
      "execution_count": 238,
      "outputs": [
        {
          "output_type": "stream",
          "text": [
            "Model intercept:  0.0030480783209566598\n",
            "Model coefficients:  [0.30694139 0.28498824 0.26816881]\n"
          ],
          "name": "stdout"
        }
      ]
    },
    {
      "cell_type": "code",
      "metadata": {
        "colab": {
          "base_uri": "https://localhost:8080/"
        },
        "id": "conservative-playing",
        "outputId": "ef1762db-4332-40ec-c9c4-a211d1488af1"
      },
      "source": [
        "print('R2 score:', metrics.r2_score(y_test, y_pred))"
      ],
      "id": "conservative-playing",
      "execution_count": 239,
      "outputs": [
        {
          "output_type": "stream",
          "text": [
            "R2 score: 0.39520621546916435\n"
          ],
          "name": "stdout"
        }
      ]
    },
    {
      "cell_type": "markdown",
      "metadata": {
        "id": "operating-livestock"
      },
      "source": [
        "### Model 4 -Yearly Industry Indicator\n",
        "\n",
        "For this model, we will consider the yearly industry indicator from past years to predict the company 2019 environmental intensity. \n",
        "\n",
        "We are going to start from 2017-2018 to predict 2019. "
      ],
      "id": "operating-livestock"
    },
    {
      "cell_type": "code",
      "metadata": {
        "colab": {
          "base_uri": "https://localhost:8080/",
          "height": 419
        },
        "id": "willing-trader",
        "outputId": "29089d36-54f2-418e-9264-ad86ed79eea6"
      },
      "source": [
        "df_2019=df[df['Year'] == 2019]\n",
        "df_2018=df[df['Year'] == 2018]\n",
        "df_2017=df[df['Year'] == 2017]\n",
        "\n",
        "df2019=df_2019[['Year','CompanyName','Env_intensity']] \n",
        "df2019.rename(columns={'Env_intensity': 'Env_intensity2019'}, inplace=True) \n",
        "df2018=df_2018[['CompanyName','Industry_indicator_year']]\n",
        "df2018.rename(columns={'Industry_indicator_year': 'Ind_Indicator_2018'}, inplace=True) \n",
        "df2017=df_2017[['CompanyName','Industry_indicator_year']]\n",
        "df2017.rename(columns={'Industry_indicator_year': 'Ind_Indicator_2017'}, inplace=True) \n",
        "mdl4 = pd.merge(df2019, df2018, on=[\"CompanyName\"])\n",
        "mdl4= pd.merge(mdl4, df2017, on=[\"CompanyName\"])\n",
        "mdl4"
      ],
      "id": "willing-trader",
      "execution_count": 240,
      "outputs": [
        {
          "output_type": "execute_result",
          "data": {
            "text/html": [
              "<div>\n",
              "<style scoped>\n",
              "    .dataframe tbody tr th:only-of-type {\n",
              "        vertical-align: middle;\n",
              "    }\n",
              "\n",
              "    .dataframe tbody tr th {\n",
              "        vertical-align: top;\n",
              "    }\n",
              "\n",
              "    .dataframe thead th {\n",
              "        text-align: right;\n",
              "    }\n",
              "</style>\n",
              "<table border=\"1\" class=\"dataframe\">\n",
              "  <thead>\n",
              "    <tr style=\"text-align: right;\">\n",
              "      <th></th>\n",
              "      <th>Year</th>\n",
              "      <th>CompanyName</th>\n",
              "      <th>Env_intensity2019</th>\n",
              "      <th>Ind_Indicator_2018</th>\n",
              "      <th>Ind_Indicator_2017</th>\n",
              "    </tr>\n",
              "  </thead>\n",
              "  <tbody>\n",
              "    <tr>\n",
              "      <th>0</th>\n",
              "      <td>2019</td>\n",
              "      <td>3M COMPANY</td>\n",
              "      <td>-0.0641</td>\n",
              "      <td>1</td>\n",
              "      <td>1</td>\n",
              "    </tr>\n",
              "    <tr>\n",
              "      <th>1</th>\n",
              "      <td>2019</td>\n",
              "      <td>3SBIO INC</td>\n",
              "      <td>-0.0340</td>\n",
              "      <td>-1</td>\n",
              "      <td>1</td>\n",
              "    </tr>\n",
              "    <tr>\n",
              "      <th>2</th>\n",
              "      <td>2019</td>\n",
              "      <td>A.G.V. PRODUCTS CORP</td>\n",
              "      <td>-0.0172</td>\n",
              "      <td>1</td>\n",
              "      <td>1</td>\n",
              "    </tr>\n",
              "    <tr>\n",
              "      <th>3</th>\n",
              "      <td>2019</td>\n",
              "      <td>AA PLC</td>\n",
              "      <td>-0.0070</td>\n",
              "      <td>1</td>\n",
              "      <td>1</td>\n",
              "    </tr>\n",
              "    <tr>\n",
              "      <th>4</th>\n",
              "      <td>2019</td>\n",
              "      <td>AAC TECHNOLOGIES HOLDINGS INCORPORATION</td>\n",
              "      <td>-0.1080</td>\n",
              "      <td>-1</td>\n",
              "      <td>-1</td>\n",
              "    </tr>\n",
              "    <tr>\n",
              "      <th>...</th>\n",
              "      <td>...</td>\n",
              "      <td>...</td>\n",
              "      <td>...</td>\n",
              "      <td>...</td>\n",
              "      <td>...</td>\n",
              "    </tr>\n",
              "    <tr>\n",
              "      <th>1190</th>\n",
              "      <td>2019</td>\n",
              "      <td>ZEON CORPORATION</td>\n",
              "      <td>-0.0730</td>\n",
              "      <td>1</td>\n",
              "      <td>1</td>\n",
              "    </tr>\n",
              "    <tr>\n",
              "      <th>1191</th>\n",
              "      <td>2019</td>\n",
              "      <td>ZHEN DING TECHNOLOGY HOLDING LIMITED</td>\n",
              "      <td>-0.0602</td>\n",
              "      <td>1</td>\n",
              "      <td>1</td>\n",
              "    </tr>\n",
              "    <tr>\n",
              "      <th>1192</th>\n",
              "      <td>2019</td>\n",
              "      <td>ZIG SHENG INDUSTRIAL COMPANY LIMITED</td>\n",
              "      <td>-0.1615</td>\n",
              "      <td>-1</td>\n",
              "      <td>-1</td>\n",
              "    </tr>\n",
              "    <tr>\n",
              "      <th>1193</th>\n",
              "      <td>2019</td>\n",
              "      <td>ZORLU ENERJI AS</td>\n",
              "      <td>-0.3430</td>\n",
              "      <td>1</td>\n",
              "      <td>1</td>\n",
              "    </tr>\n",
              "    <tr>\n",
              "      <th>1194</th>\n",
              "      <td>2019</td>\n",
              "      <td>ZUMTOBEL AG</td>\n",
              "      <td>-0.0051</td>\n",
              "      <td>1</td>\n",
              "      <td>1</td>\n",
              "    </tr>\n",
              "  </tbody>\n",
              "</table>\n",
              "<p>1195 rows × 5 columns</p>\n",
              "</div>"
            ],
            "text/plain": [
              "      Year  ... Ind_Indicator_2017\n",
              "0     2019  ...                  1\n",
              "1     2019  ...                  1\n",
              "2     2019  ...                  1\n",
              "3     2019  ...                  1\n",
              "4     2019  ...                 -1\n",
              "...    ...  ...                ...\n",
              "1190  2019  ...                  1\n",
              "1191  2019  ...                  1\n",
              "1192  2019  ...                 -1\n",
              "1193  2019  ...                  1\n",
              "1194  2019  ...                  1\n",
              "\n",
              "[1195 rows x 5 columns]"
            ]
          },
          "metadata": {
            "tags": []
          },
          "execution_count": 240
        }
      ]
    },
    {
      "cell_type": "code",
      "metadata": {
        "colab": {
          "base_uri": "https://localhost:8080/"
        },
        "id": "living-adoption",
        "outputId": "5394fb98-cc5b-41a1-d0aa-e833c40e2532"
      },
      "source": [
        "X=mdl4[['Ind_Indicator_2017','Ind_Indicator_2018']]\n",
        "y=mdl4['Env_intensity2019']\n",
        "print(X.shape)\n",
        "print(y.shape)"
      ],
      "id": "living-adoption",
      "execution_count": 241,
      "outputs": [
        {
          "output_type": "stream",
          "text": [
            "(1195, 2)\n",
            "(1195,)\n"
          ],
          "name": "stdout"
        }
      ]
    },
    {
      "cell_type": "code",
      "metadata": {
        "id": "spiritual-eugene"
      },
      "source": [
        "regr = linear_model.LinearRegression()\n",
        "X_train, X_test, y_train, y_test = train_test_split(X,y,test_size=0.2,random_state=42)\n",
        "regr.fit(X_train, y_train)\n",
        "y_train_pred = regr.predict(X_train)\n",
        "y_pred = regr.predict(X_test)"
      ],
      "id": "spiritual-eugene",
      "execution_count": 242,
      "outputs": []
    },
    {
      "cell_type": "code",
      "metadata": {
        "colab": {
          "base_uri": "https://localhost:8080/"
        },
        "id": "neural-jonathan",
        "outputId": "44b69a1f-4d95-4592-ca0e-ba305e3f93ab"
      },
      "source": [
        "print('MSE train: %.3f, test: %.3f' % (metrics.mean_squared_error(y_train, y_train_pred),\n",
        "                metrics.mean_squared_error(y_test, y_pred)))"
      ],
      "id": "neural-jonathan",
      "execution_count": 243,
      "outputs": [
        {
          "output_type": "stream",
          "text": [
            "MSE train: 0.048, test: 0.062\n"
          ],
          "name": "stdout"
        }
      ]
    },
    {
      "cell_type": "code",
      "metadata": {
        "colab": {
          "base_uri": "https://localhost:8080/"
        },
        "id": "national-saying",
        "outputId": "da338186-fb78-4ecc-daac-e66068ddd20b"
      },
      "source": [
        "# display the parameters\n",
        "print('Model intercept: ', regr.intercept_)\n",
        "print('Model coefficients: ', regr.coef_)"
      ],
      "id": "national-saying",
      "execution_count": 244,
      "outputs": [
        {
          "output_type": "stream",
          "text": [
            "Model intercept:  -0.1535641068337678\n",
            "Model coefficients:  [0.03709691 0.07830873]\n"
          ],
          "name": "stdout"
        }
      ]
    },
    {
      "cell_type": "code",
      "metadata": {
        "colab": {
          "base_uri": "https://localhost:8080/"
        },
        "id": "equal-movie",
        "outputId": "623bffbe-39cc-43ca-b246-430d2fc7b43e"
      },
      "source": [
        "print('R2 score:', metrics.r2_score(y_test, y_pred))"
      ],
      "id": "equal-movie",
      "execution_count": 245,
      "outputs": [
        {
          "output_type": "stream",
          "text": [
            "R2 score: 0.21186363020947363\n"
          ],
          "name": "stdout"
        }
      ]
    },
    {
      "cell_type": "markdown",
      "metadata": {
        "id": "bronze-patrol"
      },
      "source": [
        "The industry indicator isn't a good predictor for environmental intensity. \n",
        "\n",
        "Let's try including 2016-2018 to predict 2019 environmental intensity. "
      ],
      "id": "bronze-patrol"
    },
    {
      "cell_type": "code",
      "metadata": {
        "colab": {
          "base_uri": "https://localhost:8080/",
          "height": 221
        },
        "id": "dress-recruitment",
        "outputId": "76dbafff-da75-4728-b042-3c83bccda6b0"
      },
      "source": [
        "df_2016=df[df['Year'] == 2016]\n",
        "df2016=df_2016[['CompanyName','Industry_indicator_year']]\n",
        "df2016.rename(columns={'Industry_indicator_year': 'Ind_Indicator_2016'}, inplace=True) \n",
        "\n",
        "mdl4 = pd.merge(df2019, df2018, on=[\"CompanyName\"])\n",
        "mdl4= pd.merge(mdl4, df2017, on=[\"CompanyName\"])\n",
        "mdl4= pd.merge(mdl4, df2016, on=[\"CompanyName\"])\n",
        "mdl4.head()"
      ],
      "id": "dress-recruitment",
      "execution_count": 246,
      "outputs": [
        {
          "output_type": "execute_result",
          "data": {
            "text/html": [
              "<div>\n",
              "<style scoped>\n",
              "    .dataframe tbody tr th:only-of-type {\n",
              "        vertical-align: middle;\n",
              "    }\n",
              "\n",
              "    .dataframe tbody tr th {\n",
              "        vertical-align: top;\n",
              "    }\n",
              "\n",
              "    .dataframe thead th {\n",
              "        text-align: right;\n",
              "    }\n",
              "</style>\n",
              "<table border=\"1\" class=\"dataframe\">\n",
              "  <thead>\n",
              "    <tr style=\"text-align: right;\">\n",
              "      <th></th>\n",
              "      <th>Year</th>\n",
              "      <th>CompanyName</th>\n",
              "      <th>Env_intensity2019</th>\n",
              "      <th>Ind_Indicator_2018</th>\n",
              "      <th>Ind_Indicator_2017</th>\n",
              "      <th>Ind_Indicator_2016</th>\n",
              "    </tr>\n",
              "  </thead>\n",
              "  <tbody>\n",
              "    <tr>\n",
              "      <th>0</th>\n",
              "      <td>2019</td>\n",
              "      <td>3M COMPANY</td>\n",
              "      <td>-0.0641</td>\n",
              "      <td>1</td>\n",
              "      <td>1</td>\n",
              "      <td>1</td>\n",
              "    </tr>\n",
              "    <tr>\n",
              "      <th>1</th>\n",
              "      <td>2019</td>\n",
              "      <td>A.G.V. PRODUCTS CORP</td>\n",
              "      <td>-0.0172</td>\n",
              "      <td>1</td>\n",
              "      <td>1</td>\n",
              "      <td>1</td>\n",
              "    </tr>\n",
              "    <tr>\n",
              "      <th>2</th>\n",
              "      <td>2019</td>\n",
              "      <td>AA PLC</td>\n",
              "      <td>-0.0070</td>\n",
              "      <td>1</td>\n",
              "      <td>1</td>\n",
              "      <td>1</td>\n",
              "    </tr>\n",
              "    <tr>\n",
              "      <th>3</th>\n",
              "      <td>2019</td>\n",
              "      <td>AAC TECHNOLOGIES HOLDINGS INCORPORATION</td>\n",
              "      <td>-0.1080</td>\n",
              "      <td>-1</td>\n",
              "      <td>-1</td>\n",
              "      <td>-1</td>\n",
              "    </tr>\n",
              "    <tr>\n",
              "      <th>4</th>\n",
              "      <td>2019</td>\n",
              "      <td>AAREAL BANK AG</td>\n",
              "      <td>-0.0015</td>\n",
              "      <td>1</td>\n",
              "      <td>1</td>\n",
              "      <td>1</td>\n",
              "    </tr>\n",
              "  </tbody>\n",
              "</table>\n",
              "</div>"
            ],
            "text/plain": [
              "   Year  ... Ind_Indicator_2016\n",
              "0  2019  ...                  1\n",
              "1  2019  ...                  1\n",
              "2  2019  ...                  1\n",
              "3  2019  ...                 -1\n",
              "4  2019  ...                  1\n",
              "\n",
              "[5 rows x 6 columns]"
            ]
          },
          "metadata": {
            "tags": []
          },
          "execution_count": 246
        }
      ]
    },
    {
      "cell_type": "code",
      "metadata": {
        "colab": {
          "base_uri": "https://localhost:8080/"
        },
        "id": "extended-latter",
        "outputId": "7713332e-20c3-45b6-82a7-fb2848390b6d"
      },
      "source": [
        "X = mdl4[['Ind_Indicator_2016','Ind_Indicator_2017','Ind_Indicator_2018']]\n",
        "y = mdl4['Env_intensity2019']\n",
        "print(X.shape)\n",
        "print(y.shape)"
      ],
      "id": "extended-latter",
      "execution_count": 247,
      "outputs": [
        {
          "output_type": "stream",
          "text": [
            "(1065, 3)\n",
            "(1065,)\n"
          ],
          "name": "stdout"
        }
      ]
    },
    {
      "cell_type": "code",
      "metadata": {
        "colab": {
          "base_uri": "https://localhost:8080/"
        },
        "id": "united-grove",
        "outputId": "9e653d5a-6a3d-48ce-ceef-8587f2980e1e"
      },
      "source": [
        "regr = linear_model.LinearRegression()\n",
        "X_train, X_test, y_train, y_test = train_test_split(X,y,test_size=0.2,random_state=42)\n",
        "regr.fit(X_train, y_train)\n",
        "y_train_pred = regr.predict(X_train)\n",
        "y_pred = regr.predict(X_test)\n",
        "\n",
        "print('MSE train: %.3f, test: %.3f' % (metrics.mean_squared_error(y_train, y_train_pred),\n",
        "                metrics.mean_squared_error(y_test, y_pred)))"
      ],
      "id": "united-grove",
      "execution_count": 248,
      "outputs": [
        {
          "output_type": "stream",
          "text": [
            "MSE train: 0.047, test: 0.039\n"
          ],
          "name": "stdout"
        }
      ]
    },
    {
      "cell_type": "code",
      "metadata": {
        "colab": {
          "base_uri": "https://localhost:8080/"
        },
        "id": "contemporary-nicholas",
        "outputId": "21d4943c-95e2-4e22-fc74-72de84c6dd0a"
      },
      "source": [
        "# display the parameters\n",
        "print('Model intercept: ', regr.intercept_)\n",
        "print('Model coefficients: ', regr.coef_)"
      ],
      "id": "contemporary-nicholas",
      "execution_count": 249,
      "outputs": [
        {
          "output_type": "stream",
          "text": [
            "Model intercept:  -0.14994928238099783\n",
            "Model coefficients:  [0.01093564 0.02429224 0.07880817]\n"
          ],
          "name": "stdout"
        }
      ]
    },
    {
      "cell_type": "code",
      "metadata": {
        "colab": {
          "base_uri": "https://localhost:8080/"
        },
        "id": "ranking-cooking",
        "outputId": "caf2de9a-4bdf-4b10-ff33-ba37e3342857"
      },
      "source": [
        "print('R2 score:', metrics.r2_score(y_test, y_pred))"
      ],
      "id": "ranking-cooking",
      "execution_count": 250,
      "outputs": [
        {
          "output_type": "stream",
          "text": [
            "R2 score: 0.22649691904576263\n"
          ],
          "name": "stdout"
        }
      ]
    },
    {
      "cell_type": "markdown",
      "metadata": {
        "id": "front-cambridge"
      },
      "source": [
        "### Model 5 -Growth Rate\n",
        "\n",
        "For this model, we will consider the growth rate from past years to predict the company 2019 environmental intensity.\n",
        "\n",
        "We are going to start from 2017-2018 to predict 2019."
      ],
      "id": "front-cambridge"
    },
    {
      "cell_type": "code",
      "metadata": {
        "colab": {
          "base_uri": "https://localhost:8080/",
          "height": 470
        },
        "id": "extra-reply",
        "outputId": "38793e8f-e064-4194-a89f-8762d8d8bdfa"
      },
      "source": [
        "df_2019=df[df['Year'] == 2019]\n",
        "df_2018=df[df['Year'] == 2018]\n",
        "df_2017=df[df['Year'] == 2017]\n",
        "\n",
        "df2019=df_2019[['Year','CompanyName','Env_intensity']] \n",
        "df2019.rename(columns={'Env_intensity': 'Env_intensity2019'}, inplace=True) \n",
        "df2018=df_2018[['CompanyName','Environmental_Growth']]\n",
        "df2018.rename(columns={'Environmental_Growth': 'Environmental_Growth_2018'}, inplace=True) \n",
        "df2017=df_2017[['CompanyName','Environmental_Growth']]\n",
        "df2017.rename(columns={'Environmental_Growth': 'Environmental_Growth_2017'}, inplace=True) \n",
        "mdl5 = pd.merge(df2019, df2018, on=[\"CompanyName\"])\n",
        "mdl5= pd.merge(mdl5, df2017, on=[\"CompanyName\"])\n",
        "mdl5"
      ],
      "id": "extra-reply",
      "execution_count": 251,
      "outputs": [
        {
          "output_type": "execute_result",
          "data": {
            "text/html": [
              "<div>\n",
              "<style scoped>\n",
              "    .dataframe tbody tr th:only-of-type {\n",
              "        vertical-align: middle;\n",
              "    }\n",
              "\n",
              "    .dataframe tbody tr th {\n",
              "        vertical-align: top;\n",
              "    }\n",
              "\n",
              "    .dataframe thead th {\n",
              "        text-align: right;\n",
              "    }\n",
              "</style>\n",
              "<table border=\"1\" class=\"dataframe\">\n",
              "  <thead>\n",
              "    <tr style=\"text-align: right;\">\n",
              "      <th></th>\n",
              "      <th>Year</th>\n",
              "      <th>CompanyName</th>\n",
              "      <th>Env_intensity2019</th>\n",
              "      <th>Environmental_Growth_2018</th>\n",
              "      <th>Environmental_Growth_2017</th>\n",
              "    </tr>\n",
              "  </thead>\n",
              "  <tbody>\n",
              "    <tr>\n",
              "      <th>0</th>\n",
              "      <td>2019</td>\n",
              "      <td>3M COMPANY</td>\n",
              "      <td>-0.0641</td>\n",
              "      <td>7.575758</td>\n",
              "      <td>-6.382979</td>\n",
              "    </tr>\n",
              "    <tr>\n",
              "      <th>1</th>\n",
              "      <td>2019</td>\n",
              "      <td>3SBIO INC</td>\n",
              "      <td>-0.0340</td>\n",
              "      <td>50.672646</td>\n",
              "      <td>NaN</td>\n",
              "    </tr>\n",
              "    <tr>\n",
              "      <th>2</th>\n",
              "      <td>2019</td>\n",
              "      <td>A.G.V. PRODUCTS CORP</td>\n",
              "      <td>-0.0172</td>\n",
              "      <td>-26.315789</td>\n",
              "      <td>11.764706</td>\n",
              "    </tr>\n",
              "    <tr>\n",
              "      <th>3</th>\n",
              "      <td>2019</td>\n",
              "      <td>AA PLC</td>\n",
              "      <td>-0.0070</td>\n",
              "      <td>-5.645161</td>\n",
              "      <td>-4.615385</td>\n",
              "    </tr>\n",
              "    <tr>\n",
              "      <th>4</th>\n",
              "      <td>2019</td>\n",
              "      <td>AAC TECHNOLOGIES HOLDINGS INCORPORATION</td>\n",
              "      <td>-0.1080</td>\n",
              "      <td>35.702200</td>\n",
              "      <td>51.928021</td>\n",
              "    </tr>\n",
              "    <tr>\n",
              "      <th>...</th>\n",
              "      <td>...</td>\n",
              "      <td>...</td>\n",
              "      <td>...</td>\n",
              "      <td>...</td>\n",
              "      <td>...</td>\n",
              "    </tr>\n",
              "    <tr>\n",
              "      <th>1190</th>\n",
              "      <td>2019</td>\n",
              "      <td>ZEON CORPORATION</td>\n",
              "      <td>-0.0730</td>\n",
              "      <td>-1.272265</td>\n",
              "      <td>-10.273973</td>\n",
              "    </tr>\n",
              "    <tr>\n",
              "      <th>1191</th>\n",
              "      <td>2019</td>\n",
              "      <td>ZHEN DING TECHNOLOGY HOLDING LIMITED</td>\n",
              "      <td>-0.0602</td>\n",
              "      <td>1.990050</td>\n",
              "      <td>-30.927835</td>\n",
              "    </tr>\n",
              "    <tr>\n",
              "      <th>1192</th>\n",
              "      <td>2019</td>\n",
              "      <td>ZIG SHENG INDUSTRIAL COMPANY LIMITED</td>\n",
              "      <td>-0.1615</td>\n",
              "      <td>-4.232425</td>\n",
              "      <td>-20.251716</td>\n",
              "    </tr>\n",
              "    <tr>\n",
              "      <th>1193</th>\n",
              "      <td>2019</td>\n",
              "      <td>ZORLU ENERJI AS</td>\n",
              "      <td>-0.3430</td>\n",
              "      <td>48.046057</td>\n",
              "      <td>-81.144737</td>\n",
              "    </tr>\n",
              "    <tr>\n",
              "      <th>1194</th>\n",
              "      <td>2019</td>\n",
              "      <td>ZUMTOBEL AG</td>\n",
              "      <td>-0.0051</td>\n",
              "      <td>2.380952</td>\n",
              "      <td>-19.230769</td>\n",
              "    </tr>\n",
              "  </tbody>\n",
              "</table>\n",
              "<p>1195 rows × 5 columns</p>\n",
              "</div>"
            ],
            "text/plain": [
              "      Year  ... Environmental_Growth_2017\n",
              "0     2019  ...                 -6.382979\n",
              "1     2019  ...                       NaN\n",
              "2     2019  ...                 11.764706\n",
              "3     2019  ...                 -4.615385\n",
              "4     2019  ...                 51.928021\n",
              "...    ...  ...                       ...\n",
              "1190  2019  ...                -10.273973\n",
              "1191  2019  ...                -30.927835\n",
              "1192  2019  ...                -20.251716\n",
              "1193  2019  ...                -81.144737\n",
              "1194  2019  ...                -19.230769\n",
              "\n",
              "[1195 rows x 5 columns]"
            ]
          },
          "metadata": {
            "tags": []
          },
          "execution_count": 251
        }
      ]
    },
    {
      "cell_type": "code",
      "metadata": {
        "colab": {
          "base_uri": "https://localhost:8080/"
        },
        "id": "encouraging-czech",
        "outputId": "160a9457-03bf-4d74-8623-5990dc67a66b"
      },
      "source": [
        "mdl5.dropna(inplace = True)#delete rows with missing values\n",
        "mdl5.shape"
      ],
      "id": "encouraging-czech",
      "execution_count": 252,
      "outputs": [
        {
          "output_type": "execute_result",
          "data": {
            "text/plain": [
              "(1094, 5)"
            ]
          },
          "metadata": {
            "tags": []
          },
          "execution_count": 252
        }
      ]
    },
    {
      "cell_type": "code",
      "metadata": {
        "colab": {
          "base_uri": "https://localhost:8080/"
        },
        "id": "split-difficulty",
        "outputId": "4b3776c3-85b9-42a4-ed21-df919d979a41"
      },
      "source": [
        "X=mdl5[['Environmental_Growth_2017','Environmental_Growth_2018']]\n",
        "y=mdl5['Env_intensity2019']\n",
        "print(X.shape)\n",
        "print(y.shape)"
      ],
      "id": "split-difficulty",
      "execution_count": 253,
      "outputs": [
        {
          "output_type": "stream",
          "text": [
            "(1094, 2)\n",
            "(1094,)\n"
          ],
          "name": "stdout"
        }
      ]
    },
    {
      "cell_type": "code",
      "metadata": {
        "id": "favorite-residence"
      },
      "source": [
        "regr = linear_model.LinearRegression()\n",
        "X_train, X_test, y_train, y_test = train_test_split(X,y,test_size=0.2,random_state=42)\n",
        "regr.fit(X_train, y_train)\n",
        "y_train_pred = regr.predict(X_train)\n",
        "y_pred = regr.predict(X_test)"
      ],
      "id": "favorite-residence",
      "execution_count": 254,
      "outputs": []
    },
    {
      "cell_type": "code",
      "metadata": {
        "colab": {
          "base_uri": "https://localhost:8080/"
        },
        "id": "still-powder",
        "outputId": "8b925a2f-f2cb-4854-f484-b5da6f050729"
      },
      "source": [
        "print('MSE train: %.3f, test: %.3f' % (metrics.mean_squared_error(y_train, y_train_pred),\n",
        "                metrics.mean_squared_error(y_test, y_pred)))"
      ],
      "id": "still-powder",
      "execution_count": 255,
      "outputs": [
        {
          "output_type": "stream",
          "text": [
            "MSE train: 0.053, test: 0.083\n"
          ],
          "name": "stdout"
        }
      ]
    },
    {
      "cell_type": "code",
      "metadata": {
        "colab": {
          "base_uri": "https://localhost:8080/"
        },
        "id": "above-shape",
        "outputId": "0ecdb17f-401d-418e-b9e7-488eb1dfac89"
      },
      "source": [
        "# display the parameters\n",
        "print('Model intercept: ', regr.intercept_)\n",
        "print('Model coefficients: ', regr.coef_)"
      ],
      "id": "above-shape",
      "execution_count": 256,
      "outputs": [
        {
          "output_type": "stream",
          "text": [
            "Model intercept:  -0.10344845492642088\n",
            "Model coefficients:  [-1.28035334e-04 -8.51885195e-05]\n"
          ],
          "name": "stdout"
        }
      ]
    },
    {
      "cell_type": "code",
      "metadata": {
        "colab": {
          "base_uri": "https://localhost:8080/"
        },
        "id": "hungarian-stroke",
        "outputId": "724ce7ec-e0f5-40a9-a74f-30fbbe61f16e"
      },
      "source": [
        "print('R2 score:', metrics.r2_score(y_test, y_pred))"
      ],
      "id": "hungarian-stroke",
      "execution_count": 257,
      "outputs": [
        {
          "output_type": "stream",
          "text": [
            "R2 score: 0.015827756484296907\n"
          ],
          "name": "stdout"
        }
      ]
    },
    {
      "cell_type": "markdown",
      "metadata": {
        "id": "raised-tennessee"
      },
      "source": [
        "The growth rate isn't a good predictor for environmental intensity. Let's try including 2016-2018 to predict 2019 environmental intensity."
      ],
      "id": "raised-tennessee"
    },
    {
      "cell_type": "code",
      "metadata": {
        "colab": {
          "base_uri": "https://localhost:8080/"
        },
        "id": "planned-hearts",
        "outputId": "3853a3ef-2c24-45b1-e248-e7acbce3d506"
      },
      "source": [
        "df_2016=df[df['Year'] == 2016]\n",
        "df_2016.info()"
      ],
      "id": "planned-hearts",
      "execution_count": 258,
      "outputs": [
        {
          "output_type": "stream",
          "text": [
            "<class 'pandas.core.frame.DataFrame'>\n",
            "Int64Index: 1666 entries, 0 to 14508\n",
            "Data columns (total 11 columns):\n",
            " #   Column                         Non-Null Count  Dtype  \n",
            "---  ------                         --------------  -----  \n",
            " 0   Year                           1666 non-null   int64  \n",
            " 1   CompanyName                    1666 non-null   object \n",
            " 2   Country                        1666 non-null   object \n",
            " 3   Industry(Exiobase)             1666 non-null   object \n",
            " 4   EnvironmentalIntensity(Sales)  1666 non-null   object \n",
            " 5   Env_intensity                  1666 non-null   float64\n",
            " 6   industry_avg                   1666 non-null   float64\n",
            " 7   Industry_indicator             1666 non-null   int64  \n",
            " 8   industry_avg_year              1666 non-null   float64\n",
            " 9   Industry_indicator_year        1666 non-null   int64  \n",
            " 10  Environmental_Growth           1534 non-null   float64\n",
            "dtypes: float64(4), int64(3), object(4)\n",
            "memory usage: 156.2+ KB\n"
          ],
          "name": "stdout"
        }
      ]
    },
    {
      "cell_type": "code",
      "metadata": {
        "colab": {
          "base_uri": "https://localhost:8080/",
          "height": 326
        },
        "id": "seasonal-fundamental",
        "outputId": "d5f3f206-6056-433e-9c8e-842d6bcaaca5"
      },
      "source": [
        "df_2016=df[df['Year'] == 2016]\n",
        "df2016=df_2016[['CompanyName','Environmental_Growth']]\n",
        "df2016.rename(columns={'Environmental_Growth': 'Environmental_Growth_2016'}, inplace=True) \n",
        "\n",
        "mdl5 = pd.merge(df2016, df2017, on=[\"CompanyName\"])\n",
        "mdl5= pd.merge(mdl5, df2018, on=[\"CompanyName\"])\n",
        "mdl5= pd.merge(mdl5, df2019, on=[\"CompanyName\"])\n",
        "mdl5.head()"
      ],
      "id": "seasonal-fundamental",
      "execution_count": 259,
      "outputs": [
        {
          "output_type": "execute_result",
          "data": {
            "text/html": [
              "<div>\n",
              "<style scoped>\n",
              "    .dataframe tbody tr th:only-of-type {\n",
              "        vertical-align: middle;\n",
              "    }\n",
              "\n",
              "    .dataframe tbody tr th {\n",
              "        vertical-align: top;\n",
              "    }\n",
              "\n",
              "    .dataframe thead th {\n",
              "        text-align: right;\n",
              "    }\n",
              "</style>\n",
              "<table border=\"1\" class=\"dataframe\">\n",
              "  <thead>\n",
              "    <tr style=\"text-align: right;\">\n",
              "      <th></th>\n",
              "      <th>CompanyName</th>\n",
              "      <th>Environmental_Growth_2016</th>\n",
              "      <th>Environmental_Growth_2017</th>\n",
              "      <th>Environmental_Growth_2018</th>\n",
              "      <th>Year</th>\n",
              "      <th>Env_intensity2019</th>\n",
              "    </tr>\n",
              "  </thead>\n",
              "  <tbody>\n",
              "    <tr>\n",
              "      <th>0</th>\n",
              "      <td>3M COMPANY</td>\n",
              "      <td>8.964451</td>\n",
              "      <td>-6.382979</td>\n",
              "      <td>7.575758</td>\n",
              "      <td>2019</td>\n",
              "      <td>-0.0641</td>\n",
              "    </tr>\n",
              "    <tr>\n",
              "      <th>1</th>\n",
              "      <td>A.G.V. PRODUCTS CORP</td>\n",
              "      <td>-13.265306</td>\n",
              "      <td>11.764706</td>\n",
              "      <td>-26.315789</td>\n",
              "      <td>2019</td>\n",
              "      <td>-0.0172</td>\n",
              "    </tr>\n",
              "    <tr>\n",
              "      <th>2</th>\n",
              "      <td>AA PLC</td>\n",
              "      <td>41.304348</td>\n",
              "      <td>-4.615385</td>\n",
              "      <td>-5.645161</td>\n",
              "      <td>2019</td>\n",
              "      <td>-0.0070</td>\n",
              "    </tr>\n",
              "    <tr>\n",
              "      <th>3</th>\n",
              "      <td>AAC TECHNOLOGIES HOLDINGS INCORPORATION</td>\n",
              "      <td>-7.159905</td>\n",
              "      <td>51.928021</td>\n",
              "      <td>35.702200</td>\n",
              "      <td>2019</td>\n",
              "      <td>-0.1080</td>\n",
              "    </tr>\n",
              "    <tr>\n",
              "      <th>4</th>\n",
              "      <td>AAREAL BANK AG</td>\n",
              "      <td>9.090909</td>\n",
              "      <td>-12.500000</td>\n",
              "      <td>-9.523810</td>\n",
              "      <td>2019</td>\n",
              "      <td>-0.0015</td>\n",
              "    </tr>\n",
              "  </tbody>\n",
              "</table>\n",
              "</div>"
            ],
            "text/plain": [
              "                               CompanyName  ...  Env_intensity2019\n",
              "0                               3M COMPANY  ...            -0.0641\n",
              "1                     A.G.V. PRODUCTS CORP  ...            -0.0172\n",
              "2                                   AA PLC  ...            -0.0070\n",
              "3  AAC TECHNOLOGIES HOLDINGS INCORPORATION  ...            -0.1080\n",
              "4                           AAREAL BANK AG  ...            -0.0015\n",
              "\n",
              "[5 rows x 6 columns]"
            ]
          },
          "metadata": {
            "tags": []
          },
          "execution_count": 259
        }
      ]
    },
    {
      "cell_type": "code",
      "metadata": {
        "colab": {
          "base_uri": "https://localhost:8080/"
        },
        "id": "conventional-brunswick",
        "outputId": "8dc5c48a-bc11-4f50-afb1-07adc3ae4622"
      },
      "source": [
        "X=mdl5[['Environmental_Growth_2017','Environmental_Growth_2017','Environmental_Growth_2018']]\n",
        "y=mdl5['Env_intensity2019']\n",
        "print(X.shape)\n",
        "print(y.shape)"
      ],
      "id": "conventional-brunswick",
      "execution_count": 260,
      "outputs": [
        {
          "output_type": "stream",
          "text": [
            "(1065, 3)\n",
            "(1065,)\n"
          ],
          "name": "stdout"
        }
      ]
    },
    {
      "cell_type": "code",
      "metadata": {
        "id": "encouraging-driving",
        "colab": {
          "base_uri": "https://localhost:8080/"
        },
        "outputId": "9d4b582b-e0c2-4f12-b6d3-ff433d984fab"
      },
      "source": [
        "regr = linear_model.LinearRegression()\n",
        "X_train, X_test, y_train, y_test = train_test_split(X,y,test_size=0.2,random_state=42)\n",
        "regr.fit(X_train, y_train)\n",
        "y_train_pred = regr.predict(X_train)\n",
        "y_pred = regr.predict(X_test)\n",
        "\n",
        "print('MSE train: %.3f, test: %.3f' % (metrics.mean_squared_error(y_train, y_train_pred),\n",
        "                metrics.mean_squared_error(y_test, y_pred)))"
      ],
      "id": "encouraging-driving",
      "execution_count": 261,
      "outputs": [
        {
          "output_type": "stream",
          "text": [
            "MSE train: 0.054, test: 0.051\n"
          ],
          "name": "stdout"
        }
      ]
    },
    {
      "cell_type": "code",
      "metadata": {
        "colab": {
          "base_uri": "https://localhost:8080/"
        },
        "id": "passing-enzyme",
        "outputId": "4dd5b8f3-5885-49c3-b21f-7306d534a6e9"
      },
      "source": [
        "# display the parameters\n",
        "print('Model intercept: ', regr.intercept_)\n",
        "print('Model coefficients: ', regr.coef_)"
      ],
      "id": "passing-enzyme",
      "execution_count": 262,
      "outputs": [
        {
          "output_type": "stream",
          "text": [
            "Model intercept:  -0.10313988509769206\n",
            "Model coefficients:  [-7.52619653e-05 -7.52619653e-05 -1.99679709e-04]\n"
          ],
          "name": "stdout"
        }
      ]
    },
    {
      "cell_type": "code",
      "metadata": {
        "colab": {
          "base_uri": "https://localhost:8080/"
        },
        "id": "broad-payment",
        "outputId": "b105ec00-1b5d-471e-f764-5173644bcd75"
      },
      "source": [
        "print('R2 score:', metrics.r2_score(y_test, y_pred))"
      ],
      "id": "broad-payment",
      "execution_count": 263,
      "outputs": [
        {
          "output_type": "stream",
          "text": [
            "R2 score: -0.015590689373768285\n"
          ],
          "name": "stdout"
        }
      ]
    },
    {
      "cell_type": "markdown",
      "metadata": {
        "id": "e8X9eNOqoGtW"
      },
      "source": [
        "Again, we see that each coefficient is negative which could be interpret that an increase in environmental growth decreases the environmental intensity for 2019. R1 score is also negative (is worse that a horizontal line) which mean we can discard this regression."
      ],
      "id": "e8X9eNOqoGtW"
    },
    {
      "cell_type": "markdown",
      "metadata": {
        "id": "NJlxuEEGoy9f"
      },
      "source": [
        "### Model 6 - Growth Rate(Long Term Trend)\n",
        "\n",
        "For this model, we will consider the long-term trend from 2015 to 2018 to predict the company 2019 environmental intensity."
      ],
      "id": "NJlxuEEGoy9f"
    },
    {
      "cell_type": "markdown",
      "metadata": {
        "id": "rtUuRFb0rX19"
      },
      "source": [
        "### Creating long-term Environmental growth from 2015 to 2018\n",
        "\n",
        "Long Term Environmental Intensity Growth : (Environmental Intensity in 2018/ Environmental Intensity in 2015 - 1) * 100"
      ],
      "id": "rtUuRFb0rX19"
    },
    {
      "cell_type": "code",
      "metadata": {
        "colab": {
          "base_uri": "https://localhost:8080/",
          "height": 419
        },
        "id": "7-ecDLxnt7sQ",
        "outputId": "5689e8c3-5d27-4954-fe1a-b3d738938609"
      },
      "source": [
        "df_2015=df[df['Year'] == 2015]\n",
        "df_2018=df[df['Year'] == 2018]\n",
        "df_2019=df[df['Year'] == 2019]\n",
        "df2019=df_2019[['Year','CompanyName','Env_intensity']] \n",
        "df2019.rename(columns={'Env_intensity': 'Env_intensity2019'}, inplace=True) \n",
        "df2018=df_2018[['CompanyName','Env_intensity']]\n",
        "df2018.rename(columns={'Env_intensity': 'Env_intensity_2018'}, inplace=True) \n",
        "df2015=df_2015[['CompanyName','Env_intensity']]\n",
        "df2015.rename(columns={'Env_intensity': 'Env_intensity_2015'}, inplace=True) \n",
        "mdl6 = pd.merge(df2019, df2018, on=[\"CompanyName\"])\n",
        "mdl6= pd.merge(mdl6, df2015, on=[\"CompanyName\"])\n",
        "mdl6"
      ],
      "id": "7-ecDLxnt7sQ",
      "execution_count": 264,
      "outputs": [
        {
          "output_type": "execute_result",
          "data": {
            "text/html": [
              "<div>\n",
              "<style scoped>\n",
              "    .dataframe tbody tr th:only-of-type {\n",
              "        vertical-align: middle;\n",
              "    }\n",
              "\n",
              "    .dataframe tbody tr th {\n",
              "        vertical-align: top;\n",
              "    }\n",
              "\n",
              "    .dataframe thead th {\n",
              "        text-align: right;\n",
              "    }\n",
              "</style>\n",
              "<table border=\"1\" class=\"dataframe\">\n",
              "  <thead>\n",
              "    <tr style=\"text-align: right;\">\n",
              "      <th></th>\n",
              "      <th>Year</th>\n",
              "      <th>CompanyName</th>\n",
              "      <th>Env_intensity2019</th>\n",
              "      <th>Env_intensity_2018</th>\n",
              "      <th>Env_intensity_2015</th>\n",
              "    </tr>\n",
              "  </thead>\n",
              "  <tbody>\n",
              "    <tr>\n",
              "      <th>0</th>\n",
              "      <td>2019</td>\n",
              "      <td>3M COMPANY</td>\n",
              "      <td>-0.0641</td>\n",
              "      <td>-0.0710</td>\n",
              "      <td>-0.0647</td>\n",
              "    </tr>\n",
              "    <tr>\n",
              "      <th>1</th>\n",
              "      <td>2019</td>\n",
              "      <td>A.G.V. PRODUCTS CORP</td>\n",
              "      <td>-0.0172</td>\n",
              "      <td>-0.0140</td>\n",
              "      <td>-0.0196</td>\n",
              "    </tr>\n",
              "    <tr>\n",
              "      <th>2</th>\n",
              "      <td>2019</td>\n",
              "      <td>AA PLC</td>\n",
              "      <td>-0.0070</td>\n",
              "      <td>-0.0117</td>\n",
              "      <td>-0.0092</td>\n",
              "    </tr>\n",
              "    <tr>\n",
              "      <th>3</th>\n",
              "      <td>2019</td>\n",
              "      <td>AAC TECHNOLOGIES HOLDINGS INCORPORATION</td>\n",
              "      <td>-0.1080</td>\n",
              "      <td>-0.0802</td>\n",
              "      <td>-0.0419</td>\n",
              "    </tr>\n",
              "    <tr>\n",
              "      <th>4</th>\n",
              "      <td>2019</td>\n",
              "      <td>AAREAL BANK AG</td>\n",
              "      <td>-0.0015</td>\n",
              "      <td>-0.0019</td>\n",
              "      <td>-0.0022</td>\n",
              "    </tr>\n",
              "    <tr>\n",
              "      <th>...</th>\n",
              "      <td>...</td>\n",
              "      <td>...</td>\n",
              "      <td>...</td>\n",
              "      <td>...</td>\n",
              "      <td>...</td>\n",
              "    </tr>\n",
              "    <tr>\n",
              "      <th>979</th>\n",
              "      <td>2019</td>\n",
              "      <td>YTL POWER INTERNATIONAL BERHAD</td>\n",
              "      <td>-1.2311</td>\n",
              "      <td>-1.3485</td>\n",
              "      <td>-1.2496</td>\n",
              "    </tr>\n",
              "    <tr>\n",
              "      <th>980</th>\n",
              "      <td>2019</td>\n",
              "      <td>YUM! BRANDS, INC.</td>\n",
              "      <td>-0.0097</td>\n",
              "      <td>-0.0117</td>\n",
              "      <td>-0.0738</td>\n",
              "    </tr>\n",
              "    <tr>\n",
              "      <th>981</th>\n",
              "      <td>2019</td>\n",
              "      <td>ZEON CORPORATION</td>\n",
              "      <td>-0.0730</td>\n",
              "      <td>-0.0776</td>\n",
              "      <td>-0.0822</td>\n",
              "    </tr>\n",
              "    <tr>\n",
              "      <th>982</th>\n",
              "      <td>2019</td>\n",
              "      <td>ZHEN DING TECHNOLOGY HOLDING LIMITED</td>\n",
              "      <td>-0.0602</td>\n",
              "      <td>-0.0615</td>\n",
              "      <td>-0.0927</td>\n",
              "    </tr>\n",
              "    <tr>\n",
              "      <th>983</th>\n",
              "      <td>2019</td>\n",
              "      <td>ZIG SHENG INDUSTRIAL COMPANY LIMITED</td>\n",
              "      <td>-0.1615</td>\n",
              "      <td>-0.1335</td>\n",
              "      <td>-0.1582</td>\n",
              "    </tr>\n",
              "  </tbody>\n",
              "</table>\n",
              "<p>984 rows × 5 columns</p>\n",
              "</div>"
            ],
            "text/plain": [
              "     Year  ... Env_intensity_2015\n",
              "0    2019  ...            -0.0647\n",
              "1    2019  ...            -0.0196\n",
              "2    2019  ...            -0.0092\n",
              "3    2019  ...            -0.0419\n",
              "4    2019  ...            -0.0022\n",
              "..    ...  ...                ...\n",
              "979  2019  ...            -1.2496\n",
              "980  2019  ...            -0.0738\n",
              "981  2019  ...            -0.0822\n",
              "982  2019  ...            -0.0927\n",
              "983  2019  ...            -0.1582\n",
              "\n",
              "[984 rows x 5 columns]"
            ]
          },
          "metadata": {
            "tags": []
          },
          "execution_count": 264
        }
      ]
    },
    {
      "cell_type": "code",
      "metadata": {
        "colab": {
          "base_uri": "https://localhost:8080/",
          "height": 238
        },
        "id": "mXRo56L4vEvK",
        "outputId": "69f7502a-03a9-44c0-8863-085bd148f1ac"
      },
      "source": [
        "mdl6['long-term trend from 2015 to 2018']=mdl6['Env_intensity_2018']/mdl6['Env_intensity_2015']-1\n",
        "mdl6.head()"
      ],
      "id": "mXRo56L4vEvK",
      "execution_count": 265,
      "outputs": [
        {
          "output_type": "execute_result",
          "data": {
            "text/html": [
              "<div>\n",
              "<style scoped>\n",
              "    .dataframe tbody tr th:only-of-type {\n",
              "        vertical-align: middle;\n",
              "    }\n",
              "\n",
              "    .dataframe tbody tr th {\n",
              "        vertical-align: top;\n",
              "    }\n",
              "\n",
              "    .dataframe thead th {\n",
              "        text-align: right;\n",
              "    }\n",
              "</style>\n",
              "<table border=\"1\" class=\"dataframe\">\n",
              "  <thead>\n",
              "    <tr style=\"text-align: right;\">\n",
              "      <th></th>\n",
              "      <th>Year</th>\n",
              "      <th>CompanyName</th>\n",
              "      <th>Env_intensity2019</th>\n",
              "      <th>Env_intensity_2018</th>\n",
              "      <th>Env_intensity_2015</th>\n",
              "      <th>long-term trend from 2015 to 2018</th>\n",
              "    </tr>\n",
              "  </thead>\n",
              "  <tbody>\n",
              "    <tr>\n",
              "      <th>0</th>\n",
              "      <td>2019</td>\n",
              "      <td>3M COMPANY</td>\n",
              "      <td>-0.0641</td>\n",
              "      <td>-0.0710</td>\n",
              "      <td>-0.0647</td>\n",
              "      <td>0.097372</td>\n",
              "    </tr>\n",
              "    <tr>\n",
              "      <th>1</th>\n",
              "      <td>2019</td>\n",
              "      <td>A.G.V. PRODUCTS CORP</td>\n",
              "      <td>-0.0172</td>\n",
              "      <td>-0.0140</td>\n",
              "      <td>-0.0196</td>\n",
              "      <td>-0.285714</td>\n",
              "    </tr>\n",
              "    <tr>\n",
              "      <th>2</th>\n",
              "      <td>2019</td>\n",
              "      <td>AA PLC</td>\n",
              "      <td>-0.0070</td>\n",
              "      <td>-0.0117</td>\n",
              "      <td>-0.0092</td>\n",
              "      <td>0.271739</td>\n",
              "    </tr>\n",
              "    <tr>\n",
              "      <th>3</th>\n",
              "      <td>2019</td>\n",
              "      <td>AAC TECHNOLOGIES HOLDINGS INCORPORATION</td>\n",
              "      <td>-0.1080</td>\n",
              "      <td>-0.0802</td>\n",
              "      <td>-0.0419</td>\n",
              "      <td>0.914081</td>\n",
              "    </tr>\n",
              "    <tr>\n",
              "      <th>4</th>\n",
              "      <td>2019</td>\n",
              "      <td>AAREAL BANK AG</td>\n",
              "      <td>-0.0015</td>\n",
              "      <td>-0.0019</td>\n",
              "      <td>-0.0022</td>\n",
              "      <td>-0.136364</td>\n",
              "    </tr>\n",
              "  </tbody>\n",
              "</table>\n",
              "</div>"
            ],
            "text/plain": [
              "   Year  ... long-term trend from 2015 to 2018\n",
              "0  2019  ...                          0.097372\n",
              "1  2019  ...                         -0.285714\n",
              "2  2019  ...                          0.271739\n",
              "3  2019  ...                          0.914081\n",
              "4  2019  ...                         -0.136364\n",
              "\n",
              "[5 rows x 6 columns]"
            ]
          },
          "metadata": {
            "tags": []
          },
          "execution_count": 265
        }
      ]
    },
    {
      "cell_type": "markdown",
      "metadata": {
        "id": "QaJOFrXoynl4"
      },
      "source": [
        "After creating the increase rate from 2015 to 2018, we build up the following model."
      ],
      "id": "QaJOFrXoynl4"
    },
    {
      "cell_type": "code",
      "metadata": {
        "colab": {
          "base_uri": "https://localhost:8080/"
        },
        "id": "QJOzq0SGvxhj",
        "outputId": "2a42d77b-230e-4b9b-b417-f35ef7300a6a"
      },
      "source": [
        "mdl6.info()"
      ],
      "id": "QJOzq0SGvxhj",
      "execution_count": 266,
      "outputs": [
        {
          "output_type": "stream",
          "text": [
            "<class 'pandas.core.frame.DataFrame'>\n",
            "Int64Index: 984 entries, 0 to 983\n",
            "Data columns (total 6 columns):\n",
            " #   Column                             Non-Null Count  Dtype  \n",
            "---  ------                             --------------  -----  \n",
            " 0   Year                               984 non-null    int64  \n",
            " 1   CompanyName                        984 non-null    object \n",
            " 2   Env_intensity2019                  984 non-null    float64\n",
            " 3   Env_intensity_2018                 984 non-null    float64\n",
            " 4   Env_intensity_2015                 984 non-null    float64\n",
            " 5   long-term trend from 2015 to 2018  984 non-null    float64\n",
            "dtypes: float64(4), int64(1), object(1)\n",
            "memory usage: 53.8+ KB\n"
          ],
          "name": "stdout"
        }
      ]
    },
    {
      "cell_type": "code",
      "metadata": {
        "colab": {
          "base_uri": "https://localhost:8080/"
        },
        "id": "oxPJeJoHoy9i",
        "outputId": "20b18578-b44e-41ab-86d4-0a31b07d2cb5"
      },
      "source": [
        "X=mdl6[['long-term trend from 2015 to 2018']]\n",
        "y=mdl6['Env_intensity2019']\n",
        "print(X.shape)\n",
        "print(y.shape)"
      ],
      "id": "oxPJeJoHoy9i",
      "execution_count": 267,
      "outputs": [
        {
          "output_type": "stream",
          "text": [
            "(984, 1)\n",
            "(984,)\n"
          ],
          "name": "stdout"
        }
      ]
    },
    {
      "cell_type": "code",
      "metadata": {
        "id": "f7j9wdXhoy9i"
      },
      "source": [
        "regr = linear_model.LinearRegression()\n",
        "X_train, X_test, y_train, y_test = train_test_split(X,y,test_size=0.2,random_state=42)\n",
        "regr.fit(X_train, y_train)\n",
        "y_train_pred = regr.predict(X_train)\n",
        "y_pred = regr.predict(X_test)"
      ],
      "id": "f7j9wdXhoy9i",
      "execution_count": 268,
      "outputs": []
    },
    {
      "cell_type": "code",
      "metadata": {
        "colab": {
          "base_uri": "https://localhost:8080/"
        },
        "id": "BybPgwROoy9i",
        "outputId": "c6c36892-1877-452c-8cc8-90f1c346f0a6"
      },
      "source": [
        "print('MSE train: %.3f, test: %.3f' % (metrics.mean_squared_error(y_train, y_train_pred),\n",
        "                metrics.mean_squared_error(y_test, y_pred)))"
      ],
      "id": "BybPgwROoy9i",
      "execution_count": 269,
      "outputs": [
        {
          "output_type": "stream",
          "text": [
            "MSE train: 0.041, test: 0.090\n"
          ],
          "name": "stdout"
        }
      ]
    },
    {
      "cell_type": "code",
      "metadata": {
        "colab": {
          "base_uri": "https://localhost:8080/"
        },
        "id": "x1kBe_HsFxoI",
        "outputId": "0120f286-7ed2-4fa0-c2e2-a93433c8209b"
      },
      "source": [
        "print('RMSE train:%.3f'% sqrt(metrics.mean_squared_error(y_train, y_train_pred)))\n",
        "print('RMSE test:%.3f'% sqrt(metrics.mean_squared_error(y_test, y_pred)))"
      ],
      "id": "x1kBe_HsFxoI",
      "execution_count": 270,
      "outputs": [
        {
          "output_type": "stream",
          "text": [
            "RMSE train:0.204\n",
            "RMSE test:0.300\n"
          ],
          "name": "stdout"
        }
      ]
    },
    {
      "cell_type": "code",
      "metadata": {
        "colab": {
          "base_uri": "https://localhost:8080/"
        },
        "id": "RCFBIH4Ioy9j",
        "outputId": "2f6a5f35-7519-443c-ae85-35c7c7562da8"
      },
      "source": [
        "# display the parameters\n",
        "print('Model intercept: ', regr.intercept_)\n",
        "print('Model coefficients: ', regr.coef_)"
      ],
      "id": "RCFBIH4Ioy9j",
      "execution_count": 271,
      "outputs": [
        {
          "output_type": "stream",
          "text": [
            "Model intercept:  -0.09593328461923026\n",
            "Model coefficients:  [-0.00498984]\n"
          ],
          "name": "stdout"
        }
      ]
    },
    {
      "cell_type": "code",
      "metadata": {
        "colab": {
          "base_uri": "https://localhost:8080/"
        },
        "id": "j5vE_v68oy9j",
        "outputId": "715f2685-a862-455e-ab68-a0aefc1d0dfd"
      },
      "source": [
        "print('R2 score:', metrics.r2_score(y_test, y_pred))"
      ],
      "id": "j5vE_v68oy9j",
      "execution_count": 272,
      "outputs": [
        {
          "output_type": "stream",
          "text": [
            "R2 score: -0.0271286829470907\n"
          ],
          "name": "stdout"
        }
      ]
    },
    {
      "cell_type": "markdown",
      "metadata": {
        "id": "V5q0If4toy9j"
      },
      "source": [
        "The long-term trend from 2015 to 2018 isn't a good predictor for environmental intensity that R2 score is negative. Let's try including 2010-2014 to predict 2019 environmental intensity."
      ],
      "id": "V5q0If4toy9j"
    },
    {
      "cell_type": "code",
      "metadata": {
        "colab": {
          "base_uri": "https://localhost:8080/",
          "height": 677
        },
        "id": "tlwpy5tR0ozZ",
        "outputId": "086be313-a441-4bf7-ae4e-ef237c53d76f"
      },
      "source": [
        "df_2010=df[df['Year'] == 2010]\n",
        "df_2014=df[df['Year'] == 2014]\n",
        "\n",
        "df2010=df_2010[['CompanyName','Env_intensity']]\n",
        "df2010.rename(columns={'Env_intensity': 'Env_intensity_2010'}, inplace=True) \n",
        "df2014=df_2014[['CompanyName','Env_intensity']]\n",
        "df2014.rename(columns={'Env_intensity': 'Env_intensity_2014'}, inplace=True) \n",
        "mdl6 = pd.merge(mdl6, df2010, on=[\"CompanyName\"])\n",
        "mdl6= pd.merge(mdl6, df2014, on=[\"CompanyName\"])\n",
        "mdl6"
      ],
      "id": "tlwpy5tR0ozZ",
      "execution_count": 273,
      "outputs": [
        {
          "output_type": "execute_result",
          "data": {
            "text/html": [
              "<div>\n",
              "<style scoped>\n",
              "    .dataframe tbody tr th:only-of-type {\n",
              "        vertical-align: middle;\n",
              "    }\n",
              "\n",
              "    .dataframe tbody tr th {\n",
              "        vertical-align: top;\n",
              "    }\n",
              "\n",
              "    .dataframe thead th {\n",
              "        text-align: right;\n",
              "    }\n",
              "</style>\n",
              "<table border=\"1\" class=\"dataframe\">\n",
              "  <thead>\n",
              "    <tr style=\"text-align: right;\">\n",
              "      <th></th>\n",
              "      <th>Year</th>\n",
              "      <th>CompanyName</th>\n",
              "      <th>Env_intensity2019</th>\n",
              "      <th>Env_intensity_2018</th>\n",
              "      <th>Env_intensity_2015</th>\n",
              "      <th>long-term trend from 2015 to 2018</th>\n",
              "      <th>Env_intensity_2010</th>\n",
              "      <th>Env_intensity_2014</th>\n",
              "    </tr>\n",
              "  </thead>\n",
              "  <tbody>\n",
              "    <tr>\n",
              "      <th>0</th>\n",
              "      <td>2019</td>\n",
              "      <td>3M COMPANY</td>\n",
              "      <td>-0.0641</td>\n",
              "      <td>-0.0710</td>\n",
              "      <td>-0.0647</td>\n",
              "      <td>0.097372</td>\n",
              "      <td>-0.0790</td>\n",
              "      <td>-0.0707</td>\n",
              "    </tr>\n",
              "    <tr>\n",
              "      <th>1</th>\n",
              "      <td>2019</td>\n",
              "      <td>AB SKF</td>\n",
              "      <td>-0.0200</td>\n",
              "      <td>-0.0212</td>\n",
              "      <td>-0.0182</td>\n",
              "      <td>0.164835</td>\n",
              "      <td>-0.0163</td>\n",
              "      <td>-0.0179</td>\n",
              "    </tr>\n",
              "    <tr>\n",
              "      <th>2</th>\n",
              "      <td>2019</td>\n",
              "      <td>ABB LIMITED</td>\n",
              "      <td>-0.0110</td>\n",
              "      <td>-0.0111</td>\n",
              "      <td>-0.0137</td>\n",
              "      <td>-0.189781</td>\n",
              "      <td>-0.0142</td>\n",
              "      <td>-0.0110</td>\n",
              "    </tr>\n",
              "    <tr>\n",
              "      <th>3</th>\n",
              "      <td>2019</td>\n",
              "      <td>ABBOTT LABORATORIES</td>\n",
              "      <td>-0.0115</td>\n",
              "      <td>-0.0119</td>\n",
              "      <td>-0.0171</td>\n",
              "      <td>-0.304094</td>\n",
              "      <td>-0.0263</td>\n",
              "      <td>-0.0176</td>\n",
              "    </tr>\n",
              "    <tr>\n",
              "      <th>4</th>\n",
              "      <td>2019</td>\n",
              "      <td>ABSA GROUP LTD</td>\n",
              "      <td>-0.0069</td>\n",
              "      <td>-0.0104</td>\n",
              "      <td>-0.0098</td>\n",
              "      <td>0.061224</td>\n",
              "      <td>-0.0113</td>\n",
              "      <td>-0.0116</td>\n",
              "    </tr>\n",
              "    <tr>\n",
              "      <th>...</th>\n",
              "      <td>...</td>\n",
              "      <td>...</td>\n",
              "      <td>...</td>\n",
              "      <td>...</td>\n",
              "      <td>...</td>\n",
              "      <td>...</td>\n",
              "      <td>...</td>\n",
              "      <td>...</td>\n",
              "    </tr>\n",
              "    <tr>\n",
              "      <th>574</th>\n",
              "      <td>2019</td>\n",
              "      <td>WYNDHAM DESTINATIONS INC</td>\n",
              "      <td>-0.0172</td>\n",
              "      <td>-0.0214</td>\n",
              "      <td>-0.0295</td>\n",
              "      <td>-0.274576</td>\n",
              "      <td>-0.0326</td>\n",
              "      <td>-0.0346</td>\n",
              "    </tr>\n",
              "    <tr>\n",
              "      <th>575</th>\n",
              "      <td>2019</td>\n",
              "      <td>YAMADA DENKI CO., LTD.</td>\n",
              "      <td>-0.0064</td>\n",
              "      <td>-0.0066</td>\n",
              "      <td>-0.0083</td>\n",
              "      <td>-0.204819</td>\n",
              "      <td>-0.0045</td>\n",
              "      <td>-0.0074</td>\n",
              "    </tr>\n",
              "    <tr>\n",
              "      <th>576</th>\n",
              "      <td>2019</td>\n",
              "      <td>YAMAHA CORPORATION</td>\n",
              "      <td>-0.0130</td>\n",
              "      <td>-0.0128</td>\n",
              "      <td>-0.0167</td>\n",
              "      <td>-0.233533</td>\n",
              "      <td>-0.0103</td>\n",
              "      <td>-0.0096</td>\n",
              "    </tr>\n",
              "    <tr>\n",
              "      <th>577</th>\n",
              "      <td>2019</td>\n",
              "      <td>YOKOGAWA ELECTRIC CORPORATION</td>\n",
              "      <td>-0.0073</td>\n",
              "      <td>-0.0073</td>\n",
              "      <td>-0.0094</td>\n",
              "      <td>-0.223404</td>\n",
              "      <td>-0.0056</td>\n",
              "      <td>-0.0102</td>\n",
              "    </tr>\n",
              "    <tr>\n",
              "      <th>578</th>\n",
              "      <td>2019</td>\n",
              "      <td>ZEON CORPORATION</td>\n",
              "      <td>-0.0730</td>\n",
              "      <td>-0.0776</td>\n",
              "      <td>-0.0822</td>\n",
              "      <td>-0.055961</td>\n",
              "      <td>-0.0653</td>\n",
              "      <td>-0.0786</td>\n",
              "    </tr>\n",
              "  </tbody>\n",
              "</table>\n",
              "<p>579 rows × 8 columns</p>\n",
              "</div>"
            ],
            "text/plain": [
              "     Year  ... Env_intensity_2014\n",
              "0    2019  ...            -0.0707\n",
              "1    2019  ...            -0.0179\n",
              "2    2019  ...            -0.0110\n",
              "3    2019  ...            -0.0176\n",
              "4    2019  ...            -0.0116\n",
              "..    ...  ...                ...\n",
              "574  2019  ...            -0.0346\n",
              "575  2019  ...            -0.0074\n",
              "576  2019  ...            -0.0096\n",
              "577  2019  ...            -0.0102\n",
              "578  2019  ...            -0.0786\n",
              "\n",
              "[579 rows x 8 columns]"
            ]
          },
          "metadata": {
            "tags": []
          },
          "execution_count": 273
        }
      ]
    },
    {
      "cell_type": "code",
      "metadata": {
        "colab": {
          "base_uri": "https://localhost:8080/",
          "height": 343
        },
        "id": "AZJlNifm6BIv",
        "outputId": "5c0ada0f-90b9-44ae-8726-71331b98c4dc"
      },
      "source": [
        "mdl6['long-term trend from 2010 to 2014']=mdl6['Env_intensity_2014']/mdl6['Env_intensity_2010']-1\n",
        "mdl6.head()"
      ],
      "id": "AZJlNifm6BIv",
      "execution_count": 274,
      "outputs": [
        {
          "output_type": "execute_result",
          "data": {
            "text/html": [
              "<div>\n",
              "<style scoped>\n",
              "    .dataframe tbody tr th:only-of-type {\n",
              "        vertical-align: middle;\n",
              "    }\n",
              "\n",
              "    .dataframe tbody tr th {\n",
              "        vertical-align: top;\n",
              "    }\n",
              "\n",
              "    .dataframe thead th {\n",
              "        text-align: right;\n",
              "    }\n",
              "</style>\n",
              "<table border=\"1\" class=\"dataframe\">\n",
              "  <thead>\n",
              "    <tr style=\"text-align: right;\">\n",
              "      <th></th>\n",
              "      <th>Year</th>\n",
              "      <th>CompanyName</th>\n",
              "      <th>Env_intensity2019</th>\n",
              "      <th>Env_intensity_2018</th>\n",
              "      <th>Env_intensity_2015</th>\n",
              "      <th>long-term trend from 2015 to 2018</th>\n",
              "      <th>Env_intensity_2010</th>\n",
              "      <th>Env_intensity_2014</th>\n",
              "      <th>long-term trend from 2010 to 2014</th>\n",
              "    </tr>\n",
              "  </thead>\n",
              "  <tbody>\n",
              "    <tr>\n",
              "      <th>0</th>\n",
              "      <td>2019</td>\n",
              "      <td>3M COMPANY</td>\n",
              "      <td>-0.0641</td>\n",
              "      <td>-0.0710</td>\n",
              "      <td>-0.0647</td>\n",
              "      <td>0.097372</td>\n",
              "      <td>-0.0790</td>\n",
              "      <td>-0.0707</td>\n",
              "      <td>-0.105063</td>\n",
              "    </tr>\n",
              "    <tr>\n",
              "      <th>1</th>\n",
              "      <td>2019</td>\n",
              "      <td>AB SKF</td>\n",
              "      <td>-0.0200</td>\n",
              "      <td>-0.0212</td>\n",
              "      <td>-0.0182</td>\n",
              "      <td>0.164835</td>\n",
              "      <td>-0.0163</td>\n",
              "      <td>-0.0179</td>\n",
              "      <td>0.098160</td>\n",
              "    </tr>\n",
              "    <tr>\n",
              "      <th>2</th>\n",
              "      <td>2019</td>\n",
              "      <td>ABB LIMITED</td>\n",
              "      <td>-0.0110</td>\n",
              "      <td>-0.0111</td>\n",
              "      <td>-0.0137</td>\n",
              "      <td>-0.189781</td>\n",
              "      <td>-0.0142</td>\n",
              "      <td>-0.0110</td>\n",
              "      <td>-0.225352</td>\n",
              "    </tr>\n",
              "    <tr>\n",
              "      <th>3</th>\n",
              "      <td>2019</td>\n",
              "      <td>ABBOTT LABORATORIES</td>\n",
              "      <td>-0.0115</td>\n",
              "      <td>-0.0119</td>\n",
              "      <td>-0.0171</td>\n",
              "      <td>-0.304094</td>\n",
              "      <td>-0.0263</td>\n",
              "      <td>-0.0176</td>\n",
              "      <td>-0.330798</td>\n",
              "    </tr>\n",
              "    <tr>\n",
              "      <th>4</th>\n",
              "      <td>2019</td>\n",
              "      <td>ABSA GROUP LTD</td>\n",
              "      <td>-0.0069</td>\n",
              "      <td>-0.0104</td>\n",
              "      <td>-0.0098</td>\n",
              "      <td>0.061224</td>\n",
              "      <td>-0.0113</td>\n",
              "      <td>-0.0116</td>\n",
              "      <td>0.026549</td>\n",
              "    </tr>\n",
              "  </tbody>\n",
              "</table>\n",
              "</div>"
            ],
            "text/plain": [
              "   Year  ... long-term trend from 2010 to 2014\n",
              "0  2019  ...                         -0.105063\n",
              "1  2019  ...                          0.098160\n",
              "2  2019  ...                         -0.225352\n",
              "3  2019  ...                         -0.330798\n",
              "4  2019  ...                          0.026549\n",
              "\n",
              "[5 rows x 9 columns]"
            ]
          },
          "metadata": {
            "tags": []
          },
          "execution_count": 274
        }
      ]
    },
    {
      "cell_type": "code",
      "metadata": {
        "colab": {
          "base_uri": "https://localhost:8080/"
        },
        "id": "4FZj4prSoy9k",
        "outputId": "2a41b9cb-cf10-416d-e7d8-11b4449244ea"
      },
      "source": [
        "X=mdl6[['long-term trend from 2015 to 2018','long-term trend from 2010 to 2014']]\n",
        "y=mdl6['Env_intensity2019']\n",
        "print(X.shape)\n",
        "print(y.shape)"
      ],
      "id": "4FZj4prSoy9k",
      "execution_count": 275,
      "outputs": [
        {
          "output_type": "stream",
          "text": [
            "(579, 2)\n",
            "(579,)\n"
          ],
          "name": "stdout"
        }
      ]
    },
    {
      "cell_type": "code",
      "metadata": {
        "colab": {
          "base_uri": "https://localhost:8080/"
        },
        "id": "ypIDvyFloy9k",
        "outputId": "adc44b41-c686-4c45-c420-c033566af144"
      },
      "source": [
        "regr = linear_model.LinearRegression()\n",
        "X_train, X_test, y_train, y_test = train_test_split(X,y,test_size=0.2,random_state=42)\n",
        "regr.fit(X_train, y_train)\n",
        "y_train_pred = regr.predict(X_train)\n",
        "y_pred = regr.predict(X_test)\n",
        "\n",
        "print('MSE train: %.3f, test: %.3f' % (metrics.mean_squared_error(y_train, y_train_pred),\n",
        "                metrics.mean_squared_error(y_test, y_pred)))"
      ],
      "id": "ypIDvyFloy9k",
      "execution_count": 276,
      "outputs": [
        {
          "output_type": "stream",
          "text": [
            "MSE train: 0.035, test: 0.048\n"
          ],
          "name": "stdout"
        }
      ]
    },
    {
      "cell_type": "code",
      "metadata": {
        "colab": {
          "base_uri": "https://localhost:8080/"
        },
        "id": "sOJsbsuSF3R2",
        "outputId": "33409e30-11be-42ed-d6f6-fd932b06b1d2"
      },
      "source": [
        "print('RMSE train:%.3f'% sqrt(metrics.mean_squared_error(y_train, y_train_pred)))\n",
        "print('RMSE test:%.3f'% sqrt(metrics.mean_squared_error(y_test, y_pred)))"
      ],
      "id": "sOJsbsuSF3R2",
      "execution_count": 277,
      "outputs": [
        {
          "output_type": "stream",
          "text": [
            "RMSE train:0.188\n",
            "RMSE test:0.218\n"
          ],
          "name": "stdout"
        }
      ]
    },
    {
      "cell_type": "code",
      "metadata": {
        "colab": {
          "base_uri": "https://localhost:8080/"
        },
        "id": "9z9ak3RQoy9l",
        "outputId": "923a0b92-e6e8-4e73-caa5-35c0701a2720"
      },
      "source": [
        "# display the parameters\n",
        "print('Model intercept: ', regr.intercept_)\n",
        "print('Model coefficients: ', regr.coef_)"
      ],
      "id": "9z9ak3RQoy9l",
      "execution_count": 278,
      "outputs": [
        {
          "output_type": "stream",
          "text": [
            "Model intercept:  -0.09283880372338199\n",
            "Model coefficients:  [-0.008338   -0.00581275]\n"
          ],
          "name": "stdout"
        }
      ]
    },
    {
      "cell_type": "code",
      "metadata": {
        "colab": {
          "base_uri": "https://localhost:8080/"
        },
        "id": "aG5Hw5nfoy9l",
        "outputId": "583cb583-ebca-4def-be4e-a88a68390073"
      },
      "source": [
        "print('R2 score:', metrics.r2_score(y_test, y_pred))"
      ],
      "id": "aG5Hw5nfoy9l",
      "execution_count": 279,
      "outputs": [
        {
          "output_type": "stream",
          "text": [
            "R2 score: 0.011088027372162301\n"
          ],
          "name": "stdout"
        }
      ]
    },
    {
      "cell_type": "markdown",
      "metadata": {
        "id": "7av6flMdoy9l"
      },
      "source": [
        "Coefficients are negative which could be interpret that an increase in long-term trend decreases the environmental intensity for 2019."
      ],
      "id": "7av6flMdoy9l"
    },
    {
      "cell_type": "markdown",
      "metadata": {
        "id": "developing-telescope"
      },
      "source": [
        "## Model conclusion\n",
        "\n",
        "As expected, using Environmental intensity from previous years had better accuracy to predict the next year Environmental intensity. We proved that in Model 1 and Model 2 were the regression was able to explain 88% of the variance.\n",
        "\n",
        "When using the industry average for each year, the model was able to explain around 30-34% of the variance. Moreover, by running these regressions, we concluded that the envirionmental growth from previous years isn't a good predictor.\n",
        "\n",
        "## Collect the Company Description\n",
        "\n",
        "In this section, we will grab the company description directly from the Yahoo Finance website. We started with the pilot stocks but plan to see the possibility of mapping the ISIN with their corresponding ticker and be able to grab the company description. "
      ],
      "id": "developing-telescope"
    },
    {
      "cell_type": "code",
      "metadata": {
        "id": "breathing-updating",
        "colab": {
          "base_uri": "https://localhost:8080/",
          "height": 409
        },
        "outputId": "a5aa7500-6c6f-410a-b0f4-53bbe2f345fb"
      },
      "source": [
        "tickers_df = pd.read_csv('/Users/maralinetorres/Documents/GitHub/Predicting-Environmental-and-Social-Actions/Datasets/52_tickers_sectors.csv')"
      ],
      "id": "breathing-updating",
      "execution_count": 280,
      "outputs": [
        {
          "output_type": "error",
          "ename": "FileNotFoundError",
          "evalue": "ignored",
          "traceback": [
            "\u001b[0;31m---------------------------------------------------------------------------\u001b[0m",
            "\u001b[0;31mFileNotFoundError\u001b[0m                         Traceback (most recent call last)",
            "\u001b[0;32m<ipython-input-280-46a176e91c61>\u001b[0m in \u001b[0;36m<module>\u001b[0;34m()\u001b[0m\n\u001b[0;32m----> 1\u001b[0;31m \u001b[0mtickers_df\u001b[0m \u001b[0;34m=\u001b[0m \u001b[0mpd\u001b[0m\u001b[0;34m.\u001b[0m\u001b[0mread_csv\u001b[0m\u001b[0;34m(\u001b[0m\u001b[0;34m'/Users/maralinetorres/Documents/GitHub/Predicting-Environmental-and-Social-Actions/Datasets/52_tickers_sectors.csv'\u001b[0m\u001b[0;34m)\u001b[0m\u001b[0;34m\u001b[0m\u001b[0;34m\u001b[0m\u001b[0m\n\u001b[0m",
            "\u001b[0;32m/usr/local/lib/python3.7/dist-packages/pandas/io/parsers.py\u001b[0m in \u001b[0;36mread_csv\u001b[0;34m(filepath_or_buffer, sep, delimiter, header, names, index_col, usecols, squeeze, prefix, mangle_dupe_cols, dtype, engine, converters, true_values, false_values, skipinitialspace, skiprows, skipfooter, nrows, na_values, keep_default_na, na_filter, verbose, skip_blank_lines, parse_dates, infer_datetime_format, keep_date_col, date_parser, dayfirst, cache_dates, iterator, chunksize, compression, thousands, decimal, lineterminator, quotechar, quoting, doublequote, escapechar, comment, encoding, dialect, error_bad_lines, warn_bad_lines, delim_whitespace, low_memory, memory_map, float_precision)\u001b[0m\n\u001b[1;32m    686\u001b[0m     )\n\u001b[1;32m    687\u001b[0m \u001b[0;34m\u001b[0m\u001b[0m\n\u001b[0;32m--> 688\u001b[0;31m     \u001b[0;32mreturn\u001b[0m \u001b[0m_read\u001b[0m\u001b[0;34m(\u001b[0m\u001b[0mfilepath_or_buffer\u001b[0m\u001b[0;34m,\u001b[0m \u001b[0mkwds\u001b[0m\u001b[0;34m)\u001b[0m\u001b[0;34m\u001b[0m\u001b[0;34m\u001b[0m\u001b[0m\n\u001b[0m\u001b[1;32m    689\u001b[0m \u001b[0;34m\u001b[0m\u001b[0m\n\u001b[1;32m    690\u001b[0m \u001b[0;34m\u001b[0m\u001b[0m\n",
            "\u001b[0;32m/usr/local/lib/python3.7/dist-packages/pandas/io/parsers.py\u001b[0m in \u001b[0;36m_read\u001b[0;34m(filepath_or_buffer, kwds)\u001b[0m\n\u001b[1;32m    452\u001b[0m \u001b[0;34m\u001b[0m\u001b[0m\n\u001b[1;32m    453\u001b[0m     \u001b[0;31m# Create the parser.\u001b[0m\u001b[0;34m\u001b[0m\u001b[0;34m\u001b[0m\u001b[0;34m\u001b[0m\u001b[0m\n\u001b[0;32m--> 454\u001b[0;31m     \u001b[0mparser\u001b[0m \u001b[0;34m=\u001b[0m \u001b[0mTextFileReader\u001b[0m\u001b[0;34m(\u001b[0m\u001b[0mfp_or_buf\u001b[0m\u001b[0;34m,\u001b[0m \u001b[0;34m**\u001b[0m\u001b[0mkwds\u001b[0m\u001b[0;34m)\u001b[0m\u001b[0;34m\u001b[0m\u001b[0;34m\u001b[0m\u001b[0m\n\u001b[0m\u001b[1;32m    455\u001b[0m \u001b[0;34m\u001b[0m\u001b[0m\n\u001b[1;32m    456\u001b[0m     \u001b[0;32mif\u001b[0m \u001b[0mchunksize\u001b[0m \u001b[0;32mor\u001b[0m \u001b[0miterator\u001b[0m\u001b[0;34m:\u001b[0m\u001b[0;34m\u001b[0m\u001b[0;34m\u001b[0m\u001b[0m\n",
            "\u001b[0;32m/usr/local/lib/python3.7/dist-packages/pandas/io/parsers.py\u001b[0m in \u001b[0;36m__init__\u001b[0;34m(self, f, engine, **kwds)\u001b[0m\n\u001b[1;32m    946\u001b[0m             \u001b[0mself\u001b[0m\u001b[0;34m.\u001b[0m\u001b[0moptions\u001b[0m\u001b[0;34m[\u001b[0m\u001b[0;34m\"has_index_names\"\u001b[0m\u001b[0;34m]\u001b[0m \u001b[0;34m=\u001b[0m \u001b[0mkwds\u001b[0m\u001b[0;34m[\u001b[0m\u001b[0;34m\"has_index_names\"\u001b[0m\u001b[0;34m]\u001b[0m\u001b[0;34m\u001b[0m\u001b[0;34m\u001b[0m\u001b[0m\n\u001b[1;32m    947\u001b[0m \u001b[0;34m\u001b[0m\u001b[0m\n\u001b[0;32m--> 948\u001b[0;31m         \u001b[0mself\u001b[0m\u001b[0;34m.\u001b[0m\u001b[0m_make_engine\u001b[0m\u001b[0;34m(\u001b[0m\u001b[0mself\u001b[0m\u001b[0;34m.\u001b[0m\u001b[0mengine\u001b[0m\u001b[0;34m)\u001b[0m\u001b[0;34m\u001b[0m\u001b[0;34m\u001b[0m\u001b[0m\n\u001b[0m\u001b[1;32m    949\u001b[0m \u001b[0;34m\u001b[0m\u001b[0m\n\u001b[1;32m    950\u001b[0m     \u001b[0;32mdef\u001b[0m \u001b[0mclose\u001b[0m\u001b[0;34m(\u001b[0m\u001b[0mself\u001b[0m\u001b[0;34m)\u001b[0m\u001b[0;34m:\u001b[0m\u001b[0;34m\u001b[0m\u001b[0;34m\u001b[0m\u001b[0m\n",
            "\u001b[0;32m/usr/local/lib/python3.7/dist-packages/pandas/io/parsers.py\u001b[0m in \u001b[0;36m_make_engine\u001b[0;34m(self, engine)\u001b[0m\n\u001b[1;32m   1178\u001b[0m     \u001b[0;32mdef\u001b[0m \u001b[0m_make_engine\u001b[0m\u001b[0;34m(\u001b[0m\u001b[0mself\u001b[0m\u001b[0;34m,\u001b[0m \u001b[0mengine\u001b[0m\u001b[0;34m=\u001b[0m\u001b[0;34m\"c\"\u001b[0m\u001b[0;34m)\u001b[0m\u001b[0;34m:\u001b[0m\u001b[0;34m\u001b[0m\u001b[0;34m\u001b[0m\u001b[0m\n\u001b[1;32m   1179\u001b[0m         \u001b[0;32mif\u001b[0m \u001b[0mengine\u001b[0m \u001b[0;34m==\u001b[0m \u001b[0;34m\"c\"\u001b[0m\u001b[0;34m:\u001b[0m\u001b[0;34m\u001b[0m\u001b[0;34m\u001b[0m\u001b[0m\n\u001b[0;32m-> 1180\u001b[0;31m             \u001b[0mself\u001b[0m\u001b[0;34m.\u001b[0m\u001b[0m_engine\u001b[0m \u001b[0;34m=\u001b[0m \u001b[0mCParserWrapper\u001b[0m\u001b[0;34m(\u001b[0m\u001b[0mself\u001b[0m\u001b[0;34m.\u001b[0m\u001b[0mf\u001b[0m\u001b[0;34m,\u001b[0m \u001b[0;34m**\u001b[0m\u001b[0mself\u001b[0m\u001b[0;34m.\u001b[0m\u001b[0moptions\u001b[0m\u001b[0;34m)\u001b[0m\u001b[0;34m\u001b[0m\u001b[0;34m\u001b[0m\u001b[0m\n\u001b[0m\u001b[1;32m   1181\u001b[0m         \u001b[0;32melse\u001b[0m\u001b[0;34m:\u001b[0m\u001b[0;34m\u001b[0m\u001b[0;34m\u001b[0m\u001b[0m\n\u001b[1;32m   1182\u001b[0m             \u001b[0;32mif\u001b[0m \u001b[0mengine\u001b[0m \u001b[0;34m==\u001b[0m \u001b[0;34m\"python\"\u001b[0m\u001b[0;34m:\u001b[0m\u001b[0;34m\u001b[0m\u001b[0;34m\u001b[0m\u001b[0m\n",
            "\u001b[0;32m/usr/local/lib/python3.7/dist-packages/pandas/io/parsers.py\u001b[0m in \u001b[0;36m__init__\u001b[0;34m(self, src, **kwds)\u001b[0m\n\u001b[1;32m   2008\u001b[0m         \u001b[0mkwds\u001b[0m\u001b[0;34m[\u001b[0m\u001b[0;34m\"usecols\"\u001b[0m\u001b[0;34m]\u001b[0m \u001b[0;34m=\u001b[0m \u001b[0mself\u001b[0m\u001b[0;34m.\u001b[0m\u001b[0musecols\u001b[0m\u001b[0;34m\u001b[0m\u001b[0;34m\u001b[0m\u001b[0m\n\u001b[1;32m   2009\u001b[0m \u001b[0;34m\u001b[0m\u001b[0m\n\u001b[0;32m-> 2010\u001b[0;31m         \u001b[0mself\u001b[0m\u001b[0;34m.\u001b[0m\u001b[0m_reader\u001b[0m \u001b[0;34m=\u001b[0m \u001b[0mparsers\u001b[0m\u001b[0;34m.\u001b[0m\u001b[0mTextReader\u001b[0m\u001b[0;34m(\u001b[0m\u001b[0msrc\u001b[0m\u001b[0;34m,\u001b[0m \u001b[0;34m**\u001b[0m\u001b[0mkwds\u001b[0m\u001b[0;34m)\u001b[0m\u001b[0;34m\u001b[0m\u001b[0;34m\u001b[0m\u001b[0m\n\u001b[0m\u001b[1;32m   2011\u001b[0m         \u001b[0mself\u001b[0m\u001b[0;34m.\u001b[0m\u001b[0munnamed_cols\u001b[0m \u001b[0;34m=\u001b[0m \u001b[0mself\u001b[0m\u001b[0;34m.\u001b[0m\u001b[0m_reader\u001b[0m\u001b[0;34m.\u001b[0m\u001b[0munnamed_cols\u001b[0m\u001b[0;34m\u001b[0m\u001b[0;34m\u001b[0m\u001b[0m\n\u001b[1;32m   2012\u001b[0m \u001b[0;34m\u001b[0m\u001b[0m\n",
            "\u001b[0;32mpandas/_libs/parsers.pyx\u001b[0m in \u001b[0;36mpandas._libs.parsers.TextReader.__cinit__\u001b[0;34m()\u001b[0m\n",
            "\u001b[0;32mpandas/_libs/parsers.pyx\u001b[0m in \u001b[0;36mpandas._libs.parsers.TextReader._setup_parser_source\u001b[0;34m()\u001b[0m\n",
            "\u001b[0;31mFileNotFoundError\u001b[0m: [Errno 2] No such file or directory: '/Users/maralinetorres/Documents/GitHub/Predicting-Environmental-and-Social-Actions/Datasets/52_tickers_sectors.csv'"
          ]
        }
      ]
    },
    {
      "cell_type": "code",
      "metadata": {
        "id": "becoming-emphasis"
      },
      "source": [
        "tickers = tickers_df.Ticker"
      ],
      "id": "becoming-emphasis",
      "execution_count": null,
      "outputs": []
    },
    {
      "cell_type": "code",
      "metadata": {
        "id": "sophisticated-timing"
      },
      "source": [
        "# Create a loop to store URLs of all stocks' description page\n",
        "URL = [] \n",
        "DES = [] \n",
        "comp_desc = {}\n",
        "for i in tickers: \n",
        "  url ='https://finance.yahoo.com/quote/'+i+'/profile' \n",
        "  URL.append(url)\n",
        "  page = requests.get(url) # visits the URL \n",
        "  htmldata = BeautifulSoup(page.content, 'html.parser')\n",
        "  Business_Description = htmldata.find('p',{'class':'Mt(15px) Lh(1.6)'}) # finds the business description part in the HTML code\n",
        "  DES.append(Business_Description.text)\n",
        "  comp_desc[i] = [Business_Description.text]"
      ],
      "id": "sophisticated-timing",
      "execution_count": null,
      "outputs": []
    },
    {
      "cell_type": "code",
      "metadata": {
        "id": "alternate-ownership"
      },
      "source": [
        "df_comp_desc = pd.DataFrame.from_dict(comp_desc, orient='index', columns = ['Description'])\n",
        "df_comp_desc.reset_index(inplace = True)\n",
        "df_comp_desc.rename(columns = {'index':'Ticker'}, inplace=True)\n",
        "df_comp_desc.head()"
      ],
      "id": "alternate-ownership",
      "execution_count": null,
      "outputs": []
    },
    {
      "cell_type": "code",
      "metadata": {
        "id": "conceptual-footage"
      },
      "source": [
        "df_comp_desc.to_csv('52ticker_companydescription.csv',index=False)"
      ],
      "id": "conceptual-footage",
      "execution_count": null,
      "outputs": []
    },
    {
      "cell_type": "markdown",
      "metadata": {
        "id": "medical-labor"
      },
      "source": [
        "In the next sprint, we plan to do some text analysis to the company descriptions (tokenizations, sentiment, etc) and maybe consider adding the company description to the Sprint #4 models to better predict the GHG Scope 1. "
      ],
      "id": "medical-labor"
    }
  ]
}