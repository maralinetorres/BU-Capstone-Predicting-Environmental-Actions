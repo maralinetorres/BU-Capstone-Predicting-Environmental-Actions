{
  "nbformat": 4,
  "nbformat_minor": 0,
  "metadata": {
    "colab": {
      "name": "Use DistilBERT to Predict Environmental Intensity with Business Description.ipynb",
      "provenance": [],
      "toc_visible": true
    },
    "kernelspec": {
      "name": "python3",
      "display_name": "Python 3"
    },
    "language_info": {
      "name": "python"
    },
    "accelerator": "GPU"
  },
  "cells": [
    {
      "cell_type": "markdown",
      "metadata": {
        "id": "-PG8F__v54tT"
      },
      "source": [
        "# 1. Mount your Google Drive and establish the working directory"
      ]
    },
    {
      "cell_type": "markdown",
      "metadata": {
        "id": "eMJ4Xvop5xWm"
      },
      "source": [
        "Mounting allows to access files on your Google Drive. You'll need to allow the Google Drive for desktop's access to your Google Account and copying the sign in code into the authorization code field. "
      ]
    },
    {
      "cell_type": "code",
      "metadata": {
        "colab": {
          "base_uri": "https://localhost:8080/"
        },
        "id": "S0_cinTQ33UL",
        "outputId": "b0b087d9-ae5e-4a37-e296-03d2377be5e0"
      },
      "source": [
        "# Mount Google Drive\n",
        "from google.colab import drive\n",
        "drive.mount('/content/gdrive/')"
      ],
      "execution_count": 119,
      "outputs": [
        {
          "output_type": "stream",
          "text": [
            "Drive already mounted at /content/gdrive/; to attempt to forcibly remount, call drive.mount(\"/content/gdrive/\", force_remount=True).\n"
          ],
          "name": "stdout"
        }
      ]
    },
    {
      "cell_type": "markdown",
      "metadata": {
        "id": "HvXdVx1K6a1r"
      },
      "source": [
        "Set working directory to a Google Drive folder: change the `root_dir` to the folder on your Google Drive. \n",
        "\n",
        "`root_dir = \"/content/gdrive/MyDrive/...`"
      ]
    },
    {
      "cell_type": "code",
      "metadata": {
        "colab": {
          "base_uri": "https://localhost:8080/"
        },
        "id": "d4OEN-a_6Gsg",
        "outputId": "a104e7c1-0f66-4259-d1b5-fc8735d599bb"
      },
      "source": [
        "import os\n",
        "\n",
        "# Set your working directory to a folder in your Google Drive. This way, if your notebook times out,\n",
        "# your files will be saved in your Google Drive!\n",
        "\n",
        "# the base Google Drive directory\n",
        "root_dir = \"/content/gdrive/MyDrive/BU/Year1/Summer/\"\n",
        "\n",
        "# choose where you want your project files to be saved\n",
        "project_folder = \"capstone/\"\n",
        "\n",
        "def create_and_set_working_directory(project_folder):\n",
        "  # check if your project folder exists. if not, it will be created.\n",
        "  if os.path.isdir(root_dir + project_folder) == False:\n",
        "    os.mkdir(root_dir + project_folder)\n",
        "    print(root_dir + project_folder + ' did not exist but was created.')\n",
        "\n",
        "  # change the OS to use your project folder as the working directory\n",
        "  os.chdir(root_dir + project_folder)\n",
        "\n",
        "  # create a test file to make sure it shows up in the right place\n",
        "  !touch 'new_file_in_working_directory.txt'\n",
        "  print('\\nYour working directory was changed to ' + root_dir + project_folder + \\\n",
        "        \"\\n\\nAn empty text file was created there. You can also run !pwd to confirm the current working directory.\" )\n",
        "\n",
        "create_and_set_working_directory(project_folder)"
      ],
      "execution_count": 120,
      "outputs": [
        {
          "output_type": "stream",
          "text": [
            "\n",
            "Your working directory was changed to /content/gdrive/MyDrive/BU/Year1/Summer/capstone/\n",
            "\n",
            "An empty text file was created there. You can also run !pwd to confirm the current working directory.\n"
          ],
          "name": "stdout"
        }
      ]
    },
    {
      "cell_type": "markdown",
      "metadata": {
        "id": "hd5I0KZR6iOu"
      },
      "source": [
        "Check if the function worked by listing the files in the project folder. During the very first run it should contain only `new_file_in_working_directory.txt`. If you upload other files to your `project_folder`, other files will be listed too. "
      ]
    },
    {
      "cell_type": "code",
      "metadata": {
        "colab": {
          "base_uri": "https://localhost:8080/"
        },
        "id": "kXsOSNC96kRp",
        "outputId": "4947eebf-04c2-491f-a7e7-f08993669126"
      },
      "source": [
        "!ls"
      ],
      "execution_count": 121,
      "outputs": [
        {
          "output_type": "stream",
          "text": [
            "'52 company names.csv'\t\t   Environmental_Impact_dataset1.csv\n",
            " 52ticker_companydescription.csv   new_file_in_working_directory.txt\n"
          ],
          "name": "stdout"
        }
      ]
    },
    {
      "cell_type": "markdown",
      "metadata": {
        "id": "v8jQ3A91-lbB"
      },
      "source": [
        "# 2. Install, load the libraries"
      ]
    },
    {
      "cell_type": "code",
      "metadata": {
        "colab": {
          "base_uri": "https://localhost:8080/"
        },
        "id": "utf5exMpHpxo",
        "outputId": "b851d39e-fdf2-4e11-e703-83518ee9d9ae"
      },
      "source": [
        "!pip install transformers"
      ],
      "execution_count": 122,
      "outputs": [
        {
          "output_type": "stream",
          "text": [
            "Requirement already satisfied: transformers in /usr/local/lib/python3.7/dist-packages (4.6.1)\n",
            "Requirement already satisfied: packaging in /usr/local/lib/python3.7/dist-packages (from transformers) (20.9)\n",
            "Requirement already satisfied: tokenizers<0.11,>=0.10.1 in /usr/local/lib/python3.7/dist-packages (from transformers) (0.10.3)\n",
            "Requirement already satisfied: sacremoses in /usr/local/lib/python3.7/dist-packages (from transformers) (0.0.45)\n",
            "Requirement already satisfied: numpy>=1.17 in /usr/local/lib/python3.7/dist-packages (from transformers) (1.19.5)\n",
            "Requirement already satisfied: importlib-metadata; python_version < \"3.8\" in /usr/local/lib/python3.7/dist-packages (from transformers) (4.0.1)\n",
            "Requirement already satisfied: regex!=2019.12.17 in /usr/local/lib/python3.7/dist-packages (from transformers) (2019.12.20)\n",
            "Requirement already satisfied: filelock in /usr/local/lib/python3.7/dist-packages (from transformers) (3.0.12)\n",
            "Requirement already satisfied: requests in /usr/local/lib/python3.7/dist-packages (from transformers) (2.23.0)\n",
            "Requirement already satisfied: huggingface-hub==0.0.8 in /usr/local/lib/python3.7/dist-packages (from transformers) (0.0.8)\n",
            "Requirement already satisfied: tqdm>=4.27 in /usr/local/lib/python3.7/dist-packages (from transformers) (4.41.1)\n",
            "Requirement already satisfied: pyparsing>=2.0.2 in /usr/local/lib/python3.7/dist-packages (from packaging->transformers) (2.4.7)\n",
            "Requirement already satisfied: click in /usr/local/lib/python3.7/dist-packages (from sacremoses->transformers) (7.1.2)\n",
            "Requirement already satisfied: six in /usr/local/lib/python3.7/dist-packages (from sacremoses->transformers) (1.15.0)\n",
            "Requirement already satisfied: joblib in /usr/local/lib/python3.7/dist-packages (from sacremoses->transformers) (1.0.1)\n",
            "Requirement already satisfied: typing-extensions>=3.6.4; python_version < \"3.8\" in /usr/local/lib/python3.7/dist-packages (from importlib-metadata; python_version < \"3.8\"->transformers) (3.7.4.3)\n",
            "Requirement already satisfied: zipp>=0.5 in /usr/local/lib/python3.7/dist-packages (from importlib-metadata; python_version < \"3.8\"->transformers) (3.4.1)\n",
            "Requirement already satisfied: certifi>=2017.4.17 in /usr/local/lib/python3.7/dist-packages (from requests->transformers) (2020.12.5)\n",
            "Requirement already satisfied: urllib3!=1.25.0,!=1.25.1,<1.26,>=1.21.1 in /usr/local/lib/python3.7/dist-packages (from requests->transformers) (1.24.3)\n",
            "Requirement already satisfied: chardet<4,>=3.0.2 in /usr/local/lib/python3.7/dist-packages (from requests->transformers) (3.0.4)\n",
            "Requirement already satisfied: idna<3,>=2.5 in /usr/local/lib/python3.7/dist-packages (from requests->transformers) (2.10)\n"
          ],
          "name": "stdout"
        }
      ]
    },
    {
      "cell_type": "code",
      "metadata": {
        "id": "qq7NKPXT-par"
      },
      "source": [
        "import numpy as np\n",
        "import pandas as pd\n",
        "import torch\n",
        "import transformers as ppb # pytorch transformers\n",
        "from sklearn.linear_model import LogisticRegression\n",
        "from sklearn.model_selection import cross_val_score\n",
        "from sklearn.model_selection import train_test_split"
      ],
      "execution_count": 123,
      "outputs": []
    },
    {
      "cell_type": "markdown",
      "metadata": {
        "id": "YBDMOw2k-EdP"
      },
      "source": [
        "# 2. Load, merge, clean the data"
      ]
    },
    {
      "cell_type": "code",
      "metadata": {
        "id": "0wPu5e4X70LG"
      },
      "source": [
        "# load the csv files\n",
        "stock_des = pd.read_csv('52ticker_companydescription.csv')\n",
        "df = pd.read_csv('Environmental_Impact_dataset1.csv')\n",
        "df1=pd.read_csv('52 company names.csv') "
      ],
      "execution_count": 124,
      "outputs": []
    },
    {
      "cell_type": "code",
      "metadata": {
        "id": "Kjl46oWgZhJY"
      },
      "source": [
        "df=df.drop('Unnamed: 0',1)"
      ],
      "execution_count": 125,
      "outputs": []
    },
    {
      "cell_type": "code",
      "metadata": {
        "colab": {
          "base_uri": "https://localhost:8080/",
          "height": 399
        },
        "id": "Jowp_oWe1Jh-",
        "outputId": "e1d5ff28-2a30-488f-82ee-a07c8a24796a"
      },
      "source": [
        "df.head()"
      ],
      "execution_count": 126,
      "outputs": [
        {
          "output_type": "execute_result",
          "data": {
            "text/html": [
              "<div>\n",
              "<style scoped>\n",
              "    .dataframe tbody tr th:only-of-type {\n",
              "        vertical-align: middle;\n",
              "    }\n",
              "\n",
              "    .dataframe tbody tr th {\n",
              "        vertical-align: top;\n",
              "    }\n",
              "\n",
              "    .dataframe thead th {\n",
              "        text-align: right;\n",
              "    }\n",
              "</style>\n",
              "<table border=\"1\" class=\"dataframe\">\n",
              "  <thead>\n",
              "    <tr style=\"text-align: right;\">\n",
              "      <th></th>\n",
              "      <th>Year</th>\n",
              "      <th>CompanyName</th>\n",
              "      <th>Country</th>\n",
              "      <th>Industry(Exiobase)</th>\n",
              "      <th>EnvironmentalIntensity(Sales)</th>\n",
              "      <th>Env_intensity</th>\n",
              "      <th>industry_avg</th>\n",
              "      <th>Industry_indicator</th>\n",
              "      <th>Environmental_Growth</th>\n",
              "      <th>Ind_Yearavg</th>\n",
              "    </tr>\n",
              "  </thead>\n",
              "  <tbody>\n",
              "    <tr>\n",
              "      <th>0</th>\n",
              "      <td>2016</td>\n",
              "      <td>1&amp;1 DRILLISCH AG</td>\n",
              "      <td>Germany</td>\n",
              "      <td>Post and telecommunications (64)</td>\n",
              "      <td>-0.0007</td>\n",
              "      <td>-0.0007</td>\n",
              "      <td>-0.018382</td>\n",
              "      <td>1</td>\n",
              "      <td>NaN</td>\n",
              "      <td>-0.01164</td>\n",
              "    </tr>\n",
              "    <tr>\n",
              "      <th>1</th>\n",
              "      <td>2016</td>\n",
              "      <td>AFK SISTEMA PAO</td>\n",
              "      <td>Russia</td>\n",
              "      <td>Post and telecommunications (64)</td>\n",
              "      <td>0.1540</td>\n",
              "      <td>0.1540</td>\n",
              "      <td>-0.018382</td>\n",
              "      <td>1</td>\n",
              "      <td>6.722107</td>\n",
              "      <td>-0.01164</td>\n",
              "    </tr>\n",
              "    <tr>\n",
              "      <th>2</th>\n",
              "      <td>2016</td>\n",
              "      <td>AMERICA MOVIL S.A.B. DE C.V.</td>\n",
              "      <td>Mexico</td>\n",
              "      <td>Post and telecommunications (64)</td>\n",
              "      <td>-0.0128</td>\n",
              "      <td>-0.0128</td>\n",
              "      <td>-0.018382</td>\n",
              "      <td>1</td>\n",
              "      <td>13.274336</td>\n",
              "      <td>-0.01164</td>\n",
              "    </tr>\n",
              "    <tr>\n",
              "      <th>3</th>\n",
              "      <td>2016</td>\n",
              "      <td>AT&amp;T INC.</td>\n",
              "      <td>United States</td>\n",
              "      <td>Post and telecommunications (64)</td>\n",
              "      <td>-0.0170</td>\n",
              "      <td>-0.0170</td>\n",
              "      <td>-0.018382</td>\n",
              "      <td>1</td>\n",
              "      <td>-8.108108</td>\n",
              "      <td>-0.01164</td>\n",
              "    </tr>\n",
              "    <tr>\n",
              "      <th>4</th>\n",
              "      <td>2016</td>\n",
              "      <td>CHORUS LIMITED</td>\n",
              "      <td>New Zealand</td>\n",
              "      <td>Post and telecommunications (64)</td>\n",
              "      <td>-0.0114</td>\n",
              "      <td>-0.0114</td>\n",
              "      <td>-0.018382</td>\n",
              "      <td>1</td>\n",
              "      <td>-12.977099</td>\n",
              "      <td>-0.01164</td>\n",
              "    </tr>\n",
              "  </tbody>\n",
              "</table>\n",
              "</div>"
            ],
            "text/plain": [
              "   Year                     CompanyName  ... Environmental_Growth Ind_Yearavg\n",
              "0  2016               1&1 DRILLISCH AG   ...                  NaN    -0.01164\n",
              "1  2016                AFK SISTEMA PAO   ...             6.722107    -0.01164\n",
              "2  2016   AMERICA MOVIL S.A.B. DE C.V.   ...            13.274336    -0.01164\n",
              "3  2016                      AT&T INC.   ...            -8.108108    -0.01164\n",
              "4  2016                 CHORUS LIMITED   ...           -12.977099    -0.01164\n",
              "\n",
              "[5 rows x 10 columns]"
            ]
          },
          "metadata": {
            "tags": []
          },
          "execution_count": 126
        }
      ]
    },
    {
      "cell_type": "code",
      "metadata": {
        "id": "J1YAgwX9ySHn"
      },
      "source": [
        ""
      ],
      "execution_count": 126,
      "outputs": []
    },
    {
      "cell_type": "code",
      "metadata": {
        "id": "e5tv6NbXA1aD",
        "colab": {
          "base_uri": "https://localhost:8080/",
          "height": 293
        },
        "outputId": "ec35e7e8-100b-4419-eecf-a6d44e996645"
      },
      "source": [
        "# merge the dataframes into one\n",
        "df2 = pd.merge(df1, stock_des, on='Ticker')\n",
        "df2 = df2[df2['fyear']==2018]\n",
        "df2.head()"
      ],
      "execution_count": 127,
      "outputs": [
        {
          "output_type": "execute_result",
          "data": {
            "text/html": [
              "<div>\n",
              "<style scoped>\n",
              "    .dataframe tbody tr th:only-of-type {\n",
              "        vertical-align: middle;\n",
              "    }\n",
              "\n",
              "    .dataframe tbody tr th {\n",
              "        vertical-align: top;\n",
              "    }\n",
              "\n",
              "    .dataframe thead th {\n",
              "        text-align: right;\n",
              "    }\n",
              "</style>\n",
              "<table border=\"1\" class=\"dataframe\">\n",
              "  <thead>\n",
              "    <tr style=\"text-align: right;\">\n",
              "      <th></th>\n",
              "      <th>fyear</th>\n",
              "      <th>Ticker</th>\n",
              "      <th>CompanyName</th>\n",
              "      <th>conml</th>\n",
              "      <th>Description</th>\n",
              "    </tr>\n",
              "  </thead>\n",
              "  <tbody>\n",
              "    <tr>\n",
              "      <th>8</th>\n",
              "      <td>2018</td>\n",
              "      <td>PNW</td>\n",
              "      <td>PINNACLE WEST CAPITAL CORP</td>\n",
              "      <td>Pinnacle West Capital Corp</td>\n",
              "      <td>Pinnacle West Capital Corporation, through its...</td>\n",
              "    </tr>\n",
              "    <tr>\n",
              "      <th>18</th>\n",
              "      <td>2018</td>\n",
              "      <td>HES</td>\n",
              "      <td>HESS CORP</td>\n",
              "      <td>Hess Corp</td>\n",
              "      <td>Hess Corporation, an exploration and productio...</td>\n",
              "    </tr>\n",
              "    <tr>\n",
              "      <th>28</th>\n",
              "      <td>2018</td>\n",
              "      <td>AEP</td>\n",
              "      <td>AMERICAN ELECTRIC POWER CO</td>\n",
              "      <td>American Electric Power Co Inc</td>\n",
              "      <td>American Electric Power Company, Inc., an elec...</td>\n",
              "    </tr>\n",
              "    <tr>\n",
              "      <th>38</th>\n",
              "      <td>2018</td>\n",
              "      <td>APA</td>\n",
              "      <td>APA CORP</td>\n",
              "      <td>APA Corporation</td>\n",
              "      <td>APA Corporation, through its subsidiaries, exp...</td>\n",
              "    </tr>\n",
              "    <tr>\n",
              "      <th>48</th>\n",
              "      <td>2018</td>\n",
              "      <td>CVX</td>\n",
              "      <td>CHEVRON CORP</td>\n",
              "      <td>Chevron Corp</td>\n",
              "      <td>Chevron Corporation, through its subsidiaries,...</td>\n",
              "    </tr>\n",
              "  </tbody>\n",
              "</table>\n",
              "</div>"
            ],
            "text/plain": [
              "    fyear  ...                                        Description\n",
              "8    2018  ...  Pinnacle West Capital Corporation, through its...\n",
              "18   2018  ...  Hess Corporation, an exploration and productio...\n",
              "28   2018  ...  American Electric Power Company, Inc., an elec...\n",
              "38   2018  ...  APA Corporation, through its subsidiaries, exp...\n",
              "48   2018  ...  Chevron Corporation, through its subsidiaries,...\n",
              "\n",
              "[5 rows x 5 columns]"
            ]
          },
          "metadata": {
            "tags": []
          },
          "execution_count": 127
        }
      ]
    },
    {
      "cell_type": "code",
      "metadata": {
        "id": "xXz6lmoM0IaM",
        "colab": {
          "base_uri": "https://localhost:8080/",
          "height": 486
        },
        "outputId": "0c87af4f-47b8-43da-f6c4-f76577627481"
      },
      "source": [
        "df2=pd.merge(df,df2,on='CompanyName')\n",
        "df2.head()"
      ],
      "execution_count": 128,
      "outputs": [
        {
          "output_type": "execute_result",
          "data": {
            "text/html": [
              "<div>\n",
              "<style scoped>\n",
              "    .dataframe tbody tr th:only-of-type {\n",
              "        vertical-align: middle;\n",
              "    }\n",
              "\n",
              "    .dataframe tbody tr th {\n",
              "        vertical-align: top;\n",
              "    }\n",
              "\n",
              "    .dataframe thead th {\n",
              "        text-align: right;\n",
              "    }\n",
              "</style>\n",
              "<table border=\"1\" class=\"dataframe\">\n",
              "  <thead>\n",
              "    <tr style=\"text-align: right;\">\n",
              "      <th></th>\n",
              "      <th>Year</th>\n",
              "      <th>CompanyName</th>\n",
              "      <th>Country</th>\n",
              "      <th>Industry(Exiobase)</th>\n",
              "      <th>EnvironmentalIntensity(Sales)</th>\n",
              "      <th>Env_intensity</th>\n",
              "      <th>industry_avg</th>\n",
              "      <th>Industry_indicator</th>\n",
              "      <th>Environmental_Growth</th>\n",
              "      <th>Ind_Yearavg</th>\n",
              "      <th>fyear</th>\n",
              "      <th>Ticker</th>\n",
              "      <th>conml</th>\n",
              "      <th>Description</th>\n",
              "    </tr>\n",
              "  </thead>\n",
              "  <tbody>\n",
              "    <tr>\n",
              "      <th>0</th>\n",
              "      <td>2016</td>\n",
              "      <td>DOMINION ENERGY INC</td>\n",
              "      <td>United States</td>\n",
              "      <td>Production of electricity nec</td>\n",
              "      <td>-1.3176</td>\n",
              "      <td>-1.3176</td>\n",
              "      <td>-0.821631</td>\n",
              "      <td>-1</td>\n",
              "      <td>NaN</td>\n",
              "      <td>-0.860912</td>\n",
              "      <td>2018</td>\n",
              "      <td>D</td>\n",
              "      <td>Dominion Energy Inc</td>\n",
              "      <td>Dominion Energy, Inc. produces and distributes...</td>\n",
              "    </tr>\n",
              "    <tr>\n",
              "      <th>1</th>\n",
              "      <td>2017</td>\n",
              "      <td>DOMINION ENERGY INC</td>\n",
              "      <td>United States</td>\n",
              "      <td>Production of electricity nec</td>\n",
              "      <td>-1.0128</td>\n",
              "      <td>-1.0128</td>\n",
              "      <td>-0.821631</td>\n",
              "      <td>-1</td>\n",
              "      <td>-23.132969</td>\n",
              "      <td>-0.853385</td>\n",
              "      <td>2018</td>\n",
              "      <td>D</td>\n",
              "      <td>Dominion Energy Inc</td>\n",
              "      <td>Dominion Energy, Inc. produces and distributes...</td>\n",
              "    </tr>\n",
              "    <tr>\n",
              "      <th>2</th>\n",
              "      <td>2018</td>\n",
              "      <td>DOMINION ENERGY INC</td>\n",
              "      <td>United States</td>\n",
              "      <td>Production of electricity nec</td>\n",
              "      <td>-0.7632</td>\n",
              "      <td>-0.7632</td>\n",
              "      <td>-0.821631</td>\n",
              "      <td>1</td>\n",
              "      <td>-24.644550</td>\n",
              "      <td>-0.786849</td>\n",
              "      <td>2018</td>\n",
              "      <td>D</td>\n",
              "      <td>Dominion Energy Inc</td>\n",
              "      <td>Dominion Energy, Inc. produces and distributes...</td>\n",
              "    </tr>\n",
              "    <tr>\n",
              "      <th>3</th>\n",
              "      <td>2019</td>\n",
              "      <td>DOMINION ENERGY INC</td>\n",
              "      <td>United States</td>\n",
              "      <td>Production of electricity nec</td>\n",
              "      <td>-0.8474</td>\n",
              "      <td>-0.8474</td>\n",
              "      <td>-0.821631</td>\n",
              "      <td>-1</td>\n",
              "      <td>11.032495</td>\n",
              "      <td>-0.794171</td>\n",
              "      <td>2018</td>\n",
              "      <td>D</td>\n",
              "      <td>Dominion Energy Inc</td>\n",
              "      <td>Dominion Energy, Inc. produces and distributes...</td>\n",
              "    </tr>\n",
              "    <tr>\n",
              "      <th>4</th>\n",
              "      <td>2016</td>\n",
              "      <td>EDISON INTERNATIONAL</td>\n",
              "      <td>United States</td>\n",
              "      <td>Production of electricity nec</td>\n",
              "      <td>-0.3127</td>\n",
              "      <td>-0.3127</td>\n",
              "      <td>-0.821631</td>\n",
              "      <td>1</td>\n",
              "      <td>NaN</td>\n",
              "      <td>-0.860912</td>\n",
              "      <td>2018</td>\n",
              "      <td>EIX</td>\n",
              "      <td>Edison International</td>\n",
              "      <td>Edison International, through its subsidiaries...</td>\n",
              "    </tr>\n",
              "  </tbody>\n",
              "</table>\n",
              "</div>"
            ],
            "text/plain": [
              "   Year  ...                                        Description\n",
              "0  2016  ...  Dominion Energy, Inc. produces and distributes...\n",
              "1  2017  ...  Dominion Energy, Inc. produces and distributes...\n",
              "2  2018  ...  Dominion Energy, Inc. produces and distributes...\n",
              "3  2019  ...  Dominion Energy, Inc. produces and distributes...\n",
              "4  2016  ...  Edison International, through its subsidiaries...\n",
              "\n",
              "[5 rows x 14 columns]"
            ]
          },
          "metadata": {
            "tags": []
          },
          "execution_count": 128
        }
      ]
    },
    {
      "cell_type": "code",
      "metadata": {
        "id": "HxLj5nuvJ-O1"
      },
      "source": [
        "df2['Description'] = df2['Description'].str.slice(0,350)"
      ],
      "execution_count": 129,
      "outputs": []
    },
    {
      "cell_type": "markdown",
      "metadata": {
        "id": "cyQA5avIJbw9"
      },
      "source": [
        "Create a binary variable that is 1 if the assets to revenue ratio is above its median and 0 otherwise. \n",
        "\n",
        "This is the **dependent variable** (label) that we'll try to predict. "
      ]
    },
    {
      "cell_type": "code",
      "metadata": {
        "id": "Hry4H3FfI4Cl"
      },
      "source": [
        "df2['HIGH_EI'] = (df2['Env_intensity'].gt(df2['Env_intensity'].median())).astype(int)"
      ],
      "execution_count": 130,
      "outputs": []
    },
    {
      "cell_type": "markdown",
      "metadata": {
        "id": "2xiIIro9Hd4Z"
      },
      "source": [
        "# Preparing the predictor and DistilBERT model"
      ]
    },
    {
      "cell_type": "markdown",
      "metadata": {
        "id": "45gG8_wRH26d"
      },
      "source": [
        "**Note**. Please enable GPU in Edit > Notebook settings > Hardware accelerator. "
      ]
    },
    {
      "cell_type": "markdown",
      "metadata": {
        "id": "F6L57WrVUdaH"
      },
      "source": [
        "Load a pre-trained BERT model."
      ]
    },
    {
      "cell_type": "code",
      "metadata": {
        "colab": {
          "base_uri": "https://localhost:8080/"
        },
        "id": "K6nQvGTBHYnI",
        "outputId": "db4bedb1-00af-4a3f-8c47-b54f4e1d89e5"
      },
      "source": [
        "model_class, tokenizer_class, pretrained_weights = (ppb.DistilBertModel, ppb.DistilBertTokenizer, 'distilbert-base-uncased')\n",
        "\n",
        "# Load pretrained model/tokenizer\n",
        "tokenizer = tokenizer_class.from_pretrained(pretrained_weights)\n",
        "model = model_class.from_pretrained(pretrained_weights)"
      ],
      "execution_count": 131,
      "outputs": [
        {
          "output_type": "stream",
          "text": [
            "Some weights of the model checkpoint at distilbert-base-uncased were not used when initializing DistilBertModel: ['vocab_projector.bias', 'vocab_projector.weight', 'vocab_layer_norm.weight', 'vocab_transform.weight', 'vocab_transform.bias', 'vocab_layer_norm.bias']\n",
            "- This IS expected if you are initializing DistilBertModel from the checkpoint of a model trained on another task or with another architecture (e.g. initializing a BertForSequenceClassification model from a BertForPreTraining model).\n",
            "- This IS NOT expected if you are initializing DistilBertModel from the checkpoint of a model that you expect to be exactly identical (initializing a BertForSequenceClassification model from a BertForSequenceClassification model).\n"
          ],
          "name": "stderr"
        }
      ]
    },
    {
      "cell_type": "markdown",
      "metadata": {
        "id": "WH42D3srUplB"
      },
      "source": [
        "Tokenize the textual data for DistilBERT. "
      ]
    },
    {
      "cell_type": "code",
      "metadata": {
        "id": "_MViVEVpHgc5"
      },
      "source": [
        "tokenized = df2['Description'].apply((lambda x: tokenizer.encode(x, add_special_tokens=True)))"
      ],
      "execution_count": 132,
      "outputs": []
    },
    {
      "cell_type": "markdown",
      "metadata": {
        "id": "cpgaGZtHU5k5"
      },
      "source": [
        "Pad all lists of tokenized values to the same size. "
      ]
    },
    {
      "cell_type": "code",
      "metadata": {
        "id": "vRHi95SzIUBI"
      },
      "source": [
        "max_len = 0\n",
        "for i in tokenized.values:\n",
        "    if len(i) > max_len:\n",
        "        max_len = len(i)\n",
        "\n",
        "padded = np.array([i + [0]*(max_len-len(i)) for i in tokenized.values])"
      ],
      "execution_count": 133,
      "outputs": []
    },
    {
      "cell_type": "code",
      "metadata": {
        "colab": {
          "base_uri": "https://localhost:8080/"
        },
        "id": "hoKj2ZEcIVEV",
        "outputId": "27926fae-59ff-437e-b891-72941f7c0663"
      },
      "source": [
        "np.array(padded).shape"
      ],
      "execution_count": 134,
      "outputs": [
        {
          "output_type": "execute_result",
          "data": {
            "text/plain": [
              "(32, 75)"
            ]
          },
          "metadata": {
            "tags": []
          },
          "execution_count": 134
        }
      ]
    },
    {
      "cell_type": "markdown",
      "metadata": {
        "id": "wB4v0BX5VmHH"
      },
      "source": [
        "Create attention mask variable for BERT to ignore (mask) the padding when it's processing its input."
      ]
    },
    {
      "cell_type": "code",
      "metadata": {
        "colab": {
          "base_uri": "https://localhost:8080/"
        },
        "id": "FN-YEkmAIX7M",
        "outputId": "9c6c676b-5e2a-4ffd-8308-08036635b2d5"
      },
      "source": [
        "attention_mask = np.where(padded != 0, 1, 0)\n",
        "attention_mask.shape"
      ],
      "execution_count": 135,
      "outputs": [
        {
          "output_type": "execute_result",
          "data": {
            "text/plain": [
              "(32, 75)"
            ]
          },
          "metadata": {
            "tags": []
          },
          "execution_count": 135
        }
      ]
    },
    {
      "cell_type": "markdown",
      "metadata": {
        "id": "foOCjD32Wv-o"
      },
      "source": [
        "# DistilBERT model"
      ]
    },
    {
      "cell_type": "markdown",
      "metadata": {
        "id": "FcwKErnPXdJW"
      },
      "source": [
        "We run the pretrained DistilBERT model on the prepared predictor and keep the result in `last_hidden_states` variable. "
      ]
    },
    {
      "cell_type": "code",
      "metadata": {
        "id": "E7q78fWpIZmE"
      },
      "source": [
        "input_ids = torch.tensor(padded)  \n",
        "attention_mask = torch.tensor(attention_mask)\n",
        "\n",
        "with torch.no_grad():\n",
        "    last_hidden_states = model(input_ids, attention_mask=attention_mask)"
      ],
      "execution_count": 136,
      "outputs": []
    },
    {
      "cell_type": "markdown",
      "metadata": {
        "id": "Th0yBidYIcLn"
      },
      "source": [
        "# Logistic regression model \n",
        "\n"
      ]
    },
    {
      "cell_type": "markdown",
      "metadata": {
        "id": "VpUl1blQZhE2"
      },
      "source": [
        "Keep the first layer of the hidden states and assign the outcome variable to `labels`. "
      ]
    },
    {
      "cell_type": "code",
      "metadata": {
        "id": "TS8Qq-t5IhX2"
      },
      "source": [
        "features = last_hidden_states[0][:,0,:].numpy()\n",
        "labels = df2['HIGH_EI']"
      ],
      "execution_count": 137,
      "outputs": []
    },
    {
      "cell_type": "markdown",
      "metadata": {
        "id": "UmpGJg0OZyom"
      },
      "source": [
        "Split the data in train and test subsets, train the Logistic Regression on train set and evaluate its accuracy on the test set. "
      ]
    },
    {
      "cell_type": "code",
      "metadata": {
        "colab": {
          "base_uri": "https://localhost:8080/"
        },
        "id": "T9M0Vj41Im1o",
        "outputId": "1b1866a2-633d-44a4-8194-56b01415f52c"
      },
      "source": [
        "train_features, test_features, train_labels, test_labels = train_test_split(features, labels,test_size=0.33, random_state=42)\n",
        "lr_clf = LogisticRegression(max_iter=5000)\n",
        "lr_clf.fit(train_features, train_labels)\n",
        "print(lr_clf.score(test_features, test_labels))"
      ],
      "execution_count": 138,
      "outputs": [
        {
          "output_type": "stream",
          "text": [
            "1.0\n"
          ],
          "name": "stdout"
        }
      ]
    },
    {
      "cell_type": "markdown",
      "metadata": {
        "id": "Lmdk9NS4Z_1e"
      },
      "source": [
        "Check if this approach works better than a random guess (1.0 > 0.5). "
      ]
    },
    {
      "cell_type": "code",
      "metadata": {
        "colab": {
          "base_uri": "https://localhost:8080/"
        },
        "id": "TxD6rghdKein",
        "outputId": "f449e1a8-8671-4f0a-cb30-9fd5b2ccbc36"
      },
      "source": [
        "from sklearn.dummy import DummyClassifier\n",
        "clf = DummyClassifier()\n",
        "\n",
        "scores = cross_val_score(clf, train_features, train_labels)\n",
        "print(\"Dummy classifier score: %0.3f (+/- %0.2f)\" % (scores.mean(), scores.std() * 2))"
      ],
      "execution_count": 139,
      "outputs": [
        {
          "output_type": "stream",
          "text": [
            "Dummy classifier score: 0.510 (+/- 0.47)\n"
          ],
          "name": "stdout"
        },
        {
          "output_type": "stream",
          "text": [
            "/usr/local/lib/python3.7/dist-packages/sklearn/dummy.py:132: FutureWarning: The default value of strategy will change from stratified to prior in 0.24.\n",
            "  \"stratified to prior in 0.24.\", FutureWarning)\n"
          ],
          "name": "stderr"
        }
      ]
    }
  ]
}