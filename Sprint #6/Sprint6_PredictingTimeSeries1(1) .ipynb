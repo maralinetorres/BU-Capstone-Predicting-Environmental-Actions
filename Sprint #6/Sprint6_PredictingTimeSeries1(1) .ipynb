{
  "nbformat": 4,
  "nbformat_minor": 5,
  "metadata": {
    "colab": {
      "name": "Sprint6_PredictingTimeSeries1.ipynb",
      "provenance": []
    },
    "kernelspec": {
      "display_name": "Python 3",
      "language": "python",
      "name": "python3"
    },
    "language_info": {
      "codemirror_mode": {
        "name": "ipython",
        "version": 3
      },
      "file_extension": ".py",
      "mimetype": "text/x-python",
      "name": "python",
      "nbconvert_exporter": "python",
      "pygments_lexer": "ipython3",
      "version": "3.7.4"
    }
  },
  "cells": [
    {
      "cell_type": "markdown",
      "metadata": {
        "id": "persistent-following"
      },
      "source": [
        "# Sprint 6 - Predicting future environmental intensity (Time Series)\n",
        "\n",
        "In this notebook, we will predict future environmental intensity for all the companies in the 'Excel data'. We will be using data from previous years to predict the future environmental intesity. \n",
        "\n",
        "First, we will create the following columns:\n",
        "\n",
        "1) Industry Indicator\n",
        "- 1 if above the industry average in current year\n",
        "- 0 if at industry average in current yeat\n",
        "- (-1) if below the industry average in current year\n",
        "2) Environmental Intensity Growth : ((Environmental Intensity in Current Year / Environmental Intensity Last Year) - 1) * 100"
      ],
      "id": "persistent-following"
    },
    {
      "cell_type": "code",
      "metadata": {
        "id": "wound-assurance"
      },
      "source": [
        "import pandas as pd\n",
        "import numpy as np\n",
        "import seaborn as sns\n",
        "import matplotlib.pyplot as plt\n",
        "import missingno as msno\n",
        "import warnings\n",
        "from sklearn import linear_model\n",
        "from sklearn import metrics\n",
        "from sklearn.linear_model import LinearRegression\n",
        "from sklearn.model_selection import train_test_split\n",
        "import requests\n",
        "from bs4 import BeautifulSoup\n",
        "warnings.filterwarnings('ignore')"
      ],
      "id": "wound-assurance",
      "execution_count": 79,
      "outputs": []
    },
    {
      "cell_type": "code",
      "metadata": {
        "colab": {
          "base_uri": "https://localhost:8080/",
          "height": 281
        },
        "id": "mental-excellence",
        "outputId": "a7628443-5329-4315-e077-1dcb1d71bcce"
      },
      "source": [
        "df = pd.read_csv('Environmental_Impact_dataset.csv')\n",
        "column_list = []\n",
        "for column in df.columns:\n",
        "    column_list.append(column.replace(' ', ''))\n",
        "df.columns = column_list\n",
        "print(f'The dataset has {df.shape[0]} rows and {df.shape[1]} columns')\n",
        "df.head(3)"
      ],
      "id": "mental-excellence",
      "execution_count": 80,
      "outputs": [
        {
          "output_type": "stream",
          "text": [
            "The dataset has 14515 rows and 9 columns\n"
          ],
          "name": "stdout"
        },
        {
          "output_type": "execute_result",
          "data": {
            "text/html": [
              "<div>\n",
              "<style scoped>\n",
              "    .dataframe tbody tr th:only-of-type {\n",
              "        vertical-align: middle;\n",
              "    }\n",
              "\n",
              "    .dataframe tbody tr th {\n",
              "        vertical-align: top;\n",
              "    }\n",
              "\n",
              "    .dataframe thead th {\n",
              "        text-align: right;\n",
              "    }\n",
              "</style>\n",
              "<table border=\"1\" class=\"dataframe\">\n",
              "  <thead>\n",
              "    <tr style=\"text-align: right;\">\n",
              "      <th></th>\n",
              "      <th>Year</th>\n",
              "      <th>CompanyName</th>\n",
              "      <th>Country</th>\n",
              "      <th>Industry(Exiobase)</th>\n",
              "      <th>EnvironmentalIntensity(Sales)</th>\n",
              "      <th>Env_intensity</th>\n",
              "      <th>industry_avg</th>\n",
              "      <th>Industry_indicator</th>\n",
              "      <th>Environmental_Growth</th>\n",
              "    </tr>\n",
              "  </thead>\n",
              "  <tbody>\n",
              "    <tr>\n",
              "      <th>0</th>\n",
              "      <td>2016</td>\n",
              "      <td>1&amp;1 DRILLISCH AG</td>\n",
              "      <td>Germany</td>\n",
              "      <td>Post and telecommunications (64)</td>\n",
              "      <td>-0.07%</td>\n",
              "      <td>-0.0007</td>\n",
              "      <td>-0.018382</td>\n",
              "      <td>1</td>\n",
              "      <td>NaN</td>\n",
              "    </tr>\n",
              "    <tr>\n",
              "      <th>1</th>\n",
              "      <td>2010</td>\n",
              "      <td>3I GROUP PLC</td>\n",
              "      <td>United Kingdom</td>\n",
              "      <td>Financial intermediation, except insurance an...</td>\n",
              "      <td>-0.12%</td>\n",
              "      <td>-0.0012</td>\n",
              "      <td>-0.020072</td>\n",
              "      <td>1</td>\n",
              "      <td>NaN</td>\n",
              "    </tr>\n",
              "    <tr>\n",
              "      <th>2</th>\n",
              "      <td>2011</td>\n",
              "      <td>3I GROUP PLC</td>\n",
              "      <td>United Kingdom</td>\n",
              "      <td>Financial intermediation, except insurance an...</td>\n",
              "      <td>-0.16%</td>\n",
              "      <td>-0.0016</td>\n",
              "      <td>-0.020072</td>\n",
              "      <td>1</td>\n",
              "      <td>33.333333</td>\n",
              "    </tr>\n",
              "  </tbody>\n",
              "</table>\n",
              "</div>"
            ],
            "text/plain": [
              "   Year         CompanyName  ... Industry_indicator Environmental_Growth\n",
              "0  2016   1&1 DRILLISCH AG   ...                  1                  NaN\n",
              "1  2010       3I GROUP PLC   ...                  1                  NaN\n",
              "2  2011       3I GROUP PLC   ...                  1            33.333333\n",
              "\n",
              "[3 rows x 9 columns]"
            ]
          },
          "metadata": {
            "tags": []
          },
          "execution_count": 80
        }
      ]
    },
    {
      "cell_type": "code",
      "metadata": {
        "colab": {
          "base_uri": "https://localhost:8080/",
          "height": 204
        },
        "id": "future-cornell",
        "outputId": "9695eda6-a19d-4bcc-ca72-4d1f594d749d"
      },
      "source": [
        "df = df.iloc[:,0:6]\n",
        "df.head()"
      ],
      "id": "future-cornell",
      "execution_count": 81,
      "outputs": [
        {
          "output_type": "execute_result",
          "data": {
            "text/html": [
              "<div>\n",
              "<style scoped>\n",
              "    .dataframe tbody tr th:only-of-type {\n",
              "        vertical-align: middle;\n",
              "    }\n",
              "\n",
              "    .dataframe tbody tr th {\n",
              "        vertical-align: top;\n",
              "    }\n",
              "\n",
              "    .dataframe thead th {\n",
              "        text-align: right;\n",
              "    }\n",
              "</style>\n",
              "<table border=\"1\" class=\"dataframe\">\n",
              "  <thead>\n",
              "    <tr style=\"text-align: right;\">\n",
              "      <th></th>\n",
              "      <th>Year</th>\n",
              "      <th>CompanyName</th>\n",
              "      <th>Country</th>\n",
              "      <th>Industry(Exiobase)</th>\n",
              "      <th>EnvironmentalIntensity(Sales)</th>\n",
              "      <th>Env_intensity</th>\n",
              "    </tr>\n",
              "  </thead>\n",
              "  <tbody>\n",
              "    <tr>\n",
              "      <th>0</th>\n",
              "      <td>2016</td>\n",
              "      <td>1&amp;1 DRILLISCH AG</td>\n",
              "      <td>Germany</td>\n",
              "      <td>Post and telecommunications (64)</td>\n",
              "      <td>-0.07%</td>\n",
              "      <td>-0.0007</td>\n",
              "    </tr>\n",
              "    <tr>\n",
              "      <th>1</th>\n",
              "      <td>2010</td>\n",
              "      <td>3I GROUP PLC</td>\n",
              "      <td>United Kingdom</td>\n",
              "      <td>Financial intermediation, except insurance an...</td>\n",
              "      <td>-0.12%</td>\n",
              "      <td>-0.0012</td>\n",
              "    </tr>\n",
              "    <tr>\n",
              "      <th>2</th>\n",
              "      <td>2011</td>\n",
              "      <td>3I GROUP PLC</td>\n",
              "      <td>United Kingdom</td>\n",
              "      <td>Financial intermediation, except insurance an...</td>\n",
              "      <td>-0.16%</td>\n",
              "      <td>-0.0016</td>\n",
              "    </tr>\n",
              "    <tr>\n",
              "      <th>3</th>\n",
              "      <td>2012</td>\n",
              "      <td>3I GROUP PLC</td>\n",
              "      <td>United Kingdom</td>\n",
              "      <td>Financial intermediation, except insurance an...</td>\n",
              "      <td>-0.15%</td>\n",
              "      <td>-0.0015</td>\n",
              "    </tr>\n",
              "    <tr>\n",
              "      <th>4</th>\n",
              "      <td>2010</td>\n",
              "      <td>3M COMPANY</td>\n",
              "      <td>United States</td>\n",
              "      <td>Activities of membership organisation n.e.c. ...</td>\n",
              "      <td>-7.90%</td>\n",
              "      <td>-0.0790</td>\n",
              "    </tr>\n",
              "  </tbody>\n",
              "</table>\n",
              "</div>"
            ],
            "text/plain": [
              "   Year         CompanyName  ... EnvironmentalIntensity(Sales) Env_intensity\n",
              "0  2016   1&1 DRILLISCH AG   ...                        -0.07%       -0.0007\n",
              "1  2010       3I GROUP PLC   ...                        -0.12%       -0.0012\n",
              "2  2011       3I GROUP PLC   ...                        -0.16%       -0.0016\n",
              "3  2012       3I GROUP PLC   ...                        -0.15%       -0.0015\n",
              "4  2010         3M COMPANY   ...                        -7.90%       -0.0790\n",
              "\n",
              "[5 rows x 6 columns]"
            ]
          },
          "metadata": {
            "tags": []
          },
          "execution_count": 81
        }
      ]
    },
    {
      "cell_type": "code",
      "metadata": {
        "id": "national-avenue",
        "tags": []
      },
      "source": [
        "def percent_to_float(s):\n",
        "    return float(s.strip('%')) / 100.0\n",
        "\n",
        "replace_dict = {'(':'',')':'', ' ' : '', ',' : ''}\n",
        "def paranthesis_to_minus(value):\n",
        "    for i, j in replace_dict.items():\n",
        "        value = value.replace(i, j)\n",
        "    value = int(f'-{value}')\n",
        "    return value\n",
        "\n",
        "df['Env_intensity'] = df['EnvironmentalIntensity(Sales)'].apply(percent_to_float)"
      ],
      "id": "national-avenue",
      "execution_count": 82,
      "outputs": []
    },
    {
      "cell_type": "code",
      "metadata": {
        "colab": {
          "base_uri": "https://localhost:8080/",
          "height": 204
        },
        "id": "first-surgery",
        "outputId": "2c1f104d-8bc3-4244-ba8b-ed157a7d1b26"
      },
      "source": [
        "df.head()"
      ],
      "id": "first-surgery",
      "execution_count": 83,
      "outputs": [
        {
          "output_type": "execute_result",
          "data": {
            "text/html": [
              "<div>\n",
              "<style scoped>\n",
              "    .dataframe tbody tr th:only-of-type {\n",
              "        vertical-align: middle;\n",
              "    }\n",
              "\n",
              "    .dataframe tbody tr th {\n",
              "        vertical-align: top;\n",
              "    }\n",
              "\n",
              "    .dataframe thead th {\n",
              "        text-align: right;\n",
              "    }\n",
              "</style>\n",
              "<table border=\"1\" class=\"dataframe\">\n",
              "  <thead>\n",
              "    <tr style=\"text-align: right;\">\n",
              "      <th></th>\n",
              "      <th>Year</th>\n",
              "      <th>CompanyName</th>\n",
              "      <th>Country</th>\n",
              "      <th>Industry(Exiobase)</th>\n",
              "      <th>EnvironmentalIntensity(Sales)</th>\n",
              "      <th>Env_intensity</th>\n",
              "    </tr>\n",
              "  </thead>\n",
              "  <tbody>\n",
              "    <tr>\n",
              "      <th>0</th>\n",
              "      <td>2016</td>\n",
              "      <td>1&amp;1 DRILLISCH AG</td>\n",
              "      <td>Germany</td>\n",
              "      <td>Post and telecommunications (64)</td>\n",
              "      <td>-0.07%</td>\n",
              "      <td>-0.0007</td>\n",
              "    </tr>\n",
              "    <tr>\n",
              "      <th>1</th>\n",
              "      <td>2010</td>\n",
              "      <td>3I GROUP PLC</td>\n",
              "      <td>United Kingdom</td>\n",
              "      <td>Financial intermediation, except insurance an...</td>\n",
              "      <td>-0.12%</td>\n",
              "      <td>-0.0012</td>\n",
              "    </tr>\n",
              "    <tr>\n",
              "      <th>2</th>\n",
              "      <td>2011</td>\n",
              "      <td>3I GROUP PLC</td>\n",
              "      <td>United Kingdom</td>\n",
              "      <td>Financial intermediation, except insurance an...</td>\n",
              "      <td>-0.16%</td>\n",
              "      <td>-0.0016</td>\n",
              "    </tr>\n",
              "    <tr>\n",
              "      <th>3</th>\n",
              "      <td>2012</td>\n",
              "      <td>3I GROUP PLC</td>\n",
              "      <td>United Kingdom</td>\n",
              "      <td>Financial intermediation, except insurance an...</td>\n",
              "      <td>-0.15%</td>\n",
              "      <td>-0.0015</td>\n",
              "    </tr>\n",
              "    <tr>\n",
              "      <th>4</th>\n",
              "      <td>2010</td>\n",
              "      <td>3M COMPANY</td>\n",
              "      <td>United States</td>\n",
              "      <td>Activities of membership organisation n.e.c. ...</td>\n",
              "      <td>-7.90%</td>\n",
              "      <td>-0.0790</td>\n",
              "    </tr>\n",
              "  </tbody>\n",
              "</table>\n",
              "</div>"
            ],
            "text/plain": [
              "   Year         CompanyName  ... EnvironmentalIntensity(Sales) Env_intensity\n",
              "0  2016   1&1 DRILLISCH AG   ...                        -0.07%       -0.0007\n",
              "1  2010       3I GROUP PLC   ...                        -0.12%       -0.0012\n",
              "2  2011       3I GROUP PLC   ...                        -0.16%       -0.0016\n",
              "3  2012       3I GROUP PLC   ...                        -0.15%       -0.0015\n",
              "4  2010         3M COMPANY   ...                        -7.90%       -0.0790\n",
              "\n",
              "[5 rows x 6 columns]"
            ]
          },
          "metadata": {
            "tags": []
          },
          "execution_count": 83
        }
      ]
    },
    {
      "cell_type": "markdown",
      "metadata": {
        "id": "celtic-wound"
      },
      "source": [
        "### Creating industry indicator"
      ],
      "id": "celtic-wound"
    },
    {
      "cell_type": "code",
      "metadata": {
        "id": "awful-remark"
      },
      "source": [
        "industry_avg = df.groupby('Industry(Exiobase)')[['Env_intensity']].mean().reset_index()\n",
        "df['industry_avg'] = df['Env_intensity'].groupby(df['Industry(Exiobase)']).transform('mean')"
      ],
      "id": "awful-remark",
      "execution_count": 84,
      "outputs": []
    },
    {
      "cell_type": "code",
      "metadata": {
        "colab": {
          "base_uri": "https://localhost:8080/",
          "height": 0
        },
        "id": "august-toddler",
        "outputId": "edc72ff4-3483-42c8-f93c-99b7ea73b6ee"
      },
      "source": [
        "def create_ind(df):\n",
        "    if(df['Env_intensity'] > df['industry_avg']):\n",
        "        return 1\n",
        "    elif (df['Env_intensity'] == df['industry_avg']):\n",
        "        return 0\n",
        "    elif (df['Env_intensity'] < df['industry_avg']):\n",
        "        return -1\n",
        "\n",
        "df['Industry_indicator'] = df.apply(create_ind, axis = 1)\n",
        "df.head()"
      ],
      "id": "august-toddler",
      "execution_count": 85,
      "outputs": [
        {
          "output_type": "execute_result",
          "data": {
            "text/html": [
              "<div>\n",
              "<style scoped>\n",
              "    .dataframe tbody tr th:only-of-type {\n",
              "        vertical-align: middle;\n",
              "    }\n",
              "\n",
              "    .dataframe tbody tr th {\n",
              "        vertical-align: top;\n",
              "    }\n",
              "\n",
              "    .dataframe thead th {\n",
              "        text-align: right;\n",
              "    }\n",
              "</style>\n",
              "<table border=\"1\" class=\"dataframe\">\n",
              "  <thead>\n",
              "    <tr style=\"text-align: right;\">\n",
              "      <th></th>\n",
              "      <th>Year</th>\n",
              "      <th>CompanyName</th>\n",
              "      <th>Country</th>\n",
              "      <th>Industry(Exiobase)</th>\n",
              "      <th>EnvironmentalIntensity(Sales)</th>\n",
              "      <th>Env_intensity</th>\n",
              "      <th>industry_avg</th>\n",
              "      <th>Industry_indicator</th>\n",
              "    </tr>\n",
              "  </thead>\n",
              "  <tbody>\n",
              "    <tr>\n",
              "      <th>0</th>\n",
              "      <td>2016</td>\n",
              "      <td>1&amp;1 DRILLISCH AG</td>\n",
              "      <td>Germany</td>\n",
              "      <td>Post and telecommunications (64)</td>\n",
              "      <td>-0.07%</td>\n",
              "      <td>-0.0007</td>\n",
              "      <td>-0.018382</td>\n",
              "      <td>1</td>\n",
              "    </tr>\n",
              "    <tr>\n",
              "      <th>1</th>\n",
              "      <td>2010</td>\n",
              "      <td>3I GROUP PLC</td>\n",
              "      <td>United Kingdom</td>\n",
              "      <td>Financial intermediation, except insurance an...</td>\n",
              "      <td>-0.12%</td>\n",
              "      <td>-0.0012</td>\n",
              "      <td>-0.020072</td>\n",
              "      <td>1</td>\n",
              "    </tr>\n",
              "    <tr>\n",
              "      <th>2</th>\n",
              "      <td>2011</td>\n",
              "      <td>3I GROUP PLC</td>\n",
              "      <td>United Kingdom</td>\n",
              "      <td>Financial intermediation, except insurance an...</td>\n",
              "      <td>-0.16%</td>\n",
              "      <td>-0.0016</td>\n",
              "      <td>-0.020072</td>\n",
              "      <td>1</td>\n",
              "    </tr>\n",
              "    <tr>\n",
              "      <th>3</th>\n",
              "      <td>2012</td>\n",
              "      <td>3I GROUP PLC</td>\n",
              "      <td>United Kingdom</td>\n",
              "      <td>Financial intermediation, except insurance an...</td>\n",
              "      <td>-0.15%</td>\n",
              "      <td>-0.0015</td>\n",
              "      <td>-0.020072</td>\n",
              "      <td>1</td>\n",
              "    </tr>\n",
              "    <tr>\n",
              "      <th>4</th>\n",
              "      <td>2010</td>\n",
              "      <td>3M COMPANY</td>\n",
              "      <td>United States</td>\n",
              "      <td>Activities of membership organisation n.e.c. ...</td>\n",
              "      <td>-7.90%</td>\n",
              "      <td>-0.0790</td>\n",
              "      <td>-0.117561</td>\n",
              "      <td>1</td>\n",
              "    </tr>\n",
              "  </tbody>\n",
              "</table>\n",
              "</div>"
            ],
            "text/plain": [
              "   Year         CompanyName  ... industry_avg Industry_indicator\n",
              "0  2016   1&1 DRILLISCH AG   ...    -0.018382                  1\n",
              "1  2010       3I GROUP PLC   ...    -0.020072                  1\n",
              "2  2011       3I GROUP PLC   ...    -0.020072                  1\n",
              "3  2012       3I GROUP PLC   ...    -0.020072                  1\n",
              "4  2010         3M COMPANY   ...    -0.117561                  1\n",
              "\n",
              "[5 rows x 8 columns]"
            ]
          },
          "metadata": {
            "tags": []
          },
          "execution_count": 85
        }
      ]
    },
    {
      "cell_type": "code",
      "metadata": {
        "colab": {
          "base_uri": "https://localhost:8080/",
          "height": 0
        },
        "id": "pacific-forty",
        "outputId": "2738a8d7-ff68-4948-9ff1-9fa262bd7dcf"
      },
      "source": [
        "def create_ind_year(df):\n",
        "    if(df['Env_intensity'] > df['industry_avg_year']):\n",
        "        return 1\n",
        "    elif (df['Env_intensity'] == df['industry_avg_year']):\n",
        "        return 0\n",
        "    elif (df['Env_intensity'] < df['industry_avg_year']):\n",
        "        return -1\n",
        "\n",
        "df['industry_avg_year'] = df.groupby(['Industry(Exiobase)','Year']).transform('mean')[['Env_intensity']]\n",
        "\n",
        "df['Industry_indicator_year'] = df.apply(create_ind_year, axis = 1)\n",
        "df.head()"
      ],
      "id": "pacific-forty",
      "execution_count": 86,
      "outputs": [
        {
          "output_type": "execute_result",
          "data": {
            "text/html": [
              "<div>\n",
              "<style scoped>\n",
              "    .dataframe tbody tr th:only-of-type {\n",
              "        vertical-align: middle;\n",
              "    }\n",
              "\n",
              "    .dataframe tbody tr th {\n",
              "        vertical-align: top;\n",
              "    }\n",
              "\n",
              "    .dataframe thead th {\n",
              "        text-align: right;\n",
              "    }\n",
              "</style>\n",
              "<table border=\"1\" class=\"dataframe\">\n",
              "  <thead>\n",
              "    <tr style=\"text-align: right;\">\n",
              "      <th></th>\n",
              "      <th>Year</th>\n",
              "      <th>CompanyName</th>\n",
              "      <th>Country</th>\n",
              "      <th>Industry(Exiobase)</th>\n",
              "      <th>EnvironmentalIntensity(Sales)</th>\n",
              "      <th>Env_intensity</th>\n",
              "      <th>industry_avg</th>\n",
              "      <th>Industry_indicator</th>\n",
              "      <th>industry_avg_year</th>\n",
              "      <th>Industry_indicator_year</th>\n",
              "    </tr>\n",
              "  </thead>\n",
              "  <tbody>\n",
              "    <tr>\n",
              "      <th>0</th>\n",
              "      <td>2016</td>\n",
              "      <td>1&amp;1 DRILLISCH AG</td>\n",
              "      <td>Germany</td>\n",
              "      <td>Post and telecommunications (64)</td>\n",
              "      <td>-0.07%</td>\n",
              "      <td>-0.0007</td>\n",
              "      <td>-0.018382</td>\n",
              "      <td>1</td>\n",
              "      <td>-0.011640</td>\n",
              "      <td>1</td>\n",
              "    </tr>\n",
              "    <tr>\n",
              "      <th>1</th>\n",
              "      <td>2010</td>\n",
              "      <td>3I GROUP PLC</td>\n",
              "      <td>United Kingdom</td>\n",
              "      <td>Financial intermediation, except insurance an...</td>\n",
              "      <td>-0.12%</td>\n",
              "      <td>-0.0012</td>\n",
              "      <td>-0.020072</td>\n",
              "      <td>1</td>\n",
              "      <td>-0.006402</td>\n",
              "      <td>1</td>\n",
              "    </tr>\n",
              "    <tr>\n",
              "      <th>2</th>\n",
              "      <td>2011</td>\n",
              "      <td>3I GROUP PLC</td>\n",
              "      <td>United Kingdom</td>\n",
              "      <td>Financial intermediation, except insurance an...</td>\n",
              "      <td>-0.16%</td>\n",
              "      <td>-0.0016</td>\n",
              "      <td>-0.020072</td>\n",
              "      <td>1</td>\n",
              "      <td>-0.009838</td>\n",
              "      <td>1</td>\n",
              "    </tr>\n",
              "    <tr>\n",
              "      <th>3</th>\n",
              "      <td>2012</td>\n",
              "      <td>3I GROUP PLC</td>\n",
              "      <td>United Kingdom</td>\n",
              "      <td>Financial intermediation, except insurance an...</td>\n",
              "      <td>-0.15%</td>\n",
              "      <td>-0.0015</td>\n",
              "      <td>-0.020072</td>\n",
              "      <td>1</td>\n",
              "      <td>-0.024437</td>\n",
              "      <td>1</td>\n",
              "    </tr>\n",
              "    <tr>\n",
              "      <th>4</th>\n",
              "      <td>2010</td>\n",
              "      <td>3M COMPANY</td>\n",
              "      <td>United States</td>\n",
              "      <td>Activities of membership organisation n.e.c. ...</td>\n",
              "      <td>-7.90%</td>\n",
              "      <td>-0.0790</td>\n",
              "      <td>-0.117561</td>\n",
              "      <td>1</td>\n",
              "      <td>-0.084583</td>\n",
              "      <td>1</td>\n",
              "    </tr>\n",
              "  </tbody>\n",
              "</table>\n",
              "</div>"
            ],
            "text/plain": [
              "   Year         CompanyName  ... industry_avg_year Industry_indicator_year\n",
              "0  2016   1&1 DRILLISCH AG   ...         -0.011640                       1\n",
              "1  2010       3I GROUP PLC   ...         -0.006402                       1\n",
              "2  2011       3I GROUP PLC   ...         -0.009838                       1\n",
              "3  2012       3I GROUP PLC   ...         -0.024437                       1\n",
              "4  2010         3M COMPANY   ...         -0.084583                       1\n",
              "\n",
              "[5 rows x 10 columns]"
            ]
          },
          "metadata": {
            "tags": []
          },
          "execution_count": 86
        }
      ]
    },
    {
      "cell_type": "code",
      "metadata": {
        "colab": {
          "base_uri": "https://localhost:8080/",
          "height": 0
        },
        "id": "behind-format",
        "outputId": "dcc3e34a-e751-4955-a250-6262bb21eda8"
      },
      "source": [
        "df.loc[(df['Industry(Exiobase)'] == 'Activities auxiliary to financial intermediation (67)'),:].sort_values(by='Year')"
      ],
      "id": "behind-format",
      "execution_count": 87,
      "outputs": [
        {
          "output_type": "execute_result",
          "data": {
            "text/html": [
              "<div>\n",
              "<style scoped>\n",
              "    .dataframe tbody tr th:only-of-type {\n",
              "        vertical-align: middle;\n",
              "    }\n",
              "\n",
              "    .dataframe tbody tr th {\n",
              "        vertical-align: top;\n",
              "    }\n",
              "\n",
              "    .dataframe thead th {\n",
              "        text-align: right;\n",
              "    }\n",
              "</style>\n",
              "<table border=\"1\" class=\"dataframe\">\n",
              "  <thead>\n",
              "    <tr style=\"text-align: right;\">\n",
              "      <th></th>\n",
              "      <th>Year</th>\n",
              "      <th>CompanyName</th>\n",
              "      <th>Country</th>\n",
              "      <th>Industry(Exiobase)</th>\n",
              "      <th>EnvironmentalIntensity(Sales)</th>\n",
              "      <th>Env_intensity</th>\n",
              "      <th>industry_avg</th>\n",
              "      <th>Industry_indicator</th>\n",
              "      <th>industry_avg_year</th>\n",
              "      <th>Industry_indicator_year</th>\n",
              "    </tr>\n",
              "  </thead>\n",
              "  <tbody>\n",
              "    <tr>\n",
              "      <th>8166</th>\n",
              "      <td>2016</td>\n",
              "      <td>ADECCO GROUP AG</td>\n",
              "      <td>Switzerland</td>\n",
              "      <td>Activities auxiliary to financial intermediati...</td>\n",
              "      <td>-0.10%</td>\n",
              "      <td>-0.0010</td>\n",
              "      <td>-0.004417</td>\n",
              "      <td>1</td>\n",
              "      <td>-0.007880</td>\n",
              "      <td>1</td>\n",
              "    </tr>\n",
              "    <tr>\n",
              "      <th>14368</th>\n",
              "      <td>2016</td>\n",
              "      <td>WOLTERS KLUWER NV</td>\n",
              "      <td>Netherlands</td>\n",
              "      <td>Activities auxiliary to financial intermediati...</td>\n",
              "      <td>-0.20%</td>\n",
              "      <td>-0.0020</td>\n",
              "      <td>-0.004417</td>\n",
              "      <td>1</td>\n",
              "      <td>-0.007880</td>\n",
              "      <td>1</td>\n",
              "    </tr>\n",
              "    <tr>\n",
              "      <th>14123</th>\n",
              "      <td>2016</td>\n",
              "      <td>VERISK ANALYTICS INCORPORATION</td>\n",
              "      <td>United States</td>\n",
              "      <td>Activities auxiliary to financial intermediati...</td>\n",
              "      <td>-0.21%</td>\n",
              "      <td>-0.0021</td>\n",
              "      <td>-0.004417</td>\n",
              "      <td>1</td>\n",
              "      <td>-0.007880</td>\n",
              "      <td>1</td>\n",
              "    </tr>\n",
              "    <tr>\n",
              "      <th>13738</th>\n",
              "      <td>2016</td>\n",
              "      <td>TELEPERFORMANCE SE</td>\n",
              "      <td>France</td>\n",
              "      <td>Activities auxiliary to financial intermediati...</td>\n",
              "      <td>-1.10%</td>\n",
              "      <td>-0.0110</td>\n",
              "      <td>-0.004417</td>\n",
              "      <td>-1</td>\n",
              "      <td>-0.007880</td>\n",
              "      <td>-1</td>\n",
              "    </tr>\n",
              "    <tr>\n",
              "      <th>12891</th>\n",
              "      <td>2016</td>\n",
              "      <td>SAGA PLC</td>\n",
              "      <td>United Kingdom</td>\n",
              "      <td>Activities auxiliary to financial intermediati...</td>\n",
              "      <td>-2.82%</td>\n",
              "      <td>-0.0282</td>\n",
              "      <td>-0.004417</td>\n",
              "      <td>-1</td>\n",
              "      <td>-0.007880</td>\n",
              "      <td>-1</td>\n",
              "    </tr>\n",
              "    <tr>\n",
              "      <th>...</th>\n",
              "      <td>...</td>\n",
              "      <td>...</td>\n",
              "      <td>...</td>\n",
              "      <td>...</td>\n",
              "      <td>...</td>\n",
              "      <td>...</td>\n",
              "      <td>...</td>\n",
              "      <td>...</td>\n",
              "      <td>...</td>\n",
              "      <td>...</td>\n",
              "    </tr>\n",
              "    <tr>\n",
              "      <th>9736</th>\n",
              "      <td>2019</td>\n",
              "      <td>DKSH HOLDING AG</td>\n",
              "      <td>Switzerland</td>\n",
              "      <td>Activities auxiliary to financial intermediati...</td>\n",
              "      <td>-0.17%</td>\n",
              "      <td>-0.0017</td>\n",
              "      <td>-0.004417</td>\n",
              "      <td>1</td>\n",
              "      <td>0.002943</td>\n",
              "      <td>-1</td>\n",
              "    </tr>\n",
              "    <tr>\n",
              "      <th>10721</th>\n",
              "      <td>2019</td>\n",
              "      <td>HONG KONG EXCHANGES AND CLEARING LIMITED</td>\n",
              "      <td>Hong Kong</td>\n",
              "      <td>Activities auxiliary to financial intermediati...</td>\n",
              "      <td>-0.34%</td>\n",
              "      <td>-0.0034</td>\n",
              "      <td>-0.004417</td>\n",
              "      <td>1</td>\n",
              "      <td>0.002943</td>\n",
              "      <td>-1</td>\n",
              "    </tr>\n",
              "    <tr>\n",
              "      <th>10077</th>\n",
              "      <td>2019</td>\n",
              "      <td>EXPERIAN PLC</td>\n",
              "      <td>United Kingdom</td>\n",
              "      <td>Activities auxiliary to financial intermediati...</td>\n",
              "      <td>-0.20%</td>\n",
              "      <td>-0.0020</td>\n",
              "      <td>-0.004417</td>\n",
              "      <td>1</td>\n",
              "      <td>0.002943</td>\n",
              "      <td>-1</td>\n",
              "    </tr>\n",
              "    <tr>\n",
              "      <th>11536</th>\n",
              "      <td>2019</td>\n",
              "      <td>LONDON STOCK EXCHANGE GROUP PLC</td>\n",
              "      <td>United Kingdom</td>\n",
              "      <td>Activities auxiliary to financial intermediati...</td>\n",
              "      <td>-0.19%</td>\n",
              "      <td>-0.0019</td>\n",
              "      <td>-0.004417</td>\n",
              "      <td>1</td>\n",
              "      <td>0.002943</td>\n",
              "      <td>-1</td>\n",
              "    </tr>\n",
              "    <tr>\n",
              "      <th>9666</th>\n",
              "      <td>2019</td>\n",
              "      <td>DEUTSCHE BOERSE AG</td>\n",
              "      <td>Germany</td>\n",
              "      <td>Activities auxiliary to financial intermediati...</td>\n",
              "      <td>1.88%</td>\n",
              "      <td>0.0188</td>\n",
              "      <td>-0.004417</td>\n",
              "      <td>1</td>\n",
              "      <td>0.002943</td>\n",
              "      <td>1</td>\n",
              "    </tr>\n",
              "  </tbody>\n",
              "</table>\n",
              "<p>93 rows × 10 columns</p>\n",
              "</div>"
            ],
            "text/plain": [
              "       Year  ... Industry_indicator_year\n",
              "8166   2016  ...                       1\n",
              "14368  2016  ...                       1\n",
              "14123  2016  ...                       1\n",
              "13738  2016  ...                      -1\n",
              "12891  2016  ...                      -1\n",
              "...     ...  ...                     ...\n",
              "9736   2019  ...                      -1\n",
              "10721  2019  ...                      -1\n",
              "10077  2019  ...                      -1\n",
              "11536  2019  ...                      -1\n",
              "9666   2019  ...                       1\n",
              "\n",
              "[93 rows x 10 columns]"
            ]
          },
          "metadata": {
            "tags": []
          },
          "execution_count": 87
        }
      ]
    },
    {
      "cell_type": "markdown",
      "metadata": {
        "id": "directed-workplace"
      },
      "source": [
        "### Creating Environmental growth\n",
        "\n",
        "Environmental Intensity Growth : ((Environmental Intensity in Current Year / Environmental Intensity Last Year) - 1) * 100"
      ],
      "id": "directed-workplace"
    },
    {
      "cell_type": "code",
      "metadata": {
        "colab": {
          "base_uri": "https://localhost:8080/",
          "height": 0
        },
        "id": "loaded-pitch",
        "outputId": "36f9001b-8a82-492e-b2f2-dab2d6907c3e"
      },
      "source": [
        "df = df.sort_values(by=['CompanyName','Year'], ascending = True)\n",
        "df.head()"
      ],
      "id": "loaded-pitch",
      "execution_count": 88,
      "outputs": [
        {
          "output_type": "execute_result",
          "data": {
            "text/html": [
              "<div>\n",
              "<style scoped>\n",
              "    .dataframe tbody tr th:only-of-type {\n",
              "        vertical-align: middle;\n",
              "    }\n",
              "\n",
              "    .dataframe tbody tr th {\n",
              "        vertical-align: top;\n",
              "    }\n",
              "\n",
              "    .dataframe thead th {\n",
              "        text-align: right;\n",
              "    }\n",
              "</style>\n",
              "<table border=\"1\" class=\"dataframe\">\n",
              "  <thead>\n",
              "    <tr style=\"text-align: right;\">\n",
              "      <th></th>\n",
              "      <th>Year</th>\n",
              "      <th>CompanyName</th>\n",
              "      <th>Country</th>\n",
              "      <th>Industry(Exiobase)</th>\n",
              "      <th>EnvironmentalIntensity(Sales)</th>\n",
              "      <th>Env_intensity</th>\n",
              "      <th>industry_avg</th>\n",
              "      <th>Industry_indicator</th>\n",
              "      <th>industry_avg_year</th>\n",
              "      <th>Industry_indicator_year</th>\n",
              "    </tr>\n",
              "  </thead>\n",
              "  <tbody>\n",
              "    <tr>\n",
              "      <th>0</th>\n",
              "      <td>2016</td>\n",
              "      <td>1&amp;1 DRILLISCH AG</td>\n",
              "      <td>Germany</td>\n",
              "      <td>Post and telecommunications (64)</td>\n",
              "      <td>-0.07%</td>\n",
              "      <td>-0.0007</td>\n",
              "      <td>-0.018382</td>\n",
              "      <td>1</td>\n",
              "      <td>-0.011640</td>\n",
              "      <td>1</td>\n",
              "    </tr>\n",
              "    <tr>\n",
              "      <th>1</th>\n",
              "      <td>2010</td>\n",
              "      <td>3I GROUP PLC</td>\n",
              "      <td>United Kingdom</td>\n",
              "      <td>Financial intermediation, except insurance an...</td>\n",
              "      <td>-0.12%</td>\n",
              "      <td>-0.0012</td>\n",
              "      <td>-0.020072</td>\n",
              "      <td>1</td>\n",
              "      <td>-0.006402</td>\n",
              "      <td>1</td>\n",
              "    </tr>\n",
              "    <tr>\n",
              "      <th>2</th>\n",
              "      <td>2011</td>\n",
              "      <td>3I GROUP PLC</td>\n",
              "      <td>United Kingdom</td>\n",
              "      <td>Financial intermediation, except insurance an...</td>\n",
              "      <td>-0.16%</td>\n",
              "      <td>-0.0016</td>\n",
              "      <td>-0.020072</td>\n",
              "      <td>1</td>\n",
              "      <td>-0.009838</td>\n",
              "      <td>1</td>\n",
              "    </tr>\n",
              "    <tr>\n",
              "      <th>3</th>\n",
              "      <td>2012</td>\n",
              "      <td>3I GROUP PLC</td>\n",
              "      <td>United Kingdom</td>\n",
              "      <td>Financial intermediation, except insurance an...</td>\n",
              "      <td>-0.15%</td>\n",
              "      <td>-0.0015</td>\n",
              "      <td>-0.020072</td>\n",
              "      <td>1</td>\n",
              "      <td>-0.024437</td>\n",
              "      <td>1</td>\n",
              "    </tr>\n",
              "    <tr>\n",
              "      <th>4</th>\n",
              "      <td>2010</td>\n",
              "      <td>3M COMPANY</td>\n",
              "      <td>United States</td>\n",
              "      <td>Activities of membership organisation n.e.c. ...</td>\n",
              "      <td>-7.90%</td>\n",
              "      <td>-0.0790</td>\n",
              "      <td>-0.117561</td>\n",
              "      <td>1</td>\n",
              "      <td>-0.084583</td>\n",
              "      <td>1</td>\n",
              "    </tr>\n",
              "  </tbody>\n",
              "</table>\n",
              "</div>"
            ],
            "text/plain": [
              "   Year         CompanyName  ... industry_avg_year Industry_indicator_year\n",
              "0  2016   1&1 DRILLISCH AG   ...         -0.011640                       1\n",
              "1  2010       3I GROUP PLC   ...         -0.006402                       1\n",
              "2  2011       3I GROUP PLC   ...         -0.009838                       1\n",
              "3  2012       3I GROUP PLC   ...         -0.024437                       1\n",
              "4  2010         3M COMPANY   ...         -0.084583                       1\n",
              "\n",
              "[5 rows x 10 columns]"
            ]
          },
          "metadata": {
            "tags": []
          },
          "execution_count": 88
        }
      ]
    },
    {
      "cell_type": "code",
      "metadata": {
        "colab": {
          "base_uri": "https://localhost:8080/",
          "height": 0
        },
        "id": "southeast-killing",
        "outputId": "7baf6a83-8327-42f0-a600-114806c0227c"
      },
      "source": [
        "df['Environmental_Growth'] = df.groupby(['CompanyName'])['Env_intensity'].apply(lambda x: x.pct_change()).to_numpy() * 100\n",
        "df.head()"
      ],
      "id": "southeast-killing",
      "execution_count": 89,
      "outputs": [
        {
          "output_type": "execute_result",
          "data": {
            "text/html": [
              "<div>\n",
              "<style scoped>\n",
              "    .dataframe tbody tr th:only-of-type {\n",
              "        vertical-align: middle;\n",
              "    }\n",
              "\n",
              "    .dataframe tbody tr th {\n",
              "        vertical-align: top;\n",
              "    }\n",
              "\n",
              "    .dataframe thead th {\n",
              "        text-align: right;\n",
              "    }\n",
              "</style>\n",
              "<table border=\"1\" class=\"dataframe\">\n",
              "  <thead>\n",
              "    <tr style=\"text-align: right;\">\n",
              "      <th></th>\n",
              "      <th>Year</th>\n",
              "      <th>CompanyName</th>\n",
              "      <th>Country</th>\n",
              "      <th>Industry(Exiobase)</th>\n",
              "      <th>EnvironmentalIntensity(Sales)</th>\n",
              "      <th>Env_intensity</th>\n",
              "      <th>industry_avg</th>\n",
              "      <th>Industry_indicator</th>\n",
              "      <th>industry_avg_year</th>\n",
              "      <th>Industry_indicator_year</th>\n",
              "      <th>Environmental_Growth</th>\n",
              "    </tr>\n",
              "  </thead>\n",
              "  <tbody>\n",
              "    <tr>\n",
              "      <th>0</th>\n",
              "      <td>2016</td>\n",
              "      <td>1&amp;1 DRILLISCH AG</td>\n",
              "      <td>Germany</td>\n",
              "      <td>Post and telecommunications (64)</td>\n",
              "      <td>-0.07%</td>\n",
              "      <td>-0.0007</td>\n",
              "      <td>-0.018382</td>\n",
              "      <td>1</td>\n",
              "      <td>-0.011640</td>\n",
              "      <td>1</td>\n",
              "      <td>NaN</td>\n",
              "    </tr>\n",
              "    <tr>\n",
              "      <th>1</th>\n",
              "      <td>2010</td>\n",
              "      <td>3I GROUP PLC</td>\n",
              "      <td>United Kingdom</td>\n",
              "      <td>Financial intermediation, except insurance an...</td>\n",
              "      <td>-0.12%</td>\n",
              "      <td>-0.0012</td>\n",
              "      <td>-0.020072</td>\n",
              "      <td>1</td>\n",
              "      <td>-0.006402</td>\n",
              "      <td>1</td>\n",
              "      <td>NaN</td>\n",
              "    </tr>\n",
              "    <tr>\n",
              "      <th>2</th>\n",
              "      <td>2011</td>\n",
              "      <td>3I GROUP PLC</td>\n",
              "      <td>United Kingdom</td>\n",
              "      <td>Financial intermediation, except insurance an...</td>\n",
              "      <td>-0.16%</td>\n",
              "      <td>-0.0016</td>\n",
              "      <td>-0.020072</td>\n",
              "      <td>1</td>\n",
              "      <td>-0.009838</td>\n",
              "      <td>1</td>\n",
              "      <td>33.333333</td>\n",
              "    </tr>\n",
              "    <tr>\n",
              "      <th>3</th>\n",
              "      <td>2012</td>\n",
              "      <td>3I GROUP PLC</td>\n",
              "      <td>United Kingdom</td>\n",
              "      <td>Financial intermediation, except insurance an...</td>\n",
              "      <td>-0.15%</td>\n",
              "      <td>-0.0015</td>\n",
              "      <td>-0.020072</td>\n",
              "      <td>1</td>\n",
              "      <td>-0.024437</td>\n",
              "      <td>1</td>\n",
              "      <td>-6.250000</td>\n",
              "    </tr>\n",
              "    <tr>\n",
              "      <th>4</th>\n",
              "      <td>2010</td>\n",
              "      <td>3M COMPANY</td>\n",
              "      <td>United States</td>\n",
              "      <td>Activities of membership organisation n.e.c. ...</td>\n",
              "      <td>-7.90%</td>\n",
              "      <td>-0.0790</td>\n",
              "      <td>-0.117561</td>\n",
              "      <td>1</td>\n",
              "      <td>-0.084583</td>\n",
              "      <td>1</td>\n",
              "      <td>NaN</td>\n",
              "    </tr>\n",
              "  </tbody>\n",
              "</table>\n",
              "</div>"
            ],
            "text/plain": [
              "   Year         CompanyName  ... Industry_indicator_year Environmental_Growth\n",
              "0  2016   1&1 DRILLISCH AG   ...                       1                  NaN\n",
              "1  2010       3I GROUP PLC   ...                       1                  NaN\n",
              "2  2011       3I GROUP PLC   ...                       1            33.333333\n",
              "3  2012       3I GROUP PLC   ...                       1            -6.250000\n",
              "4  2010         3M COMPANY   ...                       1                  NaN\n",
              "\n",
              "[5 rows x 11 columns]"
            ]
          },
          "metadata": {
            "tags": []
          },
          "execution_count": 89
        }
      ]
    },
    {
      "cell_type": "markdown",
      "metadata": {
        "id": "Teqthpuxe8MC"
      },
      "source": [
        "### Model 1 - Past years Environmental Intensity"
      ],
      "id": "Teqthpuxe8MC"
    },
    {
      "cell_type": "code",
      "metadata": {
        "id": "9f_QPBEQe8MC"
      },
      "source": [
        "df1 = pd.read_csv('Environmental_Impact_dataset.csv')\n"
      ],
      "id": "9f_QPBEQe8MC",
      "execution_count": 90,
      "outputs": []
    },
    {
      "cell_type": "code",
      "metadata": {
        "id": "RJWlXP0Te8MD"
      },
      "source": [
        "def p2f(x):\n",
        "    return float(x.strip('%'))/100\n",
        "df1['EnvironmentalIntensity(Sales)'] = df1['EnvironmentalIntensity(Sales)'].apply(p2f)"
      ],
      "id": "RJWlXP0Te8MD",
      "execution_count": 91,
      "outputs": []
    },
    {
      "cell_type": "code",
      "metadata": {
        "id": "sexual-cricket",
        "colab": {
          "base_uri": "https://localhost:8080/"
        },
        "outputId": "5fa9864e-8ef8-4886-9c4b-1b5095bb44fb"
      },
      "source": [
        "companies_2018 = list(df1[df1['Year'] == 2018]['CompanyName'])\n",
        "companies_2019 = list(df1[(df1['Year'] == 2019) & (df1['CompanyName'].isin(companies_2018))]['CompanyName'])\n",
        "\n",
        "#Getting companies that are in both years\n",
        "list2018_as_set = set(companies_2018)\n",
        "intersection = list2018_as_set.intersection(companies_2019)\n",
        "\n",
        "X = df1[(df1['Year'] == 2018) & (df1['CompanyName'].isin(intersection))][['EnvironmentalIntensity(Sales)']]\n",
        "y = df1[(df1['Year'] == 2019) & (df1['CompanyName'].isin(intersection))][['EnvironmentalIntensity(Sales)']]\n",
        "\n",
        "X_train, X_test, y_train, y_test = train_test_split(\n",
        "    X, y, test_size=0.33, random_state=42)\n",
        "\n",
        "\n",
        "reg = LinearRegression().fit(X_train, y_train)\n",
        "\n",
        "y_pred = reg.predict(X_test)\n",
        "\n",
        "print('R2 score:', metrics.r2_score(y_test, y_pred))\n",
        "print('MSE: ', metrics.mean_squared_error(y_test, y_pred))\n"
      ],
      "id": "sexual-cricket",
      "execution_count": 92,
      "outputs": [
        {
          "output_type": "stream",
          "text": [
            "R2 score: 0.8825319170790614\n",
            "MSE:  0.010786739663931545\n"
          ],
          "name": "stdout"
        }
      ]
    },
    {
      "cell_type": "markdown",
      "metadata": {
        "id": "n67fJF-se8ME"
      },
      "source": [
        "### Model 2 - Past years average environmental intensity\n",
        "\n",
        "In this section, we will use the average environmental intensity of 2016-2018 to predict 2019 environmental intensity"
      ],
      "id": "n67fJF-se8ME"
    },
    {
      "cell_type": "code",
      "metadata": {
        "id": "HCKgjKyDe8ME"
      },
      "source": [
        "df2 = df.copy()\n",
        "EI_2016 = df2[df2['Year'] == 2016]\n",
        "EI_2017 = df2[df2['Year'] == 2017]\n",
        "EI_2018 = df2[df2['Year'] == 2018]\n",
        "EI_2019 = df2[df2['Year'] == 2019]"
      ],
      "id": "HCKgjKyDe8ME",
      "execution_count": 93,
      "outputs": []
    },
    {
      "cell_type": "code",
      "metadata": {
        "id": "s5HULOeue8MF"
      },
      "source": [
        "df_mod2 = EI_2016.merge(EI_2017, how='inner', on='CompanyName', suffixes=('_2016', '_2017'))\n",
        "df_mod2 = df_mod2.merge(EI_2018, how='inner', on='CompanyName')\n",
        "df_mod2 = df_mod2.merge(EI_2019, how='inner', on='CompanyName', suffixes=('_2018', '_2019'))"
      ],
      "id": "s5HULOeue8MF",
      "execution_count": 94,
      "outputs": []
    },
    {
      "cell_type": "code",
      "metadata": {
        "id": "etVVWoUAe8MF"
      },
      "source": [
        "df_mod2 = df_mod2[['CompanyName','Year_2016','Env_intensity_2016','Year_2017','Env_intensity_2017','Year_2018','Env_intensity_2018','Year_2019','Env_intensity_2019']]"
      ],
      "id": "etVVWoUAe8MF",
      "execution_count": 95,
      "outputs": []
    },
    {
      "cell_type": "code",
      "metadata": {
        "colab": {
          "base_uri": "https://localhost:8080/",
          "height": 0
        },
        "id": "lqhvtMkce8MF",
        "outputId": "cbdecc1f-8097-452b-e5c3-2388ef6f05fb"
      },
      "source": [
        "df_mod2.head()"
      ],
      "id": "lqhvtMkce8MF",
      "execution_count": 96,
      "outputs": [
        {
          "output_type": "execute_result",
          "data": {
            "text/html": [
              "<div>\n",
              "<style scoped>\n",
              "    .dataframe tbody tr th:only-of-type {\n",
              "        vertical-align: middle;\n",
              "    }\n",
              "\n",
              "    .dataframe tbody tr th {\n",
              "        vertical-align: top;\n",
              "    }\n",
              "\n",
              "    .dataframe thead th {\n",
              "        text-align: right;\n",
              "    }\n",
              "</style>\n",
              "<table border=\"1\" class=\"dataframe\">\n",
              "  <thead>\n",
              "    <tr style=\"text-align: right;\">\n",
              "      <th></th>\n",
              "      <th>CompanyName</th>\n",
              "      <th>Year_2016</th>\n",
              "      <th>Env_intensity_2016</th>\n",
              "      <th>Year_2017</th>\n",
              "      <th>Env_intensity_2017</th>\n",
              "      <th>Year_2018</th>\n",
              "      <th>Env_intensity_2018</th>\n",
              "      <th>Year_2019</th>\n",
              "      <th>Env_intensity_2019</th>\n",
              "    </tr>\n",
              "  </thead>\n",
              "  <tbody>\n",
              "    <tr>\n",
              "      <th>0</th>\n",
              "      <td>3M COMPANY</td>\n",
              "      <td>2016</td>\n",
              "      <td>-0.0705</td>\n",
              "      <td>2017</td>\n",
              "      <td>-0.0660</td>\n",
              "      <td>2018</td>\n",
              "      <td>-0.0710</td>\n",
              "      <td>2019</td>\n",
              "      <td>-0.0641</td>\n",
              "    </tr>\n",
              "    <tr>\n",
              "      <th>1</th>\n",
              "      <td>AA PLC</td>\n",
              "      <td>2016</td>\n",
              "      <td>-0.0130</td>\n",
              "      <td>2017</td>\n",
              "      <td>-0.0124</td>\n",
              "      <td>2018</td>\n",
              "      <td>-0.0117</td>\n",
              "      <td>2019</td>\n",
              "      <td>-0.0070</td>\n",
              "    </tr>\n",
              "    <tr>\n",
              "      <th>2</th>\n",
              "      <td>AAC TECHNOLOGIES HOLDINGS INCORPORATION</td>\n",
              "      <td>2016</td>\n",
              "      <td>-0.0389</td>\n",
              "      <td>2017</td>\n",
              "      <td>-0.0591</td>\n",
              "      <td>2018</td>\n",
              "      <td>-0.0802</td>\n",
              "      <td>2019</td>\n",
              "      <td>-0.1080</td>\n",
              "    </tr>\n",
              "    <tr>\n",
              "      <th>3</th>\n",
              "      <td>AAREAL BANK AG</td>\n",
              "      <td>2016</td>\n",
              "      <td>-0.0024</td>\n",
              "      <td>2017</td>\n",
              "      <td>-0.0021</td>\n",
              "      <td>2018</td>\n",
              "      <td>-0.0019</td>\n",
              "      <td>2019</td>\n",
              "      <td>-0.0015</td>\n",
              "    </tr>\n",
              "    <tr>\n",
              "      <th>4</th>\n",
              "      <td>AB SKF</td>\n",
              "      <td>2016</td>\n",
              "      <td>-0.0215</td>\n",
              "      <td>2017</td>\n",
              "      <td>-0.0226</td>\n",
              "      <td>2018</td>\n",
              "      <td>-0.0212</td>\n",
              "      <td>2019</td>\n",
              "      <td>-0.0200</td>\n",
              "    </tr>\n",
              "  </tbody>\n",
              "</table>\n",
              "</div>"
            ],
            "text/plain": [
              "                               CompanyName  ...  Env_intensity_2019\n",
              "0                               3M COMPANY  ...             -0.0641\n",
              "1                                   AA PLC  ...             -0.0070\n",
              "2  AAC TECHNOLOGIES HOLDINGS INCORPORATION  ...             -0.1080\n",
              "3                           AAREAL BANK AG  ...             -0.0015\n",
              "4                                   AB SKF  ...             -0.0200\n",
              "\n",
              "[5 rows x 9 columns]"
            ]
          },
          "metadata": {
            "tags": []
          },
          "execution_count": 96
        }
      ]
    },
    {
      "cell_type": "code",
      "metadata": {
        "id": "9ijrBlmDe8MF"
      },
      "source": [
        "df_melt2 = pd.melt(df_mod2, id_vars=['CompanyName'], value_vars=['Env_intensity_2016','Env_intensity_2016','Env_intensity_2017'],\n",
        "        var_name='myVarname', value_name='Environmental_intenrsity')"
      ],
      "id": "9ijrBlmDe8MF",
      "execution_count": 97,
      "outputs": []
    },
    {
      "cell_type": "code",
      "metadata": {
        "colab": {
          "base_uri": "https://localhost:8080/",
          "height": 0
        },
        "id": "lW4BEQ7he8MG",
        "outputId": "5e606a9b-5ce2-485d-e67e-5f063539f322"
      },
      "source": [
        "df_melt2.head()"
      ],
      "id": "lW4BEQ7he8MG",
      "execution_count": 98,
      "outputs": [
        {
          "output_type": "execute_result",
          "data": {
            "text/html": [
              "<div>\n",
              "<style scoped>\n",
              "    .dataframe tbody tr th:only-of-type {\n",
              "        vertical-align: middle;\n",
              "    }\n",
              "\n",
              "    .dataframe tbody tr th {\n",
              "        vertical-align: top;\n",
              "    }\n",
              "\n",
              "    .dataframe thead th {\n",
              "        text-align: right;\n",
              "    }\n",
              "</style>\n",
              "<table border=\"1\" class=\"dataframe\">\n",
              "  <thead>\n",
              "    <tr style=\"text-align: right;\">\n",
              "      <th></th>\n",
              "      <th>CompanyName</th>\n",
              "      <th>myVarname</th>\n",
              "      <th>Environmental_intenrsity</th>\n",
              "    </tr>\n",
              "  </thead>\n",
              "  <tbody>\n",
              "    <tr>\n",
              "      <th>0</th>\n",
              "      <td>3M COMPANY</td>\n",
              "      <td>Env_intensity_2016</td>\n",
              "      <td>-0.0705</td>\n",
              "    </tr>\n",
              "    <tr>\n",
              "      <th>1</th>\n",
              "      <td>AA PLC</td>\n",
              "      <td>Env_intensity_2016</td>\n",
              "      <td>-0.0130</td>\n",
              "    </tr>\n",
              "    <tr>\n",
              "      <th>2</th>\n",
              "      <td>AAC TECHNOLOGIES HOLDINGS INCORPORATION</td>\n",
              "      <td>Env_intensity_2016</td>\n",
              "      <td>-0.0389</td>\n",
              "    </tr>\n",
              "    <tr>\n",
              "      <th>3</th>\n",
              "      <td>AAREAL BANK AG</td>\n",
              "      <td>Env_intensity_2016</td>\n",
              "      <td>-0.0024</td>\n",
              "    </tr>\n",
              "    <tr>\n",
              "      <th>4</th>\n",
              "      <td>AB SKF</td>\n",
              "      <td>Env_intensity_2016</td>\n",
              "      <td>-0.0215</td>\n",
              "    </tr>\n",
              "  </tbody>\n",
              "</table>\n",
              "</div>"
            ],
            "text/plain": [
              "                               CompanyName  ... Environmental_intenrsity\n",
              "0                               3M COMPANY  ...                  -0.0705\n",
              "1                                   AA PLC  ...                  -0.0130\n",
              "2  AAC TECHNOLOGIES HOLDINGS INCORPORATION  ...                  -0.0389\n",
              "3                           AAREAL BANK AG  ...                  -0.0024\n",
              "4                                   AB SKF  ...                  -0.0215\n",
              "\n",
              "[5 rows x 3 columns]"
            ]
          },
          "metadata": {
            "tags": []
          },
          "execution_count": 98
        }
      ]
    },
    {
      "cell_type": "code",
      "metadata": {
        "colab": {
          "base_uri": "https://localhost:8080/"
        },
        "id": "6lHVG_CIe8MG",
        "outputId": "54bc2a1b-9cdb-426d-9d33-756946d3cc00"
      },
      "source": [
        "ei_avg = df_melt2.groupby('CompanyName').mean().reset_index()\n",
        "X = ei_avg[['Environmental_intenrsity']]\n",
        "y = df_mod2[['Env_intensity_2019']]\n",
        "\n",
        "print(X.shape)\n",
        "print(y.shape)"
      ],
      "id": "6lHVG_CIe8MG",
      "execution_count": 99,
      "outputs": [
        {
          "output_type": "stream",
          "text": [
            "(833, 1)\n",
            "(833, 1)\n"
          ],
          "name": "stdout"
        }
      ]
    },
    {
      "cell_type": "code",
      "metadata": {
        "colab": {
          "base_uri": "https://localhost:8080/"
        },
        "id": "8KSeGKnwe8MG",
        "outputId": "9ecb532e-5e99-41ef-eeeb-aba611c066e8"
      },
      "source": [
        "x_train, x_test, y_train, y_test = train_test_split(X ,y, test_size = 0.2, random_state = 42)\n",
        "# train Linear Regression\n",
        "LRtrainer = LinearRegression()\n",
        "LRtrainer.fit(x_train,y_train)\n",
        "\n",
        "# mse for linear regression\n",
        "y_pred_lr = LRtrainer.predict(x_test)\n",
        "print(metrics.mean_squared_error(y_pred_lr, y_test))"
      ],
      "id": "8KSeGKnwe8MG",
      "execution_count": 100,
      "outputs": [
        {
          "output_type": "stream",
          "text": [
            "0.0038508976125549922\n"
          ],
          "name": "stdout"
        }
      ]
    },
    {
      "cell_type": "code",
      "metadata": {
        "colab": {
          "base_uri": "https://localhost:8080/"
        },
        "id": "fhRMZGw8e8MH",
        "outputId": "defc0d4c-2364-4333-d7b4-5eb672a44b1d"
      },
      "source": [
        "# display the parameters\n",
        "print('Model intercept: ', LRtrainer.intercept_)\n",
        "print('Model coefficients: ', LRtrainer.coef_)"
      ],
      "id": "fhRMZGw8e8MH",
      "execution_count": 101,
      "outputs": [
        {
          "output_type": "stream",
          "text": [
            "Model intercept:  [0.00319838]\n",
            "Model coefficients:  [[0.88787286]]\n"
          ],
          "name": "stdout"
        }
      ]
    },
    {
      "cell_type": "code",
      "metadata": {
        "colab": {
          "base_uri": "https://localhost:8080/"
        },
        "id": "X1b-ZGI1e8MH",
        "outputId": "463c674a-cc9f-4e5c-b4bd-099246ee16dc"
      },
      "source": [
        "print('R2 score:', metrics.r2_score(y_test, y_pred_lr))"
      ],
      "id": "X1b-ZGI1e8MH",
      "execution_count": 102,
      "outputs": [
        {
          "output_type": "stream",
          "text": [
            "R2 score: 0.8949412998576046\n"
          ],
          "name": "stdout"
        }
      ]
    },
    {
      "cell_type": "markdown",
      "metadata": {
        "id": "EWMa_YonOz5P"
      },
      "source": [
        "### Model 3 - Yearly Industry Average\n",
        "\n",
        "For this model, the predictor will be the industry average for the respective year. \n",
        "There is no data for 2020, so we plan to predict 2019 environmental intensity.  Accordingly, we used 2018 and 2017 Industry data (past data) to predict 2019 evronmental intensity. "
      ],
      "id": "EWMa_YonOz5P"
    },
    {
      "cell_type": "code",
      "metadata": {
        "colab": {
          "base_uri": "https://localhost:8080/",
          "height": 296
        },
        "id": "wNfyK_qDe8MI",
        "outputId": "d0318855-b124-4dcb-ec7c-727f52d3368a"
      },
      "source": [
        "sns.countplot(x='Year', data = df)"
      ],
      "id": "wNfyK_qDe8MI",
      "execution_count": 103,
      "outputs": [
        {
          "output_type": "execute_result",
          "data": {
            "text/plain": [
              "<matplotlib.axes._subplots.AxesSubplot at 0x7fa629c92290>"
            ]
          },
          "metadata": {
            "tags": []
          },
          "execution_count": 103
        },
        {
          "output_type": "display_data",
          "data": {
            "image/png": "[encoded data removed]",
            "text/plain": [
              "<Figure size 432x288 with 1 Axes>"
            ]
          },
          "metadata": {
            "tags": [],
            "needs_background": "light"
          }
        }
      ]
    },
    {
      "cell_type": "markdown",
      "metadata": {
        "id": "ShjWYuXLe8MI"
      },
      "source": [
        "The dataset does not contain consistent records throught out the years. Therefore, it could be possible we have data for one company in 2019 but not data from that company in 2018, 2017, etc. \n",
        "\n",
        "We will start by only using 2018 industry average as a feature to predict 2019 environmental intensity. First, we will subset the companies that we have 2018 data and get their 2019 environmental intensity."
      ],
      "id": "ShjWYuXLe8MI"
    },
    {
      "cell_type": "code",
      "metadata": {
        "colab": {
          "base_uri": "https://localhost:8080/",
          "height": 204
        },
        "id": "rsm1Pdwne8MI",
        "outputId": "0534c6db-7cc3-4cca-caf1-9224861a79c3"
      },
      "source": [
        "df_2018 = df.loc[df.Year == 2018, ]\n",
        "df_2019 = df.loc[df.Year == 2019, ]\n",
        "df_mod3 = pd.merge(df_2018, df_2019, on='CompanyName',how='inner')\n",
        "df_mod3 = df_mod3[['Year_x','CompanyName','industry_avg_year_x','Year_y','Env_intensity_y']]\n",
        "df_mod3.head()"
      ],
      "id": "rsm1Pdwne8MI",
      "execution_count": 104,
      "outputs": [
        {
          "output_type": "execute_result",
          "data": {
            "text/html": [
              "<div>\n",
              "<style scoped>\n",
              "    .dataframe tbody tr th:only-of-type {\n",
              "        vertical-align: middle;\n",
              "    }\n",
              "\n",
              "    .dataframe tbody tr th {\n",
              "        vertical-align: top;\n",
              "    }\n",
              "\n",
              "    .dataframe thead th {\n",
              "        text-align: right;\n",
              "    }\n",
              "</style>\n",
              "<table border=\"1\" class=\"dataframe\">\n",
              "  <thead>\n",
              "    <tr style=\"text-align: right;\">\n",
              "      <th></th>\n",
              "      <th>Year_x</th>\n",
              "      <th>CompanyName</th>\n",
              "      <th>industry_avg_year_x</th>\n",
              "      <th>Year_y</th>\n",
              "      <th>Env_intensity_y</th>\n",
              "    </tr>\n",
              "  </thead>\n",
              "  <tbody>\n",
              "    <tr>\n",
              "      <th>0</th>\n",
              "      <td>2018</td>\n",
              "      <td>3M COMPANY</td>\n",
              "      <td>-0.229308</td>\n",
              "      <td>2019</td>\n",
              "      <td>-0.0641</td>\n",
              "    </tr>\n",
              "    <tr>\n",
              "      <th>1</th>\n",
              "      <td>2018</td>\n",
              "      <td>3SBIO INC</td>\n",
              "      <td>-0.027793</td>\n",
              "      <td>2019</td>\n",
              "      <td>-0.0340</td>\n",
              "    </tr>\n",
              "    <tr>\n",
              "      <th>2</th>\n",
              "      <td>2018</td>\n",
              "      <td>A.G.V. PRODUCTS CORP</td>\n",
              "      <td>-0.072254</td>\n",
              "      <td>2019</td>\n",
              "      <td>-0.0172</td>\n",
              "    </tr>\n",
              "    <tr>\n",
              "      <th>3</th>\n",
              "      <td>2018</td>\n",
              "      <td>AA PLC</td>\n",
              "      <td>-0.073777</td>\n",
              "      <td>2019</td>\n",
              "      <td>-0.0070</td>\n",
              "    </tr>\n",
              "    <tr>\n",
              "      <th>4</th>\n",
              "      <td>2018</td>\n",
              "      <td>AAC TECHNOLOGIES HOLDINGS INCORPORATION</td>\n",
              "      <td>-0.023555</td>\n",
              "      <td>2019</td>\n",
              "      <td>-0.1080</td>\n",
              "    </tr>\n",
              "  </tbody>\n",
              "</table>\n",
              "</div>"
            ],
            "text/plain": [
              "   Year_x                              CompanyName  ...  Year_y  Env_intensity_y\n",
              "0    2018                               3M COMPANY  ...    2019          -0.0641\n",
              "1    2018                                3SBIO INC  ...    2019          -0.0340\n",
              "2    2018                     A.G.V. PRODUCTS CORP  ...    2019          -0.0172\n",
              "3    2018                                   AA PLC  ...    2019          -0.0070\n",
              "4    2018  AAC TECHNOLOGIES HOLDINGS INCORPORATION  ...    2019          -0.1080\n",
              "\n",
              "[5 rows x 5 columns]"
            ]
          },
          "metadata": {
            "tags": []
          },
          "execution_count": 104
        }
      ]
    },
    {
      "cell_type": "code",
      "metadata": {
        "colab": {
          "base_uri": "https://localhost:8080/"
        },
        "id": "FtTXj-O-e8MJ",
        "outputId": "c5e39084-8c75-4169-c5cc-6efabc3a07b6"
      },
      "source": [
        "X = df_mod3[['industry_avg_year_x']]\n",
        "y = df_mod3.iloc[:,4]\n",
        "print(X.shape)\n",
        "print(y.shape)"
      ],
      "id": "FtTXj-O-e8MJ",
      "execution_count": 105,
      "outputs": [
        {
          "output_type": "stream",
          "text": [
            "(1336, 1)\n",
            "(1336,)\n"
          ],
          "name": "stdout"
        }
      ]
    },
    {
      "cell_type": "code",
      "metadata": {
        "colab": {
          "base_uri": "https://localhost:8080/"
        },
        "id": "fzoscwJ0e8MJ",
        "outputId": "ffb95f7b-58f5-4d54-a492-d375d3a36f5a"
      },
      "source": [
        "x_train, x_test, y_train, y_test = train_test_split(X ,y, test_size = 0.2, random_state = 42)\n",
        "# train Linear Regression\n",
        "LRtrainer = LinearRegression()\n",
        "LRtrainer.fit(x_train,y_train)\n",
        "\n",
        "# mse for linear regression\n",
        "y_pred_lr = LRtrainer.predict(x_test)\n",
        "print(metrics.mean_squared_error(y_pred_lr, y_test))"
      ],
      "id": "fzoscwJ0e8MJ",
      "execution_count": 106,
      "outputs": [
        {
          "output_type": "stream",
          "text": [
            "0.06598743409385226\n"
          ],
          "name": "stdout"
        }
      ]
    },
    {
      "cell_type": "code",
      "metadata": {
        "colab": {
          "base_uri": "https://localhost:8080/"
        },
        "id": "jdz4eDj5e8MJ",
        "outputId": "f722958b-cf83-4534-d8b4-ef75ea2a4339"
      },
      "source": [
        "# display the parameters\n",
        "print('Model intercept: ', LRtrainer.intercept_)\n",
        "print('Model coefficients: ', LRtrainer.coef_)"
      ],
      "id": "jdz4eDj5e8MJ",
      "execution_count": 107,
      "outputs": [
        {
          "output_type": "stream",
          "text": [
            "Model intercept:  0.0002669631900767411\n",
            "Model coefficients:  [0.91303819]\n"
          ],
          "name": "stdout"
        }
      ]
    },
    {
      "cell_type": "code",
      "metadata": {
        "colab": {
          "base_uri": "https://localhost:8080/"
        },
        "id": "NKhRZBdTe8MJ",
        "outputId": "08254269-a4c4-4103-c1b9-1cb367e35165"
      },
      "source": [
        "print('R2 score:', metrics.r2_score(y_test, y_pred_lr))"
      ],
      "id": "NKhRZBdTe8MJ",
      "execution_count": 108,
      "outputs": [
        {
          "output_type": "stream",
          "text": [
            "R2 score: 0.36647102462935643\n"
          ],
          "name": "stdout"
        }
      ]
    },
    {
      "cell_type": "markdown",
      "metadata": {
        "id": "fofCYGRne8MK"
      },
      "source": [
        "Now, we are going to consider 2017 - 2018 to predict 2019"
      ],
      "id": "fofCYGRne8MK"
    },
    {
      "cell_type": "code",
      "metadata": {
        "id": "My54qTwye8MK"
      },
      "source": [
        "df_2019=df[df['Year'] == 2019]\n",
        "df_2018=df[df['Year'] == 2018]\n",
        "df_2017=df[df['Year'] == 2017]"
      ],
      "id": "My54qTwye8MK",
      "execution_count": 109,
      "outputs": []
    },
    {
      "cell_type": "code",
      "metadata": {
        "colab": {
          "base_uri": "https://localhost:8080/",
          "height": 419
        },
        "id": "sKzSdu7Fe8MK",
        "outputId": "a60d4a69-620f-4127-f321-b5e910ccb29e"
      },
      "source": [
        "df2019=df_2019[['Year','CompanyName','Env_intensity']] \n",
        "df2019.rename(columns={'Env_intensity': 'Env_intensity2019'}, inplace=True) \n",
        "df2018=df_2018[['CompanyName','industry_avg_year']]\n",
        "df2018.rename(columns={'industry_avg_year': 'Ind_Yearavg2018'}, inplace=True) \n",
        "df2017=df_2017[['CompanyName','industry_avg_year']]\n",
        "df2017.rename(columns={'industry_avg_year': 'Ind_Yearavg2017'}, inplace=True) \n",
        "mdl = pd.merge(df2019, df2018, on=[\"CompanyName\"])\n",
        "mdl1= pd.merge(mdl, df2017, on=[\"CompanyName\"])\n",
        "mdl1"
      ],
      "id": "sKzSdu7Fe8MK",
      "execution_count": 110,
      "outputs": [
        {
          "output_type": "execute_result",
          "data": {
            "text/html": [
              "<div>\n",
              "<style scoped>\n",
              "    .dataframe tbody tr th:only-of-type {\n",
              "        vertical-align: middle;\n",
              "    }\n",
              "\n",
              "    .dataframe tbody tr th {\n",
              "        vertical-align: top;\n",
              "    }\n",
              "\n",
              "    .dataframe thead th {\n",
              "        text-align: right;\n",
              "    }\n",
              "</style>\n",
              "<table border=\"1\" class=\"dataframe\">\n",
              "  <thead>\n",
              "    <tr style=\"text-align: right;\">\n",
              "      <th></th>\n",
              "      <th>Year</th>\n",
              "      <th>CompanyName</th>\n",
              "      <th>Env_intensity2019</th>\n",
              "      <th>Ind_Yearavg2018</th>\n",
              "      <th>Ind_Yearavg2017</th>\n",
              "    </tr>\n",
              "  </thead>\n",
              "  <tbody>\n",
              "    <tr>\n",
              "      <th>0</th>\n",
              "      <td>2019</td>\n",
              "      <td>3M COMPANY</td>\n",
              "      <td>-0.0641</td>\n",
              "      <td>-0.229308</td>\n",
              "      <td>-0.225496</td>\n",
              "    </tr>\n",
              "    <tr>\n",
              "      <th>1</th>\n",
              "      <td>2019</td>\n",
              "      <td>3SBIO INC</td>\n",
              "      <td>-0.0340</td>\n",
              "      <td>-0.027793</td>\n",
              "      <td>-0.031771</td>\n",
              "    </tr>\n",
              "    <tr>\n",
              "      <th>2</th>\n",
              "      <td>2019</td>\n",
              "      <td>A.G.V. PRODUCTS CORP</td>\n",
              "      <td>-0.0172</td>\n",
              "      <td>-0.072254</td>\n",
              "      <td>-0.063618</td>\n",
              "    </tr>\n",
              "    <tr>\n",
              "      <th>3</th>\n",
              "      <td>2019</td>\n",
              "      <td>AA PLC</td>\n",
              "      <td>-0.0070</td>\n",
              "      <td>-0.073777</td>\n",
              "      <td>-0.096157</td>\n",
              "    </tr>\n",
              "    <tr>\n",
              "      <th>4</th>\n",
              "      <td>2019</td>\n",
              "      <td>AAC TECHNOLOGIES HOLDINGS INCORPORATION</td>\n",
              "      <td>-0.1080</td>\n",
              "      <td>-0.023555</td>\n",
              "      <td>-0.027254</td>\n",
              "    </tr>\n",
              "    <tr>\n",
              "      <th>...</th>\n",
              "      <td>...</td>\n",
              "      <td>...</td>\n",
              "      <td>...</td>\n",
              "      <td>...</td>\n",
              "      <td>...</td>\n",
              "    </tr>\n",
              "    <tr>\n",
              "      <th>1190</th>\n",
              "      <td>2019</td>\n",
              "      <td>ZEON CORPORATION</td>\n",
              "      <td>-0.0730</td>\n",
              "      <td>-0.218707</td>\n",
              "      <td>-0.275385</td>\n",
              "    </tr>\n",
              "    <tr>\n",
              "      <th>1191</th>\n",
              "      <td>2019</td>\n",
              "      <td>ZHEN DING TECHNOLOGY HOLDING LIMITED</td>\n",
              "      <td>-0.0602</td>\n",
              "      <td>-0.076812</td>\n",
              "      <td>-0.068294</td>\n",
              "    </tr>\n",
              "    <tr>\n",
              "      <th>1192</th>\n",
              "      <td>2019</td>\n",
              "      <td>ZIG SHENG INDUSTRIAL COMPANY LIMITED</td>\n",
              "      <td>-0.1615</td>\n",
              "      <td>-0.124750</td>\n",
              "      <td>-0.117456</td>\n",
              "    </tr>\n",
              "    <tr>\n",
              "      <th>1193</th>\n",
              "      <td>2019</td>\n",
              "      <td>ZORLU ENERJI AS</td>\n",
              "      <td>-0.3430</td>\n",
              "      <td>-1.012140</td>\n",
              "      <td>-0.578986</td>\n",
              "    </tr>\n",
              "    <tr>\n",
              "      <th>1194</th>\n",
              "      <td>2019</td>\n",
              "      <td>ZUMTOBEL AG</td>\n",
              "      <td>-0.0051</td>\n",
              "      <td>-0.020683</td>\n",
              "      <td>-0.036006</td>\n",
              "    </tr>\n",
              "  </tbody>\n",
              "</table>\n",
              "<p>1195 rows × 5 columns</p>\n",
              "</div>"
            ],
            "text/plain": [
              "      Year  ... Ind_Yearavg2017\n",
              "0     2019  ...       -0.225496\n",
              "1     2019  ...       -0.031771\n",
              "2     2019  ...       -0.063618\n",
              "3     2019  ...       -0.096157\n",
              "4     2019  ...       -0.027254\n",
              "...    ...  ...             ...\n",
              "1190  2019  ...       -0.275385\n",
              "1191  2019  ...       -0.068294\n",
              "1192  2019  ...       -0.117456\n",
              "1193  2019  ...       -0.578986\n",
              "1194  2019  ...       -0.036006\n",
              "\n",
              "[1195 rows x 5 columns]"
            ]
          },
          "metadata": {
            "tags": []
          },
          "execution_count": 110
        }
      ]
    },
    {
      "cell_type": "code",
      "metadata": {
        "colab": {
          "base_uri": "https://localhost:8080/"
        },
        "id": "EeCICVPZe8MK",
        "outputId": "e6f7028f-1ba8-4a2c-9974-feef5994d0bb"
      },
      "source": [
        "X=mdl1[['Ind_Yearavg2018','Ind_Yearavg2017']]\n",
        "y=mdl1['Env_intensity2019']\n",
        "print(X.shape)\n",
        "print(y.shape)"
      ],
      "id": "EeCICVPZe8MK",
      "execution_count": 111,
      "outputs": [
        {
          "output_type": "stream",
          "text": [
            "(1195, 2)\n",
            "(1195,)\n"
          ],
          "name": "stdout"
        }
      ]
    },
    {
      "cell_type": "code",
      "metadata": {
        "id": "J-uzv_GTe8ML"
      },
      "source": [
        "regr = linear_model.LinearRegression()\n",
        "X_train, X_test, y_train, y_test = train_test_split(X,y,test_size=0.2,random_state=42)\n",
        "regr.fit(X_train, y_train)\n",
        "y_train_pred = np.exp(regr.predict(X_train))\n",
        "y_pred = np.exp(regr.predict(X_test))\n",
        "y_test = np.exp(y_test)"
      ],
      "id": "J-uzv_GTe8ML",
      "execution_count": 112,
      "outputs": []
    },
    {
      "cell_type": "code",
      "metadata": {
        "colab": {
          "base_uri": "https://localhost:8080/"
        },
        "id": "sWsjL_IPe8ML",
        "outputId": "ab8b4de9-41c4-478f-bc91-013747200475"
      },
      "source": [
        "print('MSE train: %.3f, test: %.3f' % (metrics.mean_squared_error(y_train, y_train_pred),\n",
        "                metrics.mean_squared_error(y_test, y_pred)))"
      ],
      "id": "sWsjL_IPe8ML",
      "execution_count": 113,
      "outputs": [
        {
          "output_type": "stream",
          "text": [
            "MSE train: 1.064, test: 0.038\n"
          ],
          "name": "stdout"
        }
      ]
    },
    {
      "cell_type": "code",
      "metadata": {
        "colab": {
          "base_uri": "https://localhost:8080/"
        },
        "id": "gBTcXGdHe8ML",
        "outputId": "a40905b3-40fb-499e-8d7a-d52fcc32375e"
      },
      "source": [
        "# display the parameters\n",
        "print('Model intercept: ', regr.intercept_)\n",
        "print('Model coefficients: ', regr.coef_)"
      ],
      "id": "gBTcXGdHe8ML",
      "execution_count": 114,
      "outputs": [
        {
          "output_type": "stream",
          "text": [
            "Model intercept:  0.000576398328011471\n",
            "Model coefficients:  [ 0.94555899 -0.06948928]\n"
          ],
          "name": "stdout"
        }
      ]
    },
    {
      "cell_type": "code",
      "metadata": {
        "colab": {
          "base_uri": "https://localhost:8080/"
        },
        "id": "q0V2lg5Oe8ML",
        "outputId": "6ef74970-d7cd-4da3-d5ff-49cd152d29f1"
      },
      "source": [
        "print('R2 score:', metrics.r2_score(y_test, y_pred))"
      ],
      "id": "q0V2lg5Oe8ML",
      "execution_count": 115,
      "outputs": [
        {
          "output_type": "stream",
          "text": [
            "R2 score: 0.26873239153605155\n"
          ],
          "name": "stdout"
        }
      ]
    },
    {
      "cell_type": "markdown",
      "metadata": {
        "id": "o9Qz0XUue8ML"
      },
      "source": [
        "Using the industry environmental average for 2017 and 2018 only explained 27% of the variation in the dataset. Let's see what happens including 2016-2018 to predict 2019"
      ],
      "id": "o9Qz0XUue8ML"
    },
    {
      "cell_type": "code",
      "metadata": {
        "id": "Joq4CuNke8MM"
      },
      "source": [
        "df_2016 = df.loc[df.Year == 2016, ]\n",
        "df_2017 = df.loc[df.Year == 2017, ]\n",
        "df1 = df_2016.merge(df_2017, how='inner', on='CompanyName', suffixes=('_2016', '_2017'))\n",
        "df1 = df1.merge(df_2018, how='inner', on='CompanyName')\n",
        "df1 = df1.merge(df_2019, how='inner', on='CompanyName', suffixes=('_2018', '_2019'))\n",
        "df1 = df1[['Year_2016','industry_avg_year_2016','Year_2017','industry_avg_year_2017','Year_2018','industry_avg_year_2018','Year_2019','Env_intensity_2019']]"
      ],
      "id": "Joq4CuNke8MM",
      "execution_count": 116,
      "outputs": []
    },
    {
      "cell_type": "code",
      "metadata": {
        "colab": {
          "base_uri": "https://localhost:8080/"
        },
        "id": "kuul1T8Pe8MM",
        "outputId": "63ed718d-ed7a-442a-d075-7bd233c9a8da"
      },
      "source": [
        "X = df1[['industry_avg_year_2016','industry_avg_year_2017','industry_avg_year_2018']]\n",
        "y = df1.iloc[:,7]\n",
        "print(X.shape)\n",
        "print(y.shape)"
      ],
      "id": "kuul1T8Pe8MM",
      "execution_count": 117,
      "outputs": [
        {
          "output_type": "stream",
          "text": [
            "(833, 3)\n",
            "(833,)\n"
          ],
          "name": "stdout"
        }
      ]
    },
    {
      "cell_type": "code",
      "metadata": {
        "id": "McApUnC09uuq"
      },
      "source": [
        "regr = linear_model.LinearRegression()\n",
        "X_train, X_test, y_train, y_test = train_test_split(X,y,test_size=0.2,random_state=42)\n",
        "regr.fit(X_train, y_train)\n",
        "y_train_pred = regr.predict(X_train)\n",
        "y_pred = regr.predict(X_test)"
      ],
      "id": "McApUnC09uuq",
      "execution_count": 118,
      "outputs": []
    },
    {
      "cell_type": "code",
      "metadata": {
        "colab": {
          "base_uri": "https://localhost:8080/"
        },
        "id": "Zdkb0Jff-2EL",
        "outputId": "6e91dfe4-da0f-4cd1-a910-80601a20b80b"
      },
      "source": [
        "print('MSE train: %.3f, test: %.3f' % (metrics.mean_squared_error(y_train, y_train_pred),\n",
        "                metrics.mean_squared_error(y_test, y_pred)))"
      ],
      "id": "Zdkb0Jff-2EL",
      "execution_count": 119,
      "outputs": [
        {
          "output_type": "stream",
          "text": [
            "MSE train: 0.034, test: 0.019\n"
          ],
          "name": "stdout"
        }
      ]
    },
    {
      "cell_type": "code",
      "metadata": {
        "colab": {
          "base_uri": "https://localhost:8080/"
        },
        "id": "qxtqOycLe8MN",
        "outputId": "80169297-278a-491f-f767-e62ba16444a5"
      },
      "source": [
        "# display the parameters\n",
        "print('Model intercept: ', regr.intercept_)\n",
        "print('Model coefficients: ', regr.coef_)"
      ],
      "id": "qxtqOycLe8MN",
      "execution_count": 120,
      "outputs": [
        {
          "output_type": "stream",
          "text": [
            "Model intercept:  0.0007731215443031458\n",
            "Model coefficients:  [ 0.63837237  0.20819909 -0.05038564]\n"
          ],
          "name": "stdout"
        }
      ]
    },
    {
      "cell_type": "code",
      "metadata": {
        "colab": {
          "base_uri": "https://localhost:8080/"
        },
        "id": "Ogrxx1dbe8MN",
        "outputId": "35a0bf3e-55b3-4b26-9db8-1ee883321db8"
      },
      "source": [
        "print('R2 score:', metrics.r2_score(y_test, y_pred))"
      ],
      "id": "Ogrxx1dbe8MN",
      "execution_count": 121,
      "outputs": [
        {
          "output_type": "stream",
          "text": [
            "R2 score: 0.4778572062782027\n"
          ],
          "name": "stdout"
        }
      ]
    },
    {
      "cell_type": "markdown",
      "metadata": {
        "id": "Ah20qAC3_Smc"
      },
      "source": [
        "### Model 4 -Yearly Industry Indicator\n",
        "\n",
        "For this model, we will consider the yearly industry indicator from past years to predict the company 2019 environmental intensity. \n",
        "\n",
        "We are going to start from 2017-2018 to predict 2019. "
      ],
      "id": "Ah20qAC3_Smc"
    },
    {
      "cell_type": "code",
      "metadata": {
        "colab": {
          "base_uri": "https://localhost:8080/",
          "height": 419
        },
        "id": "IAj8DKvse8MO",
        "outputId": "73bd4217-9bdb-425b-84a6-63872093fc66"
      },
      "source": [
        "df_2019=df[df['Year'] == 2019]\n",
        "df_2018=df[df['Year'] == 2018]\n",
        "df_2017=df[df['Year'] == 2017]\n",
        "\n",
        "df2019=df_2019[['Year','CompanyName','Env_intensity']] \n",
        "df2019.rename(columns={'Env_intensity': 'Env_intensity2019'}, inplace=True) \n",
        "df2018=df_2018[['CompanyName','Industry_indicator_year']]\n",
        "df2018.rename(columns={'Industry_indicator_year': 'Ind_Indicator_2018'}, inplace=True) \n",
        "df2017=df_2017[['CompanyName','Industry_indicator_year']]\n",
        "df2017.rename(columns={'Industry_indicator_year': 'Ind_Indicator_2017'}, inplace=True) \n",
        "mdl4 = pd.merge(df2019, df2018, on=[\"CompanyName\"])\n",
        "mdl4= pd.merge(mdl4, df2017, on=[\"CompanyName\"])\n",
        "mdl4"
      ],
      "id": "IAj8DKvse8MO",
      "execution_count": 122,
      "outputs": [
        {
          "output_type": "execute_result",
          "data": {
            "text/html": [
              "<div>\n",
              "<style scoped>\n",
              "    .dataframe tbody tr th:only-of-type {\n",
              "        vertical-align: middle;\n",
              "    }\n",
              "\n",
              "    .dataframe tbody tr th {\n",
              "        vertical-align: top;\n",
              "    }\n",
              "\n",
              "    .dataframe thead th {\n",
              "        text-align: right;\n",
              "    }\n",
              "</style>\n",
              "<table border=\"1\" class=\"dataframe\">\n",
              "  <thead>\n",
              "    <tr style=\"text-align: right;\">\n",
              "      <th></th>\n",
              "      <th>Year</th>\n",
              "      <th>CompanyName</th>\n",
              "      <th>Env_intensity2019</th>\n",
              "      <th>Ind_Indicator_2018</th>\n",
              "      <th>Ind_Indicator_2017</th>\n",
              "    </tr>\n",
              "  </thead>\n",
              "  <tbody>\n",
              "    <tr>\n",
              "      <th>0</th>\n",
              "      <td>2019</td>\n",
              "      <td>3M COMPANY</td>\n",
              "      <td>-0.0641</td>\n",
              "      <td>1</td>\n",
              "      <td>1</td>\n",
              "    </tr>\n",
              "    <tr>\n",
              "      <th>1</th>\n",
              "      <td>2019</td>\n",
              "      <td>3SBIO INC</td>\n",
              "      <td>-0.0340</td>\n",
              "      <td>-1</td>\n",
              "      <td>1</td>\n",
              "    </tr>\n",
              "    <tr>\n",
              "      <th>2</th>\n",
              "      <td>2019</td>\n",
              "      <td>A.G.V. PRODUCTS CORP</td>\n",
              "      <td>-0.0172</td>\n",
              "      <td>1</td>\n",
              "      <td>1</td>\n",
              "    </tr>\n",
              "    <tr>\n",
              "      <th>3</th>\n",
              "      <td>2019</td>\n",
              "      <td>AA PLC</td>\n",
              "      <td>-0.0070</td>\n",
              "      <td>1</td>\n",
              "      <td>1</td>\n",
              "    </tr>\n",
              "    <tr>\n",
              "      <th>4</th>\n",
              "      <td>2019</td>\n",
              "      <td>AAC TECHNOLOGIES HOLDINGS INCORPORATION</td>\n",
              "      <td>-0.1080</td>\n",
              "      <td>-1</td>\n",
              "      <td>-1</td>\n",
              "    </tr>\n",
              "    <tr>\n",
              "      <th>...</th>\n",
              "      <td>...</td>\n",
              "      <td>...</td>\n",
              "      <td>...</td>\n",
              "      <td>...</td>\n",
              "      <td>...</td>\n",
              "    </tr>\n",
              "    <tr>\n",
              "      <th>1190</th>\n",
              "      <td>2019</td>\n",
              "      <td>ZEON CORPORATION</td>\n",
              "      <td>-0.0730</td>\n",
              "      <td>1</td>\n",
              "      <td>1</td>\n",
              "    </tr>\n",
              "    <tr>\n",
              "      <th>1191</th>\n",
              "      <td>2019</td>\n",
              "      <td>ZHEN DING TECHNOLOGY HOLDING LIMITED</td>\n",
              "      <td>-0.0602</td>\n",
              "      <td>1</td>\n",
              "      <td>1</td>\n",
              "    </tr>\n",
              "    <tr>\n",
              "      <th>1192</th>\n",
              "      <td>2019</td>\n",
              "      <td>ZIG SHENG INDUSTRIAL COMPANY LIMITED</td>\n",
              "      <td>-0.1615</td>\n",
              "      <td>-1</td>\n",
              "      <td>-1</td>\n",
              "    </tr>\n",
              "    <tr>\n",
              "      <th>1193</th>\n",
              "      <td>2019</td>\n",
              "      <td>ZORLU ENERJI AS</td>\n",
              "      <td>-0.3430</td>\n",
              "      <td>1</td>\n",
              "      <td>1</td>\n",
              "    </tr>\n",
              "    <tr>\n",
              "      <th>1194</th>\n",
              "      <td>2019</td>\n",
              "      <td>ZUMTOBEL AG</td>\n",
              "      <td>-0.0051</td>\n",
              "      <td>1</td>\n",
              "      <td>1</td>\n",
              "    </tr>\n",
              "  </tbody>\n",
              "</table>\n",
              "<p>1195 rows × 5 columns</p>\n",
              "</div>"
            ],
            "text/plain": [
              "      Year  ... Ind_Indicator_2017\n",
              "0     2019  ...                  1\n",
              "1     2019  ...                  1\n",
              "2     2019  ...                  1\n",
              "3     2019  ...                  1\n",
              "4     2019  ...                 -1\n",
              "...    ...  ...                ...\n",
              "1190  2019  ...                  1\n",
              "1191  2019  ...                  1\n",
              "1192  2019  ...                 -1\n",
              "1193  2019  ...                  1\n",
              "1194  2019  ...                  1\n",
              "\n",
              "[1195 rows x 5 columns]"
            ]
          },
          "metadata": {
            "tags": []
          },
          "execution_count": 122
        }
      ]
    },
    {
      "cell_type": "code",
      "metadata": {
        "id": "GZFdh9yRASsa",
        "colab": {
          "base_uri": "https://localhost:8080/"
        },
        "outputId": "5873c539-a816-45fd-b71f-b4eb1a1249b4"
      },
      "source": [
        "X=mdl4[['Ind_Indicator_2017','Ind_Indicator_2018']]\n",
        "y=mdl4['Env_intensity2019']\n",
        "print(X.shape)\n",
        "print(y.shape)"
      ],
      "id": "GZFdh9yRASsa",
      "execution_count": 123,
      "outputs": [
        {
          "output_type": "stream",
          "text": [
            "(1195, 2)\n",
            "(1195,)\n"
          ],
          "name": "stdout"
        }
      ]
    },
    {
      "cell_type": "code",
      "metadata": {
        "id": "9Q83jyJz_Smj"
      },
      "source": [
        "regr = linear_model.LinearRegression()\n",
        "X_train, X_test, y_train, y_test = train_test_split(X,y,test_size=0.2,random_state=42)\n",
        "regr.fit(X_train, y_train)\n",
        "y_train_pred = regr.predict(X_train)\n",
        "y_pred = regr.predict(X_test)"
      ],
      "id": "9Q83jyJz_Smj",
      "execution_count": 124,
      "outputs": []
    },
    {
      "cell_type": "code",
      "metadata": {
        "colab": {
          "base_uri": "https://localhost:8080/"
        },
        "id": "r9LByzk-_Smk",
        "outputId": "1b4d3190-3789-4c63-e725-738c38256870"
      },
      "source": [
        "print('MSE train: %.3f, test: %.3f' % (metrics.mean_squared_error(y_train, y_train_pred),\n",
        "                metrics.mean_squared_error(y_test, y_pred)))"
      ],
      "id": "r9LByzk-_Smk",
      "execution_count": 125,
      "outputs": [
        {
          "output_type": "stream",
          "text": [
            "MSE train: 0.048, test: 0.062\n"
          ],
          "name": "stdout"
        }
      ]
    },
    {
      "cell_type": "code",
      "metadata": {
        "colab": {
          "base_uri": "https://localhost:8080/"
        },
        "id": "nnqv1GCie8MO",
        "outputId": "7d76141d-ea3b-44de-8b6c-c5b6a1826cba"
      },
      "source": [
        "# display the parameters\n",
        "print('Model intercept: ', regr.intercept_)\n",
        "print('Model coefficients: ', regr.coef_)"
      ],
      "id": "nnqv1GCie8MO",
      "execution_count": 126,
      "outputs": [
        {
          "output_type": "stream",
          "text": [
            "Model intercept:  -0.1535641068337678\n",
            "Model coefficients:  [0.03709691 0.07830873]\n"
          ],
          "name": "stdout"
        }
      ]
    },
    {
      "cell_type": "code",
      "metadata": {
        "colab": {
          "base_uri": "https://localhost:8080/"
        },
        "id": "EWpkxjYbe8MP",
        "outputId": "24016df6-285f-4f76-eeb9-5c4e772773cb"
      },
      "source": [
        "print('R2 score:', metrics.r2_score(y_test, y_pred))"
      ],
      "id": "EWpkxjYbe8MP",
      "execution_count": 127,
      "outputs": [
        {
          "output_type": "stream",
          "text": [
            "R2 score: 0.21186363020947363\n"
          ],
          "name": "stdout"
        }
      ]
    },
    {
      "cell_type": "markdown",
      "metadata": {
        "id": "rIs2crAVe8MP"
      },
      "source": [
        "The industry indicator isn't a good predictor for environmental intensity. \n",
        "\n",
        "Let's try including 2016-2018 to predict 2019 environmental intensity. "
      ],
      "id": "rIs2crAVe8MP"
    },
    {
      "cell_type": "code",
      "metadata": {
        "colab": {
          "base_uri": "https://localhost:8080/",
          "height": 204
        },
        "id": "IP1_Vbp0e8MP",
        "outputId": "1e6cd1cd-c3c4-431f-e177-34db3169d43b"
      },
      "source": [
        "df_2016=df[df['Year'] == 2016]\n",
        "df2016=df_2016[['CompanyName','Industry_indicator_year']]\n",
        "df2016.rename(columns={'Industry_indicator_year': 'Ind_Indicator_2016'}, inplace=True) \n",
        "\n",
        "mdl4 = pd.merge(df2019, df2018, on=[\"CompanyName\"])\n",
        "mdl4= pd.merge(mdl4, df2017, on=[\"CompanyName\"])\n",
        "mdl4= pd.merge(mdl4, df2016, on=[\"CompanyName\"])\n",
        "mdl4.head()"
      ],
      "id": "IP1_Vbp0e8MP",
      "execution_count": 128,
      "outputs": [
        {
          "output_type": "execute_result",
          "data": {
            "text/html": [
              "<div>\n",
              "<style scoped>\n",
              "    .dataframe tbody tr th:only-of-type {\n",
              "        vertical-align: middle;\n",
              "    }\n",
              "\n",
              "    .dataframe tbody tr th {\n",
              "        vertical-align: top;\n",
              "    }\n",
              "\n",
              "    .dataframe thead th {\n",
              "        text-align: right;\n",
              "    }\n",
              "</style>\n",
              "<table border=\"1\" class=\"dataframe\">\n",
              "  <thead>\n",
              "    <tr style=\"text-align: right;\">\n",
              "      <th></th>\n",
              "      <th>Year</th>\n",
              "      <th>CompanyName</th>\n",
              "      <th>Env_intensity2019</th>\n",
              "      <th>Ind_Indicator_2018</th>\n",
              "      <th>Ind_Indicator_2017</th>\n",
              "      <th>Ind_Indicator_2016</th>\n",
              "    </tr>\n",
              "  </thead>\n",
              "  <tbody>\n",
              "    <tr>\n",
              "      <th>0</th>\n",
              "      <td>2019</td>\n",
              "      <td>3M COMPANY</td>\n",
              "      <td>-0.0641</td>\n",
              "      <td>1</td>\n",
              "      <td>1</td>\n",
              "      <td>1</td>\n",
              "    </tr>\n",
              "    <tr>\n",
              "      <th>1</th>\n",
              "      <td>2019</td>\n",
              "      <td>AA PLC</td>\n",
              "      <td>-0.0070</td>\n",
              "      <td>1</td>\n",
              "      <td>1</td>\n",
              "      <td>1</td>\n",
              "    </tr>\n",
              "    <tr>\n",
              "      <th>2</th>\n",
              "      <td>2019</td>\n",
              "      <td>AAC TECHNOLOGIES HOLDINGS INCORPORATION</td>\n",
              "      <td>-0.1080</td>\n",
              "      <td>-1</td>\n",
              "      <td>-1</td>\n",
              "      <td>-1</td>\n",
              "    </tr>\n",
              "    <tr>\n",
              "      <th>3</th>\n",
              "      <td>2019</td>\n",
              "      <td>AAREAL BANK AG</td>\n",
              "      <td>-0.0015</td>\n",
              "      <td>1</td>\n",
              "      <td>1</td>\n",
              "      <td>1</td>\n",
              "    </tr>\n",
              "    <tr>\n",
              "      <th>4</th>\n",
              "      <td>2019</td>\n",
              "      <td>AB SKF</td>\n",
              "      <td>-0.0200</td>\n",
              "      <td>1</td>\n",
              "      <td>1</td>\n",
              "      <td>1</td>\n",
              "    </tr>\n",
              "  </tbody>\n",
              "</table>\n",
              "</div>"
            ],
            "text/plain": [
              "   Year  ... Ind_Indicator_2016\n",
              "0  2019  ...                  1\n",
              "1  2019  ...                  1\n",
              "2  2019  ...                 -1\n",
              "3  2019  ...                  1\n",
              "4  2019  ...                  1\n",
              "\n",
              "[5 rows x 6 columns]"
            ]
          },
          "metadata": {
            "tags": []
          },
          "execution_count": 128
        }
      ]
    },
    {
      "cell_type": "code",
      "metadata": {
        "colab": {
          "base_uri": "https://localhost:8080/"
        },
        "id": "r7YqZBI3e8MP",
        "outputId": "bd522c07-a266-4eb5-ed19-8bc439bb08bc"
      },
      "source": [
        "X = mdl4[['Ind_Indicator_2016','Ind_Indicator_2017','Ind_Indicator_2018']]\n",
        "y = mdl4['Env_intensity2019']\n",
        "print(X.shape)\n",
        "print(y.shape)"
      ],
      "id": "r7YqZBI3e8MP",
      "execution_count": 129,
      "outputs": [
        {
          "output_type": "stream",
          "text": [
            "(833, 3)\n",
            "(833,)\n"
          ],
          "name": "stdout"
        }
      ]
    },
    {
      "cell_type": "code",
      "metadata": {
        "colab": {
          "base_uri": "https://localhost:8080/"
        },
        "id": "QqJ-Tatde8MP",
        "outputId": "1c9cae08-5461-445a-c9f1-6101bb54134d"
      },
      "source": [
        "regr = linear_model.LinearRegression()\n",
        "X_train, X_test, y_train, y_test = train_test_split(X,y,test_size=0.2,random_state=42)\n",
        "regr.fit(X_train, y_train)\n",
        "y_train_pred = regr.predict(X_train)\n",
        "y_pred = regr.predict(X_test)\n",
        "\n",
        "print('MSE train: %.3f, test: %.3f' % (metrics.mean_squared_error(y_train, y_train_pred),\n",
        "                metrics.mean_squared_error(y_test, y_pred)))"
      ],
      "id": "QqJ-Tatde8MP",
      "execution_count": 130,
      "outputs": [
        {
          "output_type": "stream",
          "text": [
            "MSE train: 0.045, test: 0.029\n"
          ],
          "name": "stdout"
        }
      ]
    },
    {
      "cell_type": "code",
      "metadata": {
        "colab": {
          "base_uri": "https://localhost:8080/"
        },
        "id": "xiysqbUDe8MQ",
        "outputId": "2d4eacb6-9d6b-4ee6-f860-c43909026fc9"
      },
      "source": [
        "# display the parameters\n",
        "print('Model intercept: ', regr.intercept_)\n",
        "print('Model coefficients: ', regr.coef_)"
      ],
      "id": "xiysqbUDe8MQ",
      "execution_count": 131,
      "outputs": [
        {
          "output_type": "stream",
          "text": [
            "Model intercept:  -0.14239259821278608\n",
            "Model coefficients:  [0.03012061 0.0131589  0.0676593 ]\n"
          ],
          "name": "stdout"
        }
      ]
    },
    {
      "cell_type": "code",
      "metadata": {
        "colab": {
          "base_uri": "https://localhost:8080/"
        },
        "id": "lnwcxbhme8MQ",
        "outputId": "fd2512c2-ea0a-485a-cda9-3c2b7691bfe1"
      },
      "source": [
        "print('R2 score:', metrics.r2_score(y_test, y_pred))"
      ],
      "id": "lnwcxbhme8MQ",
      "execution_count": 132,
      "outputs": [
        {
          "output_type": "stream",
          "text": [
            "R2 score: 0.21924492824372876\n"
          ],
          "name": "stdout"
        }
      ]
    },
    {
      "cell_type": "markdown",
      "metadata": {
        "id": "8rCtCNrTBbLN"
      },
      "source": [
        "### Model 5 -Growth Rate\n",
        "\n",
        "For this model, we will consider the growth rate from past years to predict the company 2019 environmental intensity.\n",
        "\n",
        "We are going to start from 2017-2018 to predict 2019."
      ],
      "id": "8rCtCNrTBbLN"
    },
    {
      "cell_type": "code",
      "metadata": {
        "colab": {
          "base_uri": "https://localhost:8080/",
          "height": 419
        },
        "id": "hmCjj9nze8MQ",
        "outputId": "13f93a77-2dd3-411a-e977-235686f168a2"
      },
      "source": [
        "df_2019=df[df['Year'] == 2019]\n",
        "df_2018=df[df['Year'] == 2018]\n",
        "df_2017=df[df['Year'] == 2017]\n",
        "\n",
        "df2019=df_2019[['Year','CompanyName','Env_intensity']] \n",
        "df2019.rename(columns={'Env_intensity': 'Env_intensity2019'}, inplace=True) \n",
        "df2018=df_2018[['CompanyName','Environmental_Growth']]\n",
        "df2018.rename(columns={'Environmental_Growth': 'Environmental_Growth_2018'}, inplace=True) \n",
        "df2017=df_2017[['CompanyName','Environmental_Growth']]\n",
        "df2017.rename(columns={'Environmental_Growth': 'Environmental_Growth_2017'}, inplace=True) \n",
        "mdl5 = pd.merge(df2019, df2018, on=[\"CompanyName\"])\n",
        "mdl5= pd.merge(mdl5, df2017, on=[\"CompanyName\"])\n",
        "mdl5"
      ],
      "id": "hmCjj9nze8MQ",
      "execution_count": 133,
      "outputs": [
        {
          "output_type": "execute_result",
          "data": {
            "text/html": [
              "<div>\n",
              "<style scoped>\n",
              "    .dataframe tbody tr th:only-of-type {\n",
              "        vertical-align: middle;\n",
              "    }\n",
              "\n",
              "    .dataframe tbody tr th {\n",
              "        vertical-align: top;\n",
              "    }\n",
              "\n",
              "    .dataframe thead th {\n",
              "        text-align: right;\n",
              "    }\n",
              "</style>\n",
              "<table border=\"1\" class=\"dataframe\">\n",
              "  <thead>\n",
              "    <tr style=\"text-align: right;\">\n",
              "      <th></th>\n",
              "      <th>Year</th>\n",
              "      <th>CompanyName</th>\n",
              "      <th>Env_intensity2019</th>\n",
              "      <th>Environmental_Growth_2018</th>\n",
              "      <th>Environmental_Growth_2017</th>\n",
              "    </tr>\n",
              "  </thead>\n",
              "  <tbody>\n",
              "    <tr>\n",
              "      <th>0</th>\n",
              "      <td>2019</td>\n",
              "      <td>3M COMPANY</td>\n",
              "      <td>-0.0641</td>\n",
              "      <td>7.575758</td>\n",
              "      <td>-6.382979</td>\n",
              "    </tr>\n",
              "    <tr>\n",
              "      <th>1</th>\n",
              "      <td>2019</td>\n",
              "      <td>3SBIO INC</td>\n",
              "      <td>-0.0340</td>\n",
              "      <td>50.672646</td>\n",
              "      <td>NaN</td>\n",
              "    </tr>\n",
              "    <tr>\n",
              "      <th>2</th>\n",
              "      <td>2019</td>\n",
              "      <td>A.G.V. PRODUCTS CORP</td>\n",
              "      <td>-0.0172</td>\n",
              "      <td>-26.315789</td>\n",
              "      <td>NaN</td>\n",
              "    </tr>\n",
              "    <tr>\n",
              "      <th>3</th>\n",
              "      <td>2019</td>\n",
              "      <td>AA PLC</td>\n",
              "      <td>-0.0070</td>\n",
              "      <td>-5.645161</td>\n",
              "      <td>-4.615385</td>\n",
              "    </tr>\n",
              "    <tr>\n",
              "      <th>4</th>\n",
              "      <td>2019</td>\n",
              "      <td>AAC TECHNOLOGIES HOLDINGS INCORPORATION</td>\n",
              "      <td>-0.1080</td>\n",
              "      <td>35.702200</td>\n",
              "      <td>51.928021</td>\n",
              "    </tr>\n",
              "    <tr>\n",
              "      <th>...</th>\n",
              "      <td>...</td>\n",
              "      <td>...</td>\n",
              "      <td>...</td>\n",
              "      <td>...</td>\n",
              "      <td>...</td>\n",
              "    </tr>\n",
              "    <tr>\n",
              "      <th>1190</th>\n",
              "      <td>2019</td>\n",
              "      <td>ZEON CORPORATION</td>\n",
              "      <td>-0.0730</td>\n",
              "      <td>-1.272265</td>\n",
              "      <td>NaN</td>\n",
              "    </tr>\n",
              "    <tr>\n",
              "      <th>1191</th>\n",
              "      <td>2019</td>\n",
              "      <td>ZHEN DING TECHNOLOGY HOLDING LIMITED</td>\n",
              "      <td>-0.0602</td>\n",
              "      <td>1.990050</td>\n",
              "      <td>NaN</td>\n",
              "    </tr>\n",
              "    <tr>\n",
              "      <th>1192</th>\n",
              "      <td>2019</td>\n",
              "      <td>ZIG SHENG INDUSTRIAL COMPANY LIMITED</td>\n",
              "      <td>-0.1615</td>\n",
              "      <td>-4.232425</td>\n",
              "      <td>-20.251716</td>\n",
              "    </tr>\n",
              "    <tr>\n",
              "      <th>1193</th>\n",
              "      <td>2019</td>\n",
              "      <td>ZORLU ENERJI AS</td>\n",
              "      <td>-0.3430</td>\n",
              "      <td>48.046057</td>\n",
              "      <td>-81.144737</td>\n",
              "    </tr>\n",
              "    <tr>\n",
              "      <th>1194</th>\n",
              "      <td>2019</td>\n",
              "      <td>ZUMTOBEL AG</td>\n",
              "      <td>-0.0051</td>\n",
              "      <td>2.380952</td>\n",
              "      <td>-19.230769</td>\n",
              "    </tr>\n",
              "  </tbody>\n",
              "</table>\n",
              "<p>1195 rows × 5 columns</p>\n",
              "</div>"
            ],
            "text/plain": [
              "      Year  ... Environmental_Growth_2017\n",
              "0     2019  ...                 -6.382979\n",
              "1     2019  ...                       NaN\n",
              "2     2019  ...                       NaN\n",
              "3     2019  ...                 -4.615385\n",
              "4     2019  ...                 51.928021\n",
              "...    ...  ...                       ...\n",
              "1190  2019  ...                       NaN\n",
              "1191  2019  ...                       NaN\n",
              "1192  2019  ...                -20.251716\n",
              "1193  2019  ...                -81.144737\n",
              "1194  2019  ...                -19.230769\n",
              "\n",
              "[1195 rows x 5 columns]"
            ]
          },
          "metadata": {
            "tags": []
          },
          "execution_count": 133
        }
      ]
    },
    {
      "cell_type": "code",
      "metadata": {
        "colab": {
          "base_uri": "https://localhost:8080/"
        },
        "id": "_jic-gX9hvkb",
        "outputId": "d291bee0-2b13-47c1-dc0e-702fdfdd4f70"
      },
      "source": [
        "mdl5.dropna(inplace = True)#delete rows with missing values\n",
        "mdl5.info()"
      ],
      "id": "_jic-gX9hvkb",
      "execution_count": 134,
      "outputs": [
        {
          "output_type": "stream",
          "text": [
            "<class 'pandas.core.frame.DataFrame'>\n",
            "Int64Index: 833 entries, 0 to 1194\n",
            "Data columns (total 5 columns):\n",
            " #   Column                     Non-Null Count  Dtype  \n",
            "---  ------                     --------------  -----  \n",
            " 0   Year                       833 non-null    int64  \n",
            " 1   CompanyName                833 non-null    object \n",
            " 2   Env_intensity2019          833 non-null    float64\n",
            " 3   Environmental_Growth_2018  833 non-null    float64\n",
            " 4   Environmental_Growth_2017  833 non-null    float64\n",
            "dtypes: float64(3), int64(1), object(1)\n",
            "memory usage: 39.0+ KB\n"
          ],
          "name": "stdout"
        }
      ]
    },
    {
      "cell_type": "code",
      "metadata": {
        "colab": {
          "base_uri": "https://localhost:8080/"
        },
        "id": "x87qj419iLBd",
        "outputId": "ed26dc8e-4207-4416-ffcb-4f67f3067494"
      },
      "source": [
        "X=mdl5[['Environmental_Growth_2017','Environmental_Growth_2018']]\n",
        "y=mdl5['Env_intensity2019']\n",
        "print(X.shape)\n",
        "print(y.shape)"
      ],
      "id": "x87qj419iLBd",
      "execution_count": 135,
      "outputs": [
        {
          "output_type": "stream",
          "text": [
            "(833, 2)\n",
            "(833,)\n"
          ],
          "name": "stdout"
        }
      ]
    },
    {
      "cell_type": "code",
      "metadata": {
        "id": "9V0HjSpLh2_i"
      },
      "source": [
        "regr = linear_model.LinearRegression()\n",
        "X_train, X_test, y_train, y_test = train_test_split(X,y,test_size=0.2,random_state=42)\n",
        "regr.fit(X_train, y_train)\n",
        "y_train_pred = regr.predict(X_train)\n",
        "y_pred = regr.predict(X_test)"
      ],
      "id": "9V0HjSpLh2_i",
      "execution_count": 136,
      "outputs": []
    },
    {
      "cell_type": "code",
      "metadata": {
        "colab": {
          "base_uri": "https://localhost:8080/"
        },
        "id": "ojXEXIyLiWRc",
        "outputId": "13074443-ece7-4a35-b0db-7f0ea96a9d4e"
      },
      "source": [
        "print('MSE train: %.3f, test: %.3f' % (metrics.mean_squared_error(y_train, y_train_pred),\n",
        "                metrics.mean_squared_error(y_test, y_pred)))"
      ],
      "id": "ojXEXIyLiWRc",
      "execution_count": 137,
      "outputs": [
        {
          "output_type": "stream",
          "text": [
            "MSE train: 0.051, test: 0.037\n"
          ],
          "name": "stdout"
        }
      ]
    },
    {
      "cell_type": "code",
      "metadata": {
        "colab": {
          "base_uri": "https://localhost:8080/"
        },
        "id": "bbKxgMMgiY7j",
        "outputId": "a9eafbb2-59a6-4b9d-f55b-25a6f746f4c0"
      },
      "source": [
        "# display the parameters\n",
        "print('Model intercept: ', regr.intercept_)\n",
        "print('Model coefficients: ', regr.coef_)"
      ],
      "id": "bbKxgMMgiY7j",
      "execution_count": 138,
      "outputs": [
        {
          "output_type": "stream",
          "text": [
            "Model intercept:  -0.09416744842653031\n",
            "Model coefficients:  [-0.00012533 -0.00033923]\n"
          ],
          "name": "stdout"
        }
      ]
    },
    {
      "cell_type": "code",
      "metadata": {
        "colab": {
          "base_uri": "https://localhost:8080/"
        },
        "id": "I9-v46Liiba2",
        "outputId": "e13a6ec6-1290-4e56-8994-23b92b5648ff"
      },
      "source": [
        "print('R2 score:', metrics.r2_score(y_test, y_pred))"
      ],
      "id": "I9-v46Liiba2",
      "execution_count": 139,
      "outputs": [
        {
          "output_type": "stream",
          "text": [
            "R2 score: -0.0176694588355768\n"
          ],
          "name": "stdout"
        }
      ]
    },
    {
      "cell_type": "markdown",
      "metadata": {
        "id": "ATYLOa_DjLzQ"
      },
      "source": [
        "#### The growth rate isn't a good predictor for environmental intensity.\n",
        "#### Let's try including 2016-2018 to predict 2019 environmental intensity."
      ],
      "id": "ATYLOa_DjLzQ"
    },
    {
      "cell_type": "code",
      "metadata": {
        "colab": {
          "base_uri": "https://localhost:8080/"
        },
        "id": "ELQK1t6GkxfQ",
        "outputId": "d2130491-36a2-420e-be15-13379bbd1781"
      },
      "source": [
        "df_2016=df[df['Year'] == 2016]\n",
        "df_2016.info()"
      ],
      "id": "ELQK1t6GkxfQ",
      "execution_count": 145,
      "outputs": [
        {
          "output_type": "stream",
          "text": [
            "<class 'pandas.core.frame.DataFrame'>\n",
            "Int64Index: 1666 entries, 0 to 14508\n",
            "Data columns (total 11 columns):\n",
            " #   Column                         Non-Null Count  Dtype  \n",
            "---  ------                         --------------  -----  \n",
            " 0   Year                           1666 non-null   int64  \n",
            " 1   CompanyName                    1666 non-null   object \n",
            " 2   Country                        1666 non-null   object \n",
            " 3   Industry(Exiobase)             1666 non-null   object \n",
            " 4   EnvironmentalIntensity(Sales)  1666 non-null   object \n",
            " 5   Env_intensity                  1666 non-null   float64\n",
            " 6   industry_avg                   1666 non-null   float64\n",
            " 7   Industry_indicator             1666 non-null   int64  \n",
            " 8   industry_avg_year              1666 non-null   float64\n",
            " 9   Industry_indicator_year        1666 non-null   int64  \n",
            " 10  Environmental_Growth           323 non-null    float64\n",
            "dtypes: float64(4), int64(3), object(4)\n",
            "memory usage: 156.2+ KB\n"
          ],
          "name": "stdout"
        }
      ]
    },
    {
      "cell_type": "code",
      "metadata": {
        "colab": {
          "base_uri": "https://localhost:8080/"
        },
        "id": "jvtrj_iNjtcU",
        "outputId": "68171d7b-6e16-4d46-d8fd-53ebdcb5e945"
      },
      "source": [
        "df_2016=df[df['Year'] == 2016]\n",
        "df2016=df_2016[['CompanyName','Environmental_Growth']]\n",
        "df2016.rename(columns={'Environmental_Growth': 'Environmental_Growth_2016'}, inplace=True) \n",
        "\n",
        "mdl5 = pd.merge(df2019, df2018, on=[\"CompanyName\"])\n",
        "mdl5= pd.merge(mdl5, df2017, on=[\"CompanyName\"])\n",
        "mdl5= pd.merge(mdl5, df2016, on=[\"CompanyName\"])\n",
        "mdl5.info()"
      ],
      "id": "jvtrj_iNjtcU",
      "execution_count": 147,
      "outputs": [
        {
          "output_type": "stream",
          "text": [
            "<class 'pandas.core.frame.DataFrame'>\n",
            "Int64Index: 833 entries, 0 to 832\n",
            "Data columns (total 6 columns):\n",
            " #   Column                     Non-Null Count  Dtype  \n",
            "---  ------                     --------------  -----  \n",
            " 0   Year                       833 non-null    int64  \n",
            " 1   CompanyName                833 non-null    object \n",
            " 2   Env_intensity2019          833 non-null    float64\n",
            " 3   Environmental_Growth_2018  833 non-null    float64\n",
            " 4   Environmental_Growth_2017  833 non-null    float64\n",
            " 5   Environmental_Growth_2016  0 non-null      float64\n",
            "dtypes: float64(4), int64(1), object(1)\n",
            "memory usage: 45.6+ KB\n"
          ],
          "name": "stdout"
        }
      ]
    },
    {
      "cell_type": "markdown",
      "metadata": {
        "id": "a7SQliM0lbrB"
      },
      "source": [
        "#### Unfortunately, there is no information for 2016 growth rate after merging"
      ],
      "id": "a7SQliM0lbrB"
    },
    {
      "cell_type": "markdown",
      "metadata": {
        "id": "otRewEhUe8MR"
      },
      "source": [
        "# Predicting Industry Based on Company Description"
      ],
      "id": "otRewEhUe8MR"
    },
    {
      "cell_type": "code",
      "metadata": {
        "id": "y2jk8L-9e8MR"
      },
      "source": [
        "tickers_df = pd.read_csv('Datasets/52_tickers_sectors.csv')"
      ],
      "id": "y2jk8L-9e8MR",
      "execution_count": null,
      "outputs": []
    },
    {
      "cell_type": "code",
      "metadata": {
        "id": "rVUJ6qFce8MR"
      },
      "source": [
        "tickers = tickers_df.Ticker"
      ],
      "id": "rVUJ6qFce8MR",
      "execution_count": null,
      "outputs": []
    },
    {
      "cell_type": "code",
      "metadata": {
        "id": "MlMORJFte8MR"
      },
      "source": [
        "# Create a loop to store URLs of all stocks' description page\n",
        "URL = [] \n",
        "DES = [] \n",
        "\n",
        "for i in tickers: \n",
        "  url ='https://finance.yahoo.com/quote/'+i+'/profile' \n",
        "  URL.append(url)\n",
        "  page = requests.get(url) # visits the URL \n",
        "  htmldata = BeautifulSoup(page.content, 'html.parser')\n",
        "  Business_Description = htmldata.find('p',{'class':'Mt(15px) Lh(1.6)'}) # finds the business description part in the HTML code\n",
        "  DES.append(Business_Description.text)"
      ],
      "id": "MlMORJFte8MR",
      "execution_count": null,
      "outputs": []
    },
    {
      "cell_type": "markdown",
      "metadata": {
        "id": "3DEKQVp4e8MS"
      },
      "source": [
        "We will continue building a model in the next sprint!"
      ],
      "id": "3DEKQVp4e8MS"
    }
  ]
}