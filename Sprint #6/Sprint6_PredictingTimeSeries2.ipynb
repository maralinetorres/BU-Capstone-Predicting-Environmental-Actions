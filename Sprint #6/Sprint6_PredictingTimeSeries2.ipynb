{
 "cells": [
  {
   "cell_type": "markdown",
   "metadata": {
    "id": "periodic-cartridge"
   },
   "source": [
    "# Sprint 6 - Predicting future environmental intensity (Time Series)\n",
    "\n",
    "In this notebook, we will predict future environmental intensity for all the companies in the 'Excel data'. We will be using data from previous years to predict the future environmental intesity. \n",
    "\n",
    "First, we will create the following columns:\n",
    "\n",
    "1) Industry Indicator\n",
    "- 1 if above the industry average in current year\n",
    "- 0 if at industry average in current yeat\n",
    "- (-1) if below the industry average in current year\n",
    "2) Environmental Intensity Growth : ((Environmental Intensity in Current Year / Environmental Intensity Last Year) - 1) * 100"
   ]
  },
  {
   "cell_type": "code",
   "execution_count": 17,
   "metadata": {
    "id": "young-marriage"
   },
   "outputs": [],
   "source": [
    "import pandas as pd\n",
    "import numpy as np\n",
    "import seaborn as sns\n",
    "import matplotlib.pyplot as plt\n",
    "import missingno as msno\n",
    "import warnings\n",
    "from sklearn import linear_model\n",
    "from sklearn import metrics\n",
    "from sklearn.linear_model import LinearRegression\n",
    "from sklearn.model_selection import train_test_split\n",
    "warnings.filterwarnings('ignore')"
   ]
  },
  {
   "cell_type": "code",
   "execution_count": 18,
   "metadata": {
    "colab": {
     "base_uri": "https://localhost:8080/",
     "height": 247
    },
    "id": "logical-chaos",
    "outputId": "d5357b43-2e16-4fa6-bea1-a7037313d5d4"
   },
   "outputs": [
    {
     "name": "stdout",
     "output_type": "stream",
     "text": [
      "The dataset has 14515 rows and 11 columns\n"
     ]
    },
    {
     "data": {
      "text/html": [
       "<div>\n",
       "<style scoped>\n",
       "    .dataframe tbody tr th:only-of-type {\n",
       "        vertical-align: middle;\n",
       "    }\n",
       "\n",
       "    .dataframe tbody tr th {\n",
       "        vertical-align: top;\n",
       "    }\n",
       "\n",
       "    .dataframe thead th {\n",
       "        text-align: right;\n",
       "    }\n",
       "</style>\n",
       "<table border=\"1\" class=\"dataframe\">\n",
       "  <thead>\n",
       "    <tr style=\"text-align: right;\">\n",
       "      <th></th>\n",
       "      <th>Year</th>\n",
       "      <th>CompanyName</th>\n",
       "      <th>Country</th>\n",
       "      <th>Industry(Exiobase)</th>\n",
       "      <th>EnvironmentalIntensity(Sales)</th>\n",
       "      <th>Env_intensity</th>\n",
       "      <th>industry_avg</th>\n",
       "      <th>Industry_indicator</th>\n",
       "      <th>industry_avg_year</th>\n",
       "      <th>Industry_indicator_year</th>\n",
       "      <th>Environmental_Growth</th>\n",
       "    </tr>\n",
       "  </thead>\n",
       "  <tbody>\n",
       "    <tr>\n",
       "      <th>0</th>\n",
       "      <td>2016</td>\n",
       "      <td>1&amp;1 DRILLISCH AG</td>\n",
       "      <td>Germany</td>\n",
       "      <td>Post and telecommunications (64)</td>\n",
       "      <td>-0.07%</td>\n",
       "      <td>-0.0007</td>\n",
       "      <td>-0.018382</td>\n",
       "      <td>1</td>\n",
       "      <td>-0.011640</td>\n",
       "      <td>1</td>\n",
       "      <td>NaN</td>\n",
       "    </tr>\n",
       "    <tr>\n",
       "      <th>1</th>\n",
       "      <td>2010</td>\n",
       "      <td>3I GROUP PLC</td>\n",
       "      <td>United Kingdom</td>\n",
       "      <td>Financial intermediation, except insurance an...</td>\n",
       "      <td>-0.12%</td>\n",
       "      <td>-0.0012</td>\n",
       "      <td>-0.020072</td>\n",
       "      <td>1</td>\n",
       "      <td>-0.006402</td>\n",
       "      <td>1</td>\n",
       "      <td>NaN</td>\n",
       "    </tr>\n",
       "    <tr>\n",
       "      <th>2</th>\n",
       "      <td>2011</td>\n",
       "      <td>3I GROUP PLC</td>\n",
       "      <td>United Kingdom</td>\n",
       "      <td>Financial intermediation, except insurance an...</td>\n",
       "      <td>-0.16%</td>\n",
       "      <td>-0.0016</td>\n",
       "      <td>-0.020072</td>\n",
       "      <td>1</td>\n",
       "      <td>-0.009838</td>\n",
       "      <td>1</td>\n",
       "      <td>33.333333</td>\n",
       "    </tr>\n",
       "  </tbody>\n",
       "</table>\n",
       "</div>"
      ],
      "text/plain": [
       "   Year         CompanyName           Country  \\\n",
       "0  2016   1&1 DRILLISCH AG           Germany    \n",
       "1  2010       3I GROUP PLC    United Kingdom    \n",
       "2  2011       3I GROUP PLC    United Kingdom    \n",
       "\n",
       "                                  Industry(Exiobase)  \\\n",
       "0                  Post and telecommunications (64)    \n",
       "1   Financial intermediation, except insurance an...   \n",
       "2   Financial intermediation, except insurance an...   \n",
       "\n",
       "  EnvironmentalIntensity(Sales)  Env_intensity  industry_avg  \\\n",
       "0                        -0.07%        -0.0007     -0.018382   \n",
       "1                        -0.12%        -0.0012     -0.020072   \n",
       "2                        -0.16%        -0.0016     -0.020072   \n",
       "\n",
       "   Industry_indicator  industry_avg_year  Industry_indicator_year  \\\n",
       "0                   1          -0.011640                        1   \n",
       "1                   1          -0.006402                        1   \n",
       "2                   1          -0.009838                        1   \n",
       "\n",
       "   Environmental_Growth  \n",
       "0                   NaN  \n",
       "1                   NaN  \n",
       "2             33.333333  "
      ]
     },
     "execution_count": 18,
     "metadata": {},
     "output_type": "execute_result"
    }
   ],
   "source": [
    "df = pd.read_csv('Environmental_Impact_dataset.csv')\n",
    "column_list = []\n",
    "for column in df.columns:\n",
    "    column_list.append(column.replace(' ', ''))\n",
    "df.columns = column_list\n",
    "print(f'The dataset has {df.shape[0]} rows and {df.shape[1]} columns')\n",
    "df.head(3)"
   ]
  },
  {
   "cell_type": "code",
   "execution_count": 19,
   "metadata": {
    "colab": {
     "base_uri": "https://localhost:8080/",
     "height": 289
    },
    "id": "induced-analysis",
    "outputId": "d6dab181-fe86-47af-99a6-4516d19fa3af"
   },
   "outputs": [
    {
     "data": {
      "text/html": [
       "<div>\n",
       "<style scoped>\n",
       "    .dataframe tbody tr th:only-of-type {\n",
       "        vertical-align: middle;\n",
       "    }\n",
       "\n",
       "    .dataframe tbody tr th {\n",
       "        vertical-align: top;\n",
       "    }\n",
       "\n",
       "    .dataframe thead th {\n",
       "        text-align: right;\n",
       "    }\n",
       "</style>\n",
       "<table border=\"1\" class=\"dataframe\">\n",
       "  <thead>\n",
       "    <tr style=\"text-align: right;\">\n",
       "      <th></th>\n",
       "      <th>Year</th>\n",
       "      <th>CompanyName</th>\n",
       "      <th>Country</th>\n",
       "      <th>Industry(Exiobase)</th>\n",
       "      <th>EnvironmentalIntensity(Sales)</th>\n",
       "      <th>Env_intensity</th>\n",
       "    </tr>\n",
       "  </thead>\n",
       "  <tbody>\n",
       "    <tr>\n",
       "      <th>0</th>\n",
       "      <td>2016</td>\n",
       "      <td>1&amp;1 DRILLISCH AG</td>\n",
       "      <td>Germany</td>\n",
       "      <td>Post and telecommunications (64)</td>\n",
       "      <td>-0.07%</td>\n",
       "      <td>-0.0007</td>\n",
       "    </tr>\n",
       "    <tr>\n",
       "      <th>1</th>\n",
       "      <td>2010</td>\n",
       "      <td>3I GROUP PLC</td>\n",
       "      <td>United Kingdom</td>\n",
       "      <td>Financial intermediation, except insurance an...</td>\n",
       "      <td>-0.12%</td>\n",
       "      <td>-0.0012</td>\n",
       "    </tr>\n",
       "    <tr>\n",
       "      <th>2</th>\n",
       "      <td>2011</td>\n",
       "      <td>3I GROUP PLC</td>\n",
       "      <td>United Kingdom</td>\n",
       "      <td>Financial intermediation, except insurance an...</td>\n",
       "      <td>-0.16%</td>\n",
       "      <td>-0.0016</td>\n",
       "    </tr>\n",
       "    <tr>\n",
       "      <th>3</th>\n",
       "      <td>2012</td>\n",
       "      <td>3I GROUP PLC</td>\n",
       "      <td>United Kingdom</td>\n",
       "      <td>Financial intermediation, except insurance an...</td>\n",
       "      <td>-0.15%</td>\n",
       "      <td>-0.0015</td>\n",
       "    </tr>\n",
       "    <tr>\n",
       "      <th>4</th>\n",
       "      <td>2010</td>\n",
       "      <td>3M COMPANY</td>\n",
       "      <td>United States</td>\n",
       "      <td>Activities of membership organisation n.e.c. ...</td>\n",
       "      <td>-7.90%</td>\n",
       "      <td>-0.0790</td>\n",
       "    </tr>\n",
       "  </tbody>\n",
       "</table>\n",
       "</div>"
      ],
      "text/plain": [
       "   Year         CompanyName           Country  \\\n",
       "0  2016   1&1 DRILLISCH AG           Germany    \n",
       "1  2010       3I GROUP PLC    United Kingdom    \n",
       "2  2011       3I GROUP PLC    United Kingdom    \n",
       "3  2012       3I GROUP PLC    United Kingdom    \n",
       "4  2010         3M COMPANY     United States    \n",
       "\n",
       "                                  Industry(Exiobase)  \\\n",
       "0                  Post and telecommunications (64)    \n",
       "1   Financial intermediation, except insurance an...   \n",
       "2   Financial intermediation, except insurance an...   \n",
       "3   Financial intermediation, except insurance an...   \n",
       "4   Activities of membership organisation n.e.c. ...   \n",
       "\n",
       "  EnvironmentalIntensity(Sales)  Env_intensity  \n",
       "0                        -0.07%        -0.0007  \n",
       "1                        -0.12%        -0.0012  \n",
       "2                        -0.16%        -0.0016  \n",
       "3                        -0.15%        -0.0015  \n",
       "4                        -7.90%        -0.0790  "
      ]
     },
     "execution_count": 19,
     "metadata": {},
     "output_type": "execute_result"
    }
   ],
   "source": [
    "df = df.iloc[:,0:6]\n",
    "df.head()"
   ]
  },
  {
   "cell_type": "code",
   "execution_count": 20,
   "metadata": {
    "id": "martial-stupid",
    "tags": []
   },
   "outputs": [],
   "source": [
    "def percent_to_float(s):\n",
    "    return float(s.strip('%')) / 100.0\n",
    "\n",
    "replace_dict = {'(':'',')':'', ' ' : '', ',' : ''}\n",
    "def paranthesis_to_minus(value):\n",
    "    for i, j in replace_dict.items():\n",
    "        value = value.replace(i, j)\n",
    "    value = int(f'-{value}')\n",
    "    return value\n",
    "\n",
    "df['Env_intensity'] = df['EnvironmentalIntensity(Sales)'].apply(percent_to_float)"
   ]
  },
  {
   "cell_type": "code",
   "execution_count": 21,
   "metadata": {
    "colab": {
     "base_uri": "https://localhost:8080/",
     "height": 289
    },
    "id": "fatal-greek",
    "outputId": "f1e6927f-2061-4f60-b54b-b4e3d007263a"
   },
   "outputs": [
    {
     "data": {
      "text/html": [
       "<div>\n",
       "<style scoped>\n",
       "    .dataframe tbody tr th:only-of-type {\n",
       "        vertical-align: middle;\n",
       "    }\n",
       "\n",
       "    .dataframe tbody tr th {\n",
       "        vertical-align: top;\n",
       "    }\n",
       "\n",
       "    .dataframe thead th {\n",
       "        text-align: right;\n",
       "    }\n",
       "</style>\n",
       "<table border=\"1\" class=\"dataframe\">\n",
       "  <thead>\n",
       "    <tr style=\"text-align: right;\">\n",
       "      <th></th>\n",
       "      <th>Year</th>\n",
       "      <th>CompanyName</th>\n",
       "      <th>Country</th>\n",
       "      <th>Industry(Exiobase)</th>\n",
       "      <th>EnvironmentalIntensity(Sales)</th>\n",
       "      <th>Env_intensity</th>\n",
       "    </tr>\n",
       "  </thead>\n",
       "  <tbody>\n",
       "    <tr>\n",
       "      <th>0</th>\n",
       "      <td>2016</td>\n",
       "      <td>1&amp;1 DRILLISCH AG</td>\n",
       "      <td>Germany</td>\n",
       "      <td>Post and telecommunications (64)</td>\n",
       "      <td>-0.07%</td>\n",
       "      <td>-0.0007</td>\n",
       "    </tr>\n",
       "    <tr>\n",
       "      <th>1</th>\n",
       "      <td>2010</td>\n",
       "      <td>3I GROUP PLC</td>\n",
       "      <td>United Kingdom</td>\n",
       "      <td>Financial intermediation, except insurance an...</td>\n",
       "      <td>-0.12%</td>\n",
       "      <td>-0.0012</td>\n",
       "    </tr>\n",
       "    <tr>\n",
       "      <th>2</th>\n",
       "      <td>2011</td>\n",
       "      <td>3I GROUP PLC</td>\n",
       "      <td>United Kingdom</td>\n",
       "      <td>Financial intermediation, except insurance an...</td>\n",
       "      <td>-0.16%</td>\n",
       "      <td>-0.0016</td>\n",
       "    </tr>\n",
       "    <tr>\n",
       "      <th>3</th>\n",
       "      <td>2012</td>\n",
       "      <td>3I GROUP PLC</td>\n",
       "      <td>United Kingdom</td>\n",
       "      <td>Financial intermediation, except insurance an...</td>\n",
       "      <td>-0.15%</td>\n",
       "      <td>-0.0015</td>\n",
       "    </tr>\n",
       "    <tr>\n",
       "      <th>4</th>\n",
       "      <td>2010</td>\n",
       "      <td>3M COMPANY</td>\n",
       "      <td>United States</td>\n",
       "      <td>Activities of membership organisation n.e.c. ...</td>\n",
       "      <td>-7.90%</td>\n",
       "      <td>-0.0790</td>\n",
       "    </tr>\n",
       "  </tbody>\n",
       "</table>\n",
       "</div>"
      ],
      "text/plain": [
       "   Year         CompanyName           Country  \\\n",
       "0  2016   1&1 DRILLISCH AG           Germany    \n",
       "1  2010       3I GROUP PLC    United Kingdom    \n",
       "2  2011       3I GROUP PLC    United Kingdom    \n",
       "3  2012       3I GROUP PLC    United Kingdom    \n",
       "4  2010         3M COMPANY     United States    \n",
       "\n",
       "                                  Industry(Exiobase)  \\\n",
       "0                  Post and telecommunications (64)    \n",
       "1   Financial intermediation, except insurance an...   \n",
       "2   Financial intermediation, except insurance an...   \n",
       "3   Financial intermediation, except insurance an...   \n",
       "4   Activities of membership organisation n.e.c. ...   \n",
       "\n",
       "  EnvironmentalIntensity(Sales)  Env_intensity  \n",
       "0                        -0.07%        -0.0007  \n",
       "1                        -0.12%        -0.0012  \n",
       "2                        -0.16%        -0.0016  \n",
       "3                        -0.15%        -0.0015  \n",
       "4                        -7.90%        -0.0790  "
      ]
     },
     "execution_count": 21,
     "metadata": {},
     "output_type": "execute_result"
    }
   ],
   "source": [
    "df.head()"
   ]
  },
  {
   "cell_type": "markdown",
   "metadata": {
    "id": "changing-sunday"
   },
   "source": [
    "### Creating industry indicator"
   ]
  },
  {
   "cell_type": "code",
   "execution_count": 22,
   "metadata": {
    "id": "sized-uruguay"
   },
   "outputs": [],
   "source": [
    "industry_avg = df.groupby('Industry(Exiobase)')[['Env_intensity']].mean().reset_index()\n",
    "df['industry_avg'] = df['Env_intensity'].groupby(df['Industry(Exiobase)']).transform('mean')"
   ]
  },
  {
   "cell_type": "code",
   "execution_count": 23,
   "metadata": {
    "colab": {
     "base_uri": "https://localhost:8080/",
     "height": 326
    },
    "id": "explicit-handy",
    "outputId": "e86789cd-670d-4e91-87c2-fd36af125684"
   },
   "outputs": [
    {
     "data": {
      "text/html": [
       "<div>\n",
       "<style scoped>\n",
       "    .dataframe tbody tr th:only-of-type {\n",
       "        vertical-align: middle;\n",
       "    }\n",
       "\n",
       "    .dataframe tbody tr th {\n",
       "        vertical-align: top;\n",
       "    }\n",
       "\n",
       "    .dataframe thead th {\n",
       "        text-align: right;\n",
       "    }\n",
       "</style>\n",
       "<table border=\"1\" class=\"dataframe\">\n",
       "  <thead>\n",
       "    <tr style=\"text-align: right;\">\n",
       "      <th></th>\n",
       "      <th>Year</th>\n",
       "      <th>CompanyName</th>\n",
       "      <th>Country</th>\n",
       "      <th>Industry(Exiobase)</th>\n",
       "      <th>EnvironmentalIntensity(Sales)</th>\n",
       "      <th>Env_intensity</th>\n",
       "      <th>industry_avg</th>\n",
       "      <th>Industry_indicator</th>\n",
       "    </tr>\n",
       "  </thead>\n",
       "  <tbody>\n",
       "    <tr>\n",
       "      <th>0</th>\n",
       "      <td>2016</td>\n",
       "      <td>1&amp;1 DRILLISCH AG</td>\n",
       "      <td>Germany</td>\n",
       "      <td>Post and telecommunications (64)</td>\n",
       "      <td>-0.07%</td>\n",
       "      <td>-0.0007</td>\n",
       "      <td>-0.018382</td>\n",
       "      <td>1</td>\n",
       "    </tr>\n",
       "    <tr>\n",
       "      <th>1</th>\n",
       "      <td>2010</td>\n",
       "      <td>3I GROUP PLC</td>\n",
       "      <td>United Kingdom</td>\n",
       "      <td>Financial intermediation, except insurance an...</td>\n",
       "      <td>-0.12%</td>\n",
       "      <td>-0.0012</td>\n",
       "      <td>-0.020072</td>\n",
       "      <td>1</td>\n",
       "    </tr>\n",
       "    <tr>\n",
       "      <th>2</th>\n",
       "      <td>2011</td>\n",
       "      <td>3I GROUP PLC</td>\n",
       "      <td>United Kingdom</td>\n",
       "      <td>Financial intermediation, except insurance an...</td>\n",
       "      <td>-0.16%</td>\n",
       "      <td>-0.0016</td>\n",
       "      <td>-0.020072</td>\n",
       "      <td>1</td>\n",
       "    </tr>\n",
       "    <tr>\n",
       "      <th>3</th>\n",
       "      <td>2012</td>\n",
       "      <td>3I GROUP PLC</td>\n",
       "      <td>United Kingdom</td>\n",
       "      <td>Financial intermediation, except insurance an...</td>\n",
       "      <td>-0.15%</td>\n",
       "      <td>-0.0015</td>\n",
       "      <td>-0.020072</td>\n",
       "      <td>1</td>\n",
       "    </tr>\n",
       "    <tr>\n",
       "      <th>4</th>\n",
       "      <td>2010</td>\n",
       "      <td>3M COMPANY</td>\n",
       "      <td>United States</td>\n",
       "      <td>Activities of membership organisation n.e.c. ...</td>\n",
       "      <td>-7.90%</td>\n",
       "      <td>-0.0790</td>\n",
       "      <td>-0.117561</td>\n",
       "      <td>1</td>\n",
       "    </tr>\n",
       "  </tbody>\n",
       "</table>\n",
       "</div>"
      ],
      "text/plain": [
       "   Year         CompanyName           Country  \\\n",
       "0  2016   1&1 DRILLISCH AG           Germany    \n",
       "1  2010       3I GROUP PLC    United Kingdom    \n",
       "2  2011       3I GROUP PLC    United Kingdom    \n",
       "3  2012       3I GROUP PLC    United Kingdom    \n",
       "4  2010         3M COMPANY     United States    \n",
       "\n",
       "                                  Industry(Exiobase)  \\\n",
       "0                  Post and telecommunications (64)    \n",
       "1   Financial intermediation, except insurance an...   \n",
       "2   Financial intermediation, except insurance an...   \n",
       "3   Financial intermediation, except insurance an...   \n",
       "4   Activities of membership organisation n.e.c. ...   \n",
       "\n",
       "  EnvironmentalIntensity(Sales)  Env_intensity  industry_avg  \\\n",
       "0                        -0.07%        -0.0007     -0.018382   \n",
       "1                        -0.12%        -0.0012     -0.020072   \n",
       "2                        -0.16%        -0.0016     -0.020072   \n",
       "3                        -0.15%        -0.0015     -0.020072   \n",
       "4                        -7.90%        -0.0790     -0.117561   \n",
       "\n",
       "   Industry_indicator  \n",
       "0                   1  \n",
       "1                   1  \n",
       "2                   1  \n",
       "3                   1  \n",
       "4                   1  "
      ]
     },
     "execution_count": 23,
     "metadata": {},
     "output_type": "execute_result"
    }
   ],
   "source": [
    "def create_ind(df):\n",
    "    if(df['Env_intensity'] > df['industry_avg']):\n",
    "        return 1\n",
    "    elif (df['Env_intensity'] == df['industry_avg']):\n",
    "        return 0\n",
    "    elif (df['Env_intensity'] < df['industry_avg']):\n",
    "        return -1\n",
    "\n",
    "df['Industry_indicator'] = df.apply(create_ind, axis = 1)\n",
    "df.head()"
   ]
  },
  {
   "cell_type": "code",
   "execution_count": 24,
   "metadata": {
    "colab": {
     "base_uri": "https://localhost:8080/",
     "height": 326
    },
    "id": "sixth-haiti",
    "outputId": "d8d35ad2-7a41-489c-81f2-fc437020d276"
   },
   "outputs": [
    {
     "data": {
      "text/html": [
       "<div>\n",
       "<style scoped>\n",
       "    .dataframe tbody tr th:only-of-type {\n",
       "        vertical-align: middle;\n",
       "    }\n",
       "\n",
       "    .dataframe tbody tr th {\n",
       "        vertical-align: top;\n",
       "    }\n",
       "\n",
       "    .dataframe thead th {\n",
       "        text-align: right;\n",
       "    }\n",
       "</style>\n",
       "<table border=\"1\" class=\"dataframe\">\n",
       "  <thead>\n",
       "    <tr style=\"text-align: right;\">\n",
       "      <th></th>\n",
       "      <th>Year</th>\n",
       "      <th>CompanyName</th>\n",
       "      <th>Country</th>\n",
       "      <th>Industry(Exiobase)</th>\n",
       "      <th>EnvironmentalIntensity(Sales)</th>\n",
       "      <th>Env_intensity</th>\n",
       "      <th>industry_avg</th>\n",
       "      <th>Industry_indicator</th>\n",
       "      <th>industry_avg_year</th>\n",
       "      <th>Industry_indicator_year</th>\n",
       "    </tr>\n",
       "  </thead>\n",
       "  <tbody>\n",
       "    <tr>\n",
       "      <th>0</th>\n",
       "      <td>2016</td>\n",
       "      <td>1&amp;1 DRILLISCH AG</td>\n",
       "      <td>Germany</td>\n",
       "      <td>Post and telecommunications (64)</td>\n",
       "      <td>-0.07%</td>\n",
       "      <td>-0.0007</td>\n",
       "      <td>-0.018382</td>\n",
       "      <td>1</td>\n",
       "      <td>-0.011640</td>\n",
       "      <td>1</td>\n",
       "    </tr>\n",
       "    <tr>\n",
       "      <th>1</th>\n",
       "      <td>2010</td>\n",
       "      <td>3I GROUP PLC</td>\n",
       "      <td>United Kingdom</td>\n",
       "      <td>Financial intermediation, except insurance an...</td>\n",
       "      <td>-0.12%</td>\n",
       "      <td>-0.0012</td>\n",
       "      <td>-0.020072</td>\n",
       "      <td>1</td>\n",
       "      <td>-0.006402</td>\n",
       "      <td>1</td>\n",
       "    </tr>\n",
       "    <tr>\n",
       "      <th>2</th>\n",
       "      <td>2011</td>\n",
       "      <td>3I GROUP PLC</td>\n",
       "      <td>United Kingdom</td>\n",
       "      <td>Financial intermediation, except insurance an...</td>\n",
       "      <td>-0.16%</td>\n",
       "      <td>-0.0016</td>\n",
       "      <td>-0.020072</td>\n",
       "      <td>1</td>\n",
       "      <td>-0.009838</td>\n",
       "      <td>1</td>\n",
       "    </tr>\n",
       "    <tr>\n",
       "      <th>3</th>\n",
       "      <td>2012</td>\n",
       "      <td>3I GROUP PLC</td>\n",
       "      <td>United Kingdom</td>\n",
       "      <td>Financial intermediation, except insurance an...</td>\n",
       "      <td>-0.15%</td>\n",
       "      <td>-0.0015</td>\n",
       "      <td>-0.020072</td>\n",
       "      <td>1</td>\n",
       "      <td>-0.024437</td>\n",
       "      <td>1</td>\n",
       "    </tr>\n",
       "    <tr>\n",
       "      <th>4</th>\n",
       "      <td>2010</td>\n",
       "      <td>3M COMPANY</td>\n",
       "      <td>United States</td>\n",
       "      <td>Activities of membership organisation n.e.c. ...</td>\n",
       "      <td>-7.90%</td>\n",
       "      <td>-0.0790</td>\n",
       "      <td>-0.117561</td>\n",
       "      <td>1</td>\n",
       "      <td>-0.084583</td>\n",
       "      <td>1</td>\n",
       "    </tr>\n",
       "  </tbody>\n",
       "</table>\n",
       "</div>"
      ],
      "text/plain": [
       "   Year         CompanyName           Country  \\\n",
       "0  2016   1&1 DRILLISCH AG           Germany    \n",
       "1  2010       3I GROUP PLC    United Kingdom    \n",
       "2  2011       3I GROUP PLC    United Kingdom    \n",
       "3  2012       3I GROUP PLC    United Kingdom    \n",
       "4  2010         3M COMPANY     United States    \n",
       "\n",
       "                                  Industry(Exiobase)  \\\n",
       "0                  Post and telecommunications (64)    \n",
       "1   Financial intermediation, except insurance an...   \n",
       "2   Financial intermediation, except insurance an...   \n",
       "3   Financial intermediation, except insurance an...   \n",
       "4   Activities of membership organisation n.e.c. ...   \n",
       "\n",
       "  EnvironmentalIntensity(Sales)  Env_intensity  industry_avg  \\\n",
       "0                        -0.07%        -0.0007     -0.018382   \n",
       "1                        -0.12%        -0.0012     -0.020072   \n",
       "2                        -0.16%        -0.0016     -0.020072   \n",
       "3                        -0.15%        -0.0015     -0.020072   \n",
       "4                        -7.90%        -0.0790     -0.117561   \n",
       "\n",
       "   Industry_indicator  industry_avg_year  Industry_indicator_year  \n",
       "0                   1          -0.011640                        1  \n",
       "1                   1          -0.006402                        1  \n",
       "2                   1          -0.009838                        1  \n",
       "3                   1          -0.024437                        1  \n",
       "4                   1          -0.084583                        1  "
      ]
     },
     "execution_count": 24,
     "metadata": {},
     "output_type": "execute_result"
    }
   ],
   "source": [
    "def create_ind_year(df):\n",
    "    if(df['Env_intensity'] > df['industry_avg_year']):\n",
    "        return 1\n",
    "    elif (df['Env_intensity'] == df['industry_avg_year']):\n",
    "        return 0\n",
    "    elif (df['Env_intensity'] < df['industry_avg_year']):\n",
    "        return -1\n",
    "\n",
    "df['industry_avg_year'] = df.groupby(['Industry(Exiobase)','Year']).transform('mean')[['Env_intensity']]\n",
    "\n",
    "df['Industry_indicator_year'] = df.apply(create_ind_year, axis = 1)\n",
    "df.head()\n",
    "\n",
    "#df['industry_avg_year']=df.groupby(['Industry(Exiobase)','Year'])['Env_intensity'].mean().reset_index()\n"
   ]
  },
  {
   "cell_type": "code",
   "execution_count": 25,
   "metadata": {
    "colab": {
     "base_uri": "https://localhost:8080/",
     "height": 643
    },
    "id": "relative-factory",
    "outputId": "521df61f-a46b-47b0-a5e7-851aedccfa5b"
   },
   "outputs": [
    {
     "data": {
      "text/html": [
       "<div>\n",
       "<style scoped>\n",
       "    .dataframe tbody tr th:only-of-type {\n",
       "        vertical-align: middle;\n",
       "    }\n",
       "\n",
       "    .dataframe tbody tr th {\n",
       "        vertical-align: top;\n",
       "    }\n",
       "\n",
       "    .dataframe thead th {\n",
       "        text-align: right;\n",
       "    }\n",
       "</style>\n",
       "<table border=\"1\" class=\"dataframe\">\n",
       "  <thead>\n",
       "    <tr style=\"text-align: right;\">\n",
       "      <th></th>\n",
       "      <th>Year</th>\n",
       "      <th>CompanyName</th>\n",
       "      <th>Country</th>\n",
       "      <th>Industry(Exiobase)</th>\n",
       "      <th>EnvironmentalIntensity(Sales)</th>\n",
       "      <th>Env_intensity</th>\n",
       "      <th>industry_avg</th>\n",
       "      <th>Industry_indicator</th>\n",
       "      <th>industry_avg_year</th>\n",
       "      <th>Industry_indicator_year</th>\n",
       "    </tr>\n",
       "  </thead>\n",
       "  <tbody>\n",
       "    <tr>\n",
       "      <th>8166</th>\n",
       "      <td>2016</td>\n",
       "      <td>ADECCO GROUP AG</td>\n",
       "      <td>Switzerland</td>\n",
       "      <td>Activities auxiliary to financial intermediati...</td>\n",
       "      <td>-0.10%</td>\n",
       "      <td>-0.0010</td>\n",
       "      <td>-0.004417</td>\n",
       "      <td>1</td>\n",
       "      <td>-0.007880</td>\n",
       "      <td>1</td>\n",
       "    </tr>\n",
       "    <tr>\n",
       "      <th>14368</th>\n",
       "      <td>2016</td>\n",
       "      <td>WOLTERS KLUWER NV</td>\n",
       "      <td>Netherlands</td>\n",
       "      <td>Activities auxiliary to financial intermediati...</td>\n",
       "      <td>-0.20%</td>\n",
       "      <td>-0.0020</td>\n",
       "      <td>-0.004417</td>\n",
       "      <td>1</td>\n",
       "      <td>-0.007880</td>\n",
       "      <td>1</td>\n",
       "    </tr>\n",
       "    <tr>\n",
       "      <th>14123</th>\n",
       "      <td>2016</td>\n",
       "      <td>VERISK ANALYTICS INCORPORATION</td>\n",
       "      <td>United States</td>\n",
       "      <td>Activities auxiliary to financial intermediati...</td>\n",
       "      <td>-0.21%</td>\n",
       "      <td>-0.0021</td>\n",
       "      <td>-0.004417</td>\n",
       "      <td>1</td>\n",
       "      <td>-0.007880</td>\n",
       "      <td>1</td>\n",
       "    </tr>\n",
       "    <tr>\n",
       "      <th>13738</th>\n",
       "      <td>2016</td>\n",
       "      <td>TELEPERFORMANCE SE</td>\n",
       "      <td>France</td>\n",
       "      <td>Activities auxiliary to financial intermediati...</td>\n",
       "      <td>-1.10%</td>\n",
       "      <td>-0.0110</td>\n",
       "      <td>-0.004417</td>\n",
       "      <td>-1</td>\n",
       "      <td>-0.007880</td>\n",
       "      <td>-1</td>\n",
       "    </tr>\n",
       "    <tr>\n",
       "      <th>12891</th>\n",
       "      <td>2016</td>\n",
       "      <td>SAGA PLC</td>\n",
       "      <td>United Kingdom</td>\n",
       "      <td>Activities auxiliary to financial intermediati...</td>\n",
       "      <td>-2.82%</td>\n",
       "      <td>-0.0282</td>\n",
       "      <td>-0.004417</td>\n",
       "      <td>-1</td>\n",
       "      <td>-0.007880</td>\n",
       "      <td>-1</td>\n",
       "    </tr>\n",
       "    <tr>\n",
       "      <th>...</th>\n",
       "      <td>...</td>\n",
       "      <td>...</td>\n",
       "      <td>...</td>\n",
       "      <td>...</td>\n",
       "      <td>...</td>\n",
       "      <td>...</td>\n",
       "      <td>...</td>\n",
       "      <td>...</td>\n",
       "      <td>...</td>\n",
       "      <td>...</td>\n",
       "    </tr>\n",
       "    <tr>\n",
       "      <th>9736</th>\n",
       "      <td>2019</td>\n",
       "      <td>DKSH HOLDING AG</td>\n",
       "      <td>Switzerland</td>\n",
       "      <td>Activities auxiliary to financial intermediati...</td>\n",
       "      <td>-0.17%</td>\n",
       "      <td>-0.0017</td>\n",
       "      <td>-0.004417</td>\n",
       "      <td>1</td>\n",
       "      <td>0.002943</td>\n",
       "      <td>-1</td>\n",
       "    </tr>\n",
       "    <tr>\n",
       "      <th>10721</th>\n",
       "      <td>2019</td>\n",
       "      <td>HONG KONG EXCHANGES AND CLEARING LIMITED</td>\n",
       "      <td>Hong Kong</td>\n",
       "      <td>Activities auxiliary to financial intermediati...</td>\n",
       "      <td>-0.34%</td>\n",
       "      <td>-0.0034</td>\n",
       "      <td>-0.004417</td>\n",
       "      <td>1</td>\n",
       "      <td>0.002943</td>\n",
       "      <td>-1</td>\n",
       "    </tr>\n",
       "    <tr>\n",
       "      <th>10077</th>\n",
       "      <td>2019</td>\n",
       "      <td>EXPERIAN PLC</td>\n",
       "      <td>United Kingdom</td>\n",
       "      <td>Activities auxiliary to financial intermediati...</td>\n",
       "      <td>-0.20%</td>\n",
       "      <td>-0.0020</td>\n",
       "      <td>-0.004417</td>\n",
       "      <td>1</td>\n",
       "      <td>0.002943</td>\n",
       "      <td>-1</td>\n",
       "    </tr>\n",
       "    <tr>\n",
       "      <th>11536</th>\n",
       "      <td>2019</td>\n",
       "      <td>LONDON STOCK EXCHANGE GROUP PLC</td>\n",
       "      <td>United Kingdom</td>\n",
       "      <td>Activities auxiliary to financial intermediati...</td>\n",
       "      <td>-0.19%</td>\n",
       "      <td>-0.0019</td>\n",
       "      <td>-0.004417</td>\n",
       "      <td>1</td>\n",
       "      <td>0.002943</td>\n",
       "      <td>-1</td>\n",
       "    </tr>\n",
       "    <tr>\n",
       "      <th>9666</th>\n",
       "      <td>2019</td>\n",
       "      <td>DEUTSCHE BOERSE AG</td>\n",
       "      <td>Germany</td>\n",
       "      <td>Activities auxiliary to financial intermediati...</td>\n",
       "      <td>1.88%</td>\n",
       "      <td>0.0188</td>\n",
       "      <td>-0.004417</td>\n",
       "      <td>1</td>\n",
       "      <td>0.002943</td>\n",
       "      <td>1</td>\n",
       "    </tr>\n",
       "  </tbody>\n",
       "</table>\n",
       "<p>93 rows × 10 columns</p>\n",
       "</div>"
      ],
      "text/plain": [
       "       Year                               CompanyName         Country  \\\n",
       "8166   2016                           ADECCO GROUP AG     Switzerland   \n",
       "14368  2016                         WOLTERS KLUWER NV     Netherlands   \n",
       "14123  2016            VERISK ANALYTICS INCORPORATION   United States   \n",
       "13738  2016                        TELEPERFORMANCE SE          France   \n",
       "12891  2016                                  SAGA PLC  United Kingdom   \n",
       "...     ...                                       ...             ...   \n",
       "9736   2019                           DKSH HOLDING AG     Switzerland   \n",
       "10721  2019  HONG KONG EXCHANGES AND CLEARING LIMITED       Hong Kong   \n",
       "10077  2019                              EXPERIAN PLC  United Kingdom   \n",
       "11536  2019           LONDON STOCK EXCHANGE GROUP PLC  United Kingdom   \n",
       "9666   2019                        DEUTSCHE BOERSE AG         Germany   \n",
       "\n",
       "                                      Industry(Exiobase)  \\\n",
       "8166   Activities auxiliary to financial intermediati...   \n",
       "14368  Activities auxiliary to financial intermediati...   \n",
       "14123  Activities auxiliary to financial intermediati...   \n",
       "13738  Activities auxiliary to financial intermediati...   \n",
       "12891  Activities auxiliary to financial intermediati...   \n",
       "...                                                  ...   \n",
       "9736   Activities auxiliary to financial intermediati...   \n",
       "10721  Activities auxiliary to financial intermediati...   \n",
       "10077  Activities auxiliary to financial intermediati...   \n",
       "11536  Activities auxiliary to financial intermediati...   \n",
       "9666   Activities auxiliary to financial intermediati...   \n",
       "\n",
       "      EnvironmentalIntensity(Sales)  Env_intensity  industry_avg  \\\n",
       "8166                         -0.10%        -0.0010     -0.004417   \n",
       "14368                        -0.20%        -0.0020     -0.004417   \n",
       "14123                        -0.21%        -0.0021     -0.004417   \n",
       "13738                        -1.10%        -0.0110     -0.004417   \n",
       "12891                        -2.82%        -0.0282     -0.004417   \n",
       "...                             ...            ...           ...   \n",
       "9736                         -0.17%        -0.0017     -0.004417   \n",
       "10721                        -0.34%        -0.0034     -0.004417   \n",
       "10077                        -0.20%        -0.0020     -0.004417   \n",
       "11536                        -0.19%        -0.0019     -0.004417   \n",
       "9666                          1.88%         0.0188     -0.004417   \n",
       "\n",
       "       Industry_indicator  industry_avg_year  Industry_indicator_year  \n",
       "8166                    1          -0.007880                        1  \n",
       "14368                   1          -0.007880                        1  \n",
       "14123                   1          -0.007880                        1  \n",
       "13738                  -1          -0.007880                       -1  \n",
       "12891                  -1          -0.007880                       -1  \n",
       "...                   ...                ...                      ...  \n",
       "9736                    1           0.002943                       -1  \n",
       "10721                   1           0.002943                       -1  \n",
       "10077                   1           0.002943                       -1  \n",
       "11536                   1           0.002943                       -1  \n",
       "9666                    1           0.002943                        1  \n",
       "\n",
       "[93 rows x 10 columns]"
      ]
     },
     "execution_count": 25,
     "metadata": {},
     "output_type": "execute_result"
    }
   ],
   "source": [
    "df.loc[(df['Industry(Exiobase)'] == 'Activities auxiliary to financial intermediation (67)'),:].sort_values(by='Year')"
   ]
  },
  {
   "cell_type": "markdown",
   "metadata": {
    "id": "rough-conservation"
   },
   "source": [
    "### Creating Environmental growth\n",
    "\n",
    "Environmental Intensity Growth : ((Environmental Intensity in Current Year / Environmental Intensity Last Year) - 1) * 100"
   ]
  },
  {
   "cell_type": "code",
   "execution_count": 26,
   "metadata": {
    "colab": {
     "base_uri": "https://localhost:8080/",
     "height": 326
    },
    "id": "infrared-cincinnati",
    "outputId": "429dc802-919e-4543-8841-81fb34385e04"
   },
   "outputs": [
    {
     "data": {
      "text/html": [
       "<div>\n",
       "<style scoped>\n",
       "    .dataframe tbody tr th:only-of-type {\n",
       "        vertical-align: middle;\n",
       "    }\n",
       "\n",
       "    .dataframe tbody tr th {\n",
       "        vertical-align: top;\n",
       "    }\n",
       "\n",
       "    .dataframe thead th {\n",
       "        text-align: right;\n",
       "    }\n",
       "</style>\n",
       "<table border=\"1\" class=\"dataframe\">\n",
       "  <thead>\n",
       "    <tr style=\"text-align: right;\">\n",
       "      <th></th>\n",
       "      <th>Year</th>\n",
       "      <th>CompanyName</th>\n",
       "      <th>Country</th>\n",
       "      <th>Industry(Exiobase)</th>\n",
       "      <th>EnvironmentalIntensity(Sales)</th>\n",
       "      <th>Env_intensity</th>\n",
       "      <th>industry_avg</th>\n",
       "      <th>Industry_indicator</th>\n",
       "      <th>industry_avg_year</th>\n",
       "      <th>Industry_indicator_year</th>\n",
       "    </tr>\n",
       "  </thead>\n",
       "  <tbody>\n",
       "    <tr>\n",
       "      <th>0</th>\n",
       "      <td>2016</td>\n",
       "      <td>1&amp;1 DRILLISCH AG</td>\n",
       "      <td>Germany</td>\n",
       "      <td>Post and telecommunications (64)</td>\n",
       "      <td>-0.07%</td>\n",
       "      <td>-0.0007</td>\n",
       "      <td>-0.018382</td>\n",
       "      <td>1</td>\n",
       "      <td>-0.011640</td>\n",
       "      <td>1</td>\n",
       "    </tr>\n",
       "    <tr>\n",
       "      <th>1</th>\n",
       "      <td>2010</td>\n",
       "      <td>3I GROUP PLC</td>\n",
       "      <td>United Kingdom</td>\n",
       "      <td>Financial intermediation, except insurance an...</td>\n",
       "      <td>-0.12%</td>\n",
       "      <td>-0.0012</td>\n",
       "      <td>-0.020072</td>\n",
       "      <td>1</td>\n",
       "      <td>-0.006402</td>\n",
       "      <td>1</td>\n",
       "    </tr>\n",
       "    <tr>\n",
       "      <th>2</th>\n",
       "      <td>2011</td>\n",
       "      <td>3I GROUP PLC</td>\n",
       "      <td>United Kingdom</td>\n",
       "      <td>Financial intermediation, except insurance an...</td>\n",
       "      <td>-0.16%</td>\n",
       "      <td>-0.0016</td>\n",
       "      <td>-0.020072</td>\n",
       "      <td>1</td>\n",
       "      <td>-0.009838</td>\n",
       "      <td>1</td>\n",
       "    </tr>\n",
       "    <tr>\n",
       "      <th>3</th>\n",
       "      <td>2012</td>\n",
       "      <td>3I GROUP PLC</td>\n",
       "      <td>United Kingdom</td>\n",
       "      <td>Financial intermediation, except insurance an...</td>\n",
       "      <td>-0.15%</td>\n",
       "      <td>-0.0015</td>\n",
       "      <td>-0.020072</td>\n",
       "      <td>1</td>\n",
       "      <td>-0.024437</td>\n",
       "      <td>1</td>\n",
       "    </tr>\n",
       "    <tr>\n",
       "      <th>4</th>\n",
       "      <td>2010</td>\n",
       "      <td>3M COMPANY</td>\n",
       "      <td>United States</td>\n",
       "      <td>Activities of membership organisation n.e.c. ...</td>\n",
       "      <td>-7.90%</td>\n",
       "      <td>-0.0790</td>\n",
       "      <td>-0.117561</td>\n",
       "      <td>1</td>\n",
       "      <td>-0.084583</td>\n",
       "      <td>1</td>\n",
       "    </tr>\n",
       "  </tbody>\n",
       "</table>\n",
       "</div>"
      ],
      "text/plain": [
       "   Year         CompanyName           Country  \\\n",
       "0  2016   1&1 DRILLISCH AG           Germany    \n",
       "1  2010       3I GROUP PLC    United Kingdom    \n",
       "2  2011       3I GROUP PLC    United Kingdom    \n",
       "3  2012       3I GROUP PLC    United Kingdom    \n",
       "4  2010         3M COMPANY     United States    \n",
       "\n",
       "                                  Industry(Exiobase)  \\\n",
       "0                  Post and telecommunications (64)    \n",
       "1   Financial intermediation, except insurance an...   \n",
       "2   Financial intermediation, except insurance an...   \n",
       "3   Financial intermediation, except insurance an...   \n",
       "4   Activities of membership organisation n.e.c. ...   \n",
       "\n",
       "  EnvironmentalIntensity(Sales)  Env_intensity  industry_avg  \\\n",
       "0                        -0.07%        -0.0007     -0.018382   \n",
       "1                        -0.12%        -0.0012     -0.020072   \n",
       "2                        -0.16%        -0.0016     -0.020072   \n",
       "3                        -0.15%        -0.0015     -0.020072   \n",
       "4                        -7.90%        -0.0790     -0.117561   \n",
       "\n",
       "   Industry_indicator  industry_avg_year  Industry_indicator_year  \n",
       "0                   1          -0.011640                        1  \n",
       "1                   1          -0.006402                        1  \n",
       "2                   1          -0.009838                        1  \n",
       "3                   1          -0.024437                        1  \n",
       "4                   1          -0.084583                        1  "
      ]
     },
     "execution_count": 26,
     "metadata": {},
     "output_type": "execute_result"
    }
   ],
   "source": [
    "df = df.sort_values(by=['CompanyName','Year'], ascending = True)\n",
    "df.head()"
   ]
  },
  {
   "cell_type": "code",
   "execution_count": 27,
   "metadata": {
    "colab": {
     "base_uri": "https://localhost:8080/",
     "height": 326
    },
    "id": "affected-martial",
    "outputId": "d5c6276d-0b1b-4e36-c820-1d2ef9718295"
   },
   "outputs": [
    {
     "data": {
      "text/html": [
       "<div>\n",
       "<style scoped>\n",
       "    .dataframe tbody tr th:only-of-type {\n",
       "        vertical-align: middle;\n",
       "    }\n",
       "\n",
       "    .dataframe tbody tr th {\n",
       "        vertical-align: top;\n",
       "    }\n",
       "\n",
       "    .dataframe thead th {\n",
       "        text-align: right;\n",
       "    }\n",
       "</style>\n",
       "<table border=\"1\" class=\"dataframe\">\n",
       "  <thead>\n",
       "    <tr style=\"text-align: right;\">\n",
       "      <th></th>\n",
       "      <th>Year</th>\n",
       "      <th>CompanyName</th>\n",
       "      <th>Country</th>\n",
       "      <th>Industry(Exiobase)</th>\n",
       "      <th>EnvironmentalIntensity(Sales)</th>\n",
       "      <th>Env_intensity</th>\n",
       "      <th>industry_avg</th>\n",
       "      <th>Industry_indicator</th>\n",
       "      <th>industry_avg_year</th>\n",
       "      <th>Industry_indicator_year</th>\n",
       "      <th>Environmental_Growth</th>\n",
       "    </tr>\n",
       "  </thead>\n",
       "  <tbody>\n",
       "    <tr>\n",
       "      <th>0</th>\n",
       "      <td>2016</td>\n",
       "      <td>1&amp;1 DRILLISCH AG</td>\n",
       "      <td>Germany</td>\n",
       "      <td>Post and telecommunications (64)</td>\n",
       "      <td>-0.07%</td>\n",
       "      <td>-0.0007</td>\n",
       "      <td>-0.018382</td>\n",
       "      <td>1</td>\n",
       "      <td>-0.011640</td>\n",
       "      <td>1</td>\n",
       "      <td>NaN</td>\n",
       "    </tr>\n",
       "    <tr>\n",
       "      <th>1</th>\n",
       "      <td>2010</td>\n",
       "      <td>3I GROUP PLC</td>\n",
       "      <td>United Kingdom</td>\n",
       "      <td>Financial intermediation, except insurance an...</td>\n",
       "      <td>-0.12%</td>\n",
       "      <td>-0.0012</td>\n",
       "      <td>-0.020072</td>\n",
       "      <td>1</td>\n",
       "      <td>-0.006402</td>\n",
       "      <td>1</td>\n",
       "      <td>NaN</td>\n",
       "    </tr>\n",
       "    <tr>\n",
       "      <th>2</th>\n",
       "      <td>2011</td>\n",
       "      <td>3I GROUP PLC</td>\n",
       "      <td>United Kingdom</td>\n",
       "      <td>Financial intermediation, except insurance an...</td>\n",
       "      <td>-0.16%</td>\n",
       "      <td>-0.0016</td>\n",
       "      <td>-0.020072</td>\n",
       "      <td>1</td>\n",
       "      <td>-0.009838</td>\n",
       "      <td>1</td>\n",
       "      <td>33.333333</td>\n",
       "    </tr>\n",
       "    <tr>\n",
       "      <th>3</th>\n",
       "      <td>2012</td>\n",
       "      <td>3I GROUP PLC</td>\n",
       "      <td>United Kingdom</td>\n",
       "      <td>Financial intermediation, except insurance an...</td>\n",
       "      <td>-0.15%</td>\n",
       "      <td>-0.0015</td>\n",
       "      <td>-0.020072</td>\n",
       "      <td>1</td>\n",
       "      <td>-0.024437</td>\n",
       "      <td>1</td>\n",
       "      <td>-6.250000</td>\n",
       "    </tr>\n",
       "    <tr>\n",
       "      <th>4</th>\n",
       "      <td>2010</td>\n",
       "      <td>3M COMPANY</td>\n",
       "      <td>United States</td>\n",
       "      <td>Activities of membership organisation n.e.c. ...</td>\n",
       "      <td>-7.90%</td>\n",
       "      <td>-0.0790</td>\n",
       "      <td>-0.117561</td>\n",
       "      <td>1</td>\n",
       "      <td>-0.084583</td>\n",
       "      <td>1</td>\n",
       "      <td>NaN</td>\n",
       "    </tr>\n",
       "  </tbody>\n",
       "</table>\n",
       "</div>"
      ],
      "text/plain": [
       "   Year         CompanyName           Country  \\\n",
       "0  2016   1&1 DRILLISCH AG           Germany    \n",
       "1  2010       3I GROUP PLC    United Kingdom    \n",
       "2  2011       3I GROUP PLC    United Kingdom    \n",
       "3  2012       3I GROUP PLC    United Kingdom    \n",
       "4  2010         3M COMPANY     United States    \n",
       "\n",
       "                                  Industry(Exiobase)  \\\n",
       "0                  Post and telecommunications (64)    \n",
       "1   Financial intermediation, except insurance an...   \n",
       "2   Financial intermediation, except insurance an...   \n",
       "3   Financial intermediation, except insurance an...   \n",
       "4   Activities of membership organisation n.e.c. ...   \n",
       "\n",
       "  EnvironmentalIntensity(Sales)  Env_intensity  industry_avg  \\\n",
       "0                        -0.07%        -0.0007     -0.018382   \n",
       "1                        -0.12%        -0.0012     -0.020072   \n",
       "2                        -0.16%        -0.0016     -0.020072   \n",
       "3                        -0.15%        -0.0015     -0.020072   \n",
       "4                        -7.90%        -0.0790     -0.117561   \n",
       "\n",
       "   Industry_indicator  industry_avg_year  Industry_indicator_year  \\\n",
       "0                   1          -0.011640                        1   \n",
       "1                   1          -0.006402                        1   \n",
       "2                   1          -0.009838                        1   \n",
       "3                   1          -0.024437                        1   \n",
       "4                   1          -0.084583                        1   \n",
       "\n",
       "   Environmental_Growth  \n",
       "0                   NaN  \n",
       "1                   NaN  \n",
       "2             33.333333  \n",
       "3             -6.250000  \n",
       "4                   NaN  "
      ]
     },
     "execution_count": 27,
     "metadata": {},
     "output_type": "execute_result"
    }
   ],
   "source": [
    "df['Environmental_Growth'] = df.groupby(['CompanyName'])['Env_intensity'].apply(lambda x: x.pct_change()).to_numpy() * 100\n",
    "df.head()"
   ]
  },
  {
   "cell_type": "markdown",
   "metadata": {
    "id": "searching-sentence"
   },
   "source": [
    "### Model 1 - Past years Environmental Intensity"
   ]
  },
  {
   "cell_type": "code",
   "execution_count": 53,
   "metadata": {},
   "outputs": [],
   "source": [
    "df1 = pd.read_csv('Sprint #6/Environmental_Impact_dataset.csv')\n"
   ]
  },
  {
   "cell_type": "code",
   "execution_count": 54,
   "metadata": {},
   "outputs": [],
   "source": [
    "def p2f(x):\n",
    "    return float(x.strip('%'))/100\n",
    "df1['EnvironmentalIntensity(Sales)'] = df1['EnvironmentalIntensity(Sales)'].apply(p2f)"
   ]
  },
  {
   "cell_type": "code",
   "execution_count": 55,
   "metadata": {
    "id": "sexual-cricket"
   },
   "outputs": [
    {
     "name": "stdout",
     "output_type": "stream",
     "text": [
      "R2 score: 0.8825319170790614\n",
      "MSE:  0.010786739663931547\n"
     ]
    }
   ],
   "source": [
    "companies_2018 = list(df1[df1['Year'] == 2018]['CompanyName'])\n",
    "companies_2019 = list(df1[(df1['Year'] == 2019) & (df1['CompanyName'].isin(companies_2018))]['CompanyName'])\n",
    "\n",
    "#Getting companies that are in both years\n",
    "list2018_as_set = set(companies_2018)\n",
    "intersection = list2018_as_set.intersection(companies_2019)\n",
    "\n",
    "X = df1[(df1['Year'] == 2018) & (df1['CompanyName'].isin(intersection))][['EnvironmentalIntensity(Sales)']]\n",
    "y = df1[(df1['Year'] == 2019) & (df1['CompanyName'].isin(intersection))][['EnvironmentalIntensity(Sales)']]\n",
    "\n",
    "X_train, X_test, y_train, y_test = train_test_split(\n",
    "    X, y, test_size=0.33, random_state=42)\n",
    "\n",
    "\n",
    "reg = LinearRegression().fit(X_train, y_train)\n",
    "\n",
    "y_pred = reg.predict(X_test)\n",
    "\n",
    "print('R2 score:', metrics.r2_score(y_test, y_pred))\n",
    "print('MSE: ', metrics.mean_squared_error(y_test, y_pred))\n"
   ]
  },
  {
   "cell_type": "markdown",
   "metadata": {
    "id": "accepting-petroleum"
   },
   "source": [
    "### Model 2 - Past years average environmental intensity"
   ]
  },
  {
   "cell_type": "markdown",
   "metadata": {
    "id": "dxbOWA7XksAU"
   },
   "source": [
    "# Using average environmental intensity of year 2016-2018 to predict 2019"
   ]
  },
  {
   "cell_type": "code",
   "execution_count": 30,
   "metadata": {
    "id": "_YGP4UMRv-Vt"
   },
   "outputs": [],
   "source": [
    "import pandas as pd\n",
    "import numpy as np\n",
    "import seaborn as sns\n",
    "import matplotlib.pyplot as plt\n",
    "import statsmodels.api as sm\n",
    "from sklearn.preprocessing import StandardScaler\n",
    "from sklearn.metrics import mean_squared_error\n",
    "from sklearn.model_selection import train_test_split\n",
    "from sklearn.linear_model import LinearRegression, Lasso\n",
    "from sklearn.metrics import r2_score"
   ]
  },
  {
   "cell_type": "code",
   "execution_count": 36,
   "metadata": {
    "colab": {
     "base_uri": "https://localhost:8080/",
     "height": 382
    },
    "id": "BZIe0Y92wQgf",
    "outputId": "f013cef9-e361-46af-8c3e-4dec9fd6532c"
   },
   "outputs": [
    {
     "data": {
      "text/html": [
       "<div>\n",
       "<style scoped>\n",
       "    .dataframe tbody tr th:only-of-type {\n",
       "        vertical-align: middle;\n",
       "    }\n",
       "\n",
       "    .dataframe tbody tr th {\n",
       "        vertical-align: top;\n",
       "    }\n",
       "\n",
       "    .dataframe thead th {\n",
       "        text-align: right;\n",
       "    }\n",
       "</style>\n",
       "<table border=\"1\" class=\"dataframe\">\n",
       "  <thead>\n",
       "    <tr style=\"text-align: right;\">\n",
       "      <th></th>\n",
       "      <th>Unnamed: 0</th>\n",
       "      <th>ISIN</th>\n",
       "      <th>Year</th>\n",
       "      <th>CompanyName</th>\n",
       "      <th>Country</th>\n",
       "      <th>Industry(Exiobase)</th>\n",
       "      <th>EnvironmentalIntensity(Sales)</th>\n",
       "      <th>EnvironmentalIntensity(OpInc)</th>\n",
       "      <th>TotalEnvironmentalCost</th>\n",
       "      <th>WorkingCapacity</th>\n",
       "      <th>...</th>\n",
       "      <th>SDG15.5</th>\n",
       "      <th>%Imputed</th>\n",
       "      <th>gvkey</th>\n",
       "      <th>fyear</th>\n",
       "      <th>datadate</th>\n",
       "      <th>at</th>\n",
       "      <th>isin</th>\n",
       "      <th>conm</th>\n",
       "      <th>fic</th>\n",
       "      <th>sic</th>\n",
       "    </tr>\n",
       "  </thead>\n",
       "  <tbody>\n",
       "    <tr>\n",
       "      <th>0</th>\n",
       "      <td>0</td>\n",
       "      <td>MYL1818OO003</td>\n",
       "      <td>2019</td>\n",
       "      <td>BURSA MALAYSIA BHD</td>\n",
       "      <td>Malaysia</td>\n",
       "      <td>Activities auxiliary to financial intermediati...</td>\n",
       "      <td>-1.68%</td>\n",
       "      <td>-3.47%</td>\n",
       "      <td>(1,968,379)</td>\n",
       "      <td>(1,924,910)</td>\n",
       "      <td>...</td>\n",
       "      <td>(79)</td>\n",
       "      <td>4%</td>\n",
       "      <td>272691</td>\n",
       "      <td>2019</td>\n",
       "      <td>20191231</td>\n",
       "      <td>2321.040</td>\n",
       "      <td>MYL1818OO003</td>\n",
       "      <td>BURSA MALAYSIA BHD</td>\n",
       "      <td>MYS</td>\n",
       "      <td>6200.0</td>\n",
       "    </tr>\n",
       "    <tr>\n",
       "      <th>1</th>\n",
       "      <td>1</td>\n",
       "      <td>GB0031638363</td>\n",
       "      <td>2019</td>\n",
       "      <td>INTERTEK GROUP PLC</td>\n",
       "      <td>United Kingdom</td>\n",
       "      <td>Activities auxiliary to financial intermediati...</td>\n",
       "      <td>-1.53%</td>\n",
       "      <td>-9.49%</td>\n",
       "      <td>(60,599,272)</td>\n",
       "      <td>(59,281,663)</td>\n",
       "      <td>...</td>\n",
       "      <td>(2,470)</td>\n",
       "      <td>1%</td>\n",
       "      <td>252384</td>\n",
       "      <td>2019</td>\n",
       "      <td>20191231</td>\n",
       "      <td>2818.400</td>\n",
       "      <td>GB0031638363</td>\n",
       "      <td>INTERTEK GROUP PLC</td>\n",
       "      <td>GBR</td>\n",
       "      <td>8700.0</td>\n",
       "    </tr>\n",
       "    <tr>\n",
       "      <th>2</th>\n",
       "      <td>2</td>\n",
       "      <td>ZAE000079711</td>\n",
       "      <td>2019</td>\n",
       "      <td>JSE LIMITED</td>\n",
       "      <td>South Africa</td>\n",
       "      <td>Activities auxiliary to financial intermediati...</td>\n",
       "      <td>-1.46%</td>\n",
       "      <td>NaN</td>\n",
       "      <td>(2,290,124)</td>\n",
       "      <td>(2,239,814)</td>\n",
       "      <td>...</td>\n",
       "      <td>(93)</td>\n",
       "      <td>2%</td>\n",
       "      <td>278391</td>\n",
       "      <td>2019</td>\n",
       "      <td>20191231</td>\n",
       "      <td>40227.215</td>\n",
       "      <td>ZAE000079711</td>\n",
       "      <td>JSE LIMITED</td>\n",
       "      <td>ZAF</td>\n",
       "      <td>6211.0</td>\n",
       "    </tr>\n",
       "    <tr>\n",
       "      <th>3</th>\n",
       "      <td>3</td>\n",
       "      <td>FR0006174348</td>\n",
       "      <td>2019</td>\n",
       "      <td>BUREAU VERITAS SA</td>\n",
       "      <td>France</td>\n",
       "      <td>Activities auxiliary to financial intermediati...</td>\n",
       "      <td>-0.70%</td>\n",
       "      <td>-5.10%</td>\n",
       "      <td>(39,978,650)</td>\n",
       "      <td>(39,107,612)</td>\n",
       "      <td>...</td>\n",
       "      <td>(1,633)</td>\n",
       "      <td>3%</td>\n",
       "      <td>286961</td>\n",
       "      <td>2019</td>\n",
       "      <td>20191231</td>\n",
       "      <td>7049.100</td>\n",
       "      <td>FR0006174348</td>\n",
       "      <td>BUREAU VERITAS SA</td>\n",
       "      <td>FRA</td>\n",
       "      <td>8700.0</td>\n",
       "    </tr>\n",
       "    <tr>\n",
       "      <th>4</th>\n",
       "      <td>4</td>\n",
       "      <td>GB0007370074</td>\n",
       "      <td>2019</td>\n",
       "      <td>RICARDO PLC</td>\n",
       "      <td>United Kingdom</td>\n",
       "      <td>Activities auxiliary to financial intermediati...</td>\n",
       "      <td>-0.67%</td>\n",
       "      <td>-7.27%</td>\n",
       "      <td>(3,247,235)</td>\n",
       "      <td>(3,176,408)</td>\n",
       "      <td>...</td>\n",
       "      <td>(133)</td>\n",
       "      <td>3%</td>\n",
       "      <td>221859</td>\n",
       "      <td>2019</td>\n",
       "      <td>20190630</td>\n",
       "      <td>371.900</td>\n",
       "      <td>GB0007370074</td>\n",
       "      <td>RICARDO PLC</td>\n",
       "      <td>GBR</td>\n",
       "      <td>8711.0</td>\n",
       "    </tr>\n",
       "  </tbody>\n",
       "</table>\n",
       "<p>5 rows × 43 columns</p>\n",
       "</div>"
      ],
      "text/plain": [
       "   Unnamed: 0          ISIN  Year         CompanyName         Country  \\\n",
       "0           0  MYL1818OO003  2019  BURSA MALAYSIA BHD        Malaysia   \n",
       "1           1  GB0031638363  2019  INTERTEK GROUP PLC  United Kingdom   \n",
       "2           2  ZAE000079711  2019         JSE LIMITED    South Africa   \n",
       "3           3  FR0006174348  2019   BUREAU VERITAS SA          France   \n",
       "4           4  GB0007370074  2019         RICARDO PLC  United Kingdom   \n",
       "\n",
       "                                  Industry(Exiobase)  \\\n",
       "0  Activities auxiliary to financial intermediati...   \n",
       "1  Activities auxiliary to financial intermediati...   \n",
       "2  Activities auxiliary to financial intermediati...   \n",
       "3  Activities auxiliary to financial intermediati...   \n",
       "4  Activities auxiliary to financial intermediati...   \n",
       "\n",
       "  EnvironmentalIntensity(Sales) EnvironmentalIntensity(OpInc)  \\\n",
       "0                        -1.68%                        -3.47%   \n",
       "1                        -1.53%                        -9.49%   \n",
       "2                        -1.46%                           NaN   \n",
       "3                        -0.70%                        -5.10%   \n",
       "4                        -0.67%                        -7.27%   \n",
       "\n",
       "  TotalEnvironmentalCost WorkingCapacity  ...   SDG15.5 %Imputed   gvkey  \\\n",
       "0            (1,968,379)     (1,924,910)  ...      (79)       4%  272691   \n",
       "1           (60,599,272)    (59,281,663)  ...   (2,470)       1%  252384   \n",
       "2            (2,290,124)     (2,239,814)  ...      (93)       2%  278391   \n",
       "3           (39,978,650)    (39,107,612)  ...   (1,633)       3%  286961   \n",
       "4            (3,247,235)     (3,176,408)  ...     (133)       3%  221859   \n",
       "\n",
       "  fyear  datadate         at          isin                conm  fic     sic  \n",
       "0  2019  20191231   2321.040  MYL1818OO003  BURSA MALAYSIA BHD  MYS  6200.0  \n",
       "1  2019  20191231   2818.400  GB0031638363  INTERTEK GROUP PLC  GBR  8700.0  \n",
       "2  2019  20191231  40227.215  ZAE000079711         JSE LIMITED  ZAF  6211.0  \n",
       "3  2019  20191231   7049.100  FR0006174348   BUREAU VERITAS SA  FRA  8700.0  \n",
       "4  2019  20190630    371.900  GB0007370074         RICARDO PLC  GBR  8711.0  \n",
       "\n",
       "[5 rows x 43 columns]"
      ]
     },
     "execution_count": 36,
     "metadata": {},
     "output_type": "execute_result"
    }
   ],
   "source": [
    "df=pd.read_csv('Datasets/EE-ISIN_merged.csv')\n",
    "df.head()"
   ]
  },
  {
   "cell_type": "code",
   "execution_count": 38,
   "metadata": {
    "id": "duiTSV2mwdCg"
   },
   "outputs": [],
   "source": [
    "def p2f(x):\n",
    "    return float(x.strip('%'))/100\n",
    "df['EnvironmentalIntensity(Sales)'] = df['EnvironmentalIntensity(Sales)'].apply(p2f)"
   ]
  },
  {
   "cell_type": "markdown",
   "metadata": {
    "id": "xxyHrxbb2g4i"
   },
   "source": [
    "Get the average of Environmental Intensity of 2018\n",
    "\n",
    "---\n",
    "\n"
   ]
  },
  {
   "cell_type": "code",
   "execution_count": 39,
   "metadata": {
    "colab": {
     "base_uri": "https://localhost:8080/"
    },
    "id": "bQpOS_Iv2gHI",
    "outputId": "a86aec74-acd6-4d61-dec3-9464f32f848c"
   },
   "outputs": [
    {
     "name": "stdout",
     "output_type": "stream",
     "text": [
      "0       -0.103059\n",
      "1       -0.103059\n",
      "2       -0.103059\n",
      "3       -0.103059\n",
      "4       -0.103059\n",
      "           ...   \n",
      "10991   -0.103059\n",
      "10992   -0.103059\n",
      "10993   -0.103059\n",
      "10994   -0.103059\n",
      "10995   -0.103059\n",
      "Name: average2018, Length: 10996, dtype: float64\n"
     ]
    }
   ],
   "source": [
    "EI_2018 = df[df['Year'] == 2018]\n",
    "df1=list(EI_2018['EnvironmentalIntensity(Sales)'])\n",
    "def Average(lst):\n",
    "    return sum(lst) / len(lst)\n",
    "df['average2018']=Average(df1)\n",
    "print(df['average2018'])"
   ]
  },
  {
   "cell_type": "markdown",
   "metadata": {
    "id": "__6Dfs-97Ru1"
   },
   "source": [
    "Get the average of Enviornmental Intensity of 2017 and 2016"
   ]
  },
  {
   "cell_type": "code",
   "execution_count": 40,
   "metadata": {
    "id": "AKIQT5857iTf"
   },
   "outputs": [],
   "source": [
    "EI_2017 = df[df['Year'] == 2017]\n",
    "df2=list(EI_2017['EnvironmentalIntensity(Sales)'])\n",
    "EI_2016 = df[df['Year'] == 2016] \n",
    "df3=list(EI_2016['EnvironmentalIntensity(Sales)'])"
   ]
  },
  {
   "cell_type": "code",
   "execution_count": 41,
   "metadata": {
    "colab": {
     "base_uri": "https://localhost:8080/"
    },
    "id": "4_mTZIgG8emD",
    "outputId": "7cce98dc-222e-4299-846e-6bedab854d54"
   },
   "outputs": [
    {
     "name": "stdout",
     "output_type": "stream",
     "text": [
      "0       -0.104129\n",
      "1       -0.104129\n",
      "2       -0.104129\n",
      "3       -0.104129\n",
      "4       -0.104129\n",
      "           ...   \n",
      "10991   -0.104129\n",
      "10992   -0.104129\n",
      "10993   -0.104129\n",
      "10994   -0.104129\n",
      "10995   -0.104129\n",
      "Name: average2017, Length: 10996, dtype: float64\n",
      "0       -0.10526\n",
      "1       -0.10526\n",
      "2       -0.10526\n",
      "3       -0.10526\n",
      "4       -0.10526\n",
      "          ...   \n",
      "10991   -0.10526\n",
      "10992   -0.10526\n",
      "10993   -0.10526\n",
      "10994   -0.10526\n",
      "10995   -0.10526\n",
      "Name: average2016, Length: 10996, dtype: float64\n"
     ]
    }
   ],
   "source": [
    "df['average2017']=Average(df2)\n",
    "print(df['average2017'])\n",
    "df['average2016']=Average(df3)\n",
    "print(df['average2016'])"
   ]
  },
  {
   "cell_type": "code",
   "execution_count": 42,
   "metadata": {
    "colab": {
     "base_uri": "https://localhost:8080/",
     "height": 423
    },
    "id": "in_nsSSq-OJk",
    "outputId": "c538531b-c3c4-4985-e66b-5ee9b40396a9"
   },
   "outputs": [
    {
     "data": {
      "text/html": [
       "<div>\n",
       "<style scoped>\n",
       "    .dataframe tbody tr th:only-of-type {\n",
       "        vertical-align: middle;\n",
       "    }\n",
       "\n",
       "    .dataframe tbody tr th {\n",
       "        vertical-align: top;\n",
       "    }\n",
       "\n",
       "    .dataframe thead th {\n",
       "        text-align: right;\n",
       "    }\n",
       "</style>\n",
       "<table border=\"1\" class=\"dataframe\">\n",
       "  <thead>\n",
       "    <tr style=\"text-align: right;\">\n",
       "      <th></th>\n",
       "      <th>average2018</th>\n",
       "      <th>average2017</th>\n",
       "      <th>average2016</th>\n",
       "    </tr>\n",
       "  </thead>\n",
       "  <tbody>\n",
       "    <tr>\n",
       "      <th>0</th>\n",
       "      <td>-0.103059</td>\n",
       "      <td>-0.104129</td>\n",
       "      <td>-0.10526</td>\n",
       "    </tr>\n",
       "    <tr>\n",
       "      <th>1</th>\n",
       "      <td>-0.103059</td>\n",
       "      <td>-0.104129</td>\n",
       "      <td>-0.10526</td>\n",
       "    </tr>\n",
       "    <tr>\n",
       "      <th>2</th>\n",
       "      <td>-0.103059</td>\n",
       "      <td>-0.104129</td>\n",
       "      <td>-0.10526</td>\n",
       "    </tr>\n",
       "    <tr>\n",
       "      <th>3</th>\n",
       "      <td>-0.103059</td>\n",
       "      <td>-0.104129</td>\n",
       "      <td>-0.10526</td>\n",
       "    </tr>\n",
       "    <tr>\n",
       "      <th>4</th>\n",
       "      <td>-0.103059</td>\n",
       "      <td>-0.104129</td>\n",
       "      <td>-0.10526</td>\n",
       "    </tr>\n",
       "    <tr>\n",
       "      <th>...</th>\n",
       "      <td>...</td>\n",
       "      <td>...</td>\n",
       "      <td>...</td>\n",
       "    </tr>\n",
       "    <tr>\n",
       "      <th>10991</th>\n",
       "      <td>-0.103059</td>\n",
       "      <td>-0.104129</td>\n",
       "      <td>-0.10526</td>\n",
       "    </tr>\n",
       "    <tr>\n",
       "      <th>10992</th>\n",
       "      <td>-0.103059</td>\n",
       "      <td>-0.104129</td>\n",
       "      <td>-0.10526</td>\n",
       "    </tr>\n",
       "    <tr>\n",
       "      <th>10993</th>\n",
       "      <td>-0.103059</td>\n",
       "      <td>-0.104129</td>\n",
       "      <td>-0.10526</td>\n",
       "    </tr>\n",
       "    <tr>\n",
       "      <th>10994</th>\n",
       "      <td>-0.103059</td>\n",
       "      <td>-0.104129</td>\n",
       "      <td>-0.10526</td>\n",
       "    </tr>\n",
       "    <tr>\n",
       "      <th>10995</th>\n",
       "      <td>-0.103059</td>\n",
       "      <td>-0.104129</td>\n",
       "      <td>-0.10526</td>\n",
       "    </tr>\n",
       "  </tbody>\n",
       "</table>\n",
       "<p>10996 rows × 3 columns</p>\n",
       "</div>"
      ],
      "text/plain": [
       "       average2018  average2017  average2016\n",
       "0        -0.103059    -0.104129     -0.10526\n",
       "1        -0.103059    -0.104129     -0.10526\n",
       "2        -0.103059    -0.104129     -0.10526\n",
       "3        -0.103059    -0.104129     -0.10526\n",
       "4        -0.103059    -0.104129     -0.10526\n",
       "...            ...          ...          ...\n",
       "10991    -0.103059    -0.104129     -0.10526\n",
       "10992    -0.103059    -0.104129     -0.10526\n",
       "10993    -0.103059    -0.104129     -0.10526\n",
       "10994    -0.103059    -0.104129     -0.10526\n",
       "10995    -0.103059    -0.104129     -0.10526\n",
       "\n",
       "[10996 rows x 3 columns]"
      ]
     },
     "execution_count": 42,
     "metadata": {},
     "output_type": "execute_result"
    }
   ],
   "source": [
    "df[['average2018','average2017','average2016']]"
   ]
  },
  {
   "cell_type": "code",
   "execution_count": 43,
   "metadata": {
    "colab": {
     "base_uri": "https://localhost:8080/"
    },
    "id": "fNHFpKF_bZPc",
    "outputId": "3421dd20-dc17-48df-f877-33f66573c150"
   },
   "outputs": [
    {
     "data": {
      "text/plain": [
       "0      -0.0168\n",
       "1      -0.0153\n",
       "2      -0.0146\n",
       "3      -0.0070\n",
       "4      -0.0067\n",
       "         ...  \n",
       "1057   -0.0135\n",
       "1058   -0.0033\n",
       "1059   -0.0008\n",
       "1060   -0.0006\n",
       "1061   -0.0004\n",
       "Name: EnvironmentalIntensity(Sales), Length: 1062, dtype: float64"
      ]
     },
     "execution_count": 43,
     "metadata": {},
     "output_type": "execute_result"
    }
   ],
   "source": [
    "EI_2019 = df[df['Year'] == 2019]\n",
    "EI_2019.head()\n",
    "EI_2019['EnvironmentalIntensity(Sales)']"
   ]
  },
  {
   "cell_type": "code",
   "execution_count": 44,
   "metadata": {
    "id": "vrAY_LtVhvvW"
   },
   "outputs": [],
   "source": [
    "EI_2019['average2016']=Average(df3)\n",
    "EI_2019['average2017']=Average(df2)\n",
    "EI_2019['average2018']=Average(df1)"
   ]
  },
  {
   "cell_type": "code",
   "execution_count": 45,
   "metadata": {
    "id": "WcOIj39s8huR"
   },
   "outputs": [],
   "source": [
    "y = EI_2019['EnvironmentalIntensity(Sales)']\n",
    "X= EI_2019[['average2018','average2017','average2016']]\n",
    "x_train, x_test, y_train, y_test = train_test_split(X ,y, test_size = 0.2, random_state = 42)"
   ]
  },
  {
   "cell_type": "code",
   "execution_count": 46,
   "metadata": {
    "colab": {
     "base_uri": "https://localhost:8080/"
    },
    "id": "cE-SMlrk-gvM",
    "outputId": "17c006a1-b389-47ba-fba9-c5e05be1d737"
   },
   "outputs": [
    {
     "data": {
      "text/plain": [
       "LinearRegression()"
      ]
     },
     "execution_count": 46,
     "metadata": {},
     "output_type": "execute_result"
    }
   ],
   "source": [
    "# train Linear Regression\n",
    "LRtrainer = LinearRegression()\n",
    "LRtrainer.fit(x_train,y_train)"
   ]
  },
  {
   "cell_type": "code",
   "execution_count": 47,
   "metadata": {
    "colab": {
     "base_uri": "https://localhost:8080/"
    },
    "id": "bJqvZ6bs-lW9",
    "outputId": "0dee563c-5db7-4d99-bc1c-05ca9d6a7371"
   },
   "outputs": [
    {
     "name": "stdout",
     "output_type": "stream",
     "text": [
      "0.11142058821571742\n"
     ]
    }
   ],
   "source": [
    "# mse for linear regression\n",
    "y_pred_lr = LRtrainer.predict(x_test)\n",
    "print(mean_squared_error(y_pred_lr, y_test))"
   ]
  },
  {
   "cell_type": "code",
   "execution_count": 48,
   "metadata": {
    "colab": {
     "base_uri": "https://localhost:8080/"
    },
    "id": "Dp014ChZ_U3D",
    "outputId": "baf22962-2225-4312-fa3c-69be1cb3eb6c"
   },
   "outputs": [
    {
     "name": "stdout",
     "output_type": "stream",
     "text": [
      "Model intercept:  -0.09598583321284727\n",
      "Model coefficients:  [ 0.          0.46993413 -0.15664471]\n"
     ]
    }
   ],
   "source": [
    "# display the parameters\n",
    "print('Model intercept: ', LRtrainer.intercept_)\n",
    "print('Model coefficients: ', LRtrainer.coef_)"
   ]
  },
  {
   "cell_type": "code",
   "execution_count": 49,
   "metadata": {
    "colab": {
     "base_uri": "https://localhost:8080/"
    },
    "id": "UtZBGdmdaBz8",
    "outputId": "3527dfc8-4526-4185-d607-6d9f3cb5e8ab"
   },
   "outputs": [
    {
     "name": "stdout",
     "output_type": "stream",
     "text": [
      "R2 score: -2.098252643123466e-05\n"
     ]
    }
   ],
   "source": [
    "print('R2 score:', r2_score(y_test, y_pred_lr))"
   ]
  },
  {
   "cell_type": "markdown",
   "metadata": {
    "id": "double-visit"
   },
   "source": [
    "### Model 3 - Yearly Industry Average\n",
    "\n",
    "For this model, the predictor will be the industry average for the respective year. \n",
    "There is no data for 2020, so we plan to predict 2019 environmental intensity.  Accordingly, we used 2018 and 2017 Industry data (past data) to predict 2019 evronmental intensity. "
   ]
  },
  {
   "cell_type": "code",
   "execution_count": 50,
   "metadata": {
    "id": "intense-principal",
    "outputId": "2104fed9-7233-43be-fcca-f8d87f9314d4"
   },
   "outputs": [
    {
     "data": {
      "text/plain": [
       "<matplotlib.axes._subplots.AxesSubplot at 0x15d6093ce48>"
      ]
     },
     "execution_count": 50,
     "metadata": {},
     "output_type": "execute_result"
    },
    {
     "data": {
      "image/png": "[encoded data removed]",
      "text/plain": [
       "<Figure size 432x288 with 1 Axes>"
      ]
     },
     "metadata": {
      "needs_background": "light"
     },
     "output_type": "display_data"
    }
   ],
   "source": [
    "sns.countplot(x='Year', data = df)"
   ]
  },
  {
   "cell_type": "markdown",
   "metadata": {
    "id": "fleet-columbia"
   },
   "source": [
    "The dataset does not contain consistent records throught out the years. Therefore, it could be possible we have data for one company in 2019 but not data from that company in 2018, 2017, etc. \n",
    "\n",
    "We will start by only using 2018 industry average as a feature to predict 2019 environmental intensity. First, we will subset the companies that we have 2018 data and get their 2019 environmental intensity."
   ]
  },
  {
   "cell_type": "code",
   "execution_count": 57,
   "metadata": {},
   "outputs": [
    {
     "data": {
      "text/plain": [
       "Index(['Unnamed: 0_x', 'ISIN_x', 'Year_x', 'CompanyName', 'Country_x',\n",
       "       'Industry(Exiobase)_x', 'EnvironmentalIntensity(Sales)_x',\n",
       "       'EnvironmentalIntensity(OpInc)_x', 'TotalEnvironmentalCost_x',\n",
       "       'WorkingCapacity_x', 'FishProductionCapacity_x',\n",
       "       'CropProductionCapacity_x', 'MeatProductionCapacity_x',\n",
       "       'Biodiversity_x', 'AbioticResources_x',\n",
       "       'Waterproductioncapacity(Drinkingwater&IrrigationWater)_x',\n",
       "       'WoodProductionCapacity_x', 'SDG1.5_x', 'SDG2.1_x', 'SDG2.2_x',\n",
       "       'SDG2.3_x', 'SDG2.4_x', 'SDG3.3_x', 'SDG3.4_x', 'SDG3.9_x', 'SDG6_x',\n",
       "       'SDG12.2_x', 'SDG14.1_x', 'SDG14.2_x', 'SDG14.3_x', 'SDG14.c_x',\n",
       "       'SDG15.1_x', 'SDG15.2_x', 'SDG15.5_x', '%Imputed_x', 'gvkey_x',\n",
       "       'fyear_x', 'datadate_x', 'at_x', 'isin_x', 'conm_x', 'fic_x', 'sic_x',\n",
       "       'average2018_x', 'average2017_x', 'average2016_x', 'Unnamed: 0_y',\n",
       "       'ISIN_y', 'Year_y', 'Country_y', 'Industry(Exiobase)_y',\n",
       "       'EnvironmentalIntensity(Sales)_y', 'EnvironmentalIntensity(OpInc)_y',\n",
       "       'TotalEnvironmentalCost_y', 'WorkingCapacity_y',\n",
       "       'FishProductionCapacity_y', 'CropProductionCapacity_y',\n",
       "       'MeatProductionCapacity_y', 'Biodiversity_y', 'AbioticResources_y',\n",
       "       'Waterproductioncapacity(Drinkingwater&IrrigationWater)_y',\n",
       "       'WoodProductionCapacity_y', 'SDG1.5_y', 'SDG2.1_y', 'SDG2.2_y',\n",
       "       'SDG2.3_y', 'SDG2.4_y', 'SDG3.3_y', 'SDG3.4_y', 'SDG3.9_y', 'SDG6_y',\n",
       "       'SDG12.2_y', 'SDG14.1_y', 'SDG14.2_y', 'SDG14.3_y', 'SDG14.c_y',\n",
       "       'SDG15.1_y', 'SDG15.2_y', 'SDG15.5_y', '%Imputed_y', 'gvkey_y',\n",
       "       'fyear_y', 'datadate_y', 'at_y', 'isin_y', 'conm_y', 'fic_y', 'sic_y',\n",
       "       'average2018_y', 'average2017_y', 'average2016_y'],\n",
       "      dtype='object')"
      ]
     },
     "execution_count": 57,
     "metadata": {},
     "output_type": "execute_result"
    }
   ],
   "source": [
    "df_mod3.columns"
   ]
  },
  {
   "cell_type": "code",
   "execution_count": 56,
   "metadata": {
    "id": "classical-publicity",
    "outputId": "db3dd13b-a86a-412f-e713-8a565f3f51ef"
   },
   "outputs": [
    {
     "ename": "KeyError",
     "evalue": "\"['industry_avg_year_x', 'Env_intensity_y'] not in index\"",
     "output_type": "error",
     "traceback": [
      "\u001b[1;31m---------------------------------------------------------------------------\u001b[0m",
      "\u001b[1;31mKeyError\u001b[0m                                  Traceback (most recent call last)",
      "\u001b[1;32m<ipython-input-56-9c3dc59711cf>\u001b[0m in \u001b[0;36m<module>\u001b[1;34m\u001b[0m\n\u001b[0;32m      2\u001b[0m \u001b[0mdf_2019\u001b[0m \u001b[1;33m=\u001b[0m \u001b[0mdf\u001b[0m\u001b[1;33m.\u001b[0m\u001b[0mloc\u001b[0m\u001b[1;33m[\u001b[0m\u001b[0mdf\u001b[0m\u001b[1;33m.\u001b[0m\u001b[0mYear\u001b[0m \u001b[1;33m==\u001b[0m \u001b[1;36m2019\u001b[0m\u001b[1;33m,\u001b[0m \u001b[1;33m]\u001b[0m\u001b[1;33m\u001b[0m\u001b[1;33m\u001b[0m\u001b[0m\n\u001b[0;32m      3\u001b[0m \u001b[0mdf_mod3\u001b[0m \u001b[1;33m=\u001b[0m \u001b[0mpd\u001b[0m\u001b[1;33m.\u001b[0m\u001b[0mmerge\u001b[0m\u001b[1;33m(\u001b[0m\u001b[0mdf_2018\u001b[0m\u001b[1;33m,\u001b[0m \u001b[0mdf_2019\u001b[0m\u001b[1;33m,\u001b[0m \u001b[0mon\u001b[0m\u001b[1;33m=\u001b[0m\u001b[1;34m'CompanyName'\u001b[0m\u001b[1;33m,\u001b[0m\u001b[0mhow\u001b[0m\u001b[1;33m=\u001b[0m\u001b[1;34m'inner'\u001b[0m\u001b[1;33m)\u001b[0m\u001b[1;33m\u001b[0m\u001b[1;33m\u001b[0m\u001b[0m\n\u001b[1;32m----> 4\u001b[1;33m \u001b[0mdf_mod3\u001b[0m \u001b[1;33m=\u001b[0m \u001b[0mdf_mod3\u001b[0m\u001b[1;33m[\u001b[0m\u001b[1;33m[\u001b[0m\u001b[1;34m'Year_x'\u001b[0m\u001b[1;33m,\u001b[0m\u001b[1;34m'CompanyName'\u001b[0m\u001b[1;33m,\u001b[0m\u001b[1;34m'industry_avg_year_x'\u001b[0m\u001b[1;33m,\u001b[0m\u001b[1;34m'Year_y'\u001b[0m\u001b[1;33m,\u001b[0m\u001b[1;34m'Env_intensity_y'\u001b[0m\u001b[1;33m]\u001b[0m\u001b[1;33m]\u001b[0m\u001b[1;33m\u001b[0m\u001b[1;33m\u001b[0m\u001b[0m\n\u001b[0m\u001b[0;32m      5\u001b[0m \u001b[0mdf_mod3\u001b[0m\u001b[1;33m.\u001b[0m\u001b[0mhead\u001b[0m\u001b[1;33m(\u001b[0m\u001b[1;33m)\u001b[0m\u001b[1;33m\u001b[0m\u001b[1;33m\u001b[0m\u001b[0m\n",
      "\u001b[1;32m~\\Anaconda3\\lib\\site-packages\\pandas\\core\\frame.py\u001b[0m in \u001b[0;36m__getitem__\u001b[1;34m(self, key)\u001b[0m\n\u001b[0;32m   2910\u001b[0m             \u001b[1;32mif\u001b[0m \u001b[0mis_iterator\u001b[0m\u001b[1;33m(\u001b[0m\u001b[0mkey\u001b[0m\u001b[1;33m)\u001b[0m\u001b[1;33m:\u001b[0m\u001b[1;33m\u001b[0m\u001b[1;33m\u001b[0m\u001b[0m\n\u001b[0;32m   2911\u001b[0m                 \u001b[0mkey\u001b[0m \u001b[1;33m=\u001b[0m \u001b[0mlist\u001b[0m\u001b[1;33m(\u001b[0m\u001b[0mkey\u001b[0m\u001b[1;33m)\u001b[0m\u001b[1;33m\u001b[0m\u001b[1;33m\u001b[0m\u001b[0m\n\u001b[1;32m-> 2912\u001b[1;33m             \u001b[0mindexer\u001b[0m \u001b[1;33m=\u001b[0m \u001b[0mself\u001b[0m\u001b[1;33m.\u001b[0m\u001b[0mloc\u001b[0m\u001b[1;33m.\u001b[0m\u001b[0m_get_listlike_indexer\u001b[0m\u001b[1;33m(\u001b[0m\u001b[0mkey\u001b[0m\u001b[1;33m,\u001b[0m \u001b[0maxis\u001b[0m\u001b[1;33m=\u001b[0m\u001b[1;36m1\u001b[0m\u001b[1;33m,\u001b[0m \u001b[0mraise_missing\u001b[0m\u001b[1;33m=\u001b[0m\u001b[1;32mTrue\u001b[0m\u001b[1;33m)\u001b[0m\u001b[1;33m[\u001b[0m\u001b[1;36m1\u001b[0m\u001b[1;33m]\u001b[0m\u001b[1;33m\u001b[0m\u001b[1;33m\u001b[0m\u001b[0m\n\u001b[0m\u001b[0;32m   2913\u001b[0m \u001b[1;33m\u001b[0m\u001b[0m\n\u001b[0;32m   2914\u001b[0m         \u001b[1;31m# take() does not accept boolean indexers\u001b[0m\u001b[1;33m\u001b[0m\u001b[1;33m\u001b[0m\u001b[1;33m\u001b[0m\u001b[0m\n",
      "\u001b[1;32m~\\Anaconda3\\lib\\site-packages\\pandas\\core\\indexing.py\u001b[0m in \u001b[0;36m_get_listlike_indexer\u001b[1;34m(self, key, axis, raise_missing)\u001b[0m\n\u001b[0;32m   1252\u001b[0m             \u001b[0mkeyarr\u001b[0m\u001b[1;33m,\u001b[0m \u001b[0mindexer\u001b[0m\u001b[1;33m,\u001b[0m \u001b[0mnew_indexer\u001b[0m \u001b[1;33m=\u001b[0m \u001b[0max\u001b[0m\u001b[1;33m.\u001b[0m\u001b[0m_reindex_non_unique\u001b[0m\u001b[1;33m(\u001b[0m\u001b[0mkeyarr\u001b[0m\u001b[1;33m)\u001b[0m\u001b[1;33m\u001b[0m\u001b[1;33m\u001b[0m\u001b[0m\n\u001b[0;32m   1253\u001b[0m \u001b[1;33m\u001b[0m\u001b[0m\n\u001b[1;32m-> 1254\u001b[1;33m         \u001b[0mself\u001b[0m\u001b[1;33m.\u001b[0m\u001b[0m_validate_read_indexer\u001b[0m\u001b[1;33m(\u001b[0m\u001b[0mkeyarr\u001b[0m\u001b[1;33m,\u001b[0m \u001b[0mindexer\u001b[0m\u001b[1;33m,\u001b[0m \u001b[0maxis\u001b[0m\u001b[1;33m,\u001b[0m \u001b[0mraise_missing\u001b[0m\u001b[1;33m=\u001b[0m\u001b[0mraise_missing\u001b[0m\u001b[1;33m)\u001b[0m\u001b[1;33m\u001b[0m\u001b[1;33m\u001b[0m\u001b[0m\n\u001b[0m\u001b[0;32m   1255\u001b[0m         \u001b[1;32mreturn\u001b[0m \u001b[0mkeyarr\u001b[0m\u001b[1;33m,\u001b[0m \u001b[0mindexer\u001b[0m\u001b[1;33m\u001b[0m\u001b[1;33m\u001b[0m\u001b[0m\n\u001b[0;32m   1256\u001b[0m \u001b[1;33m\u001b[0m\u001b[0m\n",
      "\u001b[1;32m~\\Anaconda3\\lib\\site-packages\\pandas\\core\\indexing.py\u001b[0m in \u001b[0;36m_validate_read_indexer\u001b[1;34m(self, key, indexer, axis, raise_missing)\u001b[0m\n\u001b[0;32m   1302\u001b[0m             \u001b[1;32mif\u001b[0m \u001b[0mraise_missing\u001b[0m\u001b[1;33m:\u001b[0m\u001b[1;33m\u001b[0m\u001b[1;33m\u001b[0m\u001b[0m\n\u001b[0;32m   1303\u001b[0m                 \u001b[0mnot_found\u001b[0m \u001b[1;33m=\u001b[0m \u001b[0mlist\u001b[0m\u001b[1;33m(\u001b[0m\u001b[0mset\u001b[0m\u001b[1;33m(\u001b[0m\u001b[0mkey\u001b[0m\u001b[1;33m)\u001b[0m \u001b[1;33m-\u001b[0m \u001b[0mset\u001b[0m\u001b[1;33m(\u001b[0m\u001b[0max\u001b[0m\u001b[1;33m)\u001b[0m\u001b[1;33m)\u001b[0m\u001b[1;33m\u001b[0m\u001b[1;33m\u001b[0m\u001b[0m\n\u001b[1;32m-> 1304\u001b[1;33m                 \u001b[1;32mraise\u001b[0m \u001b[0mKeyError\u001b[0m\u001b[1;33m(\u001b[0m\u001b[1;34mf\"{not_found} not in index\"\u001b[0m\u001b[1;33m)\u001b[0m\u001b[1;33m\u001b[0m\u001b[1;33m\u001b[0m\u001b[0m\n\u001b[0m\u001b[0;32m   1305\u001b[0m \u001b[1;33m\u001b[0m\u001b[0m\n\u001b[0;32m   1306\u001b[0m             \u001b[1;31m# we skip the warning on Categorical\u001b[0m\u001b[1;33m\u001b[0m\u001b[1;33m\u001b[0m\u001b[1;33m\u001b[0m\u001b[0m\n",
      "\u001b[1;31mKeyError\u001b[0m: \"['industry_avg_year_x', 'Env_intensity_y'] not in index\""
     ]
    }
   ],
   "source": [
    "df_2018 = df.loc[df.Year == 2018, ]\n",
    "df_2019 = df.loc[df.Year == 2019, ]\n",
    "df_mod3 = pd.merge(df_2018, df_2019, on='CompanyName',how='inner')\n",
    "df_mod3 = df_mod3[['Year_x','CompanyName','industry_avg_year_x','Year_y','Env_intensity_y']]\n",
    "df_mod3.head()"
   ]
  },
  {
   "cell_type": "code",
   "execution_count": null,
   "metadata": {
    "id": "angry-chemistry",
    "outputId": "352c2a7c-9b36-40db-e5eb-802d36bca107"
   },
   "outputs": [],
   "source": [
    "X = df_mod3[['industry_avg_year_x']]\n",
    "y = df_mod3.iloc[:,4]\n",
    "print(X.shape)\n",
    "print(y.shape)"
   ]
  },
  {
   "cell_type": "markdown",
   "metadata": {
    "id": "detailed-serial"
   },
   "source": [
    "## Now run the regression and interpret the results\n",
    "\n",
    "We will do the same thing but now including 2016-2018 to predict 2019"
   ]
  },
  {
   "cell_type": "code",
   "execution_count": null,
   "metadata": {
    "id": "sharing-giant"
   },
   "outputs": [],
   "source": [
    "df_2016 = df.loc[df.Year == 2016, ]\n",
    "df_2017 = df.loc[df.Year == 2017, ]\n",
    "df1 = df_2016.merge(df_2017, how='inner', on='CompanyName', suffixes=('_2016', '_2017'))\n",
    "df1 = df1.merge(df_2018, how='inner', on='CompanyName')\n",
    "df1 = df1.merge(df_2019, how='inner', on='CompanyName', suffixes=('_2018', '_2019'))\n",
    "df1 = df1[['Year_2016','industry_avg_year_2016','Year_2017','industry_avg_year_2017','Year_2018','industry_avg_year_2018','Year_2019','Env_intensity_2019']]"
   ]
  },
  {
   "cell_type": "code",
   "execution_count": null,
   "metadata": {
    "id": "verified-nudist",
    "outputId": "3a9bf2ef-8b52-42da-e6c8-538ef0963026"
   },
   "outputs": [],
   "source": [
    "# filter_col = [col for col in df1 if col.startswith('industry_avg_year')]\n",
    "# filter_col\n",
    "df1.head()"
   ]
  },
  {
   "cell_type": "code",
   "execution_count": null,
   "metadata": {
    "id": "rapid-following",
    "outputId": "b3631c99-6f74-4d73-bd47-4139cabe41d4"
   },
   "outputs": [],
   "source": [
    "X = df1[['industry_avg_year_2016','industry_avg_year_2017','industry_avg_year_2018']]\n",
    "y = df1.iloc[:,7]\n",
    "print(X.shape)\n",
    "print(y.shape)"
   ]
  },
  {
   "cell_type": "markdown",
   "metadata": {
    "id": "tamil-telling"
   },
   "source": [
    "## Now run the regression and interpret the results"
   ]
  },
  {
   "cell_type": "code",
   "execution_count": null,
   "metadata": {
    "id": "innocent-knock"
   },
   "outputs": [],
   "source": [
    "df_2020=df[df['Year'] == 2020]\n",
    "print(df_2020)\n",
    ".\n",
    "df_2018=df[df['Year'] == 2018]\n",
    "df_2017=df[df['Year'] == 2017]\n",
    "\n",
    "print(df_2018.info())\n",
    "print(df_2017.info())"
   ]
  },
  {
   "cell_type": "code",
   "execution_count": null,
   "metadata": {
    "id": "employed-garlic"
   },
   "outputs": [],
   "source": [
    "#Build up model dataframe with EnvironmentalIntensity2019, Ind_Yearavg2018, Ind_Yearavg2017\n",
    "df_2019=df[df['Year'] == 2019]\n",
    "df2019=df_2019[['Year','CompanyName','Env_intensity']] \n",
    "df2019.rename(columns={'Env_intensity': 'Env_intensity2019'}, inplace=True) \n",
    "df2018=df_2018[['CompanyName','industry_avg_year']]\n",
    "df2018.rename(columns={'industry_avg_year': 'Ind_Yearavg2018'}, inplace=True) \n",
    "df2017=df_2017[['CompanyName','industry_avg_year']]\n",
    "df2017.rename(columns={'industry_avg_year': 'Ind_Yearavg2017'}, inplace=True) \n",
    "mdl = pd.merge(df2019, df2018, on=[\"CompanyName\"])\n",
    "mdl1= pd.merge(mdl, df2017, on=[\"CompanyName\"])\n",
    "mdl1"
   ]
  },
  {
   "cell_type": "code",
   "execution_count": null,
   "metadata": {
    "id": "finished-boundary"
   },
   "outputs": [],
   "source": [
    "X=mdl1[['Ind_Yearavg2018','Ind_Yearavg2017']]\n",
    "y=mdl1['Env_intensity2019']"
   ]
  },
  {
   "cell_type": "code",
   "execution_count": null,
   "metadata": {
    "id": "ethical-democrat"
   },
   "outputs": [],
   "source": [
    "regr = linear_model.LinearRegression()\n",
    "X_train, X_test, y_train, y_test = train_test_split(X,y,test_size=0.2,random_state=42)\n",
    "regr.fit(X_train, y_train)\n",
    "y_train_pred = np.exp(regr.predict(X_train))\n",
    "y_pred = np.exp(regr.predict(X_test))\n",
    "y_test = np.exp(y_test)"
   ]
  },
  {
   "cell_type": "code",
   "execution_count": null,
   "metadata": {
    "id": "adopted-pioneer"
   },
   "outputs": [],
   "source": [
    "print('MSE train: %.3f, test: %.3f' % (metrics.mean_squared_error(y_train, y_train_pred),\n",
    "                metrics.mean_squared_error(y_test, y_pred)))"
   ]
  },
  {
   "cell_type": "markdown",
   "metadata": {
    "id": "eligible-state"
   },
   "source": [
    "### Model 4 -Yearly Industry Indicator"
   ]
  },
  {
   "cell_type": "code",
   "execution_count": null,
   "metadata": {
    "id": "assured-navigation"
   },
   "outputs": [],
   "source": [
    "X=df[['Industry_indicator_year']]\n",
    "y=df['Env_intensity']"
   ]
  },
  {
   "cell_type": "code",
   "execution_count": null,
   "metadata": {
    "id": "unsigned-playlist"
   },
   "outputs": [],
   "source": [
    "regr = linear_model.LinearRegression()\n",
    "X_train, X_test, y_train, y_test = train_test_split(X,y,test_size=0.2,random_state=42)\n",
    "regr.fit(X_train, y_train)\n",
    "y_train_pred = np.exp(regr.predict(X_train))\n",
    "y_pred = np.exp(regr.predict(X_test))\n",
    "y_test = np.exp(y_test)"
   ]
  },
  {
   "cell_type": "code",
   "execution_count": null,
   "metadata": {
    "id": "annual-cooper"
   },
   "outputs": [],
   "source": [
    "print('MSE train: %.3f, test: %.3f' % (metrics.mean_squared_error(y_train, y_train_pred),\n",
    "                metrics.mean_squared_error(y_test, y_pred)))"
   ]
  },
  {
   "cell_type": "markdown",
   "metadata": {
    "id": "comparative-ballet"
   },
   "source": [
    "### Model 5 -Growth Rate"
   ]
  },
  {
   "cell_type": "code",
   "execution_count": null,
   "metadata": {
    "id": "dietary-kinase"
   },
   "outputs": [],
   "source": [
    "X=df[['Environmental_Growth']]\n",
    "y=df['Env_intensity']"
   ]
  },
  {
   "cell_type": "code",
   "execution_count": null,
   "metadata": {
    "id": "proprietary-workshop"
   },
   "outputs": [],
   "source": [
    "model_df = df[['Env_intensity','Environmental_Growth']].copy()\n",
    "model_df.dropna(inplace = True)\n",
    "\n",
    "x = model_df[['Env_intensity','Environmental_Growth']]\n",
    "y = model_df['Env_intensity']\n",
    "X_train, X_test, y_train, y_test = train_test_split(x, y, test_size=0.20, random_state=42)\n",
    "reg = LinearRegression().fit(X_train, y_train)\n",
    "\n",
    "y_train_pred = np.exp(reg.predict(X_train))\n",
    "y_pred = np.exp(reg.predict(X_test))\n",
    "y_test = np.exp(y_test)"
   ]
  },
  {
   "cell_type": "code",
   "execution_count": null,
   "metadata": {
    "id": "amino-magnet"
   },
   "outputs": [],
   "source": [
    "print('MSE train: %.3f, test: %.3f' % (metrics.mean_squared_error(y_train, y_train_pred),\n",
    "                metrics.mean_squared_error(y_test, y_pred)))"
   ]
  }
 ],
 "metadata": {
  "colab": {
   "name": "Sprint6_PredictingTimeSeries2.ipynb",
   "provenance": []
  },
  "kernelspec": {
   "display_name": "Python 3",
   "language": "python",
   "name": "python3"
  },
  "language_info": {
   "codemirror_mode": {
    "name": "ipython",
    "version": 3
   },
   "file_extension": ".py",
   "mimetype": "text/x-python",
   "name": "python",
   "nbconvert_exporter": "python",
   "pygments_lexer": "ipython3",
   "version": "3.7.4"
  }
 },
 "nbformat": 4,
 "nbformat_minor": 5
}
