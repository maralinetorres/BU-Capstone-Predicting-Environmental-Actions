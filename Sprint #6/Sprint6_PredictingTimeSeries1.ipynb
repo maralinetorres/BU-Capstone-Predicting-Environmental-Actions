{
  "nbformat": 4,
  "nbformat_minor": 5,
  "metadata": {
    "kernelspec": {
      "display_name": "Python 3",
      "language": "python",
      "name": "python3"
    },
    "language_info": {
      "codemirror_mode": {
        "name": "ipython",
        "version": 3
      },
      "file_extension": ".py",
      "mimetype": "text/x-python",
      "name": "python",
      "nbconvert_exporter": "python",
      "pygments_lexer": "ipython3",
      "version": "3.8.8"
    },
    "colab": {
      "name": "Sprint6_PredictingTimeSeries.ipynb",
      "provenance": []
    }
  },
  "cells": [
    {
      "cell_type": "markdown",
      "metadata": {
        "id": "persistent-following"
      },
      "source": [
        "# Sprint 6 - Predicting future environmental intensity (Time Series)\n",
        "\n",
        "In this notebook, we will predict future environmental intensity for all the companies in the 'Excel data'. We will be using data from previous years to predict the future environmental intesity. \n",
        "\n",
        "First, we will create the following columns:\n",
        "\n",
        "1) Industry Indicator\n",
        "- 1 if above the industry average in current year\n",
        "- 0 if at industry average in current yeat\n",
        "- (-1) if below the industry average in current year\n",
        "2) Environmental Intensity Growth : ((Environmental Intensity in Current Year / Environmental Intensity Last Year) - 1) * 100"
      ],
      "id": "persistent-following"
    },
    {
      "cell_type": "code",
      "metadata": {
        "id": "wound-assurance"
      },
      "source": [
        "import pandas as pd\n",
        "import numpy as np\n",
        "import seaborn as sns\n",
        "import matplotlib.pyplot as plt\n",
        "import missingno as msno\n",
        "import warnings\n",
        "from sklearn import linear_model\n",
        "from sklearn import metrics\n",
        "from sklearn.linear_model import LinearRegression\n",
        "from sklearn.model_selection import train_test_split\n",
        "warnings.filterwarnings('ignore')"
      ],
      "id": "wound-assurance",
      "execution_count": 49,
      "outputs": []
    },
    {
      "cell_type": "code",
      "metadata": {
        "colab": {
          "base_uri": "https://localhost:8080/",
          "height": 247
        },
        "id": "mental-excellence",
        "outputId": "d5357b43-2e16-4fa6-bea1-a7037313d5d4"
      },
      "source": [
        "df = pd.read_csv('Environmental_Impact_dataset.csv')\n",
        "column_list = []\n",
        "for column in df.columns:\n",
        "    column_list.append(column.replace(' ', ''))\n",
        "df.columns = column_list\n",
        "print(f'The dataset has {df.shape[0]} rows and {df.shape[1]} columns')\n",
        "df.head(3)"
      ],
      "id": "mental-excellence",
      "execution_count": 14,
      "outputs": [
        {
          "output_type": "stream",
          "text": [
            "The dataset has 14515 rows and 9 columns\n"
          ],
          "name": "stdout"
        },
        {
          "output_type": "execute_result",
          "data": {
            "text/html": [
              "<div>\n",
              "<style scoped>\n",
              "    .dataframe tbody tr th:only-of-type {\n",
              "        vertical-align: middle;\n",
              "    }\n",
              "\n",
              "    .dataframe tbody tr th {\n",
              "        vertical-align: top;\n",
              "    }\n",
              "\n",
              "    .dataframe thead th {\n",
              "        text-align: right;\n",
              "    }\n",
              "</style>\n",
              "<table border=\"1\" class=\"dataframe\">\n",
              "  <thead>\n",
              "    <tr style=\"text-align: right;\">\n",
              "      <th></th>\n",
              "      <th>Year</th>\n",
              "      <th>CompanyName</th>\n",
              "      <th>Country</th>\n",
              "      <th>Industry(Exiobase)</th>\n",
              "      <th>EnvironmentalIntensity(Sales)</th>\n",
              "      <th>Env_intensity</th>\n",
              "      <th>industry_avg</th>\n",
              "      <th>Industry_indicator</th>\n",
              "      <th>Environmental_Growth</th>\n",
              "    </tr>\n",
              "  </thead>\n",
              "  <tbody>\n",
              "    <tr>\n",
              "      <th>0</th>\n",
              "      <td>2016</td>\n",
              "      <td>1&amp;1 DRILLISCH AG</td>\n",
              "      <td>Germany</td>\n",
              "      <td>Post and telecommunications (64)</td>\n",
              "      <td>-0.07%</td>\n",
              "      <td>-0.0007</td>\n",
              "      <td>-0.018382</td>\n",
              "      <td>1</td>\n",
              "      <td>NaN</td>\n",
              "    </tr>\n",
              "    <tr>\n",
              "      <th>1</th>\n",
              "      <td>2010</td>\n",
              "      <td>3I GROUP PLC</td>\n",
              "      <td>United Kingdom</td>\n",
              "      <td>Financial intermediation, except insurance an...</td>\n",
              "      <td>-0.12%</td>\n",
              "      <td>-0.0012</td>\n",
              "      <td>-0.020072</td>\n",
              "      <td>1</td>\n",
              "      <td>NaN</td>\n",
              "    </tr>\n",
              "    <tr>\n",
              "      <th>2</th>\n",
              "      <td>2011</td>\n",
              "      <td>3I GROUP PLC</td>\n",
              "      <td>United Kingdom</td>\n",
              "      <td>Financial intermediation, except insurance an...</td>\n",
              "      <td>-0.16%</td>\n",
              "      <td>-0.0016</td>\n",
              "      <td>-0.020072</td>\n",
              "      <td>1</td>\n",
              "      <td>33.333333</td>\n",
              "    </tr>\n",
              "  </tbody>\n",
              "</table>\n",
              "</div>"
            ],
            "text/plain": [
              "   Year         CompanyName  ... Industry_indicator Environmental_Growth\n",
              "0  2016   1&1 DRILLISCH AG   ...                  1                  NaN\n",
              "1  2010       3I GROUP PLC   ...                  1                  NaN\n",
              "2  2011       3I GROUP PLC   ...                  1            33.333333\n",
              "\n",
              "[3 rows x 9 columns]"
            ]
          },
          "metadata": {
            "tags": []
          },
          "execution_count": 14
        }
      ]
    },
    {
      "cell_type": "code",
      "metadata": {
        "colab": {
          "base_uri": "https://localhost:8080/",
          "height": 289
        },
        "id": "future-cornell",
        "outputId": "d6dab181-fe86-47af-99a6-4516d19fa3af"
      },
      "source": [
        "df = df.iloc[:,0:6]\n",
        "df.head()"
      ],
      "id": "future-cornell",
      "execution_count": 15,
      "outputs": [
        {
          "output_type": "execute_result",
          "data": {
            "text/html": [
              "<div>\n",
              "<style scoped>\n",
              "    .dataframe tbody tr th:only-of-type {\n",
              "        vertical-align: middle;\n",
              "    }\n",
              "\n",
              "    .dataframe tbody tr th {\n",
              "        vertical-align: top;\n",
              "    }\n",
              "\n",
              "    .dataframe thead th {\n",
              "        text-align: right;\n",
              "    }\n",
              "</style>\n",
              "<table border=\"1\" class=\"dataframe\">\n",
              "  <thead>\n",
              "    <tr style=\"text-align: right;\">\n",
              "      <th></th>\n",
              "      <th>Year</th>\n",
              "      <th>CompanyName</th>\n",
              "      <th>Country</th>\n",
              "      <th>Industry(Exiobase)</th>\n",
              "      <th>EnvironmentalIntensity(Sales)</th>\n",
              "      <th>Env_intensity</th>\n",
              "    </tr>\n",
              "  </thead>\n",
              "  <tbody>\n",
              "    <tr>\n",
              "      <th>0</th>\n",
              "      <td>2016</td>\n",
              "      <td>1&amp;1 DRILLISCH AG</td>\n",
              "      <td>Germany</td>\n",
              "      <td>Post and telecommunications (64)</td>\n",
              "      <td>-0.07%</td>\n",
              "      <td>-0.0007</td>\n",
              "    </tr>\n",
              "    <tr>\n",
              "      <th>1</th>\n",
              "      <td>2010</td>\n",
              "      <td>3I GROUP PLC</td>\n",
              "      <td>United Kingdom</td>\n",
              "      <td>Financial intermediation, except insurance an...</td>\n",
              "      <td>-0.12%</td>\n",
              "      <td>-0.0012</td>\n",
              "    </tr>\n",
              "    <tr>\n",
              "      <th>2</th>\n",
              "      <td>2011</td>\n",
              "      <td>3I GROUP PLC</td>\n",
              "      <td>United Kingdom</td>\n",
              "      <td>Financial intermediation, except insurance an...</td>\n",
              "      <td>-0.16%</td>\n",
              "      <td>-0.0016</td>\n",
              "    </tr>\n",
              "    <tr>\n",
              "      <th>3</th>\n",
              "      <td>2012</td>\n",
              "      <td>3I GROUP PLC</td>\n",
              "      <td>United Kingdom</td>\n",
              "      <td>Financial intermediation, except insurance an...</td>\n",
              "      <td>-0.15%</td>\n",
              "      <td>-0.0015</td>\n",
              "    </tr>\n",
              "    <tr>\n",
              "      <th>4</th>\n",
              "      <td>2010</td>\n",
              "      <td>3M COMPANY</td>\n",
              "      <td>United States</td>\n",
              "      <td>Activities of membership organisation n.e.c. ...</td>\n",
              "      <td>-7.90%</td>\n",
              "      <td>-0.0790</td>\n",
              "    </tr>\n",
              "  </tbody>\n",
              "</table>\n",
              "</div>"
            ],
            "text/plain": [
              "   Year         CompanyName  ... EnvironmentalIntensity(Sales) Env_intensity\n",
              "0  2016   1&1 DRILLISCH AG   ...                        -0.07%       -0.0007\n",
              "1  2010       3I GROUP PLC   ...                        -0.12%       -0.0012\n",
              "2  2011       3I GROUP PLC   ...                        -0.16%       -0.0016\n",
              "3  2012       3I GROUP PLC   ...                        -0.15%       -0.0015\n",
              "4  2010         3M COMPANY   ...                        -7.90%       -0.0790\n",
              "\n",
              "[5 rows x 6 columns]"
            ]
          },
          "metadata": {
            "tags": []
          },
          "execution_count": 15
        }
      ]
    },
    {
      "cell_type": "code",
      "metadata": {
        "tags": [],
        "id": "national-avenue"
      },
      "source": [
        "def percent_to_float(s):\n",
        "    return float(s.strip('%')) / 100.0\n",
        "\n",
        "replace_dict = {'(':'',')':'', ' ' : '', ',' : ''}\n",
        "def paranthesis_to_minus(value):\n",
        "    for i, j in replace_dict.items():\n",
        "        value = value.replace(i, j)\n",
        "    value = int(f'-{value}')\n",
        "    return value\n",
        "\n",
        "df['Env_intensity'] = df['EnvironmentalIntensity(Sales)'].apply(percent_to_float)"
      ],
      "id": "national-avenue",
      "execution_count": 16,
      "outputs": []
    },
    {
      "cell_type": "code",
      "metadata": {
        "colab": {
          "base_uri": "https://localhost:8080/",
          "height": 289
        },
        "id": "first-surgery",
        "outputId": "f1e6927f-2061-4f60-b54b-b4e3d007263a"
      },
      "source": [
        "df.head()"
      ],
      "id": "first-surgery",
      "execution_count": 17,
      "outputs": [
        {
          "output_type": "execute_result",
          "data": {
            "text/html": [
              "<div>\n",
              "<style scoped>\n",
              "    .dataframe tbody tr th:only-of-type {\n",
              "        vertical-align: middle;\n",
              "    }\n",
              "\n",
              "    .dataframe tbody tr th {\n",
              "        vertical-align: top;\n",
              "    }\n",
              "\n",
              "    .dataframe thead th {\n",
              "        text-align: right;\n",
              "    }\n",
              "</style>\n",
              "<table border=\"1\" class=\"dataframe\">\n",
              "  <thead>\n",
              "    <tr style=\"text-align: right;\">\n",
              "      <th></th>\n",
              "      <th>Year</th>\n",
              "      <th>CompanyName</th>\n",
              "      <th>Country</th>\n",
              "      <th>Industry(Exiobase)</th>\n",
              "      <th>EnvironmentalIntensity(Sales)</th>\n",
              "      <th>Env_intensity</th>\n",
              "    </tr>\n",
              "  </thead>\n",
              "  <tbody>\n",
              "    <tr>\n",
              "      <th>0</th>\n",
              "      <td>2016</td>\n",
              "      <td>1&amp;1 DRILLISCH AG</td>\n",
              "      <td>Germany</td>\n",
              "      <td>Post and telecommunications (64)</td>\n",
              "      <td>-0.07%</td>\n",
              "      <td>-0.0007</td>\n",
              "    </tr>\n",
              "    <tr>\n",
              "      <th>1</th>\n",
              "      <td>2010</td>\n",
              "      <td>3I GROUP PLC</td>\n",
              "      <td>United Kingdom</td>\n",
              "      <td>Financial intermediation, except insurance an...</td>\n",
              "      <td>-0.12%</td>\n",
              "      <td>-0.0012</td>\n",
              "    </tr>\n",
              "    <tr>\n",
              "      <th>2</th>\n",
              "      <td>2011</td>\n",
              "      <td>3I GROUP PLC</td>\n",
              "      <td>United Kingdom</td>\n",
              "      <td>Financial intermediation, except insurance an...</td>\n",
              "      <td>-0.16%</td>\n",
              "      <td>-0.0016</td>\n",
              "    </tr>\n",
              "    <tr>\n",
              "      <th>3</th>\n",
              "      <td>2012</td>\n",
              "      <td>3I GROUP PLC</td>\n",
              "      <td>United Kingdom</td>\n",
              "      <td>Financial intermediation, except insurance an...</td>\n",
              "      <td>-0.15%</td>\n",
              "      <td>-0.0015</td>\n",
              "    </tr>\n",
              "    <tr>\n",
              "      <th>4</th>\n",
              "      <td>2010</td>\n",
              "      <td>3M COMPANY</td>\n",
              "      <td>United States</td>\n",
              "      <td>Activities of membership organisation n.e.c. ...</td>\n",
              "      <td>-7.90%</td>\n",
              "      <td>-0.0790</td>\n",
              "    </tr>\n",
              "  </tbody>\n",
              "</table>\n",
              "</div>"
            ],
            "text/plain": [
              "   Year         CompanyName  ... EnvironmentalIntensity(Sales) Env_intensity\n",
              "0  2016   1&1 DRILLISCH AG   ...                        -0.07%       -0.0007\n",
              "1  2010       3I GROUP PLC   ...                        -0.12%       -0.0012\n",
              "2  2011       3I GROUP PLC   ...                        -0.16%       -0.0016\n",
              "3  2012       3I GROUP PLC   ...                        -0.15%       -0.0015\n",
              "4  2010         3M COMPANY   ...                        -7.90%       -0.0790\n",
              "\n",
              "[5 rows x 6 columns]"
            ]
          },
          "metadata": {
            "tags": []
          },
          "execution_count": 17
        }
      ]
    },
    {
      "cell_type": "markdown",
      "metadata": {
        "id": "celtic-wound"
      },
      "source": [
        "### Creating industry indicator"
      ],
      "id": "celtic-wound"
    },
    {
      "cell_type": "code",
      "metadata": {
        "id": "awful-remark"
      },
      "source": [
        "industry_avg = df.groupby('Industry(Exiobase)')[['Env_intensity']].mean().reset_index()\n",
        "df['industry_avg'] = df['Env_intensity'].groupby(df['Industry(Exiobase)']).transform('mean')"
      ],
      "id": "awful-remark",
      "execution_count": 18,
      "outputs": []
    },
    {
      "cell_type": "code",
      "metadata": {
        "colab": {
          "base_uri": "https://localhost:8080/",
          "height": 326
        },
        "id": "august-toddler",
        "outputId": "e86789cd-670d-4e91-87c2-fd36af125684"
      },
      "source": [
        "def create_ind(df):\n",
        "    if(df['Env_intensity'] > df['industry_avg']):\n",
        "        return 1\n",
        "    elif (df['Env_intensity'] == df['industry_avg']):\n",
        "        return 0\n",
        "    elif (df['Env_intensity'] < df['industry_avg']):\n",
        "        return -1\n",
        "\n",
        "df['Industry_indicator'] = df.apply(create_ind, axis = 1)\n",
        "df.head()"
      ],
      "id": "august-toddler",
      "execution_count": 19,
      "outputs": [
        {
          "output_type": "execute_result",
          "data": {
            "text/html": [
              "<div>\n",
              "<style scoped>\n",
              "    .dataframe tbody tr th:only-of-type {\n",
              "        vertical-align: middle;\n",
              "    }\n",
              "\n",
              "    .dataframe tbody tr th {\n",
              "        vertical-align: top;\n",
              "    }\n",
              "\n",
              "    .dataframe thead th {\n",
              "        text-align: right;\n",
              "    }\n",
              "</style>\n",
              "<table border=\"1\" class=\"dataframe\">\n",
              "  <thead>\n",
              "    <tr style=\"text-align: right;\">\n",
              "      <th></th>\n",
              "      <th>Year</th>\n",
              "      <th>CompanyName</th>\n",
              "      <th>Country</th>\n",
              "      <th>Industry(Exiobase)</th>\n",
              "      <th>EnvironmentalIntensity(Sales)</th>\n",
              "      <th>Env_intensity</th>\n",
              "      <th>industry_avg</th>\n",
              "      <th>Industry_indicator</th>\n",
              "    </tr>\n",
              "  </thead>\n",
              "  <tbody>\n",
              "    <tr>\n",
              "      <th>0</th>\n",
              "      <td>2016</td>\n",
              "      <td>1&amp;1 DRILLISCH AG</td>\n",
              "      <td>Germany</td>\n",
              "      <td>Post and telecommunications (64)</td>\n",
              "      <td>-0.07%</td>\n",
              "      <td>-0.0007</td>\n",
              "      <td>-0.018382</td>\n",
              "      <td>1</td>\n",
              "    </tr>\n",
              "    <tr>\n",
              "      <th>1</th>\n",
              "      <td>2010</td>\n",
              "      <td>3I GROUP PLC</td>\n",
              "      <td>United Kingdom</td>\n",
              "      <td>Financial intermediation, except insurance an...</td>\n",
              "      <td>-0.12%</td>\n",
              "      <td>-0.0012</td>\n",
              "      <td>-0.020072</td>\n",
              "      <td>1</td>\n",
              "    </tr>\n",
              "    <tr>\n",
              "      <th>2</th>\n",
              "      <td>2011</td>\n",
              "      <td>3I GROUP PLC</td>\n",
              "      <td>United Kingdom</td>\n",
              "      <td>Financial intermediation, except insurance an...</td>\n",
              "      <td>-0.16%</td>\n",
              "      <td>-0.0016</td>\n",
              "      <td>-0.020072</td>\n",
              "      <td>1</td>\n",
              "    </tr>\n",
              "    <tr>\n",
              "      <th>3</th>\n",
              "      <td>2012</td>\n",
              "      <td>3I GROUP PLC</td>\n",
              "      <td>United Kingdom</td>\n",
              "      <td>Financial intermediation, except insurance an...</td>\n",
              "      <td>-0.15%</td>\n",
              "      <td>-0.0015</td>\n",
              "      <td>-0.020072</td>\n",
              "      <td>1</td>\n",
              "    </tr>\n",
              "    <tr>\n",
              "      <th>4</th>\n",
              "      <td>2010</td>\n",
              "      <td>3M COMPANY</td>\n",
              "      <td>United States</td>\n",
              "      <td>Activities of membership organisation n.e.c. ...</td>\n",
              "      <td>-7.90%</td>\n",
              "      <td>-0.0790</td>\n",
              "      <td>-0.117561</td>\n",
              "      <td>1</td>\n",
              "    </tr>\n",
              "  </tbody>\n",
              "</table>\n",
              "</div>"
            ],
            "text/plain": [
              "   Year         CompanyName  ... industry_avg Industry_indicator\n",
              "0  2016   1&1 DRILLISCH AG   ...    -0.018382                  1\n",
              "1  2010       3I GROUP PLC   ...    -0.020072                  1\n",
              "2  2011       3I GROUP PLC   ...    -0.020072                  1\n",
              "3  2012       3I GROUP PLC   ...    -0.020072                  1\n",
              "4  2010         3M COMPANY   ...    -0.117561                  1\n",
              "\n",
              "[5 rows x 8 columns]"
            ]
          },
          "metadata": {
            "tags": []
          },
          "execution_count": 19
        }
      ]
    },
    {
      "cell_type": "code",
      "metadata": {
        "colab": {
          "base_uri": "https://localhost:8080/",
          "height": 326
        },
        "id": "pacific-forty",
        "outputId": "d8d35ad2-7a41-489c-81f2-fc437020d276"
      },
      "source": [
        "def create_ind_year(df):\n",
        "    if(df['Env_intensity'] > df['industry_avg_year']):\n",
        "        return 1\n",
        "    elif (df['Env_intensity'] == df['industry_avg_year']):\n",
        "        return 0\n",
        "    elif (df['Env_intensity'] < df['industry_avg_year']):\n",
        "        return -1\n",
        "\n",
        "df['industry_avg_year'] = df.groupby(['Industry(Exiobase)','Year']).transform('mean')[['Env_intensity']]\n",
        "\n",
        "df['Industry_indicator_year'] = df.apply(create_ind_year, axis = 1)\n",
        "df.head()\n",
        "\n",
        "#df['industry_avg_year']=df.groupby(['Industry(Exiobase)','Year'])['Env_intensity'].mean().reset_index()\n"
      ],
      "id": "pacific-forty",
      "execution_count": 21,
      "outputs": [
        {
          "output_type": "execute_result",
          "data": {
            "text/html": [
              "<div>\n",
              "<style scoped>\n",
              "    .dataframe tbody tr th:only-of-type {\n",
              "        vertical-align: middle;\n",
              "    }\n",
              "\n",
              "    .dataframe tbody tr th {\n",
              "        vertical-align: top;\n",
              "    }\n",
              "\n",
              "    .dataframe thead th {\n",
              "        text-align: right;\n",
              "    }\n",
              "</style>\n",
              "<table border=\"1\" class=\"dataframe\">\n",
              "  <thead>\n",
              "    <tr style=\"text-align: right;\">\n",
              "      <th></th>\n",
              "      <th>Year</th>\n",
              "      <th>CompanyName</th>\n",
              "      <th>Country</th>\n",
              "      <th>Industry(Exiobase)</th>\n",
              "      <th>EnvironmentalIntensity(Sales)</th>\n",
              "      <th>Env_intensity</th>\n",
              "      <th>industry_avg</th>\n",
              "      <th>Industry_indicator</th>\n",
              "      <th>industry_avg_year</th>\n",
              "      <th>Industry_indicator_year</th>\n",
              "    </tr>\n",
              "  </thead>\n",
              "  <tbody>\n",
              "    <tr>\n",
              "      <th>0</th>\n",
              "      <td>2016</td>\n",
              "      <td>1&amp;1 DRILLISCH AG</td>\n",
              "      <td>Germany</td>\n",
              "      <td>Post and telecommunications (64)</td>\n",
              "      <td>-0.07%</td>\n",
              "      <td>-0.0007</td>\n",
              "      <td>-0.018382</td>\n",
              "      <td>1</td>\n",
              "      <td>-0.011640</td>\n",
              "      <td>1</td>\n",
              "    </tr>\n",
              "    <tr>\n",
              "      <th>1</th>\n",
              "      <td>2010</td>\n",
              "      <td>3I GROUP PLC</td>\n",
              "      <td>United Kingdom</td>\n",
              "      <td>Financial intermediation, except insurance an...</td>\n",
              "      <td>-0.12%</td>\n",
              "      <td>-0.0012</td>\n",
              "      <td>-0.020072</td>\n",
              "      <td>1</td>\n",
              "      <td>-0.006402</td>\n",
              "      <td>1</td>\n",
              "    </tr>\n",
              "    <tr>\n",
              "      <th>2</th>\n",
              "      <td>2011</td>\n",
              "      <td>3I GROUP PLC</td>\n",
              "      <td>United Kingdom</td>\n",
              "      <td>Financial intermediation, except insurance an...</td>\n",
              "      <td>-0.16%</td>\n",
              "      <td>-0.0016</td>\n",
              "      <td>-0.020072</td>\n",
              "      <td>1</td>\n",
              "      <td>-0.009838</td>\n",
              "      <td>1</td>\n",
              "    </tr>\n",
              "    <tr>\n",
              "      <th>3</th>\n",
              "      <td>2012</td>\n",
              "      <td>3I GROUP PLC</td>\n",
              "      <td>United Kingdom</td>\n",
              "      <td>Financial intermediation, except insurance an...</td>\n",
              "      <td>-0.15%</td>\n",
              "      <td>-0.0015</td>\n",
              "      <td>-0.020072</td>\n",
              "      <td>1</td>\n",
              "      <td>-0.024437</td>\n",
              "      <td>1</td>\n",
              "    </tr>\n",
              "    <tr>\n",
              "      <th>4</th>\n",
              "      <td>2010</td>\n",
              "      <td>3M COMPANY</td>\n",
              "      <td>United States</td>\n",
              "      <td>Activities of membership organisation n.e.c. ...</td>\n",
              "      <td>-7.90%</td>\n",
              "      <td>-0.0790</td>\n",
              "      <td>-0.117561</td>\n",
              "      <td>1</td>\n",
              "      <td>-0.084583</td>\n",
              "      <td>1</td>\n",
              "    </tr>\n",
              "  </tbody>\n",
              "</table>\n",
              "</div>"
            ],
            "text/plain": [
              "   Year         CompanyName  ... industry_avg_year Industry_indicator_year\n",
              "0  2016   1&1 DRILLISCH AG   ...         -0.011640                       1\n",
              "1  2010       3I GROUP PLC   ...         -0.006402                       1\n",
              "2  2011       3I GROUP PLC   ...         -0.009838                       1\n",
              "3  2012       3I GROUP PLC   ...         -0.024437                       1\n",
              "4  2010         3M COMPANY   ...         -0.084583                       1\n",
              "\n",
              "[5 rows x 10 columns]"
            ]
          },
          "metadata": {
            "tags": []
          },
          "execution_count": 21
        }
      ]
    },
    {
      "cell_type": "code",
      "metadata": {
        "colab": {
          "base_uri": "https://localhost:8080/",
          "height": 643
        },
        "id": "behind-format",
        "outputId": "521df61f-a46b-47b0-a5e7-851aedccfa5b"
      },
      "source": [
        "df.loc[(df['Industry(Exiobase)'] == 'Activities auxiliary to financial intermediation (67)'),:].sort_values(by='Year')"
      ],
      "id": "behind-format",
      "execution_count": 22,
      "outputs": [
        {
          "output_type": "execute_result",
          "data": {
            "text/html": [
              "<div>\n",
              "<style scoped>\n",
              "    .dataframe tbody tr th:only-of-type {\n",
              "        vertical-align: middle;\n",
              "    }\n",
              "\n",
              "    .dataframe tbody tr th {\n",
              "        vertical-align: top;\n",
              "    }\n",
              "\n",
              "    .dataframe thead th {\n",
              "        text-align: right;\n",
              "    }\n",
              "</style>\n",
              "<table border=\"1\" class=\"dataframe\">\n",
              "  <thead>\n",
              "    <tr style=\"text-align: right;\">\n",
              "      <th></th>\n",
              "      <th>Year</th>\n",
              "      <th>CompanyName</th>\n",
              "      <th>Country</th>\n",
              "      <th>Industry(Exiobase)</th>\n",
              "      <th>EnvironmentalIntensity(Sales)</th>\n",
              "      <th>Env_intensity</th>\n",
              "      <th>industry_avg</th>\n",
              "      <th>Industry_indicator</th>\n",
              "      <th>industry_avg_year</th>\n",
              "      <th>Industry_indicator_year</th>\n",
              "    </tr>\n",
              "  </thead>\n",
              "  <tbody>\n",
              "    <tr>\n",
              "      <th>8166</th>\n",
              "      <td>2016</td>\n",
              "      <td>ADECCO GROUP AG</td>\n",
              "      <td>Switzerland</td>\n",
              "      <td>Activities auxiliary to financial intermediati...</td>\n",
              "      <td>-0.10%</td>\n",
              "      <td>-0.0010</td>\n",
              "      <td>-0.004417</td>\n",
              "      <td>1</td>\n",
              "      <td>-0.007880</td>\n",
              "      <td>1</td>\n",
              "    </tr>\n",
              "    <tr>\n",
              "      <th>14368</th>\n",
              "      <td>2016</td>\n",
              "      <td>WOLTERS KLUWER NV</td>\n",
              "      <td>Netherlands</td>\n",
              "      <td>Activities auxiliary to financial intermediati...</td>\n",
              "      <td>-0.20%</td>\n",
              "      <td>-0.0020</td>\n",
              "      <td>-0.004417</td>\n",
              "      <td>1</td>\n",
              "      <td>-0.007880</td>\n",
              "      <td>1</td>\n",
              "    </tr>\n",
              "    <tr>\n",
              "      <th>14123</th>\n",
              "      <td>2016</td>\n",
              "      <td>VERISK ANALYTICS INCORPORATION</td>\n",
              "      <td>United States</td>\n",
              "      <td>Activities auxiliary to financial intermediati...</td>\n",
              "      <td>-0.21%</td>\n",
              "      <td>-0.0021</td>\n",
              "      <td>-0.004417</td>\n",
              "      <td>1</td>\n",
              "      <td>-0.007880</td>\n",
              "      <td>1</td>\n",
              "    </tr>\n",
              "    <tr>\n",
              "      <th>13738</th>\n",
              "      <td>2016</td>\n",
              "      <td>TELEPERFORMANCE SE</td>\n",
              "      <td>France</td>\n",
              "      <td>Activities auxiliary to financial intermediati...</td>\n",
              "      <td>-1.10%</td>\n",
              "      <td>-0.0110</td>\n",
              "      <td>-0.004417</td>\n",
              "      <td>-1</td>\n",
              "      <td>-0.007880</td>\n",
              "      <td>-1</td>\n",
              "    </tr>\n",
              "    <tr>\n",
              "      <th>12891</th>\n",
              "      <td>2016</td>\n",
              "      <td>SAGA PLC</td>\n",
              "      <td>United Kingdom</td>\n",
              "      <td>Activities auxiliary to financial intermediati...</td>\n",
              "      <td>-2.82%</td>\n",
              "      <td>-0.0282</td>\n",
              "      <td>-0.004417</td>\n",
              "      <td>-1</td>\n",
              "      <td>-0.007880</td>\n",
              "      <td>-1</td>\n",
              "    </tr>\n",
              "    <tr>\n",
              "      <th>...</th>\n",
              "      <td>...</td>\n",
              "      <td>...</td>\n",
              "      <td>...</td>\n",
              "      <td>...</td>\n",
              "      <td>...</td>\n",
              "      <td>...</td>\n",
              "      <td>...</td>\n",
              "      <td>...</td>\n",
              "      <td>...</td>\n",
              "      <td>...</td>\n",
              "    </tr>\n",
              "    <tr>\n",
              "      <th>9736</th>\n",
              "      <td>2019</td>\n",
              "      <td>DKSH HOLDING AG</td>\n",
              "      <td>Switzerland</td>\n",
              "      <td>Activities auxiliary to financial intermediati...</td>\n",
              "      <td>-0.17%</td>\n",
              "      <td>-0.0017</td>\n",
              "      <td>-0.004417</td>\n",
              "      <td>1</td>\n",
              "      <td>0.002943</td>\n",
              "      <td>-1</td>\n",
              "    </tr>\n",
              "    <tr>\n",
              "      <th>10721</th>\n",
              "      <td>2019</td>\n",
              "      <td>HONG KONG EXCHANGES AND CLEARING LIMITED</td>\n",
              "      <td>Hong Kong</td>\n",
              "      <td>Activities auxiliary to financial intermediati...</td>\n",
              "      <td>-0.34%</td>\n",
              "      <td>-0.0034</td>\n",
              "      <td>-0.004417</td>\n",
              "      <td>1</td>\n",
              "      <td>0.002943</td>\n",
              "      <td>-1</td>\n",
              "    </tr>\n",
              "    <tr>\n",
              "      <th>10077</th>\n",
              "      <td>2019</td>\n",
              "      <td>EXPERIAN PLC</td>\n",
              "      <td>United Kingdom</td>\n",
              "      <td>Activities auxiliary to financial intermediati...</td>\n",
              "      <td>-0.20%</td>\n",
              "      <td>-0.0020</td>\n",
              "      <td>-0.004417</td>\n",
              "      <td>1</td>\n",
              "      <td>0.002943</td>\n",
              "      <td>-1</td>\n",
              "    </tr>\n",
              "    <tr>\n",
              "      <th>11536</th>\n",
              "      <td>2019</td>\n",
              "      <td>LONDON STOCK EXCHANGE GROUP PLC</td>\n",
              "      <td>United Kingdom</td>\n",
              "      <td>Activities auxiliary to financial intermediati...</td>\n",
              "      <td>-0.19%</td>\n",
              "      <td>-0.0019</td>\n",
              "      <td>-0.004417</td>\n",
              "      <td>1</td>\n",
              "      <td>0.002943</td>\n",
              "      <td>-1</td>\n",
              "    </tr>\n",
              "    <tr>\n",
              "      <th>9666</th>\n",
              "      <td>2019</td>\n",
              "      <td>DEUTSCHE BOERSE AG</td>\n",
              "      <td>Germany</td>\n",
              "      <td>Activities auxiliary to financial intermediati...</td>\n",
              "      <td>1.88%</td>\n",
              "      <td>0.0188</td>\n",
              "      <td>-0.004417</td>\n",
              "      <td>1</td>\n",
              "      <td>0.002943</td>\n",
              "      <td>1</td>\n",
              "    </tr>\n",
              "  </tbody>\n",
              "</table>\n",
              "<p>93 rows × 10 columns</p>\n",
              "</div>"
            ],
            "text/plain": [
              "       Year  ... Industry_indicator_year\n",
              "8166   2016  ...                       1\n",
              "14368  2016  ...                       1\n",
              "14123  2016  ...                       1\n",
              "13738  2016  ...                      -1\n",
              "12891  2016  ...                      -1\n",
              "...     ...  ...                     ...\n",
              "9736   2019  ...                      -1\n",
              "10721  2019  ...                      -1\n",
              "10077  2019  ...                      -1\n",
              "11536  2019  ...                      -1\n",
              "9666   2019  ...                       1\n",
              "\n",
              "[93 rows x 10 columns]"
            ]
          },
          "metadata": {
            "tags": []
          },
          "execution_count": 22
        }
      ]
    },
    {
      "cell_type": "markdown",
      "metadata": {
        "id": "directed-workplace"
      },
      "source": [
        "### Creating Environmental growth\n",
        "\n",
        "Environmental Intensity Growth : ((Environmental Intensity in Current Year / Environmental Intensity Last Year) - 1) * 100"
      ],
      "id": "directed-workplace"
    },
    {
      "cell_type": "code",
      "metadata": {
        "colab": {
          "base_uri": "https://localhost:8080/",
          "height": 326
        },
        "id": "loaded-pitch",
        "outputId": "429dc802-919e-4543-8841-81fb34385e04"
      },
      "source": [
        "df = df.sort_values(by=['CompanyName','Year'], ascending = True)\n",
        "df.head()"
      ],
      "id": "loaded-pitch",
      "execution_count": 23,
      "outputs": [
        {
          "output_type": "execute_result",
          "data": {
            "text/html": [
              "<div>\n",
              "<style scoped>\n",
              "    .dataframe tbody tr th:only-of-type {\n",
              "        vertical-align: middle;\n",
              "    }\n",
              "\n",
              "    .dataframe tbody tr th {\n",
              "        vertical-align: top;\n",
              "    }\n",
              "\n",
              "    .dataframe thead th {\n",
              "        text-align: right;\n",
              "    }\n",
              "</style>\n",
              "<table border=\"1\" class=\"dataframe\">\n",
              "  <thead>\n",
              "    <tr style=\"text-align: right;\">\n",
              "      <th></th>\n",
              "      <th>Year</th>\n",
              "      <th>CompanyName</th>\n",
              "      <th>Country</th>\n",
              "      <th>Industry(Exiobase)</th>\n",
              "      <th>EnvironmentalIntensity(Sales)</th>\n",
              "      <th>Env_intensity</th>\n",
              "      <th>industry_avg</th>\n",
              "      <th>Industry_indicator</th>\n",
              "      <th>industry_avg_year</th>\n",
              "      <th>Industry_indicator_year</th>\n",
              "    </tr>\n",
              "  </thead>\n",
              "  <tbody>\n",
              "    <tr>\n",
              "      <th>0</th>\n",
              "      <td>2016</td>\n",
              "      <td>1&amp;1 DRILLISCH AG</td>\n",
              "      <td>Germany</td>\n",
              "      <td>Post and telecommunications (64)</td>\n",
              "      <td>-0.07%</td>\n",
              "      <td>-0.0007</td>\n",
              "      <td>-0.018382</td>\n",
              "      <td>1</td>\n",
              "      <td>-0.011640</td>\n",
              "      <td>1</td>\n",
              "    </tr>\n",
              "    <tr>\n",
              "      <th>1</th>\n",
              "      <td>2010</td>\n",
              "      <td>3I GROUP PLC</td>\n",
              "      <td>United Kingdom</td>\n",
              "      <td>Financial intermediation, except insurance an...</td>\n",
              "      <td>-0.12%</td>\n",
              "      <td>-0.0012</td>\n",
              "      <td>-0.020072</td>\n",
              "      <td>1</td>\n",
              "      <td>-0.006402</td>\n",
              "      <td>1</td>\n",
              "    </tr>\n",
              "    <tr>\n",
              "      <th>2</th>\n",
              "      <td>2011</td>\n",
              "      <td>3I GROUP PLC</td>\n",
              "      <td>United Kingdom</td>\n",
              "      <td>Financial intermediation, except insurance an...</td>\n",
              "      <td>-0.16%</td>\n",
              "      <td>-0.0016</td>\n",
              "      <td>-0.020072</td>\n",
              "      <td>1</td>\n",
              "      <td>-0.009838</td>\n",
              "      <td>1</td>\n",
              "    </tr>\n",
              "    <tr>\n",
              "      <th>3</th>\n",
              "      <td>2012</td>\n",
              "      <td>3I GROUP PLC</td>\n",
              "      <td>United Kingdom</td>\n",
              "      <td>Financial intermediation, except insurance an...</td>\n",
              "      <td>-0.15%</td>\n",
              "      <td>-0.0015</td>\n",
              "      <td>-0.020072</td>\n",
              "      <td>1</td>\n",
              "      <td>-0.024437</td>\n",
              "      <td>1</td>\n",
              "    </tr>\n",
              "    <tr>\n",
              "      <th>4</th>\n",
              "      <td>2010</td>\n",
              "      <td>3M COMPANY</td>\n",
              "      <td>United States</td>\n",
              "      <td>Activities of membership organisation n.e.c. ...</td>\n",
              "      <td>-7.90%</td>\n",
              "      <td>-0.0790</td>\n",
              "      <td>-0.117561</td>\n",
              "      <td>1</td>\n",
              "      <td>-0.084583</td>\n",
              "      <td>1</td>\n",
              "    </tr>\n",
              "  </tbody>\n",
              "</table>\n",
              "</div>"
            ],
            "text/plain": [
              "   Year         CompanyName  ... industry_avg_year Industry_indicator_year\n",
              "0  2016   1&1 DRILLISCH AG   ...         -0.011640                       1\n",
              "1  2010       3I GROUP PLC   ...         -0.006402                       1\n",
              "2  2011       3I GROUP PLC   ...         -0.009838                       1\n",
              "3  2012       3I GROUP PLC   ...         -0.024437                       1\n",
              "4  2010         3M COMPANY   ...         -0.084583                       1\n",
              "\n",
              "[5 rows x 10 columns]"
            ]
          },
          "metadata": {
            "tags": []
          },
          "execution_count": 23
        }
      ]
    },
    {
      "cell_type": "code",
      "metadata": {
        "colab": {
          "base_uri": "https://localhost:8080/",
          "height": 326
        },
        "id": "southeast-killing",
        "outputId": "d5c6276d-0b1b-4e36-c820-1d2ef9718295"
      },
      "source": [
        "df['Environmental_Growth'] = df.groupby(['CompanyName'])['Env_intensity'].apply(lambda x: x.pct_change()).to_numpy() * 100\n",
        "df.head()"
      ],
      "id": "southeast-killing",
      "execution_count": 24,
      "outputs": [
        {
          "output_type": "execute_result",
          "data": {
            "text/html": [
              "<div>\n",
              "<style scoped>\n",
              "    .dataframe tbody tr th:only-of-type {\n",
              "        vertical-align: middle;\n",
              "    }\n",
              "\n",
              "    .dataframe tbody tr th {\n",
              "        vertical-align: top;\n",
              "    }\n",
              "\n",
              "    .dataframe thead th {\n",
              "        text-align: right;\n",
              "    }\n",
              "</style>\n",
              "<table border=\"1\" class=\"dataframe\">\n",
              "  <thead>\n",
              "    <tr style=\"text-align: right;\">\n",
              "      <th></th>\n",
              "      <th>Year</th>\n",
              "      <th>CompanyName</th>\n",
              "      <th>Country</th>\n",
              "      <th>Industry(Exiobase)</th>\n",
              "      <th>EnvironmentalIntensity(Sales)</th>\n",
              "      <th>Env_intensity</th>\n",
              "      <th>industry_avg</th>\n",
              "      <th>Industry_indicator</th>\n",
              "      <th>industry_avg_year</th>\n",
              "      <th>Industry_indicator_year</th>\n",
              "      <th>Environmental_Growth</th>\n",
              "    </tr>\n",
              "  </thead>\n",
              "  <tbody>\n",
              "    <tr>\n",
              "      <th>0</th>\n",
              "      <td>2016</td>\n",
              "      <td>1&amp;1 DRILLISCH AG</td>\n",
              "      <td>Germany</td>\n",
              "      <td>Post and telecommunications (64)</td>\n",
              "      <td>-0.07%</td>\n",
              "      <td>-0.0007</td>\n",
              "      <td>-0.018382</td>\n",
              "      <td>1</td>\n",
              "      <td>-0.011640</td>\n",
              "      <td>1</td>\n",
              "      <td>NaN</td>\n",
              "    </tr>\n",
              "    <tr>\n",
              "      <th>1</th>\n",
              "      <td>2010</td>\n",
              "      <td>3I GROUP PLC</td>\n",
              "      <td>United Kingdom</td>\n",
              "      <td>Financial intermediation, except insurance an...</td>\n",
              "      <td>-0.12%</td>\n",
              "      <td>-0.0012</td>\n",
              "      <td>-0.020072</td>\n",
              "      <td>1</td>\n",
              "      <td>-0.006402</td>\n",
              "      <td>1</td>\n",
              "      <td>NaN</td>\n",
              "    </tr>\n",
              "    <tr>\n",
              "      <th>2</th>\n",
              "      <td>2011</td>\n",
              "      <td>3I GROUP PLC</td>\n",
              "      <td>United Kingdom</td>\n",
              "      <td>Financial intermediation, except insurance an...</td>\n",
              "      <td>-0.16%</td>\n",
              "      <td>-0.0016</td>\n",
              "      <td>-0.020072</td>\n",
              "      <td>1</td>\n",
              "      <td>-0.009838</td>\n",
              "      <td>1</td>\n",
              "      <td>33.333333</td>\n",
              "    </tr>\n",
              "    <tr>\n",
              "      <th>3</th>\n",
              "      <td>2012</td>\n",
              "      <td>3I GROUP PLC</td>\n",
              "      <td>United Kingdom</td>\n",
              "      <td>Financial intermediation, except insurance an...</td>\n",
              "      <td>-0.15%</td>\n",
              "      <td>-0.0015</td>\n",
              "      <td>-0.020072</td>\n",
              "      <td>1</td>\n",
              "      <td>-0.024437</td>\n",
              "      <td>1</td>\n",
              "      <td>-6.250000</td>\n",
              "    </tr>\n",
              "    <tr>\n",
              "      <th>4</th>\n",
              "      <td>2010</td>\n",
              "      <td>3M COMPANY</td>\n",
              "      <td>United States</td>\n",
              "      <td>Activities of membership organisation n.e.c. ...</td>\n",
              "      <td>-7.90%</td>\n",
              "      <td>-0.0790</td>\n",
              "      <td>-0.117561</td>\n",
              "      <td>1</td>\n",
              "      <td>-0.084583</td>\n",
              "      <td>1</td>\n",
              "      <td>NaN</td>\n",
              "    </tr>\n",
              "  </tbody>\n",
              "</table>\n",
              "</div>"
            ],
            "text/plain": [
              "   Year         CompanyName  ... Industry_indicator_year Environmental_Growth\n",
              "0  2016   1&1 DRILLISCH AG   ...                       1                  NaN\n",
              "1  2010       3I GROUP PLC   ...                       1                  NaN\n",
              "2  2011       3I GROUP PLC   ...                       1            33.333333\n",
              "3  2012       3I GROUP PLC   ...                       1            -6.250000\n",
              "4  2010         3M COMPANY   ...                       1                  NaN\n",
              "\n",
              "[5 rows x 11 columns]"
            ]
          },
          "metadata": {
            "tags": []
          },
          "execution_count": 24
        }
      ]
    },
    {
      "cell_type": "markdown",
      "metadata": {
        "id": "EWMa_YonOz5P"
      },
      "source": [
        "### Model1-Yearly Average Industry"
      ],
      "id": "EWMa_YonOz5P"
    },
    {
      "cell_type": "code",
      "metadata": {
        "id": "QgiKCM8IPISh",
        "colab": {
          "base_uri": "https://localhost:8080/"
        },
        "outputId": "51af30b8-8919-4ebb-cc1e-d80f0a474e0e"
      },
      "source": [
        "df_2020=df[df['Year'] == 2020]\n",
        "print(df_2020)\n",
        "#There is no data for 2020, so we plan to predict 2019\n",
        "#Because industry environmental situation is related to general environment intensity, we thought should use the past years industry data to predict. Accordingly, we used 2018 and 2017 Industry data to predict 2019 evronmental intensity.\n",
        "df_2018=df[df['Year'] == 2018]\n",
        "df_2017=df[df['Year'] == 2017]\n",
        "\n",
        "print(df_2018.info())\n",
        "print(df_2017.info())"
      ],
      "id": "QgiKCM8IPISh",
      "execution_count": 30,
      "outputs": [
        {
          "output_type": "stream",
          "text": [
            "Empty DataFrame\n",
            "Columns: [Year, CompanyName, Country, Industry(Exiobase), EnvironmentalIntensity(Sales), Env_intensity, industry_avg, Industry_indicator, industry_avg_year, Industry_indicator_year, Environmental_Growth]\n",
            "Index: []\n",
            "<class 'pandas.core.frame.DataFrame'>\n",
            "Int64Index: 1680 entries, 8091 to 14510\n",
            "Data columns (total 11 columns):\n",
            " #   Column                         Non-Null Count  Dtype  \n",
            "---  ------                         --------------  -----  \n",
            " 0   Year                           1680 non-null   int64  \n",
            " 1   CompanyName                    1680 non-null   object \n",
            " 2   Country                        1680 non-null   object \n",
            " 3   Industry(Exiobase)             1680 non-null   object \n",
            " 4   EnvironmentalIntensity(Sales)  1680 non-null   object \n",
            " 5   Env_intensity                  1680 non-null   float64\n",
            " 6   industry_avg                   1680 non-null   float64\n",
            " 7   Industry_indicator             1680 non-null   int64  \n",
            " 8   industry_avg_year              1680 non-null   float64\n",
            " 9   Industry_indicator_year        1680 non-null   int64  \n",
            " 10  Environmental_Growth           1513 non-null   float64\n",
            "dtypes: float64(4), int64(3), object(4)\n",
            "memory usage: 157.5+ KB\n",
            "None\n",
            "<class 'pandas.core.frame.DataFrame'>\n",
            "Int64Index: 1720 entries, 8090 to 14509\n",
            "Data columns (total 11 columns):\n",
            " #   Column                         Non-Null Count  Dtype  \n",
            "---  ------                         --------------  -----  \n",
            " 0   Year                           1720 non-null   int64  \n",
            " 1   CompanyName                    1720 non-null   object \n",
            " 2   Country                        1720 non-null   object \n",
            " 3   Industry(Exiobase)             1720 non-null   object \n",
            " 4   EnvironmentalIntensity(Sales)  1720 non-null   object \n",
            " 5   Env_intensity                  1720 non-null   float64\n",
            " 6   industry_avg                   1720 non-null   float64\n",
            " 7   Industry_indicator             1720 non-null   int64  \n",
            " 8   industry_avg_year              1720 non-null   float64\n",
            " 9   Industry_indicator_year        1720 non-null   int64  \n",
            " 10  Environmental_Growth           1176 non-null   float64\n",
            "dtypes: float64(4), int64(3), object(4)\n",
            "memory usage: 161.2+ KB\n",
            "None\n"
          ],
          "name": "stdout"
        }
      ]
    },
    {
      "cell_type": "code",
      "metadata": {
        "colab": {
          "base_uri": "https://localhost:8080/",
          "height": 419
        },
        "id": "sqdWcmU07Kog",
        "outputId": "d0642b35-5343-4892-9b93-1290808b5f7e"
      },
      "source": [
        "#Build up model dataframe with EnvironmentalIntensity2019, Ind_Yearavg2018, Ind_Yearavg2017\n",
        "df_2019=df[df['Year'] == 2019]\n",
        "df2019=df_2019[['Year','CompanyName','Env_intensity']] \n",
        "df2019.rename(columns={'Env_intensity': 'Env_intensity2019'}, inplace=True) \n",
        "df2018=df_2018[['CompanyName','industry_avg_year']]\n",
        "df2018.rename(columns={'industry_avg_year': 'Ind_Yearavg2018'}, inplace=True) \n",
        "df2017=df_2017[['CompanyName','industry_avg_year']]\n",
        "df2017.rename(columns={'industry_avg_year': 'Ind_Yearavg2017'}, inplace=True) \n",
        "mdl = pd.merge(df2019, df2018, on=[\"CompanyName\"])\n",
        "mdl1= pd.merge(mdl, df2017, on=[\"CompanyName\"])\n",
        "mdl1"
      ],
      "id": "sqdWcmU07Kog",
      "execution_count": 43,
      "outputs": [
        {
          "output_type": "execute_result",
          "data": {
            "text/html": [
              "<div>\n",
              "<style scoped>\n",
              "    .dataframe tbody tr th:only-of-type {\n",
              "        vertical-align: middle;\n",
              "    }\n",
              "\n",
              "    .dataframe tbody tr th {\n",
              "        vertical-align: top;\n",
              "    }\n",
              "\n",
              "    .dataframe thead th {\n",
              "        text-align: right;\n",
              "    }\n",
              "</style>\n",
              "<table border=\"1\" class=\"dataframe\">\n",
              "  <thead>\n",
              "    <tr style=\"text-align: right;\">\n",
              "      <th></th>\n",
              "      <th>Year</th>\n",
              "      <th>CompanyName</th>\n",
              "      <th>Env_intensity2019</th>\n",
              "      <th>Ind_Yearavg2018</th>\n",
              "      <th>Ind_Yearavg2017</th>\n",
              "    </tr>\n",
              "  </thead>\n",
              "  <tbody>\n",
              "    <tr>\n",
              "      <th>0</th>\n",
              "      <td>2019</td>\n",
              "      <td>3M COMPANY</td>\n",
              "      <td>-0.0641</td>\n",
              "      <td>-0.229308</td>\n",
              "      <td>-0.225496</td>\n",
              "    </tr>\n",
              "    <tr>\n",
              "      <th>1</th>\n",
              "      <td>2019</td>\n",
              "      <td>3SBIO INC</td>\n",
              "      <td>-0.0340</td>\n",
              "      <td>-0.027793</td>\n",
              "      <td>-0.031771</td>\n",
              "    </tr>\n",
              "    <tr>\n",
              "      <th>2</th>\n",
              "      <td>2019</td>\n",
              "      <td>A.G.V. PRODUCTS CORP</td>\n",
              "      <td>-0.0172</td>\n",
              "      <td>-0.072254</td>\n",
              "      <td>-0.063618</td>\n",
              "    </tr>\n",
              "    <tr>\n",
              "      <th>3</th>\n",
              "      <td>2019</td>\n",
              "      <td>AA PLC</td>\n",
              "      <td>-0.0070</td>\n",
              "      <td>-0.073777</td>\n",
              "      <td>-0.096157</td>\n",
              "    </tr>\n",
              "    <tr>\n",
              "      <th>4</th>\n",
              "      <td>2019</td>\n",
              "      <td>AAC TECHNOLOGIES HOLDINGS INCORPORATION</td>\n",
              "      <td>-0.1080</td>\n",
              "      <td>-0.023555</td>\n",
              "      <td>-0.027254</td>\n",
              "    </tr>\n",
              "    <tr>\n",
              "      <th>...</th>\n",
              "      <td>...</td>\n",
              "      <td>...</td>\n",
              "      <td>...</td>\n",
              "      <td>...</td>\n",
              "      <td>...</td>\n",
              "    </tr>\n",
              "    <tr>\n",
              "      <th>1190</th>\n",
              "      <td>2019</td>\n",
              "      <td>ZEON CORPORATION</td>\n",
              "      <td>-0.0730</td>\n",
              "      <td>-0.218707</td>\n",
              "      <td>-0.275385</td>\n",
              "    </tr>\n",
              "    <tr>\n",
              "      <th>1191</th>\n",
              "      <td>2019</td>\n",
              "      <td>ZHEN DING TECHNOLOGY HOLDING LIMITED</td>\n",
              "      <td>-0.0602</td>\n",
              "      <td>-0.076812</td>\n",
              "      <td>-0.068294</td>\n",
              "    </tr>\n",
              "    <tr>\n",
              "      <th>1192</th>\n",
              "      <td>2019</td>\n",
              "      <td>ZIG SHENG INDUSTRIAL COMPANY LIMITED</td>\n",
              "      <td>-0.1615</td>\n",
              "      <td>-0.124750</td>\n",
              "      <td>-0.117456</td>\n",
              "    </tr>\n",
              "    <tr>\n",
              "      <th>1193</th>\n",
              "      <td>2019</td>\n",
              "      <td>ZORLU ENERJI AS</td>\n",
              "      <td>-0.3430</td>\n",
              "      <td>-1.012140</td>\n",
              "      <td>-0.578986</td>\n",
              "    </tr>\n",
              "    <tr>\n",
              "      <th>1194</th>\n",
              "      <td>2019</td>\n",
              "      <td>ZUMTOBEL AG</td>\n",
              "      <td>-0.0051</td>\n",
              "      <td>-0.020683</td>\n",
              "      <td>-0.036006</td>\n",
              "    </tr>\n",
              "  </tbody>\n",
              "</table>\n",
              "<p>1195 rows × 5 columns</p>\n",
              "</div>"
            ],
            "text/plain": [
              "      Year  ... Ind_Yearavg2017\n",
              "0     2019  ...       -0.225496\n",
              "1     2019  ...       -0.031771\n",
              "2     2019  ...       -0.063618\n",
              "3     2019  ...       -0.096157\n",
              "4     2019  ...       -0.027254\n",
              "...    ...  ...             ...\n",
              "1190  2019  ...       -0.275385\n",
              "1191  2019  ...       -0.068294\n",
              "1192  2019  ...       -0.117456\n",
              "1193  2019  ...       -0.578986\n",
              "1194  2019  ...       -0.036006\n",
              "\n",
              "[1195 rows x 5 columns]"
            ]
          },
          "metadata": {
            "tags": []
          },
          "execution_count": 43
        }
      ]
    },
    {
      "cell_type": "code",
      "metadata": {
        "id": "x9AXHZVcSVKl"
      },
      "source": [
        "X=mdl1[['Ind_Yearavg2018','Ind_Yearavg2017']]\n",
        "y=mdl1['Env_intensity2019']"
      ],
      "id": "x9AXHZVcSVKl",
      "execution_count": 46,
      "outputs": []
    },
    {
      "cell_type": "code",
      "metadata": {
        "id": "McApUnC09uuq"
      },
      "source": [
        "regr = linear_model.LinearRegression()\n",
        "X_train, X_test, y_train, y_test = train_test_split(X,y,test_size=0.2,random_state=42)\n",
        "regr.fit(X_train, y_train)\n",
        "y_train_pred = np.exp(regr.predict(X_train))\n",
        "y_pred = np.exp(regr.predict(X_test))\n",
        "y_test = np.exp(y_test)"
      ],
      "id": "McApUnC09uuq",
      "execution_count": 47,
      "outputs": []
    },
    {
      "cell_type": "code",
      "metadata": {
        "colab": {
          "base_uri": "https://localhost:8080/"
        },
        "id": "Zdkb0Jff-2EL",
        "outputId": "bfdbdd7f-21ca-46f2-db47-e818ce95e6bb"
      },
      "source": [
        "print('MSE train: %.3f, test: %.3f' % (metrics.mean_squared_error(y_train, y_train_pred),\n",
        "                metrics.mean_squared_error(y_test, y_pred)))"
      ],
      "id": "Zdkb0Jff-2EL",
      "execution_count": 50,
      "outputs": [
        {
          "output_type": "stream",
          "text": [
            "MSE train: 1.064, test: 0.038\n"
          ],
          "name": "stdout"
        }
      ]
    },
    {
      "cell_type": "markdown",
      "metadata": {
        "id": "Ah20qAC3_Smc"
      },
      "source": [
        "### Model2-Yearly Industry Indicator"
      ],
      "id": "Ah20qAC3_Smc"
    },
    {
      "cell_type": "code",
      "metadata": {
        "id": "GZFdh9yRASsa"
      },
      "source": [
        "X=df[['Industry_indicator_year']]\n",
        "y=df['Env_intensity']"
      ],
      "id": "GZFdh9yRASsa",
      "execution_count": 58,
      "outputs": []
    },
    {
      "cell_type": "code",
      "metadata": {
        "id": "9Q83jyJz_Smj"
      },
      "source": [
        "regr = linear_model.LinearRegression()\n",
        "X_train, X_test, y_train, y_test = train_test_split(X,y,test_size=0.2,random_state=42)\n",
        "regr.fit(X_train, y_train)\n",
        "y_train_pred = np.exp(regr.predict(X_train))\n",
        "y_pred = np.exp(regr.predict(X_test))\n",
        "y_test = np.exp(y_test)"
      ],
      "id": "9Q83jyJz_Smj",
      "execution_count": 59,
      "outputs": []
    },
    {
      "cell_type": "code",
      "metadata": {
        "colab": {
          "base_uri": "https://localhost:8080/"
        },
        "id": "r9LByzk-_Smk",
        "outputId": "c83f6f92-66d4-4c3f-a2ef-91a6767739a0"
      },
      "source": [
        "print('MSE train: %.3f, test: %.3f' % (metrics.mean_squared_error(y_train, y_train_pred),\n",
        "                metrics.mean_squared_error(y_test, y_pred)))"
      ],
      "id": "r9LByzk-_Smk",
      "execution_count": 60,
      "outputs": [
        {
          "output_type": "stream",
          "text": [
            "MSE train: 1.084, test: 0.033\n"
          ],
          "name": "stdout"
        }
      ]
    },
    {
      "cell_type": "markdown",
      "metadata": {
        "id": "8rCtCNrTBbLN"
      },
      "source": [
        "### Model3-Growth Rate"
      ],
      "id": "8rCtCNrTBbLN"
    },
    {
      "cell_type": "code",
      "metadata": {
        "id": "Ih02zVmpBbLY"
      },
      "source": [
        "X=df[['Environmental_Growth']]\n",
        "y=df['Env_intensity']"
      ],
      "id": "Ih02zVmpBbLY",
      "execution_count": 61,
      "outputs": []
    },
    {
      "cell_type": "code",
      "metadata": {
        "id": "9cWFYPvJBuaC"
      },
      "source": [
        "model_df = df[['Env_intensity','Environmental_Growth']].copy()\n",
        "model_df.dropna(inplace = True)\n",
        "\n",
        "x = model_df[['Env_intensity','Environmental_Growth']]\n",
        "y = model_df['Env_intensity']\n",
        "X_train, X_test, y_train, y_test = train_test_split(x, y, test_size=0.20, random_state=42)\n",
        "reg = LinearRegression().fit(X_train, y_train)\n",
        "\n",
        "y_train_pred = np.exp(reg.predict(X_train))\n",
        "y_pred = np.exp(reg.predict(X_test))\n",
        "y_test = np.exp(y_test)"
      ],
      "id": "9cWFYPvJBuaC",
      "execution_count": 63,
      "outputs": []
    },
    {
      "cell_type": "code",
      "metadata": {
        "colab": {
          "base_uri": "https://localhost:8080/"
        },
        "id": "2AGmOUaZBbLZ",
        "outputId": "1dcf7cf3-454e-41b3-9895-e9a8fb009022"
      },
      "source": [
        "print('MSE train: %.3f, test: %.3f' % (metrics.mean_squared_error(y_train, y_train_pred),\n",
        "                metrics.mean_squared_error(y_test, y_pred)))"
      ],
      "id": "2AGmOUaZBbLZ",
      "execution_count": 64,
      "outputs": [
        {
          "output_type": "stream",
          "text": [
            "MSE train: 1.071, test: 0.000\n"
          ],
          "name": "stdout"
        }
      ]
    }
  ]
}