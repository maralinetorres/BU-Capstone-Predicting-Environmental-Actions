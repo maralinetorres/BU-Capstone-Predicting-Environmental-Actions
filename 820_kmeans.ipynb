{
  "nbformat": 4,
  "nbformat_minor": 0,
  "metadata": {
    "colab": {
      "name": "820 kmeans.ipynb",
      "provenance": []
    },
    "kernelspec": {
      "name": "python3",
      "display_name": "Python 3"
    }
  },
  "cells": [
    {
      "cell_type": "code",
      "metadata": {
        "colab": {
          "base_uri": "https://localhost:8080/"
        },
        "id": "QZtjrIvWN5SO",
        "outputId": "2cb85880-cac3-48e6-d7cc-cc660f9a38ea"
      },
      "source": [
        "! pip install scikit-plot\r\n",
        "# imports\r\n",
        "import numpy as np\r\n",
        "import pandas as pd\r\n",
        "import seaborn as sns\r\n",
        "import matplotlib.pyplot as plt\r\n",
        "import plotly.express as px\r\n",
        "import scikitplot as skplt\r\n",
        "from sklearn.preprocessing import StandardScaler\r\n",
        "from sklearn.decomposition import PCA\r\n",
        "from sklearn.cluster import KMeans\r\n",
        "from sklearn import metrics \r\n",
        "\r\n"
      ],
      "execution_count": 2,
      "outputs": [
        {
          "output_type": "stream",
          "text": [
            "Requirement already satisfied: scikit-plot in /usr/local/lib/python3.7/dist-packages (0.3.7)\n",
            "Requirement already satisfied: joblib>=0.10 in /usr/local/lib/python3.7/dist-packages (from scikit-plot) (1.0.1)\n",
            "Requirement already satisfied: scipy>=0.9 in /usr/local/lib/python3.7/dist-packages (from scikit-plot) (1.4.1)\n",
            "Requirement already satisfied: scikit-learn>=0.18 in /usr/local/lib/python3.7/dist-packages (from scikit-plot) (0.22.2.post1)\n",
            "Requirement already satisfied: matplotlib>=1.4.0 in /usr/local/lib/python3.7/dist-packages (from scikit-plot) (3.2.2)\n",
            "Requirement already satisfied: numpy>=1.13.3 in /usr/local/lib/python3.7/dist-packages (from scipy>=0.9->scikit-plot) (1.19.5)\n",
            "Requirement already satisfied: cycler>=0.10 in /usr/local/lib/python3.7/dist-packages (from matplotlib>=1.4.0->scikit-plot) (0.10.0)\n",
            "Requirement already satisfied: python-dateutil>=2.1 in /usr/local/lib/python3.7/dist-packages (from matplotlib>=1.4.0->scikit-plot) (2.8.1)\n",
            "Requirement already satisfied: pyparsing!=2.0.4,!=2.1.2,!=2.1.6,>=2.0.1 in /usr/local/lib/python3.7/dist-packages (from matplotlib>=1.4.0->scikit-plot) (2.4.7)\n",
            "Requirement already satisfied: kiwisolver>=1.0.1 in /usr/local/lib/python3.7/dist-packages (from matplotlib>=1.4.0->scikit-plot) (1.3.1)\n",
            "Requirement already satisfied: six in /usr/local/lib/python3.7/dist-packages (from cycler>=0.10->matplotlib>=1.4.0->scikit-plot) (1.15.0)\n"
          ],
          "name": "stdout"
        }
      ]
    },
    {
      "cell_type": "code",
      "metadata": {
        "id": "_qLRmfR7PgJm"
      },
      "source": [
        "mobile_tr=pd.read_csv(\"train.csv\")\r\n",
        "mobile_te=pd.read_csv(\"test.csv\")"
      ],
      "execution_count": 13,
      "outputs": []
    },
    {
      "cell_type": "code",
      "metadata": {
        "colab": {
          "base_uri": "https://localhost:8080/"
        },
        "id": "mdpdyQD5PgGj",
        "outputId": "488c068c-182e-444d-e585-32b792bb8a92"
      },
      "source": [
        "print(mobile_tr.shape)\r\n",
        "mobile_tr.info()"
      ],
      "execution_count": 11,
      "outputs": [
        {
          "output_type": "stream",
          "text": [
            "(2000, 21)\n",
            "<class 'pandas.core.frame.DataFrame'>\n",
            "RangeIndex: 2000 entries, 0 to 1999\n",
            "Data columns (total 21 columns):\n",
            " #   Column         Non-Null Count  Dtype  \n",
            "---  ------         --------------  -----  \n",
            " 0   battery_power  2000 non-null   int64  \n",
            " 1   blue           2000 non-null   int64  \n",
            " 2   clock_speed    2000 non-null   float64\n",
            " 3   dual_sim       2000 non-null   int64  \n",
            " 4   fc             2000 non-null   int64  \n",
            " 5   four_g         2000 non-null   int64  \n",
            " 6   int_memory     2000 non-null   int64  \n",
            " 7   m_dep          2000 non-null   float64\n",
            " 8   mobile_wt      2000 non-null   int64  \n",
            " 9   n_cores        2000 non-null   int64  \n",
            " 10  pc             2000 non-null   int64  \n",
            " 11  px_height      2000 non-null   int64  \n",
            " 12  px_width       2000 non-null   int64  \n",
            " 13  ram            2000 non-null   int64  \n",
            " 14  sc_h           2000 non-null   int64  \n",
            " 15  sc_w           2000 non-null   int64  \n",
            " 16  talk_time      2000 non-null   int64  \n",
            " 17  three_g        2000 non-null   int64  \n",
            " 18  touch_screen   2000 non-null   int64  \n",
            " 19  wifi           2000 non-null   int64  \n",
            " 20  price_range    2000 non-null   int64  \n",
            "dtypes: float64(2), int64(19)\n",
            "memory usage: 328.2 KB\n"
          ],
          "name": "stdout"
        }
      ]
    },
    {
      "cell_type": "code",
      "metadata": {
        "colab": {
          "base_uri": "https://localhost:8080/"
        },
        "id": "mYXFTN2_PgDw",
        "outputId": "826699da-7c07-4e6c-9492-7473acdd2f7c"
      },
      "source": [
        "print(mobile_te.shape)\r\n",
        "mobile_te.info()"
      ],
      "execution_count": 14,
      "outputs": [
        {
          "output_type": "stream",
          "text": [
            "(1000, 21)\n",
            "<class 'pandas.core.frame.DataFrame'>\n",
            "RangeIndex: 1000 entries, 0 to 999\n",
            "Data columns (total 21 columns):\n",
            " #   Column         Non-Null Count  Dtype  \n",
            "---  ------         --------------  -----  \n",
            " 0   id             1000 non-null   int64  \n",
            " 1   battery_power  1000 non-null   int64  \n",
            " 2   blue           1000 non-null   int64  \n",
            " 3   clock_speed    1000 non-null   float64\n",
            " 4   dual_sim       1000 non-null   int64  \n",
            " 5   fc             1000 non-null   int64  \n",
            " 6   four_g         1000 non-null   int64  \n",
            " 7   int_memory     1000 non-null   int64  \n",
            " 8   m_dep          1000 non-null   float64\n",
            " 9   mobile_wt      1000 non-null   int64  \n",
            " 10  n_cores        1000 non-null   int64  \n",
            " 11  pc             1000 non-null   int64  \n",
            " 12  px_height      1000 non-null   int64  \n",
            " 13  px_width       1000 non-null   int64  \n",
            " 14  ram            1000 non-null   int64  \n",
            " 15  sc_h           1000 non-null   int64  \n",
            " 16  sc_w           1000 non-null   int64  \n",
            " 17  talk_time      1000 non-null   int64  \n",
            " 18  three_g        1000 non-null   int64  \n",
            " 19  touch_screen   1000 non-null   int64  \n",
            " 20  wifi           1000 non-null   int64  \n",
            "dtypes: float64(2), int64(19)\n",
            "memory usage: 164.2 KB\n"
          ],
          "name": "stdout"
        }
      ]
    },
    {
      "cell_type": "code",
      "metadata": {
        "id": "Z4WxtV2GPgBG"
      },
      "source": [
        "# We don't have any NAs. That's great!\r\n",
        "# Next drop the duplicates."
      ],
      "execution_count": null,
      "outputs": []
    },
    {
      "cell_type": "code",
      "metadata": {
        "id": "h6zLn6JVPf-G"
      },
      "source": [
        "mobile_tr.drop_duplicates(inplace=True)\r\n",
        "mobile_te.drop_duplicates(inplace=True)"
      ],
      "execution_count": 18,
      "outputs": []
    },
    {
      "cell_type": "code",
      "metadata": {
        "colab": {
          "base_uri": "https://localhost:8080/"
        },
        "id": "h4ZVS6lLPf5a",
        "outputId": "f44ef840-7f06-4ef5-cdfd-0ce81006e6f1"
      },
      "source": [
        "#Confirm if we have missing data\r\n",
        "mobile_tr.isna().sum()"
      ],
      "execution_count": 16,
      "outputs": [
        {
          "output_type": "execute_result",
          "data": {
            "text/plain": [
              "battery_power    0\n",
              "blue             0\n",
              "clock_speed      0\n",
              "dual_sim         0\n",
              "fc               0\n",
              "four_g           0\n",
              "int_memory       0\n",
              "m_dep            0\n",
              "mobile_wt        0\n",
              "n_cores          0\n",
              "pc               0\n",
              "px_height        0\n",
              "px_width         0\n",
              "ram              0\n",
              "sc_h             0\n",
              "sc_w             0\n",
              "talk_time        0\n",
              "three_g          0\n",
              "touch_screen     0\n",
              "wifi             0\n",
              "price_range      0\n",
              "dtype: int64"
            ]
          },
          "metadata": {
            "tags": []
          },
          "execution_count": 16
        }
      ]
    },
    {
      "cell_type": "code",
      "metadata": {
        "colab": {
          "base_uri": "https://localhost:8080/"
        },
        "id": "cGTtx3vWPf2e",
        "outputId": "d1c1d8e1-ba89-4131-b748-6e3dd59485fa"
      },
      "source": [
        "mobile_te.isna().sum()"
      ],
      "execution_count": 19,
      "outputs": [
        {
          "output_type": "execute_result",
          "data": {
            "text/plain": [
              "id               0\n",
              "battery_power    0\n",
              "blue             0\n",
              "clock_speed      0\n",
              "dual_sim         0\n",
              "fc               0\n",
              "four_g           0\n",
              "int_memory       0\n",
              "m_dep            0\n",
              "mobile_wt        0\n",
              "n_cores          0\n",
              "pc               0\n",
              "px_height        0\n",
              "px_width         0\n",
              "ram              0\n",
              "sc_h             0\n",
              "sc_w             0\n",
              "talk_time        0\n",
              "three_g          0\n",
              "touch_screen     0\n",
              "wifi             0\n",
              "dtype: int64"
            ]
          },
          "metadata": {
            "tags": []
          },
          "execution_count": 19
        }
      ]
    },
    {
      "cell_type": "code",
      "metadata": {
        "colab": {
          "base_uri": "https://localhost:8080/",
          "height": 313
        },
        "id": "haDu7iEpXwP9",
        "outputId": "80322e48-2b22-49c5-95ad-b932e7f6614f"
      },
      "source": [
        "# standardize in a one liner\r\n",
        "ds = StandardScaler().fit_transform(mobile_tr)\r\n",
        "# lets fit kmeans\r\n",
        "k5 = KMeans(5)\r\n",
        "k5_labs = k5.fit_predict(ds)\r\n",
        "\r\n",
        "# plot\r\n",
        "skplt.metrics.plot_silhouette(ds, k5_labs)"
      ],
      "execution_count": 24,
      "outputs": [
        {
          "output_type": "execute_result",
          "data": {
            "text/plain": [
              "<matplotlib.axes._subplots.AxesSubplot at 0x7ff6c1016850>"
            ]
          },
          "metadata": {
            "tags": []
          },
          "execution_count": 24
        },
        {
          "output_type": "display_data",
          "data": {
            "image/png": "[encoded data removed]",
            "text/plain": [
              "<Figure size 432x288 with 1 Axes>"
            ]
          },
          "metadata": {
            "tags": [],
            "needs_background": "light"
          }
        }
      ]
    },
    {
      "cell_type": "code",
      "metadata": {
        "colab": {
          "base_uri": "https://localhost:8080/"
        },
        "id": "Qkh-LRacXwNa",
        "outputId": "b91fcd58-5553-467c-82ce-77d404a99939"
      },
      "source": [
        "merged= pd.concat([mobile_te,mobile_tr])\r\n",
        "print(merged.shape)\r\n",
        "merged.info()"
      ],
      "execution_count": 49,
      "outputs": [
        {
          "output_type": "stream",
          "text": [
            "(3000, 22)\n",
            "<class 'pandas.core.frame.DataFrame'>\n",
            "Int64Index: 3000 entries, 0 to 1999\n",
            "Data columns (total 22 columns):\n",
            " #   Column         Non-Null Count  Dtype  \n",
            "---  ------         --------------  -----  \n",
            " 0   id             1000 non-null   float64\n",
            " 1   battery_power  3000 non-null   int64  \n",
            " 2   blue           3000 non-null   int64  \n",
            " 3   clock_speed    3000 non-null   float64\n",
            " 4   dual_sim       3000 non-null   int64  \n",
            " 5   fc             3000 non-null   int64  \n",
            " 6   four_g         3000 non-null   int64  \n",
            " 7   int_memory     3000 non-null   int64  \n",
            " 8   m_dep          3000 non-null   float64\n",
            " 9   mobile_wt      3000 non-null   int64  \n",
            " 10  n_cores        3000 non-null   int64  \n",
            " 11  pc             3000 non-null   int64  \n",
            " 12  px_height      3000 non-null   int64  \n",
            " 13  px_width       3000 non-null   int64  \n",
            " 14  ram            3000 non-null   int64  \n",
            " 15  sc_h           3000 non-null   int64  \n",
            " 16  sc_w           3000 non-null   int64  \n",
            " 17  talk_time      3000 non-null   int64  \n",
            " 18  three_g        3000 non-null   int64  \n",
            " 19  touch_screen   3000 non-null   int64  \n",
            " 20  wifi           3000 non-null   int64  \n",
            " 21  price_range    2000 non-null   float64\n",
            "dtypes: float64(4), int64(18)\n",
            "memory usage: 539.1 KB\n"
          ],
          "name": "stdout"
        }
      ]
    },
    {
      "cell_type": "code",
      "metadata": {
        "id": "tXF0hJcBvxEn"
      },
      "source": [
        "merged.drop(['id', 'price_range'], axis=1, inplace=True)\r\n"
      ],
      "execution_count": 50,
      "outputs": []
    },
    {
      "cell_type": "code",
      "metadata": {
        "colab": {
          "base_uri": "https://localhost:8080/"
        },
        "id": "cqoNMzWdwsNe",
        "outputId": "2888fb92-35c3-4357-841d-2dd496d75175"
      },
      "source": [
        "merged.info()"
      ],
      "execution_count": 51,
      "outputs": [
        {
          "output_type": "stream",
          "text": [
            "<class 'pandas.core.frame.DataFrame'>\n",
            "Int64Index: 3000 entries, 0 to 1999\n",
            "Data columns (total 20 columns):\n",
            " #   Column         Non-Null Count  Dtype  \n",
            "---  ------         --------------  -----  \n",
            " 0   battery_power  3000 non-null   int64  \n",
            " 1   blue           3000 non-null   int64  \n",
            " 2   clock_speed    3000 non-null   float64\n",
            " 3   dual_sim       3000 non-null   int64  \n",
            " 4   fc             3000 non-null   int64  \n",
            " 5   four_g         3000 non-null   int64  \n",
            " 6   int_memory     3000 non-null   int64  \n",
            " 7   m_dep          3000 non-null   float64\n",
            " 8   mobile_wt      3000 non-null   int64  \n",
            " 9   n_cores        3000 non-null   int64  \n",
            " 10  pc             3000 non-null   int64  \n",
            " 11  px_height      3000 non-null   int64  \n",
            " 12  px_width       3000 non-null   int64  \n",
            " 13  ram            3000 non-null   int64  \n",
            " 14  sc_h           3000 non-null   int64  \n",
            " 15  sc_w           3000 non-null   int64  \n",
            " 16  talk_time      3000 non-null   int64  \n",
            " 17  three_g        3000 non-null   int64  \n",
            " 18  touch_screen   3000 non-null   int64  \n",
            " 19  wifi           3000 non-null   int64  \n",
            "dtypes: float64(2), int64(18)\n",
            "memory usage: 492.2 KB\n"
          ],
          "name": "stdout"
        }
      ]
    },
    {
      "cell_type": "code",
      "metadata": {
        "colab": {
          "base_uri": "https://localhost:8080/",
          "height": 313
        },
        "id": "zRy5Mk8mx8pa",
        "outputId": "da875cb6-d3de-44cf-da35-8bef2f72b426"
      },
      "source": [
        "# standardize in a one liner\r\n",
        "ds = StandardScaler().fit_transform(merged)\r\n",
        "# lets fit kmeans\r\n",
        "k5 = KMeans(5)\r\n",
        "k5_labs = k5.fit_predict(ds)\r\n",
        "\r\n",
        "# plot\r\n",
        "skplt.metrics.plot_silhouette(ds, k5_labs)"
      ],
      "execution_count": 52,
      "outputs": [
        {
          "output_type": "execute_result",
          "data": {
            "text/plain": [
              "<matplotlib.axes._subplots.AxesSubplot at 0x7ff6bc9f1d50>"
            ]
          },
          "metadata": {
            "tags": []
          },
          "execution_count": 52
        },
        {
          "output_type": "display_data",
          "data": {
            "image/png": "[encoded data removed]",
            "text/plain": [
              "<Figure size 432x288 with 1 Axes>"
            ]
          },
          "metadata": {
            "tags": [],
            "needs_background": "light"
          }
        }
      ]
    },
    {
      "cell_type": "code",
      "metadata": {
        "colab": {
          "base_uri": "https://localhost:8080/",
          "height": 372
        },
        "id": "O23_7GFrXwKj",
        "outputId": "aa990e50-f4d8-4d79-8511-6092432ad2e6"
      },
      "source": [
        "# Kmeans for test dataset\r\n",
        "KRANGE = range(2, 30)\r\n",
        "# containers\r\n",
        "ss = []\r\n",
        "\r\n",
        "\r\n",
        "for k in KRANGE:\r\n",
        " km = KMeans(k)\r\n",
        " lab = km.fit_predict(merged)\r\n",
        " ss.append(metrics.silhouette_score(merged, lab))\r\n",
        "# the plot \r\n",
        "sns.lineplot(KRANGE, ss)\r\n"
      ],
      "execution_count": 53,
      "outputs": [
        {
          "output_type": "stream",
          "text": [
            "/usr/local/lib/python3.7/dist-packages/seaborn/_decorators.py:43: FutureWarning:\n",
            "\n",
            "Pass the following variables as keyword args: x, y. From version 0.12, the only valid positional argument will be `data`, and passing other arguments without an explicit keyword will result in an error or misinterpretation.\n",
            "\n"
          ],
          "name": "stderr"
        },
        {
          "output_type": "execute_result",
          "data": {
            "text/plain": [
              "<matplotlib.axes._subplots.AxesSubplot at 0x7ff6bb530550>"
            ]
          },
          "metadata": {
            "tags": []
          },
          "execution_count": 53
        },
        {
          "output_type": "display_data",
          "data": {
            "image/png": "[encoded data removed]",
            "text/plain": [
              "<Figure size 432x288 with 1 Axes>"
            ]
          },
          "metadata": {
            "tags": [],
            "needs_background": "light"
          }
        }
      ]
    },
    {
      "cell_type": "code",
      "metadata": {
        "id": "p_wKExx3XwH_"
      },
      "source": [
        ""
      ],
      "execution_count": null,
      "outputs": []
    },
    {
      "cell_type": "code",
      "metadata": {
        "id": "g-2AAQMUXwFc"
      },
      "source": [
        ""
      ],
      "execution_count": null,
      "outputs": []
    },
    {
      "cell_type": "code",
      "metadata": {
        "id": "zjxBQxjLXwC3"
      },
      "source": [
        ""
      ],
      "execution_count": null,
      "outputs": []
    },
    {
      "cell_type": "code",
      "metadata": {
        "id": "td0jU2V0XwAY"
      },
      "source": [
        ""
      ],
      "execution_count": null,
      "outputs": []
    },
    {
      "cell_type": "code",
      "metadata": {
        "id": "qV22KUgeXv-E"
      },
      "source": [
        ""
      ],
      "execution_count": null,
      "outputs": []
    },
    {
      "cell_type": "code",
      "metadata": {
        "id": "LkSjLbMUXv7p"
      },
      "source": [
        ""
      ],
      "execution_count": null,
      "outputs": []
    },
    {
      "cell_type": "code",
      "metadata": {
        "id": "s4vlot1AXv40"
      },
      "source": [
        ""
      ],
      "execution_count": null,
      "outputs": []
    }
  ]
}