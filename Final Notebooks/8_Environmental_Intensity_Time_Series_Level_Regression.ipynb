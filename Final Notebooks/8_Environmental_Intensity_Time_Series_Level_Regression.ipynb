{
  "nbformat": 4,
  "nbformat_minor": 0,
  "metadata": {
    "colab": {
      "name": "8.Environmental Intensity Time Series - Level Regression.ipynb",
      "provenance": [],
      "collapsed_sections": []
    },
    "kernelspec": {
      "display_name": "Python 3",
      "language": "python",
      "name": "python3"
    },
    "language_info": {
      "codemirror_mode": {
        "name": "ipython",
        "version": 3
      },
      "file_extension": ".py",
      "mimetype": "text/x-python",
      "name": "python",
      "nbconvert_exporter": "python",
      "pygments_lexer": "ipython3",
      "version": "3.8.8"
    }
  },
  "cells": [
    {
      "cell_type": "markdown",
      "metadata": {
        "id": "IQQr3EKJvBDs"
      },
      "source": [
        "## Environmental Intensity Level Regressions and Dickey–Fuller test\n",
        "\n",
        "In the notebook 'PredictingTimeSeries_&_PilotStock_CompDescription', we ran several linear regressions combining different features and we saw it yield a high R2 score. In this notebook, we will run the regressions but focus on their coefficients. \n",
        "\n",
        "Also, we are going to do some Dickey-Fuller test"
      ]
    },
    {
      "cell_type": "code",
      "metadata": {
        "colab": {
          "base_uri": "https://localhost:8080/"
        },
        "id": "YPVuZD4zvz-U",
        "outputId": "41f75243-be8c-4b33-e861-3c7003b34d47"
      },
      "source": [
        "import pandas as pd\n",
        "import numpy as np\n",
        "import seaborn as sns\n",
        "import matplotlib.pyplot as plt\n",
        "import missingno as msno\n",
        "import warnings\n",
        "from sklearn import linear_model\n",
        "from sklearn import metrics\n",
        "from sklearn.linear_model import LinearRegression\n",
        "from sklearn.model_selection import train_test_split\n",
        "import requests\n",
        "from bs4 import BeautifulSoup\n",
        "import os\n",
        "import statsmodels.api as sm\n",
        "warnings.filterwarnings('ignore')"
      ],
      "execution_count": null,
      "outputs": [
        {
          "output_type": "stream",
          "text": [
            "/usr/local/lib/python3.7/dist-packages/statsmodels/tools/_testing.py:19: FutureWarning: pandas.util.testing is deprecated. Use the functions in the public API at pandas.testing instead.\n",
            "  import pandas.util.testing as tm\n"
          ],
          "name": "stderr"
        }
      ]
    },
    {
      "cell_type": "code",
      "metadata": {
        "id": "tyo15keBvz-W",
        "outputId": "2134d145-ff68-49fe-b6e1-d1d5c245a23e"
      },
      "source": [
        "df=pd.read_csv('/Users/maralinetorres/Documents/GitHub/Predicting-Environmental-and-Social-Actions/Datasets/Environmental_impact_cleaned.csv')\n",
        "df.head()"
      ],
      "execution_count": null,
      "outputs": [
        {
          "output_type": "execute_result",
          "data": {
            "text/html": [
              "<div>\n",
              "<style scoped>\n",
              "    .dataframe tbody tr th:only-of-type {\n",
              "        vertical-align: middle;\n",
              "    }\n",
              "\n",
              "    .dataframe tbody tr th {\n",
              "        vertical-align: top;\n",
              "    }\n",
              "\n",
              "    .dataframe thead th {\n",
              "        text-align: right;\n",
              "    }\n",
              "</style>\n",
              "<table border=\"1\" class=\"dataframe\">\n",
              "  <thead>\n",
              "    <tr style=\"text-align: right;\">\n",
              "      <th></th>\n",
              "      <th>ISIN</th>\n",
              "      <th>Year</th>\n",
              "      <th>CompanyName</th>\n",
              "      <th>Country</th>\n",
              "      <th>Industry(Exiobase)</th>\n",
              "      <th>EnvironmentalIntensity(Sales)</th>\n",
              "      <th>EnvironmentalIntensity(OpInc)</th>\n",
              "      <th>TotalEnvironmentalCost</th>\n",
              "      <th>WorkingCapacity</th>\n",
              "      <th>FishProductionCapacity</th>\n",
              "      <th>...</th>\n",
              "      <th>SDG14.c</th>\n",
              "      <th>SDG15.1</th>\n",
              "      <th>SDG15.2</th>\n",
              "      <th>SDG15.5</th>\n",
              "      <th>%Imputed</th>\n",
              "      <th>Env_intensity</th>\n",
              "      <th>industry_avg</th>\n",
              "      <th>industry_avg_year</th>\n",
              "      <th>Industry_indicator_year</th>\n",
              "      <th>Environmental_Growth</th>\n",
              "    </tr>\n",
              "  </thead>\n",
              "  <tbody>\n",
              "    <tr>\n",
              "      <th>0</th>\n",
              "      <td>DE0005545503</td>\n",
              "      <td>2016</td>\n",
              "      <td>1&amp;1 DRILLISCH AG</td>\n",
              "      <td>Germany</td>\n",
              "      <td>Post and telecommunications (64)</td>\n",
              "      <td>-0.07%</td>\n",
              "      <td>-0.82%</td>\n",
              "      <td>-539,318</td>\n",
              "      <td>-525,027</td>\n",
              "      <td>-169</td>\n",
              "      <td>...</td>\n",
              "      <td>-6</td>\n",
              "      <td>67</td>\n",
              "      <td>67</td>\n",
              "      <td>-22</td>\n",
              "      <td>23%</td>\n",
              "      <td>-0.0007</td>\n",
              "      <td>-0.020506</td>\n",
              "      <td>-0.020740</td>\n",
              "      <td>1</td>\n",
              "      <td>NaN</td>\n",
              "    </tr>\n",
              "    <tr>\n",
              "      <th>1</th>\n",
              "      <td>GB00B1YW4409</td>\n",
              "      <td>2010</td>\n",
              "      <td>3I GROUP PLC</td>\n",
              "      <td>United Kingdom</td>\n",
              "      <td>Financial intermediation, except insurance and...</td>\n",
              "      <td>-0.12%</td>\n",
              "      <td>-0.11%</td>\n",
              "      <td>-1,055,812</td>\n",
              "      <td>-1,032,103</td>\n",
              "      <td>-277</td>\n",
              "      <td>...</td>\n",
              "      <td>-4</td>\n",
              "      <td>51</td>\n",
              "      <td>51</td>\n",
              "      <td>-43</td>\n",
              "      <td>10%</td>\n",
              "      <td>-0.0012</td>\n",
              "      <td>-0.028537</td>\n",
              "      <td>-0.006402</td>\n",
              "      <td>1</td>\n",
              "      <td>NaN</td>\n",
              "    </tr>\n",
              "    <tr>\n",
              "      <th>2</th>\n",
              "      <td>GB00B1YW4409</td>\n",
              "      <td>2011</td>\n",
              "      <td>3I GROUP PLC</td>\n",
              "      <td>United Kingdom</td>\n",
              "      <td>Financial intermediation, except insurance and...</td>\n",
              "      <td>-0.16%</td>\n",
              "      <td>-0.16%</td>\n",
              "      <td>-961,875</td>\n",
              "      <td>-940,402</td>\n",
              "      <td>-246</td>\n",
              "      <td>...</td>\n",
              "      <td>-3</td>\n",
              "      <td>38</td>\n",
              "      <td>38</td>\n",
              "      <td>-39</td>\n",
              "      <td>9%</td>\n",
              "      <td>-0.0016</td>\n",
              "      <td>-0.028537</td>\n",
              "      <td>-0.009838</td>\n",
              "      <td>1</td>\n",
              "      <td>33.333333</td>\n",
              "    </tr>\n",
              "    <tr>\n",
              "      <th>3</th>\n",
              "      <td>GB00B1YW4409</td>\n",
              "      <td>2012</td>\n",
              "      <td>3I GROUP PLC</td>\n",
              "      <td>United Kingdom</td>\n",
              "      <td>Financial intermediation, except insurance and...</td>\n",
              "      <td>-0.15%</td>\n",
              "      <td>NaN</td>\n",
              "      <td>-722,999</td>\n",
              "      <td>-706,893</td>\n",
              "      <td>-183</td>\n",
              "      <td>...</td>\n",
              "      <td>-2</td>\n",
              "      <td>27</td>\n",
              "      <td>27</td>\n",
              "      <td>-30</td>\n",
              "      <td>8%</td>\n",
              "      <td>-0.0015</td>\n",
              "      <td>-0.028537</td>\n",
              "      <td>-0.024437</td>\n",
              "      <td>1</td>\n",
              "      <td>-6.250000</td>\n",
              "    </tr>\n",
              "    <tr>\n",
              "      <th>4</th>\n",
              "      <td>US88579Y1010</td>\n",
              "      <td>2010</td>\n",
              "      <td>3M COMPANY</td>\n",
              "      <td>United States</td>\n",
              "      <td>Activities of membership organisation n.e.c. (91)</td>\n",
              "      <td>-7.90%</td>\n",
              "      <td>-35.45%</td>\n",
              "      <td>-2,105,919,763</td>\n",
              "      <td>-1,924,672,080</td>\n",
              "      <td>-439,506</td>\n",
              "      <td>...</td>\n",
              "      <td>-423</td>\n",
              "      <td>3,772</td>\n",
              "      <td>3,772</td>\n",
              "      <td>-79,722</td>\n",
              "      <td>1%</td>\n",
              "      <td>-0.0790</td>\n",
              "      <td>-0.175838</td>\n",
              "      <td>-0.084583</td>\n",
              "      <td>1</td>\n",
              "      <td>NaN</td>\n",
              "    </tr>\n",
              "  </tbody>\n",
              "</table>\n",
              "<p>5 rows × 39 columns</p>\n",
              "</div>"
            ],
            "text/plain": [
              "           ISIN  Year       CompanyName         Country  \\\n",
              "0  DE0005545503  2016  1&1 DRILLISCH AG         Germany   \n",
              "1  GB00B1YW4409  2010      3I GROUP PLC  United Kingdom   \n",
              "2  GB00B1YW4409  2011      3I GROUP PLC  United Kingdom   \n",
              "3  GB00B1YW4409  2012      3I GROUP PLC  United Kingdom   \n",
              "4  US88579Y1010  2010        3M COMPANY   United States   \n",
              "\n",
              "                                  Industry(Exiobase)  \\\n",
              "0                   Post and telecommunications (64)   \n",
              "1  Financial intermediation, except insurance and...   \n",
              "2  Financial intermediation, except insurance and...   \n",
              "3  Financial intermediation, except insurance and...   \n",
              "4  Activities of membership organisation n.e.c. (91)   \n",
              "\n",
              "  EnvironmentalIntensity(Sales) EnvironmentalIntensity(OpInc)  \\\n",
              "0                        -0.07%                        -0.82%   \n",
              "1                        -0.12%                        -0.11%   \n",
              "2                        -0.16%                        -0.16%   \n",
              "3                        -0.15%                           NaN   \n",
              "4                        -7.90%                       -35.45%   \n",
              "\n",
              "  TotalEnvironmentalCost WorkingCapacity FishProductionCapacity  ... SDG14.c  \\\n",
              "0               -539,318        -525,027                   -169  ...      -6   \n",
              "1             -1,055,812      -1,032,103                   -277  ...      -4   \n",
              "2               -961,875        -940,402                   -246  ...      -3   \n",
              "3               -722,999        -706,893                   -183  ...      -2   \n",
              "4         -2,105,919,763  -1,924,672,080               -439,506  ...    -423   \n",
              "\n",
              "  SDG15.1 SDG15.2  SDG15.5 %Imputed Env_intensity industry_avg  \\\n",
              "0      67      67      -22      23%       -0.0007    -0.020506   \n",
              "1      51      51      -43      10%       -0.0012    -0.028537   \n",
              "2      38      38      -39       9%       -0.0016    -0.028537   \n",
              "3      27      27      -30       8%       -0.0015    -0.028537   \n",
              "4   3,772   3,772  -79,722       1%       -0.0790    -0.175838   \n",
              "\n",
              "  industry_avg_year Industry_indicator_year Environmental_Growth  \n",
              "0         -0.020740                       1                  NaN  \n",
              "1         -0.006402                       1                  NaN  \n",
              "2         -0.009838                       1            33.333333  \n",
              "3         -0.024437                       1            -6.250000  \n",
              "4         -0.084583                       1                  NaN  \n",
              "\n",
              "[5 rows x 39 columns]"
            ]
          },
          "metadata": {
            "tags": []
          },
          "execution_count": 2
        }
      ]
    },
    {
      "cell_type": "code",
      "metadata": {
        "id": "rEkHAgHzvz-Y"
      },
      "source": [
        "years = [2016, 2017, 2018]\n",
        "df_industry = df.groupby('Industry(Exiobase)').count()['CompanyName'].reset_index()\n",
        "industries = df_industry[df_industry['CompanyName'] > 3]['Industry(Exiobase)']\n",
        "df_industry_count4 = df[df['Industry(Exiobase)'].isin(industries)]\n",
        "df_c = df_industry_count4.copy()\n",
        "def predictiveModel(outcomeYear, pastYears, df_c):\n",
        "    years.sort()\n",
        "    for year in years:\n",
        "        data = df_c[df_c['Year'] == year]\n",
        "        data = data.loc[:,['CompanyName','Env_intensity','industry_avg_year']]\n",
        "        data.rename(columns={'Env_intensity': f'Env_intensity_{year}','industry_avg_year':f'industry_avg_year_{year}'}, inplace=True) \n",
        "        if(year == min(years)):\n",
        "            data1 = pd.DataFrame(data)\n",
        "        else:\n",
        "            data2 = pd.merge(data1, data, on=[\"CompanyName\"])\n",
        "            data1 = data2.copy()\n",
        "    data3 = df_c[df_c['Year'] == outcomeYear]\n",
        "    data3 = data3[['CompanyName','Env_intensity','industry_avg_year']]\n",
        "    data3.rename(columns={'Env_intensity': f'Env_intensity_{outcomeYear}','industry_avg_year':f'industry_avg_year_{outcomeYear}'}, inplace=True) \n",
        "    data3 = pd.merge(data3, data2, on=[\"CompanyName\"])\n",
        "    \n",
        "    filter_col = [col for col in data3 if ((col.startswith('Env_intensity') and not(col.endswith(f'{outcomeYear}')))) or ((col.startswith('industry_avg_year') and not(col.endswith(f'{outcomeYear}'))))]\n",
        "    outcome_col = [col for col in data3 if (col.startswith('Env_intensity') and col.endswith(f'{outcomeYear}'))]\n",
        "    X=data3[filter_col]\n",
        "    y=data3[outcome_col]\n",
        "    \n",
        "    x = sm.add_constant(X)\n",
        "    print(sm.OLS(y, x).fit().summary())"
      ],
      "execution_count": null,
      "outputs": []
    },
    {
      "cell_type": "code",
      "metadata": {
        "id": "_nEeyRBtvz-a",
        "outputId": "ae653df5-4ed2-4e95-f82e-801b0156cefb"
      },
      "source": [
        "predictiveModel(2019, years, df_c)"
      ],
      "execution_count": null,
      "outputs": [
        {
          "output_type": "stream",
          "text": [
            "                            OLS Regression Results                            \n",
            "==============================================================================\n",
            "Dep. Variable:     Env_intensity_2019   R-squared:                       0.884\n",
            "Model:                            OLS   Adj. R-squared:                  0.883\n",
            "Method:                 Least Squares   F-statistic:                     1340.\n",
            "Date:                Thu, 15 Jul 2021   Prob (F-statistic):               0.00\n",
            "Time:                        22:30:25   Log-Likelihood:                 1179.1\n",
            "No. Observations:                1065   AIC:                            -2344.\n",
            "Df Residuals:                    1058   BIC:                            -2309.\n",
            "Df Model:                           6                                         \n",
            "Covariance Type:            nonrobust                                         \n",
            "==========================================================================================\n",
            "                             coef    std err          t      P>|t|      [0.025      0.975]\n",
            "------------------------------------------------------------------------------------------\n",
            "const                     -0.0015      0.003     -0.487      0.627      -0.007       0.004\n",
            "Env_intensity_2016        -0.0512      0.034     -1.517      0.130      -0.118       0.015\n",
            "industry_avg_year_2016    -0.1608      0.064     -2.503      0.012      -0.287      -0.035\n",
            "Env_intensity_2017        -0.0646      0.047     -1.370      0.171      -0.157       0.028\n",
            "industry_avg_year_2017    -0.0608      0.069     -0.884      0.377      -0.196       0.074\n",
            "Env_intensity_2018         1.0234      0.038     27.134      0.000       0.949       1.097\n",
            "industry_avg_year_2018     0.2641      0.087      3.021      0.003       0.093       0.436\n",
            "==============================================================================\n",
            "Omnibus:                     1463.812   Durbin-Watson:                   2.007\n",
            "Prob(Omnibus):                  0.000   Jarque-Bera (JB):          1055912.255\n",
            "Skew:                           6.975   Prob(JB):                         0.00\n",
            "Kurtosis:                     156.625   Cond. No.                         44.9\n",
            "==============================================================================\n",
            "\n",
            "Notes:\n",
            "[1] Standard Errors assume that the covariance matrix of the errors is correctly specified.\n"
          ],
          "name": "stdout"
        }
      ]
    },
    {
      "cell_type": "code",
      "metadata": {
        "id": "C6gLGnGBvz-b"
      },
      "source": [
        "def predictiveModel_v2(outcomeYear, pastYears, df_c):\n",
        "    years.sort()\n",
        "    for year in years:\n",
        "        data = df_c[df_c['Year'] == year]\n",
        "        data = data.loc[:,['CompanyName','Env_intensity','industry_avg_year','Industry_indicator_year']]\n",
        "        data.rename(columns={'Env_intensity': f'Env_intensity_{year}','industry_avg_year':f'industry_avg_year_{year}', 'Industry_indicator_year' : f'Industry_indicator_year_{year}'}, inplace=True) \n",
        "        if(year == min(years)):\n",
        "            data1 = pd.DataFrame(data)\n",
        "        else:\n",
        "            data2 = pd.merge(data1, data, on=[\"CompanyName\"])\n",
        "            data1 = data2.copy()\n",
        "    data3 = df_c[df_c['Year'] == outcomeYear]\n",
        "    data3 = data3[['CompanyName','Env_intensity']]\n",
        "    data3.rename(columns={'Env_intensity': f'Env_intensity_{outcomeYear}'}, inplace=True) \n",
        "    data3 = pd.merge(data3, data2, on=[\"CompanyName\"])\n",
        "    \n",
        "    filter_col = [col for col in data3 if ((col.startswith('Env_intensity') and not(col.endswith(f'{outcomeYear}')))) or ((col.startswith('industry_avg_year') and not(col.endswith(f'{outcomeYear}')))) or ((col.startswith('Industry_indicator_year_') and not(col.endswith(f'{outcomeYear}'))))]            \n",
        "    outcome_col = [col for col in data3 if (col.startswith('Env_intensity') and col.endswith(f'{outcomeYear}'))]\n",
        "    X=data3[filter_col]\n",
        "    y=data3[outcome_col]\n",
        "    \n",
        "    x = sm.add_constant(X)\n",
        "    print(sm.OLS(y, x).fit().summary())"
      ],
      "execution_count": null,
      "outputs": []
    },
    {
      "cell_type": "code",
      "metadata": {
        "id": "gmcwYvmrvz-c",
        "outputId": "41b4cef0-b072-4c30-8dcc-42ac61ac10ac"
      },
      "source": [
        "predictiveModel_v2(2019, years, df_c)"
      ],
      "execution_count": null,
      "outputs": [
        {
          "output_type": "stream",
          "text": [
            "                            OLS Regression Results                            \n",
            "==============================================================================\n",
            "Dep. Variable:     Env_intensity_2019   R-squared:                       0.884\n",
            "Model:                            OLS   Adj. R-squared:                  0.883\n",
            "Method:                 Least Squares   F-statistic:                     893.7\n",
            "Date:                Thu, 15 Jul 2021   Prob (F-statistic):               0.00\n",
            "Time:                        22:31:46   Log-Likelihood:                 1180.6\n",
            "No. Observations:                1065   AIC:                            -2341.\n",
            "Df Residuals:                    1055   BIC:                            -2291.\n",
            "Df Model:                           9                                         \n",
            "Covariance Type:            nonrobust                                         \n",
            "================================================================================================\n",
            "                                   coef    std err          t      P>|t|      [0.025      0.975]\n",
            "------------------------------------------------------------------------------------------------\n",
            "const                           -0.0020      0.003     -0.576      0.565      -0.009       0.005\n",
            "Env_intensity_2016              -0.0603      0.035     -1.737      0.083      -0.128       0.008\n",
            "industry_avg_year_2016          -0.1463      0.066     -2.222      0.026      -0.276      -0.017\n",
            "Industry_indicator_year_2016     0.0049      0.005      1.036      0.300      -0.004       0.014\n",
            "Env_intensity_2017              -0.0686      0.048     -1.434      0.152      -0.163       0.025\n",
            "industry_avg_year_2017          -0.0486      0.070     -0.692      0.489      -0.186       0.089\n",
            "Industry_indicator_year_2017     0.0041      0.005      0.747      0.455      -0.007       0.015\n",
            "Env_intensity_2018               1.0306      0.038     26.999      0.000       0.956       1.106\n",
            "industry_avg_year_2018           0.2426      0.088      2.742      0.006       0.069       0.416\n",
            "Industry_indicator_year_2018    -0.0067      0.005     -1.283      0.200      -0.017       0.004\n",
            "==============================================================================\n",
            "Omnibus:                     1463.792   Durbin-Watson:                   2.011\n",
            "Prob(Omnibus):                  0.000   Jarque-Bera (JB):          1057584.362\n",
            "Skew:                           6.974   Prob(JB):                         0.00\n",
            "Kurtosis:                     156.748   Cond. No.                         74.3\n",
            "==============================================================================\n",
            "\n",
            "Notes:\n",
            "[1] Standard Errors assume that the covariance matrix of the errors is correctly specified.\n"
          ],
          "name": "stdout"
        }
      ]
    },
    {
      "cell_type": "code",
      "metadata": {
        "id": "gFZpu5Ekvz-d"
      },
      "source": [
        "def predictiveModel_v3(outcomeYear, pastYears, df_c):\n",
        "    years.sort()\n",
        "    for year in years:\n",
        "        data = df_c[df_c['Year'] == year]\n",
        "        data = data.loc[:,['CompanyName','Env_intensity','industry_avg_year','Industry_indicator_year','Environmental_Growth']]\n",
        "        data.rename(columns={'Env_intensity': f'Env_intensity_{year}','industry_avg_year':f'industry_avg_year_{year}', 'Industry_indicator_year' : f'Industry_indicator_year_{year}', 'Environmental_Growth': f'Environmental_Growth_{year}'}, inplace=True) \n",
        "        if(year == min(years)):\n",
        "            data1 = pd.DataFrame(data)\n",
        "        else:\n",
        "            data2 = pd.merge(data1, data, on=[\"CompanyName\"])\n",
        "            data1 = data2.copy()\n",
        "    data2.dropna(inplace=True)\n",
        "    data3 = df_c[df_c['Year'] == outcomeYear]\n",
        "    data3 = data3[['CompanyName','Env_intensity']]\n",
        "    data3.rename(columns={'Env_intensity': f'Env_intensity_{outcomeYear}'}, inplace=True) \n",
        "    data3 = pd.merge(data3, data2, on=[\"CompanyName\"])\n",
        "    \n",
        "    filter_col = [col for col in data3 if ((col.startswith('Env_intensity') and not(col.endswith(f'{outcomeYear}')))) or ((col.startswith('industry_avg_year') and not(col.endswith(f'{outcomeYear}')))) or ((col.startswith('Industry_indicator_year_') and not(col.endswith(f'{outcomeYear}')))) or ((col.startswith('Environmental_Growth_') and not(col.endswith(f'{outcomeYear}'))))]            \n",
        "    outcome_col = [col for col in data3 if (col.startswith('Env_intensity') and col.endswith(f'{outcomeYear}'))]\n",
        "    X=data3[filter_col]\n",
        "    y=data3[outcome_col]\n",
        "    \n",
        "    x = sm.add_constant(X)\n",
        "    print(sm.OLS(y, x).fit().summary())"
      ],
      "execution_count": null,
      "outputs": []
    },
    {
      "cell_type": "code",
      "metadata": {
        "id": "W2Tabm3tvz-f",
        "outputId": "4bad93cc-9c35-40d5-abd8-b5ba45b1dd82"
      },
      "source": [
        "predictiveModel_v3(2019, years, df_c)"
      ],
      "execution_count": null,
      "outputs": [
        {
          "output_type": "stream",
          "text": [
            "                            OLS Regression Results                            \n",
            "==============================================================================\n",
            "Dep. Variable:     Env_intensity_2019   R-squared:                       0.878\n",
            "Model:                            OLS   Adj. R-squared:                  0.876\n",
            "Method:                 Least Squares   F-statistic:                     596.2\n",
            "Date:                Thu, 15 Jul 2021   Prob (F-statistic):               0.00\n",
            "Time:                        22:36:03   Log-Likelihood:                 1109.2\n",
            "No. Observations:                1010   AIC:                            -2192.\n",
            "Df Residuals:                     997   BIC:                            -2128.\n",
            "Df Model:                          12                                         \n",
            "Covariance Type:            nonrobust                                         \n",
            "================================================================================================\n",
            "                                   coef    std err          t      P>|t|      [0.025      0.975]\n",
            "------------------------------------------------------------------------------------------------\n",
            "const                           -0.0034      0.004     -0.900      0.368      -0.011       0.004\n",
            "Env_intensity_2016              -0.0087      0.045     -0.194      0.846      -0.097       0.080\n",
            "industry_avg_year_2016          -0.2048      0.080     -2.562      0.011      -0.362      -0.048\n",
            "Industry_indicator_year_2016     0.0047      0.005      0.930      0.353      -0.005       0.015\n",
            "Environmental_Growth_2016        0.0002   6.12e-05      2.621      0.009    4.03e-05       0.000\n",
            "Env_intensity_2017              -0.1571      0.059     -2.648      0.008      -0.274      -0.041\n",
            "industry_avg_year_2017           0.0230      0.095      0.243      0.808      -0.163       0.209\n",
            "Industry_indicator_year_2017     0.0037      0.006      0.647      0.518      -0.008       0.015\n",
            "Environmental_Growth_2017    -1.794e-05   9.83e-06     -1.824      0.068   -3.72e-05    1.36e-06\n",
            "Env_intensity_2018               1.0721      0.045     23.748      0.000       0.984       1.161\n",
            "industry_avg_year_2018           0.2198      0.107      2.047      0.041       0.009       0.430\n",
            "Industry_indicator_year_2018    -0.0056      0.006     -0.990      0.322      -0.017       0.005\n",
            "Environmental_Growth_2018      9.94e-05   4.24e-05      2.344      0.019    1.62e-05       0.000\n",
            "==============================================================================\n",
            "Omnibus:                     1385.003   Durbin-Watson:                   2.013\n",
            "Prob(Omnibus):                  0.000   Jarque-Bera (JB):           950049.204\n",
            "Skew:                           6.930   Prob(JB):                         0.00\n",
            "Kurtosis:                     152.611   Cond. No.                     1.59e+04\n",
            "==============================================================================\n",
            "\n",
            "Notes:\n",
            "[1] Standard Errors assume that the covariance matrix of the errors is correctly specified.\n",
            "[2] The condition number is large, 1.59e+04. This might indicate that there are\n",
            "strong multicollinearity or other numerical problems.\n"
          ],
          "name": "stdout"
        }
      ]
    },
    {
      "cell_type": "markdown",
      "metadata": {
        "id": "aWh1C4vdzafg"
      },
      "source": [
        "Summary: Using environmental intensity and industry average year have highest explanatory power. The coefficients for industry average of 2016 and 2018 and environmental intensity for 2018 are statistically significant. 2018 EI has highest(1.02) fixed effect on 2019 EI."
      ]
    },
    {
      "cell_type": "markdown",
      "metadata": {
        "id": "lkle6Cqxvz-g"
      },
      "source": [
        "## Dickey–Fuller test"
      ]
    },
    {
      "cell_type": "code",
      "metadata": {
        "colab": {
          "base_uri": "https://localhost:8080/"
        },
        "id": "9V0kmvh5BvYj",
        "outputId": "115f2978-9253-467d-8e2a-21869cd2cc51"
      },
      "source": [
        "from statsmodels.tsa.stattools import adfuller\n",
        "df=pd.read_csv('Environmental_impact_cleaned.csv')\n",
        "ind = df.copy()\n",
        "y2018=list(ind[ind['Year'] == 2018]['Env_intensity'])\n",
        "y2018=pd.Series(y2018)\n",
        "X = y2018.values\n",
        "result = adfuller(X)\n",
        "split = round(len(X) / 2)\n",
        "X1, X2 = X[0:split], X[split:]\n",
        "mean1, mean2 = X1.mean(), X2.mean()\n",
        "var1, var2 = X1.var(), X2.var()\n",
        "print('mean1=%f, mean2=%f' % (mean1, mean2))\n",
        "print('variance1=%f, variance2=%f' % (var1, var2))\n",
        "print('ADF Statistic: %f' % result[0])\n",
        "print('p-value: %f' % result[1])\n",
        "print('Critical Values:')\n",
        "for key, value in result[4].items():\n",
        "\tprint('\\t%s: %.3f' % (key, value))\n"
      ],
      "execution_count": 27,
      "outputs": [
        {
          "output_type": "stream",
          "text": [
            "mean1=-0.129262, mean2=-0.101468\n",
            "variance1=0.094017, variance2=0.052920\n",
            "ADF Statistic: -24.980342\n",
            "p-value: 0.000000\n",
            "Critical Values:\n",
            "\t1%: -3.434\n",
            "\t5%: -2.863\n",
            "\t10%: -2.568\n"
          ],
          "name": "stdout"
        }
      ]
    },
    {
      "cell_type": "code",
      "metadata": {
        "colab": {
          "base_uri": "https://localhost:8080/"
        },
        "id": "wOUQAOPHKD7V",
        "outputId": "8c2b9f3f-baa2-4e43-b072-85a51a0eda23"
      },
      "source": [
        "y2017=list(ind[ind['Year'] == 2017]['Env_intensity'])\n",
        "y2017=pd.Series(y2017)\n",
        "from statsmodels.tsa.stattools import adfuller\n",
        "X = y2017.values\n",
        "result = adfuller(X)\n",
        "split = round(len(X) / 2)\n",
        "X1, X2 = X[0:split], X[split:]\n",
        "mean1, mean2 = X1.mean(), X2.mean()\n",
        "var1, var2 = X1.var(), X2.var()\n",
        "print('mean1=%f, mean2=%f' % (mean1, mean2))\n",
        "print('variance1=%f, variance2=%f' % (var1, var2))\n",
        "print('ADF Statistic: %f' % result[0])\n",
        "print('p-value: %f' % result[1])\n",
        "print('Critical Values:')\n",
        "for key, value in result[4].items():\n",
        "\tprint('\\t%s: %.3f' % (key, value))"
      ],
      "execution_count": null,
      "outputs": [
        {
          "output_type": "stream",
          "text": [
            "mean1=-0.123985, mean2=-0.108138\n",
            "variance1=0.089221, variance2=0.063000\n",
            "ADF Statistic: -26.071015\n",
            "p-value: 0.000000\n",
            "Critical Values:\n",
            "\t1%: -3.434\n",
            "\t5%: -2.863\n",
            "\t10%: -2.568\n"
          ],
          "name": "stdout"
        }
      ]
    },
    {
      "cell_type": "code",
      "metadata": {
        "colab": {
          "base_uri": "https://localhost:8080/"
        },
        "id": "BLbF6tUVTyY0",
        "outputId": "ebbe7e40-3d38-4411-9a78-1a7aec1dc95e"
      },
      "source": [
        "y2016=list(ind[ind['Year'] == 2016]['Env_intensity'])\n",
        "y2016=pd.Series(y2016)\n",
        "from statsmodels.tsa.stattools import adfuller\n",
        "X = y2016.values\n",
        "result = adfuller(X)\n",
        "split = round(len(X) / 2)\n",
        "X1, X2 = X[0:split], X[split:]\n",
        "mean1, mean2 = X1.mean(), X2.mean()\n",
        "var1, var2 = X1.var(), X2.var()\n",
        "print('ADF Statistic: %f' % result[0])\n",
        "print('p-value: %f' % result[1])\n",
        "print('Critical Values:')\n",
        "print('mean1=%f, mean2=%f' % (mean1, mean2))\n",
        "print('variance1=%f, variance2=%f' % (var1, var2))\n",
        "for key, value in result[4].items():\n",
        "\tprint('\\t%s: %.3f' % (key, value))"
      ],
      "execution_count": null,
      "outputs": [
        {
          "output_type": "stream",
          "text": [
            "ADF Statistic: -38.998411\n",
            "p-value: 0.000000\n",
            "Critical Values:\n",
            "mean1=-0.128953, mean2=-0.113759\n",
            "variance1=0.084427, variance2=0.066553\n",
            "\t1%: -3.434\n",
            "\t5%: -2.863\n",
            "\t10%: -2.568\n"
          ],
          "name": "stdout"
        }
      ]
    },
    {
      "cell_type": "code",
      "metadata": {
        "colab": {
          "base_uri": "https://localhost:8080/"
        },
        "id": "zjiDtZHJT7XC",
        "outputId": "17cbd3ba-c9d6-4059-a9c1-15e75476a350"
      },
      "source": [
        "y2015=list(ind[ind['Year'] == 2015]['Env_intensity'])\n",
        "y2015=pd.Series(y2015)\n",
        "from statsmodels.tsa.stattools import adfuller\n",
        "X = y2015.values\n",
        "result = adfuller(X)\n",
        "split = round(len(X) / 2)\n",
        "X1, X2 = X[0:split], X[split:]\n",
        "mean1, mean2 = X1.mean(), X2.mean()\n",
        "var1, var2 = X1.var(), X2.var()\n",
        "print('mean1=%f, mean2=%f' % (mean1, mean2))\n",
        "print('variance1=%f, variance2=%f' % (var1, var2))\n",
        "print('ADF Statistic: %f' % result[0])\n",
        "print('p-value: %f' % result[1])\n",
        "print('Critical Values:')\n",
        "for key, value in result[4].items():\n",
        "\tprint('\\t%s: %.3f' % (key, value))"
      ],
      "execution_count": null,
      "outputs": [
        {
          "output_type": "stream",
          "text": [
            "mean1=-0.128073, mean2=-0.112539\n",
            "variance1=0.072975, variance2=0.066954\n",
            "ADF Statistic: -25.147693\n",
            "p-value: 0.000000\n",
            "Critical Values:\n",
            "\t1%: -3.435\n",
            "\t5%: -2.863\n",
            "\t10%: -2.568\n"
          ],
          "name": "stdout"
        }
      ]
    },
    {
      "cell_type": "code",
      "metadata": {
        "colab": {
          "base_uri": "https://localhost:8080/"
        },
        "id": "UlxDYIctUHGM",
        "outputId": "fbe398cf-cd17-445f-f052-80964529b346"
      },
      "source": [
        "y2014=list(ind[ind['Year'] == 2014]['Env_intensity'])\n",
        "y2014=pd.Series(y2014)\n",
        "from statsmodels.tsa.stattools import adfuller\n",
        "X = y2014.values\n",
        "result = adfuller(X)\n",
        "split = round(len(X) / 2)\n",
        "X1, X2 = X[0:split], X[split:]\n",
        "mean1, mean2 = X1.mean(), X2.mean()\n",
        "var1, var2 = X1.var(), X2.var()\n",
        "print('mean1=%f, mean2=%f' % (mean1, mean2))\n",
        "print('variance1=%f, variance2=%f' % (var1, var2))\n",
        "print('ADF Statistic: %f' % result[0])\n",
        "print('p-value: %f' % result[1])\n",
        "print('Critical Values:')\n",
        "for key, value in result[4].items():\n",
        "\tprint('\\t%s: %.3f' % (key, value))"
      ],
      "execution_count": null,
      "outputs": [
        {
          "output_type": "stream",
          "text": [
            "mean1=-0.113915, mean2=-0.100781\n",
            "variance1=0.062142, variance2=0.055520\n",
            "ADF Statistic: -15.509563\n",
            "p-value: 0.000000\n",
            "Critical Values:\n",
            "\t1%: -3.435\n",
            "\t5%: -2.864\n",
            "\t10%: -2.568\n"
          ],
          "name": "stdout"
        }
      ]
    },
    {
      "cell_type": "markdown",
      "metadata": {
        "id": "dGwb__pf-uA5"
      },
      "source": [
        "Summary: The environmental intensity from 2014 to 2018 for each year the data is stational"
      ]
    },
    {
      "cell_type": "markdown",
      "metadata": {
        "id": "dlgHiRc2_BE-"
      },
      "source": [
        "Next,let's exam the industry average for each year to see whether they are stational"
      ]
    },
    {
      "cell_type": "code",
      "metadata": {
        "colab": {
          "base_uri": "https://localhost:8080/"
        },
        "id": "471p6vSpeHkq",
        "outputId": "7ab89736-b353-45a2-9c58-92376e9d3661"
      },
      "source": [
        "ind.info()"
      ],
      "execution_count": null,
      "outputs": [
        {
          "output_type": "stream",
          "text": [
            "<class 'pandas.core.frame.DataFrame'>\n",
            "RangeIndex: 14515 entries, 0 to 14514\n",
            "Data columns (total 39 columns):\n",
            " #   Column                                                  Non-Null Count  Dtype  \n",
            "---  ------                                                  --------------  -----  \n",
            " 0   ISIN                                                    14515 non-null  object \n",
            " 1   Year                                                    14515 non-null  int64  \n",
            " 2   CompanyName                                             14515 non-null  object \n",
            " 3   Country                                                 14515 non-null  object \n",
            " 4   Industry(Exiobase)                                      14515 non-null  object \n",
            " 5   EnvironmentalIntensity(Sales)                           14515 non-null  object \n",
            " 6   EnvironmentalIntensity(OpInc)                           13700 non-null  object \n",
            " 7   TotalEnvironmentalCost                                  14515 non-null  object \n",
            " 8   WorkingCapacity                                         14515 non-null  object \n",
            " 9   FishProductionCapacity                                  14515 non-null  object \n",
            " 10  CropProductionCapacity                                  14515 non-null  object \n",
            " 11  MeatProductionCapacity                                  14515 non-null  object \n",
            " 12  Biodiversity                                            14515 non-null  object \n",
            " 13  AbioticResources                                        14515 non-null  object \n",
            " 14  Waterproductioncapacity(Drinkingwater&IrrigationWater)  14515 non-null  object \n",
            " 15  WoodProductionCapacity                                  14515 non-null  object \n",
            " 16  SDG1.5                                                  14515 non-null  object \n",
            " 17  SDG2.1                                                  14515 non-null  object \n",
            " 18  SDG2.2                                                  14515 non-null  object \n",
            " 19  SDG2.3                                                  14515 non-null  object \n",
            " 20  SDG2.4                                                  14515 non-null  object \n",
            " 21  SDG3.3                                                  14515 non-null  object \n",
            " 22  SDG3.4                                                  14515 non-null  object \n",
            " 23  SDG3.9                                                  14515 non-null  object \n",
            " 24  SDG6                                                    14515 non-null  object \n",
            " 25  SDG12.2                                                 14515 non-null  object \n",
            " 26  SDG14.1                                                 14515 non-null  object \n",
            " 27  SDG14.2                                                 14515 non-null  object \n",
            " 28  SDG14.3                                                 14515 non-null  object \n",
            " 29  SDG14.c                                                 14515 non-null  object \n",
            " 30  SDG15.1                                                 14515 non-null  object \n",
            " 31  SDG15.2                                                 14515 non-null  object \n",
            " 32  SDG15.5                                                 14515 non-null  object \n",
            " 33  %Imputed                                                14515 non-null  object \n",
            " 34  Env_intensity                                           14515 non-null  float64\n",
            " 35  industry_avg                                            14515 non-null  float64\n",
            " 36  industry_avg_year                                       14515 non-null  float64\n",
            " 37  Industry_indicator_year                                 14515 non-null  int64  \n",
            " 38  Environmental_Growth                                    11924 non-null  float64\n",
            "dtypes: float64(4), int64(2), object(33)\n",
            "memory usage: 4.3+ MB\n"
          ],
          "name": "stdout"
        }
      ]
    },
    {
      "cell_type": "markdown",
      "metadata": {
        "id": "WYLCURN1_4cg"
      },
      "source": [
        "Test whether the industry average for each year we used is stationary :\n"
      ]
    },
    {
      "cell_type": "code",
      "metadata": {
        "colab": {
          "base_uri": "https://localhost:8080/"
        },
        "id": "-bWaCotbs9mS",
        "outputId": "57efb6ae-6701-47a5-a172-26d8153a7bcf"
      },
      "source": [
        "y2018=list(ind[ind['Year'] == 2018]['industry_avg_year'])\n",
        "y2018=pd.Series(y2018)\n",
        "from statsmodels.tsa.stattools import adfuller\n",
        "X = y2018.values\n",
        "result = adfuller(X)\n",
        "split = round(len(X) / 2)\n",
        "X1, X2 = X[0:split], X[split:]\n",
        "mean1, mean2 = X1.mean(), X2.mean()\n",
        "var1, var2 = X1.var(), X2.var()\n",
        "print('mean1=%f, mean2=%f' % (mean1, mean2))\n",
        "print('variance1=%f, variance2=%f' % (var1, var2))\n",
        "print('ADF Statistic: %f' % result[0])\n",
        "print('p-value: %f' % result[1])\n",
        "print('Critical Values:')\n",
        "for key, value in result[4].items():\n",
        "\tprint('\\t%s: %.3f' % (key, value))"
      ],
      "execution_count": null,
      "outputs": [
        {
          "output_type": "stream",
          "text": [
            "mean1=-0.121867, mean2=-0.108862\n",
            "variance1=0.032617, variance2=0.026903\n",
            "ADF Statistic: -10.463661\n",
            "p-value: 0.000000\n",
            "Critical Values:\n",
            "\t1%: -3.434\n",
            "\t5%: -2.863\n",
            "\t10%: -2.568\n"
          ],
          "name": "stdout"
        }
      ]
    },
    {
      "cell_type": "code",
      "metadata": {
        "colab": {
          "base_uri": "https://localhost:8080/"
        },
        "id": "jHKuT1RAunnZ",
        "outputId": "6bc76b3a-0798-44da-c1b5-de81568cf8b4"
      },
      "source": [
        "y2017=list(ind[ind['Year'] == 2017]['industry_avg_year'])\n",
        "y2017=pd.Series(y2017)\n",
        "from statsmodels.tsa.stattools import adfuller\n",
        "X = y2017.values\n",
        "result = adfuller(X)\n",
        "split = round(len(X) / 2)\n",
        "X1, X2 = X[0:split], X[split:]\n",
        "mean1, mean2 = X1.mean(), X2.mean()\n",
        "var1, var2 = X1.var(), X2.var()\n",
        "print('mean1=%f, mean2=%f' % (mean1, mean2))\n",
        "print('variance1=%f, variance2=%f' % (var1, var2))\n",
        "print('ADF Statistic: %f' % result[0])\n",
        "print('p-value: %f' % result[1])\n",
        "print('Critical Values:')\n",
        "for key, value in result[4].items():\n",
        "\tprint('\\t%s: %.3f' % (key, value))"
      ],
      "execution_count": null,
      "outputs": [
        {
          "output_type": "stream",
          "text": [
            "mean1=-0.117744, mean2=-0.114378\n",
            "variance1=0.030029, variance2=0.028428\n",
            "ADF Statistic: -27.227921\n",
            "p-value: 0.000000\n",
            "Critical Values:\n",
            "\t1%: -3.434\n",
            "\t5%: -2.863\n",
            "\t10%: -2.568\n"
          ],
          "name": "stdout"
        }
      ]
    },
    {
      "cell_type": "code",
      "metadata": {
        "colab": {
          "base_uri": "https://localhost:8080/"
        },
        "id": "q1JDdalVuv69",
        "outputId": "e38a9d2a-c388-43bd-f7f6-47834c965907"
      },
      "source": [
        "y2016=list(ind[ind['Year'] == 2016]['industry_avg_year'])\n",
        "y2016=pd.Series(y2016)\n",
        "from statsmodels.tsa.stattools import adfuller\n",
        "X = y2016.values\n",
        "result = adfuller(X)\n",
        "split = round(len(X) / 2)\n",
        "X1, X2 = X[0:split], X[split:]\n",
        "mean1, mean2 = X1.mean(), X2.mean()\n",
        "var1, var2 = X1.var(), X2.var()\n",
        "print('mean1=%f, mean2=%f' % (mean1, mean2))\n",
        "print('variance1=%f, variance2=%f' % (var1, var2))\n",
        "print('ADF Statistic: %f' % result[0])\n",
        "print('p-value: %f' % result[1])\n",
        "print('Critical Values:')\n",
        "for key, value in result[4].items():\n",
        "\tprint('\\t%s: %.3f' % (key, value))"
      ],
      "execution_count": null,
      "outputs": [
        {
          "output_type": "stream",
          "text": [
            "mean1=-0.125713, mean2=-0.117000\n",
            "variance1=0.035538, variance2=0.033986\n",
            "ADF Statistic: -38.943780\n",
            "p-value: 0.000000\n",
            "Critical Values:\n",
            "\t1%: -3.434\n",
            "\t5%: -2.863\n",
            "\t10%: -2.568\n"
          ],
          "name": "stdout"
        }
      ]
    },
    {
      "cell_type": "code",
      "metadata": {
        "colab": {
          "base_uri": "https://localhost:8080/"
        },
        "id": "eL2OSx0Ayksk",
        "outputId": "509d7eee-54c9-424e-e518-f12426c2bfc1"
      },
      "source": [
        "y2015=list(ind[ind['Year'] == 2015]['industry_avg_year'])\n",
        "y2015=pd.Series(y2015)\n",
        "from statsmodels.tsa.stattools import adfuller\n",
        "X = y2015.values\n",
        "result = adfuller(X)\n",
        "split = round(len(X) / 2)\n",
        "X1, X2 = X[0:split], X[split:]\n",
        "mean1, mean2 = X1.mean(), X2.mean()\n",
        "var1, var2 = X1.var(), X2.var()\n",
        "print('mean1=%f, mean2=%f' % (mean1, mean2))\n",
        "print('variance1=%f, variance2=%f' % (var1, var2))\n",
        "print('ADF Statistic: %f' % result[0])\n",
        "print('p-value: %f' % result[1])\n",
        "print('Critical Values:')\n",
        "for key, value in result[4].items():\n",
        "\tprint('\\t%s: %.3f' % (key, value))"
      ],
      "execution_count": null,
      "outputs": [
        {
          "output_type": "stream",
          "text": [
            "mean1=-0.125579, mean2=-0.115032\n",
            "variance1=0.038191, variance2=0.033880\n",
            "ADF Statistic: -20.655671\n",
            "p-value: 0.000000\n",
            "Critical Values:\n",
            "\t1%: -3.435\n",
            "\t5%: -2.863\n",
            "\t10%: -2.568\n"
          ],
          "name": "stdout"
        }
      ]
    },
    {
      "cell_type": "markdown",
      "metadata": {
        "id": "VCMecUZc_QVF"
      },
      "source": [
        "Summary:Each year from 2015 to 2018, the industry average is stational. And the model we used which includes the the industry average is predictable."
      ]
    },
    {
      "cell_type": "markdown",
      "metadata": {
        "id": "uAfT_fUNwi4e"
      },
      "source": [
        "Let's take a look at environmental growth"
      ]
    },
    {
      "cell_type": "code",
      "metadata": {
        "id": "Cw7TbHsVx_qM"
      },
      "source": [
        "ind['Environmental_Growth']=ind['Environmental_Growth'].fillna(ind['Environmental_Growth'].mean())"
      ],
      "execution_count": 28,
      "outputs": []
    },
    {
      "cell_type": "code",
      "metadata": {
        "colab": {
          "base_uri": "https://localhost:8080/"
        },
        "id": "-zgUn-V8w2If",
        "outputId": "ed93bd3f-2480-4848-cfcc-0699cf2a9058"
      },
      "source": [
        "y2016=list(ind[ind['Year'] == 2016]['Environmental_Growth'])\n",
        "y2016=pd.Series(y2016)\n",
        "from statsmodels.tsa.stattools import adfuller\n",
        "X = y2016.values\n",
        "result = adfuller(X)\n",
        "split = round(len(X) / 2)\n",
        "X1, X2 = X[0:split], X[split:]\n",
        "mean1, mean2 = X1.mean(), X2.mean()\n",
        "var1, var2 = X1.var(), X2.var()\n",
        "print('mean1=%f, mean2=%f' % (mean1, mean2))\n",
        "print('variance1=%f, variance2=%f' % (var1, var2))\n",
        "print('ADF Statistic: %f' % result[0])\n",
        "print('p-value: %f' % result[1])\n",
        "print('Critical Values:')\n",
        "for key, value in result[4].items():\n",
        "\tprint('\\t%s: %.3f' % (key, value))"
      ],
      "execution_count": 29,
      "outputs": [
        {
          "output_type": "stream",
          "text": [
            "mean1=5.411575, mean2=4.908355\n",
            "variance1=1923.017251, variance2=5805.189898\n",
            "ADF Statistic: -13.302222\n",
            "p-value: 0.000000\n",
            "Critical Values:\n",
            "\t1%: -3.434\n",
            "\t5%: -2.863\n",
            "\t10%: -2.568\n"
          ],
          "name": "stdout"
        }
      ]
    },
    {
      "cell_type": "code",
      "metadata": {
        "colab": {
          "base_uri": "https://localhost:8080/"
        },
        "id": "7Nd6SV1aylF9",
        "outputId": "36cb0c90-6265-4538-a473-e23963cb1ab9"
      },
      "source": [
        "y2017=list(ind[ind['Year'] == 2017]['Environmental_Growth'])\n",
        "y2017=pd.Series(y2017)\n",
        "from statsmodels.tsa.stattools import adfuller\n",
        "X = y2017.values\n",
        "result = adfuller(X)\n",
        "split = round(len(X) / 2)\n",
        "X1, X2 = X[0:split], X[split:]\n",
        "mean1, mean2 = X1.mean(), X2.mean()\n",
        "var1, var2 = X1.var(), X2.var()\n",
        "print('mean1=%f, mean2=%f' % (mean1, mean2))\n",
        "print('variance1=%f, variance2=%f' % (var1, var2))\n",
        "print('ADF Statistic: %f' % result[0])\n",
        "print('p-value: %f' % result[1])\n",
        "print('Critical Values:')\n",
        "for key, value in result[4].items():\n",
        "\tprint('\\t%s: %.3f' % (key, value))"
      ],
      "execution_count": 30,
      "outputs": [
        {
          "output_type": "stream",
          "text": [
            "mean1=99.633708, mean2=-5.132693\n",
            "variance1=5728066.542782, variance2=1756.053671\n",
            "ADF Statistic: -41.477166\n",
            "p-value: 0.000000\n",
            "Critical Values:\n",
            "\t1%: -3.434\n",
            "\t5%: -2.863\n",
            "\t10%: -2.568\n"
          ],
          "name": "stdout"
        }
      ]
    },
    {
      "cell_type": "code",
      "metadata": {
        "colab": {
          "base_uri": "https://localhost:8080/"
        },
        "id": "IC7NXmKCyufE",
        "outputId": "8674ac1b-4918-4b72-d41c-5942fa1590ff"
      },
      "source": [
        "y2018=list(ind[ind['Year'] == 2018]['Environmental_Growth'])\n",
        "y2018=pd.Series(y2018)\n",
        "from statsmodels.tsa.stattools import adfuller\n",
        "X = y2018.values\n",
        "result = adfuller(X)\n",
        "split = round(len(X) / 2)\n",
        "X1, X2 = X[0:split], X[split:]\n",
        "mean1, mean2 = X1.mean(), X2.mean()\n",
        "var1, var2 = X1.var(), X2.var()\n",
        "print('mean1=%f, mean2=%f' % (mean1, mean2))\n",
        "print('variance1=%f, variance2=%f' % (var1, var2))\n",
        "print('ADF Statistic: %f' % result[0])\n",
        "print('p-value: %f' % result[1])\n",
        "print('Critical Values:')\n",
        "for key, value in result[4].items():\n",
        "\tprint('\\t%s: %.3f' % (key, value))"
      ],
      "execution_count": 31,
      "outputs": [
        {
          "output_type": "stream",
          "text": [
            "mean1=2.993927, mean2=0.514992\n",
            "variance1=5296.795823, variance2=4757.639775\n",
            "ADF Statistic: -40.731334\n",
            "p-value: 0.000000\n",
            "Critical Values:\n",
            "\t1%: -3.434\n",
            "\t5%: -2.863\n",
            "\t10%: -2.568\n"
          ],
          "name": "stdout"
        }
      ]
    },
    {
      "cell_type": "markdown",
      "metadata": {
        "id": "I3Z3uE8ny7VY"
      },
      "source": [
        "Summary: All of the environmental growths that we used is stational."
      ]
    },
    {
      "cell_type": "markdown",
      "metadata": {
        "id": "PG3HFAZZAZC1"
      },
      "source": [
        "Let's take a look at top five industries"
      ]
    },
    {
      "cell_type": "code",
      "metadata": {
        "colab": {
          "base_uri": "https://localhost:8080/"
        },
        "id": "uC1TEoWBa8I8",
        "outputId": "5d4039d1-5ed6-49e2-91e8-8237314c9499"
      },
      "source": [
        "ind.groupby('Industry(Exiobase)')['Env_intensity'].count().sort_values()"
      ],
      "execution_count": null,
      "outputs": [
        {
          "output_type": "execute_result",
          "data": {
            "text/plain": [
              "Industry(Exiobase)\n",
              "Cultivation of cereal grains nec                                                                                          1\n",
              "Forestry, logging and related service activities (02)                                                                     5\n",
              "Sea and coastal water transport                                                                                           6\n",
              "Education (80)                                                                                                            6\n",
              "Production of electricity by petroleum and other oil derivatives                                                         12\n",
              "Mining of coal and lignite; extraction of peat (10)                                                                      15\n",
              "Manufacture of tobacco products (16)                                                                                     22\n",
              "Copper production                                                                                                        22\n",
              "Manufacture of furniture; manufacturing n.e.c. (36)                                                                      22\n",
              "Publishing, printing and reproduction of recorded media (22)                                                             32\n",
              "Wholesale trade and commission trade, except of motor vehicles and motorcycles (51)                                      37\n",
              "Transport via pipelines                                                                                                  39\n",
              "Production of electricity by solar photovoltaic                                                                          41\n",
              "N-fertiliser                                                                                                             42\n",
              "Manufacture of basic iron and steel and of ferro-alloys and first products thereof                                       45\n",
              "Manufacture of wearing apparel; dressing and dyeing of fur (18)                                                          47\n",
              "Transport via railways                                                                                                   48\n",
              "Manufacture of textiles (17)                                                                                             51\n",
              "Health and social work (85)                                                                                              51\n",
              "Collection, purification and distribution of water (41)                                                                  53\n",
              "Sale, maintenance, repair of motor vehicles, motor vehicles parts, motorcycles, motor cycles parts and accessoiries      62\n",
              "Production of electricity by hydro                                                                                       71\n",
              "Extraction of natural gas and services related to natural gas extraction, excluding surveying                            91\n",
              "Other land transport                                                                                                    117\n",
              "Manufacture of rubber and plastic products (25)                                                                         123\n",
              "Insurance and pension funding, except compulsory social security (66)                                                   140\n",
              "Research and development (73)                                                                                           147\n",
              "Renting of machinery and equipment without operator and of personal and household goods (71)                            147\n",
              "Petroleum Refinery                                                                                                      192\n",
              "Paper                                                                                                                   196\n",
              "Air transport (62)                                                                                                      200\n",
              "Mining of other non-ferrous metal ores and concentrates                                                                 233\n",
              "Activities of membership organisation n.e.c. (91)                                                                       235\n",
              "Manufacture of beverages                                                                                                258\n",
              "Activities auxiliary to financial intermediation (67)                                                                   263\n",
              "Recreational, cultural and sporting activities (92)                                                                     272\n",
              "Manufacture of radio, television and communication equipment and apparatus (32)                                         274\n",
              "Mining of chemical and fertilizer minerals, production of salt, other mining and quarrying n.e.c.                       303\n",
              "Manufacture of motor vehicles, trailers and semi-trailers (34)                                                          341\n",
              "Manufacture of machinery and equipment n.e.c. (29)                                                                      364\n",
              "Chemicals nec                                                                                                           414\n",
              "Manufacture of office machinery and computers (30)                                                                      423\n",
              "Manufacture of fabricated metal products, except machinery and equipment (28)                                           433\n",
              "Production of electricity nec                                                                                           444\n",
              "Quarrying of sand and clay                                                                                              481\n",
              "Extraction of crude petroleum and services related to crude oil extraction, excluding surveying                         496\n",
              "Computer and related activities (72)                                                                                    507\n",
              "Processing of Food products nec                                                                                         531\n",
              "Other service activities (93)                                                                                           558\n",
              "Post and telecommunications (64)                                                                                        599\n",
              "Manufacture of medical, precision and optical instruments, watches and clocks (33)                                      601\n",
              "Retail trade, except of motor vehicles and motorcycles; repair of personal and household goods (52)                     682\n",
              "Real estate activities (70)                                                                                             697\n",
              "Construction (45)                                                                                                       729\n",
              "Manufacture of electrical machinery and apparatus n.e.c. (31)                                                           765\n",
              "Financial intermediation, except insurance and pension funding (65)                                                    1529\n",
              "Name: Env_intensity, dtype: int64"
            ]
          },
          "metadata": {
            "tags": []
          },
          "execution_count": 13
        }
      ]
    },
    {
      "cell_type": "markdown",
      "metadata": {
        "id": "QDmhTfaGpT9L"
      },
      "source": [
        "Top five industries:"
      ]
    },
    {
      "cell_type": "markdown",
      "metadata": {
        "id": "vUATXadLpHG3"
      },
      "source": [
        "Retail trade, except of motor vehicles and motorcycles; repair of personal and household goods (52)                    \n",
        "Real estate activities(70)                                                                                    \n",
        "Construction (45)                                                 \n",
        "Manufacture of electrical machinery and apparatus n.e.c. (31)                                                 \n",
        "Financial intermediation, except insurance and pension funding (65) "
      ]
    },
    {
      "cell_type": "code",
      "metadata": {
        "colab": {
          "base_uri": "https://localhost:8080/",
          "height": 842
        },
        "id": "3W3KP_-uHz88",
        "outputId": "ba286d81-6af5-4fd9-9234-49a52d0407a7"
      },
      "source": [
        "listind=['Retail trade, except of motor vehicles and motorcycles; repair of personal and household goods (52)',\n",
        "'Real estate activities(70)',\n",
        "'Construction (45)',\n",
        "'Manufacture of electrical machinery and apparatus n.e.c. (31)',\n",
        "'Financial intermediation, except insurance and pension funding (65)']\n",
        "num_order_new = ind[(ind['Industry(Exiobase)']=='Construction (45)')|(ind['Industry(Exiobase)'] == 'Financial intermediation, except insurance and pension funding (65)')|(ind['Industry(Exiobase)'] == 'Manufacture of electrical machinery and apparatus n.e.c. (31)')\n",
        "|(ind['Industry(Exiobase)'] == 'Real estate activities(70)')|(ind['Industry(Exiobase)'] == 'Retail trade, except of motor vehicles and motorcycles; repair of personal and household goods (52)')]\n",
        "num_order_new  \n",
        "\n"
      ],
      "execution_count": null,
      "outputs": [
        {
          "output_type": "execute_result",
          "data": {
            "text/html": [
              "<div>\n",
              "<style scoped>\n",
              "    .dataframe tbody tr th:only-of-type {\n",
              "        vertical-align: middle;\n",
              "    }\n",
              "\n",
              "    .dataframe tbody tr th {\n",
              "        vertical-align: top;\n",
              "    }\n",
              "\n",
              "    .dataframe thead th {\n",
              "        text-align: right;\n",
              "    }\n",
              "</style>\n",
              "<table border=\"1\" class=\"dataframe\">\n",
              "  <thead>\n",
              "    <tr style=\"text-align: right;\">\n",
              "      <th></th>\n",
              "      <th>ISIN</th>\n",
              "      <th>Year</th>\n",
              "      <th>CompanyName</th>\n",
              "      <th>Country</th>\n",
              "      <th>Industry(Exiobase)</th>\n",
              "      <th>EnvironmentalIntensity(Sales)</th>\n",
              "      <th>EnvironmentalIntensity(OpInc)</th>\n",
              "      <th>TotalEnvironmentalCost</th>\n",
              "      <th>WorkingCapacity</th>\n",
              "      <th>FishProductionCapacity</th>\n",
              "      <th>CropProductionCapacity</th>\n",
              "      <th>MeatProductionCapacity</th>\n",
              "      <th>Biodiversity</th>\n",
              "      <th>AbioticResources</th>\n",
              "      <th>Waterproductioncapacity(Drinkingwater&amp;IrrigationWater)</th>\n",
              "      <th>WoodProductionCapacity</th>\n",
              "      <th>SDG1.5</th>\n",
              "      <th>SDG2.1</th>\n",
              "      <th>SDG2.2</th>\n",
              "      <th>SDG2.3</th>\n",
              "      <th>SDG2.4</th>\n",
              "      <th>SDG3.3</th>\n",
              "      <th>SDG3.4</th>\n",
              "      <th>SDG3.9</th>\n",
              "      <th>SDG6</th>\n",
              "      <th>SDG12.2</th>\n",
              "      <th>SDG14.1</th>\n",
              "      <th>SDG14.2</th>\n",
              "      <th>SDG14.3</th>\n",
              "      <th>SDG14.c</th>\n",
              "      <th>SDG15.1</th>\n",
              "      <th>SDG15.2</th>\n",
              "      <th>SDG15.5</th>\n",
              "      <th>%Imputed</th>\n",
              "      <th>Env_intensity</th>\n",
              "      <th>industry_avg</th>\n",
              "      <th>industry_avg_year</th>\n",
              "      <th>Industry_indicator_year</th>\n",
              "      <th>Environmental_Growth</th>\n",
              "    </tr>\n",
              "  </thead>\n",
              "  <tbody>\n",
              "    <tr>\n",
              "      <th>1</th>\n",
              "      <td>GB00B1YW4409</td>\n",
              "      <td>2010</td>\n",
              "      <td>3I GROUP PLC</td>\n",
              "      <td>United Kingdom</td>\n",
              "      <td>Financial intermediation, except insurance and...</td>\n",
              "      <td>-0.12%</td>\n",
              "      <td>-0.11%</td>\n",
              "      <td>-1,055,812</td>\n",
              "      <td>-1,032,103</td>\n",
              "      <td>-277</td>\n",
              "      <td>-13,751</td>\n",
              "      <td>-3,221</td>\n",
              "      <td>-47</td>\n",
              "      <td>-562</td>\n",
              "      <td>-5,953</td>\n",
              "      <td>102</td>\n",
              "      <td>-463,300</td>\n",
              "      <td>-295,103</td>\n",
              "      <td>-294,949</td>\n",
              "      <td>-3,438</td>\n",
              "      <td>-3,438</td>\n",
              "      <td>-47,957</td>\n",
              "      <td>59,044</td>\n",
              "      <td>-74</td>\n",
              "      <td>-5,953</td>\n",
              "      <td>-562</td>\n",
              "      <td>-4</td>\n",
              "      <td>0</td>\n",
              "      <td>-133</td>\n",
              "      <td>-4</td>\n",
              "      <td>51</td>\n",
              "      <td>51</td>\n",
              "      <td>-43</td>\n",
              "      <td>10%</td>\n",
              "      <td>-0.0012</td>\n",
              "      <td>-0.028537</td>\n",
              "      <td>-0.006402</td>\n",
              "      <td>1</td>\n",
              "      <td>NaN</td>\n",
              "    </tr>\n",
              "    <tr>\n",
              "      <th>2</th>\n",
              "      <td>GB00B1YW4409</td>\n",
              "      <td>2011</td>\n",
              "      <td>3I GROUP PLC</td>\n",
              "      <td>United Kingdom</td>\n",
              "      <td>Financial intermediation, except insurance and...</td>\n",
              "      <td>-0.16%</td>\n",
              "      <td>-0.16%</td>\n",
              "      <td>-961,875</td>\n",
              "      <td>-940,402</td>\n",
              "      <td>-246</td>\n",
              "      <td>-12,525</td>\n",
              "      <td>-2,935</td>\n",
              "      <td>-42</td>\n",
              "      <td>-424</td>\n",
              "      <td>-5,378</td>\n",
              "      <td>77</td>\n",
              "      <td>-421,928</td>\n",
              "      <td>-264,714</td>\n",
              "      <td>-264,579</td>\n",
              "      <td>-3,131</td>\n",
              "      <td>-3,131</td>\n",
              "      <td>-42,961</td>\n",
              "      <td>44,515</td>\n",
              "      <td>-56</td>\n",
              "      <td>-5,378</td>\n",
              "      <td>-424</td>\n",
              "      <td>-3</td>\n",
              "      <td>0</td>\n",
              "      <td>-119</td>\n",
              "      <td>-3</td>\n",
              "      <td>38</td>\n",
              "      <td>38</td>\n",
              "      <td>-39</td>\n",
              "      <td>9%</td>\n",
              "      <td>-0.0016</td>\n",
              "      <td>-0.028537</td>\n",
              "      <td>-0.009838</td>\n",
              "      <td>1</td>\n",
              "      <td>33.333333</td>\n",
              "    </tr>\n",
              "    <tr>\n",
              "      <th>3</th>\n",
              "      <td>GB00B1YW4409</td>\n",
              "      <td>2012</td>\n",
              "      <td>3I GROUP PLC</td>\n",
              "      <td>United Kingdom</td>\n",
              "      <td>Financial intermediation, except insurance and...</td>\n",
              "      <td>-0.15%</td>\n",
              "      <td>NaN</td>\n",
              "      <td>-722,999</td>\n",
              "      <td>-706,893</td>\n",
              "      <td>-183</td>\n",
              "      <td>-9,414</td>\n",
              "      <td>-2,206</td>\n",
              "      <td>-32</td>\n",
              "      <td>-295</td>\n",
              "      <td>-4,030</td>\n",
              "      <td>54</td>\n",
              "      <td>-317,104</td>\n",
              "      <td>-197,859</td>\n",
              "      <td>-197,760</td>\n",
              "      <td>-2,354</td>\n",
              "      <td>-2,354</td>\n",
              "      <td>-32,095</td>\n",
              "      <td>30,960</td>\n",
              "      <td>-39</td>\n",
              "      <td>-4,030</td>\n",
              "      <td>-295</td>\n",
              "      <td>-2</td>\n",
              "      <td>0</td>\n",
              "      <td>-89</td>\n",
              "      <td>-2</td>\n",
              "      <td>27</td>\n",
              "      <td>27</td>\n",
              "      <td>-30</td>\n",
              "      <td>8%</td>\n",
              "      <td>-0.0015</td>\n",
              "      <td>-0.028537</td>\n",
              "      <td>-0.024437</td>\n",
              "      <td>1</td>\n",
              "      <td>-6.250000</td>\n",
              "    </tr>\n",
              "    <tr>\n",
              "      <th>50</th>\n",
              "      <td>DE0005408116</td>\n",
              "      <td>2012</td>\n",
              "      <td>AAREAL BANK AG</td>\n",
              "      <td>Germany</td>\n",
              "      <td>Financial intermediation, except insurance and...</td>\n",
              "      <td>-0.10%</td>\n",
              "      <td>-0.69%</td>\n",
              "      <td>-1,615,657</td>\n",
              "      <td>-1,540,246</td>\n",
              "      <td>-504</td>\n",
              "      <td>-20,570</td>\n",
              "      <td>-4,810</td>\n",
              "      <td>-79</td>\n",
              "      <td>-1,932</td>\n",
              "      <td>-47,899</td>\n",
              "      <td>383</td>\n",
              "      <td>-693,698</td>\n",
              "      <td>-498,714</td>\n",
              "      <td>-498,400</td>\n",
              "      <td>-5,143</td>\n",
              "      <td>-5,143</td>\n",
              "      <td>-81,852</td>\n",
              "      <td>217,411</td>\n",
              "      <td>-341</td>\n",
              "      <td>-47,899</td>\n",
              "      <td>-1,932</td>\n",
              "      <td>-13</td>\n",
              "      <td>-2</td>\n",
              "      <td>-233</td>\n",
              "      <td>-16</td>\n",
              "      <td>192</td>\n",
              "      <td>192</td>\n",
              "      <td>-66</td>\n",
              "      <td>20%</td>\n",
              "      <td>-0.0010</td>\n",
              "      <td>-0.028537</td>\n",
              "      <td>-0.024437</td>\n",
              "      <td>1</td>\n",
              "      <td>NaN</td>\n",
              "    </tr>\n",
              "    <tr>\n",
              "      <th>51</th>\n",
              "      <td>DE0005408116</td>\n",
              "      <td>2013</td>\n",
              "      <td>AAREAL BANK AG</td>\n",
              "      <td>Germany</td>\n",
              "      <td>Financial intermediation, except insurance and...</td>\n",
              "      <td>-0.11%</td>\n",
              "      <td>-0.56%</td>\n",
              "      <td>-1,561,584</td>\n",
              "      <td>-1,483,364</td>\n",
              "      <td>-469</td>\n",
              "      <td>-19,802</td>\n",
              "      <td>-4,632</td>\n",
              "      <td>-74</td>\n",
              "      <td>-1,655</td>\n",
              "      <td>-51,916</td>\n",
              "      <td>328</td>\n",
              "      <td>-667,625</td>\n",
              "      <td>-469,884</td>\n",
              "      <td>-469,596</td>\n",
              "      <td>-4,950</td>\n",
              "      <td>-4,950</td>\n",
              "      <td>-76,994</td>\n",
              "      <td>186,258</td>\n",
              "      <td>-292</td>\n",
              "      <td>-51,916</td>\n",
              "      <td>-1,655</td>\n",
              "      <td>-11</td>\n",
              "      <td>-2</td>\n",
              "      <td>-219</td>\n",
              "      <td>-13</td>\n",
              "      <td>164</td>\n",
              "      <td>164</td>\n",
              "      <td>-63</td>\n",
              "      <td>19%</td>\n",
              "      <td>-0.0011</td>\n",
              "      <td>-0.028537</td>\n",
              "      <td>-0.025627</td>\n",
              "      <td>1</td>\n",
              "      <td>10.000000</td>\n",
              "    </tr>\n",
              "    <tr>\n",
              "      <th>...</th>\n",
              "      <td>...</td>\n",
              "      <td>...</td>\n",
              "      <td>...</td>\n",
              "      <td>...</td>\n",
              "      <td>...</td>\n",
              "      <td>...</td>\n",
              "      <td>...</td>\n",
              "      <td>...</td>\n",
              "      <td>...</td>\n",
              "      <td>...</td>\n",
              "      <td>...</td>\n",
              "      <td>...</td>\n",
              "      <td>...</td>\n",
              "      <td>...</td>\n",
              "      <td>...</td>\n",
              "      <td>...</td>\n",
              "      <td>...</td>\n",
              "      <td>...</td>\n",
              "      <td>...</td>\n",
              "      <td>...</td>\n",
              "      <td>...</td>\n",
              "      <td>...</td>\n",
              "      <td>...</td>\n",
              "      <td>...</td>\n",
              "      <td>...</td>\n",
              "      <td>...</td>\n",
              "      <td>...</td>\n",
              "      <td>...</td>\n",
              "      <td>...</td>\n",
              "      <td>...</td>\n",
              "      <td>...</td>\n",
              "      <td>...</td>\n",
              "      <td>...</td>\n",
              "      <td>...</td>\n",
              "      <td>...</td>\n",
              "      <td>...</td>\n",
              "      <td>...</td>\n",
              "      <td>...</td>\n",
              "      <td>...</td>\n",
              "    </tr>\n",
              "    <tr>\n",
              "      <th>14485</th>\n",
              "      <td>KYG989221000</td>\n",
              "      <td>2016</td>\n",
              "      <td>ZHEN DING TECHNOLOGY HOLDING LIMITED</td>\n",
              "      <td>Taiwan</td>\n",
              "      <td>Manufacture of electrical machinery and appara...</td>\n",
              "      <td>-8.73%</td>\n",
              "      <td>-155.74%</td>\n",
              "      <td>-222,083,216</td>\n",
              "      <td>-204,825,973</td>\n",
              "      <td>-47,125</td>\n",
              "      <td>-2,713,781</td>\n",
              "      <td>-635,954</td>\n",
              "      <td>-8,532</td>\n",
              "      <td>-8,129</td>\n",
              "      <td>-13,843,967</td>\n",
              "      <td>246</td>\n",
              "      <td>-91,295,951</td>\n",
              "      <td>-53,183,570</td>\n",
              "      <td>-53,158,871</td>\n",
              "      <td>-678,445</td>\n",
              "      <td>-678,445</td>\n",
              "      <td>-8,572,045</td>\n",
              "      <td>-630,018</td>\n",
              "      <td>-1,955</td>\n",
              "      <td>-13,843,967</td>\n",
              "      <td>-8,129</td>\n",
              "      <td>-27</td>\n",
              "      <td>-61</td>\n",
              "      <td>-23,440</td>\n",
              "      <td>-32</td>\n",
              "      <td>123</td>\n",
              "      <td>123</td>\n",
              "      <td>-8,504</td>\n",
              "      <td>1%</td>\n",
              "      <td>-0.0873</td>\n",
              "      <td>-0.067427</td>\n",
              "      <td>-0.073788</td>\n",
              "      <td>-1</td>\n",
              "      <td>-5.825243</td>\n",
              "    </tr>\n",
              "    <tr>\n",
              "      <th>14486</th>\n",
              "      <td>KYG989221000</td>\n",
              "      <td>2017</td>\n",
              "      <td>ZHEN DING TECHNOLOGY HOLDING LIMITED</td>\n",
              "      <td>Taiwan</td>\n",
              "      <td>Manufacture of electrical machinery and appara...</td>\n",
              "      <td>-6.03%</td>\n",
              "      <td>-76.11%</td>\n",
              "      <td>-221,429,493</td>\n",
              "      <td>-203,149,289</td>\n",
              "      <td>-46,856</td>\n",
              "      <td>-2,686,271</td>\n",
              "      <td>-629,599</td>\n",
              "      <td>-8,463</td>\n",
              "      <td>-11,727</td>\n",
              "      <td>-14,897,562</td>\n",
              "      <td>273</td>\n",
              "      <td>-90,384,665</td>\n",
              "      <td>-52,689,302</td>\n",
              "      <td>-52,665,410</td>\n",
              "      <td>-671,568</td>\n",
              "      <td>-671,568</td>\n",
              "      <td>-8,493,012</td>\n",
              "      <td>-910,285</td>\n",
              "      <td>-2,820</td>\n",
              "      <td>-14,897,562</td>\n",
              "      <td>-11,727</td>\n",
              "      <td>-36</td>\n",
              "      <td>-88</td>\n",
              "      <td>-23,254</td>\n",
              "      <td>-43</td>\n",
              "      <td>136</td>\n",
              "      <td>136</td>\n",
              "      <td>-8,426</td>\n",
              "      <td>1%</td>\n",
              "      <td>-0.0603</td>\n",
              "      <td>-0.067427</td>\n",
              "      <td>-0.068294</td>\n",
              "      <td>1</td>\n",
              "      <td>-30.927835</td>\n",
              "    </tr>\n",
              "    <tr>\n",
              "      <th>14487</th>\n",
              "      <td>KYG989221000</td>\n",
              "      <td>2018</td>\n",
              "      <td>ZHEN DING TECHNOLOGY HOLDING LIMITED</td>\n",
              "      <td>Taiwan</td>\n",
              "      <td>Manufacture of electrical machinery and appara...</td>\n",
              "      <td>-6.15%</td>\n",
              "      <td>-48.85%</td>\n",
              "      <td>-236,938,822</td>\n",
              "      <td>-217,968,519</td>\n",
              "      <td>-51,373</td>\n",
              "      <td>-2,886,977</td>\n",
              "      <td>-676,611</td>\n",
              "      <td>-9,212</td>\n",
              "      <td>-12,305</td>\n",
              "      <td>-15,337,583</td>\n",
              "      <td>3,756</td>\n",
              "      <td>-97,158,892</td>\n",
              "      <td>-57,405,552</td>\n",
              "      <td>-57,379,583</td>\n",
              "      <td>-721,744</td>\n",
              "      <td>-721,744</td>\n",
              "      <td>-9,265,219</td>\n",
              "      <td>1,097,855</td>\n",
              "      <td>-2,959</td>\n",
              "      <td>-15,337,583</td>\n",
              "      <td>-12,305</td>\n",
              "      <td>-155</td>\n",
              "      <td>-92</td>\n",
              "      <td>-25,366</td>\n",
              "      <td>-185</td>\n",
              "      <td>1,878</td>\n",
              "      <td>1,878</td>\n",
              "      <td>-9,054</td>\n",
              "      <td>3%</td>\n",
              "      <td>-0.0615</td>\n",
              "      <td>-0.067427</td>\n",
              "      <td>-0.076812</td>\n",
              "      <td>1</td>\n",
              "      <td>1.990050</td>\n",
              "    </tr>\n",
              "    <tr>\n",
              "      <th>14488</th>\n",
              "      <td>KYG989221000</td>\n",
              "      <td>2019</td>\n",
              "      <td>ZHEN DING TECHNOLOGY HOLDING LIMITED</td>\n",
              "      <td>Taiwan</td>\n",
              "      <td>Manufacture of electrical machinery and appara...</td>\n",
              "      <td>-6.02%</td>\n",
              "      <td>-49.99%</td>\n",
              "      <td>-241,827,228</td>\n",
              "      <td>-223,793,936</td>\n",
              "      <td>-52,466</td>\n",
              "      <td>-2,966,025</td>\n",
              "      <td>-694,995</td>\n",
              "      <td>-9,454</td>\n",
              "      <td>-12,822</td>\n",
              "      <td>-14,301,445</td>\n",
              "      <td>3,914</td>\n",
              "      <td>-99,793,897</td>\n",
              "      <td>-58,835,287</td>\n",
              "      <td>-58,808,848</td>\n",
              "      <td>-741,506</td>\n",
              "      <td>-741,506</td>\n",
              "      <td>-9,494,000</td>\n",
              "      <td>936,891</td>\n",
              "      <td>-3,084</td>\n",
              "      <td>-14,301,445</td>\n",
              "      <td>-12,822</td>\n",
              "      <td>-162</td>\n",
              "      <td>-96</td>\n",
              "      <td>-25,898</td>\n",
              "      <td>-193</td>\n",
              "      <td>1,957</td>\n",
              "      <td>1,957</td>\n",
              "      <td>-9,290</td>\n",
              "      <td>3%</td>\n",
              "      <td>-0.0602</td>\n",
              "      <td>-0.067427</td>\n",
              "      <td>-0.075113</td>\n",
              "      <td>1</td>\n",
              "      <td>-2.113821</td>\n",
              "    </tr>\n",
              "    <tr>\n",
              "      <th>14514</th>\n",
              "      <td>GB0006452857</td>\n",
              "      <td>2019</td>\n",
              "      <td>nmcn plc</td>\n",
              "      <td>United Kingdom</td>\n",
              "      <td>Construction (45)</td>\n",
              "      <td>-0.56%</td>\n",
              "      <td>-24.83%</td>\n",
              "      <td>-3,019,478</td>\n",
              "      <td>-2,953,713</td>\n",
              "      <td>-717</td>\n",
              "      <td>-39,338</td>\n",
              "      <td>-9,206</td>\n",
              "      <td>-127</td>\n",
              "      <td>-298</td>\n",
              "      <td>-16,187</td>\n",
              "      <td>107</td>\n",
              "      <td>-1,322,375</td>\n",
              "      <td>-795,907</td>\n",
              "      <td>-795,450</td>\n",
              "      <td>-9,834</td>\n",
              "      <td>-9,834</td>\n",
              "      <td>-128,673</td>\n",
              "      <td>59,497</td>\n",
              "      <td>-37</td>\n",
              "      <td>-16,187</td>\n",
              "      <td>-298</td>\n",
              "      <td>-4</td>\n",
              "      <td>0</td>\n",
              "      <td>-354</td>\n",
              "      <td>-4</td>\n",
              "      <td>53</td>\n",
              "      <td>53</td>\n",
              "      <td>-123</td>\n",
              "      <td>5%</td>\n",
              "      <td>-0.0056</td>\n",
              "      <td>-0.039277</td>\n",
              "      <td>-0.041932</td>\n",
              "      <td>1</td>\n",
              "      <td>NaN</td>\n",
              "    </tr>\n",
              "  </tbody>\n",
              "</table>\n",
              "<p>3705 rows × 39 columns</p>\n",
              "</div>"
            ],
            "text/plain": [
              "               ISIN  Year  ... Industry_indicator_year Environmental_Growth\n",
              "1      GB00B1YW4409  2010  ...                       1                  NaN\n",
              "2      GB00B1YW4409  2011  ...                       1            33.333333\n",
              "3      GB00B1YW4409  2012  ...                       1            -6.250000\n",
              "50     DE0005408116  2012  ...                       1                  NaN\n",
              "51     DE0005408116  2013  ...                       1            10.000000\n",
              "...             ...   ...  ...                     ...                  ...\n",
              "14485  KYG989221000  2016  ...                      -1            -5.825243\n",
              "14486  KYG989221000  2017  ...                       1           -30.927835\n",
              "14487  KYG989221000  2018  ...                       1             1.990050\n",
              "14488  KYG989221000  2019  ...                       1            -2.113821\n",
              "14514  GB0006452857  2019  ...                       1                  NaN\n",
              "\n",
              "[3705 rows x 39 columns]"
            ]
          },
          "metadata": {
            "tags": []
          },
          "execution_count": 14
        }
      ]
    },
    {
      "cell_type": "code",
      "metadata": {
        "colab": {
          "base_uri": "https://localhost:8080/"
        },
        "id": "J6aca-9NVTUL",
        "outputId": "d007b7d1-044e-4b7e-b957-9fb425ff99ef"
      },
      "source": [
        "y2018=list(num_order_new[num_order_new['Year'] == 2018]['Env_intensity'])\n",
        "y2018=pd.Series(y2018)\n",
        "from statsmodels.tsa.stattools import adfuller\n",
        "X = y2018.values\n",
        "result = adfuller(X)\n",
        "split = round(len(X) / 2)\n",
        "X1, X2 = X[0:split], X[split:]\n",
        "mean1, mean2 = X1.mean(), X2.mean()\n",
        "var1, var2 = X1.var(), X2.var()\n",
        "print('mean1=%f, mean2=%f' % (mean1, mean2))\n",
        "print('variance1=%f, variance2=%f' % (var1, var2))\n",
        "print('ADF Statistic: %f' % result[0])\n",
        "print('p-value: %f' % result[1])\n",
        "print('Critical Values:')\n",
        "for key, value in result[4].items():\n",
        "\tprint('\\t%s: %.3f' % (key, value))"
      ],
      "execution_count": null,
      "outputs": [
        {
          "output_type": "stream",
          "text": [
            "mean1=-0.041328, mean2=-0.039877\n",
            "variance1=0.010222, variance2=0.005468\n",
            "ADF Statistic: -21.045903\n",
            "p-value: 0.000000\n",
            "Critical Values:\n",
            "\t1%: -3.445\n",
            "\t5%: -2.868\n",
            "\t10%: -2.570\n"
          ],
          "name": "stdout"
        }
      ]
    },
    {
      "cell_type": "code",
      "metadata": {
        "colab": {
          "base_uri": "https://localhost:8080/"
        },
        "id": "r1ovLfZhU2Nk",
        "outputId": "d750bd63-48a6-463d-f658-e91be87a080e"
      },
      "source": [
        "y2017=list(num_order_new[num_order_new['Year'] == 2017]['Env_intensity'])\n",
        "y2017=pd.Series(y2017)\n",
        "from statsmodels.tsa.stattools import adfuller\n",
        "X = y2017.values\n",
        "result = adfuller(X)\n",
        "split = round(len(X) / 2)\n",
        "X1, X2 = X[0:split], X[split:]\n",
        "mean1, mean2 = X1.mean(), X2.mean()\n",
        "var1, var2 = X1.var(), X2.var()\n",
        "print('mean1=%f, mean2=%f' % (mean1, mean2))\n",
        "print('variance1=%f, variance2=%f' % (var1, var2))\n",
        "print('ADF Statistic: %f' % result[0])\n",
        "print('p-value: %f' % result[1])\n",
        "print('Critical Values:')\n",
        "for key, value in result[4].items():\n",
        "\tprint('\\t%s: %.3f' % (key, value))"
      ],
      "execution_count": null,
      "outputs": [
        {
          "output_type": "stream",
          "text": [
            "mean1=-0.041998, mean2=-0.035402\n",
            "variance1=0.010698, variance2=0.002860\n",
            "ADF Statistic: -5.443552\n",
            "p-value: 0.000003\n",
            "Critical Values:\n",
            "\t1%: -3.446\n",
            "\t5%: -2.868\n",
            "\t10%: -2.570\n"
          ],
          "name": "stdout"
        }
      ]
    },
    {
      "cell_type": "code",
      "metadata": {
        "colab": {
          "base_uri": "https://localhost:8080/"
        },
        "id": "HmWEHKNnVeKq",
        "outputId": "2e73b27c-4d18-49a4-b50f-813ef9b30971"
      },
      "source": [
        "y2016=list(num_order_new[num_order_new['Year'] == 2016]['Env_intensity'])\n",
        "y2016=pd.Series(y2016)\n",
        "from statsmodels.tsa.stattools import adfuller\n",
        "X = y2016.values\n",
        "result = adfuller(X)\n",
        "split = round(len(X) / 2)\n",
        "X1, X2 = X[0:split], X[split:]\n",
        "mean1, mean2 = X1.mean(), X2.mean()\n",
        "var1, var2 = X1.var(), X2.var()\n",
        "print('mean1=%f, mean2=%f' % (mean1, mean2))\n",
        "print('variance1=%f, variance2=%f' % (var1, var2))\n",
        "print('ADF Statistic: %f' % result[0])\n",
        "print('p-value: %f' % result[1])\n",
        "print('Critical Values:')\n",
        "for key, value in result[4].items():\n",
        "\tprint('\\t%s: %.3f' % (key, value))"
      ],
      "execution_count": null,
      "outputs": [
        {
          "output_type": "stream",
          "text": [
            "mean1=-0.044473, mean2=-0.037712\n",
            "variance1=0.011978, variance2=0.002783\n",
            "ADF Statistic: -20.528414\n",
            "p-value: 0.000000\n",
            "Critical Values:\n",
            "\t1%: -3.446\n",
            "\t5%: -2.868\n",
            "\t10%: -2.570\n"
          ],
          "name": "stdout"
        }
      ]
    },
    {
      "cell_type": "code",
      "metadata": {
        "colab": {
          "base_uri": "https://localhost:8080/"
        },
        "id": "Tb82acviVmKQ",
        "outputId": "db410425-6d01-4eae-8f58-1d61f0003c5a"
      },
      "source": [
        "y2015=list(num_order_new[num_order_new['Year'] == 2015]['Env_intensity'])\n",
        "y2015=pd.Series(y2015)\n",
        "from statsmodels.tsa.stattools import adfuller\n",
        "X = y2015.values\n",
        "result = adfuller(X)\n",
        "split = round(len(X) / 2)\n",
        "X1, X2 = X[0:split], X[split:]\n",
        "mean1, mean2 = X1.mean(), X2.mean()\n",
        "var1, var2 = X1.var(), X2.var()\n",
        "print('mean1=%f, mean2=%f' % (mean1, mean2))\n",
        "print('variance1=%f, variance2=%f' % (var1, var2))\n",
        "print('ADF Statistic: %f' % result[0])\n",
        "print('p-value: %f' % result[1])\n",
        "print('Critical Values:')\n",
        "for key, value in result[4].items():\n",
        "\tprint('\\t%s: %.3f' % (key, value))"
      ],
      "execution_count": null,
      "outputs": [
        {
          "output_type": "stream",
          "text": [
            "mean1=-0.043269, mean2=-0.028244\n",
            "variance1=0.012533, variance2=0.019730\n",
            "ADF Statistic: -18.508807\n",
            "p-value: 0.000000\n",
            "Critical Values:\n",
            "\t1%: -3.449\n",
            "\t5%: -2.870\n",
            "\t10%: -2.571\n"
          ],
          "name": "stdout"
        }
      ]
    },
    {
      "cell_type": "markdown",
      "metadata": {
        "id": "IbnkALMqV7Dl"
      },
      "source": [
        "Let's check the top 3 industries"
      ]
    },
    {
      "cell_type": "code",
      "metadata": {
        "id": "t0YRWglHV-ld"
      },
      "source": [
        "num_order_new = ind[(ind['Industry(Exiobase)']=='Construction (45)')|(ind['Industry(Exiobase)'] == 'Financial intermediation, except insurance and pension funding (65)')|(ind['Industry(Exiobase)'] == 'Manufacture of electrical machinery and apparatus n.e.c. (31)')]"
      ],
      "execution_count": null,
      "outputs": []
    },
    {
      "cell_type": "code",
      "metadata": {
        "colab": {
          "base_uri": "https://localhost:8080/"
        },
        "id": "aUAg-J8ZWLNj",
        "outputId": "d6e5c8b2-f02b-41d1-d9fe-bf1e15443f1b"
      },
      "source": [
        "y2018=list(num_order_new[num_order_new['Year'] == 2018]['Env_intensity'])\n",
        "y2018=pd.Series(y2018)\n",
        "from statsmodels.tsa.stattools import adfuller\n",
        "X = y2018.values\n",
        "result = adfuller(X)\n",
        "split = round(len(X) / 2)\n",
        "X1, X2 = X[0:split], X[split:]\n",
        "mean1, mean2 = X1.mean(), X2.mean()\n",
        "var1, var2 = X1.var(), X2.var()\n",
        "print('mean1=%f, mean2=%f' % (mean1, mean2))\n",
        "print('variance1=%f, variance2=%f' % (var1, var2))\n",
        "print('ADF Statistic: %f' % result[0])\n",
        "print('p-value: %f' % result[1])\n",
        "print('Critical Values:')\n",
        "for key, value in result[4].items():\n",
        "\tprint('\\t%s: %.3f' % (key, value))"
      ],
      "execution_count": null,
      "outputs": [
        {
          "output_type": "stream",
          "text": [
            "mean1=-0.045647, mean2=-0.045448\n",
            "variance1=0.012042, variance2=0.006497\n",
            "ADF Statistic: -19.134100\n",
            "p-value: 0.000000\n",
            "Critical Values:\n",
            "\t1%: -3.449\n",
            "\t5%: -2.870\n",
            "\t10%: -2.571\n"
          ],
          "name": "stdout"
        }
      ]
    },
    {
      "cell_type": "code",
      "metadata": {
        "colab": {
          "base_uri": "https://localhost:8080/"
        },
        "id": "PZYu8hBkWVZE",
        "outputId": "b21cbb41-541c-4dbf-e61a-532ec80fcef3"
      },
      "source": [
        "y2017=list(num_order_new[num_order_new['Year'] == 2017]['Env_intensity'])\n",
        "y2017=pd.Series(y2017)\n",
        "from statsmodels.tsa.stattools import adfuller\n",
        "X = y2017.values\n",
        "result = adfuller(X)\n",
        "split = round(len(X) / 2)\n",
        "X1, X2 = X[0:split], X[split:]\n",
        "mean1, mean2 = X1.mean(), X2.mean()\n",
        "var1, var2 = X1.var(), X2.var()\n",
        "print('mean1=%f, mean2=%f' % (mean1, mean2))\n",
        "print('variance1=%f, variance2=%f' % (var1, var2))\n",
        "print('ADF Statistic: %f' % result[0])\n",
        "print('p-value: %f' % result[1])\n",
        "print('Critical Values:')\n",
        "for key, value in result[4].items():\n",
        "\tprint('\\t%s: %.3f' % (key, value))"
      ],
      "execution_count": null,
      "outputs": [
        {
          "output_type": "stream",
          "text": [
            "mean1=-0.039995, mean2=-0.040480\n",
            "variance1=0.003754, variance2=0.003352\n",
            "ADF Statistic: -19.354295\n",
            "p-value: 0.000000\n",
            "Critical Values:\n",
            "\t1%: -3.448\n",
            "\t5%: -2.870\n",
            "\t10%: -2.571\n"
          ],
          "name": "stdout"
        }
      ]
    },
    {
      "cell_type": "code",
      "metadata": {
        "colab": {
          "base_uri": "https://localhost:8080/"
        },
        "id": "RKvVA3AQWnAI",
        "outputId": "0b2afe92-a3bf-4365-d610-4029e6783708"
      },
      "source": [
        "y2016=list(num_order_new[num_order_new['Year'] == 2016]['Env_intensity'])\n",
        "y2016=pd.Series(y2016)\n",
        "from statsmodels.tsa.stattools import adfuller\n",
        "X = y2016.values\n",
        "result = adfuller(X)\n",
        "split = round(len(X) / 2)\n",
        "X1, X2 = X[0:split], X[split:]\n",
        "mean1, mean2 = X1.mean(), X2.mean()\n",
        "var1, var2 = X1.var(), X2.var()\n",
        "print('mean1=%f, mean2=%f' % (mean1, mean2))\n",
        "print('variance1=%f, variance2=%f' % (var1, var2))\n",
        "print('ADF Statistic: %f' % result[0])\n",
        "print('p-value: %f' % result[1])\n",
        "print('Critical Values:')\n",
        "for key, value in result[4].items():\n",
        "\tprint('\\t%s: %.3f' % (key, value))"
      ],
      "execution_count": null,
      "outputs": [
        {
          "output_type": "stream",
          "text": [
            "mean1=-0.048769, mean2=-0.043516\n",
            "variance1=0.014048, variance2=0.003285\n",
            "ADF Statistic: -19.089448\n",
            "p-value: 0.000000\n",
            "Critical Values:\n",
            "\t1%: -3.449\n",
            "\t5%: -2.870\n",
            "\t10%: -2.571\n"
          ],
          "name": "stdout"
        }
      ]
    },
    {
      "cell_type": "markdown",
      "metadata": {
        "id": "zATd_-UiW4CJ"
      },
      "source": [
        "## Conclusion\n",
        "\n",
        "Summary: All of the data that we used is stational.\n",
        "\n",
        "\n",
        "\n",
        "Next, we will continue our analysis in the 'DistilBERT_CompaniesDescription' notebook"
      ]
    }
  ]
}