{
 "cells": [
  {
   "cell_type": "markdown",
   "metadata": {},
   "source": [
    "# <center> Predicting The Current Year's GHG with the Previous Years' GHG Scope <center/>"
   ]
  },
  {
   "cell_type": "markdown",
   "metadata": {},
   "source": [
    "##### In this notebook we are going to try and predict the GHG Scope of 2019 with values from the previous years. We are going to be using both the actual values and the percentage change year-over-year. "
   ]
  },
  {
   "cell_type": "code",
   "execution_count": 1,
   "metadata": {},
   "outputs": [
    {
     "name": "stderr",
     "output_type": "stream",
     "text": [
      "C:\\Users\\YEET\\Anaconda3\\lib\\site-packages\\statsmodels\\tools\\_testing.py:19: FutureWarning: pandas.util.testing is deprecated. Use the functions in the public API at pandas.testing instead.\n",
      "  import pandas.util.testing as tm\n"
     ]
    }
   ],
   "source": [
    "import pandas as pd\n",
    "import numpy as np\n",
    "import seaborn as sns\n",
    "import matplotlib.pyplot as plt\n",
    "import missingno as msno\n",
    "from sklearn.linear_model import LinearRegression, Ridge, RidgeCV, Lasso, LassoCV\n",
    "from sklearn.tree import DecisionTreeClassifier\n",
    "from sklearn.model_selection import train_test_split, cross_val_score, KFold, cross_val_predict\n",
    "from sklearn import metrics\n",
    "from sklearn.metrics import r2_score\n",
    "from sklearn.preprocessing import scale, PolynomialFeatures\n",
    "from sklearn.feature_selection import RFE\n",
    "from datetime import datetime, date\n",
    "import statsmodels.api as sm\n",
    "from statsmodels.tsa.stattools import adfuller\n",
    "\n",
    "\n",
    "stocks = pd.read_csv(\"/Users/YEET/Documents/GitHub/Predicting-Environmental-and-Social-Actions/Datasets/company_data.csv\")\n",
    "sectors = pd.read_csv(\"/Users/YEET/Documents/GitHub/Predicting-Environmental-and-Social-Actions/Datasets/52_tickers_sectors.csv\")\n",
    "\n",
    "stocks['Missing_GHG'] = np.where(stocks['GHG Scope 1'].isna(), 1, 0)\n",
    "stocks['GHG Scope 1'].fillna(0, inplace = True)\n",
    "stocks.loc[stocks['GHG Scope 1'].isna(),['GHG Scope 1','Missing_GHG']].head()\n",
    "\n",
    "stocks = stocks.merge(sectors, on='Ticker')\n",
    "stocks['GHG Scope 1'] = stocks['GHG Scope 1'].astype(float)\n",
    "stocks['Percent_Change_GHG'] = (stocks.groupby('Ticker')['GHG Scope 1'].apply(pd.Series.pct_change) + 1)"
   ]
  },
  {
   "cell_type": "markdown",
   "metadata": {},
   "source": [
    "## Using Average of 2016, 2017, and 2018 GHG Scope to Predict 2019"
   ]
  },
  {
   "cell_type": "code",
   "execution_count": 15,
   "metadata": {},
   "outputs": [
    {
     "data": {
      "text/html": [
       "<table class=\"simpletable\">\n",
       "<caption>OLS Regression Results</caption>\n",
       "<tr>\n",
       "  <th>Dep. Variable:</th>       <td>GHG Scope 1</td>   <th>  R-squared:         </th> <td>   0.978</td>\n",
       "</tr>\n",
       "<tr>\n",
       "  <th>Model:</th>                   <td>OLS</td>       <th>  Adj. R-squared:    </th> <td>   0.976</td>\n",
       "</tr>\n",
       "<tr>\n",
       "  <th>Method:</th>             <td>Least Squares</td>  <th>  F-statistic:       </th> <td>   512.1</td>\n",
       "</tr>\n",
       "<tr>\n",
       "  <th>Date:</th>             <td>Thu, 15 Jul 2021</td> <th>  Prob (F-statistic):</th> <td>5.81e-29</td>\n",
       "</tr>\n",
       "<tr>\n",
       "  <th>Time:</th>                 <td>17:51:50</td>     <th>  Log-Likelihood:    </th> <td> -375.49</td>\n",
       "</tr>\n",
       "<tr>\n",
       "  <th>No. Observations:</th>      <td>    39</td>      <th>  AIC:               </th> <td>   759.0</td>\n",
       "</tr>\n",
       "<tr>\n",
       "  <th>Df Residuals:</th>          <td>    35</td>      <th>  BIC:               </th> <td>   765.6</td>\n",
       "</tr>\n",
       "<tr>\n",
       "  <th>Df Model:</th>              <td>     3</td>      <th>                     </th>     <td> </td>   \n",
       "</tr>\n",
       "<tr>\n",
       "  <th>Covariance Type:</th>      <td>nonrobust</td>    <th>                     </th>     <td> </td>   \n",
       "</tr>\n",
       "</table>\n",
       "<table class=\"simpletable\">\n",
       "<tr>\n",
       "    <td></td>       <th>coef</th>     <th>std err</th>      <th>t</th>      <th>P>|t|</th>  <th>[0.025</th>    <th>0.975]</th>  \n",
       "</tr>\n",
       "<tr>\n",
       "  <th>const</th> <td>  785.5107</td> <td>  859.091</td> <td>    0.914</td> <td> 0.367</td> <td> -958.537</td> <td> 2529.558</td>\n",
       "</tr>\n",
       "<tr>\n",
       "  <th>2016</th>  <td>   -0.2083</td> <td>    0.168</td> <td>   -1.240</td> <td> 0.223</td> <td>   -0.549</td> <td>    0.133</td>\n",
       "</tr>\n",
       "<tr>\n",
       "  <th>2017</th>  <td>   -0.2277</td> <td>    0.353</td> <td>   -0.645</td> <td> 0.523</td> <td>   -0.945</td> <td>    0.489</td>\n",
       "</tr>\n",
       "<tr>\n",
       "  <th>2018</th>  <td>    1.3555</td> <td>    0.256</td> <td>    5.291</td> <td> 0.000</td> <td>    0.835</td> <td>    1.876</td>\n",
       "</tr>\n",
       "</table>\n",
       "<table class=\"simpletable\">\n",
       "<tr>\n",
       "  <th>Omnibus:</th>       <td>18.000</td> <th>  Durbin-Watson:     </th> <td>   1.871</td>\n",
       "</tr>\n",
       "<tr>\n",
       "  <th>Prob(Omnibus):</th> <td> 0.000</td> <th>  Jarque-Bera (JB):  </th> <td>  25.376</td>\n",
       "</tr>\n",
       "<tr>\n",
       "  <th>Skew:</th>          <td> 1.321</td> <th>  Prob(JB):          </th> <td>3.09e-06</td>\n",
       "</tr>\n",
       "<tr>\n",
       "  <th>Kurtosis:</th>      <td> 5.938</td> <th>  Cond. No.          </th> <td>9.25e+04</td>\n",
       "</tr>\n",
       "</table><br/><br/>Warnings:<br/>[1] Standard Errors assume that the covariance matrix of the errors is correctly specified.<br/>[2] The condition number is large, 9.25e+04. This might indicate that there are<br/>strong multicollinearity or other numerical problems."
      ],
      "text/plain": [
       "<class 'statsmodels.iolib.summary.Summary'>\n",
       "\"\"\"\n",
       "                            OLS Regression Results                            \n",
       "==============================================================================\n",
       "Dep. Variable:            GHG Scope 1   R-squared:                       0.978\n",
       "Model:                            OLS   Adj. R-squared:                  0.976\n",
       "Method:                 Least Squares   F-statistic:                     512.1\n",
       "Date:                Thu, 15 Jul 2021   Prob (F-statistic):           5.81e-29\n",
       "Time:                        17:51:50   Log-Likelihood:                -375.49\n",
       "No. Observations:                  39   AIC:                             759.0\n",
       "Df Residuals:                      35   BIC:                             765.6\n",
       "Df Model:                           3                                         \n",
       "Covariance Type:            nonrobust                                         \n",
       "==============================================================================\n",
       "                 coef    std err          t      P>|t|      [0.025      0.975]\n",
       "------------------------------------------------------------------------------\n",
       "const        785.5107    859.091      0.914      0.367    -958.537    2529.558\n",
       "2016          -0.2083      0.168     -1.240      0.223      -0.549       0.133\n",
       "2017          -0.2277      0.353     -0.645      0.523      -0.945       0.489\n",
       "2018           1.3555      0.256      5.291      0.000       0.835       1.876\n",
       "==============================================================================\n",
       "Omnibus:                       18.000   Durbin-Watson:                   1.871\n",
       "Prob(Omnibus):                  0.000   Jarque-Bera (JB):               25.376\n",
       "Skew:                           1.321   Prob(JB):                     3.09e-06\n",
       "Kurtosis:                       5.938   Cond. No.                     9.25e+04\n",
       "==============================================================================\n",
       "\n",
       "Warnings:\n",
       "[1] Standard Errors assume that the covariance matrix of the errors is correctly specified.\n",
       "[2] The condition number is large, 9.25e+04. This might indicate that there are\n",
       "strong multicollinearity or other numerical problems.\n",
       "\"\"\""
      ]
     },
     "execution_count": 15,
     "metadata": {},
     "output_type": "execute_result"
    }
   ],
   "source": [
    "companies_2018 = list(stocks[(stocks['Year'] == 2018) & (stocks['GHG Scope 1'] != 0)]['Ticker'])\n",
    "companies_2019 = list(stocks[(stocks['Year'] == 2019) & (stocks['Ticker'].isin(companies_2018))]['Ticker'])\n",
    "\n",
    "#Getting companies that have reported for 2016,2017, and 2018 in a years\n",
    "list2018_as_set = set(companies_2018)\n",
    "intersection = list2018_as_set.intersection(companies_2019)\n",
    "\n",
    "companies_2017 = list(stocks[(stocks['Year'] == 2017) & (stocks['GHG Scope 1'] != 0) ]['Ticker'])\n",
    "list2017_as_set = set(companies_2017)\n",
    "intersection2= list2017_as_set.intersection(intersection)\n",
    "\n",
    "companies_2016 = list(stocks[(stocks['Year'] == 2016) & (stocks['GHG Scope 1'] != 0) ]['Ticker'])\n",
    "list2016_as_set = set(companies_2016)\n",
    "intersection2= list2016_as_set.intersection(intersection2)\n",
    "\n",
    "x = stocks[(stocks['Year'].isin([2016, 2017,2018])) & (stocks['Ticker'].isin(intersection2))][['Year', 'Ticker', 'GHG Scope 1']]\n",
    "x = x.pivot(index = 'Ticker', columns = ['Year']).reset_index()\n",
    "x.columns = x.columns.droplevel(0)\n",
    "\n",
    "x = x.rename_axis(None, axis=1)\n",
    "x = x.drop(columns = '')\n",
    "\n",
    "y = stocks[(stocks['Year'] == 2019) & (stocks['Ticker'].isin(intersection2))][['GHG Scope 1']]\n",
    "x.index = y.index\n",
    "\n",
    "# x_train, x_test, y_train, y_test = train_test_split(\n",
    "#     X, y, test_size=0.2, random_state=42)\n",
    "x = sm.add_constant(x)\n",
    "sm.OLS(y, x).fit().summary()"
   ]
  },
  {
   "cell_type": "markdown",
   "metadata": {},
   "source": [
    "Looking at the regression results, we can see that our model is statistically significant. This means that the average of 2016, 2017, 2018 values are statistically significant at predicting 2019 values for GHG scope."
   ]
  },
  {
   "cell_type": "markdown",
   "metadata": {},
   "source": [
    "Now let's look at the stationarity for our previous year column by running a Dickey-Fuller test and printing the p values."
   ]
  },
  {
   "cell_type": "code",
   "execution_count": 3,
   "metadata": {},
   "outputs": [
    {
     "name": "stdout",
     "output_type": "stream",
     "text": [
      "2016 p-value: 0.0006090779270817075\n",
      "2017 p-value: 0.0014291590809764792\n",
      "2018 p-value: 0.0024224655368029874\n"
     ]
    }
   ],
   "source": [
    "for column in x.columns[1:]:\n",
    "    print(f'{column} p-value: {adfuller(x[column])[1]}')"
   ]
  },
  {
   "cell_type": "markdown",
   "metadata": {},
   "source": [
    "Since all the p-values are below 0.05 we conclude that all coefficients are stationary and our model is valid"
   ]
  },
  {
   "cell_type": "markdown",
   "metadata": {},
   "source": [
    "## Split by Industry"
   ]
  },
  {
   "cell_type": "code",
   "execution_count": 4,
   "metadata": {},
   "outputs": [],
   "source": [
    "util_df = stocks[stocks['Sector'] == 'Utilities']\n",
    "nrg_df = stocks[stocks['Sector'] == 'Energy']"
   ]
  },
  {
   "cell_type": "code",
   "execution_count": 5,
   "metadata": {},
   "outputs": [
    {
     "data": {
      "text/html": [
       "<table class=\"simpletable\">\n",
       "<caption>OLS Regression Results</caption>\n",
       "<tr>\n",
       "  <th>Dep. Variable:</th>       <td>GHG Scope 1</td>   <th>  R-squared:         </th> <td>   0.977</td>\n",
       "</tr>\n",
       "<tr>\n",
       "  <th>Model:</th>                   <td>OLS</td>       <th>  Adj. R-squared:    </th> <td>   0.974</td>\n",
       "</tr>\n",
       "<tr>\n",
       "  <th>Method:</th>             <td>Least Squares</td>  <th>  F-statistic:       </th> <td>   282.7</td>\n",
       "</tr>\n",
       "<tr>\n",
       "  <th>Date:</th>             <td>Thu, 15 Jul 2021</td> <th>  Prob (F-statistic):</th> <td>1.54e-16</td>\n",
       "</tr>\n",
       "<tr>\n",
       "  <th>Time:</th>                 <td>17:51:28</td>     <th>  Log-Likelihood:    </th> <td> -227.81</td>\n",
       "</tr>\n",
       "<tr>\n",
       "  <th>No. Observations:</th>      <td>    24</td>      <th>  AIC:               </th> <td>   463.6</td>\n",
       "</tr>\n",
       "<tr>\n",
       "  <th>Df Residuals:</th>          <td>    20</td>      <th>  BIC:               </th> <td>   468.3</td>\n",
       "</tr>\n",
       "<tr>\n",
       "  <th>Df Model:</th>              <td>     3</td>      <th>                     </th>     <td> </td>   \n",
       "</tr>\n",
       "<tr>\n",
       "  <th>Covariance Type:</th>      <td>nonrobust</td>    <th>                     </th>     <td> </td>   \n",
       "</tr>\n",
       "</table>\n",
       "<table class=\"simpletable\">\n",
       "<tr>\n",
       "    <td></td>       <th>coef</th>     <th>std err</th>      <th>t</th>      <th>P>|t|</th>  <th>[0.025</th>    <th>0.975]</th>  \n",
       "</tr>\n",
       "<tr>\n",
       "  <th>const</th> <td>  -46.2787</td> <td> 1132.759</td> <td>   -0.041</td> <td> 0.968</td> <td>-2409.172</td> <td> 2316.615</td>\n",
       "</tr>\n",
       "<tr>\n",
       "  <th>2016</th>  <td>   -0.1263</td> <td>    0.164</td> <td>   -0.768</td> <td> 0.451</td> <td>   -0.469</td> <td>    0.217</td>\n",
       "</tr>\n",
       "<tr>\n",
       "  <th>2017</th>  <td>   -0.4000</td> <td>    0.343</td> <td>   -1.167</td> <td> 0.257</td> <td>   -1.115</td> <td>    0.315</td>\n",
       "</tr>\n",
       "<tr>\n",
       "  <th>2018</th>  <td>    1.4359</td> <td>    0.266</td> <td>    5.406</td> <td> 0.000</td> <td>    0.882</td> <td>    1.990</td>\n",
       "</tr>\n",
       "</table>\n",
       "<table class=\"simpletable\">\n",
       "<tr>\n",
       "  <th>Omnibus:</th>       <td>21.371</td> <th>  Durbin-Watson:     </th> <td>   2.182</td>\n",
       "</tr>\n",
       "<tr>\n",
       "  <th>Prob(Omnibus):</th> <td> 0.000</td> <th>  Jarque-Bera (JB):  </th> <td>  35.074</td>\n",
       "</tr>\n",
       "<tr>\n",
       "  <th>Skew:</th>          <td> 1.674</td> <th>  Prob(JB):          </th> <td>2.42e-08</td>\n",
       "</tr>\n",
       "<tr>\n",
       "  <th>Kurtosis:</th>      <td> 7.885</td> <th>  Cond. No.          </th> <td>1.07e+05</td>\n",
       "</tr>\n",
       "</table><br/><br/>Warnings:<br/>[1] Standard Errors assume that the covariance matrix of the errors is correctly specified.<br/>[2] The condition number is large, 1.07e+05. This might indicate that there are<br/>strong multicollinearity or other numerical problems."
      ],
      "text/plain": [
       "<class 'statsmodels.iolib.summary.Summary'>\n",
       "\"\"\"\n",
       "                            OLS Regression Results                            \n",
       "==============================================================================\n",
       "Dep. Variable:            GHG Scope 1   R-squared:                       0.977\n",
       "Model:                            OLS   Adj. R-squared:                  0.974\n",
       "Method:                 Least Squares   F-statistic:                     282.7\n",
       "Date:                Thu, 15 Jul 2021   Prob (F-statistic):           1.54e-16\n",
       "Time:                        17:51:28   Log-Likelihood:                -227.81\n",
       "No. Observations:                  24   AIC:                             463.6\n",
       "Df Residuals:                      20   BIC:                             468.3\n",
       "Df Model:                           3                                         \n",
       "Covariance Type:            nonrobust                                         \n",
       "==============================================================================\n",
       "                 coef    std err          t      P>|t|      [0.025      0.975]\n",
       "------------------------------------------------------------------------------\n",
       "const        -46.2787   1132.759     -0.041      0.968   -2409.172    2316.615\n",
       "2016          -0.1263      0.164     -0.768      0.451      -0.469       0.217\n",
       "2017          -0.4000      0.343     -1.167      0.257      -1.115       0.315\n",
       "2018           1.4359      0.266      5.406      0.000       0.882       1.990\n",
       "==============================================================================\n",
       "Omnibus:                       21.371   Durbin-Watson:                   2.182\n",
       "Prob(Omnibus):                  0.000   Jarque-Bera (JB):               35.074\n",
       "Skew:                           1.674   Prob(JB):                     2.42e-08\n",
       "Kurtosis:                       7.885   Cond. No.                     1.07e+05\n",
       "==============================================================================\n",
       "\n",
       "Warnings:\n",
       "[1] Standard Errors assume that the covariance matrix of the errors is correctly specified.\n",
       "[2] The condition number is large, 1.07e+05. This might indicate that there are\n",
       "strong multicollinearity or other numerical problems.\n",
       "\"\"\""
      ]
     },
     "execution_count": 5,
     "metadata": {},
     "output_type": "execute_result"
    }
   ],
   "source": [
    "companies_2018 = list(util_df[(util_df['Year'] == 2018) & (util_df['GHG Scope 1'] != 0)]['Ticker'])\n",
    "companies_2019 = list(util_df[(util_df['Year'] == 2019) & (util_df['Ticker'].isin(companies_2018))]['Ticker'])\n",
    "\n",
    "#Getting companies that have reported for 2016,2017, and 2018 in a years\n",
    "list2018_as_set = set(companies_2018)\n",
    "intersection = list2018_as_set.intersection(companies_2019)\n",
    "\n",
    "companies_2017 = list(util_df[(util_df['Year'] == 2017) & (util_df['GHG Scope 1'] != 0) ]['Ticker'])\n",
    "list2017_as_set = set(companies_2017)\n",
    "intersection = list2017_as_set.intersection(intersection)\n",
    "\n",
    "companies_2016 = list(util_df[(util_df['Year'] == 2016) & (util_df['GHG Scope 1'] != 0) ]['Ticker'])\n",
    "list2016_as_set = set(companies_2016)\n",
    "intersection = list2016_as_set.intersection(intersection)\n",
    "\n",
    "x = util_df[(util_df['Year'].isin([2016, 2017,2018])) & (util_df['Ticker'].isin(intersection))][['Year', 'Ticker', 'GHG Scope 1']]\n",
    "x = x.pivot(index = 'Ticker', columns = ['Year']).reset_index()\n",
    "x.columns = x.columns.droplevel(0)\n",
    "\n",
    "x = x.rename_axis(None, axis=1)\n",
    "x = x.drop(columns = '')\n",
    "\n",
    "y = util_df[(util_df['Year'] == 2019) & (util_df['Ticker'].isin(intersection))][['GHG Scope 1']]\n",
    "x.index = y.index\n",
    "\n",
    "# x_train, x_test, y_train, y_test = train_test_split(\n",
    "#     X, y, test_size=0.2, random_state=42)\n",
    "x = sm.add_constant(x)\n",
    "sm.OLS(y, x).fit().summary()\n"
   ]
  },
  {
   "cell_type": "code",
   "execution_count": 6,
   "metadata": {},
   "outputs": [
    {
     "name": "stdout",
     "output_type": "stream",
     "text": [
      "2016 p-value: 0.20821263313929034\n",
      "2017 p-value: 0.17183450369556258\n",
      "2018 p-value: 0.012991677893899373\n"
     ]
    }
   ],
   "source": [
    "for column in x.columns[1:]:\n",
    "    print(f'{column} p-value: {adfuller(x[column])[1]}')"
   ]
  },
  {
   "cell_type": "code",
   "execution_count": 7,
   "metadata": {},
   "outputs": [
    {
     "name": "stderr",
     "output_type": "stream",
     "text": [
      "C:\\Users\\YEET\\Anaconda3\\lib\\site-packages\\scipy\\stats\\stats.py:1450: UserWarning: kurtosistest only valid for n>=20 ... continuing anyway, n=15\n",
      "  \"anyway, n=%i\" % int(n))\n"
     ]
    },
    {
     "data": {
      "text/html": [
       "<table class=\"simpletable\">\n",
       "<caption>OLS Regression Results</caption>\n",
       "<tr>\n",
       "  <th>Dep. Variable:</th>       <td>GHG Scope 1</td>   <th>  R-squared:         </th> <td>   0.989</td>\n",
       "</tr>\n",
       "<tr>\n",
       "  <th>Model:</th>                   <td>OLS</td>       <th>  Adj. R-squared:    </th> <td>   0.986</td>\n",
       "</tr>\n",
       "<tr>\n",
       "  <th>Method:</th>             <td>Least Squares</td>  <th>  F-statistic:       </th> <td>   332.1</td>\n",
       "</tr>\n",
       "<tr>\n",
       "  <th>Date:</th>             <td>Thu, 15 Jul 2021</td> <th>  Prob (F-statistic):</th> <td>4.56e-11</td>\n",
       "</tr>\n",
       "<tr>\n",
       "  <th>Time:</th>                 <td>17:51:28</td>     <th>  Log-Likelihood:    </th> <td> -141.66</td>\n",
       "</tr>\n",
       "<tr>\n",
       "  <th>No. Observations:</th>      <td>    15</td>      <th>  AIC:               </th> <td>   291.3</td>\n",
       "</tr>\n",
       "<tr>\n",
       "  <th>Df Residuals:</th>          <td>    11</td>      <th>  BIC:               </th> <td>   294.2</td>\n",
       "</tr>\n",
       "<tr>\n",
       "  <th>Df Model:</th>              <td>     3</td>      <th>                     </th>     <td> </td>   \n",
       "</tr>\n",
       "<tr>\n",
       "  <th>Covariance Type:</th>      <td>nonrobust</td>    <th>                     </th>     <td> </td>   \n",
       "</tr>\n",
       "</table>\n",
       "<table class=\"simpletable\">\n",
       "<tr>\n",
       "    <td></td>       <th>coef</th>     <th>std err</th>      <th>t</th>      <th>P>|t|</th>  <th>[0.025</th>    <th>0.975]</th>  \n",
       "</tr>\n",
       "<tr>\n",
       "  <th>const</th> <td> 1812.4706</td> <td> 1139.090</td> <td>    1.591</td> <td> 0.140</td> <td> -694.649</td> <td> 4319.590</td>\n",
       "</tr>\n",
       "<tr>\n",
       "  <th>2016</th>  <td>   -0.3935</td> <td>    0.597</td> <td>   -0.659</td> <td> 0.524</td> <td>   -1.708</td> <td>    0.921</td>\n",
       "</tr>\n",
       "<tr>\n",
       "  <th>2017</th>  <td>    1.6096</td> <td>    0.978</td> <td>    1.645</td> <td> 0.128</td> <td>   -0.544</td> <td>    3.763</td>\n",
       "</tr>\n",
       "<tr>\n",
       "  <th>2018</th>  <td>   -0.2407</td> <td>    0.681</td> <td>   -0.353</td> <td> 0.730</td> <td>   -1.740</td> <td>    1.258</td>\n",
       "</tr>\n",
       "</table>\n",
       "<table class=\"simpletable\">\n",
       "<tr>\n",
       "  <th>Omnibus:</th>       <td>13.985</td> <th>  Durbin-Watson:     </th> <td>   1.694</td>\n",
       "</tr>\n",
       "<tr>\n",
       "  <th>Prob(Omnibus):</th> <td> 0.001</td> <th>  Jarque-Bera (JB):  </th> <td>  10.490</td>\n",
       "</tr>\n",
       "<tr>\n",
       "  <th>Skew:</th>          <td> 1.586</td> <th>  Prob(JB):          </th> <td> 0.00527</td>\n",
       "</tr>\n",
       "<tr>\n",
       "  <th>Kurtosis:</th>      <td> 5.594</td> <th>  Cond. No.          </th> <td>8.06e+04</td>\n",
       "</tr>\n",
       "</table><br/><br/>Warnings:<br/>[1] Standard Errors assume that the covariance matrix of the errors is correctly specified.<br/>[2] The condition number is large, 8.06e+04. This might indicate that there are<br/>strong multicollinearity or other numerical problems."
      ],
      "text/plain": [
       "<class 'statsmodels.iolib.summary.Summary'>\n",
       "\"\"\"\n",
       "                            OLS Regression Results                            \n",
       "==============================================================================\n",
       "Dep. Variable:            GHG Scope 1   R-squared:                       0.989\n",
       "Model:                            OLS   Adj. R-squared:                  0.986\n",
       "Method:                 Least Squares   F-statistic:                     332.1\n",
       "Date:                Thu, 15 Jul 2021   Prob (F-statistic):           4.56e-11\n",
       "Time:                        17:51:28   Log-Likelihood:                -141.66\n",
       "No. Observations:                  15   AIC:                             291.3\n",
       "Df Residuals:                      11   BIC:                             294.2\n",
       "Df Model:                           3                                         \n",
       "Covariance Type:            nonrobust                                         \n",
       "==============================================================================\n",
       "                 coef    std err          t      P>|t|      [0.025      0.975]\n",
       "------------------------------------------------------------------------------\n",
       "const       1812.4706   1139.090      1.591      0.140    -694.649    4319.590\n",
       "2016          -0.3935      0.597     -0.659      0.524      -1.708       0.921\n",
       "2017           1.6096      0.978      1.645      0.128      -0.544       3.763\n",
       "2018          -0.2407      0.681     -0.353      0.730      -1.740       1.258\n",
       "==============================================================================\n",
       "Omnibus:                       13.985   Durbin-Watson:                   1.694\n",
       "Prob(Omnibus):                  0.001   Jarque-Bera (JB):               10.490\n",
       "Skew:                           1.586   Prob(JB):                      0.00527\n",
       "Kurtosis:                       5.594   Cond. No.                     8.06e+04\n",
       "==============================================================================\n",
       "\n",
       "Warnings:\n",
       "[1] Standard Errors assume that the covariance matrix of the errors is correctly specified.\n",
       "[2] The condition number is large, 8.06e+04. This might indicate that there are\n",
       "strong multicollinearity or other numerical problems.\n",
       "\"\"\""
      ]
     },
     "execution_count": 7,
     "metadata": {},
     "output_type": "execute_result"
    }
   ],
   "source": [
    "companies_2018 = list(nrg_df[(nrg_df['Year'] == 2018) & (nrg_df['GHG Scope 1'] != 0)]['Ticker'])\n",
    "companies_2019 = list(nrg_df[(nrg_df['Year'] == 2019) & (nrg_df['Ticker'].isin(companies_2018))]['Ticker'])\n",
    "\n",
    "#Getting companies that have reported for 2016,2017, and 2018 in a years\n",
    "list2018_as_set = set(companies_2018)\n",
    "intersection = list2018_as_set.intersection(companies_2019)\n",
    "\n",
    "companies_2017 = list(nrg_df[(nrg_df['Year'] == 2017) & (nrg_df['GHG Scope 1'] != 0) ]['Ticker'])\n",
    "list2017_as_set = set(companies_2017)\n",
    "intersection = list2017_as_set.intersection(intersection)\n",
    "\n",
    "companies_2016 = list(nrg_df[(nrg_df['Year'] == 2016) & (nrg_df['GHG Scope 1'] != 0) ]['Ticker'])\n",
    "list2016_as_set = set(companies_2016)\n",
    "intersection = list2016_as_set.intersection(intersection)\n",
    "\n",
    "x = nrg_df[(nrg_df['Year'].isin([2016, 2017,2018])) & (nrg_df['Ticker'].isin(intersection))][['Year', 'Ticker', 'GHG Scope 1']]\n",
    "x = x.pivot(index = 'Ticker', columns = ['Year']).reset_index()\n",
    "x.columns = x.columns.droplevel(0)\n",
    "\n",
    "x = x.rename_axis(None, axis=1)\n",
    "x = x.drop(columns = '')\n",
    "\n",
    "y = nrg_df[(nrg_df['Year'] == 2019) & (nrg_df['Ticker'].isin(intersection))][['GHG Scope 1']]\n",
    "x.index = y.index\n",
    "\n",
    "# x_train, x_test, y_train, y_test = train_test_split(\n",
    "#     X, y, test_size=0.2, random_state=42)\n",
    "x = sm.add_constant(x)\n",
    "sm.OLS(y, x).fit().summary()"
   ]
  },
  {
   "cell_type": "code",
   "execution_count": 8,
   "metadata": {},
   "outputs": [
    {
     "name": "stdout",
     "output_type": "stream",
     "text": [
      "2016 p-value: 0.2506059326497947\n",
      "2017 p-value: 0.22964762814593354\n",
      "2018 p-value: 0.1878243121455755\n"
     ]
    }
   ],
   "source": [
    "for column in x.columns[1:]:\n",
    "    print(f'{column} p-value: {adfuller(x[column])[1]}')"
   ]
  },
  {
   "cell_type": "markdown",
   "metadata": {},
   "source": [
    "Looking at the two regression results above that are split by industry, we see that the average of 2016, 2017, 2018 values are statistically significant at predicting 2019 values for GHG scope."
   ]
  },
  {
   "cell_type": "markdown",
   "metadata": {},
   "source": [
    "## Percent Change"
   ]
  },
  {
   "cell_type": "code",
   "execution_count": 30,
   "metadata": {},
   "outputs": [
    {
     "data": {
      "text/html": [
       "<table class=\"simpletable\">\n",
       "<caption>OLS Regression Results</caption>\n",
       "<tr>\n",
       "  <th>Dep. Variable:</th>    <td>Percent_Change_GHG</td> <th>  R-squared:         </th> <td>   0.062</td>\n",
       "</tr>\n",
       "<tr>\n",
       "  <th>Model:</th>                    <td>OLS</td>        <th>  Adj. R-squared:    </th> <td>  -0.029</td>\n",
       "</tr>\n",
       "<tr>\n",
       "  <th>Method:</th>              <td>Least Squares</td>   <th>  F-statistic:       </th> <td>  0.6776</td>\n",
       "</tr>\n",
       "<tr>\n",
       "  <th>Date:</th>              <td>Thu, 15 Jul 2021</td>  <th>  Prob (F-statistic):</th>  <td> 0.572</td> \n",
       "</tr>\n",
       "<tr>\n",
       "  <th>Time:</th>                  <td>17:54:04</td>      <th>  Log-Likelihood:    </th> <td> -11.026</td>\n",
       "</tr>\n",
       "<tr>\n",
       "  <th>No. Observations:</th>       <td>    35</td>       <th>  AIC:               </th> <td>   30.05</td>\n",
       "</tr>\n",
       "<tr>\n",
       "  <th>Df Residuals:</th>           <td>    31</td>       <th>  BIC:               </th> <td>   36.27</td>\n",
       "</tr>\n",
       "<tr>\n",
       "  <th>Df Model:</th>               <td>     3</td>       <th>                     </th>     <td> </td>   \n",
       "</tr>\n",
       "<tr>\n",
       "  <th>Covariance Type:</th>       <td>nonrobust</td>     <th>                     </th>     <td> </td>   \n",
       "</tr>\n",
       "</table>\n",
       "<table class=\"simpletable\">\n",
       "<tr>\n",
       "    <td></td>       <th>coef</th>     <th>std err</th>      <th>t</th>      <th>P>|t|</th>  <th>[0.025</th>    <th>0.975]</th>  \n",
       "</tr>\n",
       "<tr>\n",
       "  <th>const</th> <td>    0.5008</td> <td>    0.608</td> <td>    0.824</td> <td> 0.416</td> <td>   -0.739</td> <td>    1.740</td>\n",
       "</tr>\n",
       "<tr>\n",
       "  <th>2016</th>  <td>    0.4113</td> <td>    0.374</td> <td>    1.099</td> <td> 0.280</td> <td>   -0.352</td> <td>    1.174</td>\n",
       "</tr>\n",
       "<tr>\n",
       "  <th>2017</th>  <td>    0.2150</td> <td>    0.567</td> <td>    0.379</td> <td> 0.707</td> <td>   -0.942</td> <td>    1.372</td>\n",
       "</tr>\n",
       "<tr>\n",
       "  <th>2018</th>  <td>   -0.1063</td> <td>    0.204</td> <td>   -0.520</td> <td> 0.607</td> <td>   -0.523</td> <td>    0.310</td>\n",
       "</tr>\n",
       "</table>\n",
       "<table class=\"simpletable\">\n",
       "<tr>\n",
       "  <th>Omnibus:</th>       <td>12.077</td> <th>  Durbin-Watson:     </th> <td>   2.391</td>\n",
       "</tr>\n",
       "<tr>\n",
       "  <th>Prob(Omnibus):</th> <td> 0.002</td> <th>  Jarque-Bera (JB):  </th> <td>  25.692</td>\n",
       "</tr>\n",
       "<tr>\n",
       "  <th>Skew:</th>          <td> 0.553</td> <th>  Prob(JB):          </th> <td>2.64e-06</td>\n",
       "</tr>\n",
       "<tr>\n",
       "  <th>Kurtosis:</th>      <td> 7.049</td> <th>  Cond. No.          </th> <td>    25.7</td>\n",
       "</tr>\n",
       "</table><br/><br/>Warnings:<br/>[1] Standard Errors assume that the covariance matrix of the errors is correctly specified."
      ],
      "text/plain": [
       "<class 'statsmodels.iolib.summary.Summary'>\n",
       "\"\"\"\n",
       "                            OLS Regression Results                            \n",
       "==============================================================================\n",
       "Dep. Variable:     Percent_Change_GHG   R-squared:                       0.062\n",
       "Model:                            OLS   Adj. R-squared:                 -0.029\n",
       "Method:                 Least Squares   F-statistic:                    0.6776\n",
       "Date:                Thu, 15 Jul 2021   Prob (F-statistic):              0.572\n",
       "Time:                        17:54:04   Log-Likelihood:                -11.026\n",
       "No. Observations:                  35   AIC:                             30.05\n",
       "Df Residuals:                      31   BIC:                             36.27\n",
       "Df Model:                           3                                         \n",
       "Covariance Type:            nonrobust                                         \n",
       "==============================================================================\n",
       "                 coef    std err          t      P>|t|      [0.025      0.975]\n",
       "------------------------------------------------------------------------------\n",
       "const          0.5008      0.608      0.824      0.416      -0.739       1.740\n",
       "2016           0.4113      0.374      1.099      0.280      -0.352       1.174\n",
       "2017           0.2150      0.567      0.379      0.707      -0.942       1.372\n",
       "2018          -0.1063      0.204     -0.520      0.607      -0.523       0.310\n",
       "==============================================================================\n",
       "Omnibus:                       12.077   Durbin-Watson:                   2.391\n",
       "Prob(Omnibus):                  0.002   Jarque-Bera (JB):               25.692\n",
       "Skew:                           0.553   Prob(JB):                     2.64e-06\n",
       "Kurtosis:                       7.049   Cond. No.                         25.7\n",
       "==============================================================================\n",
       "\n",
       "Warnings:\n",
       "[1] Standard Errors assume that the covariance matrix of the errors is correctly specified.\n",
       "\"\"\""
      ]
     },
     "execution_count": 30,
     "metadata": {},
     "output_type": "execute_result"
    }
   ],
   "source": [
    "companies_2018 = list(stocks[(stocks['Year'] == 2018) & (np.isfinite(stocks.Percent_Change_GHG))]['Ticker'])\n",
    "companies_2019 = list(stocks[(stocks['Year'] == 2019) & (stocks['Ticker'].isin(companies_2018))]['Ticker'])\n",
    "\n",
    "#Getting companies that have reported for 2016,2017, and 2018 in a years\n",
    "list2018_as_set = set(companies_2018)\n",
    "intersection = list2018_as_set.intersection(companies_2019)\n",
    "\n",
    "companies_2017 = list(stocks[(stocks['Year'] == 2017) & (np.isfinite(stocks.Percent_Change_GHG)) ]['Ticker'])\n",
    "list2017_as_set = set(companies_2017)\n",
    "intersection = list2017_as_set.intersection(intersection)\n",
    "\n",
    "companies_2016 = list(stocks[(stocks['Year'] == 2016) & (np.isfinite(stocks.Percent_Change_GHG)) ]['Ticker'])\n",
    "list2016_as_set = set(companies_2016)\n",
    "intersection = list2016_as_set.intersection(intersection)\n",
    "\n",
    "x = stocks[(stocks['Year'].isin([2016, 2017,2018])) & (stocks['Ticker'].isin(intersection))][['Year', 'Ticker', 'Percent_Change_GHG']]\n",
    "x = x.pivot(index = 'Ticker', columns = ['Year']).reset_index()\n",
    "x.columns = x.columns.droplevel(0)\n",
    "\n",
    "x = x.rename_axis(None, axis=1)\n",
    "x = x.drop(columns = '')\n",
    "                             \n",
    "y = stocks[(stocks['Year'] == 2019) & (stocks['Ticker'].isin(intersection))][['Percent_Change_GHG']]\n",
    "x.index = y.index\n",
    "\n",
    "# x_train, x_test, y_train, y_test = train_test_split(\n",
    "#     X, y, test_size=0.2, random_state=42)\n",
    "x = sm.add_constant(x)\n",
    "sm.OLS(y, x).fit().summary()"
   ]
  },
  {
   "cell_type": "markdown",
   "metadata": {},
   "source": [
    "When we try to predict the percentage change of this year with the values of last three year we see that the 2016, 2017, and 2018 values are not statistically significant at predicting 2019 values."
   ]
  },
  {
   "cell_type": "markdown",
   "metadata": {},
   "source": [
    "Now let's look at the stationarity for our previous year column by running a Dickey-Fuller test and printing the p values."
   ]
  },
  {
   "cell_type": "code",
   "execution_count": 31,
   "metadata": {},
   "outputs": [
    {
     "name": "stdout",
     "output_type": "stream",
     "text": [
      "2016 p-value: 4.408304121791802e-07\n",
      "2017 p-value: 5.2464738997598225e-08\n",
      "2018 p-value: 1.3253171599285162e-06\n"
     ]
    }
   ],
   "source": [
    "for column in x.columns[1:]:\n",
    "    print(f'{column} p-value: {adfuller(x[column])[1]}')"
   ]
  },
  {
   "cell_type": "markdown",
   "metadata": {},
   "source": [
    "Since all the p-values are above 0.05 we conclude that all coefficients are stationary and however this doesn't change the fact that this model performs poorly."
   ]
  },
  {
   "cell_type": "markdown",
   "metadata": {},
   "source": [
    "# Percentage Change for Each Industry"
   ]
  },
  {
   "cell_type": "code",
   "execution_count": 34,
   "metadata": {},
   "outputs": [
    {
     "data": {
      "text/html": [
       "<table class=\"simpletable\">\n",
       "<caption>OLS Regression Results</caption>\n",
       "<tr>\n",
       "  <th>Dep. Variable:</th>    <td>Percent_Change_GHG</td> <th>  R-squared:         </th> <td>   0.050</td>\n",
       "</tr>\n",
       "<tr>\n",
       "  <th>Model:</th>                    <td>OLS</td>        <th>  Adj. R-squared:    </th> <td>  -0.108</td>\n",
       "</tr>\n",
       "<tr>\n",
       "  <th>Method:</th>              <td>Least Squares</td>   <th>  F-statistic:       </th> <td>  0.3156</td>\n",
       "</tr>\n",
       "<tr>\n",
       "  <th>Date:</th>              <td>Thu, 15 Jul 2021</td>  <th>  Prob (F-statistic):</th>  <td> 0.814</td> \n",
       "</tr>\n",
       "<tr>\n",
       "  <th>Time:</th>                  <td>17:54:59</td>      <th>  Log-Likelihood:    </th> <td>  2.0383</td>\n",
       "</tr>\n",
       "<tr>\n",
       "  <th>No. Observations:</th>       <td>    22</td>       <th>  AIC:               </th> <td>   3.923</td>\n",
       "</tr>\n",
       "<tr>\n",
       "  <th>Df Residuals:</th>           <td>    18</td>       <th>  BIC:               </th> <td>   8.287</td>\n",
       "</tr>\n",
       "<tr>\n",
       "  <th>Df Model:</th>               <td>     3</td>       <th>                     </th>     <td> </td>   \n",
       "</tr>\n",
       "<tr>\n",
       "  <th>Covariance Type:</th>       <td>nonrobust</td>     <th>                     </th>     <td> </td>   \n",
       "</tr>\n",
       "</table>\n",
       "<table class=\"simpletable\">\n",
       "<tr>\n",
       "    <td></td>       <th>coef</th>     <th>std err</th>      <th>t</th>      <th>P>|t|</th>  <th>[0.025</th>    <th>0.975]</th>  \n",
       "</tr>\n",
       "<tr>\n",
       "  <th>const</th> <td>    1.2884</td> <td>    0.548</td> <td>    2.353</td> <td> 0.030</td> <td>    0.138</td> <td>    2.439</td>\n",
       "</tr>\n",
       "<tr>\n",
       "  <th>2016</th>  <td>    0.0543</td> <td>    0.341</td> <td>    0.159</td> <td> 0.875</td> <td>   -0.661</td> <td>    0.770</td>\n",
       "</tr>\n",
       "<tr>\n",
       "  <th>2017</th>  <td>   -0.4576</td> <td>    0.566</td> <td>   -0.809</td> <td> 0.429</td> <td>   -1.646</td> <td>    0.731</td>\n",
       "</tr>\n",
       "<tr>\n",
       "  <th>2018</th>  <td>   -0.0211</td> <td>    0.310</td> <td>   -0.068</td> <td> 0.947</td> <td>   -0.673</td> <td>    0.631</td>\n",
       "</tr>\n",
       "</table>\n",
       "<table class=\"simpletable\">\n",
       "<tr>\n",
       "  <th>Omnibus:</th>       <td>28.004</td> <th>  Durbin-Watson:     </th> <td>   1.843</td>\n",
       "</tr>\n",
       "<tr>\n",
       "  <th>Prob(Omnibus):</th> <td> 0.000</td> <th>  Jarque-Bera (JB):  </th> <td>  57.161</td>\n",
       "</tr>\n",
       "<tr>\n",
       "  <th>Skew:</th>          <td>-2.188</td> <th>  Prob(JB):          </th> <td>3.87e-13</td>\n",
       "</tr>\n",
       "<tr>\n",
       "  <th>Kurtosis:</th>      <td> 9.574</td> <th>  Cond. No.          </th> <td>    28.0</td>\n",
       "</tr>\n",
       "</table><br/><br/>Warnings:<br/>[1] Standard Errors assume that the covariance matrix of the errors is correctly specified."
      ],
      "text/plain": [
       "<class 'statsmodels.iolib.summary.Summary'>\n",
       "\"\"\"\n",
       "                            OLS Regression Results                            \n",
       "==============================================================================\n",
       "Dep. Variable:     Percent_Change_GHG   R-squared:                       0.050\n",
       "Model:                            OLS   Adj. R-squared:                 -0.108\n",
       "Method:                 Least Squares   F-statistic:                    0.3156\n",
       "Date:                Thu, 15 Jul 2021   Prob (F-statistic):              0.814\n",
       "Time:                        17:54:59   Log-Likelihood:                 2.0383\n",
       "No. Observations:                  22   AIC:                             3.923\n",
       "Df Residuals:                      18   BIC:                             8.287\n",
       "Df Model:                           3                                         \n",
       "Covariance Type:            nonrobust                                         \n",
       "==============================================================================\n",
       "                 coef    std err          t      P>|t|      [0.025      0.975]\n",
       "------------------------------------------------------------------------------\n",
       "const          1.2884      0.548      2.353      0.030       0.138       2.439\n",
       "2016           0.0543      0.341      0.159      0.875      -0.661       0.770\n",
       "2017          -0.4576      0.566     -0.809      0.429      -1.646       0.731\n",
       "2018          -0.0211      0.310     -0.068      0.947      -0.673       0.631\n",
       "==============================================================================\n",
       "Omnibus:                       28.004   Durbin-Watson:                   1.843\n",
       "Prob(Omnibus):                  0.000   Jarque-Bera (JB):               57.161\n",
       "Skew:                          -2.188   Prob(JB):                     3.87e-13\n",
       "Kurtosis:                       9.574   Cond. No.                         28.0\n",
       "==============================================================================\n",
       "\n",
       "Warnings:\n",
       "[1] Standard Errors assume that the covariance matrix of the errors is correctly specified.\n",
       "\"\"\""
      ]
     },
     "execution_count": 34,
     "metadata": {},
     "output_type": "execute_result"
    }
   ],
   "source": [
    "companies_2018 = list(util_df[(util_df['Year'] == 2018) & (np.isfinite(util_df.Percent_Change_GHG))]['Ticker'])\n",
    "companies_2019 = list(util_df[(util_df['Year'] == 2019) & (util_df['Ticker'].isin(companies_2018))]['Ticker'])\n",
    "\n",
    "#Getting companies that have reported for 2016, 2017, and 2018 in a years\n",
    "list2018_as_set = set(companies_2018)\n",
    "intersection = list2018_as_set.intersection(companies_2019)\n",
    "\n",
    "companies_2017 = list(util_df[(util_df['Year'] == 2017) & (np.isfinite(util_df.Percent_Change_GHG)) ]['Ticker'])\n",
    "list2017_as_set = set(companies_2017)\n",
    "intersection = list2017_as_set.intersection(intersection)\n",
    "\n",
    "companies_2016 = list(util_df[(util_df['Year'] == 2016) & (np.isfinite(util_df.Percent_Change_GHG)) ]['Ticker'])\n",
    "list2016_as_set = set(companies_2016)\n",
    "intersection = list2016_as_set.intersection(intersection)\n",
    "\n",
    "x = util_df[(util_df['Year'].isin([2016, 2017,2018])) & (util_df['Ticker'].isin(intersection))][['Year', 'Ticker', 'Percent_Change_GHG']]\n",
    "x = x.pivot(index = 'Ticker', columns = ['Year']).reset_index()\n",
    "x.columns = x.columns.droplevel(0)\n",
    "\n",
    "x = x.rename_axis(None, axis=1)\n",
    "x = x.drop(columns = '')\n",
    "                             \n",
    "y = util_df[(util_df['Year'] == 2019) & (util_df['Ticker'].isin(intersection))][['Percent_Change_GHG']]\n",
    "x.index = y.index\n",
    "\n",
    "# x_train, x_test, y_train, y_test = train_test_split(\n",
    "#     X, y, test_size=0.2, random_state=42)\n",
    "x = sm.add_constant(x)\n",
    "sm.OLS(y, x).fit().summary()"
   ]
  },
  {
   "cell_type": "code",
   "execution_count": 35,
   "metadata": {},
   "outputs": [
    {
     "name": "stdout",
     "output_type": "stream",
     "text": [
      "2016 p-value: 1.0\n",
      "2017 p-value: 0.0016709477869441232\n",
      "2018 p-value: 0.0\n"
     ]
    }
   ],
   "source": [
    "for column in x.columns[1:]:\n",
    "    print(f'{column} p-value: {adfuller(x[column])[1]}')"
   ]
  },
  {
   "cell_type": "code",
   "execution_count": 13,
   "metadata": {},
   "outputs": [
    {
     "name": "stderr",
     "output_type": "stream",
     "text": [
      "C:\\Users\\YEET\\Anaconda3\\lib\\site-packages\\scipy\\stats\\stats.py:1450: UserWarning: kurtosistest only valid for n>=20 ... continuing anyway, n=13\n",
      "  \"anyway, n=%i\" % int(n))\n"
     ]
    },
    {
     "data": {
      "text/html": [
       "<table class=\"simpletable\">\n",
       "<caption>OLS Regression Results</caption>\n",
       "<tr>\n",
       "  <th>Dep. Variable:</th>    <td>Percent_Change_GHG</td> <th>  R-squared:         </th> <td>   0.165</td>\n",
       "</tr>\n",
       "<tr>\n",
       "  <th>Model:</th>                    <td>OLS</td>        <th>  Adj. R-squared:    </th> <td>  -0.113</td>\n",
       "</tr>\n",
       "<tr>\n",
       "  <th>Method:</th>              <td>Least Squares</td>   <th>  F-statistic:       </th> <td>  0.5926</td>\n",
       "</tr>\n",
       "<tr>\n",
       "  <th>Date:</th>              <td>Thu, 15 Jul 2021</td>  <th>  Prob (F-statistic):</th>  <td> 0.635</td> \n",
       "</tr>\n",
       "<tr>\n",
       "  <th>Time:</th>                  <td>17:51:28</td>      <th>  Log-Likelihood:    </th> <td> -5.9413</td>\n",
       "</tr>\n",
       "<tr>\n",
       "  <th>No. Observations:</th>       <td>    13</td>       <th>  AIC:               </th> <td>   19.88</td>\n",
       "</tr>\n",
       "<tr>\n",
       "  <th>Df Residuals:</th>           <td>     9</td>       <th>  BIC:               </th> <td>   22.14</td>\n",
       "</tr>\n",
       "<tr>\n",
       "  <th>Df Model:</th>               <td>     3</td>       <th>                     </th>     <td> </td>   \n",
       "</tr>\n",
       "<tr>\n",
       "  <th>Covariance Type:</th>       <td>nonrobust</td>     <th>                     </th>     <td> </td>   \n",
       "</tr>\n",
       "</table>\n",
       "<table class=\"simpletable\">\n",
       "<tr>\n",
       "    <td></td>       <th>coef</th>     <th>std err</th>      <th>t</th>      <th>P>|t|</th>  <th>[0.025</th>    <th>0.975]</th>  \n",
       "</tr>\n",
       "<tr>\n",
       "  <th>const</th> <td>    0.2958</td> <td>    1.488</td> <td>    0.199</td> <td> 0.847</td> <td>   -3.070</td> <td>    3.661</td>\n",
       "</tr>\n",
       "<tr>\n",
       "  <th>2016</th>  <td>    0.5061</td> <td>    0.993</td> <td>    0.509</td> <td> 0.623</td> <td>   -1.741</td> <td>    2.753</td>\n",
       "</tr>\n",
       "<tr>\n",
       "  <th>2017</th>  <td>    0.6147</td> <td>    1.098</td> <td>    0.560</td> <td> 0.589</td> <td>   -1.870</td> <td>    3.099</td>\n",
       "</tr>\n",
       "<tr>\n",
       "  <th>2018</th>  <td>   -0.2034</td> <td>    0.404</td> <td>   -0.504</td> <td> 0.627</td> <td>   -1.117</td> <td>    0.710</td>\n",
       "</tr>\n",
       "</table>\n",
       "<table class=\"simpletable\">\n",
       "<tr>\n",
       "  <th>Omnibus:</th>       <td> 2.417</td> <th>  Durbin-Watson:     </th> <td>   2.036</td>\n",
       "</tr>\n",
       "<tr>\n",
       "  <th>Prob(Omnibus):</th> <td> 0.299</td> <th>  Jarque-Bera (JB):  </th> <td>   0.968</td>\n",
       "</tr>\n",
       "<tr>\n",
       "  <th>Skew:</th>          <td> 0.663</td> <th>  Prob(JB):          </th> <td>   0.616</td>\n",
       "</tr>\n",
       "<tr>\n",
       "  <th>Kurtosis:</th>      <td> 3.167</td> <th>  Cond. No.          </th> <td>    28.4</td>\n",
       "</tr>\n",
       "</table><br/><br/>Warnings:<br/>[1] Standard Errors assume that the covariance matrix of the errors is correctly specified."
      ],
      "text/plain": [
       "<class 'statsmodels.iolib.summary.Summary'>\n",
       "\"\"\"\n",
       "                            OLS Regression Results                            \n",
       "==============================================================================\n",
       "Dep. Variable:     Percent_Change_GHG   R-squared:                       0.165\n",
       "Model:                            OLS   Adj. R-squared:                 -0.113\n",
       "Method:                 Least Squares   F-statistic:                    0.5926\n",
       "Date:                Thu, 15 Jul 2021   Prob (F-statistic):              0.635\n",
       "Time:                        17:51:28   Log-Likelihood:                -5.9413\n",
       "No. Observations:                  13   AIC:                             19.88\n",
       "Df Residuals:                       9   BIC:                             22.14\n",
       "Df Model:                           3                                         \n",
       "Covariance Type:            nonrobust                                         \n",
       "==============================================================================\n",
       "                 coef    std err          t      P>|t|      [0.025      0.975]\n",
       "------------------------------------------------------------------------------\n",
       "const          0.2958      1.488      0.199      0.847      -3.070       3.661\n",
       "2016           0.5061      0.993      0.509      0.623      -1.741       2.753\n",
       "2017           0.6147      1.098      0.560      0.589      -1.870       3.099\n",
       "2018          -0.2034      0.404     -0.504      0.627      -1.117       0.710\n",
       "==============================================================================\n",
       "Omnibus:                        2.417   Durbin-Watson:                   2.036\n",
       "Prob(Omnibus):                  0.299   Jarque-Bera (JB):                0.968\n",
       "Skew:                           0.663   Prob(JB):                        0.616\n",
       "Kurtosis:                       3.167   Cond. No.                         28.4\n",
       "==============================================================================\n",
       "\n",
       "Warnings:\n",
       "[1] Standard Errors assume that the covariance matrix of the errors is correctly specified.\n",
       "\"\"\""
      ]
     },
     "execution_count": 13,
     "metadata": {},
     "output_type": "execute_result"
    }
   ],
   "source": [
    "companies_2018 = list(nrg_df[(nrg_df['Year'] == 2018) & (np.isfinite(nrg_df.Percent_Change_GHG))]['Ticker'])\n",
    "companies_2019 = list(nrg_df[(nrg_df['Year'] == 2019) & (nrg_df['Ticker'].isin(companies_2018))]['Ticker'])\n",
    "\n",
    "#Getting companies that have reported for 2016, 2017, and 2018 in a years\n",
    "list2018_as_set = set(companies_2018)\n",
    "intersection = list2018_as_set.intersection(companies_2019)\n",
    "\n",
    "companies_2017 = list(nrg_df[(nrg_df['Year'] == 2017) & (np.isfinite(nrg_df.Percent_Change_GHG)) ]['Ticker'])\n",
    "list2017_as_set = set(companies_2017)\n",
    "intersection = list2017_as_set.intersection(intersection)\n",
    "\n",
    "companies_2016 = list(nrg_df[(nrg_df['Year'] == 2016) & (np.isfinite(nrg_df.Percent_Change_GHG)) ]['Ticker'])\n",
    "list2016_as_set = set(companies_2016)\n",
    "intersection = list2016_as_set.intersection(intersection)\n",
    "\n",
    "x = nrg_df[(nrg_df['Year'].isin([2016, 2017,2018])) & (nrg_df['Ticker'].isin(intersection))][['Year', 'Ticker', 'Percent_Change_GHG']]\n",
    "x = x.pivot(index = 'Ticker', columns = ['Year']).reset_index()\n",
    "x.columns = x.columns.droplevel(0)\n",
    "\n",
    "x = x.rename_axis(None, axis=1)\n",
    "x = x.drop(columns = '')\n",
    "\n",
    "y = nrg_df[(nrg_df['Year'] == 2019) & (nrg_df['Ticker'].isin(intersection))][['Percent_Change_GHG']]\n",
    "x.index = y.index\n",
    "\n",
    "# x_train, x_test, y_train, y_test = train_test_split(\n",
    "#     X, y, test_size=0.2, random_state=42)\n",
    "x = sm.add_constant(x)\n",
    "sm.OLS(y, x).fit().summary()"
   ]
  },
  {
   "cell_type": "markdown",
   "metadata": {},
   "source": [
    "The results don't change when we split by industry and run a regression for each industry. The 2016, 2017, and 2018 percentage change values are not statistically significant at predicting 2019 values for both industries."
   ]
  },
  {
   "cell_type": "code",
   "execution_count": 14,
   "metadata": {},
   "outputs": [
    {
     "name": "stdout",
     "output_type": "stream",
     "text": [
      "2016 p-value: 0.11939475084720846\n",
      "2017 p-value: 0.0918115544800363\n",
      "2018 p-value: 0.36273443778876535\n"
     ]
    }
   ],
   "source": [
    "for column in x.columns[1:]:\n",
    "    print(f'{column} p-value: {adfuller(x[column])[1]}')"
   ]
  },
  {
   "cell_type": "markdown",
   "metadata": {},
   "source": [
    "## Conclusion"
   ]
  },
  {
   "cell_type": "markdown",
   "metadata": {},
   "source": [
    "We have seen that when we use actual values GHG Scope of 2016, 2017, 2018 is statistically significant at predicting 2019 values. However, when we try to predict the precentage change of GHG Scope in 2018-2019, using 2015-2018 values is not statistically significant.\n",
    "\n",
    "We will continue our analysis on 'DistilBERT_and_level_regressions' notebook."
   ]
  }
 ],
 "metadata": {
  "kernelspec": {
   "display_name": "Python 3",
   "language": "python",
   "name": "python3"
  },
  "language_info": {
   "codemirror_mode": {
    "name": "ipython",
    "version": 3
   },
   "file_extension": ".py",
   "mimetype": "text/x-python",
   "name": "python",
   "nbconvert_exporter": "python",
   "pygments_lexer": "ipython3",
   "version": "3.7.4"
  }
 },
 "nbformat": 4,
 "nbformat_minor": 4
}
