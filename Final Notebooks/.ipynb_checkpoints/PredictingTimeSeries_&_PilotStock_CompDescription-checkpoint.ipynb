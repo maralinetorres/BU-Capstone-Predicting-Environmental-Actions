{
 "cells": [
  {
   "cell_type": "markdown",
   "id": "painted-offset",
   "metadata": {
    "id": "persistent-following"
   },
   "source": [
    "# Predicting future environmental intensity (Time Series) and Collect Pilot Stocks Companies Descriptions\n",
    "\n",
    "In this notebook, we will predict future environmental intensity for all the companies in the 'Excel data'. We will be using data from previous years to predict the future environmental intesity. \n",
    "\n",
    "First, we will create the following columns:\n",
    "\n",
    "1) Industry Indicator\n",
    "- 1 if above the industry average in current year\n",
    "- 0 if at industry average in current yeat\n",
    "- (-1) if below the industry average in current year\n",
    "2) Environmental Intensity Growth : ((Environmental Intensity in Current Year / Environmental Intensity Last Year) - 1) * 100\n",
    "\n",
    "\n",
    "At the end, we collected, directly from Yahoo Finance website, each company description. For this, we use the pilot stocks which have the Ticker identifier. "
   ]
  },
  {
   "cell_type": "code",
   "execution_count": 1,
   "id": "quick-mattress",
   "metadata": {
    "id": "wound-assurance"
   },
   "outputs": [],
   "source": [
    "import pandas as pd\n",
    "import numpy as np\n",
    "import seaborn as sns\n",
    "import matplotlib.pyplot as plt\n",
    "import missingno as msno\n",
    "import warnings\n",
    "from sklearn import linear_model\n",
    "from sklearn import metrics\n",
    "from sklearn.linear_model import LinearRegression\n",
    "from sklearn.model_selection import train_test_split\n",
    "import requests\n",
    "from bs4 import BeautifulSoup\n",
    "warnings.filterwarnings('ignore')"
   ]
  },
  {
   "cell_type": "code",
   "execution_count": 2,
   "id": "permanent-feeling",
   "metadata": {
    "colab": {
     "base_uri": "https://localhost:8080/",
     "height": 281
    },
    "id": "mental-excellence",
    "outputId": "a7628443-5329-4315-e077-1dcb1d71bcce"
   },
   "outputs": [
    {
     "name": "stdout",
     "output_type": "stream",
     "text": [
      "The dataset has 14515 rows and 39 columns\n"
     ]
    },
    {
     "data": {
      "text/html": [
       "<div>\n",
       "<style scoped>\n",
       "    .dataframe tbody tr th:only-of-type {\n",
       "        vertical-align: middle;\n",
       "    }\n",
       "\n",
       "    .dataframe tbody tr th {\n",
       "        vertical-align: top;\n",
       "    }\n",
       "\n",
       "    .dataframe thead th {\n",
       "        text-align: right;\n",
       "    }\n",
       "</style>\n",
       "<table border=\"1\" class=\"dataframe\">\n",
       "  <thead>\n",
       "    <tr style=\"text-align: right;\">\n",
       "      <th></th>\n",
       "      <th>ISIN</th>\n",
       "      <th>Year</th>\n",
       "      <th>CompanyName</th>\n",
       "      <th>Country</th>\n",
       "      <th>Industry(Exiobase)</th>\n",
       "      <th>EnvironmentalIntensity(Sales)</th>\n",
       "      <th>EnvironmentalIntensity(OpInc)</th>\n",
       "      <th>TotalEnvironmentalCost</th>\n",
       "      <th>WorkingCapacity</th>\n",
       "      <th>FishProductionCapacity</th>\n",
       "      <th>...</th>\n",
       "      <th>SDG14.c</th>\n",
       "      <th>SDG15.1</th>\n",
       "      <th>SDG15.2</th>\n",
       "      <th>SDG15.5</th>\n",
       "      <th>%Imputed</th>\n",
       "      <th>Env_intensity</th>\n",
       "      <th>industry_avg</th>\n",
       "      <th>industry_avg_year</th>\n",
       "      <th>Industry_indicator_year</th>\n",
       "      <th>Environmental_Growth</th>\n",
       "    </tr>\n",
       "  </thead>\n",
       "  <tbody>\n",
       "    <tr>\n",
       "      <th>0</th>\n",
       "      <td>DE0005545503</td>\n",
       "      <td>2016</td>\n",
       "      <td>1&amp;1 DRILLISCH AG</td>\n",
       "      <td>Germany</td>\n",
       "      <td>Post and telecommunications (64)</td>\n",
       "      <td>-0.07%</td>\n",
       "      <td>-0.82%</td>\n",
       "      <td>-539,318</td>\n",
       "      <td>-525,027</td>\n",
       "      <td>-169</td>\n",
       "      <td>...</td>\n",
       "      <td>-6</td>\n",
       "      <td>67</td>\n",
       "      <td>67</td>\n",
       "      <td>-22</td>\n",
       "      <td>23%</td>\n",
       "      <td>-0.0007</td>\n",
       "      <td>-0.020506</td>\n",
       "      <td>-0.020740</td>\n",
       "      <td>1</td>\n",
       "      <td>NaN</td>\n",
       "    </tr>\n",
       "    <tr>\n",
       "      <th>1</th>\n",
       "      <td>GB00B1YW4409</td>\n",
       "      <td>2010</td>\n",
       "      <td>3I GROUP PLC</td>\n",
       "      <td>United Kingdom</td>\n",
       "      <td>Financial intermediation, except insurance and...</td>\n",
       "      <td>-0.12%</td>\n",
       "      <td>-0.11%</td>\n",
       "      <td>-1,055,812</td>\n",
       "      <td>-1,032,103</td>\n",
       "      <td>-277</td>\n",
       "      <td>...</td>\n",
       "      <td>-4</td>\n",
       "      <td>51</td>\n",
       "      <td>51</td>\n",
       "      <td>-43</td>\n",
       "      <td>10%</td>\n",
       "      <td>-0.0012</td>\n",
       "      <td>-0.028537</td>\n",
       "      <td>-0.006402</td>\n",
       "      <td>1</td>\n",
       "      <td>NaN</td>\n",
       "    </tr>\n",
       "    <tr>\n",
       "      <th>2</th>\n",
       "      <td>GB00B1YW4409</td>\n",
       "      <td>2011</td>\n",
       "      <td>3I GROUP PLC</td>\n",
       "      <td>United Kingdom</td>\n",
       "      <td>Financial intermediation, except insurance and...</td>\n",
       "      <td>-0.16%</td>\n",
       "      <td>-0.16%</td>\n",
       "      <td>-961,875</td>\n",
       "      <td>-940,402</td>\n",
       "      <td>-246</td>\n",
       "      <td>...</td>\n",
       "      <td>-3</td>\n",
       "      <td>38</td>\n",
       "      <td>38</td>\n",
       "      <td>-39</td>\n",
       "      <td>9%</td>\n",
       "      <td>-0.0016</td>\n",
       "      <td>-0.028537</td>\n",
       "      <td>-0.009838</td>\n",
       "      <td>1</td>\n",
       "      <td>33.333333</td>\n",
       "    </tr>\n",
       "  </tbody>\n",
       "</table>\n",
       "<p>3 rows × 39 columns</p>\n",
       "</div>"
      ],
      "text/plain": [
       "           ISIN  Year       CompanyName         Country  \\\n",
       "0  DE0005545503  2016  1&1 DRILLISCH AG         Germany   \n",
       "1  GB00B1YW4409  2010      3I GROUP PLC  United Kingdom   \n",
       "2  GB00B1YW4409  2011      3I GROUP PLC  United Kingdom   \n",
       "\n",
       "                                  Industry(Exiobase)  \\\n",
       "0                   Post and telecommunications (64)   \n",
       "1  Financial intermediation, except insurance and...   \n",
       "2  Financial intermediation, except insurance and...   \n",
       "\n",
       "  EnvironmentalIntensity(Sales) EnvironmentalIntensity(OpInc)  \\\n",
       "0                        -0.07%                        -0.82%   \n",
       "1                        -0.12%                        -0.11%   \n",
       "2                        -0.16%                        -0.16%   \n",
       "\n",
       "  TotalEnvironmentalCost WorkingCapacity FishProductionCapacity  ... SDG14.c  \\\n",
       "0               -539,318        -525,027                   -169  ...      -6   \n",
       "1             -1,055,812      -1,032,103                   -277  ...      -4   \n",
       "2               -961,875        -940,402                   -246  ...      -3   \n",
       "\n",
       "  SDG15.1 SDG15.2 SDG15.5 %Imputed Env_intensity industry_avg  \\\n",
       "0      67      67     -22      23%       -0.0007    -0.020506   \n",
       "1      51      51     -43      10%       -0.0012    -0.028537   \n",
       "2      38      38     -39       9%       -0.0016    -0.028537   \n",
       "\n",
       "  industry_avg_year Industry_indicator_year Environmental_Growth  \n",
       "0         -0.020740                       1                  NaN  \n",
       "1         -0.006402                       1                  NaN  \n",
       "2         -0.009838                       1            33.333333  \n",
       "\n",
       "[3 rows x 39 columns]"
      ]
     },
     "execution_count": 2,
     "metadata": {},
     "output_type": "execute_result"
    }
   ],
   "source": [
    "df = pd.read_csv('/Users/maralinetorres/Documents/GitHub/Predicting-Environmental-and-Social-Actions/Datasets/Environmental_impact_cleaned.csv')\n",
    "print(f'The dataset has {df.shape[0]} rows and {df.shape[1]} columns')\n",
    "df.head(3)"
   ]
  },
  {
   "cell_type": "markdown",
   "id": "million-associate",
   "metadata": {},
   "source": [
    "Now, we are going to subset for the columns that we are interested in. As discussed in the notebook 'Environmental-Impact-Data Cleaning', we transformed the EnvironmentalIntensity(Sales) to decimals and removed spaces in columns CompanyName and Country. "
   ]
  },
  {
   "cell_type": "code",
   "execution_count": 3,
   "id": "legitimate-working",
   "metadata": {
    "colab": {
     "base_uri": "https://localhost:8080/",
     "height": 204
    },
    "id": "future-cornell",
    "outputId": "9695eda6-a19d-4bcc-ca72-4d1f594d749d"
   },
   "outputs": [
    {
     "data": {
      "text/html": [
       "<div>\n",
       "<style scoped>\n",
       "    .dataframe tbody tr th:only-of-type {\n",
       "        vertical-align: middle;\n",
       "    }\n",
       "\n",
       "    .dataframe tbody tr th {\n",
       "        vertical-align: top;\n",
       "    }\n",
       "\n",
       "    .dataframe thead th {\n",
       "        text-align: right;\n",
       "    }\n",
       "</style>\n",
       "<table border=\"1\" class=\"dataframe\">\n",
       "  <thead>\n",
       "    <tr style=\"text-align: right;\">\n",
       "      <th></th>\n",
       "      <th>ISIN</th>\n",
       "      <th>Year</th>\n",
       "      <th>CompanyName</th>\n",
       "      <th>Country</th>\n",
       "      <th>Industry(Exiobase)</th>\n",
       "      <th>EnvironmentalIntensity(Sales)</th>\n",
       "      <th>Env_intensity</th>\n",
       "    </tr>\n",
       "  </thead>\n",
       "  <tbody>\n",
       "    <tr>\n",
       "      <th>0</th>\n",
       "      <td>DE0005545503</td>\n",
       "      <td>2016</td>\n",
       "      <td>1&amp;1 DRILLISCH AG</td>\n",
       "      <td>Germany</td>\n",
       "      <td>Post and telecommunications (64)</td>\n",
       "      <td>-0.07%</td>\n",
       "      <td>-0.0007</td>\n",
       "    </tr>\n",
       "    <tr>\n",
       "      <th>1</th>\n",
       "      <td>GB00B1YW4409</td>\n",
       "      <td>2010</td>\n",
       "      <td>3I GROUP PLC</td>\n",
       "      <td>United Kingdom</td>\n",
       "      <td>Financial intermediation, except insurance and...</td>\n",
       "      <td>-0.12%</td>\n",
       "      <td>-0.0012</td>\n",
       "    </tr>\n",
       "    <tr>\n",
       "      <th>2</th>\n",
       "      <td>GB00B1YW4409</td>\n",
       "      <td>2011</td>\n",
       "      <td>3I GROUP PLC</td>\n",
       "      <td>United Kingdom</td>\n",
       "      <td>Financial intermediation, except insurance and...</td>\n",
       "      <td>-0.16%</td>\n",
       "      <td>-0.0016</td>\n",
       "    </tr>\n",
       "    <tr>\n",
       "      <th>3</th>\n",
       "      <td>GB00B1YW4409</td>\n",
       "      <td>2012</td>\n",
       "      <td>3I GROUP PLC</td>\n",
       "      <td>United Kingdom</td>\n",
       "      <td>Financial intermediation, except insurance and...</td>\n",
       "      <td>-0.15%</td>\n",
       "      <td>-0.0015</td>\n",
       "    </tr>\n",
       "    <tr>\n",
       "      <th>4</th>\n",
       "      <td>US88579Y1010</td>\n",
       "      <td>2010</td>\n",
       "      <td>3M COMPANY</td>\n",
       "      <td>United States</td>\n",
       "      <td>Activities of membership organisation n.e.c. (91)</td>\n",
       "      <td>-7.90%</td>\n",
       "      <td>-0.0790</td>\n",
       "    </tr>\n",
       "  </tbody>\n",
       "</table>\n",
       "</div>"
      ],
      "text/plain": [
       "           ISIN  Year       CompanyName         Country  \\\n",
       "0  DE0005545503  2016  1&1 DRILLISCH AG         Germany   \n",
       "1  GB00B1YW4409  2010      3I GROUP PLC  United Kingdom   \n",
       "2  GB00B1YW4409  2011      3I GROUP PLC  United Kingdom   \n",
       "3  GB00B1YW4409  2012      3I GROUP PLC  United Kingdom   \n",
       "4  US88579Y1010  2010        3M COMPANY   United States   \n",
       "\n",
       "                                  Industry(Exiobase)  \\\n",
       "0                   Post and telecommunications (64)   \n",
       "1  Financial intermediation, except insurance and...   \n",
       "2  Financial intermediation, except insurance and...   \n",
       "3  Financial intermediation, except insurance and...   \n",
       "4  Activities of membership organisation n.e.c. (91)   \n",
       "\n",
       "  EnvironmentalIntensity(Sales)  Env_intensity  \n",
       "0                        -0.07%        -0.0007  \n",
       "1                        -0.12%        -0.0012  \n",
       "2                        -0.16%        -0.0016  \n",
       "3                        -0.15%        -0.0015  \n",
       "4                        -7.90%        -0.0790  "
      ]
     },
     "execution_count": 3,
     "metadata": {},
     "output_type": "execute_result"
    }
   ],
   "source": [
    "df = df.loc[:,['ISIN','Year','CompanyName','Country','Industry(Exiobase)','EnvironmentalIntensity(Sales)','Env_intensity']]\n",
    "df.head()"
   ]
  },
  {
   "cell_type": "markdown",
   "id": "younger-criminal",
   "metadata": {
    "id": "celtic-wound"
   },
   "source": [
    "### Creating industry indicator"
   ]
  },
  {
   "cell_type": "code",
   "execution_count": 4,
   "id": "proved-folder",
   "metadata": {
    "id": "awful-remark"
   },
   "outputs": [],
   "source": [
    "industry_avg = df.groupby('Industry(Exiobase)')[['Env_intensity']].mean().reset_index()\n",
    "df['industry_avg'] = df['Env_intensity'].groupby(df['Industry(Exiobase)']).transform('mean')"
   ]
  },
  {
   "cell_type": "code",
   "execution_count": 5,
   "id": "aggregate-field",
   "metadata": {
    "colab": {
     "base_uri": "https://localhost:8080/",
     "height": 0
    },
    "id": "august-toddler",
    "outputId": "edc72ff4-3483-42c8-f93c-99b7ea73b6ee"
   },
   "outputs": [
    {
     "data": {
      "text/html": [
       "<div>\n",
       "<style scoped>\n",
       "    .dataframe tbody tr th:only-of-type {\n",
       "        vertical-align: middle;\n",
       "    }\n",
       "\n",
       "    .dataframe tbody tr th {\n",
       "        vertical-align: top;\n",
       "    }\n",
       "\n",
       "    .dataframe thead th {\n",
       "        text-align: right;\n",
       "    }\n",
       "</style>\n",
       "<table border=\"1\" class=\"dataframe\">\n",
       "  <thead>\n",
       "    <tr style=\"text-align: right;\">\n",
       "      <th></th>\n",
       "      <th>ISIN</th>\n",
       "      <th>Year</th>\n",
       "      <th>CompanyName</th>\n",
       "      <th>Country</th>\n",
       "      <th>Industry(Exiobase)</th>\n",
       "      <th>EnvironmentalIntensity(Sales)</th>\n",
       "      <th>Env_intensity</th>\n",
       "      <th>industry_avg</th>\n",
       "      <th>Industry_indicator</th>\n",
       "    </tr>\n",
       "  </thead>\n",
       "  <tbody>\n",
       "    <tr>\n",
       "      <th>0</th>\n",
       "      <td>DE0005545503</td>\n",
       "      <td>2016</td>\n",
       "      <td>1&amp;1 DRILLISCH AG</td>\n",
       "      <td>Germany</td>\n",
       "      <td>Post and telecommunications (64)</td>\n",
       "      <td>-0.07%</td>\n",
       "      <td>-0.0007</td>\n",
       "      <td>-0.020506</td>\n",
       "      <td>1</td>\n",
       "    </tr>\n",
       "    <tr>\n",
       "      <th>1</th>\n",
       "      <td>GB00B1YW4409</td>\n",
       "      <td>2010</td>\n",
       "      <td>3I GROUP PLC</td>\n",
       "      <td>United Kingdom</td>\n",
       "      <td>Financial intermediation, except insurance and...</td>\n",
       "      <td>-0.12%</td>\n",
       "      <td>-0.0012</td>\n",
       "      <td>-0.028537</td>\n",
       "      <td>1</td>\n",
       "    </tr>\n",
       "    <tr>\n",
       "      <th>2</th>\n",
       "      <td>GB00B1YW4409</td>\n",
       "      <td>2011</td>\n",
       "      <td>3I GROUP PLC</td>\n",
       "      <td>United Kingdom</td>\n",
       "      <td>Financial intermediation, except insurance and...</td>\n",
       "      <td>-0.16%</td>\n",
       "      <td>-0.0016</td>\n",
       "      <td>-0.028537</td>\n",
       "      <td>1</td>\n",
       "    </tr>\n",
       "    <tr>\n",
       "      <th>3</th>\n",
       "      <td>GB00B1YW4409</td>\n",
       "      <td>2012</td>\n",
       "      <td>3I GROUP PLC</td>\n",
       "      <td>United Kingdom</td>\n",
       "      <td>Financial intermediation, except insurance and...</td>\n",
       "      <td>-0.15%</td>\n",
       "      <td>-0.0015</td>\n",
       "      <td>-0.028537</td>\n",
       "      <td>1</td>\n",
       "    </tr>\n",
       "    <tr>\n",
       "      <th>4</th>\n",
       "      <td>US88579Y1010</td>\n",
       "      <td>2010</td>\n",
       "      <td>3M COMPANY</td>\n",
       "      <td>United States</td>\n",
       "      <td>Activities of membership organisation n.e.c. (91)</td>\n",
       "      <td>-7.90%</td>\n",
       "      <td>-0.0790</td>\n",
       "      <td>-0.175838</td>\n",
       "      <td>1</td>\n",
       "    </tr>\n",
       "  </tbody>\n",
       "</table>\n",
       "</div>"
      ],
      "text/plain": [
       "           ISIN  Year       CompanyName         Country  \\\n",
       "0  DE0005545503  2016  1&1 DRILLISCH AG         Germany   \n",
       "1  GB00B1YW4409  2010      3I GROUP PLC  United Kingdom   \n",
       "2  GB00B1YW4409  2011      3I GROUP PLC  United Kingdom   \n",
       "3  GB00B1YW4409  2012      3I GROUP PLC  United Kingdom   \n",
       "4  US88579Y1010  2010        3M COMPANY   United States   \n",
       "\n",
       "                                  Industry(Exiobase)  \\\n",
       "0                   Post and telecommunications (64)   \n",
       "1  Financial intermediation, except insurance and...   \n",
       "2  Financial intermediation, except insurance and...   \n",
       "3  Financial intermediation, except insurance and...   \n",
       "4  Activities of membership organisation n.e.c. (91)   \n",
       "\n",
       "  EnvironmentalIntensity(Sales)  Env_intensity  industry_avg  \\\n",
       "0                        -0.07%        -0.0007     -0.020506   \n",
       "1                        -0.12%        -0.0012     -0.028537   \n",
       "2                        -0.16%        -0.0016     -0.028537   \n",
       "3                        -0.15%        -0.0015     -0.028537   \n",
       "4                        -7.90%        -0.0790     -0.175838   \n",
       "\n",
       "   Industry_indicator  \n",
       "0                   1  \n",
       "1                   1  \n",
       "2                   1  \n",
       "3                   1  \n",
       "4                   1  "
      ]
     },
     "execution_count": 5,
     "metadata": {},
     "output_type": "execute_result"
    }
   ],
   "source": [
    "def create_ind(df):\n",
    "    if(df['Env_intensity'] > df['industry_avg']):\n",
    "        return 1\n",
    "    elif (df['Env_intensity'] == df['industry_avg']):\n",
    "        return 0\n",
    "    elif (df['Env_intensity'] < df['industry_avg']):\n",
    "        return -1\n",
    "\n",
    "df['Industry_indicator'] = df.apply(create_ind, axis = 1)\n",
    "df.head()"
   ]
  },
  {
   "cell_type": "code",
   "execution_count": 6,
   "id": "characteristic-intelligence",
   "metadata": {
    "colab": {
     "base_uri": "https://localhost:8080/",
     "height": 0
    },
    "id": "pacific-forty",
    "outputId": "2738a8d7-ff68-4948-9ff1-9fa262bd7dcf"
   },
   "outputs": [
    {
     "data": {
      "text/html": [
       "<div>\n",
       "<style scoped>\n",
       "    .dataframe tbody tr th:only-of-type {\n",
       "        vertical-align: middle;\n",
       "    }\n",
       "\n",
       "    .dataframe tbody tr th {\n",
       "        vertical-align: top;\n",
       "    }\n",
       "\n",
       "    .dataframe thead th {\n",
       "        text-align: right;\n",
       "    }\n",
       "</style>\n",
       "<table border=\"1\" class=\"dataframe\">\n",
       "  <thead>\n",
       "    <tr style=\"text-align: right;\">\n",
       "      <th></th>\n",
       "      <th>ISIN</th>\n",
       "      <th>Year</th>\n",
       "      <th>CompanyName</th>\n",
       "      <th>Country</th>\n",
       "      <th>Industry(Exiobase)</th>\n",
       "      <th>EnvironmentalIntensity(Sales)</th>\n",
       "      <th>Env_intensity</th>\n",
       "      <th>industry_avg</th>\n",
       "      <th>Industry_indicator</th>\n",
       "      <th>industry_avg_year</th>\n",
       "      <th>Industry_indicator_year</th>\n",
       "    </tr>\n",
       "  </thead>\n",
       "  <tbody>\n",
       "    <tr>\n",
       "      <th>0</th>\n",
       "      <td>DE0005545503</td>\n",
       "      <td>2016</td>\n",
       "      <td>1&amp;1 DRILLISCH AG</td>\n",
       "      <td>Germany</td>\n",
       "      <td>Post and telecommunications (64)</td>\n",
       "      <td>-0.07%</td>\n",
       "      <td>-0.0007</td>\n",
       "      <td>-0.020506</td>\n",
       "      <td>1</td>\n",
       "      <td>-0.020740</td>\n",
       "      <td>1</td>\n",
       "    </tr>\n",
       "    <tr>\n",
       "      <th>1</th>\n",
       "      <td>GB00B1YW4409</td>\n",
       "      <td>2010</td>\n",
       "      <td>3I GROUP PLC</td>\n",
       "      <td>United Kingdom</td>\n",
       "      <td>Financial intermediation, except insurance and...</td>\n",
       "      <td>-0.12%</td>\n",
       "      <td>-0.0012</td>\n",
       "      <td>-0.028537</td>\n",
       "      <td>1</td>\n",
       "      <td>-0.006402</td>\n",
       "      <td>1</td>\n",
       "    </tr>\n",
       "    <tr>\n",
       "      <th>2</th>\n",
       "      <td>GB00B1YW4409</td>\n",
       "      <td>2011</td>\n",
       "      <td>3I GROUP PLC</td>\n",
       "      <td>United Kingdom</td>\n",
       "      <td>Financial intermediation, except insurance and...</td>\n",
       "      <td>-0.16%</td>\n",
       "      <td>-0.0016</td>\n",
       "      <td>-0.028537</td>\n",
       "      <td>1</td>\n",
       "      <td>-0.009838</td>\n",
       "      <td>1</td>\n",
       "    </tr>\n",
       "    <tr>\n",
       "      <th>3</th>\n",
       "      <td>GB00B1YW4409</td>\n",
       "      <td>2012</td>\n",
       "      <td>3I GROUP PLC</td>\n",
       "      <td>United Kingdom</td>\n",
       "      <td>Financial intermediation, except insurance and...</td>\n",
       "      <td>-0.15%</td>\n",
       "      <td>-0.0015</td>\n",
       "      <td>-0.028537</td>\n",
       "      <td>1</td>\n",
       "      <td>-0.024437</td>\n",
       "      <td>1</td>\n",
       "    </tr>\n",
       "    <tr>\n",
       "      <th>4</th>\n",
       "      <td>US88579Y1010</td>\n",
       "      <td>2010</td>\n",
       "      <td>3M COMPANY</td>\n",
       "      <td>United States</td>\n",
       "      <td>Activities of membership organisation n.e.c. (91)</td>\n",
       "      <td>-7.90%</td>\n",
       "      <td>-0.0790</td>\n",
       "      <td>-0.175838</td>\n",
       "      <td>1</td>\n",
       "      <td>-0.084583</td>\n",
       "      <td>1</td>\n",
       "    </tr>\n",
       "  </tbody>\n",
       "</table>\n",
       "</div>"
      ],
      "text/plain": [
       "           ISIN  Year       CompanyName         Country  \\\n",
       "0  DE0005545503  2016  1&1 DRILLISCH AG         Germany   \n",
       "1  GB00B1YW4409  2010      3I GROUP PLC  United Kingdom   \n",
       "2  GB00B1YW4409  2011      3I GROUP PLC  United Kingdom   \n",
       "3  GB00B1YW4409  2012      3I GROUP PLC  United Kingdom   \n",
       "4  US88579Y1010  2010        3M COMPANY   United States   \n",
       "\n",
       "                                  Industry(Exiobase)  \\\n",
       "0                   Post and telecommunications (64)   \n",
       "1  Financial intermediation, except insurance and...   \n",
       "2  Financial intermediation, except insurance and...   \n",
       "3  Financial intermediation, except insurance and...   \n",
       "4  Activities of membership organisation n.e.c. (91)   \n",
       "\n",
       "  EnvironmentalIntensity(Sales)  Env_intensity  industry_avg  \\\n",
       "0                        -0.07%        -0.0007     -0.020506   \n",
       "1                        -0.12%        -0.0012     -0.028537   \n",
       "2                        -0.16%        -0.0016     -0.028537   \n",
       "3                        -0.15%        -0.0015     -0.028537   \n",
       "4                        -7.90%        -0.0790     -0.175838   \n",
       "\n",
       "   Industry_indicator  industry_avg_year  Industry_indicator_year  \n",
       "0                   1          -0.020740                        1  \n",
       "1                   1          -0.006402                        1  \n",
       "2                   1          -0.009838                        1  \n",
       "3                   1          -0.024437                        1  \n",
       "4                   1          -0.084583                        1  "
      ]
     },
     "execution_count": 6,
     "metadata": {},
     "output_type": "execute_result"
    }
   ],
   "source": [
    "def create_ind_year(df):\n",
    "    if(df['Env_intensity'] > df['industry_avg_year']):\n",
    "        return 1\n",
    "    elif (df['Env_intensity'] == df['industry_avg_year']):\n",
    "        return 0\n",
    "    elif (df['Env_intensity'] < df['industry_avg_year']):\n",
    "        return -1\n",
    "\n",
    "df['industry_avg_year'] = df.groupby(['Industry(Exiobase)','Year']).transform('mean')[['Env_intensity']]\n",
    "\n",
    "df['Industry_indicator_year'] = df.apply(create_ind_year, axis = 1)\n",
    "df.head()"
   ]
  },
  {
   "cell_type": "code",
   "execution_count": 7,
   "id": "mediterranean-league",
   "metadata": {
    "colab": {
     "base_uri": "https://localhost:8080/",
     "height": 0
    },
    "id": "behind-format",
    "outputId": "dcc3e34a-e751-4955-a250-6262bb21eda8"
   },
   "outputs": [
    {
     "data": {
      "text/html": [
       "<div>\n",
       "<style scoped>\n",
       "    .dataframe tbody tr th:only-of-type {\n",
       "        vertical-align: middle;\n",
       "    }\n",
       "\n",
       "    .dataframe tbody tr th {\n",
       "        vertical-align: top;\n",
       "    }\n",
       "\n",
       "    .dataframe thead th {\n",
       "        text-align: right;\n",
       "    }\n",
       "</style>\n",
       "<table border=\"1\" class=\"dataframe\">\n",
       "  <thead>\n",
       "    <tr style=\"text-align: right;\">\n",
       "      <th></th>\n",
       "      <th>ISIN</th>\n",
       "      <th>Year</th>\n",
       "      <th>CompanyName</th>\n",
       "      <th>Country</th>\n",
       "      <th>Industry(Exiobase)</th>\n",
       "      <th>EnvironmentalIntensity(Sales)</th>\n",
       "      <th>Env_intensity</th>\n",
       "      <th>industry_avg</th>\n",
       "      <th>Industry_indicator</th>\n",
       "      <th>industry_avg_year</th>\n",
       "      <th>Industry_indicator_year</th>\n",
       "    </tr>\n",
       "  </thead>\n",
       "  <tbody>\n",
       "    <tr>\n",
       "      <th>190</th>\n",
       "      <td>CH0012138605</td>\n",
       "      <td>2010</td>\n",
       "      <td>ADECCO GROUP AG</td>\n",
       "      <td>Switzerland</td>\n",
       "      <td>Activities auxiliary to financial intermediati...</td>\n",
       "      <td>-0.14%</td>\n",
       "      <td>-0.0014</td>\n",
       "      <td>-0.00491</td>\n",
       "      <td>1</td>\n",
       "      <td>-0.004490</td>\n",
       "      <td>1</td>\n",
       "    </tr>\n",
       "    <tr>\n",
       "      <th>2052</th>\n",
       "      <td>GB00B23K0M20</td>\n",
       "      <td>2010</td>\n",
       "      <td>CAPITA PLC</td>\n",
       "      <td>United Kingdom</td>\n",
       "      <td>Activities auxiliary to financial intermediati...</td>\n",
       "      <td>-0.40%</td>\n",
       "      <td>-0.0040</td>\n",
       "      <td>-0.00491</td>\n",
       "      <td>1</td>\n",
       "      <td>-0.004490</td>\n",
       "      <td>1</td>\n",
       "    </tr>\n",
       "    <tr>\n",
       "      <th>1919</th>\n",
       "      <td>FR0006174348</td>\n",
       "      <td>2010</td>\n",
       "      <td>BUREAU VERITAS SA</td>\n",
       "      <td>France</td>\n",
       "      <td>Activities auxiliary to financial intermediati...</td>\n",
       "      <td>-0.52%</td>\n",
       "      <td>-0.0052</td>\n",
       "      <td>-0.00491</td>\n",
       "      <td>-1</td>\n",
       "      <td>-0.004490</td>\n",
       "      <td>-1</td>\n",
       "    </tr>\n",
       "    <tr>\n",
       "      <th>3524</th>\n",
       "      <td>DE0005810055</td>\n",
       "      <td>2010</td>\n",
       "      <td>DEUTSCHE BOERSE AG</td>\n",
       "      <td>Germany</td>\n",
       "      <td>Activities auxiliary to financial intermediati...</td>\n",
       "      <td>-0.28%</td>\n",
       "      <td>-0.0028</td>\n",
       "      <td>-0.00491</td>\n",
       "      <td>1</td>\n",
       "      <td>-0.004490</td>\n",
       "      <td>1</td>\n",
       "    </tr>\n",
       "    <tr>\n",
       "      <th>1718</th>\n",
       "      <td>ES0115056139</td>\n",
       "      <td>2010</td>\n",
       "      <td>BOLSAS Y MERCADOS ESPANOLES SHMSF SA</td>\n",
       "      <td>Spain</td>\n",
       "      <td>Activities auxiliary to financial intermediati...</td>\n",
       "      <td>-0.26%</td>\n",
       "      <td>-0.0026</td>\n",
       "      <td>-0.00491</td>\n",
       "      <td>1</td>\n",
       "      <td>-0.004490</td>\n",
       "      <td>1</td>\n",
       "    </tr>\n",
       "    <tr>\n",
       "      <th>...</th>\n",
       "      <td>...</td>\n",
       "      <td>...</td>\n",
       "      <td>...</td>\n",
       "      <td>...</td>\n",
       "      <td>...</td>\n",
       "      <td>...</td>\n",
       "      <td>...</td>\n",
       "      <td>...</td>\n",
       "      <td>...</td>\n",
       "      <td>...</td>\n",
       "      <td>...</td>\n",
       "    </tr>\n",
       "    <tr>\n",
       "      <th>4428</th>\n",
       "      <td>GB00B19NLV48</td>\n",
       "      <td>2019</td>\n",
       "      <td>EXPERIAN PLC</td>\n",
       "      <td>United Kingdom</td>\n",
       "      <td>Activities auxiliary to financial intermediati...</td>\n",
       "      <td>-0.20%</td>\n",
       "      <td>-0.0020</td>\n",
       "      <td>-0.00491</td>\n",
       "      <td>1</td>\n",
       "      <td>0.002943</td>\n",
       "      <td>-1</td>\n",
       "    </tr>\n",
       "    <tr>\n",
       "      <th>979</th>\n",
       "      <td>FR0000074148</td>\n",
       "      <td>2019</td>\n",
       "      <td>ASSYSTEM SA</td>\n",
       "      <td>France</td>\n",
       "      <td>Activities auxiliary to financial intermediati...</td>\n",
       "      <td>-0.31%</td>\n",
       "      <td>-0.0031</td>\n",
       "      <td>-0.00491</td>\n",
       "      <td>1</td>\n",
       "      <td>0.002943</td>\n",
       "      <td>-1</td>\n",
       "    </tr>\n",
       "    <tr>\n",
       "      <th>3529</th>\n",
       "      <td>DE0005810055</td>\n",
       "      <td>2019</td>\n",
       "      <td>DEUTSCHE BOERSE AG</td>\n",
       "      <td>Germany</td>\n",
       "      <td>Activities auxiliary to financial intermediati...</td>\n",
       "      <td>1.88%</td>\n",
       "      <td>0.0188</td>\n",
       "      <td>-0.00491</td>\n",
       "      <td>1</td>\n",
       "      <td>0.002943</td>\n",
       "      <td>1</td>\n",
       "    </tr>\n",
       "    <tr>\n",
       "      <th>9793</th>\n",
       "      <td>GB0030232317</td>\n",
       "      <td>2019</td>\n",
       "      <td>PAGEGROUP PLC</td>\n",
       "      <td>United Kingdom</td>\n",
       "      <td>Activities auxiliary to financial intermediati...</td>\n",
       "      <td>-0.08%</td>\n",
       "      <td>-0.0008</td>\n",
       "      <td>-0.00491</td>\n",
       "      <td>1</td>\n",
       "      <td>0.002943</td>\n",
       "      <td>-1</td>\n",
       "    </tr>\n",
       "    <tr>\n",
       "      <th>1925</th>\n",
       "      <td>FR0006174348</td>\n",
       "      <td>2019</td>\n",
       "      <td>BUREAU VERITAS SA</td>\n",
       "      <td>France</td>\n",
       "      <td>Activities auxiliary to financial intermediati...</td>\n",
       "      <td>-0.70%</td>\n",
       "      <td>-0.0070</td>\n",
       "      <td>-0.00491</td>\n",
       "      <td>-1</td>\n",
       "      <td>0.002943</td>\n",
       "      <td>-1</td>\n",
       "    </tr>\n",
       "  </tbody>\n",
       "</table>\n",
       "<p>263 rows × 11 columns</p>\n",
       "</div>"
      ],
      "text/plain": [
       "              ISIN  Year                           CompanyName  \\\n",
       "190   CH0012138605  2010                       ADECCO GROUP AG   \n",
       "2052  GB00B23K0M20  2010                            CAPITA PLC   \n",
       "1919  FR0006174348  2010                     BUREAU VERITAS SA   \n",
       "3524  DE0005810055  2010                    DEUTSCHE BOERSE AG   \n",
       "1718  ES0115056139  2010  BOLSAS Y MERCADOS ESPANOLES SHMSF SA   \n",
       "...            ...   ...                                   ...   \n",
       "4428  GB00B19NLV48  2019                          EXPERIAN PLC   \n",
       "979   FR0000074148  2019                           ASSYSTEM SA   \n",
       "3529  DE0005810055  2019                    DEUTSCHE BOERSE AG   \n",
       "9793  GB0030232317  2019                         PAGEGROUP PLC   \n",
       "1925  FR0006174348  2019                     BUREAU VERITAS SA   \n",
       "\n",
       "             Country                                 Industry(Exiobase)  \\\n",
       "190      Switzerland  Activities auxiliary to financial intermediati...   \n",
       "2052  United Kingdom  Activities auxiliary to financial intermediati...   \n",
       "1919          France  Activities auxiliary to financial intermediati...   \n",
       "3524         Germany  Activities auxiliary to financial intermediati...   \n",
       "1718           Spain  Activities auxiliary to financial intermediati...   \n",
       "...              ...                                                ...   \n",
       "4428  United Kingdom  Activities auxiliary to financial intermediati...   \n",
       "979           France  Activities auxiliary to financial intermediati...   \n",
       "3529         Germany  Activities auxiliary to financial intermediati...   \n",
       "9793  United Kingdom  Activities auxiliary to financial intermediati...   \n",
       "1925          France  Activities auxiliary to financial intermediati...   \n",
       "\n",
       "     EnvironmentalIntensity(Sales)  Env_intensity  industry_avg  \\\n",
       "190                         -0.14%        -0.0014      -0.00491   \n",
       "2052                        -0.40%        -0.0040      -0.00491   \n",
       "1919                        -0.52%        -0.0052      -0.00491   \n",
       "3524                        -0.28%        -0.0028      -0.00491   \n",
       "1718                        -0.26%        -0.0026      -0.00491   \n",
       "...                            ...            ...           ...   \n",
       "4428                        -0.20%        -0.0020      -0.00491   \n",
       "979                         -0.31%        -0.0031      -0.00491   \n",
       "3529                         1.88%         0.0188      -0.00491   \n",
       "9793                        -0.08%        -0.0008      -0.00491   \n",
       "1925                        -0.70%        -0.0070      -0.00491   \n",
       "\n",
       "      Industry_indicator  industry_avg_year  Industry_indicator_year  \n",
       "190                    1          -0.004490                        1  \n",
       "2052                   1          -0.004490                        1  \n",
       "1919                  -1          -0.004490                       -1  \n",
       "3524                   1          -0.004490                        1  \n",
       "1718                   1          -0.004490                        1  \n",
       "...                  ...                ...                      ...  \n",
       "4428                   1           0.002943                       -1  \n",
       "979                    1           0.002943                       -1  \n",
       "3529                   1           0.002943                        1  \n",
       "9793                   1           0.002943                       -1  \n",
       "1925                  -1           0.002943                       -1  \n",
       "\n",
       "[263 rows x 11 columns]"
      ]
     },
     "execution_count": 7,
     "metadata": {},
     "output_type": "execute_result"
    }
   ],
   "source": [
    "df.loc[(df['Industry(Exiobase)'] == 'Activities auxiliary to financial intermediation (67)'),:].sort_values(by='Year')"
   ]
  },
  {
   "cell_type": "markdown",
   "id": "suffering-lambda",
   "metadata": {
    "id": "directed-workplace"
   },
   "source": [
    "### Creating Environmental growth\n",
    "\n",
    "Environmental Intensity Growth : ((Environmental Intensity in Current Year / Environmental Intensity Last Year) - 1) * 100"
   ]
  },
  {
   "cell_type": "code",
   "execution_count": 8,
   "id": "south-swiss",
   "metadata": {
    "colab": {
     "base_uri": "https://localhost:8080/",
     "height": 0
    },
    "id": "loaded-pitch",
    "outputId": "36f9001b-8a82-492e-b2f2-dab2d6907c3e"
   },
   "outputs": [
    {
     "data": {
      "text/html": [
       "<div>\n",
       "<style scoped>\n",
       "    .dataframe tbody tr th:only-of-type {\n",
       "        vertical-align: middle;\n",
       "    }\n",
       "\n",
       "    .dataframe tbody tr th {\n",
       "        vertical-align: top;\n",
       "    }\n",
       "\n",
       "    .dataframe thead th {\n",
       "        text-align: right;\n",
       "    }\n",
       "</style>\n",
       "<table border=\"1\" class=\"dataframe\">\n",
       "  <thead>\n",
       "    <tr style=\"text-align: right;\">\n",
       "      <th></th>\n",
       "      <th>ISIN</th>\n",
       "      <th>Year</th>\n",
       "      <th>CompanyName</th>\n",
       "      <th>Country</th>\n",
       "      <th>Industry(Exiobase)</th>\n",
       "      <th>EnvironmentalIntensity(Sales)</th>\n",
       "      <th>Env_intensity</th>\n",
       "      <th>industry_avg</th>\n",
       "      <th>Industry_indicator</th>\n",
       "      <th>industry_avg_year</th>\n",
       "      <th>Industry_indicator_year</th>\n",
       "    </tr>\n",
       "  </thead>\n",
       "  <tbody>\n",
       "    <tr>\n",
       "      <th>0</th>\n",
       "      <td>DE0005545503</td>\n",
       "      <td>2016</td>\n",
       "      <td>1&amp;1 DRILLISCH AG</td>\n",
       "      <td>Germany</td>\n",
       "      <td>Post and telecommunications (64)</td>\n",
       "      <td>-0.07%</td>\n",
       "      <td>-0.0007</td>\n",
       "      <td>-0.020506</td>\n",
       "      <td>1</td>\n",
       "      <td>-0.020740</td>\n",
       "      <td>1</td>\n",
       "    </tr>\n",
       "    <tr>\n",
       "      <th>1</th>\n",
       "      <td>GB00B1YW4409</td>\n",
       "      <td>2010</td>\n",
       "      <td>3I GROUP PLC</td>\n",
       "      <td>United Kingdom</td>\n",
       "      <td>Financial intermediation, except insurance and...</td>\n",
       "      <td>-0.12%</td>\n",
       "      <td>-0.0012</td>\n",
       "      <td>-0.028537</td>\n",
       "      <td>1</td>\n",
       "      <td>-0.006402</td>\n",
       "      <td>1</td>\n",
       "    </tr>\n",
       "    <tr>\n",
       "      <th>2</th>\n",
       "      <td>GB00B1YW4409</td>\n",
       "      <td>2011</td>\n",
       "      <td>3I GROUP PLC</td>\n",
       "      <td>United Kingdom</td>\n",
       "      <td>Financial intermediation, except insurance and...</td>\n",
       "      <td>-0.16%</td>\n",
       "      <td>-0.0016</td>\n",
       "      <td>-0.028537</td>\n",
       "      <td>1</td>\n",
       "      <td>-0.009838</td>\n",
       "      <td>1</td>\n",
       "    </tr>\n",
       "    <tr>\n",
       "      <th>3</th>\n",
       "      <td>GB00B1YW4409</td>\n",
       "      <td>2012</td>\n",
       "      <td>3I GROUP PLC</td>\n",
       "      <td>United Kingdom</td>\n",
       "      <td>Financial intermediation, except insurance and...</td>\n",
       "      <td>-0.15%</td>\n",
       "      <td>-0.0015</td>\n",
       "      <td>-0.028537</td>\n",
       "      <td>1</td>\n",
       "      <td>-0.024437</td>\n",
       "      <td>1</td>\n",
       "    </tr>\n",
       "    <tr>\n",
       "      <th>4</th>\n",
       "      <td>US88579Y1010</td>\n",
       "      <td>2010</td>\n",
       "      <td>3M COMPANY</td>\n",
       "      <td>United States</td>\n",
       "      <td>Activities of membership organisation n.e.c. (91)</td>\n",
       "      <td>-7.90%</td>\n",
       "      <td>-0.0790</td>\n",
       "      <td>-0.175838</td>\n",
       "      <td>1</td>\n",
       "      <td>-0.084583</td>\n",
       "      <td>1</td>\n",
       "    </tr>\n",
       "  </tbody>\n",
       "</table>\n",
       "</div>"
      ],
      "text/plain": [
       "           ISIN  Year       CompanyName         Country  \\\n",
       "0  DE0005545503  2016  1&1 DRILLISCH AG         Germany   \n",
       "1  GB00B1YW4409  2010      3I GROUP PLC  United Kingdom   \n",
       "2  GB00B1YW4409  2011      3I GROUP PLC  United Kingdom   \n",
       "3  GB00B1YW4409  2012      3I GROUP PLC  United Kingdom   \n",
       "4  US88579Y1010  2010        3M COMPANY   United States   \n",
       "\n",
       "                                  Industry(Exiobase)  \\\n",
       "0                   Post and telecommunications (64)   \n",
       "1  Financial intermediation, except insurance and...   \n",
       "2  Financial intermediation, except insurance and...   \n",
       "3  Financial intermediation, except insurance and...   \n",
       "4  Activities of membership organisation n.e.c. (91)   \n",
       "\n",
       "  EnvironmentalIntensity(Sales)  Env_intensity  industry_avg  \\\n",
       "0                        -0.07%        -0.0007     -0.020506   \n",
       "1                        -0.12%        -0.0012     -0.028537   \n",
       "2                        -0.16%        -0.0016     -0.028537   \n",
       "3                        -0.15%        -0.0015     -0.028537   \n",
       "4                        -7.90%        -0.0790     -0.175838   \n",
       "\n",
       "   Industry_indicator  industry_avg_year  Industry_indicator_year  \n",
       "0                   1          -0.020740                        1  \n",
       "1                   1          -0.006402                        1  \n",
       "2                   1          -0.009838                        1  \n",
       "3                   1          -0.024437                        1  \n",
       "4                   1          -0.084583                        1  "
      ]
     },
     "execution_count": 8,
     "metadata": {},
     "output_type": "execute_result"
    }
   ],
   "source": [
    "df = df.sort_values(by=['CompanyName','Year'], ascending = True)\n",
    "df.head()"
   ]
  },
  {
   "cell_type": "code",
   "execution_count": 9,
   "id": "advised-celebrity",
   "metadata": {
    "colab": {
     "base_uri": "https://localhost:8080/",
     "height": 0
    },
    "id": "southeast-killing",
    "outputId": "7baf6a83-8327-42f0-a600-114806c0227c"
   },
   "outputs": [
    {
     "data": {
      "text/html": [
       "<div>\n",
       "<style scoped>\n",
       "    .dataframe tbody tr th:only-of-type {\n",
       "        vertical-align: middle;\n",
       "    }\n",
       "\n",
       "    .dataframe tbody tr th {\n",
       "        vertical-align: top;\n",
       "    }\n",
       "\n",
       "    .dataframe thead th {\n",
       "        text-align: right;\n",
       "    }\n",
       "</style>\n",
       "<table border=\"1\" class=\"dataframe\">\n",
       "  <thead>\n",
       "    <tr style=\"text-align: right;\">\n",
       "      <th></th>\n",
       "      <th>ISIN</th>\n",
       "      <th>Year</th>\n",
       "      <th>CompanyName</th>\n",
       "      <th>Country</th>\n",
       "      <th>Industry(Exiobase)</th>\n",
       "      <th>EnvironmentalIntensity(Sales)</th>\n",
       "      <th>Env_intensity</th>\n",
       "      <th>industry_avg</th>\n",
       "      <th>Industry_indicator</th>\n",
       "      <th>industry_avg_year</th>\n",
       "      <th>Industry_indicator_year</th>\n",
       "      <th>Environmental_Growth</th>\n",
       "    </tr>\n",
       "  </thead>\n",
       "  <tbody>\n",
       "    <tr>\n",
       "      <th>0</th>\n",
       "      <td>DE0005545503</td>\n",
       "      <td>2016</td>\n",
       "      <td>1&amp;1 DRILLISCH AG</td>\n",
       "      <td>Germany</td>\n",
       "      <td>Post and telecommunications (64)</td>\n",
       "      <td>-0.07%</td>\n",
       "      <td>-0.0007</td>\n",
       "      <td>-0.020506</td>\n",
       "      <td>1</td>\n",
       "      <td>-0.020740</td>\n",
       "      <td>1</td>\n",
       "      <td>NaN</td>\n",
       "    </tr>\n",
       "    <tr>\n",
       "      <th>1</th>\n",
       "      <td>GB00B1YW4409</td>\n",
       "      <td>2010</td>\n",
       "      <td>3I GROUP PLC</td>\n",
       "      <td>United Kingdom</td>\n",
       "      <td>Financial intermediation, except insurance and...</td>\n",
       "      <td>-0.12%</td>\n",
       "      <td>-0.0012</td>\n",
       "      <td>-0.028537</td>\n",
       "      <td>1</td>\n",
       "      <td>-0.006402</td>\n",
       "      <td>1</td>\n",
       "      <td>NaN</td>\n",
       "    </tr>\n",
       "    <tr>\n",
       "      <th>2</th>\n",
       "      <td>GB00B1YW4409</td>\n",
       "      <td>2011</td>\n",
       "      <td>3I GROUP PLC</td>\n",
       "      <td>United Kingdom</td>\n",
       "      <td>Financial intermediation, except insurance and...</td>\n",
       "      <td>-0.16%</td>\n",
       "      <td>-0.0016</td>\n",
       "      <td>-0.028537</td>\n",
       "      <td>1</td>\n",
       "      <td>-0.009838</td>\n",
       "      <td>1</td>\n",
       "      <td>33.333333</td>\n",
       "    </tr>\n",
       "    <tr>\n",
       "      <th>3</th>\n",
       "      <td>GB00B1YW4409</td>\n",
       "      <td>2012</td>\n",
       "      <td>3I GROUP PLC</td>\n",
       "      <td>United Kingdom</td>\n",
       "      <td>Financial intermediation, except insurance and...</td>\n",
       "      <td>-0.15%</td>\n",
       "      <td>-0.0015</td>\n",
       "      <td>-0.028537</td>\n",
       "      <td>1</td>\n",
       "      <td>-0.024437</td>\n",
       "      <td>1</td>\n",
       "      <td>-6.250000</td>\n",
       "    </tr>\n",
       "    <tr>\n",
       "      <th>4</th>\n",
       "      <td>US88579Y1010</td>\n",
       "      <td>2010</td>\n",
       "      <td>3M COMPANY</td>\n",
       "      <td>United States</td>\n",
       "      <td>Activities of membership organisation n.e.c. (91)</td>\n",
       "      <td>-7.90%</td>\n",
       "      <td>-0.0790</td>\n",
       "      <td>-0.175838</td>\n",
       "      <td>1</td>\n",
       "      <td>-0.084583</td>\n",
       "      <td>1</td>\n",
       "      <td>NaN</td>\n",
       "    </tr>\n",
       "  </tbody>\n",
       "</table>\n",
       "</div>"
      ],
      "text/plain": [
       "           ISIN  Year       CompanyName         Country  \\\n",
       "0  DE0005545503  2016  1&1 DRILLISCH AG         Germany   \n",
       "1  GB00B1YW4409  2010      3I GROUP PLC  United Kingdom   \n",
       "2  GB00B1YW4409  2011      3I GROUP PLC  United Kingdom   \n",
       "3  GB00B1YW4409  2012      3I GROUP PLC  United Kingdom   \n",
       "4  US88579Y1010  2010        3M COMPANY   United States   \n",
       "\n",
       "                                  Industry(Exiobase)  \\\n",
       "0                   Post and telecommunications (64)   \n",
       "1  Financial intermediation, except insurance and...   \n",
       "2  Financial intermediation, except insurance and...   \n",
       "3  Financial intermediation, except insurance and...   \n",
       "4  Activities of membership organisation n.e.c. (91)   \n",
       "\n",
       "  EnvironmentalIntensity(Sales)  Env_intensity  industry_avg  \\\n",
       "0                        -0.07%        -0.0007     -0.020506   \n",
       "1                        -0.12%        -0.0012     -0.028537   \n",
       "2                        -0.16%        -0.0016     -0.028537   \n",
       "3                        -0.15%        -0.0015     -0.028537   \n",
       "4                        -7.90%        -0.0790     -0.175838   \n",
       "\n",
       "   Industry_indicator  industry_avg_year  Industry_indicator_year  \\\n",
       "0                   1          -0.020740                        1   \n",
       "1                   1          -0.006402                        1   \n",
       "2                   1          -0.009838                        1   \n",
       "3                   1          -0.024437                        1   \n",
       "4                   1          -0.084583                        1   \n",
       "\n",
       "   Environmental_Growth  \n",
       "0                   NaN  \n",
       "1                   NaN  \n",
       "2             33.333333  \n",
       "3             -6.250000  \n",
       "4                   NaN  "
      ]
     },
     "execution_count": 9,
     "metadata": {},
     "output_type": "execute_result"
    }
   ],
   "source": [
    "df['Environmental_Growth'] = df.groupby(['CompanyName'])['Env_intensity'].apply(lambda x: x.pct_change()).to_numpy() * 100\n",
    "df.head()"
   ]
  },
  {
   "cell_type": "markdown",
   "id": "scheduled-communications",
   "metadata": {
    "id": "Teqthpuxe8MC"
   },
   "source": [
    "### Model 1 - Past years Environmental Intensity"
   ]
  },
  {
   "cell_type": "code",
   "execution_count": 10,
   "id": "thrown-masters",
   "metadata": {
    "id": "9f_QPBEQe8MC"
   },
   "outputs": [],
   "source": [
    "df1 = df.copy()"
   ]
  },
  {
   "cell_type": "code",
   "execution_count": 11,
   "id": "continued-groove",
   "metadata": {},
   "outputs": [],
   "source": [
    "def p2f(x):\n",
    "    return float(x.strip('%'))/100\n",
    "df1['EnvironmentalIntensity(Sales)'] = df1['EnvironmentalIntensity(Sales)'].apply(p2f)"
   ]
  },
  {
   "cell_type": "code",
   "execution_count": 12,
   "id": "eligible-emperor",
   "metadata": {
    "colab": {
     "base_uri": "https://localhost:8080/"
    },
    "id": "sexual-cricket",
    "outputId": "5fa9864e-8ef8-4886-9c4b-1b5095bb44fb"
   },
   "outputs": [
    {
     "name": "stdout",
     "output_type": "stream",
     "text": [
      "R2 score: 0.8535746128153976\n",
      "MSE:  0.015251450150102281\n"
     ]
    }
   ],
   "source": [
    "companies_2018 = list(df1[df1['Year'] == 2018]['CompanyName'])\n",
    "companies_2019 = list(df1[(df1['Year'] == 2019) & (df1['CompanyName'].isin(companies_2018))]['CompanyName'])\n",
    "\n",
    "#Getting companies that are in both years\n",
    "list2018_as_set = set(companies_2018)\n",
    "intersection = list2018_as_set.intersection(companies_2019)\n",
    "\n",
    "X = df1[(df1['Year'] == 2018) & (df1['CompanyName'].isin(intersection))][['Env_intensity']]\n",
    "y = df1[(df1['Year'] == 2019) & (df1['CompanyName'].isin(intersection))][['Env_intensity']]\n",
    "\n",
    "X_train, X_test, y_train, y_test = train_test_split(\n",
    "    X, y, test_size=0.2, random_state=42)\n",
    "\n",
    "\n",
    "reg = LinearRegression().fit(X_train, y_train)\n",
    "\n",
    "y_pred = reg.predict(X_test)\n",
    "\n",
    "print('R2 score:', metrics.r2_score(y_test, y_pred))\n",
    "print('MSE: ', metrics.mean_squared_error(y_test, y_pred))\n"
   ]
  },
  {
   "cell_type": "code",
   "execution_count": 13,
   "id": "fatty-council",
   "metadata": {},
   "outputs": [
    {
     "data": {
      "image/png": "[encoded data removed]",
      "text/plain": [
       "<Figure size 864x576 with 1 Axes>"
      ]
     },
     "metadata": {
      "needs_background": "light"
     },
     "output_type": "display_data"
    }
   ],
   "source": [
    "fig, ax = plt.subplots(figsize=(12,8))\n",
    "ax.scatter(y_test, y_pred, c='green')\n",
    "ax.plot([y_test.min(), y_test.max()], [y.min(), y.max()], 'k--', lw=4)\n",
    "ax.set_xlabel('Observed 2019 Environmental Intesity')\n",
    "ax.set_ylabel('Predicted 2019 Environmental Intesity')\n",
    "ax.set_title('Linear Regression- Predicting 2019 Environmental intensity using 2018');"
   ]
  },
  {
   "cell_type": "markdown",
   "id": "virtual-display",
   "metadata": {},
   "source": [
    "### Including Multiple Years"
   ]
  },
  {
   "cell_type": "markdown",
   "id": "american-papua",
   "metadata": {},
   "source": [
    "Starting with 2017 & 2018 to predict values in 2019"
   ]
  },
  {
   "cell_type": "code",
   "execution_count": 14,
   "id": "severe-dress",
   "metadata": {},
   "outputs": [
    {
     "name": "stdout",
     "output_type": "stream",
     "text": [
      "R2 score: 0.9640133945498272\n",
      "MSE:  0.0028344652171312934\n",
      "Adjusted R2:  0.8370169966442953\n"
     ]
    }
   ],
   "source": [
    "companies_2017 = list(df1[df1['Year'] == 2017]['CompanyName'])\n",
    "list2017_as_set = set(companies_2017)\n",
    "intersection2= list2017_as_set.intersection(intersection)\n",
    "\n",
    "X = df1[(df1['Year'].isin([2017, 2018])) & (df1['CompanyName'].isin(intersection2))][['CompanyName','EnvironmentalIntensity(Sales)']]\n",
    "X = X.groupby('CompanyName').mean()[['EnvironmentalIntensity(Sales)']]\n",
    "\n",
    "y = df1[(df1['Year'] == 2019) & (df1['CompanyName'].isin(intersection2))][['EnvironmentalIntensity(Sales)']]\n",
    "\n",
    "X_train, X_test, y_train, y_test = train_test_split(\n",
    "    X, y, test_size=0.2, random_state=42)\n",
    "\n",
    "\n",
    "reg = LinearRegression().fit(X_train, y_train)\n",
    "\n",
    "y_pred = reg.predict(X_test)\n",
    "\n",
    "\n",
    "print('R2 score:', metrics.r2_score(y_test, y_pred))\n",
    "print('MSE: ', metrics.mean_squared_error(y_test, y_pred))\n",
    "print('Adjusted R2: ', 1-(1-.83729)*(len(intersection2)-1)/(len(intersection2)-2-1))"
   ]
  },
  {
   "cell_type": "code",
   "execution_count": 15,
   "id": "adverse-aggregate",
   "metadata": {},
   "outputs": [
    {
     "data": {
      "image/png": "[encoded data removed]",
      "text/plain": [
       "<Figure size 864x576 with 1 Axes>"
      ]
     },
     "metadata": {
      "needs_background": "light"
     },
     "output_type": "display_data"
    }
   ],
   "source": [
    "fig, ax = plt.subplots(figsize=(12,8))\n",
    "ax.scatter(y_test, y_pred, c='green')\n",
    "ax.plot([y_test.min(), y_test.max()], [y.min(), y.max()], 'k--', lw=4)\n",
    "ax.set_xlabel('Observed 2019 Environmental Intesity')\n",
    "ax.set_ylabel('Predicted 2019 Environmental Intesity')\n",
    "ax.set_title('Linear Regression- Predicting 2019 Environmental intensity using 2017 and 2018');"
   ]
  },
  {
   "cell_type": "markdown",
   "id": "round-contamination",
   "metadata": {},
   "source": [
    "We see that the results of this model are worse than our first model which predicted 2019 numbers with 2018. We go on to include 2017."
   ]
  },
  {
   "cell_type": "code",
   "execution_count": 16,
   "id": "straight-transportation",
   "metadata": {},
   "outputs": [
    {
     "name": "stdout",
     "output_type": "stream",
     "text": [
      "R2 score: 0.916454447105587\n",
      "MSE:  0.00421395537780839\n",
      "Adjusted R2:  0.9272047502356268\n"
     ]
    }
   ],
   "source": [
    "companies_2016 = list(df1[df1['Year'] == 2016]['CompanyName'])\n",
    "list2016_as_set = set(companies_2016)\n",
    "intersection3= list2016_as_set.intersection(intersection2)\n",
    "\n",
    "X = df1[(df1['Year'].isin([2016, 2017, 2018])) & (df1['CompanyName'].isin(intersection3))][['CompanyName','EnvironmentalIntensity(Sales)']]\n",
    "X = X.groupby('CompanyName').mean()[['EnvironmentalIntensity(Sales)']]\n",
    "\n",
    "y = df1[(df1['Year'] == 2019) & (df1['CompanyName'].isin(intersection3))][['EnvironmentalIntensity(Sales)']]\n",
    "\n",
    "X_train, X_test, y_train, y_test = train_test_split(\n",
    "    X, y, test_size=0.2, random_state=42)\n",
    "\n",
    "\n",
    "reg = LinearRegression().fit(X_train, y_train)\n",
    "\n",
    "y_pred = reg.predict(X_test)\n",
    "\n",
    "print('R2 score:', metrics.r2_score(y_test, y_pred))\n",
    "print('MSE: ', metrics.mean_squared_error(y_test, y_pred))\n",
    "print('Adjusted R2: ', 1-(1-.92741)*(len(intersection3)-1)/(len(intersection3)-3-1))"
   ]
  },
  {
   "cell_type": "markdown",
   "id": "loved-consumer",
   "metadata": {},
   "source": [
    "When we include 2016 both our R score and MSE improved."
   ]
  },
  {
   "cell_type": "code",
   "execution_count": 17,
   "id": "fifteen-heating",
   "metadata": {},
   "outputs": [
    {
     "data": {
      "image/png": "[encoded data removed]",
      "text/plain": [
       "<Figure size 864x576 with 1 Axes>"
      ]
     },
     "metadata": {
      "needs_background": "light"
     },
     "output_type": "display_data"
    }
   ],
   "source": [
    "fig, ax = plt.subplots(figsize=(12,8))\n",
    "ax.scatter(y_test, y_pred, c='green')\n",
    "ax.plot([y_test.min(), y_test.max()], [y.min(), y.max()], 'k--', lw=4)\n",
    "ax.set_xlabel('Observed 2019 Environmental Intesity')\n",
    "ax.set_ylabel('Predicted 2019 Environmental Intesity')\n",
    "ax.set_title('Linear Regression- Predicting 2019 Environmental intensity using 2016 to 2018');"
   ]
  },
  {
   "cell_type": "markdown",
   "id": "continued-fiction",
   "metadata": {
    "id": "n67fJF-se8ME"
   },
   "source": [
    "### Model 2 - Past years average environmental intensity\n",
    "\n",
    "In this section, we will use the average environmental intensity of 2016-2018 to predict 2019 environmental intensity"
   ]
  },
  {
   "cell_type": "code",
   "execution_count": 18,
   "id": "british-solid",
   "metadata": {
    "id": "HCKgjKyDe8ME"
   },
   "outputs": [],
   "source": [
    "df2 = df.copy()\n",
    "EI_2016 = df2[df2['Year'] == 2016]\n",
    "EI_2017 = df2[df2['Year'] == 2017]\n",
    "EI_2018 = df2[df2['Year'] == 2018]\n",
    "EI_2019 = df2[df2['Year'] == 2019]"
   ]
  },
  {
   "cell_type": "code",
   "execution_count": 19,
   "id": "minor-twist",
   "metadata": {
    "id": "s5HULOeue8MF"
   },
   "outputs": [],
   "source": [
    "df_mod2 = EI_2016.merge(EI_2017, how='inner', on='CompanyName', suffixes=('_2016', '_2017'))\n",
    "df_mod2 = df_mod2.merge(EI_2018, how='inner', on='CompanyName')\n",
    "df_mod2 = df_mod2.merge(EI_2019, how='inner', on='CompanyName', suffixes=('_2018', '_2019'))"
   ]
  },
  {
   "cell_type": "code",
   "execution_count": 20,
   "id": "resident-hours",
   "metadata": {
    "id": "etVVWoUAe8MF"
   },
   "outputs": [],
   "source": [
    "df_mod2 = df_mod2[['CompanyName','Year_2016','Env_intensity_2016','Year_2017','Env_intensity_2017','Year_2018','Env_intensity_2018','Year_2019','Env_intensity_2019']]"
   ]
  },
  {
   "cell_type": "code",
   "execution_count": 21,
   "id": "intensive-packet",
   "metadata": {
    "colab": {
     "base_uri": "https://localhost:8080/",
     "height": 0
    },
    "id": "lqhvtMkce8MF",
    "outputId": "cbdecc1f-8097-452b-e5c3-2388ef6f05fb"
   },
   "outputs": [
    {
     "data": {
      "text/html": [
       "<div>\n",
       "<style scoped>\n",
       "    .dataframe tbody tr th:only-of-type {\n",
       "        vertical-align: middle;\n",
       "    }\n",
       "\n",
       "    .dataframe tbody tr th {\n",
       "        vertical-align: top;\n",
       "    }\n",
       "\n",
       "    .dataframe thead th {\n",
       "        text-align: right;\n",
       "    }\n",
       "</style>\n",
       "<table border=\"1\" class=\"dataframe\">\n",
       "  <thead>\n",
       "    <tr style=\"text-align: right;\">\n",
       "      <th></th>\n",
       "      <th>CompanyName</th>\n",
       "      <th>Year_2016</th>\n",
       "      <th>Env_intensity_2016</th>\n",
       "      <th>Year_2017</th>\n",
       "      <th>Env_intensity_2017</th>\n",
       "      <th>Year_2018</th>\n",
       "      <th>Env_intensity_2018</th>\n",
       "      <th>Year_2019</th>\n",
       "      <th>Env_intensity_2019</th>\n",
       "    </tr>\n",
       "  </thead>\n",
       "  <tbody>\n",
       "    <tr>\n",
       "      <th>0</th>\n",
       "      <td>3M COMPANY</td>\n",
       "      <td>2016</td>\n",
       "      <td>-0.0705</td>\n",
       "      <td>2017</td>\n",
       "      <td>-0.0660</td>\n",
       "      <td>2018</td>\n",
       "      <td>-0.0710</td>\n",
       "      <td>2019</td>\n",
       "      <td>-0.0641</td>\n",
       "    </tr>\n",
       "    <tr>\n",
       "      <th>1</th>\n",
       "      <td>A.G.V. PRODUCTS CORP</td>\n",
       "      <td>2016</td>\n",
       "      <td>-0.0170</td>\n",
       "      <td>2017</td>\n",
       "      <td>-0.0190</td>\n",
       "      <td>2018</td>\n",
       "      <td>-0.0140</td>\n",
       "      <td>2019</td>\n",
       "      <td>-0.0172</td>\n",
       "    </tr>\n",
       "    <tr>\n",
       "      <th>2</th>\n",
       "      <td>AA PLC</td>\n",
       "      <td>2016</td>\n",
       "      <td>-0.0130</td>\n",
       "      <td>2017</td>\n",
       "      <td>-0.0124</td>\n",
       "      <td>2018</td>\n",
       "      <td>-0.0117</td>\n",
       "      <td>2019</td>\n",
       "      <td>-0.0070</td>\n",
       "    </tr>\n",
       "    <tr>\n",
       "      <th>3</th>\n",
       "      <td>AAC TECHNOLOGIES HOLDINGS INCORPORATION</td>\n",
       "      <td>2016</td>\n",
       "      <td>-0.0389</td>\n",
       "      <td>2017</td>\n",
       "      <td>-0.0591</td>\n",
       "      <td>2018</td>\n",
       "      <td>-0.0802</td>\n",
       "      <td>2019</td>\n",
       "      <td>-0.1080</td>\n",
       "    </tr>\n",
       "    <tr>\n",
       "      <th>4</th>\n",
       "      <td>AAREAL BANK AG</td>\n",
       "      <td>2016</td>\n",
       "      <td>-0.0024</td>\n",
       "      <td>2017</td>\n",
       "      <td>-0.0021</td>\n",
       "      <td>2018</td>\n",
       "      <td>-0.0019</td>\n",
       "      <td>2019</td>\n",
       "      <td>-0.0015</td>\n",
       "    </tr>\n",
       "  </tbody>\n",
       "</table>\n",
       "</div>"
      ],
      "text/plain": [
       "                               CompanyName  Year_2016  Env_intensity_2016  \\\n",
       "0                               3M COMPANY       2016             -0.0705   \n",
       "1                     A.G.V. PRODUCTS CORP       2016             -0.0170   \n",
       "2                                   AA PLC       2016             -0.0130   \n",
       "3  AAC TECHNOLOGIES HOLDINGS INCORPORATION       2016             -0.0389   \n",
       "4                           AAREAL BANK AG       2016             -0.0024   \n",
       "\n",
       "   Year_2017  Env_intensity_2017  Year_2018  Env_intensity_2018  Year_2019  \\\n",
       "0       2017             -0.0660       2018             -0.0710       2019   \n",
       "1       2017             -0.0190       2018             -0.0140       2019   \n",
       "2       2017             -0.0124       2018             -0.0117       2019   \n",
       "3       2017             -0.0591       2018             -0.0802       2019   \n",
       "4       2017             -0.0021       2018             -0.0019       2019   \n",
       "\n",
       "   Env_intensity_2019  \n",
       "0             -0.0641  \n",
       "1             -0.0172  \n",
       "2             -0.0070  \n",
       "3             -0.1080  \n",
       "4             -0.0015  "
      ]
     },
     "execution_count": 21,
     "metadata": {},
     "output_type": "execute_result"
    }
   ],
   "source": [
    "df_mod2.head()"
   ]
  },
  {
   "cell_type": "code",
   "execution_count": 22,
   "id": "deadly-kernel",
   "metadata": {
    "id": "9ijrBlmDe8MF"
   },
   "outputs": [],
   "source": [
    "df_melt2 = pd.melt(df_mod2, id_vars=['CompanyName'], value_vars=['Env_intensity_2016','Env_intensity_2016','Env_intensity_2017'],\n",
    "        var_name='myVarname', value_name='Environmental_intenrsity')"
   ]
  },
  {
   "cell_type": "code",
   "execution_count": 23,
   "id": "distinct-parcel",
   "metadata": {
    "colab": {
     "base_uri": "https://localhost:8080/",
     "height": 0
    },
    "id": "lW4BEQ7he8MG",
    "outputId": "5e606a9b-5ce2-485d-e67e-5f063539f322"
   },
   "outputs": [
    {
     "data": {
      "text/html": [
       "<div>\n",
       "<style scoped>\n",
       "    .dataframe tbody tr th:only-of-type {\n",
       "        vertical-align: middle;\n",
       "    }\n",
       "\n",
       "    .dataframe tbody tr th {\n",
       "        vertical-align: top;\n",
       "    }\n",
       "\n",
       "    .dataframe thead th {\n",
       "        text-align: right;\n",
       "    }\n",
       "</style>\n",
       "<table border=\"1\" class=\"dataframe\">\n",
       "  <thead>\n",
       "    <tr style=\"text-align: right;\">\n",
       "      <th></th>\n",
       "      <th>CompanyName</th>\n",
       "      <th>myVarname</th>\n",
       "      <th>Environmental_intenrsity</th>\n",
       "    </tr>\n",
       "  </thead>\n",
       "  <tbody>\n",
       "    <tr>\n",
       "      <th>0</th>\n",
       "      <td>3M COMPANY</td>\n",
       "      <td>Env_intensity_2016</td>\n",
       "      <td>-0.0705</td>\n",
       "    </tr>\n",
       "    <tr>\n",
       "      <th>1</th>\n",
       "      <td>A.G.V. PRODUCTS CORP</td>\n",
       "      <td>Env_intensity_2016</td>\n",
       "      <td>-0.0170</td>\n",
       "    </tr>\n",
       "    <tr>\n",
       "      <th>2</th>\n",
       "      <td>AA PLC</td>\n",
       "      <td>Env_intensity_2016</td>\n",
       "      <td>-0.0130</td>\n",
       "    </tr>\n",
       "    <tr>\n",
       "      <th>3</th>\n",
       "      <td>AAC TECHNOLOGIES HOLDINGS INCORPORATION</td>\n",
       "      <td>Env_intensity_2016</td>\n",
       "      <td>-0.0389</td>\n",
       "    </tr>\n",
       "    <tr>\n",
       "      <th>4</th>\n",
       "      <td>AAREAL BANK AG</td>\n",
       "      <td>Env_intensity_2016</td>\n",
       "      <td>-0.0024</td>\n",
       "    </tr>\n",
       "  </tbody>\n",
       "</table>\n",
       "</div>"
      ],
      "text/plain": [
       "                               CompanyName           myVarname  \\\n",
       "0                               3M COMPANY  Env_intensity_2016   \n",
       "1                     A.G.V. PRODUCTS CORP  Env_intensity_2016   \n",
       "2                                   AA PLC  Env_intensity_2016   \n",
       "3  AAC TECHNOLOGIES HOLDINGS INCORPORATION  Env_intensity_2016   \n",
       "4                           AAREAL BANK AG  Env_intensity_2016   \n",
       "\n",
       "   Environmental_intenrsity  \n",
       "0                   -0.0705  \n",
       "1                   -0.0170  \n",
       "2                   -0.0130  \n",
       "3                   -0.0389  \n",
       "4                   -0.0024  "
      ]
     },
     "execution_count": 23,
     "metadata": {},
     "output_type": "execute_result"
    }
   ],
   "source": [
    "df_melt2.head()"
   ]
  },
  {
   "cell_type": "code",
   "execution_count": 24,
   "id": "graduate-industry",
   "metadata": {
    "colab": {
     "base_uri": "https://localhost:8080/"
    },
    "id": "6lHVG_CIe8MG",
    "outputId": "54bc2a1b-9cdb-426d-9d33-756946d3cc00"
   },
   "outputs": [
    {
     "name": "stdout",
     "output_type": "stream",
     "text": [
      "(1065, 1)\n",
      "(1065, 1)\n"
     ]
    }
   ],
   "source": [
    "ei_avg = df_melt2.groupby('CompanyName').mean().reset_index()\n",
    "X = ei_avg[['Environmental_intenrsity']]\n",
    "y = df_mod2[['Env_intensity_2019']]\n",
    "\n",
    "print(X.shape)\n",
    "print(y.shape)"
   ]
  },
  {
   "cell_type": "code",
   "execution_count": 25,
   "id": "intellectual-necklace",
   "metadata": {
    "colab": {
     "base_uri": "https://localhost:8080/"
    },
    "id": "8KSeGKnwe8MG",
    "outputId": "9ecb532e-5e99-41ef-eeeb-aba611c066e8"
   },
   "outputs": [
    {
     "name": "stdout",
     "output_type": "stream",
     "text": [
      "0.006269966737857914\n"
     ]
    }
   ],
   "source": [
    "x_train, x_test, y_train, y_test = train_test_split(X ,y, test_size = 0.2, random_state = 42)\n",
    "# train Linear Regression\n",
    "LRtrainer = LinearRegression()\n",
    "LRtrainer.fit(x_train,y_train)\n",
    "\n",
    "# mse for linear regression\n",
    "y_pred_lr = LRtrainer.predict(x_test)\n",
    "print(metrics.mean_squared_error(y_pred_lr, y_test))"
   ]
  },
  {
   "cell_type": "code",
   "execution_count": 26,
   "id": "dying-jacob",
   "metadata": {
    "colab": {
     "base_uri": "https://localhost:8080/"
    },
    "id": "fhRMZGw8e8MH",
    "outputId": "defc0d4c-2364-4333-d7b4-5eb672a44b1d"
   },
   "outputs": [
    {
     "name": "stdout",
     "output_type": "stream",
     "text": [
      "Model intercept:  [-0.0051724]\n",
      "Model coefficients:  [[0.80432622]]\n"
     ]
    }
   ],
   "source": [
    "# display the parameters\n",
    "print('Model intercept: ', LRtrainer.intercept_)\n",
    "print('Model coefficients: ', LRtrainer.coef_)"
   ]
  },
  {
   "cell_type": "code",
   "execution_count": 27,
   "id": "sorted-screw",
   "metadata": {
    "colab": {
     "base_uri": "https://localhost:8080/"
    },
    "id": "X1b-ZGI1e8MH",
    "outputId": "463c674a-cc9f-4e5c-b4bd-099246ee16dc"
   },
   "outputs": [
    {
     "name": "stdout",
     "output_type": "stream",
     "text": [
      "R2 score: 0.8756921251462437\n"
     ]
    }
   ],
   "source": [
    "print('R2 score:', metrics.r2_score(y_test, y_pred_lr))"
   ]
  },
  {
   "cell_type": "code",
   "execution_count": 28,
   "id": "unlimited-medline",
   "metadata": {},
   "outputs": [
    {
     "data": {
      "image/png": "[encoded data removed]",
      "text/plain": [
       "<Figure size 864x576 with 1 Axes>"
      ]
     },
     "metadata": {
      "needs_background": "light"
     },
     "output_type": "display_data"
    }
   ],
   "source": [
    "fig, ax = plt.subplots(figsize=(12,8))\n",
    "ax.scatter(y_test, y_pred_lr, c='green')\n",
    "ax.plot([y_test.min(), y_test.max()], [y.min(), y.max()], 'k--', lw=4)\n",
    "ax.set_xlabel('Observed 2019 Environmental Intesity')\n",
    "ax.set_ylabel('Predicted 2019 Environmental Intesity')\n",
    "ax.set_title('Linear Regression- Predicting 2019 Environmental intensity using the companies average environmental intensity from past years (2016-2018)');"
   ]
  },
  {
   "cell_type": "markdown",
   "id": "desirable-proposal",
   "metadata": {
    "id": "EWMa_YonOz5P"
   },
   "source": [
    "### Model 3 - Yearly Industry Average\n",
    "\n",
    "For this model, the predictor will be the industry average for the respective year. \n",
    "There is no data for 2020, so we plan to predict 2019 environmental intensity.  Accordingly, we used 2018 and 2017 Industry data (past data) to predict 2019 evronmental intensity. "
   ]
  },
  {
   "cell_type": "code",
   "execution_count": 29,
   "id": "flexible-seventh",
   "metadata": {
    "colab": {
     "base_uri": "https://localhost:8080/",
     "height": 296
    },
    "id": "wNfyK_qDe8MI",
    "outputId": "d0318855-b124-4dcb-ec7c-727f52d3368a"
   },
   "outputs": [
    {
     "data": {
      "text/plain": [
       "<AxesSubplot:xlabel='Year', ylabel='count'>"
      ]
     },
     "execution_count": 29,
     "metadata": {},
     "output_type": "execute_result"
    },
    {
     "data": {
      "image/png": "[encoded data removed]",
      "text/plain": [
       "<Figure size 432x288 with 1 Axes>"
      ]
     },
     "metadata": {
      "needs_background": "light"
     },
     "output_type": "display_data"
    }
   ],
   "source": [
    "sns.countplot(x='Year', data = df)"
   ]
  },
  {
   "cell_type": "markdown",
   "id": "engaged-official",
   "metadata": {
    "id": "ShjWYuXLe8MI"
   },
   "source": [
    "The dataset does not contain consistent records throught out the years. Therefore, it could be possible we have data for one company in 2019 but not data from that company in 2018, 2017, etc. \n",
    "\n",
    "We will start by only using 2018 industry average as a feature to predict 2019 environmental intensity. First, we will subset the companies that we have 2018 data and get their 2019 environmental intensity. Also, we will keep the industries that have more than 3 companies assigned to them. "
   ]
  },
  {
   "cell_type": "code",
   "execution_count": 30,
   "id": "organized-incident",
   "metadata": {},
   "outputs": [],
   "source": [
    "df_industry = df.groupby('Industry(Exiobase)').count()['CompanyName'].reset_index()\n",
    "\n",
    "industries = df_industry[df_industry['CompanyName'] > 3]['Industry(Exiobase)']"
   ]
  },
  {
   "cell_type": "code",
   "execution_count": 31,
   "id": "familiar-yemen",
   "metadata": {},
   "outputs": [
    {
     "data": {
      "text/html": [
       "<div>\n",
       "<style scoped>\n",
       "    .dataframe tbody tr th:only-of-type {\n",
       "        vertical-align: middle;\n",
       "    }\n",
       "\n",
       "    .dataframe tbody tr th {\n",
       "        vertical-align: top;\n",
       "    }\n",
       "\n",
       "    .dataframe thead th {\n",
       "        text-align: right;\n",
       "    }\n",
       "</style>\n",
       "<table border=\"1\" class=\"dataframe\">\n",
       "  <thead>\n",
       "    <tr style=\"text-align: right;\">\n",
       "      <th></th>\n",
       "      <th>Year_x</th>\n",
       "      <th>CompanyName</th>\n",
       "      <th>industry_avg_year_x</th>\n",
       "      <th>Year_y</th>\n",
       "      <th>Env_intensity_y</th>\n",
       "    </tr>\n",
       "  </thead>\n",
       "  <tbody>\n",
       "    <tr>\n",
       "      <th>0</th>\n",
       "      <td>2018</td>\n",
       "      <td>3M COMPANY</td>\n",
       "      <td>-0.229308</td>\n",
       "      <td>2019</td>\n",
       "      <td>-0.0641</td>\n",
       "    </tr>\n",
       "    <tr>\n",
       "      <th>1</th>\n",
       "      <td>2018</td>\n",
       "      <td>3SBIO INC</td>\n",
       "      <td>-0.027793</td>\n",
       "      <td>2019</td>\n",
       "      <td>-0.0340</td>\n",
       "    </tr>\n",
       "    <tr>\n",
       "      <th>2</th>\n",
       "      <td>2018</td>\n",
       "      <td>A.G.V. PRODUCTS CORP</td>\n",
       "      <td>-0.072254</td>\n",
       "      <td>2019</td>\n",
       "      <td>-0.0172</td>\n",
       "    </tr>\n",
       "    <tr>\n",
       "      <th>3</th>\n",
       "      <td>2018</td>\n",
       "      <td>AA PLC</td>\n",
       "      <td>-0.073777</td>\n",
       "      <td>2019</td>\n",
       "      <td>-0.0070</td>\n",
       "    </tr>\n",
       "    <tr>\n",
       "      <th>4</th>\n",
       "      <td>2018</td>\n",
       "      <td>AAC TECHNOLOGIES HOLDINGS INCORPORATION</td>\n",
       "      <td>-0.023555</td>\n",
       "      <td>2019</td>\n",
       "      <td>-0.1080</td>\n",
       "    </tr>\n",
       "  </tbody>\n",
       "</table>\n",
       "</div>"
      ],
      "text/plain": [
       "   Year_x                              CompanyName  industry_avg_year_x  \\\n",
       "0    2018                               3M COMPANY            -0.229308   \n",
       "1    2018                                3SBIO INC            -0.027793   \n",
       "2    2018                     A.G.V. PRODUCTS CORP            -0.072254   \n",
       "3    2018                                   AA PLC            -0.073777   \n",
       "4    2018  AAC TECHNOLOGIES HOLDINGS INCORPORATION            -0.023555   \n",
       "\n",
       "   Year_y  Env_intensity_y  \n",
       "0    2019          -0.0641  \n",
       "1    2019          -0.0340  \n",
       "2    2019          -0.0172  \n",
       "3    2019          -0.0070  \n",
       "4    2019          -0.1080  "
      ]
     },
     "execution_count": 31,
     "metadata": {},
     "output_type": "execute_result"
    }
   ],
   "source": [
    "df_industry_count4 = df[df['Industry(Exiobase)'].isin(industries)]\n",
    "\n",
    "\n",
    "df_2018 = df_industry_count4.loc[df.Year == 2018, ]\n",
    "df_2019 = df_industry_count4.loc[df.Year == 2019, ]\n",
    "df_mod3 = pd.merge(df_2018, df_2019, on='CompanyName',how='inner')\n",
    "df_mod3 = df_mod3[['Year_x','CompanyName','industry_avg_year_x','Year_y','Env_intensity_y']]\n",
    "df_mod3.head()"
   ]
  },
  {
   "cell_type": "code",
   "execution_count": 32,
   "id": "eight-creek",
   "metadata": {
    "colab": {
     "base_uri": "https://localhost:8080/"
    },
    "id": "FtTXj-O-e8MJ",
    "outputId": "c5e39084-8c75-4169-c5cc-6efabc3a07b6"
   },
   "outputs": [
    {
     "name": "stdout",
     "output_type": "stream",
     "text": [
      "(1336, 1)\n",
      "(1336,)\n"
     ]
    }
   ],
   "source": [
    "X = df_mod3[['industry_avg_year_x']]\n",
    "y = df_mod3.iloc[:,4]\n",
    "print(X.shape)\n",
    "print(y.shape)"
   ]
  },
  {
   "cell_type": "code",
   "execution_count": 33,
   "id": "false-desire",
   "metadata": {
    "colab": {
     "base_uri": "https://localhost:8080/"
    },
    "id": "fzoscwJ0e8MJ",
    "outputId": "ffb95f7b-58f5-4d54-a492-d375d3a36f5a"
   },
   "outputs": [
    {
     "name": "stdout",
     "output_type": "stream",
     "text": [
      "0.06598743409385226\n"
     ]
    }
   ],
   "source": [
    "x_train, x_test, y_train, y_test = train_test_split(X ,y, test_size = 0.2, random_state = 42)\n",
    "# train Linear Regression\n",
    "LRtrainer = LinearRegression()\n",
    "LRtrainer.fit(x_train,y_train)\n",
    "\n",
    "# mse for linear regression\n",
    "y_pred_lr = LRtrainer.predict(x_test)\n",
    "print(metrics.mean_squared_error(y_pred_lr, y_test))"
   ]
  },
  {
   "cell_type": "code",
   "execution_count": 34,
   "id": "bulgarian-there",
   "metadata": {
    "colab": {
     "base_uri": "https://localhost:8080/"
    },
    "id": "jdz4eDj5e8MJ",
    "outputId": "f722958b-cf83-4534-d8b4-ef75ea2a4339"
   },
   "outputs": [
    {
     "name": "stdout",
     "output_type": "stream",
     "text": [
      "Model intercept:  0.0002669631900767966\n",
      "Model coefficients:  [0.91303819]\n"
     ]
    }
   ],
   "source": [
    "# display the parameters\n",
    "print('Model intercept: ', LRtrainer.intercept_)\n",
    "print('Model coefficients: ', LRtrainer.coef_)"
   ]
  },
  {
   "cell_type": "code",
   "execution_count": 35,
   "id": "bizarre-columbus",
   "metadata": {
    "colab": {
     "base_uri": "https://localhost:8080/"
    },
    "id": "NKhRZBdTe8MJ",
    "outputId": "08254269-a4c4-4103-c1b9-1cb367e35165"
   },
   "outputs": [
    {
     "name": "stdout",
     "output_type": "stream",
     "text": [
      "R2 score: 0.36647102462935643\n"
     ]
    }
   ],
   "source": [
    "print('R2 score:', metrics.r2_score(y_test, y_pred_lr))"
   ]
  },
  {
   "cell_type": "code",
   "execution_count": 36,
   "id": "surprising-negotiation",
   "metadata": {},
   "outputs": [
    {
     "data": {
      "image/png": "[encoded data removed]",
      "text/plain": [
       "<Figure size 864x576 with 1 Axes>"
      ]
     },
     "metadata": {
      "needs_background": "light"
     },
     "output_type": "display_data"
    }
   ],
   "source": [
    "fig, ax = plt.subplots(figsize=(12,8))\n",
    "ax.scatter(y_test, y_pred_lr, c='green')\n",
    "ax.plot([y_test.min(), y_test.max()], [y.min(), y.max()], 'k--', lw=4)\n",
    "ax.set_xlabel('Observed 2019 Environmental Intesity')\n",
    "ax.set_ylabel('Predicted 2019 Environmental Intesity')\n",
    "ax.set_title('Linear Regression- Predicting 2019 Environmental intensity using 2018 industry average environmental intensity');"
   ]
  },
  {
   "cell_type": "markdown",
   "id": "optimum-sacramento",
   "metadata": {
    "id": "fofCYGRne8MK"
   },
   "source": [
    "Now, we are going to consider 2017 - 2018 to predict 2019"
   ]
  },
  {
   "cell_type": "code",
   "execution_count": 37,
   "id": "starting-administration",
   "metadata": {},
   "outputs": [],
   "source": [
    "df_2019=df_industry_count4[df_industry_count4['Year'] == 2019]\n",
    "df_2018=df_industry_count4[df_industry_count4['Year'] == 2018]\n",
    "df_2017=df_industry_count4[df_industry_count4['Year'] == 2017]"
   ]
  },
  {
   "cell_type": "code",
   "execution_count": 38,
   "id": "continent-manhattan",
   "metadata": {
    "colab": {
     "base_uri": "https://localhost:8080/",
     "height": 419
    },
    "id": "sKzSdu7Fe8MK",
    "outputId": "a60d4a69-620f-4127-f321-b5e910ccb29e"
   },
   "outputs": [
    {
     "data": {
      "text/html": [
       "<div>\n",
       "<style scoped>\n",
       "    .dataframe tbody tr th:only-of-type {\n",
       "        vertical-align: middle;\n",
       "    }\n",
       "\n",
       "    .dataframe tbody tr th {\n",
       "        vertical-align: top;\n",
       "    }\n",
       "\n",
       "    .dataframe thead th {\n",
       "        text-align: right;\n",
       "    }\n",
       "</style>\n",
       "<table border=\"1\" class=\"dataframe\">\n",
       "  <thead>\n",
       "    <tr style=\"text-align: right;\">\n",
       "      <th></th>\n",
       "      <th>Year</th>\n",
       "      <th>CompanyName</th>\n",
       "      <th>Env_intensity2019</th>\n",
       "      <th>Ind_Yearavg2018</th>\n",
       "      <th>Ind_Yearavg2017</th>\n",
       "    </tr>\n",
       "  </thead>\n",
       "  <tbody>\n",
       "    <tr>\n",
       "      <th>0</th>\n",
       "      <td>2019</td>\n",
       "      <td>3M COMPANY</td>\n",
       "      <td>-0.0641</td>\n",
       "      <td>-0.229308</td>\n",
       "      <td>-0.225496</td>\n",
       "    </tr>\n",
       "    <tr>\n",
       "      <th>1</th>\n",
       "      <td>2019</td>\n",
       "      <td>3SBIO INC</td>\n",
       "      <td>-0.0340</td>\n",
       "      <td>-0.027793</td>\n",
       "      <td>-0.031771</td>\n",
       "    </tr>\n",
       "    <tr>\n",
       "      <th>2</th>\n",
       "      <td>2019</td>\n",
       "      <td>A.G.V. PRODUCTS CORP</td>\n",
       "      <td>-0.0172</td>\n",
       "      <td>-0.072254</td>\n",
       "      <td>-0.063618</td>\n",
       "    </tr>\n",
       "    <tr>\n",
       "      <th>3</th>\n",
       "      <td>2019</td>\n",
       "      <td>AA PLC</td>\n",
       "      <td>-0.0070</td>\n",
       "      <td>-0.073777</td>\n",
       "      <td>-0.096157</td>\n",
       "    </tr>\n",
       "    <tr>\n",
       "      <th>4</th>\n",
       "      <td>2019</td>\n",
       "      <td>AAC TECHNOLOGIES HOLDINGS INCORPORATION</td>\n",
       "      <td>-0.1080</td>\n",
       "      <td>-0.023555</td>\n",
       "      <td>-0.027254</td>\n",
       "    </tr>\n",
       "    <tr>\n",
       "      <th>...</th>\n",
       "      <td>...</td>\n",
       "      <td>...</td>\n",
       "      <td>...</td>\n",
       "      <td>...</td>\n",
       "      <td>...</td>\n",
       "    </tr>\n",
       "    <tr>\n",
       "      <th>1190</th>\n",
       "      <td>2019</td>\n",
       "      <td>ZEON CORPORATION</td>\n",
       "      <td>-0.0730</td>\n",
       "      <td>-0.218707</td>\n",
       "      <td>-0.275385</td>\n",
       "    </tr>\n",
       "    <tr>\n",
       "      <th>1191</th>\n",
       "      <td>2019</td>\n",
       "      <td>ZHEN DING TECHNOLOGY HOLDING LIMITED</td>\n",
       "      <td>-0.0602</td>\n",
       "      <td>-0.076812</td>\n",
       "      <td>-0.068294</td>\n",
       "    </tr>\n",
       "    <tr>\n",
       "      <th>1192</th>\n",
       "      <td>2019</td>\n",
       "      <td>ZIG SHENG INDUSTRIAL COMPANY LIMITED</td>\n",
       "      <td>-0.1615</td>\n",
       "      <td>-0.124750</td>\n",
       "      <td>-0.117456</td>\n",
       "    </tr>\n",
       "    <tr>\n",
       "      <th>1193</th>\n",
       "      <td>2019</td>\n",
       "      <td>ZORLU ENERJI AS</td>\n",
       "      <td>-0.3430</td>\n",
       "      <td>-1.012140</td>\n",
       "      <td>-0.578986</td>\n",
       "    </tr>\n",
       "    <tr>\n",
       "      <th>1194</th>\n",
       "      <td>2019</td>\n",
       "      <td>ZUMTOBEL AG</td>\n",
       "      <td>-0.0051</td>\n",
       "      <td>-0.020683</td>\n",
       "      <td>-0.036006</td>\n",
       "    </tr>\n",
       "  </tbody>\n",
       "</table>\n",
       "<p>1195 rows × 5 columns</p>\n",
       "</div>"
      ],
      "text/plain": [
       "      Year                              CompanyName  Env_intensity2019  \\\n",
       "0     2019                               3M COMPANY            -0.0641   \n",
       "1     2019                                3SBIO INC            -0.0340   \n",
       "2     2019                     A.G.V. PRODUCTS CORP            -0.0172   \n",
       "3     2019                                   AA PLC            -0.0070   \n",
       "4     2019  AAC TECHNOLOGIES HOLDINGS INCORPORATION            -0.1080   \n",
       "...    ...                                      ...                ...   \n",
       "1190  2019                         ZEON CORPORATION            -0.0730   \n",
       "1191  2019     ZHEN DING TECHNOLOGY HOLDING LIMITED            -0.0602   \n",
       "1192  2019     ZIG SHENG INDUSTRIAL COMPANY LIMITED            -0.1615   \n",
       "1193  2019                          ZORLU ENERJI AS            -0.3430   \n",
       "1194  2019                              ZUMTOBEL AG            -0.0051   \n",
       "\n",
       "      Ind_Yearavg2018  Ind_Yearavg2017  \n",
       "0           -0.229308        -0.225496  \n",
       "1           -0.027793        -0.031771  \n",
       "2           -0.072254        -0.063618  \n",
       "3           -0.073777        -0.096157  \n",
       "4           -0.023555        -0.027254  \n",
       "...               ...              ...  \n",
       "1190        -0.218707        -0.275385  \n",
       "1191        -0.076812        -0.068294  \n",
       "1192        -0.124750        -0.117456  \n",
       "1193        -1.012140        -0.578986  \n",
       "1194        -0.020683        -0.036006  \n",
       "\n",
       "[1195 rows x 5 columns]"
      ]
     },
     "execution_count": 38,
     "metadata": {},
     "output_type": "execute_result"
    }
   ],
   "source": [
    "df2019=df_2019[['Year','CompanyName','Env_intensity']] \n",
    "df2019.rename(columns={'Env_intensity': 'Env_intensity2019'}, inplace=True) \n",
    "df2018=df_2018[['CompanyName','industry_avg_year']]\n",
    "df2018.rename(columns={'industry_avg_year': 'Ind_Yearavg2018'}, inplace=True) \n",
    "df2017=df_2017[['CompanyName','industry_avg_year']]\n",
    "df2017.rename(columns={'industry_avg_year': 'Ind_Yearavg2017'}, inplace=True) \n",
    "mdl = pd.merge(df2019, df2018, on=[\"CompanyName\"])\n",
    "mdl1= pd.merge(mdl, df2017, on=[\"CompanyName\"])\n",
    "mdl1"
   ]
  },
  {
   "cell_type": "code",
   "execution_count": 39,
   "id": "sonic-replacement",
   "metadata": {
    "colab": {
     "base_uri": "https://localhost:8080/"
    },
    "id": "EeCICVPZe8MK",
    "outputId": "e6f7028f-1ba8-4a2c-9974-feef5994d0bb"
   },
   "outputs": [
    {
     "name": "stdout",
     "output_type": "stream",
     "text": [
      "(1195, 2)\n",
      "(1195,)\n"
     ]
    }
   ],
   "source": [
    "X=mdl1[['Ind_Yearavg2018','Ind_Yearavg2017']]\n",
    "y=mdl1['Env_intensity2019']\n",
    "print(X.shape)\n",
    "print(y.shape)"
   ]
  },
  {
   "cell_type": "code",
   "execution_count": 40,
   "id": "tracked-spouse",
   "metadata": {
    "id": "J-uzv_GTe8ML"
   },
   "outputs": [],
   "source": [
    "regr = linear_model.LinearRegression()\n",
    "X_train, X_test, y_train, y_test = train_test_split(X,y,test_size=0.2,random_state=42)\n",
    "regr.fit(X_train, y_train)\n",
    "y_train_pred = np.exp(regr.predict(X_train))\n",
    "y_pred = np.exp(regr.predict(X_test))\n",
    "y_test = np.exp(y_test)"
   ]
  },
  {
   "cell_type": "code",
   "execution_count": 41,
   "id": "senior-telescope",
   "metadata": {
    "colab": {
     "base_uri": "https://localhost:8080/"
    },
    "id": "sWsjL_IPe8ML",
    "outputId": "ab8b4de9-41c4-478f-bc91-013747200475"
   },
   "outputs": [
    {
     "name": "stdout",
     "output_type": "stream",
     "text": [
      "MSE train: 1.064, test: 0.038\n"
     ]
    }
   ],
   "source": [
    "print('MSE train: %.3f, test: %.3f' % (metrics.mean_squared_error(y_train, y_train_pred),\n",
    "                metrics.mean_squared_error(y_test, y_pred)))"
   ]
  },
  {
   "cell_type": "code",
   "execution_count": 42,
   "id": "duplicate-marshall",
   "metadata": {
    "colab": {
     "base_uri": "https://localhost:8080/"
    },
    "id": "gBTcXGdHe8ML",
    "outputId": "a40905b3-40fb-499e-8d7a-d52fcc32375e"
   },
   "outputs": [
    {
     "name": "stdout",
     "output_type": "stream",
     "text": [
      "Model intercept:  0.0005763983280114432\n",
      "Model coefficients:  [ 0.94555899 -0.06948928]\n"
     ]
    }
   ],
   "source": [
    "# display the parameters\n",
    "print('Model intercept: ', regr.intercept_)\n",
    "print('Model coefficients: ', regr.coef_)"
   ]
  },
  {
   "cell_type": "code",
   "execution_count": 43,
   "id": "placed-cargo",
   "metadata": {
    "colab": {
     "base_uri": "https://localhost:8080/"
    },
    "id": "q0V2lg5Oe8ML",
    "outputId": "6ef74970-d7cd-4da3-d5ff-49cd152d29f1"
   },
   "outputs": [
    {
     "name": "stdout",
     "output_type": "stream",
     "text": [
      "R2 score: 0.26873239153605133\n"
     ]
    }
   ],
   "source": [
    "print('R2 score:', metrics.r2_score(y_test, y_pred))"
   ]
  },
  {
   "cell_type": "code",
   "execution_count": 44,
   "id": "unnecessary-trouble",
   "metadata": {},
   "outputs": [
    {
     "data": {
      "image/png": "[encoded data removed]",
      "text/plain": [
       "<Figure size 864x576 with 1 Axes>"
      ]
     },
     "metadata": {
      "needs_background": "light"
     },
     "output_type": "display_data"
    }
   ],
   "source": [
    "fig, ax = plt.subplots(figsize=(12,8))\n",
    "ax.scatter(y_test, y_pred, c='green')\n",
    "ax.plot([y_test.min(), y_test.max()], [y.min(), y.max()], 'k--', lw=4)\n",
    "ax.set_xlabel('Observed 2019 Environmental Intesity')\n",
    "ax.set_ylabel('Predicted 2019 Environmental Intesity')\n",
    "ax.set_title('Linear Regression- Predicting 2019 Environmental intensity using 2017- 2018 industry average environmental intensity');"
   ]
  },
  {
   "cell_type": "markdown",
   "id": "advisory-victory",
   "metadata": {
    "id": "o9Qz0XUue8ML"
   },
   "source": [
    "Using the industry environmental average for 2017 and 2018 only explained 27% of the variation in the dataset. Let's see what happens including 2016-2018 to predict 2019"
   ]
  },
  {
   "cell_type": "code",
   "execution_count": 45,
   "id": "necessary-separate",
   "metadata": {},
   "outputs": [],
   "source": [
    "df_2016 = df_industry_count4.loc[df_industry_count4.Year == 2016, ]\n",
    "df_2017 = df_industry_count4.loc[df_industry_count4.Year == 2017, ]\n",
    "df1 = df_2016.merge(df_2017, how='inner', on='CompanyName', suffixes=('_2016', '_2017'))\n",
    "df1 = df1.merge(df_2018, how='inner', on='CompanyName')\n",
    "df1 = df1.merge(df_2019, how='inner', on='CompanyName', suffixes=('_2018', '_2019'))\n",
    "df1 = df1[['Year_2016','industry_avg_year_2016','Year_2017','industry_avg_year_2017','Year_2018','industry_avg_year_2018','Year_2019','Env_intensity_2019']]"
   ]
  },
  {
   "cell_type": "code",
   "execution_count": 46,
   "id": "religious-delivery",
   "metadata": {
    "colab": {
     "base_uri": "https://localhost:8080/"
    },
    "id": "kuul1T8Pe8MM",
    "outputId": "63ed718d-ed7a-442a-d075-7bd233c9a8da"
   },
   "outputs": [
    {
     "name": "stdout",
     "output_type": "stream",
     "text": [
      "(1065, 3)\n",
      "(1065,)\n"
     ]
    }
   ],
   "source": [
    "X = df1[['industry_avg_year_2016','industry_avg_year_2017','industry_avg_year_2018']]\n",
    "y = df1.iloc[:,7]\n",
    "print(X.shape)\n",
    "print(y.shape)"
   ]
  },
  {
   "cell_type": "code",
   "execution_count": 47,
   "id": "duplicate-restaurant",
   "metadata": {
    "id": "McApUnC09uuq"
   },
   "outputs": [],
   "source": [
    "regr = linear_model.LinearRegression()\n",
    "X_train, X_test, y_train, y_test = train_test_split(X,y,test_size=0.2,random_state=42)\n",
    "regr.fit(X_train, y_train)\n",
    "y_train_pred = regr.predict(X_train)\n",
    "y_pred = regr.predict(X_test)"
   ]
  },
  {
   "cell_type": "code",
   "execution_count": 48,
   "id": "pregnant-embassy",
   "metadata": {
    "colab": {
     "base_uri": "https://localhost:8080/"
    },
    "id": "Zdkb0Jff-2EL",
    "outputId": "6e91dfe4-da0f-4cd1-a910-80601a20b80b"
   },
   "outputs": [
    {
     "name": "stdout",
     "output_type": "stream",
     "text": [
      "MSE train: 0.033, test: 0.036\n"
     ]
    }
   ],
   "source": [
    "print('MSE train: %.3f, test: %.3f' % (metrics.mean_squared_error(y_train, y_train_pred),\n",
    "                metrics.mean_squared_error(y_test, y_pred)))"
   ]
  },
  {
   "cell_type": "code",
   "execution_count": 49,
   "id": "protecting-sacramento",
   "metadata": {
    "colab": {
     "base_uri": "https://localhost:8080/"
    },
    "id": "qxtqOycLe8MN",
    "outputId": "80169297-278a-491f-f767-e62ba16444a5"
   },
   "outputs": [
    {
     "name": "stdout",
     "output_type": "stream",
     "text": [
      "Model intercept:  0.00568972196188465\n",
      "Model coefficients:  [-0.22207005  0.34928786  0.78027233]\n"
     ]
    }
   ],
   "source": [
    "# display the parameters\n",
    "print('Model intercept: ', regr.intercept_)\n",
    "print('Model coefficients: ', regr.coef_)"
   ]
  },
  {
   "cell_type": "code",
   "execution_count": 50,
   "id": "premium-technique",
   "metadata": {
    "colab": {
     "base_uri": "https://localhost:8080/"
    },
    "id": "Ogrxx1dbe8MN",
    "outputId": "35a0bf3e-55b3-4b26-9db8-1ee883321db8"
   },
   "outputs": [
    {
     "name": "stdout",
     "output_type": "stream",
     "text": [
      "R2 score: 0.28683072335691706\n"
     ]
    }
   ],
   "source": [
    "print('R2 score:', metrics.r2_score(y_test, y_pred))"
   ]
  },
  {
   "cell_type": "code",
   "execution_count": 51,
   "id": "colored-maple",
   "metadata": {},
   "outputs": [
    {
     "data": {
      "image/png": "[encoded data removed]",
      "text/plain": [
       "<Figure size 864x576 with 1 Axes>"
      ]
     },
     "metadata": {
      "needs_background": "light"
     },
     "output_type": "display_data"
    }
   ],
   "source": [
    "fig, ax = plt.subplots(figsize=(12,8))\n",
    "ax.scatter(y_test, y_pred, c='green')\n",
    "ax.plot([y_test.min(), y_test.max()], [y.min(), y.max()], 'k--', lw=4)\n",
    "ax.set_xlabel('Observed 2019 Environmental Intesity')\n",
    "ax.set_ylabel('Predicted 2019 Environmental Intesity')\n",
    "ax.set_title('Linear Regression- Predicting 2019 Environmental intensity using 2016-2018 industry average environmental intensity');"
   ]
  },
  {
   "cell_type": "markdown",
   "id": "fewer-empty",
   "metadata": {
    "id": "Ah20qAC3_Smc"
   },
   "source": [
    "### Model 4 -Yearly Industry Indicator\n",
    "\n",
    "For this model, we will consider the yearly industry indicator from past years to predict the company 2019 environmental intensity. \n",
    "\n",
    "We are going to start from 2017-2018 to predict 2019. "
   ]
  },
  {
   "cell_type": "code",
   "execution_count": 52,
   "id": "adjustable-likelihood",
   "metadata": {},
   "outputs": [
    {
     "data": {
      "text/html": [
       "<div>\n",
       "<style scoped>\n",
       "    .dataframe tbody tr th:only-of-type {\n",
       "        vertical-align: middle;\n",
       "    }\n",
       "\n",
       "    .dataframe tbody tr th {\n",
       "        vertical-align: top;\n",
       "    }\n",
       "\n",
       "    .dataframe thead th {\n",
       "        text-align: right;\n",
       "    }\n",
       "</style>\n",
       "<table border=\"1\" class=\"dataframe\">\n",
       "  <thead>\n",
       "    <tr style=\"text-align: right;\">\n",
       "      <th></th>\n",
       "      <th>Year</th>\n",
       "      <th>CompanyName</th>\n",
       "      <th>Env_intensity2019</th>\n",
       "      <th>Ind_Indicator_2018</th>\n",
       "      <th>Ind_Indicator_2017</th>\n",
       "    </tr>\n",
       "  </thead>\n",
       "  <tbody>\n",
       "    <tr>\n",
       "      <th>0</th>\n",
       "      <td>2019</td>\n",
       "      <td>3M COMPANY</td>\n",
       "      <td>-0.0641</td>\n",
       "      <td>1</td>\n",
       "      <td>1</td>\n",
       "    </tr>\n",
       "    <tr>\n",
       "      <th>1</th>\n",
       "      <td>2019</td>\n",
       "      <td>3SBIO INC</td>\n",
       "      <td>-0.0340</td>\n",
       "      <td>-1</td>\n",
       "      <td>1</td>\n",
       "    </tr>\n",
       "    <tr>\n",
       "      <th>2</th>\n",
       "      <td>2019</td>\n",
       "      <td>A.G.V. PRODUCTS CORP</td>\n",
       "      <td>-0.0172</td>\n",
       "      <td>1</td>\n",
       "      <td>1</td>\n",
       "    </tr>\n",
       "    <tr>\n",
       "      <th>3</th>\n",
       "      <td>2019</td>\n",
       "      <td>AA PLC</td>\n",
       "      <td>-0.0070</td>\n",
       "      <td>1</td>\n",
       "      <td>1</td>\n",
       "    </tr>\n",
       "    <tr>\n",
       "      <th>4</th>\n",
       "      <td>2019</td>\n",
       "      <td>AAC TECHNOLOGIES HOLDINGS INCORPORATION</td>\n",
       "      <td>-0.1080</td>\n",
       "      <td>-1</td>\n",
       "      <td>-1</td>\n",
       "    </tr>\n",
       "    <tr>\n",
       "      <th>...</th>\n",
       "      <td>...</td>\n",
       "      <td>...</td>\n",
       "      <td>...</td>\n",
       "      <td>...</td>\n",
       "      <td>...</td>\n",
       "    </tr>\n",
       "    <tr>\n",
       "      <th>1190</th>\n",
       "      <td>2019</td>\n",
       "      <td>ZEON CORPORATION</td>\n",
       "      <td>-0.0730</td>\n",
       "      <td>1</td>\n",
       "      <td>1</td>\n",
       "    </tr>\n",
       "    <tr>\n",
       "      <th>1191</th>\n",
       "      <td>2019</td>\n",
       "      <td>ZHEN DING TECHNOLOGY HOLDING LIMITED</td>\n",
       "      <td>-0.0602</td>\n",
       "      <td>1</td>\n",
       "      <td>1</td>\n",
       "    </tr>\n",
       "    <tr>\n",
       "      <th>1192</th>\n",
       "      <td>2019</td>\n",
       "      <td>ZIG SHENG INDUSTRIAL COMPANY LIMITED</td>\n",
       "      <td>-0.1615</td>\n",
       "      <td>-1</td>\n",
       "      <td>-1</td>\n",
       "    </tr>\n",
       "    <tr>\n",
       "      <th>1193</th>\n",
       "      <td>2019</td>\n",
       "      <td>ZORLU ENERJI AS</td>\n",
       "      <td>-0.3430</td>\n",
       "      <td>1</td>\n",
       "      <td>1</td>\n",
       "    </tr>\n",
       "    <tr>\n",
       "      <th>1194</th>\n",
       "      <td>2019</td>\n",
       "      <td>ZUMTOBEL AG</td>\n",
       "      <td>-0.0051</td>\n",
       "      <td>1</td>\n",
       "      <td>1</td>\n",
       "    </tr>\n",
       "  </tbody>\n",
       "</table>\n",
       "<p>1195 rows × 5 columns</p>\n",
       "</div>"
      ],
      "text/plain": [
       "      Year                              CompanyName  Env_intensity2019  \\\n",
       "0     2019                               3M COMPANY            -0.0641   \n",
       "1     2019                                3SBIO INC            -0.0340   \n",
       "2     2019                     A.G.V. PRODUCTS CORP            -0.0172   \n",
       "3     2019                                   AA PLC            -0.0070   \n",
       "4     2019  AAC TECHNOLOGIES HOLDINGS INCORPORATION            -0.1080   \n",
       "...    ...                                      ...                ...   \n",
       "1190  2019                         ZEON CORPORATION            -0.0730   \n",
       "1191  2019     ZHEN DING TECHNOLOGY HOLDING LIMITED            -0.0602   \n",
       "1192  2019     ZIG SHENG INDUSTRIAL COMPANY LIMITED            -0.1615   \n",
       "1193  2019                          ZORLU ENERJI AS            -0.3430   \n",
       "1194  2019                              ZUMTOBEL AG            -0.0051   \n",
       "\n",
       "      Ind_Indicator_2018  Ind_Indicator_2017  \n",
       "0                      1                   1  \n",
       "1                     -1                   1  \n",
       "2                      1                   1  \n",
       "3                      1                   1  \n",
       "4                     -1                  -1  \n",
       "...                  ...                 ...  \n",
       "1190                   1                   1  \n",
       "1191                   1                   1  \n",
       "1192                  -1                  -1  \n",
       "1193                   1                   1  \n",
       "1194                   1                   1  \n",
       "\n",
       "[1195 rows x 5 columns]"
      ]
     },
     "execution_count": 52,
     "metadata": {},
     "output_type": "execute_result"
    }
   ],
   "source": [
    "df_2019=df_industry_count4[df_industry_count4['Year'] == 2019]\n",
    "df_2018=df_industry_count4[df_industry_count4['Year'] == 2018]\n",
    "df_2017=df_industry_count4[df_industry_count4['Year'] == 2017]\n",
    "\n",
    "df2019=df_2019[['Year','CompanyName','Env_intensity']] \n",
    "df2019.rename(columns={'Env_intensity': 'Env_intensity2019'}, inplace=True) \n",
    "df2018=df_2018[['CompanyName','Industry_indicator_year']]\n",
    "df2018.rename(columns={'Industry_indicator_year': 'Ind_Indicator_2018'}, inplace=True) \n",
    "df2017=df_2017[['CompanyName','Industry_indicator_year']]\n",
    "df2017.rename(columns={'Industry_indicator_year': 'Ind_Indicator_2017'}, inplace=True) \n",
    "mdl4 = pd.merge(df2019, df2018, on=[\"CompanyName\"])\n",
    "mdl4= pd.merge(mdl4, df2017, on=[\"CompanyName\"])\n",
    "mdl4"
   ]
  },
  {
   "cell_type": "code",
   "execution_count": 53,
   "id": "uniform-effects",
   "metadata": {
    "colab": {
     "base_uri": "https://localhost:8080/"
    },
    "id": "GZFdh9yRASsa",
    "outputId": "5873c539-a816-45fd-b71f-b4eb1a1249b4"
   },
   "outputs": [
    {
     "name": "stdout",
     "output_type": "stream",
     "text": [
      "(1195, 2)\n",
      "(1195,)\n"
     ]
    }
   ],
   "source": [
    "X=mdl4[['Ind_Indicator_2017','Ind_Indicator_2018']]\n",
    "y=mdl4['Env_intensity2019']\n",
    "print(X.shape)\n",
    "print(y.shape)"
   ]
  },
  {
   "cell_type": "code",
   "execution_count": 54,
   "id": "united-sally",
   "metadata": {
    "id": "9Q83jyJz_Smj"
   },
   "outputs": [],
   "source": [
    "regr = linear_model.LinearRegression()\n",
    "X_train, X_test, y_train, y_test = train_test_split(X,y,test_size=0.2,random_state=42)\n",
    "regr.fit(X_train, y_train)\n",
    "y_train_pred = regr.predict(X_train)\n",
    "y_pred = regr.predict(X_test)"
   ]
  },
  {
   "cell_type": "code",
   "execution_count": 55,
   "id": "motivated-spice",
   "metadata": {
    "colab": {
     "base_uri": "https://localhost:8080/"
    },
    "id": "r9LByzk-_Smk",
    "outputId": "1b4d3190-3789-4c63-e725-738c38256870"
   },
   "outputs": [
    {
     "name": "stdout",
     "output_type": "stream",
     "text": [
      "MSE train: 0.048, test: 0.062\n"
     ]
    }
   ],
   "source": [
    "print('MSE train: %.3f, test: %.3f' % (metrics.mean_squared_error(y_train, y_train_pred),\n",
    "                metrics.mean_squared_error(y_test, y_pred)))"
   ]
  },
  {
   "cell_type": "code",
   "execution_count": 56,
   "id": "promising-richardson",
   "metadata": {
    "colab": {
     "base_uri": "https://localhost:8080/"
    },
    "id": "nnqv1GCie8MO",
    "outputId": "7d76141d-ea3b-44de-8b6c-c5b6a1826cba"
   },
   "outputs": [
    {
     "name": "stdout",
     "output_type": "stream",
     "text": [
      "Model intercept:  -0.15356410683376787\n",
      "Model coefficients:  [0.03709691 0.07830873]\n"
     ]
    }
   ],
   "source": [
    "# display the parameters\n",
    "print('Model intercept: ', regr.intercept_)\n",
    "print('Model coefficients: ', regr.coef_)"
   ]
  },
  {
   "cell_type": "code",
   "execution_count": 57,
   "id": "annoying-justice",
   "metadata": {
    "colab": {
     "base_uri": "https://localhost:8080/"
    },
    "id": "EWpkxjYbe8MP",
    "outputId": "24016df6-285f-4f76-eeb9-5c4e772773cb"
   },
   "outputs": [
    {
     "name": "stdout",
     "output_type": "stream",
     "text": [
      "R2 score: 0.21186363020947374\n"
     ]
    }
   ],
   "source": [
    "print('R2 score:', metrics.r2_score(y_test, y_pred))"
   ]
  },
  {
   "cell_type": "code",
   "execution_count": 58,
   "id": "fourth-jersey",
   "metadata": {},
   "outputs": [
    {
     "data": {
      "image/png": "[encoded data removed]",
      "text/plain": [
       "<Figure size 864x576 with 1 Axes>"
      ]
     },
     "metadata": {
      "needs_background": "light"
     },
     "output_type": "display_data"
    }
   ],
   "source": [
    "fig, ax = plt.subplots(figsize=(12,8))\n",
    "ax.scatter(y_test, y_pred, c='green')\n",
    "ax.plot([y_test.min(), y_test.max()], [y.min(), y.max()], 'k--', lw=4)\n",
    "ax.set_xlabel('Observed 2019 Environmental Intesity')\n",
    "ax.set_ylabel('Predicted 2019 Environmental Intesity')\n",
    "ax.set_title('Linear Regression- Predicting 2019 Environmental intensity using 2017- 2018 industry indicator');"
   ]
  },
  {
   "cell_type": "markdown",
   "id": "preliminary-disaster",
   "metadata": {
    "id": "rIs2crAVe8MP"
   },
   "source": [
    "The industry indicator isn't a good predictor for environmental intensity. \n",
    "\n",
    "Let's try including 2016-2018 to predict 2019 environmental intensity. "
   ]
  },
  {
   "cell_type": "code",
   "execution_count": 59,
   "id": "finished-large",
   "metadata": {
    "colab": {
     "base_uri": "https://localhost:8080/",
     "height": 204
    },
    "id": "IP1_Vbp0e8MP",
    "outputId": "1e6cd1cd-c3c4-431f-e177-34db3169d43b"
   },
   "outputs": [
    {
     "data": {
      "text/html": [
       "<div>\n",
       "<style scoped>\n",
       "    .dataframe tbody tr th:only-of-type {\n",
       "        vertical-align: middle;\n",
       "    }\n",
       "\n",
       "    .dataframe tbody tr th {\n",
       "        vertical-align: top;\n",
       "    }\n",
       "\n",
       "    .dataframe thead th {\n",
       "        text-align: right;\n",
       "    }\n",
       "</style>\n",
       "<table border=\"1\" class=\"dataframe\">\n",
       "  <thead>\n",
       "    <tr style=\"text-align: right;\">\n",
       "      <th></th>\n",
       "      <th>Year</th>\n",
       "      <th>CompanyName</th>\n",
       "      <th>Env_intensity2019</th>\n",
       "      <th>Ind_Indicator_2018</th>\n",
       "      <th>Ind_Indicator_2017</th>\n",
       "      <th>Ind_Indicator_2016</th>\n",
       "    </tr>\n",
       "  </thead>\n",
       "  <tbody>\n",
       "    <tr>\n",
       "      <th>0</th>\n",
       "      <td>2019</td>\n",
       "      <td>3M COMPANY</td>\n",
       "      <td>-0.0641</td>\n",
       "      <td>1</td>\n",
       "      <td>1</td>\n",
       "      <td>1</td>\n",
       "    </tr>\n",
       "    <tr>\n",
       "      <th>1</th>\n",
       "      <td>2019</td>\n",
       "      <td>A.G.V. PRODUCTS CORP</td>\n",
       "      <td>-0.0172</td>\n",
       "      <td>1</td>\n",
       "      <td>1</td>\n",
       "      <td>1</td>\n",
       "    </tr>\n",
       "    <tr>\n",
       "      <th>2</th>\n",
       "      <td>2019</td>\n",
       "      <td>AA PLC</td>\n",
       "      <td>-0.0070</td>\n",
       "      <td>1</td>\n",
       "      <td>1</td>\n",
       "      <td>1</td>\n",
       "    </tr>\n",
       "    <tr>\n",
       "      <th>3</th>\n",
       "      <td>2019</td>\n",
       "      <td>AAC TECHNOLOGIES HOLDINGS INCORPORATION</td>\n",
       "      <td>-0.1080</td>\n",
       "      <td>-1</td>\n",
       "      <td>-1</td>\n",
       "      <td>-1</td>\n",
       "    </tr>\n",
       "    <tr>\n",
       "      <th>4</th>\n",
       "      <td>2019</td>\n",
       "      <td>AAREAL BANK AG</td>\n",
       "      <td>-0.0015</td>\n",
       "      <td>1</td>\n",
       "      <td>1</td>\n",
       "      <td>1</td>\n",
       "    </tr>\n",
       "  </tbody>\n",
       "</table>\n",
       "</div>"
      ],
      "text/plain": [
       "   Year                              CompanyName  Env_intensity2019  \\\n",
       "0  2019                               3M COMPANY            -0.0641   \n",
       "1  2019                     A.G.V. PRODUCTS CORP            -0.0172   \n",
       "2  2019                                   AA PLC            -0.0070   \n",
       "3  2019  AAC TECHNOLOGIES HOLDINGS INCORPORATION            -0.1080   \n",
       "4  2019                           AAREAL BANK AG            -0.0015   \n",
       "\n",
       "   Ind_Indicator_2018  Ind_Indicator_2017  Ind_Indicator_2016  \n",
       "0                   1                   1                   1  \n",
       "1                   1                   1                   1  \n",
       "2                   1                   1                   1  \n",
       "3                  -1                  -1                  -1  \n",
       "4                   1                   1                   1  "
      ]
     },
     "execution_count": 59,
     "metadata": {},
     "output_type": "execute_result"
    }
   ],
   "source": [
    "df_2016=df_industry_count4[df_industry_count4['Year'] == 2016]\n",
    "df2016=df_2016[['CompanyName','Industry_indicator_year']]\n",
    "df2016.rename(columns={'Industry_indicator_year': 'Ind_Indicator_2016'}, inplace=True) \n",
    "\n",
    "mdl4 = pd.merge(df2019, df2018, on=[\"CompanyName\"])\n",
    "mdl4= pd.merge(mdl4, df2017, on=[\"CompanyName\"])\n",
    "mdl4= pd.merge(mdl4, df2016, on=[\"CompanyName\"])\n",
    "mdl4.head()"
   ]
  },
  {
   "cell_type": "code",
   "execution_count": 60,
   "id": "sublime-microphone",
   "metadata": {
    "colab": {
     "base_uri": "https://localhost:8080/"
    },
    "id": "r7YqZBI3e8MP",
    "outputId": "bd522c07-a266-4eb5-ed19-8bc439bb08bc"
   },
   "outputs": [
    {
     "name": "stdout",
     "output_type": "stream",
     "text": [
      "(1065, 3)\n",
      "(1065,)\n"
     ]
    }
   ],
   "source": [
    "X = mdl4[['Ind_Indicator_2016','Ind_Indicator_2017','Ind_Indicator_2018']]\n",
    "y = mdl4['Env_intensity2019']\n",
    "print(X.shape)\n",
    "print(y.shape)"
   ]
  },
  {
   "cell_type": "code",
   "execution_count": 61,
   "id": "necessary-first",
   "metadata": {
    "colab": {
     "base_uri": "https://localhost:8080/"
    },
    "id": "QqJ-Tatde8MP",
    "outputId": "1c9cae08-5461-445a-c9f1-6101bb54134d"
   },
   "outputs": [
    {
     "name": "stdout",
     "output_type": "stream",
     "text": [
      "MSE train: 0.047, test: 0.039\n"
     ]
    }
   ],
   "source": [
    "regr = linear_model.LinearRegression()\n",
    "X_train, X_test, y_train, y_test = train_test_split(X,y,test_size=0.2,random_state=42)\n",
    "regr.fit(X_train, y_train)\n",
    "y_train_pred = regr.predict(X_train)\n",
    "y_pred = regr.predict(X_test)\n",
    "\n",
    "print('MSE train: %.3f, test: %.3f' % (metrics.mean_squared_error(y_train, y_train_pred),\n",
    "                metrics.mean_squared_error(y_test, y_pred)))"
   ]
  },
  {
   "cell_type": "code",
   "execution_count": 62,
   "id": "entertaining-stockholm",
   "metadata": {
    "colab": {
     "base_uri": "https://localhost:8080/"
    },
    "id": "xiysqbUDe8MQ",
    "outputId": "2d4eacb6-9d6b-4ee6-f860-c43909026fc9"
   },
   "outputs": [
    {
     "name": "stdout",
     "output_type": "stream",
     "text": [
      "Model intercept:  -0.14924959083044503\n",
      "Model coefficients:  [0.02269159 0.01672383 0.07522696]\n"
     ]
    }
   ],
   "source": [
    "# display the parameters\n",
    "print('Model intercept: ', regr.intercept_)\n",
    "print('Model coefficients: ', regr.coef_)"
   ]
  },
  {
   "cell_type": "code",
   "execution_count": 63,
   "id": "analyzed-leeds",
   "metadata": {
    "colab": {
     "base_uri": "https://localhost:8080/"
    },
    "id": "lnwcxbhme8MQ",
    "outputId": "fd2512c2-ea0a-485a-cda9-3c2b7691bfe1"
   },
   "outputs": [
    {
     "name": "stdout",
     "output_type": "stream",
     "text": [
      "R2 score: 0.22699240460633197\n"
     ]
    }
   ],
   "source": [
    "print('R2 score:', metrics.r2_score(y_test, y_pred))"
   ]
  },
  {
   "cell_type": "code",
   "execution_count": 64,
   "id": "greater-panic",
   "metadata": {},
   "outputs": [
    {
     "data": {
      "image/png": "[encoded data removed]",
      "text/plain": [
       "<Figure size 864x576 with 1 Axes>"
      ]
     },
     "metadata": {
      "needs_background": "light"
     },
     "output_type": "display_data"
    }
   ],
   "source": [
    "fig, ax = plt.subplots(figsize=(12,8))\n",
    "ax.scatter(y_test, y_pred, c='green')\n",
    "ax.plot([y_test.min(), y_test.max()], [y.min(), y.max()], 'k--', lw=4)\n",
    "ax.set_xlabel('Observed 2019 Environmental Intesity')\n",
    "ax.set_ylabel('Predicted 2019 Environmental Intesity')\n",
    "ax.set_title('Linear Regression- Predicting 2019 Environmental intensity using 2016- 2018 industry average environmental intensity');"
   ]
  },
  {
   "cell_type": "markdown",
   "id": "atomic-delicious",
   "metadata": {
    "id": "8rCtCNrTBbLN"
   },
   "source": [
    "### Model 5 -Growth Rate\n",
    "\n",
    "For this model, we will consider the growth rate from past years to predict the company 2019 environmental intensity.\n",
    "\n",
    "We are going to start from 2017-2018 to predict 2019."
   ]
  },
  {
   "cell_type": "code",
   "execution_count": 65,
   "id": "laden-constitutional",
   "metadata": {
    "colab": {
     "base_uri": "https://localhost:8080/",
     "height": 419
    },
    "id": "hmCjj9nze8MQ",
    "outputId": "13f93a77-2dd3-411a-e977-235686f168a2"
   },
   "outputs": [
    {
     "data": {
      "text/html": [
       "<div>\n",
       "<style scoped>\n",
       "    .dataframe tbody tr th:only-of-type {\n",
       "        vertical-align: middle;\n",
       "    }\n",
       "\n",
       "    .dataframe tbody tr th {\n",
       "        vertical-align: top;\n",
       "    }\n",
       "\n",
       "    .dataframe thead th {\n",
       "        text-align: right;\n",
       "    }\n",
       "</style>\n",
       "<table border=\"1\" class=\"dataframe\">\n",
       "  <thead>\n",
       "    <tr style=\"text-align: right;\">\n",
       "      <th></th>\n",
       "      <th>Year</th>\n",
       "      <th>CompanyName</th>\n",
       "      <th>Env_intensity2019</th>\n",
       "      <th>Environmental_Growth_2018</th>\n",
       "      <th>Environmental_Growth_2017</th>\n",
       "    </tr>\n",
       "  </thead>\n",
       "  <tbody>\n",
       "    <tr>\n",
       "      <th>0</th>\n",
       "      <td>2019</td>\n",
       "      <td>3M COMPANY</td>\n",
       "      <td>-0.0641</td>\n",
       "      <td>7.575758</td>\n",
       "      <td>-6.382979</td>\n",
       "    </tr>\n",
       "    <tr>\n",
       "      <th>1</th>\n",
       "      <td>2019</td>\n",
       "      <td>3SBIO INC</td>\n",
       "      <td>-0.0340</td>\n",
       "      <td>50.672646</td>\n",
       "      <td>NaN</td>\n",
       "    </tr>\n",
       "    <tr>\n",
       "      <th>2</th>\n",
       "      <td>2019</td>\n",
       "      <td>A.G.V. PRODUCTS CORP</td>\n",
       "      <td>-0.0172</td>\n",
       "      <td>-26.315789</td>\n",
       "      <td>11.764706</td>\n",
       "    </tr>\n",
       "    <tr>\n",
       "      <th>3</th>\n",
       "      <td>2019</td>\n",
       "      <td>AA PLC</td>\n",
       "      <td>-0.0070</td>\n",
       "      <td>-5.645161</td>\n",
       "      <td>-4.615385</td>\n",
       "    </tr>\n",
       "    <tr>\n",
       "      <th>4</th>\n",
       "      <td>2019</td>\n",
       "      <td>AAC TECHNOLOGIES HOLDINGS INCORPORATION</td>\n",
       "      <td>-0.1080</td>\n",
       "      <td>35.702200</td>\n",
       "      <td>51.928021</td>\n",
       "    </tr>\n",
       "    <tr>\n",
       "      <th>...</th>\n",
       "      <td>...</td>\n",
       "      <td>...</td>\n",
       "      <td>...</td>\n",
       "      <td>...</td>\n",
       "      <td>...</td>\n",
       "    </tr>\n",
       "    <tr>\n",
       "      <th>1190</th>\n",
       "      <td>2019</td>\n",
       "      <td>ZEON CORPORATION</td>\n",
       "      <td>-0.0730</td>\n",
       "      <td>-1.272265</td>\n",
       "      <td>-10.273973</td>\n",
       "    </tr>\n",
       "    <tr>\n",
       "      <th>1191</th>\n",
       "      <td>2019</td>\n",
       "      <td>ZHEN DING TECHNOLOGY HOLDING LIMITED</td>\n",
       "      <td>-0.0602</td>\n",
       "      <td>1.990050</td>\n",
       "      <td>-30.927835</td>\n",
       "    </tr>\n",
       "    <tr>\n",
       "      <th>1192</th>\n",
       "      <td>2019</td>\n",
       "      <td>ZIG SHENG INDUSTRIAL COMPANY LIMITED</td>\n",
       "      <td>-0.1615</td>\n",
       "      <td>-4.232425</td>\n",
       "      <td>-20.251716</td>\n",
       "    </tr>\n",
       "    <tr>\n",
       "      <th>1193</th>\n",
       "      <td>2019</td>\n",
       "      <td>ZORLU ENERJI AS</td>\n",
       "      <td>-0.3430</td>\n",
       "      <td>48.046057</td>\n",
       "      <td>-81.144737</td>\n",
       "    </tr>\n",
       "    <tr>\n",
       "      <th>1194</th>\n",
       "      <td>2019</td>\n",
       "      <td>ZUMTOBEL AG</td>\n",
       "      <td>-0.0051</td>\n",
       "      <td>2.380952</td>\n",
       "      <td>-19.230769</td>\n",
       "    </tr>\n",
       "  </tbody>\n",
       "</table>\n",
       "<p>1195 rows × 5 columns</p>\n",
       "</div>"
      ],
      "text/plain": [
       "      Year                              CompanyName  Env_intensity2019  \\\n",
       "0     2019                               3M COMPANY            -0.0641   \n",
       "1     2019                                3SBIO INC            -0.0340   \n",
       "2     2019                     A.G.V. PRODUCTS CORP            -0.0172   \n",
       "3     2019                                   AA PLC            -0.0070   \n",
       "4     2019  AAC TECHNOLOGIES HOLDINGS INCORPORATION            -0.1080   \n",
       "...    ...                                      ...                ...   \n",
       "1190  2019                         ZEON CORPORATION            -0.0730   \n",
       "1191  2019     ZHEN DING TECHNOLOGY HOLDING LIMITED            -0.0602   \n",
       "1192  2019     ZIG SHENG INDUSTRIAL COMPANY LIMITED            -0.1615   \n",
       "1193  2019                          ZORLU ENERJI AS            -0.3430   \n",
       "1194  2019                              ZUMTOBEL AG            -0.0051   \n",
       "\n",
       "      Environmental_Growth_2018  Environmental_Growth_2017  \n",
       "0                      7.575758                  -6.382979  \n",
       "1                     50.672646                        NaN  \n",
       "2                    -26.315789                  11.764706  \n",
       "3                     -5.645161                  -4.615385  \n",
       "4                     35.702200                  51.928021  \n",
       "...                         ...                        ...  \n",
       "1190                  -1.272265                 -10.273973  \n",
       "1191                   1.990050                 -30.927835  \n",
       "1192                  -4.232425                 -20.251716  \n",
       "1193                  48.046057                 -81.144737  \n",
       "1194                   2.380952                 -19.230769  \n",
       "\n",
       "[1195 rows x 5 columns]"
      ]
     },
     "execution_count": 65,
     "metadata": {},
     "output_type": "execute_result"
    }
   ],
   "source": [
    "df_2019=df[df['Year'] == 2019]\n",
    "df_2018=df[df['Year'] == 2018]\n",
    "df_2017=df[df['Year'] == 2017]\n",
    "\n",
    "df2019=df_2019[['Year','CompanyName','Env_intensity']] \n",
    "df2019.rename(columns={'Env_intensity': 'Env_intensity2019'}, inplace=True) \n",
    "df2018=df_2018[['CompanyName','Environmental_Growth']]\n",
    "df2018.rename(columns={'Environmental_Growth': 'Environmental_Growth_2018'}, inplace=True) \n",
    "df2017=df_2017[['CompanyName','Environmental_Growth']]\n",
    "df2017.rename(columns={'Environmental_Growth': 'Environmental_Growth_2017'}, inplace=True) \n",
    "mdl5 = pd.merge(df2019, df2018, on=[\"CompanyName\"])\n",
    "mdl5= pd.merge(mdl5, df2017, on=[\"CompanyName\"])\n",
    "mdl5"
   ]
  },
  {
   "cell_type": "code",
   "execution_count": 66,
   "id": "through-corporation",
   "metadata": {
    "colab": {
     "base_uri": "https://localhost:8080/"
    },
    "id": "_jic-gX9hvkb",
    "outputId": "d291bee0-2b13-47c1-dc0e-702fdfdd4f70"
   },
   "outputs": [
    {
     "data": {
      "text/plain": [
       "(1094, 5)"
      ]
     },
     "execution_count": 66,
     "metadata": {},
     "output_type": "execute_result"
    }
   ],
   "source": [
    "mdl5.dropna(inplace = True)#delete rows with missing values\n",
    "mdl5.shape"
   ]
  },
  {
   "cell_type": "code",
   "execution_count": 67,
   "id": "balanced-michael",
   "metadata": {
    "colab": {
     "base_uri": "https://localhost:8080/"
    },
    "id": "x87qj419iLBd",
    "outputId": "ed26dc8e-4207-4416-ffcb-4f67f3067494"
   },
   "outputs": [
    {
     "name": "stdout",
     "output_type": "stream",
     "text": [
      "(1094, 2)\n",
      "(1094,)\n"
     ]
    }
   ],
   "source": [
    "X=mdl5[['Environmental_Growth_2017','Environmental_Growth_2018']]\n",
    "y=mdl5['Env_intensity2019']\n",
    "print(X.shape)\n",
    "print(y.shape)"
   ]
  },
  {
   "cell_type": "code",
   "execution_count": 68,
   "id": "athletic-packaging",
   "metadata": {
    "id": "9V0HjSpLh2_i"
   },
   "outputs": [],
   "source": [
    "regr = linear_model.LinearRegression()\n",
    "X_train, X_test, y_train, y_test = train_test_split(X,y,test_size=0.2,random_state=42)\n",
    "regr.fit(X_train, y_train)\n",
    "y_train_pred = regr.predict(X_train)\n",
    "y_pred = regr.predict(X_test)"
   ]
  },
  {
   "cell_type": "code",
   "execution_count": 69,
   "id": "environmental-charlotte",
   "metadata": {
    "colab": {
     "base_uri": "https://localhost:8080/"
    },
    "id": "ojXEXIyLiWRc",
    "outputId": "13074443-ece7-4a35-b0db-7f0ea96a9d4e"
   },
   "outputs": [
    {
     "name": "stdout",
     "output_type": "stream",
     "text": [
      "MSE train: 0.053, test: 0.083\n"
     ]
    }
   ],
   "source": [
    "print('MSE train: %.3f, test: %.3f' % (metrics.mean_squared_error(y_train, y_train_pred),\n",
    "                metrics.mean_squared_error(y_test, y_pred)))"
   ]
  },
  {
   "cell_type": "code",
   "execution_count": 70,
   "id": "internal-accommodation",
   "metadata": {
    "colab": {
     "base_uri": "https://localhost:8080/"
    },
    "id": "bbKxgMMgiY7j",
    "outputId": "a9eafbb2-59a6-4b9d-f55b-25a6f746f4c0"
   },
   "outputs": [
    {
     "name": "stdout",
     "output_type": "stream",
     "text": [
      "Model intercept:  -0.10344845492642087\n",
      "Model coefficients:  [-1.28035334e-04 -8.51885195e-05]\n"
     ]
    }
   ],
   "source": [
    "# display the parameters\n",
    "print('Model intercept: ', regr.intercept_)\n",
    "print('Model coefficients: ', regr.coef_)"
   ]
  },
  {
   "cell_type": "code",
   "execution_count": 71,
   "id": "trying-longitude",
   "metadata": {
    "colab": {
     "base_uri": "https://localhost:8080/"
    },
    "id": "I9-v46Liiba2",
    "outputId": "e13a6ec6-1290-4e56-8994-23b92b5648ff"
   },
   "outputs": [
    {
     "name": "stdout",
     "output_type": "stream",
     "text": [
      "R2 score: 0.015827756484296907\n"
     ]
    }
   ],
   "source": [
    "print('R2 score:', metrics.r2_score(y_test, y_pred))"
   ]
  },
  {
   "cell_type": "code",
   "execution_count": 72,
   "id": "confidential-superior",
   "metadata": {},
   "outputs": [
    {
     "data": {
      "image/png": "[encoded data removed]",
      "text/plain": [
       "<Figure size 864x576 with 1 Axes>"
      ]
     },
     "metadata": {
      "needs_background": "light"
     },
     "output_type": "display_data"
    }
   ],
   "source": [
    "fig, ax = plt.subplots(figsize=(12,8))\n",
    "ax.scatter(y_test, y_pred, c='green')\n",
    "ax.plot([y_test.min(), y_test.max()], [y.min(), y.max()], 'k--', lw=4)\n",
    "ax.set_xlabel('Observed 2019 Environmental Intesity')\n",
    "ax.set_ylabel('Predicted 2019 Environmental Intesity')\n",
    "ax.set_title('Linear Regression- Predicting 2019 Environmental intensity using 2017- 2018 growth rate');"
   ]
  },
  {
   "cell_type": "markdown",
   "id": "amber-ballet",
   "metadata": {
    "id": "ATYLOa_DjLzQ"
   },
   "source": [
    "The growth rate isn't a good predictor for environmental intensity. Let's try including 2016-2018 to predict 2019 environmental intensity."
   ]
  },
  {
   "cell_type": "code",
   "execution_count": 73,
   "id": "regular-campbell",
   "metadata": {
    "colab": {
     "base_uri": "https://localhost:8080/"
    },
    "id": "ELQK1t6GkxfQ",
    "outputId": "d2130491-36a2-420e-be15-13379bbd1781"
   },
   "outputs": [
    {
     "name": "stdout",
     "output_type": "stream",
     "text": [
      "<class 'pandas.core.frame.DataFrame'>\n",
      "Int64Index: 1666 entries, 0 to 14505\n",
      "Data columns (total 12 columns):\n",
      " #   Column                         Non-Null Count  Dtype  \n",
      "---  ------                         --------------  -----  \n",
      " 0   ISIN                           1666 non-null   object \n",
      " 1   Year                           1666 non-null   int64  \n",
      " 2   CompanyName                    1666 non-null   object \n",
      " 3   Country                        1666 non-null   object \n",
      " 4   Industry(Exiobase)             1666 non-null   object \n",
      " 5   EnvironmentalIntensity(Sales)  1666 non-null   object \n",
      " 6   Env_intensity                  1666 non-null   float64\n",
      " 7   industry_avg                   1666 non-null   float64\n",
      " 8   Industry_indicator             1666 non-null   int64  \n",
      " 9   industry_avg_year              1666 non-null   float64\n",
      " 10  Industry_indicator_year        1666 non-null   int64  \n",
      " 11  Environmental_Growth           1534 non-null   float64\n",
      "dtypes: float64(4), int64(3), object(5)\n",
      "memory usage: 169.2+ KB\n"
     ]
    }
   ],
   "source": [
    "df_2016=df[df['Year'] == 2016]\n",
    "df_2016.info()"
   ]
  },
  {
   "cell_type": "code",
   "execution_count": 74,
   "id": "brilliant-magazine",
   "metadata": {
    "colab": {
     "base_uri": "https://localhost:8080/"
    },
    "id": "jvtrj_iNjtcU",
    "outputId": "68171d7b-6e16-4d46-d8fd-53ebdcb5e945"
   },
   "outputs": [
    {
     "data": {
      "text/html": [
       "<div>\n",
       "<style scoped>\n",
       "    .dataframe tbody tr th:only-of-type {\n",
       "        vertical-align: middle;\n",
       "    }\n",
       "\n",
       "    .dataframe tbody tr th {\n",
       "        vertical-align: top;\n",
       "    }\n",
       "\n",
       "    .dataframe thead th {\n",
       "        text-align: right;\n",
       "    }\n",
       "</style>\n",
       "<table border=\"1\" class=\"dataframe\">\n",
       "  <thead>\n",
       "    <tr style=\"text-align: right;\">\n",
       "      <th></th>\n",
       "      <th>CompanyName</th>\n",
       "      <th>Environmental_Growth_2016</th>\n",
       "      <th>Environmental_Growth_2017</th>\n",
       "      <th>Environmental_Growth_2018</th>\n",
       "      <th>Year</th>\n",
       "      <th>Env_intensity2019</th>\n",
       "    </tr>\n",
       "  </thead>\n",
       "  <tbody>\n",
       "    <tr>\n",
       "      <th>0</th>\n",
       "      <td>3M COMPANY</td>\n",
       "      <td>8.964451</td>\n",
       "      <td>-6.382979</td>\n",
       "      <td>7.575758</td>\n",
       "      <td>2019</td>\n",
       "      <td>-0.0641</td>\n",
       "    </tr>\n",
       "    <tr>\n",
       "      <th>1</th>\n",
       "      <td>A.G.V. PRODUCTS CORP</td>\n",
       "      <td>-13.265306</td>\n",
       "      <td>11.764706</td>\n",
       "      <td>-26.315789</td>\n",
       "      <td>2019</td>\n",
       "      <td>-0.0172</td>\n",
       "    </tr>\n",
       "    <tr>\n",
       "      <th>2</th>\n",
       "      <td>AA PLC</td>\n",
       "      <td>41.304348</td>\n",
       "      <td>-4.615385</td>\n",
       "      <td>-5.645161</td>\n",
       "      <td>2019</td>\n",
       "      <td>-0.0070</td>\n",
       "    </tr>\n",
       "    <tr>\n",
       "      <th>3</th>\n",
       "      <td>AAC TECHNOLOGIES HOLDINGS INCORPORATION</td>\n",
       "      <td>-7.159905</td>\n",
       "      <td>51.928021</td>\n",
       "      <td>35.702200</td>\n",
       "      <td>2019</td>\n",
       "      <td>-0.1080</td>\n",
       "    </tr>\n",
       "    <tr>\n",
       "      <th>4</th>\n",
       "      <td>AAREAL BANK AG</td>\n",
       "      <td>9.090909</td>\n",
       "      <td>-12.500000</td>\n",
       "      <td>-9.523810</td>\n",
       "      <td>2019</td>\n",
       "      <td>-0.0015</td>\n",
       "    </tr>\n",
       "  </tbody>\n",
       "</table>\n",
       "</div>"
      ],
      "text/plain": [
       "                               CompanyName  Environmental_Growth_2016  \\\n",
       "0                               3M COMPANY                   8.964451   \n",
       "1                     A.G.V. PRODUCTS CORP                 -13.265306   \n",
       "2                                   AA PLC                  41.304348   \n",
       "3  AAC TECHNOLOGIES HOLDINGS INCORPORATION                  -7.159905   \n",
       "4                           AAREAL BANK AG                   9.090909   \n",
       "\n",
       "   Environmental_Growth_2017  Environmental_Growth_2018  Year  \\\n",
       "0                  -6.382979                   7.575758  2019   \n",
       "1                  11.764706                 -26.315789  2019   \n",
       "2                  -4.615385                  -5.645161  2019   \n",
       "3                  51.928021                  35.702200  2019   \n",
       "4                 -12.500000                  -9.523810  2019   \n",
       "\n",
       "   Env_intensity2019  \n",
       "0            -0.0641  \n",
       "1            -0.0172  \n",
       "2            -0.0070  \n",
       "3            -0.1080  \n",
       "4            -0.0015  "
      ]
     },
     "execution_count": 74,
     "metadata": {},
     "output_type": "execute_result"
    }
   ],
   "source": [
    "df_2016=df[df['Year'] == 2016]\n",
    "df2016=df_2016[['CompanyName','Environmental_Growth']]\n",
    "df2016.rename(columns={'Environmental_Growth': 'Environmental_Growth_2016'}, inplace=True) \n",
    "\n",
    "mdl5 = pd.merge(df2016, df2017, on=[\"CompanyName\"])\n",
    "mdl5= pd.merge(mdl5, df2018, on=[\"CompanyName\"])\n",
    "mdl5= pd.merge(mdl5, df2019, on=[\"CompanyName\"])\n",
    "mdl5.dropna(inplace=True)\n",
    "mdl5.head()"
   ]
  },
  {
   "cell_type": "code",
   "execution_count": 75,
   "id": "informational-warehouse",
   "metadata": {},
   "outputs": [
    {
     "name": "stdout",
     "output_type": "stream",
     "text": [
      "(1010, 3)\n",
      "(1010,)\n"
     ]
    }
   ],
   "source": [
    "X=mdl5[['Environmental_Growth_2016','Environmental_Growth_2017','Environmental_Growth_2018']]\n",
    "y=mdl5['Env_intensity2019']\n",
    "print(X.shape)\n",
    "print(y.shape)"
   ]
  },
  {
   "cell_type": "code",
   "execution_count": 76,
   "id": "burning-collection",
   "metadata": {
    "id": "a7SQliM0lbrB"
   },
   "outputs": [
    {
     "name": "stdout",
     "output_type": "stream",
     "text": [
      "MSE train: 0.050, test: 0.057\n"
     ]
    }
   ],
   "source": [
    "regr = linear_model.LinearRegression()\n",
    "X_train, X_test, y_train, y_test = train_test_split(X,y,test_size=0.2,random_state=42)\n",
    "regr.fit(X_train, y_train)\n",
    "y_train_pred = regr.predict(X_train)\n",
    "y_pred = regr.predict(X_test)\n",
    "\n",
    "print('MSE train: %.3f, test: %.3f' % (metrics.mean_squared_error(y_train, y_train_pred),\n",
    "                metrics.mean_squared_error(y_test, y_pred)))"
   ]
  },
  {
   "cell_type": "code",
   "execution_count": 77,
   "id": "motivated-federation",
   "metadata": {},
   "outputs": [
    {
     "name": "stdout",
     "output_type": "stream",
     "text": [
      "Model intercept:  -0.09843465299284881\n",
      "Model coefficients:  [ 0.0001935  -0.00012326 -0.000327  ]\n"
     ]
    }
   ],
   "source": [
    "# display the parameters\n",
    "print('Model intercept: ', regr.intercept_)\n",
    "print('Model coefficients: ', regr.coef_)"
   ]
  },
  {
   "cell_type": "code",
   "execution_count": 78,
   "id": "flexible-montgomery",
   "metadata": {},
   "outputs": [
    {
     "name": "stdout",
     "output_type": "stream",
     "text": [
      "R2 score: -0.018655694802211853\n"
     ]
    }
   ],
   "source": [
    "print('R2 score:', metrics.r2_score(y_test, y_pred))"
   ]
  },
  {
   "cell_type": "code",
   "execution_count": 79,
   "id": "rational-advocate",
   "metadata": {},
   "outputs": [
    {
     "data": {
      "image/png": "[encoded data removed]",
      "text/plain": [
       "<Figure size 864x576 with 1 Axes>"
      ]
     },
     "metadata": {
      "needs_background": "light"
     },
     "output_type": "display_data"
    }
   ],
   "source": [
    "fig, ax = plt.subplots(figsize=(12,8))\n",
    "ax.scatter(y_test, y_pred, c='green')\n",
    "ax.plot([y_test.min(), y_test.max()], [y.min(), y.max()], 'k--', lw=4)\n",
    "ax.set_xlabel('Observed 2019 Environmental Intesity')\n",
    "ax.set_ylabel('Predicted 2019 Environmental Intesity')\n",
    "ax.set_title('Linear Regression- Predicting 2019 Environmental intensity using 2016- 2018 growth rate');"
   ]
  },
  {
   "cell_type": "markdown",
   "id": "impressive-macro",
   "metadata": {
    "id": "otRewEhUe8MR"
   },
   "source": [
    "Again, we see that each coefficient is negative which could be interpret that an increase in environmental growth decreases the environmental intensity for 2019. R1 score is also negative (is worse that a horizontal line) which mean we can discard this regression.\n",
    "\n",
    "## Individual model conclusions\n",
    "\n",
    "As expected, using Environmental intensity from previous years had better accuracy to predict the next year Environmental intensity. We proved that in Model 1 and Model 2 were the regression was able to explain 88% of the variance.\n",
    "\n",
    "When using the industry average for each year, the model was able to explain around 30-34% of the variance. Moreover, by running these regressions, we concluded that the envirionmental growth from previous years isn't a good predictor.\n",
    "\n",
    "However, maybe the industry indicator and growth rate would help explain the future environmental intensity better if we combine this features with previous models. For example, predicting 2019 environmental intensity using last years environmental intensity, industry indicator, average industry and growth rate. \n",
    "\n",
    "Let's see what happens!\n",
    "\n",
    "## Building new predictive models by combinig features \n",
    "\n",
    "In this section, we will create a function to calculate the desired future environmental intensity using different features.\n",
    " "
   ]
  },
  {
   "cell_type": "code",
   "execution_count": 80,
   "id": "separated-monster",
   "metadata": {},
   "outputs": [],
   "source": [
    "years = [2016, 2017, 2018]\n",
    "df_c = df_industry_count4.copy()\n",
    "def predictiveModel(outcomeYear, pastYears, df_c):\n",
    "    years.sort()\n",
    "    for year in years:\n",
    "        data = df_c[df_c['Year'] == year]\n",
    "        data = data.loc[:,['CompanyName','Env_intensity','industry_avg_year']]\n",
    "        data.rename(columns={'Env_intensity': f'Env_intensity_{year}','industry_avg_year':f'industry_avg_year_{year}'}, inplace=True) \n",
    "        if(year == min(years)):\n",
    "            data1 = pd.DataFrame(data)\n",
    "        else:\n",
    "            data2 = pd.merge(data1, data, on=[\"CompanyName\"])\n",
    "            data1 = data2.copy()\n",
    "    data3 = df_c[df_c['Year'] == outcomeYear]\n",
    "    data3 = data3[['CompanyName','Env_intensity','industry_avg_year']]\n",
    "    data3.rename(columns={'Env_intensity': f'Env_intensity_{outcomeYear}','industry_avg_year':f'industry_avg_year_{outcomeYear}'}, inplace=True) \n",
    "    data3 = pd.merge(data3, data2, on=[\"CompanyName\"])\n",
    "    \n",
    "    filter_col = [col for col in data3 if ((col.startswith('Env_intensity') and not(col.endswith(f'{outcomeYear}')))) or ((col.startswith('industry_avg_year') and not(col.endswith(f'{outcomeYear}'))))]\n",
    "    outcome_col = [col for col in data3 if (col.startswith('Env_intensity') and col.endswith(f'{outcomeYear}'))]\n",
    "    X=data3[filter_col]\n",
    "    y=data3[outcome_col]\n",
    "    \n",
    "    regr = linear_model.LinearRegression()\n",
    "    X_train, X_test, y_train, y_test = train_test_split(X,y,test_size=0.2,random_state=42)\n",
    "    regr.fit(X_train, y_train)\n",
    "    y_train_pred = regr.predict(X_train)\n",
    "    y_pred = regr.predict(X_test)\n",
    "\n",
    "    print('MSE train: %.3f, test: %.3f' % (metrics.mean_squared_error(y_train, y_train_pred),\n",
    "                    metrics.mean_squared_error(y_test, y_pred)))\n",
    "    \n",
    "    # display the parameters\n",
    "    print('Model intercept: ', regr.intercept_)\n",
    "    print('Model coefficients: ', regr.coef_)\n",
    "    \n",
    "    print('R2 score:', metrics.r2_score(y_test, y_pred))\n",
    "    \n",
    "    fig, ax = plt.subplots(figsize=(12,8))\n",
    "    ax.scatter(y_test, y_pred, c='green')\n",
    "    ax.plot([y_test.min(), y_test.max()], [y.min(), y.max()], 'k--', lw=4)\n",
    "    ax.set_xlabel(f'Observed {outcomeYear} Environmental Intesity')\n",
    "    ax.set_ylabel(f'Predicted {outcomeYear} Environmental Intesity')\n",
    "    ax.set_title(f'Predicting {outcomeYear} Environmental intensity using {years} environmental intensity and industry average');"
   ]
  },
  {
   "cell_type": "code",
   "execution_count": 81,
   "id": "tropical-sight",
   "metadata": {},
   "outputs": [
    {
     "name": "stdout",
     "output_type": "stream",
     "text": [
      "MSE train: 0.007, test: 0.003\n",
      "Model intercept:  [-0.00057703]\n",
      "Model coefficients:  [[-0.01184595 -0.15828118 -0.1777978  -0.09734991  1.08688792  0.29898607]]\n",
      "R2 score: 0.9458906332169734\n"
     ]
    },
    {
     "data": {
      "image/png": "[encoded data removed]",
      "text/plain": [
       "<Figure size 864x576 with 1 Axes>"
      ]
     },
     "metadata": {
      "needs_background": "light"
     },
     "output_type": "display_data"
    }
   ],
   "source": [
    "predictiveModel(2019, years, df_c)"
   ]
  },
  {
   "cell_type": "markdown",
   "id": "noticed-there",
   "metadata": {},
   "source": [
    "Now, we are going to create another function that will create a predictive model using environmental intensity, industry average and industry indicator."
   ]
  },
  {
   "cell_type": "code",
   "execution_count": 82,
   "id": "bigger-following",
   "metadata": {},
   "outputs": [],
   "source": [
    "def predictiveModel1(outcomeYear, pastYears, df_c):\n",
    "    years.sort()\n",
    "    for year in years:\n",
    "        data = df_c[df_c['Year'] == year]\n",
    "        data = data.loc[:,['CompanyName','Env_intensity','industry_avg_year','Industry_indicator_year']]\n",
    "        data.rename(columns={'Env_intensity': f'Env_intensity_{year}','industry_avg_year':f'industry_avg_year_{year}', 'Industry_indicator_year' : f'Industry_indicator_year_{year}'}, inplace=True) \n",
    "        if(year == min(years)):\n",
    "            data1 = pd.DataFrame(data)\n",
    "        else:\n",
    "            data2 = pd.merge(data1, data, on=[\"CompanyName\"])\n",
    "            data1 = data2.copy()\n",
    "    data3 = df_c[df_c['Year'] == outcomeYear]\n",
    "    data3 = data3[['CompanyName','Env_intensity']]\n",
    "    data3.rename(columns={'Env_intensity': f'Env_intensity_{outcomeYear}'}, inplace=True) \n",
    "    data3 = pd.merge(data3, data2, on=[\"CompanyName\"])\n",
    "    \n",
    "    filter_col = [col for col in data3 if ((col.startswith('Env_intensity') and not(col.endswith(f'{outcomeYear}')))) or ((col.startswith('industry_avg_year') and not(col.endswith(f'{outcomeYear}')))) or ((col.startswith('Industry_indicator_year_') and not(col.endswith(f'{outcomeYear}'))))]            \n",
    "    outcome_col = [col for col in data3 if (col.startswith('Env_intensity') and col.endswith(f'{outcomeYear}'))]\n",
    "    X=data3[filter_col]\n",
    "    y=data3[outcome_col]\n",
    "    \n",
    "    regr = linear_model.LinearRegression()\n",
    "    X_train, X_test, y_train, y_test = train_test_split(X,y,test_size=0.2,random_state=42)\n",
    "    regr.fit(X_train, y_train)\n",
    "    y_train_pred = regr.predict(X_train)\n",
    "    y_pred = regr.predict(X_test)\n",
    "\n",
    "    print('MSE train: %.3f, test: %.3f' % (metrics.mean_squared_error(y_train, y_train_pred),\n",
    "                    metrics.mean_squared_error(y_test, y_pred)))\n",
    "    \n",
    "    # display the parameters\n",
    "    print('Model intercept: ', regr.intercept_)\n",
    "    print('Model coefficients: ', regr.coef_)\n",
    "    \n",
    "    print('R2 score:', metrics.r2_score(y_test, y_pred))\n",
    "    \n",
    "    fig, ax = plt.subplots(figsize=(12,8))\n",
    "    ax.scatter(y_test, y_pred, c='red')\n",
    "    ax.plot([y_test.min(), y_test.max()], [y.min(), y.max()], 'k--', lw=4)\n",
    "    ax.set_xlabel(f'Observed {outcomeYear} Environmental Intesity')\n",
    "    ax.set_ylabel(f'Predicted {outcomeYear} Environmental Intesity')\n",
    "    ax.set_title(f'Predicting {outcomeYear} Environmental intensity using {years} environmental intensity, industry average and industry indicator');"
   ]
  },
  {
   "cell_type": "code",
   "execution_count": 83,
   "id": "informal-developer",
   "metadata": {},
   "outputs": [
    {
     "name": "stdout",
     "output_type": "stream",
     "text": [
      "MSE train: 0.007, test: 0.003\n",
      "Model intercept:  [-0.00054624]\n",
      "Model coefficients:  [[-0.01778571 -0.14500433  0.00410858 -0.18026925 -0.09273773  0.00114723\n",
      "   1.09366632  0.28265093 -0.00444881]]\n",
      "R2 score: 0.9465508192299915\n"
     ]
    },
    {
     "data": {
      "image/png": "[encoded data removed]",
      "text/plain": [
       "<Figure size 864x576 with 1 Axes>"
      ]
     },
     "metadata": {
      "needs_background": "light"
     },
     "output_type": "display_data"
    }
   ],
   "source": [
    "predictiveModel1(2019, years, df_c)"
   ]
  },
  {
   "cell_type": "markdown",
   "id": "subsequent-saturn",
   "metadata": {},
   "source": [
    "Now, we are going to create a third function that will create a predictive model using past years environmental intensity, industry average, industry indicator and environmental growth. "
   ]
  },
  {
   "cell_type": "code",
   "execution_count": 84,
   "id": "healthy-thanks",
   "metadata": {},
   "outputs": [],
   "source": [
    "def predictiveModel3(outcomeYear, pastYears, df_c):\n",
    "    years.sort()\n",
    "    for year in years:\n",
    "        data = df_c[df_c['Year'] == year]\n",
    "        data = data.loc[:,['CompanyName','Env_intensity','industry_avg_year','Industry_indicator_year','Environmental_Growth']]\n",
    "        data.rename(columns={'Env_intensity': f'Env_intensity_{year}','industry_avg_year':f'industry_avg_year_{year}', 'Industry_indicator_year' : f'Industry_indicator_year_{year}', 'Environmental_Growth': f'Environmental_Growth_{year}'}, inplace=True) \n",
    "        if(year == min(years)):\n",
    "            data1 = pd.DataFrame(data)\n",
    "        else:\n",
    "            data2 = pd.merge(data1, data, on=[\"CompanyName\"])\n",
    "            data1 = data2.copy()\n",
    "    data2.dropna(inplace=True)\n",
    "    data3 = df_c[df_c['Year'] == outcomeYear]\n",
    "    data3 = data3[['CompanyName','Env_intensity']]\n",
    "    data3.rename(columns={'Env_intensity': f'Env_intensity_{outcomeYear}'}, inplace=True) \n",
    "    data3 = pd.merge(data3, data2, on=[\"CompanyName\"])\n",
    "    \n",
    "    filter_col = [col for col in data3 if ((col.startswith('Env_intensity') and not(col.endswith(f'{outcomeYear}')))) or ((col.startswith('industry_avg_year') and not(col.endswith(f'{outcomeYear}')))) or ((col.startswith('Industry_indicator_year_') and not(col.endswith(f'{outcomeYear}')))) or ((col.startswith('Environmental_Growth_') and not(col.endswith(f'{outcomeYear}'))))]            \n",
    "    outcome_col = [col for col in data3 if (col.startswith('Env_intensity') and col.endswith(f'{outcomeYear}'))]\n",
    "    X=data3[filter_col]\n",
    "    y=data3[outcome_col]\n",
    "    \n",
    "    regr = linear_model.LinearRegression()\n",
    "    X_train, X_test, y_train, y_test = train_test_split(X,y,test_size=0.2,random_state=42)\n",
    "    regr.fit(X_train, y_train)\n",
    "    y_train_pred = regr.predict(X_train)\n",
    "    y_pred = regr.predict(X_test)\n",
    "\n",
    "    print('MSE train: %.3f, test: %.3f' % (metrics.mean_squared_error(y_train, y_train_pred),\n",
    "                    metrics.mean_squared_error(y_test, y_pred)))\n",
    "    \n",
    "    # display the parameters\n",
    "    print('Model intercept: ', regr.intercept_)\n",
    "    print('Model coefficients: ', regr.coef_)\n",
    "    \n",
    "    print('R2 score:', metrics.r2_score(y_test, y_pred))\n",
    "    \n",
    "    fig, ax = plt.subplots(figsize=(12,8))\n",
    "    ax.scatter(y_test, y_pred, c='blue')\n",
    "    ax.plot([y_test.min(), y_test.max()], [y.min(), y.max()], 'k--', lw=4)\n",
    "    ax.set_xlabel(f'Observed {outcomeYear} Environmental Intesity')\n",
    "    ax.set_ylabel(f'Predicted {outcomeYear} Environmental Intesity')\n",
    "    ax.set_title(f'Predicting {outcomeYear} Environmental intensity using {years} environmental intensity, industry average, industry indicator and environmental growth');\n",
    "    \n",
    "    \n",
    "    "
   ]
  },
  {
   "cell_type": "code",
   "execution_count": 85,
   "id": "complimentary-dance",
   "metadata": {},
   "outputs": [
    {
     "name": "stdout",
     "output_type": "stream",
     "text": [
      "MSE train: 0.007, test: 0.006\n",
      "Model intercept:  [0.00042707]\n",
      "Model coefficients:  [[-3.57050028e-02 -3.78767304e-01  7.82484846e-03  2.45351332e-04\n",
      "  -3.35314980e-01  1.42406825e-01  5.22876608e-03 -1.84557134e-05\n",
      "   1.22949797e+00  3.53350072e-01 -8.44622269e-03  1.62779214e-04]]\n",
      "R2 score: 0.8928299824780621\n"
     ]
    },
    {
     "data": {
      "image/png": "[encoded data removed]",
      "text/plain": [
       "<Figure size 864x576 with 1 Axes>"
      ]
     },
     "metadata": {
      "needs_background": "light"
     },
     "output_type": "display_data"
    }
   ],
   "source": [
    "predictiveModel3(2019, years, df_c)"
   ]
  },
  {
   "cell_type": "markdown",
   "id": "romantic-plaza",
   "metadata": {},
   "source": [
    "## Conclusion - Predictive models\n",
    "\n",
    "Awesome results! By combining the predictors from the individual models, we were able to yield a lowers MSE and a higher R2 Score. When using past years environmental intensity and indsutry average, the linear model is able to explain 94.5% of the variance in the dataset. By including the industry indicator, it explains 94.6% and lastly, by including all four, it explains 90% of the variance. Even the lowest R2 Score (90%) was able to explain more than when considering the models with only one predictor. \n",
    "\n",
    "## Collect the Company Description\n",
    "\n",
    "In this section, we will grab the company description directly from the Yahoo Finance website. We started with the pilot stocks but plan to see the possibility of mapping the ISIN with their corresponding ticker and be able to grab the company description"
   ]
  },
  {
   "cell_type": "code",
   "execution_count": 86,
   "id": "toxic-arkansas",
   "metadata": {
    "id": "y2jk8L-9e8MR"
   },
   "outputs": [],
   "source": [
    "tickers_df = pd.read_csv('/Users/maralinetorres/Documents/GitHub/Predicting-Environmental-and-Social-Actions/Datasets/52_tickers_sectors.csv')"
   ]
  },
  {
   "cell_type": "code",
   "execution_count": 87,
   "id": "located-perfume",
   "metadata": {
    "id": "rVUJ6qFce8MR"
   },
   "outputs": [],
   "source": [
    "tickers = tickers_df.Ticker"
   ]
  },
  {
   "cell_type": "code",
   "execution_count": 88,
   "id": "latest-interaction",
   "metadata": {
    "id": "MlMORJFte8MR"
   },
   "outputs": [],
   "source": [
    "# Create a loop to store URLs of all stocks' description page\n",
    "URL = [] \n",
    "DES = [] \n",
    "comp_desc = {}\n",
    "for i in tickers: \n",
    "  url ='https://finance.yahoo.com/quote/'+i+'/profile' \n",
    "  URL.append(url)\n",
    "  page = requests.get(url) # visits the URL \n",
    "  htmldata = BeautifulSoup(page.content, 'html.parser')\n",
    "  Business_Description = htmldata.find('p',{'class':'Mt(15px) Lh(1.6)'}) # finds the business description part in the HTML code\n",
    "  DES.append(Business_Description)\n",
    "  comp_desc[i] = [Business_Description]"
   ]
  },
  {
   "cell_type": "code",
   "execution_count": 89,
   "id": "ready-observation",
   "metadata": {},
   "outputs": [
    {
     "data": {
      "text/html": [
       "<div>\n",
       "<style scoped>\n",
       "    .dataframe tbody tr th:only-of-type {\n",
       "        vertical-align: middle;\n",
       "    }\n",
       "\n",
       "    .dataframe tbody tr th {\n",
       "        vertical-align: top;\n",
       "    }\n",
       "\n",
       "    .dataframe thead th {\n",
       "        text-align: right;\n",
       "    }\n",
       "</style>\n",
       "<table border=\"1\" class=\"dataframe\">\n",
       "  <thead>\n",
       "    <tr style=\"text-align: right;\">\n",
       "      <th></th>\n",
       "      <th>Ticker</th>\n",
       "      <th>Description</th>\n",
       "    </tr>\n",
       "  </thead>\n",
       "  <tbody>\n",
       "    <tr>\n",
       "      <th>0</th>\n",
       "      <td>AEE</td>\n",
       "      <td>None</td>\n",
       "    </tr>\n",
       "    <tr>\n",
       "      <th>1</th>\n",
       "      <td>AEP</td>\n",
       "      <td>None</td>\n",
       "    </tr>\n",
       "    <tr>\n",
       "      <th>2</th>\n",
       "      <td>AES</td>\n",
       "      <td>None</td>\n",
       "    </tr>\n",
       "    <tr>\n",
       "      <th>3</th>\n",
       "      <td>APA</td>\n",
       "      <td>None</td>\n",
       "    </tr>\n",
       "    <tr>\n",
       "      <th>4</th>\n",
       "      <td>ATO</td>\n",
       "      <td>None</td>\n",
       "    </tr>\n",
       "  </tbody>\n",
       "</table>\n",
       "</div>"
      ],
      "text/plain": [
       "  Ticker Description\n",
       "0    AEE        None\n",
       "1    AEP        None\n",
       "2    AES        None\n",
       "3    APA        None\n",
       "4    ATO        None"
      ]
     },
     "execution_count": 89,
     "metadata": {},
     "output_type": "execute_result"
    }
   ],
   "source": [
    "df_comp_desc = pd.DataFrame.from_dict(comp_desc, orient='index', columns = ['Description'])\n",
    "df_comp_desc.reset_index(inplace = True)\n",
    "df_comp_desc.rename(columns = {'index':'Ticker'}, inplace=True)\n",
    "df_comp_desc.head()"
   ]
  },
  {
   "cell_type": "code",
   "execution_count": 90,
   "id": "through-lunch",
   "metadata": {},
   "outputs": [],
   "source": [
    "df_comp_desc.to_csv('52ticker_companydescription.csv',index=False)"
   ]
  },
  {
   "cell_type": "markdown",
   "id": "changing-times",
   "metadata": {
    "id": "3DEKQVp4e8MS"
   },
   "source": [
    "In the next sprint, we plan to do some text analysis to the company descriptions (tokenizations, sentiment, etc) and maybe consider adding the company description to the Sprint #4 models to better predict the GHG Scope 1. "
   ]
  }
 ],
 "metadata": {
  "colab": {
   "name": "Sprint6_PredictingTimeSeries1.ipynb",
   "provenance": []
  },
  "kernelspec": {
   "display_name": "Python 3",
   "language": "python",
   "name": "python3"
  },
  "language_info": {
   "codemirror_mode": {
    "name": "ipython",
    "version": 3
   },
   "file_extension": ".py",
   "mimetype": "text/x-python",
   "name": "python",
   "nbconvert_exporter": "python",
   "pygments_lexer": "ipython3",
   "version": "3.8.8"
  }
 },
 "nbformat": 4,
 "nbformat_minor": 5
}
