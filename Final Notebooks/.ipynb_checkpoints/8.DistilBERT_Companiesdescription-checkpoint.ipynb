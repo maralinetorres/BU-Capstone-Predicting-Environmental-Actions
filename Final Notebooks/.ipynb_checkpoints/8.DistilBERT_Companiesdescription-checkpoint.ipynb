{
 "cells": [
  {
   "cell_type": "markdown",
   "metadata": {
    "id": "prescribed-polyester"
   },
   "source": [
    "## Text Analysis - Companies description \n",
    "\n",
    "In this notebook, we will do some text analysis for the companies existing in the WRDS and Harvard Business School, Impact-Weighted Accounts Project report.\n",
    "\n",
    "We will apply some Nature Language Processing (NLP) using the pre-trained DistilBERT. First, we need to merge the datasets and obtain the companies description from Yahoo Finance. "
   ]
  },
  {
   "cell_type": "code",
   "execution_count": 1,
   "metadata": {
    "id": "described-hammer"
   },
   "outputs": [],
   "source": [
    "import pandas as pd\n",
    "import numpy as np\n",
    "import seaborn as sns\n",
    "import matplotlib.pyplot as plt\n",
    "import missingno as msno\n",
    "import warnings\n",
    "from sklearn import linear_model\n",
    "from sklearn import metrics\n",
    "from sklearn.linear_model import LinearRegression\n",
    "from sklearn.model_selection import train_test_split\n",
    "import requests\n",
    "from bs4 import BeautifulSoup\n",
    "warnings.filterwarnings('ignore')\n",
    "\n",
    "## Useful for the DistilBERT model\n",
    "import torch\n",
    "import transformers as ppb # pytorch transformers\n",
    "from sklearn.linear_model import LogisticRegression\n",
    "from sklearn.model_selection import cross_val_score\n",
    "from sklearn.model_selection import train_test_split"
   ]
  },
  {
   "cell_type": "code",
   "execution_count": 2,
   "metadata": {
    "id": "maritime-director"
   },
   "outputs": [],
   "source": [
    "df_ishares = pd.read_csv('/Users/maralinetorres/Documents/GitHub/Predicting-Environmental-and-Social-Actions/Datasets/iShares-merged.csv')\n",
    "df_ei = pd.read_csv('/Users/maralinetorres/Documents/GitHub/Predicting-Environmental-and-Social-Actions/Datasets/Environmental_impact_cleaned.csv')\n",
    "stocks = pd.read_csv(\"/Users/maralinetorres/Documents/GitHub/Predicting-Environmental-and-Social-Actions/Datasets/pilot_stocks.csv\")"
   ]
  },
  {
   "cell_type": "markdown",
   "metadata": {
    "id": "artificial-penguin"
   },
   "source": [
    "For the ishares, we don't need the tickers in the sector 'Cash and devirates' and we are also going to filter by the necessary columns"
   ]
  },
  {
   "cell_type": "code",
   "execution_count": 3,
   "metadata": {
    "id": "contemporary-republic",
    "outputId": "e7cc75fb-0c37-48ae-94d3-4b3eaa67a41d"
   },
   "outputs": [
    {
     "data": {
      "text/html": [
       "<div>\n",
       "<style scoped>\n",
       "    .dataframe tbody tr th:only-of-type {\n",
       "        vertical-align: middle;\n",
       "    }\n",
       "\n",
       "    .dataframe tbody tr th {\n",
       "        vertical-align: top;\n",
       "    }\n",
       "\n",
       "    .dataframe thead th {\n",
       "        text-align: right;\n",
       "    }\n",
       "</style>\n",
       "<table border=\"1\" class=\"dataframe\">\n",
       "  <thead>\n",
       "    <tr style=\"text-align: right;\">\n",
       "      <th></th>\n",
       "      <th>Ticker</th>\n",
       "      <th>Name</th>\n",
       "      <th>Sector</th>\n",
       "      <th>CUSIP</th>\n",
       "      <th>ISIN</th>\n",
       "      <th>Location</th>\n",
       "    </tr>\n",
       "  </thead>\n",
       "  <tbody>\n",
       "    <tr>\n",
       "      <th>0</th>\n",
       "      <td>AAPL</td>\n",
       "      <td>APPLE INC</td>\n",
       "      <td>Information Technology</td>\n",
       "      <td>37833100</td>\n",
       "      <td>US0378331005</td>\n",
       "      <td>United States</td>\n",
       "    </tr>\n",
       "    <tr>\n",
       "      <th>1</th>\n",
       "      <td>MSFT</td>\n",
       "      <td>MICROSOFT CORP</td>\n",
       "      <td>Information Technology</td>\n",
       "      <td>594918104</td>\n",
       "      <td>US5949181045</td>\n",
       "      <td>United States</td>\n",
       "    </tr>\n",
       "    <tr>\n",
       "      <th>2</th>\n",
       "      <td>AMZN</td>\n",
       "      <td>AMAZON COM INC</td>\n",
       "      <td>Consumer Discretionary</td>\n",
       "      <td>23135106</td>\n",
       "      <td>US0231351067</td>\n",
       "      <td>United States</td>\n",
       "    </tr>\n",
       "    <tr>\n",
       "      <th>3</th>\n",
       "      <td>TSLA</td>\n",
       "      <td>TESLA INC</td>\n",
       "      <td>Consumer Discretionary</td>\n",
       "      <td>88160R101</td>\n",
       "      <td>US88160R1014</td>\n",
       "      <td>United States</td>\n",
       "    </tr>\n",
       "    <tr>\n",
       "      <th>4</th>\n",
       "      <td>FB</td>\n",
       "      <td>FACEBOOK CLASS A INC</td>\n",
       "      <td>Communication</td>\n",
       "      <td>30303M102</td>\n",
       "      <td>US30303M1027</td>\n",
       "      <td>United States</td>\n",
       "    </tr>\n",
       "  </tbody>\n",
       "</table>\n",
       "</div>"
      ],
      "text/plain": [
       "  Ticker                  Name                  Sector      CUSIP  \\\n",
       "0   AAPL             APPLE INC  Information Technology   37833100   \n",
       "1   MSFT        MICROSOFT CORP  Information Technology  594918104   \n",
       "2   AMZN        AMAZON COM INC  Consumer Discretionary   23135106   \n",
       "3   TSLA             TESLA INC  Consumer Discretionary  88160R101   \n",
       "4     FB  FACEBOOK CLASS A INC           Communication  30303M102   \n",
       "\n",
       "           ISIN       Location  \n",
       "0  US0378331005  United States  \n",
       "1  US5949181045  United States  \n",
       "2  US0231351067  United States  \n",
       "3  US88160R1014  United States  \n",
       "4  US30303M1027  United States  "
      ]
     },
     "execution_count": 3,
     "metadata": {},
     "output_type": "execute_result"
    }
   ],
   "source": [
    "df_ishares = df_ishares.loc[df_ishares.Sector != 'Cash and/or Derivatives',['Ticker','Name','Sector','CUSIP','ISIN','Location']]\n",
    "df_ishares.drop_duplicates(inplace=True)\n",
    "df_ishares.head()"
   ]
  },
  {
   "cell_type": "code",
   "execution_count": 4,
   "metadata": {
    "id": "federal-sender",
    "outputId": "07dbfa8e-00ff-4557-aaec-4f3260d24e5e"
   },
   "outputs": [
    {
     "data": {
      "text/plain": [
       "855"
      ]
     },
     "execution_count": 4,
     "metadata": {},
     "output_type": "execute_result"
    }
   ],
   "source": [
    "len(df_ishares.Ticker.unique())"
   ]
  },
  {
   "cell_type": "code",
   "execution_count": 5,
   "metadata": {
    "id": "hundred-apartment",
    "outputId": "8eff3126-a461-4ab5-f4c0-fa82f750dcb9"
   },
   "outputs": [
    {
     "data": {
      "text/html": [
       "<div>\n",
       "<style scoped>\n",
       "    .dataframe tbody tr th:only-of-type {\n",
       "        vertical-align: middle;\n",
       "    }\n",
       "\n",
       "    .dataframe tbody tr th {\n",
       "        vertical-align: top;\n",
       "    }\n",
       "\n",
       "    .dataframe thead th {\n",
       "        text-align: right;\n",
       "    }\n",
       "</style>\n",
       "<table border=\"1\" class=\"dataframe\">\n",
       "  <thead>\n",
       "    <tr style=\"text-align: right;\">\n",
       "      <th></th>\n",
       "      <th>ISIN</th>\n",
       "      <th>CompanyName</th>\n",
       "      <th>Country</th>\n",
       "    </tr>\n",
       "  </thead>\n",
       "  <tbody>\n",
       "    <tr>\n",
       "      <th>0</th>\n",
       "      <td>DE0005545503</td>\n",
       "      <td>1&amp;1 DRILLISCH AG</td>\n",
       "      <td>Germany</td>\n",
       "    </tr>\n",
       "    <tr>\n",
       "      <th>1</th>\n",
       "      <td>GB00B1YW4409</td>\n",
       "      <td>3I GROUP PLC</td>\n",
       "      <td>United Kingdom</td>\n",
       "    </tr>\n",
       "    <tr>\n",
       "      <th>4</th>\n",
       "      <td>US88579Y1010</td>\n",
       "      <td>3M COMPANY</td>\n",
       "      <td>United States</td>\n",
       "    </tr>\n",
       "    <tr>\n",
       "      <th>14</th>\n",
       "      <td>KYG8875G1029</td>\n",
       "      <td>3SBIO INC</td>\n",
       "      <td>China</td>\n",
       "    </tr>\n",
       "    <tr>\n",
       "      <th>17</th>\n",
       "      <td>GI000A0F6407</td>\n",
       "      <td>888 HOLDINGS PLC</td>\n",
       "      <td>Gibraltar</td>\n",
       "    </tr>\n",
       "  </tbody>\n",
       "</table>\n",
       "</div>"
      ],
      "text/plain": [
       "            ISIN       CompanyName         Country\n",
       "0   DE0005545503  1&1 DRILLISCH AG         Germany\n",
       "1   GB00B1YW4409      3I GROUP PLC  United Kingdom\n",
       "4   US88579Y1010        3M COMPANY   United States\n",
       "14  KYG8875G1029         3SBIO INC           China\n",
       "17  GI000A0F6407  888 HOLDINGS PLC       Gibraltar"
      ]
     },
     "execution_count": 5,
     "metadata": {},
     "output_type": "execute_result"
    }
   ],
   "source": [
    "df_ei2 = df_ei.copy()\n",
    "df_ei2 = df_ei2.loc[:,['ISIN','CompanyName','Country']]\n",
    "df_ei2.drop_duplicates(inplace=True)\n",
    "df_ei2.head()"
   ]
  },
  {
   "cell_type": "code",
   "execution_count": 6,
   "metadata": {
    "id": "piano-gentleman",
    "outputId": "dda2b07e-d5b1-44c3-bab7-a1c30563ff31"
   },
   "outputs": [
    {
     "data": {
      "text/plain": [
       "2628"
      ]
     },
     "execution_count": 6,
     "metadata": {},
     "output_type": "execute_result"
    }
   ],
   "source": [
    "len(df_ei2.ISIN.unique())"
   ]
  },
  {
   "cell_type": "code",
   "execution_count": 7,
   "metadata": {
    "id": "impressive-truth",
    "outputId": "d895b3e7-d856-48e0-aabd-407534516910"
   },
   "outputs": [
    {
     "data": {
      "text/html": [
       "<div>\n",
       "<style scoped>\n",
       "    .dataframe tbody tr th:only-of-type {\n",
       "        vertical-align: middle;\n",
       "    }\n",
       "\n",
       "    .dataframe tbody tr th {\n",
       "        vertical-align: top;\n",
       "    }\n",
       "\n",
       "    .dataframe thead th {\n",
       "        text-align: right;\n",
       "    }\n",
       "</style>\n",
       "<table border=\"1\" class=\"dataframe\">\n",
       "  <thead>\n",
       "    <tr style=\"text-align: right;\">\n",
       "      <th></th>\n",
       "      <th>Year</th>\n",
       "      <th>Ticker</th>\n",
       "    </tr>\n",
       "  </thead>\n",
       "  <tbody>\n",
       "    <tr>\n",
       "      <th>0</th>\n",
       "      <td>2005</td>\n",
       "      <td>AEE</td>\n",
       "    </tr>\n",
       "    <tr>\n",
       "      <th>1</th>\n",
       "      <td>2006</td>\n",
       "      <td>AEE</td>\n",
       "    </tr>\n",
       "    <tr>\n",
       "      <th>2</th>\n",
       "      <td>2007</td>\n",
       "      <td>AEE</td>\n",
       "    </tr>\n",
       "    <tr>\n",
       "      <th>3</th>\n",
       "      <td>2008</td>\n",
       "      <td>AEE</td>\n",
       "    </tr>\n",
       "    <tr>\n",
       "      <th>4</th>\n",
       "      <td>2009</td>\n",
       "      <td>AEE</td>\n",
       "    </tr>\n",
       "  </tbody>\n",
       "</table>\n",
       "</div>"
      ],
      "text/plain": [
       "   Year Ticker\n",
       "0  2005    AEE\n",
       "1  2006    AEE\n",
       "2  2007    AEE\n",
       "3  2008    AEE\n",
       "4  2009    AEE"
      ]
     },
     "execution_count": 7,
     "metadata": {},
     "output_type": "execute_result"
    }
   ],
   "source": [
    "stocks = stocks.iloc[:,0:2]\n",
    "stocks.head()"
   ]
  },
  {
   "cell_type": "markdown",
   "metadata": {
    "id": "bacterial-niagara"
   },
   "source": [
    "Let's start merging the datasets. First, we are going to merge iShares and Environmental impact by ISIN. "
   ]
  },
  {
   "cell_type": "code",
   "execution_count": 8,
   "metadata": {
    "id": "invalid-language",
    "outputId": "6896a635-762a-48ce-9f90-d80f1e7cb142"
   },
   "outputs": [
    {
     "data": {
      "text/html": [
       "<div>\n",
       "<style scoped>\n",
       "    .dataframe tbody tr th:only-of-type {\n",
       "        vertical-align: middle;\n",
       "    }\n",
       "\n",
       "    .dataframe tbody tr th {\n",
       "        vertical-align: top;\n",
       "    }\n",
       "\n",
       "    .dataframe thead th {\n",
       "        text-align: right;\n",
       "    }\n",
       "</style>\n",
       "<table border=\"1\" class=\"dataframe\">\n",
       "  <thead>\n",
       "    <tr style=\"text-align: right;\">\n",
       "      <th></th>\n",
       "      <th>Ticker</th>\n",
       "      <th>Name</th>\n",
       "      <th>Sector</th>\n",
       "      <th>CUSIP</th>\n",
       "      <th>ISIN</th>\n",
       "      <th>Location</th>\n",
       "      <th>CompanyName</th>\n",
       "      <th>Country</th>\n",
       "    </tr>\n",
       "  </thead>\n",
       "  <tbody>\n",
       "    <tr>\n",
       "      <th>0</th>\n",
       "      <td>AAPL</td>\n",
       "      <td>APPLE INC</td>\n",
       "      <td>Information Technology</td>\n",
       "      <td>37833100</td>\n",
       "      <td>US0378331005</td>\n",
       "      <td>United States</td>\n",
       "      <td>NaN</td>\n",
       "      <td>NaN</td>\n",
       "    </tr>\n",
       "    <tr>\n",
       "      <th>1</th>\n",
       "      <td>MSFT</td>\n",
       "      <td>MICROSOFT CORP</td>\n",
       "      <td>Information Technology</td>\n",
       "      <td>594918104</td>\n",
       "      <td>US5949181045</td>\n",
       "      <td>United States</td>\n",
       "      <td>MICROSOFT CORPORATION</td>\n",
       "      <td>United States</td>\n",
       "    </tr>\n",
       "    <tr>\n",
       "      <th>2</th>\n",
       "      <td>AMZN</td>\n",
       "      <td>AMAZON COM INC</td>\n",
       "      <td>Consumer Discretionary</td>\n",
       "      <td>23135106</td>\n",
       "      <td>US0231351067</td>\n",
       "      <td>United States</td>\n",
       "      <td>AMAZON.COM, INC.</td>\n",
       "      <td>United States</td>\n",
       "    </tr>\n",
       "    <tr>\n",
       "      <th>3</th>\n",
       "      <td>TSLA</td>\n",
       "      <td>TESLA INC</td>\n",
       "      <td>Consumer Discretionary</td>\n",
       "      <td>88160R101</td>\n",
       "      <td>US88160R1014</td>\n",
       "      <td>United States</td>\n",
       "      <td>NaN</td>\n",
       "      <td>NaN</td>\n",
       "    </tr>\n",
       "    <tr>\n",
       "      <th>4</th>\n",
       "      <td>FB</td>\n",
       "      <td>FACEBOOK CLASS A INC</td>\n",
       "      <td>Communication</td>\n",
       "      <td>30303M102</td>\n",
       "      <td>US30303M1027</td>\n",
       "      <td>United States</td>\n",
       "      <td>FACEBOOK INCORPORATION</td>\n",
       "      <td>United States</td>\n",
       "    </tr>\n",
       "  </tbody>\n",
       "</table>\n",
       "</div>"
      ],
      "text/plain": [
       "  Ticker                  Name                  Sector      CUSIP  \\\n",
       "0   AAPL             APPLE INC  Information Technology   37833100   \n",
       "1   MSFT        MICROSOFT CORP  Information Technology  594918104   \n",
       "2   AMZN        AMAZON COM INC  Consumer Discretionary   23135106   \n",
       "3   TSLA             TESLA INC  Consumer Discretionary  88160R101   \n",
       "4     FB  FACEBOOK CLASS A INC           Communication  30303M102   \n",
       "\n",
       "           ISIN       Location             CompanyName        Country  \n",
       "0  US0378331005  United States                     NaN            NaN  \n",
       "1  US5949181045  United States   MICROSOFT CORPORATION  United States  \n",
       "2  US0231351067  United States        AMAZON.COM, INC.  United States  \n",
       "3  US88160R1014  United States                     NaN            NaN  \n",
       "4  US30303M1027  United States  FACEBOOK INCORPORATION  United States  "
      ]
     },
     "execution_count": 8,
     "metadata": {},
     "output_type": "execute_result"
    }
   ],
   "source": [
    "df = pd.merge(df_ishares, df_ei2, on='ISIN', how='outer')\n",
    "df.head()"
   ]
  },
  {
   "cell_type": "code",
   "execution_count": 9,
   "metadata": {
    "id": "recognized-creator",
    "outputId": "df03d3a5-717d-415e-a745-252c1eb28876"
   },
   "outputs": [
    {
     "name": "stdout",
     "output_type": "stream",
     "text": [
      "(3005, 8)\n",
      "856\n"
     ]
    }
   ],
   "source": [
    "print(df.shape)\n",
    "print(len(df.Ticker.unique()))"
   ]
  },
  {
   "cell_type": "code",
   "execution_count": 10,
   "metadata": {
    "id": "acceptable-draft",
    "outputId": "6505a66f-1813-4e87-834f-68c2397191c3"
   },
   "outputs": [
    {
     "name": "stdout",
     "output_type": "stream",
     "text": [
      "We are unable to match 2136 ISIN\n"
     ]
    },
    {
     "data": {
      "text/html": [
       "<div>\n",
       "<style scoped>\n",
       "    .dataframe tbody tr th:only-of-type {\n",
       "        vertical-align: middle;\n",
       "    }\n",
       "\n",
       "    .dataframe tbody tr th {\n",
       "        vertical-align: top;\n",
       "    }\n",
       "\n",
       "    .dataframe thead th {\n",
       "        text-align: right;\n",
       "    }\n",
       "</style>\n",
       "<table border=\"1\" class=\"dataframe\">\n",
       "  <thead>\n",
       "    <tr style=\"text-align: right;\">\n",
       "      <th></th>\n",
       "      <th>ISIN</th>\n",
       "      <th>CompanyName</th>\n",
       "      <th>Country</th>\n",
       "    </tr>\n",
       "  </thead>\n",
       "  <tbody>\n",
       "    <tr>\n",
       "      <th>0</th>\n",
       "      <td>DE0005545503</td>\n",
       "      <td>1&amp;1 DRILLISCH AG</td>\n",
       "      <td>Germany</td>\n",
       "    </tr>\n",
       "    <tr>\n",
       "      <th>14</th>\n",
       "      <td>KYG8875G1029</td>\n",
       "      <td>3SBIO INC</td>\n",
       "      <td>China</td>\n",
       "    </tr>\n",
       "    <tr>\n",
       "      <th>17</th>\n",
       "      <td>GI000A0F6407</td>\n",
       "      <td>888 HOLDINGS PLC</td>\n",
       "      <td>Gibraltar</td>\n",
       "    </tr>\n",
       "    <tr>\n",
       "      <th>20</th>\n",
       "      <td>PHY000221069</td>\n",
       "      <td>A Brown Company, Inc.</td>\n",
       "      <td>Philippines</td>\n",
       "    </tr>\n",
       "    <tr>\n",
       "      <th>21</th>\n",
       "      <td>GB00B6XZKY75</td>\n",
       "      <td>A.G. BARR P.L.C.</td>\n",
       "      <td>United Kingdom</td>\n",
       "    </tr>\n",
       "  </tbody>\n",
       "</table>\n",
       "</div>"
      ],
      "text/plain": [
       "            ISIN            CompanyName         Country\n",
       "0   DE0005545503       1&1 DRILLISCH AG         Germany\n",
       "14  KYG8875G1029              3SBIO INC           China\n",
       "17  GI000A0F6407       888 HOLDINGS PLC       Gibraltar\n",
       "20  PHY000221069  A Brown Company, Inc.     Philippines\n",
       "21  GB00B6XZKY75       A.G. BARR P.L.C.  United Kingdom"
      ]
     },
     "execution_count": 10,
     "metadata": {},
     "output_type": "execute_result"
    }
   ],
   "source": [
    "mising_Ticker = df.loc[df.Ticker.isna(),'ISIN']\n",
    "df_missing = df_ei.loc[df_ei.ISIN.isin(mising_Ticker), ['ISIN','CompanyName','Country']]\n",
    "df_missing.drop_duplicates(inplace=True)\n",
    "print(f'We are unable to match {df_missing.shape[0]} ISIN')\n",
    "df_missing.head()"
   ]
  },
  {
   "cell_type": "markdown",
   "metadata": {
    "id": "parallel-biology"
   },
   "source": [
    "With this merge, we were able to find a 492 tickers for the 2,628 companies in the Environmental Impact dataset. We need to figure out how to map their ISIN to a Ticker."
   ]
  },
  {
   "cell_type": "code",
   "execution_count": 11,
   "metadata": {
    "id": "catholic-function"
   },
   "outputs": [],
   "source": [
    "df_missing.to_csv('Companies_missing_Tickers.csv', index=False)"
   ]
  },
  {
   "cell_type": "markdown",
   "metadata": {
    "id": "mexican-benjamin"
   },
   "source": [
    "In the meantime, we are going to export the companies that we were unable to match and continue working with the ones that have the Ticker.\n",
    "\n",
    "From the pilot stocks, we have 52 unique tickers. Let's see if all these tickers appear in the merged dataframe. "
   ]
  },
  {
   "cell_type": "code",
   "execution_count": 12,
   "metadata": {
    "id": "warming-memory",
    "outputId": "dac57769-1f43-4e42-df99-5038895bf9c7"
   },
   "outputs": [
    {
     "name": "stdout",
     "output_type": "stream",
     "text": [
      "(55, 1)\n",
      "52 Tickers\n"
     ]
    },
    {
     "data": {
      "text/html": [
       "<div>\n",
       "<style scoped>\n",
       "    .dataframe tbody tr th:only-of-type {\n",
       "        vertical-align: middle;\n",
       "    }\n",
       "\n",
       "    .dataframe tbody tr th {\n",
       "        vertical-align: top;\n",
       "    }\n",
       "\n",
       "    .dataframe thead th {\n",
       "        text-align: right;\n",
       "    }\n",
       "</style>\n",
       "<table border=\"1\" class=\"dataframe\">\n",
       "  <thead>\n",
       "    <tr style=\"text-align: right;\">\n",
       "      <th></th>\n",
       "      <th>Ticker</th>\n",
       "    </tr>\n",
       "  </thead>\n",
       "  <tbody>\n",
       "    <tr>\n",
       "      <th>540</th>\n",
       "      <td>DTE</td>\n",
       "    </tr>\n",
       "    <tr>\n",
       "      <th>726</th>\n",
       "      <td>MRO</td>\n",
       "    </tr>\n",
       "    <tr>\n",
       "      <th>802</th>\n",
       "      <td>ATO</td>\n",
       "    </tr>\n",
       "  </tbody>\n",
       "</table>\n",
       "</div>"
      ],
      "text/plain": [
       "    Ticker\n",
       "540    DTE\n",
       "726    MRO\n",
       "802    ATO"
      ]
     },
     "execution_count": 12,
     "metadata": {},
     "output_type": "execute_result"
    }
   ],
   "source": [
    "tickers = stocks.Ticker.unique()\n",
    "x = df.loc[(df.Ticker.isin(tickers)), ['Ticker']]\n",
    "print(x.shape)\n",
    "print(f'{len(x.Ticker.unique())} Tickers')\n",
    "x[x.duplicated()]"
   ]
  },
  {
   "cell_type": "markdown",
   "metadata": {
    "id": "hairy-billion"
   },
   "source": [
    "We noticed that these three tickers are duplicated. Let's see why?"
   ]
  },
  {
   "cell_type": "code",
   "execution_count": 13,
   "metadata": {
    "id": "elect-community",
    "outputId": "1d79b123-333e-4af0-8c61-ca6698ba4360"
   },
   "outputs": [
    {
     "data": {
      "text/html": [
       "<div>\n",
       "<style scoped>\n",
       "    .dataframe tbody tr th:only-of-type {\n",
       "        vertical-align: middle;\n",
       "    }\n",
       "\n",
       "    .dataframe tbody tr th {\n",
       "        vertical-align: top;\n",
       "    }\n",
       "\n",
       "    .dataframe thead th {\n",
       "        text-align: right;\n",
       "    }\n",
       "</style>\n",
       "<table border=\"1\" class=\"dataframe\">\n",
       "  <thead>\n",
       "    <tr style=\"text-align: right;\">\n",
       "      <th></th>\n",
       "      <th>Ticker</th>\n",
       "      <th>Name</th>\n",
       "      <th>Sector</th>\n",
       "      <th>CUSIP</th>\n",
       "      <th>ISIN</th>\n",
       "      <th>Location</th>\n",
       "    </tr>\n",
       "  </thead>\n",
       "  <tbody>\n",
       "    <tr>\n",
       "      <th>417</th>\n",
       "      <td>ATO</td>\n",
       "      <td>ATMOS ENERGY CORP</td>\n",
       "      <td>Utilities</td>\n",
       "      <td>49560105</td>\n",
       "      <td>US0495601058</td>\n",
       "      <td>United States</td>\n",
       "    </tr>\n",
       "    <tr>\n",
       "      <th>809</th>\n",
       "      <td>ATO</td>\n",
       "      <td>ATOS</td>\n",
       "      <td>Information Technology</td>\n",
       "      <td>S56547813</td>\n",
       "      <td>FR0000051732</td>\n",
       "      <td>France</td>\n",
       "    </tr>\n",
       "  </tbody>\n",
       "</table>\n",
       "</div>"
      ],
      "text/plain": [
       "    Ticker               Name                  Sector      CUSIP  \\\n",
       "417    ATO  ATMOS ENERGY CORP               Utilities   49560105   \n",
       "809    ATO               ATOS  Information Technology  S56547813   \n",
       "\n",
       "             ISIN       Location  \n",
       "417  US0495601058  United States  \n",
       "809  FR0000051732         France  "
      ]
     },
     "execution_count": 13,
     "metadata": {},
     "output_type": "execute_result"
    }
   ],
   "source": [
    "df_ishares[df_ishares.Ticker == 'ATO']"
   ]
  },
  {
   "cell_type": "markdown",
   "metadata": {
    "id": "infectious-protein"
   },
   "source": [
    "It seems the ticker is not globally unique. We are going to filter by United States because our pilot stocks belongs to the SP500 US Stocks. "
   ]
  },
  {
   "cell_type": "code",
   "execution_count": 14,
   "metadata": {
    "id": "adequate-renewal",
    "outputId": "7fcc42a4-84d8-48db-eb59-8aff99a7ec0a"
   },
   "outputs": [
    {
     "name": "stdout",
     "output_type": "stream",
     "text": [
      "Now, we have 52 tickers.\n"
     ]
    }
   ],
   "source": [
    "df_us = df.loc[(df.Ticker.isin(tickers)) & (df.Location == 'United States'), ['Ticker']]\n",
    "print(f'Now, we have {len(df_us.Ticker.unique())} tickers.')"
   ]
  },
  {
   "cell_type": "markdown",
   "metadata": {
    "id": "local-karen"
   },
   "source": [
    "We know that we weren't able to match the ISIN for all the companies in the Environmental Intensity dataset. However, let's see the ones that we were able too and validate they matched correctly. "
   ]
  },
  {
   "cell_type": "code",
   "execution_count": 15,
   "metadata": {
    "id": "catholic-publisher",
    "outputId": "c78d7c13-8fe5-4b53-ac8b-d530b3ee22dd"
   },
   "outputs": [
    {
     "name": "stdout",
     "output_type": "stream",
     "text": [
      "487\n",
      "(495, 8)\n"
     ]
    }
   ],
   "source": [
    "found = df.loc[(df.Ticker.notna()) & (df.CompanyName.notna()),]\n",
    "print(len(found.Ticker.unique()))\n",
    "print(found.shape)"
   ]
  },
  {
   "cell_type": "markdown",
   "metadata": {
    "id": "suburban-office"
   },
   "source": [
    "Could it be possible to have duplicate values? Let's subset for the records that have the same ticker."
   ]
  },
  {
   "cell_type": "code",
   "execution_count": 16,
   "metadata": {
    "id": "prostate-macro",
    "outputId": "49110205-f2f5-4657-90eb-981913a05677"
   },
   "outputs": [
    {
     "data": {
      "text/html": [
       "<div>\n",
       "<style scoped>\n",
       "    .dataframe tbody tr th:only-of-type {\n",
       "        vertical-align: middle;\n",
       "    }\n",
       "\n",
       "    .dataframe tbody tr th {\n",
       "        vertical-align: top;\n",
       "    }\n",
       "\n",
       "    .dataframe thead th {\n",
       "        text-align: right;\n",
       "    }\n",
       "</style>\n",
       "<table border=\"1\" class=\"dataframe\">\n",
       "  <thead>\n",
       "    <tr style=\"text-align: right;\">\n",
       "      <th></th>\n",
       "      <th>Ticker</th>\n",
       "      <th>Name</th>\n",
       "      <th>Sector</th>\n",
       "      <th>CUSIP</th>\n",
       "      <th>ISIN</th>\n",
       "      <th>Location</th>\n",
       "      <th>CompanyName</th>\n",
       "      <th>Country</th>\n",
       "    </tr>\n",
       "  </thead>\n",
       "  <tbody>\n",
       "    <tr>\n",
       "      <th>428</th>\n",
       "      <td>AAL</td>\n",
       "      <td>AMERICAN AIRLINES GROUP INC</td>\n",
       "      <td>Industrials</td>\n",
       "      <td>02376R102</td>\n",
       "      <td>US02376R1023</td>\n",
       "      <td>United States</td>\n",
       "      <td>AMERICAN AIRLINES GROUP INC</td>\n",
       "      <td>United States</td>\n",
       "    </tr>\n",
       "    <tr>\n",
       "      <th>557</th>\n",
       "      <td>AAL</td>\n",
       "      <td>ANGLO AMERICAN PLC</td>\n",
       "      <td>Materials</td>\n",
       "      <td>-</td>\n",
       "      <td>GB00B1XZS820</td>\n",
       "      <td>United Kingdom</td>\n",
       "      <td>ANGLO AMERICAN PLC</td>\n",
       "      <td>United Kingdom</td>\n",
       "    </tr>\n",
       "    <tr>\n",
       "      <th>99</th>\n",
       "      <td>ADP</td>\n",
       "      <td>AUTOMATIC DATA PROCESSING INC</td>\n",
       "      <td>Information Technology</td>\n",
       "      <td>53015103</td>\n",
       "      <td>US0530151036</td>\n",
       "      <td>United States</td>\n",
       "      <td>AUTOMATIC DATA PROCESSING, INC.</td>\n",
       "      <td>United States</td>\n",
       "    </tr>\n",
       "    <tr>\n",
       "      <th>866</th>\n",
       "      <td>ADP</td>\n",
       "      <td>AEROPORTS DE PARIS SA</td>\n",
       "      <td>Industrials</td>\n",
       "      <td>-</td>\n",
       "      <td>FR0010340141</td>\n",
       "      <td>France</td>\n",
       "      <td>AEROPORTS DE PARIS</td>\n",
       "      <td>France</td>\n",
       "    </tr>\n",
       "    <tr>\n",
       "      <th>271</th>\n",
       "      <td>DTE</td>\n",
       "      <td>DTE ENERGY</td>\n",
       "      <td>Utilities</td>\n",
       "      <td>233331107</td>\n",
       "      <td>US2333311072</td>\n",
       "      <td>United States</td>\n",
       "      <td>DTE ENERGY COMPANY</td>\n",
       "      <td>United States</td>\n",
       "    </tr>\n",
       "    <tr>\n",
       "      <th>540</th>\n",
       "      <td>DTE</td>\n",
       "      <td>DEUTSCHE TELEKOM N AG</td>\n",
       "      <td>Communication</td>\n",
       "      <td>S58423591</td>\n",
       "      <td>DE0005557508</td>\n",
       "      <td>Germany</td>\n",
       "      <td>DEUTSCHE TELEKOM AG</td>\n",
       "      <td>Germany</td>\n",
       "    </tr>\n",
       "  </tbody>\n",
       "</table>\n",
       "</div>"
      ],
      "text/plain": [
       "    Ticker                           Name                  Sector      CUSIP  \\\n",
       "428    AAL    AMERICAN AIRLINES GROUP INC             Industrials  02376R102   \n",
       "557    AAL             ANGLO AMERICAN PLC               Materials          -   \n",
       "99     ADP  AUTOMATIC DATA PROCESSING INC  Information Technology   53015103   \n",
       "866    ADP          AEROPORTS DE PARIS SA             Industrials          -   \n",
       "271    DTE                     DTE ENERGY               Utilities  233331107   \n",
       "540    DTE          DEUTSCHE TELEKOM N AG           Communication  S58423591   \n",
       "\n",
       "             ISIN        Location                      CompanyName  \\\n",
       "428  US02376R1023   United States      AMERICAN AIRLINES GROUP INC   \n",
       "557  GB00B1XZS820  United Kingdom               ANGLO AMERICAN PLC   \n",
       "99   US0530151036   United States  AUTOMATIC DATA PROCESSING, INC.   \n",
       "866  FR0010340141          France               AEROPORTS DE PARIS   \n",
       "271  US2333311072   United States               DTE ENERGY COMPANY   \n",
       "540  DE0005557508         Germany              DEUTSCHE TELEKOM AG   \n",
       "\n",
       "            Country  \n",
       "428   United States  \n",
       "557  United Kingdom  \n",
       "99    United States  \n",
       "866          France  \n",
       "271   United States  \n",
       "540         Germany  "
      ]
     },
     "execution_count": 16,
     "metadata": {},
     "output_type": "execute_result"
    }
   ],
   "source": [
    "ticker_agg = found.groupby('Ticker')[['Name']].count().sort_values(by='Name', ascending=False).reset_index()\n",
    "tickers2 = ticker_agg[ticker_agg.Name >= 2]['Ticker']\n",
    "df3 = found[found.Ticker.isin(tickers2)].sort_values(by='Ticker')\n",
    "df3.head(6)"
   ]
  },
  {
   "cell_type": "markdown",
   "metadata": {
    "id": "labeled-japanese"
   },
   "source": [
    "It happened the same thing as before, it seems the Ticker is not globally unique. However, it seems it matches correctly by ISIN. We did a little research and found that AAL in UK actually is AAL.L in Yahoo Finance. \n",
    "\n",
    "Another example,  DTE- DEUTSCHE TELEKOM ticker in Yahoo Finance is DTE.DE.  We decided to re-format the Ticker for the companies that are not from US. To some of them, we need to add '.' + 'the first two letters from the ISIN' to the current ticker. \n",
    "\n",
    "Let's see. "
   ]
  },
  {
   "cell_type": "code",
   "execution_count": 17,
   "metadata": {
    "id": "associate-polls",
    "outputId": "f5528369-9f05-4f88-bae6-4db561785190"
   },
   "outputs": [
    {
     "data": {
      "text/html": [
       "<div>\n",
       "<style scoped>\n",
       "    .dataframe tbody tr th:only-of-type {\n",
       "        vertical-align: middle;\n",
       "    }\n",
       "\n",
       "    .dataframe tbody tr th {\n",
       "        vertical-align: top;\n",
       "    }\n",
       "\n",
       "    .dataframe thead th {\n",
       "        text-align: right;\n",
       "    }\n",
       "</style>\n",
       "<table border=\"1\" class=\"dataframe\">\n",
       "  <thead>\n",
       "    <tr style=\"text-align: right;\">\n",
       "      <th></th>\n",
       "      <th>Ticker</th>\n",
       "      <th>Name</th>\n",
       "      <th>Sector</th>\n",
       "      <th>CUSIP</th>\n",
       "      <th>ISIN</th>\n",
       "      <th>Location</th>\n",
       "      <th>CompanyName</th>\n",
       "      <th>Country</th>\n",
       "    </tr>\n",
       "  </thead>\n",
       "  <tbody>\n",
       "    <tr>\n",
       "      <th>428</th>\n",
       "      <td>AAL</td>\n",
       "      <td>AMERICAN AIRLINES GROUP INC</td>\n",
       "      <td>Industrials</td>\n",
       "      <td>02376R102</td>\n",
       "      <td>US02376R1023</td>\n",
       "      <td>United States</td>\n",
       "      <td>AMERICAN AIRLINES GROUP INC</td>\n",
       "      <td>United States</td>\n",
       "    </tr>\n",
       "    <tr>\n",
       "      <th>557</th>\n",
       "      <td>AAL</td>\n",
       "      <td>ANGLO AMERICAN PLC</td>\n",
       "      <td>Materials</td>\n",
       "      <td>-</td>\n",
       "      <td>GB00B1XZS820</td>\n",
       "      <td>United Kingdom</td>\n",
       "      <td>ANGLO AMERICAN PLC</td>\n",
       "      <td>United Kingdom</td>\n",
       "    </tr>\n",
       "    <tr>\n",
       "      <th>735</th>\n",
       "      <td>ADM</td>\n",
       "      <td>ADMIRAL GROUP PLC</td>\n",
       "      <td>Financials</td>\n",
       "      <td>-</td>\n",
       "      <td>GB00B02J6398</td>\n",
       "      <td>United Kingdom</td>\n",
       "      <td>ADMIRAL GROUP PLC</td>\n",
       "      <td>United Kingdom</td>\n",
       "    </tr>\n",
       "    <tr>\n",
       "      <th>234</th>\n",
       "      <td>ADM</td>\n",
       "      <td>ARCHER DANIELS MIDLAND</td>\n",
       "      <td>Consumer Staples</td>\n",
       "      <td>39483102</td>\n",
       "      <td>US0394831020</td>\n",
       "      <td>United States</td>\n",
       "      <td>NaN</td>\n",
       "      <td>NaN</td>\n",
       "    </tr>\n",
       "    <tr>\n",
       "      <th>866</th>\n",
       "      <td>ADP</td>\n",
       "      <td>AEROPORTS DE PARIS SA</td>\n",
       "      <td>Industrials</td>\n",
       "      <td>-</td>\n",
       "      <td>FR0010340141</td>\n",
       "      <td>France</td>\n",
       "      <td>AEROPORTS DE PARIS</td>\n",
       "      <td>France</td>\n",
       "    </tr>\n",
       "    <tr>\n",
       "      <th>99</th>\n",
       "      <td>ADP</td>\n",
       "      <td>AUTOMATIC DATA PROCESSING INC</td>\n",
       "      <td>Information Technology</td>\n",
       "      <td>53015103</td>\n",
       "      <td>US0530151036</td>\n",
       "      <td>United States</td>\n",
       "      <td>AUTOMATIC DATA PROCESSING, INC.</td>\n",
       "      <td>United States</td>\n",
       "    </tr>\n",
       "  </tbody>\n",
       "</table>\n",
       "</div>"
      ],
      "text/plain": [
       "    Ticker                           Name                  Sector      CUSIP  \\\n",
       "428    AAL    AMERICAN AIRLINES GROUP INC             Industrials  02376R102   \n",
       "557    AAL             ANGLO AMERICAN PLC               Materials          -   \n",
       "735    ADM              ADMIRAL GROUP PLC              Financials          -   \n",
       "234    ADM         ARCHER DANIELS MIDLAND        Consumer Staples   39483102   \n",
       "866    ADP          AEROPORTS DE PARIS SA             Industrials          -   \n",
       "99     ADP  AUTOMATIC DATA PROCESSING INC  Information Technology   53015103   \n",
       "\n",
       "             ISIN        Location                      CompanyName  \\\n",
       "428  US02376R1023   United States      AMERICAN AIRLINES GROUP INC   \n",
       "557  GB00B1XZS820  United Kingdom               ANGLO AMERICAN PLC   \n",
       "735  GB00B02J6398  United Kingdom                ADMIRAL GROUP PLC   \n",
       "234  US0394831020   United States                              NaN   \n",
       "866  FR0010340141          France               AEROPORTS DE PARIS   \n",
       "99   US0530151036   United States  AUTOMATIC DATA PROCESSING, INC.   \n",
       "\n",
       "            Country  \n",
       "428   United States  \n",
       "557  United Kingdom  \n",
       "735  United Kingdom  \n",
       "234             NaN  \n",
       "866          France  \n",
       "99    United States  "
      ]
     },
     "execution_count": 17,
     "metadata": {},
     "output_type": "execute_result"
    }
   ],
   "source": [
    "ticker_agg = df.groupby('Ticker')[['Name']].count().sort_values(by='Name', ascending=False).reset_index()\n",
    "tickers2 = ticker_agg[ticker_agg.Name >= 2]['Ticker']\n",
    "df3 = df[df.Ticker.isin(tickers2)].sort_values(by='Ticker')\n",
    "df3.head(6)"
   ]
  },
  {
   "cell_type": "code",
   "execution_count": 18,
   "metadata": {
    "id": "further-reasoning",
    "outputId": "b06100e9-1f25-44ec-9666-0f1f1c404698"
   },
   "outputs": [
    {
     "data": {
      "text/html": [
       "<div>\n",
       "<style scoped>\n",
       "    .dataframe tbody tr th:only-of-type {\n",
       "        vertical-align: middle;\n",
       "    }\n",
       "\n",
       "    .dataframe tbody tr th {\n",
       "        vertical-align: top;\n",
       "    }\n",
       "\n",
       "    .dataframe thead th {\n",
       "        text-align: right;\n",
       "    }\n",
       "</style>\n",
       "<table border=\"1\" class=\"dataframe\">\n",
       "  <thead>\n",
       "    <tr style=\"text-align: right;\">\n",
       "      <th></th>\n",
       "      <th>Ticker</th>\n",
       "      <th>Name</th>\n",
       "      <th>Sector</th>\n",
       "      <th>CUSIP</th>\n",
       "      <th>ISIN</th>\n",
       "      <th>Location</th>\n",
       "      <th>CompanyName</th>\n",
       "      <th>Country</th>\n",
       "    </tr>\n",
       "  </thead>\n",
       "  <tbody>\n",
       "    <tr>\n",
       "      <th>557</th>\n",
       "      <td>AAL</td>\n",
       "      <td>ANGLO AMERICAN PLC</td>\n",
       "      <td>Materials</td>\n",
       "      <td>-</td>\n",
       "      <td>GB00B1XZS820</td>\n",
       "      <td>United Kingdom</td>\n",
       "      <td>ANGLO AMERICAN PLC</td>\n",
       "      <td>United Kingdom</td>\n",
       "    </tr>\n",
       "    <tr>\n",
       "      <th>735</th>\n",
       "      <td>ADM</td>\n",
       "      <td>ADMIRAL GROUP PLC</td>\n",
       "      <td>Financials</td>\n",
       "      <td>-</td>\n",
       "      <td>GB00B02J6398</td>\n",
       "      <td>United Kingdom</td>\n",
       "      <td>ADMIRAL GROUP PLC</td>\n",
       "      <td>United Kingdom</td>\n",
       "    </tr>\n",
       "    <tr>\n",
       "      <th>866</th>\n",
       "      <td>ADP</td>\n",
       "      <td>AEROPORTS DE PARIS SA</td>\n",
       "      <td>Industrials</td>\n",
       "      <td>-</td>\n",
       "      <td>FR0010340141</td>\n",
       "      <td>France</td>\n",
       "      <td>AEROPORTS DE PARIS</td>\n",
       "      <td>France</td>\n",
       "    </tr>\n",
       "    <tr>\n",
       "      <th>802</th>\n",
       "      <td>ATO</td>\n",
       "      <td>ATOS</td>\n",
       "      <td>Information Technology</td>\n",
       "      <td>S56547813</td>\n",
       "      <td>FR0000051732</td>\n",
       "      <td>France</td>\n",
       "      <td>ATOS SE</td>\n",
       "      <td>France</td>\n",
       "    </tr>\n",
       "    <tr>\n",
       "      <th>553</th>\n",
       "      <td>DG</td>\n",
       "      <td>VINCI SA</td>\n",
       "      <td>Industrials</td>\n",
       "      <td>-</td>\n",
       "      <td>FR0000125486</td>\n",
       "      <td>France</td>\n",
       "      <td>VINCI</td>\n",
       "      <td>France</td>\n",
       "    </tr>\n",
       "    <tr>\n",
       "      <th>540</th>\n",
       "      <td>DTE</td>\n",
       "      <td>DEUTSCHE TELEKOM N AG</td>\n",
       "      <td>Communication</td>\n",
       "      <td>S58423591</td>\n",
       "      <td>DE0005557508</td>\n",
       "      <td>Germany</td>\n",
       "      <td>DEUTSCHE TELEKOM AG</td>\n",
       "      <td>Germany</td>\n",
       "    </tr>\n",
       "    <tr>\n",
       "      <th>560</th>\n",
       "      <td>EL</td>\n",
       "      <td>ESSILORLUXOTTICA SA</td>\n",
       "      <td>Consumer Discretionary</td>\n",
       "      <td>S72124779</td>\n",
       "      <td>FR0000121667</td>\n",
       "      <td>France</td>\n",
       "      <td>ESSILORLUXOTTICA SA</td>\n",
       "      <td>France</td>\n",
       "    </tr>\n",
       "    <tr>\n",
       "      <th>731</th>\n",
       "      <td>LEG</td>\n",
       "      <td>LEG IMMOBILIEN N AG</td>\n",
       "      <td>Real Estate</td>\n",
       "      <td>-</td>\n",
       "      <td>DE000LEG1110</td>\n",
       "      <td>Germany</td>\n",
       "      <td>LEG IMMOBILIEN AG</td>\n",
       "      <td>Germany</td>\n",
       "    </tr>\n",
       "    <tr>\n",
       "      <th>631</th>\n",
       "      <td>MRK</td>\n",
       "      <td>MERCK</td>\n",
       "      <td>Health Care</td>\n",
       "      <td>S47418447</td>\n",
       "      <td>DE0006599905</td>\n",
       "      <td>Germany</td>\n",
       "      <td>MERCK KGAA</td>\n",
       "      <td>Germany</td>\n",
       "    </tr>\n",
       "    <tr>\n",
       "      <th>726</th>\n",
       "      <td>MRO</td>\n",
       "      <td>MELROSE INDUSTRIES PLC</td>\n",
       "      <td>Industrials</td>\n",
       "      <td>-</td>\n",
       "      <td>GB00BZ1G4322</td>\n",
       "      <td>United Kingdom</td>\n",
       "      <td>MELROSE INDUSTRIES PLC</td>\n",
       "      <td>United Kingdom</td>\n",
       "    </tr>\n",
       "    <tr>\n",
       "      <th>563</th>\n",
       "      <td>PRU</td>\n",
       "      <td>PRUDENTIAL PLC</td>\n",
       "      <td>Financials</td>\n",
       "      <td>S07099542</td>\n",
       "      <td>GB0007099541</td>\n",
       "      <td>United Kingdom</td>\n",
       "      <td>PRUDENTIAL PLC</td>\n",
       "      <td>United Kingdom</td>\n",
       "    </tr>\n",
       "    <tr>\n",
       "      <th>547</th>\n",
       "      <td>SAN</td>\n",
       "      <td>BANCO SANTANDER SA</td>\n",
       "      <td>Financials</td>\n",
       "      <td>S57059461</td>\n",
       "      <td>ES0113900J37</td>\n",
       "      <td>Spain</td>\n",
       "      <td>BANCO SANTANDER SA</td>\n",
       "      <td>Spain</td>\n",
       "    </tr>\n",
       "    <tr>\n",
       "      <th>516</th>\n",
       "      <td>SAN</td>\n",
       "      <td>SANOFI SA</td>\n",
       "      <td>Health Care</td>\n",
       "      <td>S56717358</td>\n",
       "      <td>FR0000120578</td>\n",
       "      <td>France</td>\n",
       "      <td>SANOFI S.A.</td>\n",
       "      <td>France</td>\n",
       "    </tr>\n",
       "    <tr>\n",
       "      <th>739</th>\n",
       "      <td>TEL</td>\n",
       "      <td>TELENOR</td>\n",
       "      <td>Communication</td>\n",
       "      <td>S47324959</td>\n",
       "      <td>NO0010063308</td>\n",
       "      <td>Norway</td>\n",
       "      <td>TELENOR GROUP ASA</td>\n",
       "      <td>Norway</td>\n",
       "    </tr>\n",
       "    <tr>\n",
       "      <th>586</th>\n",
       "      <td>TSCO</td>\n",
       "      <td>TESCO PLC</td>\n",
       "      <td>Consumer Staples</td>\n",
       "      <td>S08847097</td>\n",
       "      <td>GB0008847096</td>\n",
       "      <td>United Kingdom</td>\n",
       "      <td>TESCO PLC</td>\n",
       "      <td>United Kingdom</td>\n",
       "    </tr>\n",
       "  </tbody>\n",
       "</table>\n",
       "</div>"
      ],
      "text/plain": [
       "    Ticker                    Name                  Sector      CUSIP  \\\n",
       "557    AAL      ANGLO AMERICAN PLC               Materials          -   \n",
       "735    ADM       ADMIRAL GROUP PLC              Financials          -   \n",
       "866    ADP   AEROPORTS DE PARIS SA             Industrials          -   \n",
       "802    ATO                    ATOS  Information Technology  S56547813   \n",
       "553     DG                VINCI SA             Industrials          -   \n",
       "540    DTE   DEUTSCHE TELEKOM N AG           Communication  S58423591   \n",
       "560     EL     ESSILORLUXOTTICA SA  Consumer Discretionary  S72124779   \n",
       "731    LEG     LEG IMMOBILIEN N AG             Real Estate          -   \n",
       "631    MRK                   MERCK             Health Care  S47418447   \n",
       "726    MRO  MELROSE INDUSTRIES PLC             Industrials          -   \n",
       "563    PRU          PRUDENTIAL PLC              Financials  S07099542   \n",
       "547    SAN      BANCO SANTANDER SA              Financials  S57059461   \n",
       "516    SAN               SANOFI SA             Health Care  S56717358   \n",
       "739    TEL                 TELENOR           Communication  S47324959   \n",
       "586   TSCO               TESCO PLC        Consumer Staples  S08847097   \n",
       "\n",
       "             ISIN        Location             CompanyName         Country  \n",
       "557  GB00B1XZS820  United Kingdom      ANGLO AMERICAN PLC  United Kingdom  \n",
       "735  GB00B02J6398  United Kingdom       ADMIRAL GROUP PLC  United Kingdom  \n",
       "866  FR0010340141          France      AEROPORTS DE PARIS          France  \n",
       "802  FR0000051732          France                 ATOS SE          France  \n",
       "553  FR0000125486          France                   VINCI          France  \n",
       "540  DE0005557508         Germany     DEUTSCHE TELEKOM AG         Germany  \n",
       "560  FR0000121667          France     ESSILORLUXOTTICA SA          France  \n",
       "731  DE000LEG1110         Germany       LEG IMMOBILIEN AG         Germany  \n",
       "631  DE0006599905         Germany              MERCK KGAA         Germany  \n",
       "726  GB00BZ1G4322  United Kingdom  MELROSE INDUSTRIES PLC  United Kingdom  \n",
       "563  GB0007099541  United Kingdom          PRUDENTIAL PLC  United Kingdom  \n",
       "547  ES0113900J37           Spain      BANCO SANTANDER SA           Spain  \n",
       "516  FR0000120578          France             SANOFI S.A.          France  \n",
       "739  NO0010063308          Norway       TELENOR GROUP ASA          Norway  \n",
       "586  GB0008847096  United Kingdom               TESCO PLC  United Kingdom  "
      ]
     },
     "execution_count": 18,
     "metadata": {},
     "output_type": "execute_result"
    }
   ],
   "source": [
    "df4 = df3[df3.Location != 'United States']\n",
    "df4"
   ]
  },
  {
   "cell_type": "code",
   "execution_count": 19,
   "metadata": {
    "id": "romance-messenger"
   },
   "outputs": [],
   "source": [
    "ticker = df4.Ticker.tolist()\n",
    "yahoo_ticker = ['AAL.L','ADM.L','ADP.PA','ATO.PA','DG.PA','DTE.DE','EL.PA','LEG.DE','MRK.DE','MRO.L','PRU.L','SAN.PA','SAN.MC','TEL.OL','TSCO.L']"
   ]
  },
  {
   "cell_type": "code",
   "execution_count": 20,
   "metadata": {
    "id": "norwegian-kazakhstan",
    "outputId": "c6200ef0-2bab-48e5-9b47-e420f2120385"
   },
   "outputs": [
    {
     "data": {
      "text/html": [
       "<div>\n",
       "<style scoped>\n",
       "    .dataframe tbody tr th:only-of-type {\n",
       "        vertical-align: middle;\n",
       "    }\n",
       "\n",
       "    .dataframe tbody tr th {\n",
       "        vertical-align: top;\n",
       "    }\n",
       "\n",
       "    .dataframe thead th {\n",
       "        text-align: right;\n",
       "    }\n",
       "</style>\n",
       "<table border=\"1\" class=\"dataframe\">\n",
       "  <thead>\n",
       "    <tr style=\"text-align: right;\">\n",
       "      <th></th>\n",
       "      <th>Ticker</th>\n",
       "      <th>Name</th>\n",
       "      <th>Sector</th>\n",
       "      <th>CUSIP</th>\n",
       "      <th>ISIN</th>\n",
       "      <th>Location</th>\n",
       "      <th>CompanyName</th>\n",
       "      <th>Country</th>\n",
       "    </tr>\n",
       "  </thead>\n",
       "  <tbody>\n",
       "    <tr>\n",
       "      <th>867</th>\n",
       "      <td>-</td>\n",
       "      <td>IBERDROLA SA</td>\n",
       "      <td>Utilities</td>\n",
       "      <td>-</td>\n",
       "      <td>ES0144583236</td>\n",
       "      <td>Spain</td>\n",
       "      <td>NaN</td>\n",
       "      <td>NaN</td>\n",
       "    </tr>\n",
       "    <tr>\n",
       "      <th>711</th>\n",
       "      <td>1COV</td>\n",
       "      <td>COVESTRO AG</td>\n",
       "      <td>Materials</td>\n",
       "      <td>-</td>\n",
       "      <td>DE0006062144</td>\n",
       "      <td>Germany</td>\n",
       "      <td>COVESTRO AG</td>\n",
       "      <td>Germany</td>\n",
       "    </tr>\n",
       "    <tr>\n",
       "      <th>170</th>\n",
       "      <td>A</td>\n",
       "      <td>AGILENT TECHNOLOGIES INC</td>\n",
       "      <td>Health Care</td>\n",
       "      <td>00846U101</td>\n",
       "      <td>US00846U1016</td>\n",
       "      <td>United States</td>\n",
       "      <td>AGILENT TECHNOLOGIES, INC.</td>\n",
       "      <td>United States</td>\n",
       "    </tr>\n",
       "    <tr>\n",
       "      <th>428</th>\n",
       "      <td>AAL</td>\n",
       "      <td>AMERICAN AIRLINES GROUP INC</td>\n",
       "      <td>Industrials</td>\n",
       "      <td>02376R102</td>\n",
       "      <td>US02376R1023</td>\n",
       "      <td>United States</td>\n",
       "      <td>AMERICAN AIRLINES GROUP INC</td>\n",
       "      <td>United States</td>\n",
       "    </tr>\n",
       "    <tr>\n",
       "      <th>557</th>\n",
       "      <td>AAL.L</td>\n",
       "      <td>ANGLO AMERICAN PLC</td>\n",
       "      <td>Materials</td>\n",
       "      <td>-</td>\n",
       "      <td>GB00B1XZS820</td>\n",
       "      <td>United Kingdom</td>\n",
       "      <td>ANGLO AMERICAN PLC</td>\n",
       "      <td>United Kingdom</td>\n",
       "    </tr>\n",
       "  </tbody>\n",
       "</table>\n",
       "</div>"
      ],
      "text/plain": [
       "    Ticker                         Name       Sector      CUSIP          ISIN  \\\n",
       "867      -                 IBERDROLA SA    Utilities          -  ES0144583236   \n",
       "711   1COV                  COVESTRO AG    Materials          -  DE0006062144   \n",
       "170      A     AGILENT TECHNOLOGIES INC  Health Care  00846U101  US00846U1016   \n",
       "428    AAL  AMERICAN AIRLINES GROUP INC  Industrials  02376R102  US02376R1023   \n",
       "557  AAL.L           ANGLO AMERICAN PLC    Materials          -  GB00B1XZS820   \n",
       "\n",
       "           Location                  CompanyName         Country  \n",
       "867           Spain                          NaN             NaN  \n",
       "711         Germany                  COVESTRO AG         Germany  \n",
       "170   United States   AGILENT TECHNOLOGIES, INC.   United States  \n",
       "428   United States  AMERICAN AIRLINES GROUP INC   United States  \n",
       "557  United Kingdom           ANGLO AMERICAN PLC  United Kingdom  "
      ]
     },
     "execution_count": 20,
     "metadata": {},
     "output_type": "execute_result"
    }
   ],
   "source": [
    "df = df.sort_values(by='Ticker')\n",
    "df.loc[(df.Ticker.isin(ticker)) & (df.Location != 'United States'), 'Ticker'] = yahoo_ticker\n",
    "df.head()"
   ]
  },
  {
   "cell_type": "code",
   "execution_count": 21,
   "metadata": {
    "id": "comic-mathematics",
    "outputId": "e4553095-e2aa-4414-945f-aeca78c817a2"
   },
   "outputs": [
    {
     "name": "stdout",
     "output_type": "stream",
     "text": [
      "870\n"
     ]
    }
   ],
   "source": [
    "print(len(df.Ticker.unique()))"
   ]
  },
  {
   "cell_type": "markdown",
   "metadata": {
    "id": "mysterious-custom"
   },
   "source": [
    "Now, we have 870 unique tickers that we can send to yahoo finance and get the company description. Below, we will create a tickers list. Also, we want to export the merged dataset to do some analysis onwards. "
   ]
  },
  {
   "cell_type": "code",
   "execution_count": 22,
   "metadata": {
    "id": "assigned-jordan"
   },
   "outputs": [],
   "source": [
    "tickers = df.Ticker.unique().tolist()"
   ]
  },
  {
   "cell_type": "code",
   "execution_count": 23,
   "metadata": {
    "id": "alleged-differential"
   },
   "outputs": [],
   "source": [
    "df.to_csv('df_merged.csv', index=False)"
   ]
  },
  {
   "cell_type": "markdown",
   "metadata": {
    "id": "roman-ticket"
   },
   "source": [
    "### Collecting companies data in Reuters website\n",
    "\n",
    "Reuters, the news and media division of Thomson Reuters, is the world's largest multimedia news provider, reaching billions of people worldwide every day.\n",
    "\n",
    "First, we are going to add '.OQ' to each ticker. T"
   ]
  },
  {
   "cell_type": "code",
   "execution_count": 24,
   "metadata": {
    "id": "ambient-happening"
   },
   "outputs": [],
   "source": [
    "tickers_US = df.loc[(df.Location == 'United States') & (df.Ticker.notna()),'Ticker'].unique().tolist()\n",
    "tickers_nonUS = df.loc[(df.Location != 'United States') & (df.Ticker.notna()),'Ticker'].unique().tolist()"
   ]
  },
  {
   "cell_type": "code",
   "execution_count": 25,
   "metadata": {
    "id": "dependent-origin"
   },
   "outputs": [],
   "source": [
    "reuter_ticker = []\n",
    "for ticket in tickers_US:\n",
    "    ticket = str(ticket) + '.OQ'\n",
    "    reuter_ticker.append(ticket)"
   ]
  },
  {
   "cell_type": "code",
   "execution_count": 26,
   "metadata": {
    "id": "joined-injury"
   },
   "outputs": [],
   "source": [
    "# Create a loop to store URLs of all stocks' description page\n",
    "URL = [] \n",
    "DES = [] \n",
    "comp_desc = {}\n",
    "for i in reuter_ticker:\n",
    "    url ='https://www.reuters.com/companies/'+i \n",
    "    URL.append(url)\n",
    "    page = requests.get(url) # visits the URL\n",
    "    htmldata = BeautifulSoup(page.content, 'html.parser')\n",
    "    Business_Description = htmldata.find('p',{'class':'TextLabel__text-label___3oCVw TextLabel__black___2FN-Z TextLabel__serif___3lOpX Profile-body-2Aarn'}) # finds the business description part in the HTML code\n",
    "    if Business_Description is not None:\n",
    "        DES.append(Business_Description.text)\n",
    "        comp_desc[i] = [Business_Description.text]\n",
    "    else:\n",
    "        comp_desc[i] = 'Not exists'  "
   ]
  },
  {
   "cell_type": "code",
   "execution_count": 27,
   "metadata": {
    "id": "restricted-replacement",
    "outputId": "e637fe36-89c5-4631-d810-ba4286e77a11"
   },
   "outputs": [
    {
     "name": "stdout",
     "output_type": "stream",
     "text": [
      "362\n",
      "143\n"
     ]
    }
   ],
   "source": [
    "exists = 0 \n",
    "do_not = 0\n",
    "companies_desc = []\n",
    "for val in comp_desc.values():\n",
    "    if val == 'Not exists':\n",
    "        do_not+=1\n",
    "    else:\n",
    "        exists+=1\n",
    "        companies_desc = []\n",
    "\n",
    "print(do_not)\n",
    "print(exists)"
   ]
  },
  {
   "cell_type": "markdown",
   "metadata": {
    "id": "reverse-lunch"
   },
   "source": [
    "We were able to find 143 companies descriptions which we will use later on this notebook. \n",
    "\n",
    "\n",
    "### Collect companies descriptions from Yahoo Finance\n",
    "\n",
    "\n",
    "In this section, we will grab the company description directly from the Yahoo Finance website for the 870 companies\n",
    "\n",
    "\n",
    "**We were unable to send 870 tickers to Yahoo Finance. It seems their page crashed and wasn't allowing web scraping**"
   ]
  },
  {
   "cell_type": "code",
   "execution_count": null,
   "metadata": {
    "id": "sublime-trailer",
    "outputId": "5409dac3-bdf6-4bf2-a5e1-e41ebe2b8b2f"
   },
   "outputs": [],
   "source": [
    "# Create a loop to store URLs of all stocks' description page\n",
    "URL = [] \n",
    "DES = [] \n",
    "comp_desc = {}\n",
    "for i in tickers[:2]: \n",
    "    i = str(i)\n",
    "    url ='https://finance.yahoo.com/quote/'+i+'/profile' \n",
    "    URL.append(url)\n",
    "    page = requests.get(url) # visits the URL \n",
    "    htmldata = BeautifulSoup(page.content, 'html.parser')\n",
    "    Business_Description = htmldata.find('p',{'class':'Mt(15px) Lh(1.6)'}) # finds the business description part in the HTML code\n",
    "    DES.append(Business_Description.text)\n",
    "    comp_desc[i] = [Business_Description.text]"
   ]
  },
  {
   "cell_type": "code",
   "execution_count": null,
   "metadata": {
    "id": "dominant-merchant",
    "outputId": "5db46280-d9d0-4015-db2f-1445633effaf"
   },
   "outputs": [],
   "source": [
    "df_comp_desc = pd.DataFrame.from_dict(comp_desc, orient='index', columns = ['Description'])\n",
    "df_comp_desc.reset_index(inplace = True)\n",
    "df_comp_desc.rename(columns = {'index':'Ticker'}, inplace=True)\n",
    "df_comp_desc.head()"
   ]
  },
  {
   "cell_type": "code",
   "execution_count": null,
   "metadata": {
    "id": "introductory-directive"
   },
   "outputs": [],
   "source": [
    "df_comp_desc.to_csv('Companydescription.csv',index=False)"
   ]
  },
  {
   "cell_type": "markdown",
   "metadata": {
    "id": "outer-filling"
   },
   "source": [
    "### Start working with the DistilBERT\n",
    "\n",
    "First, we are going to create a new dataframe using the **202 companies_desc.csv**. This is a merged file from the companies descriptions that we collected in Sprint # 6 and the descriptions from Reuters collected earlier in the notebook. "
   ]
  },
  {
   "cell_type": "code",
   "execution_count": 28,
   "metadata": {},
   "outputs": [
    {
     "data": {
      "text/html": [
       "<div>\n",
       "<style scoped>\n",
       "    .dataframe tbody tr th:only-of-type {\n",
       "        vertical-align: middle;\n",
       "    }\n",
       "\n",
       "    .dataframe tbody tr th {\n",
       "        vertical-align: top;\n",
       "    }\n",
       "\n",
       "    .dataframe thead th {\n",
       "        text-align: right;\n",
       "    }\n",
       "</style>\n",
       "<table border=\"1\" class=\"dataframe\">\n",
       "  <thead>\n",
       "    <tr style=\"text-align: right;\">\n",
       "      <th></th>\n",
       "      <th>Ticker</th>\n",
       "      <th>Env_intensity</th>\n",
       "    </tr>\n",
       "  </thead>\n",
       "  <tbody>\n",
       "    <tr>\n",
       "      <th>0</th>\n",
       "      <td>1COV</td>\n",
       "      <td>-0.1423</td>\n",
       "    </tr>\n",
       "    <tr>\n",
       "      <th>1</th>\n",
       "      <td>A</td>\n",
       "      <td>0.0037</td>\n",
       "    </tr>\n",
       "    <tr>\n",
       "      <th>2</th>\n",
       "      <td>AAL</td>\n",
       "      <td>-0.2853</td>\n",
       "    </tr>\n",
       "    <tr>\n",
       "      <th>3</th>\n",
       "      <td>AAL.L</td>\n",
       "      <td>-0.1605</td>\n",
       "    </tr>\n",
       "    <tr>\n",
       "      <th>4</th>\n",
       "      <td>AAP</td>\n",
       "      <td>-0.0145</td>\n",
       "    </tr>\n",
       "  </tbody>\n",
       "</table>\n",
       "</div>"
      ],
      "text/plain": [
       "  Ticker  Env_intensity\n",
       "0   1COV        -0.1423\n",
       "1      A         0.0037\n",
       "2    AAL        -0.2853\n",
       "3  AAL.L        -0.1605\n",
       "4    AAP        -0.0145"
      ]
     },
     "execution_count": 28,
     "metadata": {},
     "output_type": "execute_result"
    }
   ],
   "source": [
    "stock_des=pd.read_csv('202 companies_des.csv') #Yahoo descriptions\n",
    "df_ei_2019 = df_ei[df_ei.Year == 2019]\n",
    "df_ei_merged = pd.merge(df,df_ei_2019, on='ISIN',how='inner')\n",
    "df_ei_merged = df_ei_merged[['Ticker','Env_intensity']]\n",
    "df_ei_merged.dropna(inplace=True)\n",
    "df_ei_merged.head()"
   ]
  },
  {
   "cell_type": "markdown",
   "metadata": {},
   "source": [
    "Now, we will merge this dataset with the descriptions so we have the necessary fields to start running the DistilBERT"
   ]
  },
  {
   "cell_type": "code",
   "execution_count": 30,
   "metadata": {},
   "outputs": [
    {
     "name": "stdout",
     "output_type": "stream",
     "text": [
      "We are going to be able to send 74 companies descriptions to the DistilBERT model\n"
     ]
    },
    {
     "data": {
      "text/html": [
       "<div>\n",
       "<style scoped>\n",
       "    .dataframe tbody tr th:only-of-type {\n",
       "        vertical-align: middle;\n",
       "    }\n",
       "\n",
       "    .dataframe tbody tr th {\n",
       "        vertical-align: top;\n",
       "    }\n",
       "\n",
       "    .dataframe thead th {\n",
       "        text-align: right;\n",
       "    }\n",
       "</style>\n",
       "<table border=\"1\" class=\"dataframe\">\n",
       "  <thead>\n",
       "    <tr style=\"text-align: right;\">\n",
       "      <th></th>\n",
       "      <th>index</th>\n",
       "      <th>Ticker</th>\n",
       "      <th>Env_intensity</th>\n",
       "      <th>description</th>\n",
       "    </tr>\n",
       "  </thead>\n",
       "  <tbody>\n",
       "    <tr>\n",
       "      <th>0</th>\n",
       "      <td>1</td>\n",
       "      <td>AAL</td>\n",
       "      <td>-0.2853</td>\n",
       "      <td>American Airlines Group Inc. is a holding comp...</td>\n",
       "    </tr>\n",
       "    <tr>\n",
       "      <th>1</th>\n",
       "      <td>2</td>\n",
       "      <td>AC</td>\n",
       "      <td>-0.1211</td>\n",
       "      <td>Associated Capital Group, Inc. provides invest...</td>\n",
       "    </tr>\n",
       "    <tr>\n",
       "      <th>2</th>\n",
       "      <td>3</td>\n",
       "      <td>ADSK</td>\n",
       "      <td>0.0093</td>\n",
       "      <td>Autodesk, Inc. is a design software and servic...</td>\n",
       "    </tr>\n",
       "    <tr>\n",
       "      <th>3</th>\n",
       "      <td>4</td>\n",
       "      <td>AEE</td>\n",
       "      <td>-1.3412</td>\n",
       "      <td>Ameren Corporation, together with its subsidia...</td>\n",
       "    </tr>\n",
       "    <tr>\n",
       "      <th>4</th>\n",
       "      <td>5</td>\n",
       "      <td>AEP</td>\n",
       "      <td>-1.6381</td>\n",
       "      <td>American Electric Power Company, Inc., an elec...</td>\n",
       "    </tr>\n",
       "  </tbody>\n",
       "</table>\n",
       "</div>"
      ],
      "text/plain": [
       "   index Ticker  Env_intensity  \\\n",
       "0      1    AAL        -0.2853   \n",
       "1      2     AC        -0.1211   \n",
       "2      3   ADSK         0.0093   \n",
       "3      4    AEE        -1.3412   \n",
       "4      5    AEP        -1.6381   \n",
       "\n",
       "                                         description  \n",
       "0  American Airlines Group Inc. is a holding comp...  \n",
       "1  Associated Capital Group, Inc. provides invest...  \n",
       "2  Autodesk, Inc. is a design software and servic...  \n",
       "3  Ameren Corporation, together with its subsidia...  \n",
       "4  American Electric Power Company, Inc., an elec...  "
      ]
     },
     "execution_count": 30,
     "metadata": {},
     "output_type": "execute_result"
    }
   ],
   "source": [
    "df_final = pd.merge(df_ei_merged, stock_des, on ='Ticker', how='inner')\n",
    "df_final = df_final.iloc[1:,:] #Removing AAL Dupplicate\n",
    "df2 = df_final.copy().reset_index()\n",
    "print(f'We are going to be able to send {df2.shape[0]} companies descriptions to the DistilBERT model')\n",
    "df2.head()"
   ]
  },
  {
   "cell_type": "markdown",
   "metadata": {
    "id": "WZs0-AqG9PyQ"
   },
   "source": [
    "We created a binary variable that is 1 if the Environmental Intensity (Sales) is above its median and 0 otherwise.\n",
    "\n",
    "This is the dependent variable (label) that we'll try to predict."
   ]
  },
  {
   "cell_type": "code",
   "execution_count": 31,
   "metadata": {
    "id": "WEuoQBEe9PKh"
   },
   "outputs": [],
   "source": [
    "df2['HIGH_EI'] = (df2['Env_intensity'].gt(df2['Env_intensity'].median())).astype(int)"
   ]
  },
  {
   "cell_type": "markdown",
   "metadata": {
    "id": "DT95ELj2B303"
   },
   "source": [
    "Load a pre-trained BERT model."
   ]
  },
  {
   "cell_type": "code",
   "execution_count": 32,
   "metadata": {
    "colab": {
     "base_uri": "https://localhost:8080/",
     "height": 336,
     "referenced_widgets": [
      "f064ac7815a0495c9f4ab5ad52bbfcd8",
      "203481866459460f919fc3064db77e7d",
      "b6c868a72372405cbe28523fec828ac1",
      "7c4837d707184673ba8b73c200c51268",
      "1407148ce35846a9bb7476aac1af7324",
      "ef283a6afdd24b72972e418b4e30e474",
      "d6aeda0477da409e81b4296acf4f0b2b",
      "52cb28d540c34b5884c36d8a10ded422",
      "b786be23b04e44fb8aad3373adb5d659",
      "3f218642caea4bfbaec8835e96fae406",
      "bd8fd89746424ab99be9b7cdb1869b47",
      "3db08d5492fd47a68a92d973bb706d1f",
      "4fd52cdda8864326b01be1643d837d96",
      "853dfc0908754d8da7595b8ff2f02ec3",
      "4d13f1cb6086433692323307b4a4eab0",
      "59c47bdf343e412ca0c417113625a200",
      "0527f355083f4b958e4b0fcaa6370a81",
      "70bfdc87a82742cdaa486b09c674f9a5",
      "4475cb18431b4ce29c29f40d6bc92219",
      "b948a749ca574b298aa8b82d2c23b8cf",
      "48fad894bd804c2bab608ecd4ec5f492",
      "bdbc78527ecd4bac810ca7afa590a392",
      "0c91c537824a41deaa04583f8d9e1e9c",
      "0a7f68310e67406c8bfc99d9e0e2ddaa",
      "6f707ad8be574049823a80ec3ed7bc4e",
      "c5f383feb9de4c669ce3e243cb737ef1",
      "b5a8d5161ec64654aa6ba085b61cd743",
      "d0a05d61667e4dab849900672f6bc954",
      "ff35fe915c9842cd9ca5d0633293679e",
      "33c44b4f428143dbb3318e7cf161a36e",
      "c4b27c2bfbb444eb8c12ade936e1d153",
      "03aabec3c4974d4b97588e352725d058",
      "c49d122b1a6c446ea36c32578cad83d0",
      "21ba7146c5d348f2a782896b74bab08f",
      "b022da0356af45d4ae04a028f1ab6efc",
      "6aad33ef524043fbb4282b938f115bea",
      "08f1343d75b74f1ea3e435a34c352fd7",
      "2b18024241c54508a4851800bac5b5da",
      "c7b6b00e34974f9ba07b30d983900d49",
      "4e1b10d362a44313976664e52b3e35e0"
     ]
    },
    "id": "K6nQvGTBHYnI",
    "outputId": "094d3d20-d7a8-4318-eeae-7c79a729e1e3"
   },
   "outputs": [
    {
     "name": "stderr",
     "output_type": "stream",
     "text": [
      "Some weights of the model checkpoint at distilbert-base-uncased were not used when initializing DistilBertModel: ['vocab_projector.weight', 'vocab_layer_norm.weight', 'vocab_projector.bias', 'vocab_transform.bias', 'vocab_layer_norm.bias', 'vocab_transform.weight']\n",
      "- This IS expected if you are initializing DistilBertModel from the checkpoint of a model trained on another task or with another architecture (e.g. initializing a BertForSequenceClassification model from a BertForPreTraining model).\n",
      "- This IS NOT expected if you are initializing DistilBertModel from the checkpoint of a model that you expect to be exactly identical (initializing a BertForSequenceClassification model from a BertForSequenceClassification model).\n"
     ]
    }
   ],
   "source": [
    "model_class, tokenizer_class, pretrained_weights = (ppb.DistilBertModel, ppb.DistilBertTokenizer, 'distilbert-base-uncased')\n",
    "\n",
    "# Load pretrained model/tokenizer\n",
    "tokenizer = tokenizer_class.from_pretrained(pretrained_weights)\n",
    "model = model_class.from_pretrained(pretrained_weights)"
   ]
  },
  {
   "cell_type": "markdown",
   "metadata": {
    "id": "CNn_SbV0Bz0G"
   },
   "source": [
    "Tokenize the textual data for DistilBERT which in our case would be the companies description"
   ]
  },
  {
   "cell_type": "code",
   "execution_count": 33,
   "metadata": {
    "id": "TBx5f41vBsUc"
   },
   "outputs": [],
   "source": [
    "tokenized = df2['description'].apply((lambda x: tokenizer.encode(x, add_special_tokens=True)))"
   ]
  },
  {
   "cell_type": "markdown",
   "metadata": {
    "id": "jp1sj13uB8wU"
   },
   "source": [
    "Pad all lists of tokenized values to the same size"
   ]
  },
  {
   "cell_type": "code",
   "execution_count": 34,
   "metadata": {
    "id": "_EIGYMxMB_YH"
   },
   "outputs": [],
   "source": [
    "max_len = 0\n",
    "for i in tokenized.values:\n",
    "    if len(i) > max_len:\n",
    "        max_len = len(i)\n",
    "\n",
    "padded = np.array([i + [0]*(max_len-len(i)) for i in tokenized.values])"
   ]
  },
  {
   "cell_type": "code",
   "execution_count": 35,
   "metadata": {
    "colab": {
     "base_uri": "https://localhost:8080/"
    },
    "id": "hoKj2ZEcIVEV",
    "outputId": "03ee944b-19aa-4e0e-a09e-170912acfe4f"
   },
   "outputs": [
    {
     "data": {
      "text/plain": [
       "(74, 463)"
      ]
     },
     "execution_count": 35,
     "metadata": {},
     "output_type": "execute_result"
    }
   ],
   "source": [
    "np.array(padded).shape"
   ]
  },
  {
   "cell_type": "markdown",
   "metadata": {
    "id": "AzaiJA0ACHDk"
   },
   "source": [
    "Create attention mask variable for BERT to ignore (mask) the padding when it's processing its input."
   ]
  },
  {
   "cell_type": "code",
   "execution_count": 36,
   "metadata": {
    "colab": {
     "base_uri": "https://localhost:8080/"
    },
    "id": "vfCZn8QQCGOU",
    "outputId": "e93a509e-6e9f-4c98-8ae2-95aa8eca7fbe"
   },
   "outputs": [
    {
     "data": {
      "text/plain": [
       "(74, 463)"
      ]
     },
     "execution_count": 36,
     "metadata": {},
     "output_type": "execute_result"
    }
   ],
   "source": [
    "attention_mask = np.where(padded != 0, 1, 0)\n",
    "attention_mask.shape"
   ]
  },
  {
   "cell_type": "markdown",
   "metadata": {
    "id": "Gskzz2b1CN9y"
   },
   "source": [
    "We run the pretrained DistilBERT model on the prepared predictor and keep the result in last_hidden_states variable."
   ]
  },
  {
   "cell_type": "code",
   "execution_count": 37,
   "metadata": {
    "id": "daYDf-2XCNmJ"
   },
   "outputs": [],
   "source": [
    "input_ids = torch.tensor(padded)  \n",
    "attention_mask = torch.tensor(attention_mask)\n",
    "\n",
    "with torch.no_grad():\n",
    "    last_hidden_states = model(input_ids, attention_mask=attention_mask)"
   ]
  },
  {
   "cell_type": "markdown",
   "metadata": {
    "id": "B6EXcBijCiG8"
   },
   "source": [
    "Keep the first layer of the hidden states and assign the outcome variable to labels."
   ]
  },
  {
   "cell_type": "code",
   "execution_count": 38,
   "metadata": {
    "id": "S3z7s9YiCh2C"
   },
   "outputs": [],
   "source": [
    "features = last_hidden_states[0][:,0,:].numpy()\n",
    "labels = df2['HIGH_EI']"
   ]
  },
  {
   "cell_type": "markdown",
   "metadata": {
    "id": "CvgZ9uEDC1l-"
   },
   "source": [
    "Split the data in train and test subsets, train the Logistic Regression on train set and evaluate its accuracy on the test set."
   ]
  },
  {
   "cell_type": "code",
   "execution_count": 39,
   "metadata": {
    "colab": {
     "base_uri": "https://localhost:8080/"
    },
    "id": "h1YtHTggCoG5",
    "outputId": "c6d691c4-32a4-4f02-8ce8-ba1ad5fece2b"
   },
   "outputs": [
    {
     "name": "stdout",
     "output_type": "stream",
     "text": [
      "0.8\n"
     ]
    }
   ],
   "source": [
    "train_features, test_features, train_labels, test_labels = train_test_split(features, labels,test_size=0.2,random_state=42)\n",
    "lr_clf = LogisticRegression(max_iter=5000)\n",
    "lr_clf.fit(train_features, train_labels)\n",
    "print(lr_clf.score(test_features, test_labels))"
   ]
  },
  {
   "cell_type": "markdown",
   "metadata": {
    "id": "glZBJvknC5BW"
   },
   "source": [
    "Our model can 80% accuratly capture whether the company is high or low environmental intensity."
   ]
  },
  {
   "cell_type": "code",
   "execution_count": 40,
   "metadata": {
    "colab": {
     "base_uri": "https://localhost:8080/"
    },
    "id": "9XlqLyziDJ6d",
    "outputId": "2b8085b7-3513-4f21-87f9-dce584a0c761"
   },
   "outputs": [
    {
     "data": {
      "text/plain": [
       "4     0\n",
       "63    1\n",
       "18    1\n",
       "0     0\n",
       "28    0\n",
       "73    0\n",
       "10    0\n",
       "34    1\n",
       "12    1\n",
       "55    1\n",
       "65    0\n",
       "31    0\n",
       "9     1\n",
       "45    1\n",
       "5     0\n",
       "Name: HIGH_EI, dtype: int64"
      ]
     },
     "execution_count": 40,
     "metadata": {},
     "output_type": "execute_result"
    }
   ],
   "source": [
    "test_labels"
   ]
  },
  {
   "cell_type": "markdown",
   "metadata": {},
   "source": [
    "### Conclusion\n",
    "\n",
    "We had difficulties trying to map the 4,270 companies to their corresponding Ticker. Also, we discovered that sometimes 'Tickers' are not globally unique. Therefore, it can be difficult to find an accurate way to map the values. \n",
    "\n",
    "Other difficulty was the technical issue with Yahoo Finance page. Their page wasn't allowing web scraping. Hence, we were unable to gather the 870 companies descriptions from the companies Tickers that we were able to map. We decided to collect some descriptions from the Reuters.com and, together with other companies description collected in earlier sprints, we were able to run the DistilBERT model. \n",
    "\n",
    "The dependent variable, the one that we want to predict/classify, is High Environmental Intensity and after training the model with 80% of the observations, it was able to accurate capture whether the company is high or low environmental intensity 80% of the times. \n",
    "\n",
    "This is the end of our analysis."
   ]
  }
 ],
 "metadata": {
  "colab": {
   "collapsed_sections": [
    "roman-ticket",
    "reverse-lunch",
    "outer-filling"
   ],
   "name": "DistilBERT-Companiesdescription.ipynb",
   "provenance": []
  },
  "kernelspec": {
   "display_name": "Python 3",
   "language": "python",
   "name": "python3"
  },
  "language_info": {
   "codemirror_mode": {
    "name": "ipython",
    "version": 3
   },
   "file_extension": ".py",
   "mimetype": "text/x-python",
   "name": "python",
   "nbconvert_exporter": "python",
   "pygments_lexer": "ipython3",
   "version": "3.7.4"
  }
 },
 "nbformat": 4,
 "nbformat_minor": 5
}
