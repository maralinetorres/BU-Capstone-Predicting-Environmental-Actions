{
  "nbformat": 4,
  "nbformat_minor": 0,
  "metadata": {
    "colab": {
      "name": "Fixed Effect on Country.ipynb",
      "provenance": []
    },
    "kernelspec": {
      "display_name": "Python 3",
      "name": "python3"
    },
    "language_info": {
      "name": "python"
    }
  },
  "cells": [
    {
      "cell_type": "code",
      "metadata": {
        "colab": {
          "resources": {
            "http://localhost:8080/nbextensions/google.colab/files.js": {
              "data": "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",
              "ok": true,
              "headers": [
                [
                  "content-type",
                  "application/javascript"
                ]
              ],
              "status": 200,
              "status_text": ""
            }
          },
          "base_uri": "https://localhost:8080/",
          "height": 111
        },
        "id": "-feipbDexngN",
        "outputId": "096154c8-b4f1-43bb-cf72-f45c9ee2be06"
      },
      "source": [
        "#upload file\n",
        "from google.colab import files\n",
        "uploaded = files.upload()"
      ],
      "execution_count": 1,
      "outputs": [
        {
          "output_type": "display_data",
          "data": {
            "text/html": [
              "\n",
              "     <input type=\"file\" id=\"files-5fcfc347-c30a-4603-8050-682eb3ef96a8\" name=\"files[]\" multiple disabled\n",
              "        style=\"border:none\" />\n",
              "     <output id=\"result-5fcfc347-c30a-4603-8050-682eb3ef96a8\">\n",
              "      Upload widget is only available when the cell has been executed in the\n",
              "      current browser session. Please rerun this cell to enable.\n",
              "      </output>\n",
              "      <script src=\"/nbextensions/google.colab/files.js\"></script> "
            ],
            "text/plain": [
              "<IPython.core.display.HTML object>"
            ]
          },
          "metadata": {
            "tags": []
          }
        },
        {
          "output_type": "stream",
          "text": [
            "Saving Final-Sample-External-1.xlsx - Final Raw Sample(0%).csv to Final-Sample-External-1.xlsx - Final Raw Sample(0%).csv\n"
          ],
          "name": "stdout"
        }
      ]
    },
    {
      "cell_type": "markdown",
      "metadata": {
        "id": "zyCd2KYY9aYw"
      },
      "source": [
        "Import some useful libiaries"
      ]
    },
    {
      "cell_type": "code",
      "metadata": {
        "id": "ZeG3U3I_y77g",
        "colab": {
          "base_uri": "https://localhost:8080/"
        },
        "outputId": "9e2a6240-793c-46a3-9767-63385711212e"
      },
      "source": [
        "# import libiaries:\n",
        "import pandas as pd\n",
        "import numpy as np\n",
        "import statsmodels.api as sm\n",
        "from sklearn.model_selection import train_test_split\n",
        "from sklearn.metrics import r2_score\n",
        "from sklearn.model_selection import cross_val_score\n",
        "from sklearn import datasets, linear_model\n",
        "from sklearn.ensemble import RandomForestRegressor\n",
        "from sklearn.datasets import make_regression\n",
        "from sklearn.preprocessing import scale \n",
        "from sklearn.model_selection import train_test_split\n",
        "from sklearn.linear_model import Ridge, RidgeCV, Lasso, LassoCV\n",
        "from sklearn.metrics import mean_squared_error"
      ],
      "execution_count": 2,
      "outputs": [
        {
          "output_type": "stream",
          "text": [
            "/usr/local/lib/python3.7/dist-packages/statsmodels/tools/_testing.py:19: FutureWarning: pandas.util.testing is deprecated. Use the functions in the public API at pandas.testing instead.\n",
            "  import pandas.util.testing as tm\n"
          ],
          "name": "stderr"
        }
      ]
    },
    {
      "cell_type": "markdown",
      "metadata": {
        "id": "Occl8HD99omz"
      },
      "source": [
        "Read the file in dataframe and get some insights of the data"
      ]
    },
    {
      "cell_type": "code",
      "metadata": {
        "colab": {
          "base_uri": "https://localhost:8080/",
          "height": 586
        },
        "id": "WD5N88l4zAHb",
        "outputId": "31a50b43-84a8-414c-970c-e7b91b033d18"
      },
      "source": [
        "# Read data\n",
        "df = pd.read_csv('/content/Final-Sample-External-1.xlsx - Final Raw Sample(0%).csv')\n",
        "df.head()"
      ],
      "execution_count": 10,
      "outputs": [
        {
          "output_type": "execute_result",
          "data": {
            "text/html": [
              "<div>\n",
              "<style scoped>\n",
              "    .dataframe tbody tr th:only-of-type {\n",
              "        vertical-align: middle;\n",
              "    }\n",
              "\n",
              "    .dataframe tbody tr th {\n",
              "        vertical-align: top;\n",
              "    }\n",
              "\n",
              "    .dataframe thead th {\n",
              "        text-align: right;\n",
              "    }\n",
              "</style>\n",
              "<table border=\"1\" class=\"dataframe\">\n",
              "  <thead>\n",
              "    <tr style=\"text-align: right;\">\n",
              "      <th></th>\n",
              "      <th>Year</th>\n",
              "      <th>Company Name</th>\n",
              "      <th>Country</th>\n",
              "      <th>Industry (Exiobase)</th>\n",
              "      <th>Environmental Intensity (Sales)</th>\n",
              "      <th>Environmental Intensity (Op Inc)</th>\n",
              "      <th>Total Environmental Cost</th>\n",
              "      <th>Working Capacity</th>\n",
              "      <th>Fish Production Capacity</th>\n",
              "      <th>Crop Production Capacity</th>\n",
              "      <th>Meat Production Capacity</th>\n",
              "      <th>Biodiversity</th>\n",
              "      <th>Abiotic Resources</th>\n",
              "      <th>Water production capacity (Drinking water &amp; Irrigation Water)</th>\n",
              "      <th>Wood Production Capacity</th>\n",
              "      <th>SDG 1.5</th>\n",
              "      <th>SDG 2.1</th>\n",
              "      <th>SDG 2.2</th>\n",
              "      <th>SDG 2.3</th>\n",
              "      <th>SDG 2.4</th>\n",
              "      <th>SDG 3.3</th>\n",
              "      <th>SDG 3.4</th>\n",
              "      <th>SDG 3.9</th>\n",
              "      <th>SDG 6</th>\n",
              "      <th>SDG 12.2</th>\n",
              "      <th>SDG 14.1</th>\n",
              "      <th>SDG 14.2</th>\n",
              "      <th>SDG 14.3</th>\n",
              "      <th>SDG 14.c</th>\n",
              "      <th>SDG 15.1</th>\n",
              "      <th>SDG 15.2</th>\n",
              "      <th>SDG 15.5</th>\n",
              "      <th>% Imputed</th>\n",
              "    </tr>\n",
              "  </thead>\n",
              "  <tbody>\n",
              "    <tr>\n",
              "      <th>0</th>\n",
              "      <td>2019</td>\n",
              "      <td>Saga plc</td>\n",
              "      <td>United Kingdom</td>\n",
              "      <td>Activities auxiliary to financial intermediati...</td>\n",
              "      <td>-2.89%</td>\n",
              "      <td>-13.03%</td>\n",
              "      <td>(31,842,309)</td>\n",
              "      <td>(31,150,754)</td>\n",
              "      <td>(7,184)</td>\n",
              "      <td>(414,256)</td>\n",
              "      <td>(97,118)</td>\n",
              "      <td>(1,302)</td>\n",
              "      <td>(1,059)</td>\n",
              "      <td>(170,776)</td>\n",
              "      <td>141</td>\n",
              "      <td>(13,942,797)</td>\n",
              "      <td>(8,142,779)</td>\n",
              "      <td>(8,139,160)</td>\n",
              "      <td>(103,564)</td>\n",
              "      <td>(103,564)</td>\n",
              "      <td>(1,312,787)</td>\n",
              "      <td>79,125</td>\n",
              "      <td>(196)</td>\n",
              "      <td>(170,776)</td>\n",
              "      <td>(1,059)</td>\n",
              "      <td>(5)</td>\n",
              "      <td>(1)</td>\n",
              "      <td>(3,585)</td>\n",
              "      <td>(6)</td>\n",
              "      <td>71</td>\n",
              "      <td>71</td>\n",
              "      <td>(1,297)</td>\n",
              "      <td>1%</td>\n",
              "    </tr>\n",
              "    <tr>\n",
              "      <th>1</th>\n",
              "      <td>2019</td>\n",
              "      <td>BURSA MALAYSIA BHD</td>\n",
              "      <td>Malaysia</td>\n",
              "      <td>Activities auxiliary to financial intermediati...</td>\n",
              "      <td>-1.68%</td>\n",
              "      <td>-3.47%</td>\n",
              "      <td>(1,968,379)</td>\n",
              "      <td>(1,924,910)</td>\n",
              "      <td>(451)</td>\n",
              "      <td>(25,349)</td>\n",
              "      <td>(5,938)</td>\n",
              "      <td>(81)</td>\n",
              "      <td>(168)</td>\n",
              "      <td>(11,502)</td>\n",
              "      <td>20</td>\n",
              "      <td>(852,646)</td>\n",
              "      <td>(502,708)</td>\n",
              "      <td>(502,460)</td>\n",
              "      <td>(6,337)</td>\n",
              "      <td>(6,337)</td>\n",
              "      <td>(81,118)</td>\n",
              "      <td>(4,791)</td>\n",
              "      <td>(27)</td>\n",
              "      <td>(11,502)</td>\n",
              "      <td>(168)</td>\n",
              "      <td>(1)</td>\n",
              "      <td>(1)</td>\n",
              "      <td>(222)</td>\n",
              "      <td>(2)</td>\n",
              "      <td>10</td>\n",
              "      <td>10</td>\n",
              "      <td>(79)</td>\n",
              "      <td>4%</td>\n",
              "    </tr>\n",
              "    <tr>\n",
              "      <th>2</th>\n",
              "      <td>2019</td>\n",
              "      <td>INTERTEK GROUP PLC</td>\n",
              "      <td>United Kingdom</td>\n",
              "      <td>Activities auxiliary to financial intermediati...</td>\n",
              "      <td>-1.53%</td>\n",
              "      <td>-9.49%</td>\n",
              "      <td>(60,599,272)</td>\n",
              "      <td>(59,281,663)</td>\n",
              "      <td>(13,774)</td>\n",
              "      <td>(788,289)</td>\n",
              "      <td>(184,802)</td>\n",
              "      <td>(2,487)</td>\n",
              "      <td>(3,804)</td>\n",
              "      <td>(324,960)</td>\n",
              "      <td>508</td>\n",
              "      <td>(26,533,166)</td>\n",
              "      <td>(15,557,810)</td>\n",
              "      <td>(15,550,827)</td>\n",
              "      <td>(197,072)</td>\n",
              "      <td>(197,072)</td>\n",
              "      <td>(2,509,207)</td>\n",
              "      <td>284,215</td>\n",
              "      <td>(703)</td>\n",
              "      <td>(324,960)</td>\n",
              "      <td>(3,804)</td>\n",
              "      <td>(17)</td>\n",
              "      <td>(4)</td>\n",
              "      <td>(6,861)</td>\n",
              "      <td>(20)</td>\n",
              "      <td>254</td>\n",
              "      <td>254</td>\n",
              "      <td>(2,470)</td>\n",
              "      <td>1%</td>\n",
              "    </tr>\n",
              "    <tr>\n",
              "      <th>3</th>\n",
              "      <td>2019</td>\n",
              "      <td>JSE LIMITED</td>\n",
              "      <td>South Africa</td>\n",
              "      <td>Activities auxiliary to financial intermediati...</td>\n",
              "      <td>-1.46%</td>\n",
              "      <td>NaN</td>\n",
              "      <td>(2,290,124)</td>\n",
              "      <td>(2,239,814)</td>\n",
              "      <td>(510)</td>\n",
              "      <td>(29,662)</td>\n",
              "      <td>(6,938)</td>\n",
              "      <td>(93)</td>\n",
              "      <td>(901)</td>\n",
              "      <td>(12,200)</td>\n",
              "      <td>(6)</td>\n",
              "      <td>(995,881)</td>\n",
              "      <td>(576,811)</td>\n",
              "      <td>(576,488)</td>\n",
              "      <td>(7,415)</td>\n",
              "      <td>(7,415)</td>\n",
              "      <td>(92,910)</td>\n",
              "      <td>(19,470)</td>\n",
              "      <td>(277)</td>\n",
              "      <td>(12,200)</td>\n",
              "      <td>(901)</td>\n",
              "      <td>(0)</td>\n",
              "      <td>(1)</td>\n",
              "      <td>(253)</td>\n",
              "      <td>(0)</td>\n",
              "      <td>(3)</td>\n",
              "      <td>(3)</td>\n",
              "      <td>(93)</td>\n",
              "      <td>2%</td>\n",
              "    </tr>\n",
              "    <tr>\n",
              "      <th>4</th>\n",
              "      <td>2019</td>\n",
              "      <td>BUREAU VERITAS SA</td>\n",
              "      <td>France</td>\n",
              "      <td>Activities auxiliary to financial intermediati...</td>\n",
              "      <td>-0.70%</td>\n",
              "      <td>-5.10%</td>\n",
              "      <td>(39,978,650)</td>\n",
              "      <td>(39,107,612)</td>\n",
              "      <td>(9,330)</td>\n",
              "      <td>(520,701)</td>\n",
              "      <td>(121,953)</td>\n",
              "      <td>(1,671)</td>\n",
              "      <td>(4,116)</td>\n",
              "      <td>(214,438)</td>\n",
              "      <td>1,172</td>\n",
              "      <td>(17,514,837)</td>\n",
              "      <td>(10,430,409)</td>\n",
              "      <td>(10,425,281)</td>\n",
              "      <td>(130,175)</td>\n",
              "      <td>(130,175)</td>\n",
              "      <td>(1,684,676)</td>\n",
              "      <td>561,195</td>\n",
              "      <td>(577)</td>\n",
              "      <td>(214,438)</td>\n",
              "      <td>(4,116)</td>\n",
              "      <td>(38)</td>\n",
              "      <td>(9)</td>\n",
              "      <td>(4,607)</td>\n",
              "      <td>(45)</td>\n",
              "      <td>586</td>\n",
              "      <td>586</td>\n",
              "      <td>(1,633)</td>\n",
              "      <td>3%</td>\n",
              "    </tr>\n",
              "  </tbody>\n",
              "</table>\n",
              "</div>"
            ],
            "text/plain": [
              "    Year        Company Name         Country   ...  SDG 15.2   SDG 15.5  % Imputed\n",
              "0    2019            Saga plc  United Kingdom  ...        71     (1,297)        1%\n",
              "1    2019  BURSA MALAYSIA BHD        Malaysia  ...        10        (79)        4%\n",
              "2    2019  INTERTEK GROUP PLC  United Kingdom  ...       254     (2,470)        1%\n",
              "3    2019         JSE LIMITED    South Africa  ...        (3)       (93)        2%\n",
              "4    2019   BUREAU VERITAS SA          France  ...       586     (1,633)        3%\n",
              "\n",
              "[5 rows x 33 columns]"
            ]
          },
          "metadata": {
            "tags": []
          },
          "execution_count": 10
        }
      ]
    },
    {
      "cell_type": "markdown",
      "metadata": {
        "id": "-G3Ny0EQ9Vrm"
      },
      "source": [
        "Clean out the column names and format columns from the csv to float."
      ]
    },
    {
      "cell_type": "code",
      "metadata": {
        "id": "Nmsmj-x-dvp3"
      },
      "source": [
        "column_list = []\n",
        "for column in df.columns:\n",
        "    column_list.append(column.replace(' ', ''))\n",
        "df.columns = column_list\n",
        "df = df[['Year', 'Country', 'Industry(Exiobase)', 'EnvironmentalIntensity(Sales)', 'TotalEnvironmentalCost']]\n",
        "\n",
        "def percent_to_float(s):\n",
        "    return float(s.strip('%')) / 100.0\n",
        "\n",
        "df['EnvironmentalIntensity(Sales)'] = df['EnvironmentalIntensity(Sales)'].apply(percent_to_float)\n",
        "\n",
        "replace_dict = {'(':'',')':'', ' ' : '', ',' : ''}\n",
        "def paranthesis_to_minus(value):\n",
        "    for i, j in replace_dict.items():\n",
        "        value = value.replace(i, j)\n",
        "    value = int(f'-{value}')\n",
        "    return value\n",
        "\n",
        "df['TotalEnvironmentalCost'] = df['TotalEnvironmentalCost'].apply(paranthesis_to_minus)\n"
      ],
      "execution_count": 11,
      "outputs": []
    },
    {
      "cell_type": "markdown",
      "metadata": {
        "id": "EsMwJ4Fr0ghv"
      },
      "source": [
        "Country:"
      ]
    },
    {
      "cell_type": "code",
      "metadata": {
        "id": "eN-4t_n_0iZO"
      },
      "source": [
        "#create dummies for country:\n",
        "df = pd.get_dummies(df, columns = ['Country'])\n",
        "\n",
        "x = df.drop(columns = ['Year',  'EnvironmentalIntensity(Sales)', 'TotalEnvironmentalCost','Industry(Exiobase)'])\n",
        "y = df['EnvironmentalIntensity(Sales)']"
      ],
      "execution_count": 12,
      "outputs": []
    },
    {
      "cell_type": "code",
      "metadata": {
        "colab": {
          "base_uri": "https://localhost:8080/"
        },
        "id": "TMQmBui64-3I",
        "outputId": "d730a1f8-a975-4e15-a35f-d4288f0d57d5"
      },
      "source": [
        "#Setup the dataframe to fit into the models. Fit the models.\n",
        "x_train, x_test, y_train, y_test = train_test_split(x, y, test_size=0.2, random_state=42)\n",
        "OLS_VS = sm.OLS(y_train, x_train).fit()\n",
        "y_pred = OLS_VS.predict(x_test)\n",
        "r2_score(y_test, y_pred)"
      ],
      "execution_count": 13,
      "outputs": [
        {
          "output_type": "execute_result",
          "data": {
            "text/plain": [
              "0.06869355423668577"
            ]
          },
          "metadata": {
            "tags": []
          },
          "execution_count": 13
        }
      ]
    },
    {
      "cell_type": "markdown",
      "metadata": {
        "id": "Y5et_Xn5AwFi"
      },
      "source": [
        "Create models and see the R^2"
      ]
    },
    {
      "cell_type": "code",
      "metadata": {
        "colab": {
          "base_uri": "https://localhost:8080/"
        },
        "id": "YBApwjPY4-1M",
        "outputId": "47c9e40b-e2c8-4d56-de36-411f818d6d7e"
      },
      "source": [
        "OLS_CV = linear_model.LinearRegression()\n",
        "lasso = linear_model.Lasso()\n",
        "ridge = linear_model.Ridge()\n",
        "\n",
        "OLS_CV.fit(x_train, y_train)\n",
        "y_pred = OLS_CV.predict(x_test)\n",
        "r2_score(y_test, y_pred)\n",
        "\n",
        "print(cross_val_score(OLS_CV, x_train, y_train, cv=3, scoring = 'r2'))\n",
        "print(cross_val_score(lasso, x_train, y_train, cv=3, scoring = 'r2'))\n",
        "print(cross_val_score(ridge, x_train, y_train, cv=3, scoring = 'r2'))"
      ],
      "execution_count": 10,
      "outputs": [
        {
          "output_type": "stream",
          "text": [
            "[-1.58147403e+23 -1.13698965e+24 -1.10982061e+22]\n",
            "[-0.00019949 -0.00172387 -0.00051852]\n",
            "[0.04458907 0.02144513 0.05797352]\n"
          ],
          "name": "stdout"
        }
      ]
    },
    {
      "cell_type": "code",
      "metadata": {
        "colab": {
          "base_uri": "https://localhost:8080/"
        },
        "id": "DbUK_Ebf4-yL",
        "outputId": "c4b6850d-9f88-4e7a-a4d6-58b5b04284f5"
      },
      "source": [
        "#Try more on  Ridge\n",
        "ridge2 = Ridge(alpha = 4, normalize = True)\n",
        "ridge2.fit(x_train, y_train)             # Fit a ridge regression on the training data\n",
        "pred2 = ridge2.predict(x_test)           # Use this model to predict the test data\n",
        "print(pd.Series(ridge2.coef_, index = x.columns)) # Print coefficients\n",
        "print(mean_squared_error(y_test, pred2))          # Calculate the test MSE when alpha=4"
      ],
      "execution_count": null,
      "outputs": [
        {
          "output_type": "stream",
          "text": [
            "Country_ Argentina              0.019551\n",
            "Country_ Australia             -0.005811\n",
            "Country_ Austria                0.001120\n",
            "Country_ Belgium                0.008106\n",
            "Country_ Bermuda                0.110859\n",
            "                                  ...   \n",
            "Country_Turkey                 -0.096032\n",
            "Country_Ukraine                -0.009798\n",
            "Country_United Arab Emirates    0.037884\n",
            "Country_United Kingdom          0.012517\n",
            "Country_United States          -0.010405\n",
            "Length: 129, dtype: float64\n",
            "0.06970233041366569\n"
          ],
          "name": "stdout"
        }
      ]
    },
    {
      "cell_type": "code",
      "metadata": {
        "colab": {
          "base_uri": "https://localhost:8080/"
        },
        "id": "xQqwvYQY4-vr",
        "outputId": "c2fdacd3-905b-4def-b39f-7c604672403f"
      },
      "source": [
        "#MSE decreases when alpha=0\n",
        "ridge2 = Ridge(alpha = 0, normalize = True)\n",
        "ridge2.fit(x_train, y_train)             # Fit a ridge regression on the training data\n",
        "pred = ridge2.predict(x_test)            # Use this model to predict the test data\n",
        "print(pd.Series(ridge2.coef_, index = x.columns)) # Print coefficients\n",
        "print(mean_squared_error(y_test, pred))           # Calculate the test MSE\n",
        "print(r2_score(y_test, pred))"
      ],
      "execution_count": 14,
      "outputs": [
        {
          "output_type": "stream",
          "text": [
            "Country_ Argentina             -1.224630e+12\n",
            "Country_ Australia             -1.224630e+12\n",
            "Country_ Austria               -1.224630e+12\n",
            "Country_ Belgium               -1.224630e+12\n",
            "Country_ Bermuda               -1.224630e+12\n",
            "                                    ...     \n",
            "Country_Turkey                 -1.224630e+12\n",
            "Country_Ukraine                -1.224630e+12\n",
            "Country_United Arab Emirates   -1.224630e+12\n",
            "Country_United Kingdom         -1.224630e+12\n",
            "Country_United States          -1.224630e+12\n",
            "Length: 129, dtype: float64\n",
            "5.16609844370155e+20\n",
            "-7.23691527615599e+21\n"
          ],
          "name": "stdout"
        }
      ]
    },
    {
      "cell_type": "code",
      "metadata": {
        "colab": {
          "base_uri": "https://localhost:8080/"
        },
        "id": "UFLg_LdE4-tC",
        "outputId": "453cef93-b6a6-41f9-c1f3-f7d11a1b6644"
      },
      "source": [
        "alphas = 10**np.linspace(10,-2,100)*0.5\n",
        "ridgecv = RidgeCV(alphas = alphas, scoring = 'neg_mean_squared_error', normalize = True)\n",
        "ridgecv.fit(x_train, y_train)\n",
        "ridgecv.alpha_\n",
        "ridge4 = Ridge(alpha = ridgecv.alpha_, normalize = True)\n",
        "ridge4.fit(x_train, y_train)\n",
        "mean_squared_error(y_test, ridge4.predict(x_test))"
      ],
      "execution_count": null,
      "outputs": [
        {
          "output_type": "execute_result",
          "data": {
            "text/plain": [
              "0.06668199359489732"
            ]
          },
          "metadata": {
            "tags": []
          },
          "execution_count": 36
        }
      ]
    },
    {
      "cell_type": "code",
      "metadata": {
        "id": "B2JqpCv90ix6",
        "colab": {
          "base_uri": "https://localhost:8080/"
        },
        "outputId": "c3780d4a-6e0b-42d8-eeaf-5c90fa42ca51"
      },
      "source": [
        "# Try more on Lasso:\n",
        "lassoo = Lasso(max_iter = 10000, normalize = True)\n",
        "coefs = []\n",
        "\n",
        "for a in alphas:\n",
        "    lassoo.set_params(alpha=a)\n",
        "    lassoo.fit(scale(x_train), y_train)\n",
        "    coefs.append(lassoo.coef_)\n",
        "lassocv = LassoCV(alphas = None, cv = 2, max_iter = 100000, normalize = True)\n",
        "lassocv.fit(x_train, y_train)\n",
        "\n",
        "lassoo.set_params(alpha=lassocv.alpha_)\n",
        "lassoo.fit(x_train, y_train)\n",
        "mean_squared_error(y_test, lassoo.predict(x_test))"
      ],
      "execution_count": null,
      "outputs": [
        {
          "output_type": "execute_result",
          "data": {
            "text/plain": [
              "0.06705130667221469"
            ]
          },
          "metadata": {
            "tags": []
          },
          "execution_count": 37
        }
      ]
    },
    {
      "cell_type": "code",
      "metadata": {
        "id": "vTzF7tS40ivA",
        "colab": {
          "base_uri": "https://localhost:8080/"
        },
        "outputId": "0c2d3e78-b9be-4a78-c48b-cddb2e553407"
      },
      "source": [
        "pd.Series(lassoo.coef_, index=x.columns)"
      ],
      "execution_count": null,
      "outputs": [
        {
          "output_type": "execute_result",
          "data": {
            "text/plain": [
              "Country_ Argentina              0.000000\n",
              "Country_ Australia             -0.015843\n",
              "Country_ Austria                0.000000\n",
              "Country_ Belgium                0.000000\n",
              "Country_ Bermuda                0.441436\n",
              "                                  ...   \n",
              "Country_Turkey                 -0.430045\n",
              "Country_Ukraine                -0.000000\n",
              "Country_United Arab Emirates    0.066342\n",
              "Country_United Kingdom          0.045519\n",
              "Country_United States          -0.043993\n",
              "Length: 129, dtype: float64"
            ]
          },
          "metadata": {
            "tags": []
          },
          "execution_count": 39
        }
      ]
    },
    {
      "cell_type": "code",
      "metadata": {
        "id": "1iR5V3oG0isJ",
        "colab": {
          "base_uri": "https://localhost:8080/"
        },
        "outputId": "191776f8-dd0a-494b-f3dc-1cc0cd4955ca"
      },
      "source": [
        "#Random Forest\n",
        "X, y = make_regression(n_features=4, n_informative=2,\n",
        "                       random_state=0, shuffle=False)\n",
        "regr = RandomForestRegressor(max_depth=2, random_state=0)\n",
        "regr.fit(x_train, y_train)\n",
        "\n",
        "y_pred = regr.predict(x_test)\n",
        "print('Random Forest:', r2_score(y_test, y_pred))"
      ],
      "execution_count": 14,
      "outputs": [
        {
          "output_type": "stream",
          "text": [
            "Random Forest: 0.008440791625494382\n"
          ],
          "name": "stdout"
        }
      ]
    }
  ]
}