{
  "nbformat": 4,
  "nbformat_minor": 0,
  "metadata": {
    "colab": {
      "name": "Fixed Effect on Industry .ipynb",
      "provenance": [],
      "collapsed_sections": []
    },
    "kernelspec": {
      "name": "python3",
      "display_name": "Python 3"
    },
    "language_info": {
      "name": "python"
    }
  },
  "cells": [
    {
      "cell_type": "code",
      "metadata": {
        "colab": {
          "resources": {
            "http://localhost:8080/nbextensions/google.colab/files.js": {
              "data": "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",
              "ok": true,
              "headers": [
                [
                  "content-type",
                  "application/javascript"
                ]
              ],
              "status": 200,
              "status_text": ""
            }
          },
          "base_uri": "https://localhost:8080/",
          "height": 74
        },
        "id": "j09a0CRPbgrD",
        "outputId": "2280a16e-3259-4eff-ed45-a74205fd009e"
      },
      "source": [
        "#upload file\n",
        "from google.colab import files\n",
        "uploaded = files.upload()"
      ],
      "execution_count": 1,
      "outputs": [
        {
          "output_type": "display_data",
          "data": {
            "text/html": [
              "\n",
              "     <input type=\"file\" id=\"files-42e2e2a3-3f59-433a-96f8-f3331055bd58\" name=\"files[]\" multiple disabled\n",
              "        style=\"border:none\" />\n",
              "     <output id=\"result-42e2e2a3-3f59-433a-96f8-f3331055bd58\">\n",
              "      Upload widget is only available when the cell has been executed in the\n",
              "      current browser session. Please rerun this cell to enable.\n",
              "      </output>\n",
              "      <script src=\"/nbextensions/google.colab/files.js\"></script> "
            ],
            "text/plain": [
              "<IPython.core.display.HTML object>"
            ]
          },
          "metadata": {
            "tags": []
          }
        },
        {
          "output_type": "stream",
          "text": [
            "Saving Final-Sample-External-1.xlsx - Final Raw Sample(0%).csv to Final-Sample-External-1.xlsx - Final Raw Sample(0%).csv\n"
          ],
          "name": "stdout"
        }
      ]
    },
    {
      "cell_type": "markdown",
      "metadata": {
        "id": "voPwysikOIhx"
      },
      "source": [
        "Import some useful libiaries"
      ]
    },
    {
      "cell_type": "code",
      "metadata": {
        "id": "8ilQ-N_PcnRS",
        "colab": {
          "base_uri": "https://localhost:8080/"
        },
        "outputId": "101bcd54-f06f-4279-97de-1d0339e55b6c"
      },
      "source": [
        "# import libiaries:\n",
        "import pandas as pd\n",
        "import numpy as np\n",
        "import statsmodels.api as sm\n",
        "from sklearn.model_selection import train_test_split\n",
        "from sklearn.metrics import r2_score\n",
        "from sklearn.model_selection import cross_val_score\n",
        "from sklearn import datasets, linear_model\n",
        "from sklearn.ensemble import RandomForestRegressor\n",
        "from sklearn.datasets import make_regression\n",
        "from sklearn.preprocessing import scale \n",
        "from sklearn.model_selection import train_test_split\n",
        "from sklearn.linear_model import Ridge, RidgeCV, Lasso, LassoCV\n",
        "from sklearn.metrics import mean_squared_error"
      ],
      "execution_count": 2,
      "outputs": [
        {
          "output_type": "stream",
          "text": [
            "/usr/local/lib/python3.7/dist-packages/statsmodels/tools/_testing.py:19: FutureWarning: pandas.util.testing is deprecated. Use the functions in the public API at pandas.testing instead.\n",
            "  import pandas.util.testing as tm\n"
          ],
          "name": "stderr"
        }
      ]
    },
    {
      "cell_type": "markdown",
      "metadata": {
        "id": "P6A4twOIOi-m"
      },
      "source": [
        "\n",
        "Read the file in dataframe and get some insights of the data"
      ]
    },
    {
      "cell_type": "code",
      "metadata": {
        "colab": {
          "base_uri": "https://localhost:8080/",
          "height": 586
        },
        "id": "DGmrK-crdRUk",
        "outputId": "2a12310c-2ac2-4a56-d117-1dca4200eae2"
      },
      "source": [
        "# Read data\n",
        "df = pd.read_csv('/content/Final-Sample-External-1.xlsx - Final Raw Sample(0%).csv')\n",
        "df.head()"
      ],
      "execution_count": 3,
      "outputs": [
        {
          "output_type": "execute_result",
          "data": {
            "text/html": [
              "<div>\n",
              "<style scoped>\n",
              "    .dataframe tbody tr th:only-of-type {\n",
              "        vertical-align: middle;\n",
              "    }\n",
              "\n",
              "    .dataframe tbody tr th {\n",
              "        vertical-align: top;\n",
              "    }\n",
              "\n",
              "    .dataframe thead th {\n",
              "        text-align: right;\n",
              "    }\n",
              "</style>\n",
              "<table border=\"1\" class=\"dataframe\">\n",
              "  <thead>\n",
              "    <tr style=\"text-align: right;\">\n",
              "      <th></th>\n",
              "      <th>Year</th>\n",
              "      <th>Company Name</th>\n",
              "      <th>Country</th>\n",
              "      <th>Industry (Exiobase)</th>\n",
              "      <th>Environmental Intensity (Sales)</th>\n",
              "      <th>Environmental Intensity (Op Inc)</th>\n",
              "      <th>Total Environmental Cost</th>\n",
              "      <th>Working Capacity</th>\n",
              "      <th>Fish Production Capacity</th>\n",
              "      <th>Crop Production Capacity</th>\n",
              "      <th>Meat Production Capacity</th>\n",
              "      <th>Biodiversity</th>\n",
              "      <th>Abiotic Resources</th>\n",
              "      <th>Water production capacity (Drinking water &amp; Irrigation Water)</th>\n",
              "      <th>Wood Production Capacity</th>\n",
              "      <th>SDG 1.5</th>\n",
              "      <th>SDG 2.1</th>\n",
              "      <th>SDG 2.2</th>\n",
              "      <th>SDG 2.3</th>\n",
              "      <th>SDG 2.4</th>\n",
              "      <th>SDG 3.3</th>\n",
              "      <th>SDG 3.4</th>\n",
              "      <th>SDG 3.9</th>\n",
              "      <th>SDG 6</th>\n",
              "      <th>SDG 12.2</th>\n",
              "      <th>SDG 14.1</th>\n",
              "      <th>SDG 14.2</th>\n",
              "      <th>SDG 14.3</th>\n",
              "      <th>SDG 14.c</th>\n",
              "      <th>SDG 15.1</th>\n",
              "      <th>SDG 15.2</th>\n",
              "      <th>SDG 15.5</th>\n",
              "      <th>% Imputed</th>\n",
              "    </tr>\n",
              "  </thead>\n",
              "  <tbody>\n",
              "    <tr>\n",
              "      <th>0</th>\n",
              "      <td>2019</td>\n",
              "      <td>Saga plc</td>\n",
              "      <td>United Kingdom</td>\n",
              "      <td>Activities auxiliary to financial intermediati...</td>\n",
              "      <td>-2.89%</td>\n",
              "      <td>-13.03%</td>\n",
              "      <td>(31,842,309)</td>\n",
              "      <td>(31,150,754)</td>\n",
              "      <td>(7,184)</td>\n",
              "      <td>(414,256)</td>\n",
              "      <td>(97,118)</td>\n",
              "      <td>(1,302)</td>\n",
              "      <td>(1,059)</td>\n",
              "      <td>(170,776)</td>\n",
              "      <td>141</td>\n",
              "      <td>(13,942,797)</td>\n",
              "      <td>(8,142,779)</td>\n",
              "      <td>(8,139,160)</td>\n",
              "      <td>(103,564)</td>\n",
              "      <td>(103,564)</td>\n",
              "      <td>(1,312,787)</td>\n",
              "      <td>79,125</td>\n",
              "      <td>(196)</td>\n",
              "      <td>(170,776)</td>\n",
              "      <td>(1,059)</td>\n",
              "      <td>(5)</td>\n",
              "      <td>(1)</td>\n",
              "      <td>(3,585)</td>\n",
              "      <td>(6)</td>\n",
              "      <td>71</td>\n",
              "      <td>71</td>\n",
              "      <td>(1,297)</td>\n",
              "      <td>1%</td>\n",
              "    </tr>\n",
              "    <tr>\n",
              "      <th>1</th>\n",
              "      <td>2019</td>\n",
              "      <td>BURSA MALAYSIA BHD</td>\n",
              "      <td>Malaysia</td>\n",
              "      <td>Activities auxiliary to financial intermediati...</td>\n",
              "      <td>-1.68%</td>\n",
              "      <td>-3.47%</td>\n",
              "      <td>(1,968,379)</td>\n",
              "      <td>(1,924,910)</td>\n",
              "      <td>(451)</td>\n",
              "      <td>(25,349)</td>\n",
              "      <td>(5,938)</td>\n",
              "      <td>(81)</td>\n",
              "      <td>(168)</td>\n",
              "      <td>(11,502)</td>\n",
              "      <td>20</td>\n",
              "      <td>(852,646)</td>\n",
              "      <td>(502,708)</td>\n",
              "      <td>(502,460)</td>\n",
              "      <td>(6,337)</td>\n",
              "      <td>(6,337)</td>\n",
              "      <td>(81,118)</td>\n",
              "      <td>(4,791)</td>\n",
              "      <td>(27)</td>\n",
              "      <td>(11,502)</td>\n",
              "      <td>(168)</td>\n",
              "      <td>(1)</td>\n",
              "      <td>(1)</td>\n",
              "      <td>(222)</td>\n",
              "      <td>(2)</td>\n",
              "      <td>10</td>\n",
              "      <td>10</td>\n",
              "      <td>(79)</td>\n",
              "      <td>4%</td>\n",
              "    </tr>\n",
              "    <tr>\n",
              "      <th>2</th>\n",
              "      <td>2019</td>\n",
              "      <td>INTERTEK GROUP PLC</td>\n",
              "      <td>United Kingdom</td>\n",
              "      <td>Activities auxiliary to financial intermediati...</td>\n",
              "      <td>-1.53%</td>\n",
              "      <td>-9.49%</td>\n",
              "      <td>(60,599,272)</td>\n",
              "      <td>(59,281,663)</td>\n",
              "      <td>(13,774)</td>\n",
              "      <td>(788,289)</td>\n",
              "      <td>(184,802)</td>\n",
              "      <td>(2,487)</td>\n",
              "      <td>(3,804)</td>\n",
              "      <td>(324,960)</td>\n",
              "      <td>508</td>\n",
              "      <td>(26,533,166)</td>\n",
              "      <td>(15,557,810)</td>\n",
              "      <td>(15,550,827)</td>\n",
              "      <td>(197,072)</td>\n",
              "      <td>(197,072)</td>\n",
              "      <td>(2,509,207)</td>\n",
              "      <td>284,215</td>\n",
              "      <td>(703)</td>\n",
              "      <td>(324,960)</td>\n",
              "      <td>(3,804)</td>\n",
              "      <td>(17)</td>\n",
              "      <td>(4)</td>\n",
              "      <td>(6,861)</td>\n",
              "      <td>(20)</td>\n",
              "      <td>254</td>\n",
              "      <td>254</td>\n",
              "      <td>(2,470)</td>\n",
              "      <td>1%</td>\n",
              "    </tr>\n",
              "    <tr>\n",
              "      <th>3</th>\n",
              "      <td>2019</td>\n",
              "      <td>JSE LIMITED</td>\n",
              "      <td>South Africa</td>\n",
              "      <td>Activities auxiliary to financial intermediati...</td>\n",
              "      <td>-1.46%</td>\n",
              "      <td>NaN</td>\n",
              "      <td>(2,290,124)</td>\n",
              "      <td>(2,239,814)</td>\n",
              "      <td>(510)</td>\n",
              "      <td>(29,662)</td>\n",
              "      <td>(6,938)</td>\n",
              "      <td>(93)</td>\n",
              "      <td>(901)</td>\n",
              "      <td>(12,200)</td>\n",
              "      <td>(6)</td>\n",
              "      <td>(995,881)</td>\n",
              "      <td>(576,811)</td>\n",
              "      <td>(576,488)</td>\n",
              "      <td>(7,415)</td>\n",
              "      <td>(7,415)</td>\n",
              "      <td>(92,910)</td>\n",
              "      <td>(19,470)</td>\n",
              "      <td>(277)</td>\n",
              "      <td>(12,200)</td>\n",
              "      <td>(901)</td>\n",
              "      <td>(0)</td>\n",
              "      <td>(1)</td>\n",
              "      <td>(253)</td>\n",
              "      <td>(0)</td>\n",
              "      <td>(3)</td>\n",
              "      <td>(3)</td>\n",
              "      <td>(93)</td>\n",
              "      <td>2%</td>\n",
              "    </tr>\n",
              "    <tr>\n",
              "      <th>4</th>\n",
              "      <td>2019</td>\n",
              "      <td>BUREAU VERITAS SA</td>\n",
              "      <td>France</td>\n",
              "      <td>Activities auxiliary to financial intermediati...</td>\n",
              "      <td>-0.70%</td>\n",
              "      <td>-5.10%</td>\n",
              "      <td>(39,978,650)</td>\n",
              "      <td>(39,107,612)</td>\n",
              "      <td>(9,330)</td>\n",
              "      <td>(520,701)</td>\n",
              "      <td>(121,953)</td>\n",
              "      <td>(1,671)</td>\n",
              "      <td>(4,116)</td>\n",
              "      <td>(214,438)</td>\n",
              "      <td>1,172</td>\n",
              "      <td>(17,514,837)</td>\n",
              "      <td>(10,430,409)</td>\n",
              "      <td>(10,425,281)</td>\n",
              "      <td>(130,175)</td>\n",
              "      <td>(130,175)</td>\n",
              "      <td>(1,684,676)</td>\n",
              "      <td>561,195</td>\n",
              "      <td>(577)</td>\n",
              "      <td>(214,438)</td>\n",
              "      <td>(4,116)</td>\n",
              "      <td>(38)</td>\n",
              "      <td>(9)</td>\n",
              "      <td>(4,607)</td>\n",
              "      <td>(45)</td>\n",
              "      <td>586</td>\n",
              "      <td>586</td>\n",
              "      <td>(1,633)</td>\n",
              "      <td>3%</td>\n",
              "    </tr>\n",
              "  </tbody>\n",
              "</table>\n",
              "</div>"
            ],
            "text/plain": [
              "    Year        Company Name         Country   ...  SDG 15.2   SDG 15.5  % Imputed\n",
              "0    2019            Saga plc  United Kingdom  ...        71     (1,297)        1%\n",
              "1    2019  BURSA MALAYSIA BHD        Malaysia  ...        10        (79)        4%\n",
              "2    2019  INTERTEK GROUP PLC  United Kingdom  ...       254     (2,470)        1%\n",
              "3    2019         JSE LIMITED    South Africa  ...        (3)       (93)        2%\n",
              "4    2019   BUREAU VERITAS SA          France  ...       586     (1,633)        3%\n",
              "\n",
              "[5 rows x 33 columns]"
            ]
          },
          "metadata": {
            "tags": []
          },
          "execution_count": 3
        }
      ]
    },
    {
      "cell_type": "markdown",
      "metadata": {
        "id": "CPfsXeg4OxfH"
      },
      "source": [
        "Clean out the column names and format columns from the csv to float."
      ]
    },
    {
      "cell_type": "code",
      "metadata": {
        "id": "Nmsmj-x-dvp3"
      },
      "source": [
        "column_list = []\n",
        "for column in df.columns:\n",
        "    column_list.append(column.replace(' ', ''))\n",
        "df.columns = column_list\n",
        "df = df[['Year', 'Country', 'Industry(Exiobase)', 'EnvironmentalIntensity(Sales)', 'TotalEnvironmentalCost']]\n",
        "\n",
        "def percent_to_float(s):\n",
        "    return float(s.strip('%')) / 100.0\n",
        "\n",
        "df['EnvironmentalIntensity(Sales)'] = df['EnvironmentalIntensity(Sales)'].apply(percent_to_float)\n",
        "\n",
        "replace_dict = {'(':'',')':'', ' ' : '', ',' : ''}\n",
        "def paranthesis_to_minus(value):\n",
        "    for i, j in replace_dict.items():\n",
        "        value = value.replace(i, j)\n",
        "    value = int(f'-{value}')\n",
        "    return value\n",
        "\n",
        "df['TotalEnvironmentalCost'] = df['TotalEnvironmentalCost'].apply(paranthesis_to_minus)\n"
      ],
      "execution_count": 4,
      "outputs": []
    },
    {
      "cell_type": "markdown",
      "metadata": {
        "id": "DjcUr6eyTa9v"
      },
      "source": [
        "Industry:"
      ]
    },
    {
      "cell_type": "code",
      "metadata": {
        "id": "EkIOJE0MzrKf"
      },
      "source": [
        "#create dummies for industry:\n",
        "df = pd.get_dummies(df, columns = ['Industry(Exiobase)'])\n",
        "\n",
        "x = df.drop(columns = ['Year',  'EnvironmentalIntensity(Sales)', 'TotalEnvironmentalCost','Country'])\n",
        "y = df['EnvironmentalIntensity(Sales)']\n"
      ],
      "execution_count": 5,
      "outputs": []
    },
    {
      "cell_type": "code",
      "metadata": {
        "colab": {
          "base_uri": "https://localhost:8080/"
        },
        "id": "EDSbhjMFegYo",
        "outputId": "3594021d-1f32-4a98-f8a1-6b1dd2d57466"
      },
      "source": [
        "#fit the models:\n",
        "x_train, x_test, y_train, y_test = train_test_split(x, y, test_size=0.2, random_state=42)\n",
        "OLS_VS = sm.OLS(y_train, x_train).fit()\n",
        "y_pred = OLS_VS.predict(x_test)\n",
        "r2_score(y_test, y_pred)"
      ],
      "execution_count": 6,
      "outputs": [
        {
          "output_type": "execute_result",
          "data": {
            "text/plain": [
              "0.42383046486967446"
            ]
          },
          "metadata": {
            "tags": []
          },
          "execution_count": 6
        }
      ]
    },
    {
      "cell_type": "markdown",
      "metadata": {
        "id": "k86nLaF1O5dY"
      },
      "source": [
        "Create models and see the R^2"
      ]
    },
    {
      "cell_type": "code",
      "metadata": {
        "colab": {
          "base_uri": "https://localhost:8080/"
        },
        "id": "wXL8f93rhEF2",
        "outputId": "3916f1e4-50b2-4ebc-c89e-c7ddf64f1ee5"
      },
      "source": [
        "OLS_CV = linear_model.LinearRegression()\n",
        "lasso = linear_model.Lasso()\n",
        "ridge = linear_model.Ridge()\n",
        "\n",
        "OLS_CV.fit(x_train, y_train)\n",
        "y_pred = OLS_CV.predict(x_test)\n",
        "r2_score(y_test, y_pred)\n",
        "\n",
        "print(cross_val_score(OLS_CV, x_train, y_train, cv=3, scoring = 'r2'))\n",
        "print(cross_val_score(lasso, x_train, y_train, cv=3, scoring = 'r2'))\n",
        "print(cross_val_score(ridge, x_train, y_train, cv=3, scoring = 'r2'))"
      ],
      "execution_count": null,
      "outputs": [
        {
          "output_type": "execute_result",
          "data": {
            "text/plain": [
              "array([0.4122486 , 0.45000816, 0.37792929])"
            ]
          },
          "metadata": {
            "tags": []
          },
          "execution_count": 13
        }
      ]
    },
    {
      "cell_type": "code",
      "metadata": {
        "colab": {
          "base_uri": "https://localhost:8080/"
        },
        "id": "m_X23EBCpkkm",
        "outputId": "c7d0d895-1004-4814-a96e-e70891b0d790"
      },
      "source": [
        "#Try more on  Ridge\n",
        "ridge2 = Ridge(alpha = 4, normalize = True)\n",
        "ridge2.fit(x_train, y_train)             # Fit a ridge regression on the training data\n",
        "pred2 = ridge2.predict(x_test)           # Use this model to predict the test data\n",
        "print(pd.Series(ridge2.coef_, index = x.columns)) # Print coefficients\n",
        "print(mean_squared_error(y_test, pred2))          # Calculate the test MSE when alpha=4"
      ],
      "execution_count": null,
      "outputs": [
        {
          "output_type": "stream",
          "text": [
            "Industry(Exiobase)_ Activities auxiliary to financial intermediation (67)                                                                 0.021627\n",
            "Industry(Exiobase)_ Activities of membership organisation n.e.c. (91)                                                                    -0.003045\n",
            "Industry(Exiobase)_ Air transport (62)                                                                                                   -0.016925\n",
            "Industry(Exiobase)_ Chemicals nec                                                                                                        -0.006742\n",
            "Industry(Exiobase)_ Collection, purification and distribution of water (41)                                                              -0.000014\n",
            "                                                                                                                                            ...   \n",
            "Industry(Exiobase)_Sale, maintenance, repair of motor vehicles, motor vehicles parts, motorcycles, motor cycles parts and accessoiries    0.010843\n",
            "Industry(Exiobase)_Sea and coastal water transport                                                                                        0.122277\n",
            "Industry(Exiobase)_Transport via pipelines                                                                                                0.017385\n",
            "Industry(Exiobase)_Transport via railways                                                                                                 0.015842\n",
            "Industry(Exiobase)_Wholesale trade and commission trade, except of motor vehicles and motorcycles (51)                                    0.020405\n",
            "Length: 111, dtype: float64\n",
            "0.059894799321618813\n"
          ],
          "name": "stdout"
        }
      ]
    },
    {
      "cell_type": "code",
      "metadata": {
        "colab": {
          "base_uri": "https://localhost:8080/"
        },
        "id": "nTAhHxf2qmuo",
        "outputId": "12aa408e-ec1c-40a2-99e4-b60a7be230b9"
      },
      "source": [
        "#MSE decreases when alpha=0\n",
        "ridge2 = Ridge(alpha = 0, normalize = True)\n",
        "ridge2.fit(x_train, y_train)             # Fit a ridge regression on the training data\n",
        "pred = ridge2.predict(x_test)            # Use this model to predict the test data\n",
        "print(pd.Series(ridge2.coef_, index = x.columns)) # Print coefficients\n",
        "print(mean_squared_error(y_test, pred))           # Calculate the test MSE"
      ],
      "execution_count": null,
      "outputs": [
        {
          "output_type": "stream",
          "text": [
            "Industry(Exiobase)_ Activities auxiliary to financial intermediation (67)                                                                -2.453817e+11\n",
            "Industry(Exiobase)_ Activities of membership organisation n.e.c. (91)                                                                    -2.453817e+11\n",
            "Industry(Exiobase)_ Air transport (62)                                                                                                   -2.453817e+11\n",
            "Industry(Exiobase)_ Chemicals nec                                                                                                        -2.453817e+11\n",
            "Industry(Exiobase)_ Collection, purification and distribution of water (41)                                                              -2.453817e+11\n",
            "                                                                                                                                              ...     \n",
            "Industry(Exiobase)_Sale, maintenance, repair of motor vehicles, motor vehicles parts, motorcycles, motor cycles parts and accessoiries   -2.453817e+11\n",
            "Industry(Exiobase)_Sea and coastal water transport                                                                                       -2.453817e+11\n",
            "Industry(Exiobase)_Transport via pipelines                                                                                               -2.453817e+11\n",
            "Industry(Exiobase)_Transport via railways                                                                                                -2.453817e+11\n",
            "Industry(Exiobase)_Wholesale trade and commission trade, except of motor vehicles and motorcycles (51)                                   -2.453817e+11\n",
            "Length: 111, dtype: float64\n",
            "0.04112815584034086\n"
          ],
          "name": "stdout"
        }
      ]
    },
    {
      "cell_type": "code",
      "metadata": {
        "colab": {
          "base_uri": "https://localhost:8080/"
        },
        "id": "HLJ6llKMq4-X",
        "outputId": "7dabaf17-0669-47f7-ef31-308b22b65bfc"
      },
      "source": [
        "alphas = 10**np.linspace(10,-2,100)*0.5\n",
        "ridgecv = RidgeCV(alphas = alphas, scoring = 'neg_mean_squared_error', normalize = True)\n",
        "ridgecv.fit(x_train, y_train)\n",
        "ridgecv.alpha_\n",
        "ridge4 = Ridge(alpha = ridgecv.alpha_, normalize = True)\n",
        "ridge4.fit(x_train, y_train)\n",
        "mean_squared_error(y_test, ridge4.predict(x_test))"
      ],
      "execution_count": null,
      "outputs": [
        {
          "output_type": "execute_result",
          "data": {
            "text/plain": [
              "0.041081885447914544"
            ]
          },
          "metadata": {
            "tags": []
          },
          "execution_count": 26
        }
      ]
    },
    {
      "cell_type": "code",
      "metadata": {
        "colab": {
          "base_uri": "https://localhost:8080/"
        },
        "id": "0x1YnoZvrznV",
        "outputId": "1791e03a-19d3-4745-ffcf-57f50fb5180e"
      },
      "source": [
        "# Try more on Lasso:\n",
        "lassoo = Lasso(max_iter = 10000, normalize = True)\n",
        "coefs = []\n",
        "\n",
        "for a in alphas:\n",
        "    lassoo.set_params(alpha=a)\n",
        "    lassoo.fit(scale(x_train), y_train)\n",
        "    coefs.append(lassoo.coef_)\n",
        "lassocv = LassoCV(alphas = None, cv = 2, max_iter = 100000, normalize = True)\n",
        "lassocv.fit(x_train, y_train)\n",
        "\n",
        "lassoo.set_params(alpha=lassocv.alpha_)\n",
        "lassoo.fit(x_train, y_train)\n",
        "mean_squared_error(y_test, lassoo.predict(x_test))"
      ],
      "execution_count": null,
      "outputs": [
        {
          "output_type": "execute_result",
          "data": {
            "text/plain": [
              "0.041027083105413094"
            ]
          },
          "metadata": {
            "tags": []
          },
          "execution_count": 32
        }
      ]
    },
    {
      "cell_type": "markdown",
      "metadata": {
        "id": "JQKptQiaPA-e"
      },
      "source": [
        "Look through the coefficients"
      ]
    },
    {
      "cell_type": "code",
      "metadata": {
        "colab": {
          "base_uri": "https://localhost:8080/"
        },
        "id": "tpqY2uzLssGQ",
        "outputId": "10a6c73f-5d64-4442-e500-dddd2d4cd040"
      },
      "source": [
        "pd.Series(lassoo.coef_, index=x.columns)"
      ],
      "execution_count": null,
      "outputs": [
        {
          "output_type": "execute_result",
          "data": {
            "text/plain": [
              "Industry(Exiobase)_ Activities auxiliary to financial intermediation (67)                                                                 0.029521\n",
              "Industry(Exiobase)_ Activities of membership organisation n.e.c. (91)                                                                    -0.068206\n",
              "Industry(Exiobase)_ Air transport (62)                                                                                                   -0.137043\n",
              "Industry(Exiobase)_ Chemicals nec                                                                                                        -0.089564\n",
              "Industry(Exiobase)_ Collection, purification and distribution of water (41)                                                              -0.040698\n",
              "                                                                                                                                            ...   \n",
              "Industry(Exiobase)_Sale, maintenance, repair of motor vehicles, motor vehicles parts, motorcycles, motor cycles parts and accessoiries   -0.000000\n",
              "Industry(Exiobase)_Sea and coastal water transport                                                                                        0.448792\n",
              "Industry(Exiobase)_Transport via pipelines                                                                                                0.000000\n",
              "Industry(Exiobase)_Transport via railways                                                                                                 0.000000\n",
              "Industry(Exiobase)_Wholesale trade and commission trade, except of motor vehicles and motorcycles (51)                                    0.001600\n",
              "Length: 111, dtype: float64"
            ]
          },
          "metadata": {
            "tags": []
          },
          "execution_count": 43
        }
      ]
    },
    {
      "cell_type": "code",
      "metadata": {
        "colab": {
          "base_uri": "https://localhost:8080/"
        },
        "id": "DQfANURwPTSA",
        "outputId": "68d9e541-174b-4087-abfc-fad020b33781"
      },
      "source": [
        "#Random Forest\n",
        "X, y = make_regression(n_features=4, n_informative=2,\n",
        "                       random_state=0, shuffle=False)\n",
        "regr = RandomForestRegressor(max_depth=2, random_state=0)\n",
        "regr.fit(x_train, y_train)\n",
        "\n",
        "y_pred = regr.predict(x_test)\n",
        "print('Random Forest:', r2_score(y_test, y_pred))"
      ],
      "execution_count": 7,
      "outputs": [
        {
          "output_type": "stream",
          "text": [
            "Random Forest: 0.21186651783225197\n"
          ],
          "name": "stdout"
        }
      ]
    }
  ]
}