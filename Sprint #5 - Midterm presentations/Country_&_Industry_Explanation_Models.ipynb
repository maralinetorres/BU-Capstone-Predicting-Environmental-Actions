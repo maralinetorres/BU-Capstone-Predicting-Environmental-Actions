{
  "nbformat": 4,
  "nbformat_minor": 0,
  "metadata": {
    "colab": {
      "name": "Country_&_Industry_Explanation_Models.ipynb",
      "provenance": [],
      "collapsed_sections": []
    },
    "kernelspec": {
      "name": "python3",
      "display_name": "Python 3"
    },
    "language_info": {
      "name": "python"
    }
  },
  "cells": [
    {
      "cell_type": "code",
      "metadata": {
        "id": "DO307re4nHNj"
      },
      "source": [
        "import pandas as pd\n",
        "import numpy as np\n",
        "import statsmodels.api as sm\n",
        "from sklearn.model_selection import train_test_split\n",
        "from sklearn.metrics import r2_score\n",
        "from sklearn.model_selection import cross_val_score\n",
        "from sklearn import datasets, linear_model\n",
        "import xgboost as xgb\n",
        "from sklearn.ensemble import RandomForestRegressor\n",
        "from sklearn.datasets import make_regression"
      ],
      "execution_count": null,
      "outputs": []
    },
    {
      "cell_type": "markdown",
      "metadata": {
        "id": "_lTU2flJnXbe"
      },
      "source": [
        "We read in the dataframe and clean out the column names"
      ]
    },
    {
      "cell_type": "code",
      "metadata": {
        "id": "X6rwrNWYnKL4"
      },
      "source": [
        "df = pd.read_csv('Final-Sample-External-with-ISINs.csv')\n",
        "\n",
        "column_list = []\n",
        "for column in df.columns:\n",
        "    column_list.append(column.replace(' ', ''))\n",
        "df.columns = column_list"
      ],
      "execution_count": null,
      "outputs": []
    },
    {
      "cell_type": "markdown",
      "metadata": {
        "id": "IMDn-J44nrPf"
      },
      "source": [
        "Format columns from the csv to float."
      ]
    },
    {
      "cell_type": "code",
      "metadata": {
        "id": "TgUH84JVoDrZ"
      },
      "source": [
        "df = df[['Year', 'Country', 'Industry(Exiobase)', 'EnvironmentalIntensity(Sales)', 'TotalEnvironmentalCost']]\n",
        "\n",
        "def percent_to_float(s):\n",
        "    return float(s.strip('%')) / 100.0\n",
        "\n",
        "df['EnvironmentalIntensity(Sales)'] = df['EnvironmentalIntensity(Sales)'].apply(percent_to_float)\n",
        "\n",
        "replace_dict = {'(':'',')':'', ' ' : '', ',' : ''}\n",
        "def paranthesis_to_minus(value):\n",
        "    for i, j in replace_dict.items():\n",
        "        value = value.replace(i, j)\n",
        "    value = int(f'-{value}')\n",
        "    return value\n",
        "\n",
        "df['TotalEnvironmentalCost'] = df['TotalEnvironmentalCost'].apply(paranthesis_to_minus)"
      ],
      "execution_count": null,
      "outputs": []
    },
    {
      "cell_type": "markdown",
      "metadata": {
        "id": "0FhRqGs0oMaw"
      },
      "source": [
        "Create dummy variables for industry and country."
      ]
    },
    {
      "cell_type": "code",
      "metadata": {
        "id": "gixe3MHyoH2p"
      },
      "source": [
        "df = pd.get_dummies(df, columns = ['Industry(Exiobase)', 'Country'])\n",
        "\n",
        "x = df.drop(columns = ['Year',  'EnvironmentalIntensity(Sales)', 'TotalEnvironmentalCost'])\n",
        "y = df['EnvironmentalIntensity(Sales)']"
      ],
      "execution_count": null,
      "outputs": []
    },
    {
      "cell_type": "markdown",
      "metadata": {
        "id": "Hpr9SJQKogcO"
      },
      "source": [
        "Setup the dataframe to fit into the models. Fit the models"
      ]
    },
    {
      "cell_type": "code",
      "metadata": {
        "colab": {
          "base_uri": "https://localhost:8080/"
        },
        "id": "hMXXAqvFox4W",
        "outputId": "238a8a13-93f5-4578-cc27-ae1bff440a1c"
      },
      "source": [
        "x_train, x_test, y_train, y_test = train_test_split(\n",
        "    x, y, test_size=0.2, random_state=42)\n",
        "OLS_VS = sm.OLS(y_train, x_train).fit() #47 percent of the variation can be explained with this model\n",
        "\n",
        "y_pred = OLS_VS.predict(x_test)\n",
        "r2_score(y_test, y_pred)\n",
        "\n",
        "OLS_CV = linear_model.LinearRegression()\n",
        "lasso = linear_model.Lasso()\n",
        "ridge = linear_model.Ridge()\n",
        "\n",
        "OLS_CV.fit(x_train, y_train)\n",
        "y_pred = OLS_CV.predict(x_test)\n",
        "r2_score(y_test, y_pred)\n",
        "\n",
        "print( 'OLS:', cross_val_score(OLS_CV, x_train, y_train, cv=3, scoring = 'r2').mean())\n",
        "print('Lasso:', cross_val_score(lasso, x_train, y_train, cv=3, scoring = 'r2').mean())\n",
        "print('Ridge:', cross_val_score(ridge, x_train, y_train, cv=3, scoring = 'r2').mean())\n",
        "\n",
        "# XGBoost\n",
        "dtrain = xgb.DMatrix(x_train, label = y_train)\n",
        "dtest = xgb.DMatrix(x_test, label = y_test)\n",
        "\n",
        "param = {'max_depth': 2, 'eta': 1}\n",
        "param['nthread'] = 4\n",
        "param['eval_metric'] = 'auc'\n",
        "\n",
        "evallist = [(dtest, 'eval'), (dtrain, 'train')]\n",
        "num_round = 10\n",
        "# bst = xgb.train(param, dtrain, num_round, evallist)\n",
        "\n",
        "\n",
        "#Random Forest\n",
        "X, y = make_regression(n_features=4, n_informative=2,\n",
        "                       random_state=0, shuffle=False)\n",
        "regr = RandomForestRegressor(max_depth=2, random_state=0)\n",
        "regr.fit(x_train, y_train)\n",
        "\n",
        "y_pred = regr.predict(x_test)\n",
        "print('Random Forest:', r2_score(y_test, y_pred))\n"
      ],
      "execution_count": null,
      "outputs": [
        {
          "output_type": "stream",
          "text": [
            "OLS: -2.0933314439874914e+23\n",
            "Lasso: -0.0008139589559728044\n",
            "Ridge: 0.4298000289561223\n",
            "Random Forest: 0.21765651623480808\n"
          ],
          "name": "stdout"
        }
      ]
    },
    {
      "cell_type": "code",
      "metadata": {
        "id": "mDou2S8bYYOv"
      },
      "source": [
        ""
      ],
      "execution_count": null,
      "outputs": []
    }
  ]
}