{
  "nbformat": 4,
  "nbformat_minor": 0,
  "metadata": {
    "colab": {
      "name": "Country_&_Industry_Explanation_Models.ipynb",
      "provenance": [],
      "collapsed_sections": []
    },
    "kernelspec": {
      "name": "python3",
      "display_name": "Python 3"
    },
    "language_info": {
      "name": "python"
    }
  },
  "cells": [
    {
      "cell_type": "code",
      "metadata": {
        "id": "DO307re4nHNj",
        "colab": {
          "base_uri": "https://localhost:8080/"
        },
        "outputId": "008f514e-6a30-48ce-c30d-f23f9304cab6"
      },
      "source": [
        "import pandas as pd\n",
        "import numpy as np\n",
        "import statsmodels.api as sm\n",
        "from sklearn.model_selection import train_test_split\n",
        "from sklearn.metrics import r2_score\n",
        "from sklearn.model_selection import cross_val_score\n",
        "from sklearn import datasets, linear_model\n",
        "import xgboost as xgb\n",
        "from sklearn.ensemble import RandomForestRegressor\n",
        "from sklearn.datasets import make_regression\n",
        "import sklearn.metrics\n",
        "import matplotlib.pyplot as plt\n",
        "from matplotlib.pyplot import figure\n",
        "from matplotlib.ticker import FormatStrFormatter\n",
        "from google.colab import files\n",
        "from matplotlib.ticker import PercentFormatter"
      ],
      "execution_count": null,
      "outputs": [
        {
          "output_type": "stream",
          "text": [
            "/usr/local/lib/python3.7/dist-packages/statsmodels/tools/_testing.py:19: FutureWarning: pandas.util.testing is deprecated. Use the functions in the public API at pandas.testing instead.\n",
            "  import pandas.util.testing as tm\n"
          ],
          "name": "stderr"
        }
      ]
    },
    {
      "cell_type": "markdown",
      "metadata": {
        "id": "_lTU2flJnXbe"
      },
      "source": [
        "We read in the dataframe and clean out the column names"
      ]
    },
    {
      "cell_type": "code",
      "metadata": {
        "id": "X6rwrNWYnKL4"
      },
      "source": [
        "df = pd.read_csv('Final-Sample-External-with-ISINs.csv')\n",
        "\n",
        "column_list = []\n",
        "for column in df.columns:\n",
        "    column_list.append(column.replace(' ', ''))\n",
        "df.columns = column_list"
      ],
      "execution_count": null,
      "outputs": []
    },
    {
      "cell_type": "markdown",
      "metadata": {
        "id": "IMDn-J44nrPf"
      },
      "source": [
        "Format columns from the csv to float."
      ]
    },
    {
      "cell_type": "code",
      "metadata": {
        "id": "TgUH84JVoDrZ"
      },
      "source": [
        "df = df[['Year', 'Country', 'Industry(Exiobase)', 'EnvironmentalIntensity(Sales)', 'TotalEnvironmentalCost']]\n",
        "\n",
        "def percent_to_float(s):\n",
        "    return float(s.strip('%')) / 100.0\n",
        "\n",
        "df['EnvironmentalIntensity(Sales)'] = df['EnvironmentalIntensity(Sales)'].apply(percent_to_float)\n",
        "\n",
        "replace_dict = {'(':'',')':'', ' ' : '', ',' : ''}\n",
        "def paranthesis_to_minus(value):\n",
        "    for i, j in replace_dict.items():\n",
        "        value = value.replace(i, j)\n",
        "    value = int(f'-{value}')\n",
        "    return value\n",
        "\n",
        "df['TotalEnvironmentalCost'] = df['TotalEnvironmentalCost'].apply(paranthesis_to_minus)"
      ],
      "execution_count": null,
      "outputs": []
    },
    {
      "cell_type": "markdown",
      "metadata": {
        "id": "0FhRqGs0oMaw"
      },
      "source": [
        "Create dummy variables for industry and country and get countries that contain more than 2 companies in order to remove outliers."
      ]
    },
    {
      "cell_type": "code",
      "metadata": {
        "id": "gixe3MHyoH2p"
      },
      "source": [
        "df = pd.get_dummies(df, columns = ['Industry(Exiobase)', 'Country'])\n",
        "\n",
        "columns_3 = ['EnvironmentalIntensity(Sales)', 'TotalEnvironmentalCost']\n",
        "\n",
        "for column in df.columns:\n",
        "  if df[column].sum(axis = 0) > 2:\n",
        "    columns_3.append(column)\n",
        "\n",
        "# df = df[columns_3]\n",
        "\n",
        "x = df.drop(columns = ['Year',  'EnvironmentalIntensity(Sales)', 'TotalEnvironmentalCost'])\n",
        "y = df['EnvironmentalIntensity(Sales)']"
      ],
      "execution_count": null,
      "outputs": []
    },
    {
      "cell_type": "markdown",
      "metadata": {
        "id": "Hpr9SJQKogcO"
      },
      "source": [
        "Setup the dataframe to fit into the models. Fit the models"
      ]
    },
    {
      "cell_type": "code",
      "metadata": {
        "colab": {
          "base_uri": "https://localhost:8080/"
        },
        "id": "hMXXAqvFox4W",
        "outputId": "30a7e20e-ffc5-4db8-d46d-13f8bde86f56"
      },
      "source": [
        "x_train, x_test, y_train, y_test = train_test_split(x, y, test_size=0.2, random_state=42)\n",
        "OLS_VS = sm.OLS(y_train, x_train).fit().summary() #48.2 percent of the variation can be explained with this model\n",
        "\n",
        "print(OLS_VS)\n",
        "# y_pred = OLS_VS.predict(x_test)\n",
        "# r2_score(y_test, y_pred)\n",
        "\n",
        "OLS_CV = linear_model.LinearRegression()\n",
        "lasso = linear_model.Lasso()\n",
        "ridge = linear_model.Ridge()\n",
        "\n",
        "OLS_CV.fit(x_train, y_train)\n",
        "y_pred = OLS_CV.predict(x_test)\n",
        "r2_score(y_test, y_pred)\n",
        "\n",
        "print( 'OLS:', cross_val_score(OLS_CV, x_train, y_train, cv=3, scoring = 'r2').mean())\n",
        "print('Lasso:', cross_val_score(lasso, x_train, y_train, cv=3, scoring = 'r2').mean())\n",
        "print('Ridge:', cross_val_score(ridge, x_train, y_train, cv=3, scoring = 'r2').mean())\n",
        "\n",
        "# XGBoost\n",
        "dtrain = xgb.DMatrix(x_train, label = y_train)\n",
        "dtest = xgb.DMatrix(x_test, label = y_test)\n",
        "\n",
        "param = {'max_depth': 2, 'eta': 1}\n",
        "param['nthread'] = 4\n",
        "param['eval_metric'] = 'auc'\n",
        "\n",
        "evallist = [(dtest, 'eval'), (dtrain, 'train')]\n",
        "num_round = 10\n",
        "# bst = xgb.train(param, dtrain, num_round, evallist)\n",
        "\n",
        "\n",
        "#Random Forest\n",
        "X, y = make_regression(n_features=4, n_informative=2,\n",
        "                       random_state=0, shuffle=False)\n",
        "regr = RandomForestRegressor(max_depth=2, random_state=0)\n",
        "regr.fit(x_train, y_train)\n",
        "\n",
        "y_pred = regr.predict(x_test)\n",
        "print('Random Forest:', r2_score(y_test, y_pred))\n"
      ],
      "execution_count": null,
      "outputs": [
        {
          "output_type": "stream",
          "text": [
            "                                  OLS Regression Results                                 \n",
            "=========================================================================================\n",
            "Dep. Variable:     EnvironmentalIntensity(Sales)   R-squared:                       0.475\n",
            "Model:                                       OLS   Adj. R-squared:                  0.464\n",
            "Method:                            Least Squares   F-statistic:                     43.55\n",
            "Date:                           Thu, 06 May 2021   Prob (F-statistic):               0.00\n",
            "Time:                                   00:06:27   Log-Likelihood:                 2371.2\n",
            "No. Observations:                          11612   AIC:                            -4268.\n",
            "Df Residuals:                              11375   BIC:                            -2524.\n",
            "Df Model:                                    236                                         \n",
            "Covariance Type:                       nonrobust                                         \n",
            "============================================================================================================================================================================================================\n",
            "                                                                                                                                               coef    std err          t      P>|t|      [0.025      0.975]\n",
            "------------------------------------------------------------------------------------------------------------------------------------------------------------------------------------------------------------\n",
            "Industry(Exiobase)_ Activities auxiliary to financial intermediation (67)                                                                    0.0294      0.018      1.624      0.104      -0.006       0.065\n",
            "Industry(Exiobase)_ Activities of membership organisation n.e.c. (91)                                                                       -0.0517      0.021     -2.461      0.014      -0.093      -0.011\n",
            "Industry(Exiobase)_ Air transport (62)                                                                                                      -0.1552      0.021     -7.453      0.000      -0.196      -0.114\n",
            "Industry(Exiobase)_ Chemicals nec                                                                                                           -0.1050      0.016     -6.385      0.000      -0.137      -0.073\n",
            "Industry(Exiobase)_ Collection, purification and distribution of water (41)                                                                 -0.0793      0.039     -2.046      0.041      -0.155      -0.003\n",
            "Industry(Exiobase)_ Computer and related activities (72)                                                                                     0.0399      0.015      2.716      0.007       0.011       0.069\n",
            "Industry(Exiobase)_ Construction (45)                                                                                                       -0.0103      0.013     -0.818      0.413      -0.035       0.014\n",
            "Industry(Exiobase)_ Copper production                                                                                                       -0.2537      0.064     -3.990      0.000      -0.378      -0.129\n",
            "Industry(Exiobase)_ Education (80)                                                                                                           0.0309      0.115      0.269      0.788      -0.194       0.255\n",
            "Industry(Exiobase)_ Extraction of crude petroleum and services related to crude oil extraction, excluding surveying                         -0.1808      0.016    -11.159      0.000      -0.213      -0.149\n",
            "Industry(Exiobase)_ Extraction of natural gas and services related to natural gas extraction, excluding surveying                           -0.1278      0.033     -3.911      0.000      -0.192      -0.064\n",
            "Industry(Exiobase)_ Financial intermediation, except insurance and pension funding (65)                                                      0.0286      0.011      2.714      0.007       0.008       0.049\n",
            "Industry(Exiobase)_ Forestry, logging and related service activities (02)                                                                   -0.1513      0.100     -1.506      0.132      -0.348       0.046\n",
            "Industry(Exiobase)_ Health and social work (85)                                                                                              0.0549      0.038      1.448      0.148      -0.019       0.129\n",
            "Industry(Exiobase)_ Insurance and pension funding, except compulsory social security (66)                                                    0.0469      0.024      1.973      0.049       0.000       0.094\n",
            "Industry(Exiobase)_ Manufacture of basic iron and steel and of ferro-alloys and first products thereof                                      -0.5253      0.053     -9.837      0.000      -0.630      -0.421\n",
            "Industry(Exiobase)_ Manufacture of beverages                                                                                                -0.0048      0.019     -0.248      0.804      -0.043       0.033\n",
            "Industry(Exiobase)_ Manufacture of electrical machinery and apparatus n.e.c. (31)                                                           -0.0103      0.014     -0.753      0.452      -0.037       0.017\n",
            "Industry(Exiobase)_ Manufacture of fabricated metal products, except machinery and equipment (28)                                            0.0066      0.016      0.403      0.687      -0.025       0.039\n",
            "Industry(Exiobase)_ Manufacture of furniture; manufacturing n.e.c. (36)                                                                     -0.1440      0.060     -2.392      0.017      -0.262      -0.026\n",
            "Industry(Exiobase)_ Manufacture of machinery and equipment n.e.c. (29)                                                                      -0.0066      0.018     -0.377      0.706      -0.041       0.028\n",
            "Industry(Exiobase)_ Manufacture of medical, precision and optical instruments, watches and clocks (33)                                       0.0185      0.014      1.285      0.199      -0.010       0.047\n",
            "Industry(Exiobase)_ Manufacture of motor vehicles, trailers and semi-trailers (34)                                                           0.0301      0.018      1.703      0.089      -0.005       0.065\n",
            "Industry(Exiobase)_ Manufacture of office machinery and computers (30)                                                                       0.0415      0.017      2.477      0.013       0.009       0.074\n",
            "Industry(Exiobase)_ Manufacture of radio, television and communication equipment and apparatus (32)                                          0.0110      0.019      0.573      0.567      -0.027       0.049\n",
            "Industry(Exiobase)_ Manufacture of rubber and plastic products (25)                                                                         -0.0050      0.027     -0.182      0.856      -0.059       0.049\n",
            "Industry(Exiobase)_ Manufacture of textiles (17)                                                                                            -0.0806      0.054     -1.497      0.134      -0.186       0.025\n",
            "Industry(Exiobase)_ Manufacture of tobacco products (16)                                                                                    -0.0013      0.059     -0.022      0.982      -0.116       0.114\n",
            "Industry(Exiobase)_ Manufacture of wearing apparel; dressing and dyeing of fur (18)                                                         -0.0192      0.048     -0.403      0.687      -0.112       0.074\n",
            "Industry(Exiobase)_ Mining of chemical and fertilizer minerals, production of salt, other mining and quarrying n.e.c.                       -0.1794      0.018    -10.023      0.000      -0.214      -0.144\n",
            "Industry(Exiobase)_ Mining of coal and lignite; extraction of peat (10)                                                                     -0.4999      0.115     -4.344      0.000      -0.725      -0.274\n",
            "Industry(Exiobase)_ Mining of other non-ferrous metal ores and concentrates                                                                 -0.2947      0.023    -12.955      0.000      -0.339      -0.250\n",
            "Industry(Exiobase)_ N-fertiliser                                                                                                            -0.2406      0.045     -5.390      0.000      -0.328      -0.153\n",
            "Industry(Exiobase)_ Other land transport                                                                                                    -0.0055      0.031     -0.177      0.859      -0.066       0.055\n",
            "Industry(Exiobase)_ Other service activities (93)                                                                                           -0.0076      0.015     -0.521      0.602      -0.036       0.021\n",
            "Industry(Exiobase)_ Paper                                                                                                                   -0.2011      0.022     -9.279      0.000      -0.244      -0.159\n",
            "Industry(Exiobase)_ Petroleum Refinery                                                                                                      -0.3025      0.022    -13.691      0.000      -0.346      -0.259\n",
            "Industry(Exiobase)_ Post and telecommunications (64)                                                                                         0.0291      0.014      2.153      0.031       0.003       0.056\n",
            "Industry(Exiobase)_ Processing of Food products nec                                                                                         -0.0054      0.015     -0.353      0.724      -0.036       0.025\n",
            "Industry(Exiobase)_ Production of electricity by hydro                                                                                      -1.0272      0.037    -27.539      0.000      -1.100      -0.954\n",
            "Industry(Exiobase)_ Production of electricity by petroleum and other oil derivatives                                                        -0.0783      0.093     -0.845      0.398      -0.260       0.103\n",
            "Industry(Exiobase)_ Production of electricity by solar photovoltaic                                                                         -0.1835      0.048     -3.807      0.000      -0.278      -0.089\n",
            "Industry(Exiobase)_ Production of electricity nec                                                                                           -0.7932      0.016    -50.114      0.000      -0.824      -0.762\n",
            "Industry(Exiobase)_ Publishing, printing and reproduction of recorded media (22)                                                             0.0357      0.061      0.588      0.557      -0.083       0.155\n",
            "Industry(Exiobase)_ Quarrying of sand and clay                                                                                              -0.3311      0.015    -21.849      0.000      -0.361      -0.301\n",
            "Industry(Exiobase)_ Real estate activities (70)                                                                                             -0.0455      0.014     -3.157      0.002      -0.074      -0.017\n",
            "Industry(Exiobase)_ Recreational, cultural and sporting activities (92)                                                                      0.0238      0.021      1.155      0.248      -0.017       0.064\n",
            "Industry(Exiobase)_ Renting of machinery and equipment without operator and of personal and household goods (71)                             0.0297      0.026      1.121      0.262      -0.022       0.082\n",
            "Industry(Exiobase)_ Research and development (73)                                                                                            0.0195      0.025      0.773      0.440      -0.030       0.069\n",
            "Industry(Exiobase)_ Retail trade, except of motor vehicles and motorcycles; repair of personal and household goods (52)                      0.0375      0.013      2.802      0.005       0.011       0.064\n",
            "Industry(Exiobase)_ Sale, maintenance, repair of motor vehicles, motor vehicles parts, motorcycles, motor cycles parts and accessoiries     -0.0038      0.041     -0.094      0.925      -0.084       0.076\n",
            "Industry(Exiobase)_ Sea and coastal water transport                                                                                          0.4875      0.114      4.260      0.000       0.263       0.712\n",
            "Industry(Exiobase)_ Transport via pipelines                                                                                                  0.1826      0.062      2.940      0.003       0.061       0.304\n",
            "Industry(Exiobase)_ Transport via railways                                                                                                  -0.0188      0.040     -0.472      0.637      -0.097       0.059\n",
            "Industry(Exiobase)_ Wholesale trade and commission trade, except of motor vehicles and motorcycles (51)                                      0.0852      0.060      1.414      0.157      -0.033       0.203\n",
            "Industry(Exiobase)_Activities auxiliary to financial intermediation (67)                                                                     0.0412      0.025      1.623      0.105      -0.009       0.091\n",
            "Industry(Exiobase)_Activities of membership organisation n.e.c. (91)                                                                        -0.1564      0.023     -6.671      0.000      -0.202      -0.110\n",
            "Industry(Exiobase)_Air transport (62)                                                                                                       -0.1552      0.026     -6.009      0.000      -0.206      -0.105\n",
            "Industry(Exiobase)_Chemicals nec                                                                                                            -0.1143      0.018     -6.280      0.000      -0.150      -0.079\n",
            "Industry(Exiobase)_Collection, purification and distribution of water (41)                                                                  -0.2600      0.048     -5.403      0.000      -0.354      -0.166\n",
            "Industry(Exiobase)_Computer and related activities (72)                                                                                      0.0434      0.017      2.580      0.010       0.010       0.076\n",
            "Industry(Exiobase)_Construction (45)                                                                                                         0.0040      0.015      0.266      0.791      -0.025       0.033\n",
            "Industry(Exiobase)_Copper production                                                                                                        -0.4129      0.067     -6.181      0.000      -0.544      -0.282\n",
            "Industry(Exiobase)_Cultivation of cereal grains nec                                                                                         -0.3998      0.198     -2.016      0.044      -0.789      -0.011\n",
            "Industry(Exiobase)_Education (80)                                                                                                            0.0405      0.198      0.204      0.838      -0.348       0.429\n",
            "Industry(Exiobase)_Extraction of crude petroleum and services related to crude oil extraction, excluding surveying                          -0.2071      0.018    -11.632      0.000      -0.242      -0.172\n",
            "Industry(Exiobase)_Extraction of natural gas and services related to natural gas extraction, excluding surveying                            -0.0640      0.034     -1.893      0.058      -0.130       0.002\n",
            "Industry(Exiobase)_Financial intermediation, except insurance and pension funding (65)                                                       0.0252      0.011      2.294      0.022       0.004       0.047\n",
            "Industry(Exiobase)_Forestry, logging and related service activities (02)                                                                    -0.1043      0.199     -0.525      0.599      -0.494       0.285\n",
            "Industry(Exiobase)_Health and social work (85)                                                                                               0.0301      0.050      0.599      0.549      -0.068       0.129\n",
            "Industry(Exiobase)_Insurance and pension funding, except compulsory social security (66)                                                     0.0303      0.034      0.881      0.379      -0.037       0.098\n",
            "Industry(Exiobase)_Manufacture of basic iron and steel and of ferro-alloys and first products thereof                                       -0.5904      0.061     -9.713      0.000      -0.710      -0.471\n",
            "Industry(Exiobase)_Manufacture of beverages                                                                                                  0.0326      0.023      1.431      0.153      -0.012       0.077\n",
            "Industry(Exiobase)_Manufacture of electrical machinery and apparatus n.e.c. (31)                                                             0.0004      0.015      0.026      0.980      -0.030       0.031\n",
            "Industry(Exiobase)_Manufacture of fabricated metal products, except machinery and equipment (28)                                             0.0009      0.019      0.051      0.960      -0.036       0.038\n",
            "Industry(Exiobase)_Manufacture of furniture; manufacturing n.e.c. (36)                                                                       0.0407      0.071      0.574      0.566      -0.098       0.179\n",
            "Industry(Exiobase)_Manufacture of machinery and equipment n.e.c. (29)                                                                       -0.0091      0.019     -0.473      0.636      -0.047       0.028\n",
            "Industry(Exiobase)_Manufacture of medical, precision and optical instruments, watches and clocks (33)                                        0.0267      0.016      1.664      0.096      -0.005       0.058\n",
            "Industry(Exiobase)_Manufacture of motor vehicles, trailers and semi-trailers (34)                                                            0.0395      0.019      2.047      0.041       0.002       0.077\n",
            "Industry(Exiobase)_Manufacture of office machinery and computers (30)                                                                        0.0481      0.019      2.553      0.011       0.011       0.085\n",
            "Industry(Exiobase)_Manufacture of radio, television and communication equipment and apparatus (32)                                           0.0282      0.021      1.317      0.188      -0.014       0.070\n",
            "Industry(Exiobase)_Manufacture of rubber and plastic products (25)                                                                          -0.0004      0.032     -0.014      0.989      -0.063       0.063\n",
            "Industry(Exiobase)_Manufacture of textiles (17)                                                                                             -0.0778      0.042     -1.860      0.063      -0.160       0.004\n",
            "Industry(Exiobase)_Manufacture of tobacco products (16)                                                                                      0.0464      0.083      0.560      0.575      -0.116       0.209\n",
            "Industry(Exiobase)_Manufacture of wearing apparel; dressing and dyeing of fur (18)                                                           0.0358      0.041      0.863      0.388      -0.045       0.117\n",
            "Industry(Exiobase)_Mining of chemical and fertilizer minerals, production of salt, other mining and quarrying n.e.c.                        -0.2096      0.022     -9.475      0.000      -0.253      -0.166\n",
            "Industry(Exiobase)_Mining of coal and lignite; extraction of peat (10)                                                                      -0.8092      0.082     -9.910      0.000      -0.969      -0.649\n",
            "Industry(Exiobase)_Mining of other non-ferrous metal ores and concentrates                                                                  -0.3201      0.024    -13.535      0.000      -0.366      -0.274\n",
            "Industry(Exiobase)_N-fertiliser                                                                                                             -0.5403      0.054    -10.067      0.000      -0.645      -0.435\n",
            "Industry(Exiobase)_Other land transport                                                                                                      0.0274      0.030      0.921      0.357      -0.031       0.086\n",
            "Industry(Exiobase)_Other service activities (93)                                                                                            -0.0221      0.016     -1.384      0.166      -0.053       0.009\n",
            "Industry(Exiobase)_Paper                                                                                                                    -0.1912      0.024     -7.926      0.000      -0.239      -0.144\n",
            "Industry(Exiobase)_Petroleum Refinery                                                                                                       -0.2524      0.027     -9.515      0.000      -0.304      -0.200\n",
            "Industry(Exiobase)_Post and telecommunications (64)                                                                                          0.0321      0.016      2.061      0.039       0.002       0.063\n",
            "Industry(Exiobase)_Processing of Food products nec                                                                                           0.0019      0.016      0.121      0.904      -0.029       0.033\n",
            "Industry(Exiobase)_Production of electricity by hydro                                                                                       -0.9715      0.042    -23.304      0.000      -1.053      -0.890\n",
            "Industry(Exiobase)_Production of electricity by petroleum and other oil derivatives                                                          0.0200      0.117      0.171      0.864      -0.209       0.249\n",
            "Industry(Exiobase)_Production of electricity by solar photovoltaic                                                                          -0.0720      0.057     -1.269      0.204      -0.183       0.039\n",
            "Industry(Exiobase)_Production of electricity nec                                                                                            -0.7770      0.018    -42.658      0.000      -0.813      -0.741\n",
            "Industry(Exiobase)_Publishing, printing and reproduction of recorded media (22)                                                              0.0838      0.056      1.488      0.137      -0.027       0.194\n",
            "Industry(Exiobase)_Quarrying of sand and clay                                                                                               -0.3695      0.018    -20.806      0.000      -0.404      -0.335\n",
            "Industry(Exiobase)_Real estate activities (70)                                                                                              -0.0314      0.014     -2.260      0.024      -0.059      -0.004\n",
            "Industry(Exiobase)_Recreational, cultural and sporting activities (92)                                                                       0.0324      0.021      1.559      0.119      -0.008       0.073\n",
            "Industry(Exiobase)_Renting of machinery and equipment without operator and of personal and household goods (71)                              0.0326      0.027      1.222      0.222      -0.020       0.085\n",
            "Industry(Exiobase)_Research and development (73)                                                                                             0.0229      0.031      0.741      0.458      -0.038       0.084\n",
            "Industry(Exiobase)_Retail trade, except of motor vehicles and motorcycles; repair of personal and household goods (52)                       0.0477      0.015      3.161      0.002       0.018       0.077\n",
            "Industry(Exiobase)_Sale, maintenance, repair of motor vehicles, motor vehicles parts, motorcycles, motor cycles parts and accessoiries       0.0097      0.042      0.232      0.817      -0.073       0.092\n",
            "Industry(Exiobase)_Sea and coastal water transport                                                                                           0.6349      0.141      4.507      0.000       0.359       0.911\n",
            "Industry(Exiobase)_Transport via pipelines                                                                                                  -0.0617      0.052     -1.197      0.231      -0.163       0.039\n",
            "Industry(Exiobase)_Transport via railways                                                                                                   -0.0106      0.051     -0.209      0.835      -0.110       0.089\n",
            "Industry(Exiobase)_Wholesale trade and commission trade, except of motor vehicles and motorcycles (51)                                       0.0851      0.050      1.689      0.091      -0.014       0.184\n",
            "Country_ Argentina                                                                                                                          -0.0475      0.081     -0.584      0.560      -0.207       0.112\n",
            "Country_ Australia                                                                                                                          -0.0205      0.014     -1.418      0.156      -0.049       0.008\n",
            "Country_ Austria                                                                                                                             0.0515      0.033      1.583      0.113      -0.012       0.115\n",
            "Country_ Belgium                                                                                                                            -0.0456      0.040     -1.151      0.250      -0.123       0.032\n",
            "Country_ Bermuda                                                                                                                             0.3042      0.091      3.337      0.001       0.125       0.483\n",
            "Country_ Brazil                                                                                                                             -0.0180      0.027     -0.676      0.499      -0.070       0.034\n",
            "Country_ Canada                                                                                                                              0.0476      0.017      2.796      0.005       0.014       0.081\n",
            "Country_ Chile                                                                                                                               0.0018      0.049      0.036      0.971      -0.094       0.097\n",
            "Country_ China                                                                                                                              -0.1280      0.040     -3.174      0.002      -0.207      -0.049\n",
            "Country_ Colombia                                                                                                                           -0.0852      0.054     -1.586      0.113      -0.191       0.020\n",
            "Country_ Croatia                                                                                                                            -0.0268      0.198     -0.135      0.893      -0.416       0.362\n",
            "Country_ Czech Republic                                                                                                                     -0.1072      0.090     -1.194      0.233      -0.283       0.069\n",
            "Country_ Denmark                                                                                                                             0.0009      0.031      0.028      0.978      -0.061       0.062\n",
            "Country_ Finland                                                                                                                             0.0141      0.029      0.486      0.627      -0.043       0.071\n",
            "Country_ France                                                                                                                             -0.0206      0.014     -1.450      0.147      -0.049       0.007\n",
            "Country_ Georgia                                                                                                                            -0.0636      0.115     -0.555      0.579      -0.288       0.161\n",
            "Country_ Germany                                                                                                                            -0.0353      0.017     -2.075      0.038      -0.069      -0.002\n",
            "Country_ Gibraltar                                                                                                                          -0.0307      0.199     -0.154      0.877      -0.420       0.359\n",
            "Country_ Greece                                                                                                                             -0.1242      0.044     -2.826      0.005      -0.210      -0.038\n",
            "Country_ Guernsey                                                                                                                           -0.1160      0.140     -0.826      0.409      -0.391       0.159\n",
            "Country_ Hong Kong                                                                                                                          -0.0835      0.023     -3.705      0.000      -0.128      -0.039\n",
            "Country_ Hungary                                                                                                                             0.0205      0.061      0.337      0.736      -0.098       0.139\n",
            "Country_ India                                                                                                                              -0.1196      0.021     -5.663      0.000      -0.161      -0.078\n",
            "Country_ Indonesia                                                                                                                          -0.2856      0.067     -4.266      0.000      -0.417      -0.154\n",
            "Country_ Ireland                                                                                                                            -0.0141      0.043     -0.327      0.744      -0.098       0.070\n",
            "Country_ Isle of Man                                                                                                                        -0.0265      0.141     -0.188      0.851      -0.303       0.250\n",
            "Country_ Israel                                                                                                                             -0.0508      0.070     -0.722      0.471      -0.189       0.087\n",
            "Country_ Italy                                                                                                                              -0.0623      0.028     -2.239      0.025      -0.117      -0.008\n",
            "Country_ Japan                                                                                                                              -0.0105      0.009     -1.123      0.261      -0.029       0.008\n",
            "Country_ Kenya                                                                                                                              -0.0421      0.140     -0.300      0.764      -0.317       0.233\n",
            "Country_ Kuwait                                                                                                                             -0.0468      0.198     -0.236      0.813      -0.435       0.341\n",
            "Country_ Luxembourg                                                                                                                         -0.5936      0.092     -6.465      0.000      -0.774      -0.414\n",
            "Country_ Malaysia                                                                                                                           -0.1237      0.033     -3.727      0.000      -0.189      -0.059\n",
            "Country_ Malta                                                                                                                              -0.0252      0.141     -0.179      0.858      -0.302       0.252\n",
            "Country_ Mexico                                                                                                                             -0.0161      0.024     -0.669      0.503      -0.063       0.031\n",
            "Country_ Morocco                                                                                                                            -0.0522      0.140     -0.372      0.710      -0.327       0.223\n",
            "Country_ Netherlands                                                                                                                        -0.0307      0.022     -1.419      0.156      -0.073       0.012\n",
            "Country_ New Zealand                                                                                                                         0.1244      0.055      2.241      0.025       0.016       0.233\n",
            "Country_ Norway                                                                                                                              0.0046      0.032      0.144      0.885      -0.058       0.067\n",
            "Country_ Oman                                                                                                                               -0.0637      0.140     -0.454      0.650      -0.339       0.211\n",
            "Country_ Pakistan                                                                                                                            0.0321      0.101      0.318      0.751      -0.166       0.231\n",
            "Country_ Philippines                                                                                                                        -0.0192      0.036     -0.529      0.597      -0.090       0.052\n",
            "Country_ Poland                                                                                                                              0.0085      0.044      0.195      0.845      -0.077       0.094\n",
            "Country_ Portugal                                                                                                                            0.1203      0.041      2.967      0.003       0.041       0.200\n",
            "Country_ Qatar                                                                                                                              -0.0418      0.140     -0.298      0.766      -0.317       0.233\n",
            "Country_ Romania                                                                                                                            -1.1311      0.141     -8.041      0.000      -1.407      -0.855\n",
            "Country_ Russia                                                                                                                             -0.0495      0.041     -1.218      0.223      -0.129       0.030\n",
            "Country_ Saudi Arabia                                                                                                                       -0.6731      0.198     -3.393      0.001      -1.062      -0.284\n",
            "Country_ Singapore                                                                                                                          -0.1705      0.029     -5.813      0.000      -0.228      -0.113\n",
            "Country_ Slovenia                                                                                                                           -0.0516      0.198     -0.261      0.794      -0.440       0.337\n",
            "Country_ South Africa                                                                                                                       -0.1345      0.014     -9.405      0.000      -0.163      -0.107\n",
            "Country_ South Korea                                                                                                                        -0.0520      0.014     -3.586      0.000      -0.080      -0.024\n",
            "Country_ Spain                                                                                                                              -0.0433      0.019     -2.230      0.026      -0.081      -0.005\n",
            "Country_ Sri Lanka                                                                                                                          -0.1223      0.071     -1.721      0.085      -0.262       0.017\n",
            "Country_ Sweden                                                                                                                             -0.0122      0.018     -0.671      0.502      -0.048       0.023\n",
            "Country_ Switzerland                                                                                                                        -0.0366      0.017     -2.174      0.030      -0.070      -0.004\n",
            "Country_ Taiwan                                                                                                                             -0.0767      0.013     -5.993      0.000      -0.102      -0.052\n",
            "Country_ Thailand                                                                                                                           -0.1521      0.033     -4.652      0.000      -0.216      -0.088\n",
            "Country_ Turkey                                                                                                                             -0.1550      0.049     -3.170      0.002      -0.251      -0.059\n",
            "Country_ United Arab Emirates                                                                                                               -0.0567      0.140     -0.404      0.686      -0.332       0.218\n",
            "Country_ United Kingdom                                                                                                                     -0.0323      0.010     -3.161      0.002      -0.052      -0.012\n",
            "Country_ United States                                                                                                                      -0.0647      0.009     -7.075      0.000      -0.083      -0.047\n",
            "Country_Argentina                                                                                                                           -0.0743      0.076     -0.981      0.326      -0.223       0.074\n",
            "Country_Australia                                                                                                                           -0.0339      0.016     -2.129      0.033      -0.065      -0.003\n",
            "Country_Austria                                                                                                                              0.0494      0.036      1.377      0.168      -0.021       0.120\n",
            "Country_Bahrain                                                                                                                             -1.1413      0.199     -5.733      0.000      -1.532      -0.751\n",
            "Country_Belgium                                                                                                                             -0.2025      0.044     -4.555      0.000      -0.290      -0.115\n",
            "Country_Bermuda                                                                                                                              0.4369      0.089      4.926      0.000       0.263       0.611\n",
            "Country_Brazil                                                                                                                              -0.0245      0.032     -0.771      0.441      -0.087       0.038\n",
            "Country_Canada                                                                                                                               0.0594      0.020      3.027      0.002       0.021       0.098\n",
            "Country_Chile                                                                                                                               -0.2586      0.047     -5.496      0.000      -0.351      -0.166\n",
            "Country_China                                                                                                                               -0.0979      0.017     -5.691      0.000      -0.132      -0.064\n",
            "Country_Colombia                                                                                                                            -0.1864      0.054     -3.436      0.001      -0.293      -0.080\n",
            "Country_Croatia                                                                                                                             -0.0028      0.089     -0.032      0.975      -0.178       0.172\n",
            "Country_Czech Republic                                                                                                                      -0.0408      0.141     -0.289      0.772      -0.317       0.236\n",
            "Country_Denmark                                                                                                                             -0.0184      0.045     -0.405      0.686      -0.107       0.070\n",
            "Country_Faeroe Island                                                                                                                       -0.4130      0.198     -2.083      0.037      -0.802      -0.024\n",
            "Country_Finland                                                                                                                             -0.0061      0.028     -0.214      0.830      -0.061       0.049\n",
            "Country_France                                                                                                                              -0.0287      0.016     -1.759      0.079      -0.061       0.003\n",
            "Country_Georgia                                                                                                                             -0.1239      0.140     -0.884      0.377      -0.399       0.151\n",
            "Country_Germany                                                                                                                             -0.0288      0.018     -1.559      0.119      -0.065       0.007\n",
            "Country_Gibraltar                                                                                                                           -0.0346      0.199     -0.174      0.862      -0.424       0.355\n",
            "Country_Greece                                                                                                                              -0.1818      0.060     -3.009      0.003      -0.300      -0.063\n",
            "Country_Guernsey                                                                                                                            -0.1155      0.140     -0.822      0.411      -0.391       0.160\n",
            "Country_Hong Kong                                                                                                                           -0.0692      0.017     -4.021      0.000      -0.103      -0.035\n",
            "Country_Hungary                                                                                                                              0.0415      0.081      0.509      0.611      -0.118       0.201\n",
            "Country_India                                                                                                                               -0.0999      0.024     -4.210      0.000      -0.146      -0.053\n",
            "Country_Indonesia                                                                                                                           -0.4041      0.068     -5.968      0.000      -0.537      -0.271\n",
            "Country_Ireland                                                                                                                             -0.0296      0.036     -0.819      0.413      -0.100       0.041\n",
            "Country_Isle of Man                                                                                                                         -0.0396      0.083     -0.475      0.635      -0.203       0.124\n",
            "Country_Israel                                                                                                                              -0.0656      0.076     -0.868      0.385      -0.214       0.083\n",
            "Country_Italy                                                                                                                               -0.1487      0.025     -5.850      0.000      -0.199      -0.099\n",
            "Country_Japan                                                                                                                               -0.0229      0.011     -2.145      0.032      -0.044      -0.002\n",
            "Country_Jersey                                                                                                                              -0.0385      0.115     -0.336      0.737      -0.263       0.186\n",
            "Country_Kenya                                                                                                                               -0.0424      0.141     -0.302      0.763      -0.318       0.233\n",
            "Country_Kuwait                                                                                                                              -0.1665      0.089     -1.866      0.062      -0.341       0.008\n",
            "Country_Luxembourg                                                                                                                          -0.1672      0.074     -2.257      0.024      -0.313      -0.022\n",
            "Country_Macau                                                                                                                               -0.0539      0.083     -0.646      0.518      -0.217       0.109\n",
            "Country_Malaysia                                                                                                                            -0.1280      0.031     -4.090      0.000      -0.189      -0.067\n",
            "Country_Malta                                                                                                                               -0.0314      0.141     -0.222      0.824      -0.308       0.246\n",
            "Country_Mexico                                                                                                                              -0.0470      0.024     -1.987      0.047      -0.093      -0.001\n",
            "Country_Morocco                                                                                                                             -0.0815      0.198     -0.411      0.681      -0.470       0.307\n",
            "Country_Netherlands                                                                                                                         -0.0590      0.026     -2.262      0.024      -0.110      -0.008\n",
            "Country_New Zealand                                                                                                                          0.0163      0.063      0.257      0.797      -0.108       0.140\n",
            "Country_Norway                                                                                                                               0.0347      0.031      1.112      0.266      -0.027       0.096\n",
            "Country_Oman                                                                                                                             -6.831e-16   1.64e-16     -4.157      0.000   -1.01e-15   -3.61e-16\n",
            "Country_Pakistan                                                                                                                            -0.1329      0.199     -0.666      0.505      -0.524       0.258\n",
            "Country_Peru                                                                                                                                -0.0406      0.141     -0.289      0.773      -0.316       0.235\n",
            "Country_Philippines                                                                                                                         -0.1281      0.033     -3.933      0.000      -0.192      -0.064\n",
            "Country_Poland                                                                                                                               0.4085      0.067      6.099      0.000       0.277       0.540\n",
            "Country_Portugal                                                                                                                             0.2189      0.048      4.594      0.000       0.125       0.312\n",
            "Country_Qatar                                                                                                                                0.0327      0.142      0.230      0.818      -0.245       0.310\n",
            "Country_Romania                                                                                                                             -0.1296      0.071     -1.825      0.068      -0.269       0.010\n",
            "Country_Russia                                                                                                                               0.1040      0.040      2.578      0.010       0.025       0.183\n",
            "Country_Saudi Arabia                                                                                                                        -0.5302      0.141     -3.773      0.000      -0.806      -0.255\n",
            "Country_Singapore                                                                                                                           -0.1535      0.026     -5.954      0.000      -0.204      -0.103\n",
            "Country_South Africa                                                                                                                        -0.1361      0.018     -7.744      0.000      -0.171      -0.102\n",
            "Country_South Korea                                                                                                                         -0.0662      0.017     -3.907      0.000      -0.099      -0.033\n",
            "Country_Spain                                                                                                                               -0.0435      0.024     -1.794      0.073      -0.091       0.004\n",
            "Country_Sri Lanka                                                                                                                           -0.1209      0.090     -1.348      0.178      -0.297       0.055\n",
            "Country_Sweden                                                                                                                              -0.0058      0.020     -0.291      0.771      -0.045       0.033\n",
            "Country_Switzerland                                                                                                                         -0.0388      0.020     -1.967      0.049      -0.077      -0.000\n",
            "Country_Taiwan                                                                                                                              -0.1030      0.014     -7.341      0.000      -0.131      -0.076\n",
            "Country_Thailand                                                                                                                            -0.1189      0.034     -3.518      0.000      -0.185      -0.053\n",
            "Country_Turkey                                                                                                                              -0.4154      0.041    -10.129      0.000      -0.496      -0.335\n",
            "Country_Ukraine                                                                                                                             -0.1634      0.141     -1.162      0.245      -0.439       0.112\n",
            "Country_United Arab Emirates                                                                                                                 0.0951      0.089      1.067      0.286      -0.080       0.270\n",
            "Country_United Kingdom                                                                                                                      -0.0298      0.011     -2.685      0.007      -0.052      -0.008\n",
            "Country_United States                                                                                                                       -0.0773      0.010     -7.561      0.000      -0.097      -0.057\n",
            "==============================================================================\n",
            "Omnibus:                     5492.376   Durbin-Watson:                   2.047\n",
            "Prob(Omnibus):                  0.000   Jarque-Bera (JB):           229005.602\n",
            "Skew:                          -1.573   Prob(JB):                         0.00\n",
            "Kurtosis:                      24.527   Cond. No.                     3.87e+17\n",
            "==============================================================================\n",
            "\n",
            "Warnings:\n",
            "[1] Standard Errors assume that the covariance matrix of the errors is correctly specified.\n",
            "[2] The smallest eigenvalue is 8.49e-33. This might indicate that there are\n",
            "strong multicollinearity problems or that the design matrix is singular.\n",
            "OLS: -2.0933314439874914e+23\n",
            "Lasso: -0.0008139589559728044\n",
            "Ridge: 0.4298000289561223\n",
            "Random Forest: 0.21765651623480808\n"
          ],
          "name": "stdout"
        }
      ]
    },
    {
      "cell_type": "markdown",
      "metadata": {
        "id": "CKpyO-v-1T75"
      },
      "source": [
        "While OLS and Lasso seem to give negative results, meaning the fit is actually worse than just fitting a horizontal line which is why the R-square is negative. \n",
        "\n",
        "Ridge and Random Forest models explained 43% and 22% respeectively. The summary of these models can be found below:"
      ]
    },
    {
      "cell_type": "code",
      "metadata": {
        "id": "xg2Qs7s-2_-2",
        "colab": {
          "base_uri": "https://localhost:8080/",
          "height": 677
        },
        "outputId": "d6bc47b6-c6e4-495e-94a8-b1f1545bf927"
      },
      "source": [
        "x = ['OLS', 'Ridge', 'Random Forest']\n",
        "y = [53.8, 42.8, 21.8]\n",
        "\n",
        "# plt.style.use('green')\n",
        "\n",
        "fig, ax = plt.subplots(figsize=(15,10))\n",
        "ax.yaxis.set_major_formatter(PercentFormatter())\n",
        "bars = ax.bar(x, y, color=['green'],  edgecolor='red')\n",
        "# ax.xticks()\n",
        "ax.set_xlabel('Models', fontsize = 20)\n",
        "ax.set_ylabel('Variation explained (R\\u00b2)', fontsize = 20)\n",
        "ax.set_ylim(0, 100)\n",
        "ax.set_xticklabels(x, fontsize= 15)\n",
        "ax.set_title('Model Evaluation', fontsize= 20)\n",
        "for bar in bars:\n",
        "  height = bar.get_height()\n",
        "  label_x_pos = bar.get_x() + bar.get_width() / 2\n",
        "  ax.text(label_x_pos, height, s=f'{height}%', ha='center',\n",
        "  va='bottom', fontsize = 12.5)\n",
        "\n",
        "for tick in ax.yaxis.get_major_ticks():\n",
        "    tick.label.set_fontsize(15) \n",
        "\n",
        "plt.show()\n",
        "fig.savefig(\"abc.png\")\n",
        "files.download(\"abc.png\") "
      ],
      "execution_count": null,
      "outputs": [
        {
          "output_type": "display_data",
          "data": {
            "image/png": "[encoded data removed]",
            "text/plain": [
              "<Figure size 1080x720 with 1 Axes>"
            ]
          },
          "metadata": {
            "tags": []
          }
        },
        {
          "output_type": "display_data",
          "data": {
            "application/javascript": [
              "\n",
              "    async function download(id, filename, size) {\n",
              "      if (!google.colab.kernel.accessAllowed) {\n",
              "        return;\n",
              "      }\n",
              "      const div = document.createElement('div');\n",
              "      const label = document.createElement('label');\n",
              "      label.textContent = `Downloading \"${filename}\": `;\n",
              "      div.appendChild(label);\n",
              "      const progress = document.createElement('progress');\n",
              "      progress.max = size;\n",
              "      div.appendChild(progress);\n",
              "      document.body.appendChild(div);\n",
              "\n",
              "      const buffers = [];\n",
              "      let downloaded = 0;\n",
              "\n",
              "      const channel = await google.colab.kernel.comms.open(id);\n",
              "      // Send a message to notify the kernel that we're ready.\n",
              "      channel.send({})\n",
              "\n",
              "      for await (const message of channel.messages) {\n",
              "        // Send a message to notify the kernel that we're ready.\n",
              "        channel.send({})\n",
              "        if (message.buffers) {\n",
              "          for (const buffer of message.buffers) {\n",
              "            buffers.push(buffer);\n",
              "            downloaded += buffer.byteLength;\n",
              "            progress.value = downloaded;\n",
              "          }\n",
              "        }\n",
              "      }\n",
              "      const blob = new Blob(buffers, {type: 'application/binary'});\n",
              "      const a = document.createElement('a');\n",
              "      a.href = window.URL.createObjectURL(blob);\n",
              "      a.download = filename;\n",
              "      div.appendChild(a);\n",
              "      a.click();\n",
              "      div.remove();\n",
              "    }\n",
              "  "
            ],
            "text/plain": [
              "<IPython.core.display.Javascript object>"
            ]
          },
          "metadata": {
            "tags": []
          }
        },
        {
          "output_type": "display_data",
          "data": {
            "application/javascript": [
              "download(\"download_cb986595-471b-41a3-b8a0-7dc48e64de2a\", \"abc.png\", 29717)"
            ],
            "text/plain": [
              "<IPython.core.display.Javascript object>"
            ]
          },
          "metadata": {
            "tags": []
          }
        }
      ]
    }
  ]
}