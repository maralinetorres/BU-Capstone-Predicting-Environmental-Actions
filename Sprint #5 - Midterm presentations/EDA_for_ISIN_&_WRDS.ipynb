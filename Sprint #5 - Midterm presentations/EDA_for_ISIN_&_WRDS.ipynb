{
 "cells": [
  {
   "cell_type": "code",
   "execution_count": 1,
   "metadata": {
    "id": "8hQ7dktk-hoG"
   },
   "outputs": [],
   "source": [
    "import pandas as pd\n",
    "import numpy as np\n",
    "import seaborn as sns\n",
    "import matplotlib.pyplot as plt\n",
    "import missingno as msno\n",
    "from datetime import datetime, date\n",
    "\n",
    "isin=pd.read_csv(\"isin2005_2019.csv\")"
   ]
  },
  {
   "cell_type": "code",
   "execution_count": 2,
   "metadata": {
    "colab": {
     "base_uri": "https://localhost:8080/"
    },
    "id": "PIgN7ZtrLFZ8",
    "outputId": "29587cb8-61ee-4c8d-b27e-b49adbae4eb9"
   },
   "outputs": [
    {
     "data": {
      "text/plain": [
       "(28725, 8)"
      ]
     },
     "execution_count": 2,
     "metadata": {
      "tags": []
     },
     "output_type": "execute_result"
    }
   ],
   "source": [
    "#Exploratory Data Analysis\n",
    "\n",
    "# We have 28725 rows and 8 columns\n",
    "isin.shape "
   ]
  },
  {
   "cell_type": "code",
   "execution_count": 3,
   "metadata": {
    "colab": {
     "base_uri": "https://localhost:8080/",
     "height": 142
    },
    "id": "RwiE_4sSLUax",
    "outputId": "5c4e842e-b9e9-40ad-c97f-06adae0feeca"
   },
   "outputs": [
    {
     "data": {
      "text/html": [
       "<div>\n",
       "<style scoped>\n",
       "    .dataframe tbody tr th:only-of-type {\n",
       "        vertical-align: middle;\n",
       "    }\n",
       "\n",
       "    .dataframe tbody tr th {\n",
       "        vertical-align: top;\n",
       "    }\n",
       "\n",
       "    .dataframe thead th {\n",
       "        text-align: right;\n",
       "    }\n",
       "</style>\n",
       "<table border=\"1\" class=\"dataframe\">\n",
       "  <thead>\n",
       "    <tr style=\"text-align: right;\">\n",
       "      <th></th>\n",
       "      <th>gvkey</th>\n",
       "      <th>fyear</th>\n",
       "      <th>datadate</th>\n",
       "      <th>at</th>\n",
       "      <th>isin</th>\n",
       "      <th>conm</th>\n",
       "      <th>fic</th>\n",
       "      <th>sic</th>\n",
       "    </tr>\n",
       "  </thead>\n",
       "  <tbody>\n",
       "    <tr>\n",
       "      <th>0</th>\n",
       "      <td>1166</td>\n",
       "      <td>2005</td>\n",
       "      <td>20051231</td>\n",
       "      <td>812.308</td>\n",
       "      <td>NL0000334118</td>\n",
       "      <td>ASM INTERNATIONAL NV</td>\n",
       "      <td>NLD</td>\n",
       "      <td>3559.0</td>\n",
       "    </tr>\n",
       "    <tr>\n",
       "      <th>1</th>\n",
       "      <td>1166</td>\n",
       "      <td>2006</td>\n",
       "      <td>20061231</td>\n",
       "      <td>832.297</td>\n",
       "      <td>NL0000334118</td>\n",
       "      <td>ASM INTERNATIONAL NV</td>\n",
       "      <td>NLD</td>\n",
       "      <td>3559.0</td>\n",
       "    </tr>\n",
       "    <tr>\n",
       "      <th>2</th>\n",
       "      <td>1166</td>\n",
       "      <td>2007</td>\n",
       "      <td>20071231</td>\n",
       "      <td>840.333</td>\n",
       "      <td>NL0000334118</td>\n",
       "      <td>ASM INTERNATIONAL NV</td>\n",
       "      <td>NLD</td>\n",
       "      <td>3559.0</td>\n",
       "    </tr>\n",
       "  </tbody>\n",
       "</table>\n",
       "</div>"
      ],
      "text/plain": [
       "   gvkey  fyear  datadate  ...                  conm  fic     sic\n",
       "0   1166   2005  20051231  ...  ASM INTERNATIONAL NV  NLD  3559.0\n",
       "1   1166   2006  20061231  ...  ASM INTERNATIONAL NV  NLD  3559.0\n",
       "2   1166   2007  20071231  ...  ASM INTERNATIONAL NV  NLD  3559.0\n",
       "\n",
       "[3 rows x 8 columns]"
      ]
     },
     "execution_count": 3,
     "metadata": {
      "tags": []
     },
     "output_type": "execute_result"
    }
   ],
   "source": [
    "isin.head(3) \n",
    "# gvkey:The Global Company Key is a unique six-digit number key assigned to each company\n",
    "# fyear:fiscal year\n",
    "# at: assets\n",
    "# isin:An International Securities Identification Number (ISIN) is a code that uniquely identifies a specific securities issue\n",
    "# conm:company name\n",
    "# fic: ISO country code -Incorporation\n",
    "# sic: standard industry classification code \n",
    "#We have yearly data from 2005 to 2020 for 28725 companies"
   ]
  },
  {
   "cell_type": "code",
   "execution_count": 4,
   "metadata": {
    "colab": {
     "base_uri": "https://localhost:8080/"
    },
    "id": "bD0_uQyWND_O",
    "outputId": "921fed4f-a2c5-4e5a-c83b-127186e623d3"
   },
   "outputs": [
    {
     "name": "stdout",
     "output_type": "stream",
     "text": [
      "<class 'pandas.core.frame.DataFrame'>\n",
      "RangeIndex: 28725 entries, 0 to 28724\n",
      "Data columns (total 8 columns):\n",
      " #   Column    Non-Null Count  Dtype  \n",
      "---  ------    --------------  -----  \n",
      " 0   gvkey     28725 non-null  int64  \n",
      " 1   fyear     28725 non-null  int64  \n",
      " 2   datadate  28725 non-null  int64  \n",
      " 3   at        28706 non-null  float64\n",
      " 4   isin      28725 non-null  object \n",
      " 5   conm      28725 non-null  object \n",
      " 6   fic       28725 non-null  object \n",
      " 7   sic       28710 non-null  float64\n",
      "dtypes: float64(2), int64(3), object(3)\n",
      "memory usage: 1.8+ MB\n"
     ]
    }
   ],
   "source": [
    "isin.info() # no missing value"
   ]
  },
  {
   "cell_type": "code",
   "execution_count": 5,
   "metadata": {
    "id": "Kvt9-pF7KmhN"
   },
   "outputs": [],
   "source": [
    "#Drop duplicates if any\n",
    "isin.drop_duplicates(inplace=True) # We don't have duplicates"
   ]
  },
  {
   "cell_type": "code",
   "execution_count": 6,
   "metadata": {
    "colab": {
     "base_uri": "https://localhost:8080/",
     "height": 526
    },
    "id": "VkXHgjEWJ0B0",
    "outputId": "eadc4c73-6b67-4588-ce54-5d3a44cc80a9"
   },
   "outputs": [
    {
     "data": {
      "text/plain": [
       "Text(0, 0.5, 'Count')"
      ]
     },
     "execution_count": 6,
     "metadata": {
      "tags": []
     },
     "output_type": "execute_result"
    },
    {
     "data": {
      "image/png": "[encoded data removed]",
      "text/plain": [
       "<Figure size 1440x595.44 with 1 Axes>"
      ]
     },
     "metadata": {
      "tags": []
     },
     "output_type": "display_data"
    }
   ],
   "source": [
    "# After cleaning the data, we have a look at the basic information about the dataset\n",
    "# Firstly, the following plot represents \"Yearly Data Number\"\n",
    "sns.set(rc={'figure.figsize':(20,8.27)})\n",
    "plot1=sns.countplot(x='fyear',data=isin,order=isin.fyear.value_counts().index)\n",
    "plot1.set_title('Yearly Data Number',fontsize=40)\n",
    "plot1.set_xlabel(\"Year\",fontsize=25)\n",
    "plot1.set_ylabel(\"Count\",fontsize=25)"
   ]
  },
  {
   "cell_type": "code",
   "execution_count": 7,
   "metadata": {
    "id": "eNEFKU41Ryrq"
   },
   "outputs": [],
   "source": [
    "# Then, we want to have a look of yearly average assets.\n",
    "# We build up a pivot table \n",
    "att=isin.groupby(by=[\"fyear\"]).aggregate({\"at\":[\"mean\",\"median\"]})\n",
    "att_1=att.pivot_table(index=\"fyear\", values=['at'])"
   ]
  },
  {
   "cell_type": "code",
   "execution_count": 8,
   "metadata": {
    "colab": {
     "base_uri": "https://localhost:8080/",
     "height": 607
    },
    "id": "ME7O96zU0Obs",
    "outputId": "02d4ba8d-a74b-4d87-ad99-561c24c13ba4"
   },
   "outputs": [
    {
     "data": {
      "text/html": [
       "<div>\n",
       "<style scoped>\n",
       "    .dataframe tbody tr th:only-of-type {\n",
       "        vertical-align: middle;\n",
       "    }\n",
       "\n",
       "    .dataframe tbody tr th {\n",
       "        vertical-align: top;\n",
       "    }\n",
       "\n",
       "    .dataframe thead tr th {\n",
       "        text-align: left;\n",
       "    }\n",
       "\n",
       "    .dataframe thead tr:last-of-type th {\n",
       "        text-align: right;\n",
       "    }\n",
       "</style>\n",
       "<table border=\"1\" class=\"dataframe\">\n",
       "  <thead>\n",
       "    <tr>\n",
       "      <th></th>\n",
       "      <th colspan=\"2\" halign=\"left\">at</th>\n",
       "    </tr>\n",
       "    <tr>\n",
       "      <th></th>\n",
       "      <th>mean</th>\n",
       "      <th>median</th>\n",
       "    </tr>\n",
       "    <tr>\n",
       "      <th>fyear</th>\n",
       "      <th></th>\n",
       "      <th></th>\n",
       "    </tr>\n",
       "  </thead>\n",
       "  <tbody>\n",
       "    <tr>\n",
       "      <th>2004</th>\n",
       "      <td>1.678455e+06</td>\n",
       "      <td>244707.0000</td>\n",
       "    </tr>\n",
       "    <tr>\n",
       "      <th>2005</th>\n",
       "      <td>1.402476e+06</td>\n",
       "      <td>12501.8760</td>\n",
       "    </tr>\n",
       "    <tr>\n",
       "      <th>2006</th>\n",
       "      <td>1.539922e+06</td>\n",
       "      <td>15024.0000</td>\n",
       "    </tr>\n",
       "    <tr>\n",
       "      <th>2007</th>\n",
       "      <td>1.698485e+06</td>\n",
       "      <td>17001.6000</td>\n",
       "    </tr>\n",
       "    <tr>\n",
       "      <th>2008</th>\n",
       "      <td>1.878725e+06</td>\n",
       "      <td>18298.6270</td>\n",
       "    </tr>\n",
       "    <tr>\n",
       "      <th>2009</th>\n",
       "      <td>1.944324e+06</td>\n",
       "      <td>18875.2120</td>\n",
       "    </tr>\n",
       "    <tr>\n",
       "      <th>2010</th>\n",
       "      <td>2.066062e+06</td>\n",
       "      <td>19918.6000</td>\n",
       "    </tr>\n",
       "    <tr>\n",
       "      <th>2011</th>\n",
       "      <td>2.102175e+06</td>\n",
       "      <td>20822.0000</td>\n",
       "    </tr>\n",
       "    <tr>\n",
       "      <th>2012</th>\n",
       "      <td>2.298421e+06</td>\n",
       "      <td>22061.3285</td>\n",
       "    </tr>\n",
       "    <tr>\n",
       "      <th>2013</th>\n",
       "      <td>2.679232e+06</td>\n",
       "      <td>23119.9060</td>\n",
       "    </tr>\n",
       "    <tr>\n",
       "      <th>2014</th>\n",
       "      <td>2.865269e+06</td>\n",
       "      <td>25326.1000</td>\n",
       "    </tr>\n",
       "    <tr>\n",
       "      <th>2015</th>\n",
       "      <td>3.049262e+06</td>\n",
       "      <td>26974.8700</td>\n",
       "    </tr>\n",
       "    <tr>\n",
       "      <th>2016</th>\n",
       "      <td>3.239574e+06</td>\n",
       "      <td>29258.5610</td>\n",
       "    </tr>\n",
       "    <tr>\n",
       "      <th>2017</th>\n",
       "      <td>3.439564e+06</td>\n",
       "      <td>30879.3870</td>\n",
       "    </tr>\n",
       "    <tr>\n",
       "      <th>2018</th>\n",
       "      <td>3.667396e+06</td>\n",
       "      <td>32304.7100</td>\n",
       "    </tr>\n",
       "    <tr>\n",
       "      <th>2019</th>\n",
       "      <td>4.088603e+06</td>\n",
       "      <td>21499.3880</td>\n",
       "    </tr>\n",
       "  </tbody>\n",
       "</table>\n",
       "</div>"
      ],
      "text/plain": [
       "                 at             \n",
       "               mean       median\n",
       "fyear                           \n",
       "2004   1.678455e+06  244707.0000\n",
       "2005   1.402476e+06   12501.8760\n",
       "2006   1.539922e+06   15024.0000\n",
       "2007   1.698485e+06   17001.6000\n",
       "2008   1.878725e+06   18298.6270\n",
       "2009   1.944324e+06   18875.2120\n",
       "2010   2.066062e+06   19918.6000\n",
       "2011   2.102175e+06   20822.0000\n",
       "2012   2.298421e+06   22061.3285\n",
       "2013   2.679232e+06   23119.9060\n",
       "2014   2.865269e+06   25326.1000\n",
       "2015   3.049262e+06   26974.8700\n",
       "2016   3.239574e+06   29258.5610\n",
       "2017   3.439564e+06   30879.3870\n",
       "2018   3.667396e+06   32304.7100\n",
       "2019   4.088603e+06   21499.3880"
      ]
     },
     "execution_count": 8,
     "metadata": {
      "tags": []
     },
     "output_type": "execute_result"
    }
   ],
   "source": [
    "att"
   ]
  },
  {
   "cell_type": "code",
   "execution_count": 9,
   "metadata": {
    "colab": {
     "base_uri": "https://localhost:8080/",
     "height": 451
    },
    "id": "ex4eNjOUVSFe",
    "outputId": "a42ee7db-5d73-4ca0-c072-9a9ecacad22b"
   },
   "outputs": [
    {
     "data": {
      "text/plain": [
       "<Figure size 720x576 with 0 Axes>"
      ]
     },
     "metadata": {
      "tags": []
     },
     "output_type": "display_data"
    },
    {
     "data": {
      "image/png": "[encoded data removed]",
      "text/plain": [
       "<Figure size 1296x432 with 1 Axes>"
      ]
     },
     "metadata": {
      "tags": []
     },
     "output_type": "display_data"
    }
   ],
   "source": [
    "# Then we did plot of Yearly Average Assets to have a better understanding, and we find that most assets are small size\n",
    "plt.figure(figsize=(10,8))\n",
    "att_1.plot.bar(figsize=(18,6))\n",
    "plt.title('Yearly Average/Median Assets',fontsize=20)\n",
    "plt.xlabel('Fiscal Year',fontsize=15)\n",
    "plt.ylabel('Assets',fontsize=15)\n",
    "plt.show()"
   ]
  },
  {
   "cell_type": "code",
   "execution_count": 10,
   "metadata": {
    "colab": {
     "base_uri": "https://localhost:8080/",
     "height": 204
    },
    "id": "iAIv2_pUhi0R",
    "outputId": "dad4ad71-4d63-4c15-99ba-1170840ad4fe"
   },
   "outputs": [
    {
     "data": {
      "text/html": [
       "<div>\n",
       "<style scoped>\n",
       "    .dataframe tbody tr th:only-of-type {\n",
       "        vertical-align: middle;\n",
       "    }\n",
       "\n",
       "    .dataframe tbody tr th {\n",
       "        vertical-align: top;\n",
       "    }\n",
       "\n",
       "    .dataframe thead th {\n",
       "        text-align: right;\n",
       "    }\n",
       "</style>\n",
       "<table border=\"1\" class=\"dataframe\">\n",
       "  <thead>\n",
       "    <tr style=\"text-align: right;\">\n",
       "      <th>fyear</th>\n",
       "      <th>2004</th>\n",
       "      <th>2005</th>\n",
       "      <th>2006</th>\n",
       "      <th>2007</th>\n",
       "      <th>2008</th>\n",
       "      <th>2009</th>\n",
       "      <th>2010</th>\n",
       "      <th>2011</th>\n",
       "      <th>2012</th>\n",
       "      <th>2013</th>\n",
       "      <th>2014</th>\n",
       "      <th>2015</th>\n",
       "      <th>2016</th>\n",
       "      <th>2017</th>\n",
       "      <th>2018</th>\n",
       "      <th>2019</th>\n",
       "    </tr>\n",
       "  </thead>\n",
       "  <tbody>\n",
       "    <tr>\n",
       "      <th>0</th>\n",
       "      <td>NaN</td>\n",
       "      <td>812.308</td>\n",
       "      <td>NaN</td>\n",
       "      <td>NaN</td>\n",
       "      <td>NaN</td>\n",
       "      <td>NaN</td>\n",
       "      <td>NaN</td>\n",
       "      <td>NaN</td>\n",
       "      <td>NaN</td>\n",
       "      <td>NaN</td>\n",
       "      <td>NaN</td>\n",
       "      <td>NaN</td>\n",
       "      <td>NaN</td>\n",
       "      <td>NaN</td>\n",
       "      <td>NaN</td>\n",
       "      <td>NaN</td>\n",
       "    </tr>\n",
       "    <tr>\n",
       "      <th>1</th>\n",
       "      <td>NaN</td>\n",
       "      <td>NaN</td>\n",
       "      <td>832.297</td>\n",
       "      <td>NaN</td>\n",
       "      <td>NaN</td>\n",
       "      <td>NaN</td>\n",
       "      <td>NaN</td>\n",
       "      <td>NaN</td>\n",
       "      <td>NaN</td>\n",
       "      <td>NaN</td>\n",
       "      <td>NaN</td>\n",
       "      <td>NaN</td>\n",
       "      <td>NaN</td>\n",
       "      <td>NaN</td>\n",
       "      <td>NaN</td>\n",
       "      <td>NaN</td>\n",
       "    </tr>\n",
       "    <tr>\n",
       "      <th>2</th>\n",
       "      <td>NaN</td>\n",
       "      <td>NaN</td>\n",
       "      <td>NaN</td>\n",
       "      <td>840.333</td>\n",
       "      <td>NaN</td>\n",
       "      <td>NaN</td>\n",
       "      <td>NaN</td>\n",
       "      <td>NaN</td>\n",
       "      <td>NaN</td>\n",
       "      <td>NaN</td>\n",
       "      <td>NaN</td>\n",
       "      <td>NaN</td>\n",
       "      <td>NaN</td>\n",
       "      <td>NaN</td>\n",
       "      <td>NaN</td>\n",
       "      <td>NaN</td>\n",
       "    </tr>\n",
       "    <tr>\n",
       "      <th>3</th>\n",
       "      <td>NaN</td>\n",
       "      <td>NaN</td>\n",
       "      <td>NaN</td>\n",
       "      <td>NaN</td>\n",
       "      <td>767.798</td>\n",
       "      <td>NaN</td>\n",
       "      <td>NaN</td>\n",
       "      <td>NaN</td>\n",
       "      <td>NaN</td>\n",
       "      <td>NaN</td>\n",
       "      <td>NaN</td>\n",
       "      <td>NaN</td>\n",
       "      <td>NaN</td>\n",
       "      <td>NaN</td>\n",
       "      <td>NaN</td>\n",
       "      <td>NaN</td>\n",
       "    </tr>\n",
       "    <tr>\n",
       "      <th>4</th>\n",
       "      <td>NaN</td>\n",
       "      <td>NaN</td>\n",
       "      <td>NaN</td>\n",
       "      <td>NaN</td>\n",
       "      <td>NaN</td>\n",
       "      <td>851.7</td>\n",
       "      <td>NaN</td>\n",
       "      <td>NaN</td>\n",
       "      <td>NaN</td>\n",
       "      <td>NaN</td>\n",
       "      <td>NaN</td>\n",
       "      <td>NaN</td>\n",
       "      <td>NaN</td>\n",
       "      <td>NaN</td>\n",
       "      <td>NaN</td>\n",
       "      <td>NaN</td>\n",
       "    </tr>\n",
       "  </tbody>\n",
       "</table>\n",
       "</div>"
      ],
      "text/plain": [
       "fyear  2004     2005     2006     2007     2008  ...  2015  2016  2017  2018  2019\n",
       "0       NaN  812.308      NaN      NaN      NaN  ...   NaN   NaN   NaN   NaN   NaN\n",
       "1       NaN      NaN  832.297      NaN      NaN  ...   NaN   NaN   NaN   NaN   NaN\n",
       "2       NaN      NaN      NaN  840.333      NaN  ...   NaN   NaN   NaN   NaN   NaN\n",
       "3       NaN      NaN      NaN      NaN  767.798  ...   NaN   NaN   NaN   NaN   NaN\n",
       "4       NaN      NaN      NaN      NaN      NaN  ...   NaN   NaN   NaN   NaN   NaN\n",
       "\n",
       "[5 rows x 16 columns]"
      ]
     },
     "execution_count": 10,
     "metadata": {
      "tags": []
     },
     "output_type": "execute_result"
    }
   ],
   "source": [
    "# After having a look of assets mean and median, we want to know more about it by getting distribution plot to check whether shows the similar siutaiton as the above plot\n",
    "# We wide pivot table for yearly assets\n",
    "at2=isin[['fyear','at']]\n",
    "at_wide=at2.pivot(columns='fyear',values='at')\n",
    "at_wide.head()"
   ]
  },
  {
   "cell_type": "code",
   "execution_count": 11,
   "metadata": {
    "colab": {
     "base_uri": "https://localhost:8080/"
    },
    "id": "SbqnHhzmi1Ce",
    "outputId": "6c482416-442d-4ea9-a932-2460873a1c96"
   },
   "outputs": [
    {
     "data": {
      "text/plain": [
       "552419581.0"
      ]
     },
     "execution_count": 11,
     "metadata": {
      "tags": []
     },
     "output_type": "execute_result"
    }
   ],
   "source": [
    "# Before starting, we checked max assets column value to set a more suitable x range\n",
    "isin['at'].max()"
   ]
  },
  {
   "cell_type": "code",
   "execution_count": 12,
   "metadata": {
    "colab": {
     "base_uri": "https://localhost:8080/",
     "height": 476
    },
    "id": "hNhPotLzcqkz",
    "outputId": "f9431341-2e3c-4cc1-d200-b60541c7665d"
   },
   "outputs": [
    {
     "data": {
      "text/plain": [
       "(0.0, 60000000.0)"
      ]
     },
     "execution_count": 12,
     "metadata": {
      "tags": []
     },
     "output_type": "execute_result"
    },
    {
     "data": {
      "image/png": "[encoded data removed]",
      "text/plain": [
       "<Figure size 504x504 with 1 Axes>"
      ]
     },
     "metadata": {
      "tags": []
     },
     "output_type": "display_data"
    }
   ],
   "source": [
    "# We create a plot for Yearly Assets Distribution. There is not an apparent concentration, while most assets are smaller than 10000000\n",
    "at_wide.plot.density(figsize = (7, 7),\n",
    "                       linewidth = 4)\n",
    "  \n",
    "plt.xlabel(\"Assets\")\n",
    "plt.xlim(0,60000000)\n",
    "# From the plot, there is not an apparent concentration, while most assets are smaller than 10000000"
   ]
  },
  {
   "cell_type": "code",
   "execution_count": 13,
   "metadata": {
    "colab": {
     "base_uri": "https://localhost:8080/",
     "height": 485
    },
    "id": "qo1tjkut8vM9",
    "outputId": "367b0fde-8959-4530-81ab-01d7b6cfd62b"
   },
   "outputs": [
    {
     "data": {
      "text/plain": [
       "<matplotlib.axes._subplots.AxesSubplot at 0x7f6b20e013d0>"
      ]
     },
     "execution_count": 13,
     "metadata": {
      "tags": []
     },
     "output_type": "execute_result"
    },
    {
     "data": {
      "image/png": "[encoded data removed]",
      "text/plain": [
       "<Figure size 1440x595.44 with 1 Axes>"
      ]
     },
     "metadata": {
      "tags": []
     },
     "output_type": "display_data"
    }
   ],
   "source": [
    "# The following plot shows countries distribution of the dataset\n",
    "sns.countplot(data=isin,x='fic')"
   ]
  },
  {
   "cell_type": "code",
   "execution_count": 14,
   "metadata": {
    "colab": {
     "base_uri": "https://localhost:8080/",
     "height": 450
    },
    "id": "xNG-U-6e9Er3",
    "outputId": "ad9740ff-c5a8-4798-c874-9ea6b24305b9"
   },
   "outputs": [
    {
     "data": {
      "text/html": [
       "<div>\n",
       "<style scoped>\n",
       "    .dataframe tbody tr th:only-of-type {\n",
       "        vertical-align: middle;\n",
       "    }\n",
       "\n",
       "    .dataframe tbody tr th {\n",
       "        vertical-align: top;\n",
       "    }\n",
       "\n",
       "    .dataframe thead th {\n",
       "        text-align: right;\n",
       "    }\n",
       "</style>\n",
       "<table border=\"1\" class=\"dataframe\">\n",
       "  <thead>\n",
       "    <tr style=\"text-align: right;\">\n",
       "      <th></th>\n",
       "      <th></th>\n",
       "      <th>0</th>\n",
       "    </tr>\n",
       "    <tr>\n",
       "      <th>fyear</th>\n",
       "      <th>fic</th>\n",
       "      <th></th>\n",
       "    </tr>\n",
       "  </thead>\n",
       "  <tbody>\n",
       "    <tr>\n",
       "      <th rowspan=\"5\" valign=\"top\">2004</th>\n",
       "      <th>AUS</th>\n",
       "      <td>3</td>\n",
       "    </tr>\n",
       "    <tr>\n",
       "      <th>AUT</th>\n",
       "      <td>3</td>\n",
       "    </tr>\n",
       "    <tr>\n",
       "      <th>BMU</th>\n",
       "      <td>5</td>\n",
       "    </tr>\n",
       "    <tr>\n",
       "      <th>BRA</th>\n",
       "      <td>1</td>\n",
       "    </tr>\n",
       "    <tr>\n",
       "      <th>CHE</th>\n",
       "      <td>2</td>\n",
       "    </tr>\n",
       "    <tr>\n",
       "      <th>...</th>\n",
       "      <th>...</th>\n",
       "      <td>...</td>\n",
       "    </tr>\n",
       "    <tr>\n",
       "      <th rowspan=\"5\" valign=\"top\">2019</th>\n",
       "      <th>THA</th>\n",
       "      <td>20</td>\n",
       "    </tr>\n",
       "    <tr>\n",
       "      <th>TUR</th>\n",
       "      <td>14</td>\n",
       "    </tr>\n",
       "    <tr>\n",
       "      <th>TWN</th>\n",
       "      <td>178</td>\n",
       "    </tr>\n",
       "    <tr>\n",
       "      <th>VGB</th>\n",
       "      <td>1</td>\n",
       "    </tr>\n",
       "    <tr>\n",
       "      <th>ZAF</th>\n",
       "      <td>57</td>\n",
       "    </tr>\n",
       "  </tbody>\n",
       "</table>\n",
       "<p>1031 rows × 1 columns</p>\n",
       "</div>"
      ],
      "text/plain": [
       "             0\n",
       "fyear fic     \n",
       "2004  AUS    3\n",
       "      AUT    3\n",
       "      BMU    5\n",
       "      BRA    1\n",
       "      CHE    2\n",
       "...        ...\n",
       "2019  THA   20\n",
       "      TUR   14\n",
       "      TWN  178\n",
       "      VGB    1\n",
       "      ZAF   57\n",
       "\n",
       "[1031 rows x 1 columns]"
      ]
     },
     "execution_count": 14,
     "metadata": {
      "tags": []
     },
     "output_type": "execute_result"
    }
   ],
   "source": [
    "# After knowing the general situation, we also researched yearly country frequency \n",
    "isin[['fyear','fic']]\n",
    "fic_year=isin.groupby(['fyear', 'fic']).size()\n",
    "type(fic_year)\n",
    "cross=fic_year.to_frame()\n",
    "cross"
   ]
  }
 ],
 "metadata": {
  "colab": {
   "name": "EDA for ISIN & WRDS.ipynb",
   "provenance": []
  },
  "kernelspec": {
   "display_name": "Python 3",
   "language": "python",
   "name": "python3"
  },
  "language_info": {
   "codemirror_mode": {
    "name": "ipython",
    "version": 3
   },
   "file_extension": ".py",
   "mimetype": "text/x-python",
   "name": "python",
   "nbconvert_exporter": "python",
   "pygments_lexer": "ipython3",
   "version": "3.8.8"
  }
 },
 "nbformat": 4,
 "nbformat_minor": 4
}
