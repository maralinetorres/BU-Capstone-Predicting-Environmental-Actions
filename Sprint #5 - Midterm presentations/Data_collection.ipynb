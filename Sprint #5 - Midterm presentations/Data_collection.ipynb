{
 "cells": [
  {
   "cell_type": "markdown",
<<<<<<< HEAD
   "id": "lonely-personality",
=======
   "id": "imposed-davis",
>>>>>>> parent of 9396477 (Check in multiple changes to the github)
   "metadata": {},
   "source": [
    "# Data Collection, Cleaning and Exploratory Data Analysis\n",
    "\n",
    "For the pilot version, we gathered information for 52 companies in the Utilities and Energy industry. We collected data from three different sources:\n",
    "\n",
    "1) Wharton Research Data Services (WRDS)\n",
    "2) Yahoo Finance \n",
    "3) Bloomberg terminal\n",
    "\n",
    "In this notebook, we will present the collection process for each one of the sources, data cleaning, merging and exploratory data analysis. \n",
    "\n",
    "Let's get started!\n",
    "\n",
    "First, let's import some necessary libraries."
   ]
  },
  {
   "cell_type": "code",
   "execution_count": 1,
<<<<<<< HEAD
   "id": "mediterranean-recipe",
=======
   "id": "changed-hotel",
>>>>>>> parent of 9396477 (Check in multiple changes to the github)
   "metadata": {},
   "outputs": [],
   "source": [
    "import pandas as pd\n",
    "import numpy as np\n",
    "import seaborn as sns\n",
    "import matplotlib.pyplot as plt\n",
    "import missingno as msno\n",
    "import warnings\n",
    "warnings.filterwarnings('ignore')"
   ]
  },
  {
   "cell_type": "markdown",
<<<<<<< HEAD
   "id": "balanced-controversy",
=======
   "id": "challenging-elimination",
>>>>>>> parent of 9396477 (Check in multiple changes to the github)
   "metadata": {},
   "source": [
    "## WRDS\n",
    "\n",
    "We accesed the Compustat North America database through the Wharton resarch data services site. This database has fundamental and market information on active and inactive public held companies in US and Canada. \n",
    "\n",
    "We focused in the Fundamentals Annual information and selected the following parameters to collect the data:\n",
    "\n",
    "1) Data range - From January 2005 to February 2020\n",
    "2) TIC - Submitted the 52 tickers from the initial companies\n",
    "3) Screening variables - Industrial format\n",
    "\n",
    "We selected the following columns:\n",
    "1) Company Name\n",
    "2) Ticker Symbol\n",
    "3) CUSIP - Another company identifier\n",
    "4) CIK Number - Identifier by the SEC\n",
    "5) AT - Assets - Total\n",
    "6) Sales/Turnover (Net)\n",
    "7) Net Income (Loss)\n",
    "\n",
    "We exported this information to a csv and now we are going to explore it."
   ]
  },
  {
   "cell_type": "code",
   "execution_count": 2,
<<<<<<< HEAD
   "id": "junior-alpha",
=======
   "id": "humanitarian-floor",
>>>>>>> parent of 9396477 (Check in multiple changes to the github)
   "metadata": {},
   "outputs": [
    {
     "name": "stdout",
     "output_type": "stream",
     "text": [
      "The WRDS dataset has 782 rows and 10 columns\n"
     ]
    },
    {
     "data": {
      "text/html": [
       "<div>\n",
       "<style scoped>\n",
       "    .dataframe tbody tr th:only-of-type {\n",
       "        vertical-align: middle;\n",
       "    }\n",
       "\n",
       "    .dataframe tbody tr th {\n",
       "        vertical-align: top;\n",
       "    }\n",
       "\n",
       "    .dataframe thead th {\n",
       "        text-align: right;\n",
       "    }\n",
       "</style>\n",
       "<table border=\"1\" class=\"dataframe\">\n",
       "  <thead>\n",
       "    <tr style=\"text-align: right;\">\n",
       "      <th></th>\n",
       "      <th>gvkey</th>\n",
       "      <th>datadate</th>\n",
       "      <th>fyear</th>\n",
       "      <th>tic</th>\n",
       "      <th>cusip</th>\n",
       "      <th>conm</th>\n",
       "      <th>at</th>\n",
       "      <th>ni</th>\n",
       "      <th>sale</th>\n",
       "      <th>cik</th>\n",
       "    </tr>\n",
       "  </thead>\n",
       "  <tbody>\n",
       "    <tr>\n",
       "      <th>0</th>\n",
       "      <td>1075</td>\n",
       "      <td>20051231</td>\n",
       "      <td>2005</td>\n",
       "      <td>PNW</td>\n",
       "      <td>723484101</td>\n",
       "      <td>PINNACLE WEST CAPITAL CORP</td>\n",
       "      <td>11322.645</td>\n",
       "      <td>176.267</td>\n",
       "      <td>2987.955</td>\n",
       "      <td>764622</td>\n",
       "    </tr>\n",
       "    <tr>\n",
       "      <th>1</th>\n",
       "      <td>1075</td>\n",
       "      <td>20061231</td>\n",
       "      <td>2006</td>\n",
       "      <td>PNW</td>\n",
       "      <td>723484101</td>\n",
       "      <td>PINNACLE WEST CAPITAL CORP</td>\n",
       "      <td>11455.943</td>\n",
       "      <td>327.255</td>\n",
       "      <td>3401.748</td>\n",
       "      <td>764622</td>\n",
       "    </tr>\n",
       "    <tr>\n",
       "      <th>2</th>\n",
       "      <td>1075</td>\n",
       "      <td>20071231</td>\n",
       "      <td>2007</td>\n",
       "      <td>PNW</td>\n",
       "      <td>723484101</td>\n",
       "      <td>PINNACLE WEST CAPITAL CORP</td>\n",
       "      <td>11243.712</td>\n",
       "      <td>307.143</td>\n",
       "      <td>3523.620</td>\n",
       "      <td>764622</td>\n",
       "    </tr>\n",
       "  </tbody>\n",
       "</table>\n",
       "</div>"
      ],
      "text/plain": [
       "   gvkey  datadate  fyear  tic      cusip                        conm  \\\n",
       "0   1075  20051231   2005  PNW  723484101  PINNACLE WEST CAPITAL CORP   \n",
       "1   1075  20061231   2006  PNW  723484101  PINNACLE WEST CAPITAL CORP   \n",
       "2   1075  20071231   2007  PNW  723484101  PINNACLE WEST CAPITAL CORP   \n",
       "\n",
       "          at       ni      sale     cik  \n",
       "0  11322.645  176.267  2987.955  764622  \n",
       "1  11455.943  327.255  3401.748  764622  \n",
       "2  11243.712  307.143  3523.620  764622  "
      ]
     },
     "execution_count": 2,
     "metadata": {},
     "output_type": "execute_result"
    }
   ],
   "source": [
    "stocks = pd.read_csv(\"/Users/maralinetorres/Documents/GitHub/Predicting-Environmental-and-Social-Actions/Datasets/wrds_52_data.csv\")\n",
    "print(f'The WRDS dataset has {stocks.shape[0]} rows and {stocks.shape[1]} columns')\n",
    "stocks.head(3)"
   ]
  },
  {
   "cell_type": "code",
   "execution_count": 3,
<<<<<<< HEAD
   "id": "therapeutic-expert",
=======
   "id": "worldwide-passion",
>>>>>>> parent of 9396477 (Check in multiple changes to the github)
   "metadata": {},
   "outputs": [
    {
     "name": "stdout",
     "output_type": "stream",
     "text": [
      "<class 'pandas.core.frame.DataFrame'>\n",
      "RangeIndex: 782 entries, 0 to 781\n",
      "Data columns (total 10 columns):\n",
      " #   Column    Non-Null Count  Dtype  \n",
      "---  ------    --------------  -----  \n",
      " 0   gvkey     782 non-null    int64  \n",
      " 1   datadate  782 non-null    int64  \n",
      " 2   fyear     782 non-null    int64  \n",
      " 3   tic       782 non-null    object \n",
      " 4   cusip     782 non-null    object \n",
      " 5   conm      782 non-null    object \n",
      " 6   at        779 non-null    float64\n",
      " 7   ni        779 non-null    float64\n",
      " 8   sale      779 non-null    float64\n",
      " 9   cik       782 non-null    int64  \n",
      "dtypes: float64(3), int64(4), object(3)\n",
      "memory usage: 61.2+ KB\n"
     ]
    }
   ],
   "source": [
    "stocks.info()"
   ]
  },
  {
   "cell_type": "markdown",
<<<<<<< HEAD
   "id": "distinct-toyota",
=======
   "id": "consecutive-accounting",
>>>>>>> parent of 9396477 (Check in multiple changes to the github)
   "metadata": {},
   "source": [
    "Columns Data types in the dataset:\n",
    "\n",
    "- 4 integers\n",
    "- 3 Object (Category) (String) \n",
    "- 3 floats\n",
    "\n",
    "Also, there are three columns with missing values (Total Assets, Net Income and Total Sales)."
   ]
  },
  {
   "cell_type": "code",
   "execution_count": 4,
<<<<<<< HEAD
   "id": "assigned-english",
=======
   "id": "lucky-monday",
>>>>>>> parent of 9396477 (Check in multiple changes to the github)
   "metadata": {},
   "outputs": [
    {
     "name": "stdout",
     "output_type": "stream",
     "text": [
      "We have 0 duplicated rows\n",
      "Number of companies: 52\n"
     ]
    }
   ],
   "source": [
    "print(f'We have {stocks.duplicated().sum()} duplicated rows')\n",
    "print(f'Number of companies: {len(stocks.tic.unique())}')"
   ]
  },
  {
   "cell_type": "code",
   "execution_count": 5,
<<<<<<< HEAD
   "id": "human-coaching",
=======
   "id": "oriental-mandate",
>>>>>>> parent of 9396477 (Check in multiple changes to the github)
   "metadata": {},
   "outputs": [
    {
     "data": {
      "image/png": "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\n",
      "text/plain": [
       "<Figure size 720x360 with 1 Axes>"
      ]
     },
     "metadata": {
      "needs_background": "light"
     },
     "output_type": "display_data"
    },
    {
     "data": {
      "image/png": "iVBORw0KGgoAAAANSUhEUgAABDAAAALHCAYAAAB407KNAAAAOXRFWHRTb2Z0d2FyZQBNYXRwbG90bGliIHZlcnNpb24zLjMuNCwgaHR0cHM6Ly9tYXRwbG90bGliLm9yZy8QVMy6AAAACXBIWXMAAAsTAAALEwEAmpwYAAAwkUlEQVR4nO3dfdjtdV0n+vdnbwQsawQ1JSS1I1ZOD1AeyrFJU1N6UDDNcJqCgEgnPJ2xOmpe5UR5Upsu7MEa9yilVqI5WcxoEopmVhZ4oBAcdIcZkA8lmiYKsu/P+WOtXYvtfuC3N/zW99779bqudd3r97DW+tz74tqb+3O/P99vdXcAAAAARrZl3QUAAAAA7IsGBgAAADA8DQwAAABgeBoYAAAAwPA0MAAAAIDhaWAAAAAAw9PAAAAAAD5PVV1QVR+tqvfs4XpV1S9X1faq+uuq+vqVa6dX1fuXj9PvjHo0MAAAAIDd+c0kJ+/l+rcnOX75OCfJrydJVR2d5PlJvjHJSUmeX1VHHWgxGhgAAADA5+nudyS5aS+3nJLkVb3wriT3rKpjkjw+ySXdfVN3fzzJJdl7I+QO0cAAAAAA9sexSa5fOb5heW5P5w/IYQf6BgAAAMA0h594Zq+7hs9d+Rs/nMXox07bunvbuurZFw0MAAAAOAQtmxUH0rC4MclxK8f3X567Mcmjdjn/9gP4nCRGSAAAAID9c1GSH1juRvJNSf6puz+U5OIkj6uqo5aLdz5uee6ASGAAAADAzGrL1nWXsE9V9ZoskhT3rqobsthZ5G5J0t3/LcmbknxHku1Jbk7yg8trN1XVzya5bPlW53X33hYDvWP1dK997AYAAAAOKUd8ww+t/YfxW97932vdNUwhgQEAAAAz2wwJjNFYAwMAAAAYngYGAAAAMDwjJAAAADAzIyTTSWAAAAAAw9PAAAAAAIZnhAQAAABmZoRkOgkMAAAAYHgSGAAAADCz2iqBMZUEBgAAADA8DQwAAABgeEZIAAAAYGZbLOI5mQQGAAAAMDwJDAAAAJiZbVSnk8AAAAAAhqeBAQAAAAzPCAkAAADMzAjJdBIYAAAAwPAkMAAAAGBmtUWeYCp/YgAAAMDwNDAAAACA4RkhAQAAgJlZxHM6CQwAAABgeBIYAAAAMDMJjOkkMAAAAIDhaWAAAAAAwzNCAgAAADMzQjKdBAYAAAAwPA0MAAAAYHhGSAAAAGBmtdUIyVQSGAAAAMDwJDAAAABgZhbxnE4CAwAAABieBgYAAAAwPCMkAAAAMDMjJNNJYAAAAADDk8AAAACAmW2RwJhMAgMAAAAYngYGAAAAMDwjJAAAADAzi3hOJ4EBAAAADE8CAwAAAGYmgTGdBAYAAAAwPA0MAAAAYHhGSAAAAGBmRkimk8AAAAAAhieBAQAAADOTwJhOAgMAAAAYngYGAAAAMDwjJAAAADAzIyTTSWAAAAAAw5PAAAAAgJnVVgmMqSQwAAAAgOFpYAAAAADDM0ICAAAAM7OI53QSGAAAAMDwNDAAAACA4RkhAQAAgJkZIZlOAgMAAAAYngQGAAAAzEwCYzoJDAAAAGB4GhgAAADA8IyQAAAAwMy2bKl1l7DpSGAAAAAAw5PAAAAAgJmVBMZkEhgAAADA8DQwAAAAgOEZIQEAAICZVRkhmUoCAwAAABieBAYAAADMzDaq00lgAAAAAMPTwAAAAACGZ4QEAAAAZlZGSCaTwAAAAAB2q6pOrqprq2p7VT1nN9fPr6orl4/3VdUnVq7tWLl20YHWIoEBAAAAM9sMCYyq2prkpUm+LckNSS6rqou6+5qd93T3f165/5lJTlx5i8909wl3Vj0SGAAAAMDunJRke3df1923JrkwySl7uf9pSV5zVxWjgQEAAACHoKo6p6ouX3mcs8stxya5fuX4huW53b3XA5I8KMmlK6ePXL7vu6rq1AOt1wgJAAAAzGxLrX+EpLu3Jdl2J73daUle3907Vs49oLtvrKovT3JpVV3V3X+zvx8ggQEAAADszo1Jjls5vv/y3O6cll3GR7r7xuXX65K8PbdfH2MyCQwAAACY2WZYxDPJZUmOr6oHZdG4OC3Jf9j1pqr6yiRHJfnzlXNHJbm5u2+pqnsneUSSFx9IMRoYAAAAwOfp7tuq6twkFyfZmuSC7r66qs5Lcnl379wa9bQkF3Z3r7z8q5K8rKo2spj+eOHq7iX7o27//gAAAMBd7at//H+t/Yfx9/zX79oUMZCdJDAAAABgZptkhGQoFvEEAAAAhqeBAQAAAAzPCAkAAADMbIsRkskkMAAAAIDhSWAAAADAzEqcYDJ/ZAAAAMDwNDAAAACA4RkhAQAAgJlVWcRzKgkMAAAAYHgSGAAAADAz26hOJ4EBAAAADE8DAwAAABieERIAAACYWRkhmUwCAwAAABieBAYAAADMTAJjuqESGFV1RlWdue46AAAAgLEM1cBIckYSDQwAAADgdoyQAAAAwMy2lBGSqWZJYFTVg6vq1VX1gar6TFVdV1W/XlVHrdzz9iSPTPKIqurl4+1z1AcAAACMba4ExpcmuT7J/53k40m+PMlPJnlTkocv7/lPSX4rydYkP7w898mZ6gMAAIDZWMRzulkaGN39jiTv2HlcVX+WZHuSP6mqE7v7iu6+pqo+meSw7n7XHHUBAAAAm8NcIySHV9VPVtX/rqrPJPlckj9ZXv6KOWoAAAAANq+5Rkh+Pskzk5yX5M+SfCrJ/ZP8XpIjZ6oBAAAAhmCEZLq5GhinJXlVd//czhNVdY+ZPhsAAADY5GYZIUnyBVmMjaz6wd3cd0uSu9/15QAAAACbyVwJjDcnOb2qrspi8c7vTvLvdnPfNUn+U1V9b5K/SfKp7r52phoBAABgFluMkEw2VwPjmUkqyQuWx29K8rQkf7nLfS/KYlHPlye5R5I/TvKoeUoEAAAARjXXNqr/mMU6GLuqXe77cJLvmKMmAAAAWJcqCYyp5loDAwAAAGC/aWAAAAAAw5trDQwAAABgqcQJJvNHBgAAAAxPAgMAAABmZhvV6SQwAAAAgOFpYAAAAADDM0ICAAAAMysjJJNJYAAAAADDk8AAAACAmVVJYEwlgQEAAAAMTwMDAAAAGJ4REgAAAJjZFot4TiaBAQAAAAxPAgMAAABmZhvV6SQwAAAAgOFpYAAAAADDM0ICAAAAM9tqhGQyCQwAAABgeBIYAAAAMDMJjOkkMAAAAIDhaWAAAAAAwzNCAgAAADMzQjKdBAYAAAAwPA0MAAAAYHhGSAAAAGBmRkimk8AAAAAAhieBAQAAADOTwJhOAgMAAAAYngYGAAAAMDwjJAAAADCzw4yQTCaBAQAAAAxPAgMAAABmZhHP6SQwAAAAgOFpYAAAAADDM0ICAAAAMzNCMp0EBgAAADA8CQwAAACY2dYt8gRT+RMDAAAAhqeBAQAAAAzPCAkAAADMzCKe00lgAAAAAMOTwAAAAICZSWBMJ4EBAAAA7FZVnVxV11bV9qp6zm6un1FV/1BVVy4fZ69cO72q3r98nH6gtUhgAAAAAJ+nqrYmeWmSb0tyQ5LLquqi7r5ml1tf293n7vLao5M8P8nDknSSdy9f+/H9rUcDAwAAAGa2SUZITkqyvbuvS5KqujDJKUl2bWDszuOTXNLdNy1fe0mSk5O8Zn+LMUICAAAA7M6xSa5fOb5heW5XT66qv66q11fVcRNfe4dpYAAAAMDMtlat/VFV51TV5SuPc/bjW/mfSR7Y3V+b5JIkr7xz/6T+lRESAAAAOAR197Yk2/Zyy41Jjls5vv/y3Op7fGzl8OVJXrzy2kft8tq372epSSQwAAAAgN27LMnxVfWgqjo8yWlJLlq9oaqOWTl8YpL3Lp9fnORxVXVUVR2V5HHLc/tNAgMAAABmthkW8ezu26rq3CwaD1uTXNDdV1fVeUku7+6LkvxfVfXEJLcluSnJGcvX3lRVP5tFEyRJztu5oOf+qu4+kNcDAAAAE/3oG65a+w/jv/Skrxm/i7LCCAkAAAAwPCMkAAAAMLPNMEIyGgkMAAAAYHgSGAAAADCzwyQwJpPAAAAAAIangQEAAAAMzwgJAAAAzMwintNJYAAAAADDk8AAAACAmUlgTCeBAQAAAAxPAwMAAAAYnhESAAAAmJkRkukkMAAAAIDhSWAAAADAzCQwppPAAAAAAIangQEAAAAMzwgJAAAAzMwIyXQSGAAAAMDwJDAAAABgZhIY00lgAAAAAMPTwAAAAACGZ4QEAAAAZmaEZDoJDAAAAGB4EhgAAAAwMwmM6SQwAAAAgOFpYAAAAADDM0ICAAAAMzNCMp0EBgAAADA8DQwAAABgeEZIAAAAYGZGSKaTwAAAAACGJ4EBAAAAM9taEhhTSWAAAAAAw9PAAAAAAIZnhAQAAABmtsUIyWQSGAAAAMDwJDAAAABgZlsFMCaTwAAAAACGp4EBAAAADM8ICQAAAMxsyxYzJFNJYAAAAADDk8AAAACAmW21jepkEhgAAADA8DQwAAAAgOEZIQEAAICZbTFCMpkEBgAAADA8CQwAAACY2VYBjMkkMAAAAIDhaWAAAAAAw9vUIySHn3hmr7sGgL259YoLhAMBAPg8W7b438SpJDAAAACA4WlgAAAAAMPb1CMkAAAAsBltKSMkU0lgAAAAAMOTwAAAAICZbRXAmEwCAwAAABieBgYAAAAwPCMkAAAAMDOLeE4ngQEAAAAMTwIDAAAAZrZ1iwTGVBIYAAAAwPA0MAAAAIDhGSEBAACAmVnEczoJDAAAAGB4EhgAAAAws60CGJNJYAAAAADD08AAAAAAhmeEBAAAAGZmEc/pJDAAAACA4UlgAAAAwMy2bpHAmEoCAwAAABieBgYAAAAwPCMkAAAAMDMTJNNJYAAAAAC7VVUnV9W1VbW9qp6zm+vPqqprquqvq+qtVfWAlWs7qurK5eOiA61FAgMAAABmtnUTbKNaVVuTvDTJtyW5IcllVXVRd1+zctsVSR7W3TdX1TOSvDjJ9y6vfaa7T7iz6pHAAAAAAHbnpCTbu/u67r41yYVJTlm9obvf1t03Lw/fleT+d1UxGhgAAADA7hyb5PqV4xuW5/bkrCR/uHJ8ZFVdXlXvqqpTD7QYIyQAAAAwsy0DjJBU1TlJzlk5ta27t+3ne/3HJA9L8siV0w/o7hur6suTXFpVV3X33+xvvRoYAAAAcAhaNiv21rC4MclxK8f3X567nap6bJLnJXlkd9+y8v43Lr9eV1VvT3Jikv1uYBghAQAAAHbnsiTHV9WDqurwJKclud1uIlV1YpKXJXlid3905fxRVXXE8vm9kzwiyerin5NJYAAAAMDMtm6COEF331ZV5ya5OMnWJBd099VVdV6Sy7v7oiS/kOQeSX63FmMxf9fdT0zyVUleVlUbWYQnXrjL7iWTaWAAAAAAu9Xdb0rypl3O/fTK88fu4XV/luRr7sxaNDAAAABgZiMs4rnZbILQCgAAAHCo08AAAAAAhmeEBAAAAGa21QjJZBIYAAAAwPAkMAAAAGBmFvGcTgIDAAAAGJ4GBgAAADA8IyQAAAAws63iBJP5IwMAAACGJ4EBAAAAM7OI53QSGAAAAMDwNDAAAACA4RkhAQAAgJmZIJlOAgMAAAAYngQGAAAAzGxLRDCmksAAAAAAhqeBAQAAAAzPCAkAAADMzCKe00lgAAAAAMOTwAAAAICZbZHAmEwCAwAAABieBgYAAAAwPCMkAAAAMDOLeE4ngQEAAAAMTwMDAAAAGJ4REgAAAJjZlpghmUoCAwAAABieBAYAAADMzCKe00lgAAAAAMPTwAAAAACGZ4QEAAAAZrbFCMlkEhgAAADA8CQwAAAAYGYCGNNJYAAAAADD08AAAAAAhmeEBAAAAGa2pQyRTCWBAQAAAAxPAgMAAABmJoAxnQQGAAAAMDwNDAAAAGB4RkgAAABgZtIE0/kzAwAAAIYngQEAAAAzK6t4TiaBAQAAAAxPAwMAAAAYnhESAAAAmNkWEySTSWAAAAAAw9PAAAAAAIZnhAQAAABmZhOS6SQwAAAAgOFJYAAAAMDMpAmm82cGAAAADE8DAwAAABieERIAAACYWVnFczIJDAAAAGB4EhgAAAAwsy0CGJNJYAAAAADD08AAAAAAhmeEBAAAAGZmgmQ6CQwAAABgeBIYAAAAMDOLeE4ngQEAAAAMTwMDAAAAGJ4REgAAAJhZlRmSqSQwAAAAgOFJYAAAAMDMLOI5nQQGAAAAMDwNDAAAAGB4RkgAAABgZiZIphsqgVFVj6qqrqpHrbsWDh3f/PUPye+95Jn5wMW/mFuvuCDf/4RHrLskAAAAdjFUAyPJ/5fk4cuvMIt7fMERuXr7jfmxX/id3PyZW9ZdDgAAcAjYUrX2x2YzVAOjuz/Z3e/q7k+uuxYOHW9+51X5qV/9vfzeW96dje51lwMAADCMqjq5qq6tqu1V9ZzdXD+iql67vP4XVfXAlWvPXZ6/tqoef6C1zNbAqKr/shwPOb6q3lhV/1xVH6yqn66qLct7jJAAAADAAKpqa5KXJvn2JA9N8rSqeugut52V5OPd/eAk5yd50fK1D01yWpJ/m+TkJL+2fL/9to4ExhuSXJrk1CS/n+Rnkpy+hjoAAABgLarW/7gDTkqyvbuv6+5bk1yY5JRd7jklySuXz1+f5DFVVcvzF3b3Ld39gSTbl++339bRwPjF7v7F7n5Ld/9okvckedoa6gAAAAD27Ngk168c37A8t9t7uvu2JP+U5F538LWTrKOB8cZdjt+T5MvWUAcAAAAcsqrqnKq6fOVxzrpr2pvD1vCZN+1yfEuSI9dQBwAAAKxFDbCBQHdvS7JtL7fcmOS4leP7L8/t7p4bquqwJP8mycfu4GsnGWoXEliHL7z7Efm6hxyXr3vIcdlSlS875uh83UOOy3H3O3rdpQEAAKzTZUmOr6oHVdXhWSzKedEu91yUf13X8ilJLu3uXp4/bblLyYOSHJ/kLw+kmHUkMGAo3/DQB+YtL3/2vxw//xlPyvOf8aS86qJ35uznX7DGygAAgINWb6y7gn3q7tuq6twkFyfZmuSC7r66qs5Lcnl3X5TkFUleXVXbs5i4OG352qur6nVJrklyW5If6e4dB1KPBgaHvHe8+9ocfuKZ6y4DAABgON39piRv2uXcT688/2yS79nDa1+Q5AV3Vi1GSAAAAIDhVQ+wcMj+OvzEMzdv8cAh4dYrLrhjO2wDAHBIueXTn1r7z7NHfOEXbar/V5XAAAAAAIZnDQwAAACY2yZYxHM0EhgAAADA8DQwAAAAgOEZIQEAAIC5beINNdZFAgMAAAAYngQGAAAAzM0inpNJYAAAAADD08AAAAAAhmeEBAAAAGZWRkgmk8AAAAAAhieBAQAAAHOTwJhMAgMAAAAYngYGAAAAMDwjJAAAADA3IySTSWAAAAAAw5PAAAAAgLlJYEwmgQEAAAAMTwMDAAAAGJ4REgAAAJjbhhGSqSQwAAAAgOFpYAAAAADDM0ICAAAAMyu7kEwmgQEAAAAMTwIDAAAA5iaBMZkEBgAAADA8DQwAAABgeEZIAAAAYG7d665g05HAAAAAAIYngQEAAABzs4jnZBIYAAAAwPA0MAAAAIDhGSEBAACAmZURkskkMAAAAIDhSWAAAADA3CQwJpPAAAAAAIangQEAAAAMzwgJAAAAzM0IyWQSGAAAAMDwJDAAAABgbhIYk0lgAAAAAMPTwAAAAACGZ4QEAAAAZlZGSCaTwAAAAACGp4EBAAAADM8ICQAAAMxtwwjJVBIYAAAAwPAkMAAAAGBu3euuYNORwAAAAACGp4EBAAAADM8ICQAAAMytLeI5lQQGAAAAMDwJDAAAAJhZSWBMJoEBAAAADE8DAwAAABieERIAAACYmxGSySQwAAAAgOFJYAAAAMDcJDAmk8AAAAAAhqeBAQAAAAzPCAkAAADMbWPHuivYdCQwAAAAgOFJYAAAAMDMesMinlNJYAAAAADD08AAAAAAhmeEBAAAAOZmEc/JJDAAAACA4UlgAAAAwNwkMCaTwAAAAACGp4EBAAAADM8ICQAAAMysdxghmUoCAwAAAJikqo6uqkuq6v3Lr0ft5p4TqurPq+rqqvrrqvrelWu/WVUfqKorl48T9vWZGhgAAADAVM9J8tbuPj7JW5fHu7o5yQ90979NcnKSl1TVPVeu/0R3n7B8XLmvDzRCAgAAAHPb2Fh3BQfqlCSPWj5/ZZK3J3n26g3d/b6V539fVR9Ncp8kn9ifD5TAAAAAAKa6b3d/aPn8w0nuu7ebq+qkJIcn+ZuV0y9YjpacX1VH7OsDJTAAAABgbhvrX8Szqs5Jcs7KqW3dvW3l+luS3G83L33e6kF3d1X1Xj7nmCSvTnJ6d++Mnjw3i8bH4Um2ZZHeOG9v9WpgAAAAwCFo2azYtpfrj93Ttar6SFUd090fWjYoPrqH+744yRuTPK+737Xy3jvTG7dU1W8k+fF91WuEBAAAAJjqoiSnL5+fnuQPdr2hqg5P8oYkr+ru1+9y7Zjl10pyapL37OsDJTAAAABgZj3ACMkBemGS11XVWUk+mOSpSVJVD0vy9O4+e3nuW5Lcq6rOWL7ujOWOI79dVfdJUkmuTPL0fX2gBgYAAAAwSXd/LMljdnP+8iRnL5//VpLf2sPrHz31MzUwAAAAYG6bfxvV2VkDAwAAABieBgYAAAAwPCMkAAAAMLODYBHP2UlgAAAAAMOTwAAAAIC5SWBMJoEBAAAADE8DAwAAABieERIAAACY28bGuivYdCQwAAAAgOFJYAAAAMDMeodFPKeSwAAAAACGp4EBAAAADM8ICQAAAMxtwwjJVBIYAAAAwPAkMAAAAGBuEhiTSWAAAAAAw9PAAAAAAIZnhAQAAABm1hsb6y5h05HAAAAAAIangQEAAAAMzwgJwF3o8BPP7HXXALAnt15xQa27BoBDll1IJpPAAAAAAIYngQEAAABzk8CYTAIDAAAAGJ4GBgAAADA8IyQAAAAws97YWHcJm44EBgAAADA8CQwAAACYm0U8J5PAAAAAAIangQEAAAAMzwgJAAAAzM0IyWQSGAAAAMDwJDAAAABgZr1DAmMqCQwAAABgeBoYAAAAwPCMkAAAAMDcNjbWXcGmI4EBAAAADE8CAwAAAOZmG9XJJDAAAACA4WlgAAAAAMMzQgIAAAAzayMkk0lgAAAAAMPTwAAAAACGZ4QEAAAAZtYbG+suYdORwAAAAACGJ4EBAAAAM+sdEhhTSWAAAAAAw9PAAAAAAIZnhAQAAABmZoRkOgkMAAAAYHgSGAAAADAz26hOJ4EBAAAADE8DAwAAABieERIAAACYmUU8p5PAAAAAAIYngQEAAAAzk8CYTgIDAAAAGJ4GBgAAADA8IyQAAAAws40dO9ZdwqYjgQEAAAAMTwIDAAAAZtYbFvGcSgIDAAAAGJ4GBgAAADA8IyQAAAAws95hhGQqCQwAAABgeBIYAAAAMDMJjOkkMAAAAIDhaWAAAAAAwzNCAgAAADPrDSMkU0lgAAAAAMPTwAAAAACGZ4QEAAAAZraxyXchqaqjk7w2yQOT/G2Sp3b3x3dz344kVy0P/667n7g8/6AkFya5V5J3J/n+7r51b58pgQEAAABM9Zwkb+3u45O8dXm8O5/p7hOWjyeunH9RkvO7+8FJPp7krH19oAYGAAAAzKx3bKz9cYBOSfLK5fNXJjn1jr6wqirJo5O8fsrrNTAAAACAqe7b3R9aPv9wkvvu4b4jq+ryqnpXVZ26PHevJJ/o7tuWxzckOXZfH2gNDAAAADgEVdU5Sc5ZObWtu7etXH9Lkvvt5qXPWz3o7q6q3sPHPKC7b6yqL09yaVVdleSf9qdeDQwAAACY2Z0wwnHgNSyaFdv2cv2xe7pWVR+pqmO6+0NVdUySj+7hPW5cfr2uqt6e5MQk/yPJPavqsGUK4/5JbtxXvUZIAAAAgKkuSnL68vnpSf5g1xuq6qiqOmL5/N5JHpHkmu7uJG9L8pS9vX5XEhgAAAAws95YfwLjAL0wyeuq6qwkH0zy1CSpqocleXp3n53kq5K8rKo2sghQvLC7r1m+/tlJLqyqn0tyRZJX7OsDNTAAAACASbr7Y0kes5vzlyc5e/n8z5J8zR5ef12Sk6Z8phESAAAAYHgSGAAAADCzERbx3GwkMAAAAIDhSWAAAADAzCQwppPAAAAAAIangQEAAAAMzwgJAAAAzGxjwwjJVBIYAAAAwPAkMAAAAGBmFvGcTgIDAAAAGJ4GBgAAADA8IyQAAAAws96xY90lbDoSGAAAAMDwJDAAAABgZm0b1ckkMAAAAIDhaWAAAAAAwzNCAgAAADPrHUZIppLAAAAAAIangQEAAAAMzwgJAAAAzMwIyXQSGAAAAMDwJDAAAABgZhsSGJNJYAAAAADD08AAAAAAhmeEBAAAAGbWG0ZIppLAAAAAAIYngQEAAAAzs43qdBIYAAAAwPA0MAAAAIDhGSEBAACAmfWOXncJm44EBgAAADA8CQwAAACY2YZFPCeTwAAAAACGp4EBAAAADM8ICQAAAMysNyziOZUEBgAAADA8CQwAAACY2YZtVCeTwAAAAACGp4EBAAAADM8ICQAAAMysd2ysu4RNRwIDAAAAGJ4EBgAAAMysLeI5mQQGAAAAMDwNDAAAAGB4szUwquqMquqqeuBcnwl3xDd//UPyey95Zj5w8S/m1isuyPc/4RHrLgngX/g7CgAOThs7eu2PzUYCg0PePb7giFy9/cb82C/8Tm7+zC3rLgfgdvwdBQCwYBFPDnlvfudVefM7r0qSvPxnzlpzNQC35+8oAICFO5TAqKqHVNUbquqjVfXZqvq7qvrdqjqsqo6sqvOr6j1V9c9V9eGq+p9V9ZV38L3Pqaq/Wr7vP1bVK6rq6AP7tgAAAGBcvWNj7Y/N5o6OkLwxybFJnpHk8Umek+SW5euPSPJFSX4uyXcu7zkyyZ9X1f329qZV9cIkL03yliRPTPITSU5O8odVtXXqNwMAAAAcnPY5QlJV907y4CSndPdFK5d+Z/n11iRnr9y/NcnFST6S5GlJzt/D+z4wi4bFz3T3eSvn35fknUmekOT37/i3AgAAAJvDxsbmW0Rz3e5IAuNjSa5L8sKq+qGqOn7XG6rqqVX1F1X1iSS3Jfl0knsk+Yq9vO+3LT//t5ejKIdV1WFJ/iLJp5J8y7RvBQAAADhY7bOB0d2dRbPh8iQ/n+R9VXVdVT0jSarqCUlem+S9Sf5Dkm9M8n8m+YcsRkn25EuWX7cn+dwujy9Kcq/9+H4AAACAg9Ad2oWku69L8gNVVUm+Lsm5SX6tqv42yWlJtnf3GTvvr6q7JdnXQpwfW359XJKP7+U63KW+8O5H5MHHLfppW6ryZcccna97yHG56ZOfzvUfvmnN1QGHOn9HAcDBqXcYIZlq0jaqyzTGlVX1rCRnJfnqJF+QxdjIqu9Psq9FOC9JspHky7r7kil1wJ3pGx76wLzl5c/+l+PnP+NJef4znpRXXfTOnP38C9ZYGYC/owAAdroji3h+bZJfymJMZHsWjYkzsmhaXJrkk0lOrarzk/yvJA9L8swkn9jb+3b331TVi5L8alV9RZI/TvLZJMdlMbLy8u5+2359VzDBO959bQ4/8cx1lwGwW/6OAoCD08Ym3MZ03e5IAuPDSf4uybOS3D+LJsNVSb6ru99dVVdk0XQ4M8kPJ7ksix1E3rCvN+7un6yq9yb5keWjk1yf5K1J3j/5uwEAAAAOSrWYCtmcDj/xzM1bPADAmt16xQW17hoADlV//uhHrv3n2Ydf+seb6t+BSWtgAAAAAAfOIp7T7XMbVQAAAIB1k8AAAACAmUlgTCeBAQAAAAxPAwMAAAAYnhESAAAAmNnGjo11l7DpSGAAAAAAw5PAAAAAgJn1hkU8p5LAAAAAAIangQEAAAAMzwgJAAAAzGxjhxGSqSQwAAAAgOFpYAAAAADDM0ICAAAAM+sdG+suYdORwAAAAACGJ4EBAAAAM2uLeE4mgQEAAABMUlVHV9UlVfX+5dejdnPPt1bVlSuPz1bVqctrv1lVH1i5dsK+PlMDAwAAAJjqOUne2t3HJ3nr8vh2uvtt3X1Cd5+Q5NFJbk7yRyu3/MTO69195b4+0AgJAAAAzGxj84+QnJLkUcvnr0zy9iTP3sv9T0nyh9198/5+oAQGAAAAMNV9u/tDy+cfTnLffdx/WpLX7HLuBVX111V1flUdsa8PlMAAAACAmfXG+rdRrapzkpyzcmpbd29buf6WJPfbzUuft3rQ3V1Ve4yUVNUxSb4mycUrp5+bRePj8CTbskhvnLe3ejUwAAAA4BC0bFZs28v1x+7pWlV9pKqO6e4PLRsUH93LRz01yRu6+3Mr770zvXFLVf1Gkh/fV71GSAAAAICpLkpy+vL56Un+YC/3Pi27jI8smx6pqkpyapL37OsDJTAAAABgZgfBIp4vTPK6qjoryQezSFmkqh6W5Ondffby+IFJjkvyx7u8/rer6j5JKsmVSZ6+rw/UwAAAAAAm6e6PJXnMbs5fnuTsleO/TXLsbu579NTP1MAAAACAmfXmT2DMzhoYAAAAwPA0MAAAAIDhGSEBAACAmfWOjXWXsOlIYAAAAADDk8AAAACAmR0E26jOTgIDAAAAGJ4GBgAAADA8IyQAAAAwszZCMpkEBgAAADA8CQwAAACY2UZLYEwlgQEAAAAMTwMDAAAAGJ4REgAAAJjZDiMkk0lgAAAAAMPTwAAAAACGZ4QEAAAAZrbDBMlkEhgAAADA8CQwAAAAYGYW8ZxOAgMAAAAYngYGAAAAMDwjJAAAADAzi3hOJ4EBAAAADE8CAwAAAGZmEc/pJDAAAACA4WlgAAAAAMMzQgIAAAAzs4jndBIYAAAAwPAkMAAAAGBmFvGcTgIDAAAAGJ4GBgAAADA8IyQAAAAwM4t4TieBAQAAAAxPAgMAAABmJoExnQQGAAAAMDwNDAAAAGB4RkgAAABgZjvaDMlUEhgAAADA8CQwAAAAYGYW8ZxOAgMAAAAYngYGAAAAMDwjJAAAADAzi3hOJ4EBAAAADE8DAwAAABieERIAAACYmV1IppPAAAAAAIYngQEAAAAzs4jndBIYAAAAwPA0MAAAAIDhGSEBAACAmVnEczoJDAAAAGB4EhgAAAAwM4t4TieBAQAAAAxPAwMAAAAYnhESAAAAmNnGugvYhCQwAAAAgOFJYAAAAMDMLOI5nQQGAAAAMDwNDAAAAGB4RkgAAABgZjtMkEwmgQEAAAAMTwIDAAAAZmYRz+kkMAAAAIDhaWAAAAAAwzNCAgAAADOziOd0EhgAAADA8DQwAAAAgOEZIQEAAICZ2YVkOgkMAAAAYHgSGAAAADAzi3hOJ4EBAAAADE8DAwAAABieERIAAACYmUU8p5PAAAAAACapqu+pqquraqOqHraX+06uqmurantVPWfl/IOq6i+W519bVYfv6zM1MAAAAGBmO3r9jwP0niTfneQde7qhqrYmeWmSb0/y0CRPq6qHLi+/KMn53f3gJB9Pcta+PlADAwAAAJiku9/b3dfu47aTkmzv7uu6+9YkFyY5paoqyaOTvH553yuTnLqvz9zUa2DcesUFte4aAAAAYKr/1n+79p9nq+qcJOesnNrW3dvuxI84Nsn1K8c3JPnGJPdK8onuvm3l/LH7erNN3cAAAAAA9s+yWbHHhkVVvSXJ/XZz6Xnd/Qd3WWF7oIEBAAAAfJ7ufuwBvsWNSY5bOb7/8tzHktyzqg5bpjB2nt8ra2AAAAAAd4XLkhy/3HHk8CSnJbmouzvJ25I8ZXnf6Un2mejQwAAAAAAmqaonVdUNSR6e5I1VdfHy/JdW1ZuSZJmuODfJxUnem+R13X318i2eneRZVbU9izUxXrHPz1w0PgAAAADGJYEBAAAADE8DAwAAABieBgYAAAAwPA0MDmpVdbd11wCwO1V1t+Vq3AAA3AEaGByUquqYJOnuzy2Pv2e9FQH8q6o6Msk1SU5edy0AAJuFBgYHnar65iS/UlVPXh7/QZLnVdX91lsZwL/4wiy2CvvjJKmqw9ZbDsDtVdXn/ZxQVbWOWgB2so0qB52qeniSlyU5PMknk9wvySlJrmz/wQODqaptSf53kpd29y3rrgegqrZ2947l8wckuUeSG5J80v9LAeskgcFBp7v/PMkzknxJkhOT/Hp3X9HdvbvfJgCsS1V9cRZ/V/18ktOr6og1lwQc4qpqy0rz4r8n+aMklye5NslPV9VD11kfcGgTWeWgUlW1/M3AsUn+MclHk5xRVdd192u7e2P5D/PGeisFDkWrv9VMku7+ZFX9YJLzk/zK4pb6TUkMYF12/j9SVf1Wkn+f5AVJPpLk65M8P8k3VtU53X3D+qoEDlUaGBwUdjYudsYau/t1VfWHSb4pyQuTnLe858JlE6OSbO3u29ZZN3Do2CWS/Z1J7p7kg919WVU9PYtU5C8vr2tiAGtTVY9JclKSc5O8ubs/V1VvS/JTWYy8/eM66wMOXRoYbHq7/kazqu7Z3Z/o7k8luWQ5NvLzSX6mqnZ09+8mOWJ5/I/d/QtrKh04hKw0L16T5FuzGB35UFX9fnf/SFWdnaSiiQHMpKrunuSLu/sju1x6YJJ7Jbl62bz4qiTvTPI/kjyvuz9bVd+Y5KruvnnWooFDmgYGm9ouv9H8qSwSF8cvdx55aXf/bXdfvFw0+/9N8uLlP7hHJ3laFr9dALjLVNVhO9NeVfXcJA/LYp2ev19+fXJV3au7T6uqs5Yv+8UkR1bVr3f3rWspHDioLX/B8/okJ1bVSd19w8qY7Rcm2ZHkg1X14CR/msVaGGd392eq6rQkT07yY0n+bk3fAnAIsgsJm9bKehepqt9NckKSNyfZnsU8+YVJXtLdf7m85zFJ/p8kX5PkpiT/sbuvnL9y4FBUVV+fxcLCR2axuPBGVR2d5CeSnJ3krcsmxuFJXpfk4Um+ors/sa6agYPXcvvmJyZ5UZKbk3xXd1+/vPaVSa5O8qok35Xk0iRndvenq+pLkrw4yVFJzujuj6+jfuDQpIHBpldVL0pyapLTu/tdVfWfs/jt5a1ZxB2f292XLe89Jos581u62/wmMIuq+pEsFum8OckPd/dv70xmVNW/SfKcLJoYf9Td37dsYty7u/9+jWUDB7mquluSb0vy0iSfSvKd3X39srnxM1msgfHhJCd2983LNMbzknxHkkd193vXVDpwiLKlJJvacm/y/yPJLyybFz+WxW8Snpzke5J8c5LnLcdG0t0f6u4bNS+Amb0hyauT3C3J1ybJsnlxWHf/UxaLDb8sydOq6hXdfavmBXBX6+7PJbkki0bFFyV5Y1Udtxx7e2WSlyc5Psmbq+odSV6R5DFJHqd5AayDBAab2vK3lN+R5E+yiGa/Jsmzs/hH98gsfmh4bBZJjGd291+tqVTgEFdV90vykiRPTXJOd798eX5nEuOoJM9McmF3v299lQKHip3juMskxuOS/GqSf07yHcskxlFZNF2/L4u18y5P8ofd/YG1FQ0c0jQw2PRW/uf/RUkekUX88Z+W134jyf2SfGUWUccPrrFU4BBXVffN4geEJ+f2TYy7LVf6/5e1fQDubLvu3LbLtSOy+KXP7ZoYc9YHsC9GSNj0dq7un8ViUvdJcvckqapjs9im8JeTHK95AazbcqvCc7PYinBbVZ25PP+55VfNC+AuscvObT9aVb9SVW+oqidU1X2W2za/NYu/o+6R5TjJ8v4ty6+1rvoBEgkMDiJVdUKSdyX53SRXZRF5fFSSfy/qCIxkmcR4SZLvzWIB4levtyLgYLayPWqq6jVZbDt/RRbbyj80yW8n+a/dfWNVHZnFOhfnZ/FLoW/q7hvXUznA7UlgcNBYbon6+Cz+0d25Xep3al4Ao1kmMZ6VxRaF715zOcBBbqV58StJTkrytO7+7iy2bL53kh9I8tyqOqa7P5vkLVnsjvSxJEesp2qAzyeBwUGnqu6V5IuTfMpuI8DI9jaPDnBnqqqHZ5Gq+NnufmNVPTfJeVkkwZ6UxUKdv5bk55dJjCOSHNbdn15b0QC70MAAAICDzK4N0qq6exbJr19P8ugk25L8aHe/erkLyV9lMTLyJ0me3d0fWkPZAHtlhAQAAA4iuyzY+ayqekp3fybJi7r7piRPyGJM5Pd3viTJZ5McnuTfJfEbTmBIh627AAAA4M6xXLBzZ/Pid5I8LMlfVNWl3X1TVR2W5CuSfLa7P7V82ZcmuS7JU7IYwf2HddQOsC8aGAAAcJBYWbDzN5M8PIsFOq9ZNi+2dPdtVfXmJD9UVT+b5J1ZrH9xUpJPa14AI7MGBgAAHESq6luSvDLJud39xuW5+2QxOnJLkh1JvifJY5NsJPlEklO7+6/WUjDAHSSBAQAAB5d7JvmiJB+oqqOSPDKLxTt3ZDEucmmS5yd5cZJ7Jbmyu/9+PaUC3HESGAAAcBCpqodksavIFVkkLL46yW8l+aUk90jy7iTf192vWVuRAPvBLiQAAHAQ6e73JXl8kk8m+dMkZ3X3ud39/iS3Jnl/kpvWWCLAfjFCAgAAB5nufkdV/enOHUmSpKqOSfLMLFIZV62tOID9pIEBAAAHoV2aF6cneXSS70ryrda8ADYjDQwAADiIVdXDs0he/HOSb+nuq9dcEsB+sYgnAAAcxKpqS5Ljk9zU3f+w7noA9pcGBgAAADA8u5AAAAAAw9PAAAAAAIangQEAAAAMTwMDAAAAGJ4GBgAAADA8DQwAAABgeBoYAAAAwPA0MAAAAIDh/f/SkIpMgPMQagAAAABJRU5ErkJggg==\n",
      "text/plain": [
       "<Figure size 1440x864 with 2 Axes>"
      ]
     },
     "metadata": {
      "needs_background": "light"
     },
     "output_type": "display_data"
    }
   ],
   "source": [
    "plt.figure(figsize=(10,5));\n",
    "sns.heatmap(stocks.isnull(), cbar=False).set(title='Missing Data in the dataset');\n",
    "msno.heatmap(stocks);"
   ]
  },
  {
   "cell_type": "markdown",
<<<<<<< HEAD
   "id": "elect-state",
=======
   "id": "killing-manufacturer",
>>>>>>> parent of 9396477 (Check in multiple changes to the github)
   "metadata": {},
   "source": [
    "As presented previously, we can see null values in the Total Asset, Net Income and Sale columns"
   ]
  },
  {
   "cell_type": "code",
   "execution_count": 6,
<<<<<<< HEAD
   "id": "compatible-recommendation",
=======
   "id": "informative-porcelain",
>>>>>>> parent of 9396477 (Check in multiple changes to the github)
   "metadata": {},
   "outputs": [
    {
     "data": {
      "text/html": [
       "<div>\n",
       "<style scoped>\n",
       "    .dataframe tbody tr th:only-of-type {\n",
       "        vertical-align: middle;\n",
       "    }\n",
       "\n",
       "    .dataframe tbody tr th {\n",
       "        vertical-align: top;\n",
       "    }\n",
       "\n",
       "    .dataframe thead th {\n",
       "        text-align: right;\n",
       "    }\n",
       "</style>\n",
       "<table border=\"1\" class=\"dataframe\">\n",
       "  <thead>\n",
       "    <tr style=\"text-align: right;\">\n",
       "      <th></th>\n",
       "      <th>gvkey</th>\n",
       "      <th>datadate</th>\n",
       "      <th>fyear</th>\n",
       "      <th>tic</th>\n",
       "      <th>cusip</th>\n",
       "      <th>conm</th>\n",
       "      <th>at</th>\n",
       "      <th>ni</th>\n",
       "      <th>sale</th>\n",
       "      <th>cik</th>\n",
       "    </tr>\n",
       "  </thead>\n",
       "  <tbody>\n",
       "    <tr>\n",
       "      <th>697</th>\n",
       "      <td>32106</td>\n",
       "      <td>20141231</td>\n",
       "      <td>2014</td>\n",
       "      <td>BKR</td>\n",
       "      <td>05722G100</td>\n",
       "      <td>BAKER HUGHES CO</td>\n",
       "      <td>NaN</td>\n",
       "      <td>NaN</td>\n",
       "      <td>NaN</td>\n",
       "      <td>1701605</td>\n",
       "    </tr>\n",
       "    <tr>\n",
       "      <th>698</th>\n",
       "      <td>32106</td>\n",
       "      <td>20151231</td>\n",
       "      <td>2015</td>\n",
       "      <td>BKR</td>\n",
       "      <td>05722G100</td>\n",
       "      <td>BAKER HUGHES CO</td>\n",
       "      <td>NaN</td>\n",
       "      <td>NaN</td>\n",
       "      <td>NaN</td>\n",
       "      <td>1701605</td>\n",
       "    </tr>\n",
       "    <tr>\n",
       "      <th>699</th>\n",
       "      <td>32106</td>\n",
       "      <td>20161231</td>\n",
       "      <td>2016</td>\n",
       "      <td>BKR</td>\n",
       "      <td>05722G100</td>\n",
       "      <td>BAKER HUGHES CO</td>\n",
       "      <td>NaN</td>\n",
       "      <td>NaN</td>\n",
       "      <td>NaN</td>\n",
       "      <td>1701605</td>\n",
       "    </tr>\n",
       "  </tbody>\n",
       "</table>\n",
       "</div>"
      ],
      "text/plain": [
       "     gvkey  datadate  fyear  tic      cusip             conm  at  ni  sale  \\\n",
       "697  32106  20141231   2014  BKR  05722G100  BAKER HUGHES CO NaN NaN   NaN   \n",
       "698  32106  20151231   2015  BKR  05722G100  BAKER HUGHES CO NaN NaN   NaN   \n",
       "699  32106  20161231   2016  BKR  05722G100  BAKER HUGHES CO NaN NaN   NaN   \n",
       "\n",
       "         cik  \n",
       "697  1701605  \n",
       "698  1701605  \n",
       "699  1701605  "
      ]
     },
     "execution_count": 6,
     "metadata": {},
     "output_type": "execute_result"
    }
   ],
   "source": [
    "stocks[(stocks['at'].isna()) | (stocks['ni'].isna()) | (stocks['sale'].isna())]"
   ]
  },
  {
   "cell_type": "markdown",
<<<<<<< HEAD
   "id": "existing-click",
=======
   "id": "expressed-seating",
>>>>>>> parent of 9396477 (Check in multiple changes to the github)
   "metadata": {},
   "source": [
    "We are only three rows are missing missing these values. All of them, correspond to the same company : BKR - Baker Hughes."
   ]
  },
  {
   "cell_type": "code",
   "execution_count": 7,
<<<<<<< HEAD
   "id": "norman-sarah",
=======
   "id": "described-september",
>>>>>>> parent of 9396477 (Check in multiple changes to the github)
   "metadata": {},
   "outputs": [
    {
     "data": {
      "image/png": "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\n",
      "text/plain": [
       "<Figure size 720x360 with 1 Axes>"
      ]
     },
     "metadata": {
      "needs_background": "light"
     },
     "output_type": "display_data"
    }
   ],
   "source": [
    "company_byyear = stocks.groupby(by='fyear')['tic'].count()\n",
    "plt.figure(figsize=(10,5));\n",
    "plt.title('Number of US companies by fiscal year');\n",
    "sns.countplot(x='fyear', data=stocks, palette='mako');\n",
    "plt.xlabel('Fiscal Year');"
   ]
  },
  {
   "cell_type": "markdown",
<<<<<<< HEAD
   "id": "aquatic-athens",
=======
   "id": "regional-client",
>>>>>>> parent of 9396477 (Check in multiple changes to the github)
   "metadata": {},
   "source": [
    "As the visualization presents, we don't have that much 2020 data. It could be possible that at the moment we gathered the information, WRDS was still gathering data from last year. \n",
    "\n",
    "After this finding, we decided to exclude financial information from 2020. In the next step, we drop the observations from 2020."
   ]
  },
  {
   "cell_type": "code",
   "execution_count": 8,
<<<<<<< HEAD
   "id": "informal-workstation",
=======
   "id": "timely-chocolate",
>>>>>>> parent of 9396477 (Check in multiple changes to the github)
   "metadata": {},
   "outputs": [
    {
     "name": "stdout",
     "output_type": "stream",
     "text": [
      "Now, the WRDS dataset has 757 rows and 10 columns\n"
     ]
    }
   ],
   "source": [
    "stocks = stocks.loc[stocks.fyear != 2020, ]\n",
    "print(f'Now, the WRDS dataset has {stocks.shape[0]} rows and {stocks.shape[1]} columns')"
   ]
  },
  {
   "cell_type": "code",
   "execution_count": 9,
<<<<<<< HEAD
   "id": "applied-terminal",
=======
   "id": "prospective-necklace",
>>>>>>> parent of 9396477 (Check in multiple changes to the github)
   "metadata": {},
   "outputs": [
    {
     "data": {
      "image/png": "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\n",
      "text/plain": [
       "<Figure size 1440x360 with 3 Axes>"
      ]
     },
     "metadata": {
      "needs_background": "light"
     },
     "output_type": "display_data"
    }
   ],
   "source": [
    "fig, axs = plt.subplots(1,3, figsize=(20,5));\n",
    "fig.suptitle('Density distribution for continuous variables');\n",
    "sns.distplot(stocks['at'], ax=axs[0], color='b', bins = 40);\n",
    "axs[0].set_title('Total Assets');\n",
    "sns.distplot(stocks.ni, ax=axs[1], color='g', bins = 40);\n",
    "axs[1].set_title('Net Income');\n",
    "sns.distplot(stocks.sale, ax=axs[2], color='r', bins = 40);\n",
    "axs[2].set_title('Sales');"
   ]
  },
  {
   "cell_type": "markdown",
<<<<<<< HEAD
   "id": "registered-plumbing",
=======
   "id": "threaded-portfolio",
>>>>>>> parent of 9396477 (Check in multiple changes to the github)
   "metadata": {},
   "source": [
    "The majority of the companies have total assets around 500,000 dollars, a net income around 5,000 dollars and total sales from 0 to 500,000 dollars.\n",
    "\n",
    "As the graph in the middle presents, we have companies operating in net loss. "
   ]
  },
  {
   "cell_type": "code",
   "execution_count": 10,
<<<<<<< HEAD
   "id": "pretty-departure",
=======
   "id": "premier-warrant",
>>>>>>> parent of 9396477 (Check in multiple changes to the github)
   "metadata": {},
   "outputs": [
    {
     "data": {
      "image/png": "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\n",
      "text/plain": [
       "<Figure size 1080x576 with 2 Axes>"
      ]
     },
     "metadata": {
      "needs_background": "light"
     },
     "output_type": "display_data"
    }
   ],
   "source": [
    "corr = stocks.corr()\n",
    "mask = np.triu(np.ones_like(corr, dtype=bool))\n",
    "f, ax = plt.subplots(figsize=(15, 8))\n",
    "fig.suptitle('Correlation matrix')\n",
    "cmap = sns.diverging_palette(230, 20, as_cmap=True)\n",
    "sns.heatmap(corr, mask=mask, cmap=cmap, vmax=.3, center=0,\n",
    "            square=True, linewidths=.5, cbar_kws={\"shrink\": .5}).set(title='Correlation Matrix');"
   ]
  },
  {
   "cell_type": "markdown",
<<<<<<< HEAD
   "id": "applicable-cattle",
=======
   "id": "american-identifier",
>>>>>>> parent of 9396477 (Check in multiple changes to the github)
   "metadata": {},
   "source": [
    "As expected, Total Assets, Total Sales and Net Income are highly correlated. However, these values are going to be useful to calculate the growth ratios. Hopefully, \n",
    "these ratios provides us more insights.\n",
    "\n",
    "\n",
    "### Calculating Growth Ratios\n",
    "\n",
    "- % Change in Sales = ((Sales in Current Year) / (Sales Last Year) - 1) * 100\n",
    "- % Change in Assets = ((Assets in Current Year) / (Assets Last Year) - 1) * 100\n",
    "- % Change in Net Income = ((Net Income in Current Year) / (Net Income Last Year) - 1) * 100\n",
    "\n",
    "\n",
    "We want to know how total sales, assets and net income changed throughout the years. This could give more insigths than comparing the value only. "
   ]
  },
  {
   "cell_type": "code",
   "execution_count": 11,
<<<<<<< HEAD
   "id": "coated-grade",
=======
   "id": "ready-rainbow",
>>>>>>> parent of 9396477 (Check in multiple changes to the github)
   "metadata": {},
   "outputs": [],
   "source": [
    "company = list(stocks['conm'].unique())\n",
    "\n",
    "def calculate_growth_ratios(company):\n",
    "    for com in company:\n",
    "        a =  stocks.loc[stocks.conm == com, ['fyear','at','ni','sale']]\n",
    "        l = len(a)\n",
    "        count = 0\n",
    "        at2 = []\n",
    "        ni = []\n",
    "        sale = []\n",
    "        while count < l:\n",
    "            index = count - 1\n",
    "            if(count != 0):\n",
    "                #assets ratio\n",
    "                current_a = a.iloc[count,1]\n",
    "                last_a = a.iloc[index,1]\n",
    "                at = ((current_a)/(last_a)-1)*100\n",
    "                at2.append(at)\n",
    "                ##net income ratio\n",
    "                current_ni = a.iloc[count,2]\n",
    "                last_ni = a.iloc[index,2]\n",
    "                ni_1 = ((current_ni)/(last_ni)-1)*100\n",
    "                ni.append(ni_1)\n",
    "                #Sales ratio\n",
    "                current_s = a.iloc[count,3]\n",
    "                last_s = a.iloc[index,3]\n",
    "                sales = ((current_s)/(last_s)-1)*100\n",
    "                sale.append(sales)\n",
    "            else:\n",
    "                at2.append(0)\n",
    "                ni.append(0)\n",
    "                sale.append(0)\n",
    "            count += 1\n",
    "\n",
    "        stocks.loc[stocks.conm == com, 'Change_in_Sales'] = sale\n",
    "        stocks.loc[stocks.conm == com,'Change_in_Assets'] = at2\n",
    "        stocks.loc[stocks.conm == com, 'Change_in_NI'] = ni"
   ]
  },
  {
   "cell_type": "code",
   "execution_count": 12,
<<<<<<< HEAD
   "id": "supreme-morocco",
=======
   "id": "academic-aquatic",
>>>>>>> parent of 9396477 (Check in multiple changes to the github)
   "metadata": {},
   "outputs": [
    {
     "data": {
      "text/html": [
       "<div>\n",
       "<style scoped>\n",
       "    .dataframe tbody tr th:only-of-type {\n",
       "        vertical-align: middle;\n",
       "    }\n",
       "\n",
       "    .dataframe tbody tr th {\n",
       "        vertical-align: top;\n",
       "    }\n",
       "\n",
       "    .dataframe thead th {\n",
       "        text-align: right;\n",
       "    }\n",
       "</style>\n",
       "<table border=\"1\" class=\"dataframe\">\n",
       "  <thead>\n",
       "    <tr style=\"text-align: right;\">\n",
       "      <th></th>\n",
       "      <th>gvkey</th>\n",
       "      <th>datadate</th>\n",
       "      <th>fyear</th>\n",
       "      <th>tic</th>\n",
       "      <th>cusip</th>\n",
       "      <th>conm</th>\n",
       "      <th>at</th>\n",
       "      <th>ni</th>\n",
       "      <th>sale</th>\n",
       "      <th>cik</th>\n",
       "      <th>Change_in_Sales</th>\n",
       "      <th>Change_in_Assets</th>\n",
       "      <th>Change_in_NI</th>\n",
       "    </tr>\n",
       "  </thead>\n",
       "  <tbody>\n",
       "    <tr>\n",
       "      <th>0</th>\n",
       "      <td>1075</td>\n",
       "      <td>20051231</td>\n",
       "      <td>2005</td>\n",
       "      <td>PNW</td>\n",
       "      <td>723484101</td>\n",
       "      <td>PINNACLE WEST CAPITAL CORP</td>\n",
       "      <td>11322.645</td>\n",
       "      <td>176.267</td>\n",
       "      <td>2987.955</td>\n",
       "      <td>764622</td>\n",
       "      <td>0.000000</td>\n",
       "      <td>0.000000</td>\n",
       "      <td>0.000000</td>\n",
       "    </tr>\n",
       "    <tr>\n",
       "      <th>1</th>\n",
       "      <td>1075</td>\n",
       "      <td>20061231</td>\n",
       "      <td>2006</td>\n",
       "      <td>PNW</td>\n",
       "      <td>723484101</td>\n",
       "      <td>PINNACLE WEST CAPITAL CORP</td>\n",
       "      <td>11455.943</td>\n",
       "      <td>327.255</td>\n",
       "      <td>3401.748</td>\n",
       "      <td>764622</td>\n",
       "      <td>13.848703</td>\n",
       "      <td>1.177269</td>\n",
       "      <td>85.658688</td>\n",
       "    </tr>\n",
       "    <tr>\n",
       "      <th>2</th>\n",
       "      <td>1075</td>\n",
       "      <td>20071231</td>\n",
       "      <td>2007</td>\n",
       "      <td>PNW</td>\n",
       "      <td>723484101</td>\n",
       "      <td>PINNACLE WEST CAPITAL CORP</td>\n",
       "      <td>11243.712</td>\n",
       "      <td>307.143</td>\n",
       "      <td>3523.620</td>\n",
       "      <td>764622</td>\n",
       "      <td>3.582629</td>\n",
       "      <td>-1.852584</td>\n",
       "      <td>-6.145666</td>\n",
       "    </tr>\n",
       "  </tbody>\n",
       "</table>\n",
       "</div>"
      ],
      "text/plain": [
       "   gvkey  datadate  fyear  tic      cusip                        conm  \\\n",
       "0   1075  20051231   2005  PNW  723484101  PINNACLE WEST CAPITAL CORP   \n",
       "1   1075  20061231   2006  PNW  723484101  PINNACLE WEST CAPITAL CORP   \n",
       "2   1075  20071231   2007  PNW  723484101  PINNACLE WEST CAPITAL CORP   \n",
       "\n",
       "          at       ni      sale     cik  Change_in_Sales  Change_in_Assets  \\\n",
       "0  11322.645  176.267  2987.955  764622         0.000000          0.000000   \n",
       "1  11455.943  327.255  3401.748  764622        13.848703          1.177269   \n",
       "2  11243.712  307.143  3523.620  764622         3.582629         -1.852584   \n",
       "\n",
       "   Change_in_NI  \n",
       "0      0.000000  \n",
       "1     85.658688  \n",
       "2     -6.145666  "
      ]
     },
     "execution_count": 12,
     "metadata": {},
     "output_type": "execute_result"
    }
   ],
   "source": [
    "calculate_growth_ratios(company)\n",
    "stocks.head(3)"
   ]
  },
  {
   "cell_type": "markdown",
<<<<<<< HEAD
   "id": "understood-sampling",
=======
   "id": "structured-catalog",
>>>>>>> parent of 9396477 (Check in multiple changes to the github)
   "metadata": {},
   "source": [
    "In 2005, we don't see any changes because we don't have 2004 data. This will happen to the first year observation of each company.\n",
    "\n",
    "For 2006, we can see 86% increase in Net income, 13.85% in Sales and 1.18% in Assets. However, for 2007, there is a decrease in Assets and Net Income."
   ]
  },
  {
   "cell_type": "markdown",
<<<<<<< HEAD
   "id": "grand-milton",
=======
   "id": "suspended-lexington",
>>>>>>> parent of 9396477 (Check in multiple changes to the github)
   "metadata": {},
   "source": [
    "### Financial Ratios\n",
    "\n",
    "- Return on Assets (ROA) = (Net Income in Current Year / Total Assets in Current Year) * 100\n",
    "- Profit Margin = (Net Income in Current Year / Total Sales in Current Year) * 100"
   ]
  },
  {
   "cell_type": "code",
   "execution_count": 13,
<<<<<<< HEAD
   "id": "pacific-australia",
=======
   "id": "swiss-recipient",
>>>>>>> parent of 9396477 (Check in multiple changes to the github)
   "metadata": {},
   "outputs": [
    {
     "data": {
      "text/html": [
       "<div>\n",
       "<style scoped>\n",
       "    .dataframe tbody tr th:only-of-type {\n",
       "        vertical-align: middle;\n",
       "    }\n",
       "\n",
       "    .dataframe tbody tr th {\n",
       "        vertical-align: top;\n",
       "    }\n",
       "\n",
       "    .dataframe thead th {\n",
       "        text-align: right;\n",
       "    }\n",
       "</style>\n",
       "<table border=\"1\" class=\"dataframe\">\n",
       "  <thead>\n",
       "    <tr style=\"text-align: right;\">\n",
       "      <th></th>\n",
       "      <th>gvkey</th>\n",
       "      <th>datadate</th>\n",
       "      <th>fyear</th>\n",
       "      <th>tic</th>\n",
       "      <th>cusip</th>\n",
       "      <th>conm</th>\n",
       "      <th>at</th>\n",
       "      <th>ni</th>\n",
       "      <th>sale</th>\n",
       "      <th>cik</th>\n",
       "      <th>Change_in_Sales</th>\n",
       "      <th>Change_in_Assets</th>\n",
       "      <th>Change_in_NI</th>\n",
       "      <th>ROA</th>\n",
       "      <th>Profit_Margin</th>\n",
       "    </tr>\n",
       "  </thead>\n",
       "  <tbody>\n",
       "    <tr>\n",
       "      <th>779</th>\n",
       "      <td>186989</td>\n",
       "      <td>20171231</td>\n",
       "      <td>2017</td>\n",
       "      <td>MPC</td>\n",
       "      <td>56585A102</td>\n",
       "      <td>MARATHON PETROLEUM CORP</td>\n",
       "      <td>49047.0</td>\n",
       "      <td>3432.0</td>\n",
       "      <td>66974.0</td>\n",
       "      <td>1510295</td>\n",
       "      <td>19.954149</td>\n",
       "      <td>10.433882</td>\n",
       "      <td>192.333901</td>\n",
       "      <td>6.997370</td>\n",
       "      <td>5.124377</td>\n",
       "    </tr>\n",
       "    <tr>\n",
       "      <th>780</th>\n",
       "      <td>186989</td>\n",
       "      <td>20181231</td>\n",
       "      <td>2018</td>\n",
       "      <td>MPC</td>\n",
       "      <td>56585A102</td>\n",
       "      <td>MARATHON PETROLEUM CORP</td>\n",
       "      <td>92940.0</td>\n",
       "      <td>2780.0</td>\n",
       "      <td>96504.0</td>\n",
       "      <td>1510295</td>\n",
       "      <td>44.091737</td>\n",
       "      <td>89.491712</td>\n",
       "      <td>-18.997669</td>\n",
       "      <td>2.991177</td>\n",
       "      <td>2.880710</td>\n",
       "    </tr>\n",
       "    <tr>\n",
       "      <th>781</th>\n",
       "      <td>186989</td>\n",
       "      <td>20191231</td>\n",
       "      <td>2019</td>\n",
       "      <td>MPC</td>\n",
       "      <td>56585A102</td>\n",
       "      <td>MARATHON PETROLEUM CORP</td>\n",
       "      <td>98556.0</td>\n",
       "      <td>2637.0</td>\n",
       "      <td>123949.0</td>\n",
       "      <td>1510295</td>\n",
       "      <td>28.439236</td>\n",
       "      <td>6.042608</td>\n",
       "      <td>-5.143885</td>\n",
       "      <td>2.675636</td>\n",
       "      <td>2.127488</td>\n",
       "    </tr>\n",
       "  </tbody>\n",
       "</table>\n",
       "</div>"
      ],
      "text/plain": [
       "      gvkey  datadate  fyear  tic      cusip                     conm  \\\n",
       "779  186989  20171231   2017  MPC  56585A102  MARATHON PETROLEUM CORP   \n",
       "780  186989  20181231   2018  MPC  56585A102  MARATHON PETROLEUM CORP   \n",
       "781  186989  20191231   2019  MPC  56585A102  MARATHON PETROLEUM CORP   \n",
       "\n",
       "          at      ni      sale      cik  Change_in_Sales  Change_in_Assets  \\\n",
       "779  49047.0  3432.0   66974.0  1510295        19.954149         10.433882   \n",
       "780  92940.0  2780.0   96504.0  1510295        44.091737         89.491712   \n",
       "781  98556.0  2637.0  123949.0  1510295        28.439236          6.042608   \n",
       "\n",
       "     Change_in_NI       ROA  Profit_Margin  \n",
       "779    192.333901  6.997370       5.124377  \n",
       "780    -18.997669  2.991177       2.880710  \n",
       "781     -5.143885  2.675636       2.127488  "
      ]
     },
     "execution_count": 13,
     "metadata": {},
     "output_type": "execute_result"
    }
   ],
   "source": [
    "stocks['ROA'] = (stocks.ni/stocks['at']) * 100\n",
    "stocks['Profit_Margin'] = (stocks.ni/stocks.sale) * 100\n",
    "stocks.tail(3)"
   ]
  },
  {
   "cell_type": "markdown",
<<<<<<< HEAD
   "id": "accurate-hampton",
=======
   "id": "skilled-equilibrium",
>>>>>>> parent of 9396477 (Check in multiple changes to the github)
   "metadata": {},
   "source": [
    "## Yahoo Finance\n",
    "\n",
    "Now, we are going to collect more financial information using the Yahoo Finance API. We are going to send the following parameters to the API:\n",
    "\n",
    "1) 52 Tickers \n",
    "2) Period - 10 years\n",
    "3) Interval - 1 month (Every month from the past 10 years)\n",
    "\n",
    "Later on, we would need to transform this dataset from monthly to yearly so we are able to merge it with the WRDS dataset"
   ]
  },
  {
   "cell_type": "code",
   "execution_count": 14,
<<<<<<< HEAD
   "id": "fixed-marathon",
=======
   "id": "naked-migration",
>>>>>>> parent of 9396477 (Check in multiple changes to the github)
   "metadata": {},
   "outputs": [
    {
     "name": "stdout",
     "output_type": "stream",
     "text": [
      "Requirement already satisfied: yfinance in /Users/maralinetorres/opt/miniconda3/envs/msba/lib/python3.8/site-packages (0.1.55)\n",
<<<<<<< HEAD
      "Requirement already satisfied: pandas>=0.24 in /Users/maralinetorres/opt/miniconda3/envs/msba/lib/python3.8/site-packages (from yfinance) (1.2.3)\n",
      "Requirement already satisfied: multitasking>=0.0.7 in /Users/maralinetorres/opt/miniconda3/envs/msba/lib/python3.8/site-packages (from yfinance) (0.0.9)\n",
      "Requirement already satisfied: requests>=2.20 in /Users/maralinetorres/opt/miniconda3/envs/msba/lib/python3.8/site-packages (from yfinance) (2.25.1)\n",
      "Requirement already satisfied: lxml>=4.5.1 in /Users/maralinetorres/opt/miniconda3/envs/msba/lib/python3.8/site-packages (from yfinance) (4.6.2)\n",
      "Requirement already satisfied: numpy>=1.15 in /Users/maralinetorres/opt/miniconda3/envs/msba/lib/python3.8/site-packages (from yfinance) (1.19.5)\n",
      "Requirement already satisfied: python-dateutil>=2.7.3 in /Users/maralinetorres/opt/miniconda3/envs/msba/lib/python3.8/site-packages (from pandas>=0.24->yfinance) (2.8.1)\n",
      "Requirement already satisfied: pytz>=2017.3 in /Users/maralinetorres/opt/miniconda3/envs/msba/lib/python3.8/site-packages (from pandas>=0.24->yfinance) (2021.1)\n",
      "Requirement already satisfied: six>=1.5 in /Users/maralinetorres/opt/miniconda3/envs/msba/lib/python3.8/site-packages (from python-dateutil>=2.7.3->pandas>=0.24->yfinance) (1.15.0)\n",
      "Requirement already satisfied: urllib3<1.27,>=1.21.1 in /Users/maralinetorres/opt/miniconda3/envs/msba/lib/python3.8/site-packages (from requests>=2.20->yfinance) (1.26.4)\n",
      "Requirement already satisfied: certifi>=2017.4.17 in /Users/maralinetorres/opt/miniconda3/envs/msba/lib/python3.8/site-packages (from requests>=2.20->yfinance) (2020.12.5)\n",
      "Requirement already satisfied: chardet<5,>=3.0.2 in /Users/maralinetorres/opt/miniconda3/envs/msba/lib/python3.8/site-packages (from requests>=2.20->yfinance) (4.0.0)\n",
=======
      "Requirement already satisfied: lxml>=4.5.1 in /Users/maralinetorres/opt/miniconda3/envs/msba/lib/python3.8/site-packages (from yfinance) (4.6.2)\n",
      "Requirement already satisfied: numpy>=1.15 in /Users/maralinetorres/opt/miniconda3/envs/msba/lib/python3.8/site-packages (from yfinance) (1.19.5)\n",
      "Requirement already satisfied: pandas>=0.24 in /Users/maralinetorres/opt/miniconda3/envs/msba/lib/python3.8/site-packages (from yfinance) (1.2.3)\n",
      "Requirement already satisfied: requests>=2.20 in /Users/maralinetorres/opt/miniconda3/envs/msba/lib/python3.8/site-packages (from yfinance) (2.25.1)\n",
      "Requirement already satisfied: multitasking>=0.0.7 in /Users/maralinetorres/opt/miniconda3/envs/msba/lib/python3.8/site-packages (from yfinance) (0.0.9)\n",
      "Requirement already satisfied: python-dateutil>=2.7.3 in /Users/maralinetorres/opt/miniconda3/envs/msba/lib/python3.8/site-packages (from pandas>=0.24->yfinance) (2.8.1)\n",
      "Requirement already satisfied: pytz>=2017.3 in /Users/maralinetorres/opt/miniconda3/envs/msba/lib/python3.8/site-packages (from pandas>=0.24->yfinance) (2021.1)\n",
      "Requirement already satisfied: six>=1.5 in /Users/maralinetorres/opt/miniconda3/envs/msba/lib/python3.8/site-packages (from python-dateutil>=2.7.3->pandas>=0.24->yfinance) (1.15.0)\n",
      "Requirement already satisfied: certifi>=2017.4.17 in /Users/maralinetorres/opt/miniconda3/envs/msba/lib/python3.8/site-packages (from requests>=2.20->yfinance) (2020.12.5)\n",
      "Requirement already satisfied: chardet<5,>=3.0.2 in /Users/maralinetorres/opt/miniconda3/envs/msba/lib/python3.8/site-packages (from requests>=2.20->yfinance) (4.0.0)\n",
      "Requirement already satisfied: urllib3<1.27,>=1.21.1 in /Users/maralinetorres/opt/miniconda3/envs/msba/lib/python3.8/site-packages (from requests>=2.20->yfinance) (1.26.4)\n",
>>>>>>> parent of 9396477 (Check in multiple changes to the github)
      "Requirement already satisfied: idna<3,>=2.5 in /Users/maralinetorres/opt/miniconda3/envs/msba/lib/python3.8/site-packages (from requests>=2.20->yfinance) (2.10)\n"
     ]
    }
   ],
   "source": [
    "!pip install yfinance\n",
    "import yfinance as yf"
   ]
  },
  {
   "cell_type": "code",
   "execution_count": 15,
<<<<<<< HEAD
   "id": "neutral-bottom",
=======
   "id": "sticky-imagination",
>>>>>>> parent of 9396477 (Check in multiple changes to the github)
   "metadata": {},
   "outputs": [
    {
     "name": "stdout",
     "output_type": "stream",
     "text": [
      "The number of tickers - 52 that we are going to download\n"
     ]
    }
   ],
   "source": [
    "tickers = pd.read_csv(\"/Users/maralinetorres/Documents/GitHub/Predicting-Environmental-and-Social-Actions/Datasets/SP500_52tickers.txt\",delimiter = \"\\t\", header=None)\n",
    "tickers.columns = ['TickerId']\n",
    "print(f'The number of tickers - {len(tickers.TickerId.unique())} that we are going to download')"
   ]
  },
  {
   "cell_type": "code",
   "execution_count": 16,
<<<<<<< HEAD
   "id": "mysterious-george",
=======
   "id": "confident-portsmouth",
>>>>>>> parent of 9396477 (Check in multiple changes to the github)
   "metadata": {},
   "outputs": [
    {
     "name": "stdout",
     "output_type": "stream",
     "text": [
      "[*********************100%***********************]  52 of 52 completed\n"
     ]
    }
   ],
   "source": [
    "tickers_list = tickers['TickerId'].to_list()\n",
    "tickers_to_run = ''\n",
    "for ticker in tickers_list:\n",
    "    tickers_to_run += ticker + \" \"\n",
    "tickers_to_run\n",
    "\n",
    "df_yahoo = yf.download(tickers_to_run, period=\"10y\", interval=\"1mo\", group_by = 'ticker')"
   ]
  },
  {
   "cell_type": "code",
<<<<<<< HEAD
   "execution_count": 17,
   "id": "cheap-crossing",
=======
   "execution_count": 18,
   "id": "comprehensive-ordinary",
>>>>>>> parent of 9396477 (Check in multiple changes to the github)
   "metadata": {},
   "outputs": [
    {
     "name": "stdout",
     "output_type": "stream",
     "text": [
      "We have 0 duplicated rows\n",
      "The Yahoo dataset has 9100 rows and 9 columns\n"
     ]
    },
    {
     "data": {
      "text/html": [
       "<div>\n",
       "<style scoped>\n",
       "    .dataframe tbody tr th:only-of-type {\n",
       "        vertical-align: middle;\n",
       "    }\n",
       "\n",
       "    .dataframe tbody tr th {\n",
       "        vertical-align: top;\n",
       "    }\n",
       "\n",
       "    .dataframe thead th {\n",
       "        text-align: right;\n",
       "    }\n",
       "</style>\n",
       "<table border=\"1\" class=\"dataframe\">\n",
       "  <thead>\n",
       "    <tr style=\"text-align: right;\">\n",
       "      <th></th>\n",
       "      <th>Date</th>\n",
       "      <th>Open</th>\n",
       "      <th>High</th>\n",
       "      <th>Low</th>\n",
       "      <th>Close</th>\n",
       "      <th>Adj Close</th>\n",
       "      <th>Volume</th>\n",
       "      <th>Ticker</th>\n",
       "      <th>Year</th>\n",
       "    </tr>\n",
       "  </thead>\n",
       "  <tbody>\n",
       "    <tr>\n",
       "      <th>0</th>\n",
       "      <td>2011-05-01</td>\n",
       "      <td>29.389999</td>\n",
       "      <td>30.139999</td>\n",
       "      <td>28.690001</td>\n",
       "      <td>29.709999</td>\n",
       "      <td>20.642670</td>\n",
       "      <td>38584300.0</td>\n",
       "      <td>AEE</td>\n",
       "      <td>2011</td>\n",
       "    </tr>\n",
       "    <tr>\n",
       "      <th>1</th>\n",
       "      <td>2011-06-01</td>\n",
       "      <td>29.690001</td>\n",
       "      <td>29.740000</td>\n",
       "      <td>27.780001</td>\n",
       "      <td>28.840000</td>\n",
       "      <td>20.038185</td>\n",
       "      <td>37433000.0</td>\n",
       "      <td>AEE</td>\n",
       "      <td>2011</td>\n",
       "    </tr>\n",
       "    <tr>\n",
       "      <th>2</th>\n",
       "      <td>2011-06-17</td>\n",
       "      <td>NaN</td>\n",
       "      <td>NaN</td>\n",
       "      <td>NaN</td>\n",
       "      <td>NaN</td>\n",
       "      <td>NaN</td>\n",
       "      <td>NaN</td>\n",
       "      <td>AEE</td>\n",
       "      <td>2011</td>\n",
       "    </tr>\n",
       "  </tbody>\n",
       "</table>\n",
       "</div>"
      ],
      "text/plain": [
       "        Date       Open       High        Low      Close  Adj Close  \\\n",
       "0 2011-05-01  29.389999  30.139999  28.690001  29.709999  20.642670   \n",
       "1 2011-06-01  29.690001  29.740000  27.780001  28.840000  20.038185   \n",
       "2 2011-06-17        NaN        NaN        NaN        NaN        NaN   \n",
       "\n",
       "       Volume Ticker  Year  \n",
       "0  38584300.0    AEE  2011  \n",
       "1  37433000.0    AEE  2011  \n",
       "2         NaN    AEE  2011  "
      ]
     },
<<<<<<< HEAD
     "execution_count": 17,
=======
     "execution_count": 18,
>>>>>>> parent of 9396477 (Check in multiple changes to the github)
     "metadata": {},
     "output_type": "execute_result"
    }
   ],
   "source": [
    "yahoo = pd.DataFrame()\n",
    "for ticker in tickers_list:\n",
    "    td = df_yahoo[ticker]\n",
    "    td['Ticker'] = ticker\n",
    "    yahoo = yahoo.append(td)\n",
    "yahoo.reset_index(inplace=True)\n",
    "yahoo['Year'] = pd.DatetimeIndex(yahoo.Date).year\n",
    "print(f'We have {yahoo.duplicated().sum()} duplicated rows')\n",
    "print(f'The Yahoo dataset has {yahoo.shape[0]} rows and {yahoo.shape[1]} columns')\n",
    "yahoo.head(3)"
   ]
  },
  {
   "cell_type": "code",
<<<<<<< HEAD
   "execution_count": 18,
   "id": "miniature-architect",
=======
   "execution_count": 19,
   "id": "renewable-charter",
>>>>>>> parent of 9396477 (Check in multiple changes to the github)
   "metadata": {},
   "outputs": [
    {
     "name": "stdout",
     "output_type": "stream",
     "text": [
      "<class 'pandas.core.frame.DataFrame'>\n",
      "RangeIndex: 9100 entries, 0 to 9099\n",
      "Data columns (total 9 columns):\n",
      " #   Column     Non-Null Count  Dtype         \n",
      "---  ------     --------------  -----         \n",
      " 0   Date       9100 non-null   datetime64[ns]\n",
      " 1   Open       6260 non-null   float64       \n",
      " 2   High       6260 non-null   float64       \n",
      " 3   Low        6260 non-null   float64       \n",
      " 4   Close      6260 non-null   float64       \n",
      " 5   Adj Close  6260 non-null   float64       \n",
      " 6   Volume     6260 non-null   float64       \n",
      " 7   Ticker     9100 non-null   object        \n",
      " 8   Year       9100 non-null   int64         \n",
      "dtypes: datetime64[ns](1), float64(6), int64(1), object(1)\n",
      "memory usage: 640.0+ KB\n"
     ]
    }
   ],
   "source": [
    "yahoo.info()"
   ]
  },
  {
   "cell_type": "markdown",
<<<<<<< HEAD
   "id": "vertical-kingdom",
=======
   "id": "funded-three",
>>>>>>> parent of 9396477 (Check in multiple changes to the github)
   "metadata": {},
   "source": [
    "We created a Year column to be able to merge this file with WRDS and visualization purposes. \n",
    "\n",
    "Columns Data types in the dataset:\n",
    "\n",
    "- 1 Object (Category) (String) \n",
    "- 6 floats\n",
    "\n",
    "Also, we are missing 2,840 rows for each column collected from Yahoo. We are going to see this in more detail."
   ]
  },
  {
   "cell_type": "code",
<<<<<<< HEAD
   "execution_count": 19,
   "id": "concerned-stage",
=======
   "execution_count": 20,
   "id": "smoking-tissue",
>>>>>>> parent of 9396477 (Check in multiple changes to the github)
   "metadata": {},
   "outputs": [
    {
     "data": {
      "image/png": "iVBORw0KGgoAAAANSUhEUgAABZkAAAKiCAYAAAC0KdK/AAAAOXRFWHRTb2Z0d2FyZQBNYXRwbG90bGliIHZlcnNpb24zLjMuNCwgaHR0cHM6Ly9tYXRwbG90bGliLm9yZy8QVMy6AAAACXBIWXMAAAsTAAALEwEAmpwYAABjhElEQVR4nOzdd5QkV3k34N+rBAiRg4VtcpYMxuRkgsBkBBiTwWBysgEDn8lB5ByMRbIxGGGDwdhkLHIyOSMyiJyRCBKg+H5/3BqpNexqW6XWzobnOWfPzFRXdd85e6e76lf3vre6OwAAAAAAMMcuG90AAAAAAAC2X0JmAAAAAABmEzIDAAAAADCbkBkAAAAAgNmEzAAAAAAAzCZkBgAAAABgNiEzAAAAAACzCZmZpapqo9sAAAAAbPtkCKyaPrXtETIzS3d34o+a1dKfWCX9iVXTp1g1fYpV06dYNX2KVZEhsGr61Lanpv8T2KKqOmOS+ye5SJKfJzm4u9+9sa1iezZ9GOyR5JjuPn7atsva93BK6E+smj7FqulTrJo+xarpU6ySDIFV06e2bUJmllJVeyX5RJIjk3SSMyS5ZJIXJzmwuz+/gc1jOzT1qWcnuViSY5J8MckB3f3zDW0Y2yX9iVXTp1g1fYpV06dYNX2KVZIhsGr61LZPuQy2qKp2SfKsJIcluVV3Xz7JXyT5uyT3SPLsqrraBjaR7cx09/ETSS6d5PNJfpPkNkk+WVX7V9WeG9k+ti/6E6umT7Fq+hSrpk+xavoUqyRDYNX0qe2DkJll7Jpxd+hT3f3NadsPu/sFSW6S5FpJDqiqy2xM89gOPSDJr5Pcurv/trtvluSmSb6Z5BVJbjOd6MIy9CdWTZ9i1fQpVk2fYtX0KVZJhsCq6VPbASEzy6gkRyc5Z026u6evb8/4g75mkvtX1a6KrrOE82f0q++tbejujye5ZZIPJHlOkusnivizFP2JVdOnWDV9ilXTp1g1fYpVkiGwavrUdkDIzBZ199FJvpDkekn2mf6Qd52+7tLd/5vkvknumuSGayt8wnoLb/a/TXK6JGeePh92SZLuPjzJnTKm6j23qvZe++DYuFazrdKfWDV9ilXTp1g1fYpV06c4LcgQWDV9avsgZGZZT0zy0yT/UlW7dfdx0x/08dMJyOuTfCzJLdw1Yr21/tDdx01v9v+ZZN8kd+3h+IUT2V8meXDGncqnTtt8QHAC/YlV06dYNX2KVdOnWDV9iq1AhsCq6VPbOCEzJ1FVe1bV7arqH6rqr6rq/NNDhyV5dEYNnHdMf8jHTVMTju/unyX5RZK9F05UYG0RkUdU1c2mnyvJJ5O8JMkzquq2SbLuRPazSd6RZJ+qOsPGtJxtkf7EqulTrJo+xarpU6yaPsUqyRBYNX1q+7XbRjeAbUdVnSnJhzP6xbmSHJ9kl6r6+ySvSfI/Sc6e5OlJPlBVd07y9enYc0xP8/Wq2jXJ8f6gWehTP0vy4+lu47FJjqqqlya5cJIXjM+Efs26w7+R5CoZ0/Z+uzXbzbZJf2LV9ClWTZ9i1fQpVk2fYpVkCKyaPrV9EzKTJKmq3ZL8W5KfJLl/kq8m+fOMejYvS7JPxtSol2WsOnxAxgIQr6uqn2RMrbpSkgd193Fb/Rdgm1NVp0/y9iQ/SPLAJF+dTmCTJN39yap6apJHJHlVVZ07yUuT/K6qzpLkzzJOZH+3tdvOtkd/YtX0KVZNn2LV9ClWTZ9ilWQIrJo+tf0TMrPmLEkuluTF3f3FJKmq92bUszk0yaMyanA9NsmrM/6QH5dxJ3uvjD/+a3T3l7Z2w9lmXTbJGZM8LNMJbFVdOKO/nKu739nd76qqnyd5UJLnJbl9Vf0i427l1ZL8eXc7iSXRn1g9fYpV06dYNX2KVdOnWCUZAqumT23n1GRmze5J9pz+ZZo21d19ZHc/JuMO0YOT3HGqbfOd7r5rkv2SXCHJrbv78xvVeLZJf5rkPEk+OJ3A/mWS/03yviRvq6qPV9V1uvszSe6dsUrsoUmOnb5eRZ9igf7EqulTrJo+xarpU6yaPsUqyRBYNX1qO1fKk7Cmqt6XZM/uvsL081p9rrWpVQcm+askl+3ur29cS9keVNUtkjwjyZWTXCbJW5I8N8nHk5whYwTFmZPcvrs/MB2z23TCu6vpLSzSn1g1fYpV06dYNX2KVdOnWDUZAqumT23fhMykqnbpsXLwtTJONF7V3fecHls7qaiM2javT/KE7n7hhjWY7UJVXTbJR5PcN2P0w35J7tPdR0yPXyBj5MSPu/sa07bq7l77ujEtZ1ukP7Fq+hSrpk+xavoUq6ZPsSoyBFZNn9oxKJexE6rJ2s/dffz07WeSvCDJHavqGdNjx1bV7tMUhY8kOSrJJbZ2m9l+rPWt7v5UkpcneVFGnaSjFk5gd+vubyV5fpJLV9WfTMf04lfQn1g1fYpV06dYNX2KVdOnOLVkCKyaPrVjsvDfTqaq9so4cfiXqvq/xZOF7v5FVR2Y5BxJ7lNVZ+rue3f3MdOxeyf5aUY9LkiSVNXpklw9403+a0m+kLFidZK8IqNw/58n+YOqOk/GyIi1VayPz1gV9rCt2mi2WfoTq6ZPsWr6FKumT7Fq+hSrJENg1fSpHZeQeSdSVWdI8vYkV01y6YzFHD4xPbZ2d/vbVfXEJL9Mct/pDvbLkvw2yXWTXDjJm7d+69kWVdWZkrwhyR8nOX9Gof7XV9Xju/vz3f3BqnpektMluVGSeyR5aZIfVtUfZJzcHprkNxvyC7BN0Z9YNX2KVdOnWDV9ilXTp1glGQKrpk/t2NRk3klU1a4ZU6LukFG/5iZJOsmdunv9H3RX1TkyFoR4fJLzJjkmyfeS3Ku7P7vVfwG2OVW1Z5IPJflZkicm+VaS6yT55yRP6u5HL+x73ST3S3KzJB9JcnjGie3lklyzuz+3VRvPNkd/YtX0KVZNn2LV9ClWTZ9ilWQIrJo+teMTMu8kqurMGXd6dk1y/SQXSfLqjOlQf734B704VWH6A79YRs2bX3b34Vu77Wx7qmqXJE/KmIZ39+7+ysJjL0qyf5JLJjmip1Woq+qcGXcdb5Nkr4ype//Y3V/ays1nG6M/sWr6FKumT7Fq+hSrpk+xajIEVk2f2vEJmXci0xSD73f34VW1W5LLJ/nXjDtHJ/xBw5ZMJ6SvyDgRfXB3H1cnrgZ7nyTPSnL+7v7pJj4gTtfdR9W0QuwG/QpsQ/QnVk2fYtX0KVZNn2LV9ClOCzIEVk2f2rHtstEN4LQ13dFeu/NzyNof8nTy8NEkf5OkkvxbVV1x4bjzVNUZN6TRbLOqaveq2ru7f5bkLUmePZ3AVp+4GuwXM+q9nyvZ5ErUx637yk5Kf2LV9ClWTZ9i1fQpVk2fYtVkCKyaPrXzEDLvoKpqt+mP8bzJOJHo7q6qXdfuTk8nF2t/0LskeXlVXb6qLpLkRUn+s6p2md4I2MnVWAH2f5I8tKou2N0Hdvd31o+ESHJkxknsmReOPcN0xzLr+h87Kf2JVdOnWDV9ilXTp1g1fYpVkiGwavrUzkfIvAOqsaLw6zJW6PxyVf1vVd03Saa72rut7Tv9QX88yV9n3Dl6ZcZUhf2SPKq7j3eywXQC+/GMWm0fTfKDtcc20T86oyD/MdOxZ07ynCTPnr5nJ6c/sWr6FKumT7Fq+hSrpk+xSjIEVk2f2jnttuVd2J7UWFH4o0l+klGT62dJHpnkBVV1je6+bXcfuzY1YbrLfVySj1XVIzPeBM6d5GptRWFywtSWA5P8OMmdk3xvYQreYi23tekuayewe1bV6ZM8M8ldklypu3+11X8Btin6E6umT7Fq+hSrpk+xavoUqyRDYNX0qZ2XkHnHc/eM/9d7d/eXk6Sq3pIxjerWVXXm7r7R9Ie8S091uqrqgknumOSIJH/e3V/cmOazDTpDkosmeVV3fztJqupqSa5TY4GR7yR5bp+4SMhRSU6f5HxJ/iqjX12puz+91VvOtkh/YtX0KVZNn2LV9ClWTZ9ilWQIrJo+tZMSMu94LpHk6IU/5NN19w+r6vZJPp/kBlX1+u7+y4U/5Mq4A37TJFfwh8w6Z8k4If1uklTVrTPuRn4l4+7iOZPcsar27+7vJNk1yU+TPC7JeZJc3QksC/QnVk2fYtX0KVZNn2LV9ClWSYbAqulTOyk1mXc8P0xynqraJ0m6+6iq2iPJ75J8L8kbk/zZdCKShSlVz0lyie7+zMY0m23YbzPquF2mqnZP8owkT0ly/SQXTHK3jEVE/mf6YPhFxuiKsye5Snd/aiMazTZLf2LV9ClWTZ9i1fQpVk2fYpVkCKyaPrWTEjLveP4zY/GHB1bVxZKku49O8gcZ/98HZqwufJPpsbWVPX/Z3d/YoDazDevuw5MclOT+SR6S8YHx79394+4+Ksnrkzwxyb5JbtvdP0jy7CRX7e7Pb1Cz2UbpT6yaPsWq6VOsmj7FqulTrJgMgVXTp3ZS1RZo3OFU1X5J3p7kw0nemrHIw2OSvKG771xVd0ty3yTXSnJE6wRswVQb6S1Jzprk6CSX6+6fV9Ue3X10VZ01yfeTPKG7n7pxLWV7oD+xavoUq6ZPsWr6FKumT7FKMgRWTZ/aORnJvAPq7ncn+fMkleThSR6a5GVJ7jnt8qdJju/uX/tDZhndfWiSv86Ydre2YMja3cgk2TtjgZHvJCfUU4JN0p9YNX2KVdOnWDV9ilXTp1glGQKrpk/tnCz8t4Pq7o9W1fUzFn0440LB9T9McoEkH6mqXTP+qP1Bs0Xd/YmqukaSdyV5YVXtmTEV7+wZU/XOkuRD0776FCdLf2LV9ClWTZ9i1fQpVk2fYpVkCKyaPrXzUS5jJ1JVl01y7yR/mbGi8Jc3uElsh6rq4kmemeSGGXWUfpnkuCS3aAX6OYX0J1ZNn2LV9ClWTZ9i1fQpTisyBFZNn9qxCZl3ElV1qSSPTnKFJDfv7s9ucJPYjlXVGZJcOsnlMlaH/VR3f29jW8X2Sn9i1fQpVk2fYtX0KVZNn2LVZAismj614xMy7ySq6nRJrprkm9397Y1uDwAAALBtkiGwavrUjk/IDAAAAADAbLtsdAMAAAAAANh+CZkBAAAAAJhNyAwAAAAAwGxLhcxV9cdV9Y9V9eGq+k1VdVVdYMljd6mqh1fVt6rqd1X12aq65alqNQAAAADADqiqrl1VH6yq31bVYVX1yqr6g3X7nKmqnllV762qX0157bU283xL57NVdY+q+nJVHVVVX6mqey/T5mVHMl8kya2THJ7kA0ses+YJSR6X5AVJbpjkI0leW1U3OoXPAwAAAACww6qqP09ycJJfJLllkgckuUaSd1XV6RZ2PUeSuyY5Nsk7tvC0S+WzVXWPJC9O8l9JbpDktUkOrKr7bLHd3b2lfVJVu3T38dP3d0/y0iQX7O5vbeG4cyf5bpKndvdjF7a/K8m5uvvSW3xxAAAAAICdQFW9M8kFklyiu4+dtl0+yceT3K+7D5y2VU/BblVdNyNovnZ3v3fd8y2Vz1bVbkl+kORt3X3nhf1elmT/JOfp7mM21+6lRjKvBcwzXD/JHkkOWrf9oCSXqqoLznxeAAAAAIAdzZWTvGMtYE6S7v5Ekp8nucXCti2PHB6WzWevkuRcm9jvlRmjpq9+ci9yWi/8t2+So5J8fd32Q6av+5zGrw8AAAAAsL04LsnRm9h+VJI/mfF8y+az+05fv7CF/TZptxkNOyXOnuQXm0jWD1t4fEuWTeW3mvve974b3YTtwoEHHrjRTQAAAIANJUNYnhxhOfrU8rbRPlVbePwrGaOZTzyg6vxJzpNks+UqTsay+eza18O3sN8mndYjmQEAAAAAWM7zklyxqp5YVeeuqktklKw4fvq3TTqtQ+bDk5y1qtYn9GvJ92EBAAAAACDd/aokT0zy4CQ/TvLFJN9P8tYkP5zxlMvms2sjmM+2hf026bQOmQ9JcrokF163fa2GxxdP49cHAAAAANhudPejk5wzyaWTnKe7b5fkokk+OOPpls1n12ov77uF/TbptA6Z355RK+QO67bfMckXuvvQ0/j1AQAAAAC2K919ZHd/vrt/XFU3SHKJJC+a8VTL5rMfTvKzzex3WJIPndyLLL3wX1X91fTt5aavN6yqnyb5aXe/b9rn2CSv6O67JUl3/6Sqnp3k4VX16ySfSnKbJPsl2X/Z1wYAAAAA2NFV1Z8luWFGjpokV0/y0CRP7+7/W7fvDZOcMcmlpk3XrKpzJjmyu9+WLJ/PdvcxVfXoJAdW1feTvHPa565J/ra7jz65di8dMid57bqf15ZnfF+Sa03f7zr9W/TIJEckeUCSvTNWSLx1d7/5FLw2AAAAAMCO7ugkN0ry/zLKXHwpyb27+183se8Lk5x/4efHTV+/neQCC9uXyme7+0VV1Rn1oB+a5DtJ7t/dB2YLlg6Zu3t9ceil9unu4zKKVT9x2dcCAAAAANjZdPchGaOXl9n3Akvut3Q+290vTvLiZZ530WldkxkAAAAAgB2YkBkAAAAAgNmEzAAAAAAAzCZkBgAAAABgNiEzAAAAAACzCZkBAAAAAJhNyAwAAAAAwGxCZgAAAAAAZhMyAwAAAAAwm5AZAAAAAIDZhMwAAAAAAMwmZAYAAAAAYDYhMwAAAAAAswmZAQAAAACYTcgMAAAAAMBsQmYAAAAAAGYTMgMAAAAAMJuQGQAAAACA2YTMAAAAAADMJmQGAAAAAGA2ITMAAAAAALMJmQEAAAAAmE3IDAAAAADAbEJmAAAAAABmEzIDAAAAADCbkBkAAAAAgNmEzAAAAAAAzCZkBgAAAABgNiEzAAAAAACzCZkBAAAAAJhNyAwAAAAAwGxCZgAAAAAAZhMyAwAAAAAwm5AZAAAAAIDZhMwAAAAAAMwmZAYAAAAAYDYhMwAAAAAAswmZAQAAAACYTcgMAAAAAMBsQmYAAAAAAGYTMgMAAAAAMJuQGQAAAACA2YTMAAAAAADMJmQGAAAAAGA2ITMAAAAAALMJmQEAAAAAmE3IDAAAAADAbEJmAAAAAABmEzIDAAAAADCbkBkAAAAAgNmEzAAAAAAAzCZkBgAAAABgNiEzAAAAAACzCZkBAAAAAJhNyAwAAAAAwGxCZgAAAAAAZhMyAwAAAAAwm5AZAAAAAIDZhMwAAAAAAMwmZAYAAAAAYDYhMwAAAAAAswmZAQAAAACYTcgMAAAAAMBsQmYAAAAAAGYTMgMAAAAAMJuQGQAAAACA2YTMAAAAAADMJmQGAAAAAGA2ITMAAAAAALMJmQEAAAAAmE3IDAAAAADAbEJmAAAAAABmEzIDAAAAADCbkBkAAAAAgNmEzAAAAAAAzCZkBgAAAABgNiEzAAAAAACzCZkBAAAAAJhNyAwAAAAAwGxCZgAAAAAAZhMyAwAAAAAwm5AZAAAAAIDZhMwAAAAAAMwmZAYAAAAAYDYhMwAAAAAAswmZAQAAAACYTcgMAAAAAMBsQmYAAAAAAGYTMgMAAAAAMJuQGQAAAACA2YTMAAAAAADMJmQGAAAAAGA2ITMAAAAAALMJmQEAAAAAmE3IDAAAAADAbEuFzFV13qp6XVX9sqp+VVWvr6rzLXns+arqFVX1nar6bVV9taqeWFVnPHVNBwAAAADYcVTVe6uqN/Pv7dM+16mqg6rqG1Pe+o2qemFVnXsTz7d0NltV96iqL1fVUVX1laq697Lt3m2JX2zPJO9OclSSOyfpJE9M8p6qunR3H3kyx54xyTuT7J7k0Um+k+QKSR6f5KJJbrNsQwEAAAAAdnD3TXLmdduukuTZSd44/XzvJHtlZLTfzMhZH5/k+lNee0RyyrLZqrpHkhcnecp0zHWSHFhV1d0v3FKjtxgyJ7lHkgsluXh3f3160c8l+VqSe02/4OZcbWrw9bv74Gnbe6rq7EkeUlV7dvdvlmgDAAAAAMAOrbu/uH7bFAAfneTV06b7dvdPF3Z5X1V9Ncn7ktw6ycum7Utls1W1W5InJXlldz9yYb8/TPKEqvrn7j7m5Nq9TLmM/ZN8ZC1gnn7ZQ5N8KMnNtnDsHtPXX63b/ovptWuJ1wcAAAAA2OlMVSZuleRN3X1YkqwLmNd8fPr6Rwvbls1mr5LkXEkOWrffK5OcI8nVt9TOZULmfZN8YRPbD0myzxaOfWfGiOenVdU+VbVXVe2X5AFJXnRypTYAAAAAAHZyt0hypiSv2MJ+15y+fmlh27LZ7L7T1/UZ8CHT1y1lwEuFzGdPcvgmth+W5Gwnd2B3/y4j6d5latSvk7wryZuT3H+J1wYAAAAA2Fn9dZKfJHnb5naoqjMleW5GwPw/a9tPQTZ79unr+gz4sHWPb9YyNZlnq6rTJ3lNknMnuVNGcekrJnlMkmOT3Oe0fH0AAAAAgO3RVBP5ukme193Hbmaf3ZL8R0aZjKst7rc1s9llQubDs+kRy5sb4bzobkmuleQi3f2Nadv7q+qXSV5SVS/q7s8u21gAAAAAgJ3EHTNGIW+yVEZVrT123SQ37u7Prdtl2Wx2LeM9W5IfLhy/NoL5sGzBMuUyDsmJdTkW7ZPk91Y7XOdSSQ5f+CXWfGz6esklXh8AAAAAYGdz5ySfPZlBui9Kcpskt+3ud23i8WWz2bXay+sz4LVazFvKgJcKmd+Y5MpVdaG1DVV1gSRXmx47OT9Kcraqusi67Veavn5/idcHAAAAANhpVNXlM0LezY1iflaSuyf5m+7+n808zbLZ7IeT/CzJHdbtd8eMUcwf2lJ7lwmZX5rkW0neUFU3q6r9k7whyXeTvHhtp6o6f1UdW1WPWTj25RkFpd9aVXeuqmtX1UOTPDPJJ5dpIAAAAADATuavM+omv2r9A1X1D0n+Psm/JvlaVV154d+FF3Z9eZbIZrv7mCSPTnLnqnpiVV2rqg5Ictckj+nuo7fU2C3WZO7uI6tqvyTPSfLKJJWxCuEDu/uIxd8vya5ZCK67+1tVdeUkj0vyxCTnzAinX5LkSd19/JZeHwAAAABgZ1FVuye5XZK3d/dPNrHLDaevd53+LXpFkrskpyyb7e4XVVUneXCSh2YsEnj/7j5wmTYvs/Bfuvs7SW65hX2+lRE0r9/+xSS3XuZ1AAAAAAB2ZtPI4nOdzOPXOgXPtXQ2290vzkLlilNimXIZAAAAAACwSUJmAAAAAABmEzIDAAAAADCbkBkAAAAAgNmEzAAAAAAAzCZkBgAAAABgNiEzAAAAAACzCZkBAAAAAJhNyAwAAAAAwGxCZgAAAAAAZhMyAwAAAAAwm5AZAAAAAIDZhMwAAAAAAMwmZAYAAAAAYDYhMwAAAAAAswmZAQAAAACYTcgMAAAAAMBsQmYAAAAAAGYTMgMAAAAAMJuQGQAAAACA2YTMAAAAAADMJmQGAAAAAGA2ITMAAAAAALMJmQEAAAAAmE3IDAAAAADAbEJmAAAAAABmEzIDAAAAADCbkBkAAAAAgNmEzAAAAAAAzCZkBgAAAABgNiEzAAAAAACzCZkBAAAAAJhNyAwAAAAAwGxCZgAAAAAAZhMyAwAAAAAwm5AZAAAAAIDZhMwAAAAAAMwmZAYAAAAAYDYhMwAAAAAAswmZAQAAAACYTcgMAAAAAMBsQmYAAAAAAGYTMgMAAAAAMJuQGQAAAACA2YTMAAAAAADMJmQGAAAAAGA2ITMAAAAAALMJmQEAAAAAmE3IDAAAAADAbEJmAAAAAABmEzIDAAAAADCbkBkAAAAAgNmEzAAAAAAAzCZkBgAAAABgtt02ugFAct/73nejm7BdOPDAAze6CdsF/Wl5+tRy9Knl6VPL0aeWoz8tT59ajj61PH1qOfoUAGuMZAYAAAAAYDYhMwAAAAAAswmZAQAAAACYTcgMAAAAAMBsQmYAAAAAAGYTMgMAAAAAMJuQGQAAAACA2YTMAAAAAADMJmQGAAAAAGA2ITMAAAAAALMJmQEAAAAAmE3IDAAAAADAbEJmAAAAAABmEzIDAAAAADCbkBkAAAAAgNmEzAAAAAAAzCZkBgAAAABgNiEzAAAAAACzCZkBAAAAAJhNyAwAAAAAwGxCZgAAAAAAZhMyAwAAAAAwm5AZAAAAAIDZhMwAAAAAAMwmZAYAAAAAYDYhMwAAAAAAswmZAQAAAACYTcgMAAAAAMBsQmYAAAAAAGYTMgMAAAAAMJuQGQAAAACA2YTMAAAAAADMJmQGAAAAAGA2ITMAAAAAALMJmQEAAAAAmE3IDAAAAADAbEJmAAAAAABmEzIDAAAAADCbkBkAAAAAgNmEzAAAAAAAzCZkBgAAAABgtqVC5qo6b1W9rqp+WVW/qqrXV9X5ln2RqrpkVb22qn5WVb+tqq9U1QPmNxsAAAAAYMdSVdeqqt7Ev1+czDEvmvY5aDOPbzGbrapdqurhVfWtqvpdVX22qm65bLt3W+IX2zPJu5McleTOSTrJE5O8p6ou3d1HbuH4y0/HvzfJ3ZP8MslFk+y1bCMBAAAAAHYif5fk4ws/H7upnarqaknumORXm3l82Wz2CUkekuSRST6Z5LZJXltVN+nut26psVsMmZPcI8mFkly8u78+Ne5zSb6W5F5Jnr25A6tqlyT/luRd3X2LhYfes8TrAgAAAADsjL7U3R85uR2qavckL07ypIycdv3jS2WzVXXujID5qd39zLV9quoiSZ6aZIsh8zLlMvZP8pG1gDlJuvvQJB9KcrMtHHutJJfMyQTRAAAAAACcYg9NsmuSZ27m8WtluWz2+kn2SLK+3MZBSS5VVRfcUkOWCZn3TfKFTWw/JMk+Wzj26tPX01fVR6rqmKr6SVU9v6rOsMRrAwAAAADsbF5VVcdV1c+r6t/Xr483jTJ+VJL7dvcxm3mOZbPZfTNKJX993fGHTF+3lAEvFTKfPcnhm9h+WJKzbeHYP5y+vibJwUn+IsnTM+p//PsSrw0AAAAAsLP4ZZJnZeSn+2XUSr5ukg9PZS3WvDDJ67v75MoSL5vNnj3JL7q71x1/2MLjJ2uZmsynxlqIfVB3P2b6/r1VtWuSp1bVJbv7S6dxGwAAAAAAtnnd/ekkn17Y9L6qen+Sj2UsBvioqrpjkiskufgWnm6rZbPLjGQ+PJsesby5Ec6Lfj59fce67QdPX/9sidcHAAAAANgpdfenknw1yRWqaq+MGstPS3JUVZ21qs6akfPuPv28+3Tostns4UnOWlW1br+1EcyHZQuWCZkPyajLsd4+Sb64xLEn5/glXh8AAAAAYGfXSc6Z5FxJnpwRDq/9O2+SW0/f33jaf9ls9pAkp0ty4XWPr9Vi3lIGvFTI/MYkV66qC61tqKoLJLna9NjJeVtG0ejrr9t+g+nrJ5Z4fQAAAACAnVJVXT6jNMbHkvwoybU38e/HSd45ff/B6dBls9m3JzkmyR3W7XfHJF/o7kO31MZlajK/NMn9k7yhqh6VkZg/Icl3k7x4baeqOn+SbyQ5oLsPSJLu/nlVPSXJo6vqV0neneTySR6T5BXdvX7FQgAAAACAnVJVvSrJoUk+leQXGSUtHp7k+0me392/S/LeTRz3uyQ/7u4THls2m+3un1TVs5M8vKp+Pb32bTIWHtx/mXZvMWTu7iOrar8kz0nyyiSV5F1JHtjdRyz+Lkl2ze+Pjj4gya+T3DfJQ5L8MMkzMoJqAAAAAACGLyS5XZK/TbJnxsjl1yd5bHf/bMbzLZvNPjLJEUkekGTvJF9JcuvufvMyL7LMSOZ093eS3HIL+3wrI2hev70zilE/e5nXAgAAAADYGXX3U5I8ZcZxF9jM9qWy2e4+LskTp3+n2DI1mQEAAAAAYJOEzAAAAAAAzCZkBgAAAABgNiEzAAAAAACzCZkBAAAAAJhNyAwAAAAAwGxCZgAAAAAAZhMyAwAAAAAwm5AZAAAAAIDZhMwAAAAAAMwmZAYAAAAAYDYhMwAAAAAAswmZAQAAAACYTcgMAAAAAMBsQmYAAAAAAGYTMgMAAAAAMJuQGQAAAACA2YTMAAAAAADMJmQGAAAAAGA2ITMAAAAAALMJmQEAAAAAmE3IDAAAAADAbEJmAAAAAABmEzIDAAAAADCbkBkAAAAAgNmEzAAAAAAAzCZkBgAAAABgNiEzAAAAAACzCZkBAAAAAJhNyAwAAAAAwGxCZgAAAAAAZhMyAwAAAAAwm5AZAAAAAIDZhMwAAAAAAMwmZAYAAAAAYDYhMwAAAAAAswmZAQAAAACYTcgMAAAAAMBsQmYAAAAAAGYTMgMAAAAAMJuQGQAAAACA2YTMAAAAAADMJmQGAAAAAGA2ITMAAAAAALMJmQEAAAAAmE3IDAAAAADAbEJmAAAAAABmEzIDAAAAADCbkBkAAAAAgNmEzAAAAAAAzCZkBgAAAABgNiEzAAAAAACzCZkBAAAAAJhNyAwAAAAAwGxCZgAAAAAAZhMyAwAAAAAwm5AZAAAAAIDZhMwAAAAAAMwmZAYAAAAAYDYhMwAAAAAAswmZAQAAAACYTcgMAAAAAMBsQmYAAAAAAGYTMgMAAAAAMJuQGQAAAACA2YTMAAAAAADMJmQGAAAAAGA2ITMAAAAAALMJmQEAAAAAmE3IDAAAAADAbEJmAAAAAABmEzIDAAAAADCbkBkAAAAAgNmEzAAAAAAAzCZkBgAAAABgNiEzAAAAAACzCZkBAAAAAJhNyAwAAAAAwGxCZgAAAAAAZhMyAwAAAAAwm5AZAAAAAIDZhMwAAAAAAMwmZAYAAAAAYDYhMwAAAAAAswmZAQAAAACYTcgMAAAAAMBsQmYAAAAAAGYTMgMAAAAAMJuQGQAAAACA2YTMAAAAAADMJmQGAAAAAGA2ITMAAAAAALMJmQEAAAAAmE3IDAAAAADAbEJmAAAAAABmEzIDAAAAADDbUiFzVZ23ql5XVb+sql9V1eur6nyn9MWq6mFV1VX1wVPeVAAAAACAHVdVXb+q3l1VP6qqo6rqe1X1n1W1zyb2vVFVvb+qjpgy209U1X4n89wvmrLZgzbx2Omr6hlV9cOq+m1VfbiqrrFsu7cYMlfVnkneneQSSe6c5E5JLprkPVV1xmVfqKoulORRSX6y7DEAAAAAADuRsyf5ZJL7J7lekocn2TfJR6rq/Gs7VdW9krxh2vcWSW6V5LVJ9tzUk1bV1ZLcMcmvNvO6/5LkHkkek+QmSX6Y5H+r6jLLNHq3Jfa5R5ILJbl4d399atTnknwtyb2SPHuZF0rywiSvSnLxJV8XAAAAAGCn0d3/keQ/FrdV1ceSfDnJXyV5VlVdIMlzkzy0u5+7sOv/buo5q2r3JC9O8qSMPHf943+a5PZJ7trd/zpte1+SQ5IckGT/LbV7mXIZ+yf5yFrAnCTdfWiSDyW52RLHp6pun+SyGck7AAAAAADL+fn09djp612THJ/kRUse/9AkuyZ55mYe3z/JMUles7ahu49N8uok16+q023pBZYJmfdN8oVNbD8kye/VAlmvqs6W5DlJ/l93H7bE6wEAAAAA7LSqateq2qOqLpoxCvlHOXGE89UzRjbftqq+UVXHVtXXq+p+m3iei2SUML5vdx+zmZfbN8mh3f2bddsPSbJHkotsqb3LlK04e5LDN7H9sCRnW+L4ZyT5apKXL7EvAAAAAMDO7qNJLjd9//Uk+3X32lp3fzj9e0aSRyT5RkZN5hdU1W7d/byF53lhktd393tO5rVOLv9de/xknaa1kavqz5P8dZLLdneflq8FAAAAALCDuFOSM2eslfeQJO+oqqt397cyqlOcKclduvv10/7vnmo1P7yqnt/dXVV3THKFjDXyTlPLlMs4PJsesby5hHvRizNWJvxeVZ21qs6aEWzvOv28xXoeAAAAAAA7k+7+Und/dFoI8DpJ9krysOnhtRrN71h32MFJ/iDJeapqryTPTvK0JEctZLO7JNl9+nn36biTy3+TE0c0b9YyIfMhGXU51tsnyRe3cOwlk9w7o6Fr/66W5MrT9/dZ4vUBAAAAAHZK3f2LjJIZa7WRD9nCIccnOWeScyV5ck6azZ43ya2n72+88HwXrKo91z3PPkmOnl77ZC0TMr8xyZWr6kJrG6ah11ebHjs5197Ev89mLCR47SSvW+L1AQAAAAB2SlX1B0kukVF7OUn+e/p6/XW73iDJ97r7RxkLBW4qm/1xkndO339wOu5NSXbPqOu89pq7JblNkoO7+6gttXGZmswvTXL/JG+oqkcl6SRPSPLdjHIYay98/ukXPaC7D0iS7n7v+ierql8k2W1TjwEAAAAA7Kyq6r+TfCrJ55L8KsnFkjwoybFJnjXt9tYk70ny4qo6Z5JvZgTE10vyN0nS3b9L8t5NPP/vkvx4MZvt7k9X1WuSPHcqoXFoRgWKCya5wzLt3mLI3N1HVtV+SZ6T5JVJKsm7kjywu49YbGOSXbPc6GgAAAAAAE7qIxnlLB6cZI+Mgb7vTfKUadG/TIv63TzJU5I8PqOe8peT3KG7/33m6/5NkicleWKSs2ZUo7hBd39qmYOXGcmc7v5OkltuYZ9vZQTNW3quay3zmgAAAAAAO5PuflrGYn1b2u9XSe43/Tslz3+BzWz/bZK/n/6dYkYdAwAAAAAwm5AZAAAAAIDZhMwAAAAAAMwmZAYAAAAAYDYhMwAAAAAAswmZAQAAAACYTcgMAAAAAMBsQmYAAAAAAGYTMgMAAAAAMJuQGQAAAACA2YTMAAAAAADMJmQGAAAAAGA2ITMAAAAAALMJmQEAAAAAmE3IDAAAAADAbEJmAAAAAABmEzIDAAAAADCbkBkAAAAAgNmEzAAAAAAAzCZkBgAAAABgNiEzAAAAAACzCZkBAAAAAJhNyAwAAAAAwGxCZgAAAAAAZhMyAwAAAAAwm5AZAAAAAIDZhMwAAAAAAMwmZAYAAAAAYDYhMwAAAAAAswmZAQAAAACYTcgMAAAAAMBsQmYAAAAAAGYTMgMAAAAAMJuQGQAAAACA2YTMAAAAAADMJmQGAAAAAGA2ITMAAAAAALMJmQEAAAAAmE3IDAAAAADAbEJmAAAAAABmEzIDAAAAADCbkBkAAAAAgNmEzAAAAAAAzCZkBgAAAABgNiEzAAAAAACzCZkBAAAAAJhNyAwAAAAAwGxCZgAAAAAAZhMyAwAAAAAwm5AZAAAAAIDZhMwAAAAAAMwmZAYAAAAAYDYhMwAAAAAAswmZAQAAAACYTcgMAAAAAMBsQmYAAAAAAGYTMgMAAAAAMJuQGQAAAACA2YTMAAAAAADMJmQGAAAAAGA2ITMAAAAAALMJmQEAAAAAmE3IDAAAAADAbEJmAAAAAABmEzIDAAAAADCbkBkAAAAAgNmEzAAAAAAAzCZkBgAAAABgNiEzAAAAAACzCZkBAAAAAJhNyAwAAAAAwGxCZgAAAAAAZhMyAwAAAAAwm5AZAAAAAIDZhMwAAAAAAMwmZAYAAAAAYDYhMwAAAAAAswmZAQAAAACYTcgMAAAAAMBsQmYAAAAAAGYTMgMAAAAAMJuQGQAAAACA2YTMAAAAAADMJmQGAAAAAGA2ITMAAAAAALMJmQEAAAAAmE3IDAAAAADAbEJmAAAAAABmEzIDAAAAADCbkBkAAAAAgNmEzAAAAAAAzCZkBgAAAABgNiEzAAAAAACzCZkBAAAAAJhNyAwAAAAAwGxLhcxVdd6qel1V/bKqflVVr6+q8y1x3OWr6iVV9eWq+k1VfaeqXlVVFzz1TQcAAAAA2LFU1R9X1T9W1YenTLWr6gKb2O98VfWKKXP9bVV9taqeWFVnXNjnPFX1lKr6RFX9oqp+WlXvqqprbOa1b15Vn66q31XVt6vqUVW165bavMWQuar2TPLuJJdIcuckd0py0STvWWzwZtw2yb5Jnp/khkkeluSyST5RVefd0msDAAAAAOxkLpLk1kkOT/KBTe0w5bLvTHKNJI9OcqMk/5zkwUletrDr5ZLcJskbktwqyV2S/C7Je6vqJuue8/pJ/ivJxzOy3OcleVSSJ2+pwbst8UvdI8mFkly8u78+veDnknwtyb2SPPtkjn1ad/90XWM/lOTQ6Xkfs8TrAwAAAADsLN7f3X+QJFV19yTX28Q+V8sYCHz97j542vaeqjp7kodU1Z7d/ZskH0xyse4+du3AqvrfJIck+X9J3rzwnE9N8sHuvufC8+2V5FFV9Zzu/tHmGrxMuYz9k3xkLWBOku4+NMmHktzs5A5cHzBP276d5KdJ/miJ1wYAAAAA2Gl09/FL7LbH9PVX67b/IiPzrem5frEYME/bjk3ymSzks1PVicskOWjd870yye4ZI5s3a5mQed8kX9jE9kOS7LPE8SdRVZdMcu4kXzqlxwIAAAAAkHdmVJp4WlXtU1V7VdV+SR6Q5EXdfeTmDqyqPZJcJSfNZ/edvp4kB54GG/8mW8iBlwmZz55R/2O9w5KcbYnjT1BVuyV5UcZI5n85JccCAAAAAJB09++SXD0j3z0kya+TvCuj/MX9t3D445L8cZKnLWw7+/R1Uznw4QuPb9IyNZlX6QVJrprkxt29qQYDAAAAAHAyqur0SV6TUTHiTkm+k+SKGWvgHZvkPps57vZJHpbkCd29yUUF51gmZD48mx6xvLkRzptUVU9Ncs8kd14oRg0AAAAAwClztyTXSnKR7v7GtO39VfXLJC+pqhd192cXD6iqmyZ5eZJ/6e7Hrnu+tZx3Uznw2TKqWmzWMuUyDsmJNTkW7ZPki0scn6p6ZJJ/SPJ33f3KZY4BAAAAAGCTLpXk8IWAec3Hpq+XXNxYVddJ8tok/53kXpt4vkOmryfJgavqAkn2zBZy4GVC5jcmuXJVXWjdk19teuxkVdXfJXlikkd29wuWeD0AAAAAADbvR0nOVlUXWbf9StPX769tqKqrJHlDRs3mO3b38eufrLu/k+SzSe6w7qE7JjkmydtOrjHLlMt4aUax6DdU1aOSdJInJPlukhcvNPb8Sb6R5IDuPmDadtskz03y9iTvrqorLzzvr7p7qZHQAAAAAAA7i6r6q+nby01fb1hVP03y0+5+X0bZi79P8taqelJGTebLJ3l0kk8m+dD0PJdI8pYkP0vyjCSXq6oTXqe7P7Lwso9I8uaqenGS/0jyZ0keleR53f2jk2vvFkPm7j6yqvZL8pwkr0xSGan3A7v7iMXfPcmuOeno6BtM228w/Vv0voy6IQAAAAAAnOi1634+cPr6viTX6u5vTQN6H5dRReKcGYOCX5LkSQujla+cUVP5bEnes4nXOSFx7u63TuH2Y5PcJcmPkzw5yZO21NhlRjKvDZe+5Rb2+dZio6Ztd5kaBAAAAADAErq7ltjni0luvYV9Xp4x6nnZ1319ktcvu/+aZWoyAwAAAADAJgmZAQAAAACYTcgMAAAAAMBsQmYAAAAAAGYTMgMAAAAAMJuQGQAAAACA2YTMAAAAAADMJmQGAAAAAGA2ITMAAAAAALMJmQEAAAAAmE3IDAAAAADAbEJmAAAAAABmEzIDAAAAADCbkBkAAAAAgNmEzAAAAAAAzCZkBgAAAABgNiEzAAAAAACzCZkBAAAAAJhNyAwAAAAAwGxCZgAAAAAAZhMyAwAAAAAwm5AZAAAAAIDZhMwAAAAAAMwmZAYAAAAAYDYhMwAAAAAAswmZAQAAAACYTcgMAAAAAMBsQmYAAAAAAGYTMgMAAAAAMJuQGQAAAACA2YTMAAAAAADMJmQGAAAAAGA2ITMAAAAAALMJmQEAAAAAmE3IDAAAAADAbEJmAAAAAABmEzIDAAAAADCbkBkAAAAAgNmEzAAAAAAAzCZkBgAAAABgNiEzAAAAAACzCZkBAAAAAJhNyAwAAAAAwGxCZgAAAAAAZhMyAwAAAAAwm5AZAAAAAIDZhMwAAAAAAMwmZAYAAAAAYDYhMwAAAAAAswmZAQAAAACYTcgMAAAAAMBsQmYAAAAAAGYTMgMAAAAAMJuQGQAAAACA2YTMAAAAAADMJmQGAAAAAGA2ITMAAAAAALMJmQEAAAAAmE3IDAAAAADAbEJmAAAAAABmEzIDAAAAADCbkBkAAAAAgNmEzAAAAAAAzCZkBgAAAABgNiEzAAAAAACzCZkBAAAAAJhNyAwAAAAAwGxCZgAAAAAAZhMyAwAAAAAwm5AZAAAAAIDZhMwAAAAAAMwmZAYAAAAAYDYhMwAAAAAAswmZAQAAAACYTcgMAAAAAMBsQmYAAAAAAGYTMgMAAAAAMJuQGQAAAACA2YTMAAAAAADMJmQGAAAAAGA2ITMAAAAAALMJmQEAAAAAmE3IDAAAAADAbEJmAAAAAABmEzIDAAAAADCbkBkAAAAAgNmEzAAAAAAAzCZkBgAAAABgNiEzAAAAAACzCZkBAAAAAJhNyAwAAAAAwGxCZgAAAAAAZhMyAwAAAAAwm5AZAAAAAIDZhMwAAAAAAMwmZAYAAAAAYLalQuaqOm9Vva6qfllVv6qq11fV+ZY89vRV9Yyq+mFV/baqPlxV1zh1zQYAAAAA2PGcmix2o2wxZK6qPZO8O8klktw5yZ2SXDTJe6rqjEu8xr8kuUeSxyS5SZIfJvnfqrrMzDYDAAAAAOxwVpDFbojdltjnHkkulOTi3f31JKmqzyX5WpJ7JXn25g6sqj9Ncvskd+3uf522vS/JIUkOSLL/qWo9AAAAAMCOY3YWu5GWKZexf5KPrP1SSdLdhyb5UJKbLXHsMUles3DssUleneT6VXW6U9xiAAAAAIAd06nJYjfMMiHzvkm+sInthyTZZ4ljD+3u32zi2D2SXGSJ1wcAAAAA2Bmcmix2wywTMp89yeGb2H5YkrOdimPXHgcAAAAA4NRlsRumuvvkd6g6Osmzu/th67Y/McnDunuzdZ2r6uAkZ+7uK6/bft0k70hyje7+wNzGAwAAAADsKE5NFruRlhnJfHg2nZJvLlVf9tjkxBHNAAAAAAA7u1OTxW6YZULmQzJqgay3T5IvLnHsBatqz00ce3SSr//+IQAAAAAAO6VTk8VumGVC5jcmuXJVXWhtQ1VdIMnVpsdOzpuS7J7kVgvH7pbkNkkO7u6jTmmDAQAAAAB2UKcmi90wy9RkPmOSzyb5bZJHJekkT0hypiSX7u4jpv3On+QbSQ7o7gMWjn91kusneWiSQ5PcJ8lNkly1uz+16l8IAAAAAGB7tGwWu63Z4kjm7j4yyX5JvprklUlelREW77ful6oku27iOf8myb8meWKStyQ5b5IbCJgBAAAAAE50CrLYbcoWRzIDAAAAAMDmLFOTGQAAAAAANknIDAAAAACcRFXVRreB7YeQGQAAAGA7V1W7bnQb2HFU1a6txi6ngJAZANgmVJXzElZicdSNfsUqbC640b+AbUVVVXcfN33/xqq67Ua3ie3bQn96b1U9y6hmtsRJ0TbOiSunlrvZnBacYHBa6O7jk6SqLr/RbWH7tTjqZvoMPPMGN4ntXFXt1t3HVdXpq+rGVXXnqto/OfF9C04J5+es2rrPvscl+bMkR8oTmGPxPaqq7plk7yTvjgyRLdhtoxvASU0fDset/ezElVNjrT9V1Z5J7pbx4fCuJJ/p7sM2tnVsT6aREWsnrrt197FT0Lxbdx+zqf1gjqp6RJJbV9XNuvvbG90eti+L51FV9bQkV05y4ar6QJKXJ3lXdx+7gU1kOzP1qWOr6kxJ3p9kzyTnT3J0VR2S5H5JPrt4/g4nZ9371HUzzs9/luTQ7v7KtN35FKfIQp86X5LzJnlSkrfJE5hjoT9dPcmlkvxPkoN91rEl7kJsQ9adcNy1qg6oqn+sqqtMISGcIlPAvFeSjyV5VJL7J3lnkqdU1SU3tHFsb/ZIkqo63XSxvVeS5yd5Q1U9raqukyTd3UY5cyp9JcmfJLleYrQXp8zCedR/Jrltks8meVmSy2SEzI/Qpzgl1kYwJzk4yWFJ7pJknyQ3SvKnSf4xyTk3rIFsV6pql4X3qdckeWXG+dRbk/xHVf1dMs6nNq6VbK+q6ilJvpHkukm+vjAoBE6xqrp7xs3V2yX5zuLAItgcIfM2Yl39pNcleWySW2ZcZH8gyVOrat8NbCLbkbUL6Omk4v5JvpNkvyQXS/L3Se6R5DH6FMuoqj9J8pGq+pPuPqqqzpJx4+J6Sc6YMYrr+dOJiKCZpVXV782o6u7/SnJgkqdX1cWmgEd/YmlV9TdJrpjkb5I8pLsfk+SOSf4gScX5L6fcNZOcO8njk3y8u7+ZMZp5jyRv7O4fr+3o/YqTs1AW6p+SXCnJnZNcIuPGxW+TPLeqrr1xLWQ794YkH84YyXylqjq9GxacCi/PuJF69iQ3r6o/3tjmsD1wkr2NWJiG/uQkV0hypyTX7u6LJ3lpRlC4rxNXlrFQIuN+GfW43pLki9394+5+bpL7JLlNkkcJmlnCZZP8UZJ/r6qLZ/Spbye5UXdfM8m1kxye5GFVda9E0Mxy1soWVNVLq+pBC7N2Dkzy3SSPrKqzuEDiFLp0kh8l+Vh3H11V+2SMEnxtkqd39zFVdf4NbSHbm4tmXGR/ehoZePuMEaiP6u6nVdXZqurvEyNQ2bKq+sMkV0nynCQf6O6fZIySv1SSf0ny0Q1sHtuJzdRa/kSSByX5VJJ7Jrm883GWsb6fTIMgj03y0CQvzBgdf4eqOvtGtI/th5B5GzLVert6koOSfKS7f1JVF0nyl0n+I8mbBDecAk/KmH53lSSfnPrOHknS3S/OiUHzI6rqMhvWSrZ53f1vSf5fktMneX3GVOEvdvc3psc/nnFC+8MkD50Wh3ChzVKmEVt3S/KsJAdW1R26+8tJ/jXJDZJcftrPOQu/Z/GcqIZdkpwryXHdfcR0Y+yDSd6T5K7d/duqun+Su1XVGTam1WzLNlNO5ftJzpTkD6rqxhnn6o/s7qdOffAvktxsmvkDW7J3RgmfL0/vSRdP8uUkb0/ygO7+TY3FJS+zgW1kGzaV2VwbFf8H07+zdfex3f3JjID5iIxyUVeRH3By6qSLRp6hqs6aqVRidx+d5IEZ5+VPyDh/OscGNZXtgAu2DbSJacJ7ZUyX+sU08uYSGVPS35vkHtNJyEMyRjrDljw0yWuS/HFG8HfWqV/tnpwQNN8ro8bSLTaumWzL1i62u/vlSZ6e5Ngkt85YoCZVdbrpTvfHM0qx/CDJg9dGdMF668Pi7n5PkhdljLo5T5K7VtV/J3lVRrDziGm/410ksWjdRdGZejg+yaczpgn/VUbA/K4kd+/uI6cRhNfMiaUz4AQ1FrY9rqpOX1U3XHjo6xkh4OuTvDHJ33f3U6bHLp4x4/CbSQ7Zqg1me/XrjJHL55lmWnw4yTuS3G0KmK+e5FYZJVrgJOqk6zj9Y8aM1c8m+b+qut0UNn8qY2b00RklD67kHIpNqd9fMPl/knwhY+DH1ZJkqsV874wZPE9KcpeqshYBmyRk3sqqateq2js5yTTh608PH57k50kuNk1D+FBOvDD6TVVdLMlNYtoL62xq1M3Uv+6Y5L8yyhn8Q1WdeZomvBY0vzQjYH7C1mwv24eFi+21oPmfk7wgJ45Yvnh3H5Vk13VB8/FxMstmLIy8Wazr9v4k38sYHfi0jEW0Pp7kx0muXVWPmo41Op4kv3dR9IQkD1kY9XdQxk36/8yon3uraVTzH2d83l0pybO6+zcb0HS2UVOfOnaaWfj2JM+pqtskSXd/PiOouWiSLyX5UFXtUVXXm7bvmTEgpM26YM1mRsWnu7+Wscjt4zOu996ZsVDpEVV1tox68mdP8vmt1FS2Iwuffa9OcvMkr07y7CT/l3GD/mHTNd+nkvx1kiOTvCkGqrHOdP222J9uk+R9GbOhr5/klVV13eQkQfPLkzwjye183rEpOsXWd62MlYOvlSRVdXCSV1TV3t39u4zRXH+T5CcZd5Fu192/nu4UPSzjhOPNLrRZs27UzTWq6g5VtU9VnWf60LhdRoBzt4zSGGdaFzS/Ybqo+r0FuNi5Tf3ijEnuWVXnm7a9NCOk+WWS/66qS043NNaC5k9k3Li4vfI+bE5VPSfJG6rqDknS3a/OGG1zr+4+uLv/PGM9gr2mQ25cVXtt+tnY2VTVLgsXRa9JcvuM/vPjJJkWYXtGko8kuUZVPaKqXpBxjnXTJDft7q9uSOPZJq1daE/vMx/N9H6U5M1r+3T3M5M8KmME/Lsz1iZ4Xsbn4VWmz8wTprCzc1t3I+zmVXW36fz8zNMud88YYHTGjBtieyW5cpLnZpRKvGd3/3Drt5ztwTRT5/IZC0c+p7ufnhE0J8nuSY6avv90RjD4tYzBbHCChdlgT8wo4XOb7n5yxmyLcyfpJC+vqv2m/Y/JWPPpBUne6fOOTSlZ5dZVY5G1f8pYSOvzGVODb9vdH5sev0iSA5Lsn1H35ukZK6T/VUZtymt29+c2oOlsg9ZOYKdRN+/K6E9rHwj/neRfuvudU4D8n0muluSfMxY++uVGtZtt27oLo3tmBDOPSHJQd39v2n63jDrNxye5RXd/ebpxcezCCcsJzwOLquoeSW6Y5MYZI3CeljGS+cMZJ60PmPa7XJL9MtYk+PIGNZdtVFUdmNGHbpvkC9NN+d2ni6BU1YWTPCTjQvy4jP71ou7+yka1mW3XNCLrJUkumTGa6wdTmZ4LZsyu+G53/2g6V98nyTmSfDXJh6f9dlubpQhrptGBN8lU3zQjRH5hdx9aVZfPuN7bO2Pdi29lnFfdyfUei6YbYb3w88OS3CMjG/je9L70sST/mxPXHzhfd39nGvCxxzT7EE6iqs6bcR7+9u7+txrlWZ+SUbJnt4yRy79KcoepxB2cLCHzBqhRa/njSU6X5EHd/U/rHt83o4bSvTPqn/4q46TjAdN0PThBVZ0+yQcyRtI8KaOG0vUzVoH9cpK/6u5vT1P2XpMxOuK+3f2iDWoy27CFGxd7ZUzjTMaifkcmeWaSl3b3D6Z975oRNB+bMXLZBRG/Z3M3G2rUxr12xgX3TzIujA7NGGn61O5+97TfSS6sIDkhQH59xgiul0/bzpvkwUnOmuSb3X3AtP1s3X24G1+cnCmIeVuSr3X330436O+S5OEZMwmPyDhvf90mjt3FiC7Wm8qtPDxjnZQfJrlDkn/IWIztKT0toFxjMclzZ9T0/vY0GwOSnPT9parO3d0/qVGL+UbdfeGqOn/GiOWDM8psHjHdzL9Fkjt292Eb13q2B9N71QeTXDhj8Mcju/tfp8denFF2pTNmgr1rwxrKdsH0+K1o4UL5jzLque2a5ClV9dXufsfa4919yFR/8rkZIyW+leSw7v7FBjWdbdt1M6baPSjJR6dSGIdN214xBcx79Fj077YZI+VfuoHtZRs2BcxnTPLJjEXXXp/kb5NcL8ljkuxSVS/u7h9098uqqpM8J6Ocz+03qt1sm9aNir9BxmjAMyZ5bZIfdferqurDGTcrbpLk/Bk3zK6XMR1dHWY256iMkaR/UFXnybg58ayMxdd2zyix8rtpCvHazB0hIJu0UNrpzEmuMJ2H/1nGzMLnZbwfPT3J31XV/6wfsSxgJtnkTdWzJflAd79j+vnhVfWbTDfxq+pZ3f2l7n7L1m4r24+FgPk/k3wi473oTRkLJT8nYw2e/80oOXZEVf1RkqtnDFQzu4ITbO6GaHe/Znr8NhmLki4GyXtm3MT4eZLvbI12sn0TMm8FC+Hx2oXyxzOmCV8gyVOT/FdV3aq7/3fhsF26+0dJfrR1W8t26OJJ/jjJ56eA+Q4ZK78+srtfMNV+u3FVvau7f5JR9mCtlrMTD06wcCPsYRk3we6zNq28ql6eUYv5UUmOr6p/6e7vdfe/VtVPM0Z/wQnW1c3994xyPefK6FsPS/LUqnpdd3+zqh6a5FJJ/i7JrZPcraqe1N2/3qDmsw3ZzEXRURkLZt0n40bYsUn+McljM8Ln92Xc1D/hAt0NC9asDwMXyjzdMclbMkKbrybZr7s/MD123ST7Zlw/OX/iJNbdVL1zRj+5bMaNr1TVGbr7t939hOmexuOTHFtVz1UOikVVdbokf9jdh04/75Jxw+KKGQuyJWPU+8EZn4Ff6u7bTfueN6NvXSfJdbv7V1u5+Wyj1r1HXTrJmTKC429299HTbudNcv7u/s6031kzbtw/K8nb2oLJLEHIfBpb98e8a5IzLrzZ/7yqHpFR8+a1VXWL7n7X9MHy/Kr6WHf/ywY1nW3cQiB4ZMYCNbtV1e1zYsD8lGlkzh0ypqT/3+LxAmaq6opJjujuLyYnCWDOlVG/9Ptr+3b3kVX1mCQXy5j2eXRVvby7f9jdb56ez1R0TrAw8uaFSa6R5L4ZM3POlHHD4jlJTl9VL53C5P9L8n9V9e4k7xMwk/zeedTeGXVNj+zun051A28w7fqV7n7/tN+xGYsA/mT6WckVTrB2k72qzpBRc/KiGaUMPtPd/zddfO+ZJN39y+n8/YIZ72Mf6rFQN5zEwvvUf2XMMtwjozTi16rqeT1q5J6uu4+agubjkjwxyVFV9ZCeasmzc6uxvsk7MvrF3043IDojtzlTphk53f39qjogY3bY5arqdUl+k+QPM26G3dDNC9Zu0k/nQWvvUa/I+DzbO8kuSV5VVQdNZepekeR2VfXxjBuul80YJPIIATPL2mWjG7AjW3dh9OQkb0jyxap6RlVdPUm6++MZI7o+luR/quqZSQ7KKOT/mQ1pONuk6SLnBAsXzG9PcoaMaVOvSPKohYD5ohkLIv0iprewYBrh/tIkt1vYtvaZcFTGBfaZpu27Jkl3H5ExZXjPJI/OmEZ8wnECZtarUTf3Whn1vN/U3Z/r7g91935J3p/x+feH0767J0l3v6QtzEZ+7zzqeRnTgQ9J8qmqemCSY7r7pdO/tYD5QkmenBPrChrBzAmmC+5jayyY/NGMkO8+GTe93juFOsd09y+ngPmsGRfj/zY9xYOn56lNPD07ocXz82mwx4UyFmy/dJJnZyzK/aaqOmN3HzUNJkp3PzmjVNRLBMysmfrCRzLK9Ty+qi45fYYdlzGiNFW12xQafjrJ/ZM8MmOk8zkybtj/eXd/ZiPaz7ajRvnDf6yqcyzM1nl5xuCzf8goTXeHjJk7T6+xbtiXkvx9xk2NuyX5gyTX7u5vbv3fgO2Vhf9OI4ujZqrqNUmukOQ/kvw2yQOTfCPJY9ZKZFTVn2aMDtwvY/Tg3doiWkwWRt2cPqPG1rkzTiJ+02Pxh/sneVyS72Us7HdYkstlLAS4W5IrT8cbzUWqas/u/k1VXaC7vzWN5vrDPnEBmn0zTnD/s7vvtu7YB2VMQT99xknJpdemVMF6VbVPxg3Tv+3uF0/BzK7T+9GFM2oLvrS7/99GtpNtW1W9OuOz70UZZQoul+SWGcHfUxbK+tw/4zzqiklu3N2f3ZgWs63Y1HlPVe2RMc38uCT/0N2fqKprJrl7xgX3/br7hWszCzP61NeT7D+VJTNrh98zBczny1h74B96rHGxZ0Zgc7+MhblvNp1/nd6IeNarky7w9+iMm1oHZ5S/+GmSzyW5qsCPZdRYi+nfk1ygu79TVVfIOG96bJL/6bFe054Zg9FenPG+9Zvp2D0yRjr/QskVTinlMk4jCwHzk5NcJsntuvujVXW3jBWqf5PkaVV1XHe/s7s/W1V3yrj7fXhbBZbJdIG0Nurm/Rmjs/ZK8ruMkREH9Ki9nIyFIA5OctYk380Im28wHe+iiFTV5TIWHD2guz84bX5lkptU1WWn0hlfzyhn8NQpFHxMkl9n1Om6dcY0vjdlXJBfLkbJs3m/y/i823dh29r70I8yasGddSu3ie1IVf1lxlTNe3T32xa2PzTJ0zJKsDyuqs6fMUX9iCTXMRqeye4Z5Z0W63pfOGM9i4dmLGaU7n5fVX0vSSV5TlV9fAqfX5jkA0n+YwoNrWfB75lmqB40/fictfPtKVB+5rT9/hnr8PxVdx+5Ee1km9drN8amkiq7ZgxO6yRvzshurjMNBtklo1ziLhnlfL7Y3e82oIgF38s45z5XxrXaH2WsCfaNKWC+eJIPZ8y2/4fp/eovknyquy3yx2zKZZyGquoiGQHzk6aA+aEZo3D2z1h87VIZJ7LXTUYw3d3fEDCzZgqGu6p2S/KvSX6WEfKdP6MA/2WSvKaq9u3uFyTZJ2Oa8KOTPCDJX0yjbnYTMDM5e0YQ89iquuq07YVJvpzkrVX1J919VEbw/P8ypnx+LONC/K1JztDdj8n4/Ph1RkjITqqqzlhV99rMYzWNtnlhkvvVWOC2Fy5+zpkRCH57bf+t0mi2SVW15zS6fb3zZtxY/fK031p5nmdknFP9fVVduLu/neQuWViwlJ1bVV0qyX9W1cV71KRcu+45b8YU4C9NwfEeSTLN5llbC+Uy07bPdPdB0367CphJfr+EXcaMnTtmnKdfq6outvbANGL5mUmel3H+dZDPO9Zbu+abrvvWFq19XEbJletmrGtx9oySmv+ZUQ7qZUlenuSAjMFFykOx6GMZ61PcZPr59BmzwX5QVRfICJgPTvI3U8B804zR8+fZgLayAxEyr0BV7VpV56mqW1bV/tOUu3T31zNOVt9XVddO8pAk9+zuN3f3QRnTFc6T5EVVtd+G/QJss6aLmtNnnFycNeNE4+Du/m53PzqjHMYeSR5dVefs7m9198u6+4Xd/f61iyoXRSQnhH7vyFgo69pJnlxVl+/ud2WMsDkiyVumoPmHGdOEr5wx1eotSV6QMXI50/4/SiLM2bndK8kLp2mdJ7FwofPvGbV0X11VD6+qy02jvp6QUY9Z3dyd3BT+/VuSQ6YSK4s14s+UMXrrjAv7rwU8r8+oEf8nSdLdv2gLRnKitc+6Z1bVRRZGMn8hY6bX/ZNkGtG1FjS/J2P2xd7rn8zNetb0ibXibzH9fESSN2YENJdIckBV/fHC/r9L8twkD88YMejzjhPUSdcfeGqSJ1TVzZOkuw/I6DuXyggNH5NRNvHiGefkl0py4e7+2tZvOduatRtY03nSLhmjmfeZHn5bxrXefyT5ZMa6Tnft7iOq6lxJbjEd86Ot3W52LELmU6lGQfXnZUxheW2S/0nyrqp6U43i6a+fRtdcLeMO41sWLpz2mrb9MMmhW7vtbPtqLIT13iSvyRh585EpOF5bNOTfMvrdTTPuTv6ehYsqdnLT6Ijq7oOT3CyjxunTquqqU+mMe2eMTn7LNDr+6O7+Ync/pLv/trufnrGC9X9k1Ki8Y3f/eMN+IbYF/5IxQuvxVfXYxQfWTnS7+/MZF0Uvybgx9sEk/5XkKkmuN40eZCc2fU69NMlnM2ZU7Lvw2fXqJMdnzKxIdx+/EPbtnjGb4idbuclsB6bR7k/LWIDtH6cZhsn4nHtbkutX1YOnfY+eBo1cJSNk/vpGtJntR1X9bcZswgOSE4Lm/8oYcbp/kmetC5p/293P7O6vbkiD2SZN5+VrAfNrM2asfjJTKZ8k6e4nJHlqRqmfuybZu7u/090/6O4fdffhG9B0tiHTzMIbJLngdP69y3Rz621JLlVVZ0tyZEZ97wslOSbjptjvppv7z8jIEx7U3T/bkF+CHYaF/06FGjVy35txR+jgjBqlZ0ty8yR3yrgL9KAk78y4CL9nd59pOvYcSf4p46LqI2pzUVXnzOg/f5qxuMM3uvt7NYr0v3167EHd/bxp/9P1WKX6wkm+luRW3f1fG9R8thPTicfu0wX132bcJPvfjIVIPz6NMH1RxqjBG3f3F9dqWVbVJZP8TcbIsLtO4SE7uao6c0aI/PdJHt/dj194bLEOaqrqJhm14b6e5Jvd/f2t3V62HdNMnVtkjER+T5JdM0LBs2a8/xwy3VR9cJInJvnnJI/MGIW6d8ZF959l1GB2w4tU1d4ZF9AX7e5XTNsennET9YtJHtjdX6mq82VMOT9fxjn8P2XUjr9nxsj5qxi5zMmZpps/N6O0yr9NpcRSYzHlW2eUivrvJA9vCySzBdOMsHsluU2Sj3X3MdP2xVHOj07ydxkh9AOUhiI54drujUlunOSXSX6QsUjkO5L8RcaM6Mv1WPxv74zSPo/IWPDvyIwbq+dM8pdtwWRWQMg803RR/Zkk38ioffultalPVbVXxgjBA5P8Nsntk5wlY5TzVzOmd141Y3TzldoKsTu9qrpSxh3Ei2bUCUySwzP60HMyAuZPZ9y4eGB3v3U6bpeMOksHJblpd79vKzedbVhVXT5jpOiTF7btOpVhuXySdyX5SJLrJPlQkocsBM3/lDEV75Ldfeh0bGUsGPFrd7lZtLmgeRqhs/bZeNGMevE/6+6/37DGsk2YbtS/JaPk05kzRmd9KSOw+cdp2026+wtTfcp7ZSzU9sOMz8djMj4z93NRRJJU1RUzyoqdc9p0y+4+ZHpsMWh+UHd/eQqan5DkhtMxP8gopXHTHutZWDCZJCcN+qafd+uxqPZ5M96vLpvkFVMpu7Wg+a+SvCJjTZV76kskv3/zfdq2W0Y+cGSSu/RYG2XtsZMs5FdVT8sIoq/mRj1rpsFq50hy+Yzruotm3MA/POPa7alJntLdv55m4p87yV9nzIT+XJIPdvd3N6Dp7ICEzDNMf5iHZATGd55ql57kQ2MK/66bsXjWh7v75lV1n4wT3HNn1Me5W3d/biN+B7Yd09TMgzPqIx2cMTr+uklulHGn8d0Zo0f3SvLxjIugF077XyljCvEuSa7uBJY103vQk5L8Q8Yo5ScuBMyXTfKBJK/q7ntW1fUzwp7FoHm/jH53F/2KZWxhRPOFM2b0/EWSP+/uT2/6WdgZTDfjP5lxLvTYJJ+YpnWuvXddI6Mm/FkyRjR/Yepf+2TU0T19xk3+f1aHkiSpsZDtwUleleR13f2OTQSDmwqa98qo671Pku9nzCI7fi1E3Pq/CduadSNJ951mWFSSXReC5ucnuWKSlyzcZN0zozTZp7v7yxvVfrYd0/vNfyR52NoNsGn7WTOCvjd19/02c+zVuvtD0/fnNNiDLamqC2XcsH98xho7/5rkyd39qw1tGDs8IfMMU1j8T0me1d0PPZn9zpgxFeHhGfVL358xBfTsSX6ufhLT6Ky1cO/h69/0q+rvMqbiHZzkLzNGlr4/o5TB15N8M6O0xt2n0hlG3XCCqjpLxnvQQ5M8obsfuxAwH5QRBv6mu3uq4/Wm6bFHr53ITs+jX7GUdUHzY7v7CVPA/IycGDB/ZgObyAabRmwdlFHu4i7d/a1p+y4ZpeN7IWh+Xk4snfGFdc9zktFd7LymWRJvT/LWJI/q7l9O29dKPS2GhL9XOmMTz/d7Iw3ZuUylfC6y+L5TVY/KuCl2o+kmxmLQfL6MGav7Jnlijxq6cIIai4ueL2NE6V161PBee+xMGdd6u2SUP/zOumOvllHK5+mL4TSst3ZutG4m4S45cSb9P2cEzUcsDD5yPsVKWfhvnldnXDA/uKoes7mdetRZ/u8kxyW5YI/Fag7r7q8LmJlcNGOE8qvXAuY6cWHIdPfzM2pRXi/JfafRf9fMmE51fMaIiTtNAfPpBIEsmi60n5QxffjRVfWSjJHyB2WM4jpyOhHZtbvfnlHL61pJbrfuefQrljK9jx2Q0eceX1XPzbigul4EzAx7Z4wafXXG4sdJTljQr9e+z7jh9XcZNQPfUmNhmpN8RrJzm0K+ZHx2/SjJC9cC5uTEhY+ni+hdp++fkrHuwCUyFma7xPrnFTDv3Kb3mA8necVUgmXNV5N8IslLq+ovpver46pqjykU/Ickv0ry91X1yK3ecLZZ0w34r2aMJr3VFPA9sqquOQV8v84I/66Q5C5Vde6FY8+R5B5JLpLxPgebtXAetRYw7zZ9pt0qyf8luXOSJ1XVXmvXdwJmVs1I5plOblrw9Pja6IlzZ4w2fUR3P9+dIhZV1f/LWMToj6cTjMXH1u5E7pqxWvXlkly2u39ao57uBzLKtvxDd79ra7ed7cc0QuLRGdPMv57kimtT0xf2WetvV0rySdOEOTWmz8hHZJTzOS7J5VvdXJJU1f4ZI/722dwU8oX3oz2T/HnGVM99k1zBtHPWq6qDkxzd3Tc5Bcc8MuNz8Z+6+8GnWePYLlXVLTPKGrwnyeO6+8PT9v0zPtv+KGMB5HcsHHPfjCDn+9MxX9/qDWebUyeu43Rokjt29w+r6oIZJZ8+lpElfHj6zHt2xlpP/53kzRmloW6Y8Tl4zbbgNjMsjFjePWOx9/MmuWp3/3SDm8YOymiQmdaN1npsVT123eNroyBumnHX8eBpu4CZRUdlrGK+R/J7o5jX7kQel3GSu3eSM03bPpExlfgiSV5SVdfamo1m+zLdwHhyxtTzP8kYbbN+n7WpVR+dpn7utrXbyY5j+ox8apJHJbmUgJkFu2Qs2pdksyOT10ao7p1xk+KxGfUq3fxiU86c5Ncnt0NV7VJVe1bVNZKku5+UMTrw/22F9rEdmQYK/VeSm2eUeTpgqvmd7n5jxvnU95L861RqLFV1riR/luQNGaUQBMys1WD+TJKvZGEdpx4Lal8po3zGszNGOCfj/eghGaHySzPOoc6S5BoCZuZam83T3cdkzCy8toCZ05KRzKfSyY1onurtPnf68W6tyDrrTCet78uojfTYadtJaihNI+KvnDHF5QpJPpVkl+kD4ypJXpex6N+hG/NbsL3Y0gwMWDW1TVmvqi6W5NMZpQ0eMm3b5Cyvqnp7ku929z2q6gzd/dut3Fy2YWt1vJO8JsmfJrlhd3/zZPb/44wp6zdbNwLVugOcxMJsihtljCh9V8Y6A/83PX6TnBgGfiTJ6ZJcKKMslJq5rAXMH8gIkq/c3V9b/1lXVVfI6F/fyhjB/NGp3503o5ziEUl+sX62K8zhs46txUjmU2kTI5ofk5zwwfLYJFfLWERLwMymfDXJF5LceTphXRtRusv0/fHT99fKKI3x9R7W7kh+OMmFBcwsY9371WOq6tEb3CR2cAJmNuHHST6Z5HZVdbPkpJ97a6rqkhkzfT437SNg5iT6xDre/5mxxsVfbm7fqfTYDTL600lCQBfdJCep8Z0kazW835oxK/U6GesMrI1ofnPGmikPT/LbjNGqVxMwk5wwqONzSS6VMXPnLlV1xvWfdd398SQ3SXKBjNmGV52C6O9295emrwJmVsJnHVuLkcwrsm6E4JOTnCOjsPpV20JHnIypvvJ7M6ZSPaG7/2fhsV2SXDBjobYvZYyI73XHq/PNKTK9Xz0qYxTO3bv7ZRvcJGAnUlV/muRDGZ97j+vuN617/GxJnpnk6kmu193f3vqtZHtRVWdI8i8Z9XDv1t3/tol9LpLkFUm+luRvnDexaHGE33TufZbuPnxhRPNNM0phnGRE87T/HkmOt5YFyQnn2J/MWAPlXhnh8dUyFvZ7co9F/04yy2thRPPXMtZxev/WbznAagiZV2j6UHlkkocmOT5jgZpPb2yr2B5MNd1el1FT8DUZdbgqyeWT3DPJnhkLZx0rVGYVquosSe6U5EUujICtbeFz7+cZ4d8/ZYz4+vMkf5Vk/4w6lOp57+QWgr7Nlt+pqismeVKSa05fX9/dn5/Oza+YMYvnjEkuN51LKeVDkqSqdp9qlaaqnphxc+tiGTfCXpXkHd195Lqg+dHd/ZGNajPbpmnGxOEZpQ3v1N3fXVjA/ao5+aD58hmlV96T5Ka9boFugO2FkHnFquqsSe6bcXJrBXSWNo3sen5GsLxbkt0zpnR+Nclt1hZjEwiyavoVsBGq6nJJXpIxpfj4jPq635/+3a+7v7CBzWMbUVXn7e7vLrHf5TPOwe+S5KcZ5097Z9Q1/WmSG3f3MepSUlVnTHL/jNrwv5q2vTZjAbZ3JPldRhmDvTLW13n2FAzeJCMw/GyS+/ZYiBtOMF3P/ay7v7+wts7uSV6bLQfNl01yRHd/dWNaD3DqCZlPA0ZHMNc0uvQ8Sf4kyXEZIfPXphE8gkAAdihVdY6MepSXyaiD+pEk3+vuwzawWWwjquqiGWVVbtDdB0/b1i+etf7n6ye5bpLzJzk0Y+HkN01hj3MpUlX/mOR+Sc47hYH3zlhL545J3jP1lTMkeVOSP8uov3zQNODj5kleluQy3f2djfkN2F6s3dRaNmgG2N4JmWE74AQEANjZVNXFMsqF/ftiQDznvMi5FGuqat8kH0zyiu5+YFU9O2NhyMt29++qao/uPnqqt/y5jJHw11i7mTEt4nbkhv0CbFcEzcDOZJct7wJsNCceAMDOYqqlnO7+6hQw75HkU1X15Gn78dMCbZs7vqqq1r5fO2YrNJ3tww8yQuabV9XFk5wpY/2TsybJFDCfrruPTvLUJFdJcpmFPvebrd9ktldTwLzrVPv7VhmzK+6c5ElVtZf3JmBHImQGAAC2CVV1mSTvmsoSrDlPRtmMh1XVw5OTD5p7svb9adtitjfdfXiS5yU5X5IrZdRZPl+SGycnlGA5atr9TEl+luRHa2GgPsUptYmg+StJbpTkDBvbMoDV2m2jGwAAADD5TZLLJXlMVR3d3W/t7m9X1SOSHJYx+m+X7n7SWtBsJCDLWKvfPY1uf1+Styd5TEbY9+9Jnl9VRyR5a5JfV9V5MkYxfyNjMUCYbTForqrrJdm7u3+60e0CWCUhMwAAsOGmAOarVXXJjCnlT59qMb+xu79WVc9KUkmeUFURNHNyquqMSa7S3e9Mxgjktfq4SY6pqjck+cckl89Y+O+sSf4jyTuq6pdJzpFxw+Ma0+hnOFUWguZjk3xvo9sDsGoW/gMAADbcusX99k3yqSQfSvLc7n7jtP1iSR6S5O5JHtXdT562C5o5wTRa+Q1JbpLkzUne0t0v3sR+H80oIXnFjNIF90tyiyS7Jvlikqd395e2VrsBYHsmZAYAADbU2gjTqjpTktdnlCi4TUZN3M8meWx3v3nadzFofnR3P2naXurlsqaqzp/k+kkenWTvJJ9PcmCSd3T3t6d97pMxmvlvuvuV07Yzd/evqmqPafE/AGAJQmYAAGDDVdXpk3w0o/byk5McnuQSGSHgd5M8YjNB84O6+3kb0mi2eVX1h0lukNFXLpvkR0menlGT+dCMGxqf7O5bTfuv3fBw0wIATgEhMwAAsOGq6lZJXpDktt39noXtf5qxUNs3kjx+oXTGhZM8Lsm1k1y/uw/Z6o1mu1JVd89Y6O/mSX6Y5CVJzpbk75LctLvfsnGtA4Dt2y4b3QAAAICMOrhnS/KrZJS/mEaVfjbJA5JcOsnfVtWtk6S7v5Hk3RmLAdbGNJntwVSjOd39z939lxllNN6X5G8zAuYkuVFV7b5BTQSA7Z6QGQAA2Cqq6nQn8/Dh09fLJ8lUqmBtMb+vJTkiyXWS7F9Vu1TVrknOn7Fg289OmxazI1hf9qK735HkXkmukOSgjEUmn9/dx2xA8wBgh6BcBgAAcJqrqj9Lcr8kb+juNy1s3627j52+f32SKye5eXd/bGGfG2WMPn12ku9NNXNPl+R6Sb7W3V/eir8KO4C1mstVtUuSvbr7VxvdJgDYngmZAQCA01RVnT3J+5PsM216XZK3Jvm37j5+Yb9LJ3lZkj9K8oSMEaZnTvL4JD/t7v2n/Xbr7mMtzsapof8AwOoImQEAgNPUNFr0oCS3TfLGJFdMsneSzyR5bpIPdvc3p9q5F0/y1CQ3zKjT/PMk30pydeUMAAC2TUJmAADgNFNVu3T38VV1kSQfSvKqJA9L8sAkt0nyZxkh8rOTvLu7vzgdt1+Ssyc5JsmbpxIZJ5TWAABg2yFkBgAATnNVdZYkL82orXzV7j5kqqt8+yT3THKlJF9N8o6Mkcy/6O4j/397d8jaVRiFAfw5uiqY/SJisIhR/AIDwWZaWvAL+C1sxgkGw7pjyWAyK8jYyoIYdGNyFu5fXFNe2L1e+f3i5b5w6vtweN4r529298/5JwcA4E9uLD0AAADw/+vur0leJrmV5PHm21mSvSR3MvUvnyR5kuRLkmfJ1Ju7+VfADADwj7LJDAAAzKaq3iS5n6l7+UeS90m+J3mU5DxTV/PTJM9VYwAArINNZgAAYE77SW4n2UnyIVPAvN3dx9192t0fu3u3uy+qamvJQQEA+Ds2mQEAgGtXVdWby0dVHSa5l+Rdpq3lz+1iAgCwWjaZAQCAa9fd/atfOcmrJN+SHHT3JwEzAMC6CZkBAIBZXAmT32YKme8mvx/3AwBgnYTMAADArLr7KMmLJA+r6oFNZgCAdRMyAwAAS9hP8jpTLzMAACvm4T8AAGBRVbXV3RdLzwEAwBghMwAAAAAAw9RlAAAAAAAwTMgMAAAAAMAwITMAAAAAAMOEzAAAAAAADBMyAwAAAAAwTMgMAAAAAMAwITMAAAAAAMMuATnCFW32Pd9FAAAAAElFTkSuQmCC\n",
      "text/plain": [
       "<Figure size 1728x720 with 3 Axes>"
      ]
     },
     "metadata": {
      "needs_background": "light"
     },
     "output_type": "display_data"
    }
   ],
   "source": [
    "plt.figure(figsize=(10,5));\n",
    "msno.bar(yahoo);"
   ]
  },
  {
   "cell_type": "code",
<<<<<<< HEAD
   "execution_count": 20,
   "id": "occupational-antenna",
=======
   "execution_count": 21,
   "id": "chinese-research",
>>>>>>> parent of 9396477 (Check in multiple changes to the github)
   "metadata": {},
   "outputs": [
    {
     "data": {
      "text/plain": [
       "Date         832\n",
       "Open         624\n",
       "High         624\n",
       "Low          624\n",
       "Close        624\n",
       "Adj Close    624\n",
       "Volume       624\n",
       "Ticker       832\n",
       "Year         832\n",
       "dtype: int64"
      ]
     },
<<<<<<< HEAD
     "execution_count": 20,
=======
     "execution_count": 21,
>>>>>>> parent of 9396477 (Check in multiple changes to the github)
     "metadata": {},
     "output_type": "execute_result"
    }
   ],
   "source": [
    "yahoo.loc[(yahoo.Year == 2020), ].count()"
   ]
  },
  {
   "cell_type": "markdown",
<<<<<<< HEAD
   "id": "informal-decimal",
=======
   "id": "continuing-pittsburgh",
>>>>>>> parent of 9396477 (Check in multiple changes to the github)
   "metadata": {},
   "source": [
    "Similar as WRDS, we are missing data for 2020. We decided to drop this observations and just consider data from 2005 to 2019 for the pilot predictive model."
   ]
  },
  {
   "cell_type": "code",
<<<<<<< HEAD
   "execution_count": 21,
   "id": "changed-gauge",
=======
   "execution_count": 22,
   "id": "empty-oliver",
>>>>>>> parent of 9396477 (Check in multiple changes to the github)
   "metadata": {},
   "outputs": [
    {
     "name": "stdout",
     "output_type": "stream",
     "text": [
      "Now, we have 7956 rows.\n"
     ]
    }
   ],
   "source": [
    "yahoo = yahoo.loc[yahoo.Year < 2020, ]\n",
    "print(f'Now, we have {yahoo.shape[0]} rows.')"
   ]
  },
  {
   "cell_type": "code",
<<<<<<< HEAD
   "execution_count": 22,
   "id": "fourth-final",
=======
   "execution_count": 23,
   "id": "monthly-disney",
>>>>>>> parent of 9396477 (Check in multiple changes to the github)
   "metadata": {},
   "outputs": [
    {
     "data": {
      "text/html": [
       "<div>\n",
       "<style scoped>\n",
       "    .dataframe tbody tr th:only-of-type {\n",
       "        vertical-align: middle;\n",
       "    }\n",
       "\n",
       "    .dataframe tbody tr th {\n",
       "        vertical-align: top;\n",
       "    }\n",
       "\n",
       "    .dataframe thead th {\n",
       "        text-align: right;\n",
       "    }\n",
       "</style>\n",
       "<table border=\"1\" class=\"dataframe\">\n",
       "  <thead>\n",
       "    <tr style=\"text-align: right;\">\n",
       "      <th></th>\n",
       "      <th>count</th>\n",
       "      <th>mean</th>\n",
       "      <th>std</th>\n",
       "      <th>min</th>\n",
       "      <th>25%</th>\n",
       "      <th>50%</th>\n",
       "      <th>75%</th>\n",
       "      <th>max</th>\n",
       "    </tr>\n",
       "  </thead>\n",
       "  <tbody>\n",
       "    <tr>\n",
       "      <th>Open</th>\n",
       "      <td>5376.0</td>\n",
       "      <td>5.448980e+01</td>\n",
       "      <td>2.940537e+01</td>\n",
       "      <td>7.662083e+00</td>\n",
       "      <td>3.265750e+01</td>\n",
       "      <td>4.862000e+01</td>\n",
       "      <td>7.162750e+01</td>\n",
       "      <td>2.314100e+02</td>\n",
       "    </tr>\n",
       "    <tr>\n",
       "      <th>High</th>\n",
       "      <td>5376.0</td>\n",
       "      <td>5.718843e+01</td>\n",
       "      <td>3.085617e+01</td>\n",
       "      <td>7.972495e+00</td>\n",
       "      <td>3.436500e+01</td>\n",
       "      <td>5.116000e+01</td>\n",
       "      <td>7.521750e+01</td>\n",
       "      <td>2.346000e+02</td>\n",
       "    </tr>\n",
       "    <tr>\n",
       "      <th>Low</th>\n",
       "      <td>5376.0</td>\n",
       "      <td>5.161363e+01</td>\n",
       "      <td>2.789173e+01</td>\n",
       "      <td>6.520000e+00</td>\n",
       "      <td>3.074000e+01</td>\n",
       "      <td>4.601500e+01</td>\n",
       "      <td>6.808250e+01</td>\n",
       "      <td>2.169300e+02</td>\n",
       "    </tr>\n",
       "    <tr>\n",
       "      <th>Close</th>\n",
       "      <td>5376.0</td>\n",
       "      <td>5.466395e+01</td>\n",
       "      <td>2.945962e+01</td>\n",
       "      <td>7.909627e+00</td>\n",
       "      <td>3.271750e+01</td>\n",
       "      <td>4.882000e+01</td>\n",
       "      <td>7.200645e+01</td>\n",
       "      <td>2.298100e+02</td>\n",
       "    </tr>\n",
       "    <tr>\n",
       "      <th>Adj Close</th>\n",
       "      <td>5376.0</td>\n",
<<<<<<< HEAD
       "      <td>4.620175e+01</td>\n",
       "      <td>2.728622e+01</td>\n",
       "      <td>5.768222e+00</td>\n",
       "      <td>2.602521e+01</td>\n",
       "      <td>4.021421e+01</td>\n",
       "      <td>6.073644e+01</td>\n",
=======
       "      <td>4.621672e+01</td>\n",
       "      <td>2.728989e+01</td>\n",
       "      <td>5.768222e+00</td>\n",
       "      <td>2.602521e+01</td>\n",
       "      <td>4.021699e+01</td>\n",
       "      <td>6.073733e+01</td>\n",
>>>>>>> parent of 9396477 (Check in multiple changes to the github)
       "      <td>2.206342e+02</td>\n",
       "    </tr>\n",
       "    <tr>\n",
       "      <th>Volume</th>\n",
       "      <td>5376.0</td>\n",
       "      <td>9.203391e+07</td>\n",
       "      <td>7.833512e+07</td>\n",
       "      <td>2.455200e+06</td>\n",
       "      <td>3.919308e+07</td>\n",
       "      <td>7.202470e+07</td>\n",
       "      <td>1.200580e+08</td>\n",
       "      <td>1.509896e+09</td>\n",
       "    </tr>\n",
       "    <tr>\n",
       "      <th>Year</th>\n",
       "      <td>7956.0</td>\n",
       "      <td>2.014908e+03</td>\n",
       "      <td>2.529360e+00</td>\n",
       "      <td>2.011000e+03</td>\n",
       "      <td>2.013000e+03</td>\n",
       "      <td>2.015000e+03</td>\n",
       "      <td>2.017000e+03</td>\n",
       "      <td>2.019000e+03</td>\n",
       "    </tr>\n",
       "  </tbody>\n",
       "</table>\n",
       "</div>"
      ],
      "text/plain": [
       "            count          mean           std           min           25%  \\\n",
       "Open       5376.0  5.448980e+01  2.940537e+01  7.662083e+00  3.265750e+01   \n",
       "High       5376.0  5.718843e+01  3.085617e+01  7.972495e+00  3.436500e+01   \n",
       "Low        5376.0  5.161363e+01  2.789173e+01  6.520000e+00  3.074000e+01   \n",
       "Close      5376.0  5.466395e+01  2.945962e+01  7.909627e+00  3.271750e+01   \n",
<<<<<<< HEAD
       "Adj Close  5376.0  4.620175e+01  2.728622e+01  5.768222e+00  2.602521e+01   \n",
=======
       "Adj Close  5376.0  4.621672e+01  2.728989e+01  5.768222e+00  2.602521e+01   \n",
>>>>>>> parent of 9396477 (Check in multiple changes to the github)
       "Volume     5376.0  9.203391e+07  7.833512e+07  2.455200e+06  3.919308e+07   \n",
       "Year       7956.0  2.014908e+03  2.529360e+00  2.011000e+03  2.013000e+03   \n",
       "\n",
       "                    50%           75%           max  \n",
       "Open       4.862000e+01  7.162750e+01  2.314100e+02  \n",
       "High       5.116000e+01  7.521750e+01  2.346000e+02  \n",
       "Low        4.601500e+01  6.808250e+01  2.169300e+02  \n",
       "Close      4.882000e+01  7.200645e+01  2.298100e+02  \n",
<<<<<<< HEAD
       "Adj Close  4.021421e+01  6.073644e+01  2.206342e+02  \n",
=======
       "Adj Close  4.021699e+01  6.073733e+01  2.206342e+02  \n",
>>>>>>> parent of 9396477 (Check in multiple changes to the github)
       "Volume     7.202470e+07  1.200580e+08  1.509896e+09  \n",
       "Year       2.015000e+03  2.017000e+03  2.019000e+03  "
      ]
     },
<<<<<<< HEAD
     "execution_count": 22,
=======
     "execution_count": 23,
>>>>>>> parent of 9396477 (Check in multiple changes to the github)
     "metadata": {},
     "output_type": "execute_result"
    }
   ],
   "source": [
    "yahoo.describe().T"
   ]
  },
  {
   "cell_type": "code",
<<<<<<< HEAD
   "execution_count": 23,
   "id": "latin-stationery",
=======
   "execution_count": 24,
   "id": "norwegian-netherlands",
>>>>>>> parent of 9396477 (Check in multiple changes to the github)
   "metadata": {},
   "outputs": [
    {
     "data": {
<<<<<<< HEAD
      "image/png": "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\n",
=======
      "image/png": "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\n",
>>>>>>> parent of 9396477 (Check in multiple changes to the github)
      "text/plain": [
       "<Figure size 792x648 with 2 Axes>"
      ]
     },
     "metadata": {
      "needs_background": "light"
     },
     "output_type": "display_data"
    }
   ],
   "source": [
    "corr  = yahoo.corr()\n",
    "mask = np.triu(np.ones_like(corr, dtype=bool));\n",
    "f, ax = plt.subplots(figsize=(11, 9));\n",
    "cmap = sns.diverging_palette(230, 20, as_cmap=True);\n",
    "plt.title('Correlation Matrix');\n",
    "sns.heatmap(corr, mask=mask, cmap=cmap, center=0,\n",
    "            square=True, linewidths=.5, cbar_kws={\"shrink\": .5});"
   ]
  },
  {
   "cell_type": "code",
<<<<<<< HEAD
   "execution_count": 24,
   "id": "underlying-satisfaction",
=======
   "execution_count": 25,
   "id": "determined-recovery",
>>>>>>> parent of 9396477 (Check in multiple changes to the github)
   "metadata": {},
   "outputs": [
    {
     "data": {
      "text/html": [
       "<div>\n",
       "<style scoped>\n",
       "    .dataframe tbody tr th:only-of-type {\n",
       "        vertical-align: middle;\n",
       "    }\n",
       "\n",
       "    .dataframe tbody tr th {\n",
       "        vertical-align: top;\n",
       "    }\n",
       "\n",
       "    .dataframe thead th {\n",
       "        text-align: right;\n",
       "    }\n",
       "</style>\n",
       "<table border=\"1\" class=\"dataframe\">\n",
       "  <thead>\n",
       "    <tr style=\"text-align: right;\">\n",
       "      <th></th>\n",
       "      <th>Date</th>\n",
       "      <th>Open</th>\n",
       "      <th>High</th>\n",
       "      <th>Low</th>\n",
       "      <th>Close</th>\n",
       "      <th>Adj Close</th>\n",
       "      <th>Volume</th>\n",
       "      <th>Ticker</th>\n",
       "      <th>Year</th>\n",
       "    </tr>\n",
       "  </thead>\n",
       "  <tbody>\n",
       "    <tr>\n",
       "      <th>0</th>\n",
       "      <td>2011-05-01</td>\n",
       "      <td>29.389999</td>\n",
       "      <td>30.139999</td>\n",
       "      <td>28.690001</td>\n",
       "      <td>29.709999</td>\n",
       "      <td>20.642670</td>\n",
       "      <td>38584300.0</td>\n",
       "      <td>AEE</td>\n",
       "      <td>2011</td>\n",
       "    </tr>\n",
       "    <tr>\n",
       "      <th>1</th>\n",
       "      <td>2011-06-01</td>\n",
       "      <td>29.690001</td>\n",
       "      <td>29.740000</td>\n",
       "      <td>27.780001</td>\n",
       "      <td>28.840000</td>\n",
       "      <td>20.038185</td>\n",
       "      <td>37433000.0</td>\n",
       "      <td>AEE</td>\n",
       "      <td>2011</td>\n",
       "    </tr>\n",
       "    <tr>\n",
       "      <th>2</th>\n",
       "      <td>2011-06-17</td>\n",
       "      <td>NaN</td>\n",
       "      <td>NaN</td>\n",
       "      <td>NaN</td>\n",
       "      <td>NaN</td>\n",
       "      <td>NaN</td>\n",
       "      <td>NaN</td>\n",
       "      <td>AEE</td>\n",
       "      <td>2011</td>\n",
       "    </tr>\n",
       "    <tr>\n",
       "      <th>3</th>\n",
       "      <td>2011-07-01</td>\n",
       "      <td>28.910000</td>\n",
       "      <td>30.110001</td>\n",
       "      <td>28.260000</td>\n",
       "      <td>28.820000</td>\n",
       "      <td>20.293051</td>\n",
       "      <td>29894300.0</td>\n",
       "      <td>AEE</td>\n",
       "      <td>2011</td>\n",
       "    </tr>\n",
       "    <tr>\n",
       "      <th>4</th>\n",
       "      <td>2011-08-01</td>\n",
       "      <td>29.100000</td>\n",
       "      <td>30.330000</td>\n",
       "      <td>25.549999</td>\n",
       "      <td>30.260000</td>\n",
       "      <td>21.306995</td>\n",
       "      <td>71467000.0</td>\n",
       "      <td>AEE</td>\n",
       "      <td>2011</td>\n",
       "    </tr>\n",
       "  </tbody>\n",
       "</table>\n",
       "</div>"
      ],
      "text/plain": [
       "        Date       Open       High        Low      Close  Adj Close  \\\n",
       "0 2011-05-01  29.389999  30.139999  28.690001  29.709999  20.642670   \n",
       "1 2011-06-01  29.690001  29.740000  27.780001  28.840000  20.038185   \n",
       "2 2011-06-17        NaN        NaN        NaN        NaN        NaN   \n",
       "3 2011-07-01  28.910000  30.110001  28.260000  28.820000  20.293051   \n",
       "4 2011-08-01  29.100000  30.330000  25.549999  30.260000  21.306995   \n",
       "\n",
       "       Volume Ticker  Year  \n",
       "0  38584300.0    AEE  2011  \n",
       "1  37433000.0    AEE  2011  \n",
       "2         NaN    AEE  2011  \n",
       "3  29894300.0    AEE  2011  \n",
       "4  71467000.0    AEE  2011  "
      ]
     },
<<<<<<< HEAD
     "execution_count": 24,
=======
     "execution_count": 25,
>>>>>>> parent of 9396477 (Check in multiple changes to the github)
     "metadata": {},
     "output_type": "execute_result"
    }
   ],
   "source": [
    "df = yahoo.copy()\n",
    "df.head()"
   ]
  },
  {
   "cell_type": "code",
<<<<<<< HEAD
   "execution_count": 25,
   "id": "spanish-official",
=======
   "execution_count": 26,
   "id": "specific-carter",
>>>>>>> parent of 9396477 (Check in multiple changes to the github)
   "metadata": {},
   "outputs": [
    {
     "data": {
      "image/png": "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\n",
      "text/plain": [
       "<Figure size 720x360 with 1 Axes>"
      ]
     },
     "metadata": {
      "needs_background": "light"
     },
     "output_type": "display_data"
    }
   ],
   "source": [
    "company_byyear = df.groupby(by='Year')['Ticker'].count()\n",
    "plt.figure(figsize=(10,5));\n",
    "plt.title('Number of US companies by fiscal year');\n",
    "sns.countplot(x='fyear', data=stocks, palette='mako');\n",
    "plt.xlabel('Fiscal Year');"
   ]
  },
  {
   "cell_type": "markdown",
<<<<<<< HEAD
   "id": "theoretical-venue",
=======
   "id": "underlying-software",
>>>>>>> parent of 9396477 (Check in multiple changes to the github)
   "metadata": {},
   "source": [
    "As the WRDS dataset, we have observations from 2005 to 2019 and similar number of companies in each year. "
   ]
  },
  {
   "cell_type": "code",
<<<<<<< HEAD
   "execution_count": 26,
   "id": "careful-sydney",
=======
   "execution_count": 27,
   "id": "social-mentor",
>>>>>>> parent of 9396477 (Check in multiple changes to the github)
   "metadata": {},
   "outputs": [
    {
     "data": {
      "text/html": [
       "<div>\n",
       "<style scoped>\n",
       "    .dataframe tbody tr th:only-of-type {\n",
       "        vertical-align: middle;\n",
       "    }\n",
       "\n",
       "    .dataframe tbody tr th {\n",
       "        vertical-align: top;\n",
       "    }\n",
       "\n",
       "    .dataframe thead th {\n",
       "        text-align: right;\n",
       "    }\n",
       "</style>\n",
       "<table border=\"1\" class=\"dataframe\">\n",
       "  <thead>\n",
       "    <tr style=\"text-align: right;\">\n",
       "      <th></th>\n",
       "      <th>Ticker</th>\n",
       "      <th>Year</th>\n",
       "      <th>Adj Close</th>\n",
       "    </tr>\n",
       "  </thead>\n",
       "  <tbody>\n",
       "    <tr>\n",
       "      <th>0</th>\n",
       "      <td>PXD</td>\n",
       "      <td>2019</td>\n",
       "      <td>135.815427</td>\n",
       "    </tr>\n",
       "    <tr>\n",
       "      <th>1</th>\n",
       "      <td>SRE</td>\n",
       "      <td>2019</td>\n",
       "      <td>127.535081</td>\n",
       "    </tr>\n",
       "    <tr>\n",
       "      <th>2</th>\n",
       "      <td>DTE</td>\n",
       "      <td>2019</td>\n",
       "      <td>118.328105</td>\n",
       "    </tr>\n",
       "    <tr>\n",
       "      <th>3</th>\n",
       "      <td>AWK</td>\n",
       "      <td>2019</td>\n",
       "      <td>111.207476</td>\n",
       "    </tr>\n",
       "    <tr>\n",
       "      <th>4</th>\n",
       "      <td>CVX</td>\n",
       "      <td>2019</td>\n",
       "      <td>108.767006</td>\n",
       "    </tr>\n",
       "  </tbody>\n",
       "</table>\n",
       "</div>"
      ],
      "text/plain": [
       "  Ticker  Year   Adj Close\n",
       "0    PXD  2019  135.815427\n",
       "1    SRE  2019  127.535081\n",
       "2    DTE  2019  118.328105\n",
       "3    AWK  2019  111.207476\n",
       "4    CVX  2019  108.767006"
      ]
     },
<<<<<<< HEAD
     "execution_count": 26,
=======
     "execution_count": 27,
>>>>>>> parent of 9396477 (Check in multiple changes to the github)
     "metadata": {},
     "output_type": "execute_result"
    }
   ],
   "source": [
    "agg = df.loc[df.Year == 2019, ].groupby(['Ticker','Year'])[['Adj Close']].mean().sort_values(by='Adj Close', ascending=False).reset_index()[:5]\n",
    "agg"
   ]
  },
  {
   "cell_type": "code",
<<<<<<< HEAD
   "execution_count": 27,
   "id": "extra-brazilian",
=======
   "execution_count": 28,
   "id": "paperback-alliance",
>>>>>>> parent of 9396477 (Check in multiple changes to the github)
   "metadata": {},
   "outputs": [
    {
     "data": {
      "image/png": "iVBORw0KGgoAAAANSUhEUgAAAmQAAAE9CAYAAACleH4eAAAAOXRFWHRTb2Z0d2FyZQBNYXRwbG90bGliIHZlcnNpb24zLjMuNCwgaHR0cHM6Ly9tYXRwbG90bGliLm9yZy8QVMy6AAAACXBIWXMAAAsTAAALEwEAmpwYAAAYuklEQVR4nO3de5RlZX3m8e8DrQZEA0iJDA02IgMSlVurIF64mAgJCWgIQhhFxenlCCqREVDiYFy6oqASNUJWK2rjIIiggSQMggioDCINcge1QS7NgDTxingDfvPH2Y2Hprq67Opz3qo6389atWrvd7/77F9x6Krn7Pfde6eqkCRJUjtrtS5AkiRp1BnIJEmSGjOQSZIkNWYgkyRJasxAJkmS1JiBTJIkqbE5rQuYio022qjmzZvXugxJkqRVuuqqq+6vqrHxtg0skCX5DLAPcF9VPXeFbUcCHwbGqur+JAE+Bvw58CDw+qq6elXHmDdvHosXL17zxUuSJK1hSe5Y2bZBDll+DthrnGI2A/4MuLOveW9gq+5rAXDyAOuSJEmaVgYWyKrqG8CPx9l0InAU0P+IgH2BU6vn28D6STYZVG2SJEnTyVAn9SfZF7i7qq5dYdOmwF1960u7NkmSpFlvaJP6k6wLvJvecOVUXmcBvWFNNt988zVQmSRJUlvDPEO2JbAFcG2S24G5wNVJngHcDWzW13du1/Y4VbWwquZX1fyxsXEvVJAkSZpRhhbIqur6qnp6Vc2rqnn0hiV3rKp7gXOB16VnZ+BnVXXPsGqTJElqaWCBLMnpwOXA1kmWJjl0gu7nAbcBS4BPAW8ZVF2SJEnTzcDmkFXVQavYPq9vuYDDBlWLJEnSdOajkyRJkhozkEmSJDVmIJMkSWpsRj9c/A+x0ztPbV3CSLjqhNe1LkGSpBnHM2SSJEmNGcgkSZIaM5BJkiQ1ZiCTJElqzEAmSZLUmIFMkiSpMQOZJElSYwYySZKkxgxkkiRJjRnIJEmSGjOQSZIkNWYgkyRJasxAJkmS1JiBTJIkqTEDmSRJUmNzWhcgTcad73te6xJmvc3/1/WtS5CkkeUZMkmSpMYMZJIkSY0ZyCRJkhozkEmSJDVmIJMkSWrMQCZJktSYgUySJKkxA5kkSVJjBjJJkqTGBhbIknwmyX1JbuhrOyHJLUmuS/KVJOv3bXtXkiVJvpfklYOqS5IkaboZ5BmyzwF7rdB2IfDcqno+8H3gXQBJtgUOBP6k2+ekJGsPsDZJkqRpY2CBrKq+Afx4hbYLquqhbvXbwNxueV/gjKr6TVX9EFgCvHBQtUmSJE0nLeeQvRH4P93ypsBdfduWdm2SJEmzXpNAluRY4CHgtNXYd0GSxUkWL1u2bM0XJ0mSNGRDD2RJXg/sAxxcVdU13w1s1tdtbtf2OFW1sKrmV9X8sbGxgdYqSZI0DEMNZEn2Ao4C/qqqHuzbdC5wYJInJdkC2Ar4zjBrkyRJamXOoF44yenAbsBGSZYCx9G7qvJJwIVJAL5dVW+uqhuTnAncRG8o87CqenhQtUkarl0/sWvrEma9y956WesSJE3BwAJZVR00TvMpE/T/APCBQdUjSZI0XXmnfkmSpMYMZJIkSY0ZyCRJkhozkEmSJDVmIJMkSWrMQCZJktSYgUySJKkxA5kkSVJjBjJJkqTGDGSSJEmNGcgkSZIaM5BJkiQ1NrCHi0uSZr5LX/by1iXMei//xqWtS9A04BkySZKkxgxkkiRJjRnIJEmSGnMOmSRJs9Q/H/lvrUuY9Q7/yF+ukdfxDJkkSVJjBjJJkqTGDGSSJEmNGcgkSZIaM5BJkiQ1ZiCTJElqzEAmSZLUmIFMkiSpMQOZJElSYwYySZKkxgxkkiRJjRnIJEmSGhtYIEvymST3Jbmhr23DJBcm+UH3fYOuPUk+nmRJkuuS7DiouiRJkqabQZ4h+xyw1wptxwAXVdVWwEXdOsDewFbd1wLg5AHWJUmSNK0MLJBV1TeAH6/QvC+wqFteBOzX135q9XwbWD/JJoOqTZIkaToZ9hyyjavqnm75XmDjbnlT4K6+fku7NkmSpFmv2aT+qiqg/tD9kixIsjjJ4mXLlg2gMkmSpOEadiD70fKhyO77fV373cBmff3mdm2PU1ULq2p+Vc0fGxsbaLGSJEnDMOxAdi5wSLd8CHBOX/vruqstdwZ+1je0KUmSNKvNGdQLJzkd2A3YKMlS4Djgg8CZSQ4F7gAO6LqfB/w5sAR4EHjDoOqSJEmabgYWyKrqoJVs2nOcvgUcNqhaJEmSpjPv1C9JktSYgUySJKkxA5kkSVJjBjJJkqTGDGSSJEmNGcgkSZIaM5BJkiQ1ZiCTJElqzEAmSZLUmIFMkiSpMQOZJElSYwYySZKkxgxkkiRJjRnIJEmSGjOQSZIkNWYgkyRJasxAJkmS1JiBTJIkqTEDmSRJUmMGMkmSpMYMZJIkSY0ZyCRJkhozkEmSJDVmIJMkSWrMQCZJktSYgUySJKkxA5kkSVJjBjJJkqTGVhnIkqyb5D1JPtWtb5Vkn8GXJkmSNBomc4bss8BvgF269buB9w+sIkmSpBEzmUC2ZVUdD/wOoKoeBDKVgyb5uyQ3JrkhyelJ/ijJFkmuSLIkyReTPHEqx5AkSZopJhPIfptkHaAAkmxJ74zZakmyKfA2YH5VPRdYGzgQ+BBwYlU9G/gJcOjqHkOSJGkmmUwgOw44H9gsyWnARcBRUzzuHGCdJHOAdYF7gD2As7rti4D9pngMSZKkGWHOqjpU1YVJrgZ2pjdU+faqun91D1hVdyf5MHAn8CvgAuAq4KdV9VDXbSmw6Xj7J1kALADYfPPNV7cMSZKkaWMyV1nuCvy6qv4DWB94d5Jnru4Bk2wA7AtsAfwX4MnAXpPdv6oWVtX8qpo/Nja2umVIkiRNG5MZsjwZeDDJdsA7gFuBU6dwzFcAP6yqZVX1O+DLwK7A+t0QJsBceldzSpIkzXqTCWQPVVXRO6v1yar6JPCUKRzzTmDn7v5mAfYEbgIuBvbv+hwCnDOFY0iSJM0Ykwlkv0jyLuC1wH8kWQt4wuoesKquoDd5/2rg+q6GhcDRwDuSLAGeBpyyuseQJEmaSVY5qR94DfC3wBur6t4kmwMnTOWgVXUcvas3+90GvHAqrytJkjQTrfIMWVXdC5wG/HH3yKRfV9VU5pBJkiSpz2SusjwA+A7wN8ABwBVJ9p94L0mSJE3WZIYsjwVeUFX3ASQZA77G72/iKkmSpCmYzKT+tZaHsc5/TnI/SZIkTcJkzpCdn+SrwOnd+muA8wZXkiRJ0miZzKOT3pnkr+ndvBVgYVV9ZbBlSZIkjY7JnCGjqs4Gzh5wLZIkSSNppYEsyS+AGm8TUFX11IFVJUmSNEJWGsiqaiqPR5IkSdIkrfRqySQvSLL3OO17J9lpsGVJkiSNjoluX/Eheg/9XtFNTPHRSZIkSfq9iQLZU6rqjhUbu7aNBleSJEnSaJkokG0wwbZ113QhkiRJo2qiQPa1JB9IkuUN6Xkf8PXBlyZJkjQaJroP2ZHAp4ElSa7p2rYDFgNvGnBdkiRJI2Oi2178EjgoybOAP+mab6yq24ZSmSRJ0oiYzKOTbgMMYZIkSQMy0RwySZIkDYGBTJIkqbGJnmX51Kr6eZINx9lcwM+r6uHBlSZJkjQaJppD9gVgH+AqegEsK2xfL8mnqurdgypOkiRpFEx0leU+3fctxtueZG3gBsBAJkmSNAUTDVnuONGOVXU18Jw1XpEkSdKImWjI8iPd9z8C5gPX0hu2fD69m8PuMtjSJEmSRsNKr7Ksqt2ranfgHmDHqppfVTsBOwB3D6tASZKk2W4yt73YuqquX75SVTfgUKUkSdIas8o79QPXJfk08L+79YOB6wZXkiRJ0miZTCB7A/A/gLd365cCJw+sIkmSpBGzyiHLqvp1VZ1YVa+qqlfRuy/ZRwdfmiRJ0miY1KOTkuyQ5PgktwPvA26ZykGTrJ/krCS3JLk5yS5JNkxyYZIfdN83mMoxJEmSZoqVBrIk/zXJcUluAT4B3AWku/ryE1M87seA86tqG2A74GbgGOCiqtoKuKhblyRJmvUmOkN2C7AHsE9VvaQLYVN+dmWSPwZeBpwCUFW/raqfAvsCi7pui4D9pnosSZKkmWCiQPZqevcguzjJp5LsyeOfZ7k6tgCWAZ9N8t0kn07yZGDjqrqn63MvsPF4OydZkGRxksXLli1bA+VIkiS1NdGNYf+1qg4EtgEuBo4Anp7k5CR/NoVjzgF2BE6uqh2AX7LC8GRVFb0Hmo9X18LuJrXzx8bGplCGJEnS9DCZqyx/WVVfqKq/BOYC3wWOnsIxlwJLq+qKbv0segHtR0k2Aei+3zeFY0iSJM0Yk7rKcrmq+kl3hmrP1T1gVd0L3JVk665pT+Am4FzgkK7tEOCc1T2GJEnSTDKZG8MOwluB05I8EbiN3s1n1wLOTHIocAdwQKPaJEmShqpJIKuqa4D542xa7TNvkiRJM9UfNGQpSZKkNc9AJkmS1JiBTJIkqTEDmSRJUmMGMkmSpMYMZJIkSY0ZyCRJkhozkEmSJDVmIJMkSWrMQCZJktSYgUySJKkxA5kkSVJjBjJJkqTGDGSSJEmNGcgkSZIaM5BJkiQ1ZiCTJElqzEAmSZLUmIFMkiSpMQOZJElSYwYySZKkxgxkkiRJjRnIJEmSGjOQSZIkNWYgkyRJasxAJkmS1JiBTJIkqTEDmSRJUmMGMkmSpMaaBbIkayf5bpJ/79a3SHJFkiVJvpjkia1qkyRJGqaWZ8jeDtzct/4h4MSqejbwE+DQJlVJkiQNWZNAlmQu8BfAp7v1AHsAZ3VdFgH7tahNkiRp2FqdIfsn4CjgkW79acBPq+qhbn0psGmDuiRJkoZu6IEsyT7AfVV11WruvyDJ4iSLly1btoarkyRJGr4WZ8h2Bf4qye3AGfSGKj8GrJ9kTtdnLnD3eDtX1cKqml9V88fGxoZRryRJ0kANPZBV1buqam5VzQMOBL5eVQcDFwP7d90OAc4Zdm2SJEktTKf7kB0NvCPJEnpzyk5pXI8kSdJQzFl1l8GpqkuAS7rl24AXtqxHkiSphel0hkySJGkkGcgkSZIaM5BJkiQ1ZiCTJElqzEAmSZLUmIFMkiSpMQOZJElSYwYySZKkxgxkkiRJjRnIJEmSGjOQSZIkNWYgkyRJasxAJkmS1JiBTJIkqTEDmSRJUmMGMkmSpMYMZJIkSY0ZyCRJkhozkEmSJDVmIJMkSWrMQCZJktSYgUySJKkxA5kkSVJjBjJJkqTGDGSSJEmNGcgkSZIaM5BJkiQ1ZiCTJElqzEAmSZLU2NADWZLNklyc5KYkNyZ5e9e+YZILk/yg+77BsGuTJElqocUZsoeAI6tqW2Bn4LAk2wLHABdV1VbARd26JEnSrDf0QFZV91TV1d3yL4CbgU2BfYFFXbdFwH7Drk2SJKmFpnPIkswDdgCuADauqnu6TfcCG7eqS5IkaZiaBbIk6wFnA0dU1c/7t1VVAbWS/RYkWZxk8bJly4ZQqSRJ0mA1CWRJnkAvjJ1WVV/umn+UZJNu+ybAfePtW1ULq2p+Vc0fGxsbTsGSJEkD1OIqywCnADdX1Uf7Np0LHNItHwKcM+zaJEmSWpjT4Ji7Aq8Frk9yTdf2buCDwJlJDgXuAA5oUJskSdLQDT2QVdW3gKxk857DrEWSJGk68E79kiRJjRnIJEmSGjOQSZIkNWYgkyRJasxAJkmS1JiBTJIkqTEDmSRJUmMGMkmSpMYMZJIkSY0ZyCRJkhozkEmSJDVmIJMkSWrMQCZJktSYgUySJKkxA5kkSVJjBjJJkqTGDGSSJEmNGcgkSZIaM5BJkiQ1ZiCTJElqzEAmSZLUmIFMkiSpMQOZJElSYwYySZKkxgxkkiRJjRnIJEmSGjOQSZIkNWYgkyRJasxAJkmS1Ni0C2RJ9kryvSRLkhzTuh5JkqRBm1aBLMnawCeBvYFtgYOSbNu2KkmSpMGaVoEMeCGwpKpuq6rfAmcA+zauSZIkaaCmWyDbFLirb31p1yZJkjRrpapa1/CoJPsDe1XVm7r11wIvqqrD+/osABZ0q1sD3xt6ocOzEXB/6yK02nz/Zi7fu5nN92/mmu3v3TOramy8DXOGXckq3A1s1rc+t2t7VFUtBBYOs6hWkiyuqvmt69Dq8f2buXzvZjbfv5lrlN+76TZkeSWwVZItkjwROBA4t3FNkiRJAzWtzpBV1UNJDge+CqwNfKaqbmxcliRJ0kBNq0AGUFXnAee1rmOaGImh2VnM92/m8r2b2Xz/Zq6Rfe+m1aR+SZKkUTTd5pBJkiSNHANZI0keTnJNkhuSfCnJukk2S/LDJBt2fTbo1ud1X79K8t0kNyf5TpLXN/4xRlqSY5PcmOS67r18UZJLukd/XZvkyiTb9/W/Pcn1Xd9rkny8Yfkjq+/f3o3d+3RkkrWSvLLvvXmgex+vSXJqkt2S/Kxv+zVJXtH6ZxlFSfZLUkm2SbJdkmv6th3U/Z58Qrf+vCTXdcuXJJnfLW+R5AdJXtnkhxhhSZ6R5Iwktya5Ksl5SR5JsvUK/f4pydFJXp3kor72l3T//qbdlKupmnU/0Azyq6raHiDJacCbq+qjSU4GPkjvXmsfBBZW1e1J5gG3VtUO3T7PAr6cJFX12SY/wQhLsguwD7BjVf0myUbAE7vNB1fV4iRvAE4A/rRv192rajbfY2cm6P+393TgC8BTq+o4ehcUkeQS4H9W1eJufTfgm1W1T4N69VgHAd/qvv8DsHmSp1TVL4AXAzcDOwDf6db/b//OSeYC5wNHVtVXh1n4qEsS4CvAoqo6sGvbDliH3l0V/qFrWwvYH9i1qu5I8qYkfwt8CTiJ3t/Lh1r8DIPkGbLp4ZvAs7vlE4GdkxwBvAT48Hg7VNVtwDuAtw2jQD3OJsD9VfUbgKq6v6r+3wp9LscnTUxrVXUfvQ8/h3d/LDSNJVmP3u/FQ4EDq+oRYDHwoq7LTvSeh/zibv3FwGV9L7EJcAFwbFV5S6Xh2x34XVX9y/KGqrqW3t+x1/T1exlwR1Xd0a0fDrwfeC9wZVU9JmTPFgayxrrTrnsD1wNU1e+Ad9ILZkd06ytzNbDNwIvUeC4ANkvy/SQnJXn5OH32Av51hbaL+4a8/m7gVWqVug83awNPX0XXl64wZLnlEMrTY+0LnF9V3wf+M8lO9ALXi5M8GXgEuITHBrL+P96LgH+uqrOGV7L6PBe4asXGqroeeKQ7Wwa9s2Wn922/DfgivWB29BDqbMIhy3bW6Zv78E3glL5tewP30Puf98IJXsNP9I1U1QPdH4OX0vvU98Ukx3SbT0vvxsbrAduvsKtDljOXQ5btHQR8rFs+o1v/KnAkvd+jV1bVrUmenWQMWK+qbu3b/2vAf0vyuap6cJiFa5VOBw5MciOwH3Dc8g1J1qY39eMB4JnM0kcrGcjaeXQeS79uEvifAjsD30pyRlXds5LX2IHefAk1UFUP0/s0fkmS64FDuk0H0/sUeALwCeDVTQrUpHTzMR8G7mtdi1YuvYud9gCel6TondUsevOOXgDsSm+aAMBSemdZLl/hZY4HXgt8Kcm+s3Ee0jR3I725YeM5g97Iw6XAdVX1o75tb6E3ivT3wCeT7FKz8J5dDllOI90clpPpDVXeSe8P+rhzyLpJ/h+m9wdfQ5Zk6yRb9TVtDyyf70D3y+I99OYDOqw8TXVnUf6F3jDWrPsFP8vsD3y+qp5ZVfOqajPgh/Q+mN4FvIHfB7DLgSN47Pyx5Y4Afg6c4rzBofs68KQkC5Y3JHl+kpd2ZzLvp3cx2+l9259Bb770UVV1Pr3nW79puGUPh4FsevnvwJ1VtXyY8iTgOX3zk7ZMd9sL4Ezg415h2cx6wKIkN3WX1W9Lb8Lpo6rqV8BH6M0JXK5/DtmpQ6tW/dZZftsLekNYF9Bd3bUKK84hW9knfQ3GQfSu0Ot3dtd+GfCkqrqra78ceBYrXGEJj35YOoTeBP/jB1atHqf7b/8q4BXdbS9uBP4RuLfrcjq9edFf7tvto8DxVbWsWz8COLY7YzqreKd+SZKkxjxDJkmS1JiBTJIkqTEDmSRJUmMGMkmSpMYMZJIkSY0ZyCTNSkme1neLinuT3N0tP5DkpFXs+8Cw6pQk8LYXkkZAkvcCD1TVuDdaHqf/A1W13mocZ453f5e0OjxDJmmkJNktyb93y+sl+WyS65Ncl+SvV+i7UZLLk/xFkrEkZye5svvatevz3iSfT3IZ8PkGP5KkWcBnWUoaZe8BflZVzwNIssHyDUk2Bs4F/r6qLkzyBeDEqvpWks3pPdT6OV33bYGXdE9nkKQ/mIFM0ih7Bb2HUANQVT/pFp8AXAQcVlWX9vXdtu/xh09NsnxY81zDmKSpMJBJ0uM9BFwFvBJYHsjWAnauql/3d+wC2i+HWp2kWcc5ZJJG2YXAYctX+oYsC3gjsE2So7u2C4C39vXdfkg1ShoBBjJJo+z9wAZJbkhyLbD78g1V9TBwELBHkrcAbwPmd5P/bwLe3KRiSbOSt72QJElqzDNkkiRJjRnIJEmSGjOQSZIkNWYgkyRJasxAJkmS1JiBTJIkqTEDmSRJUmMGMkmSpMb+Py18APzRK8FnAAAAAElFTkSuQmCC\n",
      "text/plain": [
       "<Figure size 720x360 with 1 Axes>"
      ]
     },
     "metadata": {
      "needs_background": "light"
     },
     "output_type": "display_data"
    }
   ],
   "source": [
    "plt.figure(figsize=(10,5));\n",
    "sns.barplot(x='Ticker',y='Adj Close', data=agg);"
   ]
  },
  {
   "cell_type": "markdown",
<<<<<<< HEAD
   "id": "trained-california",
=======
   "id": "technological-combining",
>>>>>>> parent of 9396477 (Check in multiple changes to the github)
   "metadata": {},
   "source": [
    "The visualization presents the top 5 companies with the hightest Average Adjusted Closing price for 2019. Let's remember that the adjusted closing price reflects that stock's value after accounting for any corporate actions. It seems the PXD had a good year, let's see the time series for this specific company. "
   ]
  },
  {
   "cell_type": "code",
<<<<<<< HEAD
   "execution_count": 28,
   "id": "herbal-delay",
=======
   "execution_count": 29,
   "id": "soviet-jungle",
>>>>>>> parent of 9396477 (Check in multiple changes to the github)
   "metadata": {},
   "outputs": [
    {
     "data": {
      "image/png": "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\n",
      "text/plain": [
       "<Figure size 1440x360 with 2 Axes>"
      ]
     },
     "metadata": {
      "needs_background": "light"
     },
     "output_type": "display_data"
    }
   ],
   "source": [
    "pxd_df = df.loc[(df.Year == 2019) & (df.Ticker =='PXD'), ]\n",
    "pxd_melt = pd.melt(pxd_df, id_vars=['Date'], value_vars=['Adj Close','Close','Open'])\n",
    "cvx_df = df.loc[(df.Year == 2019) & (df.Ticker =='CVX'), ]\n",
    "cvx_df = pd.melt(cvx_df, id_vars=['Date'], value_vars=['Adj Close','Close','Open'])\n",
    "\n",
    "fig, axs = plt.subplots(1,2, figsize=(20,5));\n",
    "fig.suptitle('2019 - Stock Price time series');\n",
    "sns.lineplot(x='Date',y='value', ax=axs[0], hue='variable', data = pxd_melt, palette='Paired');\n",
    "axs[0].set_title('PXD');\n",
    "sns.lineplot(x='Date',y='value', ax=axs[1], hue='variable', data = cvx_df, palette='Paired');\n",
    "axs[1].set_title('CVX');"
   ]
  },
  {
   "cell_type": "markdown",
<<<<<<< HEAD
   "id": "wicked-brook",
=======
   "id": "imposed-threshold",
>>>>>>> parent of 9396477 (Check in multiple changes to the github)
   "metadata": {},
   "source": [
    "As expected, PXD stock have higher prices. Also, we can notice PXD Open,Close and Adjusted Close stock prices didn't vary too much throughout the year. However, CVX Adjusted closing price is very different from the Open and Close price. Another interesting point is the stock price decrease around August and September 2019.\n",
    "\n",
    "\n",
    "We will know explore the Volume variable. This variable measures the number of stocks shares that are treated on a stock exchange in each day. The volume is important because it confirms trend directions. "
   ]
  },
  {
   "cell_type": "code",
<<<<<<< HEAD
   "execution_count": 29,
   "id": "clinical-lounge",
=======
   "execution_count": 30,
   "id": "critical-durham",
>>>>>>> parent of 9396477 (Check in multiple changes to the github)
   "metadata": {},
   "outputs": [
    {
     "data": {
      "text/html": [
       "<div>\n",
       "<style scoped>\n",
       "    .dataframe tbody tr th:only-of-type {\n",
       "        vertical-align: middle;\n",
       "    }\n",
       "\n",
       "    .dataframe tbody tr th {\n",
       "        vertical-align: top;\n",
       "    }\n",
       "\n",
       "    .dataframe thead th {\n",
       "        text-align: right;\n",
       "    }\n",
       "</style>\n",
       "<table border=\"1\" class=\"dataframe\">\n",
       "  <thead>\n",
       "    <tr style=\"text-align: right;\">\n",
       "      <th></th>\n",
       "      <th>Ticker</th>\n",
       "      <th>Year</th>\n",
       "      <th>Open</th>\n",
       "      <th>High</th>\n",
       "      <th>Low</th>\n",
       "      <th>Close</th>\n",
       "      <th>Adj Close</th>\n",
       "      <th>Volume</th>\n",
       "    </tr>\n",
       "  </thead>\n",
       "  <tbody>\n",
       "    <tr>\n",
       "      <th>0</th>\n",
       "      <td>XOM</td>\n",
       "      <td>2019</td>\n",
       "      <td>73.365833</td>\n",
       "      <td>76.558334</td>\n",
       "      <td>70.708333</td>\n",
       "      <td>73.309999</td>\n",
       "      <td>65.021565</td>\n",
       "      <td>2.440118e+08</td>\n",
       "    </tr>\n",
       "    <tr>\n",
       "      <th>1</th>\n",
       "      <td>XOM</td>\n",
       "      <td>2018</td>\n",
       "      <td>80.738333</td>\n",
       "      <td>84.067500</td>\n",
       "      <td>75.790001</td>\n",
       "      <td>79.453334</td>\n",
       "      <td>67.531067</td>\n",
       "      <td>2.852170e+08</td>\n",
       "    </tr>\n",
       "    <tr>\n",
       "      <th>2</th>\n",
       "      <td>XOM</td>\n",
       "      <td>2017</td>\n",
       "      <td>82.165834</td>\n",
       "      <td>84.060000</td>\n",
       "      <td>79.858334</td>\n",
       "      <td>81.560834</td>\n",
       "      <td>66.692167</td>\n",
       "      <td>2.290612e+08</td>\n",
       "    </tr>\n",
       "    <tr>\n",
       "      <th>3</th>\n",
       "      <td>XOM</td>\n",
       "      <td>2016</td>\n",
       "      <td>85.030834</td>\n",
       "      <td>88.872501</td>\n",
       "      <td>82.381667</td>\n",
       "      <td>86.416666</td>\n",
       "      <td>68.194452</td>\n",
       "      <td>2.605764e+08</td>\n",
       "    </tr>\n",
       "    <tr>\n",
       "      <th>4</th>\n",
       "      <td>XOM</td>\n",
       "      <td>2015</td>\n",
       "      <td>83.481666</td>\n",
       "      <td>85.957499</td>\n",
       "      <td>79.109167</td>\n",
       "      <td>82.323332</td>\n",
       "      <td>62.696157</td>\n",
       "      <td>2.958736e+08</td>\n",
       "    </tr>\n",
       "    <tr>\n",
       "      <th>...</th>\n",
       "      <td>...</td>\n",
       "      <td>...</td>\n",
       "      <td>...</td>\n",
       "      <td>...</td>\n",
       "      <td>...</td>\n",
       "      <td>...</td>\n",
       "      <td>...</td>\n",
       "      <td>...</td>\n",
       "    </tr>\n",
       "    <tr>\n",
       "      <th>255</th>\n",
       "      <td>AEE</td>\n",
       "      <td>2019</td>\n",
       "      <td>73.735833</td>\n",
       "      <td>76.269166</td>\n",
       "      <td>71.601666</td>\n",
       "      <td>74.755833</td>\n",
       "      <td>71.727886</td>\n",
       "      <td>3.115070e+07</td>\n",
       "    </tr>\n",
       "    <tr>\n",
       "      <th>256</th>\n",
       "      <td>AEE</td>\n",
       "      <td>2018</td>\n",
       "      <td>60.576667</td>\n",
       "      <td>62.927500</td>\n",
       "      <td>58.021667</td>\n",
       "      <td>61.096667</td>\n",
       "      <td>57.032574</td>\n",
       "      <td>3.324740e+07</td>\n",
       "    </tr>\n",
       "    <tr>\n",
       "      <th>257</th>\n",
       "      <td>AEE</td>\n",
       "      <td>2017</td>\n",
       "      <td>56.704167</td>\n",
       "      <td>58.711667</td>\n",
       "      <td>55.271667</td>\n",
       "      <td>57.242500</td>\n",
       "      <td>51.806093</td>\n",
       "      <td>2.950146e+07</td>\n",
       "    </tr>\n",
       "    <tr>\n",
       "      <th>258</th>\n",
       "      <td>AEE</td>\n",
       "      <td>2016</td>\n",
       "      <td>48.831667</td>\n",
       "      <td>50.909167</td>\n",
       "      <td>46.895834</td>\n",
       "      <td>49.639166</td>\n",
       "      <td>43.425726</td>\n",
       "      <td>3.711812e+07</td>\n",
       "    </tr>\n",
       "    <tr>\n",
       "      <th>259</th>\n",
       "      <td>AEE</td>\n",
       "      <td>2015</td>\n",
       "      <td>42.164166</td>\n",
       "      <td>43.512500</td>\n",
       "      <td>40.326667</td>\n",
       "      <td>41.920833</td>\n",
       "      <td>35.269259</td>\n",
       "      <td>3.499223e+07</td>\n",
       "    </tr>\n",
       "  </tbody>\n",
       "</table>\n",
       "<p>260 rows × 8 columns</p>\n",
       "</div>"
      ],
      "text/plain": [
       "    Ticker  Year       Open       High        Low      Close  Adj Close  \\\n",
       "0      XOM  2019  73.365833  76.558334  70.708333  73.309999  65.021565   \n",
       "1      XOM  2018  80.738333  84.067500  75.790001  79.453334  67.531067   \n",
       "2      XOM  2017  82.165834  84.060000  79.858334  81.560834  66.692167   \n",
       "3      XOM  2016  85.030834  88.872501  82.381667  86.416666  68.194452   \n",
       "4      XOM  2015  83.481666  85.957499  79.109167  82.323332  62.696157   \n",
       "..     ...   ...        ...        ...        ...        ...        ...   \n",
       "255    AEE  2019  73.735833  76.269166  71.601666  74.755833  71.727886   \n",
       "256    AEE  2018  60.576667  62.927500  58.021667  61.096667  57.032574   \n",
       "257    AEE  2017  56.704167  58.711667  55.271667  57.242500  51.806093   \n",
       "258    AEE  2016  48.831667  50.909167  46.895834  49.639166  43.425726   \n",
       "259    AEE  2015  42.164166  43.512500  40.326667  41.920833  35.269259   \n",
       "\n",
       "           Volume  \n",
       "0    2.440118e+08  \n",
       "1    2.852170e+08  \n",
       "2    2.290612e+08  \n",
       "3    2.605764e+08  \n",
       "4    2.958736e+08  \n",
       "..            ...  \n",
       "255  3.115070e+07  \n",
       "256  3.324740e+07  \n",
       "257  2.950146e+07  \n",
       "258  3.711812e+07  \n",
       "259  3.499223e+07  \n",
       "\n",
       "[260 rows x 8 columns]"
      ]
     },
<<<<<<< HEAD
     "execution_count": 29,
=======
     "execution_count": 30,
>>>>>>> parent of 9396477 (Check in multiple changes to the github)
     "metadata": {},
     "output_type": "execute_result"
    }
   ],
   "source": [
    "df_vol = df.loc[(df.Year <= 2019) & (df.Year >= 2015),].groupby(['Ticker','Year']).mean().sort_values(by=['Ticker','Year', 'Volume'], ascending=False).reset_index()\n",
    "df_vol"
   ]
  },
  {
   "cell_type": "code",
<<<<<<< HEAD
   "execution_count": 30,
   "id": "enhanced-preliminary",
=======
   "execution_count": 31,
   "id": "consolidated-auckland",
>>>>>>> parent of 9396477 (Check in multiple changes to the github)
   "metadata": {},
   "outputs": [
    {
     "data": {
      "image/png": "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\n",
      "text/plain": [
       "<Figure size 1440x360 with 4 Axes>"
      ]
     },
     "metadata": {
      "needs_background": "light"
     },
     "output_type": "display_data"
    }
   ],
   "source": [
    "fig, axs = plt.subplots(1,4, figsize=(20,5));\n",
    "fig.suptitle('Density distribution (2015 - 2019)');\n",
    "sns.distplot(df_vol.Open, ax=axs[0], color='b', bins = 40);\n",
    "axs[0].set_title('Stock Open Price');\n",
    "sns.distplot(df_vol.High, ax=axs[1], color='g', bins = 40);\n",
    "axs[1].set_title('Stock High Price');\n",
    "sns.distplot(df_vol.Low, ax=axs[2], color='r', bins = 40);\n",
    "axs[2].set_title('Stock Low Price');\n",
    "sns.distplot(df_vol.Volume, ax=axs[3], color='y', bins = 40);\n",
    "axs[3].set_title('Stock Volume');"
   ]
  },
  {
   "cell_type": "code",
<<<<<<< HEAD
   "execution_count": 31,
   "id": "mathematical-crime",
=======
   "execution_count": 32,
   "id": "editorial-thomas",
>>>>>>> parent of 9396477 (Check in multiple changes to the github)
   "metadata": {},
   "outputs": [
    {
     "data": {
      "image/png": "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\n",
      "text/plain": [
       "<Figure size 1440x360 with 4 Axes>"
      ]
     },
     "metadata": {
      "needs_background": "light"
     },
     "output_type": "display_data"
    }
   ],
   "source": [
    "fig, axs = plt.subplots(1,4, figsize=(20,5));\n",
    "fig.suptitle('Relationship between Stock Price and Volume');\n",
    "sns.scatterplot(data=df_vol, ax=axs[0], x='Volume',y='Open');\n",
    "axs[0].set_title('Stock Open Price');\n",
    "sns.scatterplot(data=df_vol, ax=axs[1], x='Volume',y='Close');\n",
    "axs[1].set_title('Stock Close Price');\n",
    "sns.scatterplot(data=df_vol, ax=axs[2], x='Volume',y='Low');\n",
    "axs[2].set_title('Stock Low Price');\n",
    "sns.scatterplot(data=df_vol, ax=axs[3], x='Volume',y='High');\n",
    "axs[3].set_title('Stock High Volume');"
   ]
  },
  {
   "cell_type": "markdown",
<<<<<<< HEAD
   "id": "controlled-terrorism",
=======
   "id": "dense-custom",
>>>>>>> parent of 9396477 (Check in multiple changes to the github)
   "metadata": {},
   "source": [
    "We will proceed to create the annual stock returns. These value will gives us more insights regarding the stocks price. \n",
    "\n",
    "Formula = (Next Year Adjusted Closing Price/Current year First Month Adjusted Closing Price) * 100\n",
    "\n",
    "\n"
   ]
  },
  {
   "cell_type": "code",
<<<<<<< HEAD
   "execution_count": 32,
   "id": "lasting-cycling",
=======
   "execution_count": 55,
   "id": "popular-romance",
>>>>>>> parent of 9396477 (Check in multiple changes to the github)
   "metadata": {},
   "outputs": [
    {
     "data": {
      "text/html": [
       "<div>\n",
       "<style scoped>\n",
       "    .dataframe tbody tr th:only-of-type {\n",
       "        vertical-align: middle;\n",
       "    }\n",
       "\n",
       "    .dataframe tbody tr th {\n",
       "        vertical-align: top;\n",
       "    }\n",
       "\n",
       "    .dataframe thead th {\n",
       "        text-align: right;\n",
       "    }\n",
       "</style>\n",
       "<table border=\"1\" class=\"dataframe\">\n",
       "  <thead>\n",
       "    <tr style=\"text-align: right;\">\n",
       "      <th></th>\n",
       "      <th>Ticker</th>\n",
       "      <th>Year</th>\n",
       "      <th>Month</th>\n",
       "      <th>Day</th>\n",
       "      <th>Open</th>\n",
       "      <th>High</th>\n",
       "      <th>Low</th>\n",
       "      <th>Close</th>\n",
       "      <th>Adj Close</th>\n",
       "      <th>Volume</th>\n",
       "      <th>Annual_Stock_Return</th>\n",
       "    </tr>\n",
       "  </thead>\n",
       "  <tbody>\n",
       "    <tr>\n",
       "      <th>0</th>\n",
       "      <td>AEE</td>\n",
       "      <td>2012</td>\n",
       "      <td>1</td>\n",
       "      <td>1</td>\n",
       "      <td>33.650002</td>\n",
       "      <td>33.680000</td>\n",
       "      <td>30.900000</td>\n",
       "      <td>31.639999</td>\n",
       "      <td>22.854336</td>\n",
       "      <td>37740200.0</td>\n",
       "      <td>NaN</td>\n",
       "    </tr>\n",
       "    <tr>\n",
       "      <th>1</th>\n",
       "      <td>AEE</td>\n",
       "      <td>2013</td>\n",
       "      <td>1</td>\n",
       "      <td>1</td>\n",
       "      <td>31.139999</td>\n",
       "      <td>32.599998</td>\n",
       "      <td>30.639999</td>\n",
       "      <td>32.439999</td>\n",
       "      <td>24.643587</td>\n",
       "      <td>40006600.0</td>\n",
       "      <td>7.828936</td>\n",
       "    </tr>\n",
       "    <tr>\n",
       "      <th>2</th>\n",
       "      <td>AEE</td>\n",
       "      <td>2014</td>\n",
       "      <td>1</td>\n",
       "      <td>1</td>\n",
       "      <td>36.049999</td>\n",
       "      <td>37.939999</td>\n",
       "      <td>35.220001</td>\n",
       "      <td>37.840000</td>\n",
       "      <td>30.116274</td>\n",
       "      <td>32563200.0</td>\n",
       "      <td>22.207346</td>\n",
       "    </tr>\n",
       "    <tr>\n",
       "      <th>3</th>\n",
       "      <td>AEE</td>\n",
       "      <td>2015</td>\n",
       "      <td>1</td>\n",
       "      <td>1</td>\n",
       "      <td>46.290001</td>\n",
       "      <td>46.810001</td>\n",
       "      <td>44.639999</td>\n",
       "      <td>45.279999</td>\n",
       "      <td>37.500370</td>\n",
       "      <td>32918400.0</td>\n",
       "      <td>24.518625</td>\n",
       "    </tr>\n",
       "    <tr>\n",
       "      <th>4</th>\n",
       "      <td>AEE</td>\n",
       "      <td>2016</td>\n",
       "      <td>1</td>\n",
       "      <td>1</td>\n",
       "      <td>43.130001</td>\n",
       "      <td>44.970001</td>\n",
       "      <td>41.500000</td>\n",
       "      <td>44.919998</td>\n",
       "      <td>38.772789</td>\n",
       "      <td>42957800.0</td>\n",
       "      <td>3.393084</td>\n",
       "    </tr>\n",
       "  </tbody>\n",
       "</table>\n",
       "</div>"
      ],
      "text/plain": [
       "  Ticker  Year  Month  Day       Open       High        Low      Close  \\\n",
       "0    AEE  2012      1    1  33.650002  33.680000  30.900000  31.639999   \n",
       "1    AEE  2013      1    1  31.139999  32.599998  30.639999  32.439999   \n",
       "2    AEE  2014      1    1  36.049999  37.939999  35.220001  37.840000   \n",
       "3    AEE  2015      1    1  46.290001  46.810001  44.639999  45.279999   \n",
       "4    AEE  2016      1    1  43.130001  44.970001  41.500000  44.919998   \n",
       "\n",
       "   Adj Close      Volume  Annual_Stock_Return  \n",
       "0  22.854336  37740200.0                  NaN  \n",
       "1  24.643587  40006600.0             7.828936  \n",
       "2  30.116274  32563200.0            22.207346  \n",
       "3  37.500370  32918400.0            24.518625  \n",
       "4  38.772789  42957800.0             3.393084  "
      ]
     },
<<<<<<< HEAD
     "execution_count": 32,
=======
     "execution_count": 55,
>>>>>>> parent of 9396477 (Check in multiple changes to the github)
     "metadata": {},
     "output_type": "execute_result"
    }
   ],
   "source": [
    "yahoo['Month'] = pd.DatetimeIndex(yahoo.Date).month\n",
    "yahoo['Day'] = pd.DatetimeIndex(yahoo.Date).day\n",
    "yahoo_annual_returns = yahoo.loc[(yahoo.Day == 1) & (yahoo.Month == 1),].sort_values(by=['Ticker','Year','Month'])\n",
    "yahoo_annual_returns = yahoo_annual_returns.groupby(['Ticker', 'Year','Month','Day']).sum().reset_index()\n",
    "yahoo_annual_returns['Annual_Stock_Return'] = yahoo_annual_returns.groupby(['Ticker'])['Adj Close'].apply(lambda x: x.pct_change()).to_numpy() * 100\n",
    "yahoo_annual_returns.head()"
   ]
  },
  {
   "cell_type": "code",
<<<<<<< HEAD
   "execution_count": 33,
   "id": "sharing-liability",
=======
   "execution_count": 56,
   "id": "front-moses",
>>>>>>> parent of 9396477 (Check in multiple changes to the github)
   "metadata": {},
   "outputs": [
    {
     "data": {
      "text/html": [
       "<div>\n",
       "<style scoped>\n",
       "    .dataframe tbody tr th:only-of-type {\n",
       "        vertical-align: middle;\n",
       "    }\n",
       "\n",
       "    .dataframe tbody tr th {\n",
       "        vertical-align: top;\n",
       "    }\n",
       "\n",
       "    .dataframe thead th {\n",
       "        text-align: right;\n",
       "    }\n",
       "</style>\n",
       "<table border=\"1\" class=\"dataframe\">\n",
       "  <thead>\n",
       "    <tr style=\"text-align: right;\">\n",
       "      <th></th>\n",
       "      <th>Ticker</th>\n",
       "      <th>Year</th>\n",
       "      <th>Month</th>\n",
       "      <th>Day</th>\n",
       "      <th>Open</th>\n",
       "      <th>High</th>\n",
       "      <th>Low</th>\n",
       "      <th>Close</th>\n",
       "      <th>Adj Close</th>\n",
       "      <th>Volume</th>\n",
       "      <th>Annual_Stock_Return</th>\n",
       "    </tr>\n",
       "  </thead>\n",
       "  <tbody>\n",
       "    <tr>\n",
       "      <th>360</th>\n",
       "      <td>SO</td>\n",
       "      <td>2012</td>\n",
       "      <td>1</td>\n",
       "      <td>1</td>\n",
       "      <td>45.869999</td>\n",
       "      <td>46.060001</td>\n",
       "      <td>44.330002</td>\n",
       "      <td>45.560001</td>\n",
       "      <td>29.840086</td>\n",
       "      <td>126067700.0</td>\n",
       "      <td>NaN</td>\n",
       "    </tr>\n",
       "    <tr>\n",
       "      <th>361</th>\n",
       "      <td>SO</td>\n",
       "      <td>2013</td>\n",
       "      <td>1</td>\n",
       "      <td>1</td>\n",
       "      <td>43.340000</td>\n",
       "      <td>45.000000</td>\n",
       "      <td>42.820000</td>\n",
       "      <td>44.230000</td>\n",
       "      <td>30.211931</td>\n",
       "      <td>130540400.0</td>\n",
       "      <td>1.246127</td>\n",
       "    </tr>\n",
       "    <tr>\n",
       "      <th>362</th>\n",
       "      <td>SO</td>\n",
       "      <td>2014</td>\n",
       "      <td>1</td>\n",
       "      <td>1</td>\n",
       "      <td>41.130001</td>\n",
       "      <td>41.869999</td>\n",
       "      <td>40.270000</td>\n",
       "      <td>41.240002</td>\n",
       "      <td>29.473949</td>\n",
       "      <td>106401400.0</td>\n",
       "      <td>-2.442683</td>\n",
       "    </tr>\n",
       "    <tr>\n",
       "      <th>363</th>\n",
       "      <td>SO</td>\n",
       "      <td>2015</td>\n",
       "      <td>1</td>\n",
       "      <td>1</td>\n",
       "      <td>49.189999</td>\n",
       "      <td>53.160000</td>\n",
       "      <td>48.840000</td>\n",
       "      <td>50.720001</td>\n",
       "      <td>38.003975</td>\n",
       "      <td>110086100.0</td>\n",
       "      <td>28.940897</td>\n",
       "    </tr>\n",
       "    <tr>\n",
       "      <th>364</th>\n",
       "      <td>SO</td>\n",
       "      <td>2016</td>\n",
       "      <td>1</td>\n",
       "      <td>1</td>\n",
       "      <td>46.419998</td>\n",
       "      <td>49.000000</td>\n",
       "      <td>46.000000</td>\n",
       "      <td>48.919998</td>\n",
       "      <td>38.437088</td>\n",
       "      <td>110086800.0</td>\n",
       "      <td>1.139652</td>\n",
       "    </tr>\n",
       "    <tr>\n",
       "      <th>365</th>\n",
       "      <td>SO</td>\n",
       "      <td>2017</td>\n",
       "      <td>1</td>\n",
       "      <td>1</td>\n",
       "      <td>49.150002</td>\n",
       "      <td>49.849998</td>\n",
       "      <td>48.189999</td>\n",
       "      <td>49.430000</td>\n",
       "      <td>40.607704</td>\n",
       "      <td>81411200.0</td>\n",
       "      <td>5.647192</td>\n",
       "    </tr>\n",
       "    <tr>\n",
       "      <th>366</th>\n",
       "      <td>SO</td>\n",
       "      <td>2018</td>\n",
       "      <td>1</td>\n",
       "      <td>1</td>\n",
       "      <td>48.009998</td>\n",
       "      <td>48.070000</td>\n",
       "      <td>43.160000</td>\n",
       "      <td>45.110001</td>\n",
       "      <td>38.822189</td>\n",
       "      <td>167460900.0</td>\n",
       "      <td>-4.396985</td>\n",
       "    </tr>\n",
       "    <tr>\n",
       "      <th>367</th>\n",
       "      <td>SO</td>\n",
       "      <td>2019</td>\n",
       "      <td>1</td>\n",
       "      <td>1</td>\n",
       "      <td>43.889999</td>\n",
       "      <td>48.680000</td>\n",
       "      <td>43.259998</td>\n",
       "      <td>48.599998</td>\n",
       "      <td>44.078602</td>\n",
       "      <td>115336100.0</td>\n",
       "      <td>13.539712</td>\n",
       "    </tr>\n",
       "  </tbody>\n",
       "</table>\n",
       "</div>"
      ],
      "text/plain": [
       "    Ticker  Year  Month  Day       Open       High        Low      Close  \\\n",
       "360     SO  2012      1    1  45.869999  46.060001  44.330002  45.560001   \n",
       "361     SO  2013      1    1  43.340000  45.000000  42.820000  44.230000   \n",
       "362     SO  2014      1    1  41.130001  41.869999  40.270000  41.240002   \n",
       "363     SO  2015      1    1  49.189999  53.160000  48.840000  50.720001   \n",
       "364     SO  2016      1    1  46.419998  49.000000  46.000000  48.919998   \n",
       "365     SO  2017      1    1  49.150002  49.849998  48.189999  49.430000   \n",
       "366     SO  2018      1    1  48.009998  48.070000  43.160000  45.110001   \n",
       "367     SO  2019      1    1  43.889999  48.680000  43.259998  48.599998   \n",
       "\n",
       "     Adj Close       Volume  Annual_Stock_Return  \n",
       "360  29.840086  126067700.0                  NaN  \n",
       "361  30.211931  130540400.0             1.246127  \n",
       "362  29.473949  106401400.0            -2.442683  \n",
       "363  38.003975  110086100.0            28.940897  \n",
       "364  38.437088  110086800.0             1.139652  \n",
       "365  40.607704   81411200.0             5.647192  \n",
       "366  38.822189  167460900.0            -4.396985  \n",
       "367  44.078602  115336100.0            13.539712  "
      ]
     },
<<<<<<< HEAD
     "execution_count": 33,
=======
     "execution_count": 56,
>>>>>>> parent of 9396477 (Check in multiple changes to the github)
     "metadata": {},
     "output_type": "execute_result"
    }
   ],
   "source": [
    "yahoo_annual_returns.loc[yahoo_annual_returns.Ticker == 'SO', ]"
   ]
  },
  {
   "cell_type": "code",
<<<<<<< HEAD
   "execution_count": 34,
   "id": "express-yorkshire",
   "metadata": {},
   "outputs": [],
   "source": [
    "yahoo_annual_returns = yahoo_annual_returns.iloc[:,[0,1,10]]"
   ]
  },
  {
   "cell_type": "code",
   "execution_count": 35,
   "id": "split-cookie",
=======
   "execution_count": 59,
   "id": "british-brook",
>>>>>>> parent of 9396477 (Check in multiple changes to the github)
   "metadata": {},
   "outputs": [],
   "source": [
    "yahoo_annual_returns.to_csv('Yahoo_returns.csv',index=False)"
   ]
  },
  {
   "cell_type": "markdown",
<<<<<<< HEAD
   "id": "painted-egyptian",
   "metadata": {},
   "source": [
    "## Bloomberg Terminal\n",
    "\n",
    "The Bloomberg data was provided by the faculty advisor. We formatted the excel data to tidy format. The columns are variables and the observations represent a year for each company. \n",
    "\n",
    "Columns in this dataset:\n",
    "\n",
    "1) Ticker\n",
    "2) Environmental Disclosure Score\n",
    "3) GHG Scope 1\n",
    "4) Total Energy Consumption"
=======
   "id": "incredible-speed",
   "metadata": {},
   "source": [
    "## Bloomberg Terminal"
>>>>>>> parent of 9396477 (Check in multiple changes to the github)
   ]
  },
  {
   "cell_type": "code",
<<<<<<< HEAD
   "execution_count": 36,
   "id": "removable-diversity",
=======
   "execution_count": 81,
   "id": "played-cheat",
>>>>>>> parent of 9396477 (Check in multiple changes to the github)
   "metadata": {},
   "outputs": [
    {
     "name": "stdout",
     "output_type": "stream",
     "text": [
      "We have 0 duplicated rows\n",
      "The Yahoo dataset has 780 rows and 5 columns\n"
     ]
    },
    {
     "data": {
      "text/html": [
       "<div>\n",
       "<style scoped>\n",
       "    .dataframe tbody tr th:only-of-type {\n",
       "        vertical-align: middle;\n",
       "    }\n",
       "\n",
       "    .dataframe tbody tr th {\n",
       "        vertical-align: top;\n",
       "    }\n",
       "\n",
       "    .dataframe thead th {\n",
       "        text-align: right;\n",
       "    }\n",
       "</style>\n",
       "<table border=\"1\" class=\"dataframe\">\n",
       "  <thead>\n",
       "    <tr style=\"text-align: right;\">\n",
       "      <th></th>\n",
       "      <th>Year</th>\n",
       "      <th>Ticker</th>\n",
       "      <th>Environmental Disclosure Score</th>\n",
       "      <th>GHG Scope 1</th>\n",
       "      <th>Total Energy Consumption</th>\n",
       "    </tr>\n",
       "  </thead>\n",
       "  <tbody>\n",
       "    <tr>\n",
       "      <th>0</th>\n",
       "      <td>2005</td>\n",
       "      <td>AEE</td>\n",
       "      <td>NaN</td>\n",
       "      <td>NaN</td>\n",
       "      <td>NaN</td>\n",
       "    </tr>\n",
       "    <tr>\n",
       "      <th>1</th>\n",
       "      <td>2006</td>\n",
       "      <td>AEE</td>\n",
       "      <td>NaN</td>\n",
       "      <td>NaN</td>\n",
       "      <td>NaN</td>\n",
       "    </tr>\n",
       "    <tr>\n",
       "      <th>2</th>\n",
       "      <td>2007</td>\n",
       "      <td>AEE</td>\n",
       "      <td>9.7</td>\n",
       "      <td>NaN</td>\n",
       "      <td>NaN</td>\n",
       "    </tr>\n",
       "    <tr>\n",
       "      <th>3</th>\n",
       "      <td>2008</td>\n",
       "      <td>AEE</td>\n",
       "      <td>9.7</td>\n",
       "      <td>NaN</td>\n",
       "      <td>NaN</td>\n",
       "    </tr>\n",
       "    <tr>\n",
       "      <th>4</th>\n",
       "      <td>2009</td>\n",
       "      <td>AEE</td>\n",
       "      <td>12.4</td>\n",
       "      <td>NaN</td>\n",
       "      <td>NaN</td>\n",
       "    </tr>\n",
       "  </tbody>\n",
       "</table>\n",
       "</div>"
      ],
      "text/plain": [
       "   Year Ticker  Environmental Disclosure Score  GHG Scope 1  \\\n",
       "0  2005    AEE                             NaN          NaN   \n",
       "1  2006    AEE                             NaN          NaN   \n",
       "2  2007    AEE                             9.7          NaN   \n",
       "3  2008    AEE                             9.7          NaN   \n",
       "4  2009    AEE                            12.4          NaN   \n",
       "\n",
       "   Total Energy Consumption  \n",
       "0                       NaN  \n",
       "1                       NaN  \n",
       "2                       NaN  \n",
       "3                       NaN  \n",
       "4                       NaN  "
      ]
     },
<<<<<<< HEAD
     "execution_count": 36,
=======
     "execution_count": 81,
>>>>>>> parent of 9396477 (Check in multiple changes to the github)
     "metadata": {},
     "output_type": "execute_result"
    }
   ],
   "source": [
    "esg = pd.read_csv(\"/Users/maralinetorres/Documents/GitHub/Predicting-Environmental-and-Social-Actions/Datasets/ESG_Formatted_52.csv\")\n",
    "print(f'We have {esg.duplicated().sum()} duplicated rows')\n",
    "print(f'The Yahoo dataset has {esg.shape[0]} rows and {esg.shape[1]} columns')\n",
    "esg.head()"
   ]
  },
  {
   "cell_type": "code",
<<<<<<< HEAD
   "execution_count": 37,
   "id": "expensive-decimal",
   "metadata": {},
   "outputs": [
    {
     "data": {
      "image/png": "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\n",
      "text/plain": [
       "<Figure size 1440x864 with 2 Axes>"
      ]
     },
     "metadata": {
      "needs_background": "light"
     },
     "output_type": "display_data"
    }
   ],
   "source": [
    "msno.heatmap(esg);"
   ]
  },
  {
   "cell_type": "code",
   "execution_count": 38,
   "id": "hollywood-reception",
   "metadata": {},
   "outputs": [
    {
     "name": "stdout",
     "output_type": "stream",
     "text": [
      "<class 'pandas.core.frame.DataFrame'>\n",
      "RangeIndex: 780 entries, 0 to 779\n",
      "Data columns (total 5 columns):\n",
      " #   Column                          Non-Null Count  Dtype  \n",
      "---  ------                          --------------  -----  \n",
      " 0   Year                            780 non-null    int64  \n",
      " 1   Ticker                          780 non-null    object \n",
      " 2   Environmental Disclosure Score  636 non-null    float64\n",
      " 3   GHG Scope 1                     398 non-null    float64\n",
      " 4   Total Energy Consumption        243 non-null    float64\n",
      "dtypes: float64(3), int64(1), object(1)\n",
      "memory usage: 30.6+ KB\n"
     ]
    }
   ],
   "source": [
    "esg.info()"
   ]
  },
  {
   "cell_type": "markdown",
   "id": "liable-childhood",
   "metadata": {},
   "source": [
    "As the visualization and the table presents, we are missing a huge amount of data. However, we are going to proceed to calculate growth ratios we the data available"
   ]
  },
  {
   "cell_type": "markdown",
   "id": "preliminary-clarity",
   "metadata": {},
   "source": [
    "### Growth ratios\n",
    "\n",
    "We are going to calculate the changes in Environment Disclosure, GHG Scope, and Total Energy Consumption. As presented, the dataset contains a lot of null values, therefore, some ratios will stay as 'NaN'. Hopefully, this growths ratios will help us to get better insights. \n",
    "\n",
    "\n",
    "Formulas:\n",
    "\n",
    "- % Change in Environmental Disclosure Score = ((Environmental Disclosure Score in Current Year) / (Environmental Disclosure Score Last Year) - 1) * 100\n",
    "- % Change in GHG Scope 1 = ((GHG Scope 1 in Current Year) / (GHG Scope 1 Last Year) - 1) * 100\n",
    "- % Change in Total Energy Consumption = ((Total Energy Consumption in Current Year) / (Total Energy Consumption Last Year) - 1) * 100\n",
    "\n"
   ]
  },
  {
   "cell_type": "code",
   "execution_count": 40,
   "id": "union-bearing",
=======
   "execution_count": 82,
   "id": "thirty-lawsuit",
>>>>>>> parent of 9396477 (Check in multiple changes to the github)
   "metadata": {},
   "outputs": [
    {
     "data": {
      "text/html": [
       "<div>\n",
       "<style scoped>\n",
       "    .dataframe tbody tr th:only-of-type {\n",
       "        vertical-align: middle;\n",
       "    }\n",
       "\n",
       "    .dataframe tbody tr th {\n",
       "        vertical-align: top;\n",
       "    }\n",
       "\n",
       "    .dataframe thead th {\n",
       "        text-align: right;\n",
       "    }\n",
       "</style>\n",
       "<table border=\"1\" class=\"dataframe\">\n",
       "  <thead>\n",
       "    <tr style=\"text-align: right;\">\n",
       "      <th></th>\n",
       "      <th>Year</th>\n",
       "      <th>Ticker</th>\n",
       "      <th>Environmental Disclosure Score</th>\n",
       "      <th>GHG Scope 1</th>\n",
       "      <th>Total Energy Consumption</th>\n",
       "      <th>Change_in_EDS</th>\n",
       "      <th>Change_in_GHG</th>\n",
       "      <th>Change_in_TEC</th>\n",
       "    </tr>\n",
       "  </thead>\n",
       "  <tbody>\n",
       "    <tr>\n",
       "      <th>0</th>\n",
       "      <td>2005</td>\n",
       "      <td>AEE</td>\n",
       "      <td>NaN</td>\n",
       "      <td>NaN</td>\n",
       "      <td>NaN</td>\n",
       "      <td>NaN</td>\n",
       "      <td>NaN</td>\n",
       "      <td>NaN</td>\n",
       "    </tr>\n",
       "    <tr>\n",
       "      <th>1</th>\n",
       "      <td>2006</td>\n",
       "      <td>AEE</td>\n",
       "      <td>NaN</td>\n",
       "      <td>NaN</td>\n",
       "      <td>NaN</td>\n",
       "      <td>NaN</td>\n",
       "      <td>NaN</td>\n",
       "      <td>NaN</td>\n",
       "    </tr>\n",
       "    <tr>\n",
       "      <th>2</th>\n",
       "      <td>2007</td>\n",
       "      <td>AEE</td>\n",
       "      <td>9.7</td>\n",
       "      <td>NaN</td>\n",
       "      <td>NaN</td>\n",
       "      <td>NaN</td>\n",
       "      <td>NaN</td>\n",
       "      <td>NaN</td>\n",
       "    </tr>\n",
       "    <tr>\n",
       "      <th>3</th>\n",
       "      <td>2008</td>\n",
       "      <td>AEE</td>\n",
       "      <td>9.7</td>\n",
       "      <td>NaN</td>\n",
       "      <td>NaN</td>\n",
       "      <td>0.000000</td>\n",
       "      <td>NaN</td>\n",
       "      <td>NaN</td>\n",
       "    </tr>\n",
       "    <tr>\n",
       "      <th>4</th>\n",
       "      <td>2009</td>\n",
       "      <td>AEE</td>\n",
       "      <td>12.4</td>\n",
       "      <td>NaN</td>\n",
       "      <td>NaN</td>\n",
       "      <td>27.835052</td>\n",
       "      <td>NaN</td>\n",
       "      <td>NaN</td>\n",
       "    </tr>\n",
       "  </tbody>\n",
       "</table>\n",
       "</div>"
      ],
      "text/plain": [
       "   Year Ticker  Environmental Disclosure Score  GHG Scope 1  \\\n",
       "0  2005    AEE                             NaN          NaN   \n",
       "1  2006    AEE                             NaN          NaN   \n",
       "2  2007    AEE                             9.7          NaN   \n",
       "3  2008    AEE                             9.7          NaN   \n",
       "4  2009    AEE                            12.4          NaN   \n",
       "\n",
       "   Total Energy Consumption  Change_in_EDS  Change_in_GHG  Change_in_TEC  \n",
       "0                       NaN            NaN            NaN            NaN  \n",
       "1                       NaN            NaN            NaN            NaN  \n",
       "2                       NaN            NaN            NaN            NaN  \n",
       "3                       NaN       0.000000            NaN            NaN  \n",
       "4                       NaN      27.835052            NaN            NaN  "
      ]
     },
<<<<<<< HEAD
     "execution_count": 40,
=======
     "execution_count": 82,
>>>>>>> parent of 9396477 (Check in multiple changes to the github)
     "metadata": {},
     "output_type": "execute_result"
    }
   ],
   "source": [
    "esg['Change_in_EDS'] = esg.groupby(['Ticker'])['Environmental Disclosure Score'].apply(lambda x: x.pct_change()).to_numpy() * 100\n",
<<<<<<< HEAD
    "esg['Change_in_GHG'] = esg.groupby(['Ticker'])['GHG Scope 1'].apply(lambda x: x.pct_change()).to_numpy() * 100\n",
    "esg['Change_in_TEC'] = esg.groupby(['Ticker'])['Total Energy Consumption'].apply(lambda x: x.pct_change()).to_numpy() * 100\n",
=======
    "esg['Change_in_GHG'] = esg_1.groupby(['Ticker'])['GHG Scope 1'].apply(lambda x: x.pct_change()).to_numpy() * 100\n",
    "esg['Change_in_TEC'] = esg_1.groupby(['Ticker'])['Total Energy Consumption'].apply(lambda x: x.pct_change()).to_numpy() * 100\n",
>>>>>>> parent of 9396477 (Check in multiple changes to the github)
    "esg.head()"
   ]
  },
  {
<<<<<<< HEAD
   "cell_type": "markdown",
   "id": "straight-conversation",
   "metadata": {},
   "source": [
    "## Merging the three datasets to one file"
   ]
  },
  {
   "cell_type": "code",
   "execution_count": 41,
   "id": "intelligent-france",
   "metadata": {},
   "outputs": [
    {
     "name": "stdout",
     "output_type": "stream",
     "text": [
      "(780, 18)\n"
     ]
    },
    {
     "data": {
      "text/html": [
       "<div>\n",
       "<style scoped>\n",
       "    .dataframe tbody tr th:only-of-type {\n",
       "        vertical-align: middle;\n",
       "    }\n",
       "\n",
       "    .dataframe tbody tr th {\n",
       "        vertical-align: top;\n",
       "    }\n",
       "\n",
       "    .dataframe thead th {\n",
       "        text-align: right;\n",
       "    }\n",
       "</style>\n",
       "<table border=\"1\" class=\"dataframe\">\n",
       "  <thead>\n",
       "    <tr style=\"text-align: right;\">\n",
       "      <th></th>\n",
       "      <th>Year</th>\n",
       "      <th>Ticker</th>\n",
       "      <th>Environmental Disclosure Score</th>\n",
       "      <th>GHG Scope 1</th>\n",
       "      <th>Total Energy Consumption</th>\n",
       "      <th>Change_in_EDS</th>\n",
       "      <th>Change_in_GHG</th>\n",
       "      <th>Change_in_TEC</th>\n",
       "      <th>conm</th>\n",
       "      <th>at</th>\n",
       "      <th>ni</th>\n",
       "      <th>sale</th>\n",
       "      <th>Change_in_Sales</th>\n",
       "      <th>Change_in_Assets</th>\n",
       "      <th>Change_in_NI</th>\n",
       "      <th>ROA</th>\n",
       "      <th>Profit_Margin</th>\n",
       "      <th>Annual_Stock_Return</th>\n",
       "    </tr>\n",
       "  </thead>\n",
       "  <tbody>\n",
       "    <tr>\n",
       "      <th>0</th>\n",
       "      <td>2005</td>\n",
       "      <td>AEE</td>\n",
       "      <td>NaN</td>\n",
       "      <td>NaN</td>\n",
       "      <td>NaN</td>\n",
       "      <td>NaN</td>\n",
       "      <td>NaN</td>\n",
       "      <td>NaN</td>\n",
       "      <td>AMEREN CORP</td>\n",
       "      <td>18162.0</td>\n",
       "      <td>619.0</td>\n",
       "      <td>6780.0</td>\n",
       "      <td>0.000000</td>\n",
       "      <td>0.000000</td>\n",
       "      <td>0.000000</td>\n",
       "      <td>3.408215</td>\n",
       "      <td>9.129794</td>\n",
       "      <td>NaN</td>\n",
       "    </tr>\n",
       "    <tr>\n",
       "      <th>1</th>\n",
       "      <td>2006</td>\n",
       "      <td>AEE</td>\n",
       "      <td>NaN</td>\n",
       "      <td>NaN</td>\n",
       "      <td>NaN</td>\n",
       "      <td>NaN</td>\n",
       "      <td>NaN</td>\n",
       "      <td>NaN</td>\n",
       "      <td>AMEREN CORP</td>\n",
       "      <td>19578.0</td>\n",
       "      <td>558.0</td>\n",
       "      <td>6880.0</td>\n",
       "      <td>1.474926</td>\n",
       "      <td>7.796498</td>\n",
       "      <td>-9.854604</td>\n",
       "      <td>2.850138</td>\n",
       "      <td>8.110465</td>\n",
       "      <td>NaN</td>\n",
       "    </tr>\n",
       "    <tr>\n",
       "      <th>2</th>\n",
       "      <td>2007</td>\n",
       "      <td>AEE</td>\n",
       "      <td>9.7</td>\n",
       "      <td>NaN</td>\n",
       "      <td>NaN</td>\n",
       "      <td>NaN</td>\n",
       "      <td>NaN</td>\n",
       "      <td>NaN</td>\n",
       "      <td>AMEREN CORP</td>\n",
       "      <td>20728.0</td>\n",
       "      <td>629.0</td>\n",
       "      <td>7546.0</td>\n",
       "      <td>9.680233</td>\n",
       "      <td>5.873940</td>\n",
       "      <td>12.724014</td>\n",
       "      <td>3.034543</td>\n",
       "      <td>8.335542</td>\n",
       "      <td>NaN</td>\n",
       "    </tr>\n",
       "    <tr>\n",
       "      <th>3</th>\n",
       "      <td>2008</td>\n",
       "      <td>AEE</td>\n",
       "      <td>9.7</td>\n",
       "      <td>NaN</td>\n",
       "      <td>NaN</td>\n",
       "      <td>0.000000</td>\n",
       "      <td>NaN</td>\n",
       "      <td>NaN</td>\n",
       "      <td>AMEREN CORP</td>\n",
       "      <td>22657.0</td>\n",
       "      <td>615.0</td>\n",
       "      <td>7839.0</td>\n",
       "      <td>3.882852</td>\n",
       "      <td>9.306252</td>\n",
       "      <td>-2.225755</td>\n",
       "      <td>2.714393</td>\n",
       "      <td>7.845388</td>\n",
       "      <td>NaN</td>\n",
       "    </tr>\n",
       "    <tr>\n",
       "      <th>4</th>\n",
       "      <td>2009</td>\n",
       "      <td>AEE</td>\n",
       "      <td>12.4</td>\n",
       "      <td>NaN</td>\n",
       "      <td>NaN</td>\n",
       "      <td>27.835052</td>\n",
       "      <td>NaN</td>\n",
       "      <td>NaN</td>\n",
       "      <td>AMEREN CORP</td>\n",
       "      <td>23790.0</td>\n",
       "      <td>612.0</td>\n",
       "      <td>7090.0</td>\n",
       "      <td>-9.554790</td>\n",
       "      <td>5.000662</td>\n",
       "      <td>-0.487805</td>\n",
       "      <td>2.572509</td>\n",
       "      <td>8.631876</td>\n",
       "      <td>NaN</td>\n",
       "    </tr>\n",
       "  </tbody>\n",
       "</table>\n",
       "</div>"
      ],
      "text/plain": [
       "   Year Ticker  Environmental Disclosure Score  GHG Scope 1  \\\n",
       "0  2005    AEE                             NaN          NaN   \n",
       "1  2006    AEE                             NaN          NaN   \n",
       "2  2007    AEE                             9.7          NaN   \n",
       "3  2008    AEE                             9.7          NaN   \n",
       "4  2009    AEE                            12.4          NaN   \n",
       "\n",
       "   Total Energy Consumption  Change_in_EDS  Change_in_GHG  Change_in_TEC  \\\n",
       "0                       NaN            NaN            NaN            NaN   \n",
       "1                       NaN            NaN            NaN            NaN   \n",
       "2                       NaN            NaN            NaN            NaN   \n",
       "3                       NaN       0.000000            NaN            NaN   \n",
       "4                       NaN      27.835052            NaN            NaN   \n",
       "\n",
       "          conm       at     ni    sale  Change_in_Sales  Change_in_Assets  \\\n",
       "0  AMEREN CORP  18162.0  619.0  6780.0         0.000000          0.000000   \n",
       "1  AMEREN CORP  19578.0  558.0  6880.0         1.474926          7.796498   \n",
       "2  AMEREN CORP  20728.0  629.0  7546.0         9.680233          5.873940   \n",
       "3  AMEREN CORP  22657.0  615.0  7839.0         3.882852          9.306252   \n",
       "4  AMEREN CORP  23790.0  612.0  7090.0        -9.554790          5.000662   \n",
       "\n",
       "   Change_in_NI       ROA  Profit_Margin  Annual_Stock_Return  \n",
       "0      0.000000  3.408215       9.129794                  NaN  \n",
       "1     -9.854604  2.850138       8.110465                  NaN  \n",
       "2     12.724014  3.034543       8.335542                  NaN  \n",
       "3     -2.225755  2.714393       7.845388                  NaN  \n",
       "4     -0.487805  2.572509       8.631876                  NaN  "
      ]
     },
     "execution_count": 41,
     "metadata": {},
     "output_type": "execute_result"
    }
   ],
   "source": [
    "data = pd.merge(esg, stocks, how=\"left\", left_on = ['Ticker','Year'], right_on = ['tic','fyear'])\n",
    "data = pd.merge(data, yahoo_annual_returns, how=\"left\", left_on = ['Ticker','Year'], right_on = ['Ticker','Year'])\n",
    "cols = [\"gvkey\",\"datadate\",\"fyear\",\"tic\",\"cik\",\"cusip\"]\n",
    "data.drop(columns = cols, inplace=True)\n",
    "print(data.shape)\n",
    "data.head()"
   ]
  },
  {
   "cell_type": "code",
   "execution_count": 42,
   "id": "loving-dairy",
   "metadata": {},
   "outputs": [
    {
     "name": "stdout",
     "output_type": "stream",
     "text": [
      "<class 'pandas.core.frame.DataFrame'>\n",
      "Int64Index: 780 entries, 0 to 779\n",
      "Data columns (total 18 columns):\n",
      " #   Column                          Non-Null Count  Dtype  \n",
      "---  ------                          --------------  -----  \n",
      " 0   Year                            780 non-null    int64  \n",
      " 1   Ticker                          780 non-null    object \n",
      " 2   Environmental Disclosure Score  636 non-null    float64\n",
      " 3   GHG Scope 1                     398 non-null    float64\n",
      " 4   Total Energy Consumption        243 non-null    float64\n",
      " 5   Change_in_EDS                   589 non-null    float64\n",
      " 6   Change_in_GHG                   377 non-null    float64\n",
      " 7   Change_in_TEC                   237 non-null    float64\n",
      " 8   conm                            757 non-null    object \n",
      " 9   at                              754 non-null    float64\n",
      " 10  ni                              754 non-null    float64\n",
      " 11  sale                            754 non-null    float64\n",
      " 12  Change_in_Sales                 754 non-null    float64\n",
      " 13  Change_in_Assets                754 non-null    float64\n",
      " 14  Change_in_NI                    754 non-null    float64\n",
      " 15  ROA                             754 non-null    float64\n",
      " 16  Profit_Margin                   754 non-null    float64\n",
      " 17  Annual_Stock_Return             364 non-null    float64\n",
      "dtypes: float64(15), int64(1), object(2)\n",
      "memory usage: 115.8+ KB\n"
     ]
    }
   ],
   "source": [
    "data.info()"
   ]
  },
  {
   "cell_type": "markdown",
   "id": "inappropriate-prompt",
   "metadata": {},
   "source": [
    "### Calculate ratios with Bloomberg Data and WRDS\n",
    "\n",
    "We need to consider the company size in their emission. Therefore, we would calculate the following ratios to take into consideration the company size. \n",
    "\n",
    "- Ratio of GHG Emissions to Total Assets = (GHG Scope 1 * 1000) / Total Assets\n",
    "- Ratio of GHG Emissions to Total Sales = (GHG Scope 1 * 1000) / Total Sales\n",
    "- Ratio of Total Energy Consumption to Total Assets = (Total Energy Consumption * 1000) / Total Assets\n",
    "- Ratio of Total Energy Consumption to Total Sales = (Total Energy Consumption * 1000) / Total Sales\n",
    "\n",
    "\n",
    "We will calculate this ratio for each observation (each year for each company). \n"
   ]
  },
  {
   "cell_type": "code",
   "execution_count": 43,
   "id": "collective-climb",
   "metadata": {},
   "outputs": [
    {
     "data": {
      "text/html": [
       "<div>\n",
       "<style scoped>\n",
       "    .dataframe tbody tr th:only-of-type {\n",
       "        vertical-align: middle;\n",
       "    }\n",
       "\n",
       "    .dataframe tbody tr th {\n",
       "        vertical-align: top;\n",
       "    }\n",
       "\n",
       "    .dataframe thead th {\n",
       "        text-align: right;\n",
       "    }\n",
       "</style>\n",
       "<table border=\"1\" class=\"dataframe\">\n",
       "  <thead>\n",
       "    <tr style=\"text-align: right;\">\n",
       "      <th></th>\n",
       "      <th>Year</th>\n",
       "      <th>Ticker</th>\n",
       "      <th>Environmental Disclosure Score</th>\n",
       "      <th>GHG Scope 1</th>\n",
       "      <th>Total Energy Consumption</th>\n",
       "      <th>Change_in_EDS</th>\n",
       "      <th>Change_in_GHG</th>\n",
       "      <th>Change_in_TEC</th>\n",
       "      <th>conm</th>\n",
       "      <th>at</th>\n",
       "      <th>...</th>\n",
       "      <th>Change_in_Sales</th>\n",
       "      <th>Change_in_Assets</th>\n",
       "      <th>Change_in_NI</th>\n",
       "      <th>ROA</th>\n",
       "      <th>Profit_Margin</th>\n",
       "      <th>Annual_Stock_Return</th>\n",
       "      <th>Ratio of GHG Emissions to Total Assets</th>\n",
       "      <th>Ratio of GHG Emissions to Total Sales</th>\n",
       "      <th>Ratio of Total Energy Consumption to Total Assets</th>\n",
       "      <th>Ratio of Total Energy Consumption to Total Sales</th>\n",
       "    </tr>\n",
       "  </thead>\n",
       "  <tbody>\n",
       "    <tr>\n",
       "      <th>0</th>\n",
       "      <td>2005</td>\n",
       "      <td>AEE</td>\n",
       "      <td>NaN</td>\n",
       "      <td>NaN</td>\n",
       "      <td>NaN</td>\n",
       "      <td>NaN</td>\n",
       "      <td>NaN</td>\n",
       "      <td>NaN</td>\n",
       "      <td>AMEREN CORP</td>\n",
       "      <td>18162.0</td>\n",
       "      <td>...</td>\n",
       "      <td>0.000000</td>\n",
       "      <td>0.000000</td>\n",
       "      <td>0.000000</td>\n",
       "      <td>3.408215</td>\n",
       "      <td>9.129794</td>\n",
       "      <td>NaN</td>\n",
       "      <td>NaN</td>\n",
       "      <td>NaN</td>\n",
       "      <td>NaN</td>\n",
       "      <td>NaN</td>\n",
       "    </tr>\n",
       "    <tr>\n",
       "      <th>1</th>\n",
       "      <td>2006</td>\n",
       "      <td>AEE</td>\n",
       "      <td>NaN</td>\n",
       "      <td>NaN</td>\n",
       "      <td>NaN</td>\n",
       "      <td>NaN</td>\n",
       "      <td>NaN</td>\n",
       "      <td>NaN</td>\n",
       "      <td>AMEREN CORP</td>\n",
       "      <td>19578.0</td>\n",
       "      <td>...</td>\n",
       "      <td>1.474926</td>\n",
       "      <td>7.796498</td>\n",
       "      <td>-9.854604</td>\n",
       "      <td>2.850138</td>\n",
       "      <td>8.110465</td>\n",
       "      <td>NaN</td>\n",
       "      <td>NaN</td>\n",
       "      <td>NaN</td>\n",
       "      <td>NaN</td>\n",
       "      <td>NaN</td>\n",
       "    </tr>\n",
       "    <tr>\n",
       "      <th>2</th>\n",
       "      <td>2007</td>\n",
       "      <td>AEE</td>\n",
       "      <td>9.7</td>\n",
       "      <td>NaN</td>\n",
       "      <td>NaN</td>\n",
       "      <td>NaN</td>\n",
       "      <td>NaN</td>\n",
       "      <td>NaN</td>\n",
       "      <td>AMEREN CORP</td>\n",
       "      <td>20728.0</td>\n",
       "      <td>...</td>\n",
       "      <td>9.680233</td>\n",
       "      <td>5.873940</td>\n",
       "      <td>12.724014</td>\n",
       "      <td>3.034543</td>\n",
       "      <td>8.335542</td>\n",
       "      <td>NaN</td>\n",
       "      <td>NaN</td>\n",
       "      <td>NaN</td>\n",
       "      <td>NaN</td>\n",
       "      <td>NaN</td>\n",
       "    </tr>\n",
       "    <tr>\n",
       "      <th>3</th>\n",
       "      <td>2008</td>\n",
       "      <td>AEE</td>\n",
       "      <td>9.7</td>\n",
       "      <td>NaN</td>\n",
       "      <td>NaN</td>\n",
       "      <td>0.000000</td>\n",
       "      <td>NaN</td>\n",
       "      <td>NaN</td>\n",
       "      <td>AMEREN CORP</td>\n",
       "      <td>22657.0</td>\n",
       "      <td>...</td>\n",
       "      <td>3.882852</td>\n",
       "      <td>9.306252</td>\n",
       "      <td>-2.225755</td>\n",
       "      <td>2.714393</td>\n",
       "      <td>7.845388</td>\n",
       "      <td>NaN</td>\n",
       "      <td>NaN</td>\n",
       "      <td>NaN</td>\n",
       "      <td>NaN</td>\n",
       "      <td>NaN</td>\n",
       "    </tr>\n",
       "    <tr>\n",
       "      <th>4</th>\n",
       "      <td>2009</td>\n",
       "      <td>AEE</td>\n",
       "      <td>12.4</td>\n",
       "      <td>NaN</td>\n",
       "      <td>NaN</td>\n",
       "      <td>27.835052</td>\n",
       "      <td>NaN</td>\n",
       "      <td>NaN</td>\n",
       "      <td>AMEREN CORP</td>\n",
       "      <td>23790.0</td>\n",
       "      <td>...</td>\n",
       "      <td>-9.554790</td>\n",
       "      <td>5.000662</td>\n",
       "      <td>-0.487805</td>\n",
       "      <td>2.572509</td>\n",
       "      <td>8.631876</td>\n",
       "      <td>NaN</td>\n",
       "      <td>NaN</td>\n",
       "      <td>NaN</td>\n",
       "      <td>NaN</td>\n",
       "      <td>NaN</td>\n",
       "    </tr>\n",
       "  </tbody>\n",
       "</table>\n",
       "<p>5 rows × 22 columns</p>\n",
       "</div>"
      ],
      "text/plain": [
       "   Year Ticker  Environmental Disclosure Score  GHG Scope 1  \\\n",
       "0  2005    AEE                             NaN          NaN   \n",
       "1  2006    AEE                             NaN          NaN   \n",
       "2  2007    AEE                             9.7          NaN   \n",
       "3  2008    AEE                             9.7          NaN   \n",
       "4  2009    AEE                            12.4          NaN   \n",
       "\n",
       "   Total Energy Consumption  Change_in_EDS  Change_in_GHG  Change_in_TEC  \\\n",
       "0                       NaN            NaN            NaN            NaN   \n",
       "1                       NaN            NaN            NaN            NaN   \n",
       "2                       NaN            NaN            NaN            NaN   \n",
       "3                       NaN       0.000000            NaN            NaN   \n",
       "4                       NaN      27.835052            NaN            NaN   \n",
       "\n",
       "          conm       at  ...  Change_in_Sales  Change_in_Assets  Change_in_NI  \\\n",
       "0  AMEREN CORP  18162.0  ...         0.000000          0.000000      0.000000   \n",
       "1  AMEREN CORP  19578.0  ...         1.474926          7.796498     -9.854604   \n",
       "2  AMEREN CORP  20728.0  ...         9.680233          5.873940     12.724014   \n",
       "3  AMEREN CORP  22657.0  ...         3.882852          9.306252     -2.225755   \n",
       "4  AMEREN CORP  23790.0  ...        -9.554790          5.000662     -0.487805   \n",
       "\n",
       "        ROA  Profit_Margin  Annual_Stock_Return  \\\n",
       "0  3.408215       9.129794                  NaN   \n",
       "1  2.850138       8.110465                  NaN   \n",
       "2  3.034543       8.335542                  NaN   \n",
       "3  2.714393       7.845388                  NaN   \n",
       "4  2.572509       8.631876                  NaN   \n",
       "\n",
       "   Ratio of GHG Emissions to Total Assets  \\\n",
       "0                                     NaN   \n",
       "1                                     NaN   \n",
       "2                                     NaN   \n",
       "3                                     NaN   \n",
       "4                                     NaN   \n",
       "\n",
       "   Ratio of GHG Emissions to Total Sales  \\\n",
       "0                                    NaN   \n",
       "1                                    NaN   \n",
       "2                                    NaN   \n",
       "3                                    NaN   \n",
       "4                                    NaN   \n",
       "\n",
       "   Ratio of Total Energy Consumption to Total Assets  \\\n",
       "0                                                NaN   \n",
       "1                                                NaN   \n",
       "2                                                NaN   \n",
       "3                                                NaN   \n",
       "4                                                NaN   \n",
       "\n",
       "   Ratio of Total Energy Consumption to Total Sales  \n",
       "0                                               NaN  \n",
       "1                                               NaN  \n",
       "2                                               NaN  \n",
       "3                                               NaN  \n",
       "4                                               NaN  \n",
       "\n",
       "[5 rows x 22 columns]"
      ]
     },
     "execution_count": 43,
     "metadata": {},
     "output_type": "execute_result"
    }
   ],
   "source": [
    "data['Ratio of GHG Emissions to Total Assets'] = data['GHG Scope 1'] * 1000 / data['at']\n",
    "data['Ratio of GHG Emissions to Total Sales'] = data['GHG Scope 1'] * 1000 / data['sale']\n",
    "data['Ratio of Total Energy Consumption to Total Assets'] = data['Total Energy Consumption'] * 1000 / data['at']\n",
    "data['Ratio of Total Energy Consumption to Total Sales'] = data['Total Energy Consumption'] * 1000 / data['sale']\n",
    "data.head()"
   ]
  },
  {
   "cell_type": "markdown",
   "id": "sexual-tokyo",
   "metadata": {},
   "source": [
    "Now, we are going to create three more columns:\n",
    "\n",
    "1) Profitable - Indicates if the company was profitable that year \n",
    "2) Natural logarithm for total assets\n",
    "3) Natural logarithm for total sales \n",
    "\n",
    "\n",
    "Also, we will rename some columns for visualization purposes. "
   ]
  },
  {
   "cell_type": "code",
   "execution_count": 44,
   "id": "joined-listing",
   "metadata": {},
   "outputs": [
    {
     "data": {
      "text/html": [
       "<div>\n",
       "<style scoped>\n",
       "    .dataframe tbody tr th:only-of-type {\n",
       "        vertical-align: middle;\n",
       "    }\n",
       "\n",
       "    .dataframe tbody tr th {\n",
       "        vertical-align: top;\n",
       "    }\n",
       "\n",
       "    .dataframe thead th {\n",
       "        text-align: right;\n",
       "    }\n",
       "</style>\n",
       "<table border=\"1\" class=\"dataframe\">\n",
       "  <thead>\n",
       "    <tr style=\"text-align: right;\">\n",
       "      <th></th>\n",
       "      <th>Year</th>\n",
       "      <th>Ticker</th>\n",
       "      <th>Environmental Disclosure Score</th>\n",
       "      <th>GHG Scope 1</th>\n",
       "      <th>Total Energy Consumption</th>\n",
       "      <th>Change_in_EDS</th>\n",
       "      <th>Change_in_GHG</th>\n",
       "      <th>Change_in_TEC</th>\n",
       "      <th>Company</th>\n",
       "      <th>Total_Assets</th>\n",
       "      <th>...</th>\n",
       "      <th>ROA</th>\n",
       "      <th>Profit_Margin</th>\n",
       "      <th>Annual_Stock_Return</th>\n",
       "      <th>Ratio of GHG Emissions to Total Assets</th>\n",
       "      <th>Ratio of GHG Emissions to Total Sales</th>\n",
       "      <th>Ratio of Total Energy Consumption to Total Assets</th>\n",
       "      <th>Ratio of Total Energy Consumption to Total Sales</th>\n",
       "      <th>Profitable</th>\n",
       "      <th>Logarithm_Total_Assets</th>\n",
       "      <th>Logarithm_Total_Sales</th>\n",
       "    </tr>\n",
       "  </thead>\n",
       "  <tbody>\n",
       "    <tr>\n",
       "      <th>0</th>\n",
       "      <td>2005</td>\n",
       "      <td>AEE</td>\n",
       "      <td>NaN</td>\n",
       "      <td>NaN</td>\n",
       "      <td>NaN</td>\n",
       "      <td>NaN</td>\n",
       "      <td>NaN</td>\n",
       "      <td>NaN</td>\n",
       "      <td>AMEREN CORP</td>\n",
       "      <td>18162.0</td>\n",
       "      <td>...</td>\n",
       "      <td>3.408215</td>\n",
       "      <td>9.129794</td>\n",
       "      <td>NaN</td>\n",
       "      <td>NaN</td>\n",
       "      <td>NaN</td>\n",
       "      <td>NaN</td>\n",
       "      <td>NaN</td>\n",
       "      <td>True</td>\n",
       "      <td>9.807087</td>\n",
       "      <td>8.821732</td>\n",
       "    </tr>\n",
       "    <tr>\n",
       "      <th>1</th>\n",
       "      <td>2006</td>\n",
       "      <td>AEE</td>\n",
       "      <td>NaN</td>\n",
       "      <td>NaN</td>\n",
       "      <td>NaN</td>\n",
       "      <td>NaN</td>\n",
       "      <td>NaN</td>\n",
       "      <td>NaN</td>\n",
       "      <td>AMEREN CORP</td>\n",
       "      <td>19578.0</td>\n",
       "      <td>...</td>\n",
       "      <td>2.850138</td>\n",
       "      <td>8.110465</td>\n",
       "      <td>NaN</td>\n",
       "      <td>NaN</td>\n",
       "      <td>NaN</td>\n",
       "      <td>NaN</td>\n",
       "      <td>NaN</td>\n",
       "      <td>True</td>\n",
       "      <td>9.882162</td>\n",
       "      <td>8.836374</td>\n",
       "    </tr>\n",
       "    <tr>\n",
       "      <th>2</th>\n",
       "      <td>2007</td>\n",
       "      <td>AEE</td>\n",
       "      <td>9.7</td>\n",
       "      <td>NaN</td>\n",
       "      <td>NaN</td>\n",
       "      <td>NaN</td>\n",
       "      <td>NaN</td>\n",
       "      <td>NaN</td>\n",
       "      <td>AMEREN CORP</td>\n",
       "      <td>20728.0</td>\n",
       "      <td>...</td>\n",
       "      <td>3.034543</td>\n",
       "      <td>8.335542</td>\n",
       "      <td>NaN</td>\n",
       "      <td>NaN</td>\n",
       "      <td>NaN</td>\n",
       "      <td>NaN</td>\n",
       "      <td>NaN</td>\n",
       "      <td>True</td>\n",
       "      <td>9.939241</td>\n",
       "      <td>8.928773</td>\n",
       "    </tr>\n",
       "    <tr>\n",
       "      <th>3</th>\n",
       "      <td>2008</td>\n",
       "      <td>AEE</td>\n",
       "      <td>9.7</td>\n",
       "      <td>NaN</td>\n",
       "      <td>NaN</td>\n",
       "      <td>0.000000</td>\n",
       "      <td>NaN</td>\n",
       "      <td>NaN</td>\n",
       "      <td>AMEREN CORP</td>\n",
       "      <td>22657.0</td>\n",
       "      <td>...</td>\n",
       "      <td>2.714393</td>\n",
       "      <td>7.845388</td>\n",
       "      <td>NaN</td>\n",
       "      <td>NaN</td>\n",
       "      <td>NaN</td>\n",
       "      <td>NaN</td>\n",
       "      <td>NaN</td>\n",
       "      <td>True</td>\n",
       "      <td>10.028224</td>\n",
       "      <td>8.966867</td>\n",
       "    </tr>\n",
       "    <tr>\n",
       "      <th>4</th>\n",
       "      <td>2009</td>\n",
       "      <td>AEE</td>\n",
       "      <td>12.4</td>\n",
       "      <td>NaN</td>\n",
       "      <td>NaN</td>\n",
       "      <td>27.835052</td>\n",
       "      <td>NaN</td>\n",
       "      <td>NaN</td>\n",
       "      <td>AMEREN CORP</td>\n",
       "      <td>23790.0</td>\n",
       "      <td>...</td>\n",
       "      <td>2.572509</td>\n",
       "      <td>8.631876</td>\n",
       "      <td>NaN</td>\n",
       "      <td>NaN</td>\n",
       "      <td>NaN</td>\n",
       "      <td>NaN</td>\n",
       "      <td>NaN</td>\n",
       "      <td>True</td>\n",
       "      <td>10.077021</td>\n",
       "      <td>8.866441</td>\n",
       "    </tr>\n",
       "  </tbody>\n",
       "</table>\n",
       "<p>5 rows × 25 columns</p>\n",
       "</div>"
      ],
      "text/plain": [
       "   Year Ticker  Environmental Disclosure Score  GHG Scope 1  \\\n",
       "0  2005    AEE                             NaN          NaN   \n",
       "1  2006    AEE                             NaN          NaN   \n",
       "2  2007    AEE                             9.7          NaN   \n",
       "3  2008    AEE                             9.7          NaN   \n",
       "4  2009    AEE                            12.4          NaN   \n",
       "\n",
       "   Total Energy Consumption  Change_in_EDS  Change_in_GHG  Change_in_TEC  \\\n",
       "0                       NaN            NaN            NaN            NaN   \n",
       "1                       NaN            NaN            NaN            NaN   \n",
       "2                       NaN            NaN            NaN            NaN   \n",
       "3                       NaN       0.000000            NaN            NaN   \n",
       "4                       NaN      27.835052            NaN            NaN   \n",
       "\n",
       "       Company  Total_Assets  ...       ROA  Profit_Margin  \\\n",
       "0  AMEREN CORP       18162.0  ...  3.408215       9.129794   \n",
       "1  AMEREN CORP       19578.0  ...  2.850138       8.110465   \n",
       "2  AMEREN CORP       20728.0  ...  3.034543       8.335542   \n",
       "3  AMEREN CORP       22657.0  ...  2.714393       7.845388   \n",
       "4  AMEREN CORP       23790.0  ...  2.572509       8.631876   \n",
       "\n",
       "   Annual_Stock_Return  Ratio of GHG Emissions to Total Assets  \\\n",
       "0                  NaN                                     NaN   \n",
       "1                  NaN                                     NaN   \n",
       "2                  NaN                                     NaN   \n",
       "3                  NaN                                     NaN   \n",
       "4                  NaN                                     NaN   \n",
       "\n",
       "   Ratio of GHG Emissions to Total Sales  \\\n",
       "0                                    NaN   \n",
       "1                                    NaN   \n",
       "2                                    NaN   \n",
       "3                                    NaN   \n",
       "4                                    NaN   \n",
       "\n",
       "   Ratio of Total Energy Consumption to Total Assets  \\\n",
       "0                                                NaN   \n",
       "1                                                NaN   \n",
       "2                                                NaN   \n",
       "3                                                NaN   \n",
       "4                                                NaN   \n",
       "\n",
       "   Ratio of Total Energy Consumption to Total Sales  Profitable  \\\n",
       "0                                               NaN        True   \n",
       "1                                               NaN        True   \n",
       "2                                               NaN        True   \n",
       "3                                               NaN        True   \n",
       "4                                               NaN        True   \n",
       "\n",
       "   Logarithm_Total_Assets  Logarithm_Total_Sales  \n",
       "0                9.807087               8.821732  \n",
       "1                9.882162               8.836374  \n",
       "2                9.939241               8.928773  \n",
       "3               10.028224               8.966867  \n",
       "4               10.077021               8.866441  \n",
       "\n",
       "[5 rows x 25 columns]"
      ]
     },
     "execution_count": 44,
     "metadata": {},
     "output_type": "execute_result"
    }
   ],
   "source": [
    "data['Profitable'] = np.where(data.ni > 0, True, False)\n",
    "data['Logarithm_Total_Assets'] = np.log(data['at'])\n",
    "data['Logarithm_Total_Sales'] = np.log(data['sale'])\n",
    "rename = {'at': \"Total_Assets\", 'ni': \"Net_Income\", 'sale': \"Total_Sales\",\"conm\": \"Company\"}\n",
    "data.rename(columns=rename, inplace=True)\n",
    "data.head()"
   ]
  },
  {
   "cell_type": "code",
   "execution_count": 51,
   "id": "clear-vaccine",
   "metadata": {},
   "outputs": [
    {
     "name": "stdout",
     "output_type": "stream",
     "text": [
      "<class 'pandas.core.frame.DataFrame'>\n",
      "Int64Index: 780 entries, 0 to 779\n",
      "Data columns (total 25 columns):\n",
      " #   Column                                             Non-Null Count  Dtype  \n",
      "---  ------                                             --------------  -----  \n",
      " 0   Year                                               780 non-null    int64  \n",
      " 1   Ticker                                             780 non-null    object \n",
      " 2   Environmental Disclosure Score                     636 non-null    float64\n",
      " 3   GHG Scope 1                                        398 non-null    float64\n",
      " 4   Total Energy Consumption                           243 non-null    float64\n",
      " 5   Change_in_EDS                                      589 non-null    float64\n",
      " 6   Change_in_GHG                                      377 non-null    float64\n",
      " 7   Change_in_TEC                                      237 non-null    float64\n",
      " 8   Company                                            757 non-null    object \n",
      " 9   Total_Assets                                       754 non-null    float64\n",
      " 10  Net_Income                                         754 non-null    float64\n",
      " 11  Total_Sales                                        754 non-null    float64\n",
      " 12  Change_in_Sales                                    754 non-null    float64\n",
      " 13  Change_in_Assets                                   754 non-null    float64\n",
      " 14  Change_in_NI                                       754 non-null    float64\n",
      " 15  ROA                                                754 non-null    float64\n",
      " 16  Profit_Margin                                      754 non-null    float64\n",
      " 17  Annual_Stock_Return                                364 non-null    float64\n",
      " 18  Ratio of GHG Emissions to Total Assets             398 non-null    float64\n",
      " 19  Ratio of GHG Emissions to Total Sales              398 non-null    float64\n",
      " 20  Ratio of Total Energy Consumption to Total Assets  243 non-null    float64\n",
      " 21  Ratio of Total Energy Consumption to Total Sales   243 non-null    float64\n",
      " 22  Profitable                                         780 non-null    bool   \n",
      " 23  Logarithm_Total_Assets                             754 non-null    float64\n",
      " 24  Logarithm_Total_Sales                              754 non-null    float64\n",
      "dtypes: bool(1), float64(21), int64(1), object(2)\n",
      "memory usage: 153.1+ KB\n"
     ]
    }
   ],
   "source": [
    "data.info()"
   ]
  },
  {
   "cell_type": "code",
   "execution_count": 56,
   "id": "hawaiian-enhancement",
   "metadata": {},
   "outputs": [],
   "source": [
    "data.loc[(data.Ticker == 'BKR') & (data.Company.isna()), 'Company'] = 'BAKER HUGHES CO'\n",
    "data.loc[(data.Ticker == 'FANG') & (data.Company.isna()), 'Company'] = 'DIAMONDBACK ENERGY INC'\n",
    "data.loc[(data.Ticker == 'MPC') & (data.Company.isna()), 'Company'] = 'MARATHON PETROLEUM CORP'\n",
    "data.loc[(data.Ticker == 'PSX') & (data.Company.isna()), 'Company'] = 'PHILLIPS 66'"
   ]
  },
  {
   "cell_type": "code",
   "execution_count": 57,
   "id": "mediterranean-antenna",
   "metadata": {},
   "outputs": [],
   "source": [
    "data.to_csv('pilot_stocks.csv', index=False)"
   ]
=======
   "cell_type": "code",
   "execution_count": null,
   "id": "thirty-monday",
   "metadata": {},
   "outputs": [],
   "source": []
>>>>>>> parent of 9396477 (Check in multiple changes to the github)
  }
 ],
 "metadata": {
  "kernelspec": {
   "display_name": "Python 3",
   "language": "python",
   "name": "python3"
  },
  "language_info": {
   "codemirror_mode": {
    "name": "ipython",
    "version": 3
   },
   "file_extension": ".py",
   "mimetype": "text/x-python",
   "name": "python",
   "nbconvert_exporter": "python",
   "pygments_lexer": "ipython3",
   "version": "3.8.8"
  }
 },
 "nbformat": 4,
 "nbformat_minor": 5
}
