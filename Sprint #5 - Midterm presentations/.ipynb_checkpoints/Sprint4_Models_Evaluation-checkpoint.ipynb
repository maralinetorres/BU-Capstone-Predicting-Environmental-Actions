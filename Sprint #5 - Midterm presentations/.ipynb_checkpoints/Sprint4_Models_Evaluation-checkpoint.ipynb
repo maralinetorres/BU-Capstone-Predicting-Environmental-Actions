{
 "cells": [
  {
   "cell_type": "markdown",
<<<<<<< HEAD
   "id": "thrown-sweet",
=======
   "id": "equal-principle",
>>>>>>> parent of 9396477 (Check in multiple changes to the github)
   "metadata": {
    "id": "referenced-gabriel"
   },
   "source": [
<<<<<<< HEAD
    "# Sprint 4 - Model evaluation for Missing GHG values\n",
    "\n",
    "In this notebook, we present the four predictive models we worked on. The goal of these models is to populate missing GHG values in our dataset. "
=======
    "# Predictive Models for GHG Scope 1\n",
    "\n",
    "In this notebook, we present the four predictive models we worked on."
>>>>>>> parent of 9396477 (Check in multiple changes to the github)
   ]
  },
  {
   "cell_type": "markdown",
<<<<<<< HEAD
   "id": "focused-casino",
=======
   "id": "fifteen-vintage",
>>>>>>> parent of 9396477 (Check in multiple changes to the github)
   "metadata": {
    "id": "metric-country"
   },
   "source": [
    "## Feauture Engineering\n",
    "\n",
    "Before coding the models, we will create two new variables in our dataset. \n",
    "\n",
    "1. Missing_GHG - Boolean indicating if the stock had a missing value in that year (1 = True / 0 = False)\n",
    "2. Utilities - Boolean indicating if it is a Utility company (1 = True / 0 = False)\n",
    "3. Time Trend - Cumulative value (0,1,2,3) for each year the stock is in the dataset.\n",
    "\n",
<<<<<<< HEAD
    "The second variable will be used in the Model #3 and #4"
=======
    "The second variable will be used in the Model #3 and #4\n",
    "\n",
    "Also, we will create a function to help us apply the k-fold cross validations to any number of splits and to whichever model."
>>>>>>> parent of 9396477 (Check in multiple changes to the github)
   ]
  },
  {
   "cell_type": "markdown",
<<<<<<< HEAD
   "id": "lonely-panama",
=======
   "id": "intense-maine",
>>>>>>> parent of 9396477 (Check in multiple changes to the github)
   "metadata": {
    "id": "abandoned-latitude"
   },
   "source": [
    "#### Missing_GHG"
   ]
  },
  {
   "cell_type": "code",
<<<<<<< HEAD
   "execution_count": 1,
   "id": "adverse-today",
=======
   "execution_count": null,
   "id": "restricted-allen",
>>>>>>> parent of 9396477 (Check in multiple changes to the github)
   "metadata": {
    "colab": {
     "base_uri": "https://localhost:8080/",
     "height": 204
    },
    "id": "PV-FA_UhBI12",
    "outputId": "39cb95c5-1b6b-448c-cb76-45175e2329fa"
   },
<<<<<<< HEAD
   "outputs": [
    {
     "data": {
      "text/html": [
       "<div>\n",
       "<style scoped>\n",
       "    .dataframe tbody tr th:only-of-type {\n",
       "        vertical-align: middle;\n",
       "    }\n",
       "\n",
       "    .dataframe tbody tr th {\n",
       "        vertical-align: top;\n",
       "    }\n",
       "\n",
       "    .dataframe thead th {\n",
       "        text-align: right;\n",
       "    }\n",
       "</style>\n",
       "<table border=\"1\" class=\"dataframe\">\n",
       "  <thead>\n",
       "    <tr style=\"text-align: right;\">\n",
       "      <th></th>\n",
       "      <th>GHG Scope 1</th>\n",
       "      <th>Missing_GHG</th>\n",
       "    </tr>\n",
       "  </thead>\n",
       "  <tbody>\n",
       "    <tr>\n",
       "      <th>0</th>\n",
       "      <td>NaN</td>\n",
       "      <td>1</td>\n",
       "    </tr>\n",
       "    <tr>\n",
       "      <th>1</th>\n",
       "      <td>NaN</td>\n",
       "      <td>1</td>\n",
       "    </tr>\n",
       "    <tr>\n",
       "      <th>2</th>\n",
       "      <td>NaN</td>\n",
       "      <td>1</td>\n",
       "    </tr>\n",
       "    <tr>\n",
       "      <th>3</th>\n",
       "      <td>NaN</td>\n",
       "      <td>1</td>\n",
       "    </tr>\n",
       "    <tr>\n",
       "      <th>4</th>\n",
       "      <td>NaN</td>\n",
       "      <td>1</td>\n",
       "    </tr>\n",
       "  </tbody>\n",
       "</table>\n",
       "</div>"
      ],
      "text/plain": [
       "   GHG Scope 1  Missing_GHG\n",
       "0          NaN            1\n",
       "1          NaN            1\n",
       "2          NaN            1\n",
       "3          NaN            1\n",
       "4          NaN            1"
      ]
     },
     "execution_count": 1,
     "metadata": {},
     "output_type": "execute_result"
    }
   ],
=======
   "outputs": [],
>>>>>>> parent of 9396477 (Check in multiple changes to the github)
   "source": [
    "import pandas as pd\n",
    "import numpy as np\n",
    "import seaborn as sns\n",
    "import matplotlib.pyplot as plt\n",
    "import missingno as msno\n",
    "from sklearn.linear_model import LinearRegression, Ridge, RidgeCV, Lasso, LassoCV\n",
    "from sklearn.tree import DecisionTreeClassifier\n",
    "from sklearn.model_selection import train_test_split, cross_val_score, KFold, cross_val_predict\n",
    "from sklearn import metrics\n",
    "from sklearn.metrics import r2_score\n",
    "from sklearn.preprocessing import scale, PolynomialFeatures\n",
    "from sklearn.feature_selection import RFE\n",
    "from datetime import datetime, date\n",
<<<<<<< HEAD
    "\n",
    "stocks = pd.read_csv(\"/Users/maralinetorres/Documents/GitHub/Predicting-Environmental-and-Social-Actions/Datasets/company_data.csv\")\n",
=======
    "from mpl_toolkits.mplot3d import Axes3D # Visualize the Data for Multiple Linear Regression\n",
    "import warnings\n",
    "warnings.filterwarnings('ignore')\n",
    "\n",
    "stocks = pd.read_csv(\"/Users/maralinetorres/Documents/GitHub/Predicting-Environmental-and-Social-Actions/Datasets/pilot_stocks.csv\")\n",
>>>>>>> parent of 9396477 (Check in multiple changes to the github)
    "sectors = pd.read_csv(\"/Users/maralinetorres/Documents/GitHub/Predicting-Environmental-and-Social-Actions/Datasets/52_tickers_sectors.csv\")\n",
    "\n",
    "stocks['Missing_GHG'] = np.where(stocks['GHG Scope 1'].isna(), 1, 0)\n",
    "stocks.loc[stocks['GHG Scope 1'].isna(),['GHG Scope 1','Missing_GHG']].head()"
   ]
  },
  {
   "cell_type": "markdown",
<<<<<<< HEAD
   "id": "conscious-surface",
=======
   "id": "clean-fourth",
>>>>>>> parent of 9396477 (Check in multiple changes to the github)
   "metadata": {
    "id": "present-nurse"
   },
   "source": [
    "#### Utilities"
   ]
  },
  {
   "cell_type": "code",
<<<<<<< HEAD
   "execution_count": 2,
   "id": "aggregate-woman",
=======
   "execution_count": null,
   "id": "alone-exclusion",
>>>>>>> parent of 9396477 (Check in multiple changes to the github)
   "metadata": {
    "colab": {
     "base_uri": "https://localhost:8080/",
     "height": 394
    },
    "id": "posted-blair",
    "outputId": "28b58b4a-37d9-470c-ac6e-36ecf11fa079"
   },
<<<<<<< HEAD
   "outputs": [
    {
     "data": {
      "text/html": [
       "<div>\n",
       "<style scoped>\n",
       "    .dataframe tbody tr th:only-of-type {\n",
       "        vertical-align: middle;\n",
       "    }\n",
       "\n",
       "    .dataframe tbody tr th {\n",
       "        vertical-align: top;\n",
       "    }\n",
       "\n",
       "    .dataframe thead th {\n",
       "        text-align: right;\n",
       "    }\n",
       "</style>\n",
       "<table border=\"1\" class=\"dataframe\">\n",
       "  <thead>\n",
       "    <tr style=\"text-align: right;\">\n",
       "      <th></th>\n",
       "      <th>Year</th>\n",
       "      <th>Ticker</th>\n",
       "      <th>Environmental Disclosure Score</th>\n",
       "      <th>GHG Scope 1</th>\n",
       "      <th>Total Energy Consumption</th>\n",
       "      <th>Change_in_EDS</th>\n",
       "      <th>Change_in_GHG</th>\n",
       "      <th>Change_in_TEC</th>\n",
       "      <th>Ratio of GHG Emissions to Total Assets</th>\n",
       "      <th>Ratio of GHG Emissions to Total Sales</th>\n",
       "      <th>...</th>\n",
       "      <th>Change_in_NI</th>\n",
       "      <th>ROA</th>\n",
       "      <th>Profit_Margin</th>\n",
       "      <th>Annual Return</th>\n",
       "      <th>Logarithm_Total_Assets</th>\n",
       "      <th>Logarithm_Total_Sales</th>\n",
       "      <th>Profitable</th>\n",
       "      <th>Missing_GHG</th>\n",
       "      <th>Sector</th>\n",
       "      <th>Utility</th>\n",
       "    </tr>\n",
       "  </thead>\n",
       "  <tbody>\n",
       "    <tr>\n",
       "      <th>0</th>\n",
       "      <td>2005</td>\n",
       "      <td>AEE</td>\n",
       "      <td>NaN</td>\n",
       "      <td>NaN</td>\n",
       "      <td>NaN</td>\n",
       "      <td>0.000000</td>\n",
       "      <td>0.0</td>\n",
       "      <td>0.0</td>\n",
       "      <td>NaN</td>\n",
       "      <td>NaN</td>\n",
       "      <td>...</td>\n",
       "      <td>0.000000</td>\n",
       "      <td>3.408215</td>\n",
       "      <td>9.129794</td>\n",
       "      <td>NaN</td>\n",
       "      <td>9.807087</td>\n",
       "      <td>8.821732</td>\n",
       "      <td>True</td>\n",
       "      <td>1</td>\n",
       "      <td>Utilities</td>\n",
       "      <td>1</td>\n",
       "    </tr>\n",
       "    <tr>\n",
       "      <th>1</th>\n",
       "      <td>2006</td>\n",
       "      <td>AEE</td>\n",
       "      <td>NaN</td>\n",
       "      <td>NaN</td>\n",
       "      <td>NaN</td>\n",
       "      <td>0.000000</td>\n",
       "      <td>0.0</td>\n",
       "      <td>0.0</td>\n",
       "      <td>NaN</td>\n",
       "      <td>NaN</td>\n",
       "      <td>...</td>\n",
       "      <td>-9.854604</td>\n",
       "      <td>2.850138</td>\n",
       "      <td>8.110465</td>\n",
       "      <td>NaN</td>\n",
       "      <td>9.882162</td>\n",
       "      <td>8.836374</td>\n",
       "      <td>True</td>\n",
       "      <td>1</td>\n",
       "      <td>Utilities</td>\n",
       "      <td>1</td>\n",
       "    </tr>\n",
       "    <tr>\n",
       "      <th>2</th>\n",
       "      <td>2007</td>\n",
       "      <td>AEE</td>\n",
       "      <td>9.7</td>\n",
       "      <td>NaN</td>\n",
       "      <td>NaN</td>\n",
       "      <td>0.000000</td>\n",
       "      <td>0.0</td>\n",
       "      <td>0.0</td>\n",
       "      <td>NaN</td>\n",
       "      <td>NaN</td>\n",
       "      <td>...</td>\n",
       "      <td>12.724014</td>\n",
       "      <td>3.034543</td>\n",
       "      <td>8.335542</td>\n",
       "      <td>NaN</td>\n",
       "      <td>9.939241</td>\n",
       "      <td>8.928773</td>\n",
       "      <td>True</td>\n",
       "      <td>1</td>\n",
       "      <td>Utilities</td>\n",
       "      <td>1</td>\n",
       "    </tr>\n",
       "    <tr>\n",
       "      <th>3</th>\n",
       "      <td>2008</td>\n",
       "      <td>AEE</td>\n",
       "      <td>9.7</td>\n",
       "      <td>NaN</td>\n",
       "      <td>NaN</td>\n",
       "      <td>0.000000</td>\n",
       "      <td>0.0</td>\n",
       "      <td>0.0</td>\n",
       "      <td>NaN</td>\n",
       "      <td>NaN</td>\n",
       "      <td>...</td>\n",
       "      <td>-2.225755</td>\n",
       "      <td>2.714393</td>\n",
       "      <td>7.845388</td>\n",
       "      <td>NaN</td>\n",
       "      <td>10.028224</td>\n",
       "      <td>8.966867</td>\n",
       "      <td>True</td>\n",
       "      <td>1</td>\n",
       "      <td>Utilities</td>\n",
       "      <td>1</td>\n",
       "    </tr>\n",
       "    <tr>\n",
       "      <th>4</th>\n",
       "      <td>2009</td>\n",
       "      <td>AEE</td>\n",
       "      <td>12.4</td>\n",
       "      <td>NaN</td>\n",
       "      <td>NaN</td>\n",
       "      <td>27.835052</td>\n",
       "      <td>0.0</td>\n",
       "      <td>0.0</td>\n",
       "      <td>NaN</td>\n",
       "      <td>NaN</td>\n",
       "      <td>...</td>\n",
       "      <td>-0.487805</td>\n",
       "      <td>2.572509</td>\n",
       "      <td>8.631876</td>\n",
       "      <td>NaN</td>\n",
       "      <td>10.077021</td>\n",
       "      <td>8.866441</td>\n",
       "      <td>True</td>\n",
       "      <td>1</td>\n",
       "      <td>Utilities</td>\n",
       "      <td>1</td>\n",
       "    </tr>\n",
       "  </tbody>\n",
       "</table>\n",
       "<p>5 rows × 30 columns</p>\n",
       "</div>"
      ],
      "text/plain": [
       "   Year Ticker  Environmental Disclosure Score  GHG Scope 1  \\\n",
       "0  2005    AEE                             NaN          NaN   \n",
       "1  2006    AEE                             NaN          NaN   \n",
       "2  2007    AEE                             9.7          NaN   \n",
       "3  2008    AEE                             9.7          NaN   \n",
       "4  2009    AEE                            12.4          NaN   \n",
       "\n",
       "   Total Energy Consumption  Change_in_EDS  Change_in_GHG  Change_in_TEC  \\\n",
       "0                       NaN       0.000000            0.0            0.0   \n",
       "1                       NaN       0.000000            0.0            0.0   \n",
       "2                       NaN       0.000000            0.0            0.0   \n",
       "3                       NaN       0.000000            0.0            0.0   \n",
       "4                       NaN      27.835052            0.0            0.0   \n",
       "\n",
       "   Ratio of GHG Emissions to Total Assets  \\\n",
       "0                                     NaN   \n",
       "1                                     NaN   \n",
       "2                                     NaN   \n",
       "3                                     NaN   \n",
       "4                                     NaN   \n",
       "\n",
       "   Ratio of GHG Emissions to Total Sales  ...  Change_in_NI       ROA  \\\n",
       "0                                    NaN  ...      0.000000  3.408215   \n",
       "1                                    NaN  ...     -9.854604  2.850138   \n",
       "2                                    NaN  ...     12.724014  3.034543   \n",
       "3                                    NaN  ...     -2.225755  2.714393   \n",
       "4                                    NaN  ...     -0.487805  2.572509   \n",
       "\n",
       "  Profit_Margin Annual Return  Logarithm_Total_Assets  Logarithm_Total_Sales  \\\n",
       "0      9.129794           NaN                9.807087               8.821732   \n",
       "1      8.110465           NaN                9.882162               8.836374   \n",
       "2      8.335542           NaN                9.939241               8.928773   \n",
       "3      7.845388           NaN               10.028224               8.966867   \n",
       "4      8.631876           NaN               10.077021               8.866441   \n",
       "\n",
       "   Profitable  Missing_GHG     Sector  Utility  \n",
       "0        True            1  Utilities        1  \n",
       "1        True            1  Utilities        1  \n",
       "2        True            1  Utilities        1  \n",
       "3        True            1  Utilities        1  \n",
       "4        True            1  Utilities        1  \n",
       "\n",
       "[5 rows x 30 columns]"
      ]
     },
     "execution_count": 2,
     "metadata": {},
     "output_type": "execute_result"
    }
   ],
=======
   "outputs": [],
>>>>>>> parent of 9396477 (Check in multiple changes to the github)
   "source": [
    "df = pd.merge(stocks, sectors, how='inner',on='Ticker')\n",
    "df.drop(columns='Name', inplace=True)\n",
    "stocks = df.copy()\n",
    "stocks['Utility'] = np.where(stocks.Sector == 'Utilities',1,0)\n",
    "stocks.loc[stocks.Sector == 'Utilities',].head()"
   ]
  },
  {
   "cell_type": "markdown",
<<<<<<< HEAD
   "id": "appropriate-cheat",
=======
   "id": "sweet-cylinder",
>>>>>>> parent of 9396477 (Check in multiple changes to the github)
   "metadata": {
    "id": "tamil-fault"
   },
   "source": [
    "#### Time trend"
   ]
  },
  {
   "cell_type": "code",
<<<<<<< HEAD
   "execution_count": 3,
   "id": "infectious-pastor",
=======
   "execution_count": null,
   "id": "deluxe-report",
>>>>>>> parent of 9396477 (Check in multiple changes to the github)
   "metadata": {
    "colab": {
     "base_uri": "https://localhost:8080/"
    },
    "id": "moved-adapter",
    "outputId": "5108241a-132c-4250-8302-b38ac89fc425"
   },
<<<<<<< HEAD
   "outputs": [
    {
     "data": {
      "text/html": [
       "<div>\n",
       "<style scoped>\n",
       "    .dataframe tbody tr th:only-of-type {\n",
       "        vertical-align: middle;\n",
       "    }\n",
       "\n",
       "    .dataframe tbody tr th {\n",
       "        vertical-align: top;\n",
       "    }\n",
       "\n",
       "    .dataframe thead th {\n",
       "        text-align: right;\n",
       "    }\n",
       "</style>\n",
       "<table border=\"1\" class=\"dataframe\">\n",
       "  <thead>\n",
       "    <tr style=\"text-align: right;\">\n",
       "      <th></th>\n",
       "      <th>Year</th>\n",
       "      <th>Ticker</th>\n",
       "      <th>Environmental Disclosure Score</th>\n",
       "      <th>GHG Scope 1</th>\n",
       "      <th>Total Energy Consumption</th>\n",
       "      <th>Change_in_EDS</th>\n",
       "      <th>Change_in_GHG</th>\n",
       "      <th>Change_in_TEC</th>\n",
       "      <th>Ratio of GHG Emissions to Total Assets</th>\n",
       "      <th>Ratio of GHG Emissions to Total Sales</th>\n",
       "      <th>...</th>\n",
       "      <th>ROA</th>\n",
       "      <th>Profit_Margin</th>\n",
       "      <th>Annual Return</th>\n",
       "      <th>Logarithm_Total_Assets</th>\n",
       "      <th>Logarithm_Total_Sales</th>\n",
       "      <th>Profitable</th>\n",
       "      <th>Missing_GHG</th>\n",
       "      <th>Sector</th>\n",
       "      <th>Utility</th>\n",
       "      <th>time_trend</th>\n",
       "    </tr>\n",
       "  </thead>\n",
       "  <tbody>\n",
       "    <tr>\n",
       "      <th>765</th>\n",
       "      <td>2005</td>\n",
       "      <td>XOM</td>\n",
       "      <td>NaN</td>\n",
       "      <td>NaN</td>\n",
       "      <td>NaN</td>\n",
       "      <td>0.000000</td>\n",
       "      <td>0.000000</td>\n",
       "      <td>0.000000</td>\n",
       "      <td>NaN</td>\n",
       "      <td>NaN</td>\n",
       "      <td>...</td>\n",
       "      <td>17.342261</td>\n",
       "      <td>11.008095</td>\n",
       "      <td>NaN</td>\n",
       "      <td>12.246903</td>\n",
       "      <td>12.701418</td>\n",
       "      <td>True</td>\n",
       "      <td>1</td>\n",
       "      <td>Energy</td>\n",
       "      <td>0</td>\n",
       "      <td>0</td>\n",
       "    </tr>\n",
       "    <tr>\n",
       "      <th>766</th>\n",
       "      <td>2006</td>\n",
       "      <td>XOM</td>\n",
       "      <td>43.8</td>\n",
       "      <td>145500.0</td>\n",
       "      <td>433650.0</td>\n",
       "      <td>0.000000</td>\n",
       "      <td>0.000000</td>\n",
       "      <td>0.000000</td>\n",
       "      <td>664.338059</td>\n",
       "      <td>434.216888</td>\n",
       "      <td>...</td>\n",
       "      <td>18.035294</td>\n",
       "      <td>11.788019</td>\n",
       "      <td>NaN</td>\n",
       "      <td>12.296895</td>\n",
       "      <td>12.722142</td>\n",
       "      <td>True</td>\n",
       "      <td>0</td>\n",
       "      <td>Energy</td>\n",
       "      <td>0</td>\n",
       "      <td>1</td>\n",
       "    </tr>\n",
       "    <tr>\n",
       "      <th>767</th>\n",
       "      <td>2007</td>\n",
       "      <td>XOM</td>\n",
       "      <td>46.3</td>\n",
       "      <td>141000.0</td>\n",
       "      <td>430556.0</td>\n",
       "      <td>5.707763</td>\n",
       "      <td>-3.092784</td>\n",
       "      <td>-0.713479</td>\n",
       "      <td>582.447270</td>\n",
       "      <td>393.195761</td>\n",
       "      <td>...</td>\n",
       "      <td>16.775308</td>\n",
       "      <td>11.324596</td>\n",
       "      <td>NaN</td>\n",
       "      <td>12.397032</td>\n",
       "      <td>12.789963</td>\n",
       "      <td>True</td>\n",
       "      <td>0</td>\n",
       "      <td>Energy</td>\n",
       "      <td>0</td>\n",
       "      <td>2</td>\n",
       "    </tr>\n",
       "    <tr>\n",
       "      <th>768</th>\n",
       "      <td>2008</td>\n",
       "      <td>XOM</td>\n",
       "      <td>46.3</td>\n",
       "      <td>126000.0</td>\n",
       "      <td>416667.0</td>\n",
       "      <td>0.000000</td>\n",
       "      <td>-10.638298</td>\n",
       "      <td>-3.225829</td>\n",
       "      <td>552.505569</td>\n",
       "      <td>296.421068</td>\n",
       "      <td>...</td>\n",
       "      <td>19.828811</td>\n",
       "      <td>10.638223</td>\n",
       "      <td>NaN</td>\n",
       "      <td>12.337329</td>\n",
       "      <td>12.960011</td>\n",
       "      <td>True</td>\n",
       "      <td>0</td>\n",
       "      <td>Energy</td>\n",
       "      <td>0</td>\n",
       "      <td>3</td>\n",
       "    </tr>\n",
       "    <tr>\n",
       "      <th>769</th>\n",
       "      <td>2009</td>\n",
       "      <td>XOM</td>\n",
       "      <td>52.9</td>\n",
       "      <td>128000.0</td>\n",
       "      <td>405639.0</td>\n",
       "      <td>14.254860</td>\n",
       "      <td>1.587302</td>\n",
       "      <td>-2.646718</td>\n",
       "      <td>548.595724</td>\n",
       "      <td>464.501894</td>\n",
       "      <td>...</td>\n",
       "      <td>8.263223</td>\n",
       "      <td>6.996560</td>\n",
       "      <td>NaN</td>\n",
       "      <td>12.360179</td>\n",
       "      <td>12.526575</td>\n",
       "      <td>True</td>\n",
       "      <td>0</td>\n",
       "      <td>Energy</td>\n",
       "      <td>0</td>\n",
       "      <td>4</td>\n",
       "    </tr>\n",
       "    <tr>\n",
       "      <th>770</th>\n",
       "      <td>2010</td>\n",
       "      <td>XOM</td>\n",
       "      <td>54.6</td>\n",
       "      <td>132000.0</td>\n",
       "      <td>408333.0</td>\n",
       "      <td>3.213611</td>\n",
       "      <td>3.125000</td>\n",
       "      <td>0.664137</td>\n",
       "      <td>436.349212</td>\n",
       "      <td>386.441750</td>\n",
       "      <td>...</td>\n",
       "      <td>10.069089</td>\n",
       "      <td>8.917436</td>\n",
       "      <td>NaN</td>\n",
       "      <td>12.619870</td>\n",
       "      <td>12.741331</td>\n",
       "      <td>True</td>\n",
       "      <td>0</td>\n",
       "      <td>Energy</td>\n",
       "      <td>0</td>\n",
       "      <td>5</td>\n",
       "    </tr>\n",
       "    <tr>\n",
       "      <th>771</th>\n",
       "      <td>2011</td>\n",
       "      <td>XOM</td>\n",
       "      <td>54.6</td>\n",
       "      <td>136000.0</td>\n",
       "      <td>430556.0</td>\n",
       "      <td>0.000000</td>\n",
       "      <td>3.030303</td>\n",
       "      <td>5.442372</td>\n",
       "      <td>410.811595</td>\n",
       "      <td>313.706675</td>\n",
       "      <td>...</td>\n",
       "      <td>12.402885</td>\n",
       "      <td>9.471174</td>\n",
       "      <td>NaN</td>\n",
       "      <td>12.710031</td>\n",
       "      <td>12.979707</td>\n",
       "      <td>True</td>\n",
       "      <td>0</td>\n",
       "      <td>Energy</td>\n",
       "      <td>0</td>\n",
       "      <td>6</td>\n",
       "    </tr>\n",
       "    <tr>\n",
       "      <th>772</th>\n",
       "      <td>2012</td>\n",
       "      <td>XOM</td>\n",
       "      <td>55.4</td>\n",
       "      <td>132000.0</td>\n",
       "      <td>416667.0</td>\n",
       "      <td>1.465201</td>\n",
       "      <td>-2.941176</td>\n",
       "      <td>-3.225829</td>\n",
       "      <td>395.452299</td>\n",
       "      <td>313.752335</td>\n",
       "      <td>...</td>\n",
       "      <td>13.445378</td>\n",
       "      <td>10.667579</td>\n",
       "      <td>0.198270</td>\n",
       "      <td>12.718282</td>\n",
       "      <td>12.949709</td>\n",
       "      <td>True</td>\n",
       "      <td>0</td>\n",
       "      <td>Energy</td>\n",
       "      <td>0</td>\n",
       "      <td>7</td>\n",
       "    </tr>\n",
       "    <tr>\n",
       "      <th>773</th>\n",
       "      <td>2013</td>\n",
       "      <td>XOM</td>\n",
       "      <td>55.4</td>\n",
       "      <td>135000.0</td>\n",
       "      <td>416667.0</td>\n",
       "      <td>0.000000</td>\n",
       "      <td>2.272727</td>\n",
       "      <td>0.000000</td>\n",
       "      <td>389.264377</td>\n",
       "      <td>345.934754</td>\n",
       "      <td>...</td>\n",
       "      <td>9.394247</td>\n",
       "      <td>8.348559</td>\n",
       "      <td>0.120157</td>\n",
       "      <td>12.756527</td>\n",
       "      <td>12.874535</td>\n",
       "      <td>True</td>\n",
       "      <td>0</td>\n",
       "      <td>Energy</td>\n",
       "      <td>0</td>\n",
       "      <td>8</td>\n",
       "    </tr>\n",
       "    <tr>\n",
       "      <th>774</th>\n",
       "      <td>2014</td>\n",
       "      <td>XOM</td>\n",
       "      <td>55.4</td>\n",
       "      <td>121000.0</td>\n",
       "      <td>444444.0</td>\n",
       "      <td>0.000000</td>\n",
       "      <td>-10.370370</td>\n",
       "      <td>6.666475</td>\n",
       "      <td>346.215804</td>\n",
       "      <td>331.722242</td>\n",
       "      <td>...</td>\n",
       "      <td>9.304907</td>\n",
       "      <td>8.915378</td>\n",
       "      <td>0.352835</td>\n",
       "      <td>12.764239</td>\n",
       "      <td>12.807003</td>\n",
       "      <td>True</td>\n",
       "      <td>0</td>\n",
       "      <td>Energy</td>\n",
       "      <td>0</td>\n",
       "      <td>9</td>\n",
       "    </tr>\n",
       "    <tr>\n",
       "      <th>775</th>\n",
       "      <td>2015</td>\n",
       "      <td>XOM</td>\n",
       "      <td>55.4</td>\n",
       "      <td>118000.0</td>\n",
       "      <td>472222.0</td>\n",
       "      <td>0.000000</td>\n",
       "      <td>-2.479339</td>\n",
       "      <td>6.250056</td>\n",
       "      <td>350.399990</td>\n",
       "      <td>498.289768</td>\n",
       "      <td>...</td>\n",
       "      <td>4.795729</td>\n",
       "      <td>6.819813</td>\n",
       "      <td>0.025943</td>\n",
       "      <td>12.727120</td>\n",
       "      <td>12.375013</td>\n",
       "      <td>True</td>\n",
       "      <td>0</td>\n",
       "      <td>Energy</td>\n",
       "      <td>0</td>\n",
       "      <td>10</td>\n",
       "    </tr>\n",
       "    <tr>\n",
       "      <th>776</th>\n",
       "      <td>2016</td>\n",
       "      <td>XOM</td>\n",
       "      <td>53.7</td>\n",
       "      <td>120000.0</td>\n",
       "      <td>416667.0</td>\n",
       "      <td>-3.068592</td>\n",
       "      <td>1.694915</td>\n",
       "      <td>-11.764594</td>\n",
       "      <td>363.290687</td>\n",
       "      <td>607.539566</td>\n",
       "      <td>...</td>\n",
       "      <td>2.373499</td>\n",
       "      <td>3.969258</td>\n",
       "      <td>0.105391</td>\n",
       "      <td>12.707799</td>\n",
       "      <td>12.193585</td>\n",
       "      <td>True</td>\n",
       "      <td>0</td>\n",
       "      <td>Energy</td>\n",
       "      <td>0</td>\n",
       "      <td>11</td>\n",
       "    </tr>\n",
       "    <tr>\n",
       "      <th>777</th>\n",
       "      <td>2017</td>\n",
       "      <td>XOM</td>\n",
       "      <td>53.7</td>\n",
       "      <td>117000.0</td>\n",
       "      <td>416667.0</td>\n",
       "      <td>0.000000</td>\n",
       "      <td>-2.500000</td>\n",
       "      <td>0.000000</td>\n",
       "      <td>335.540636</td>\n",
       "      <td>493.333671</td>\n",
       "      <td>...</td>\n",
       "      <td>5.652569</td>\n",
       "      <td>8.310775</td>\n",
       "      <td>0.125855</td>\n",
       "      <td>12.761941</td>\n",
       "      <td>12.376499</td>\n",
       "      <td>True</td>\n",
       "      <td>0</td>\n",
       "      <td>Energy</td>\n",
       "      <td>0</td>\n",
       "      <td>12</td>\n",
       "    </tr>\n",
       "    <tr>\n",
       "      <th>778</th>\n",
       "      <td>2018</td>\n",
       "      <td>XOM</td>\n",
       "      <td>53.7</td>\n",
       "      <td>119000.0</td>\n",
       "      <td>416667.0</td>\n",
       "      <td>0.000000</td>\n",
       "      <td>1.709402</td>\n",
       "      <td>0.000000</td>\n",
       "      <td>343.735918</td>\n",
       "      <td>426.016353</td>\n",
       "      <td>...</td>\n",
       "      <td>6.019711</td>\n",
       "      <td>7.460656</td>\n",
       "      <td>0.175170</td>\n",
       "      <td>12.754760</td>\n",
       "      <td>12.540156</td>\n",
       "      <td>True</td>\n",
       "      <td>0</td>\n",
       "      <td>Energy</td>\n",
       "      <td>0</td>\n",
       "      <td>13</td>\n",
       "    </tr>\n",
       "    <tr>\n",
       "      <th>779</th>\n",
       "      <td>2019</td>\n",
       "      <td>XOM</td>\n",
       "      <td>56.2</td>\n",
       "      <td>114000.0</td>\n",
       "      <td>416667.0</td>\n",
       "      <td>4.655493</td>\n",
       "      <td>-4.201681</td>\n",
       "      <td>0.000000</td>\n",
       "      <td>314.398630</td>\n",
       "      <td>446.039056</td>\n",
       "      <td>...</td>\n",
       "      <td>3.954804</td>\n",
       "      <td>5.610702</td>\n",
       "      <td>0.407673</td>\n",
       "      <td>12.801047</td>\n",
       "      <td>12.451302</td>\n",
       "      <td>True</td>\n",
       "      <td>0</td>\n",
       "      <td>Energy</td>\n",
       "      <td>0</td>\n",
       "      <td>14</td>\n",
       "    </tr>\n",
       "  </tbody>\n",
       "</table>\n",
       "<p>15 rows × 31 columns</p>\n",
       "</div>"
      ],
      "text/plain": [
       "     Year Ticker  Environmental Disclosure Score  GHG Scope 1  \\\n",
       "765  2005    XOM                             NaN          NaN   \n",
       "766  2006    XOM                            43.8     145500.0   \n",
       "767  2007    XOM                            46.3     141000.0   \n",
       "768  2008    XOM                            46.3     126000.0   \n",
       "769  2009    XOM                            52.9     128000.0   \n",
       "770  2010    XOM                            54.6     132000.0   \n",
       "771  2011    XOM                            54.6     136000.0   \n",
       "772  2012    XOM                            55.4     132000.0   \n",
       "773  2013    XOM                            55.4     135000.0   \n",
       "774  2014    XOM                            55.4     121000.0   \n",
       "775  2015    XOM                            55.4     118000.0   \n",
       "776  2016    XOM                            53.7     120000.0   \n",
       "777  2017    XOM                            53.7     117000.0   \n",
       "778  2018    XOM                            53.7     119000.0   \n",
       "779  2019    XOM                            56.2     114000.0   \n",
       "\n",
       "     Total Energy Consumption  Change_in_EDS  Change_in_GHG  Change_in_TEC  \\\n",
       "765                       NaN       0.000000       0.000000       0.000000   \n",
       "766                  433650.0       0.000000       0.000000       0.000000   \n",
       "767                  430556.0       5.707763      -3.092784      -0.713479   \n",
       "768                  416667.0       0.000000     -10.638298      -3.225829   \n",
       "769                  405639.0      14.254860       1.587302      -2.646718   \n",
       "770                  408333.0       3.213611       3.125000       0.664137   \n",
       "771                  430556.0       0.000000       3.030303       5.442372   \n",
       "772                  416667.0       1.465201      -2.941176      -3.225829   \n",
       "773                  416667.0       0.000000       2.272727       0.000000   \n",
       "774                  444444.0       0.000000     -10.370370       6.666475   \n",
       "775                  472222.0       0.000000      -2.479339       6.250056   \n",
       "776                  416667.0      -3.068592       1.694915     -11.764594   \n",
       "777                  416667.0       0.000000      -2.500000       0.000000   \n",
       "778                  416667.0       0.000000       1.709402       0.000000   \n",
       "779                  416667.0       4.655493      -4.201681       0.000000   \n",
       "\n",
       "     Ratio of GHG Emissions to Total Assets  \\\n",
       "765                                     NaN   \n",
       "766                              664.338059   \n",
       "767                              582.447270   \n",
       "768                              552.505569   \n",
       "769                              548.595724   \n",
       "770                              436.349212   \n",
       "771                              410.811595   \n",
       "772                              395.452299   \n",
       "773                              389.264377   \n",
       "774                              346.215804   \n",
       "775                              350.399990   \n",
       "776                              363.290687   \n",
       "777                              335.540636   \n",
       "778                              343.735918   \n",
       "779                              314.398630   \n",
       "\n",
       "     Ratio of GHG Emissions to Total Sales  ...        ROA  Profit_Margin  \\\n",
       "765                                    NaN  ...  17.342261      11.008095   \n",
       "766                             434.216888  ...  18.035294      11.788019   \n",
       "767                             393.195761  ...  16.775308      11.324596   \n",
       "768                             296.421068  ...  19.828811      10.638223   \n",
       "769                             464.501894  ...   8.263223       6.996560   \n",
       "770                             386.441750  ...  10.069089       8.917436   \n",
       "771                             313.706675  ...  12.402885       9.471174   \n",
       "772                             313.752335  ...  13.445378      10.667579   \n",
       "773                             345.934754  ...   9.394247       8.348559   \n",
       "774                             331.722242  ...   9.304907       8.915378   \n",
       "775                             498.289768  ...   4.795729       6.819813   \n",
       "776                             607.539566  ...   2.373499       3.969258   \n",
       "777                             493.333671  ...   5.652569       8.310775   \n",
       "778                             426.016353  ...   6.019711       7.460656   \n",
       "779                             446.039056  ...   3.954804       5.610702   \n",
       "\n",
       "    Annual Return Logarithm_Total_Assets  Logarithm_Total_Sales  Profitable  \\\n",
       "765           NaN              12.246903              12.701418        True   \n",
       "766           NaN              12.296895              12.722142        True   \n",
       "767           NaN              12.397032              12.789963        True   \n",
       "768           NaN              12.337329              12.960011        True   \n",
       "769           NaN              12.360179              12.526575        True   \n",
       "770           NaN              12.619870              12.741331        True   \n",
       "771           NaN              12.710031              12.979707        True   \n",
       "772      0.198270              12.718282              12.949709        True   \n",
       "773      0.120157              12.756527              12.874535        True   \n",
       "774      0.352835              12.764239              12.807003        True   \n",
       "775      0.025943              12.727120              12.375013        True   \n",
       "776      0.105391              12.707799              12.193585        True   \n",
       "777      0.125855              12.761941              12.376499        True   \n",
       "778      0.175170              12.754760              12.540156        True   \n",
       "779      0.407673              12.801047              12.451302        True   \n",
       "\n",
       "     Missing_GHG  Sector  Utility  time_trend  \n",
       "765            1  Energy        0           0  \n",
       "766            0  Energy        0           1  \n",
       "767            0  Energy        0           2  \n",
       "768            0  Energy        0           3  \n",
       "769            0  Energy        0           4  \n",
       "770            0  Energy        0           5  \n",
       "771            0  Energy        0           6  \n",
       "772            0  Energy        0           7  \n",
       "773            0  Energy        0           8  \n",
       "774            0  Energy        0           9  \n",
       "775            0  Energy        0          10  \n",
       "776            0  Energy        0          11  \n",
       "777            0  Energy        0          12  \n",
       "778            0  Energy        0          13  \n",
       "779            0  Energy        0          14  \n",
       "\n",
       "[15 rows x 31 columns]"
      ]
     },
     "execution_count": 3,
     "metadata": {},
     "output_type": "execute_result"
    }
   ],
   "source": [
    "stocks['time_trend'] = stocks.groupby('Ticker').cumcount()\n",
    "stocks.loc[stocks.Ticker == 'XOM'].groupby(['Ticker','Year']).head(20)"
=======
   "outputs": [],
   "source": [
    "stocks['time_trend'] = stocks.groupby('Ticker').cumcount()\n",
    "stocks.loc[stocks.Ticker == 'XOM'].groupby(['Ticker','Year']).head()"
   ]
  },
  {
   "cell_type": "markdown",
   "id": "every-maryland",
   "metadata": {},
   "source": [
    "### K-fold cross validation function\n",
    "\n",
    "Below, we created a function called 'kfold_cross_validation' where we send the number of splits, X and y values and the model_type. The function creates the number of k-folds and fits and make predictions for each split. \n",
    "\n",
    "\n",
    "At the end, the function returns the Mean Squared error, the Root Mean Square Error and the Coefficient of determination (R2)."
   ]
  },
  {
   "cell_type": "code",
   "execution_count": null,
   "id": "simple-competition",
   "metadata": {},
   "outputs": [],
   "source": [
    "def kfold_cross_validation(n_splits, X, y, model_type):\n",
    "    data_y, data_yhat,coef = [], [],[]\n",
    "    kfold = KFold(n_splits=n_splits, random_state = 42, shuffle=True)\n",
    "    for train_ix, test_ix in kfold.split(X):\n",
    "        # get data\n",
    "        train_X, test_X = X[train_ix], X[test_ix]\n",
    "        train_y, test_y = y[train_ix], y[test_ix]\n",
    "        # fit model\n",
    "        model = model_type\n",
    "        model.fit(train_X, train_y)\n",
    "        # make predictions\n",
    "        yhat = model.predict(test_X)\n",
    "            \n",
    "        coef.append(model.coef_)\n",
    "        # store\n",
    "        data_y.extend(test_y)\n",
    "        data_yhat.extend(yhat)\n",
    "\n",
    "    # Evaluate the model\n",
    "    print('Mean squared error: %.2f' % metrics.mean_squared_error(data_y, data_yhat))\n",
    "    print(f'Root Mean Squared Error: {np.sqrt(metrics.mean_squared_error(data_y, data_yhat))}')\n",
    "    print('Coefficient of determination: %.2f'% metrics.r2_score(data_y, data_yhat))"
>>>>>>> parent of 9396477 (Check in multiple changes to the github)
   ]
  },
  {
   "cell_type": "markdown",
<<<<<<< HEAD
   "id": "adaptive-depth",
=======
   "id": "proprietary-comedy",
>>>>>>> parent of 9396477 (Check in multiple changes to the github)
   "metadata": {
    "id": "chief-baghdad"
   },
   "source": [
<<<<<<< HEAD
    "## Models\n",
    "\n",
    "### Model 1 - Sales and Assets\n",
    "\n",
    "\n",
    "GHG = a + b1*Sales + b2*Assets + e     \n"
   ]
  },
  {
   "cell_type": "code",
   "execution_count": 4,
   "id": "cleared-british",
   "metadata": {
    "colab": {
     "base_uri": "https://localhost:8080/"
    },
    "id": "6XpB3CW8ZW1h",
    "outputId": "4644994b-d74f-479a-9caa-eb9bf537f3fe"
   },
   "outputs": [
    {
     "data": {
      "text/plain": [
       "Index(['Year', 'Ticker', 'Environmental Disclosure Score', 'GHG Scope 1',\n",
       "       'Total Energy Consumption', 'Change_in_EDS', 'Change_in_GHG',\n",
       "       'Change_in_TEC', 'Ratio of GHG Emissions to Total Assets',\n",
       "       'Ratio of GHG Emissions to Total Sales',\n",
       "       'Ratio of Total Energy Consumption to Total Assets',\n",
       "       'Ratio of Total Energy Consumption to Total Sales', 'cusip', 'Company',\n",
       "       'Total_Assets', 'Net_Income', 'Total_Sales', 'cik', 'Change_in_Sales',\n",
       "       'Change_in_Assets', 'Change_in_NI', 'ROA', 'Profit_Margin',\n",
       "       'Annual Return', 'Logarithm_Total_Assets', 'Logarithm_Total_Sales',\n",
       "       'Profitable', 'Missing_GHG', 'Sector', 'Utility', 'time_trend'],\n",
       "      dtype='object')"
      ]
     },
     "execution_count": 4,
     "metadata": {},
     "output_type": "execute_result"
    }
   ],
   "source": [
    "df=stocks.copy()\n",
    "df.columns"
=======
    "## Models\n",
    "\n",
    "### Model 1 - Sales and Assets\n",
    "\n",
    "\n",
    "GHG = a + b1*Sales + b2*Assets + e     \n"
   ]
  },
  {
   "cell_type": "code",
   "execution_count": null,
   "id": "qualified-syndicate",
   "metadata": {
    "colab": {
     "base_uri": "https://localhost:8080/"
    },
    "id": "6XpB3CW8ZW1h",
    "outputId": "4644994b-d74f-479a-9caa-eb9bf537f3fe"
   },
   "outputs": [],
   "source": [
    "df=stocks.copy()\n",
    "df.columns"
   ]
  },
  {
   "cell_type": "markdown",
   "id": "shaped-scottish",
   "metadata": {},
   "source": [
    "For this model, the predictors we are interested in are Total Assets and Total Sales and the outcome variable is GHG Scope 1. We will proceed to subset the dataframe to get these columns. "
   ]
  },
  {
   "cell_type": "code",
   "execution_count": null,
   "id": "attempted-baker",
   "metadata": {
    "id": "xwVmIqfAaQC4"
   },
   "outputs": [],
   "source": [
    "da=df[['GHG Scope 1','Total_Sales', 'Total_Assets']]"
   ]
  },
  {
   "cell_type": "markdown",
   "id": "altered-receipt",
   "metadata": {},
   "source": [
    "We are now interested in the observations that are not missing GHG Scope. As presented in the previous notebooks, we have a lot of observations missing the GHG Scope 1 value. Therefore, from 780 observations we only get 398 observations. "
   ]
  },
  {
   "cell_type": "code",
   "execution_count": null,
   "id": "improved-april",
   "metadata": {
    "colab": {
     "base_uri": "https://localhost:8080/",
     "height": 415
    },
    "id": "jlC_zRkDc-_n",
    "outputId": "258f5769-c496-4be3-a768-b53b17952271"
   },
   "outputs": [],
   "source": [
    "dn=da.dropna()\n",
    "print(f'Now, we have {dn.shape[0]} observations')"
   ]
  },
  {
   "cell_type": "markdown",
   "id": "lightweight-philadelphia",
   "metadata": {},
   "source": [
    "### Validation set approach - Hold out\n",
    "\n",
    "Now, we create the X and y variables for the predictors and outcome variable, respectively. Also, we split the dataset into train (80%) and test (20%). "
   ]
  },
  {
   "cell_type": "code",
   "execution_count": null,
   "id": "efficient-channel",
   "metadata": {
    "id": "bca7cLlTdsez"
   },
   "outputs": [],
   "source": [
    "X = dn.iloc[:, 1:3].values\n",
    "y = dn.iloc[:, 0].values\n",
    "X_train, X_test, y_train, y_test = train_test_split(X, y, test_size=0.2, random_state=42)\n",
    "regressor = LinearRegression()\n",
    "regressor.fit(X_train, y_train)"
   ]
  },
  {
   "cell_type": "code",
   "execution_count": null,
   "id": "defined-dynamics",
   "metadata": {
    "id": "generic-surrey"
   },
   "outputs": [],
   "source": [
    "print(f'When we do not include any explanatory variables, the GHG Scope 1 is {round(regressor.intercept_,3)}')"
   ]
  },
  {
   "cell_type": "markdown",
   "id": "beneficial-conference",
   "metadata": {},
   "source": [
    "Now, we are going to predict the GHG Scope using the test split. "
   ]
  },
  {
   "cell_type": "code",
   "execution_count": null,
   "id": "natural-india",
   "metadata": {
    "colab": {
     "base_uri": "https://localhost:8080/",
     "height": 415
    },
    "id": "2xH0qzXjHWHX",
    "outputId": "bc995d26-7712-49a4-f67e-8c6d363e3896"
   },
   "outputs": [],
   "source": [
    "y_train_pred = regressor.predict(X_train)\n",
    "y_pred = regressor.predict(X_test)\n",
    "df = pd.DataFrame({'Actual': y_test, 'Predicted': y_pred})\n",
    "df.head()"
   ]
  },
  {
   "cell_type": "code",
   "execution_count": null,
   "id": "consolidated-stuart",
   "metadata": {
    "colab": {
     "base_uri": "https://localhost:8080/"
    },
    "id": "LQ6AzDEGKDBl",
    "outputId": "c3f7552f-29d0-4138-b83b-742cbc8e7982"
   },
   "outputs": [],
   "source": [
    "print('Mean Absolute Error:', metrics.mean_absolute_error(y_test, y_pred))\n",
    "print('Mean Squared Error:', metrics.mean_squared_error(y_test, y_pred))\n",
    "print('Root Mean Squared Error:', np.sqrt(metrics.mean_squared_error(y_test, y_pred)))"
   ]
  },
  {
   "cell_type": "code",
   "execution_count": null,
   "id": "capital-building",
   "metadata": {},
   "outputs": [],
   "source": [
    "print('MSE train: %.3f, test: %.3f' % (metrics.mean_squared_error(y_train, y_train_pred),\n",
    "                metrics.mean_squared_error(y_test, y_pred)))"
   ]
  },
  {
   "cell_type": "markdown",
   "id": "fresh-giving",
   "metadata": {},
   "source": [
    "The model is overfitting, it performs slightly better in train but poorly in test. We can apply other ML techniques to work with the overfitting and play with the Bias-Variance tradeoff in order to get a better accuracy."
   ]
  },
  {
   "cell_type": "code",
   "execution_count": null,
   "id": "great-saturn",
   "metadata": {
    "colab": {
     "base_uri": "https://localhost:8080/"
    },
    "id": "2-ZcnvyxKtgE",
    "outputId": "d1264dec-88bf-43a8-a259-e5e7528f6292"
   },
   "outputs": [],
   "source": [
    "r2 =   metrics.r2_score(y_test, y_pred)\n",
    "print('R^2: {0}'.format(r2))"
   ]
  },
  {
   "cell_type": "markdown",
   "id": "wooden-beverage",
   "metadata": {},
   "source": [
    "As presented, the MSE is high which means our model isn't great and is overfitting. Moreover, this model explains around 55% of the variance in our dataset. Next, we will create a 3D visualization to present the predictions for this multiple linear regression. "
   ]
  },
  {
   "cell_type": "code",
   "execution_count": null,
   "id": "lesser-density",
   "metadata": {},
   "outputs": [],
   "source": [
    "df = pd.DataFrame(X_train ,columns=['Sales','Assets'])\n",
    "df['GHG_Scope1']= pd.Series(y_train)\n",
    "\n",
    "x_surf, y_surf = np.meshgrid(np.linspace(df.Assets.min(), df.Assets.max(), 100),np.linspace(df.Sales.min(), df.Sales.max(), 100))\n",
    "\n",
    "onlyX = pd.DataFrame({'Sales': x_surf.ravel(), 'Assets': y_surf.ravel()})\n",
    "fittedY= regressor.predict(onlyX)\n",
    "fittedY=np.array(fittedY)\n",
    "\n",
    "fig = plt.figure(figsize=(25,12))\n",
    "ax = fig.add_subplot(111, projection='3d')\n",
    "ax.scatter(df.Assets,df.Sales,df.GHG_Scope1,c='red', marker='o', alpha=0.5)\n",
    "ax.plot_surface(x_surf,y_surf,fittedY.reshape(x_surf.shape), color='b', alpha=0.3)\n",
    "ax.set_xlabel('Total Sales')\n",
    "ax.set_ylabel('Total Assets')\n",
    "ax.set_zlabel('GHG Scope 1')\n",
    "fig.suptitle('Linear Regression - Sales and Assets vs. GHG Scope 1', fontsize=20);"
   ]
  },
  {
   "cell_type": "markdown",
   "id": "spiritual-prague",
   "metadata": {},
   "source": [
    "Also, we can visualize the observed vs predictions to get a better idea of the residuals. "
   ]
  },
  {
   "cell_type": "code",
   "execution_count": null,
   "id": "smooth-drove",
   "metadata": {},
   "outputs": [],
   "source": [
    "fig, ax = plt.subplots(figsize=(12,8))\n",
    "ax.scatter(y_test, y_pred, c='green')\n",
    "ax.plot([y_test.min(), y_test.max()], [y.min(), y.max()], 'k--', lw=4)\n",
    "ax.set_xlabel('Observed GHG Scope 1')\n",
    "ax.set_ylabel('Predicted GHG Scope 1')\n",
    "ax.set_title('Linear Regression- Hold out approach');"
   ]
  },
  {
   "cell_type": "markdown",
   "id": "systematic-boating",
   "metadata": {},
   "source": [
    "### K-fold cross validation\n",
    "\n",
    "Now, we will apply another cross validation technique to improve the model predictions. We first did 10 k-folds and then 5 - k folds"
   ]
  },
  {
   "cell_type": "code",
   "execution_count": null,
   "id": "intensive-causing",
   "metadata": {},
   "outputs": [],
   "source": [
    "X = dn.iloc[:, 1:3].values\n",
    "y = dn.iloc[:, 0].values\n",
    "regressor = LinearRegression()\n",
    "kfold_cross_validation(10,X,y,regressor)"
   ]
  },
  {
   "cell_type": "code",
   "execution_count": null,
   "id": "developmental-anchor",
   "metadata": {},
   "outputs": [],
   "source": [
    "regressor = LinearRegression()\n",
    "kfold_cross_validation(5,X,y,regressor)"
   ]
  },
  {
   "cell_type": "markdown",
   "id": "varied-present",
   "metadata": {},
   "source": [
    "10 k-fold cross validation presents a higher MSE than 5-fold cross validation. Both of them explained 46% of the variance which is lower than Linear regression - hold out approach. \n",
    "\n",
    "We will create a visualization to present the predictions for Linear Regression using 5-kfold cross validation."
   ]
  },
  {
   "cell_type": "code",
   "execution_count": null,
   "id": "clinical-water",
   "metadata": {},
   "outputs": [],
   "source": [
    "lr = LinearRegression()\n",
    "X = dn.iloc[:, 1:3].values\n",
    "y = dn.iloc[:, 0].values\n",
    "predicted = cross_val_predict(lr, X, y, cv=5)\n",
    "\n",
    "fig, ax = plt.subplots(figsize=(12,8))\n",
    "ax.scatter(y, predicted, c='red')\n",
    "ax.plot([y.min(), y.max()], [y.min(), y.max()], 'k--', lw=4)\n",
    "ax.set_xlabel('Observed GHG Scope 1')\n",
    "ax.set_ylabel('Predicted GHG Scope 1')\n",
    "ax.set_title('5-kfold cross-validation predictions');"
   ]
  },
  {
   "cell_type": "markdown",
   "id": "overall-contributor",
   "metadata": {},
   "source": [
    "As presented, the model does not fit the data well. The model accounts for 46% of the variance. Let's remember that the more variance that is accounted for by the regression model the closer the data points will fall to the fitted regression line. The visualization presents big residuals between the observed and the fitted GHG Scope 1. \n",
    "\n",
    "We will proceed to add this results to a dataframe where we can keep track of all the models and their respective MSE. "
   ]
  },
  {
   "cell_type": "code",
   "execution_count": null,
   "id": "compressed-excellence",
   "metadata": {},
   "outputs": [],
   "source": [
    "df_model_eval = pd.DataFrame({'Model_Number':1,'Model_Name': 'Linear (Sales + Asset)','Approach':'Hold-out','MSE': metrics.mean_squared_error(y_test, y_pred), 'RMSE' :np.sqrt(metrics.mean_squared_error(y_test, y_pred)), 'R-Squared' :  metrics.r2_score(y_test, y_pred)}, index=[0])\n",
    "df_model_eval.loc[len(df_model_eval.index)] = [2, 'Linear (Sales + Asset)', '5 K-fold', 572243005.35, 23921.601228835698, 0.46] \n",
    "df_model_eval"
   ]
  },
  {
   "cell_type": "markdown",
   "id": "ordered-friendship",
   "metadata": {},
   "source": [
    "### Ridge Regression \n",
    "\n",
    "#### Validation set approach (Hold-out)\n",
    "\n",
    "We started with 100 alphas and instead of arbitrarily choosing alpha, we used cross-validation to choose the tuning parameter alpha. "
   ]
  },
  {
   "cell_type": "code",
   "execution_count": null,
   "id": "sticky-seeker",
   "metadata": {},
   "outputs": [],
   "source": [
    "n_alphas = 100\n",
    "alphas = np.logspace(-10, -2, n_alphas)\n",
    "\n",
    "# Split data into training and test sets\n",
    "X_train, X_test , y_train, y_test = train_test_split(X, y, test_size=0.2, random_state=42)\n",
    "\n",
    "ridgecv = RidgeCV(alphas = alphas, scoring = 'neg_mean_squared_error', normalize = True)\n",
    "ridgecv.fit(X_train, y_train)\n",
    "\n",
    "ridge_1 = Ridge(alpha = ridgecv.alpha_, normalize = True)\n",
    "ridge_1.fit(X_train, y_train)\n",
    "yhat_ridge = ridge_1.predict(X_test)\n",
    "\n",
    "# Evaluate the model\n",
    "print('Mean squared error: %.2f' % metrics.mean_squared_error(y_test, yhat_ridge))\n",
    "print(f'Root Mean Squared Error: {np.sqrt(metrics.mean_squared_error(y_test, yhat_ridge))}')\n",
    "print('Coefficient of determination: %.2f'% metrics.r2_score(y_test, yhat_ridge))"
   ]
  },
  {
   "cell_type": "markdown",
   "id": "charged-consciousness",
   "metadata": {},
   "source": [
    "#### K-fold cross validation\n",
    "\n",
    "\n",
    "Now, we are going to use 5 and 10 k-fold cross validation to try to yield a lower MSE. We continued using the Ridge Regression with the best alpha but now using the K-fold cross validation to fit and predict. "
   ]
  },
  {
   "cell_type": "code",
   "execution_count": null,
   "id": "ordered-holder",
   "metadata": {},
   "outputs": [],
   "source": [
    "ridgecv = RidgeCV(alphas = alphas, scoring = 'neg_mean_squared_error', normalize = True)\n",
    "ridgecv.fit(X,y)\n",
    "ridge_2 = Ridge(alpha = ridgecv.alpha_, normalize = True)\n",
    "kfold_cross_validation(5,X,y,ridge_2)"
   ]
  },
  {
   "cell_type": "code",
   "execution_count": null,
   "id": "bulgarian-photography",
   "metadata": {},
   "outputs": [],
   "source": [
    "ridgecv = RidgeCV(alphas = alphas, scoring = 'neg_mean_squared_error', normalize = True)\n",
    "ridgecv.fit(X,y)\n",
    "ridge_3 = Ridge(alpha = ridgecv.alpha_, normalize = True)\n",
    "kfold_cross_validation(10,X,y,ridge_3)"
   ]
  },
  {
   "cell_type": "code",
   "execution_count": null,
   "id": "empty-interval",
   "metadata": {},
   "outputs": [],
   "source": [
    "df_model_eval.loc[len(df_model_eval.index)] = [3, 'Ridge (Sales + Asset)', '5 K-fold', 574765481.16, 23974.267, 0.46] \n",
    "df_model_eval"
   ]
  },
  {
   "cell_type": "code",
   "execution_count": null,
   "id": "rubber-intermediate",
   "metadata": {},
   "outputs": [],
   "source": [
    "ridgecv = RidgeCV(alphas = alphas, scoring = 'neg_mean_squared_error', normalize = True)\n",
    "ridgecv.fit(X,y)\n",
    "ridge_3 = Ridge(alpha = ridgecv.alpha_, normalize = True)\n",
    "predicted = cross_val_predict(ridge_3, X, y, cv=5)\n",
    "\n",
    "fig, axs = plt.subplots(1,2, figsize=(25,10));\n",
    "fig.suptitle('Ridge Regression - Total Assets and Total Sales vs. GHG Scope 1');\n",
    "sns.scatterplot(x=y_test, y = yhat_ridge, ax=axs[0], color='b');\n",
    "axs[0].set_title('Validation Set Approach - Hold out');\n",
    "axs[0].plot([y_test.min(), y_test.max()], [y_test.min(), y_test.max()], 'k--', lw=4);\n",
    "sns.scatterplot(x=y, y = predicted, ax=axs[1], color='g');\n",
    "axs[1].set_title('5-kfold cross validation');\n",
    "axs[1].plot([y.min(), y.max()], [y.min(), y.max()], 'k--', lw=4);"
   ]
  },
  {
   "cell_type": "markdown",
   "id": "latin-jerusalem",
   "metadata": {},
   "source": [
    "Both models don't fit the data well. The model on the left accounts for 55% of the variance and the model on the right accounts for 46% of variance. Again, the more variance that is accounted for by the regression model the closer the data points will fall to the fitted regression line.\n",
    "\n",
    "We can say that the model on the left is better but we need to take into consideration that it has less data points (Presenting Testing 20% of the data). On the other hand, it presents all the data points and the fitted line. It accounts for less variance but the RMSE decreases too. \n",
    "\n",
    "What do we prefer? Validation Set approach because it accounts for more variance and it will behave better with unseen data, right?\n",
    "\n",
    "Why a flexible model isn't working that well?"
   ]
  },
  {
   "cell_type": "markdown",
   "id": "champion-sample",
   "metadata": {},
   "source": [
    "### Lasso Regression\n",
    "\n",
    "#### Validation Set approach - Hold out\n",
    "\n",
    "First, we will plot the relationship between alpha and the weights (regression parameters), a line for each features. In this case, two (Sales and Assets). "
   ]
  },
  {
   "cell_type": "code",
   "execution_count": null,
   "id": "eight-catalog",
   "metadata": {},
   "outputs": [],
   "source": [
    "lasso = Lasso(max_iter = 10000, normalize = True)\n",
    "coefs = []\n",
    "alphas = 10**np.linspace(6,-2,100)*0.5\n",
    "\n",
    "X = dn.iloc[:, 1:3].values\n",
    "y = dn.iloc[:, 0].values\n",
    "\n",
    "for a in alphas:\n",
    "    lasso.set_params(alpha=a)\n",
    "    lasso.fit(X, y)\n",
    "    coefs.append(lasso.coef_)\n",
    "\n",
    "print(np.shape(coefs))\n",
    "ax = plt.gca()\n",
    "ax.plot(alphas*2, coefs)\n",
    "ax.set_xscale('log')\n",
    "plt.axis('tight')\n",
    "plt.xlabel('alpha')\n",
    "plt.ylabel('weights')"
   ]
  },
  {
   "cell_type": "markdown",
   "id": "solid-porter",
   "metadata": {},
   "source": [
    "Now, we are going to subset into training and test and calculate the best optimal alpha using cross validation. (Tuning the hyperparameter)"
   ]
  },
  {
   "cell_type": "code",
   "execution_count": null,
   "id": "dominant-portsmouth",
   "metadata": {},
   "outputs": [],
   "source": [
    "X_train, X_test , y_train, y_test = train_test_split(X, y, test_size=0.2, random_state=42)\n",
    "lassocv = LassoCV(alphas = None, cv = 10, max_iter = 100000, normalize = True)\n",
    "lassocv.fit(X_train, y_train)\n",
    "\n",
    "print(f'The optimal alpha is {lassocv.alpha_}')"
   ]
  },
  {
   "cell_type": "code",
   "execution_count": null,
   "id": "necessary-gauge",
   "metadata": {},
   "outputs": [],
   "source": [
    "lasso.set_params(alpha=lassocv.alpha_)\n",
    "lasso.fit(X_train, y_train)\n",
    "yhat_lasso = lasso.predict(X_test)\n",
    "\n",
    "# Evaluate the model\n",
    "print('Mean squared error: %.2f' % metrics.mean_squared_error(y_test, yhat_lasso))\n",
    "print(f'Root Mean Squared Error: {np.sqrt(metrics.mean_squared_error(y_test, yhat_lasso))}')\n",
    "print('Coefficient of determination: %.2f'% metrics.r2_score(y_test, yhat_lasso ))"
   ]
  },
  {
   "cell_type": "code",
   "execution_count": null,
   "id": "intensive-notification",
   "metadata": {},
   "outputs": [],
   "source": [
    "df_model_eval.loc[len(df_model_eval.index)] = [4, 'Lasso (Sales + Assets)', 'Hold-out',metrics.mean_squared_error(y_test,yhat_lasso), np.sqrt(metrics.mean_squared_error(y_test,yhat_lasso)), metrics.r2_score(y_test, yhat_lasso)] \n",
    "df_model_eval"
   ]
  },
  {
   "cell_type": "markdown",
   "id": "changed-casting",
   "metadata": {},
   "source": [
    "#### K-fold Cross validation approach\n",
    "\n",
    "Now, we are going to use k folds to fit and predict. We are going to continue using the best optimal alpha."
   ]
  },
  {
   "cell_type": "code",
   "execution_count": null,
   "id": "devoted-sheriff",
   "metadata": {},
   "outputs": [],
   "source": [
    "lasso = Lasso(max_iter = 10000, normalize = True)\n",
    "lasso.set_params(alpha=lassocv.alpha_)\n",
    "kfold_cross_validation(5, X, y, lasso)"
   ]
  },
  {
   "cell_type": "code",
   "execution_count": null,
   "id": "heavy-session",
   "metadata": {},
   "outputs": [],
   "source": [
    "lasso = Lasso(max_iter = 10000, normalize = True)\n",
    "lasso.set_params(alpha=lassocv.alpha_)\n",
    "kfold_cross_validation(10, X, y, lasso)"
   ]
  },
  {
   "cell_type": "code",
   "execution_count": null,
   "id": "successful-mobility",
   "metadata": {},
   "outputs": [],
   "source": [
    "lasso = Lasso(max_iter = 10000, normalize = True)\n",
    "lasso.set_params(alpha=lassocv.alpha_)\n",
    "predicted = cross_val_predict(lasso, X, y, cv=5)\n",
    "\n",
    "fig, axs = plt.subplots(1,2, figsize=(25,10));\n",
    "fig.suptitle('Lasso Regression - Total Assets and Total Sales vs. GHG Scope 1');\n",
    "sns.scatterplot(x=y_test, y = yhat_lasso, ax=axs[0], color='b');\n",
    "axs[0].set_title('Validation Set Approach - Hold out');\n",
    "axs[0].plot([y_test.min(), y_test.max()], [y_test.min(), y_test.max()], 'k--', lw=4);\n",
    "sns.scatterplot(x=y, y = predicted, ax=axs[1], color='g');\n",
    "axs[1].set_title('5-kfold cross validation');\n",
    "axs[1].plot([y.min(), y.max()], [y.min(), y.max()], 'k--', lw=4);"
   ]
  },
  {
   "cell_type": "code",
   "execution_count": null,
   "id": "dressed-wallet",
   "metadata": {},
   "outputs": [],
   "source": [
    "df_model_eval.loc[len(df_model_eval.index)] = [5, 'Lasso (Sales + Assets)', '5-kfold',572164056.06, 23919.95, 0.46] \n",
    "df_model_eval"
   ]
  },
  {
   "cell_type": "markdown",
   "id": "light-visitor",
   "metadata": {
    "id": "educated-engineering"
   },
   "source": [
    "### Model 2 - Logarithm Sales and Assets\n",
    "\n",
    "### Linear Regression\n",
    "\n",
    "#### Validation Set Approach - Hold out\n",
    "\n",
    "ln(GHG) = a0 + b10*ln(Sales) + b20*ln(Assets) + e"
   ]
  },
  {
   "cell_type": "code",
   "execution_count": null,
   "id": "pursuant-basketball",
   "metadata": {
    "id": "better-regulation"
   },
   "outputs": [],
   "source": [
    "model_df = stocks[['Total_Sales', 'Total_Assets', 'GHG Scope 1']].copy()\n",
    "model_df.dropna(inplace = True)\n",
    "\n",
    "x = np.log(model_df[['Total_Sales', 'Total_Assets']])\n",
    "y = np.log(model_df['GHG Scope 1'])\n",
    "X_train, X_test, y_train, y_test = train_test_split(x, y, test_size=0.20, random_state=42)\n",
    "clf = LinearRegression().fit(X_train, y_train)\n",
    "\n",
    "y_pred = np.exp(clf.predict(X_test))\n",
    "y_test = np.exp(y_test)"
   ]
  },
  {
   "cell_type": "code",
   "execution_count": null,
   "id": "continuing-answer",
   "metadata": {
    "id": "touched-boston",
    "outputId": "b5762f30-e7d1-4d1a-ea3a-dc2c0b3a2583"
   },
   "outputs": [],
   "source": [
    "#The coefficients\n",
    "print('Coefficients: \\n',clf.coef_)\n",
    "#Mean Squared Error\n",
    "print('Mean squared error: %.2f' % metrics.mean_squared_error(y_test,y_pred))\n",
    "print(f'Root Mean Squared Error: {np.sqrt(metrics.mean_squared_error(y_test,y_pred))}')\n",
    "# The coefficient of determination: 1 is perfect prediction\n",
    "print('Coefficient of determination: %.2f'\n",
    "      % metrics.r2_score(y_test, y_pred))"
   ]
  },
  {
   "cell_type": "code",
   "execution_count": null,
   "id": "medium-bradley",
   "metadata": {},
   "outputs": [],
   "source": [
    "log_reg = pd.DataFrame({'Observed':y_test,'Prediction':y_pred})\n",
    "log_reg.head()"
   ]
  },
  {
   "cell_type": "code",
   "execution_count": null,
   "id": "accurate-bruce",
   "metadata": {},
   "outputs": [],
   "source": [
    "fig, ax = plt.subplots(figsize=(12,8))\n",
    "ax.scatter(log_reg.Observed, log_reg.Prediction, c='red')\n",
    "ax.plot([log_reg.min(), log_reg.max()], [log_reg.min(), log_reg.max()], 'k--', lw=4)\n",
    "ax.set_xlabel('Observed GHG Scope 1')\n",
    "ax.set_ylabel('Predicted GHG Scope 1')\n",
    "ax.set_title('Log(Total Assets) and Log (Total Sales) vs. GHG Scope 1 - Linear Regression Hold out');"
   ]
  },
  {
   "cell_type": "markdown",
   "id": "royal-photograph",
   "metadata": {},
   "source": [
    "This model accounts for 40% of the variance. Similar as the other regressions, as soon the GHG Scope starts to increase, the model starts making bad predictions (high bias, way out of target). \n",
    "\n",
    "We will proceed to add this results to the dataframe and continue to apply other ML techniques to try to yield a lower MSE. "
   ]
  },
  {
   "cell_type": "code",
   "execution_count": null,
   "id": "little-healthcare",
   "metadata": {},
   "outputs": [],
   "source": [
    "df_model_eval.loc[len(df_model_eval.index)] = [6, 'Linear (ln(Sales) + ln(Asset))', 'Hold-out',metrics.mean_squared_error(y_test,y_pred), np.sqrt(metrics.mean_squared_error(y_test,y_pred)), metrics.r2_score(y_test, y_pred)] \n",
    "df_model_eval"
   ]
  },
  {
   "cell_type": "markdown",
   "id": "chronic-brief",
   "metadata": {},
   "source": [
    "#### K-fold cross validation\n",
    "\n",
    "Now, we will apply another cross validation technique to improve the model predictions. First, we will do 5 k-folds and then 10 - k folds. "
   ]
  },
  {
   "cell_type": "code",
   "execution_count": null,
   "id": "interracial-institution",
   "metadata": {},
   "outputs": [],
   "source": [
    "df1 = stocks.loc[stocks['GHG Scope 1'].notna(),['GHG Scope 1','Logarithm_Total_Sales','Logarithm_Total_Assets']].copy()\n",
    "X = df1.iloc[:,1:3].values\n",
    "y = df1.iloc[:,0].values\n",
    "regressor = LinearRegression()\n",
    "kfold_cross_validation(5,X,y,regressor)"
   ]
  },
  {
   "cell_type": "code",
   "execution_count": null,
   "id": "starting-distinction",
   "metadata": {},
   "outputs": [],
   "source": [
    "X = df1.iloc[:,1:3].values\n",
    "y = df1.iloc[:,0].values\n",
    "regressor = LinearRegression()\n",
    "kfold_cross_validation(10,X,y,regressor)"
   ]
  },
  {
   "cell_type": "code",
   "execution_count": null,
   "id": "mechanical-ethnic",
   "metadata": {},
   "outputs": [],
   "source": [
    "lr = LinearRegression()\n",
    "predicted = cross_val_predict(lr, X, y, cv=5)\n",
    "\n",
    "df_kfold = pd.DataFrame({'Observed':y.flatten(), 'Predicted': predicted.flatten()})\n",
    "fig, ax = plt.subplots(figsize=(12,8))\n",
    "ax.scatter(y, predicted, c='red')\n",
    "ax.plot([y.min(), y.max()], [y.min(), y.max()], 'k--', lw=4)\n",
    "ax.set_xlabel('Observed GHG Scope 1')\n",
    "ax.set_ylabel('Predicted GHG Scope 1')\n",
    "ax.set_title('5-kfold cross-validation predictions');"
   ]
  },
  {
   "cell_type": "code",
   "execution_count": null,
   "id": "afraid-discount",
   "metadata": {},
   "outputs": [],
   "source": [
    "df_model_eval.loc[len(df_model_eval.index)] = [7 , 'Linear (ln(Sales) + ln(Asset))', '5-kfold',676789732.54,26015.18, 0.36] \n",
    "df_model_eval"
   ]
  },
  {
   "cell_type": "markdown",
   "id": "younger-screen",
   "metadata": {},
   "source": [
    "### Ridge Regression \n",
    "\n",
    "#### Validation Set Approach - Hold out approach\n",
    "\n",
    "Similar as model 1, we will continue applying different ML techniques to yield the lower MSE. First, we will go with Ridge Regression and apply the Hold Out approach which means we will use 80% for training and 20% for testing. \n",
    "\n",
    "\n",
    "We started with 100 alphas and instead of arbitrarily choosing alpha, we will use cross-validation to choose the tuning parameter alpha. "
   ]
  },
  {
   "cell_type": "code",
   "execution_count": null,
   "id": "under-airport",
   "metadata": {},
   "outputs": [],
   "source": [
    "n_alphas = 100\n",
    "alphas = np.logspace(-10, -2, n_alphas)\n",
    "\n",
    "X = df1.iloc[:,1:3].values\n",
    "y = df1.iloc[:,0].values\n",
    "\n",
    "# Split data into training and test sets\n",
    "X_train, X_test , y_train, y_test = train_test_split(X, y, test_size=0.2, random_state=42)\n",
    "\n",
    "ridgecv = RidgeCV(alphas = alphas, scoring = 'neg_mean_squared_error', normalize = True)\n",
    "ridgecv.fit(X_train, y_train)\n",
    "\n",
    "ridge_1 = Ridge(alpha = ridgecv.alpha_, normalize = True)\n",
    "ridge_1.fit(X_train, y_train)\n",
    "yhat_ridge = ridge_1.predict(X_test)\n",
    "\n",
    "# Evaluate the model\n",
    "print('Coefficients:', ridge_1.coef_)\n",
    "print('Mean squared error: %.2f' % metrics.mean_squared_error(y_test, yhat_ridge))\n",
    "print(f'Root Mean Squared Error: {np.sqrt(metrics.mean_squared_error(y_test, yhat_ridge))}')\n",
    "print('Coefficient of determination: %.2f'% metrics.r2_score(y_test, yhat_ridge))"
   ]
  },
  {
   "cell_type": "markdown",
   "id": "periodic-saying",
   "metadata": {},
   "source": [
    "#### K-fold validation\n",
    "\n",
    "We applied cross validation to get the best alpha. However, now we are going to do k-fold cross validation to apply to train and test the data in different folds. \n",
    "\n",
    "We continued using the Ridge Regression with the best alpha but now using the K-fold cross validation to fit and predict. "
>>>>>>> parent of 9396477 (Check in multiple changes to the github)
   ]
  },
  {
   "cell_type": "code",
<<<<<<< HEAD
   "execution_count": 5,
   "id": "silent-region",
   "metadata": {
    "id": "xwVmIqfAaQC4"
   },
   "outputs": [],
   "source": [
    "da=df[['GHG Scope 1','Total_Assets','Total_Sales']]"
=======
   "execution_count": null,
   "id": "neutral-manufacturer",
   "metadata": {},
   "outputs": [],
   "source": [
    "ridgecv = RidgeCV(alphas = alphas, scoring = 'neg_mean_squared_error', normalize = True)\n",
    "ridgecv.fit(X,y)\n",
    "ridge_2 = Ridge(alpha = ridgecv.alpha_, normalize = True)\n",
    "kfold_cross_validation(5,X,y,ridge_2)"
>>>>>>> parent of 9396477 (Check in multiple changes to the github)
   ]
  },
  {
   "cell_type": "code",
<<<<<<< HEAD
   "execution_count": 6,
   "id": "bibliographic-variable",
   "metadata": {
    "colab": {
     "base_uri": "https://localhost:8080/",
     "height": 415
    },
    "id": "jlC_zRkDc-_n",
    "outputId": "258f5769-c496-4be3-a768-b53b17952271"
   },
   "outputs": [
    {
     "data": {
      "text/html": [
       "<div>\n",
       "<style scoped>\n",
       "    .dataframe tbody tr th:only-of-type {\n",
       "        vertical-align: middle;\n",
       "    }\n",
       "\n",
       "    .dataframe tbody tr th {\n",
       "        vertical-align: top;\n",
       "    }\n",
       "\n",
       "    .dataframe thead th {\n",
       "        text-align: right;\n",
       "    }\n",
       "</style>\n",
       "<table border=\"1\" class=\"dataframe\">\n",
       "  <thead>\n",
       "    <tr style=\"text-align: right;\">\n",
       "      <th></th>\n",
       "      <th>GHG Scope 1</th>\n",
       "      <th>Total_Assets</th>\n",
       "      <th>Total_Sales</th>\n",
       "    </tr>\n",
       "  </thead>\n",
       "  <tbody>\n",
       "    <tr>\n",
       "      <th>8</th>\n",
       "      <td>32978.0</td>\n",
       "      <td>21042.0</td>\n",
       "      <td>5838.0</td>\n",
       "    </tr>\n",
       "    <tr>\n",
       "      <th>9</th>\n",
       "      <td>30675.0</td>\n",
       "      <td>22676.0</td>\n",
       "      <td>6053.0</td>\n",
       "    </tr>\n",
       "    <tr>\n",
       "      <th>10</th>\n",
       "      <td>28548.2</td>\n",
       "      <td>23640.0</td>\n",
       "      <td>6098.0</td>\n",
       "    </tr>\n",
       "    <tr>\n",
       "      <th>11</th>\n",
       "      <td>26795.6</td>\n",
       "      <td>24699.0</td>\n",
       "      <td>6076.0</td>\n",
       "    </tr>\n",
       "    <tr>\n",
       "      <th>12</th>\n",
       "      <td>30200.4</td>\n",
       "      <td>25945.0</td>\n",
       "      <td>6177.0</td>\n",
       "    </tr>\n",
       "    <tr>\n",
       "      <th>...</th>\n",
       "      <td>...</td>\n",
       "      <td>...</td>\n",
       "      <td>...</td>\n",
       "    </tr>\n",
       "    <tr>\n",
       "      <th>775</th>\n",
       "      <td>118000.0</td>\n",
       "      <td>336758.0</td>\n",
       "      <td>236810.0</td>\n",
       "    </tr>\n",
       "    <tr>\n",
       "      <th>776</th>\n",
       "      <td>120000.0</td>\n",
       "      <td>330314.0</td>\n",
       "      <td>197518.0</td>\n",
       "    </tr>\n",
       "    <tr>\n",
       "      <th>777</th>\n",
       "      <td>117000.0</td>\n",
       "      <td>348691.0</td>\n",
       "      <td>237162.0</td>\n",
       "    </tr>\n",
       "    <tr>\n",
       "      <th>778</th>\n",
       "      <td>119000.0</td>\n",
       "      <td>346196.0</td>\n",
       "      <td>279332.0</td>\n",
       "    </tr>\n",
       "    <tr>\n",
       "      <th>779</th>\n",
       "      <td>114000.0</td>\n",
       "      <td>362597.0</td>\n",
       "      <td>255583.0</td>\n",
       "    </tr>\n",
       "  </tbody>\n",
       "</table>\n",
       "<p>398 rows × 3 columns</p>\n",
       "</div>"
      ],
      "text/plain": [
       "     GHG Scope 1  Total_Assets  Total_Sales\n",
       "8        32978.0       21042.0       5838.0\n",
       "9        30675.0       22676.0       6053.0\n",
       "10       28548.2       23640.0       6098.0\n",
       "11       26795.6       24699.0       6076.0\n",
       "12       30200.4       25945.0       6177.0\n",
       "..           ...           ...          ...\n",
       "775     118000.0      336758.0     236810.0\n",
       "776     120000.0      330314.0     197518.0\n",
       "777     117000.0      348691.0     237162.0\n",
       "778     119000.0      346196.0     279332.0\n",
       "779     114000.0      362597.0     255583.0\n",
       "\n",
       "[398 rows x 3 columns]"
      ]
     },
     "execution_count": 6,
     "metadata": {},
     "output_type": "execute_result"
    }
   ],
   "source": [
    "dn=da.dropna()\n",
    "dn"
=======
   "execution_count": null,
   "id": "regulation-breakdown",
   "metadata": {},
   "outputs": [],
   "source": [
    "ridgecv = RidgeCV(alphas = alphas, scoring = 'neg_mean_squared_error', normalize = True)\n",
    "ridgecv.fit(X,y)\n",
    "ridge_2 = Ridge(alpha = ridgecv.alpha_, normalize = True)\n",
    "kfold_cross_validation(10,X,y,ridge_2)"
>>>>>>> parent of 9396477 (Check in multiple changes to the github)
   ]
  },
  {
   "cell_type": "code",
<<<<<<< HEAD
   "execution_count": 7,
   "id": "laughing-comedy",
   "metadata": {
    "id": "bca7cLlTdsez"
   },
   "outputs": [
    {
     "data": {
      "text/plain": [
       "LinearRegression()"
      ]
     },
     "execution_count": 7,
     "metadata": {},
     "output_type": "execute_result"
    }
   ],
   "source": [
    "X = dn.iloc[:, 1:3].values\n",
    "y = dn.iloc[:, 0].values\n",
    "X_train, X_test, y_train, y_test = train_test_split(X, y, test_size=0.2, random_state=42)\n",
    "regressor = LinearRegression()\n",
    "regressor.fit(X_train, y_train)"
=======
   "execution_count": null,
   "id": "rural-porcelain",
   "metadata": {},
   "outputs": [],
   "source": [
    "ridgecv = RidgeCV(alphas = alphas, scoring = 'neg_mean_squared_error', normalize = True)\n",
    "ridgecv.fit(X,y)\n",
    "ridge_3 = Ridge(alpha = ridgecv.alpha_, normalize = True)\n",
    "predicted = cross_val_predict(ridge_3, X, y, cv=5)\n",
    "\n",
    "fig, axs = plt.subplots(1,2, figsize=(25,10));\n",
    "fig.suptitle('Ridge Regression - ln(Total Sales) and ln(Total Assets) vs. GHG Scope 1');\n",
    "sns.scatterplot(x=y_test, y = yhat_ridge, ax=axs[0], color='b');\n",
    "axs[0].set_title('Validation Set Approach - Hold out');\n",
    "axs[0].plot([y_test.min(), y_test.max()], [y_test.min(), y_test.max()], 'k--', lw=4);\n",
    "sns.scatterplot(x=y, y = predicted, ax=axs[1], color='g');\n",
    "axs[1].set_title('5-kfold cross validation');\n",
    "axs[1].plot([y.min(), y.max()], [y.min(), y.max()], 'k--', lw=4);"
>>>>>>> parent of 9396477 (Check in multiple changes to the github)
   ]
  },
  {
   "cell_type": "code",
<<<<<<< HEAD
   "execution_count": 8,
   "id": "sound-marks",
   "metadata": {
    "id": "generic-surrey"
   },
   "outputs": [
    {
     "name": "stdout",
     "output_type": "stream",
     "text": [
      "8051.399968329075\n"
     ]
    }
   ],
   "source": [
    "print(regressor.intercept_)"
   ]
  },
  {
   "cell_type": "code",
   "execution_count": 9,
   "id": "extended-determination",
   "metadata": {
    "colab": {
     "base_uri": "https://localhost:8080/",
     "height": 415
    },
    "id": "2xH0qzXjHWHX",
    "outputId": "bc995d26-7712-49a4-f67e-8c6d363e3896"
   },
   "outputs": [
    {
     "data": {
      "text/html": [
       "<div>\n",
       "<style scoped>\n",
       "    .dataframe tbody tr th:only-of-type {\n",
       "        vertical-align: middle;\n",
       "    }\n",
       "\n",
       "    .dataframe tbody tr th {\n",
       "        vertical-align: top;\n",
       "    }\n",
       "\n",
       "    .dataframe thead th {\n",
       "        text-align: right;\n",
       "    }\n",
       "</style>\n",
       "<table border=\"1\" class=\"dataframe\">\n",
       "  <thead>\n",
       "    <tr style=\"text-align: right;\">\n",
       "      <th></th>\n",
       "      <th>Actual</th>\n",
       "      <th>Predicted</th>\n",
       "    </tr>\n",
       "  </thead>\n",
       "  <tbody>\n",
       "    <tr>\n",
       "      <th>0</th>\n",
       "      <td>3577.3</td>\n",
       "      <td>15212.450226</td>\n",
       "    </tr>\n",
       "    <tr>\n",
       "      <th>1</th>\n",
       "      <td>119000.0</td>\n",
       "      <td>129202.217025</td>\n",
       "    </tr>\n",
       "    <tr>\n",
       "      <th>2</th>\n",
       "      <td>3410.0</td>\n",
       "      <td>15292.058240</td>\n",
       "    </tr>\n",
       "    <tr>\n",
       "      <th>3</th>\n",
       "      <td>14296.5</td>\n",
       "      <td>13591.750163</td>\n",
       "    </tr>\n",
       "    <tr>\n",
       "      <th>4</th>\n",
       "      <td>32000.0</td>\n",
       "      <td>18793.153300</td>\n",
       "    </tr>\n",
       "    <tr>\n",
       "      <th>...</th>\n",
       "      <td>...</td>\n",
       "      <td>...</td>\n",
       "    </tr>\n",
       "    <tr>\n",
       "      <th>75</th>\n",
       "      <td>19503.9</td>\n",
       "      <td>16332.792194</td>\n",
       "    </tr>\n",
       "    <tr>\n",
       "      <th>76</th>\n",
       "      <td>3200.0</td>\n",
       "      <td>18700.183593</td>\n",
       "    </tr>\n",
       "    <tr>\n",
       "      <th>77</th>\n",
       "      <td>31207.0</td>\n",
       "      <td>17774.777860</td>\n",
       "    </tr>\n",
       "    <tr>\n",
       "      <th>78</th>\n",
       "      <td>42354.9</td>\n",
       "      <td>22217.844498</td>\n",
       "    </tr>\n",
       "    <tr>\n",
       "      <th>79</th>\n",
       "      <td>12200.0</td>\n",
       "      <td>28305.493504</td>\n",
       "    </tr>\n",
       "  </tbody>\n",
       "</table>\n",
       "<p>80 rows × 2 columns</p>\n",
       "</div>"
      ],
      "text/plain": [
       "      Actual      Predicted\n",
       "0     3577.3   15212.450226\n",
       "1   119000.0  129202.217025\n",
       "2     3410.0   15292.058240\n",
       "3    14296.5   13591.750163\n",
       "4    32000.0   18793.153300\n",
       "..       ...            ...\n",
       "75   19503.9   16332.792194\n",
       "76    3200.0   18700.183593\n",
       "77   31207.0   17774.777860\n",
       "78   42354.9   22217.844498\n",
       "79   12200.0   28305.493504\n",
       "\n",
       "[80 rows x 2 columns]"
      ]
     },
     "execution_count": 9,
     "metadata": {},
     "output_type": "execute_result"
    }
   ],
   "source": [
    "y_pred = regressor.predict(X_test)\n",
    "df = pd.DataFrame({'Actual': y_test, 'Predicted': y_pred})\n",
    "df"
=======
   "execution_count": null,
   "id": "sophisticated-photographer",
   "metadata": {},
   "outputs": [],
   "source": [
    "df_model_eval.loc[len(df_model_eval.index)] = [8 , 'Ridge (ln(Sales) + ln(Asset))', 'Hold-out',metrics.mean_squared_error(y_test,yhat_ridge), np.sqrt(metrics.mean_squared_error(y_test,yhat_ridge)), metrics.r2_score(y_test, yhat_ridge)] \n",
    "df_model_eval.loc[len(df_model_eval.index)] = [9 , 'Ridge (ln(Sales) + ln(Asset))', '5-kfolds',676843560.22, 26016.21, 0.36] \n",
    "df_model_eval"
   ]
  },
  {
   "cell_type": "markdown",
   "id": "dangerous-hands",
   "metadata": {},
   "source": [
    "### Lasso Regression\n",
    "\n",
    "#### Validation Set Approach"
>>>>>>> parent of 9396477 (Check in multiple changes to the github)
   ]
  },
  {
   "cell_type": "code",
<<<<<<< HEAD
   "execution_count": 10,
   "id": "later-surfing",
   "metadata": {
    "colab": {
     "base_uri": "https://localhost:8080/"
    },
    "id": "LQ6AzDEGKDBl",
    "outputId": "c3f7552f-29d0-4138-b83b-742cbc8e7982"
   },
   "outputs": [
    {
     "name": "stdout",
     "output_type": "stream",
     "text": [
      "Mean Absolute Error: 18676.830253094093\n",
      "Mean Squared Error: 596373921.626923\n",
      "Root Mean Squared Error: 24420.76824399517\n"
     ]
    }
   ],
   "source": [
    "print('Mean Absolute Error:', metrics.mean_absolute_error(y_test, y_pred))\n",
    "print('Mean Squared Error:', metrics.mean_squared_error(y_test, y_pred))\n",
    "print('Root Mean Squared Error:', np.sqrt(metrics.mean_squared_error(y_test, y_pred)))"
=======
   "execution_count": null,
   "id": "fifty-hospital",
   "metadata": {},
   "outputs": [],
   "source": [
    "lasso = Lasso(max_iter = 10000, normalize = True)\n",
    "coefs = []\n",
    "alphas = 10**np.linspace(6,-2,100)*0.5\n",
    "\n",
    "X = df1.iloc[:,1:3].values\n",
    "y = df1.iloc[:,0].values\n",
    "\n",
    "for a in alphas:\n",
    "    lasso.set_params(alpha=a)\n",
    "    lasso.fit(X, y)\n",
    "    coefs.append(lasso.coef_)\n",
    "\n",
    "ax = plt.gca()\n",
    "ax.plot(alphas*2, coefs)\n",
    "ax.set_xscale('log')\n",
    "plt.axis('tight')\n",
    "plt.xlabel('alpha')\n",
    "plt.ylabel('weights');"
>>>>>>> parent of 9396477 (Check in multiple changes to the github)
   ]
  },
  {
   "cell_type": "code",
<<<<<<< HEAD
   "execution_count": 11,
   "id": "dated-northeast",
   "metadata": {
    "colab": {
     "base_uri": "https://localhost:8080/"
    },
    "id": "2-ZcnvyxKtgE",
    "outputId": "d1264dec-88bf-43a8-a259-e5e7528f6292"
   },
   "outputs": [
    {
     "name": "stdout",
     "output_type": "stream",
     "text": [
      "R^2: 0.43150016760444276\n"
     ]
    }
   ],
   "source": [
    "r2 = regressor.score(X_train, y_train)\n",
    "print('R^2: {0}'.format(r2))"
=======
   "execution_count": null,
   "id": "bearing-sheep",
   "metadata": {},
   "outputs": [],
   "source": [
    "X_train, X_test , y_train, y_test = train_test_split(X, y, test_size=0.2, random_state=42)\n",
    "lassocv = LassoCV(alphas = None, cv = 10, max_iter = 100000, normalize = True)\n",
    "lassocv.fit(X_train, y_train)\n",
    "\n",
    "print(f'The optimal alpha is {lassocv.alpha_}')"
>>>>>>> parent of 9396477 (Check in multiple changes to the github)
   ]
  },
  {
   "cell_type": "code",
<<<<<<< HEAD
   "execution_count": 12,
   "id": "bigger-victor",
   "metadata": {},
   "outputs": [
    {
     "data": {
      "text/html": [
       "<div>\n",
       "<style scoped>\n",
       "    .dataframe tbody tr th:only-of-type {\n",
       "        vertical-align: middle;\n",
       "    }\n",
       "\n",
       "    .dataframe tbody tr th {\n",
       "        vertical-align: top;\n",
       "    }\n",
       "\n",
       "    .dataframe thead th {\n",
       "        text-align: right;\n",
       "    }\n",
       "</style>\n",
       "<table border=\"1\" class=\"dataframe\">\n",
       "  <thead>\n",
       "    <tr style=\"text-align: right;\">\n",
       "      <th></th>\n",
       "      <th>Model</th>\n",
       "      <th>MSE</th>\n",
       "      <th>RMSE</th>\n",
       "      <th>R-Squared</th>\n",
       "    </tr>\n",
       "  </thead>\n",
       "  <tbody>\n",
       "    <tr>\n",
       "      <th>0</th>\n",
       "      <td>Linear (Sales + Asset)</td>\n",
       "      <td>5.963739e+08</td>\n",
       "      <td>24420.768244</td>\n",
       "      <td>0.547856</td>\n",
       "    </tr>\n",
       "  </tbody>\n",
       "</table>\n",
       "</div>"
      ],
      "text/plain": [
       "                    Model           MSE          RMSE  R-Squared\n",
       "0  Linear (Sales + Asset)  5.963739e+08  24420.768244   0.547856"
      ]
     },
     "execution_count": 12,
     "metadata": {},
     "output_type": "execute_result"
    }
   ],
   "source": [
    "df_model_eval = pd.DataFrame({'Model': 'Linear (Sales + Asset)','MSE': metrics.mean_squared_error(y_test, y_pred), 'RMSE' :np.sqrt(metrics.mean_squared_error(y_test, y_pred)), 'R-Squared' :  metrics.r2_score(y_test, y_pred)}, index=[0])\n",
    "\n",
    "df_model_eval"
=======
   "execution_count": null,
   "id": "progressive-finish",
   "metadata": {},
   "outputs": [],
   "source": [
    "lasso.set_params(alpha=lassocv.alpha_)\n",
    "lasso.fit(X_train, y_train)\n",
    "yhat_lasso = lasso.predict(X_test)\n",
    "\n",
    "# Evaluate the model\n",
    "print('Mean squared error: %.2f' % metrics.mean_squared_error(y_test, yhat_lasso))\n",
    "print(f'Root Mean Squared Error: {np.sqrt(metrics.mean_squared_error(y_test, yhat_lasso))}')\n",
    "print('Coefficient of determination: %.2f'% metrics.r2_score(y_test, yhat_lasso ))"
>>>>>>> parent of 9396477 (Check in multiple changes to the github)
   ]
  },
  {
   "cell_type": "markdown",
<<<<<<< HEAD
   "id": "nervous-survivor",
   "metadata": {
    "id": "educated-engineering"
   },
   "source": [
    "### Model 2 - Logarithm Sales and Assets\n",
    "\n",
    "ln(GHG) = a0 + b10*ln(Sales) + b20*ln(Assets) + e"
=======
   "id": "fabulous-persian",
   "metadata": {},
   "source": [
    "#### K-fold validation"
>>>>>>> parent of 9396477 (Check in multiple changes to the github)
   ]
  },
  {
   "cell_type": "code",
<<<<<<< HEAD
   "execution_count": 13,
   "id": "blank-reference",
   "metadata": {
    "id": "better-regulation"
   },
   "outputs": [],
   "source": [
    "model_df = stocks[['Total_Sales', 'Total_Assets', 'GHG Scope 1']].copy()\n",
    "model_df.dropna(inplace = True)\n",
    "\n",
    "x = np.log(model_df[['Total_Sales', 'Total_Assets']])\n",
    "y = np.log(model_df['GHG Scope 1'])\n",
    "X_train, X_test, y_train, y_test = train_test_split(x, y, test_size=0.20, random_state=42)\n",
    "clf = LinearRegression().fit(X_train, y_train)\n",
    "# y_pred = clf.predict(X_test)\n",
    "y_pred = np.exp(clf.predict(X_test))\n",
    "y_test = np.exp(y_test)"
=======
   "execution_count": null,
   "id": "fluid-marine",
   "metadata": {},
   "outputs": [],
   "source": [
    "lasso = Lasso(max_iter = 10000, normalize = True)\n",
    "lasso.set_params(alpha=lassocv.alpha_)\n",
    "kfold_cross_validation(5, X, y, lasso)"
>>>>>>> parent of 9396477 (Check in multiple changes to the github)
   ]
  },
  {
   "cell_type": "code",
<<<<<<< HEAD
   "execution_count": 14,
   "id": "dress-proof",
   "metadata": {
    "id": "touched-boston",
    "outputId": "b5762f30-e7d1-4d1a-ea3a-dc2c0b3a2583"
   },
   "outputs": [
    {
     "name": "stdout",
     "output_type": "stream",
     "text": [
      "Coefficients: \n",
      " [0.10981093 0.73993793]\n",
      "Mean squared error: 796139917.35\n",
      "Root Mean Squared Error: 28215.951469835454\n",
      "Coefficient of determination: 0.40\n"
     ]
    }
   ],
   "source": [
    "#The coefficients\n",
    "print('Coefficients: \\n', clf.coef_)\n",
    "#Mean Squared Error\n",
    "print('Mean squared error: %.2f' % metrics.mean_squared_error(y_test,y_pred))\n",
    "print(f'Root Mean Squared Error: {np.sqrt(metrics.mean_squared_error(y_test,y_pred))}')\n",
    "# The coefficient of determination: 1 is perfect prediction\n",
    "print('Coefficient of determination: %.2f'\n",
    "      % metrics.r2_score(y_test, y_pred))"
=======
   "execution_count": null,
   "id": "advisory-photography",
   "metadata": {},
   "outputs": [],
   "source": [
    "lasso = Lasso(max_iter = 10000, normalize = True)\n",
    "lasso.set_params(alpha=lassocv.alpha_)\n",
    "kfold_cross_validation(10, X, y, lasso)"
>>>>>>> parent of 9396477 (Check in multiple changes to the github)
   ]
  },
  {
   "cell_type": "code",
<<<<<<< HEAD
   "execution_count": 15,
   "id": "functioning-sheffield",
   "metadata": {},
   "outputs": [
    {
     "data": {
      "text/html": [
       "<div>\n",
       "<style scoped>\n",
       "    .dataframe tbody tr th:only-of-type {\n",
       "        vertical-align: middle;\n",
       "    }\n",
       "\n",
       "    .dataframe tbody tr th {\n",
       "        vertical-align: top;\n",
       "    }\n",
       "\n",
       "    .dataframe thead th {\n",
       "        text-align: right;\n",
       "    }\n",
       "</style>\n",
       "<table border=\"1\" class=\"dataframe\">\n",
       "  <thead>\n",
       "    <tr style=\"text-align: right;\">\n",
       "      <th></th>\n",
       "      <th>Observed</th>\n",
       "      <th>Prediction</th>\n",
       "    </tr>\n",
       "  </thead>\n",
       "  <tbody>\n",
       "    <tr>\n",
       "      <th>418</th>\n",
       "      <td>3577.3</td>\n",
       "      <td>7113.041245</td>\n",
       "    </tr>\n",
       "    <tr>\n",
       "      <th>778</th>\n",
       "      <td>119000.0</td>\n",
       "      <td>84476.890735</td>\n",
       "    </tr>\n",
       "    <tr>\n",
       "      <th>58</th>\n",
       "      <td>3410.0</td>\n",
       "      <td>7266.676969</td>\n",
       "    </tr>\n",
       "    <tr>\n",
       "      <th>464</th>\n",
       "      <td>14296.5</td>\n",
       "      <td>5567.369424</td>\n",
       "    </tr>\n",
       "    <tr>\n",
       "      <th>206</th>\n",
       "      <td>32000.0</td>\n",
       "      <td>10140.048533</td>\n",
       "    </tr>\n",
       "  </tbody>\n",
       "</table>\n",
       "</div>"
      ],
      "text/plain": [
       "     Observed    Prediction\n",
       "418    3577.3   7113.041245\n",
       "778  119000.0  84476.890735\n",
       "58     3410.0   7266.676969\n",
       "464   14296.5   5567.369424\n",
       "206   32000.0  10140.048533"
      ]
     },
     "execution_count": 15,
     "metadata": {},
     "output_type": "execute_result"
    }
   ],
   "source": [
    "log_reg = pd.DataFrame({'Observed':y_test,'Prediction':y_pred})\n",
    "log_reg.head()"
=======
   "execution_count": null,
   "id": "seventh-awareness",
   "metadata": {},
   "outputs": [],
   "source": [
    "lasso = Lasso(max_iter = 10000, normalize = True)\n",
    "lasso.set_params(alpha=lassocv.alpha_)\n",
    "predicted = cross_val_predict(lasso, X, y, cv=5)\n",
    "\n",
    "fig, axs = plt.subplots(1,2, figsize=(25,10));\n",
    "fig.suptitle('Lasso Regression - ln(Total Sales) and ln(Total Assets) vs. GHG Scope 1');\n",
    "sns.scatterplot(x=y_test, y = yhat_lasso, ax=axs[0], color='b');\n",
    "axs[0].set_title('Validation Set Approach - Hold out');\n",
    "axs[0].plot([y_test.min(), y_test.max()], [y_test.min(), y_test.max()], 'k--', lw=4);\n",
    "sns.scatterplot(x=y, y = predicted, ax=axs[1], color='g');\n",
    "axs[1].set_title('5-kfold cross validation');\n",
    "axs[1].plot([y.min(), y.max()], [y.min(), y.max()], 'k--', lw=4);"
>>>>>>> parent of 9396477 (Check in multiple changes to the github)
   ]
  },
  {
   "cell_type": "code",
<<<<<<< HEAD
   "execution_count": 16,
   "id": "indie-story",
   "metadata": {},
   "outputs": [],
   "source": [
    "df_model_eval.loc[len(df_model_eval.index)] = ['Logarithmic (Sales + Asset)', metrics.mean_squared_error(y_test,y_pred), np.sqrt(metrics.mean_squared_error(y_test,y_pred)), metrics.r2_score(y_test, y_pred)] "
=======
   "execution_count": null,
   "id": "visible-bunny",
   "metadata": {},
   "outputs": [],
   "source": [
    "df_model_eval.loc[len(df_model_eval.index)] = [10 , 'Lasso (ln(Sales) + ln(Asset))', 'Hold-out',metrics.mean_squared_error(y_test,yhat_ridge), np.sqrt(metrics.mean_squared_error(y_test,yhat_ridge)), metrics.r2_score(y_test, yhat_ridge)] \n",
    "df_model_eval.loc[len(df_model_eval.index)] = [11 , 'Lasso (ln(Sales) + ln(Asset))', '5-kfolds',677276647.87, 26024.53, 0.36] \n",
    "df_model_eval"
>>>>>>> parent of 9396477 (Check in multiple changes to the github)
   ]
  },
  {
   "cell_type": "markdown",
<<<<<<< HEAD
   "id": "afraid-restriction",
=======
   "id": "royal-advantage",
>>>>>>> parent of 9396477 (Check in multiple changes to the github)
   "metadata": {
    "id": "vital-blowing"
   },
   "source": [
    "### Model 3 -  GHG for Energy vs Utilities\n",
    "\n",
    "GHG = a + b1*Sales + b2*Assets + b3*Util + b5*TimeTrend + e\n",
    "\n",
    "#### Linear Regression - Validation set approach"
   ]
  },
  {
   "cell_type": "code",
<<<<<<< HEAD
   "execution_count": 17,
   "id": "black-browse",
=======
   "execution_count": null,
   "id": "developmental-session",
>>>>>>> parent of 9396477 (Check in multiple changes to the github)
   "metadata": {
    "colab": {
     "base_uri": "https://localhost:8080/"
    },
    "id": "freelance-maple",
    "outputId": "7779c7a4-5dbc-44e1-bcb2-1b15c4d494ff"
   },
<<<<<<< HEAD
   "outputs": [
    {
     "name": "stdout",
     "output_type": "stream",
     "text": [
      "(398, 4)\n",
      "(398,)\n"
     ]
    }
   ],
=======
   "outputs": [],
>>>>>>> parent of 9396477 (Check in multiple changes to the github)
   "source": [
    "stock = stocks.copy()\n",
    "stock.dropna(inplace=True, subset = ['Total_Assets','Total_Sales','GHG Scope 1'])\n",
    "\n",
    "X = stock[['Total_Sales','Total_Assets','Utility','time_trend']]\n",
    "y = stock['GHG Scope 1']\n",
    "print(X.shape)\n",
    "print(y.shape)"
   ]
  },
  {
   "cell_type": "code",
<<<<<<< HEAD
   "execution_count": 18,
   "id": "average-wrist",
=======
   "execution_count": null,
   "id": "intellectual-secretary",
>>>>>>> parent of 9396477 (Check in multiple changes to the github)
   "metadata": {
    "id": "capable-fitting"
   },
   "outputs": [],
   "source": [
    "model = LinearRegression(fit_intercept=True) #Initialize model\n",
    "Xtrain, Xtest, ytrain, ytest = train_test_split(X, y, test_size=0.2, random_state=42) #Train and Test split\n",
    "model.fit(Xtrain,ytrain) #Fit the model\n",
    "y_model = model.predict(Xtest) #Make predictions"
   ]
  },
  {
   "cell_type": "code",
<<<<<<< HEAD
   "execution_count": 19,
   "id": "advisory-chambers",
=======
   "execution_count": null,
   "id": "regulation-textbook",
>>>>>>> parent of 9396477 (Check in multiple changes to the github)
   "metadata": {
    "colab": {
     "base_uri": "https://localhost:8080/"
    },
    "id": "eleven-chart",
    "outputId": "79190a11-8f7c-4724-a0b8-5380df9b80e8"
   },
<<<<<<< HEAD
   "outputs": [
    {
     "name": "stdout",
     "output_type": "stream",
     "text": [
      "Coefficients: \n",
      " [ 1.27217988e-01  2.83677679e-01  2.23421275e+04 -5.58358640e+02]\n",
      "Mean squared error: 442891100.67\n",
      "Root Mean Squared Error: 21044.978039190788\n",
      "Coefficient of determination: 0.66\n"
     ]
    }
   ],
=======
   "outputs": [],
>>>>>>> parent of 9396477 (Check in multiple changes to the github)
   "source": [
    "#The coefficients\n",
    "print('Coefficients: \\n', model.coef_)\n",
    "#Mean Squared Error\n",
    "print('Mean squared error: %.2f' % metrics.mean_squared_error(ytest,y_model))\n",
    "print(f'Root Mean Squared Error: {np.sqrt(metrics.mean_squared_error(ytest,y_model))}')\n",
    "# The coefficient of determination: 1 is perfect prediction\n",
    "print('Coefficient of determination: %.2f'\n",
    "      % metrics.r2_score(ytest, y_model))"
   ]
  },
  {
   "cell_type": "code",
<<<<<<< HEAD
   "execution_count": 20,
   "id": "indie-graduation",
=======
   "execution_count": null,
   "id": "flying-exchange",
>>>>>>> parent of 9396477 (Check in multiple changes to the github)
   "metadata": {
    "colab": {
     "base_uri": "https://localhost:8080/",
     "height": 204
    },
    "id": "cardiac-check",
    "outputId": "cccb11c0-f09b-4927-bf06-037ec13c2151"
   },
<<<<<<< HEAD
   "outputs": [
    {
     "data": {
      "text/html": [
       "<div>\n",
       "<style scoped>\n",
       "    .dataframe tbody tr th:only-of-type {\n",
       "        vertical-align: middle;\n",
       "    }\n",
       "\n",
       "    .dataframe tbody tr th {\n",
       "        vertical-align: top;\n",
       "    }\n",
       "\n",
       "    .dataframe thead th {\n",
       "        text-align: right;\n",
       "    }\n",
       "</style>\n",
       "<table border=\"1\" class=\"dataframe\">\n",
       "  <thead>\n",
       "    <tr style=\"text-align: right;\">\n",
       "      <th></th>\n",
       "      <th>Observed</th>\n",
       "      <th>Prediction</th>\n",
       "    </tr>\n",
       "  </thead>\n",
       "  <tbody>\n",
       "    <tr>\n",
       "      <th>418</th>\n",
       "      <td>3577.3</td>\n",
       "      <td>-905.917272</td>\n",
       "    </tr>\n",
       "    <tr>\n",
       "      <th>778</th>\n",
       "      <td>119000.0</td>\n",
       "      <td>125953.752659</td>\n",
       "    </tr>\n",
       "    <tr>\n",
       "      <th>58</th>\n",
       "      <td>3410.0</td>\n",
       "      <td>-735.413566</td>\n",
       "    </tr>\n",
       "    <tr>\n",
       "      <th>464</th>\n",
       "      <td>14296.5</td>\n",
       "      <td>19195.057407</td>\n",
       "    </tr>\n",
       "    <tr>\n",
       "      <th>206</th>\n",
       "      <td>32000.0</td>\n",
       "      <td>26110.108190</td>\n",
       "    </tr>\n",
       "  </tbody>\n",
       "</table>\n",
       "</div>"
      ],
      "text/plain": [
       "     Observed     Prediction\n",
       "418    3577.3    -905.917272\n",
       "778  119000.0  125953.752659\n",
       "58     3410.0    -735.413566\n",
       "464   14296.5   19195.057407\n",
       "206   32000.0   26110.108190"
      ]
     },
     "execution_count": 20,
     "metadata": {},
     "output_type": "execute_result"
    }
   ],
=======
   "outputs": [],
>>>>>>> parent of 9396477 (Check in multiple changes to the github)
   "source": [
    "#Create data frame with observed and predicted\n",
    "linear_reg = pd.DataFrame({'Observed':ytest,'Prediction':y_model})\n",
    "linear_reg.head()"
   ]
  },
  {
   "cell_type": "code",
<<<<<<< HEAD
   "execution_count": 21,
   "id": "educational-serial",
   "metadata": {},
   "outputs": [],
   "source": [
    "df_model_eval.loc[len(df_model_eval.index)] = ['Linear Regression (Sales + Asset + Utilities + Timetrend)', metrics.mean_squared_error(ytest,y_model), np.sqrt(metrics.mean_squared_error(ytest,y_model)), metrics.r2_score(ytest, y_model)] "
=======
   "execution_count": null,
   "id": "level-characteristic",
   "metadata": {},
   "outputs": [],
   "source": [
    "df_model_eval.loc[len(df_model_eval.index)] = [12, 'Linear Regression (Sales + Asset + Utilities + Timetrend)', 'Hold-out', metrics.mean_squared_error(ytest,y_model), np.sqrt(metrics.mean_squared_error(ytest,y_model)), metrics.r2_score(ytest, y_model)]\n",
    "df_model_eval"
   ]
  },
  {
   "cell_type": "code",
   "execution_count": null,
   "id": "dated-newspaper",
   "metadata": {},
   "outputs": [],
   "source": [
    "# df = pd.DataFrame(X_train ,columns=['Sales','Assets','Utilities','Timetrend'])\n",
    "# df['GHG_Scope1']= pd.Series(y_train)\n",
    "\n",
    "# x_surf, y_surf, z_surf, zz_surf = np.meshgrid(np.linspace(df.Sales.min(), df.Sales.max(), 100),\n",
    "#                                      np.linspace(df.Assets.min(), df.Assets.max(), 100),\n",
    "#                                     np.linspace(df.Utilities.min(), df.Utilities.max(), 100),\n",
    "#                                     np.linspace(df.Timetrend.min(), df.Timetrend.max(), 100))\n",
    "\n",
    "# onlyX = pd.DataFrame({'Sales': x_surf.ravel(), 'Assets': y_surf.ravel(), \n",
    "#                       'Utilities': z_surf.ravel(), 'Timetrend': zz_surf.ravel()})\n",
    "# fittedY= regressor.predict(onlyX)\n",
    "# fittedY=np.array(fittedY)\n",
    "\n",
    "# fig = plt.figure(figsize=(25,12))\n",
    "# ax = fig.add_subplot(111, projection='3d')\n",
    "# ax.scatter(df.Sales,df.Assets,df.Utilities, df.Timetrend, df.GHG_Scope1,c='red', marker='o', alpha=0.5)\n",
    "# ax.plot_surface(x_surf,y_surf,z_surf, zz_surf, fittedY.reshape(x_surf.shape), color='b', alpha=0.3)\n",
    "# ax.set_xlabel('Total Sales')\n",
    "# ax.set_ylabel('Total Assets')\n",
    "# ax.set_zlabel('GHG Scope 1')\n",
    "# fig.suptitle('Linear Regression - Sales and Assets vs. GHG Scope 1', fontsize=20);"
>>>>>>> parent of 9396477 (Check in multiple changes to the github)
   ]
  },
  {
   "cell_type": "markdown",
<<<<<<< HEAD
   "id": "rolled-disaster",
=======
   "id": "broad-chassis",
>>>>>>> parent of 9396477 (Check in multiple changes to the github)
   "metadata": {
    "id": "married-uzbekistan"
   },
   "source": [
    "#### Linear regression with k-fold cross validation"
   ]
  },
  {
   "cell_type": "code",
<<<<<<< HEAD
   "execution_count": 22,
   "id": "earned-navigation",
=======
   "execution_count": null,
   "id": "canadian-employer",
>>>>>>> parent of 9396477 (Check in multiple changes to the github)
   "metadata": {
    "id": "later-basketball"
   },
   "outputs": [],
   "source": [
    "X = X.values\n",
<<<<<<< HEAD
    "y = y.values\n",
    "\n",
    "def kfold_cross_validation(n_splits, X, y, model_type):\n",
    "    data_y, data_yhat,coef = [], [],[]\n",
    "    kfold = KFold(n_splits=n_splits, random_state = 42, shuffle=True)\n",
    "    for train_ix, test_ix in kfold.split(X):\n",
    "        # get data\n",
    "        train_X, test_X = X[train_ix], X[test_ix]\n",
    "        train_y, test_y = y[train_ix], y[test_ix]\n",
    "        # fit model\n",
    "        model = model_type\n",
    "        model.fit(train_X, train_y)\n",
    "        # make predictions\n",
    "        yhat = model.predict(test_X)\n",
    "        coef.append(model.coef_)\n",
    "        # store\n",
    "        data_y.extend(test_y)\n",
    "        data_yhat.extend(yhat)\n",
    "\n",
    "    # Evaluate the model\n",
    "    print('Mean squared error: %.2f' % metrics.mean_squared_error(data_y, data_yhat))\n",
    "    print(f'Root Mean Squared Error: {np.sqrt(metrics.mean_squared_error(data_y, data_yhat))}')\n",
    "    print('Coefficient of determination: %.2f'% metrics.r2_score(data_y, data_yhat))"
=======
    "y = y.values"
>>>>>>> parent of 9396477 (Check in multiple changes to the github)
   ]
  },
  {
   "cell_type": "code",
<<<<<<< HEAD
   "execution_count": 23,
   "id": "conventional-disaster",
=======
   "execution_count": null,
   "id": "serial-documentary",
>>>>>>> parent of 9396477 (Check in multiple changes to the github)
   "metadata": {
    "colab": {
     "base_uri": "https://localhost:8080/"
    },
    "id": "efficient-upset",
    "outputId": "dddb1017-2406-4188-aaed-f4b936581a32"
   },
<<<<<<< HEAD
   "outputs": [
    {
     "name": "stdout",
     "output_type": "stream",
     "text": [
      "Mean squared error: 462201730.55\n",
      "Root Mean Squared Error: 21498.877425240873\n",
      "Coefficient of determination: 0.56\n"
     ]
    }
   ],
=======
   "outputs": [],
>>>>>>> parent of 9396477 (Check in multiple changes to the github)
   "source": [
    "model1 = LinearRegression()\n",
    "kfold_cross_validation(10,X,y,model1)"
   ]
  },
  {
   "cell_type": "code",
<<<<<<< HEAD
   "execution_count": 24,
   "id": "cheap-diamond",
=======
   "execution_count": null,
   "id": "tutorial-happiness",
>>>>>>> parent of 9396477 (Check in multiple changes to the github)
   "metadata": {
    "colab": {
     "base_uri": "https://localhost:8080/"
    },
    "id": "former-heart",
    "outputId": "113e8beb-34bf-4897-cabd-9e2d6d6c07ea"
   },
<<<<<<< HEAD
   "outputs": [
    {
     "name": "stdout",
     "output_type": "stream",
     "text": [
      "Mean squared error: 458669164.20\n",
      "Root Mean Squared Error: 21416.562847569556\n",
      "Coefficient of determination: 0.57\n"
     ]
    }
   ],
=======
   "outputs": [],
>>>>>>> parent of 9396477 (Check in multiple changes to the github)
   "source": [
    "kfold_cross_validation(5,X,y,model1)"
   ]
  },
  {
   "cell_type": "code",
<<<<<<< HEAD
   "execution_count": 25,
   "id": "continuous-organic",
   "metadata": {},
   "outputs": [],
   "source": [
    "df_model_eval.loc[len(df_model_eval.index)] = ['Linear Regression CV 5K-fold (Sales + Asset + Utilities + Timetrend)', 458669164.20,  21416.56 ,0.57 ] "
=======
   "execution_count": null,
   "id": "impossible-copper",
   "metadata": {},
   "outputs": [],
   "source": [
    "df_model_eval.loc[len(df_model_eval.index)] = [4, 'Linear Regression CV 5K-fold (Sales + Asset + Utilities + Timetrend)', 458669164.20,  21416.56 ,0.57 ] "
>>>>>>> parent of 9396477 (Check in multiple changes to the github)
   ]
  },
  {
   "cell_type": "markdown",
<<<<<<< HEAD
   "id": "homeless-oklahoma",
=======
   "id": "periodic-today",
>>>>>>> parent of 9396477 (Check in multiple changes to the github)
   "metadata": {
    "id": "tender-combat"
   },
   "source": [
    "#### Ridge Regression - Validation set approach"
   ]
  },
  {
   "cell_type": "code",
<<<<<<< HEAD
   "execution_count": 26,
   "id": "digital-foundation",
=======
   "execution_count": null,
   "id": "occasional-plasma",
>>>>>>> parent of 9396477 (Check in multiple changes to the github)
   "metadata": {
    "colab": {
     "base_uri": "https://localhost:8080/",
     "height": 299
    },
    "id": "minor-boutique",
    "outputId": "3b5b9f0b-7ae9-4bfb-e22d-9b8bb4f7674b"
   },
<<<<<<< HEAD
   "outputs": [
    {
     "data": {
      "image/png": "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\n",
      "text/plain": [
       "<Figure size 432x288 with 1 Axes>"
      ]
     },
     "metadata": {
      "needs_background": "light"
     },
     "output_type": "display_data"
    }
   ],
=======
   "outputs": [],
>>>>>>> parent of 9396477 (Check in multiple changes to the github)
   "source": [
    "n_alphas = 100\n",
    "alphas = np.logspace(-10, -2, n_alphas)\n",
    "\n",
    "coefs = []\n",
    "for a in alphas:\n",
    "    ridge = Ridge(alpha=a, fit_intercept=False, normalize=True)\n",
    "    Xtrain, Xtest, ytrain, ytest = train_test_split(X, y, test_size=0.2, random_state=42)\n",
    "    ridge.fit(Xtrain, ytrain)\n",
    "    coefs.append(ridge.coef_)\n",
    "\n",
    "ax = plt.gca()\n",
    "ax.plot(alphas, coefs)\n",
    "ax.plot(alphas, coefs)\n",
    "ax.set_xscale('log')\n",
    "ax.set_xlim(ax.get_xlim()[::-1])  # reverse axis\n",
    "plt.xlabel('alpha')\n",
    "plt.ylabel('weights')\n",
    "plt.title('Ridge coefficients as a function of the regularization')\n",
    "plt.axis('tight')\n",
    "plt.show()"
   ]
  },
  {
   "cell_type": "markdown",
<<<<<<< HEAD
   "id": "pharmaceutical-cardiff",
=======
   "id": "minor-tourist",
>>>>>>> parent of 9396477 (Check in multiple changes to the github)
   "metadata": {
    "id": "heard-quality"
   },
   "source": [
    "Do we need to standarized the data? One feature is staying high.. would it look better if we normalize it? Would the logarithm work better because it distributes the data better?"
   ]
  },
  {
   "cell_type": "code",
<<<<<<< HEAD
   "execution_count": 27,
   "id": "immediate-sleep",
=======
   "execution_count": null,
   "id": "former-thanksgiving",
>>>>>>> parent of 9396477 (Check in multiple changes to the github)
   "metadata": {
    "colab": {
     "base_uri": "https://localhost:8080/"
    },
    "id": "explicit-yield",
    "outputId": "e30ecef4-731d-4d39-947c-b71510ff0b23"
   },
<<<<<<< HEAD
   "outputs": [
    {
     "data": {
      "text/plain": [
       "[array([ 1.25671073e-01,  2.83924392e-01,  2.21708862e+04, -5.96063139e+02]),\n",
       " array([ 1.25671073e-01,  2.83924392e-01,  2.21708862e+04, -5.96063139e+02]),\n",
       " array([ 1.25671073e-01,  2.83924392e-01,  2.21708862e+04, -5.96063139e+02]),\n",
       " array([ 1.25671073e-01,  2.83924392e-01,  2.21708862e+04, -5.96063139e+02]),\n",
       " array([ 1.25671073e-01,  2.83924392e-01,  2.21708862e+04, -5.96063139e+02])]"
      ]
     },
     "execution_count": 27,
     "metadata": {},
     "output_type": "execute_result"
    }
   ],
=======
   "outputs": [],
>>>>>>> parent of 9396477 (Check in multiple changes to the github)
   "source": [
    "coefs[:5] #First five coefficients\n",
    "#print(f'Last 5 coefficients: {coefs[(len(coefs) - 5):len(coefs)]}')"
   ]
  },
  {
   "cell_type": "code",
<<<<<<< HEAD
   "execution_count": 28,
   "id": "japanese-campbell",
=======
   "execution_count": null,
   "id": "sharing-myanmar",
>>>>>>> parent of 9396477 (Check in multiple changes to the github)
   "metadata": {
    "colab": {
     "base_uri": "https://localhost:8080/"
    },
    "id": "friendly-clinic",
    "outputId": "4d91caa0-a376-45d7-92bd-42cd8976ac41"
   },
<<<<<<< HEAD
   "outputs": [
    {
     "data": {
      "text/plain": [
       "[array([ 1.25665134e-01,  2.83928669e-01,  2.21695471e+04, -5.95994844e+02]),\n",
       " array([ 1.25663919e-01,  2.83929543e-01,  2.21692732e+04, -5.95980878e+02]),\n",
       " array([ 1.25662457e-01,  2.83930597e-01,  2.21689434e+04, -5.95964057e+02]),\n",
       " array([ 1.25660695e-01,  2.83931866e-01,  2.21685461e+04, -5.95943797e+02]),\n",
       " array([ 1.25658573e-01,  2.83933394e-01,  2.21680676e+04, -5.95919394e+02])]"
      ]
     },
     "execution_count": 28,
     "metadata": {},
     "output_type": "execute_result"
    }
   ],
=======
   "outputs": [],
>>>>>>> parent of 9396477 (Check in multiple changes to the github)
   "source": [
    "coefs[(len(coefs) - 5):len(coefs)] #the last 5 coefficients"
   ]
  },
  {
   "cell_type": "code",
<<<<<<< HEAD
   "execution_count": 29,
   "id": "cognitive-wings",
=======
   "execution_count": null,
   "id": "loose-white",
>>>>>>> parent of 9396477 (Check in multiple changes to the github)
   "metadata": {
    "id": "hungarian-conjunction"
   },
   "outputs": [],
   "source": [
    "# Split data into training and test sets\n",
    "X_train, X_test , y_train, y_test = train_test_split(X, y, test_size=0.2, random_state=42)"
   ]
  },
  {
   "cell_type": "markdown",
<<<<<<< HEAD
   "id": "invisible-uncertainty",
=======
   "id": "sought-electric",
>>>>>>> parent of 9396477 (Check in multiple changes to the github)
   "metadata": {
    "id": "parliamentary-finance"
   },
   "source": [
    "Instead of arbitrarily choosing alpha, we used cross-validation to choose the tuning parameter alpha. "
   ]
  },
  {
   "cell_type": "code",
<<<<<<< HEAD
   "execution_count": 30,
   "id": "variable-longitude",
=======
   "execution_count": null,
   "id": "needed-dining",
>>>>>>> parent of 9396477 (Check in multiple changes to the github)
   "metadata": {
    "colab": {
     "base_uri": "https://localhost:8080/"
    },
    "id": "impressive-network",
    "outputId": "76b18a2f-5ac7-4e0f-93f9-b9f803bf4ab9"
   },
<<<<<<< HEAD
   "outputs": [
    {
     "data": {
      "text/plain": [
       "RidgeCV(alphas=array([1.00000000e-10, 1.20450354e-10, 1.45082878e-10, 1.74752840e-10,\n",
       "       2.10490414e-10, 2.53536449e-10, 3.05385551e-10, 3.67837977e-10,\n",
       "       4.43062146e-10, 5.33669923e-10, 6.42807312e-10, 7.74263683e-10,\n",
       "       9.32603347e-10, 1.12332403e-09, 1.35304777e-09, 1.62975083e-09,\n",
       "       1.96304065e-09, 2.36448941e-09, 2.84803587e-09, 3.43046929e-09,\n",
       "       4.13201240e-09, 4.97702356e-0...\n",
       "       2.91505306e-04, 3.51119173e-04, 4.22924287e-04, 5.09413801e-04,\n",
       "       6.13590727e-04, 7.39072203e-04, 8.90215085e-04, 1.07226722e-03,\n",
       "       1.29154967e-03, 1.55567614e-03, 1.87381742e-03, 2.25701972e-03,\n",
       "       2.71858824e-03, 3.27454916e-03, 3.94420606e-03, 4.75081016e-03,\n",
       "       5.72236766e-03, 6.89261210e-03, 8.30217568e-03, 1.00000000e-02]),\n",
       "        normalize=True, scoring='neg_mean_squared_error')"
      ]
     },
     "execution_count": 30,
     "metadata": {},
     "output_type": "execute_result"
    }
   ],
=======
   "outputs": [],
>>>>>>> parent of 9396477 (Check in multiple changes to the github)
   "source": [
    "ridgecv = RidgeCV(alphas = alphas, scoring = 'neg_mean_squared_error', normalize = True)\n",
    "ridgecv.fit(X_train, y_train)\n"
   ]
  },
  {
   "cell_type": "code",
<<<<<<< HEAD
   "execution_count": 31,
   "id": "floating-custody",
=======
   "execution_count": null,
   "id": "wired-montreal",
>>>>>>> parent of 9396477 (Check in multiple changes to the github)
   "metadata": {
    "colab": {
     "base_uri": "https://localhost:8080/"
    },
    "id": "southern-kingdom",
    "outputId": "d4966857-0b7b-49f1-c889-3974776f66c7"
   },
<<<<<<< HEAD
   "outputs": [
    {
     "name": "stdout",
     "output_type": "stream",
     "text": [
      "Mean squared error: 442044666.55\n",
      "Root Mean Squared Error: 21024.858300368476\n",
      "Coefficient of determination: 0.66\n"
     ]
    }
   ],
=======
   "outputs": [],
>>>>>>> parent of 9396477 (Check in multiple changes to the github)
   "source": [
    "ridge_1 = Ridge(alpha = ridgecv.alpha_, normalize = True)\n",
    "ridge_1.fit(X_train, y_train)\n",
    "yhat_ridge = ridge_1.predict(X_test)\n",
    "\n",
    "# Evaluate the model\n",
    "print('Mean squared error: %.2f' % metrics.mean_squared_error(y_test, yhat_ridge))\n",
    "print(f'Root Mean Squared Error: {np.sqrt(metrics.mean_squared_error(y_test, yhat_ridge))}')\n",
    "print('Coefficient of determination: %.2f'% metrics.r2_score(y_test, yhat_ridge))"
   ]
  },
  {
   "cell_type": "code",
<<<<<<< HEAD
   "execution_count": 32,
   "id": "ahead-brake",
=======
   "execution_count": null,
   "id": "brazilian-right",
>>>>>>> parent of 9396477 (Check in multiple changes to the github)
   "metadata": {},
   "outputs": [],
   "source": [
    "df_model_eval.loc[len(df_model_eval.index)] = ['Ridge (Sales + Asset + Utilities + Timetrend)', metrics.mean_squared_error(y_test, yhat_ridge), np.sqrt(metrics.mean_squared_error(y_test, yhat_ridge)), metrics.r2_score(y_test, yhat_ridge)] "
   ]
  },
  {
   "cell_type": "markdown",
<<<<<<< HEAD
   "id": "liable-touch",
=======
   "id": "velvet-disorder",
>>>>>>> parent of 9396477 (Check in multiple changes to the github)
   "metadata": {
    "id": "liable-season"
   },
   "source": [
    "#### Ridge Regression - Cross validation approach"
   ]
  },
  {
   "cell_type": "code",
<<<<<<< HEAD
   "execution_count": 33,
   "id": "wired-contest",
=======
   "execution_count": null,
   "id": "virtual-preparation",
>>>>>>> parent of 9396477 (Check in multiple changes to the github)
   "metadata": {
    "colab": {
     "base_uri": "https://localhost:8080/"
    },
    "id": "contrary-relaxation",
    "outputId": "22e02287-e56d-4ffa-ee0d-44782e5ed40e"
   },
<<<<<<< HEAD
   "outputs": [
    {
     "name": "stdout",
     "output_type": "stream",
     "text": [
      "Mean squared error: 462009807.83\n",
      "Root Mean Squared Error: 21494.413409662833\n",
      "Coefficient of determination: 0.56\n"
     ]
    }
   ],
=======
   "outputs": [],
>>>>>>> parent of 9396477 (Check in multiple changes to the github)
   "source": [
    "kfold_cross_validation(10,X,y,ridge_1)"
   ]
  },
  {
   "cell_type": "code",
<<<<<<< HEAD
   "execution_count": 34,
   "id": "lesser-insured",
=======
   "execution_count": null,
   "id": "everyday-indonesia",
>>>>>>> parent of 9396477 (Check in multiple changes to the github)
   "metadata": {
    "colab": {
     "base_uri": "https://localhost:8080/"
    },
    "id": "portuguese-mentor",
    "outputId": "abb8dd28-8362-4ce3-9404-2ff5b3239f0d"
   },
<<<<<<< HEAD
   "outputs": [
    {
     "name": "stdout",
     "output_type": "stream",
     "text": [
      "Mean squared error: 458487743.03\n",
      "Root Mean Squared Error: 21412.326894264337\n",
      "Coefficient of determination: 0.57\n"
     ]
    }
   ],
=======
   "outputs": [],
>>>>>>> parent of 9396477 (Check in multiple changes to the github)
   "source": [
    "kfold_cross_validation(5,X,y,ridge_1)"
   ]
  },
  {
   "cell_type": "code",
<<<<<<< HEAD
   "execution_count": 35,
   "id": "organic-liver",
=======
   "execution_count": null,
   "id": "double-baseball",
>>>>>>> parent of 9396477 (Check in multiple changes to the github)
   "metadata": {
    "colab": {
     "base_uri": "https://localhost:8080/"
    },
    "id": "tropical-geography",
    "outputId": "993ff8d0-b927-4b92-e749-a905d60168a6"
   },
<<<<<<< HEAD
   "outputs": [
    {
     "name": "stdout",
     "output_type": "stream",
     "text": [
      "Mean squared error: 460942033.16\n",
      "Root Mean Squared Error: 21469.56061878212\n",
      "Coefficient of determination: 0.57\n"
     ]
    }
   ],
=======
   "outputs": [],
>>>>>>> parent of 9396477 (Check in multiple changes to the github)
   "source": [
    "kfold_cross_validation(2,X,y,ridge_1)"
   ]
  },
  {
   "cell_type": "code",
<<<<<<< HEAD
   "execution_count": 36,
   "id": "hydraulic-fiction",
=======
   "execution_count": null,
   "id": "tested-drive",
>>>>>>> parent of 9396477 (Check in multiple changes to the github)
   "metadata": {},
   "outputs": [],
   "source": [
    "df_model_eval.loc[len(df_model_eval.index)] = ['Ridge CV 5K-fold (Sales + Asset + Utilities + Timetrend)', 458487743.03, 21412.326894264337 ,0.57 ] "
   ]
  },
  {
   "cell_type": "markdown",
<<<<<<< HEAD
   "id": "legislative-print",
=======
   "id": "lasting-welcome",
>>>>>>> parent of 9396477 (Check in multiple changes to the github)
   "metadata": {
    "id": "removed-canal"
   },
   "source": [
    "#### Lasso - Validation set approach"
   ]
  },
  {
   "cell_type": "code",
<<<<<<< HEAD
   "execution_count": 37,
   "id": "stone-collection",
=======
   "execution_count": null,
   "id": "comfortable-wesley",
>>>>>>> parent of 9396477 (Check in multiple changes to the github)
   "metadata": {
    "colab": {
     "base_uri": "https://localhost:8080/",
     "height": 300
    },
    "id": "broke-basin",
    "outputId": "e29f2d77-a1bb-4347-9339-e9da99ba86e6"
   },
<<<<<<< HEAD
   "outputs": [
    {
     "data": {
      "text/plain": [
       "Text(0, 0.5, 'weights')"
      ]
     },
     "execution_count": 37,
     "metadata": {},
     "output_type": "execute_result"
    },
    {
     "data": {
      "image/png": "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\n",
      "text/plain": [
       "<Figure size 432x288 with 1 Axes>"
      ]
     },
     "metadata": {
      "needs_background": "light"
     },
     "output_type": "display_data"
    }
   ],
=======
   "outputs": [],
>>>>>>> parent of 9396477 (Check in multiple changes to the github)
   "source": [
    "lasso = Lasso(max_iter = 10000, normalize = True)\n",
    "coefs = []\n",
    "\n",
    "for a in alphas:\n",
    "    lasso.set_params(alpha=a)\n",
    "    lasso.fit(scale(X_train), y_train)\n",
    "    coefs.append(lasso.coef_)\n",
    "    \n",
    "ax = plt.gca()\n",
    "ax.plot(alphas*2, coefs)\n",
    "ax.set_xscale('log')\n",
    "plt.axis('tight')\n",
    "plt.xlabel('alpha')\n",
    "plt.ylabel('weights')"
   ]
  },
  {
   "cell_type": "code",
<<<<<<< HEAD
   "execution_count": 38,
   "id": "fixed-intermediate",
=======
   "execution_count": null,
   "id": "mature-communication",
>>>>>>> parent of 9396477 (Check in multiple changes to the github)
   "metadata": {
    "colab": {
     "base_uri": "https://localhost:8080/"
    },
    "id": "seventh-empty",
    "outputId": "9aaff7a8-6574-495a-86af-347ae6352c79"
   },
<<<<<<< HEAD
   "outputs": [
    {
     "name": "stdout",
     "output_type": "stream",
     "text": [
      "The optimal alpha is 1.1532714502900596\n"
     ]
    }
   ],
=======
   "outputs": [],
>>>>>>> parent of 9396477 (Check in multiple changes to the github)
   "source": [
    "lassocv = LassoCV(alphas = None, cv = 10, max_iter = 100000, normalize = True)\n",
    "lassocv.fit(X_train, y_train)\n",
    "\n",
    "print(f'The optimal alpha is {lassocv.alpha_}')"
   ]
  },
  {
   "cell_type": "code",
<<<<<<< HEAD
   "execution_count": 39,
   "id": "paperback-sessions",
=======
   "execution_count": null,
   "id": "cutting-south",
>>>>>>> parent of 9396477 (Check in multiple changes to the github)
   "metadata": {
    "colab": {
     "base_uri": "https://localhost:8080/"
    },
    "id": "raising-packing",
    "outputId": "155b6b8c-7484-481e-c6b6-ebe7d239308b"
   },
<<<<<<< HEAD
   "outputs": [
    {
     "name": "stdout",
     "output_type": "stream",
     "text": [
      "Mean squared error: 442776564.91\n",
      "Root Mean Squared Error: 21042.25664955323\n",
      "Coefficient of determination: 0.66\n"
     ]
    }
   ],
=======
   "outputs": [],
>>>>>>> parent of 9396477 (Check in multiple changes to the github)
   "source": [
    "lasso.set_params(alpha=lassocv.alpha_)\n",
    "lasso.fit(X_train, y_train)\n",
    "yhat_lasso = lasso.predict(X_test)\n",
    "\n",
    "# Evaluate the model\n",
    "print('Mean squared error: %.2f' % metrics.mean_squared_error(y_test, yhat_lasso))\n",
    "print(f'Root Mean Squared Error: {np.sqrt(metrics.mean_squared_error(y_test, yhat_lasso))}')\n",
    "print('Coefficient of determination: %.2f'% metrics.r2_score(y_test, yhat_lasso ))"
   ]
  },
  {
   "cell_type": "code",
<<<<<<< HEAD
   "execution_count": 40,
   "id": "finished-developer",
=======
   "execution_count": null,
   "id": "dramatic-flooring",
>>>>>>> parent of 9396477 (Check in multiple changes to the github)
   "metadata": {},
   "outputs": [],
   "source": [
    "df_model_eval.loc[len(df_model_eval.index)] = ['Lasso (Sales + Asset + Utilities + Timetrend)', metrics.mean_squared_error(y_test, yhat_lasso), np.sqrt(metrics.mean_squared_error(y_test, yhat_lasso)),metrics.r2_score(y_test, yhat_lasso ) ] "
   ]
  },
  {
   "cell_type": "markdown",
<<<<<<< HEAD
   "id": "tough-batman",
=======
   "id": "varied-wholesale",
>>>>>>> parent of 9396477 (Check in multiple changes to the github)
   "metadata": {
    "id": "broadband-penny"
   },
   "source": [
    "#### Lasso Regression - Cross validation approach"
   ]
  },
  {
   "cell_type": "code",
<<<<<<< HEAD
   "execution_count": 41,
   "id": "animal-singapore",
=======
   "execution_count": null,
   "id": "cordless-discussion",
>>>>>>> parent of 9396477 (Check in multiple changes to the github)
   "metadata": {
    "colab": {
     "base_uri": "https://localhost:8080/"
    },
    "id": "dense-register",
    "outputId": "58f1cb89-0c94-4cd7-9e47-10e105ecb05b"
   },
<<<<<<< HEAD
   "outputs": [
    {
     "name": "stdout",
     "output_type": "stream",
     "text": [
      "Mean squared error: 462209517.45\n",
      "Root Mean Squared Error: 21499.058524807468\n",
      "Coefficient of determination: 0.56\n"
     ]
    }
   ],
=======
   "outputs": [],
>>>>>>> parent of 9396477 (Check in multiple changes to the github)
   "source": [
    "kfold_cross_validation(10, X,y,lasso)"
   ]
  },
  {
   "cell_type": "code",
<<<<<<< HEAD
   "execution_count": 42,
   "id": "unlimited-neighborhood",
=======
   "execution_count": null,
   "id": "fabulous-reverse",
>>>>>>> parent of 9396477 (Check in multiple changes to the github)
   "metadata": {
    "colab": {
     "base_uri": "https://localhost:8080/"
    },
    "id": "effective-occasions",
    "outputId": "cec736a0-d16f-4f22-af92-513730405744"
   },
<<<<<<< HEAD
   "outputs": [
    {
     "name": "stdout",
     "output_type": "stream",
     "text": [
      "Mean squared error: 458655027.23\n",
      "Root Mean Squared Error: 21416.23279729868\n",
      "Coefficient of determination: 0.57\n"
     ]
    }
   ],
=======
   "outputs": [],
>>>>>>> parent of 9396477 (Check in multiple changes to the github)
   "source": [
    "kfold_cross_validation(5, X,y,lasso)"
   ]
  },
  {
   "cell_type": "code",
<<<<<<< HEAD
   "execution_count": 43,
   "id": "armed-connection",
   "metadata": {},
   "outputs": [
    {
     "data": {
      "text/html": [
       "<div>\n",
       "<style scoped>\n",
       "    .dataframe tbody tr th:only-of-type {\n",
       "        vertical-align: middle;\n",
       "    }\n",
       "\n",
       "    .dataframe tbody tr th {\n",
       "        vertical-align: top;\n",
       "    }\n",
       "\n",
       "    .dataframe thead th {\n",
       "        text-align: right;\n",
       "    }\n",
       "</style>\n",
       "<table border=\"1\" class=\"dataframe\">\n",
       "  <thead>\n",
       "    <tr style=\"text-align: right;\">\n",
       "      <th></th>\n",
       "      <th>Model</th>\n",
       "      <th>MSE</th>\n",
       "      <th>RMSE</th>\n",
       "      <th>R-Squared</th>\n",
       "    </tr>\n",
       "  </thead>\n",
       "  <tbody>\n",
       "    <tr>\n",
       "      <th>0</th>\n",
       "      <td>Linear (Sales + Asset)</td>\n",
       "      <td>5.963739e+08</td>\n",
       "      <td>24420.768244</td>\n",
       "      <td>0.547856</td>\n",
       "    </tr>\n",
       "    <tr>\n",
       "      <th>1</th>\n",
       "      <td>Logarithmic (Sales + Asset)</td>\n",
       "      <td>7.961399e+08</td>\n",
       "      <td>28215.951470</td>\n",
       "      <td>0.396402</td>\n",
       "    </tr>\n",
       "    <tr>\n",
       "      <th>2</th>\n",
       "      <td>Linear Regression (Sales + Asset + Utilities +...</td>\n",
       "      <td>4.428911e+08</td>\n",
       "      <td>21044.978039</td>\n",
       "      <td>0.664220</td>\n",
       "    </tr>\n",
       "    <tr>\n",
       "      <th>3</th>\n",
       "      <td>Linear Regression CV 5K-fold (Sales + Asset + ...</td>\n",
       "      <td>4.586692e+08</td>\n",
       "      <td>21416.560000</td>\n",
       "      <td>0.570000</td>\n",
       "    </tr>\n",
       "    <tr>\n",
       "      <th>4</th>\n",
       "      <td>Ridge (Sales + Asset + Utilities + Timetrend)</td>\n",
       "      <td>4.420447e+08</td>\n",
       "      <td>21024.858300</td>\n",
       "      <td>0.664861</td>\n",
       "    </tr>\n",
       "    <tr>\n",
       "      <th>5</th>\n",
       "      <td>Ridge CV 5K-fold (Sales + Asset + Utilities + ...</td>\n",
       "      <td>4.584877e+08</td>\n",
       "      <td>21412.326894</td>\n",
       "      <td>0.570000</td>\n",
       "    </tr>\n",
       "    <tr>\n",
       "      <th>6</th>\n",
       "      <td>Lasso (Sales + Asset + Utilities + Timetrend)</td>\n",
       "      <td>4.427766e+08</td>\n",
       "      <td>21042.256650</td>\n",
       "      <td>0.664306</td>\n",
       "    </tr>\n",
       "  </tbody>\n",
       "</table>\n",
       "</div>"
      ],
      "text/plain": [
       "                                               Model           MSE  \\\n",
       "0                             Linear (Sales + Asset)  5.963739e+08   \n",
       "1                        Logarithmic (Sales + Asset)  7.961399e+08   \n",
       "2  Linear Regression (Sales + Asset + Utilities +...  4.428911e+08   \n",
       "3  Linear Regression CV 5K-fold (Sales + Asset + ...  4.586692e+08   \n",
       "4      Ridge (Sales + Asset + Utilities + Timetrend)  4.420447e+08   \n",
       "5  Ridge CV 5K-fold (Sales + Asset + Utilities + ...  4.584877e+08   \n",
       "6      Lasso (Sales + Asset + Utilities + Timetrend)  4.427766e+08   \n",
       "\n",
       "           RMSE  R-Squared  \n",
       "0  24420.768244   0.547856  \n",
       "1  28215.951470   0.396402  \n",
       "2  21044.978039   0.664220  \n",
       "3  21416.560000   0.570000  \n",
       "4  21024.858300   0.664861  \n",
       "5  21412.326894   0.570000  \n",
       "6  21042.256650   0.664306  "
      ]
     },
     "execution_count": 43,
     "metadata": {},
     "output_type": "execute_result"
    }
   ],
=======
   "execution_count": null,
   "id": "announced-supervisor",
   "metadata": {},
   "outputs": [],
>>>>>>> parent of 9396477 (Check in multiple changes to the github)
   "source": [
    "df_model_eval"
   ]
  },
  {
   "cell_type": "code",
<<<<<<< HEAD
   "execution_count": 44,
   "id": "listed-pregnancy",
=======
   "execution_count": null,
   "id": "dietary-henry",
>>>>>>> parent of 9396477 (Check in multiple changes to the github)
   "metadata": {},
   "outputs": [],
   "source": [
    "df_model_eval.loc[len(df_model_eval.index)] = ['Lasso CV 5K-fold (Sales + Asset + Utilities + Timetrend)', 458655027.23, 21416.23279729868 ,0.57 ] "
   ]
  },
  {
   "cell_type": "markdown",
<<<<<<< HEAD
   "id": "metropolitan-joseph",
=======
   "id": "modern-joshua",
>>>>>>> parent of 9396477 (Check in multiple changes to the github)
   "metadata": {
    "id": "suburban-client"
   },
   "source": [
    "### Model 4 -  GHG for Energy vs Utilities using natural logarithms\n",
    "\n",
    "\n",
    "ln(GHG) = a + b1*ln(Sales) + b2*ln(Assets) + b3*ln(Util) + b5*ln(TimeTrend) + e"
   ]
  },
  {
   "cell_type": "code",
<<<<<<< HEAD
   "execution_count": 45,
   "id": "potential-relative",
=======
   "execution_count": null,
   "id": "increasing-friendship",
>>>>>>> parent of 9396477 (Check in multiple changes to the github)
   "metadata": {
    "id": "favorite-launch"
   },
   "outputs": [],
   "source": [
    "X=stock[['Logarithm_Total_Sales','Logarithm_Total_Assets','Utility','time_trend']]\n",
    "y=stock['GHG Scope 1']"
   ]
  },
  {
   "cell_type": "code",
<<<<<<< HEAD
   "execution_count": 46,
   "id": "exterior-ladder",
=======
   "execution_count": null,
   "id": "micro-fountain",
>>>>>>> parent of 9396477 (Check in multiple changes to the github)
   "metadata": {
    "id": "zlj4QO1ACsWh"
   },
   "outputs": [],
   "source": [
    "model = LinearRegression(fit_intercept=True) #Initialize model\n",
    "Xtrain, Xtest, ytrain, ytest = train_test_split(X, y, test_size=0.2, random_state=42) #Train and Test split\n",
    "model.fit(Xtrain,ytrain) #Fit the model\n",
    "y_model = model.predict(Xtest) #Make predictions"
   ]
  },
  {
   "cell_type": "code",
<<<<<<< HEAD
   "execution_count": 47,
   "id": "graduate-hayes",
=======
   "execution_count": null,
   "id": "reserved-board",
>>>>>>> parent of 9396477 (Check in multiple changes to the github)
   "metadata": {
    "colab": {
     "base_uri": "https://localhost:8080/"
    },
    "id": "grtFHqCVC5F0",
    "outputId": "19618acb-6556-4350-b4fa-3401ddf91b92"
   },
<<<<<<< HEAD
   "outputs": [
    {
     "name": "stdout",
     "output_type": "stream",
     "text": [
      "Coefficients: \n",
      " [11891.49071527 14604.97354257 26217.90450215  -632.58702587]\n",
      "Mean squared error: 554112883.07\n",
      "Root Mean Squared Error: 23539.602440878713\n",
      "Coefficient of determination: 0.58\n"
     ]
    }
   ],
=======
   "outputs": [],
>>>>>>> parent of 9396477 (Check in multiple changes to the github)
   "source": [
    "#The coefficients\n",
    "print('Coefficients: \\n', model.coef_)\n",
    "#Mean Squared Error\n",
    "print('Mean squared error: %.2f' % metrics.mean_squared_error(ytest,y_model))\n",
    "print(f'Root Mean Squared Error: {np.sqrt(metrics.mean_squared_error(ytest,y_model))}')\n",
    "# The coefficient of determination: 1 is perfect prediction\n",
    "print('Coefficient of determination: %.2f'\n",
    "      % metrics.r2_score(ytest, y_model))"
   ]
  },
  {
   "cell_type": "code",
<<<<<<< HEAD
   "execution_count": 48,
   "id": "otherwise-election",
=======
   "execution_count": null,
   "id": "indonesian-patient",
>>>>>>> parent of 9396477 (Check in multiple changes to the github)
   "metadata": {
    "colab": {
     "base_uri": "https://localhost:8080/"
    },
    "id": "ZWjno9mxC-p-",
    "outputId": "5339e445-243c-4aae-895e-f83a33838e25"
   },
<<<<<<< HEAD
   "outputs": [
    {
     "data": {
      "text/html": [
       "<div>\n",
       "<style scoped>\n",
       "    .dataframe tbody tr th:only-of-type {\n",
       "        vertical-align: middle;\n",
       "    }\n",
       "\n",
       "    .dataframe tbody tr th {\n",
       "        vertical-align: top;\n",
       "    }\n",
       "\n",
       "    .dataframe thead th {\n",
       "        text-align: right;\n",
       "    }\n",
       "</style>\n",
       "<table border=\"1\" class=\"dataframe\">\n",
       "  <thead>\n",
       "    <tr style=\"text-align: right;\">\n",
       "      <th></th>\n",
       "      <th>Observed</th>\n",
       "      <th>Prediction</th>\n",
       "    </tr>\n",
       "  </thead>\n",
       "  <tbody>\n",
       "    <tr>\n",
       "      <th>418</th>\n",
       "      <td>3577.3</td>\n",
       "      <td>-10082.002711</td>\n",
       "    </tr>\n",
       "    <tr>\n",
       "      <th>778</th>\n",
       "      <td>119000.0</td>\n",
       "      <td>75597.535657</td>\n",
       "    </tr>\n",
       "    <tr>\n",
       "      <th>58</th>\n",
       "      <td>3410.0</td>\n",
       "      <td>-8221.854394</td>\n",
       "    </tr>\n",
       "    <tr>\n",
       "      <th>464</th>\n",
       "      <td>14296.5</td>\n",
       "      <td>5318.176349</td>\n",
       "    </tr>\n",
       "    <tr>\n",
       "      <th>206</th>\n",
       "      <td>32000.0</td>\n",
       "      <td>29450.977806</td>\n",
       "    </tr>\n",
       "  </tbody>\n",
       "</table>\n",
       "</div>"
      ],
      "text/plain": [
       "     Observed    Prediction\n",
       "418    3577.3 -10082.002711\n",
       "778  119000.0  75597.535657\n",
       "58     3410.0  -8221.854394\n",
       "464   14296.5   5318.176349\n",
       "206   32000.0  29450.977806"
      ]
     },
     "execution_count": 48,
     "metadata": {},
     "output_type": "execute_result"
    }
   ],
=======
   "outputs": [],
>>>>>>> parent of 9396477 (Check in multiple changes to the github)
   "source": [
    "#Create data frame with observed and predicted\n",
    "linear_reg4 = pd.DataFrame({'Observed':ytest,'Prediction':y_model})\n",
    "linear_reg4.head()"
   ]
  },
  {
   "cell_type": "code",
<<<<<<< HEAD
   "execution_count": 49,
   "id": "exclusive-luxembourg",
=======
   "execution_count": null,
   "id": "virgin-cameroon",
>>>>>>> parent of 9396477 (Check in multiple changes to the github)
   "metadata": {},
   "outputs": [],
   "source": [
    "df_model_eval.loc[len(df_model_eval.index)] = ['Logarithm (Sales + Asset + Utilities + Timetrend)', metrics.mean_squared_error(ytest, y_model),np.sqrt(metrics.mean_squared_error(ytest, y_model)), metrics.r2_score(ytest, y_model)] "
   ]
  },
  {
   "cell_type": "markdown",
<<<<<<< HEAD
   "id": "cleared-living",
=======
   "id": "forty-detection",
>>>>>>> parent of 9396477 (Check in multiple changes to the github)
   "metadata": {
    "id": "ek-ET5WvDfuD"
   },
   "source": [
    "#### Linear regression with k-fold cross validation"
   ]
  },
  {
   "cell_type": "code",
<<<<<<< HEAD
   "execution_count": 50,
   "id": "sweet-keyboard",
=======
   "execution_count": null,
   "id": "secure-sculpture",
>>>>>>> parent of 9396477 (Check in multiple changes to the github)
   "metadata": {
    "id": "wBn3-wbvDfuE"
   },
   "outputs": [],
   "source": [
    "X = X.values\n",
    "y = y.values\n",
    "\n",
    "def kfold_cross_validation(n_splits, X, y, model_type):\n",
    "    data_y, data_yhat,coef = [], [],[]\n",
    "    kfold = KFold(n_splits=n_splits, random_state = 42, shuffle=True)\n",
    "    for train_ix, test_ix in kfold.split(X):\n",
    "        # get data\n",
    "        train_X, test_X = X[train_ix], X[test_ix]\n",
    "        train_y, test_y = y[train_ix], y[test_ix]\n",
    "        # fit model\n",
    "        model = model_type\n",
    "        model.fit(train_X, train_y)\n",
    "        # make predictions\n",
    "        yhat = model.predict(test_X)\n",
    "        coef.append(model.coef_)\n",
    "        # store\n",
    "        data_y.extend(test_y)\n",
    "        data_yhat.extend(yhat)\n",
    "\n",
    "    # Evaluate the model\n",
    "    print('Mean squared error: %.2f' % metrics.mean_squared_error(data_y, data_yhat))\n",
    "    print(f'Root Mean Squared Error: {np.sqrt(metrics.mean_squared_error(data_y, data_yhat))}')\n",
    "    print('Coefficient of determination: %.2f'% metrics.r2_score(data_y, data_yhat))"
   ]
  },
  {
   "cell_type": "code",
<<<<<<< HEAD
   "execution_count": 51,
   "id": "victorian-azerbaijan",
=======
   "execution_count": null,
   "id": "tribal-borough",
>>>>>>> parent of 9396477 (Check in multiple changes to the github)
   "metadata": {
    "colab": {
     "base_uri": "https://localhost:8080/"
    },
    "id": "KYbPrV2_DfuE",
    "outputId": "b7ee6cfa-d107-4010-e578-bc72187f1e63"
   },
<<<<<<< HEAD
   "outputs": [
    {
     "name": "stdout",
     "output_type": "stream",
     "text": [
      "Mean squared error: 573588826.16\n",
      "Root Mean Squared Error: 23949.71453183557\n",
      "Coefficient of determination: 0.46\n"
     ]
    }
   ],
=======
   "outputs": [],
>>>>>>> parent of 9396477 (Check in multiple changes to the github)
   "source": [
    "model1 = LinearRegression()\n",
    "kfold_cross_validation(10,X,y,model1)"
   ]
  },
  {
   "cell_type": "code",
<<<<<<< HEAD
   "execution_count": 52,
   "id": "seven-customer",
=======
   "execution_count": null,
   "id": "floppy-knife",
>>>>>>> parent of 9396477 (Check in multiple changes to the github)
   "metadata": {
    "colab": {
     "base_uri": "https://localhost:8080/"
    },
    "id": "nmw48BVyDfuF",
    "outputId": "2feba5fe-74cb-46db-91e1-f9f97c58faeb"
   },
<<<<<<< HEAD
   "outputs": [
    {
     "name": "stdout",
     "output_type": "stream",
     "text": [
      "Mean squared error: 569033682.28\n",
      "Root Mean Squared Error: 23854.42689056714\n",
      "Coefficient of determination: 0.46\n"
     ]
    }
   ],
=======
   "outputs": [],
>>>>>>> parent of 9396477 (Check in multiple changes to the github)
   "source": [
    "kfold_cross_validation(5,X,y,model1)"
   ]
  },
  {
   "cell_type": "code",
<<<<<<< HEAD
   "execution_count": 53,
   "id": "noble-termination",
=======
   "execution_count": null,
   "id": "different-executive",
>>>>>>> parent of 9396477 (Check in multiple changes to the github)
   "metadata": {},
   "outputs": [],
   "source": [
    "df_model_eval.loc[len(df_model_eval.index)] = ['Logarithm Linear 5-kfold (Sales + Asset + Utilities + Timetrend)', 569033682.28,23854.42689056714,0.46 ] "
   ]
  },
  {
   "cell_type": "markdown",
<<<<<<< HEAD
   "id": "assisted-costume",
=======
   "id": "cardiac-premiere",
>>>>>>> parent of 9396477 (Check in multiple changes to the github)
   "metadata": {
    "id": "UZ8r9R7cEAmG"
   },
   "source": [
    "#### Ridge Regression - Validation set approach"
   ]
  },
  {
   "cell_type": "code",
<<<<<<< HEAD
   "execution_count": 54,
   "id": "confused-equity",
=======
   "execution_count": null,
   "id": "static-vanilla",
>>>>>>> parent of 9396477 (Check in multiple changes to the github)
   "metadata": {
    "colab": {
     "base_uri": "https://localhost:8080/"
    },
    "id": "63OKRhv_EAmH",
    "outputId": "84767c24-5b13-4422-9500-cb3a63ee3ba0"
   },
<<<<<<< HEAD
   "outputs": [
    {
     "data": {
      "image/png": "iVBORw0KGgoAAAANSUhEUgAAAZMAAAEaCAYAAADUo7pxAAAAOXRFWHRTb2Z0d2FyZQBNYXRwbG90bGliIHZlcnNpb24zLjMuNCwgaHR0cHM6Ly9tYXRwbG90bGliLm9yZy8QVMy6AAAACXBIWXMAAAsTAAALEwEAmpwYAAAeZklEQVR4nO3deZxcZZ3v8c83CWGJ7ORCgEAQooDMGLVBGWBuXIDAVcGNCy4EROPGqDPXBRhGUEGRO+iAI8wLJawjAR2FDEYZUBBRto4gEjYjJJOEJQ0JWQwEkvzmj+dpOKlUd1fl1NLV/X2/XvXqqudsvzr11PnWWbpKEYGZmVkZI9pdgJmZdT6HiZmZleYwMTOz0hwmZmZWmsPEzMxKc5iYmVlpDpOSJP2bpH/qZ3hI2quVNW0sSZtL+k9JyyT9KLedJekZSU9J2k3SSkkjB5jPIZIeaU3Vg4ukHSXdJmmFpPNavOyVkl7d4mVu0GdqmOZWSR9rdm2NJulMSVeVmL7fbUWJ+f5c0tRGz7deo9pdwGAnaR6wI7AWWAn8Ajg5IlYCRMQn21ddw72f9Fy3j4g1knYD/h+we0QszuO8aqCZRMRvgNc2oqC8/j8WETc3Yn4tMA14BtgqmvhPXJJuBa6KiB/0tkXEgK9NE6zXZyoHSjoT2CsiPtzqwgabRmwrqq3PiDii7HwbwXsmtXlXfqNOAt4AnNrecppmd+DRwkZhN+DZQpDYwHYHHmxmkAwylX2mbSQN2g/HA+3NDwkR4Vs/N2Ae8I7C43OBnxUeXwacVXj8ReBJ4Ango0CQPkkAbA/8J7AcuAc4C7i9MO3ewE3AEuAR4Jh+6toOuDQvZylwXWHYx4G5eT4zgZ0HWgbwVeBF4CXSHtgngOeBdfnxZcCE/HxG9VcDMBlYWFjmzsB/AD3A48BnC8POBK4FrgBWAHOArjzsyrz853MNXwI2A64CngWey+txxz7W0SnAn/N8HwTeUxi2F/BrYBlpT+Kaftb1j4Cn8ri3Aa/rY7zL8vp7Mdf7jir9o3LdzAO+ANyf538NsFlh+FHAfbnP/BmYApxN2lN+IS/nX/O4xb62dV6nPcB84HRgRB52AnA78M/5dXscOKKf578PcGte33OAd/fRZ06qmG5KxfA/5PZbga8Dv82vzX8BOxSmewvwu7y8PwCTB3h/fjmvv9Wkoy19Tg/skV/DFcDNwPdIe3gbvDaV739SX72qln6RX/eLgFnAXyr7Amk7sLJwWweckIedDyzIr/ls4JAa1ufH8v0R+bWeDyzOfWDrPGwCqY9MBf6b1O//sWHbykZueIfiraIz7Qr8ETi/otP0dpApwNPAfsAY4Ies/wafkW9bAPvmDnN7HjYmPz4xvyHekF/sffuo62ekDc+2wCbA/87tb8vTvRHYFPgucFsty6jyZlnvzcWGYdJXDS9Plzv3bOArwGjg1cBjwOGFZb4AHAmMBL4J3Flt/efHnyC9EbfI47+JdEip2jr6ACnIRgD/l/SmHpeHXQ38Yx62GXBwP33go8CWeX3+C3BfP+O+3B/6eFy5TucBd+c6twMeAj6Zhx1A2lAdmuvcBdg7D7uVvAEpzKvY164Ars91TwAeJW/sSWHyEulDx0jgU6QPBKryfDYhfTA5Lb9+byNtiF9brc9UmX6D4bn2PwOvATbPj8/Jw3YhfVA4Mj/nQ/Pjsf28P+8Dxud59Ts9cAcpREcDB5M22BsbJn32i/y6LwMO4pU+tl5fKIx7RF7/4/PjD5M+eI4iHWZ+ivwBo5/1+bFCTXNJ77NXAT8Brqx4/34/r6vXkwJ4n0ZsK32YqzbXSVpB2hAvBs7oY7xjgEsj4oGI+AvphQde3s19H3BGRKyKiAeBywvTvhOYFxGXRsSaiLiX9Gn+A5ULkTSO1AE/GRFLI+KliPh1HvwhYHpE/D4iVpMOyR0oaUI9yxjIADUU7U96I38tIl6MiMdInfnYwji3R8SsiFhL2ht5fT+Lfon0RtsrItZGxOyIWF5txIj4UUQ8ERHrIuIa4E+kDXTvfHYn7bW9EBG397XAiJgeESvy+jwTeL2krfupsV4X5DqXkIJyUm4/ifRa3pSfw6KIeHigmeW+dixwaq57HnAe8JHCaPMj4vt5nV8OjCOd+6j0FtJG6Zz8+v0KuAE4bqOe6SsujYhHI+J50p7ppNz+YWBW7g/rIuImoJsUDn25ICIW5Hn1OX0+B7g/8JX8XG4n7blvlBr6xfUR8dtcxwvV5iHpNaT1f0xELMjzvSoins3v0fNIYVXrOcgPAd+OiMcindc9FTi24hDgVyPi+Yj4A2nPrb/3W80cJrU5OiK2JH1y2RvYoY/xdiYFTq/5hftjSZ80isOL93cH3izpud4bqWPsVGU544ElEbG0jxpeXm7uUM+SPrHVs4yB9FdD0e7AzhXLPI31N1xPFe6vAjbr5/j3lcCNwAxJT0g6V9Im1UaUdLyk+wrL3Y9XXrsvAQLuljRH0kf7mMdISedI+rOk5aRPqtB3H9gYlc+/90T6eNIn+HrtQNqjKPa/+aQ+sMEyI2JVvlvtBP7OwIKIWNfPvDZGX895d+ADFf3lYFLY9aXyfdTX9DuT+uyqPqatWY39ot955+C5Hji9+GFG0hckPZSvkHuOdMiy1v623vs/3x9F/++3hly4MWhPWA1GEfFrSZeRdpOPrjLKk6QNQK/dCvd7gDWkQ2WP5rbiuAuAX0fEoTWUsgDYTtI2EfFcxbAnSG8oACSNIX2SX1TnMsrUUDne4xExcSOXE+s9iHiJdKz+q3lvaxbp3M8lxfEk7U7aA3o7cEdErJV0HylAiIinSId5kHQwcLOk2yJibsXyP0g6b/EO0gZja9J5BtVY/19Ih+R61RPcC4A9+xgWfbRDOnTZu+f1YG7bjdQH6vUEMF7SiEKg7MYrfXgg/dVZzQLSYZmP1zFNcRl9Tp/7xHaStigESvE9uN5rlffwxvaxzFr6RZ/PXdII0mHwWyLi4kL7IaQPOm8H5kTEOknF+Q60Ptd7/5NeqzWkw++7DjBtKd4zqd+/AIdKqrZreC1wgqR9JW1B4XBYPpzwE+BMSVtI2hs4vjDtDcBrJH1E0ib5tr+kfSoXEhFPAj8HLpS0bR73b/Pgq4ETJU2StCnwDeCufKij5mUMZIAaiu4GVkj6cv6fhJGS9pO0f42Lepp0/BcASW+V9Ff5jb6ctNFcV2W6MaQ3Xk+e7kTSnknvfD4gqffNtTSPW20+W5KOKz9L2tB8o8a6e91HOsSynaSdgM/XMe0lpNfy7ZJGSNol9xuoWC9Fua9dC5wtacu8Ef0H0oUL9bqL9On1S/k1ngy8i3TurxZPAxPyxrMWVwHvknR47iubSZpceK02evqImE865HWmpNGSDszPpdejpL3i/5P3dk8nHWKqpmy/OJvURz9XZb5rSP12lKSvAFsVhg+0Pq8G/l7SHpJeleu6JlpwtZ3DpE4R0UM6ufmVKsN+TgqbX5FOgv2qYpSTSZ9gniIdrrma1CGJiBXAYaRj3U/kcb5F3535I6QN6cOk8zifz/O5Gfgn0rmQJ0mfbI/dyGUMpGoNRXnD9k7SMfHHSZ+af0BaD7X4JnB6PmTxBdIn+x+TguQh0hVZV1ZZ7oOk8wR3kN6Af0W6eqjX/sBdklaSjpt/Lp/PqXQF6VDBItKn/DtrrLvXlaTj0vNIVy1dU+uEEXE36WKJ75BO5v6aVz51ng+8X9JSSRdUmfzvSJ+0HyNdufVDYHqdtRMRL5I2uEeQXrsLgeNrOXeT9f4j47OSfl/D8haQPvGfRtqgLiBdIVnTtqqG6T8EHEgKgbNIr0fve3AZ8GlS/1xEWn8L+1hU2X5xHOl81FKlfzZdKelDpEO4vyAF23zSxSnFw2UDrc/ppD53G+n99gKpLzSdIurdC7VGkfQtYKeImNruWsyGI0nXAA9HRF8X1ViNvGfSQpL2lvTXSg4gXa3z03bXZTZc5MO6e+bDhlNIezHXtbmsIcEn4FtrS9KhrZ1Jh17OI13NYWatsRPp3OX2pENYn8qXyFtJPsxlZmal+TCXmZmV5jAxM7PShu05kx122CEmTJjQ7jLMzDrK7Nmzn4mIDf6Zc9iGyYQJE+ju7m53GWZmHUXS/GrtPsxlZmalOUzMzKw0h4mZmZXmMDEzs9IcJmZmVprDxMzMShu2lwZvrDl/mM3q5/MvcFZ8E036aprI9yvbB9DHOHV/3Y2/HcfMBvDGgw5m1KjGbv4dJnVadd1/M+75en+xtZYf5av1h/vMzMpZ8+aXHCbttuX7Xs2S1auRBFL6W+HlpsIwFcKi2jT9tUedOdPXfMzMAMZtMrrh83SY1Gnv/ar9Wq+Z2fDmE/BmZlaaw8TMzEpzmJiZWWkOEzMzK81hYmZmpTU9TCRNl7RY0gOFtjMlLZJ0X74dWRh2qqS5kh6RdHihfUpumyvplEL7HpLuyu3XSGr8NW9mZtavVuyZXAZMqdL+nYiYlG+zACTtCxwLvC5Pc6GkkZJGAt8DjgD2BY7L4wJ8K89rL2ApcFJTn42ZmW2g6WESEbcBS2oc/ShgRkSsjojHgbnAAfk2NyIei4gXgRnAUUr/nfc24Md5+suBoxtZv5mZDayd50xOlnR/Pgy2bW7bBVhQGGdhbuurfXvguYhYU9FuZmYt1K4wuQjYE5gEPAmc14qFSpomqVtSd09PTysWaWY2LLQlTCLi6YhYGxHrgO+TDmMBLALGF0bdNbf11f4ssI2kURXtfS334ojoioiusWPHNubJmJlZe8JE0rjCw/cAvVd6zQSOlbSppD2AicDdwD3AxHzl1mjSSfqZkb6f/Rbg/Xn6qcD1rXgOZmb2iqZ/0aOkq4HJwA6SFgJnAJMlTSL9+sY84BMAETFH0rXAg8Aa4DMRsTbP52TgRmAkMD0i5uRFfBmYIeks4F7gkmY/JzMzW5/q/vGlIaKrqyu6u7vbXYaZWUeRNDsiuirb/R/wZmZWmsPEzMxKc5iYmVlpDhMzMyvNYWJmZqU5TMzMrDSHiZmZleYwMTOz0hwmZmZWmsPEzMxKc5iYmVlpDhMzMyvNYWJmZqU5TMzMrDSHiZmZleYwMTOz0hwmZmZWmsPEzMxKc5iYmVlpDhMzMyvNYWJmZqU5TMzMrDSHiZmZleYwMTOz0ka1u4BO83TPX3hpzToAIsh/Y73HlfeLoo8B6/qaYL1pa6+zmQZJGWa2kfbcbStGjGjsvoTDpE7Tv34XW73Y7irMzDbe1G8fwqu2cJi01YRDxrFqZSFNpPWGFx+qYtgrA+pqrph/LWO1wCApw8zqN3pU49/ADpM6HfeBfdpdgpnZoOMT8GZmVprDxMzMSnOYmJlZaQ4TMzMrrelhImm6pMWSHii0bSfpJkl/yn+3ze2SdIGkuZLul/TGwjRT8/h/kjS10P4mSX/M01ygQXO5k5nZ8NGKPZPLgCkVbacAv4yIicAv82OAI4CJ+TYNuAhS+ABnAG8GDgDO6A2gPM7HC9NVLsvMzJqs6WESEbcBSyqajwIuz/cvB44utF8RyZ3ANpLGAYcDN0XEkohYCtwETMnDtoqIOyP9a/kVhXmZmVmLtOucyY4R8WS+/xSwY76/C7CgMN7C3NZf+8Iq7WZm1kJtPwGf9yha8nVPkqZJ6pbU3dPT04pFmpkNC+0Kk6fzISry38W5fREwvjDerrmtv/Zdq7RXFREXR0RXRHSNHTu29JMwM7OkXWEyE+i9ImsqcH2h/fh8VddbgGX5cNiNwGGSts0n3g8DbszDlkt6S76K6/jCvMzMrEWa/t1ckq4GJgM7SFpIuirrHOBaSScB84Fj8uizgCOBucAq4ESAiFgi6evAPXm8r0VE70n9T5OuGNsc+Hm+mZlZC6mv39cY6rq6uqK7u7vdZZiZdRRJsyOiq7K97Sfgzcys8zlMzMysNIeJmZmV5jAxM7PSHCZmZlaaw8TMzEpzmJiZWWkOEzMzK81hYmZmpTlMzMysNIeJmZmV5jAxM7PSHCZmZlaaw8TMzEpzmJiZWWkOEzMzK81hYmZmpTlMzMysNIeJmZmV5jAxM7PSHCZmZlaaw8TMzEpzmJiZWWkOEzMzK62mMJG0p6RN8/3Jkj4raZumVmZmZh2j1j2T/wDWStoLuBgYD/ywaVWZmVlHqTVM1kXEGuA9wHcj4ovAuOaVZWZmnaTWMHlJ0nHAVOCG3LZJc0oyM7NOU2uYnAgcCJwdEY9L2gO4snllmZlZJxlV43iHRsRnex/kQHmhSTWZmVmHqXXPZGqVthMaWIeZmXWwfvdM8nmSDwJ7SJpZGLQlsKSZhZmZWecY6DDX74AngR2A8wrtK4D7m1WUmZl1ln7DJCLmA/NJJ98bTtI8UjCtBdZERJek7YBrgAnAPOCYiFgqScD5wJHAKuCEiPh9ns9U4PQ827Mi4vJm1GtmZtXV+h/w75X0J0nLJC2XtELS8gbV8NaImBQRXfnxKcAvI2Ii8Mv8GOAIYGK+TQMuyrVtB5wBvBk4ADhD0rYNqs3MzGpQ6wn4c4F3R8TWEbFVRGwZEVs1qaajgN49i8uBowvtV0RyJ7CNpHHA4cBNEbEkIpYCNwFTmlSbmZlVUWuYPB0RDzVh+QH8l6TZkqblth0j4sl8/ylgx3x/F2BBYdqFua2v9g1ImiapW1J3T09Po56DmdmwN9DVXO/Nd7slXQNcB6zuHR4RPym5/IMjYpGk/wXcJOnh4sCICElRchnF+V1M+m4xurq6GjZfM7PhbqCrud5VuL8KOKzwOIBSYRIRi/LfxZJ+Sjrn8bSkcRHxZD6MtTiPvoj0BZO9ds1ti4DJFe23lqnLzMzqM9DVXCc2a8GSxgAjImJFvn8Y8DVgJumfJM/Jf6/Pk8wETpY0g3SyfVkOnBuBbxROuh8GnNqsus3MbEM1fZ2KpAuqNC8DuiPi+irDarEj8NN0xS+jgB9GxC8k3QNcK+kk0mXJx+TxZ5EuC55L2ks6ESAilkj6OnBPHu9rEeF/qDQzayFFDHzqQNLFwN7Aj3LT+4DHge2BxyLi880qsFm6urqiu7u73WWYmXUUSbML/8rxslq/6PGvgYMiYm2e2UXAb4CDgT82rEozM+tItV4avC3wqsLjMcB2OVxWV5/EzMyGi1r3TM4F7pN0KyDgb0knvccANzepNjMz6xA1hUlEXCJpFunSXYDTIuKJfP+LTanMzMw6Rr+HuSTtnf++kfSb7wvybafcZmZmNuCeyT+QvlTxvCrDAnhbwysyM7OOM9A/LU7Lf9/amnLMzKwT1foV9FtIOj3/vwmSJkp6Z3NLMzOzTlHrpcGXAi8Cf5MfLwLOakpFZmbWcWoNkz0j4lzgJYCIWEW6RNjMzKzmMHlR0uakk+5I2hP/s6KZmWW1/tPiGcAvgPGS/h04CDihWUWZmVlnqTVMpgI/A34MPAZ8LiKeaVpVZmbWUWoNk0uAQ4BDgT2BeyXdFhHnN60yMzPrGLV+ncotkm4D9gfeCnwSeB3gMDEzs5p/HOuXpG8KvoP01fP7R8Ti/qcyM7Photarue4n/Z/JfqTfNtkvX91lZmZW82GuvweQtCXpKq5LgZ2ATZtWmZmZdYxaD3OdTDoB/yZgHjCddLjLzMys5qu5NgO+DcyOiDVNrMfMzDpQrYe5/rnZhZiZWeeq9QS8mZlZnxwmZmZWmsPEzMxKc5iYmVlpDhMzMyvNYWJmZqU5TMzMrDSHiZmZleYwMTOz0hwmZmZWmsPEzMxKGzJhImmKpEckzZV0SrvrMTMbToZEmEgaCXwPOALYFzhO0r7trcrMbPgYEmECHADMjYjHIuJFYAZwVJtrMjMbNoZKmOwCLCg8Xpjb1iNpmqRuSd09PT0tK87MbKgbKmFSk4i4OCK6IqJr7Nix7S7HzGzIGCphsggYX3i8a24zM7MWGCphcg8wUdIekkYDxwIz21yTmdmwUetvwA9qEbFG0snAjcBIYHpEzGlzWWZmw8aQCBOAiJgFzGp3HWZmw9GQCZNWWb18ObF2bbvLMDPbaKO33poRIxp7lsNhUqcLzz6bZZtv3u4yzMw22mlf/CKjx4xp6DwdJnU6YK+JrFq5st1lmJlttJGbbNLweTpM6nTQxz/W7hLMzAadoXJpsJmZtZHDxMzMSnOYmJlZaQ4TMzMrzWFiZmalOUzMzKw0h4mZmZXmMDEzs9IcJmZmVprDxMzMSnOYmJlZaQ4TMzMrzWFiZmalOUzMzKw0h4mZmZXmMDEzs9IcJmZmVprDxMzMSnOYmJlZaQ4TMzMrzWFiZmalOUzMzKw0h4mZmZXmMDEzs9IcJmZmVprDxMzMSnOYmJlZaQ4TMzMrrS1hIulMSYsk3ZdvRxaGnSpprqRHJB1eaJ+S2+ZKOqXQvoeku3L7NZJGt/r5mJkNd+3cM/lOREzKt1kAkvYFjgVeB0wBLpQ0UtJI4HvAEcC+wHF5XIBv5XntBSwFTmr1EzEzG+4G22Guo4AZEbE6Ih4H5gIH5NvciHgsIl4EZgBHSRLwNuDHefrLgaNbX7aZ2fDWzjA5WdL9kqZL2ja37QIsKIyzMLf11b498FxErKlor0rSNEndkrp7enoa9TzMzIa9poWJpJslPVDldhRwEbAnMAl4EjivWXUURcTFEdEVEV1jx45txSLNzIaFUc2acUS8o5bxJH0fuCE/XASMLwzeNbfRR/uzwDaSRuW9k+L4ZmbWIu26mmtc4eF7gAfy/ZnAsZI2lbQHMBG4G7gHmJiv3BpNOkk/MyICuAV4f55+KnB9K56DmZm9oml7JgM4V9IkIIB5wCcAImKOpGuBB4E1wGciYi2ApJOBG4GRwPSImJPn9WVghqSzgHuBS1r4PMzMDFD6cD/8dHV1RXd3d7vLMDPrKJJmR0RXZftguzTYzMw6kMPEzMxKc5iYmVlpDhMzMyvNYWJmZqU5TMzMrDSHiZmZleYwMTOz0hwmZmZWmsPEzMxKc5iYmVlpDhMzMyvNYWJmZqU5TMzMrDSHiZmZldauH8fqWLd8dSorly0vtKjijzYYtEF7UX3NFSPVNFYpzV+CmbXaYV+7jJGbjWnoPB0mdXpuyXMsW74agMrfFevzZ8b6GFDmZ8mG6W+amVkDNONHER0mdXrP+f6JeTOzSj5nYmZmpTlMzMysNIeJmZmV5jAxM7PSHCZmZlaaw8TMzEpzmJiZWWkOEzMzK03N+E/ITiCpB5jf7joabAfgmXYX0UG8vurj9VWfobq+do+IsZWNwzZMhiJJ3RHR1e46OoXXV328vuoz3NaXD3OZmVlpDhMzMyvNYTK0XNzuAjqM11d9vL7qM6zWl8+ZmJlZad4zMTOz0hwmZmZWmsPEzMxKc5gME5L2kfRvkn4s6VPtrmewkzRZ0m/yOpvc7noGO0mH5HX1A0m/a3c9g52kfSVdK+kiSe9vdz2N4DDpAJKmS1os6YGK9imSHpE0V9Ip/c0jIh6KiE8CxwAHNbPedmvE+gICWAlsBixsVq2DQYP6129y/7oBuLyZ9bZbg/rXEcB3I+JTwPFNK7aFfDVXB5D0t6QN2xURsV9uGwk8ChxK2tjdAxwHjAS+WTGLj0bEYknvBj4FXBkRP2xV/a3WiPUFPBMR6yTtCHw7Ij7UqvpbrVH9K093LXBSRKxoUfkt16D+BXAGsAr4m4jo+A94o9pdgA0sIm6TNKGi+QBgbkQ8BiBpBnBURHwTeGcf85kJzJT0M2DIhkmj1le2FNi0KYUOEo1aX5J2A5YN5SCBhvavz+QQ+knTim0hh0nn2gVYUHi8EHhzXyPn4/7vJW0YZzWzsEGq3vX1XuBwYBvgX5ta2eBU1/rKTgIubVpFg1u9/WsCcBowBvj/Ta2sRRwmw0RE3Arc2uYyOkZE/IQh8omxVSLijHbX0CkiYh4wrd11NJJPwHeuRcD4wuNdc5tV5/VVH6+v+gz79eUw6Vz3ABMl7SFpNHAsMLPNNQ1mXl/18fqqz7BfXw6TDiDpauAO4LWSFko6KSLWACcDNwIPAddGxJx21jlYeH3Vx+urPl5f1fnSYDMzK817JmZmVprDxMzMSnOYmJlZaQ4TMzMrzWFiZmalOUzMzKw0h4lZG0iaJ2mHsuOYDRYOEzMzK81hYtZkkq6TNFvSHEnTKoZNkPSwpH+X9FD+JcwtCqP8naTfS/qjpL3zNAdIukPSvZJ+J+m1LX1CZlU4TMya76MR8SagC/ispO0rhr8WuDAi9gGWA58uDHsmIt4IXAR8Ibc9DBwSEW8AvgJ8o6nVm9XAYWLWfJ+V9AfgTtI3y06sGL4gIn6b718FHFwY1vs1+LOBCfn+1sCP8s/Gfgd4XTOKNquHw8SsifKPkr0DODAiXg/cS/pd+aLKL8grPl6d/67lld8f+jpwS/7J2HdVmZ9ZyzlMzJpra2BpRKzK5zzeUmWc3SQdmO9/ELi9hnn2/lbGCQ2p0qwkh4lZc/0CGCXpIeAc0qGuSo+Qfg/8IWBb0vmR/pwLfFPSvfjXUm2Q8FfQm7VR/i3wG/IhK7OO5T0TMzMrzXsmZmZWmvdMzMysNIeJmZmV5jAxM7PSHCZmZlaaw8TMzEpzmJiZWWn/A2I2I3PJ/1xDAAAAAElFTkSuQmCC\n",
      "text/plain": [
       "<Figure size 432x288 with 1 Axes>"
      ]
     },
     "metadata": {
      "needs_background": "light"
     },
     "output_type": "display_data"
    }
   ],
=======
   "outputs": [],
>>>>>>> parent of 9396477 (Check in multiple changes to the github)
   "source": [
    "n_alphas = 100\n",
    "alphas = np.logspace(-10, -2, n_alphas)\n",
    "\n",
    "coefs = []\n",
    "for a in alphas:\n",
    "    ridge = Ridge(alpha=a, fit_intercept=False, normalize=True)\n",
    "    Xtrain, Xtest, ytrain, ytest = train_test_split(X, y, test_size=0.2, random_state=42)\n",
    "    ridge.fit(Xtrain, ytrain)\n",
    "    coefs.append(ridge.coef_)\n",
    "\n",
    "ax = plt.gca()\n",
    "ax.plot(alphas, coefs)\n",
    "ax.plot(alphas, coefs)\n",
    "ax.set_xscale('log')\n",
    "ax.set_xlim(ax.get_xlim()[::-1])  # reverse axis\n",
    "plt.xlabel('alpha')\n",
    "plt.ylabel('weights')\n",
    "plt.title('Ridge coefficients as a function of the regularization')\n",
    "plt.axis('tight')\n",
    "plt.show()"
   ]
  },
  {
   "cell_type": "markdown",
<<<<<<< HEAD
   "id": "demanding-ottawa",
=======
   "id": "opening-remedy",
>>>>>>> parent of 9396477 (Check in multiple changes to the github)
   "metadata": {
    "id": "vnItdngXEAmI"
   },
   "source": [
    "Do we need to standarized the data? One feature is staying high.. would it look better if we normalize it? Would the logarithm work better because it distributes the data better?"
   ]
  },
  {
   "cell_type": "code",
<<<<<<< HEAD
   "execution_count": 55,
   "id": "dietary-ireland",
=======
   "execution_count": null,
   "id": "ordinary-castle",
>>>>>>> parent of 9396477 (Check in multiple changes to the github)
   "metadata": {
    "colab": {
     "base_uri": "https://localhost:8080/"
    },
    "id": "sEFBf8HoEAmI",
    "outputId": "0813e1ae-099c-4448-e199-158790bbf623"
   },
<<<<<<< HEAD
   "outputs": [
    {
     "data": {
      "text/plain": [
       "[array([11230.9303532 , -7677.62553281, 16361.82494703,  -938.61823508]),\n",
       " array([11230.93035319, -7677.6255328 , 16361.82494702,  -938.61823508]),\n",
       " array([11230.93035318, -7677.62553279, 16361.82494701,  -938.61823508]),\n",
       " array([11230.93035317, -7677.62553278, 16361.82494699,  -938.61823508]),\n",
       " array([11230.93035315, -7677.62553277, 16361.82494697,  -938.61823508])]"
      ]
     },
     "execution_count": 55,
     "metadata": {},
     "output_type": "execute_result"
    }
   ],
=======
   "outputs": [],
>>>>>>> parent of 9396477 (Check in multiple changes to the github)
   "source": [
    "coefs[:5] #First five coefficients\n",
    "#print(f'Last 5 coefficients: {coefs[(len(coefs) - 5):len(coefs)]}')"
   ]
  },
  {
   "cell_type": "code",
<<<<<<< HEAD
   "execution_count": 56,
   "id": "neural-hawaiian",
=======
   "execution_count": null,
   "id": "satisfactory-budget",
>>>>>>> parent of 9396477 (Check in multiple changes to the github)
   "metadata": {
    "colab": {
     "base_uri": "https://localhost:8080/"
    },
    "id": "iQlnyJ_wEAmI",
    "outputId": "a6fcaeae-5d77-4918-bd54-f9b09ea6a680"
   },
<<<<<<< HEAD
   "outputs": [
    {
     "data": {
      "text/plain": [
       "[array([11228.97798009, -7675.64029429, 16359.16085853,  -938.69060806]),\n",
       " array([11228.57880384, -7675.23439843, 16358.61616101,  -938.70540492]),\n",
       " array([11228.09803565, -7674.74553711, 16357.9601241 ,  -938.72322614]),\n",
       " array([11227.51900814, -7674.15676236, 16357.17000249,  -938.74468946]),\n",
       " array([11226.82165373, -7673.44766878, 16356.21841015,  -938.77053862])]"
      ]
     },
     "execution_count": 56,
     "metadata": {},
     "output_type": "execute_result"
    }
   ],
=======
   "outputs": [],
>>>>>>> parent of 9396477 (Check in multiple changes to the github)
   "source": [
    "coefs[(len(coefs) - 5):len(coefs)] #the last 5 coefficients"
   ]
  },
  {
   "cell_type": "code",
<<<<<<< HEAD
   "execution_count": 57,
   "id": "continued-throat",
=======
   "execution_count": null,
   "id": "divine-hunter",
>>>>>>> parent of 9396477 (Check in multiple changes to the github)
   "metadata": {
    "id": "t4uYQBq0EAmJ"
   },
   "outputs": [],
   "source": [
    "# Split data into training and test sets\n",
    "X_train, X_test , y_train, y_test = train_test_split(X, y, test_size=0.2, random_state=42)"
   ]
  },
  {
   "cell_type": "markdown",
<<<<<<< HEAD
   "id": "assisted-proportion",
=======
   "id": "developmental-ratio",
>>>>>>> parent of 9396477 (Check in multiple changes to the github)
   "metadata": {
    "id": "TmSgenc-EAmJ"
   },
   "source": [
    "Instead of arbitrarily choosing alpha, we used cross-validation to choose the tuning parameter alpha. "
   ]
  },
  {
   "cell_type": "code",
<<<<<<< HEAD
   "execution_count": 58,
   "id": "fewer-upper",
=======
   "execution_count": null,
   "id": "finished-toyota",
>>>>>>> parent of 9396477 (Check in multiple changes to the github)
   "metadata": {
    "colab": {
     "base_uri": "https://localhost:8080/"
    },
    "id": "KkNRy60lEAmJ",
    "outputId": "60d119ef-f389-4bb9-ed5c-cc300aa4490b"
   },
<<<<<<< HEAD
   "outputs": [
    {
     "data": {
      "text/plain": [
       "RidgeCV(alphas=array([1.00000000e-10, 1.20450354e-10, 1.45082878e-10, 1.74752840e-10,\n",
       "       2.10490414e-10, 2.53536449e-10, 3.05385551e-10, 3.67837977e-10,\n",
       "       4.43062146e-10, 5.33669923e-10, 6.42807312e-10, 7.74263683e-10,\n",
       "       9.32603347e-10, 1.12332403e-09, 1.35304777e-09, 1.62975083e-09,\n",
       "       1.96304065e-09, 2.36448941e-09, 2.84803587e-09, 3.43046929e-09,\n",
       "       4.13201240e-09, 4.97702356e-0...\n",
       "       2.91505306e-04, 3.51119173e-04, 4.22924287e-04, 5.09413801e-04,\n",
       "       6.13590727e-04, 7.39072203e-04, 8.90215085e-04, 1.07226722e-03,\n",
       "       1.29154967e-03, 1.55567614e-03, 1.87381742e-03, 2.25701972e-03,\n",
       "       2.71858824e-03, 3.27454916e-03, 3.94420606e-03, 4.75081016e-03,\n",
       "       5.72236766e-03, 6.89261210e-03, 8.30217568e-03, 1.00000000e-02]),\n",
       "        normalize=True, scoring='neg_mean_squared_error')"
      ]
     },
     "execution_count": 58,
     "metadata": {},
     "output_type": "execute_result"
    }
   ],
=======
   "outputs": [],
>>>>>>> parent of 9396477 (Check in multiple changes to the github)
   "source": [
    "ridgecv = RidgeCV(alphas = alphas, scoring = 'neg_mean_squared_error', normalize = True)\n",
    "ridgecv.fit(X_train, y_train)\n"
   ]
  },
  {
   "cell_type": "code",
<<<<<<< HEAD
   "execution_count": 59,
   "id": "expected-rating",
=======
   "execution_count": null,
   "id": "round-tunnel",
>>>>>>> parent of 9396477 (Check in multiple changes to the github)
   "metadata": {
    "colab": {
     "base_uri": "https://localhost:8080/"
    },
    "id": "dHoA36aUEAmK",
    "outputId": "33a9f290-ddc7-4c6b-9baf-de7c7bc96af0"
   },
<<<<<<< HEAD
   "outputs": [
    {
     "name": "stdout",
     "output_type": "stream",
     "text": [
      "Mean squared error: 555343418.68\n",
      "Root Mean Squared Error: 23565.725507147083\n",
      "Coefficient of determination: 0.58\n"
     ]
    }
   ],
=======
   "outputs": [],
>>>>>>> parent of 9396477 (Check in multiple changes to the github)
   "source": [
    "ridge_1 = Ridge(alpha = ridgecv.alpha_, normalize = True)\n",
    "ridge_1.fit(X_train, y_train)\n",
    "yhat_ridge = ridge_1.predict(X_test)\n",
    "\n",
    "# Evaluate the model\n",
    "print('Mean squared error: %.2f' % metrics.mean_squared_error(y_test, yhat_ridge))\n",
    "print(f'Root Mean Squared Error: {np.sqrt(metrics.mean_squared_error(y_test, yhat_ridge))}')\n",
    "print('Coefficient of determination: %.2f'% metrics.r2_score(y_test, yhat_ridge))"
   ]
  },
  {
   "cell_type": "code",
<<<<<<< HEAD
   "execution_count": 60,
   "id": "embedded-sunglasses",
=======
   "execution_count": null,
   "id": "partial-algebra",
>>>>>>> parent of 9396477 (Check in multiple changes to the github)
   "metadata": {},
   "outputs": [],
   "source": [
    "df_model_eval.loc[len(df_model_eval.index)] = ['Logarithm Ridge (Sales + Asset + Utilities + Timetrend)', metrics.mean_squared_error(y_test, yhat_ridge), np.sqrt(metrics.mean_squared_error(y_test, yhat_ridge)), metrics.r2_score(ytest, yhat_ridge)] "
   ]
  },
  {
   "cell_type": "code",
<<<<<<< HEAD
   "execution_count": 61,
   "id": "broken-scientist",
=======
   "execution_count": null,
   "id": "political-trinidad",
>>>>>>> parent of 9396477 (Check in multiple changes to the github)
   "metadata": {},
   "outputs": [],
   "source": [
    "df_model_eval.reset_index(inplace = True, drop = True)"
   ]
  },
  {
   "cell_type": "markdown",
<<<<<<< HEAD
   "id": "armed-oxygen",
=======
   "id": "tropical-breakfast",
>>>>>>> parent of 9396477 (Check in multiple changes to the github)
   "metadata": {
    "id": "EC68yCjVFu20"
   },
   "source": [
    "#### Ridge Regression - Cross validation approach"
   ]
  },
  {
   "cell_type": "code",
<<<<<<< HEAD
   "execution_count": 62,
   "id": "restricted-thing",
=======
   "execution_count": null,
   "id": "based-chapter",
>>>>>>> parent of 9396477 (Check in multiple changes to the github)
   "metadata": {
    "colab": {
     "base_uri": "https://localhost:8080/"
    },
    "id": "1Z0x4YTXFu21",
    "outputId": "b23de2d4-9f6b-45d5-d27d-27b6607e4178"
   },
<<<<<<< HEAD
   "outputs": [
    {
     "name": "stdout",
     "output_type": "stream",
     "text": [
      "Mean squared error: 573558933.09\n",
      "Root Mean Squared Error: 23949.090443900124\n",
      "Coefficient of determination: 0.46\n"
     ]
    }
   ],
=======
   "outputs": [],
>>>>>>> parent of 9396477 (Check in multiple changes to the github)
   "source": [
    "kfold_cross_validation(10,X,y,ridge_1)"
   ]
  },
  {
   "cell_type": "code",
<<<<<<< HEAD
   "execution_count": 63,
   "id": "shaped-location",
=======
   "execution_count": null,
   "id": "impressed-sensitivity",
>>>>>>> parent of 9396477 (Check in multiple changes to the github)
   "metadata": {
    "colab": {
     "base_uri": "https://localhost:8080/"
    },
    "id": "Bm5X0bFRFu22",
    "outputId": "2a0e6d75-574c-4e0b-ce59-bc3d22b70171"
   },
<<<<<<< HEAD
   "outputs": [
    {
     "name": "stdout",
     "output_type": "stream",
     "text": [
      "Mean squared error: 569122863.08\n",
      "Root Mean Squared Error: 23856.296088945714\n",
      "Coefficient of determination: 0.46\n"
     ]
    }
   ],
=======
   "outputs": [],
>>>>>>> parent of 9396477 (Check in multiple changes to the github)
   "source": [
    "kfold_cross_validation(5,X,y,ridge_1)"
   ]
  },
  {
   "cell_type": "code",
<<<<<<< HEAD
   "execution_count": 64,
   "id": "sitting-recorder",
=======
   "execution_count": null,
   "id": "vietnamese-internship",
>>>>>>> parent of 9396477 (Check in multiple changes to the github)
   "metadata": {
    "colab": {
     "base_uri": "https://localhost:8080/"
    },
    "id": "FAnnZq_HFu22",
    "outputId": "fa1fde6c-9502-4a9d-cf8a-e6a155b4a230"
   },
<<<<<<< HEAD
   "outputs": [
    {
     "name": "stdout",
     "output_type": "stream",
     "text": [
      "Mean squared error: 561973353.59\n",
      "Root Mean Squared Error: 23705.97717005797\n",
      "Coefficient of determination: 0.47\n"
     ]
    }
   ],
=======
   "outputs": [],
>>>>>>> parent of 9396477 (Check in multiple changes to the github)
   "source": [
    "kfold_cross_validation(2,X,y,ridge_1)"
   ]
  },
  {
   "cell_type": "code",
<<<<<<< HEAD
   "execution_count": 65,
   "id": "thorough-tourism",
=======
   "execution_count": null,
   "id": "female-demographic",
>>>>>>> parent of 9396477 (Check in multiple changes to the github)
   "metadata": {},
   "outputs": [],
   "source": [
    "df_model_eval.loc[len(df_model_eval.index)] = ['Logarithm Ridge 5-kfold (Sales + Asset + Utilities + Timetrend)', 569122863.08,23856.29,0.46 ] "
   ]
  },
  {
   "cell_type": "markdown",
<<<<<<< HEAD
   "id": "interesting-saturn",
=======
   "id": "resistant-symbol",
>>>>>>> parent of 9396477 (Check in multiple changes to the github)
   "metadata": {
    "id": "XVOkxPjiF-8j"
   },
   "source": [
    "#### Lasso - Validation set approach"
   ]
  },
  {
   "cell_type": "code",
<<<<<<< HEAD
   "execution_count": 66,
   "id": "silver-registrar",
=======
   "execution_count": null,
   "id": "concerned-laser",
>>>>>>> parent of 9396477 (Check in multiple changes to the github)
   "metadata": {
    "colab": {
     "base_uri": "https://localhost:8080/"
    },
    "id": "IvWUf7D2F-8k",
    "outputId": "0075be8e-9818-4b76-b04c-1ada6e0860ce"
   },
<<<<<<< HEAD
   "outputs": [
    {
     "data": {
      "text/plain": [
       "Text(0, 0.5, 'weights')"
      ]
     },
     "execution_count": 66,
     "metadata": {},
     "output_type": "execute_result"
    },
    {
     "data": {
      "image/png": "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\n",
      "text/plain": [
       "<Figure size 432x288 with 1 Axes>"
      ]
     },
     "metadata": {
      "needs_background": "light"
     },
     "output_type": "display_data"
    }
   ],
=======
   "outputs": [],
>>>>>>> parent of 9396477 (Check in multiple changes to the github)
   "source": [
    "lasso = Lasso(max_iter = 10000, normalize = True)\n",
    "coefs = []\n",
    "\n",
    "for a in alphas:\n",
    "    lasso.set_params(alpha=a)\n",
    "    lasso.fit(scale(X_train), y_train)\n",
    "    coefs.append(lasso.coef_)\n",
    "    \n",
    "ax = plt.gca()\n",
    "ax.plot(alphas*2, coefs)\n",
    "ax.set_xscale('log')\n",
    "plt.axis('tight')\n",
    "plt.xlabel('alpha')\n",
    "plt.ylabel('weights')"
   ]
  },
  {
   "cell_type": "code",
<<<<<<< HEAD
   "execution_count": 67,
   "id": "opposed-sunday",
=======
   "execution_count": null,
   "id": "considerable-davis",
>>>>>>> parent of 9396477 (Check in multiple changes to the github)
   "metadata": {
    "colab": {
     "base_uri": "https://localhost:8080/"
    },
    "id": "bgjioWj4F-8n",
    "outputId": "94af4f99-ab79-42af-f3ef-4fc0bde5d443"
   },
<<<<<<< HEAD
   "outputs": [
    {
     "name": "stdout",
     "output_type": "stream",
     "text": [
      "The optimal alpha is 0.9954718896794494\n"
     ]
    }
   ],
=======
   "outputs": [],
>>>>>>> parent of 9396477 (Check in multiple changes to the github)
   "source": [
    "lassocv = LassoCV(alphas = None, cv = 10, max_iter = 100000, normalize = True)\n",
    "lassocv.fit(X_train, y_train)\n",
    "\n",
    "print(f'The optimal alpha is {lassocv.alpha_}')"
   ]
  },
  {
   "cell_type": "code",
<<<<<<< HEAD
   "execution_count": 68,
   "id": "straight-signature",
=======
   "execution_count": null,
   "id": "cooked-corporation",
>>>>>>> parent of 9396477 (Check in multiple changes to the github)
   "metadata": {
    "colab": {
     "base_uri": "https://localhost:8080/"
    },
    "id": "Ovl17a07F-8n",
    "outputId": "90fb98a7-c2a9-4d3a-baf4-64c28694722c"
   },
<<<<<<< HEAD
   "outputs": [
    {
     "name": "stdout",
     "output_type": "stream",
     "text": [
      "Mean squared error: 554227879.45\n",
      "Root Mean Squared Error: 23542.04492926017\n",
      "Coefficient of determination: 0.58\n"
     ]
    }
   ],
=======
   "outputs": [],
>>>>>>> parent of 9396477 (Check in multiple changes to the github)
   "source": [
    "lasso.set_params(alpha=lassocv.alpha_)\n",
    "lasso.fit(X_train, y_train)\n",
    "yhat_lasso = lasso.predict(X_test)\n",
    "\n",
    "# Evaluate the model\n",
    "print('Mean squared error: %.2f' % metrics.mean_squared_error(y_test, yhat_lasso))\n",
    "print(f'Root Mean Squared Error: {np.sqrt(metrics.mean_squared_error(y_test, yhat_lasso))}')\n",
    "print('Coefficient of determination: %.2f'% metrics.r2_score(y_test, yhat_lasso ))"
   ]
  },
  {
   "cell_type": "markdown",
<<<<<<< HEAD
   "id": "supported-allowance",
=======
   "id": "color-belize",
>>>>>>> parent of 9396477 (Check in multiple changes to the github)
   "metadata": {
    "id": "AV2fr0KfGHQj"
   },
   "source": [
    "#### Lasso Regression - Cross validation approach"
   ]
  },
  {
   "cell_type": "code",
<<<<<<< HEAD
   "execution_count": 69,
   "id": "basic-advocate",
=======
   "execution_count": null,
   "id": "fifteen-rendering",
>>>>>>> parent of 9396477 (Check in multiple changes to the github)
   "metadata": {
    "colab": {
     "base_uri": "https://localhost:8080/"
    },
    "id": "iGzdw10sGHQj",
    "outputId": "9dd4e783-aa5b-409a-b603-bb23b3f539b6"
   },
<<<<<<< HEAD
   "outputs": [
    {
     "name": "stdout",
     "output_type": "stream",
     "text": [
      "Mean squared error: 573604355.83\n",
      "Root Mean Squared Error: 23950.0387439047\n",
      "Coefficient of determination: 0.46\n"
     ]
    }
   ],
=======
   "outputs": [],
>>>>>>> parent of 9396477 (Check in multiple changes to the github)
   "source": [
    "kfold_cross_validation(10, X,y,lasso)"
   ]
  },
  {
   "cell_type": "code",
<<<<<<< HEAD
   "execution_count": 70,
   "id": "centered-failing",
=======
   "execution_count": null,
   "id": "grand-aside",
>>>>>>> parent of 9396477 (Check in multiple changes to the github)
   "metadata": {
    "colab": {
     "base_uri": "https://localhost:8080/"
    },
    "id": "WIhbwy_jGHQk",
    "outputId": "928e1608-15db-41c1-c0f8-42c8be59b5be"
   },
<<<<<<< HEAD
   "outputs": [
    {
     "name": "stdout",
     "output_type": "stream",
     "text": [
      "Mean squared error: 569052835.46\n",
      "Root Mean Squared Error: 23854.828346982482\n",
      "Coefficient of determination: 0.46\n"
     ]
    }
   ],
=======
   "outputs": [],
>>>>>>> parent of 9396477 (Check in multiple changes to the github)
   "source": [
    "kfold_cross_validation(5, X,y,lasso)"
   ]
  },
  {
   "cell_type": "code",
<<<<<<< HEAD
   "execution_count": 71,
   "id": "persistent-broadcasting",
=======
   "execution_count": null,
   "id": "approved-heritage",
>>>>>>> parent of 9396477 (Check in multiple changes to the github)
   "metadata": {},
   "outputs": [],
   "source": [
    "df_model_eval.loc[len(df_model_eval.index)] = ['Logarithm Lasso 5-kfold (Sales + Asset + Utilities + Timetrend)', 569052835.46,23854.83,0.46 ] "
   ]
  },
  {
   "cell_type": "markdown",
<<<<<<< HEAD
   "id": "canadian-restriction",
=======
   "id": "equivalent-delivery",
>>>>>>> parent of 9396477 (Check in multiple changes to the github)
   "metadata": {
    "id": "divine-glass"
   },
   "source": [
    "### Conclusion - Model performance\n",
    "\n",
    "All four predictive models had a big RSME when predicting the GHG Scope. Model 3 - had the lower RSME and the best R2 with 0.66.\n",
    "\n",
    "However, we need to continue with other approach to work with the model performance or consider other ways to impute the missing values for GHG Scope 1\n",
    "\n"
   ]
  },
  {
   "cell_type": "code",
<<<<<<< HEAD
   "execution_count": 72,
   "id": "aggressive-function",
=======
   "execution_count": null,
   "id": "democratic-mathematics",
>>>>>>> parent of 9396477 (Check in multiple changes to the github)
   "metadata": {},
   "outputs": [],
   "source": [
    "pd.set_option('display.float_format', lambda x: '%.3f' % x)"
   ]
  },
  {
   "cell_type": "code",
<<<<<<< HEAD
   "execution_count": 74,
   "id": "cellular-february",
   "metadata": {},
   "outputs": [
    {
     "data": {
      "text/html": [
       "<div>\n",
       "<style scoped>\n",
       "    .dataframe tbody tr th:only-of-type {\n",
       "        vertical-align: middle;\n",
       "    }\n",
       "\n",
       "    .dataframe tbody tr th {\n",
       "        vertical-align: top;\n",
       "    }\n",
       "\n",
       "    .dataframe thead th {\n",
       "        text-align: right;\n",
       "    }\n",
       "</style>\n",
       "<table border=\"1\" class=\"dataframe\">\n",
       "  <thead>\n",
       "    <tr style=\"text-align: right;\">\n",
       "      <th></th>\n",
       "      <th>Model</th>\n",
       "      <th>RMSE</th>\n",
       "      <th>R-Squared</th>\n",
       "    </tr>\n",
       "  </thead>\n",
       "  <tbody>\n",
       "    <tr>\n",
       "      <th>0</th>\n",
       "      <td>Linear (Sales + Asset)</td>\n",
       "      <td>24420.768</td>\n",
       "      <td>0.548</td>\n",
       "    </tr>\n",
       "    <tr>\n",
       "      <th>1</th>\n",
       "      <td>Logarithmic (Sales + Asset)</td>\n",
       "      <td>28215.951</td>\n",
       "      <td>0.396</td>\n",
       "    </tr>\n",
       "    <tr>\n",
       "      <th>2</th>\n",
       "      <td>Linear Regression (Sales + Asset + Utilities +...</td>\n",
       "      <td>21044.978</td>\n",
       "      <td>0.664</td>\n",
       "    </tr>\n",
       "    <tr>\n",
       "      <th>3</th>\n",
       "      <td>Linear Regression CV 5K-fold (Sales + Asset + ...</td>\n",
       "      <td>21416.560</td>\n",
       "      <td>0.570</td>\n",
       "    </tr>\n",
       "    <tr>\n",
       "      <th>4</th>\n",
       "      <td>Ridge (Sales + Asset + Utilities + Timetrend)</td>\n",
       "      <td>21024.858</td>\n",
       "      <td>0.665</td>\n",
       "    </tr>\n",
       "    <tr>\n",
       "      <th>5</th>\n",
       "      <td>Ridge CV 5K-fold (Sales + Asset + Utilities + ...</td>\n",
       "      <td>21412.327</td>\n",
       "      <td>0.570</td>\n",
       "    </tr>\n",
       "    <tr>\n",
       "      <th>6</th>\n",
       "      <td>Lasso (Sales + Asset + Utilities + Timetrend)</td>\n",
       "      <td>21042.257</td>\n",
       "      <td>0.664</td>\n",
       "    </tr>\n",
       "    <tr>\n",
       "      <th>7</th>\n",
       "      <td>Lasso CV 5K-fold (Sales + Asset + Utilities + ...</td>\n",
       "      <td>21416.233</td>\n",
       "      <td>0.570</td>\n",
       "    </tr>\n",
       "    <tr>\n",
       "      <th>8</th>\n",
       "      <td>Logarithm (Sales + Asset + Utilities + Timetrend)</td>\n",
       "      <td>23539.602</td>\n",
       "      <td>0.580</td>\n",
       "    </tr>\n",
       "    <tr>\n",
       "      <th>9</th>\n",
       "      <td>Logarithm Linear 5-kfold (Sales + Asset + Util...</td>\n",
       "      <td>23854.427</td>\n",
       "      <td>0.460</td>\n",
       "    </tr>\n",
       "    <tr>\n",
       "      <th>10</th>\n",
       "      <td>Logarithm Ridge (Sales + Asset + Utilities + T...</td>\n",
       "      <td>23565.726</td>\n",
       "      <td>0.579</td>\n",
       "    </tr>\n",
       "    <tr>\n",
       "      <th>11</th>\n",
       "      <td>Logarithm Ridge 5-kfold (Sales + Asset + Utili...</td>\n",
       "      <td>23856.290</td>\n",
       "      <td>0.460</td>\n",
       "    </tr>\n",
       "    <tr>\n",
       "      <th>12</th>\n",
       "      <td>Logarithm Lasso 5-kfold (Sales + Asset + Utili...</td>\n",
       "      <td>23854.830</td>\n",
       "      <td>0.460</td>\n",
       "    </tr>\n",
       "  </tbody>\n",
       "</table>\n",
       "</div>"
      ],
      "text/plain": [
       "                                                Model      RMSE  R-Squared\n",
       "0                              Linear (Sales + Asset) 24420.768      0.548\n",
       "1                         Logarithmic (Sales + Asset) 28215.951      0.396\n",
       "2   Linear Regression (Sales + Asset + Utilities +... 21044.978      0.664\n",
       "3   Linear Regression CV 5K-fold (Sales + Asset + ... 21416.560      0.570\n",
       "4       Ridge (Sales + Asset + Utilities + Timetrend) 21024.858      0.665\n",
       "5   Ridge CV 5K-fold (Sales + Asset + Utilities + ... 21412.327      0.570\n",
       "6       Lasso (Sales + Asset + Utilities + Timetrend) 21042.257      0.664\n",
       "7   Lasso CV 5K-fold (Sales + Asset + Utilities + ... 21416.233      0.570\n",
       "8   Logarithm (Sales + Asset + Utilities + Timetrend) 23539.602      0.580\n",
       "9   Logarithm Linear 5-kfold (Sales + Asset + Util... 23854.427      0.460\n",
       "10  Logarithm Ridge (Sales + Asset + Utilities + T... 23565.726      0.579\n",
       "11  Logarithm Ridge 5-kfold (Sales + Asset + Utili... 23856.290      0.460\n",
       "12  Logarithm Lasso 5-kfold (Sales + Asset + Utili... 23854.830      0.460"
      ]
     },
     "execution_count": 74,
     "metadata": {},
     "output_type": "execute_result"
    }
   ],
=======
   "execution_count": null,
   "id": "federal-jonathan",
   "metadata": {},
   "outputs": [],
>>>>>>> parent of 9396477 (Check in multiple changes to the github)
   "source": [
    "df_model_eval[['Model','RMSE','R-Squared']]"
   ]
  },
  {
   "cell_type": "code",
<<<<<<< HEAD
   "execution_count": 75,
   "id": "rotary-marker",
   "metadata": {},
   "outputs": [
    {
     "name": "stderr",
     "output_type": "stream",
     "text": [
      "/Users/maralinetorres/opt/miniconda3/envs/msba/lib/python3.8/site-packages/seaborn/_decorators.py:36: FutureWarning: Pass the following variables as keyword args: x, y. From version 0.12, the only valid positional argument will be `data`, and passing other arguments without an explicit keyword will result in an error or misinterpretation.\n",
      "  warnings.warn(\n"
     ]
    },
    {
     "data": {
      "image/png": "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\n",
      "text/plain": [
       "<Figure size 1800x595.44 with 1 Axes>"
      ]
     },
     "metadata": {},
     "output_type": "display_data"
    }
   ],
=======
   "execution_count": null,
   "id": "private-quantity",
   "metadata": {},
   "outputs": [],
>>>>>>> parent of 9396477 (Check in multiple changes to the github)
   "source": [
    "sns.set(rc={'figure.figsize':(25,8.27)})\n",
    "g = sns.barplot('Model', 'MSE', data = df_model_eval)\n",
    "for item in g.get_xticklabels():\n",
    "    item.set_rotation(10)\n",
    "    \n",
    "g.figure.savefig('Model MSEs.png', bbox_inches='tight');"
   ]
  },
  {
   "cell_type": "code",
<<<<<<< HEAD
   "execution_count": 76,
   "id": "permanent-heaven",
   "metadata": {},
   "outputs": [
    {
     "name": "stderr",
     "output_type": "stream",
     "text": [
      "/Users/maralinetorres/opt/miniconda3/envs/msba/lib/python3.8/site-packages/seaborn/_decorators.py:36: FutureWarning: Pass the following variables as keyword args: x, y. From version 0.12, the only valid positional argument will be `data`, and passing other arguments without an explicit keyword will result in an error or misinterpretation.\n",
      "  warnings.warn(\n"
     ]
    },
    {
     "data": {
      "image/png": "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\n",
      "text/plain": [
       "<Figure size 1800x595.44 with 1 Axes>"
      ]
     },
     "metadata": {},
     "output_type": "display_data"
    }
   ],
=======
   "execution_count": null,
   "id": "phantom-education",
   "metadata": {},
   "outputs": [],
>>>>>>> parent of 9396477 (Check in multiple changes to the github)
   "source": [
    "sns.set(rc={'figure.figsize':(25,8.27)})\n",
    "g = sns.barplot('Model', 'R-Squared', data = df_model_eval)\n",
    "for item in g.get_xticklabels():\n",
    "    item.set_rotation(10)\n",
    "    \n",
    "g.figure.savefig('Model R-Squared.png', bbox_inches='tight')"
   ]
  }
 ],
 "metadata": {
  "colab": {
   "name": "Sprint4_Model_Evaluation （4 Models）.ipynb",
   "provenance": []
  },
  "kernelspec": {
   "display_name": "Python 3",
   "language": "python",
   "name": "python3"
  },
  "language_info": {
   "codemirror_mode": {
    "name": "ipython",
    "version": 3
   },
   "file_extension": ".py",
   "mimetype": "text/x-python",
   "name": "python",
   "nbconvert_exporter": "python",
   "pygments_lexer": "ipython3",
   "version": "3.8.8"
  }
 },
 "nbformat": 4,
 "nbformat_minor": 5
}
