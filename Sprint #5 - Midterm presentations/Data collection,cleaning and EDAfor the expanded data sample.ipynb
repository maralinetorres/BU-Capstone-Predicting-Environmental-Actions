{
  "nbformat": 4,
  "nbformat_minor": 0,
  "metadata": {
    "colab": {
      "name": "EDA for ISIN&WRDS.ipynb",
      "provenance": []
    },
    "kernelspec": {
      "name": "python3",
      "display_name": "Python 3"
    },
    "language_info": {
      "name": "python"
    }
  },
  "cells": [
    {
      "cell_type": "markdown",
      "metadata": {
        "id": "Wr7hKr0DmlG_"
      },
      "source": [
        "# Data Collection, Cleaning and Exploratory Data Analysis for Expanded Dataset"
      ]
    },
    {
      "cell_type": "markdown",
      "metadata": {
        "id": "klOik8vqPd9r"
      },
      "source": [
        "For the expanded version, we gathered information from wrds.wharton.uppenn.edu (Wharton Research Data Services )by matching the international securities identification number of the comapies ranged from 2005-2019. \n",
        "\n",
        "In this notebook, we will present the collection process , data cleaning, merging and exploratory data analysis.\n",
        "\n",
        "Let's get started!\n",
        "\n",
        "First, let's import some necessary libraries."
      ]
    },
    {
      "cell_type": "code",
      "metadata": {
        "id": "8hQ7dktk-hoG"
      },
      "source": [
        "import pandas as pd\n",
        "import numpy as np\n",
        "import seaborn as sns\n",
        "import matplotlib.pyplot as plt\n",
        "import missingno as msno\n",
        "from datetime import datetime, date\n",
        "\n",
        "isin=pd.read_csv(\"isin2005_2019.csv\")"
      ],
      "execution_count": null,
      "outputs": []
    },
    {
      "cell_type": "markdown",
      "metadata": {
        "id": "Va_d83VvQkpP"
      },
      "source": [
        "We accesed the Compustat North America database through the Wharton resarch data services site. This database has fundamental and market information on active and inactive public held companies in US and Canada.\n",
        "\n",
        "We focused in the Fundamentals Annual information and selected the following parameters to collect the data:\n",
        "\n",
        " 1) Global Company Key(GVKEY) 2) Fiscal year 3) Assets(AT) 4) International Securities Identification Number 5) Company name 6) ISO country code -Incorporation(FIC) 7) Standard industry classification code(SIC)\n",
        "\n",
        "We exported this information to a csv and now we are going to explore it."
      ]
    },
    {
      "cell_type": "code",
      "metadata": {
        "colab": {
          "base_uri": "https://localhost:8080/"
        },
        "id": "PIgN7ZtrLFZ8",
        "outputId": "833d6606-1f86-4241-c816-fffede4edb77"
      },
      "source": [
        "#Exploratory Data Analysis\n",
        "\n",
        "# We have 28725 rows and 8 columns\n",
        "isin.shape "
      ],
      "execution_count": null,
      "outputs": [
        {
          "output_type": "execute_result",
          "data": {
            "text/plain": [
              "(28725, 8)"
            ]
          },
          "metadata": {
            "tags": []
          },
          "execution_count": 2
        }
      ]
    },
    {
      "cell_type": "code",
      "metadata": {
        "colab": {
          "base_uri": "https://localhost:8080/",
          "height": 142
        },
        "id": "RwiE_4sSLUax",
        "outputId": "bd268b78-1c2b-4397-a5ac-b0c65a0d9d56"
      },
      "source": [
        "isin.head(3) \n",
        "#We have yearly data from 2005 to 2019 for 28725 companies"
      ],
      "execution_count": null,
      "outputs": [
        {
          "output_type": "execute_result",
          "data": {
            "text/html": [
              "<div>\n",
              "<style scoped>\n",
              "    .dataframe tbody tr th:only-of-type {\n",
              "        vertical-align: middle;\n",
              "    }\n",
              "\n",
              "    .dataframe tbody tr th {\n",
              "        vertical-align: top;\n",
              "    }\n",
              "\n",
              "    .dataframe thead th {\n",
              "        text-align: right;\n",
              "    }\n",
              "</style>\n",
              "<table border=\"1\" class=\"dataframe\">\n",
              "  <thead>\n",
              "    <tr style=\"text-align: right;\">\n",
              "      <th></th>\n",
              "      <th>gvkey</th>\n",
              "      <th>fyear</th>\n",
              "      <th>datadate</th>\n",
              "      <th>at</th>\n",
              "      <th>isin</th>\n",
              "      <th>conm</th>\n",
              "      <th>fic</th>\n",
              "      <th>sic</th>\n",
              "    </tr>\n",
              "  </thead>\n",
              "  <tbody>\n",
              "    <tr>\n",
              "      <th>0</th>\n",
              "      <td>1166</td>\n",
              "      <td>2005</td>\n",
              "      <td>20051231</td>\n",
              "      <td>812.308</td>\n",
              "      <td>NL0000334118</td>\n",
              "      <td>ASM INTERNATIONAL NV</td>\n",
              "      <td>NLD</td>\n",
              "      <td>3559.0</td>\n",
              "    </tr>\n",
              "    <tr>\n",
              "      <th>1</th>\n",
              "      <td>1166</td>\n",
              "      <td>2006</td>\n",
              "      <td>20061231</td>\n",
              "      <td>832.297</td>\n",
              "      <td>NL0000334118</td>\n",
              "      <td>ASM INTERNATIONAL NV</td>\n",
              "      <td>NLD</td>\n",
              "      <td>3559.0</td>\n",
              "    </tr>\n",
              "    <tr>\n",
              "      <th>2</th>\n",
              "      <td>1166</td>\n",
              "      <td>2007</td>\n",
              "      <td>20071231</td>\n",
              "      <td>840.333</td>\n",
              "      <td>NL0000334118</td>\n",
              "      <td>ASM INTERNATIONAL NV</td>\n",
              "      <td>NLD</td>\n",
              "      <td>3559.0</td>\n",
              "    </tr>\n",
              "  </tbody>\n",
              "</table>\n",
              "</div>"
            ],
            "text/plain": [
              "   gvkey  fyear  datadate  ...                  conm  fic     sic\n",
              "0   1166   2005  20051231  ...  ASM INTERNATIONAL NV  NLD  3559.0\n",
              "1   1166   2006  20061231  ...  ASM INTERNATIONAL NV  NLD  3559.0\n",
              "2   1166   2007  20071231  ...  ASM INTERNATIONAL NV  NLD  3559.0\n",
              "\n",
              "[3 rows x 8 columns]"
            ]
          },
          "metadata": {
            "tags": []
          },
          "execution_count": 3
        }
      ]
    },
    {
      "cell_type": "code",
      "metadata": {
        "colab": {
          "base_uri": "https://localhost:8080/"
        },
        "id": "bD0_uQyWND_O",
        "outputId": "a5afd033-03ca-4a84-8b12-6f522b906fa8"
      },
      "source": [
        "isin.info() "
      ],
      "execution_count": null,
      "outputs": [
        {
          "output_type": "stream",
          "text": [
            "<class 'pandas.core.frame.DataFrame'>\n",
            "RangeIndex: 28725 entries, 0 to 28724\n",
            "Data columns (total 8 columns):\n",
            " #   Column    Non-Null Count  Dtype  \n",
            "---  ------    --------------  -----  \n",
            " 0   gvkey     28725 non-null  int64  \n",
            " 1   fyear     28725 non-null  int64  \n",
            " 2   datadate  28725 non-null  int64  \n",
            " 3   at        28706 non-null  float64\n",
            " 4   isin      28725 non-null  object \n",
            " 5   conm      28725 non-null  object \n",
            " 6   fic       28725 non-null  object \n",
            " 7   sic       28710 non-null  float64\n",
            "dtypes: float64(2), int64(3), object(3)\n",
            "memory usage: 1.8+ MB\n"
          ],
          "name": "stdout"
        }
      ]
    },
    {
      "cell_type": "markdown",
      "metadata": {
        "id": "f-8xlyPJdyMM"
      },
      "source": [
        "\n",
        "Columns Data types in the dataset:\n",
        "\n",
        "*   3 integers\n",
        "*   3 Object (Category) (String)\n",
        "*   2 floats\n",
        "\n",
        "Also, there are two columns with missing values (Assets and Standard industry classification code)."
      ]
    },
    {
      "cell_type": "markdown",
      "metadata": {
        "id": "uU19b9_re8hA"
      },
      "source": [
        "Check duplicates and inplace them"
      ]
    },
    {
      "cell_type": "code",
      "metadata": {
        "id": "Kvt9-pF7KmhN"
      },
      "source": [
        "#Drop duplicates if any\n",
        "isin.drop_duplicates(inplace=True) "
      ],
      "execution_count": null,
      "outputs": []
    },
    {
      "cell_type": "markdown",
      "metadata": {
        "id": "Q-yk5q47e6Bj"
      },
      "source": [
        "To see how the data distributed during the time period. Note: Year 2004 was automaticly generated and the amount of data is not sufficient enough which means that the information for year 2004 is not useful."
      ]
    },
    {
      "cell_type": "code",
      "metadata": {
        "colab": {
          "base_uri": "https://localhost:8080/",
          "height": 446
        },
        "id": "L4S2npv5rzkE",
        "outputId": "bb94e176-1188-4777-d7ff-d1d9b97ea550"
      },
      "source": [
        "fyear=isin.groupby('fyear').size()\n",
        "type(fyear)\n",
        "fyearframe=fyear.to_frame()\n",
        "plt.figure(figsize=(10,8))\n",
        "fyearframe.plot.bar(figsize=(18,6))\n",
        "plt.title('Yearly Data Count',fontsize=20)\n",
        "plt.xlabel('Fiscal Year',fontsize=15)\n",
        "plt.ylabel('Count',fontsize=15)\n",
        "plt.show()\n"
      ],
      "execution_count": null,
      "outputs": [
        {
          "output_type": "display_data",
          "data": {
            "text/plain": [
              "<Figure size 720x576 with 0 Axes>"
            ]
          },
          "metadata": {
            "tags": []
          }
        },
        {
          "output_type": "display_data",
          "data": {
            "image/png": "[encoded data removed]",
            "text/plain": [
              "<Figure size 1296x432 with 1 Axes>"
            ]
          },
          "metadata": {
            "tags": [],
            "needs_background": "light"
          }
        }
      ]
    },
    {
      "cell_type": "markdown",
      "metadata": {
        "id": "TyyLSO_Lf_g6"
      },
      "source": [
        "Then, we want to have a look of yearly average/median assets."
      ]
    },
    {
      "cell_type": "code",
      "metadata": {
        "id": "eNEFKU41Ryrq"
      },
      "source": [
        "# We build up a pivot table\n",
        "att=isin.groupby(by=[\"fyear\"]).aggregate({\"at\":[\"mean\",\"median\"]})\n",
        "att_1=att.pivot_table(index=\"fyear\", values=['at'])"
      ],
      "execution_count": null,
      "outputs": []
    },
    {
      "cell_type": "code",
      "metadata": {
        "id": "ME7O96zU0Obs",
        "colab": {
          "base_uri": "https://localhost:8080/",
          "height": 607
        },
        "outputId": "5a2a387a-01cb-4e37-e623-b5ff61d1a173"
      },
      "source": [
        "att"
      ],
      "execution_count": null,
      "outputs": [
        {
          "output_type": "execute_result",
          "data": {
            "text/html": [
              "<div>\n",
              "<style scoped>\n",
              "    .dataframe tbody tr th:only-of-type {\n",
              "        vertical-align: middle;\n",
              "    }\n",
              "\n",
              "    .dataframe tbody tr th {\n",
              "        vertical-align: top;\n",
              "    }\n",
              "\n",
              "    .dataframe thead tr th {\n",
              "        text-align: left;\n",
              "    }\n",
              "\n",
              "    .dataframe thead tr:last-of-type th {\n",
              "        text-align: right;\n",
              "    }\n",
              "</style>\n",
              "<table border=\"1\" class=\"dataframe\">\n",
              "  <thead>\n",
              "    <tr>\n",
              "      <th></th>\n",
              "      <th colspan=\"2\" halign=\"left\">at</th>\n",
              "    </tr>\n",
              "    <tr>\n",
              "      <th></th>\n",
              "      <th>mean</th>\n",
              "      <th>median</th>\n",
              "    </tr>\n",
              "    <tr>\n",
              "      <th>fyear</th>\n",
              "      <th></th>\n",
              "      <th></th>\n",
              "    </tr>\n",
              "  </thead>\n",
              "  <tbody>\n",
              "    <tr>\n",
              "      <th>2004</th>\n",
              "      <td>1.678455e+06</td>\n",
              "      <td>244707.0000</td>\n",
              "    </tr>\n",
              "    <tr>\n",
              "      <th>2005</th>\n",
              "      <td>1.402476e+06</td>\n",
              "      <td>12501.8760</td>\n",
              "    </tr>\n",
              "    <tr>\n",
              "      <th>2006</th>\n",
              "      <td>1.539922e+06</td>\n",
              "      <td>15024.0000</td>\n",
              "    </tr>\n",
              "    <tr>\n",
              "      <th>2007</th>\n",
              "      <td>1.698485e+06</td>\n",
              "      <td>17001.6000</td>\n",
              "    </tr>\n",
              "    <tr>\n",
              "      <th>2008</th>\n",
              "      <td>1.878725e+06</td>\n",
              "      <td>18298.6270</td>\n",
              "    </tr>\n",
              "    <tr>\n",
              "      <th>2009</th>\n",
              "      <td>1.944324e+06</td>\n",
              "      <td>18875.2120</td>\n",
              "    </tr>\n",
              "    <tr>\n",
              "      <th>2010</th>\n",
              "      <td>2.066062e+06</td>\n",
              "      <td>19918.6000</td>\n",
              "    </tr>\n",
              "    <tr>\n",
              "      <th>2011</th>\n",
              "      <td>2.102175e+06</td>\n",
              "      <td>20822.0000</td>\n",
              "    </tr>\n",
              "    <tr>\n",
              "      <th>2012</th>\n",
              "      <td>2.298421e+06</td>\n",
              "      <td>22061.3285</td>\n",
              "    </tr>\n",
              "    <tr>\n",
              "      <th>2013</th>\n",
              "      <td>2.679232e+06</td>\n",
              "      <td>23119.9060</td>\n",
              "    </tr>\n",
              "    <tr>\n",
              "      <th>2014</th>\n",
              "      <td>2.865269e+06</td>\n",
              "      <td>25326.1000</td>\n",
              "    </tr>\n",
              "    <tr>\n",
              "      <th>2015</th>\n",
              "      <td>3.049262e+06</td>\n",
              "      <td>26974.8700</td>\n",
              "    </tr>\n",
              "    <tr>\n",
              "      <th>2016</th>\n",
              "      <td>3.239574e+06</td>\n",
              "      <td>29258.5610</td>\n",
              "    </tr>\n",
              "    <tr>\n",
              "      <th>2017</th>\n",
              "      <td>3.439564e+06</td>\n",
              "      <td>30879.3870</td>\n",
              "    </tr>\n",
              "    <tr>\n",
              "      <th>2018</th>\n",
              "      <td>3.667396e+06</td>\n",
              "      <td>32304.7100</td>\n",
              "    </tr>\n",
              "    <tr>\n",
              "      <th>2019</th>\n",
              "      <td>4.088603e+06</td>\n",
              "      <td>21499.3880</td>\n",
              "    </tr>\n",
              "  </tbody>\n",
              "</table>\n",
              "</div>"
            ],
            "text/plain": [
              "                 at             \n",
              "               mean       median\n",
              "fyear                           \n",
              "2004   1.678455e+06  244707.0000\n",
              "2005   1.402476e+06   12501.8760\n",
              "2006   1.539922e+06   15024.0000\n",
              "2007   1.698485e+06   17001.6000\n",
              "2008   1.878725e+06   18298.6270\n",
              "2009   1.944324e+06   18875.2120\n",
              "2010   2.066062e+06   19918.6000\n",
              "2011   2.102175e+06   20822.0000\n",
              "2012   2.298421e+06   22061.3285\n",
              "2013   2.679232e+06   23119.9060\n",
              "2014   2.865269e+06   25326.1000\n",
              "2015   3.049262e+06   26974.8700\n",
              "2016   3.239574e+06   29258.5610\n",
              "2017   3.439564e+06   30879.3870\n",
              "2018   3.667396e+06   32304.7100\n",
              "2019   4.088603e+06   21499.3880"
            ]
          },
          "metadata": {
            "tags": []
          },
          "execution_count": 8
        }
      ]
    },
    {
      "cell_type": "markdown",
      "metadata": {
        "id": "Ye_anRGLgD1D"
      },
      "source": [
        "We did plot of Yearly Average Assets to have a better understanding, and we find that the assets are showing the increasing trend."
      ]
    },
    {
      "cell_type": "code",
      "metadata": {
        "id": "ex4eNjOUVSFe",
        "colab": {
          "base_uri": "https://localhost:8080/",
          "height": 446
        },
        "outputId": "476a8872-00c8-4673-e414-5fe619fc936f"
      },
      "source": [
        "plt.figure(figsize=(10,8))\n",
        "att_1.plot.bar(figsize=(18,6))\n",
        "plt.title('Yearly Average/Median Assets',fontsize=20)\n",
        "plt.xlabel('Fiscal Year',fontsize=15)\n",
        "plt.ylabel('Assets',fontsize=15)\n",
        "plt.show()"
      ],
      "execution_count": null,
      "outputs": [
        {
          "output_type": "display_data",
          "data": {
            "text/plain": [
              "<Figure size 720x576 with 0 Axes>"
            ]
          },
          "metadata": {
            "tags": []
          }
        },
        {
          "output_type": "display_data",
          "data": {
            "image/png": "[encoded data removed]",
            "text/plain": [
              "<Figure size 1296x432 with 1 Axes>"
            ]
          },
          "metadata": {
            "tags": [],
            "needs_background": "light"
          }
        }
      ]
    },
    {
      "cell_type": "markdown",
      "metadata": {
        "id": "5WrpG8Umofju"
      },
      "source": [
        "After having a look at assets mean and median, we want to know more about it by getting distribution plot to check whether it shows the similar siutaiton as the above plot.We build up wide pivot table for yearly assets\n"
      ]
    },
    {
      "cell_type": "code",
      "metadata": {
        "id": "iAIv2_pUhi0R",
        "colab": {
          "base_uri": "https://localhost:8080/",
          "height": 204
        },
        "outputId": "81abbfac-93e5-49d5-f131-79bfbd872a71"
      },
      "source": [
        "at2=isin[['fyear','at']]\n",
        "at_wide=at2.pivot(columns='fyear',values='at')\n",
        "at_wide.head()"
      ],
      "execution_count": null,
      "outputs": [
        {
          "output_type": "execute_result",
          "data": {
            "text/html": [
              "<div>\n",
              "<style scoped>\n",
              "    .dataframe tbody tr th:only-of-type {\n",
              "        vertical-align: middle;\n",
              "    }\n",
              "\n",
              "    .dataframe tbody tr th {\n",
              "        vertical-align: top;\n",
              "    }\n",
              "\n",
              "    .dataframe thead th {\n",
              "        text-align: right;\n",
              "    }\n",
              "</style>\n",
              "<table border=\"1\" class=\"dataframe\">\n",
              "  <thead>\n",
              "    <tr style=\"text-align: right;\">\n",
              "      <th>fyear</th>\n",
              "      <th>2004</th>\n",
              "      <th>2005</th>\n",
              "      <th>2006</th>\n",
              "      <th>2007</th>\n",
              "      <th>2008</th>\n",
              "      <th>2009</th>\n",
              "      <th>2010</th>\n",
              "      <th>2011</th>\n",
              "      <th>2012</th>\n",
              "      <th>2013</th>\n",
              "      <th>2014</th>\n",
              "      <th>2015</th>\n",
              "      <th>2016</th>\n",
              "      <th>2017</th>\n",
              "      <th>2018</th>\n",
              "      <th>2019</th>\n",
              "    </tr>\n",
              "  </thead>\n",
              "  <tbody>\n",
              "    <tr>\n",
              "      <th>0</th>\n",
              "      <td>NaN</td>\n",
              "      <td>812.308</td>\n",
              "      <td>NaN</td>\n",
              "      <td>NaN</td>\n",
              "      <td>NaN</td>\n",
              "      <td>NaN</td>\n",
              "      <td>NaN</td>\n",
              "      <td>NaN</td>\n",
              "      <td>NaN</td>\n",
              "      <td>NaN</td>\n",
              "      <td>NaN</td>\n",
              "      <td>NaN</td>\n",
              "      <td>NaN</td>\n",
              "      <td>NaN</td>\n",
              "      <td>NaN</td>\n",
              "      <td>NaN</td>\n",
              "    </tr>\n",
              "    <tr>\n",
              "      <th>1</th>\n",
              "      <td>NaN</td>\n",
              "      <td>NaN</td>\n",
              "      <td>832.297</td>\n",
              "      <td>NaN</td>\n",
              "      <td>NaN</td>\n",
              "      <td>NaN</td>\n",
              "      <td>NaN</td>\n",
              "      <td>NaN</td>\n",
              "      <td>NaN</td>\n",
              "      <td>NaN</td>\n",
              "      <td>NaN</td>\n",
              "      <td>NaN</td>\n",
              "      <td>NaN</td>\n",
              "      <td>NaN</td>\n",
              "      <td>NaN</td>\n",
              "      <td>NaN</td>\n",
              "    </tr>\n",
              "    <tr>\n",
              "      <th>2</th>\n",
              "      <td>NaN</td>\n",
              "      <td>NaN</td>\n",
              "      <td>NaN</td>\n",
              "      <td>840.333</td>\n",
              "      <td>NaN</td>\n",
              "      <td>NaN</td>\n",
              "      <td>NaN</td>\n",
              "      <td>NaN</td>\n",
              "      <td>NaN</td>\n",
              "      <td>NaN</td>\n",
              "      <td>NaN</td>\n",
              "      <td>NaN</td>\n",
              "      <td>NaN</td>\n",
              "      <td>NaN</td>\n",
              "      <td>NaN</td>\n",
              "      <td>NaN</td>\n",
              "    </tr>\n",
              "    <tr>\n",
              "      <th>3</th>\n",
              "      <td>NaN</td>\n",
              "      <td>NaN</td>\n",
              "      <td>NaN</td>\n",
              "      <td>NaN</td>\n",
              "      <td>767.798</td>\n",
              "      <td>NaN</td>\n",
              "      <td>NaN</td>\n",
              "      <td>NaN</td>\n",
              "      <td>NaN</td>\n",
              "      <td>NaN</td>\n",
              "      <td>NaN</td>\n",
              "      <td>NaN</td>\n",
              "      <td>NaN</td>\n",
              "      <td>NaN</td>\n",
              "      <td>NaN</td>\n",
              "      <td>NaN</td>\n",
              "    </tr>\n",
              "    <tr>\n",
              "      <th>4</th>\n",
              "      <td>NaN</td>\n",
              "      <td>NaN</td>\n",
              "      <td>NaN</td>\n",
              "      <td>NaN</td>\n",
              "      <td>NaN</td>\n",
              "      <td>851.7</td>\n",
              "      <td>NaN</td>\n",
              "      <td>NaN</td>\n",
              "      <td>NaN</td>\n",
              "      <td>NaN</td>\n",
              "      <td>NaN</td>\n",
              "      <td>NaN</td>\n",
              "      <td>NaN</td>\n",
              "      <td>NaN</td>\n",
              "      <td>NaN</td>\n",
              "      <td>NaN</td>\n",
              "    </tr>\n",
              "  </tbody>\n",
              "</table>\n",
              "</div>"
            ],
            "text/plain": [
              "fyear  2004     2005     2006     2007     2008  ...  2015  2016  2017  2018  2019\n",
              "0       NaN  812.308      NaN      NaN      NaN  ...   NaN   NaN   NaN   NaN   NaN\n",
              "1       NaN      NaN  832.297      NaN      NaN  ...   NaN   NaN   NaN   NaN   NaN\n",
              "2       NaN      NaN      NaN  840.333      NaN  ...   NaN   NaN   NaN   NaN   NaN\n",
              "3       NaN      NaN      NaN      NaN  767.798  ...   NaN   NaN   NaN   NaN   NaN\n",
              "4       NaN      NaN      NaN      NaN      NaN  ...   NaN   NaN   NaN   NaN   NaN\n",
              "\n",
              "[5 rows x 16 columns]"
            ]
          },
          "metadata": {
            "tags": []
          },
          "execution_count": 10
        }
      ]
    },
    {
      "cell_type": "markdown",
      "metadata": {
        "id": "Ih9qNDK3pCxb"
      },
      "source": [
        "We create a plot for Yearly Assets Distribution. There is not an apparent concentration, while most assets are smaller than 10000000"
      ]
    },
    {
      "cell_type": "code",
      "metadata": {
        "id": "hNhPotLzcqkz",
        "colab": {
          "base_uri": "https://localhost:8080/",
          "height": 470
        },
        "outputId": "1ae145a8-82d0-460d-96db-a8ab14f424c7"
      },
      "source": [
        "at_wide.plot.density(figsize = (7, 7),\n",
        "                       linewidth = 4)\n",
        "  \n",
        "plt.xlabel(\"Assets\")\n",
        "plt.xlim(0,60000000)"
      ],
      "execution_count": null,
      "outputs": [
        {
          "output_type": "execute_result",
          "data": {
            "text/plain": [
              "(0.0, 60000000.0)"
            ]
          },
          "metadata": {
            "tags": []
          },
          "execution_count": 12
        },
        {
          "output_type": "display_data",
          "data": {
            "image/png": "[encoded data removed]",
            "text/plain": [
              "<Figure size 504x504 with 1 Axes>"
            ]
          },
          "metadata": {
            "tags": [],
            "needs_background": "light"
          }
        }
      ]
    },
    {
      "cell_type": "markdown",
      "metadata": {
        "id": "Q3AiFMRYpJx7"
      },
      "source": [
        "From the plot, there is not an apparent concentration, while most assets are smaller than 10000000"
      ]
    },
    {
      "cell_type": "markdown",
      "metadata": {
        "id": "U91k2YuSpvoa"
      },
      "source": [
        "After knowing the general situation, we also researched yearly country frequency "
      ]
    },
    {
      "cell_type": "code",
      "metadata": {
        "id": "xNG-U-6e9Er3",
        "colab": {
          "base_uri": "https://localhost:8080/",
          "height": 450
        },
        "outputId": "013f13c9-53bb-4f34-e013-8ed25861d84f"
      },
      "source": [
        "isin[['fyear','fic']]\n",
        "fic_year=isin.groupby(['fyear', 'fic']).size()\n",
        "type(fic_year)\n",
        "cross=fic_year.to_frame()\n",
        "cross"
      ],
      "execution_count": null,
      "outputs": [
        {
          "output_type": "execute_result",
          "data": {
            "text/html": [
              "<div>\n",
              "<style scoped>\n",
              "    .dataframe tbody tr th:only-of-type {\n",
              "        vertical-align: middle;\n",
              "    }\n",
              "\n",
              "    .dataframe tbody tr th {\n",
              "        vertical-align: top;\n",
              "    }\n",
              "\n",
              "    .dataframe thead th {\n",
              "        text-align: right;\n",
              "    }\n",
              "</style>\n",
              "<table border=\"1\" class=\"dataframe\">\n",
              "  <thead>\n",
              "    <tr style=\"text-align: right;\">\n",
              "      <th></th>\n",
              "      <th></th>\n",
              "      <th>0</th>\n",
              "    </tr>\n",
              "    <tr>\n",
              "      <th>fyear</th>\n",
              "      <th>fic</th>\n",
              "      <th></th>\n",
              "    </tr>\n",
              "  </thead>\n",
              "  <tbody>\n",
              "    <tr>\n",
              "      <th rowspan=\"5\" valign=\"top\">2004</th>\n",
              "      <th>AUS</th>\n",
              "      <td>3</td>\n",
              "    </tr>\n",
              "    <tr>\n",
              "      <th>AUT</th>\n",
              "      <td>3</td>\n",
              "    </tr>\n",
              "    <tr>\n",
              "      <th>BMU</th>\n",
              "      <td>5</td>\n",
              "    </tr>\n",
              "    <tr>\n",
              "      <th>BRA</th>\n",
              "      <td>1</td>\n",
              "    </tr>\n",
              "    <tr>\n",
              "      <th>CHE</th>\n",
              "      <td>2</td>\n",
              "    </tr>\n",
              "    <tr>\n",
              "      <th>...</th>\n",
              "      <th>...</th>\n",
              "      <td>...</td>\n",
              "    </tr>\n",
              "    <tr>\n",
              "      <th rowspan=\"5\" valign=\"top\">2019</th>\n",
              "      <th>THA</th>\n",
              "      <td>20</td>\n",
              "    </tr>\n",
              "    <tr>\n",
              "      <th>TUR</th>\n",
              "      <td>14</td>\n",
              "    </tr>\n",
              "    <tr>\n",
              "      <th>TWN</th>\n",
              "      <td>178</td>\n",
              "    </tr>\n",
              "    <tr>\n",
              "      <th>VGB</th>\n",
              "      <td>1</td>\n",
              "    </tr>\n",
              "    <tr>\n",
              "      <th>ZAF</th>\n",
              "      <td>57</td>\n",
              "    </tr>\n",
              "  </tbody>\n",
              "</table>\n",
              "<p>1031 rows × 1 columns</p>\n",
              "</div>"
            ],
            "text/plain": [
              "             0\n",
              "fyear fic     \n",
              "2004  AUS    3\n",
              "      AUT    3\n",
              "      BMU    5\n",
              "      BRA    1\n",
              "      CHE    2\n",
              "...        ...\n",
              "2019  THA   20\n",
              "      TUR   14\n",
              "      TWN  178\n",
              "      VGB    1\n",
              "      ZAF   57\n",
              "\n",
              "[1031 rows x 1 columns]"
            ]
          },
          "metadata": {
            "tags": []
          },
          "execution_count": 14
        }
      ]
    }
  ]
}